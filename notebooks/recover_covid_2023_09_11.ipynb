{
 "cells": [
  {
   "cell_type": "markdown",
   "id": "23d25577-bc16-4a46-af50-02c5e8b5a5ed",
   "metadata": {},
   "source": [
    "# Analysis of genes/proteins identified as differentially expressed in patients with PASC\n",
    "\n",
    "Data source for genes: https://github.com/RecoveryKG/Data_modeling/blob/main/Mann_Whiteney_U_test_longCovid_vs_normal.ipynb"
   ]
  },
  {
   "cell_type": "code",
   "execution_count": 1,
   "id": "e870935d-e0f0-401d-a260-b051cdaac730",
   "metadata": {},
   "outputs": [],
   "source": [
    "# imports\n",
    "import numpy as np\n",
    "import pandas as pd\n",
    "import networkx as nx\n",
    "import matplotlib.pyplot as plt\n",
    "\n",
    "import kgfe\n",
    "\n",
    "from kgfe import gene_names"
   ]
  },
  {
   "cell_type": "code",
   "execution_count": null,
   "id": "a205b160-c2a8-4332-89a4-254920c2d78b",
   "metadata": {},
   "outputs": [],
   "source": []
  },
  {
   "cell_type": "markdown",
   "id": "4a3bb78c-04d1-4029-a93c-ad265040acbc",
   "metadata": {
    "tags": []
   },
   "source": [
    "## Load SPOKE"
   ]
  },
  {
   "cell_type": "code",
   "execution_count": 2,
   "id": "1e445915-100d-4fa6-9ca3-1c0f74168739",
   "metadata": {},
   "outputs": [],
   "source": [
    "spoke_graph = kgfe.spoke_loader.load_spoke_igraph('../../graph_utils/spoke_2021.jsonl.gz', directed=True,\n",
    "                                                    verbose=False)"
   ]
  },
  {
   "cell_type": "code",
   "execution_count": 3,
   "id": "df6335ce-34b4-4c57-b6a3-86b63f9140eb",
   "metadata": {},
   "outputs": [
    {
     "data": {
      "text/plain": [
       "11026"
      ]
     },
     "execution_count": 3,
     "metadata": {},
     "output_type": "execute_result"
    }
   ],
   "source": [
    "gene_names.get_id('LILRA3')"
   ]
  },
  {
   "cell_type": "code",
   "execution_count": 4,
   "id": "daeb6773-8491-4bfb-991f-2ca103e3ecce",
   "metadata": {},
   "outputs": [],
   "source": [
    "spoke_graph_ud = spoke_graph.copy()\n",
    "spoke_graph_ud.to_undirected(combine_edges='first')\n",
    "spoke_graph_ud.simplify(combine_edges='first')\n",
    "spoke_graph_ud = kgfe.graph_info.largest_component(spoke_graph_ud)"
   ]
  },
  {
   "cell_type": "code",
   "execution_count": 5,
   "id": "84599491-804d-4834-8cd9-0d6626f5858a",
   "metadata": {},
   "outputs": [],
   "source": [
    "prots_to_ids = kgfe.graph_info.spoke_identifiers_to_ids(spoke_graph_ud, 'Protein')"
   ]
  },
  {
   "cell_type": "code",
   "execution_count": 6,
   "id": "835836d9-cacd-4281-82a2-84aff89158ed",
   "metadata": {},
   "outputs": [],
   "source": [
    "genes_to_ids = kgfe.graph_info.spoke_identifiers_to_ids(spoke_graph_ud, 'Gene')"
   ]
  },
  {
   "cell_type": "code",
   "execution_count": 7,
   "id": "e0ed1e6e-c0ee-4c6c-8c77-39fe06e52993",
   "metadata": {},
   "outputs": [],
   "source": [
    "disease_to_ids = kgfe.graph_info.spoke_identifiers_to_ids(spoke_graph_ud, 'Disease')"
   ]
  },
  {
   "cell_type": "code",
   "execution_count": 8,
   "id": "f60c0394-e1c4-49c4-90e8-7595c86aa15a",
   "metadata": {},
   "outputs": [
    {
     "data": {
      "text/plain": [
       "'2166630'"
      ]
     },
     "execution_count": 8,
     "metadata": {},
     "output_type": "execute_result"
    }
   ],
   "source": [
    "disease_to_ids['DOID:9119']"
   ]
  },
  {
   "cell_type": "markdown",
   "id": "f4b3ee89-ae07-4764-a30f-52faaef5cc6b",
   "metadata": {},
   "source": [
    "## Lists of genes"
   ]
  },
  {
   "cell_type": "code",
   "execution_count": 9,
   "id": "87dfce38-0693-4178-935a-9c7f93216baa",
   "metadata": {},
   "outputs": [],
   "source": [
    "diffexp_genes = \"\"\"FIGF SOD2 F2R CA5A STK4 ADAMTS13 PRSS27 BOC HAO1\n",
    "MMP10 IL8 LY75 NTF4 IRAK4 DAPP1 ANGPTL7 AGR2 CRH NPPC PLXDC1 BANK1 ERBB2IP SIRT5 CA14   \n",
    "\"\"\"\n",
    "diffexp_genes = diffexp_genes.split()"
   ]
  },
  {
   "cell_type": "code",
   "execution_count": 11,
   "id": "6c61800f-d57a-4dbb-984e-60a1b0da377a",
   "metadata": {},
   "outputs": [],
   "source": [
    "diffexp_genes_pos = \"MMP10 IL8 AGR2\".split()\n",
    "diffexp_genes_neg = \"\"\"FIGF SOD2 F2R CA5A STK4 ADAMTS13 PRSS27 BOC HA01\n",
    "LY75 NTF4 IRAK4 DAPP1 ANGPTL7 CRH NPPC PLXDC1 BANK1 ERBB2IP SIRT5 CA14\"\"\".split()"
   ]
  },
  {
   "cell_type": "code",
   "execution_count": 13,
   "id": "e3da263e-8e32-4e2e-8299-0fa4914746cb",
   "metadata": {},
   "outputs": [],
   "source": [
    "# genes to proteins\n",
    "uniprot_ids = kgfe.gene_names.convert('symbol', 'uniprot', diffexp_genes)\n",
    "uniprot_ids_pos = kgfe.gene_names.convert('symbol', 'uniprot', diffexp_genes_pos)\n",
    "uniprot_ids_neg = kgfe.gene_names.convert('symbol', 'uniprot', diffexp_genes_neg)\n"
   ]
  },
  {
   "cell_type": "code",
   "execution_count": 14,
   "id": "65fe671a-400f-4557-84aa-3aecb43d952a",
   "metadata": {},
   "outputs": [],
   "source": [
    "diffexp_genes_ncbi_ids = []\n",
    "for g in diffexp_genes:\n",
    "    try:\n",
    "        diffexp_genes_ncbi_ids.append(gene_names.get_id(g))\n",
    "    except:\n",
    "        pass"
   ]
  },
  {
   "cell_type": "code",
   "execution_count": 15,
   "id": "8d32da0a-469f-4d7f-8364-7e72c662fd9f",
   "metadata": {},
   "outputs": [],
   "source": [
    "genes_spoke_ids = [genes_to_ids[g] for g in diffexp_genes_ncbi_ids if g in genes_to_ids]"
   ]
  },
  {
   "cell_type": "code",
   "execution_count": 16,
   "id": "dcd34bea-7b72-401b-a5b9-7ca266857c92",
   "metadata": {},
   "outputs": [],
   "source": [
    "uniprot_spoke_ids = [prots_to_ids[p] for p in uniprot_ids if p in prots_to_ids]"
   ]
  },
  {
   "cell_type": "code",
   "execution_count": 17,
   "id": "49bcc405-fe3d-4d3e-acb5-7db4347f5095",
   "metadata": {},
   "outputs": [
    {
     "name": "stdout",
     "output_type": "stream",
     "text": [
      "diffexp genes: 24 spoke-diffexp genes: 24\n"
     ]
    }
   ],
   "source": [
    "print('diffexp genes:', len(diffexp_genes_ncbi_ids), 'spoke-diffexp genes:', len(genes_spoke_ids))"
   ]
  },
  {
   "cell_type": "markdown",
   "id": "4292e6a7-13b5-4c2c-a8c9-2a39a186df1d",
   "metadata": {},
   "source": [
    "## Calculate null model stats for Recover genes"
   ]
  },
  {
   "cell_type": "code",
   "execution_count": 18,
   "id": "345537f5-9413-45bc-ac9a-d3606732ee3d",
   "metadata": {},
   "outputs": [],
   "source": [
    "genes_stats = kgfe.explanations.graph_node_stats(spoke_graph_ud, list(set(genes_spoke_ids)))"
   ]
  },
  {
   "cell_type": "code",
   "execution_count": 19,
   "id": "31d954a9-a7c1-4c60-94a5-84d724967355",
   "metadata": {},
   "outputs": [],
   "source": [
    "genes_null_results = kgfe.explanations.null_graph_stats(spoke_graph_ud, 'Gene',\\\n",
    "                                                                 len(genes_spoke_ids),\\\n",
    "                                                                 use_degree_sampling=True,\\\n",
    "                                                                 input_id_set=genes_spoke_ids)"
   ]
  },
  {
   "cell_type": "code",
   "execution_count": 20,
   "id": "2e5bbc27-5f83-40f8-af90-b5d17e2525cd",
   "metadata": {},
   "outputs": [],
   "source": [
    "genes_null_results = pd.DataFrame(genes_null_results)\n"
   ]
  },
  {
   "cell_type": "code",
   "execution_count": 21,
   "id": "386b29d0-a914-4af1-8e04-5698e011057e",
   "metadata": {},
   "outputs": [
    {
     "data": {
      "text/plain": [
       "<matplotlib.legend.Legend at 0x7f2d5a875cc0>"
      ]
     },
     "execution_count": 21,
     "metadata": {},
     "output_type": "execute_result"
    },
    {
     "data": {
      "image/png": "[encoded data removed]",
      "text/plain": [
       "<Figure size 640x480 with 1 Axes>"
      ]
     },
     "metadata": {},
     "output_type": "display_data"
    }
   ],
   "source": [
    "plt.hist(genes_null_results.average_pairwise_distance, bins=100, label='random')\n",
    "plt.title('Average pairwise distance distribution for randomly sampled degree-matched proteins')\n",
    "plt.plot([genes_stats['average_pairwise_distance'], genes_stats['average_pairwise_distance']],\n",
    "         [0, 10], label='PASC diffexp genes')\n",
    "plt.xlabel('Average pairwise distance between genes in SPOKE (lower = more related)')\n",
    "plt.legend()"
   ]
  },
  {
   "cell_type": "code",
   "execution_count": 22,
   "id": "fb809bdb-b85c-48bc-ac90-057b979c6bd0",
   "metadata": {},
   "outputs": [
    {
     "data": {
      "text/plain": [
       "<matplotlib.legend.Legend at 0x7f2cfe59e140>"
      ]
     },
     "execution_count": 22,
     "metadata": {},
     "output_type": "execute_result"
    },
    {
     "data": {
      "image/png": "[encoded data removed]",
      "text/plain": [
       "<Figure size 640x480 with 1 Axes>"
      ]
     },
     "metadata": {},
     "output_type": "display_data"
    }
   ],
   "source": [
    "plt.hist(genes_null_results.degree_mean, bins=10, label='random')\n",
    "plt.title('Average degree for genes')\n",
    "plt.plot([genes_stats['degree_mean'], genes_stats['degree_mean']],\n",
    "         [0, 10], label='target genes')\n",
    "plt.xlabel('Average degree')\n",
    "plt.legend()"
   ]
  },
  {
   "cell_type": "code",
   "execution_count": 23,
   "id": "402ff31b-8d87-4059-9107-21b9939a86cd",
   "metadata": {},
   "outputs": [],
   "source": [
    "prots_stats = kgfe.explanations.graph_node_stats(spoke_graph_ud, list(set(uniprot_spoke_ids)))"
   ]
  },
  {
   "cell_type": "code",
   "execution_count": 24,
   "id": "326be200-00a1-4ed5-933e-34a45d762d67",
   "metadata": {},
   "outputs": [],
   "source": [
    "prots_null_results = kgfe.explanations.null_graph_stats(spoke_graph_ud, 'Protein',\\\n",
    "                                                                 len(uniprot_spoke_ids),\\\n",
    "                                                                 use_degree_sampling=True,\\\n",
    "                                                                 input_id_set=uniprot_spoke_ids)"
   ]
  },
  {
   "cell_type": "code",
   "execution_count": 25,
   "id": "929686dc-2d12-459f-9f09-024a821e07c8",
   "metadata": {},
   "outputs": [],
   "source": [
    "prots_null_results = pd.DataFrame(prots_null_results)\n"
   ]
  },
  {
   "cell_type": "code",
   "execution_count": 26,
   "id": "9acd9cb3-9233-445f-8d92-b734160c03d6",
   "metadata": {},
   "outputs": [
    {
     "data": {
      "text/plain": [
       "<matplotlib.legend.Legend at 0x7f2ce3cd3d60>"
      ]
     },
     "execution_count": 26,
     "metadata": {},
     "output_type": "execute_result"
    },
    {
     "data": {
      "image/png": "[encoded data removed]",
      "text/plain": [
       "<Figure size 640x480 with 1 Axes>"
      ]
     },
     "metadata": {},
     "output_type": "display_data"
    }
   ],
   "source": [
    "plt.hist(prots_null_results.average_pairwise_distance, bins=10, label='random')\n",
    "plt.title('Average pairwise distance distribution for randomly sampled degree-matched proteins')\n",
    "plt.plot([prots_stats['average_pairwise_distance'], prots_stats['average_pairwise_distance']],\n",
    "         [0, 10], label='PASC diffexp proteins')\n",
    "plt.xlabel('Average pairwise distance between proteins in SPOKE (lower = more related)')\n",
    "plt.legend()"
   ]
  },
  {
   "cell_type": "code",
   "execution_count": 27,
   "id": "ae5c77e3-9068-46e5-b190-fd9a1f66b72c",
   "metadata": {},
   "outputs": [
    {
     "data": {
      "text/plain": [
       "<matplotlib.legend.Legend at 0x7f2ce3672fe0>"
      ]
     },
     "execution_count": 27,
     "metadata": {},
     "output_type": "execute_result"
    },
    {
     "data": {
      "image/png": "[encoded data removed]",
      "text/plain": [
       "<Figure size 640x480 with 1 Axes>"
      ]
     },
     "metadata": {},
     "output_type": "display_data"
    }
   ],
   "source": [
    "plt.hist(prots_null_results.degree_mean, bins=10, label='random')\n",
    "plt.title('Average degree for proteins')\n",
    "plt.plot([prots_stats['degree_mean'], prots_stats['degree_mean']],\n",
    "         [0, 10], label='target proteins')\n",
    "plt.xlabel('Average degree')\n",
    "plt.legend()"
   ]
  },
  {
   "cell_type": "markdown",
   "id": "edcac57e-eec2-4e0e-be11-60dd33db7485",
   "metadata": {},
   "source": [
    "## Steiner trees for PASC genes"
   ]
  },
  {
   "cell_type": "code",
   "execution_count": 28,
   "id": "4abee06e-acb3-4f1c-b385-99218e74f37f",
   "metadata": {},
   "outputs": [],
   "source": [
    "import ipycytoscape"
   ]
  },
  {
   "cell_type": "code",
   "execution_count": 29,
   "id": "db6e9f18-08d2-4cca-b2f0-5ae53001d9b8",
   "metadata": {},
   "outputs": [],
   "source": [
    "# TODO: display the node category somewhere, and display the edge categories\n",
    "graph_style = [{'selector': 'node[feature_name]',\n",
    "                             'style': {\n",
    "                                  'font-family': 'helvetica',\n",
    "                                  'font-size': '20px',\n",
    "                                 'text-valign': 'top',\n",
    "                                 'label': 'data(feature_name)',\n",
    "                        }},\n",
    "                        {'selector': 'node[category=\"Protein\"]',\n",
    "                         'style': {\n",
    "                             'background-color': 'blue',\n",
    "                         }},\n",
    "                        {'selector': 'node[in_query=1]',\n",
    "                         'style': {\n",
    "                             'border-width': '5px',\n",
    "                             'border-color': 'red',\n",
    "                         }},\n",
    "                        {'selector': 'edge[type]',\n",
    "                         'style': {\n",
    "                             'label': 'data(type)',\n",
    "                         }},\n",
    "                        {\"selector\": \"edge.directed\",\n",
    "                         \"style\": {\n",
    "                            \"curve-style\": \"bezier\",\n",
    "                            \"target-arrow-shape\": \"triangle\",\n",
    "                    }},\n",
    "\n",
    "                    ]"
   ]
  },
  {
   "cell_type": "code",
   "execution_count": 30,
   "id": "978b3e54-a964-4c50-910a-a40e468378d6",
   "metadata": {},
   "outputs": [],
   "source": [
    "st, subgraph = kgfe.explanations.steiner_tree_subgraph(spoke_graph_ud,\n",
    "                                                            genes_spoke_ids,\n",
    "                                                            method='takahashi')"
   ]
  },
  {
   "cell_type": "code",
   "execution_count": 31,
   "id": "6c324de2-84c9-4a36-9e59-a57ac5096504",
   "metadata": {},
   "outputs": [
    {
     "data": {
      "application/vnd.jupyter.widget-view+json": {
       "model_id": "3e63d152ed5047149e9b29c8e2a046d7",
       "version_major": 2,
       "version_minor": 0
      },
      "text/plain": [
       "CytoscapeWidget(cytoscape_layout={'name': 'cola', 'title': 'high_proteins', 'nodeSpacing': 80, 'edgeLengthVal'…"
      ]
     },
     "metadata": {},
     "output_type": "display_data"
    }
   ],
   "source": [
    "undirected = ipycytoscape.CytoscapeWidget()\n",
    "high_protein_subgraph_nx = subgraph.to_networkx()\n",
    "node_dict = {i: n['name'] for i, n in high_protein_subgraph_nx.nodes.items()}\n",
    "high_protein_subgraph_nx = nx.relabel_nodes(high_protein_subgraph_nx, node_dict)\n",
    "undirected.graph.add_graph_from_networkx(high_protein_subgraph_nx)\n",
    "undirected.set_tooltip_source('feature_name')\n",
    "undirected.set_layout(title='high_proteins', nodeSpacing=80, edgeLengthVal=50, )\n",
    "undirected.set_style(graph_style)\n",
    "\n",
    "display(undirected)"
   ]
  },
  {
   "cell_type": "code",
   "execution_count": 32,
   "id": "11c24ee3-1bbd-45c7-ab7b-f733b4666660",
   "metadata": {},
   "outputs": [],
   "source": [
    "st, subgraph = kgfe.explanations.steiner_tree_subgraph(spoke_graph_ud,\n",
    "                                                            uniprot_spoke_ids,\n",
    "                                                            method='takahashi')"
   ]
  },
  {
   "cell_type": "code",
   "execution_count": 33,
   "id": "9d47182d-59af-4829-8492-22b493ad4af5",
   "metadata": {
    "tags": []
   },
   "outputs": [
    {
     "data": {
      "application/vnd.jupyter.widget-view+json": {
       "model_id": "a92501d8734d43abb365ae10533f6ac7",
       "version_major": 2,
       "version_minor": 0
      },
      "text/plain": [
       "CytoscapeWidget(cytoscape_layout={'name': 'cola', 'title': 'high_proteins', 'nodeSpacing': 80, 'edgeLengthVal'…"
      ]
     },
     "metadata": {},
     "output_type": "display_data"
    }
   ],
   "source": [
    "undirected = ipycytoscape.CytoscapeWidget()\n",
    "high_protein_subgraph_nx = subgraph.to_networkx()\n",
    "node_dict = {i: n['name'] for i, n in high_protein_subgraph_nx.nodes.items()}\n",
    "high_protein_subgraph_nx = nx.relabel_nodes(high_protein_subgraph_nx, node_dict)\n",
    "undirected.graph.add_graph_from_networkx(high_protein_subgraph_nx)\n",
    "undirected.set_tooltip_source('feature_name')\n",
    "undirected.set_layout(title='high_proteins', nodeSpacing=80, edgeLengthVal=50, )\n",
    "undirected.set_style(graph_style)\n",
    "\n",
    "display(undirected)"
   ]
  },
  {
   "cell_type": "code",
   "execution_count": null,
   "id": "5236bf27-e004-49fa-8625-2d732cb03d4f",
   "metadata": {},
   "outputs": [],
   "source": []
  }
 ],
 "metadata": {
  "kernelspec": {
   "display_name": "Python 3 (ipykernel)",
   "language": "python",
   "name": "python3"
  },
  "language_info": {
   "codemirror_mode": {
    "name": "ipython",
    "version": 3
   },
   "file_extension": ".py",
   "mimetype": "text/x-python",
   "name": "python",
   "nbconvert_exporter": "python",
   "pygments_lexer": "ipython3",
   "version": "3.10.6"
  },
  "widgets": {
   "application/vnd.jupyter.widget-state+json": {
    "state": {
     "01a24bc5823347f8bcaccbaf9ac80874": {
      "model_module": "jupyter-cytoscape",
      "model_module_version": "^1.3.3",
      "model_name": "NodeModel",
      "state": {
       "_model_module_version": "^1.3.3",
       "_view_module_version": "^1.3.3",
       "data": {
        "_igraph_index": 20,
        "category": "Gene",
        "feature_name": "ERBIN",
        "id": "2204877",
        "identifier": 55914,
        "in_query": 1,
        "name": "2204877",
        "source": "Entrez Gene"
       },
       "grabbable": true,
       "grabbed": false,
       "position": {
        "x": 925.767540635387,
        "y": 23.335161170818637
       },
       "selectable": false
      }
     },
     "022ce4f76c2848f6b166a132bd697092": {
      "model_module": "jupyter-cytoscape",
      "model_module_version": "^1.3.3",
      "model_name": "EdgeModel",
      "state": {
       "_model_module_version": "^1.3.3",
       "_view_module_version": "^1.3.3",
       "data": {
        "_igraph_index": 54,
        "id": "5e4fda66-ffee-4289-bc6d-60c5739438df",
        "source": "2370134",
        "target": "2118039",
        "type": "PARTOF_PDpP"
       },
       "selectable": false
      }
     },
     "02c5ccd93eda4cdea198168c079255a5": {
      "model_module": "jupyter-cytoscape",
      "model_module_version": "^1.3.3",
      "model_name": "NodeModel",
      "state": {
       "_model_module_version": "^1.3.3",
       "_view_module_version": "^1.3.3",
       "data": {
        "_igraph_index": 21,
        "category": "Protein",
        "feature_name": "TIE1_HUMAN",
        "id": "2119896",
        "identifier": "P35590",
        "in_query": 0,
        "name": "2119896",
        "source": "UniProt"
       },
       "grabbable": true,
       "grabbed": false,
       "position": {
        "x": 749.029244909742,
        "y": 52.603045014093226
       },
       "selectable": false
      }
     },
     "04ae0c6f1bfc4a0d95dddf58a69cd89a": {
      "model_module": "jupyter-cytoscape",
      "model_module_version": "^1.3.3",
      "model_name": "EdgeModel",
      "state": {
       "_model_module_version": "^1.3.3",
       "_view_module_version": "^1.3.3",
       "data": {
        "_igraph_index": 10,
        "id": "8ee611d3-9578-4101-bf5f-47e73296a803",
        "source": "2192624",
        "target": "2190994",
        "type": "UPREGULATES_GPuG"
       },
       "selectable": false
      }
     },
     "05f61a0fd8f64b9da05f0b4986993515": {
      "model_module": "jupyter-cytoscape",
      "model_module_version": "^1.3.3",
      "model_name": "NodeModel",
      "state": {
       "_model_module_version": "^1.3.3",
       "_view_module_version": "^1.3.3",
       "data": {
        "_igraph_index": 24,
        "category": "Gene",
        "feature_name": "BOC",
        "id": "2206864",
        "identifier": 91653,
        "in_query": 1,
        "name": "2206864",
        "source": "Entrez Gene"
       },
       "grabbable": true,
       "grabbed": false,
       "position": {
        "x": 535.767538635387,
        "y": -42.89226816174389
       },
       "selectable": false
      }
     },
     "0608251c2c3041f09cba99b2fe94767c": {
      "model_module": "jupyter-cytoscape",
      "model_module_version": "^1.3.3",
      "model_name": "NodeModel",
      "state": {
       "_model_module_version": "^1.3.3",
       "_view_module_version": "^1.3.3",
       "data": {
        "_igraph_index": 18,
        "category": "Gene",
        "feature_name": "HAO1",
        "id": "2203649",
        "identifier": 54363,
        "in_query": 1,
        "name": "2203649",
        "source": "Entrez Gene"
       },
       "grabbable": true,
       "grabbed": false,
       "position": {
        "x": 345.767537635387,
        "y": 342.1077338382561
       },
       "selectable": false
      }
     },
     "06676f553b1344cfb6fdb9fefe25aa6f": {
      "model_module": "jupyter-cytoscape",
      "model_module_version": "^1.3.3",
      "model_name": "EdgeModel",
      "state": {
       "_model_module_version": "^1.3.3",
       "_view_module_version": "^1.3.3",
       "data": {
        "_igraph_index": 39,
        "id": "c932ab76-9bb2-4260-9b82-dea3c5f3abf4",
        "source": "2175196",
        "target": "2205126",
        "type": "EXPRESSES_AeG"
       },
       "selectable": false
      }
     },
     "072b95bd899347dabce5464108146a54": {
      "model_module": "jupyter-cytoscape",
      "model_module_version": "^1.3.3",
      "model_name": "EdgeModel",
      "state": {
       "_model_module_version": "^1.3.3",
       "_view_module_version": "^1.3.3",
       "data": {
        "_igraph_index": 38,
        "id": "c65a7c20-88fc-4dfc-a061-946bb3ef70bd",
        "source": "2175238",
        "target": "2204877",
        "type": "EXPRESSES_AeG"
       },
       "selectable": false
      }
     },
     "0922734eeacb49c395c8a48a5535156b": {
      "model_module": "jupyter-cytoscape",
      "model_module_version": "^1.3.3",
      "model_name": "EdgeModel",
      "state": {
       "_model_module_version": "^1.3.3",
       "_view_module_version": "^1.3.3",
       "data": {
        "_igraph_index": 11,
        "id": "9d87ec6f-85f4-40ba-8b66-339be93bf144",
        "source": "2175196",
        "target": "2193030",
        "type": "EXPRESSES_AeG"
       },
       "selectable": false
      }
     },
     "09c0c7905ec3428c80613ac36f2831fb": {
      "model_module": "jupyter-cytoscape",
      "model_module_version": "^1.3.3",
      "model_name": "EdgeModel",
      "state": {
       "_model_module_version": "^1.3.3",
       "_view_module_version": "^1.3.3",
       "data": {
        "_igraph_index": 7,
        "id": "e3bcecb3-5a5a-47d8-98b8-2605ea191b1c",
        "source": "2175238",
        "target": "2191686",
        "type": "DOWNREGULATES_AdG"
       },
       "selectable": false
      }
     },
     "0c8dc03bc1d64a0e87e95a6ab1a55b54": {
      "model_module": "jupyter-cytoscape",
      "model_module_version": "^1.3.3",
      "model_name": "NodeModel",
      "state": {
       "_model_module_version": "^1.3.3",
       "_view_module_version": "^1.3.3",
       "data": {
        "_igraph_index": 17,
        "category": "Protein",
        "feature_name": "VEGFD_HUMAN",
        "id": "2116072",
        "identifier": "O43915",
        "in_query": 1,
        "name": "2116072",
        "source": "UniProt"
       },
       "grabbable": true,
       "grabbed": false,
       "position": {
        "x": 356.52924290974215,
        "y": -267.84286836329346
       },
       "selectable": false
      }
     },
     "0ca3121f3adc47e9a64884fef3136299": {
      "model_module": "jupyter-cytoscape",
      "model_module_version": "^1.3.3",
      "model_name": "EdgeModel",
      "state": {
       "_model_module_version": "^1.3.3",
       "_view_module_version": "^1.3.3",
       "data": {
        "_igraph_index": 18,
        "id": "9c5d0fd5-08cc-487a-8c02-f4479387a1f9",
        "source": "2175196",
        "target": "2195048",
        "type": "EXPRESSES_AeG"
       },
       "selectable": false
      }
     },
     "0d29f0a954f745e7b05de871194f83da": {
      "model_module": "jupyter-cytoscape",
      "model_module_version": "^1.3.3",
      "model_name": "EdgeModel",
      "state": {
       "_model_module_version": "^1.3.3",
       "_view_module_version": "^1.3.3",
       "data": {
        "_igraph_index": 30,
        "id": "99fa037a-baeb-4d7b-a51f-3798465305bc",
        "source": "2193639",
        "target": "1968891",
        "type": "ENCODES_GeP"
       },
       "selectable": false
      }
     },
     "0ddf56b77a3f40dda1fe5bded565d9e6": {
      "model_module": "jupyter-cytoscape",
      "model_module_version": "^1.3.3",
      "model_name": "NodeModel",
      "state": {
       "_model_module_version": "^1.3.3",
       "_view_module_version": "^1.3.3",
       "data": {
        "_igraph_index": 14,
        "category": "Gene",
        "feature_name": "AGR2",
        "id": "2198127",
        "identifier": 10551,
        "in_query": 1,
        "name": "2198127",
        "source": "Entrez Gene"
       },
       "grabbable": true,
       "grabbed": false,
       "position": {
        "x": 540.767538635387,
        "y": 389.1318623667674
       },
       "selectable": false
      }
     },
     "0e8973f248a04d9cad9e21d270256f23": {
      "model_module": "jupyter-cytoscape",
      "model_module_version": "^1.3.3",
      "model_name": "NodeModel",
      "state": {
       "_model_module_version": "^1.3.3",
       "_view_module_version": "^1.3.3",
       "data": {
        "_igraph_index": 4,
        "category": "Protein",
        "feature_name": "A0A024RAP7_HUMAN",
        "id": "1979250",
        "identifier": "A0A024RAP7",
        "in_query": 1,
        "name": "1979250",
        "source": "UniProt"
       },
       "grabbable": true,
       "grabbed": false,
       "position": {
        "x": 546.5292439097421,
        "y": 527.2860138903483
       },
       "selectable": false
      }
     },
     "0eaaaa88a41c4ce2abac1fcc0e3ee436": {
      "model_module": "jupyter-cytoscape",
      "model_module_version": "^1.3.3",
      "model_name": "NodeModel",
      "state": {
       "_model_module_version": "^1.3.3",
       "_view_module_version": "^1.3.3",
       "data": {
        "_igraph_index": 17,
        "category": "Gene",
        "feature_name": "IRAK4",
        "id": "2201942",
        "identifier": 51135,
        "in_query": 1,
        "name": "2201942",
        "source": "Entrez Gene"
       },
       "grabbable": true,
       "grabbed": false,
       "position": {
        "x": 344.1403499793816,
        "y": -237.89226916174388
       },
       "selectable": false
      }
     },
     "0f8fadcc532342f98b3b144b573c4b55": {
      "model_module": "jupyter-cytoscape",
      "model_module_version": "^1.3.3",
      "model_name": "EdgeModel",
      "state": {
       "_model_module_version": "^1.3.3",
       "_view_module_version": "^1.3.3",
       "data": {
        "_igraph_index": 33,
        "id": "a28d9414-a5d4-4970-83f1-0a4116c54cc3",
        "source": "2175196",
        "target": "2203649",
        "type": "DOWNREGULATES_AdG"
       },
       "selectable": false
      }
     },
     "11207c61716344ee98e311a40769bb93": {
      "model_module": "jupyter-cytoscape",
      "model_module_version": "^1.3.3",
      "model_name": "NodeModel",
      "state": {
       "_model_module_version": "^1.3.3",
       "_view_module_version": "^1.3.3",
       "data": {
        "_igraph_index": 22,
        "category": "Protein",
        "feature_name": "MP2K1_HUMAN",
        "id": "2121853",
        "identifier": "Q02750",
        "in_query": 0,
        "name": "2121853",
        "source": "UniProt"
       },
       "grabbable": true,
       "grabbed": false,
       "position": {
        "x": 1124.029246909742,
        "y": 252.60304601409322
       },
       "selectable": false
      }
     },
     "1652c2f03ecf47009e321a65a0a3f96c": {
      "model_module": "jupyter-cytoscape",
      "model_module_version": "^1.3.3",
      "model_name": "EdgeModel",
      "state": {
       "_model_module_version": "^1.3.3",
       "_view_module_version": "^1.3.3",
       "data": {
        "_igraph_index": 25,
        "id": "f752faf3-8b19-4965-8e83-8de13ec5d004",
        "source": "2192624",
        "target": "2190994",
        "type": "UPREGULATES_GPuG"
       },
       "selectable": false
      }
     },
     "1812d988fbc045bcadd1d1e3cbca67e2": {
      "model_module": "jupyter-cytoscape",
      "model_module_version": "^1.3.3",
      "model_name": "EdgeModel",
      "state": {
       "_model_module_version": "^1.3.3",
       "_view_module_version": "^1.3.3",
       "data": {
        "_igraph_index": 36,
        "id": "fdb68cd4-f1aa-4de2-bff1-c4e8024a02ca",
        "source": "2175238",
        "target": "2204130",
        "type": "DOWNREGULATES_AdG"
       },
       "selectable": false
      }
     },
     "1a59e36f41244c9aa68e81cdb2cfa86c": {
      "model_module": "jupyter-cytoscape",
      "model_module_version": "^1.3.3",
      "model_name": "EdgeModel",
      "state": {
       "_model_module_version": "^1.3.3",
       "_view_module_version": "^1.3.3",
       "data": {
        "_igraph_index": 3,
        "id": "6fc7b7fc-3890-4a18-96ce-283a42f64a24",
        "source": "2175238",
        "target": "2190994",
        "type": "EXPRESSES_AeG"
       },
       "selectable": false
      }
     },
     "1c0e6c1632464d08bb294db87287004a": {
      "model_module": "jupyter-cytoscape",
      "model_module_version": "^1.3.3",
      "model_name": "EdgeModel",
      "state": {
       "_model_module_version": "^1.3.3",
       "_view_module_version": "^1.3.3",
       "data": {
        "_igraph_index": 23,
        "id": "92bcbb6a-c341-4162-99c5-f3ee1c50266e",
        "source": "2192624",
        "target": "1979810",
        "type": "ENCODES_GeP"
       },
       "selectable": false
      }
     },
     "21fe9244cad94fa68b4c0d1dc7a7f214": {
      "model_module": "jupyter-cytoscape",
      "model_module_version": "^1.3.3",
      "model_name": "EdgeModel",
      "state": {
       "_model_module_version": "^1.3.3",
       "_view_module_version": "^1.3.3",
       "data": {
        "_igraph_index": 9,
        "id": "9a19ece4-ac16-472b-86c6-cab9c52f276c",
        "source": "2175238",
        "target": "2192624",
        "type": "DOWNREGULATES_AdG"
       },
       "selectable": false
      }
     },
     "2274107b01574989a62abac23fdd4bca": {
      "model_module": "jupyter-cytoscape",
      "model_module_version": "^1.3.3",
      "model_name": "EdgeModel",
      "state": {
       "_model_module_version": "^1.3.3",
       "_view_module_version": "^1.3.3",
       "data": {
        "_igraph_index": 40,
        "id": "799ea883-2a56-4e76-8978-a8a20ec2a56d",
        "source": "2175238",
        "target": "2205126",
        "type": "EXPRESSES_AeG"
       },
       "selectable": false
      }
     },
     "251f9550d3f044d5a7eedb15d3e801e5": {
      "model_module": "jupyter-cytoscape",
      "model_module_version": "^1.3.3",
      "model_name": "NodeModel",
      "state": {
       "_model_module_version": "^1.3.3",
       "_view_module_version": "^1.3.3",
       "data": {
        "_igraph_index": 30,
        "category": "Protein",
        "feature_name": "PRS27_HUMAN",
        "id": "2150833",
        "identifier": "Q9BQR3",
        "in_query": 1,
        "name": "2150833",
        "source": "UniProt"
       },
       "grabbable": true,
       "grabbed": false,
       "position": {
        "x": 1506.529248909742,
        "y": 177.55072001617444
       },
       "selectable": false
      }
     },
     "2673bf77e74546de882bdbe9a522cdf2": {
      "model_module": "jupyter-cytoscape",
      "model_module_version": "^1.3.3",
      "model_name": "EdgeModel",
      "state": {
       "_model_module_version": "^1.3.3",
       "_view_module_version": "^1.3.3",
       "data": {
        "_igraph_index": 14,
        "id": "b9a1be1e-a5da-4067-a8f2-3cf827971d56",
        "source": "2145136",
        "target": "2118039",
        "type": "INTERACTS_PiP"
       },
       "selectable": false
      }
     },
     "28dccd1a39ba489497a3f247bcc27c88": {
      "model_module": "jupyter-cytoscape",
      "model_module_version": "^1.3.3",
      "model_name": "EdgeModel",
      "state": {
       "_model_module_version": "^1.3.3",
       "_view_module_version": "^1.3.3",
       "data": {
        "_igraph_index": 47,
        "id": "c3026604-2d4d-44f1-bd0e-833e22b15374",
        "source": "2175196",
        "target": "2207390",
        "type": "EXPRESSES_AeG"
       },
       "selectable": false
      }
     },
     "2a7e9d64dc3645d69603374d1b2c5ca2": {
      "model_module": "jupyter-cytoscape",
      "model_module_version": "^1.3.3",
      "model_name": "NodeModel",
      "state": {
       "_model_module_version": "^1.3.3",
       "_view_module_version": "^1.3.3",
       "data": {
        "_igraph_index": 29,
        "category": "Protein",
        "feature_name": "ERBIN_HUMAN",
        "id": "2150067",
        "identifier": "Q96RT1",
        "in_query": 1,
        "name": "2150067",
        "source": "UniProt"
       },
       "grabbable": true,
       "grabbed": false,
       "position": {
        "x": -798.470763090258,
        "y": 347.14596722663185
       },
       "selectable": false
      }
     },
     "2f30c1fd817843879013ac444b55f176": {
      "model_module": "jupyter-cytoscape",
      "model_module_version": "^1.3.3",
      "model_name": "NodeModel",
      "state": {
       "_model_module_version": "^1.3.3",
       "_view_module_version": "^1.3.3",
       "data": {
        "_igraph_index": 31,
        "category": "Protein",
        "feature_name": "ANTR1_HUMAN",
        "id": "2152953",
        "identifier": "Q9H6X2",
        "in_query": 0,
        "name": "2152953",
        "source": "UniProt"
       },
       "grabbable": true,
       "grabbed": false,
       "position": {
        "x": -20.970759090257918,
        "y": 13.860034359450543
       },
       "selectable": false
      }
     },
     "2f97acc325fd4f2ab92b24c9407ccd17": {
      "model_module": "jupyter-cytoscape",
      "model_module_version": "^1.3.3",
      "model_name": "NodeModel",
      "state": {
       "_model_module_version": "^1.3.3",
       "_view_module_version": "^1.3.3",
       "data": {
        "_igraph_index": 11,
        "category": "Protein",
        "feature_name": "E5LCN7_HUMAN",
        "id": "2071533",
        "identifier": "E5LCN7",
        "in_query": 1,
        "name": "2071533",
        "source": "UniProt"
       },
       "grabbable": true,
       "grabbed": false,
       "position": {
        "x": 556.5292439097421,
        "y": 55.103045014093226
       },
       "selectable": false
      }
     },
     "31544c07e4f441a68f90a8debcd04b46": {
      "model_module": "jupyter-cytoscape",
      "model_module_version": "^1.3.3",
      "model_name": "EdgeModel",
      "state": {
       "_model_module_version": "^1.3.3",
       "_view_module_version": "^1.3.3",
       "data": {
        "_igraph_index": 31,
        "id": "8374e47e-5296-42c5-9e97-a178a3febbcd",
        "source": "2175196",
        "target": "2201942",
        "type": "EXPRESSES_AeG"
       },
       "selectable": false
      }
     },
     "3260d44345544022b53b05ae9f1dff9b": {
      "model_module": "jupyter-cytoscape",
      "model_module_version": "^1.3.3",
      "model_name": "EdgeModel",
      "state": {
       "_model_module_version": "^1.3.3",
       "_view_module_version": "^1.3.3",
       "data": {
        "_igraph_index": 36,
        "id": "a198b596-41d4-4256-9527-58217abec15f",
        "source": "2175196",
        "target": "2198127",
        "type": "EXPRESSES_AeG"
       },
       "selectable": false
      }
     },
     "3308739dab984537886655518e94c403": {
      "model_module": "jupyter-cytoscape",
      "model_module_version": "^1.3.3",
      "model_name": "EdgeModel",
      "state": {
       "_model_module_version": "^1.3.3",
       "_view_module_version": "^1.3.3",
       "data": {
        "_igraph_index": 35,
        "id": "d85a15db-5f86-4ad5-9469-61cdb4798e15",
        "source": "2198127",
        "target": "2128288",
        "type": "ENCODES_GeP"
       },
       "selectable": false
      }
     },
     "33a8028aeb48453a87696b7e7f3742e7": {
      "model_module": "jupyter-cytoscape",
      "model_module_version": "^1.3.3",
      "model_name": "NodeModel",
      "state": {
       "_model_module_version": "^1.3.3",
       "_view_module_version": "^1.3.3",
       "data": {
        "_igraph_index": 19,
        "category": "Gene",
        "feature_name": "BANK1",
        "id": "2204130",
        "identifier": 55024,
        "in_query": 1,
        "name": "2204130",
        "source": "Entrez Gene"
       },
       "grabbable": true,
       "grabbed": false,
       "position": {
        "x": 630.002822609541,
        "y": 803.3351651708185
       },
       "selectable": false
      }
     },
     "34be2efe6dfd4d3da8acd117f1f05955": {
      "model_module": "jupyter-cytoscape",
      "model_module_version": "^1.3.3",
      "model_name": "EdgeModel",
      "state": {
       "_model_module_version": "^1.3.3",
       "_view_module_version": "^1.3.3",
       "data": {
        "_igraph_index": 23,
        "id": "316d84d9-2393-46ca-a61d-7b93cd3bf027",
        "source": "2175196",
        "target": "2197852",
        "type": "DOWNREGULATES_AdG"
       },
       "selectable": false
      }
     },
     "36010ee68b92473da1f82f6cfca355a2": {
      "model_module": "jupyter-cytoscape",
      "model_module_version": "^1.3.3",
      "model_name": "EdgeModel",
      "state": {
       "_model_module_version": "^1.3.3",
       "_view_module_version": "^1.3.3",
       "data": {
        "_igraph_index": 53,
        "id": "f79c7b7d-9aff-4f8d-a82a-4f2a70b4d9ce",
        "source": "2370134",
        "target": "2103936",
        "type": "PARTOF_PDpP"
       },
       "selectable": false
      }
     },
     "36897583f18540e7a033f4b21d4cc98f": {
      "model_module": "jupyter-cytoscape",
      "model_module_version": "^1.3.3",
      "model_name": "NodeModel",
      "state": {
       "_model_module_version": "^1.3.3",
       "_view_module_version": "^1.3.3",
       "data": {
        "_igraph_index": 35,
        "category": "Gene",
        "feature_name": "F2R",
        "id": "2191576",
        "identifier": 2149,
        "in_query": 0,
        "name": "2191576",
        "source": "Entrez Gene"
       },
       "grabbable": true,
       "grabbed": false,
       "position": {
        "x": 739.029244909742,
        "y": 442.6030470140932
       },
       "selectable": false
      }
     },
     "3722a260ff534dadb32383543759db92": {
      "model_module": "jupyter-cytoscape",
      "model_module_version": "^1.3.3",
      "model_name": "EdgeModel",
      "state": {
       "_model_module_version": "^1.3.3",
       "_view_module_version": "^1.3.3",
       "data": {
        "_igraph_index": 18,
        "id": "c1b5ae16-4278-4f25-811b-9146716bc0be",
        "source": "2190994",
        "target": "1994213",
        "type": "ENCODES_GeP"
       },
       "selectable": false
      }
     },
     "3858a4cc555346d0b8ad8b4210c81636": {
      "model_module": "jupyter-cytoscape",
      "model_module_version": "^1.3.3",
      "model_name": "EdgeModel",
      "state": {
       "_model_module_version": "^1.3.3",
       "_view_module_version": "^1.3.3",
       "data": {
        "_igraph_index": 0,
        "id": "e8cca58e-d650-4057-928d-de9384a6fcd2",
        "source": "2175196",
        "target": "2190502",
        "type": "DOWNREGULATES_AdG"
       },
       "selectable": false
      }
     },
     "3a42e0211bca47bda8b32f99ea98e5f8": {
      "model_module": "jupyter-cytoscape",
      "model_module_version": "^1.3.3",
      "model_name": "NodeModel",
      "state": {
       "_model_module_version": "^1.3.3",
       "_view_module_version": "^1.3.3",
       "data": {
        "_igraph_index": 8,
        "category": "Protein",
        "feature_name": "A8K058_HUMAN",
        "id": "2039021",
        "identifier": "A8K058",
        "in_query": 1,
        "name": "2039021",
        "source": "UniProt"
       },
       "grabbable": true,
       "grabbed": false,
       "position": {
        "x": -408.4707610902579,
        "y": 26.465352227003745
       },
       "selectable": false
      }
     },
     "3b5f44e8c3cd4545bb7990b71f051497": {
      "model_module": "jupyter-cytoscape",
      "model_module_version": "^1.3.3",
      "model_name": "EdgeModel",
      "state": {
       "_model_module_version": "^1.3.3",
       "_view_module_version": "^1.3.3",
       "data": {
        "_igraph_index": 0,
        "id": "3a9ca170-c367-4fbf-9b5b-345dde04fa21",
        "source": "281737",
        "target": "1977273",
        "type": "BINDS_CbP"
       },
       "selectable": false
      }
     },
     "3be45dbc4c3c49529e454438d525d1e3": {
      "model_module": "jupyter-cytoscape",
      "model_module_version": "^1.3.3",
      "model_name": "EdgeModel",
      "state": {
       "_model_module_version": "^1.3.3",
       "_view_module_version": "^1.3.3",
       "data": {
        "_igraph_index": 5,
        "id": "6e994db0-73ff-4eb2-b926-ad3cdf89970e",
        "source": "2118148",
        "target": "2115094",
        "type": "INTERACTS_PiP"
       },
       "selectable": false
      }
     },
     "3c2d869935ae416ab282210e19b149f2": {
      "model_module": "jupyter-cytoscape",
      "model_module_version": "^1.3.3",
      "model_name": "EdgeModel",
      "state": {
       "_model_module_version": "^1.3.3",
       "_view_module_version": "^1.3.3",
       "data": {
        "_igraph_index": 44,
        "id": "2b606331-9097-4d3a-bdde-55662dcddc9b",
        "source": "2175238",
        "target": "2205756",
        "type": "EXPRESSES_AeG"
       },
       "selectable": false
      }
     },
     "3c6dd780e6ed4e04bab046eeed54bd79": {
      "model_module": "jupyter-cytoscape",
      "model_module_version": "^1.3.3",
      "model_name": "EdgeModel",
      "state": {
       "_model_module_version": "^1.3.3",
       "_view_module_version": "^1.3.3",
       "data": {
        "_igraph_index": 11,
        "id": "391dd8e1-072a-4252-a7ac-5639c2ab0046",
        "source": "2121853",
        "target": "2115173",
        "type": "INTERACTS_PiP"
       },
       "selectable": false
      }
     },
     "3e442ae9fe12459cbad1143ad1d70953": {
      "model_module": "jupyter-cytoscape",
      "model_module_version": "^1.3.3",
      "model_name": "EdgeModel",
      "state": {
       "_model_module_version": "^1.3.3",
       "_view_module_version": "^1.3.3",
       "data": {
        "_igraph_index": 19,
        "id": "37bec76d-3dcf-4214-8466-4096eb4e4fbd",
        "source": "2175196",
        "target": "2190994",
        "type": "DOWNREGULATES_AdG"
       },
       "selectable": false
      }
     },
     "3e63d152ed5047149e9b29c8e2a046d7": {
      "model_module": "jupyter-cytoscape",
      "model_module_version": "^1.3.3",
      "model_name": "CytoscapeModel",
      "state": {
       "_interaction_handlers": {},
       "_model_module_version": "^1.3.3",
       "_view_module_version": "^1.3.3",
       "auto_ungrabify": false,
       "autolock": false,
       "cytoscape_layout": {
        "edgeLengthVal": 50,
        "name": "cola",
        "nodeSpacing": 80,
        "title": "high_proteins"
       },
       "cytoscape_style": [
        {
         "selector": "node[feature_name]",
         "style": {
          "font-family": "helvetica",
          "font-size": "20px",
          "label": "data(feature_name)",
          "text-valign": "top"
         }
        },
        {
         "selector": "node[category=\"Protein\"]",
         "style": {
          "background-color": "blue"
         }
        },
        {
         "selector": "node[in_query=1]",
         "style": {
          "border-color": "red",
          "border-width": "5px"
         }
        },
        {
         "selector": "edge[type]",
         "style": {
          "label": "data(type)"
         }
        },
        {
         "selector": "edge.directed",
         "style": {
          "curve-style": "bezier",
          "target-arrow-shape": "triangle"
         }
        }
       ],
       "desktop_tap_threshold": 4,
       "graph": "IPY_MODEL_bd0ffbd208ad48bf9fcbc31ec73a655e",
       "headless": false,
       "hide_edges_on_viewport": false,
       "layout": "IPY_MODEL_7fb90e4274fe4d93b41e4d37e35e5e9c",
       "max_zoom": 1e+50,
       "min_zoom": 1e-50,
       "motion_blur": false,
       "motion_blur_opacity": 0.2,
       "panning_enabled": true,
       "pixel_ratio": "auto",
       "rendered_position": {
        "renderedPosition": {
         "x": 100,
         "y": 100
        }
       },
       "selection_type": "single",
       "style_enabled": true,
       "texture_on_viewport": false,
       "tooltip_source": "feature_name",
       "touch_tap_threshold": 8,
       "user_panning_enabled": true,
       "user_zooming_enabled": true,
       "wheel_sensitivity": 1,
       "zoom": 2,
       "zooming_enabled": true
      }
     },
     "3e6d137a7e4c4a9995c2f8d5ce2c4dfa": {
      "model_module": "jupyter-cytoscape",
      "model_module_version": "^1.3.3",
      "model_name": "EdgeModel",
      "state": {
       "_model_module_version": "^1.3.3",
       "_view_module_version": "^1.3.3",
       "data": {
        "_igraph_index": 6,
        "id": "cf6e1544-98aa-4601-a530-08a33a8de006",
        "source": "281737",
        "target": "2119835",
        "type": "BINDS_CbP"
       },
       "selectable": false
      }
     },
     "3f4a683b308c494d97a508b6c488d180": {
      "model_module": "jupyter-cytoscape",
      "model_module_version": "^1.3.3",
      "model_name": "EdgeModel",
      "state": {
       "_model_module_version": "^1.3.3",
       "_view_module_version": "^1.3.3",
       "data": {
        "_igraph_index": 24,
        "id": "59a766c0-be6d-4091-8507-71b08e59565c",
        "source": "2175196",
        "target": "2192624",
        "type": "DOWNREGULATES_AdG"
       },
       "selectable": false
      }
     },
     "42f192f2fe54437b8b0c8ad7cca0a7f9": {
      "model_module": "jupyter-cytoscape",
      "model_module_version": "^1.3.3",
      "model_name": "EdgeModel",
      "state": {
       "_model_module_version": "^1.3.3",
       "_view_module_version": "^1.3.3",
       "data": {
        "_igraph_index": 39,
        "id": "62023897-d305-429e-9502-f79c01dcc872",
        "source": "2205126",
        "target": "1971110",
        "type": "ENCODES_GeP"
       },
       "selectable": false
      }
     },
     "437ecdc392414d62815f84f408570c31": {
      "model_module": "@jupyter-widgets/base",
      "model_module_version": "2.0.0",
      "model_name": "LayoutModel",
      "state": {}
     },
     "44fdc98b8fac4c53b544160c9240072b": {
      "model_module": "jupyter-cytoscape",
      "model_module_version": "^1.3.3",
      "model_name": "EdgeModel",
      "state": {
       "_model_module_version": "^1.3.3",
       "_view_module_version": "^1.3.3",
       "data": {
        "_igraph_index": 16,
        "id": "84032520-9fd1-4a37-858a-0c7b09c9448b",
        "source": "2175196",
        "target": "2193639",
        "type": "EXPRESSES_AeG"
       },
       "selectable": false
      }
     },
     "47ae23858acf41fa9caa2e16f73b1cfe": {
      "model_module": "jupyter-cytoscape",
      "model_module_version": "^1.3.3",
      "model_name": "EdgeModel",
      "state": {
       "_model_module_version": "^1.3.3",
       "_view_module_version": "^1.3.3",
       "data": {
        "_igraph_index": 25,
        "id": "51f9a455-6fc4-469d-87e3-35b9faf55064",
        "source": "2175196",
        "target": "2198127",
        "type": "EXPRESSES_AeG"
       },
       "selectable": false
      }
     },
     "49e8af874c074c31a6165d036e41c12f": {
      "model_module": "jupyter-cytoscape",
      "model_module_version": "^1.3.3",
      "model_name": "NodeModel",
      "state": {
       "_model_module_version": "^1.3.3",
       "_view_module_version": "^1.3.3",
       "data": {
        "_igraph_index": 25,
        "category": "Protein",
        "feature_name": "ATS13_HUMAN",
        "id": "2140136",
        "identifier": "Q76LX8",
        "in_query": 1,
        "name": "2140136",
        "source": "UniProt"
       },
       "grabbable": true,
       "grabbed": false,
       "position": {
        "x": 1701.5292499097416,
        "y": 522.8255212988032
       },
       "selectable": false
      }
     },
     "4ff0ab9e0b72492dbc8b06bf30c51807": {
      "model_module": "jupyter-cytoscape",
      "model_module_version": "^1.3.3",
      "model_name": "EdgeModel",
      "state": {
       "_model_module_version": "^1.3.3",
       "_view_module_version": "^1.3.3",
       "data": {
        "_igraph_index": 7,
        "id": "3c0cdfbe-0798-40f0-b188-591e0b217136",
        "source": "281737",
        "target": "2119896",
        "type": "BINDS_CbP"
       },
       "selectable": false
      }
     },
     "522896b775e94292b8d783e1d103b0c5": {
      "model_module": "jupyter-cytoscape",
      "model_module_version": "^1.3.3",
      "model_name": "NodeModel",
      "state": {
       "_model_module_version": "^1.3.3",
       "_view_module_version": "^1.3.3",
       "data": {
        "_igraph_index": 6,
        "category": "Gene",
        "feature_name": "CXCL8",
        "id": "2192624",
        "identifier": 3576,
        "in_query": 1,
        "name": "2192624",
        "source": "Entrez Gene"
       },
       "grabbable": true,
       "grabbed": false,
       "position": {
        "x": 435.00282160954094,
        "y": 732.107735838256
       },
       "selectable": false
      }
     },
     "53e4964570f0400e91c7b2fee42b77c4": {
      "model_module": "jupyter-cytoscape",
      "model_module_version": "^1.3.3",
      "model_name": "NodeModel",
      "state": {
       "_model_module_version": "^1.3.3",
       "_view_module_version": "^1.3.3",
       "data": {
        "_igraph_index": 47,
        "category": "ProteinDomain",
        "feature_name": "Protein tyrosine and serine/threonine kinase",
        "id": "2369632",
        "identifier": "PF07714",
        "in_query": 0,
        "name": "2369632",
        "source": "Pfam"
       },
       "grabbable": true,
       "grabbed": false,
       "position": {
        "x": 1314.0292479097418,
        "y": 180.05072001617444
       },
       "selectable": false
      }
     },
     "549b25073e6f47439f78f5717eff0989": {
      "model_module": "jupyter-cytoscape",
      "model_module_version": "^1.3.3",
      "model_name": "NodeModel",
      "state": {
       "_model_module_version": "^1.3.3",
       "_view_module_version": "^1.3.3",
       "data": {
        "_igraph_index": 44,
        "category": "Gene",
        "feature_name": "BOC",
        "id": "2206864",
        "identifier": 91653,
        "in_query": 0,
        "name": "2206864",
        "source": "Entrez Gene"
       },
       "grabbable": true,
       "grabbed": false,
       "position": {
        "x": -595.970762090258,
        "y": 417.51233836527825
       },
       "selectable": false
      }
     },
     "59c1c31b649f4bd9a627de430fec52c3": {
      "model_module": "jupyter-cytoscape",
      "model_module_version": "^1.3.3",
      "model_name": "EdgeModel",
      "state": {
       "_model_module_version": "^1.3.3",
       "_view_module_version": "^1.3.3",
       "data": {
        "_igraph_index": 35,
        "id": "48ae5560-56d0-4147-8865-353ae9cc8073",
        "source": "2175196",
        "target": "2204130",
        "type": "EXPRESSES_AeG"
       },
       "selectable": false
      }
     },
     "5b9b26f474b146309f9ae9031424ae70": {
      "model_module": "jupyter-cytoscape",
      "model_module_version": "^1.3.3",
      "model_name": "NodeModel",
      "state": {
       "_model_module_version": "^1.3.3",
       "_view_module_version": "^1.3.3",
       "data": {
        "_igraph_index": 4,
        "category": "Gene",
        "feature_name": "F2R",
        "id": "2191576",
        "identifier": 2149,
        "in_query": 1,
        "name": "2191576",
        "source": "Entrez Gene"
       },
       "grabbable": true,
       "grabbed": false,
       "position": {
        "x": 345.767537635387,
        "y": 537.1077348382561
       },
       "selectable": false
      }
     },
     "5b9d467fca9540a4b4c4d24a142e5c7f": {
      "model_module": "jupyter-cytoscape",
      "model_module_version": "^1.3.3",
      "model_name": "EdgeModel",
      "state": {
       "_model_module_version": "^1.3.3",
       "_view_module_version": "^1.3.3",
       "data": {
        "_igraph_index": 10,
        "id": "2eaf7fba-b9e2-42ca-93b9-d21c7de22af8",
        "source": "281737",
        "target": "2121853",
        "type": "BINDS_CbP"
       },
       "selectable": false
      }
     },
     "5c43a252b88044ddb270e27275421351": {
      "model_module": "jupyter-cytoscape",
      "model_module_version": "^1.3.3",
      "model_name": "NodeModel",
      "state": {
       "_model_module_version": "^1.3.3",
       "_view_module_version": "^1.3.3",
       "data": {
        "_igraph_index": 0,
        "category": "Anatomy",
        "feature_name": "urinary bladder",
        "id": "2175196",
        "identifier": "UBERON:0001255",
        "in_query": 0,
        "name": "2175196",
        "source": "Uberon"
       },
       "grabbable": true,
       "grabbed": false,
       "position": {
        "x": 538.267538635387,
        "y": 196.63186136676745
       },
       "selectable": false
      }
     },
     "5dce80be65b24dd2973104a1d625c89a": {
      "model_module": "jupyter-cytoscape",
      "model_module_version": "^1.3.3",
      "model_name": "EdgeModel",
      "state": {
       "_model_module_version": "^1.3.3",
       "_view_module_version": "^1.3.3",
       "data": {
        "_igraph_index": 13,
        "id": "d48fb5ee-a9f4-4c92-a277-07f2a4ce241e",
        "source": "2175238",
        "target": "2193224",
        "type": "DOWNREGULATES_AdG"
       },
       "selectable": false
      }
     },
     "6017b28123774f0d814d32917d98b03a": {
      "model_module": "jupyter-cytoscape",
      "model_module_version": "^1.3.3",
      "model_name": "NodeModel",
      "state": {
       "_model_module_version": "^1.3.3",
       "_view_module_version": "^1.3.3",
       "data": {
        "_igraph_index": 7,
        "category": "Protein",
        "feature_name": "A0A0S2Z478_HUMAN",
        "id": "1994213",
        "identifier": "A0A0S2Z478",
        "in_query": 1,
        "name": "1994213",
        "source": "UniProt"
       },
       "grabbable": true,
       "grabbed": false,
       "position": {
        "x": 741.529244909742,
        "y": 250.10304601409322
       },
       "selectable": false
      }
     },
     "608e79d2c97e4782b330d2e30f704da8": {
      "model_module": "jupyter-cytoscape",
      "model_module_version": "^1.3.3",
      "model_name": "NodeModel",
      "state": {
       "_model_module_version": "^1.3.3",
       "_view_module_version": "^1.3.3",
       "data": {
        "_igraph_index": 45,
        "category": "ProteinDomain",
        "feature_name": "PDZ domain",
        "id": "2357825",
        "identifier": "PF00595",
        "in_query": 0,
        "name": "2357825",
        "source": "Pfam"
       },
       "grabbable": true,
       "grabbed": false,
       "position": {
        "x": 169.02924190974207,
        "y": 314.65713463670653
       },
       "selectable": false
      }
     },
     "64b4e57b02e74f39b853b27f5423e0a1": {
      "model_module": "jupyter-cytoscape",
      "model_module_version": "^1.3.3",
      "model_name": "EdgeModel",
      "state": {
       "_model_module_version": "^1.3.3",
       "_view_module_version": "^1.3.3",
       "data": {
        "_igraph_index": 22,
        "id": "05477c15-a2c9-4628-8e24-36b89bbba737",
        "source": "2175238",
        "target": "2195172",
        "type": "EXPRESSES_AeG"
       },
       "selectable": false
      }
     },
     "64f2140b64044dbf9d8006a43c8b6e30": {
      "model_module": "jupyter-cytoscape",
      "model_module_version": "^1.3.3",
      "model_name": "NodeModel",
      "state": {
       "_model_module_version": "^1.3.3",
       "_view_module_version": "^1.3.3",
       "data": {
        "_igraph_index": 5,
        "category": "Protein",
        "feature_name": "A0A024RDA5_HUMAN",
        "id": "1979810",
        "identifier": "A0A024RDA5",
        "in_query": 1,
        "name": "1979810",
        "source": "UniProt"
       },
       "grabbable": true,
       "grabbed": false,
       "position": {
        "x": 1121.529246909742,
        "y": 445.1030470140932
       },
       "selectable": false
      }
     },
     "65bfa9e422f040beb388399610702d2e": {
      "model_module": "jupyter-cytoscape",
      "model_module_version": "^1.3.3",
      "model_name": "EdgeModel",
      "state": {
       "_model_module_version": "^1.3.3",
       "_view_module_version": "^1.3.3",
       "data": {
        "_igraph_index": 45,
        "id": "bc7b9208-614c-4f6c-b58b-3669eab9fb0d",
        "source": "2364080",
        "target": "1982480",
        "type": "PARTOF_PDpP"
       },
       "selectable": false
      }
     },
     "67285fd753324a86bdd7b55dbba82f8f": {
      "model_module": "jupyter-cytoscape",
      "model_module_version": "^1.3.3",
      "model_name": "EdgeModel",
      "state": {
       "_model_module_version": "^1.3.3",
       "_view_module_version": "^1.3.3",
       "data": {
        "_igraph_index": 46,
        "id": "32c6eb34-e38f-45a2-b897-548e991d889e",
        "source": "2175238",
        "target": "2206864",
        "type": "DOWNREGULATES_AdG"
       },
       "selectable": false
      }
     },
     "676113f515964362acc1d71adca6b0e4": {
      "model_module": "jupyter-cytoscape",
      "model_module_version": "^1.3.3",
      "model_name": "NodeModel",
      "state": {
       "_model_module_version": "^1.3.3",
       "_view_module_version": "^1.3.3",
       "data": {
        "_igraph_index": 46,
        "category": "ProteinDomain",
        "feature_name": "Protein kinase domain",
        "id": "2364080",
        "identifier": "PF00069",
        "in_query": 0,
        "name": "2364080",
        "source": "Pfam"
       },
       "grabbable": true,
       "grabbed": false,
       "position": {
        "x": 549.0292439097421,
        "y": 334.78601289034833
       },
       "selectable": false
      }
     },
     "69f3fc003ddf4fcd9801258dbc06960e": {
      "model_module": "jupyter-cytoscape",
      "model_module_version": "^1.3.3",
      "model_name": "NodeModel",
      "state": {
       "_model_module_version": "^1.3.3",
       "_view_module_version": "^1.3.3",
       "data": {
        "_igraph_index": 26,
        "category": "Protein",
        "feature_name": "PLDX1_HUMAN",
        "id": "2142755",
        "identifier": "Q8IUK5",
        "in_query": 1,
        "name": "2142755",
        "source": "UniProt"
       },
       "grabbable": true,
       "grabbed": false,
       "position": {
        "x": 979.0931214625521,
        "y": 640.1030480140932
       },
       "selectable": false
      }
     },
     "6aff4c80cf3c420496f4db8f5ea8edb9": {
      "model_module": "jupyter-cytoscape",
      "model_module_version": "^1.3.3",
      "model_name": "NodeModel",
      "state": {
       "_model_module_version": "^1.3.3",
       "_view_module_version": "^1.3.3",
       "data": {
        "_igraph_index": 20,
        "category": "Protein",
        "feature_name": "CAH5A_HUMAN",
        "id": "2119835",
        "identifier": "P35218",
        "in_query": 1,
        "name": "2119835",
        "source": "UniProt"
       },
       "grabbable": true,
       "grabbed": false,
       "position": {
        "x": 746.529244909742,
        "y": -139.89695598590677
       },
       "selectable": false
      }
     },
     "6b36f7bb1c8b405ab0fed704f4f72267": {
      "model_module": "jupyter-cytoscape",
      "model_module_version": "^1.3.3",
      "model_name": "EdgeModel",
      "state": {
       "_model_module_version": "^1.3.3",
       "_view_module_version": "^1.3.3",
       "data": {
        "_igraph_index": 2,
        "id": "7b83a904-557c-497a-8901-0fd482ff9a05",
        "source": "281737",
        "target": "2115094",
        "type": "BINDS_CbP"
       },
       "selectable": false
      }
     },
     "70e2d4739d674cfd894c1d24d8c19457": {
      "model_module": "jupyter-cytoscape",
      "model_module_version": "^1.3.3",
      "model_name": "EdgeModel",
      "state": {
       "_model_module_version": "^1.3.3",
       "_view_module_version": "^1.3.3",
       "data": {
        "_igraph_index": 26,
        "id": "75c310dd-63e6-4e87-b06c-d925c2ee9ce3",
        "source": "2193030",
        "target": "2131071",
        "type": "ENCODES_GeP"
       },
       "selectable": false
      }
     },
     "70ff1e7c24b74440b904e98cbc619405": {
      "model_module": "jupyter-cytoscape",
      "model_module_version": "^1.3.3",
      "model_name": "NodeModel",
      "state": {
       "_model_module_version": "^1.3.3",
       "_view_module_version": "^1.3.3",
       "data": {
        "_igraph_index": 3,
        "category": "Protein",
        "feature_name": "A0A024R1H6_HUMAN",
        "id": "1977273",
        "identifier": "A0A024R1H6",
        "in_query": 0,
        "name": "1977273",
        "source": "UniProt"
       },
       "grabbable": true,
       "grabbed": false,
       "position": {
        "x": 939.0292459097421,
        "y": -127.39695598590679
       },
       "selectable": false
      }
     },
     "71179d0578c6472dbf19154e9ac01268": {
      "model_module": "jupyter-cytoscape",
      "model_module_version": "^1.3.3",
      "model_name": "EdgeModel",
      "state": {
       "_model_module_version": "^1.3.3",
       "_view_module_version": "^1.3.3",
       "data": {
        "_igraph_index": 29,
        "id": "44508a67-27ff-4f45-8870-2537c4166242",
        "source": "2175196",
        "target": "2198900",
        "type": "DOWNREGULATES_AdG"
       },
       "selectable": false
      }
     },
     "712558771de34d209fe7ad9a6e8c3294": {
      "model_module": "jupyter-cytoscape",
      "model_module_version": "^1.3.3",
      "model_name": "NodeModel",
      "state": {
       "_model_module_version": "^1.3.3",
       "_view_module_version": "^1.3.3",
       "data": {
        "_igraph_index": 40,
        "category": "Gene",
        "feature_name": "SOD2",
        "id": "2195048",
        "identifier": 6648,
        "in_query": 0,
        "name": "2195048",
        "source": "Entrez Gene"
       },
       "grabbable": true,
       "grabbed": false,
       "position": {
        "x": 1129.029246909742,
        "y": -9.94928098382556
       },
       "selectable": false
      }
     },
     "72c54bac66684f2d9c151c463559b089": {
      "model_module": "jupyter-cytoscape",
      "model_module_version": "^1.3.3",
      "model_name": "NodeModel",
      "state": {
       "_model_module_version": "^1.3.3",
       "_view_module_version": "^1.3.3",
       "data": {
        "_igraph_index": 15,
        "category": "Gene",
        "feature_name": "ADAMTS13",
        "id": "2198566",
        "identifier": 11093,
        "in_query": 1,
        "name": "2198566",
        "source": "Entrez Gene"
       },
       "grabbable": true,
       "grabbed": false,
       "position": {
        "x": 930.767540635387,
        "y": 401.8884739983664
       },
       "selectable": false
      }
     },
     "72e82ab4402d41e98dbffe1769d459bd": {
      "model_module": "jupyter-cytoscape",
      "model_module_version": "^1.3.3",
      "model_name": "NodeModel",
      "state": {
       "_model_module_version": "^1.3.3",
       "_view_module_version": "^1.3.3",
       "data": {
        "_igraph_index": 3,
        "category": "Gene",
        "feature_name": "CRH",
        "id": "2190994",
        "identifier": 1392,
        "in_query": 1,
        "name": "2190994",
        "source": "Entrez Gene"
       },
       "grabbable": true,
       "grabbed": false,
       "position": {
        "x": 1120.767541635387,
        "y": 206.88847299836638
       },
       "selectable": false
      }
     },
     "7342cf359d944fadb0d2f27d2a20ab4a": {
      "model_module": "jupyter-cytoscape",
      "model_module_version": "^1.3.3",
      "model_name": "EdgeModel",
      "state": {
       "_model_module_version": "^1.3.3",
       "_view_module_version": "^1.3.3",
       "data": {
        "_igraph_index": 2,
        "id": "590b4185-771f-4ed5-9afe-7747a4e4e5a1",
        "source": "2175196",
        "target": "2190994",
        "type": "DOWNREGULATES_AdG"
       },
       "selectable": false
      }
     },
     "73e92f275bbd446bb88fec79c772d564": {
      "model_module": "jupyter-cytoscape",
      "model_module_version": "^1.3.3",
      "model_name": "EdgeModel",
      "state": {
       "_model_module_version": "^1.3.3",
       "_view_module_version": "^1.3.3",
       "data": {
        "_igraph_index": 43,
        "id": "fb744744-a843-4e1b-943e-aed31b96aeb0",
        "source": "2175196",
        "target": "2205756",
        "type": "EXPRESSES_AeG"
       },
       "selectable": false
      }
     },
     "7516317ceaf641289769cd91fd538865": {
      "model_module": "jupyter-cytoscape",
      "model_module_version": "^1.3.3",
      "model_name": "NodeModel",
      "state": {
       "_model_module_version": "^1.3.3",
       "_view_module_version": "^1.3.3",
       "data": {
        "_igraph_index": 24,
        "category": "Protein",
        "feature_name": "Q59H44_HUMAN",
        "id": "2131071",
        "identifier": "Q59H44",
        "in_query": 1,
        "name": "2131071",
        "source": "UniProt"
       },
       "grabbable": true,
       "grabbed": false,
       "position": {
        "x": 171.52924190974207,
        "y": -72.84286736329345
       },
       "selectable": false
      }
     },
     "75b36dc3bf454521840e1ffbf4744d25": {
      "model_module": "jupyter-cytoscape",
      "model_module_version": "^1.3.3",
      "model_name": "EdgeModel",
      "state": {
       "_model_module_version": "^1.3.3",
       "_view_module_version": "^1.3.3",
       "data": {
        "_igraph_index": 21,
        "id": "b0401292-b3f0-4389-9e56-d5c78e7274b5",
        "source": "2175196",
        "target": "2191576",
        "type": "DOWNREGULATES_AdG"
       },
       "selectable": false
      }
     },
     "76be14c73a3241d79d3f55327cf2970d": {
      "model_module": "jupyter-cytoscape",
      "model_module_version": "^1.3.3",
      "model_name": "EdgeModel",
      "state": {
       "_model_module_version": "^1.3.3",
       "_view_module_version": "^1.3.3",
       "data": {
        "_igraph_index": 48,
        "id": "aae474b8-9313-4d27-bad5-27d77ebe362e",
        "source": "2369632",
        "target": "1977273",
        "type": "PARTOF_PDpP"
       },
       "selectable": false
      }
     },
     "78049c689ae54479ae7fd26fece34288": {
      "model_module": "jupyter-cytoscape",
      "model_module_version": "^1.3.3",
      "model_name": "EdgeModel",
      "state": {
       "_model_module_version": "^1.3.3",
       "_view_module_version": "^1.3.3",
       "data": {
        "_igraph_index": 40,
        "id": "9fa11e4e-ca62-4873-a62a-e60355912dde",
        "source": "2175196",
        "target": "2205126",
        "type": "EXPRESSES_AeG"
       },
       "selectable": false
      }
     },
     "786b7af1787846acaef2de66ac7540e1": {
      "model_module": "jupyter-cytoscape",
      "model_module_version": "^1.3.3",
      "model_name": "EdgeModel",
      "state": {
       "_model_module_version": "^1.3.3",
       "_view_module_version": "^1.3.3",
       "data": {
        "_igraph_index": 15,
        "id": "1ec7d523-da1e-4d79-a0b4-e6b0e5372aea",
        "source": "2150833",
        "target": "2115173",
        "type": "INTERACTS_PiP"
       },
       "selectable": false
      }
     },
     "7a30d3852741452d949a76ab7d4ce8cb": {
      "model_module": "jupyter-cytoscape",
      "model_module_version": "^1.3.3",
      "model_name": "EdgeModel",
      "state": {
       "_model_module_version": "^1.3.3",
       "_view_module_version": "^1.3.3",
       "data": {
        "_igraph_index": 6,
        "id": "14927a6b-88d8-42d9-abf5-3d19d9df9582",
        "source": "2175196",
        "target": "2191686",
        "type": "EXPRESSES_AeG"
       },
       "selectable": false
      }
     },
     "7a3c96012a484b00b7a89f313486515e": {
      "model_module": "jupyter-cytoscape",
      "model_module_version": "^1.3.3",
      "model_name": "EdgeModel",
      "state": {
       "_model_module_version": "^1.3.3",
       "_view_module_version": "^1.3.3",
       "data": {
        "_igraph_index": 17,
        "id": "044dc590-b79b-427d-86f0-6eb712e281e3",
        "source": "2175238",
        "target": "2193639",
        "type": "DOWNREGULATES_AdG"
       },
       "selectable": false
      }
     },
     "7a5534abf5d74a0391aef0e3fe50f0fc": {
      "model_module": "jupyter-cytoscape",
      "model_module_version": "^1.3.3",
      "model_name": "EdgeModel",
      "state": {
       "_model_module_version": "^1.3.3",
       "_view_module_version": "^1.3.3",
       "data": {
        "_igraph_index": 41,
        "id": "844ca67f-7e98-4618-86fe-ca45ec329523",
        "source": "2175196",
        "target": "2205318",
        "type": "EXPRESSES_AeG"
       },
       "selectable": false
      }
     },
     "7e7deada84c64231aba021f630a50752": {
      "model_module": "jupyter-cytoscape",
      "model_module_version": "^1.3.3",
      "model_name": "EdgeModel",
      "state": {
       "_model_module_version": "^1.3.3",
       "_view_module_version": "^1.3.3",
       "data": {
        "_igraph_index": 8,
        "id": "f892d0b4-2958-4f15-821f-0dee2e48c160",
        "source": "2119896",
        "target": "2116028",
        "type": "INTERACTS_PiP"
       },
       "selectable": false
      }
     },
     "7ebd74cd70af4d5986039f8db4536a8b": {
      "model_module": "jupyter-cytoscape",
      "model_module_version": "^1.3.3",
      "model_name": "NodeModel",
      "state": {
       "_model_module_version": "^1.3.3",
       "_view_module_version": "^1.3.3",
       "data": {
        "_igraph_index": 0,
        "category": "Compound",
        "feature_name": "Nilotinib",
        "id": "281737",
        "identifier": "DB04868",
        "in_query": 0,
        "name": "281737",
        "source": "ChEMBL"
       },
       "grabbable": true,
       "grabbed": false,
       "position": {
        "x": 364.0292429097421,
        "y": 144.7860118903483
       },
       "selectable": false
      }
     },
     "7f9a9311d6eb47d4982aace6c7366a08": {
      "model_module": "jupyter-cytoscape",
      "model_module_version": "^1.3.3",
      "model_name": "EdgeModel",
      "state": {
       "_model_module_version": "^1.3.3",
       "_view_module_version": "^1.3.3",
       "data": {
        "_igraph_index": 49,
        "id": "e54bf841-bfc0-47e5-b0c9-0d528d35dd3b",
        "source": "2369632",
        "target": "2042877",
        "type": "PARTOF_PDpP"
       },
       "selectable": false
      }
     },
     "7fb90e4274fe4d93b41e4d37e35e5e9c": {
      "model_module": "@jupyter-widgets/base",
      "model_module_version": "2.0.0",
      "model_name": "LayoutModel",
      "state": {}
     },
     "812c1762eba0470cabd3d65a6ead6915": {
      "model_module": "jupyter-cytoscape",
      "model_module_version": "^1.3.3",
      "model_name": "EdgeModel",
      "state": {
       "_model_module_version": "^1.3.3",
       "_view_module_version": "^1.3.3",
       "data": {
        "_igraph_index": 50,
        "id": "a0656382-5ffd-4110-b69e-e78864765d90",
        "source": "2369632",
        "target": "2115299",
        "type": "PARTOF_PDpP"
       },
       "selectable": false
      }
     },
     "8158781f743343ebaa33bad3ae32ad52": {
      "model_module": "jupyter-cytoscape",
      "model_module_version": "^1.3.3",
      "model_name": "NodeModel",
      "state": {
       "_model_module_version": "^1.3.3",
       "_view_module_version": "^1.3.3",
       "data": {
        "_igraph_index": 43,
        "category": "Gene",
        "feature_name": "SIRT5",
        "id": "2205126",
        "identifier": 23408,
        "in_query": 0,
        "name": "2205126",
        "source": "Entrez Gene"
       },
       "grabbable": true,
       "grabbed": false,
       "position": {
        "x": 939.0292459097421,
        "y": 62.603045014093226
       },
       "selectable": false
      }
     },
     "816d5d35f1c947fba573222ae15cb14f": {
      "model_module": "jupyter-cytoscape",
      "model_module_version": "^1.3.3",
      "model_name": "NodeModel",
      "state": {
       "_model_module_version": "^1.3.3",
       "_view_module_version": "^1.3.3",
       "data": {
        "_igraph_index": 16,
        "category": "Protein",
        "feature_name": "ANGL7_HUMAN",
        "id": "2116028",
        "identifier": "O43827",
        "in_query": 1,
        "name": "2116028",
        "source": "UniProt"
       },
       "grabbable": true,
       "grabbed": false,
       "position": {
        "x": -213.47076009025793,
        "y": 44.00631766802073
       },
       "selectable": false
      }
     },
     "83cdcfc368ec44228d46f3b6e08542a4": {
      "model_module": "jupyter-cytoscape",
      "model_module_version": "^1.3.3",
      "model_name": "EdgeModel",
      "state": {
       "_model_module_version": "^1.3.3",
       "_view_module_version": "^1.3.3",
       "data": {
        "_igraph_index": 31,
        "id": "e107c2f8-a320-4dd1-8032-37954dbadd75",
        "source": "2175196",
        "target": "2193639",
        "type": "EXPRESSES_AeG"
       },
       "selectable": false
      }
     },
     "84985b6b9cf9470a8599b88f4cee1a2a": {
      "model_module": "jupyter-cytoscape",
      "model_module_version": "^1.3.3",
      "model_name": "EdgeModel",
      "state": {
       "_model_module_version": "^1.3.3",
       "_view_module_version": "^1.3.3",
       "data": {
        "_igraph_index": 52,
        "id": "6580ee34-ed1a-4689-9e0a-bfedfff34e39",
        "source": "2369632",
        "target": "2119896",
        "type": "PARTOF_PDpP"
       },
       "selectable": false
      }
     },
     "84d50836bbf24b5dbfefc9e2877d24fc": {
      "model_module": "jupyter-cytoscape",
      "model_module_version": "^1.3.3",
      "model_name": "NodeModel",
      "state": {
       "_model_module_version": "^1.3.3",
       "_view_module_version": "^1.3.3",
       "data": {
        "_igraph_index": 23,
        "category": "Gene",
        "feature_name": "PLXDC1",
        "id": "2205756",
        "identifier": 57125,
        "in_query": 1,
        "name": "2205756",
        "source": "Entrez Gene"
       },
       "grabbable": true,
       "grabbed": false,
       "position": {
        "x": 539.1403509793815,
        "y": -366.6648408291814
       },
       "selectable": false
      }
     },
     "84ffe88633e546d5a77d562335fdcfba": {
      "model_module": "jupyter-cytoscape",
      "model_module_version": "^1.3.3",
      "model_name": "NodeModel",
      "state": {
       "_model_module_version": "^1.3.3",
       "_view_module_version": "^1.3.3",
       "data": {
        "_igraph_index": 2,
        "category": "Gene",
        "feature_name": "CA5A",
        "id": "2190502",
        "identifier": 763,
        "in_query": 1,
        "name": "2190502",
        "source": "Entrez Gene"
       },
       "grabbable": true,
       "grabbed": false,
       "position": {
        "x": -44.232464364613016,
        "y": 272.1588670192984
       },
       "selectable": false
      }
     },
     "85107bb2b48f4781b03205e34e051e3a": {
      "model_module": "jupyter-cytoscape",
      "model_module_version": "^1.3.3",
      "model_name": "NodeModel",
      "state": {
       "_model_module_version": "^1.3.3",
       "_view_module_version": "^1.3.3",
       "data": {
        "_igraph_index": 41,
        "category": "Gene",
        "feature_name": "AGR2",
        "id": "2198127",
        "identifier": 10551,
        "in_query": 0,
        "name": "2198127",
        "source": "Entrez Gene"
       },
       "grabbable": true,
       "grabbed": false,
       "position": {
        "x": 1319.029247909742,
        "y": -14.94928098382556
       },
       "selectable": false
      }
     },
     "8513615f076e40f2815f4e29964368af": {
      "model_module": "jupyter-cytoscape",
      "model_module_version": "^1.3.3",
      "model_name": "EdgeModel",
      "state": {
       "_model_module_version": "^1.3.3",
       "_view_module_version": "^1.3.3",
       "data": {
        "_igraph_index": 37,
        "id": "5021483e-fd37-405d-869b-f39022dc25d1",
        "source": "2175196",
        "target": "2204877",
        "type": "EXPRESSES_AeG"
       },
       "selectable": false
      }
     },
     "852fd1a1787549f888fe3bd8cad8df7a": {
      "model_module": "jupyter-cytoscape",
      "model_module_version": "^1.3.3",
      "model_name": "NodeModel",
      "state": {
       "_model_module_version": "^1.3.3",
       "_view_module_version": "^1.3.3",
       "data": {
        "_igraph_index": 16,
        "category": "Gene",
        "feature_name": "PRSS27",
        "id": "2198900",
        "identifier": 83886,
        "in_query": 1,
        "name": "2198900",
        "source": "Entrez Gene"
       },
       "grabbable": true,
       "grabbed": false,
       "position": {
        "x": 150.76753663538696,
        "y": 347.1077338382561
       },
       "selectable": false
      }
     },
     "87aa668109094a3bb15db561679fa1c5": {
      "model_module": "jupyter-cytoscape",
      "model_module_version": "^1.3.3",
      "model_name": "EdgeModel",
      "state": {
       "_model_module_version": "^1.3.3",
       "_view_module_version": "^1.3.3",
       "data": {
        "_igraph_index": 26,
        "id": "c01604fe-7b21-4f48-a2ee-e73936bfa657",
        "source": "2175238",
        "target": "2198127",
        "type": "DOWNREGULATES_AdG"
       },
       "selectable": false
      }
     },
     "89fa7b9416564894af45773a3c8c544b": {
      "model_module": "jupyter-cytoscape",
      "model_module_version": "^1.3.3",
      "model_name": "GraphModel",
      "state": {
       "_adj": {},
       "_model_module_version": "^1.3.3",
       "_view_module": "jupyter-cytoscape",
       "_view_module_version": "^1.3.3"
      }
     },
     "8b4915a72c184ac9909fb655bebfe3fc": {
      "model_module": "jupyter-cytoscape",
      "model_module_version": "^1.3.3",
      "model_name": "EdgeModel",
      "state": {
       "_model_module_version": "^1.3.3",
       "_view_module_version": "^1.3.3",
       "data": {
        "_igraph_index": 27,
        "id": "71de1070-6a9c-4c34-9b98-3762778a9a3b",
        "source": "2175196",
        "target": "2193030",
        "type": "EXPRESSES_AeG"
       },
       "selectable": false
      }
     },
     "8b5af45926c140feb0aa856c4447edd1": {
      "model_module": "jupyter-cytoscape",
      "model_module_version": "^1.3.3",
      "model_name": "EdgeModel",
      "state": {
       "_model_module_version": "^1.3.3",
       "_view_module_version": "^1.3.3",
       "data": {
        "_igraph_index": 33,
        "id": "f7780e66-b2b5-4e9b-bf1d-7866c2301ad4",
        "source": "2175196",
        "target": "2195048",
        "type": "EXPRESSES_AeG"
       },
       "selectable": false
      }
     },
     "8b7eb52660fe4131b9f3c8660b44eedd": {
      "model_module": "jupyter-cytoscape",
      "model_module_version": "^1.3.3",
      "model_name": "NodeModel",
      "state": {
       "_model_module_version": "^1.3.3",
       "_view_module_version": "^1.3.3",
       "data": {
        "_igraph_index": 37,
        "category": "Gene",
        "feature_name": "LY75",
        "id": "2193030",
        "identifier": 4065,
        "in_query": 0,
        "name": "2193030",
        "source": "Entrez Gene"
       },
       "grabbable": true,
       "grabbed": false,
       "position": {
        "x": 364.0292429097421,
        "y": -45.2139891096517
       },
       "selectable": false
      }
     },
     "8efa6b76d3cb44a0a849fc007f591dfc": {
      "model_module": "jupyter-cytoscape",
      "model_module_version": "^1.3.3",
      "model_name": "NodeModel",
      "state": {
       "_model_module_version": "^1.3.3",
       "_view_module_version": "^1.3.3",
       "data": {
        "_igraph_index": 1,
        "category": "Anatomy",
        "feature_name": "putamen",
        "id": "2175238",
        "identifier": "UBERON:0001874",
        "in_query": 0,
        "name": "2175238",
        "source": "Uberon"
       },
       "grabbable": true,
       "grabbed": false,
       "position": {
        "x": 348.267537635387,
        "y": 149.6077328382561
       },
       "selectable": false
      }
     },
     "903e2fd6bbf9442b9422d36a1937936d": {
      "model_module": "jupyter-cytoscape",
      "model_module_version": "^1.3.3",
      "model_name": "NodeModel",
      "state": {
       "_model_module_version": "^1.3.3",
       "_view_module_version": "^1.3.3",
       "data": {
        "_igraph_index": 27,
        "category": "Protein",
        "feature_name": "BANK1_HUMAN",
        "id": "2145136",
        "identifier": "Q8NDB2",
        "in_query": 1,
        "name": "2145136",
        "source": "UniProt"
       },
       "grabbable": true,
       "grabbed": false,
       "position": {
        "x": 1316.5292479097418,
        "y": 567.5507220161744
       },
       "selectable": false
      }
     },
     "924f9b75a1ec4f3bb7944016dd9c72e7": {
      "model_module": "jupyter-cytoscape",
      "model_module_version": "^1.3.3",
      "model_name": "EdgeModel",
      "state": {
       "_model_module_version": "^1.3.3",
       "_view_module_version": "^1.3.3",
       "data": {
        "_igraph_index": 12,
        "id": "bef9aea7-1ef5-43a5-a6ac-89ae51477692",
        "source": "2175238",
        "target": "2193030",
        "type": "DOWNREGULATES_AdG"
       },
       "selectable": false
      }
     },
     "95ac93d08bc74e608991c1af5a866c36": {
      "model_module": "jupyter-cytoscape",
      "model_module_version": "^1.3.3",
      "model_name": "EdgeModel",
      "state": {
       "_model_module_version": "^1.3.3",
       "_view_module_version": "^1.3.3",
       "data": {
        "_igraph_index": 24,
        "id": "bca7477b-cfde-4bf2-966e-61dc17ebbd52",
        "source": "2175238",
        "target": "2197852",
        "type": "DOWNREGULATES_AdG"
       },
       "selectable": false
      }
     },
     "96f75a75e53b4f17a334998da3a2a506": {
      "model_module": "jupyter-cytoscape",
      "model_module_version": "^1.3.3",
      "model_name": "EdgeModel",
      "state": {
       "_model_module_version": "^1.3.3",
       "_view_module_version": "^1.3.3",
       "data": {
        "_igraph_index": 15,
        "id": "2b752495-b506-4c06-9dd4-9af9a3853698",
        "source": "2175238",
        "target": "2193613",
        "type": "EXPRESSES_AeG"
       },
       "selectable": false
      }
     },
     "97a17aa8139f4df9bf2b1e9a843fa2d5": {
      "model_module": "jupyter-cytoscape",
      "model_module_version": "^1.3.3",
      "model_name": "NodeModel",
      "state": {
       "_model_module_version": "^1.3.3",
       "_view_module_version": "^1.3.3",
       "data": {
        "_igraph_index": 8,
        "category": "Gene",
        "feature_name": "MMP10",
        "id": "2193224",
        "identifier": 4319,
        "in_query": 1,
        "name": "2193224",
        "source": "Entrez Gene"
       },
       "grabbable": true,
       "grabbed": false,
       "position": {
        "x": 145.76753663538696,
        "y": -42.89226816174389
       },
       "selectable": false
      }
     },
     "97fb0a62594f441e8dbbedb4edcf1d60": {
      "model_module": "jupyter-cytoscape",
      "model_module_version": "^1.3.3",
      "model_name": "EdgeModel",
      "state": {
       "_model_module_version": "^1.3.3",
       "_view_module_version": "^1.3.3",
       "data": {
        "_igraph_index": 45,
        "id": "212db48b-7059-428b-9160-1f9d10a12b64",
        "source": "2175196",
        "target": "2206864",
        "type": "EXPRESSES_AeG"
       },
       "selectable": false
      }
     },
     "9804334f87074c739de4656265c40cc8": {
      "model_module": "jupyter-cytoscape",
      "model_module_version": "^1.3.3",
      "model_name": "NodeModel",
      "state": {
       "_model_module_version": "^1.3.3",
       "_view_module_version": "^1.3.3",
       "data": {
        "_igraph_index": 10,
        "category": "Protein",
        "feature_name": "B2RAP9_HUMAN",
        "id": "2042877",
        "identifier": "B2RAP9",
        "in_query": 1,
        "name": "2042877",
        "source": "UniProt"
       },
       "grabbable": true,
       "grabbed": false,
       "position": {
        "x": -798.470763090258,
        "y": 152.1459662266318
       },
       "selectable": false
      }
     },
     "9817e14a63c443669332f36a760f501f": {
      "model_module": "jupyter-cytoscape",
      "model_module_version": "^1.3.3",
      "model_name": "NodeModel",
      "state": {
       "_model_module_version": "^1.3.3",
       "_view_module_version": "^1.3.3",
       "data": {
        "_igraph_index": 28,
        "category": "Protein",
        "feature_name": "Q96DN7_HUMAN",
        "id": "2148602",
        "identifier": "Q96DN7",
        "in_query": 1,
        "name": "2148602",
        "source": "UniProt"
       },
       "grabbable": true,
       "grabbed": false,
       "position": {
        "x": 1701.5292499097416,
        "y": 327.82552029880327
       },
       "selectable": false
      }
     },
     "98bd5baf971544c88649ad738cb2e54e": {
      "model_module": "jupyter-cytoscape",
      "model_module_version": "^1.3.3",
      "model_name": "NodeModel",
      "state": {
       "_model_module_version": "^1.3.3",
       "_view_module_version": "^1.3.3",
       "data": {
        "_igraph_index": 11,
        "category": "Gene",
        "feature_name": "SOD2",
        "id": "2195048",
        "identifier": 6648,
        "in_query": 1,
        "name": "2195048",
        "source": "Entrez Gene"
       },
       "grabbable": true,
       "grabbed": false,
       "position": {
        "x": 730.7675396353869,
        "y": -171.66483982918135
       },
       "selectable": false
      }
     },
     "9979105ad4e04509a7bcf7e6ee1248d8": {
      "model_module": "jupyter-cytoscape",
      "model_module_version": "^1.3.3",
      "model_name": "EdgeModel",
      "state": {
       "_model_module_version": "^1.3.3",
       "_view_module_version": "^1.3.3",
       "data": {
        "_igraph_index": 34,
        "id": "8867dbb6-be71-44ae-8394-bbc8ac7d15bd",
        "source": "2175238",
        "target": "2203649",
        "type": "DOWNREGULATES_AdG"
       },
       "selectable": false
      }
     },
     "9fbeec1f7974427694f848880c5d226c": {
      "model_module": "jupyter-cytoscape",
      "model_module_version": "^1.3.3",
      "model_name": "NodeModel",
      "state": {
       "_model_module_version": "^1.3.3",
       "_view_module_version": "^1.3.3",
       "data": {
        "_igraph_index": 19,
        "category": "Protein",
        "feature_name": "MMP10_HUMAN",
        "id": "2118148",
        "identifier": "P09238",
        "in_query": 1,
        "name": "2118148",
        "source": "UniProt"
       },
       "grabbable": true,
       "grabbed": false,
       "position": {
        "x": 1316.5292479097418,
        "y": 372.55072101617435
       },
       "selectable": false
      }
     },
     "a0a12054942041be99bb88f385fdb452": {
      "model_module": "jupyter-cytoscape",
      "model_module_version": "^1.3.3",
      "model_name": "EdgeModel",
      "state": {
       "_model_module_version": "^1.3.3",
       "_view_module_version": "^1.3.3",
       "data": {
        "_igraph_index": 42,
        "id": "e112ac26-426d-482c-b06a-9368f0a98273",
        "source": "2175238",
        "target": "2205318",
        "type": "UPREGULATES_AuG"
       },
       "selectable": false
      }
     },
     "a0bb05c9774346f18fd4d8a7e87d22e9": {
      "model_module": "jupyter-cytoscape",
      "model_module_version": "^1.3.3",
      "model_name": "EdgeModel",
      "state": {
       "_model_module_version": "^1.3.3",
       "_view_module_version": "^1.3.3",
       "data": {
        "_igraph_index": 34,
        "id": "cb41a97a-4859-459c-920b-bdc7f3eb3bc1",
        "source": "2195048",
        "target": "2190994",
        "type": "UPREGULATES_GPuG"
       },
       "selectable": false
      }
     },
     "a25789149f2c47ac88cbf3e9a0a629e5": {
      "model_module": "jupyter-cytoscape",
      "model_module_version": "^1.3.3",
      "model_name": "EdgeModel",
      "state": {
       "_model_module_version": "^1.3.3",
       "_view_module_version": "^1.3.3",
       "data": {
        "_igraph_index": 27,
        "id": "99972631-c7e8-4fdb-adac-04716466a765",
        "source": "2175196",
        "target": "2198566",
        "type": "EXPRESSES_AeG"
       },
       "selectable": false
      }
     },
     "a3f816810ffa43bab46dfc35dab6c100": {
      "model_module": "jupyter-cytoscape",
      "model_module_version": "^1.3.3",
      "model_name": "NodeModel",
      "state": {
       "_model_module_version": "^1.3.3",
       "_view_module_version": "^1.3.3",
       "data": {
        "_igraph_index": 32,
        "category": "Protein",
        "feature_name": "Q9UG59_HUMAN",
        "id": "2156387",
        "identifier": "Q9UG59",
        "in_query": 1,
        "name": "2156387",
        "source": "UniProt"
       },
       "grabbable": true,
       "grabbed": false,
       "position": {
        "x": 1144.2353480945897,
        "y": -207.44928198382556
       },
       "selectable": false
      }
     },
     "a92501d8734d43abb365ae10533f6ac7": {
      "model_module": "jupyter-cytoscape",
      "model_module_version": "^1.3.3",
      "model_name": "CytoscapeModel",
      "state": {
       "_interaction_handlers": {},
       "_model_module_version": "^1.3.3",
       "_view_module_version": "^1.3.3",
       "auto_ungrabify": false,
       "autolock": false,
       "cytoscape_layout": {
        "edgeLengthVal": 50,
        "name": "cola",
        "nodeSpacing": 80,
        "title": "high_proteins"
       },
       "cytoscape_style": [
        {
         "selector": "node[feature_name]",
         "style": {
          "font-family": "helvetica",
          "font-size": "20px",
          "label": "data(feature_name)",
          "text-valign": "top"
         }
        },
        {
         "selector": "node[category=\"Protein\"]",
         "style": {
          "background-color": "blue"
         }
        },
        {
         "selector": "node[in_query=1]",
         "style": {
          "border-color": "red",
          "border-width": "5px"
         }
        },
        {
         "selector": "edge[type]",
         "style": {
          "label": "data(type)"
         }
        },
        {
         "selector": "edge.directed",
         "style": {
          "curve-style": "bezier",
          "target-arrow-shape": "triangle"
         }
        }
       ],
       "desktop_tap_threshold": 4,
       "graph": "IPY_MODEL_c16f7313dab8434d90954e1dbd4fb85c",
       "headless": false,
       "hide_edges_on_viewport": false,
       "layout": "IPY_MODEL_437ecdc392414d62815f84f408570c31",
       "max_zoom": 1e+50,
       "min_zoom": 1e-50,
       "motion_blur": false,
       "motion_blur_opacity": 0.2,
       "panning_enabled": true,
       "pixel_ratio": "auto",
       "rendered_position": {
        "renderedPosition": {
         "x": 100,
         "y": 100
        }
       },
       "selection_type": "single",
       "style_enabled": true,
       "texture_on_viewport": false,
       "tooltip_source": "feature_name",
       "touch_tap_threshold": 8,
       "user_panning_enabled": true,
       "user_zooming_enabled": true,
       "wheel_sensitivity": 1,
       "zoom": 2,
       "zooming_enabled": true
      }
     },
     "a99f5132de264e35bd9c386cc57502dd": {
      "model_module": "jupyter-cytoscape",
      "model_module_version": "^1.3.3",
      "model_name": "NodeModel",
      "state": {
       "_model_module_version": "^1.3.3",
       "_view_module_version": "^1.3.3",
       "data": {
        "_igraph_index": 34,
        "category": "Gene",
        "feature_name": "CRH",
        "id": "2190994",
        "identifier": 1392,
        "in_query": 0,
        "name": "2190994",
        "source": "Entrez Gene"
       },
       "grabbable": true,
       "grabbed": false,
       "position": {
        "x": -600.970762090258,
        "y": 32.512336365278216
       },
       "selectable": false
      }
     },
     "a9b9597b86944d519bde370a873e6aca": {
      "model_module": "jupyter-cytoscape",
      "model_module_version": "^1.3.3",
      "model_name": "EdgeModel",
      "state": {
       "_model_module_version": "^1.3.3",
       "_view_module_version": "^1.3.3",
       "data": {
        "_igraph_index": 13,
        "id": "b93b77ef-2d17-4964-87e4-2d4650addeaa",
        "source": "2140136",
        "target": "2115299",
        "type": "INTERACTS_PiP"
       },
       "selectable": false
      }
     },
     "a9fa4979843f4ff8a6a6a932671a053e": {
      "model_module": "jupyter-cytoscape",
      "model_module_version": "^1.3.3",
      "model_name": "NodeModel",
      "state": {
       "_model_module_version": "^1.3.3",
       "_view_module_version": "^1.3.3",
       "data": {
        "_igraph_index": 42,
        "category": "Gene",
        "feature_name": "HAO1",
        "id": "2203649",
        "identifier": 54363,
        "in_query": 0,
        "name": "2203649",
        "source": "Entrez Gene"
       },
       "grabbable": true,
       "grabbed": false,
       "position": {
        "x": 929.0292459097421,
        "y": 442.6030470140932
       },
       "selectable": false
      }
     },
     "ab21688772f141d8ac875b0e7a4199bd": {
      "model_module": "jupyter-cytoscape",
      "model_module_version": "^1.3.3",
      "model_name": "EdgeModel",
      "state": {
       "_model_module_version": "^1.3.3",
       "_view_module_version": "^1.3.3",
       "data": {
        "_igraph_index": 14,
        "id": "74ab2444-9cdb-4e30-a1b0-43a0e803265e",
        "source": "2175196",
        "target": "2193613",
        "type": "DOWNREGULATES_AdG"
       },
       "selectable": false
      }
     },
     "ab5067768b054a24a510f7a42d243834": {
      "model_module": "jupyter-cytoscape",
      "model_module_version": "^1.3.3",
      "model_name": "NodeModel",
      "state": {
       "_model_module_version": "^1.3.3",
       "_view_module_version": "^1.3.3",
       "data": {
        "_igraph_index": 1,
        "category": "Protein",
        "feature_name": "A0A024QZE4_HUMAN",
        "id": "1968891",
        "identifier": "A0A024QZE4",
        "in_query": 1,
        "name": "1968891",
        "source": "UniProt"
       },
       "grabbable": true,
       "grabbed": false,
       "position": {
        "x": 171.52924190974213,
        "y": 122.15713363670655
       },
       "selectable": false
      }
     },
     "ab87076775444e61adf9d5e0565eba3b": {
      "model_module": "jupyter-cytoscape",
      "model_module_version": "^1.3.3",
      "model_name": "EdgeModel",
      "state": {
       "_model_module_version": "^1.3.3",
       "_view_module_version": "^1.3.3",
       "data": {
        "_igraph_index": 20,
        "id": "c7c77003-c612-4b87-8a0a-c4314e980c43",
        "source": "2191576",
        "target": "1979250",
        "type": "ENCODES_GeP"
       },
       "selectable": false
      }
     },
     "abd2068128894ca1ae132a06e39f430a": {
      "model_module": "jupyter-cytoscape",
      "model_module_version": "^1.3.3",
      "model_name": "NodeModel",
      "state": {
       "_model_module_version": "^1.3.3",
       "_view_module_version": "^1.3.3",
       "data": {
        "_igraph_index": 6,
        "category": "Protein",
        "feature_name": "A0A087WVN8_HUMAN",
        "id": "1982480",
        "identifier": "A0A087WVN8",
        "in_query": 1,
        "name": "1982480",
        "source": "UniProt"
       },
       "grabbable": true,
       "grabbed": false,
       "position": {
        "x": 351.52924290974215,
        "y": 527.2860138903483
       },
       "selectable": false
      }
     },
     "abd9b4a54c5849fe8e2b29bb6d1fb39b": {
      "model_module": "jupyter-cytoscape",
      "model_module_version": "^1.3.3",
      "model_name": "NodeModel",
      "state": {
       "_model_module_version": "^1.3.3",
       "_view_module_version": "^1.3.3",
       "data": {
        "_igraph_index": 25,
        "category": "Gene",
        "feature_name": "DAPP1",
        "id": "2207390",
        "identifier": 27071,
        "in_query": 1,
        "name": "2207390",
        "source": "Entrez Gene"
       },
       "grabbable": true,
       "grabbed": false,
       "position": {
        "x": 1120.767541635387,
        "y": 11.888471998366384
       },
       "selectable": false
      }
     },
     "ac1010be36394e4faaa1bb540220a78a": {
      "model_module": "jupyter-cytoscape",
      "model_module_version": "^1.3.3",
      "model_name": "EdgeModel",
      "state": {
       "_model_module_version": "^1.3.3",
       "_view_module_version": "^1.3.3",
       "data": {
        "_igraph_index": 46,
        "id": "3d001e5a-1cc8-45b4-a570-3f53cde1059a",
        "source": "2364080",
        "target": "2115094",
        "type": "PARTOF_PDpP"
       },
       "selectable": false
      }
     },
     "b10e9eb40a6e4173a641e54e7e61f6e7": {
      "model_module": "jupyter-cytoscape",
      "model_module_version": "^1.3.3",
      "model_name": "EdgeModel",
      "state": {
       "_model_module_version": "^1.3.3",
       "_view_module_version": "^1.3.3",
       "data": {
        "_igraph_index": 44,
        "id": "4cb74bff-900f-4f08-b464-ec5f9206213a",
        "source": "2357825",
        "target": "2150067",
        "type": "PARTOF_PDpP"
       },
       "selectable": false
      }
     },
     "b578624e09134405983de08543cf9704": {
      "model_module": "jupyter-cytoscape",
      "model_module_version": "^1.3.3",
      "model_name": "NodeModel",
      "state": {
       "_model_module_version": "^1.3.3",
       "_view_module_version": "^1.3.3",
       "data": {
        "_igraph_index": 22,
        "category": "Gene",
        "feature_name": "CA14",
        "id": "2205318",
        "identifier": 23632,
        "in_query": 1,
        "name": "2205318",
        "source": "Entrez Gene"
       },
       "grabbable": true,
       "grabbed": false,
       "position": {
        "x": 630.002822609541,
        "y": 608.3351641708186
       },
       "selectable": false
      }
     },
     "b6628176ac014bf1b65568cdb7eb6a78": {
      "model_module": "jupyter-cytoscape",
      "model_module_version": "^1.3.3",
      "model_name": "EdgeModel",
      "state": {
       "_model_module_version": "^1.3.3",
       "_view_module_version": "^1.3.3",
       "data": {
        "_igraph_index": 21,
        "id": "cd792e2f-878b-46d6-9191-583b9c6414c4",
        "source": "2175196",
        "target": "2195172",
        "type": "EXPRESSES_AeG"
       },
       "selectable": false
      }
     },
     "b6a52ed42d5f467a88131e2891088c3a": {
      "model_module": "jupyter-cytoscape",
      "model_module_version": "^1.3.3",
      "model_name": "NodeModel",
      "state": {
       "_model_module_version": "^1.3.3",
       "_view_module_version": "^1.3.3",
       "data": {
        "_igraph_index": 12,
        "category": "Protein",
        "feature_name": "J3KNB3_HUMAN",
        "id": "2103936",
        "identifier": "J3KNB3",
        "in_query": 1,
        "name": "2103936",
        "source": "UniProt"
       },
       "grabbable": true,
       "grabbed": false,
       "position": {
        "x": -603.470762090258,
        "y": 225.01233736527823
       },
       "selectable": false
      }
     },
     "ba329a04a8654106a6b0d6f2787e63fe": {
      "model_module": "jupyter-cytoscape",
      "model_module_version": "^1.3.3",
      "model_name": "EdgeModel",
      "state": {
       "_model_module_version": "^1.3.3",
       "_view_module_version": "^1.3.3",
       "data": {
        "_igraph_index": 48,
        "id": "27fc493b-b8fb-4669-b218-55a95af8bd49",
        "source": "2175238",
        "target": "2207390",
        "type": "DOWNREGULATES_AdG"
       },
       "selectable": false
      }
     },
     "bac0ff5e2e284877a9f2d431b11b195c": {
      "model_module": "jupyter-cytoscape",
      "model_module_version": "^1.3.3",
      "model_name": "NodeModel",
      "state": {
       "_model_module_version": "^1.3.3",
       "_view_module_version": "^1.3.3",
       "data": {
        "_igraph_index": 18,
        "category": "Protein",
        "feature_name": "LYN_HUMAN",
        "id": "2118039",
        "identifier": "P07948",
        "in_query": 0,
        "name": "2118039",
        "source": "UniProt"
       },
       "grabbable": true,
       "grabbed": false,
       "position": {
        "x": -20.970759090257918,
        "y": 393.86003635945053
       },
       "selectable": false
      }
     },
     "baf1e504adc5433c9d51305bb6fd6c1e": {
      "model_module": "jupyter-cytoscape",
      "model_module_version": "^1.3.3",
      "model_name": "NodeModel",
      "state": {
       "_model_module_version": "^1.3.3",
       "_view_module_version": "^1.3.3",
       "data": {
        "_igraph_index": 5,
        "category": "Gene",
        "feature_name": "VEGFD",
        "id": "2191686",
        "identifier": 2277,
        "in_query": 1,
        "name": "2191686",
        "source": "Entrez Gene"
       },
       "grabbable": true,
       "grabbed": false,
       "position": {
        "x": 735.7675396353869,
        "y": 413.3351631708186
       },
       "selectable": false
      }
     },
     "bc5a6895726b465eae22c34bae0936bf": {
      "model_module": "jupyter-cytoscape",
      "model_module_version": "^1.3.3",
      "model_name": "NodeModel",
      "state": {
       "_model_module_version": "^1.3.3",
       "_view_module_version": "^1.3.3",
       "data": {
        "_igraph_index": 7,
        "category": "Gene",
        "feature_name": "LY75",
        "id": "2193030",
        "identifier": 4065,
        "in_query": 1,
        "name": "2193030",
        "source": "Entrez Gene"
       },
       "grabbable": true,
       "grabbed": false,
       "position": {
        "x": 730.7675396353869,
        "y": 23.335161170818637
       },
       "selectable": false
      }
     },
     "bcfba970b4fd4df399bd19e7ba2fb72f": {
      "model_module": "jupyter-cytoscape",
      "model_module_version": "^1.3.3",
      "model_name": "NodeModel",
      "state": {
       "_model_module_version": "^1.3.3",
       "_view_module_version": "^1.3.3",
       "data": {
        "_igraph_index": 36,
        "category": "Gene",
        "feature_name": "CXCL8",
        "id": "2192624",
        "identifier": 3576,
        "in_query": 0,
        "name": "2192624",
        "source": "Entrez Gene"
       },
       "grabbable": true,
       "grabbed": false,
       "position": {
        "x": 934.0292459097421,
        "y": 252.60304601409322
       },
       "selectable": false
      }
     },
     "bd0ffbd208ad48bf9fcbc31ec73a655e": {
      "model_module": "jupyter-cytoscape",
      "model_module_version": "^1.3.3",
      "model_name": "GraphModel",
      "state": {
       "_adj": {
        "2175196": {},
        "2175238": {},
        "2190502": {},
        "2190994": {},
        "2191576": {},
        "2191686": {},
        "2192624": {},
        "2193030": {},
        "2193224": {},
        "2193613": {},
        "2193639": {},
        "2195048": {},
        "2195172": {},
        "2197852": {},
        "2198127": {},
        "2198566": {},
        "2198900": {},
        "2201942": {},
        "2203649": {},
        "2204130": {},
        "2204877": {},
        "2205126": {},
        "2205318": {},
        "2205756": {},
        "2206864": {},
        "2207390": {}
       },
       "_model_module_version": "^1.3.3",
       "_view_module": "jupyter-cytoscape",
       "_view_module_version": "^1.3.3",
       "edges": [
        "IPY_MODEL_3858a4cc555346d0b8ad8b4210c81636",
        "IPY_MODEL_7342cf359d944fadb0d2f27d2a20ab4a",
        "IPY_MODEL_c8f400a8c20f40358c05580c02937d9e",
        "IPY_MODEL_7a30d3852741452d949a76ab7d4ce8cb",
        "IPY_MODEL_c1c950181ccb4d5d9fbee89dfbade7bc",
        "IPY_MODEL_0922734eeacb49c395c8a48a5535156b",
        "IPY_MODEL_ab21688772f141d8ac875b0e7a4199bd",
        "IPY_MODEL_44fdc98b8fac4c53b544160c9240072b",
        "IPY_MODEL_0ca3121f3adc47e9a64884fef3136299",
        "IPY_MODEL_b6628176ac014bf1b65568cdb7eb6a78",
        "IPY_MODEL_34be2efe6dfd4d3da8acd117f1f05955",
        "IPY_MODEL_47ae23858acf41fa9caa2e16f73b1cfe",
        "IPY_MODEL_a25789149f2c47ac88cbf3e9a0a629e5",
        "IPY_MODEL_71179d0578c6472dbf19154e9ac01268",
        "IPY_MODEL_31544c07e4f441a68f90a8debcd04b46",
        "IPY_MODEL_0f8fadcc532342f98b3b144b573c4b55",
        "IPY_MODEL_59c1c31b649f4bd9a627de430fec52c3",
        "IPY_MODEL_8513615f076e40f2815f4e29964368af",
        "IPY_MODEL_06676f553b1344cfb6fdb9fefe25aa6f",
        "IPY_MODEL_7a5534abf5d74a0391aef0e3fe50f0fc",
        "IPY_MODEL_73e92f275bbd446bb88fec79c772d564",
        "IPY_MODEL_97fb0a62594f441e8dbbedb4edcf1d60",
        "IPY_MODEL_28dccd1a39ba489497a3f247bcc27c88",
        "IPY_MODEL_ecc822b48c794b5884f05e1688f11935",
        "IPY_MODEL_1a59e36f41244c9aa68e81cdb2cfa86c",
        "IPY_MODEL_e07370110de44b869c2101e3290eee0a",
        "IPY_MODEL_09c0c7905ec3428c80613ac36f2831fb",
        "IPY_MODEL_21fe9244cad94fa68b4c0d1dc7a7f214",
        "IPY_MODEL_924f9b75a1ec4f3bb7944016dd9c72e7",
        "IPY_MODEL_5dce80be65b24dd2973104a1d625c89a",
        "IPY_MODEL_96f75a75e53b4f17a334998da3a2a506",
        "IPY_MODEL_7a3c96012a484b00b7a89f313486515e",
        "IPY_MODEL_e4475ba9b6764048a5779f2a75f14868",
        "IPY_MODEL_64b4e57b02e74f39b853b27f5423e0a1",
        "IPY_MODEL_95ac93d08bc74e608991c1af5a866c36",
        "IPY_MODEL_87aa668109094a3bb15db561679fa1c5",
        "IPY_MODEL_de4121bfdd9c45dbba3ef603031c05f6",
        "IPY_MODEL_bee07c9ceefb49d08416c8d8ea762b16",
        "IPY_MODEL_de398b9f400048dbafb1a8af9e643fa6",
        "IPY_MODEL_9979105ad4e04509a7bcf7e6ee1248d8",
        "IPY_MODEL_1812d988fbc045bcadd1d1e3cbca67e2",
        "IPY_MODEL_072b95bd899347dabce5464108146a54",
        "IPY_MODEL_2274107b01574989a62abac23fdd4bca",
        "IPY_MODEL_a0a12054942041be99bb88f385fdb452",
        "IPY_MODEL_3c2d869935ae416ab282210e19b149f2",
        "IPY_MODEL_67285fd753324a86bdd7b55dbba82f8f",
        "IPY_MODEL_ba329a04a8654106a6b0d6f2787e63fe",
        "IPY_MODEL_04ae0c6f1bfc4a0d95dddf58a69cd89a",
        "IPY_MODEL_d8c6d4fab49848fb840ff61e4a5ad883"
       ],
       "nodes": [
        "IPY_MODEL_5c43a252b88044ddb270e27275421351",
        "IPY_MODEL_8efa6b76d3cb44a0a849fc007f591dfc",
        "IPY_MODEL_84ffe88633e546d5a77d562335fdcfba",
        "IPY_MODEL_72e82ab4402d41e98dbffe1769d459bd",
        "IPY_MODEL_5b9b26f474b146309f9ae9031424ae70",
        "IPY_MODEL_baf1e504adc5433c9d51305bb6fd6c1e",
        "IPY_MODEL_522896b775e94292b8d783e1d103b0c5",
        "IPY_MODEL_bc5a6895726b465eae22c34bae0936bf",
        "IPY_MODEL_97a17aa8139f4df9bf2b1e9a843fa2d5",
        "IPY_MODEL_c75f4e6dcdb546c8b29b3c9a6953f95d",
        "IPY_MODEL_e7959f69c17a40c9bbe8c2fa12d6311c",
        "IPY_MODEL_98bd5baf971544c88649ad738cb2e54e",
        "IPY_MODEL_cfcab67b6e224002b954884e4dc648ca",
        "IPY_MODEL_f85b1d14db5542e0b6c0bf4da0d9e117",
        "IPY_MODEL_0ddf56b77a3f40dda1fe5bded565d9e6",
        "IPY_MODEL_72c54bac66684f2d9c151c463559b089",
        "IPY_MODEL_852fd1a1787549f888fe3bd8cad8df7a",
        "IPY_MODEL_0eaaaa88a41c4ce2abac1fcc0e3ee436",
        "IPY_MODEL_0608251c2c3041f09cba99b2fe94767c",
        "IPY_MODEL_33a8028aeb48453a87696b7e7f3742e7",
        "IPY_MODEL_01a24bc5823347f8bcaccbaf9ac80874",
        "IPY_MODEL_d0705e7e57954ba489422ee694ce8a04",
        "IPY_MODEL_b578624e09134405983de08543cf9704",
        "IPY_MODEL_84d50836bbf24b5dbfefc9e2877d24fc",
        "IPY_MODEL_05f61a0fd8f64b9da05f0b4986993515",
        "IPY_MODEL_abd9b4a54c5849fe8e2b29bb6d1fb39b"
       ]
      }
     },
     "bee07c9ceefb49d08416c8d8ea762b16": {
      "model_module": "jupyter-cytoscape",
      "model_module_version": "^1.3.3",
      "model_name": "EdgeModel",
      "state": {
       "_model_module_version": "^1.3.3",
       "_view_module_version": "^1.3.3",
       "data": {
        "_igraph_index": 30,
        "id": "53cfd2a8-4209-41bd-9290-d90489e58df8",
        "source": "2175238",
        "target": "2198900",
        "type": "DOWNREGULATES_AdG"
       },
       "selectable": false
      }
     },
     "c16f7313dab8434d90954e1dbd4fb85c": {
      "model_module": "jupyter-cytoscape",
      "model_module_version": "^1.3.3",
      "model_name": "GraphModel",
      "state": {
       "_adj": {
        "1968891": {},
        "1971110": {},
        "1977273": {},
        "1979250": {},
        "1979810": {},
        "1982480": {},
        "1994213": {},
        "2039021": {},
        "2039414": {},
        "2042877": {},
        "2071533": {},
        "2103936": {},
        "2115094": {},
        "2115173": {},
        "2115299": {},
        "2116028": {},
        "2116072": {},
        "2118039": {},
        "2118148": {},
        "2119835": {},
        "2119896": {},
        "2121853": {},
        "2128288": {},
        "2131071": {},
        "2140136": {},
        "2142755": {},
        "2145136": {},
        "2148602": {},
        "2150067": {},
        "2150833": {},
        "2152953": {},
        "2156387": {},
        "2175196": {},
        "2190994": {},
        "2191576": {},
        "2192624": {},
        "2193030": {},
        "2193613": {},
        "2193639": {},
        "2195048": {},
        "2198127": {},
        "2203649": {},
        "2205126": {},
        "2206864": {},
        "2357825": {},
        "2364080": {},
        "2369632": {},
        "2370134": {},
        "281737": {}
       },
       "_model_module_version": "^1.3.3",
       "_view_module": "jupyter-cytoscape",
       "_view_module_version": "^1.3.3",
       "edges": [
        "IPY_MODEL_3b5f44e8c3cd4545bb7990b71f051497",
        "IPY_MODEL_c30d35c1efa442b3a46f4a72694b5256",
        "IPY_MODEL_6b36f7bb1c8b405ab0fed704f4f72267",
        "IPY_MODEL_ee1a2cdcc0b440f39f635dfa8d8bf246",
        "IPY_MODEL_de117d1eee124d599f0a527af76a13b7",
        "IPY_MODEL_3e6d137a7e4c4a9995c2f8d5ce2c4dfa",
        "IPY_MODEL_4ff0ab9e0b72492dbc8b06bf30c51807",
        "IPY_MODEL_5b9d467fca9540a4b4c4d24a142e5c7f",
        "IPY_MODEL_d63aa23c293a4b439a70960d099c0a7a",
        "IPY_MODEL_0d29f0a954f745e7b05de871194f83da",
        "IPY_MODEL_42f192f2fe54437b8b0c8ad7cca0a7f9",
        "IPY_MODEL_cb91d43b1c9a40f0a17550ef6afef376",
        "IPY_MODEL_76be14c73a3241d79d3f55327cf2970d",
        "IPY_MODEL_ab87076775444e61adf9d5e0565eba3b",
        "IPY_MODEL_1c0e6c1632464d08bb294db87287004a",
        "IPY_MODEL_65bfa9e422f040beb388399610702d2e",
        "IPY_MODEL_3722a260ff534dadb32383543759db92",
        "IPY_MODEL_d9a07f3142464f869a8c09e6b17d7778",
        "IPY_MODEL_7f9a9311d6eb47d4982aace6c7366a08",
        "IPY_MODEL_dc0231b4acdb4525bcba8f247c1cb95e",
        "IPY_MODEL_36010ee68b92473da1f82f6cfca355a2",
        "IPY_MODEL_3be45dbc4c3c49529e454438d525d1e3",
        "IPY_MODEL_f8aff08308ff4663b8a2f1fe4fbd2ef6",
        "IPY_MODEL_ac1010be36394e4faaa1bb540220a78a",
        "IPY_MODEL_3c6dd780e6ed4e04bab046eeed54bd79",
        "IPY_MODEL_786b7af1787846acaef2de66ac7540e1",
        "IPY_MODEL_a9b9597b86944d519bde370a873e6aca",
        "IPY_MODEL_812c1762eba0470cabd3d65a6ead6915",
        "IPY_MODEL_7e7deada84c64231aba021f630a50752",
        "IPY_MODEL_df7c0f46214349dc92b261948ddc4e12",
        "IPY_MODEL_fdd5d7c2b9224c129755fb7b547d8677",
        "IPY_MODEL_2673bf77e74546de882bdbe9a522cdf2",
        "IPY_MODEL_e665bd800f8941ea958102f317a4606b",
        "IPY_MODEL_022ce4f76c2848f6b166a132bd697092",
        "IPY_MODEL_84985b6b9cf9470a8599b88f4cee1a2a",
        "IPY_MODEL_cdb52ec1828f45049983571694088f62",
        "IPY_MODEL_3308739dab984537886655518e94c403",
        "IPY_MODEL_70e2d4739d674cfd894c1d24d8c19457",
        "IPY_MODEL_cd7aa7304d7345d8aa3c5a10551afbc9",
        "IPY_MODEL_d19a48c7a911477dbf5ba22063e1d1fc",
        "IPY_MODEL_b10e9eb40a6e4173a641e54e7e61f6e7",
        "IPY_MODEL_d571f0a17512489cb088f2b3f76b0a6a",
        "IPY_MODEL_3e442ae9fe12459cbad1143ad1d70953",
        "IPY_MODEL_75b36dc3bf454521840e1ffbf4744d25",
        "IPY_MODEL_3f4a683b308c494d97a508b6c488d180",
        "IPY_MODEL_8b4915a72c184ac9909fb655bebfe3fc",
        "IPY_MODEL_c8483882f42940f3afacc5ae9fa2742d",
        "IPY_MODEL_83cdcfc368ec44228d46f3b6e08542a4",
        "IPY_MODEL_8b5af45926c140feb0aa856c4447edd1",
        "IPY_MODEL_3260d44345544022b53b05ae9f1dff9b",
        "IPY_MODEL_d8122da6e2f34aeb9b6d5e9086c94b8e",
        "IPY_MODEL_78049c689ae54479ae7fd26fece34288",
        "IPY_MODEL_ff6cbb6564dc445a8af4f849818a76c4",
        "IPY_MODEL_1652c2f03ecf47009e321a65a0a3f96c",
        "IPY_MODEL_a0bb05c9774346f18fd4d8a7e87d22e9"
       ],
       "nodes": [
        "IPY_MODEL_7ebd74cd70af4d5986039f8db4536a8b",
        "IPY_MODEL_ab5067768b054a24a510f7a42d243834",
        "IPY_MODEL_f6cad7747dea41048424a1e0992f85b6",
        "IPY_MODEL_70ff1e7c24b74440b904e98cbc619405",
        "IPY_MODEL_0e8973f248a04d9cad9e21d270256f23",
        "IPY_MODEL_64f2140b64044dbf9d8006a43c8b6e30",
        "IPY_MODEL_abd2068128894ca1ae132a06e39f430a",
        "IPY_MODEL_6017b28123774f0d814d32917d98b03a",
        "IPY_MODEL_3a42e0211bca47bda8b32f99ea98e5f8",
        "IPY_MODEL_f562be2722e94b9d927aa113fecbade2",
        "IPY_MODEL_9804334f87074c739de4656265c40cc8",
        "IPY_MODEL_2f97acc325fd4f2ab92b24c9407ccd17",
        "IPY_MODEL_b6a52ed42d5f467a88131e2891088c3a",
        "IPY_MODEL_fcb11c9ffa1640718ddd36b934671e2e",
        "IPY_MODEL_e3d61b580f574a69933beb84817831a7",
        "IPY_MODEL_c3d0ab9ba9b94d24aa549668ff409941",
        "IPY_MODEL_816d5d35f1c947fba573222ae15cb14f",
        "IPY_MODEL_0c8dc03bc1d64a0e87e95a6ab1a55b54",
        "IPY_MODEL_bac0ff5e2e284877a9f2d431b11b195c",
        "IPY_MODEL_9fbeec1f7974427694f848880c5d226c",
        "IPY_MODEL_6aff4c80cf3c420496f4db8f5ea8edb9",
        "IPY_MODEL_02c5ccd93eda4cdea198168c079255a5",
        "IPY_MODEL_11207c61716344ee98e311a40769bb93",
        "IPY_MODEL_cb9ca3f54e104c7186b2df5f2257e916",
        "IPY_MODEL_7516317ceaf641289769cd91fd538865",
        "IPY_MODEL_49e8af874c074c31a6165d036e41c12f",
        "IPY_MODEL_69f3fc003ddf4fcd9801258dbc06960e",
        "IPY_MODEL_903e2fd6bbf9442b9422d36a1937936d",
        "IPY_MODEL_9817e14a63c443669332f36a760f501f",
        "IPY_MODEL_2a7e9d64dc3645d69603374d1b2c5ca2",
        "IPY_MODEL_251f9550d3f044d5a7eedb15d3e801e5",
        "IPY_MODEL_2f30c1fd817843879013ac444b55f176",
        "IPY_MODEL_a3f816810ffa43bab46dfc35dab6c100",
        "IPY_MODEL_ec6e6c06a37c406193cde4c8268b60cb",
        "IPY_MODEL_a99f5132de264e35bd9c386cc57502dd",
        "IPY_MODEL_36897583f18540e7a033f4b21d4cc98f",
        "IPY_MODEL_bcfba970b4fd4df399bd19e7ba2fb72f",
        "IPY_MODEL_8b7eb52660fe4131b9f3c8660b44eedd",
        "IPY_MODEL_ea4aa56f78614f96b6f22d20498da391",
        "IPY_MODEL_fb049fe3d20c4493a1360ce5bd8a750f",
        "IPY_MODEL_712558771de34d209fe7ad9a6e8c3294",
        "IPY_MODEL_85107bb2b48f4781b03205e34e051e3a",
        "IPY_MODEL_a9fa4979843f4ff8a6a6a932671a053e",
        "IPY_MODEL_8158781f743343ebaa33bad3ae32ad52",
        "IPY_MODEL_549b25073e6f47439f78f5717eff0989",
        "IPY_MODEL_608e79d2c97e4782b330d2e30f704da8",
        "IPY_MODEL_676113f515964362acc1d71adca6b0e4",
        "IPY_MODEL_53e4964570f0400e91c7b2fee42b77c4",
        "IPY_MODEL_cccfede5f3fb4f70a84a837c2fbf1e31"
       ]
      }
     },
     "c1c950181ccb4d5d9fbee89dfbade7bc": {
      "model_module": "jupyter-cytoscape",
      "model_module_version": "^1.3.3",
      "model_name": "EdgeModel",
      "state": {
       "_model_module_version": "^1.3.3",
       "_view_module_version": "^1.3.3",
       "data": {
        "_igraph_index": 8,
        "id": "242190d2-4092-43f5-b7b0-dfa51b423a66",
        "source": "2175196",
        "target": "2192624",
        "type": "DOWNREGULATES_AdG"
       },
       "selectable": false
      }
     },
     "c30d35c1efa442b3a46f4a72694b5256": {
      "model_module": "jupyter-cytoscape",
      "model_module_version": "^1.3.3",
      "model_name": "EdgeModel",
      "state": {
       "_model_module_version": "^1.3.3",
       "_view_module_version": "^1.3.3",
       "data": {
        "_igraph_index": 1,
        "id": "a86f834e-c925-4203-819b-48235bacbc18",
        "source": "281737",
        "target": "2039414",
        "type": "BINDS_CbP"
       },
       "selectable": false
      }
     },
     "c3d0ab9ba9b94d24aa549668ff409941": {
      "model_module": "jupyter-cytoscape",
      "model_module_version": "^1.3.3",
      "model_name": "NodeModel",
      "state": {
       "_model_module_version": "^1.3.3",
       "_view_module_version": "^1.3.3",
       "data": {
        "_igraph_index": 15,
        "category": "Protein",
        "feature_name": "MUSK_HUMAN",
        "id": "2115299",
        "identifier": "O15146",
        "in_query": 0,
        "name": "2115299",
        "source": "UniProt"
       },
       "grabbable": true,
       "grabbed": false,
       "position": {
        "x": 1509.029248909742,
        "y": 370.05072101617435
       },
       "selectable": false
      }
     },
     "c75f4e6dcdb546c8b29b3c9a6953f95d": {
      "model_module": "jupyter-cytoscape",
      "model_module_version": "^1.3.3",
      "model_name": "NodeModel",
      "state": {
       "_model_module_version": "^1.3.3",
       "_view_module_version": "^1.3.3",
       "data": {
        "_igraph_index": 9,
        "category": "Gene",
        "feature_name": "NPPC",
        "id": "2193613",
        "identifier": 4880,
        "in_query": 1,
        "name": "2193613",
        "source": "Entrez Gene"
       },
       "grabbable": true,
       "grabbed": false,
       "position": {
        "x": 150.76753663538696,
        "y": 152.1077328382561
       },
       "selectable": false
      }
     },
     "c8483882f42940f3afacc5ae9fa2742d": {
      "model_module": "jupyter-cytoscape",
      "model_module_version": "^1.3.3",
      "model_name": "EdgeModel",
      "state": {
       "_model_module_version": "^1.3.3",
       "_view_module_version": "^1.3.3",
       "data": {
        "_igraph_index": 29,
        "id": "77d9c4b1-60b2-453b-87b5-ebdebc111192",
        "source": "2175196",
        "target": "2193613",
        "type": "DOWNREGULATES_AdG"
       },
       "selectable": false
      }
     },
     "c8f400a8c20f40358c05580c02937d9e": {
      "model_module": "jupyter-cytoscape",
      "model_module_version": "^1.3.3",
      "model_name": "EdgeModel",
      "state": {
       "_model_module_version": "^1.3.3",
       "_view_module_version": "^1.3.3",
       "data": {
        "_igraph_index": 4,
        "id": "26b79071-d892-4713-bf11-8c8a396eb6eb",
        "source": "2175196",
        "target": "2191576",
        "type": "DOWNREGULATES_AdG"
       },
       "selectable": false
      }
     },
     "cb91d43b1c9a40f0a17550ef6afef376": {
      "model_module": "jupyter-cytoscape",
      "model_module_version": "^1.3.3",
      "model_name": "EdgeModel",
      "state": {
       "_model_module_version": "^1.3.3",
       "_view_module_version": "^1.3.3",
       "data": {
        "_igraph_index": 43,
        "id": "d0a98241-a1f6-4f10-9c06-0fb77d5e9599",
        "source": "2357825",
        "target": "1977273",
        "type": "PARTOF_PDpP"
       },
       "selectable": false
      }
     },
     "cb9ca3f54e104c7186b2df5f2257e916": {
      "model_module": "jupyter-cytoscape",
      "model_module_version": "^1.3.3",
      "model_name": "NodeModel",
      "state": {
       "_model_module_version": "^1.3.3",
       "_view_module_version": "^1.3.3",
       "data": {
        "_igraph_index": 23,
        "category": "Protein",
        "feature_name": "Q4JM46_HUMAN",
        "id": "2128288",
        "identifier": "Q4JM46",
        "in_query": 1,
        "name": "2128288",
        "source": "UniProt"
       },
       "grabbable": true,
       "grabbed": false,
       "position": {
        "x": 551.5292439097421,
        "y": -329.8969569859068
       },
       "selectable": false
      }
     },
     "cccfede5f3fb4f70a84a837c2fbf1e31": {
      "model_module": "jupyter-cytoscape",
      "model_module_version": "^1.3.3",
      "model_name": "NodeModel",
      "state": {
       "_model_module_version": "^1.3.3",
       "_view_module_version": "^1.3.3",
       "data": {
        "_igraph_index": 48,
        "category": "ProteinDomain",
        "feature_name": "SH2 domain",
        "id": "2370134",
        "identifier": "PF00017",
        "in_query": 0,
        "name": "2370134",
        "source": "Pfam"
       },
       "grabbable": true,
       "grabbed": false,
       "position": {
        "x": -215.97076009025793,
        "y": -148.49368333197927
       },
       "selectable": false
      }
     },
     "cd7aa7304d7345d8aa3c5a10551afbc9": {
      "model_module": "jupyter-cytoscape",
      "model_module_version": "^1.3.3",
      "model_name": "EdgeModel",
      "state": {
       "_model_module_version": "^1.3.3",
       "_view_module_version": "^1.3.3",
       "data": {
        "_igraph_index": 17,
        "id": "05987722-4d25-4888-a971-cef3df3860d1",
        "source": "2152953",
        "target": "2142755",
        "type": "INTERACTS_PiP"
       },
       "selectable": false
      }
     },
     "cdb52ec1828f45049983571694088f62": {
      "model_module": "jupyter-cytoscape",
      "model_module_version": "^1.3.3",
      "model_name": "EdgeModel",
      "state": {
       "_model_module_version": "^1.3.3",
       "_view_module_version": "^1.3.3",
       "data": {
        "_igraph_index": 47,
        "id": "bc4ec355-755d-4f80-8bff-3fb5dabc2f75",
        "source": "2364080",
        "target": "2121853",
        "type": "PARTOF_PDpP"
       },
       "selectable": false
      }
     },
     "cfcab67b6e224002b954884e4dc648ca": {
      "model_module": "jupyter-cytoscape",
      "model_module_version": "^1.3.3",
      "model_name": "NodeModel",
      "state": {
       "_model_module_version": "^1.3.3",
       "_view_module_version": "^1.3.3",
       "data": {
        "_igraph_index": 12,
        "category": "Gene",
        "feature_name": "STK4",
        "id": "2195172",
        "identifier": 6789,
        "in_query": 1,
        "name": "2195172",
        "source": "Entrez Gene"
       },
       "grabbable": true,
       "grabbed": false,
       "position": {
        "x": -49.232464364613016,
        "y": 77.1588660192984
       },
       "selectable": false
      }
     },
     "d0705e7e57954ba489422ee694ce8a04": {
      "model_module": "jupyter-cytoscape",
      "model_module_version": "^1.3.3",
      "model_name": "NodeModel",
      "state": {
       "_model_module_version": "^1.3.3",
       "_view_module_version": "^1.3.3",
       "data": {
        "_igraph_index": 21,
        "category": "Gene",
        "feature_name": "SIRT5",
        "id": "2205126",
        "identifier": 23408,
        "in_query": 1,
        "name": "2205126",
        "source": "Entrez Gene"
       },
       "grabbable": true,
       "grabbed": false,
       "position": {
        "x": 735.7675396353869,
        "y": 218.33516217081865
       },
       "selectable": false
      }
     },
     "d19a48c7a911477dbf5ba22063e1d1fc": {
      "model_module": "jupyter-cytoscape",
      "model_module_version": "^1.3.3",
      "model_name": "EdgeModel",
      "state": {
       "_model_module_version": "^1.3.3",
       "_view_module_version": "^1.3.3",
       "data": {
        "_igraph_index": 41,
        "id": "7042fd0a-c1e5-45ff-82f9-ad91c8e391f5",
        "source": "2206864",
        "target": "2148602",
        "type": "ENCODES_GeP"
       },
       "selectable": false
      }
     },
     "d571f0a17512489cb088f2b3f76b0a6a": {
      "model_module": "jupyter-cytoscape",
      "model_module_version": "^1.3.3",
      "model_name": "EdgeModel",
      "state": {
       "_model_module_version": "^1.3.3",
       "_view_module_version": "^1.3.3",
       "data": {
        "_igraph_index": 32,
        "id": "e47bf8d7-d73f-4465-8740-bf6db0683b2b",
        "source": "2195048",
        "target": "2156387",
        "type": "ENCODES_GeP"
       },
       "selectable": false
      }
     },
     "d63aa23c293a4b439a70960d099c0a7a": {
      "model_module": "jupyter-cytoscape",
      "model_module_version": "^1.3.3",
      "model_name": "EdgeModel",
      "state": {
       "_model_module_version": "^1.3.3",
       "_view_module_version": "^1.3.3",
       "data": {
        "_igraph_index": 22,
        "id": "5df2a84f-d371-49c7-98c5-1b783b3ba33c",
        "source": "281737",
        "target": "2192624",
        "type": "UPREGULATES_CuG"
       },
       "selectable": false
      }
     },
     "d8122da6e2f34aeb9b6d5e9086c94b8e": {
      "model_module": "jupyter-cytoscape",
      "model_module_version": "^1.3.3",
      "model_name": "EdgeModel",
      "state": {
       "_model_module_version": "^1.3.3",
       "_view_module_version": "^1.3.3",
       "data": {
        "_igraph_index": 38,
        "id": "272ab139-b130-4f7f-a8c1-c272b5a9dd4f",
        "source": "2175196",
        "target": "2203649",
        "type": "DOWNREGULATES_AdG"
       },
       "selectable": false
      }
     },
     "d8c6d4fab49848fb840ff61e4a5ad883": {
      "model_module": "jupyter-cytoscape",
      "model_module_version": "^1.3.3",
      "model_name": "EdgeModel",
      "state": {
       "_model_module_version": "^1.3.3",
       "_view_module_version": "^1.3.3",
       "data": {
        "_igraph_index": 20,
        "id": "0ae14803-d42a-4012-aca7-fbc22fb14499",
        "source": "2195048",
        "target": "2190994",
        "type": "UPREGULATES_GPuG"
       },
       "selectable": false
      }
     },
     "d9a07f3142464f869a8c09e6b17d7778": {
      "model_module": "jupyter-cytoscape",
      "model_module_version": "^1.3.3",
      "model_name": "EdgeModel",
      "state": {
       "_model_module_version": "^1.3.3",
       "_view_module_version": "^1.3.3",
       "data": {
        "_igraph_index": 37,
        "id": "851b7b29-a92a-413e-9ea5-55bc9db87e9c",
        "source": "2203649",
        "target": "2039021",
        "type": "ENCODES_GeP"
       },
       "selectable": false
      }
     },
     "dc0231b4acdb4525bcba8f247c1cb95e": {
      "model_module": "jupyter-cytoscape",
      "model_module_version": "^1.3.3",
      "model_name": "EdgeModel",
      "state": {
       "_model_module_version": "^1.3.3",
       "_view_module_version": "^1.3.3",
       "data": {
        "_igraph_index": 28,
        "id": "a96b6a46-f8be-4a61-aa36-924760a12cff",
        "source": "2193613",
        "target": "2071533",
        "type": "ENCODES_GeP"
       },
       "selectable": false
      }
     },
     "de117d1eee124d599f0a527af76a13b7": {
      "model_module": "jupyter-cytoscape",
      "model_module_version": "^1.3.3",
      "model_name": "EdgeModel",
      "state": {
       "_model_module_version": "^1.3.3",
       "_view_module_version": "^1.3.3",
       "data": {
        "_igraph_index": 4,
        "id": "b5187d94-880e-469a-938b-0e0667c29c48",
        "source": "281737",
        "target": "2118039",
        "type": "BINDS_CbP"
       },
       "selectable": false
      }
     },
     "de398b9f400048dbafb1a8af9e643fa6": {
      "model_module": "jupyter-cytoscape",
      "model_module_version": "^1.3.3",
      "model_name": "EdgeModel",
      "state": {
       "_model_module_version": "^1.3.3",
       "_view_module_version": "^1.3.3",
       "data": {
        "_igraph_index": 32,
        "id": "bf76d3d6-2233-426f-b8ad-831789ce580d",
        "source": "2175238",
        "target": "2201942",
        "type": "DOWNREGULATES_AdG"
       },
       "selectable": false
      }
     },
     "de4121bfdd9c45dbba3ef603031c05f6": {
      "model_module": "jupyter-cytoscape",
      "model_module_version": "^1.3.3",
      "model_name": "EdgeModel",
      "state": {
       "_model_module_version": "^1.3.3",
       "_view_module_version": "^1.3.3",
       "data": {
        "_igraph_index": 28,
        "id": "06b2806d-4580-481a-8575-329192f4f0cc",
        "source": "2175238",
        "target": "2198566",
        "type": "EXPRESSES_AeG"
       },
       "selectable": false
      }
     },
     "df5d482ff7304cf382f24e702906f32e": {
      "model_module": "jupyter-cytoscape",
      "model_module_version": "^1.3.3",
      "model_name": "GraphModel",
      "state": {
       "_adj": {},
       "_model_module_version": "^1.3.3",
       "_view_module": "jupyter-cytoscape",
       "_view_module_version": "^1.3.3"
      }
     },
     "df7c0f46214349dc92b261948ddc4e12": {
      "model_module": "jupyter-cytoscape",
      "model_module_version": "^1.3.3",
      "model_name": "EdgeModel",
      "state": {
       "_model_module_version": "^1.3.3",
       "_view_module_version": "^1.3.3",
       "data": {
        "_igraph_index": 9,
        "id": "9f5087df-be52-44c9-bafd-13af27c06640",
        "source": "2116072",
        "target": "2119896",
        "type": "INTERACTS_PiP"
       },
       "selectable": false
      }
     },
     "e07370110de44b869c2101e3290eee0a": {
      "model_module": "jupyter-cytoscape",
      "model_module_version": "^1.3.3",
      "model_name": "EdgeModel",
      "state": {
       "_model_module_version": "^1.3.3",
       "_view_module_version": "^1.3.3",
       "data": {
        "_igraph_index": 5,
        "id": "06633e1e-d15b-48b5-a382-a6dbfa93a77e",
        "source": "2175238",
        "target": "2191576",
        "type": "DOWNREGULATES_AdG"
       },
       "selectable": false
      }
     },
     "e3d61b580f574a69933beb84817831a7": {
      "model_module": "jupyter-cytoscape",
      "model_module_version": "^1.3.3",
      "model_name": "NodeModel",
      "state": {
       "_model_module_version": "^1.3.3",
       "_view_module_version": "^1.3.3",
       "data": {
        "_igraph_index": 14,
        "category": "Protein",
        "feature_name": "BCKD_HUMAN",
        "id": "2115173",
        "identifier": "O14874",
        "in_query": 0,
        "name": "2115173",
        "source": "UniProt"
       },
       "grabbable": true,
       "grabbed": false,
       "position": {
        "x": 786.5931204625522,
        "y": 632.6030480140932
       },
       "selectable": false
      }
     },
     "e4475ba9b6764048a5779f2a75f14868": {
      "model_module": "jupyter-cytoscape",
      "model_module_version": "^1.3.3",
      "model_name": "EdgeModel",
      "state": {
       "_model_module_version": "^1.3.3",
       "_view_module_version": "^1.3.3",
       "data": {
        "_igraph_index": 19,
        "id": "f76e26e2-aeee-4f40-bd6a-7e92e4912175",
        "source": "2175238",
        "target": "2195048",
        "type": "DOWNREGULATES_AdG"
       },
       "selectable": false
      }
     },
     "e665bd800f8941ea958102f317a4606b": {
      "model_module": "jupyter-cytoscape",
      "model_module_version": "^1.3.3",
      "model_name": "EdgeModel",
      "state": {
       "_model_module_version": "^1.3.3",
       "_view_module_version": "^1.3.3",
       "data": {
        "_igraph_index": 51,
        "id": "7e15099a-7c24-4851-81e4-9c18b828ca4a",
        "source": "2369632",
        "target": "2118039",
        "type": "PARTOF_PDpP"
       },
       "selectable": false
      }
     },
     "e7959f69c17a40c9bbe8c2fa12d6311c": {
      "model_module": "jupyter-cytoscape",
      "model_module_version": "^1.3.3",
      "model_name": "NodeModel",
      "state": {
       "_model_module_version": "^1.3.3",
       "_view_module_version": "^1.3.3",
       "data": {
        "_igraph_index": 10,
        "category": "Gene",
        "feature_name": "NTF4",
        "id": "2193639",
        "identifier": 4909,
        "in_query": 1,
        "name": "2193639",
        "source": "Entrez Gene"
       },
       "grabbable": true,
       "grabbed": false,
       "position": {
        "x": -244.23246536461298,
        "y": 173.4699255806855
       },
       "selectable": false
      }
     },
     "ea4aa56f78614f96b6f22d20498da391": {
      "model_module": "jupyter-cytoscape",
      "model_module_version": "^1.3.3",
      "model_name": "NodeModel",
      "state": {
       "_model_module_version": "^1.3.3",
       "_view_module_version": "^1.3.3",
       "data": {
        "_igraph_index": 38,
        "category": "Gene",
        "feature_name": "NPPC",
        "id": "2193613",
        "identifier": 4880,
        "in_query": 0,
        "name": "2193613",
        "source": "Entrez Gene"
       },
       "grabbable": true,
       "grabbed": false,
       "position": {
        "x": 554.0292439097421,
        "y": -137.39695598590677
       },
       "selectable": false
      }
     },
     "ec6e6c06a37c406193cde4c8268b60cb": {
      "model_module": "jupyter-cytoscape",
      "model_module_version": "^1.3.3",
      "model_name": "NodeModel",
      "state": {
       "_model_module_version": "^1.3.3",
       "_view_module_version": "^1.3.3",
       "data": {
        "_igraph_index": 33,
        "category": "Anatomy",
        "feature_name": "urinary bladder",
        "id": "2175196",
        "identifier": "UBERON:0001255",
        "in_query": 0,
        "name": "2175196",
        "source": "Uberon"
       },
       "grabbable": true,
       "grabbed": false,
       "position": {
        "x": -210.97076009025793,
        "y": 236.50631866802073
       },
       "selectable": false
      }
     },
     "ecc822b48c794b5884f05e1688f11935": {
      "model_module": "jupyter-cytoscape",
      "model_module_version": "^1.3.3",
      "model_name": "EdgeModel",
      "state": {
       "_model_module_version": "^1.3.3",
       "_view_module_version": "^1.3.3",
       "data": {
        "_igraph_index": 1,
        "id": "20e0a20b-11fd-4b23-97a4-b2f628cfe376",
        "source": "2175238",
        "target": "2190502",
        "type": "EXPRESSES_AeG"
       },
       "selectable": false
      }
     },
     "ee1a2cdcc0b440f39f635dfa8d8bf246": {
      "model_module": "jupyter-cytoscape",
      "model_module_version": "^1.3.3",
      "model_name": "EdgeModel",
      "state": {
       "_model_module_version": "^1.3.3",
       "_view_module_version": "^1.3.3",
       "data": {
        "_igraph_index": 3,
        "id": "18498a9b-06ab-40a3-b352-873cf1ce4563",
        "source": "281737",
        "target": "2115299",
        "type": "BINDS_CbP"
       },
       "selectable": false
      }
     },
     "f562be2722e94b9d927aa113fecbade2": {
      "model_module": "jupyter-cytoscape",
      "model_module_version": "^1.3.3",
      "model_name": "NodeModel",
      "state": {
       "_model_module_version": "^1.3.3",
       "_view_module_version": "^1.3.3",
       "data": {
        "_igraph_index": 9,
        "category": "Protein",
        "feature_name": "A8K3J4_HUMAN",
        "id": "2039414",
        "identifier": "A8K3J4",
        "in_query": 1,
        "name": "2039414",
        "source": "UniProt"
       },
       "grabbable": true,
       "grabbed": false,
       "position": {
        "x": -408.4707610902579,
        "y": 221.46535322700376
       },
       "selectable": false
      }
     },
     "f6cad7747dea41048424a1e0992f85b6": {
      "model_module": "jupyter-cytoscape",
      "model_module_version": "^1.3.3",
      "model_name": "NodeModel",
      "state": {
       "_model_module_version": "^1.3.3",
       "_view_module_version": "^1.3.3",
       "data": {
        "_igraph_index": 2,
        "category": "Protein",
        "feature_name": "A0A024R012_HUMAN",
        "id": "1971110",
        "identifier": "A0A024R012",
        "in_query": 1,
        "name": "1971110",
        "source": "UniProt"
       },
       "grabbable": true,
       "grabbed": false,
       "position": {
        "x": -403.4707610902579,
        "y": 416.46535422700373
       },
       "selectable": false
      }
     },
     "f85b1d14db5542e0b6c0bf4da0d9e117": {
      "model_module": "jupyter-cytoscape",
      "model_module_version": "^1.3.3",
      "model_name": "NodeModel",
      "state": {
       "_model_module_version": "^1.3.3",
       "_view_module_version": "^1.3.3",
       "data": {
        "_igraph_index": 13,
        "category": "Gene",
        "feature_name": "ANGPTL7",
        "id": "2197852",
        "identifier": 10218,
        "in_query": 1,
        "name": "2197852",
        "source": "Entrez Gene"
       },
       "grabbable": true,
       "grabbed": false,
       "position": {
        "x": 340.767537635387,
        "y": -42.89226816174389
       },
       "selectable": false
      }
     },
     "f8aff08308ff4663b8a2f1fe4fbd2ef6": {
      "model_module": "jupyter-cytoscape",
      "model_module_version": "^1.3.3",
      "model_name": "EdgeModel",
      "state": {
       "_model_module_version": "^1.3.3",
       "_view_module_version": "^1.3.3",
       "data": {
        "_igraph_index": 16,
        "id": "ed90026a-a1c1-429c-8781-d30d81b0c7ad",
        "source": "2152953",
        "target": "2115094",
        "type": "INTERACTS_PiP"
       },
       "selectable": false
      }
     },
     "fb049fe3d20c4493a1360ce5bd8a750f": {
      "model_module": "jupyter-cytoscape",
      "model_module_version": "^1.3.3",
      "model_name": "NodeModel",
      "state": {
       "_model_module_version": "^1.3.3",
       "_view_module_version": "^1.3.3",
       "data": {
        "_igraph_index": 39,
        "category": "Gene",
        "feature_name": "NTF4",
        "id": "2193639",
        "identifier": 4909,
        "in_query": 0,
        "name": "2193639",
        "source": "Entrez Gene"
       },
       "grabbable": true,
       "grabbed": false,
       "position": {
        "x": 359.0292429097421,
        "y": 334.78601289034833
       },
       "selectable": false
      }
     },
     "fcb11c9ffa1640718ddd36b934671e2e": {
      "model_module": "jupyter-cytoscape",
      "model_module_version": "^1.3.3",
      "model_name": "NodeModel",
      "state": {
       "_model_module_version": "^1.3.3",
       "_view_module_version": "^1.3.3",
       "data": {
        "_igraph_index": 13,
        "category": "Protein",
        "feature_name": "MP2K7_HUMAN",
        "id": "2115094",
        "identifier": "O14733",
        "in_query": 0,
        "name": "2115094",
        "source": "UniProt"
       },
       "grabbable": true,
       "grabbed": false,
       "position": {
        "x": -20.970759090257918,
        "y": 203.86003535945056
       },
       "selectable": false
      }
     },
     "fdd5d7c2b9224c129755fb7b547d8677": {
      "model_module": "jupyter-cytoscape",
      "model_module_version": "^1.3.3",
      "model_name": "EdgeModel",
      "state": {
       "_model_module_version": "^1.3.3",
       "_view_module_version": "^1.3.3",
       "data": {
        "_igraph_index": 12,
        "id": "ba3e0d0d-dae6-4991-be45-5320ca5a36e8",
        "source": "2121853",
        "target": "2118039",
        "type": "INTERACTS_PiP"
       },
       "selectable": false
      }
     },
     "ff6cbb6564dc445a8af4f849818a76c4": {
      "model_module": "jupyter-cytoscape",
      "model_module_version": "^1.3.3",
      "model_name": "EdgeModel",
      "state": {
       "_model_module_version": "^1.3.3",
       "_view_module_version": "^1.3.3",
       "data": {
        "_igraph_index": 42,
        "id": "a4f01cee-0830-4359-9707-31683e489602",
        "source": "2175196",
        "target": "2206864",
        "type": "EXPRESSES_AeG"
       },
       "selectable": false
      }
     }
    },
    "version_major": 2,
    "version_minor": 0
   }
  }
 },
 "nbformat": 4,
 "nbformat_minor": 5
}
