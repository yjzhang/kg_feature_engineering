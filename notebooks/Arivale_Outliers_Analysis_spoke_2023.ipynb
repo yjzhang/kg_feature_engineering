{
 "cells": [
  {
   "cell_type": "markdown",
   "id": "94d6a25b-beb3-4e1e-a15e-baaada9ecaae",
   "metadata": {},
   "source": [
    "# Analysis of outlier proteins/metabolites found among samples with high HbA1C in the Arivale dataset\n",
    "\n",
    "Note: the main idea here is to test various graph analysis methods, not to build a rigorous characterization of Arivale outliers."
   ]
  },
  {
   "cell_type": "code",
   "execution_count": 1,
   "id": "ded1512c-2257-46c4-b4d6-009a7053bb3f",
   "metadata": {},
   "outputs": [],
   "source": [
    "# imports\n",
    "import numpy as np\n",
    "import pandas as pd\n",
    "import networkx as nx\n",
    "import kgfe"
   ]
  },
  {
   "cell_type": "code",
   "execution_count": null,
   "id": "e5d7e160-21c6-4d4d-8f21-b6bbcf6ce005",
   "metadata": {},
   "outputs": [],
   "source": []
  },
  {
   "cell_type": "markdown",
   "id": "b9e28ba5-3255-4fd3-bc5e-51e38fa5647f",
   "metadata": {},
   "source": [
    "## 1. Load data"
   ]
  },
  {
   "cell_type": "code",
   "execution_count": 2,
   "id": "09c9a662-2a73-4e11-86e3-a2b923724352",
   "metadata": {},
   "outputs": [],
   "source": [
    "prots_data = pd.read_csv('../data/prots_hba1c_outliers_2023_07_21.csv', index_col=0)"
   ]
  },
  {
   "cell_type": "code",
   "execution_count": 3,
   "id": "6785d787-3b62-4376-9300-564f6c708251",
   "metadata": {},
   "outputs": [],
   "source": [
    "mets_data = pd.read_csv('../data/mets_hba1c_outliers_2023_07_21.csv', index_col=0)"
   ]
  },
  {
   "cell_type": "code",
   "execution_count": 4,
   "id": "291d465a-9fa8-4cb6-a9be-7d7e6a70df32",
   "metadata": {},
   "outputs": [
    {
     "data": {
      "text/html": [
       "<div>\n",
       "<style scoped>\n",
       "    .dataframe tbody tr th:only-of-type {\n",
       "        vertical-align: middle;\n",
       "    }\n",
       "\n",
       "    .dataframe tbody tr th {\n",
       "        vertical-align: top;\n",
       "    }\n",
       "\n",
       "    .dataframe thead th {\n",
       "        text-align: right;\n",
       "    }\n",
       "</style>\n",
       "<table border=\"1\" class=\"dataframe\">\n",
       "  <thead>\n",
       "    <tr style=\"text-align: right;\">\n",
       "      <th></th>\n",
       "      <th>name</th>\n",
       "      <th>uniprot</th>\n",
       "      <th>gene_name</th>\n",
       "      <th>outlier_frequency_in_diabetes</th>\n",
       "      <th>outlier_frequency_in_pre_diab</th>\n",
       "    </tr>\n",
       "    <tr>\n",
       "      <th>index</th>\n",
       "      <th></th>\n",
       "      <th></th>\n",
       "      <th></th>\n",
       "      <th></th>\n",
       "      <th></th>\n",
       "    </tr>\n",
       "  </thead>\n",
       "  <tbody>\n",
       "    <tr>\n",
       "      <th>CVD3_Q99988</th>\n",
       "      <td>CVD3_Q99988</td>\n",
       "      <td>Q99988</td>\n",
       "      <td>GDF15</td>\n",
       "      <td>0.302521</td>\n",
       "      <td>0.150538</td>\n",
       "    </tr>\n",
       "    <tr>\n",
       "      <th>CVD3_P07339</th>\n",
       "      <td>CVD3_P07339</td>\n",
       "      <td>P07339</td>\n",
       "      <td>CTSD</td>\n",
       "      <td>0.243697</td>\n",
       "      <td>0.139785</td>\n",
       "    </tr>\n",
       "    <tr>\n",
       "      <th>CVD2_P18510</th>\n",
       "      <td>CVD2_P18510</td>\n",
       "      <td>P18510</td>\n",
       "      <td>IL1RN</td>\n",
       "      <td>0.226891</td>\n",
       "      <td>0.086022</td>\n",
       "    </tr>\n",
       "    <tr>\n",
       "      <th>CVD2_Q9UJM8</th>\n",
       "      <td>CVD2_Q9UJM8</td>\n",
       "      <td>Q9UJM8</td>\n",
       "      <td>HAO1</td>\n",
       "      <td>0.218487</td>\n",
       "      <td>0.107527</td>\n",
       "    </tr>\n",
       "    <tr>\n",
       "      <th>CVD2_Q9BYF1</th>\n",
       "      <td>CVD2_Q9BYF1</td>\n",
       "      <td>Q9BYF1</td>\n",
       "      <td>ACE2</td>\n",
       "      <td>0.210084</td>\n",
       "      <td>0.139785</td>\n",
       "    </tr>\n",
       "    <tr>\n",
       "      <th>CVD2_P35442</th>\n",
       "      <td>CVD2_P35442</td>\n",
       "      <td>P35442</td>\n",
       "      <td>THBS2</td>\n",
       "      <td>0.210084</td>\n",
       "      <td>0.075269</td>\n",
       "    </tr>\n",
       "    <tr>\n",
       "      <th>CVD2_Q96D42</th>\n",
       "      <td>CVD2_Q96D42</td>\n",
       "      <td>Q96D42</td>\n",
       "      <td>HAVCR1</td>\n",
       "      <td>0.210084</td>\n",
       "      <td>0.053763</td>\n",
       "    </tr>\n",
       "    <tr>\n",
       "      <th>INF_P78556</th>\n",
       "      <td>INF_P78556</td>\n",
       "      <td>P78556</td>\n",
       "      <td>CCL20</td>\n",
       "      <td>0.210084</td>\n",
       "      <td>0.139785</td>\n",
       "    </tr>\n",
       "    <tr>\n",
       "      <th>INF_Q9H5V8</th>\n",
       "      <td>INF_Q9H5V8</td>\n",
       "      <td>Q9H5V8</td>\n",
       "      <td>CDCP1</td>\n",
       "      <td>0.193277</td>\n",
       "      <td>0.129032</td>\n",
       "    </tr>\n",
       "    <tr>\n",
       "      <th>INF_O00300</th>\n",
       "      <td>INF_O00300</td>\n",
       "      <td>O00300</td>\n",
       "      <td>TNFRSF11B</td>\n",
       "      <td>0.184874</td>\n",
       "      <td>0.075269</td>\n",
       "    </tr>\n",
       "  </tbody>\n",
       "</table>\n",
       "</div>"
      ],
      "text/plain": [
       "                    name uniprot  gene_name  outlier_frequency_in_diabetes  \\\n",
       "index                                                                        \n",
       "CVD3_Q99988  CVD3_Q99988  Q99988      GDF15                       0.302521   \n",
       "CVD3_P07339  CVD3_P07339  P07339       CTSD                       0.243697   \n",
       "CVD2_P18510  CVD2_P18510  P18510      IL1RN                       0.226891   \n",
       "CVD2_Q9UJM8  CVD2_Q9UJM8  Q9UJM8       HAO1                       0.218487   \n",
       "CVD2_Q9BYF1  CVD2_Q9BYF1  Q9BYF1       ACE2                       0.210084   \n",
       "CVD2_P35442  CVD2_P35442  P35442      THBS2                       0.210084   \n",
       "CVD2_Q96D42  CVD2_Q96D42  Q96D42     HAVCR1                       0.210084   \n",
       "INF_P78556    INF_P78556  P78556      CCL20                       0.210084   \n",
       "INF_Q9H5V8    INF_Q9H5V8  Q9H5V8      CDCP1                       0.193277   \n",
       "INF_O00300    INF_O00300  O00300  TNFRSF11B                       0.184874   \n",
       "\n",
       "             outlier_frequency_in_pre_diab  \n",
       "index                                       \n",
       "CVD3_Q99988                       0.150538  \n",
       "CVD3_P07339                       0.139785  \n",
       "CVD2_P18510                       0.086022  \n",
       "CVD2_Q9UJM8                       0.107527  \n",
       "CVD2_Q9BYF1                       0.139785  \n",
       "CVD2_P35442                       0.075269  \n",
       "CVD2_Q96D42                       0.053763  \n",
       "INF_P78556                        0.139785  \n",
       "INF_Q9H5V8                        0.129032  \n",
       "INF_O00300                        0.075269  "
      ]
     },
     "execution_count": 4,
     "metadata": {},
     "output_type": "execute_result"
    }
   ],
   "source": [
    "prots_data.sort_values('outlier_frequency_in_diabetes', ascending=False).head(10)"
   ]
  },
  {
   "cell_type": "code",
   "execution_count": 5,
   "id": "3cc3c8f8-062f-48c3-81dc-aeb698787fd7",
   "metadata": {},
   "outputs": [
    {
     "data": {
      "text/html": [
       "<div>\n",
       "<style scoped>\n",
       "    .dataframe tbody tr th:only-of-type {\n",
       "        vertical-align: middle;\n",
       "    }\n",
       "\n",
       "    .dataframe tbody tr th {\n",
       "        vertical-align: top;\n",
       "    }\n",
       "\n",
       "    .dataframe thead th {\n",
       "        text-align: right;\n",
       "    }\n",
       "</style>\n",
       "<table border=\"1\" class=\"dataframe\">\n",
       "  <thead>\n",
       "    <tr style=\"text-align: right;\">\n",
       "      <th></th>\n",
       "      <th>index</th>\n",
       "      <th>CHEMBL</th>\n",
       "      <th>KEGG</th>\n",
       "      <th>PUBCHEM</th>\n",
       "      <th>outlier_frequency_in_diabetes</th>\n",
       "      <th>outlier_frequency_in_pre_diab</th>\n",
       "    </tr>\n",
       "    <tr>\n",
       "      <th>CHEMICAL_ID</th>\n",
       "      <th></th>\n",
       "      <th></th>\n",
       "      <th></th>\n",
       "      <th></th>\n",
       "      <th></th>\n",
       "      <th></th>\n",
       "    </tr>\n",
       "  </thead>\n",
       "  <tbody>\n",
       "    <tr>\n",
       "      <th>572</th>\n",
       "      <td>glucose</td>\n",
       "      <td>CHEMBL1222250</td>\n",
       "      <td>C00031</td>\n",
       "      <td>5793.0</td>\n",
       "      <td>0.789916</td>\n",
       "      <td>0.193548</td>\n",
       "    </tr>\n",
       "    <tr>\n",
       "      <th>803</th>\n",
       "      <td>mannose</td>\n",
       "      <td>CHEMBL469448</td>\n",
       "      <td>C00159</td>\n",
       "      <td>18950.0</td>\n",
       "      <td>0.588235</td>\n",
       "      <td>0.172043</td>\n",
       "    </tr>\n",
       "    <tr>\n",
       "      <th>100020419</th>\n",
       "      <td>1-carboxyethylphenylalanine</td>\n",
       "      <td>NaN</td>\n",
       "      <td>NaN</td>\n",
       "      <td>NaN</td>\n",
       "      <td>0.554622</td>\n",
       "      <td>0.311828</td>\n",
       "    </tr>\n",
       "    <tr>\n",
       "      <th>823</th>\n",
       "      <td>pyruvate</td>\n",
       "      <td>CHEMBL1162144</td>\n",
       "      <td>C00022</td>\n",
       "      <td>1060.0</td>\n",
       "      <td>0.436975</td>\n",
       "      <td>0.129032</td>\n",
       "    </tr>\n",
       "    <tr>\n",
       "      <th>999946512</th>\n",
       "      <td>X - 21467</td>\n",
       "      <td>NaN</td>\n",
       "      <td>NaN</td>\n",
       "      <td>NaN</td>\n",
       "      <td>0.403361</td>\n",
       "      <td>0.182796</td>\n",
       "    </tr>\n",
       "    <tr>\n",
       "      <th>...</th>\n",
       "      <td>...</td>\n",
       "      <td>...</td>\n",
       "      <td>...</td>\n",
       "      <td>...</td>\n",
       "      <td>...</td>\n",
       "      <td>...</td>\n",
       "    </tr>\n",
       "    <tr>\n",
       "      <th>100004329</th>\n",
       "      <td>sphingomyelin (d18:2/16:0, d18:1/16:1)*</td>\n",
       "      <td>NaN</td>\n",
       "      <td>NaN</td>\n",
       "      <td>NaN</td>\n",
       "      <td>0.000000</td>\n",
       "      <td>0.043011</td>\n",
       "    </tr>\n",
       "    <tr>\n",
       "      <th>100004509</th>\n",
       "      <td>S-allylcysteine</td>\n",
       "      <td>CHEMBL1592541</td>\n",
       "      <td>NaN</td>\n",
       "      <td>98280.0</td>\n",
       "      <td>0.000000</td>\n",
       "      <td>0.000000</td>\n",
       "    </tr>\n",
       "    <tr>\n",
       "      <th>100004555</th>\n",
       "      <td>benzoylcarnitine*</td>\n",
       "      <td>NaN</td>\n",
       "      <td>NaN</td>\n",
       "      <td>NaN</td>\n",
       "      <td>0.000000</td>\n",
       "      <td>0.000000</td>\n",
       "    </tr>\n",
       "    <tr>\n",
       "      <th>50</th>\n",
       "      <td>spermidine</td>\n",
       "      <td>CHEMBL19612</td>\n",
       "      <td>C00315</td>\n",
       "      <td>1102.0</td>\n",
       "      <td>0.000000</td>\n",
       "      <td>0.000000</td>\n",
       "    </tr>\n",
       "    <tr>\n",
       "      <th>999954840</th>\n",
       "      <td>X - 24812</td>\n",
       "      <td>NaN</td>\n",
       "      <td>NaN</td>\n",
       "      <td>NaN</td>\n",
       "      <td>0.000000</td>\n",
       "      <td>0.000000</td>\n",
       "    </tr>\n",
       "  </tbody>\n",
       "</table>\n",
       "<p>1296 rows × 6 columns</p>\n",
       "</div>"
      ],
      "text/plain": [
       "                                               index         CHEMBL    KEGG  \\\n",
       "CHEMICAL_ID                                                                   \n",
       "572                                          glucose  CHEMBL1222250  C00031   \n",
       "803                                          mannose   CHEMBL469448  C00159   \n",
       "100020419                1-carboxyethylphenylalanine            NaN     NaN   \n",
       "823                                         pyruvate  CHEMBL1162144  C00022   \n",
       "999946512                                  X - 21467            NaN     NaN   \n",
       "...                                              ...            ...     ...   \n",
       "100004329    sphingomyelin (d18:2/16:0, d18:1/16:1)*            NaN     NaN   \n",
       "100004509                            S-allylcysteine  CHEMBL1592541     NaN   \n",
       "100004555                          benzoylcarnitine*            NaN     NaN   \n",
       "50                                        spermidine    CHEMBL19612  C00315   \n",
       "999954840                                  X - 24812            NaN     NaN   \n",
       "\n",
       "             PUBCHEM  outlier_frequency_in_diabetes  \\\n",
       "CHEMICAL_ID                                           \n",
       "572           5793.0                       0.789916   \n",
       "803          18950.0                       0.588235   \n",
       "100020419        NaN                       0.554622   \n",
       "823           1060.0                       0.436975   \n",
       "999946512        NaN                       0.403361   \n",
       "...              ...                            ...   \n",
       "100004329        NaN                       0.000000   \n",
       "100004509    98280.0                       0.000000   \n",
       "100004555        NaN                       0.000000   \n",
       "50            1102.0                       0.000000   \n",
       "999954840        NaN                       0.000000   \n",
       "\n",
       "             outlier_frequency_in_pre_diab  \n",
       "CHEMICAL_ID                                 \n",
       "572                               0.193548  \n",
       "803                               0.172043  \n",
       "100020419                         0.311828  \n",
       "823                               0.129032  \n",
       "999946512                         0.182796  \n",
       "...                                    ...  \n",
       "100004329                         0.043011  \n",
       "100004509                         0.000000  \n",
       "100004555                         0.000000  \n",
       "50                                0.000000  \n",
       "999954840                         0.000000  \n",
       "\n",
       "[1296 rows x 6 columns]"
      ]
     },
     "execution_count": 5,
     "metadata": {},
     "output_type": "execute_result"
    }
   ],
   "source": [
    "mets_data.sort_values('outlier_frequency_in_diabetes', ascending=False)"
   ]
  },
  {
   "cell_type": "code",
   "execution_count": 6,
   "id": "14b7f457-eb92-4388-9d35-7d173f6ad3b0",
   "metadata": {},
   "outputs": [
    {
     "data": {
      "text/plain": [
       "252"
      ]
     },
     "execution_count": 6,
     "metadata": {},
     "output_type": "execute_result"
    }
   ],
   "source": [
    "(prots_data.outlier_frequency_in_diabetes> 0).sum()"
   ]
  },
  {
   "cell_type": "code",
   "execution_count": 7,
   "id": "fa0a9aa3-797c-410d-a516-0d65f38368b1",
   "metadata": {},
   "outputs": [],
   "source": [
    "top_prots = prots_data.sort_values('outlier_frequency_in_diabetes', ascending=False).head(20)\n",
    "top_mets = mets_data.sort_values('outlier_frequency_in_diabetes', ascending=False).head(20)"
   ]
  },
  {
   "cell_type": "code",
   "execution_count": null,
   "id": "6bc9327f-a7f4-4e2e-a3d3-c2b3e41561f8",
   "metadata": {},
   "outputs": [],
   "source": []
  },
  {
   "cell_type": "markdown",
   "id": "948d12d9-8cd4-49fb-ba03-63b273bfe075",
   "metadata": {},
   "source": [
    "## 2. Load SPOKE"
   ]
  },
  {
   "cell_type": "code",
   "execution_count": 8,
   "id": "2cff9475-22ce-44a1-91aa-2d5b11a3620e",
   "metadata": {},
   "outputs": [],
   "source": [
    "import igraph as ig"
   ]
  },
  {
   "cell_type": "code",
   "execution_count": 9,
   "id": "9c379eec-1a29-45c6-9da6-5429fb97c264",
   "metadata": {},
   "outputs": [],
   "source": [
    "spoke_graph = kgfe.spoke_loader.load_spoke_igraph('../../graph_utils/spoke_2023_human.json.gz', directed=True,\n",
    "                                                    verbose=False)"
   ]
  },
  {
   "cell_type": "code",
   "execution_count": 10,
   "id": "02886344-0dc5-437c-87d3-52f739acb68d",
   "metadata": {},
   "outputs": [
    {
     "data": {
      "text/plain": [
       "<igraph.Graph at 0x7f7dc701c240>"
      ]
     },
     "execution_count": 10,
     "metadata": {},
     "output_type": "execute_result"
    }
   ],
   "source": [
    "spoke_graph_ud = spoke_graph.copy()\n",
    "spoke_graph_ud.to_undirected(combine_edges='first')\n",
    "spoke_graph_ud.simplify(combine_edges='first')"
   ]
  },
  {
   "cell_type": "code",
   "execution_count": 11,
   "id": "b5753340-808a-43e2-ab66-913b57c70da0",
   "metadata": {},
   "outputs": [],
   "source": [
    "# TODO: identify the largest connected component\n",
    "ccs = spoke_graph_ud.connected_components()"
   ]
  },
  {
   "cell_type": "code",
   "execution_count": 12,
   "id": "4e9c69b9-7741-42f8-9325-af7229cb915e",
   "metadata": {},
   "outputs": [],
   "source": [
    "names_to_ids = kgfe.graph_info.get_names_to_ids(spoke_graph_ud)"
   ]
  },
  {
   "cell_type": "markdown",
   "id": "b8b21cf2-0d74-46a0-b738-c5a908d26d94",
   "metadata": {},
   "source": [
    "### Map proteins and metabolites to SPOKE nodes"
   ]
  },
  {
   "cell_type": "code",
   "execution_count": 14,
   "id": "e2a20385-d0fd-4a32-8707-1e29934f0b1d",
   "metadata": {},
   "outputs": [
    {
     "data": {
      "text/plain": [
       "596580"
      ]
     },
     "execution_count": 14,
     "metadata": {},
     "output_type": "execute_result"
    }
   ],
   "source": [
    "len(names_to_ids)"
   ]
  },
  {
   "cell_type": "code",
   "execution_count": 15,
   "id": "2d79ab90-f44b-4202-b8d7-70db3d41f266",
   "metadata": {},
   "outputs": [],
   "source": [
    "uniprot_to_ids = kgfe.graph_info.spoke_identifiers_to_ids(spoke_graph_ud, 'Protein')"
   ]
  },
  {
   "cell_type": "code",
   "execution_count": 16,
   "id": "0451b1ef-bb2e-477f-aa63-a045f10b57f3",
   "metadata": {},
   "outputs": [],
   "source": [
    "chembl_to_ids = kgfe.graph_info.spoke_identifiers_to_ids(spoke_graph_ud, 'Compound')"
   ]
  },
  {
   "cell_type": "code",
   "execution_count": 17,
   "id": "554954a5-7928-4e60-8c91-46f8c4802835",
   "metadata": {},
   "outputs": [],
   "source": [
    "high_prots = top_prots['uniprot']\n",
    "high_chems = top_mets[(~top_mets['CHEMBL'].isna())]['CHEMBL']\n"
   ]
  },
  {
   "cell_type": "code",
   "execution_count": 18,
   "id": "325150b2-4f7c-47a5-9961-ced31697e20c",
   "metadata": {},
   "outputs": [],
   "source": [
    "high_chems_kegg = top_mets[(~top_mets['KEGG'].isna())]['KEGG']\n"
   ]
  },
  {
   "cell_type": "code",
   "execution_count": 19,
   "id": "cb8bde1c-5e86-4beb-a8ea-14430615d764",
   "metadata": {},
   "outputs": [],
   "source": [
    "high_prots_spoke_ids = [uniprot_to_ids[x] for x in high_prots]"
   ]
  },
  {
   "cell_type": "code",
   "execution_count": 20,
   "id": "908ff0a6-215b-414c-a652-9793d6d25860",
   "metadata": {},
   "outputs": [],
   "source": [
    "all_prots_spoke_ids = [uniprot_to_ids[x] for x in prots_data['uniprot'] if x in uniprot_to_ids]"
   ]
  },
  {
   "cell_type": "code",
   "execution_count": 21,
   "id": "e92ad873-15c5-4c9b-878f-1c988cf107f0",
   "metadata": {},
   "outputs": [
    {
     "data": {
      "text/plain": [
       "['8152',\n",
       " '284',\n",
       " '10902',\n",
       " '1552',\n",
       " '20385',\n",
       " '4223',\n",
       " '7712',\n",
       " '11708',\n",
       " '16152',\n",
       " '2587',\n",
       " '4552',\n",
       " '4243',\n",
       " '12029',\n",
       " '754',\n",
       " '3895',\n",
       " '3398',\n",
       " '17811',\n",
       " '519',\n",
       " '3398',\n",
       " '17445']"
      ]
     },
     "execution_count": 21,
     "metadata": {},
     "output_type": "execute_result"
    }
   ],
   "source": [
    "high_prots_spoke_ids"
   ]
  },
  {
   "cell_type": "code",
   "execution_count": 22,
   "id": "b00242ea-c2b2-44d4-bc00-aef7e1d77be4",
   "metadata": {},
   "outputs": [],
   "source": [
    "high_chems_spoke_ids = [(x, chembl_to_ids[x]) for x in high_chems if  x in chembl_to_ids]"
   ]
  },
  {
   "cell_type": "code",
   "execution_count": 46,
   "id": "070e15b9-4648-44c9-b7d0-6f8a7a8c791c",
   "metadata": {},
   "outputs": [
    {
     "data": {
      "text/plain": [
       "[('CHEMBL1222250', '520105'),\n",
       " ('CHEMBL469448', '521206'),\n",
       " ('CHEMBL539648', '538768'),\n",
       " ('CHEMBL3137744', '533705')]"
      ]
     },
     "execution_count": 46,
     "metadata": {},
     "output_type": "execute_result"
    }
   ],
   "source": [
    "high_chems_spoke_ids"
   ]
  },
  {
   "cell_type": "markdown",
   "id": "6f898bb5-9689-4abb-aa8e-346ba44963e6",
   "metadata": {},
   "source": [
    "Note: many chems were not able to be mapped onto SPOKE."
   ]
  },
  {
   "cell_type": "code",
   "execution_count": 23,
   "id": "0df43095-3c7b-4086-b3bb-153a3f10a684",
   "metadata": {},
   "outputs": [],
   "source": [
    "high_chems_kegg_spoke_ids = [(x, chembl_to_ids[x]) for x in top_mets['KEGG'] if  x in chembl_to_ids]"
   ]
  },
  {
   "cell_type": "code",
   "execution_count": 24,
   "id": "cba1d162-6403-4906-8c92-4940ccc7d3f6",
   "metadata": {},
   "outputs": [
    {
     "data": {
      "text/plain": [
       "2055"
      ]
     },
     "execution_count": 24,
     "metadata": {},
     "output_type": "execute_result"
    }
   ],
   "source": [
    "len([x for x in chembl_to_ids.keys() if x.startswith('C0')])"
   ]
  },
  {
   "cell_type": "code",
   "execution_count": 25,
   "id": "adade503-a6dd-4867-8f17-720edc4de6d5",
   "metadata": {},
   "outputs": [
    {
     "data": {
      "text/plain": [
       "[('C00031', '541468'),\n",
       " ('C00159', '541617'),\n",
       " ('C00186', '541419'),\n",
       " ('C00794', '541530')]"
      ]
     },
     "execution_count": 25,
     "metadata": {},
     "output_type": "execute_result"
    }
   ],
   "source": [
    "high_chems_kegg_spoke_ids"
   ]
  },
  {
   "cell_type": "code",
   "execution_count": 26,
   "id": "5779f331-b1c4-4c84-aaa7-605c0635c6d3",
   "metadata": {},
   "outputs": [
    {
     "data": {
      "text/plain": [
       "1186"
      ]
     },
     "execution_count": 26,
     "metadata": {},
     "output_type": "execute_result"
    }
   ],
   "source": [
    "len(all_prots_spoke_ids)"
   ]
  },
  {
   "cell_type": "markdown",
   "id": "5925e5e3-0e4b-4aa8-bfeb-950ed82983ca",
   "metadata": {},
   "source": [
    "### TODO: figure out how many of all proteins/metabolites map onto Arivale"
   ]
  },
  {
   "cell_type": "markdown",
   "id": "be246cd9-4f84-4165-8586-b1a00a248535",
   "metadata": {
    "tags": []
   },
   "source": [
    "### TODO: Compare the identified nodes against a null model."
   ]
  },
  {
   "cell_type": "code",
   "execution_count": 27,
   "id": "fcb35622-a12f-48bf-b67f-30b52ed2d884",
   "metadata": {},
   "outputs": [],
   "source": [
    "spoke_graph_ud_connected = spoke_graph_ud.subcomponent(high_prots_spoke_ids[0])\n",
    "spoke_graph_ud_connected = spoke_graph_ud.induced_subgraph(spoke_graph_ud_connected)"
   ]
  },
  {
   "cell_type": "code",
   "execution_count": 28,
   "id": "951838f1-52ef-4bc8-adf3-f84a73ef3628",
   "metadata": {},
   "outputs": [
    {
     "data": {
      "text/plain": [
       "20"
      ]
     },
     "execution_count": 28,
     "metadata": {},
     "output_type": "execute_result"
    }
   ],
   "source": [
    "len(high_prots_spoke_ids)"
   ]
  },
  {
   "cell_type": "code",
   "execution_count": 29,
   "id": "39949432-9355-40bb-a8b9-a8add2c60490",
   "metadata": {},
   "outputs": [
    {
     "name": "stdout",
     "output_type": "stream",
     "text": [
      " "
     ]
    },
    {
     "data": {
      "text/plain": [
       "         450 function calls in 0.152 seconds\n",
       "\n",
       "   Ordered by: internal time\n",
       "\n",
       "   ncalls  tottime  percall  cumtime  percall filename:lineno(function)\n",
       "       18    0.112    0.006    0.112    0.006 {method 'get_shortest_paths' of 'igraph._igraph.GraphBase' objects}\n",
       "        1    0.039    0.039    0.039    0.039 {method 'transitivity_local_undirected' of 'igraph._igraph.GraphBase' objects}\n",
       "        1    0.001    0.001    0.152    0.152 explanations.py:100(graph_node_stats)\n",
       "        4    0.000    0.000    0.000    0.000 {method 'reduce' of 'numpy.ufunc' objects}\n",
       "        3    0.000    0.000    0.000    0.000 _methods.py:66(_count_reduce_items)\n",
       "      189    0.000    0.000    0.000    0.000 explanations.py:132(<genexpr>)\n",
       "       18    0.000    0.000    0.000    0.000 {method 'extend' of 'list' objects}\n",
       "        1    0.000    0.000    0.152    0.152 {built-in method builtins.exec}\n",
       "        1    0.000    0.000    0.000    0.000 _methods.py:196(_var)\n",
       "        2    0.000    0.000    0.000    0.000 _methods.py:163(_mean)\n",
       "        2    0.000    0.000    0.000    0.000 fromnumeric.py:3313(mean)\n",
       "        1    0.000    0.000    0.000    0.000 {method 'degree' of 'igraph._igraph.GraphBase' objects}\n",
       "      173    0.000    0.000    0.000    0.000 {built-in method builtins.len}\n",
       "        1    0.000    0.000    0.000    0.000 {built-in method numpy.array}\n",
       "        1    0.000    0.000    0.152    0.152 <string>:1(<module>)\n",
       "        2    0.000    0.000    0.000    0.000 <__array_function__ internals>:177(mean)\n",
       "        4    0.000    0.000    0.000    0.000 {built-in method numpy.asanyarray}\n",
       "        3    0.000    0.000    0.000    0.000 {built-in method numpy.core._multiarray_umath.implement_array_function}\n",
       "        1    0.000    0.000    0.000    0.000 _methods.py:263(_std)\n",
       "        3    0.000    0.000    0.000    0.000 {built-in method numpy.core._multiarray_umath.normalize_axis_index}\n",
       "        5    0.000    0.000    0.000    0.000 {built-in method builtins.isinstance}\n",
       "        1    0.000    0.000    0.000    0.000 fromnumeric.py:3441(std)\n",
       "        4    0.000    0.000    0.000    0.000 {built-in method builtins.hasattr}\n",
       "        1    0.000    0.000    0.000    0.000 {built-in method builtins.sum}\n",
       "        2    0.000    0.000    0.000    0.000 fromnumeric.py:3308(_mean_dispatcher)\n",
       "        5    0.000    0.000    0.000    0.000 {built-in method builtins.issubclass}\n",
       "        1    0.000    0.000    0.000    0.000 <__array_function__ internals>:177(std)\n",
       "        1    0.000    0.000    0.000    0.000 {method 'disable' of '_lsprof.Profiler' objects}\n",
       "        1    0.000    0.000    0.000    0.000 fromnumeric.py:3436(_std_dispatcher)"
      ]
     },
     "metadata": {},
     "output_type": "display_data"
    }
   ],
   "source": [
    "%prun high_prots_stats = kgfe.explanations.graph_node_stats(spoke_graph_ud_connected, list(set(high_prots_spoke_ids)))"
   ]
  },
  {
   "cell_type": "code",
   "execution_count": 30,
   "id": "d0d200c7-dcc7-47a6-b6c8-e9fdd734e25a",
   "metadata": {},
   "outputs": [
    {
     "name": "stdout",
     "output_type": "stream",
     "text": [
      " "
     ]
    },
    {
     "data": {
      "text/plain": [
       "         635768 function calls (635764 primitive calls) in 133.642 seconds\n",
       "\n",
       "   Ordered by: internal time\n",
       "\n",
       "   ncalls  tottime  percall  cumtime  percall filename:lineno(function)\n",
       "      100  130.212    1.302  130.212    1.302 {method 'distances' of 'igraph._igraph.GraphBase' objects}\n",
       "      100    2.516    0.025    2.516    0.025 {method 'transitivity_local_undirected' of 'igraph._igraph.GraphBase' objects}\n",
       "        1    0.642    0.642    0.860    0.860 graph_info.py:236(nodes_in_category)\n",
       "   597317    0.216    0.000    0.216    0.000 {method 'attributes' of 'igraph.Vertex' objects}\n",
       "     1900    0.010    0.000    0.010    0.000 {method 'extend' of 'list' objects}\n",
       "      100    0.009    0.000  132.772    1.328 explanations.py:100(graph_node_stats)\n",
       "      100    0.004    0.000    0.004    0.000 {method 'degree' of 'igraph._igraph.GraphBase' objects}\n",
       "      400    0.004    0.000    0.004    0.000 {method 'reduce' of 'numpy.ufunc' objects}\n",
       "     2000    0.003    0.000    0.003    0.000 {method 'add' of 'set' objects}\n",
       "      100    0.003    0.000    0.004    0.000 _methods.py:196(_var)\n",
       "      200    0.003    0.000    0.012    0.000 fromnumeric.py:3313(mean)\n",
       "      300    0.002    0.000    0.003    0.000 _methods.py:66(_count_reduce_items)\n",
       "      200    0.002    0.000    0.009    0.000 _methods.py:163(_mean)\n",
       "      100    0.002    0.000    0.007    0.000 random.py:406(sample)\n",
       "    21430    0.001    0.000    0.001    0.000 {method 'append' of 'list' objects}\n",
       "        1    0.001    0.001  133.642  133.642 explanations.py:204(null_graph_stats)\n",
       "      100    0.001    0.000    0.001    0.000 {built-in method numpy.array}\n",
       "        1    0.001    0.001    0.001    0.001 explanations.py:223(<listcomp>)\n",
       "     2003    0.001    0.000    0.002    0.000 random.py:239(_randbelow_with_getrandbits)\n",
       "      400    0.001    0.000    0.001    0.000 {built-in method numpy.asanyarray}\n",
       "      200    0.001    0.000    0.014    0.000 <__array_function__ internals>:177(mean)\n",
       "      300    0.001    0.000    0.017    0.000 {built-in method numpy.core._multiarray_umath.implement_array_function}\n",
       "      100    0.000    0.000    0.004    0.000 _methods.py:263(_std)\n",
       "      600    0.000    0.000    0.001    0.000 {built-in method builtins.isinstance}\n",
       "     3096    0.000    0.000    0.000    0.000 {method 'getrandbits' of '_random.Random' objects}\n",
       "      100    0.000    0.000    0.005    0.000 fromnumeric.py:3441(std)\n",
       "      100    0.000    0.000    0.000    0.000 {built-in method math.log}\n",
       "      400    0.000    0.000    0.000    0.000 {built-in method builtins.hasattr}\n",
       "      100    0.000    0.000    0.000    0.000 {built-in method builtins.sum}\n",
       "      100    0.000    0.000    0.000    0.000 {built-in method _abc._abc_instancecheck}\n",
       "      401    0.000    0.000    0.000    0.000 {built-in method builtins.len}\n",
       "      500    0.000    0.000    0.000    0.000 {built-in method builtins.issubclass}\n",
       "      300    0.000    0.000    0.000    0.000 {built-in method numpy.core._multiarray_umath.normalize_axis_index}\n",
       "      200    0.000    0.000    0.000    0.000 fromnumeric.py:3308(_mean_dispatcher)\n",
       "        1    0.000    0.000  133.642  133.642 {built-in method builtins.exec}\n",
       "     2003    0.000    0.000    0.000    0.000 {method 'bit_length' of 'int' objects}\n",
       "      100    0.000    0.000    0.005    0.000 <__array_function__ internals>:177(std)\n",
       "        1    0.000    0.000  133.642  133.642 <string>:1(<module>)\n",
       "      100    0.000    0.000    0.000    0.000 abc.py:117(__instancecheck__)\n",
       "      100    0.000    0.000    0.000    0.000 {built-in method math.ceil}\n",
       "      100    0.000    0.000    0.000    0.000 fromnumeric.py:3436(_std_dispatcher)\n",
       "      3/1    0.000    0.000    0.000    0.000 {built-in method _abc._abc_subclasscheck}\n",
       "        1    0.000    0.000    0.000    0.000 <frozen importlib._bootstrap>:404(parent)\n",
       "        1    0.000    0.000    0.000    0.000 __init__.py:585(vs)\n",
       "        1    0.000    0.000    0.000    0.000 {method 'rpartition' of 'str' objects}\n",
       "      3/1    0.000    0.000    0.000    0.000 abc.py:121(__subclasscheck__)\n",
       "        3    0.000    0.000    0.000    0.000 _collections_abc.py:315(__subclasshook__)\n",
       "        1    0.000    0.000    0.000    0.000 {method 'disable' of '_lsprof.Profiler' objects}"
      ]
     },
     "metadata": {},
     "output_type": "display_data"
    }
   ],
   "source": [
    "%prun high_prots_null_results = kgfe.explanations.null_graph_stats(spoke_graph_ud_connected, 'Protein', len(high_prots_spoke_ids))"
   ]
  },
  {
   "cell_type": "code",
   "execution_count": 31,
   "id": "43890290-2e98-4283-9786-5a6827b77da0",
   "metadata": {},
   "outputs": [
    {
     "name": "stdout",
     "output_type": "stream",
     "text": [
      " "
     ]
    },
    {
     "data": {
      "text/plain": [
       "         18313 function calls in 73.643 seconds\n",
       "\n",
       "   Ordered by: internal time\n",
       "\n",
       "   ncalls  tottime  percall  cumtime  percall filename:lineno(function)\n",
       "       98   69.925    0.714   69.925    0.714 {method 'distances' of 'igraph._igraph.GraphBase' objects}\n",
       "      100    3.487    0.035    3.487    0.035 {method 'transitivity_local_undirected' of 'igraph._igraph.GraphBase' objects}\n",
       "       36    0.177    0.005    0.177    0.005 {method 'get_shortest_paths' of 'igraph._igraph.GraphBase' objects}\n",
       "     1898    0.012    0.000    0.012    0.000 {method 'extend' of 'list' objects}\n",
       "      100    0.009    0.000   73.633    0.736 explanations.py:100(graph_node_stats)\n",
       "     2000    0.005    0.000    0.005    0.000 {method 'add' of 'set' objects}\n",
       "      400    0.004    0.000    0.004    0.000 {method 'reduce' of 'numpy.ufunc' objects}\n",
       "      100    0.004    0.000    0.004    0.000 {method 'degree' of 'igraph._igraph.GraphBase' objects}\n",
       "      100    0.003    0.000    0.004    0.000 _methods.py:196(_var)\n",
       "      200    0.003    0.000    0.012    0.000 fromnumeric.py:3313(mean)\n",
       "      300    0.003    0.000    0.003    0.000 _methods.py:66(_count_reduce_items)\n",
       "      200    0.002    0.000    0.009    0.000 _methods.py:163(_mean)\n",
       "      100    0.002    0.000    0.009    0.000 random.py:406(sample)\n",
       "     2016    0.001    0.000    0.002    0.000 random.py:239(_randbelow_with_getrandbits)\n",
       "      100    0.001    0.000    0.001    0.000 {built-in method numpy.array}\n",
       "        1    0.001    0.001   73.643   73.643 explanations.py:204(null_graph_stats)\n",
       "      400    0.001    0.000    0.001    0.000 {built-in method numpy.asanyarray}\n",
       "      200    0.001    0.000    0.013    0.000 <__array_function__ internals>:177(mean)\n",
       "      300    0.001    0.000    0.017    0.000 {built-in method numpy.core._multiarray_umath.implement_array_function}\n",
       "      100    0.000    0.000    0.004    0.000 _methods.py:263(_std)\n",
       "      600    0.000    0.000    0.001    0.000 {built-in method builtins.isinstance}\n",
       "     3524    0.000    0.000    0.000    0.000 {method 'getrandbits' of '_random.Random' objects}\n",
       "      100    0.000    0.000    0.005    0.000 fromnumeric.py:3441(std)\n",
       "      100    0.000    0.000    0.000    0.000 {built-in method math.log}\n",
       "      400    0.000    0.000    0.000    0.000 {built-in method builtins.hasattr}\n",
       "      741    0.000    0.000    0.000    0.000 {built-in method builtins.len}\n",
       "      100    0.000    0.000    0.000    0.000 {built-in method _abc._abc_instancecheck}\n",
       "      100    0.000    0.000    0.000    0.000 {built-in method builtins.sum}\n",
       "      500    0.000    0.000    0.000    0.000 {built-in method builtins.issubclass}\n",
       "      300    0.000    0.000    0.000    0.000 {built-in method numpy.core._multiarray_umath.normalize_axis_index}\n",
       "     2016    0.000    0.000    0.000    0.000 {method 'bit_length' of 'int' objects}\n",
       "      200    0.000    0.000    0.000    0.000 fromnumeric.py:3308(_mean_dispatcher)\n",
       "      100    0.000    0.000    0.005    0.000 <__array_function__ internals>:177(std)\n",
       "      378    0.000    0.000    0.000    0.000 explanations.py:132(<genexpr>)\n",
       "      100    0.000    0.000    0.000    0.000 abc.py:117(__instancecheck__)\n",
       "      100    0.000    0.000    0.000    0.000 {method 'append' of 'list' objects}\n",
       "      100    0.000    0.000    0.000    0.000 {built-in method math.ceil}\n",
       "        1    0.000    0.000   73.643   73.643 {built-in method builtins.exec}\n",
       "      100    0.000    0.000    0.000    0.000 fromnumeric.py:3436(_std_dispatcher)\n",
       "        1    0.000    0.000   73.643   73.643 <string>:1(<module>)\n",
       "        1    0.000    0.000    0.000    0.000 <frozen importlib._bootstrap>:404(parent)\n",
       "        1    0.000    0.000    0.000    0.000 {method 'disable' of '_lsprof.Profiler' objects}\n",
       "        1    0.000    0.000    0.000    0.000 {method 'rpartition' of 'str' objects}"
      ]
     },
     "metadata": {},
     "output_type": "display_data"
    }
   ],
   "source": [
    "%prun high_prots_null_results_arivale_prots = kgfe.explanations.null_graph_stats(spoke_graph_ud_connected, 'Protein', len(high_prots_spoke_ids),\\\n",
    "                                                                   ids_subset=all_prots_spoke_ids)"
   ]
  },
  {
   "cell_type": "code",
   "execution_count": 32,
   "id": "67b23e6a-7dac-4ccb-9fe8-b49cd4b1bc8c",
   "metadata": {},
   "outputs": [],
   "source": [
    "high_prots_null_results = pd.DataFrame(high_prots_null_results)\n"
   ]
  },
  {
   "cell_type": "code",
   "execution_count": 33,
   "id": "e7950fb6-7770-4e3e-b14c-0aea6b841e84",
   "metadata": {},
   "outputs": [
    {
     "data": {
      "text/plain": [
       "average_pairwise_distance      2.555316\n",
       "degree_mean                  195.694000\n",
       "degree_std                   236.611298\n",
       "clustering                     0.278424\n",
       "dtype: float64"
      ]
     },
     "execution_count": 33,
     "metadata": {},
     "output_type": "execute_result"
    }
   ],
   "source": [
    "high_prots_null_results.mean()"
   ]
  },
  {
   "cell_type": "code",
   "execution_count": 34,
   "id": "676d0df7-5c20-470e-9c63-c666ef98f027",
   "metadata": {},
   "outputs": [],
   "source": [
    "import matplotlib.pyplot as plt"
   ]
  },
  {
   "cell_type": "code",
   "execution_count": 35,
   "id": "4adee8ce-fdd8-4cb6-8aa1-069c11f4b031",
   "metadata": {},
   "outputs": [
    {
     "data": {
      "text/plain": [
       "<matplotlib.legend.Legend at 0x7f7e247d7730>"
      ]
     },
     "execution_count": 35,
     "metadata": {},
     "output_type": "execute_result"
    },
    {
     "data": {
      "image/png": "[encoded data removed]",
      "text/plain": [
       "<Figure size 640x480 with 1 Axes>"
      ]
     },
     "metadata": {},
     "output_type": "display_data"
    }
   ],
   "source": [
    "plt.hist(high_prots_null_results.average_pairwise_distance, bins=10, label='random')\n",
    "plt.title('Average pairwise distance distribution for randomly sampled proteins in SPOKE')\n",
    "plt.plot([high_prots_stats['average_pairwise_distance'], high_prots_stats['average_pairwise_distance']], [0, 10], label='top proteins')\n",
    "plt.xlabel('Average pairwise distance between proteins in SPOKE (lower = more related)')\n",
    "plt.legend()"
   ]
  },
  {
   "cell_type": "code",
   "execution_count": 36,
   "id": "c0cefbad-0f5e-460a-96d1-9f354c584a47",
   "metadata": {},
   "outputs": [],
   "source": [
    "high_prots_null_results_arivale_prots = pd.DataFrame(high_prots_null_results_arivale_prots)\n"
   ]
  },
  {
   "cell_type": "code",
   "execution_count": 37,
   "id": "625d765a-29ae-4c21-8d8e-3c18f8884762",
   "metadata": {},
   "outputs": [
    {
     "data": {
      "text/plain": [
       "<matplotlib.legend.Legend at 0x7f7e2449cee0>"
      ]
     },
     "execution_count": 37,
     "metadata": {},
     "output_type": "execute_result"
    },
    {
     "data": {
      "image/png": "[encoded data removed]",
      "text/plain": [
       "<Figure size 640x480 with 1 Axes>"
      ]
     },
     "metadata": {},
     "output_type": "display_data"
    }
   ],
   "source": [
    "plt.hist(high_prots_null_results_arivale_prots.average_pairwise_distance, bins=10, label='random')\n",
    "plt.title('Average pairwise distance distribution for randomly sampled proteins measured in Arivale')\n",
    "plt.plot([high_prots_stats['average_pairwise_distance'], high_prots_stats['average_pairwise_distance']], [0, 10], label='top proteins')\n",
    "plt.xlabel('Average pairwise distance between Arivale proteins in SPOKE (lower = more related)')\n",
    "plt.legend()"
   ]
  },
  {
   "cell_type": "markdown",
   "id": "c3e24c2f-7d10-4411-9d30-5b338e1555ab",
   "metadata": {},
   "source": [
    "## Compare outlier degree distributions against degree distributions from all arivale proteins"
   ]
  },
  {
   "cell_type": "code",
   "execution_count": 40,
   "id": "05391f62-fcbe-4987-ac52-05a83dd32ddc",
   "metadata": {},
   "outputs": [],
   "source": [
    "prot_degrees = spoke_graph_ud.degree(all_prots_spoke_ids)"
   ]
  },
  {
   "cell_type": "code",
   "execution_count": 41,
   "id": "899cebd9-ec49-46d3-9c97-e3d1b1ffc005",
   "metadata": {},
   "outputs": [],
   "source": [
    "sample_degrees = spoke_graph_ud.degree(high_prots_spoke_ids)"
   ]
  },
  {
   "cell_type": "code",
   "execution_count": 45,
   "id": "f4edebf0-c92f-49ac-9f37-64679f743526",
   "metadata": {},
   "outputs": [
    {
     "data": {
      "text/plain": [
       "<matplotlib.legend.Legend at 0x7f7e2b133f70>"
      ]
     },
     "execution_count": 45,
     "metadata": {},
     "output_type": "execute_result"
    },
    {
     "data": {
      "image/png": "[encoded data removed]",
      "text/plain": [
       "<Figure size 640x480 with 1 Axes>"
      ]
     },
     "metadata": {},
     "output_type": "display_data"
    }
   ],
   "source": [
    "plt.hist(prot_degrees, label='all arivale proteins')\n",
    "plt.hist(sample_degrees, label='outlier proteins')\n",
    "plt.yscale('log')\n",
    "plt.legend()"
   ]
  },
  {
   "cell_type": "markdown",
   "id": "b7d7342a-f1f3-4300-ae29-d34e157e5d9c",
   "metadata": {},
   "source": [
    "This means that it's not just the outliers being"
   ]
  }
 ],
 "metadata": {
  "kernelspec": {
   "display_name": "Python 3 (ipykernel)",
   "language": "python",
   "name": "python3"
  },
  "language_info": {
   "codemirror_mode": {
    "name": "ipython",
    "version": 3
   },
   "file_extension": ".py",
   "mimetype": "text/x-python",
   "name": "python",
   "nbconvert_exporter": "python",
   "pygments_lexer": "ipython3",
   "version": "3.10.6"
  },
  "widgets": {
   "application/vnd.jupyter.widget-state+json": {
    "state": {},
    "version_major": 2,
    "version_minor": 0
   }
  }
 },
 "nbformat": 4,
 "nbformat_minor": 5
}
