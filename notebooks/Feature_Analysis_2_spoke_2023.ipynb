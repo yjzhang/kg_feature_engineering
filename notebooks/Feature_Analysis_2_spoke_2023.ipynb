{
 "cells": [
  {
   "cell_type": "markdown",
   "id": "29454b0e-fdb9-486e-aa48-96b142e64d9d",
   "metadata": {},
   "source": [
    "# Using KGFE to understand important features\n",
    "\n",
    "Basically, given a list of genes/proteins/metabolites that are mapped onto SPOKE, we want to identify nodes on the graph that are in some way \"similar\" to the input nodes."
   ]
  },
  {
   "cell_type": "code",
   "execution_count": 1,
   "id": "b62e125a-1dcb-4458-83bd-207ca3b72906",
   "metadata": {},
   "outputs": [],
   "source": [
    "# imports\n",
    "import numpy as np\n",
    "import pandas as pd\n",
    "import networkx as nx\n",
    "import kgfe"
   ]
  },
  {
   "cell_type": "markdown",
   "id": "c7d20cf7-7476-4dcf-aab7-fdcc53c486eb",
   "metadata": {},
   "source": [
    "## 1. Load genes"
   ]
  },
  {
   "cell_type": "code",
   "execution_count": 2,
   "id": "602f1743-d3eb-46ba-b674-5e6eec3e5789",
   "metadata": {},
   "outputs": [],
   "source": [
    "data = pd.read_excel('LC_mets_prots_V1_V2_Compare.xlsx')"
   ]
  },
  {
   "cell_type": "code",
   "execution_count": 3,
   "id": "aea1fd3c-ba6f-45db-9b20-be902870d741",
   "metadata": {},
   "outputs": [
    {
     "data": {
      "text/html": [
       "<div>\n",
       "<style scoped>\n",
       "    .dataframe tbody tr th:only-of-type {\n",
       "        vertical-align: middle;\n",
       "    }\n",
       "\n",
       "    .dataframe tbody tr th {\n",
       "        vertical-align: top;\n",
       "    }\n",
       "\n",
       "    .dataframe thead th {\n",
       "        text-align: right;\n",
       "    }\n",
       "</style>\n",
       "<table border=\"1\" class=\"dataframe\">\n",
       "  <thead>\n",
       "    <tr style=\"text-align: right;\">\n",
       "      <th></th>\n",
       "      <th>ID</th>\n",
       "      <th>Lasso_CV</th>\n",
       "      <th>Name</th>\n",
       "      <th>UniProt</th>\n",
       "      <th>Protein</th>\n",
       "      <th>PubChem</th>\n",
       "      <th>Chembl_ID</th>\n",
       "      <th>KEGG</th>\n",
       "    </tr>\n",
       "  </thead>\n",
       "  <tbody>\n",
       "    <tr>\n",
       "      <th>0</th>\n",
       "      <td>met10</td>\n",
       "      <td>-0.100203</td>\n",
       "      <td>1,2,4-benzenetriol</td>\n",
       "      <td>NaN</td>\n",
       "      <td>NaN</td>\n",
       "      <td>10787.0</td>\n",
       "      <td>CHEMBL3092389</td>\n",
       "      <td>C02814</td>\n",
       "    </tr>\n",
       "    <tr>\n",
       "      <th>1</th>\n",
       "      <td>met1054</td>\n",
       "      <td>-0.052794</td>\n",
       "      <td>pyridine</td>\n",
       "      <td>NaN</td>\n",
       "      <td>NaN</td>\n",
       "      <td>1049.0</td>\n",
       "      <td>CHEMBL266158</td>\n",
       "      <td>C00747</td>\n",
       "    </tr>\n",
       "    <tr>\n",
       "      <th>2</th>\n",
       "      <td>met1073</td>\n",
       "      <td>0.051544</td>\n",
       "      <td>uric acid</td>\n",
       "      <td>NaN</td>\n",
       "      <td>NaN</td>\n",
       "      <td>1175.0</td>\n",
       "      <td>CHEMBL792</td>\n",
       "      <td>C00366</td>\n",
       "    </tr>\n",
       "    <tr>\n",
       "      <th>3</th>\n",
       "      <td>met1091</td>\n",
       "      <td>-0.054557</td>\n",
       "      <td>formononetin</td>\n",
       "      <td>NaN</td>\n",
       "      <td>NaN</td>\n",
       "      <td>5280378.0</td>\n",
       "      <td>CHEMBL242341</td>\n",
       "      <td>C00858</td>\n",
       "    </tr>\n",
       "    <tr>\n",
       "      <th>4</th>\n",
       "      <td>met142</td>\n",
       "      <td>0.025830</td>\n",
       "      <td>4-Hydroxyvalproic acid</td>\n",
       "      <td>NaN</td>\n",
       "      <td>NaN</td>\n",
       "      <td>134467.0</td>\n",
       "      <td>CHEMBL3706504</td>\n",
       "      <td>C16649</td>\n",
       "    </tr>\n",
       "  </tbody>\n",
       "</table>\n",
       "</div>"
      ],
      "text/plain": [
       "        ID  Lasso_CV                    Name UniProt Protein    PubChem  \\\n",
       "0    met10 -0.100203      1,2,4-benzenetriol     NaN     NaN    10787.0   \n",
       "1  met1054 -0.052794                pyridine     NaN     NaN     1049.0   \n",
       "2  met1073  0.051544               uric acid     NaN     NaN     1175.0   \n",
       "3  met1091 -0.054557            formononetin     NaN     NaN  5280378.0   \n",
       "4   met142  0.025830  4-Hydroxyvalproic acid     NaN     NaN   134467.0   \n",
       "\n",
       "       Chembl_ID    KEGG  \n",
       "0  CHEMBL3092389  C02814  \n",
       "1   CHEMBL266158  C00747  \n",
       "2      CHEMBL792  C00366  \n",
       "3   CHEMBL242341  C00858  \n",
       "4  CHEMBL3706504  C16649  "
      ]
     },
     "execution_count": 3,
     "metadata": {},
     "output_type": "execute_result"
    }
   ],
   "source": [
    "data.head()"
   ]
  },
  {
   "cell_type": "code",
   "execution_count": 4,
   "id": "2e444faf-8b16-4b79-8992-0877eb194b1c",
   "metadata": {},
   "outputs": [
    {
     "data": {
      "text/plain": [
       "(92, 8)"
      ]
     },
     "execution_count": 4,
     "metadata": {},
     "output_type": "execute_result"
    }
   ],
   "source": [
    "data.shape"
   ]
  },
  {
   "cell_type": "code",
   "execution_count": 5,
   "id": "dd51d6e2-e796-4f4a-8140-e897c1acd415",
   "metadata": {},
   "outputs": [
    {
     "data": {
      "text/html": [
       "<div>\n",
       "<style scoped>\n",
       "    .dataframe tbody tr th:only-of-type {\n",
       "        vertical-align: middle;\n",
       "    }\n",
       "\n",
       "    .dataframe tbody tr th {\n",
       "        vertical-align: top;\n",
       "    }\n",
       "\n",
       "    .dataframe thead th {\n",
       "        text-align: right;\n",
       "    }\n",
       "</style>\n",
       "<table border=\"1\" class=\"dataframe\">\n",
       "  <thead>\n",
       "    <tr style=\"text-align: right;\">\n",
       "      <th></th>\n",
       "      <th>ID</th>\n",
       "      <th>Lasso_CV</th>\n",
       "      <th>Name</th>\n",
       "      <th>UniProt</th>\n",
       "      <th>Protein</th>\n",
       "      <th>PubChem</th>\n",
       "      <th>Chembl_ID</th>\n",
       "      <th>KEGG</th>\n",
       "    </tr>\n",
       "  </thead>\n",
       "  <tbody>\n",
       "    <tr>\n",
       "      <th>0</th>\n",
       "      <td>met10</td>\n",
       "      <td>-0.100203</td>\n",
       "      <td>1,2,4-benzenetriol</td>\n",
       "      <td>NaN</td>\n",
       "      <td>NaN</td>\n",
       "      <td>10787.0</td>\n",
       "      <td>CHEMBL3092389</td>\n",
       "      <td>C02814</td>\n",
       "    </tr>\n",
       "    <tr>\n",
       "      <th>1</th>\n",
       "      <td>met1054</td>\n",
       "      <td>-0.052794</td>\n",
       "      <td>pyridine</td>\n",
       "      <td>NaN</td>\n",
       "      <td>NaN</td>\n",
       "      <td>1049.0</td>\n",
       "      <td>CHEMBL266158</td>\n",
       "      <td>C00747</td>\n",
       "    </tr>\n",
       "    <tr>\n",
       "      <th>2</th>\n",
       "      <td>met1073</td>\n",
       "      <td>0.051544</td>\n",
       "      <td>uric acid</td>\n",
       "      <td>NaN</td>\n",
       "      <td>NaN</td>\n",
       "      <td>1175.0</td>\n",
       "      <td>CHEMBL792</td>\n",
       "      <td>C00366</td>\n",
       "    </tr>\n",
       "    <tr>\n",
       "      <th>3</th>\n",
       "      <td>met1091</td>\n",
       "      <td>-0.054557</td>\n",
       "      <td>formononetin</td>\n",
       "      <td>NaN</td>\n",
       "      <td>NaN</td>\n",
       "      <td>5280378.0</td>\n",
       "      <td>CHEMBL242341</td>\n",
       "      <td>C00858</td>\n",
       "    </tr>\n",
       "    <tr>\n",
       "      <th>4</th>\n",
       "      <td>met142</td>\n",
       "      <td>0.025830</td>\n",
       "      <td>4-Hydroxyvalproic acid</td>\n",
       "      <td>NaN</td>\n",
       "      <td>NaN</td>\n",
       "      <td>134467.0</td>\n",
       "      <td>CHEMBL3706504</td>\n",
       "      <td>C16649</td>\n",
       "    </tr>\n",
       "    <tr>\n",
       "      <th>6</th>\n",
       "      <td>met20</td>\n",
       "      <td>-0.045657</td>\n",
       "      <td>2,6-dihydroxybenzoic acid</td>\n",
       "      <td>NaN</td>\n",
       "      <td>NaN</td>\n",
       "      <td>9338.0</td>\n",
       "      <td>CHEMBL454808</td>\n",
       "      <td>NaN</td>\n",
       "    </tr>\n",
       "    <tr>\n",
       "      <th>11</th>\n",
       "      <td>met305</td>\n",
       "      <td>0.035464</td>\n",
       "      <td>hexadecanedioic acid</td>\n",
       "      <td>NaN</td>\n",
       "      <td>NaN</td>\n",
       "      <td>10459.0</td>\n",
       "      <td>CHEMBL4519590</td>\n",
       "      <td>C19615</td>\n",
       "    </tr>\n",
       "    <tr>\n",
       "      <th>12</th>\n",
       "      <td>met31</td>\n",
       "      <td>-0.057506</td>\n",
       "      <td>3,5-dichlorosalicylic acid</td>\n",
       "      <td>NaN</td>\n",
       "      <td>NaN</td>\n",
       "      <td>9445.0</td>\n",
       "      <td>CHEMBL449129</td>\n",
       "      <td>NaN</td>\n",
       "    </tr>\n",
       "    <tr>\n",
       "      <th>15</th>\n",
       "      <td>met53</td>\n",
       "      <td>0.033875</td>\n",
       "      <td>benzyldodecyldimethylammonium</td>\n",
       "      <td>NaN</td>\n",
       "      <td>NaN</td>\n",
       "      <td>8754.0</td>\n",
       "      <td>CHEMBL1907001</td>\n",
       "      <td>NaN</td>\n",
       "    </tr>\n",
       "    <tr>\n",
       "      <th>18</th>\n",
       "      <td>met675</td>\n",
       "      <td>0.029451</td>\n",
       "      <td>cytidine</td>\n",
       "      <td>NaN</td>\n",
       "      <td>NaN</td>\n",
       "      <td>596.0</td>\n",
       "      <td>CHEMBL78</td>\n",
       "      <td>NaN</td>\n",
       "    </tr>\n",
       "    <tr>\n",
       "      <th>19</th>\n",
       "      <td>met679</td>\n",
       "      <td>-0.018029</td>\n",
       "      <td>UDP-glucuronic acid</td>\n",
       "      <td>NaN</td>\n",
       "      <td>NaN</td>\n",
       "      <td>17473.0</td>\n",
       "      <td>CHEMBL228057</td>\n",
       "      <td>C00167</td>\n",
       "    </tr>\n",
       "    <tr>\n",
       "      <th>21</th>\n",
       "      <td>met701</td>\n",
       "      <td>0.119316</td>\n",
       "      <td>3-hydroxybutyric acid</td>\n",
       "      <td>NaN</td>\n",
       "      <td>NaN</td>\n",
       "      <td>92135.0</td>\n",
       "      <td>CHEMBL1162484</td>\n",
       "      <td>C01089</td>\n",
       "    </tr>\n",
       "    <tr>\n",
       "      <th>23</th>\n",
       "      <td>met738</td>\n",
       "      <td>-0.095340</td>\n",
       "      <td>cystine</td>\n",
       "      <td>NaN</td>\n",
       "      <td>NaN</td>\n",
       "      <td>595.0</td>\n",
       "      <td>CHEMBL366563</td>\n",
       "      <td>C01420</td>\n",
       "    </tr>\n",
       "    <tr>\n",
       "      <th>24</th>\n",
       "      <td>met744</td>\n",
       "      <td>-0.010221</td>\n",
       "      <td>Ethanox 310</td>\n",
       "      <td>NaN</td>\n",
       "      <td>NaN</td>\n",
       "      <td>64819.0</td>\n",
       "      <td>CHEMBL3187856</td>\n",
       "      <td>NaN</td>\n",
       "    </tr>\n",
       "    <tr>\n",
       "      <th>25</th>\n",
       "      <td>met760</td>\n",
       "      <td>0.000074</td>\n",
       "      <td>glycine</td>\n",
       "      <td>NaN</td>\n",
       "      <td>NaN</td>\n",
       "      <td>750.0</td>\n",
       "      <td>CHEMBL773</td>\n",
       "      <td>C00037</td>\n",
       "    </tr>\n",
       "    <tr>\n",
       "      <th>26</th>\n",
       "      <td>met771</td>\n",
       "      <td>-0.119397</td>\n",
       "      <td>hypotaurine</td>\n",
       "      <td>NaN</td>\n",
       "      <td>NaN</td>\n",
       "      <td>107812.0</td>\n",
       "      <td>CHEMBL1256480</td>\n",
       "      <td>C00519</td>\n",
       "    </tr>\n",
       "    <tr>\n",
       "      <th>28</th>\n",
       "      <td>met779</td>\n",
       "      <td>0.038564</td>\n",
       "      <td>lactic acid</td>\n",
       "      <td>NaN</td>\n",
       "      <td>NaN</td>\n",
       "      <td>612.0</td>\n",
       "      <td>CHEMBL1200559</td>\n",
       "      <td>C01432</td>\n",
       "    </tr>\n",
       "    <tr>\n",
       "      <th>29</th>\n",
       "      <td>met812</td>\n",
       "      <td>0.136828</td>\n",
       "      <td>ornithine</td>\n",
       "      <td>NaN</td>\n",
       "      <td>NaN</td>\n",
       "      <td>6262.0</td>\n",
       "      <td>CHEMBL446143</td>\n",
       "      <td>C00077</td>\n",
       "    </tr>\n",
       "    <tr>\n",
       "      <th>31</th>\n",
       "      <td>met833</td>\n",
       "      <td>-0.126050</td>\n",
       "      <td>S-methylcysteine</td>\n",
       "      <td>NaN</td>\n",
       "      <td>NaN</td>\n",
       "      <td>24417.0</td>\n",
       "      <td>CHEMBL394875</td>\n",
       "      <td>NaN</td>\n",
       "    </tr>\n",
       "    <tr>\n",
       "      <th>32</th>\n",
       "      <td>met845</td>\n",
       "      <td>0.062205</td>\n",
       "      <td>threonine</td>\n",
       "      <td>NaN</td>\n",
       "      <td>NaN</td>\n",
       "      <td>6288.0</td>\n",
       "      <td>CHEMBL291747</td>\n",
       "      <td>C00188</td>\n",
       "    </tr>\n",
       "    <tr>\n",
       "      <th>35</th>\n",
       "      <td>met951</td>\n",
       "      <td>0.015924</td>\n",
       "      <td>trehalose</td>\n",
       "      <td>NaN</td>\n",
       "      <td>NaN</td>\n",
       "      <td>7427.0</td>\n",
       "      <td>CHEMBL1236395</td>\n",
       "      <td>C01083</td>\n",
       "    </tr>\n",
       "    <tr>\n",
       "      <th>36</th>\n",
       "      <td>met994</td>\n",
       "      <td>0.056085</td>\n",
       "      <td>5-methoxytryptamine</td>\n",
       "      <td>NaN</td>\n",
       "      <td>NaN</td>\n",
       "      <td>1833.0</td>\n",
       "      <td>CHEMBL8165</td>\n",
       "      <td>C05659</td>\n",
       "    </tr>\n",
       "    <tr>\n",
       "      <th>37</th>\n",
       "      <td>met999</td>\n",
       "      <td>0.082353</td>\n",
       "      <td>6,7-dimethoxy-2-(1-piperazinyl)-4-quinazolinamine</td>\n",
       "      <td>NaN</td>\n",
       "      <td>NaN</td>\n",
       "      <td>616267.0</td>\n",
       "      <td>CHEMBL1226</td>\n",
       "      <td>NaN</td>\n",
       "    </tr>\n",
       "  </tbody>\n",
       "</table>\n",
       "</div>"
      ],
      "text/plain": [
       "         ID  Lasso_CV                                               Name  \\\n",
       "0     met10 -0.100203                                 1,2,4-benzenetriol   \n",
       "1   met1054 -0.052794                                           pyridine   \n",
       "2   met1073  0.051544                                          uric acid   \n",
       "3   met1091 -0.054557                                       formononetin   \n",
       "4    met142  0.025830                             4-Hydroxyvalproic acid   \n",
       "6     met20 -0.045657                          2,6-dihydroxybenzoic acid   \n",
       "11   met305  0.035464                               hexadecanedioic acid   \n",
       "12    met31 -0.057506                         3,5-dichlorosalicylic acid   \n",
       "15    met53  0.033875                      benzyldodecyldimethylammonium   \n",
       "18   met675  0.029451                                           cytidine   \n",
       "19   met679 -0.018029                                UDP-glucuronic acid   \n",
       "21   met701  0.119316                              3-hydroxybutyric acid   \n",
       "23   met738 -0.095340                                            cystine   \n",
       "24   met744 -0.010221                                        Ethanox 310   \n",
       "25   met760  0.000074                                            glycine   \n",
       "26   met771 -0.119397                                        hypotaurine   \n",
       "28   met779  0.038564                                        lactic acid   \n",
       "29   met812  0.136828                                          ornithine   \n",
       "31   met833 -0.126050                                   S-methylcysteine   \n",
       "32   met845  0.062205                                          threonine   \n",
       "35   met951  0.015924                                          trehalose   \n",
       "36   met994  0.056085                                5-methoxytryptamine   \n",
       "37   met999  0.082353  6,7-dimethoxy-2-(1-piperazinyl)-4-quinazolinamine   \n",
       "\n",
       "   UniProt Protein    PubChem      Chembl_ID    KEGG  \n",
       "0      NaN     NaN    10787.0  CHEMBL3092389  C02814  \n",
       "1      NaN     NaN     1049.0   CHEMBL266158  C00747  \n",
       "2      NaN     NaN     1175.0      CHEMBL792  C00366  \n",
       "3      NaN     NaN  5280378.0   CHEMBL242341  C00858  \n",
       "4      NaN     NaN   134467.0  CHEMBL3706504  C16649  \n",
       "6      NaN     NaN     9338.0   CHEMBL454808     NaN  \n",
       "11     NaN     NaN    10459.0  CHEMBL4519590  C19615  \n",
       "12     NaN     NaN     9445.0   CHEMBL449129     NaN  \n",
       "15     NaN     NaN     8754.0  CHEMBL1907001     NaN  \n",
       "18     NaN     NaN      596.0       CHEMBL78     NaN  \n",
       "19     NaN     NaN    17473.0   CHEMBL228057  C00167  \n",
       "21     NaN     NaN    92135.0  CHEMBL1162484  C01089  \n",
       "23     NaN     NaN      595.0   CHEMBL366563  C01420  \n",
       "24     NaN     NaN    64819.0  CHEMBL3187856     NaN  \n",
       "25     NaN     NaN      750.0      CHEMBL773  C00037  \n",
       "26     NaN     NaN   107812.0  CHEMBL1256480  C00519  \n",
       "28     NaN     NaN      612.0  CHEMBL1200559  C01432  \n",
       "29     NaN     NaN     6262.0   CHEMBL446143  C00077  \n",
       "31     NaN     NaN    24417.0   CHEMBL394875     NaN  \n",
       "32     NaN     NaN     6288.0   CHEMBL291747  C00188  \n",
       "35     NaN     NaN     7427.0  CHEMBL1236395  C01083  \n",
       "36     NaN     NaN     1833.0     CHEMBL8165  C05659  \n",
       "37     NaN     NaN   616267.0     CHEMBL1226     NaN  "
      ]
     },
     "execution_count": 5,
     "metadata": {},
     "output_type": "execute_result"
    }
   ],
   "source": [
    "data[~data.Chembl_ID.isna()]"
   ]
  },
  {
   "cell_type": "markdown",
   "id": "dfd52e8e-01ab-4474-8b31-2fdc65c3c30c",
   "metadata": {},
   "source": [
    "## 2. Load SPOKE"
   ]
  },
  {
   "cell_type": "code",
   "execution_count": 6,
   "id": "4a7f0c17-21cf-433d-b515-51a07b2f332b",
   "metadata": {},
   "outputs": [],
   "source": [
    "import igraph as ig"
   ]
  },
  {
   "cell_type": "code",
   "execution_count": 7,
   "id": "4ef663aa-a23c-4f59-8cc2-85b69e67145b",
   "metadata": {},
   "outputs": [],
   "source": [
    "spoke_graph = kgfe.spoke_loader.load_spoke_igraph('../../graph_utils/spoke_2023_human.json.gz', directed=True,\n",
    "                                                    verbose=False)"
   ]
  },
  {
   "cell_type": "code",
   "execution_count": 8,
   "id": "3431e921-96e6-4a99-99cc-acc64d96e328",
   "metadata": {},
   "outputs": [
    {
     "data": {
      "text/plain": [
       "<igraph.Graph at 0x7f6ed041f540>"
      ]
     },
     "execution_count": 8,
     "metadata": {},
     "output_type": "execute_result"
    }
   ],
   "source": [
    "spoke_graph_ud = spoke_graph.copy()\n",
    "spoke_graph_ud.to_undirected(combine_edges='first')\n",
    "spoke_graph_ud.simplify(combine_edges='first')"
   ]
  },
  {
   "cell_type": "code",
   "execution_count": 9,
   "id": "bc895547-cd90-467a-b912-26649a6c8ddc",
   "metadata": {},
   "outputs": [],
   "source": [
    "names_to_ids = kgfe.graph_info.get_names_to_ids(spoke_graph_ud)"
   ]
  },
  {
   "cell_type": "markdown",
   "id": "b7ceccb5-76dd-471d-a019-718b740bd400",
   "metadata": {},
   "source": [
    "### Map proteins and metabolites to SPOKE nodes"
   ]
  },
  {
   "cell_type": "code",
   "execution_count": 10,
   "id": "860d1e66-7efe-475b-b361-55b925c26dd8",
   "metadata": {},
   "outputs": [
    {
     "data": {
      "text/plain": [
       "596580"
      ]
     },
     "execution_count": 10,
     "metadata": {},
     "output_type": "execute_result"
    }
   ],
   "source": [
    "len(names_to_ids)"
   ]
  },
  {
   "cell_type": "code",
   "execution_count": 11,
   "id": "773028d3-f160-454a-a32d-799ffed6fdf3",
   "metadata": {},
   "outputs": [],
   "source": [
    "uniprot_to_ids = kgfe.graph_info.spoke_identifiers_to_ids(spoke_graph_ud, 'Protein')"
   ]
  },
  {
   "cell_type": "code",
   "execution_count": 12,
   "id": "e0f9b2d4-f692-4a0d-8d21-2ea10ee20ed4",
   "metadata": {},
   "outputs": [],
   "source": [
    "chembl_to_ids = kgfe.graph_info.spoke_identifiers_to_ids(spoke_graph_ud, 'Compound')"
   ]
  },
  {
   "cell_type": "code",
   "execution_count": 13,
   "id": "c428f23c-f792-4beb-9bd0-33e16d6e3de6",
   "metadata": {},
   "outputs": [],
   "source": [
    "high_prots = data[(data['Lasso_CV'] > 0) & (~data['UniProt'].isna())]['UniProt']\n",
    "low_prots = data[(data['Lasso_CV'] < 0) & (~data['UniProt'].isna())]['UniProt']\n",
    "high_chems = data[(data['Lasso_CV'] > 0) & (~data['Chembl_ID'].isna())]['Chembl_ID']\n",
    "low_chems = data[(data['Lasso_CV'] < 0) & (~data['Chembl_ID'].isna())]['Chembl_ID']"
   ]
  },
  {
   "cell_type": "code",
   "execution_count": 14,
   "id": "3624838e-37c7-4f7c-9e08-c7d74343d1ec",
   "metadata": {},
   "outputs": [],
   "source": [
    "high_prots_spoke_ids = [uniprot_to_ids[x] for x in high_prots]\n",
    "low_prots_spoke_ids = [uniprot_to_ids[x] for x in low_prots]"
   ]
  },
  {
   "cell_type": "code",
   "execution_count": 15,
   "id": "a8eef9ba-becf-4c57-bd16-764e67388e35",
   "metadata": {},
   "outputs": [
    {
     "data": {
      "text/plain": [
       "['10584',\n",
       " '10618',\n",
       " '10577',\n",
       " '14694',\n",
       " '3393',\n",
       " '479',\n",
       " '3332',\n",
       " '10685',\n",
       " '3508',\n",
       " '19496']"
      ]
     },
     "execution_count": 15,
     "metadata": {},
     "output_type": "execute_result"
    }
   ],
   "source": [
    "high_prots_spoke_ids[:10]"
   ]
  },
  {
   "cell_type": "code",
   "execution_count": 16,
   "id": "f44dda64-ca95-4365-9535-5ec8c3189abe",
   "metadata": {},
   "outputs": [],
   "source": [
    "high_chems_spoke_ids = [(x, chembl_to_ids[x]) for x in high_chems if  x in chembl_to_ids]\n",
    "low_chems_spoke_ids = [(x, chembl_to_ids[x]) for x in low_chems if  x in chembl_to_ids]"
   ]
  },
  {
   "cell_type": "markdown",
   "id": "6db61358-2ede-489a-a247-19a2666cbe46",
   "metadata": {},
   "source": [
    "Note: many chems were not able to be mapped onto SPOKE."
   ]
  },
  {
   "cell_type": "code",
   "execution_count": 17,
   "id": "4bfdf0ae-4aba-4ecd-b856-808b66161848",
   "metadata": {},
   "outputs": [
    {
     "data": {
      "text/plain": [
       "[('CHEMBL792', '523510'),\n",
       " ('CHEMBL3706504', '535189'),\n",
       " ('CHEMBL78', '173395'),\n",
       " ('CHEMBL1162484', '525160'),\n",
       " ('CHEMBL1236395', '524231'),\n",
       " ('CHEMBL8165', '521673'),\n",
       " ('CHEMBL1226', '516414')]"
      ]
     },
     "execution_count": 17,
     "metadata": {},
     "output_type": "execute_result"
    }
   ],
   "source": [
    "high_chems_spoke_ids"
   ]
  },
  {
   "cell_type": "code",
   "execution_count": 18,
   "id": "3587ba8e-3f1c-4b09-8309-ce14e0bfb25d",
   "metadata": {},
   "outputs": [
    {
     "data": {
      "text/plain": [
       "[('CHEMBL3092389', '534667'),\n",
       " ('CHEMBL266158', '524340'),\n",
       " ('CHEMBL242341', '520625'),\n",
       " ('CHEMBL454808', '523091'),\n",
       " ('CHEMBL449129', '523116'),\n",
       " ('CHEMBL228057', '519122'),\n",
       " ('CHEMBL366563', '534527'),\n",
       " ('CHEMBL1256480', '523670'),\n",
       " ('CHEMBL394875', '535751')]"
      ]
     },
     "execution_count": 18,
     "metadata": {},
     "output_type": "execute_result"
    }
   ],
   "source": [
    "low_chems_spoke_ids"
   ]
  },
  {
   "cell_type": "markdown",
   "id": "f26a808d-e337-4cc6-8dba-99b2ee7bdfd2",
   "metadata": {
    "tags": []
   },
   "source": [
    "### TODO: Compare the identified nodes against a null model."
   ]
  },
  {
   "cell_type": "code",
   "execution_count": 19,
   "id": "c8362645-9939-445b-b1a5-6e3a92dfa83a",
   "metadata": {},
   "outputs": [],
   "source": [
    "spoke_graph_ud_connected = spoke_graph_ud.subcomponent(high_prots_spoke_ids[0])\n",
    "spoke_graph_ud_connected = spoke_graph_ud.induced_subgraph(spoke_graph_ud_connected)"
   ]
  },
  {
   "cell_type": "code",
   "execution_count": 20,
   "id": "9a015848-26c3-49b6-b7a8-13c84973cb40",
   "metadata": {},
   "outputs": [
    {
     "data": {
      "text/plain": [
       "31"
      ]
     },
     "execution_count": 20,
     "metadata": {},
     "output_type": "execute_result"
    }
   ],
   "source": [
    "len(high_prots_spoke_ids)"
   ]
  },
  {
   "cell_type": "code",
   "execution_count": 21,
   "id": "9a014867-9f49-47ad-b564-6d19328a67cc",
   "metadata": {},
   "outputs": [
    {
     "data": {
      "text/plain": [
       "23"
      ]
     },
     "execution_count": 21,
     "metadata": {},
     "output_type": "execute_result"
    }
   ],
   "source": [
    "len(low_prots_spoke_ids)"
   ]
  },
  {
   "cell_type": "code",
   "execution_count": 22,
   "id": "fdd4f8d1-65c3-4554-8066-238be384fe1b",
   "metadata": {},
   "outputs": [
    {
     "name": "stdout",
     "output_type": "stream",
     "text": [
      " "
     ]
    },
    {
     "data": {
      "text/plain": [
       "         81 function calls in 0.791 seconds\n",
       "\n",
       "   Ordered by: internal time\n",
       "\n",
       "   ncalls  tottime  percall  cumtime  percall filename:lineno(function)\n",
       "        1    0.752    0.752    0.752    0.752 {method 'distances' of 'igraph._igraph.GraphBase' objects}\n",
       "        1    0.038    0.038    0.038    0.038 {method 'transitivity_local_undirected' of 'igraph._igraph.GraphBase' objects}\n",
       "        1    0.000    0.000    0.790    0.790 explanations.py:100(graph_node_stats)\n",
       "        1    0.000    0.000    0.000    0.000 {method 'degree' of 'igraph._igraph.GraphBase' objects}\n",
       "        1    0.000    0.000    0.791    0.791 {built-in method builtins.exec}\n",
       "        4    0.000    0.000    0.000    0.000 {method 'reduce' of 'numpy.ufunc' objects}\n",
       "        1    0.000    0.000    0.000    0.000 _methods.py:196(_var)\n",
       "        2    0.000    0.000    0.000    0.000 _methods.py:163(_mean)\n",
       "        3    0.000    0.000    0.000    0.000 _methods.py:66(_count_reduce_items)\n",
       "        2    0.000    0.000    0.000    0.000 fromnumeric.py:3313(mean)\n",
       "        1    0.000    0.000    0.790    0.790 <string>:1(<module>)\n",
       "        4    0.000    0.000    0.000    0.000 {built-in method numpy.asanyarray}\n",
       "        1    0.000    0.000    0.000    0.000 {built-in method numpy.array}\n",
       "        2    0.000    0.000    0.000    0.000 <__array_function__ internals>:177(mean)\n",
       "        3    0.000    0.000    0.000    0.000 {built-in method numpy.core._multiarray_umath.implement_array_function}\n",
       "       25    0.000    0.000    0.000    0.000 {method 'extend' of 'list' objects}\n",
       "        3    0.000    0.000    0.000    0.000 {built-in method numpy.core._multiarray_umath.normalize_axis_index}\n",
       "        1    0.000    0.000    0.000    0.000 _methods.py:263(_std)\n",
       "        5    0.000    0.000    0.000    0.000 {built-in method builtins.isinstance}\n",
       "        1    0.000    0.000    0.000    0.000 {built-in method builtins.sum}\n",
       "        1    0.000    0.000    0.000    0.000 fromnumeric.py:3441(std)\n",
       "        3    0.000    0.000    0.000    0.000 {built-in method builtins.len}\n",
       "        4    0.000    0.000    0.000    0.000 {built-in method builtins.hasattr}\n",
       "        5    0.000    0.000    0.000    0.000 {built-in method builtins.issubclass}\n",
       "        1    0.000    0.000    0.000    0.000 <__array_function__ internals>:177(std)\n",
       "        2    0.000    0.000    0.000    0.000 fromnumeric.py:3308(_mean_dispatcher)\n",
       "        1    0.000    0.000    0.000    0.000 {method 'disable' of '_lsprof.Profiler' objects}\n",
       "        1    0.000    0.000    0.000    0.000 fromnumeric.py:3436(_std_dispatcher)"
      ]
     },
     "metadata": {},
     "output_type": "display_data"
    }
   ],
   "source": [
    "%prun high_prots_stats = kgfe.explanations.graph_node_stats(spoke_graph_ud_connected, high_prots_spoke_ids)"
   ]
  },
  {
   "cell_type": "code",
   "execution_count": 23,
   "id": "116c86f1-b04c-4cce-85d7-6f34cc0c0e6b",
   "metadata": {},
   "outputs": [
    {
     "name": "stderr",
     "output_type": "stream",
     "text": [
      "IOStream.flush timed out\n"
     ]
    },
    {
     "name": "stdout",
     "output_type": "stream",
     "text": [
      " "
     ]
    },
    {
     "data": {
      "text/plain": [
       "         641913 function calls (641909 primitive calls) in 208.024 seconds\n",
       "\n",
       "   Ordered by: internal time\n",
       "\n",
       "   ncalls  tottime  percall  cumtime  percall filename:lineno(function)\n",
       "      100  203.072    2.031  203.072    2.031 {method 'distances' of 'igraph._igraph.GraphBase' objects}\n",
       "      100    3.473    0.035    3.473    0.035 {method 'transitivity_local_undirected' of 'igraph._igraph.GraphBase' objects}\n",
       "        1    0.672    0.672    0.904    0.904 graph_info.py:236(nodes_in_category)\n",
       "      100    0.530    0.005  207.108    2.071 explanations.py:100(graph_node_stats)\n",
       "   597317    0.229    0.000    0.229    0.000 {method 'attributes' of 'igraph.Vertex' objects}\n",
       "     3000    0.013    0.000    0.013    0.000 {method 'extend' of 'list' objects}\n",
       "     3100    0.005    0.000    0.005    0.000 {method 'add' of 'set' objects}\n",
       "      400    0.004    0.000    0.004    0.000 {method 'reduce' of 'numpy.ufunc' objects}\n",
       "      100    0.003    0.000    0.004    0.000 _methods.py:196(_var)\n",
       "    21430    0.003    0.000    0.003    0.000 {method 'append' of 'list' objects}\n",
       "      100    0.002    0.000    0.010    0.000 random.py:406(sample)\n",
       "      300    0.002    0.000    0.002    0.000 _methods.py:66(_count_reduce_items)\n",
       "      200    0.002    0.000    0.009    0.000 _methods.py:163(_mean)\n",
       "      200    0.002    0.000    0.011    0.000 fromnumeric.py:3313(mean)\n",
       "      100    0.002    0.000    0.002    0.000 {method 'degree' of 'igraph._igraph.GraphBase' objects}\n",
       "     3100    0.002    0.000    0.002    0.000 random.py:239(_randbelow_with_getrandbits)\n",
       "        1    0.001    0.001  208.024  208.024 explanations.py:204(null_graph_stats)\n",
       "      100    0.001    0.000    0.001    0.000 {built-in method numpy.array}\n",
       "        1    0.001    0.001    0.001    0.001 explanations.py:223(<listcomp>)\n",
       "      400    0.001    0.000    0.001    0.000 {built-in method numpy.asanyarray}\n",
       "      200    0.001    0.000    0.012    0.000 <__array_function__ internals>:177(mean)\n",
       "      300    0.001    0.000    0.016    0.000 {built-in method numpy.core._multiarray_umath.implement_array_function}\n",
       "      100    0.000    0.000    0.004    0.000 _methods.py:263(_std)\n",
       "     4847    0.000    0.000    0.000    0.000 {method 'getrandbits' of '_random.Random' objects}\n",
       "      100    0.000    0.000    0.000    0.000 {built-in method builtins.sum}\n",
       "      600    0.000    0.000    0.001    0.000 {built-in method builtins.isinstance}\n",
       "      100    0.000    0.000    0.000    0.000 {built-in method math.log}\n",
       "      100    0.000    0.000    0.005    0.000 fromnumeric.py:3441(std)\n",
       "      400    0.000    0.000    0.000    0.000 {built-in method builtins.hasattr}\n",
       "      100    0.000    0.000    0.000    0.000 {built-in method _abc._abc_instancecheck}\n",
       "     3100    0.000    0.000    0.000    0.000 {method 'bit_length' of 'int' objects}\n",
       "      500    0.000    0.000    0.000    0.000 {built-in method builtins.issubclass}\n",
       "      300    0.000    0.000    0.000    0.000 {built-in method numpy.core._multiarray_umath.normalize_axis_index}\n",
       "      401    0.000    0.000    0.000    0.000 {built-in method builtins.len}\n",
       "        1    0.000    0.000  208.024  208.024 {built-in method builtins.exec}\n",
       "        1    0.000    0.000  208.024  208.024 <string>:1(<module>)\n",
       "      100    0.000    0.000    0.005    0.000 <__array_function__ internals>:177(std)\n",
       "      200    0.000    0.000    0.000    0.000 fromnumeric.py:3308(_mean_dispatcher)\n",
       "      100    0.000    0.000    0.000    0.000 {built-in method math.ceil}\n",
       "      100    0.000    0.000    0.000    0.000 abc.py:117(__instancecheck__)\n",
       "      100    0.000    0.000    0.000    0.000 fromnumeric.py:3436(_std_dispatcher)\n",
       "      3/1    0.000    0.000    0.000    0.000 {built-in method _abc._abc_subclasscheck}\n",
       "        1    0.000    0.000    0.000    0.000 <frozen importlib._bootstrap>:404(parent)\n",
       "        1    0.000    0.000    0.000    0.000 __init__.py:585(vs)\n",
       "        1    0.000    0.000    0.000    0.000 {method 'rpartition' of 'str' objects}\n",
       "      3/1    0.000    0.000    0.000    0.000 abc.py:121(__subclasscheck__)\n",
       "        3    0.000    0.000    0.000    0.000 _collections_abc.py:315(__subclasshook__)\n",
       "        1    0.000    0.000    0.000    0.000 {method 'disable' of '_lsprof.Profiler' objects}"
      ]
     },
     "metadata": {},
     "output_type": "display_data"
    }
   ],
   "source": [
    "%prun high_prots_null_results = kgfe.explanations.null_graph_stats(spoke_graph_ud_connected, 'Protein', len(high_prots_spoke_ids))"
   ]
  },
  {
   "cell_type": "code",
   "execution_count": 24,
   "id": "45c506b2-7da0-43da-8ee6-e64a01a18b2b",
   "metadata": {},
   "outputs": [
    {
     "name": "stdout",
     "output_type": "stream",
     "text": [
      "CPU times: user 2min 24s, sys: 4.04 s, total: 2min 28s\n",
      "Wall time: 2min 29s\n"
     ]
    }
   ],
   "source": [
    "%time low_prots_null_results = kgfe.explanations.null_graph_stats(spoke_graph_ud_connected, 'Protein', len(low_prots_spoke_ids))"
   ]
  },
  {
   "cell_type": "code",
   "execution_count": 25,
   "id": "9ba3324c-8874-4a7a-bf24-3b823c72a10d",
   "metadata": {},
   "outputs": [
    {
     "name": "stdout",
     "output_type": "stream",
     "text": [
      "CPU times: user 662 ms, sys: 47.9 ms, total: 710 ms\n",
      "Wall time: 711 ms\n"
     ]
    }
   ],
   "source": [
    "%time high_prots_stats = kgfe.explanations.graph_node_stats(spoke_graph_ud_connected, high_prots_spoke_ids)"
   ]
  },
  {
   "cell_type": "code",
   "execution_count": 26,
   "id": "8ad8ea65-b4cf-4ab6-aa01-1268366e5d0c",
   "metadata": {},
   "outputs": [
    {
     "name": "stdout",
     "output_type": "stream",
     "text": [
      "CPU times: user 110 ms, sys: 0 ns, total: 110 ms\n",
      "Wall time: 110 ms\n"
     ]
    }
   ],
   "source": [
    "%time low_prots_stats = kgfe.explanations.graph_node_stats(spoke_graph_ud_connected, low_prots_spoke_ids)"
   ]
  },
  {
   "cell_type": "code",
   "execution_count": 27,
   "id": "5febc030-f729-4bf6-9192-aac6da61bc7a",
   "metadata": {},
   "outputs": [],
   "source": [
    "high_prots_null_results = pd.DataFrame(high_prots_null_results)\n",
    "low_prots_null_results = pd.DataFrame(low_prots_null_results)\n"
   ]
  },
  {
   "cell_type": "code",
   "execution_count": 28,
   "id": "d8fd28e3-6895-4966-a02f-43ffa11766ab",
   "metadata": {},
   "outputs": [
    {
     "data": {
      "text/plain": [
       "average_pairwise_distance      2.574667\n",
       "degree_mean                  211.670645\n",
       "degree_std                   326.515101\n",
       "clustering                     0.282156\n",
       "dtype: float64"
      ]
     },
     "execution_count": 28,
     "metadata": {},
     "output_type": "execute_result"
    }
   ],
   "source": [
    "high_prots_null_results.mean()"
   ]
  },
  {
   "cell_type": "code",
   "execution_count": 29,
   "id": "1ca22792-1a8d-4cb7-9f41-d0744e8c630a",
   "metadata": {},
   "outputs": [
    {
     "data": {
      "text/plain": [
       "average_pairwise_distance      2.556838\n",
       "degree_mean                  199.704783\n",
       "degree_std                   282.459354\n",
       "clustering                     0.284392\n",
       "dtype: float64"
      ]
     },
     "execution_count": 29,
     "metadata": {},
     "output_type": "execute_result"
    }
   ],
   "source": [
    "low_prots_null_results.mean()"
   ]
  },
  {
   "cell_type": "code",
   "execution_count": 31,
   "id": "d58e2bef-f99f-4f23-86c0-c358e514b630",
   "metadata": {},
   "outputs": [],
   "source": [
    "import matplotlib.pyplot as plt"
   ]
  },
  {
   "cell_type": "code",
   "execution_count": 32,
   "id": "aa12e07b-f496-4861-b2a9-5c66a0783be5",
   "metadata": {},
   "outputs": [
    {
     "data": {
      "text/plain": [
       "<matplotlib.legend.Legend at 0x7f6e581dbee0>"
      ]
     },
     "execution_count": 32,
     "metadata": {},
     "output_type": "execute_result"
    },
    {
     "data": {
      "image/png": "[encoded data removed]",
      "text/plain": [
       "<Figure size 640x480 with 1 Axes>"
      ]
     },
     "metadata": {},
     "output_type": "display_data"
    }
   ],
   "source": [
    "plt.hist(high_prots_null_results.average_pairwise_distance, bins=10, label='random')\n",
    "plt.plot([high_prots_stats['average_pairwise_distance'], high_prots_stats['average_pairwise_distance']], [0, 10], label='top proteins')\n",
    "plt.xlabel('Average pairwise distance between proteins in SPOKE (lower = more related)')\n",
    "plt.legend()"
   ]
  },
  {
   "cell_type": "code",
   "execution_count": 33,
   "id": "ecf03de1-04fd-493d-bc11-b31379f325ba",
   "metadata": {},
   "outputs": [
    {
     "data": {
      "text/plain": [
       "<matplotlib.legend.Legend at 0x7f6e57cceaa0>"
      ]
     },
     "execution_count": 33,
     "metadata": {},
     "output_type": "execute_result"
    },
    {
     "data": {
      "image/png": "[encoded data removed]",
      "text/plain": [
       "<Figure size 640x480 with 1 Axes>"
      ]
     },
     "metadata": {},
     "output_type": "display_data"
    }
   ],
   "source": [
    "plt.hist(low_prots_null_results.average_pairwise_distance, bins=10, label='random')\n",
    "plt.plot([low_prots_stats['average_pairwise_distance'], low_prots_stats['average_pairwise_distance']], [0, 10], label='low proteins')\n",
    "plt.xlabel('Average pairwise distance between proteins in SPOKE (lower = more related)')\n",
    "plt.legend()"
   ]
  },
  {
   "cell_type": "markdown",
   "id": "2abaddb6-20a7-4b36-a5dd-61f3b7689a89",
   "metadata": {},
   "source": [
    "## 3. Run topic PageRank"
   ]
  },
  {
   "cell_type": "code",
   "execution_count": 34,
   "id": "a28574cc-d6ce-4156-9151-8256a1780aae",
   "metadata": {},
   "outputs": [],
   "source": [
    "high_prots_pr_results, high_prots_top_nodes = kgfe.explanations.topic_pagerank(spoke_graph_ud, high_prots_spoke_ids)"
   ]
  },
  {
   "cell_type": "code",
   "execution_count": 35,
   "id": "5835d45b-331c-47e5-b2de-284cf901b4bc",
   "metadata": {},
   "outputs": [],
   "source": [
    "low_prots_pr_results, low_prots_top_nodes = kgfe.explanations.topic_pagerank(spoke_graph_ud, low_prots_spoke_ids)"
   ]
  },
  {
   "cell_type": "code",
   "execution_count": 36,
   "id": "2b80350c-d9d7-441e-89e4-1902b8432f10",
   "metadata": {},
   "outputs": [],
   "source": [
    "high_chems_pr_results, high_chems_top_nodes = kgfe.explanations.topic_pagerank(spoke_graph_ud, [x[1] for x in high_chems_spoke_ids])"
   ]
  },
  {
   "cell_type": "code",
   "execution_count": 37,
   "id": "cfd13076-7cb8-408d-be88-fb4321f73613",
   "metadata": {},
   "outputs": [],
   "source": [
    "low_chems_pr_results, low_chems_top_nodes = kgfe.explanations.topic_pagerank(spoke_graph_ud, [x[1] for x in low_chems_spoke_ids])"
   ]
  },
  {
   "cell_type": "code",
   "execution_count": 38,
   "id": "4f72aeec-0931-4fbc-b232-721066ee3299",
   "metadata": {},
   "outputs": [],
   "source": [
    "high_prots_top_proteins = [x for x in high_prots_top_nodes if x['category'] == 'Protein']\n",
    "high_prots_top_genes = [x for x in high_prots_top_nodes if x['category'] == 'Gene']"
   ]
  },
  {
   "cell_type": "markdown",
   "id": "4e0c8a58-c007-4017-ad27-f1f4154f99cf",
   "metadata": {},
   "source": [
    "## 4. Plot PageRank results"
   ]
  },
  {
   "cell_type": "code",
   "execution_count": 40,
   "id": "546471ef-70bb-43c9-96bd-e23890119fea",
   "metadata": {},
   "outputs": [],
   "source": [
    "import matplotlib.pyplot as plt"
   ]
  },
  {
   "cell_type": "markdown",
   "id": "7477d264-6a71-45f2-a4e4-bb3be28ac108",
   "metadata": {},
   "source": [
    "### Proteins with positive Lasso_CV scores"
   ]
  },
  {
   "cell_type": "code",
   "execution_count": 41,
   "id": "824bea07-035b-4e57-900c-a61363bb8975",
   "metadata": {},
   "outputs": [
    {
     "data": {
      "image/png": "[encoded data removed]",
      "text/plain": [
       "<Figure size 400x500 with 1 Axes>"
      ]
     },
     "metadata": {},
     "output_type": "display_data"
    }
   ],
   "source": [
    "fig, ax = plt.subplots(figsize=(4, 5))\n",
    "ax.tick_params(axis='both', which='major', labelsize=8)\n",
    "ax.barh([x['feature_name'] for x in high_prots_top_nodes[:20][::-1]], [x['score'] for x in high_prots_top_nodes[:20][::-1]], )\n",
    "plt.title('Associated nodes for proteins with positive Lasso_CV scores')\n",
    "ax.set_xlabel('PageRank score', fontsize=8)\n",
    "plt.tight_layout()"
   ]
  },
  {
   "cell_type": "code",
   "execution_count": 42,
   "id": "30c5c486-26a9-44b0-9a4f-4f8ee608026a",
   "metadata": {},
   "outputs": [
    {
     "data": {
      "image/png": "[encoded data removed]",
      "text/plain": [
       "<Figure size 400x500 with 1 Axes>"
      ]
     },
     "metadata": {},
     "output_type": "display_data"
    }
   ],
   "source": [
    "high_prots_top_proteins = [x for x in high_prots_top_nodes if x['category'] == 'Protein']\n",
    "\n",
    "fig, ax = plt.subplots(figsize=(4, 5))\n",
    "ax.tick_params(axis='both', which='major', labelsize=8)\n",
    "ax.barh([x['feature_name'] for x in high_prots_top_proteins[:20][::-1]], [x['score'] for x in high_prots_top_proteins[:20][::-1]], )\n",
    "plt.title('Associated proteins for proteins with positive Lasso_CV scores')\n",
    "ax.set_xlabel('PageRank score', fontsize=8)\n",
    "plt.tight_layout()"
   ]
  },
  {
   "cell_type": "code",
   "execution_count": 43,
   "id": "51463235-a492-4ce7-9e43-5d6e7ffac343",
   "metadata": {},
   "outputs": [
    {
     "data": {
      "image/png": "[encoded data removed]",
      "text/plain": [
       "<Figure size 400x500 with 1 Axes>"
      ]
     },
     "metadata": {},
     "output_type": "display_data"
    }
   ],
   "source": [
    "high_prots_top_genes = [x for x in high_prots_top_nodes if x['category'] == 'Gene']\n",
    "\n",
    "fig, ax = plt.subplots(figsize=(4, 5))\n",
    "ax.tick_params(axis='both', which='major', labelsize=8)\n",
    "ax.barh([x['feature_name'] for x in high_prots_top_genes[:20][::-1]], [x['score'] for x in high_prots_top_genes[:20][::-1]], )\n",
    "plt.title('Associated genes for proteins with positive Lasso_CV scores')\n",
    "ax.set_xlabel('PageRank score', fontsize=8)\n",
    "plt.tight_layout()"
   ]
  },
  {
   "cell_type": "markdown",
   "id": "e2df5657-027d-492b-9796-c38fa7882f50",
   "metadata": {},
   "source": [
    "### Proteins with negative Lasso_CV scores"
   ]
  },
  {
   "cell_type": "code",
   "execution_count": 44,
   "id": "6086f030-b502-4162-9932-026547cb4381",
   "metadata": {},
   "outputs": [
    {
     "data": {
      "image/png": "[encoded data removed]",
      "text/plain": [
       "<Figure size 400x500 with 1 Axes>"
      ]
     },
     "metadata": {},
     "output_type": "display_data"
    }
   ],
   "source": [
    "fig, ax = plt.subplots(figsize=(4, 5))\n",
    "ax.tick_params(axis='both', which='major', labelsize=8)\n",
    "ax.barh([x['feature_name'] for x in low_prots_top_nodes[:20][::-1]], [x['score'] for x in low_prots_top_nodes[:20][::-1]], )\n",
    "plt.title('Associated nodes for proteins with negative Lasso_CV scores')\n",
    "ax.set_xlabel('PageRank score', fontsize=8)\n",
    "plt.tight_layout()"
   ]
  },
  {
   "cell_type": "code",
   "execution_count": 45,
   "id": "ec31cb5c-3894-418a-a443-b3bfbef8ebd4",
   "metadata": {},
   "outputs": [
    {
     "data": {
      "image/png": "[encoded data removed]",
      "text/plain": [
       "<Figure size 400x500 with 1 Axes>"
      ]
     },
     "metadata": {},
     "output_type": "display_data"
    }
   ],
   "source": [
    "low_prots_top_proteins = [x for x in low_prots_top_nodes if x['category'] == 'Protein']\n",
    "\n",
    "fig, ax = plt.subplots(figsize=(4, 5))\n",
    "ax.tick_params(axis='both', which='major', labelsize=8)\n",
    "ax.barh([x['feature_name'] for x in low_prots_top_proteins[:20][::-1]], [x['score'] for x in low_prots_top_proteins[:20][::-1]], )\n",
    "plt.title('Associated proteins for proteins with negative Lasso_CV scores')\n",
    "ax.set_xlabel('PageRank score', fontsize=8)\n",
    "plt.tight_layout()"
   ]
  },
  {
   "cell_type": "code",
   "execution_count": 46,
   "id": "c605284b-52f7-406c-9733-f1d8da8675ee",
   "metadata": {},
   "outputs": [
    {
     "data": {
      "image/png": "[encoded data removed]",
      "text/plain": [
       "<Figure size 400x500 with 1 Axes>"
      ]
     },
     "metadata": {},
     "output_type": "display_data"
    }
   ],
   "source": [
    "low_prots_top_genes = [x for x in low_prots_top_nodes if x['category'] == 'Gene']\n",
    "\n",
    "fig, ax = plt.subplots(figsize=(4, 5))\n",
    "ax.tick_params(axis='both', which='major', labelsize=8)\n",
    "ax.barh([x['feature_name'] for x in low_prots_top_genes[:20][::-1]], [x['score'] for x in low_prots_top_genes[:20][::-1]], )\n",
    "plt.title('Associated genes for proteins with negative Lasso_CV scores')\n",
    "ax.set_xlabel('PageRank score', fontsize=8)\n",
    "plt.tight_layout()"
   ]
  },
  {
   "cell_type": "markdown",
   "id": "dce67a51-6c75-4c14-991e-cc05ecbea107",
   "metadata": {},
   "source": [
    "### Chems with positive Lasso_CV scores"
   ]
  },
  {
   "cell_type": "code",
   "execution_count": 47,
   "id": "7192c8b9-e66b-4ab9-b26b-05ea262ee920",
   "metadata": {},
   "outputs": [
    {
     "data": {
      "image/png": "[encoded data removed]",
      "text/plain": [
       "<Figure size 400x500 with 1 Axes>"
      ]
     },
     "metadata": {},
     "output_type": "display_data"
    }
   ],
   "source": [
    "fig, ax = plt.subplots(figsize=(4, 5))\n",
    "ax.tick_params(axis='both', which='major', labelsize=8)\n",
    "ax.barh([x['feature_name'] for x in high_chems_top_nodes[:20][::-1]], [x['score'] for x in high_chems_top_nodes[:20][::-1]], )\n",
    "plt.title('Associated nodes for chems with positive Lasso_CV scores')\n",
    "ax.set_xlabel('PageRank score', fontsize=8)\n",
    "plt.tight_layout()"
   ]
  },
  {
   "cell_type": "code",
   "execution_count": 48,
   "id": "f88bf376-5bef-416f-b431-477f5ce89a92",
   "metadata": {},
   "outputs": [
    {
     "data": {
      "image/png": "[encoded data removed]",
      "text/plain": [
       "<Figure size 400x500 with 1 Axes>"
      ]
     },
     "metadata": {},
     "output_type": "display_data"
    }
   ],
   "source": [
    "high_chems_top_proteins = [x for x in high_chems_top_nodes if x['category'] == 'Protein']\n",
    "\n",
    "fig, ax = plt.subplots(figsize=(4, 5))\n",
    "ax.tick_params(axis='both', which='major', labelsize=8)\n",
    "ax.barh([x['feature_name'] for x in high_chems_top_proteins[:20][::-1]], [x['score'] for x in high_chems_top_proteins[:20][::-1]], )\n",
    "plt.title('Associated proteins for chems with positive Lasso_CV scores')\n",
    "ax.set_xlabel('PageRank score', fontsize=8)\n",
    "plt.tight_layout()"
   ]
  },
  {
   "cell_type": "code",
   "execution_count": 49,
   "id": "a69757b8-5547-4dd3-957a-68a93f0852ad",
   "metadata": {},
   "outputs": [
    {
     "data": {
      "image/png": "[encoded data removed]",
      "text/plain": [
       "<Figure size 400x500 with 1 Axes>"
      ]
     },
     "metadata": {},
     "output_type": "display_data"
    }
   ],
   "source": [
    "high_chems_top_genes = [x for x in high_chems_top_nodes if x['category'] == 'Gene']\n",
    "\n",
    "fig, ax = plt.subplots(figsize=(4, 5))\n",
    "ax.tick_params(axis='both', which='major', labelsize=8)\n",
    "ax.barh([x['feature_name'] for x in high_chems_top_genes[:20][::-1]], [x['score'] for x in high_chems_top_genes[:20][::-1]], )\n",
    "plt.title('Associated genes for chems with positive Lasso_CV scores')\n",
    "ax.set_xlabel('PageRank score', fontsize=8)\n",
    "plt.tight_layout()"
   ]
  },
  {
   "cell_type": "code",
   "execution_count": 50,
   "id": "f82235ce-6f7d-4b26-ba71-ba6705e5b665",
   "metadata": {},
   "outputs": [
    {
     "data": {
      "image/png": "[encoded data removed]",
      "text/plain": [
       "<Figure size 400x500 with 1 Axes>"
      ]
     },
     "metadata": {},
     "output_type": "display_data"
    }
   ],
   "source": [
    "high_chems_top_chems = [x for x in high_chems_top_nodes if x['category'] == 'Compound']\n",
    "\n",
    "fig, ax = plt.subplots(figsize=(4, 5))\n",
    "ax.tick_params(axis='both', which='major', labelsize=8)\n",
    "ax.barh([x['feature_name'] for x in high_chems_top_chems[:20][::-1]], [x['score'] for x in high_chems_top_chems[:20][::-1]], )\n",
    "plt.title('Associated chems for chems with positive Lasso_CV scores')\n",
    "ax.set_xlabel('PageRank score', fontsize=8)\n",
    "plt.tight_layout()"
   ]
  },
  {
   "cell_type": "markdown",
   "id": "cd2d058b-6e83-4afd-90d3-627e0b543c5f",
   "metadata": {},
   "source": [
    "### Chems with negative Lasso_CV scores"
   ]
  },
  {
   "cell_type": "code",
   "execution_count": 51,
   "id": "41a23868-0ff2-492c-a3e8-063570ce09f5",
   "metadata": {},
   "outputs": [
    {
     "data": {
      "image/png": "[encoded data removed]",
      "text/plain": [
       "<Figure size 400x500 with 1 Axes>"
      ]
     },
     "metadata": {},
     "output_type": "display_data"
    }
   ],
   "source": [
    "fig, ax = plt.subplots(figsize=(4, 5))\n",
    "ax.tick_params(axis='both', which='major', labelsize=8)\n",
    "ax.barh([x['feature_name'] for x in low_chems_top_nodes[:20][::-1]], [x['score'] for x in low_chems_top_nodes[:20][::-1]], )\n",
    "plt.title('Associated nodes for chems with negative Lasso_CV scores')\n",
    "ax.set_xlabel('PageRank score', fontsize=8)\n",
    "plt.tight_layout()"
   ]
  },
  {
   "cell_type": "code",
   "execution_count": 52,
   "id": "03fc2de1-fb57-4779-9879-d7ffb63a7016",
   "metadata": {},
   "outputs": [
    {
     "data": {
      "image/png": "[encoded data removed]",
      "text/plain": [
       "<Figure size 400x500 with 1 Axes>"
      ]
     },
     "metadata": {},
     "output_type": "display_data"
    }
   ],
   "source": [
    "low_chems_top_proteins = [x for x in low_chems_top_nodes if x['category'] == 'Protein']\n",
    "\n",
    "fig, ax = plt.subplots(figsize=(4, 5))\n",
    "ax.tick_params(axis='both', which='major', labelsize=8)\n",
    "ax.barh([x['feature_name'] for x in low_chems_top_proteins[:20][::-1]], [x['score'] for x in low_chems_top_proteins[:20][::-1]], )\n",
    "plt.title('Associated proteins for chems with negative Lasso_CV scores')\n",
    "ax.set_xlabel('PageRank score', fontsize=8)\n",
    "plt.tight_layout()"
   ]
  },
  {
   "cell_type": "code",
   "execution_count": 53,
   "id": "f3cfc872-b173-4b03-bf2a-13b634e11be0",
   "metadata": {},
   "outputs": [
    {
     "data": {
      "image/png": "[encoded data removed]",
      "text/plain": [
       "<Figure size 400x500 with 1 Axes>"
      ]
     },
     "metadata": {},
     "output_type": "display_data"
    }
   ],
   "source": [
    "low_chems_top_genes = [x for x in high_chems_top_nodes if x['category'] == 'Gene']\n",
    "\n",
    "fig, ax = plt.subplots(figsize=(4, 5))\n",
    "ax.tick_params(axis='both', which='major', labelsize=8)\n",
    "ax.barh([x['feature_name'] for x in low_chems_top_genes[:20][::-1]], [x['score'] for x in low_chems_top_genes[:20][::-1]], )\n",
    "plt.title('Associated genes for chems with negative Lasso_CV scores')\n",
    "ax.set_xlabel('PageRank score', fontsize=8)\n",
    "plt.tight_layout()"
   ]
  },
  {
   "cell_type": "code",
   "execution_count": 54,
   "id": "f5ce1ac2-acf8-45e1-bde5-b00a77f55c9e",
   "metadata": {},
   "outputs": [
    {
     "data": {
      "image/png": "[encoded data removed]",
      "text/plain": [
       "<Figure size 400x500 with 1 Axes>"
      ]
     },
     "metadata": {},
     "output_type": "display_data"
    }
   ],
   "source": [
    "low_chems_top_chems = [x for x in low_chems_top_nodes if x['category'] == 'Compound']\n",
    "\n",
    "fig, ax = plt.subplots(figsize=(4, 5))\n",
    "ax.tick_params(axis='both', which='major', labelsize=8)\n",
    "ax.barh([x['feature_name'] for x in low_chems_top_chems[:20][::-1]], [x['score'] for x in low_chems_top_chems[:20][::-1]], )\n",
    "plt.title('Associated chems for chems with negative Lasso_CV scores')\n",
    "ax.set_xlabel('PageRank score', fontsize=8)\n",
    "plt.tight_layout()"
   ]
  },
  {
   "cell_type": "markdown",
   "id": "82f83bbc-bc22-4bc7-a656-98ab137af9d9",
   "metadata": {},
   "source": [
    "### TODO: pagerank plots for biological-only spoke"
   ]
  },
  {
   "cell_type": "markdown",
   "id": "ddd0fd3d-6f19-470c-9a9a-90f4a36db636",
   "metadata": {},
   "source": [
    "## 5. Get Steiner trees / subgraphs"
   ]
  },
  {
   "cell_type": "code",
   "execution_count": 55,
   "id": "5cde00e3-5ad2-4632-bf04-4c0cb823f0ba",
   "metadata": {},
   "outputs": [],
   "source": [
    "high_protein_st, high_protein_subgraph = kgfe.explanations.steiner_tree_subgraph(spoke_graph_ud,\n",
    "                                                                                 high_prots_spoke_ids,\n",
    "                                                                                 method='takahashi')"
   ]
  },
  {
   "cell_type": "code",
   "execution_count": 56,
   "id": "dd6d2ddc-047a-4434-bacd-619322cbe168",
   "metadata": {},
   "outputs": [],
   "source": [
    "low_protein_st, low_protein_subgraph = kgfe.explanations.steiner_tree_subgraph(spoke_graph_ud,\n",
    "                                                                              low_prots_spoke_ids,\n",
    "                                                                              method='takahashi')"
   ]
  },
  {
   "cell_type": "code",
   "execution_count": 57,
   "id": "3b6ad893-8de3-4f9e-a169-20889dddcff8",
   "metadata": {},
   "outputs": [],
   "source": [
    "# TODO: get a connected component from the first chem?"
   ]
  },
  {
   "cell_type": "code",
   "execution_count": 58,
   "id": "3daa076b-efff-4692-acb8-82ff4b4dca64",
   "metadata": {},
   "outputs": [],
   "source": [
    "high_chems_st, high_chems_subgraph = kgfe.explanations.steiner_tree_subgraph(spoke_graph_ud,\n",
    "                                                                            [x[1] for x in high_chems_spoke_ids],\n",
    "                                                                            method='takahashi')"
   ]
  },
  {
   "cell_type": "code",
   "execution_count": 59,
   "id": "3d7ce206-b77f-4cd5-a1a0-e24f558cc449",
   "metadata": {},
   "outputs": [],
   "source": [
    "low_chems_st, low_chems_subgraph = kgfe.explanations.steiner_tree_subgraph(spoke_graph_ud,\n",
    "                                                                          [x[1] for x in low_chems_spoke_ids],\n",
    "                                                                          method='takahashi')"
   ]
  },
  {
   "cell_type": "markdown",
   "id": "70729f8a-13d5-4e4a-89ac-496d8efdd3e1",
   "metadata": {},
   "source": [
    "## Visualizing subgraphs"
   ]
  },
  {
   "cell_type": "code",
   "execution_count": 61,
   "id": "a8b0136d-3c9f-4d81-9363-aa51ecd1133c",
   "metadata": {},
   "outputs": [],
   "source": [
    "import ipycytoscape"
   ]
  },
  {
   "cell_type": "code",
   "execution_count": 62,
   "id": "05702404-e9fe-4d6d-95ad-6848bf8cf02b",
   "metadata": {},
   "outputs": [],
   "source": [
    "# TODO: display the node category somewhere, and display the edge categories\n",
    "graph_style = [{\n",
    "                        'selector': 'node[feature_name]',\n",
    "                             'style': {\n",
    "                                  'font-family': 'helvetica',\n",
    "                                  'font-size': '20px',\n",
    "                                 'label': 'data(feature_name)',\n",
    "                        }},\n",
    "                        {'selector': 'node[category=\"Protein\"]',\n",
    "                         'style': {\n",
    "                             'background-color': 'blue',\n",
    "                         }},\n",
    "                        {'selector': 'node[in_query=1]',\n",
    "                         'style': {\n",
    "                             'border-width': '5px',\n",
    "                             'border-color': 'red',\n",
    "                         }},\n",
    "                        {'selector': 'edge[type]',\n",
    "                         'style': {\n",
    "                             'label': 'data(type)',\n",
    "                         }},\n",
    "                        {\"selector\": \"edge.directed\",\n",
    "                         \"style\": {\n",
    "                            \"curve-style\": \"bezier\",\n",
    "                            \"target-arrow-shape\": \"triangle\",\n",
    "                    }},\n",
    "\n",
    "                    ]"
   ]
  },
  {
   "cell_type": "code",
   "execution_count": 63,
   "id": "28d4c353-f475-44dc-9408-19a98854b5e0",
   "metadata": {},
   "outputs": [],
   "source": [
    "undirected = ipycytoscape.CytoscapeWidget()\n",
    "high_protein_subgraph_nx = high_protein_subgraph.to_networkx()\n",
    "node_dict = {i: n['name'] for i, n in high_protein_subgraph_nx.nodes.items()}\n",
    "high_protein_subgraph_nx = nx.relabel_nodes(high_protein_subgraph_nx, node_dict)\n",
    "undirected.graph.add_graph_from_networkx(high_protein_subgraph_nx)\n",
    "undirected.set_tooltip_source('feature_name')\n",
    "undirected.set_layout(title='high_proteins', nodeSpacing=80, edgeLengthVal=50, )\n",
    "undirected.set_style(graph_style)"
   ]
  },
  {
   "cell_type": "code",
   "execution_count": 64,
   "id": "837324c0-23c6-4041-abc8-58bc152571fb",
   "metadata": {},
   "outputs": [
    {
     "data": {
      "application/vnd.jupyter.widget-view+json": {
       "model_id": "ac40466c831e43009c6bbffdbf5bb82e",
       "version_major": 2,
       "version_minor": 0
      },
      "text/plain": [
       "CytoscapeWidget(cytoscape_layout={'name': 'cola', 'title': 'high_proteins', 'nodeSpacing': 80, 'edgeLengthVal'…"
      ]
     },
     "metadata": {},
     "output_type": "display_data"
    }
   ],
   "source": [
    "display(undirected)"
   ]
  },
  {
   "cell_type": "code",
   "execution_count": 65,
   "id": "0a71cdaf-9149-441d-8895-f5b2d87ad6bf",
   "metadata": {},
   "outputs": [],
   "source": [
    "low_prots_graph = ipycytoscape.CytoscapeWidget()\n",
    "low_protein_subgraph_nx = low_protein_subgraph.to_networkx()\n",
    "node_dict = {i: n['name'] for i, n in low_protein_subgraph_nx.nodes.items()}\n",
    "low_protein_subgraph_nx = nx.relabel_nodes(low_protein_subgraph_nx, node_dict)\n",
    "low_prots_graph.graph.add_graph_from_networkx(low_protein_subgraph_nx)\n",
    "low_prots_graph.set_tooltip_source('name')\n",
    "low_prots_graph.set_layout(nodeSpacing=80, edgeLengthVal=50)\n",
    "low_prots_graph.set_style(graph_style)"
   ]
  },
  {
   "cell_type": "code",
   "execution_count": 66,
   "id": "a35b42c3-67e5-4f6e-bc88-7726b7c81acb",
   "metadata": {},
   "outputs": [
    {
     "data": {
      "application/vnd.jupyter.widget-view+json": {
       "model_id": "c4108b6d8b33496893af467d6eb22c73",
       "version_major": 2,
       "version_minor": 0
      },
      "text/plain": [
       "CytoscapeWidget(cytoscape_layout={'name': 'cola', 'nodeSpacing': 80, 'edgeLengthVal': 50}, cytoscape_style=[{'…"
      ]
     },
     "metadata": {},
     "output_type": "display_data"
    }
   ],
   "source": [
    "display(low_prots_graph)"
   ]
  },
  {
   "cell_type": "code",
   "execution_count": 67,
   "id": "a298e72b-abc3-4d66-b33b-56709a0d6c54",
   "metadata": {},
   "outputs": [],
   "source": [
    "high_chems_graph = ipycytoscape.CytoscapeWidget()\n",
    "high_chems_subgraph_nx = high_chems_subgraph.to_networkx()\n",
    "node_dict = {i: n['name'] for i, n in high_chems_subgraph_nx.nodes.items()}\n",
    "high_chems_subgraph_nx = nx.relabel_nodes(high_chems_subgraph_nx, node_dict)\n",
    "high_chems_graph.graph.add_graph_from_networkx(high_chems_subgraph_nx)\n",
    "high_chems_graph.set_tooltip_source('name')\n",
    "high_chems_graph.set_layout(nodeSpacing=80, edgeLengthVal=50)\n",
    "high_chems_graph.set_style(graph_style)"
   ]
  },
  {
   "cell_type": "code",
   "execution_count": 68,
   "id": "efd8eb15-8b97-48ba-8d43-b563f87cf93d",
   "metadata": {},
   "outputs": [
    {
     "data": {
      "application/vnd.jupyter.widget-view+json": {
       "model_id": "d0c378e45e1349929f38ce015124268e",
       "version_major": 2,
       "version_minor": 0
      },
      "text/plain": [
       "CytoscapeWidget(cytoscape_layout={'name': 'cola', 'nodeSpacing': 80, 'edgeLengthVal': 50}, cytoscape_style=[{'…"
      ]
     },
     "metadata": {},
     "output_type": "display_data"
    }
   ],
   "source": [
    "display(high_chems_graph)"
   ]
  },
  {
   "cell_type": "code",
   "execution_count": 69,
   "id": "19ae808c-c2f9-446a-87a4-f54a1a403a31",
   "metadata": {},
   "outputs": [],
   "source": [
    "low_chems_graph = ipycytoscape.CytoscapeWidget()\n",
    "low_chems_subgraph_nx = low_chems_subgraph.to_networkx()\n",
    "node_dict = {i: n['name'] for i, n in low_chems_subgraph_nx.nodes.items()}\n",
    "low_chems_subgraph_nx = nx.relabel_nodes(low_chems_subgraph_nx, node_dict)\n",
    "low_chems_graph.graph.add_graph_from_networkx(low_chems_subgraph_nx)\n",
    "low_chems_graph.set_tooltip_source('name')\n",
    "low_chems_graph.set_layout(nodeSpacing=80, edgeLengthVal=50)\n",
    "low_chems_graph.set_style(graph_style)"
   ]
  },
  {
   "cell_type": "code",
   "execution_count": 70,
   "id": "ca677c41-b415-4c41-a6cc-9114d0ee8226",
   "metadata": {},
   "outputs": [
    {
     "data": {
      "application/vnd.jupyter.widget-view+json": {
       "model_id": "61f966cb34a8419184cf37aa1d82ef4e",
       "version_major": 2,
       "version_minor": 0
      },
      "text/plain": [
       "CytoscapeWidget(cytoscape_layout={'name': 'cola', 'nodeSpacing': 80, 'edgeLengthVal': 50}, cytoscape_style=[{'…"
      ]
     },
     "metadata": {},
     "output_type": "display_data"
    }
   ],
   "source": [
    "display(low_chems_graph)"
   ]
  }
 ],
 "metadata": {
  "kernelspec": {
   "display_name": "Python 3 (ipykernel)",
   "language": "python",
   "name": "python3"
  },
  "language_info": {
   "codemirror_mode": {
    "name": "ipython",
    "version": 3
   },
   "file_extension": ".py",
   "mimetype": "text/x-python",
   "name": "python",
   "nbconvert_exporter": "python",
   "pygments_lexer": "ipython3",
   "version": "3.10.6"
  },
  "widgets": {
   "application/vnd.jupyter.widget-state+json": {
    "state": {
     "02650ef33dae43d396d026b817edf2dc": {
      "model_module": "@jupyter-widgets/base",
      "model_module_version": "2.0.0",
      "model_name": "LayoutModel",
      "state": {}
     },
     "04bf3faca85942d895cd19b468c14db9": {
      "model_module": "jupyter-cytoscape",
      "model_module_version": "^1.3.3",
      "model_name": "NodeModel",
      "state": {
       "_model_module_version": "^1.3.3",
       "_view_module_version": "^1.3.3",
       "data": {
        "_igraph_index": 14,
        "category": "Compound",
        "feature_name": "CHEMBL3706504",
        "id": "535189",
        "identifier": "CHEMBL3706504",
        "in_query": 1,
        "name": "535189",
        "source": ""
       },
       "grabbable": true,
       "grabbed": false,
       "position": {
        "x": 608.6887188544747,
        "y": 579.4871906875952
       },
       "selectable": false
      }
     },
     "050ed47a71bc427f80e067bfbe738d05": {
      "model_module": "jupyter-cytoscape",
      "model_module_version": "^1.3.3",
      "model_name": "NodeModel",
      "state": {
       "_model_module_version": "^1.3.3",
       "_view_module_version": "^1.3.3",
       "data": {
        "_igraph_index": 8,
        "category": "Compound",
        "feature_name": "Uridine-5'-Diphosphoglucuronic Acid",
        "id": "519122",
        "identifier": "CHEMBL228057",
        "in_query": 1,
        "name": "519122",
        "source": ""
       },
       "grabbable": true,
       "grabbed": false,
       "position": {
        "x": 820.4546110599721,
        "y": 30.328172548611246
       },
       "selectable": false
      }
     },
     "0605cf516cef4426bca44e28a8cdb7eb": {
      "model_module": "jupyter-cytoscape",
      "model_module_version": "^1.3.3",
      "model_name": "NodeModel",
      "state": {
       "_model_module_version": "^1.3.3",
       "_view_module_version": "^1.3.3",
       "data": {
        "_igraph_index": 14,
        "category": "Protein",
        "feature_name": "LYVE1_HUMAN",
        "id": "9527",
        "identifier": "Q9Y5Y7",
        "in_query": 1,
        "name": "9527",
        "source": "UniProt"
       },
       "grabbable": true,
       "grabbed": false,
       "position": {
        "x": 453.8423154894981,
        "y": 469.719554045916
       },
       "selectable": false
      }
     },
     "06c0546bded542759561945ea7beb733": {
      "model_module": "jupyter-cytoscape",
      "model_module_version": "^1.3.3",
      "model_name": "NodeModel",
      "state": {
       "_model_module_version": "^1.3.3",
       "_view_module_version": "^1.3.3",
       "data": {
        "_igraph_index": 16,
        "category": "Compound",
        "feature_name": "CHEMBL394875",
        "id": "535751",
        "identifier": "CHEMBL394875",
        "in_query": 1,
        "name": "535751",
        "source": ""
       },
       "grabbable": true,
       "grabbed": false,
       "position": {
        "x": 207.12767780304526,
        "y": 331.92540370893886
       },
       "selectable": false
      }
     },
     "07b8d6787ebf45a2b623af63e9297dda": {
      "model_module": "jupyter-cytoscape",
      "model_module_version": "^1.3.3",
      "model_name": "EdgeModel",
      "state": {
       "_model_module_version": "^1.3.3",
       "_view_module_version": "^1.3.3",
       "data": {
        "_igraph_index": 46,
        "id": "fccec96f-0a47-4c9f-94af-eee06b4da5c1",
        "source": "4410",
        "target": "14694",
        "type": "INTERACTS_PiP"
       },
       "selectable": false
      }
     },
     "091286e0d9684bd1b3a17c8c1300547b": {
      "model_module": "jupyter-cytoscape",
      "model_module_version": "^1.3.3",
      "model_name": "EdgeModel",
      "state": {
       "_model_module_version": "^1.3.3",
       "_view_module_version": "^1.3.3",
       "data": {
        "_igraph_index": 40,
        "id": "a95d2625-5708-4fec-b230-5b0d63e69731",
        "source": "11190",
        "target": "10657",
        "type": "INTERACTS_PiP"
       },
       "selectable": false
      }
     },
     "0aeeeccc6512488e91f54d2692532035": {
      "model_module": "jupyter-cytoscape",
      "model_module_version": "^1.3.3",
      "model_name": "CytoscapeModel",
      "state": {
       "_interaction_handlers": {},
       "_model_module_version": "^1.3.3",
       "_view_module_version": "^1.3.3",
       "auto_ungrabify": false,
       "autolock": false,
       "cytoscape_layout": {
        "name": "cola"
       },
       "cytoscape_style": [
        {
         "css": {
          "background-color": "#11479e"
         },
         "selector": "node"
        },
        {
         "css": {
          "background-opacity": 0.333
         },
         "selector": "node:parent"
        },
        {
         "selector": "edge",
         "style": {
          "line-color": "#9dbaea",
          "width": 4
         }
        },
        {
         "selector": "edge.directed",
         "style": {
          "curve-style": "bezier",
          "target-arrow-color": "#9dbaea",
          "target-arrow-shape": "triangle"
         }
        },
        {
         "selector": "edge.multiple_edges",
         "style": {
          "curve-style": "bezier"
         }
        }
       ],
       "desktop_tap_threshold": 4,
       "graph": "IPY_MODEL_fcd4f1e95a6143099c05397219a717f6",
       "headless": false,
       "hide_edges_on_viewport": false,
       "layout": "IPY_MODEL_e8d206799bc149a084be12ac5ece5469",
       "max_zoom": 1e+50,
       "min_zoom": 1e-50,
       "motion_blur": false,
       "motion_blur_opacity": 0.2,
       "panning_enabled": true,
       "pixel_ratio": "auto",
       "rendered_position": {
        "renderedPosition": {
         "x": 100,
         "y": 100
        }
       },
       "selection_type": "single",
       "style_enabled": true,
       "texture_on_viewport": false,
       "tooltip_source": "tooltip",
       "touch_tap_threshold": 8,
       "user_panning_enabled": true,
       "user_zooming_enabled": true,
       "wheel_sensitivity": 1,
       "zoom": 2,
       "zooming_enabled": true
      }
     },
     "0b1bec39e3b642dd8db5868fb9240e7b": {
      "model_module": "jupyter-cytoscape",
      "model_module_version": "^1.3.3",
      "model_name": "EdgeModel",
      "state": {
       "_model_module_version": "^1.3.3",
       "_view_module_version": "^1.3.3",
       "data": {
        "_igraph_index": 19,
        "id": "1efe62ea-c64b-488f-b9ba-12a3c2735f5e",
        "source": "10584",
        "target": "3332",
        "type": "INTERACTS_PiP"
       },
       "selectable": false
      }
     },
     "0d20ba2dd1f04a0cafd132ea56c4e6cd": {
      "model_module": "jupyter-cytoscape",
      "model_module_version": "^1.3.3",
      "model_name": "NodeModel",
      "state": {
       "_model_module_version": "^1.3.3",
       "_view_module_version": "^1.3.3",
       "data": {
        "_igraph_index": 16,
        "category": "Protein",
        "feature_name": "MENT_HUMAN",
        "id": "15762",
        "identifier": "Q9BUN1",
        "in_query": 1,
        "name": "15762",
        "source": "UniProt"
       },
       "grabbable": true,
       "grabbed": false,
       "position": {
        "x": 233.68336836297013,
        "y": 220.75023079573907
       },
       "selectable": false
      }
     },
     "0da8189511e64837a06b055747fce8a4": {
      "model_module": "jupyter-cytoscape",
      "model_module_version": "^1.3.3",
      "model_name": "EdgeModel",
      "state": {
       "_model_module_version": "^1.3.3",
       "_view_module_version": "^1.3.3",
       "data": {
        "_igraph_index": 29,
        "id": "d80b4332-9d5a-4112-b16a-efc107476d8f",
        "source": "10584",
        "target": "10618",
        "type": "INTERACTS_PiP"
       },
       "selectable": false
      }
     },
     "0dc7f66c0efc47449a63fb4d55b1f5ef": {
      "model_module": "jupyter-cytoscape",
      "model_module_version": "^1.3.3",
      "model_name": "NodeModel",
      "state": {
       "_model_module_version": "^1.3.3",
       "_view_module_version": "^1.3.3",
       "data": {
        "_igraph_index": 5,
        "category": "CellType",
        "feature_name": "spermatocyte",
        "id": "49729",
        "identifier": "CL:0000017",
        "in_query": 0,
        "name": "49729",
        "source": "Cell Ontology"
       },
       "grabbable": true,
       "grabbed": false,
       "position": {
        "x": 801.1887198544747,
        "y": 419.49309025155344
       },
       "selectable": false
      }
     },
     "1415bdfb8fe8426c921a0da7e0f03417": {
      "model_module": "jupyter-cytoscape",
      "model_module_version": "^1.3.3",
      "model_name": "EdgeModel",
      "state": {
       "_model_module_version": "^1.3.3",
       "_view_module_version": "^1.3.3",
       "data": {
        "_igraph_index": 33,
        "id": "940fc2e6-6580-4fc6-992e-4d23efd1a674",
        "source": "4941",
        "target": "10685",
        "type": "INTERACTS_PiP"
       },
       "selectable": false
      }
     },
     "15d86fce86f646b8b4acaddd2a2745b4": {
      "model_module": "jupyter-cytoscape",
      "model_module_version": "^1.3.3",
      "model_name": "GraphModel",
      "state": {
       "_adj": {
        "173395": {},
        "17921": {},
        "3479": {},
        "3778": {},
        "49729": {},
        "516414": {},
        "521673": {},
        "523510": {},
        "524231": {},
        "525160": {},
        "535189": {},
        "654": {},
        "713": {},
        "83378": {},
        "93236": {}
       },
       "_model_module_version": "^1.3.3",
       "_view_module": "jupyter-cytoscape",
       "_view_module_version": "^1.3.3",
       "edges": [
        "IPY_MODEL_6a3c0b4a66fb44cb8c32395ce8b5d2d3",
        "IPY_MODEL_ed09f407d9ae4ab48dce9e547192f880",
        "IPY_MODEL_d7e235d858cc4900a5a280f35a684481",
        "IPY_MODEL_3a2cfd2ee9b34db097cb0f91f06b7fd7",
        "IPY_MODEL_a4dcfa2f97cf4460ac641638692dd620",
        "IPY_MODEL_db643a508ee04fe0b2fcbccbec221dd7",
        "IPY_MODEL_90a3a79cfb194315b7b4e6f749ac3b61",
        "IPY_MODEL_b55dae10050f4fe0973b1581fcbdb386",
        "IPY_MODEL_b1cd52bb1af0440bbda286059d0fb337",
        "IPY_MODEL_b21a0da08a4b41f3a6eb4e6114cf930e",
        "IPY_MODEL_fb3afa7b75cd4c319928991ee94c45b6",
        "IPY_MODEL_6e96f6c70c644518b5b5c6a06aea73e2",
        "IPY_MODEL_6482195a9e08463e89ebcaaee89d3159",
        "IPY_MODEL_7cdabcccab4d43938ceb3a706e8e93a1"
       ],
       "nodes": [
        "IPY_MODEL_572fac581c1346838550c735ffe080be",
        "IPY_MODEL_c929435140324f04b4b56df77cb7a613",
        "IPY_MODEL_7adb3a21cc17408fb13768dede0767d0",
        "IPY_MODEL_4ac402e5b62449c88598e0549b23ea54",
        "IPY_MODEL_1e3fa2afd8064a13935cb38e2f45bf2c",
        "IPY_MODEL_0dc7f66c0efc47449a63fb4d55b1f5ef",
        "IPY_MODEL_892a8803df27490e8dd1480d5c5bcfe6",
        "IPY_MODEL_2e03b12881ca409b920a0216af55bac1",
        "IPY_MODEL_373ff5a63cc84dbbb851f0fdcf9c4d2e",
        "IPY_MODEL_c94651096a0f4e289ad75cebca7fe7a2",
        "IPY_MODEL_b9d2e965aca94bf8a209f6fe20902d27",
        "IPY_MODEL_b046cac623244588842e2b8054ae6538",
        "IPY_MODEL_17fa1978d1d44ae7a69a4b39ccaa1a34",
        "IPY_MODEL_2145e851186a451d85c3cb2ae84020d1",
        "IPY_MODEL_04bf3faca85942d895cd19b468c14db9"
       ]
      }
     },
     "15f21188a47c4221be13b7df34442d99": {
      "model_module": "jupyter-cytoscape",
      "model_module_version": "^1.3.3",
      "model_name": "EdgeModel",
      "state": {
       "_model_module_version": "^1.3.3",
       "_view_module_version": "^1.3.3",
       "data": {
        "_igraph_index": 13,
        "id": "191270c1-73f6-4655-8729-b9c890b352f3",
        "source": "4989",
        "target": "11850",
        "type": "INTERACTS_PiP"
       },
       "selectable": false
      }
     },
     "1623f642088c4edf8fb80a0ae67e529e": {
      "model_module": "jupyter-cytoscape",
      "model_module_version": "^1.3.3",
      "model_name": "EdgeModel",
      "state": {
       "_model_module_version": "^1.3.3",
       "_view_module_version": "^1.3.3",
       "data": {
        "_igraph_index": 23,
        "id": "79dbdf80-ee28-41e0-830e-4ede2428929d",
        "source": "17807",
        "target": "11850",
        "type": "INTERACTS_PiP"
       },
       "selectable": false
      }
     },
     "16cf8a4478d941369eccd681be8a742c": {
      "model_module": "jupyter-cytoscape",
      "model_module_version": "^1.3.3",
      "model_name": "EdgeModel",
      "state": {
       "_model_module_version": "^1.3.3",
       "_view_module_version": "^1.3.3",
       "data": {
        "_igraph_index": 14,
        "id": "40667bea-a3ab-488e-a236-d69af80cc49f",
        "source": "547",
        "target": "534667",
        "type": "INTERACTS_PiC"
       },
       "selectable": false
      }
     },
     "16db1e17665d4249b3850534a308df3b": {
      "model_module": "jupyter-cytoscape",
      "model_module_version": "^1.3.3",
      "model_name": "EdgeModel",
      "state": {
       "_model_module_version": "^1.3.3",
       "_view_module_version": "^1.3.3",
       "data": {
        "_igraph_index": 37,
        "id": "7213480d-d705-4558-abc9-cb23513e9695",
        "source": "3195",
        "target": "543438",
        "type": "INTERACTS_PiC"
       },
       "selectable": false
      }
     },
     "17fa1978d1d44ae7a69a4b39ccaa1a34": {
      "model_module": "jupyter-cytoscape",
      "model_module_version": "^1.3.3",
      "model_name": "NodeModel",
      "state": {
       "_model_module_version": "^1.3.3",
       "_view_module_version": "^1.3.3",
       "data": {
        "_igraph_index": 12,
        "category": "Compound",
        "feature_name": "TREHALOSE",
        "id": "524231",
        "identifier": "CHEMBL1236395",
        "in_query": 1,
        "name": "524231",
        "source": ""
       },
       "grabbable": true,
       "grabbed": false,
       "position": {
        "x": 457.14919083472614,
        "y": -58.1149668660865
       },
       "selectable": false
      }
     },
     "1800e814532a4c108ccdadbbb00f17f1": {
      "model_module": "jupyter-cytoscape",
      "model_module_version": "^1.3.3",
      "model_name": "NodeModel",
      "state": {
       "_model_module_version": "^1.3.3",
       "_view_module_version": "^1.3.3",
       "data": {
        "_igraph_index": 6,
        "category": "Protein",
        "feature_name": "CSAD_HUMAN",
        "id": "20194",
        "identifier": "Q9Y600",
        "in_query": 0,
        "name": "20194",
        "source": "UniProt"
       },
       "grabbable": true,
       "grabbed": false,
       "position": {
        "x": 612.5360912586825,
        "y": 607.8281755486112
       },
       "selectable": false
      }
     },
     "1a9cf2d41948454f8ee35cb0e15ed85d": {
      "model_module": "jupyter-cytoscape",
      "model_module_version": "^1.3.3",
      "model_name": "EdgeModel",
      "state": {
       "_model_module_version": "^1.3.3",
       "_view_module_version": "^1.3.3",
       "data": {
        "_igraph_index": 39,
        "id": "3c0de494-1c31-4efa-b0c6-26794bcbe7f1",
        "source": "5296",
        "target": "543438",
        "type": "INTERACTS_PiC"
       },
       "selectable": false
      }
     },
     "1e3fa2afd8064a13935cb38e2f45bf2c": {
      "model_module": "jupyter-cytoscape",
      "model_module_version": "^1.3.3",
      "model_name": "NodeModel",
      "state": {
       "_model_module_version": "^1.3.3",
       "_view_module_version": "^1.3.3",
       "data": {
        "_igraph_index": 4,
        "category": "Protein",
        "feature_name": "CP2C9_HUMAN",
        "id": "17921",
        "identifier": "P11712",
        "in_query": 0,
        "name": "17921",
        "source": "UniProt"
       },
       "grabbable": true,
       "grabbed": false,
       "position": {
        "x": 416.18871785447476,
        "y": 519.3850361339136
       },
       "selectable": false
      }
     },
     "1f509823280b436c96e904250cec61d2": {
      "model_module": "jupyter-cytoscape",
      "model_module_version": "^1.3.3",
      "model_name": "EdgeModel",
      "state": {
       "_model_module_version": "^1.3.3",
       "_view_module_version": "^1.3.3",
       "data": {
        "_igraph_index": 12,
        "id": "676b5f39-c6bb-4b95-a819-6397d3c4ef69",
        "source": "4941",
        "target": "3508",
        "type": "INTERACTS_PiP"
       },
       "selectable": false
      }
     },
     "1f96a87829684c71b165f74c7fc93906": {
      "model_module": "jupyter-cytoscape",
      "model_module_version": "^1.3.3",
      "model_name": "NodeModel",
      "state": {
       "_model_module_version": "^1.3.3",
       "_view_module_version": "^1.3.3",
       "data": {
        "_igraph_index": 8,
        "category": "Protein",
        "feature_name": "CPN2_HUMAN",
        "id": "4023",
        "identifier": "P22792",
        "in_query": 1,
        "name": "4023",
        "source": "UniProt"
       },
       "grabbable": true,
       "grabbed": false,
       "position": {
        "x": 241.65312332572273,
        "y": -307.6214219269184
       },
       "selectable": false
      }
     },
     "2018336d0d2e4ff681595fa85d0e1c67": {
      "model_module": "jupyter-cytoscape",
      "model_module_version": "^1.3.3",
      "model_name": "EdgeModel",
      "state": {
       "_model_module_version": "^1.3.3",
       "_view_module_version": "^1.3.3",
       "data": {
        "_igraph_index": 43,
        "id": "359a261e-0971-4386-8f1d-83f2723cf578",
        "source": "12206",
        "target": "543438",
        "type": "INTERACTS_PiC"
       },
       "selectable": false
      }
     },
     "2145e851186a451d85c3cb2ae84020d1": {
      "model_module": "jupyter-cytoscape",
      "model_module_version": "^1.3.3",
      "model_name": "NodeModel",
      "state": {
       "_model_module_version": "^1.3.3",
       "_view_module_version": "^1.3.3",
       "data": {
        "_igraph_index": 13,
        "category": "Compound",
        "feature_name": "(R)-3-HYDROXYBUTANOATE",
        "id": "525160",
        "identifier": "CHEMBL1162484",
        "in_query": 1,
        "name": "525160",
        "source": ""
       },
       "grabbable": true,
       "grabbed": false,
       "position": {
        "x": 472.59265188307774,
        "y": 136.88503413391348
       },
       "selectable": false
      }
     },
     "25f71149f6e14c8482ea463c7171cd05": {
      "model_module": "jupyter-cytoscape",
      "model_module_version": "^1.3.3",
      "model_name": "EdgeModel",
      "state": {
       "_model_module_version": "^1.3.3",
       "_view_module_version": "^1.3.3",
       "data": {
        "_igraph_index": 30,
        "id": "4d21b2b9-9b30-4e81-bab0-30e647bdf201",
        "source": "3332",
        "target": "10657",
        "type": "INTERACTS_PiP"
       },
       "selectable": false
      }
     },
     "26c4e26b8b6c428797362194399de0d8": {
      "model_module": "jupyter-cytoscape",
      "model_module_version": "^1.3.3",
      "model_name": "NodeModel",
      "state": {
       "_model_module_version": "^1.3.3",
       "_view_module_version": "^1.3.3",
       "data": {
        "_igraph_index": 26,
        "category": "Protein",
        "feature_name": "CBPB2_HUMAN",
        "id": "19496",
        "identifier": "Q96IY4",
        "in_query": 1,
        "name": "19496",
        "source": "UniProt"
       },
       "grabbable": true,
       "grabbed": false,
       "position": {
        "x": 583.5835155148508,
        "y": 664.719555045916
       },
       "selectable": false
      }
     },
     "29bb6db2a54a4da4b5b1dd5c4d56e938": {
      "model_module": "jupyter-cytoscape",
      "model_module_version": "^1.3.3",
      "model_name": "EdgeModel",
      "state": {
       "_model_module_version": "^1.3.3",
       "_view_module_version": "^1.3.3",
       "data": {
        "_igraph_index": 9,
        "id": "1cbe64f8-f4e0-4517-a511-3e165129e603",
        "source": "403",
        "target": "524340",
        "type": "INTERACTS_PiC"
       },
       "selectable": false
      }
     },
     "2ab311ac3ce641d1bf0a7c634e13cf44": {
      "model_module": "jupyter-cytoscape",
      "model_module_version": "^1.3.3",
      "model_name": "EdgeModel",
      "state": {
       "_model_module_version": "^1.3.3",
       "_view_module_version": "^1.3.3",
       "data": {
        "_igraph_index": 49,
        "id": "bfdd46f6-dbe1-4c58-afdc-f6edec663d74",
        "source": "19496",
        "target": "3393",
        "type": "INTERACTS_PiP"
       },
       "selectable": false
      }
     },
     "2b8f40e070b4452f88dab52752052c56": {
      "model_module": "jupyter-cytoscape",
      "model_module_version": "^1.3.3",
      "model_name": "NodeModel",
      "state": {
       "_model_module_version": "^1.3.3",
       "_view_module_version": "^1.3.3",
       "data": {
        "_igraph_index": 7,
        "category": "Protein",
        "feature_name": "LG3BP_HUMAN",
        "id": "4989",
        "identifier": "Q08380",
        "in_query": 1,
        "name": "4989",
        "source": "UniProt"
       },
       "grabbable": true,
       "grabbed": false,
       "position": {
        "x": 813.68337136297,
        "y": 109.57749404163853
       },
       "selectable": false
      }
     },
     "2c3cae51740c4690ae220cd39a99bddb": {
      "model_module": "jupyter-cytoscape",
      "model_module_version": "^1.3.3",
      "model_name": "EdgeModel",
      "state": {
       "_model_module_version": "^1.3.3",
       "_view_module_version": "^1.3.3",
       "data": {
        "_igraph_index": 8,
        "id": "5f5dda49-4a5b-49fa-a2ea-f8b832301f50",
        "source": "5345",
        "target": "10601",
        "type": "INTERACTS_PiP"
       },
       "selectable": false
      }
     },
     "2c7a8fae00e1411c8aa6b2e1c6b63d2f": {
      "model_module": "jupyter-cytoscape",
      "model_module_version": "^1.3.3",
      "model_name": "EdgeModel",
      "state": {
       "_model_module_version": "^1.3.3",
       "_view_module_version": "^1.3.3",
       "data": {
        "_igraph_index": 37,
        "id": "6343552f-8ad1-45ac-aedc-9fb3fefbeef0",
        "source": "3393",
        "target": "11190",
        "type": "INTERACTS_PiP"
       },
       "selectable": false
      }
     },
     "2e03b12881ca409b920a0216af55bac1": {
      "model_module": "jupyter-cytoscape",
      "model_module_version": "^1.3.3",
      "model_name": "NodeModel",
      "state": {
       "_model_module_version": "^1.3.3",
       "_view_module_version": "^1.3.3",
       "data": {
        "_igraph_index": 7,
        "category": "Gene",
        "feature_name": "RRS1",
        "id": "93236",
        "identifier": 23212,
        "in_query": 0,
        "name": "93236",
        "source": "Entrez Gene"
       },
       "grabbable": true,
       "grabbed": false,
       "position": {
        "x": 855.0926538830778,
        "y": 229.49308925155347
       },
       "selectable": false
      }
     },
     "30e65aa767b94ef7a80dc213876fb4f9": {
      "model_module": "jupyter-cytoscape",
      "model_module_version": "^1.3.3",
      "model_name": "NodeModel",
      "state": {
       "_model_module_version": "^1.3.3",
       "_view_module_version": "^1.3.3",
       "data": {
        "_igraph_index": 22,
        "category": "Protein",
        "feature_name": "RADI_HUMAN",
        "id": "11149",
        "identifier": "P35241",
        "in_query": 1,
        "name": "11149",
        "source": "UniProt"
       },
       "grabbable": true,
       "grabbed": false,
       "position": {
        "x": 843.8423174894982,
        "y": 206.00658192555343
       },
       "selectable": false
      }
     },
     "320cbc41fcb04ce6be9daffa43325262": {
      "model_module": "jupyter-cytoscape",
      "model_module_version": "^1.3.3",
      "model_name": "EdgeModel",
      "state": {
       "_model_module_version": "^1.3.3",
       "_view_module_version": "^1.3.3",
       "data": {
        "_igraph_index": 5,
        "id": "88d8b18a-314f-48e5-89c9-a238330f34bc",
        "source": "3195",
        "target": "3955",
        "type": "INTERACTS_PiP"
       },
       "selectable": false
      }
     },
     "35d756d6797948a88464c6e154f590d2": {
      "model_module": "jupyter-cytoscape",
      "model_module_version": "^1.3.3",
      "model_name": "EdgeModel",
      "state": {
       "_model_module_version": "^1.3.3",
       "_view_module_version": "^1.3.3",
       "data": {
        "_igraph_index": 2,
        "id": "a028f0d2-3016-4c84-9cdc-5155f233854b",
        "source": "3319",
        "target": "3392",
        "type": "INTERACTS_PiP"
       },
       "selectable": false
      }
     },
     "3644950a5db64bc498b578494da7febc": {
      "model_module": "jupyter-cytoscape",
      "model_module_version": "^1.3.3",
      "model_name": "EdgeModel",
      "state": {
       "_model_module_version": "^1.3.3",
       "_view_module_version": "^1.3.3",
       "data": {
        "_igraph_index": 29,
        "id": "ac37723c-a581-494d-b25b-a0f6cd58e6e1",
        "source": "17807",
        "target": "17821",
        "type": "INTERACTS_PiP"
       },
       "selectable": false
      }
     },
     "369a4d7c73ca4994a1ec95a7397da208": {
      "model_module": "jupyter-cytoscape",
      "model_module_version": "^1.3.3",
      "model_name": "NodeModel",
      "state": {
       "_model_module_version": "^1.3.3",
       "_view_module_version": "^1.3.3",
       "data": {
        "_igraph_index": 2,
        "category": "Protein",
        "feature_name": "HEMO_HUMAN",
        "id": "3332",
        "identifier": "P02790",
        "in_query": 1,
        "name": "3332",
        "source": "UniProt"
       },
       "grabbable": true,
       "grabbed": false,
       "position": {
        "x": -131.15768751050186,
        "y": 325.0648070323551
       },
       "selectable": false
      }
     },
     "373ff5a63cc84dbbb851f0fdcf9c4d2e": {
      "model_module": "jupyter-cytoscape",
      "model_module_version": "^1.3.3",
      "model_name": "NodeModel",
      "state": {
       "_model_module_version": "^1.3.3",
       "_view_module_version": "^1.3.3",
       "data": {
        "_igraph_index": 8,
        "category": "Compound",
        "feature_name": "CHEMBL78",
        "id": "173395",
        "identifier": "CHEMBL78",
        "in_query": 1,
        "name": "173395",
        "source": ""
       },
       "grabbable": true,
       "grabbed": false,
       "position": {
        "x": 186.43014787333428,
        "y": -58.1149668660865
       },
       "selectable": false
      }
     },
     "383999327dd14618a7b163b9eb8af26a": {
      "model_module": "jupyter-cytoscape",
      "model_module_version": "^1.3.3",
      "model_name": "EdgeModel",
      "state": {
       "_model_module_version": "^1.3.3",
       "_view_module_version": "^1.3.3",
       "data": {
        "_igraph_index": 50,
        "id": "cd91c7c2-68f4-4f33-932d-33d007707440",
        "source": "19496",
        "target": "4023",
        "type": "INTERACTS_PiP"
       },
       "selectable": false
      }
     },
     "386560fc3b204222ba8c578998a86bb7": {
      "model_module": "jupyter-cytoscape",
      "model_module_version": "^1.3.3",
      "model_name": "EdgeModel",
      "state": {
       "_model_module_version": "^1.3.3",
       "_view_module_version": "^1.3.3",
       "data": {
        "_igraph_index": 41,
        "id": "cb0b970d-23a2-413d-b5ac-94c992e024a7",
        "source": "10925",
        "target": "543438",
        "type": "INTERACTS_PiC"
       },
       "selectable": false
      }
     },
     "38a622ecb3c646c3acdb860810cf6224": {
      "model_module": "jupyter-cytoscape",
      "model_module_version": "^1.3.3",
      "model_name": "EdgeModel",
      "state": {
       "_model_module_version": "^1.3.3",
       "_view_module_version": "^1.3.3",
       "data": {
        "_igraph_index": 22,
        "id": "3cb2dc15-91bf-493c-bc61-ac79532d3faa",
        "source": "10584",
        "target": "10577",
        "type": "INTERACTS_PiP"
       },
       "selectable": false
      }
     },
     "3902120096b64fd4b88aef97443a93a2": {
      "model_module": "jupyter-cytoscape",
      "model_module_version": "^1.3.3",
      "model_name": "NodeModel",
      "state": {
       "_model_module_version": "^1.3.3",
       "_view_module_version": "^1.3.3",
       "data": {
        "_igraph_index": 1,
        "category": "Protein",
        "feature_name": "CATD_HUMAN",
        "id": "284",
        "identifier": "P07339",
        "in_query": 0,
        "name": "284",
        "source": "UniProt"
       },
       "grabbable": true,
       "grabbed": false,
       "position": {
        "x": 399.6276788030452,
        "y": 227.8281735486112
       },
       "selectable": false
      }
     },
     "3a2cfd2ee9b34db097cb0f91f06b7fd7": {
      "model_module": "jupyter-cytoscape",
      "model_module_version": "^1.3.3",
      "model_name": "EdgeModel",
      "state": {
       "_model_module_version": "^1.3.3",
       "_view_module_version": "^1.3.3",
       "data": {
        "_igraph_index": 8,
        "id": "8b53baec-15b6-467c-9d32-c81eeea29239",
        "source": "713",
        "target": "523510",
        "type": "INTERACTS_PiC"
       },
       "selectable": false
      }
     },
     "3a42725062db409bac51ac42cc5173d9": {
      "model_module": "jupyter-cytoscape",
      "model_module_version": "^1.3.3",
      "model_name": "NodeModel",
      "state": {
       "_model_module_version": "^1.3.3",
       "_view_module_version": "^1.3.3",
       "data": {
        "_igraph_index": 18,
        "category": "Protein",
        "feature_name": "GELS_HUMAN",
        "id": "10618",
        "identifier": "P06396",
        "in_query": 1,
        "name": "10618",
        "source": "UniProt"
       },
       "grabbable": true,
       "grabbed": false,
       "position": {
        "x": 258.84231448949816,
        "y": 472.3785820730816
       },
       "selectable": false
      }
     },
     "3da0459de6414df584a69fc9b35121eb": {
      "model_module": "jupyter-cytoscape",
      "model_module_version": "^1.3.3",
      "model_name": "EdgeModel",
      "state": {
       "_model_module_version": "^1.3.3",
       "_view_module_version": "^1.3.3",
       "data": {
        "_igraph_index": 13,
        "id": "4a29b3d4-fb1c-457e-a42b-ff7fcabfbcdd",
        "source": "534667",
        "target": "245",
        "type": "BINDS_CbP"
       },
       "selectable": false
      }
     },
     "3f5a49d8542c4971ab6ea347a9bf7b4b": {
      "model_module": "jupyter-cytoscape",
      "model_module_version": "^1.3.3",
      "model_name": "EdgeModel",
      "state": {
       "_model_module_version": "^1.3.3",
       "_view_module_version": "^1.3.3",
       "data": {
        "_igraph_index": 61,
        "id": "1ae5c069-0144-4cde-9579-20717e4436de",
        "source": "3875",
        "target": "49731",
        "type": "EXPRESSEDIN_PeCT"
       },
       "selectable": false
      }
     },
     "3f9d18d545e3430e9543af5e87f3d240": {
      "model_module": "jupyter-cytoscape",
      "model_module_version": "^1.3.3",
      "model_name": "NodeModel",
      "state": {
       "_model_module_version": "^1.3.3",
       "_view_module_version": "^1.3.3",
       "data": {
        "_igraph_index": 3,
        "category": "Protein",
        "feature_name": "FRIL_HUMAN",
        "id": "3333",
        "identifier": "P02792",
        "in_query": 1,
        "name": "3333",
        "source": "UniProt"
       },
       "grabbable": true,
       "grabbed": false,
       "position": {
        "x": 1320.9358209664474,
        "y": 52.698545947115804
       },
       "selectable": false
      }
     },
     "3fc431c98d8340c7b3e8bf987147d0f3": {
      "model_module": "jupyter-cytoscape",
      "model_module_version": "^1.3.3",
      "model_name": "EdgeModel",
      "state": {
       "_model_module_version": "^1.3.3",
       "_view_module_version": "^1.3.3",
       "data": {
        "_igraph_index": 12,
        "id": "fba253ec-6b5b-4560-8e53-2303b0203557",
        "source": "42488",
        "target": "534527",
        "type": "CONTAINS_FcC"
       },
       "selectable": false
      }
     },
     "401306be5c1947f188eef43e1b420127": {
      "model_module": "jupyter-cytoscape",
      "model_module_version": "^1.3.3",
      "model_name": "EdgeModel",
      "state": {
       "_model_module_version": "^1.3.3",
       "_view_module_version": "^1.3.3",
       "data": {
        "_igraph_index": 18,
        "id": "7e481e51-f6ae-446f-9835-6af3e195a0f3",
        "source": "5345",
        "target": "15612",
        "type": "INTERACTS_PiP"
       },
       "selectable": false
      }
     },
     "412ec0daf2cf47a59cba8897815d5306": {
      "model_module": "jupyter-cytoscape",
      "model_module_version": "^1.3.3",
      "model_name": "EdgeModel",
      "state": {
       "_model_module_version": "^1.3.3",
       "_view_module_version": "^1.3.3",
       "data": {
        "_igraph_index": 70,
        "id": "5d54f57c-102c-4e00-a43d-8a046d2c89b1",
        "source": "10584",
        "target": "49731",
        "type": "EXPRESSEDIN_PeCT"
       },
       "selectable": false
      }
     },
     "4151ce24b1414a3cac39448bd39575b2": {
      "model_module": "jupyter-cytoscape",
      "model_module_version": "^1.3.3",
      "model_name": "EdgeModel",
      "state": {
       "_model_module_version": "^1.3.3",
       "_view_module_version": "^1.3.3",
       "data": {
        "_igraph_index": 71,
        "id": "6cd2c1e0-0a77-463c-ac55-8389e74a5873",
        "source": "10618",
        "target": "49731",
        "type": "EXPRESSEDIN_PeCT"
       },
       "selectable": false
      }
     },
     "431aa27d6c09400c95b6508a32af2618": {
      "model_module": "jupyter-cytoscape",
      "model_module_version": "^1.3.3",
      "model_name": "NodeModel",
      "state": {
       "_model_module_version": "^1.3.3",
       "_view_module_version": "^1.3.3",
       "data": {
        "_igraph_index": 4,
        "category": "Protein",
        "feature_name": "APOB_HUMAN",
        "id": "3351",
        "identifier": "P04114",
        "in_query": 1,
        "name": "3351",
        "source": "UniProt"
       },
       "grabbable": true,
       "grabbed": false,
       "position": {
        "x": 447.05953991153865,
        "y": 756.1518759760498
       },
       "selectable": false
      }
     },
     "44402b65f47c4495ad87a0f1976043d8": {
      "model_module": "jupyter-cytoscape",
      "model_module_version": "^1.3.3",
      "model_name": "EdgeModel",
      "state": {
       "_model_module_version": "^1.3.3",
       "_view_module_version": "^1.3.3",
       "data": {
        "_igraph_index": 8,
        "id": "e27c1ff3-0f27-4074-bb71-137e6961f325",
        "source": "20194",
        "target": "523670",
        "type": "INTERACTS_PiC"
       },
       "selectable": false
      }
     },
     "44566238f48949088099dc0feb1eb774": {
      "model_module": "jupyter-cytoscape",
      "model_module_version": "^1.3.3",
      "model_name": "EdgeModel",
      "state": {
       "_model_module_version": "^1.3.3",
       "_view_module_version": "^1.3.3",
       "data": {
        "_igraph_index": 5,
        "id": "3776e4e2-5337-43bf-bf34-8050c5ec2894",
        "source": "3875",
        "target": "4074",
        "type": "INTERACTS_PiP"
       },
       "selectable": false
      }
     },
     "45e9f13efb0541e0aeb5dc64c0de10ed": {
      "model_module": "jupyter-cytoscape",
      "model_module_version": "^1.3.3",
      "model_name": "NodeModel",
      "state": {
       "_model_module_version": "^1.3.3",
       "_view_module_version": "^1.3.3",
       "data": {
        "_igraph_index": 10,
        "category": "Compound",
        "feature_name": "2,6-Dihydroxybenzoic Acid",
        "id": "523091",
        "identifier": "CHEMBL454808",
        "in_query": 1,
        "name": "523091",
        "source": ""
       },
       "grabbable": true,
       "grabbed": false,
       "position": {
        "x": 202.12767780304523,
        "y": 136.9254027089389
       },
       "selectable": false
      }
     },
     "45f2389542f54a76abb34a159c9a6c34": {
      "model_module": "jupyter-cytoscape",
      "model_module_version": "^1.3.3",
      "model_name": "EdgeModel",
      "state": {
       "_model_module_version": "^1.3.3",
       "_view_module_version": "^1.3.3",
       "data": {
        "_igraph_index": 9,
        "id": "e73b68ab-682e-4831-abba-c0d1f57d3b3d",
        "source": "10601",
        "target": "10542",
        "type": "INTERACTS_PiP"
       },
       "selectable": false
      }
     },
     "46fc34528dfa4a05a1a2326526edd4e6": {
      "model_module": "jupyter-cytoscape",
      "model_module_version": "^1.3.3",
      "model_name": "EdgeModel",
      "state": {
       "_model_module_version": "^1.3.3",
       "_view_module_version": "^1.3.3",
       "data": {
        "_igraph_index": 0,
        "id": "094de1e0-a083-492b-914e-cffd5549b62a",
        "source": "3319",
        "target": "479",
        "type": "INTERACTS_PiP"
       },
       "selectable": false
      }
     },
     "47b27f629fed4454a1490890276712bc": {
      "model_module": "jupyter-cytoscape",
      "model_module_version": "^1.3.3",
      "model_name": "EdgeModel",
      "state": {
       "_model_module_version": "^1.3.3",
       "_view_module_version": "^1.3.3",
       "data": {
        "_igraph_index": 8,
        "id": "3bb33996-e554-4f9d-8429-b29af953d81f",
        "source": "4323",
        "target": "3332",
        "type": "INTERACTS_PiP"
       },
       "selectable": false
      }
     },
     "48bd9ddd4ea043a182b0651b0b56a75f": {
      "model_module": "jupyter-cytoscape",
      "model_module_version": "^1.3.3",
      "model_name": "NodeModel",
      "state": {
       "_model_module_version": "^1.3.3",
       "_view_module_version": "^1.3.3",
       "data": {
        "_igraph_index": 9,
        "category": "Compound",
        "feature_name": "FORMONONETIN",
        "id": "520625",
        "identifier": "CHEMBL242341",
        "in_query": 1,
        "name": "520625",
        "source": ""
       },
       "grabbable": true,
       "grabbed": false,
       "position": {
        "x": 352.2558387283832,
        "y": -177.61267505379556
       },
       "selectable": false
      }
     },
     "49ce8158b1b34091b88406d547b1e6a6": {
      "model_module": "jupyter-cytoscape",
      "model_module_version": "^1.3.3",
      "model_name": "EdgeModel",
      "state": {
       "_model_module_version": "^1.3.3",
       "_view_module_version": "^1.3.3",
       "data": {
        "_igraph_index": 6,
        "id": "959ad293-4f8e-448f-8d9a-a1b29cb4ffbf",
        "source": "245",
        "target": "523091",
        "type": "INTERACTS_PiC"
       },
       "selectable": false
      }
     },
     "4ac402e5b62449c88598e0549b23ea54": {
      "model_module": "jupyter-cytoscape",
      "model_module_version": "^1.3.3",
      "model_name": "NodeModel",
      "state": {
       "_model_module_version": "^1.3.3",
       "_view_module_version": "^1.3.3",
       "data": {
        "_igraph_index": 3,
        "category": "Protein",
        "feature_name": "IL8_HUMAN",
        "id": "3778",
        "identifier": "P10145",
        "in_query": 0,
        "name": "3778",
        "source": "UniProt"
       },
       "grabbable": true,
       "grabbed": false,
       "position": {
        "x": 844.6491928347263,
        "y": -155.50691274844652
       },
       "selectable": false
      }
     },
     "4ae5ac1035f845028757ee8236dc5326": {
      "model_module": "jupyter-cytoscape",
      "model_module_version": "^1.3.3",
      "model_name": "EdgeModel",
      "state": {
       "_model_module_version": "^1.3.3",
       "_view_module_version": "^1.3.3",
       "data": {
        "_igraph_index": 54,
        "id": "b0177ca3-80ce-494a-a14f-0b5ae07df9fd",
        "source": "19496",
        "target": "11850",
        "type": "INTERACTS_PiP"
       },
       "selectable": false
      }
     },
     "4d78b963c9ec4bc5b5a877579e206a7c": {
      "model_module": "jupyter-cytoscape",
      "model_module_version": "^1.3.3",
      "model_name": "NodeModel",
      "state": {
       "_model_module_version": "^1.3.3",
       "_view_module_version": "^1.3.3",
       "data": {
        "_igraph_index": 10,
        "category": "Protein",
        "feature_name": "AFAM_HUMAN",
        "id": "4323",
        "identifier": "P43652",
        "in_query": 1,
        "name": "4323",
        "source": "UniProt"
       },
       "grabbable": true,
       "grabbed": false,
       "position": {
        "x": -131.15768751050186,
        "y": 130.06480603235514
       },
       "selectable": false
      }
     },
     "4db10f182e3c4c0993169f7cede07ab7": {
      "model_module": "jupyter-cytoscape",
      "model_module_version": "^1.3.3",
      "model_name": "NodeModel",
      "state": {
       "_model_module_version": "^1.3.3",
       "_view_module_version": "^1.3.3",
       "data": {
        "_igraph_index": 16,
        "category": "Protein",
        "feature_name": "VTDB_HUMAN",
        "id": "10577",
        "identifier": "P02774",
        "in_query": 1,
        "name": "10577",
        "source": "UniProt"
       },
       "grabbable": true,
       "grabbed": false,
       "position": {
        "x": 63.84231348949813,
        "y": 263.8970475989152
       },
       "selectable": false
      }
     },
     "4fab70af42114ec79cd4b09a4eb9ad25": {
      "model_module": "jupyter-cytoscape",
      "model_module_version": "^1.3.3",
      "model_name": "EdgeModel",
      "state": {
       "_model_module_version": "^1.3.3",
       "_view_module_version": "^1.3.3",
       "data": {
        "_igraph_index": 4,
        "id": "88b79b64-a6ff-4a4c-9beb-22a881956d39",
        "source": "18673",
        "target": "519122",
        "type": "INTERACTS_PiC"
       },
       "selectable": false
      }
     },
     "51352bbb42554c86b22c7f4b7670b2a2": {
      "model_module": "jupyter-cytoscape",
      "model_module_version": "^1.3.3",
      "model_name": "EdgeModel",
      "state": {
       "_model_module_version": "^1.3.3",
       "_view_module_version": "^1.3.3",
       "data": {
        "_igraph_index": 11,
        "id": "218d7c3e-49d5-413e-bff3-d0dfdea1b163",
        "source": "4410",
        "target": "3333",
        "type": "INTERACTS_PiP"
       },
       "selectable": false
      }
     },
     "516878288a91495fb73e2c124b45d8f9": {
      "model_module": "jupyter-cytoscape",
      "model_module_version": "^1.3.3",
      "model_name": "EdgeModel",
      "state": {
       "_model_module_version": "^1.3.3",
       "_view_module_version": "^1.3.3",
       "data": {
        "_igraph_index": 3,
        "id": "9f6a3d20-4e34-4672-989c-63d2e26e86a5",
        "source": "3348",
        "target": "3195",
        "type": "INTERACTS_PiP"
       },
       "selectable": false
      }
     },
     "52f67d9004674ac0a4c9c4d4170aa54a": {
      "model_module": "jupyter-cytoscape",
      "model_module_version": "^1.3.3",
      "model_name": "EdgeModel",
      "state": {
       "_model_module_version": "^1.3.3",
       "_view_module_version": "^1.3.3",
       "data": {
        "_igraph_index": 21,
        "id": "64706270-b53b-48b9-bb32-09a549c9f89b",
        "source": "17807",
        "target": "3409",
        "type": "INTERACTS_PiP"
       },
       "selectable": false
      }
     },
     "53c3930cfc1b4b4484daca5adfad9ab9": {
      "model_module": "jupyter-cytoscape",
      "model_module_version": "^1.3.3",
      "model_name": "EdgeModel",
      "state": {
       "_model_module_version": "^1.3.3",
       "_view_module_version": "^1.3.3",
       "data": {
        "_igraph_index": 65,
        "id": "2916d741-61ae-4271-9805-ea024d763278",
        "source": "4477",
        "target": "49731",
        "type": "EXPRESSEDIN_PeCT"
       },
       "selectable": false
      }
     },
     "54295b56875b435985939799158008ef": {
      "model_module": "jupyter-cytoscape",
      "model_module_version": "^1.3.3",
      "model_name": "EdgeModel",
      "state": {
       "_model_module_version": "^1.3.3",
       "_view_module_version": "^1.3.3",
       "data": {
        "_igraph_index": 1,
        "id": "32bc8654-e65d-40ef-becc-31c4ea46806a",
        "source": "3195",
        "target": "3317",
        "type": "INTERACTS_PiP"
       },
       "selectable": false
      }
     },
     "544f306f75ec4a039ee737bfae73c96f": {
      "model_module": "jupyter-cytoscape",
      "model_module_version": "^1.3.3",
      "model_name": "NodeModel",
      "state": {
       "_model_module_version": "^1.3.3",
       "_view_module_version": "^1.3.3",
       "data": {
        "_igraph_index": 11,
        "category": "Protein",
        "feature_name": "A4_HUMAN",
        "id": "10601",
        "identifier": "P05067",
        "in_query": 0,
        "name": "10601",
        "source": "UniProt"
       },
       "grabbable": true,
       "grabbed": false,
       "position": {
        "x": 811.18337136297,
        "y": -82.92250695836147
       },
       "selectable": false
      }
     },
     "558df75d450745469f8de1fcabe79c56": {
      "model_module": "jupyter-cytoscape",
      "model_module_version": "^1.3.3",
      "model_name": "GraphModel",
      "state": {
       "_adj": {
        "18056": {},
        "18673": {},
        "20194": {},
        "245": {},
        "284": {},
        "403": {},
        "42488": {},
        "519122": {},
        "520625": {},
        "523091": {},
        "523116": {},
        "523670": {},
        "524340": {},
        "534527": {},
        "534667": {},
        "535751": {},
        "547": {}
       },
       "_model_module_version": "^1.3.3",
       "_view_module": "jupyter-cytoscape",
       "_view_module_version": "^1.3.3",
       "edges": [
        "IPY_MODEL_49ce8158b1b34091b88406d547b1e6a6",
        "IPY_MODEL_3da0459de6414df584a69fc9b35121eb",
        "IPY_MODEL_9ea8ded211df44069fc2e14dc51d3986",
        "IPY_MODEL_f6a6c150a12e4e3fa11e867074a484f7",
        "IPY_MODEL_59ec9a5bbb0d43bb8264b6dcdb2b449b",
        "IPY_MODEL_5d5439550540437e92ad8cc7b5a3a7eb",
        "IPY_MODEL_bd7670e83d054cf4a4f7876c08e21c6a",
        "IPY_MODEL_29bb6db2a54a4da4b5b1dd5c4d56e938",
        "IPY_MODEL_ec3a35d7a60345f392ccce359e248004",
        "IPY_MODEL_16cf8a4478d941369eccd681be8a742c",
        "IPY_MODEL_78e305ec94504baab2e5d7125660c163",
        "IPY_MODEL_d0356ea8869641b09c73f4c675fbb827",
        "IPY_MODEL_4fab70af42114ec79cd4b09a4eb9ad25",
        "IPY_MODEL_44402b65f47c4495ad87a0f1976043d8",
        "IPY_MODEL_9937fe36723b4f3595598079216a639c",
        "IPY_MODEL_3fc431c98d8340c7b3e8bf987147d0f3"
       ],
       "nodes": [
        "IPY_MODEL_e8d7376a95c84b4f84b1bb604fc46dae",
        "IPY_MODEL_3902120096b64fd4b88aef97443a93a2",
        "IPY_MODEL_b09cdd9cdb2f4b6cb82f958fef47afe7",
        "IPY_MODEL_f705b8cfd9ea4233a247cede7c82228f",
        "IPY_MODEL_ee272c9d39db40ac951e953f8a2e36d9",
        "IPY_MODEL_9cca330962b04c5fa12854dcea42acae",
        "IPY_MODEL_1800e814532a4c108ccdadbbb00f17f1",
        "IPY_MODEL_a3a75b8fffc549029e0569d22269bb05",
        "IPY_MODEL_050ed47a71bc427f80e067bfbe738d05",
        "IPY_MODEL_48bd9ddd4ea043a182b0651b0b56a75f",
        "IPY_MODEL_45e9f13efb0541e0aeb5dc64c0de10ed",
        "IPY_MODEL_b9901a1ac1cf486e9d8c42101ab32c55",
        "IPY_MODEL_72cd1d3ddab341dd913a851ab1ea8b86",
        "IPY_MODEL_e4cc6abc42234213bb058f6c38176934",
        "IPY_MODEL_64526e9342e1421cab91bcc37f50680d",
        "IPY_MODEL_f16678caa06c42f0a0d8fb4b1d9cde97",
        "IPY_MODEL_06c0546bded542759561945ea7beb733"
       ]
      }
     },
     "564d84f3891d4a5b944899b80061d188": {
      "model_module": "jupyter-cytoscape",
      "model_module_version": "^1.3.3",
      "model_name": "NodeModel",
      "state": {
       "_model_module_version": "^1.3.3",
       "_view_module_version": "^1.3.3",
       "data": {
        "_igraph_index": 12,
        "category": "Protein",
        "feature_name": "LUM_HUMAN",
        "id": "4477",
        "identifier": "P51884",
        "in_query": 1,
        "name": "4477",
        "source": "UniProt"
       },
       "grabbable": true,
       "grabbed": false,
       "position": {
        "x": 63.84231348949813,
        "y": 68.89704659891525
       },
       "selectable": false
      }
     },
     "56be4cf554d344b2955fa1b6f109d43d": {
      "model_module": "jupyter-cytoscape",
      "model_module_version": "^1.3.3",
      "model_name": "NodeModel",
      "state": {
       "_model_module_version": "^1.3.3",
       "_view_module_version": "^1.3.3",
       "data": {
        "_igraph_index": 12,
        "category": "Protein",
        "feature_name": "ITIH1_HUMAN",
        "id": "10925",
        "identifier": "P19827",
        "in_query": 1,
        "name": "10925",
        "source": "UniProt"
       },
       "grabbable": true,
       "grabbed": false,
       "position": {
        "x": 233.68336836297013,
        "y": 25.750229795739088
       },
       "selectable": false
      }
     },
     "56efeb96d60649318dac71e221fb7732": {
      "model_module": "jupyter-cytoscape",
      "model_module_version": "^1.3.3",
      "model_name": "EdgeModel",
      "state": {
       "_model_module_version": "^1.3.3",
       "_view_module_version": "^1.3.3",
       "data": {
        "_igraph_index": 67,
        "id": "d1732957-a23e-43ff-8b53-ae71e57b56fc",
        "source": "9527",
        "target": "49731",
        "type": "EXPRESSEDIN_PeCT"
       },
       "selectable": false
      }
     },
     "571b10cb7c65423d8e69754ad73013fa": {
      "model_module": "jupyter-cytoscape",
      "model_module_version": "^1.3.3",
      "model_name": "EdgeModel",
      "state": {
       "_model_module_version": "^1.3.3",
       "_view_module_version": "^1.3.3",
       "data": {
        "_igraph_index": 30,
        "id": "6e1bd2bf-0a97-4924-ba67-dc498e96320b",
        "source": "3195",
        "target": "181485",
        "type": "INTERACTS_PiC"
       },
       "selectable": false
      }
     },
     "572fac581c1346838550c735ffe080be": {
      "model_module": "jupyter-cytoscape",
      "model_module_version": "^1.3.3",
      "model_name": "NodeModel",
      "state": {
       "_model_module_version": "^1.3.3",
       "_view_module_version": "^1.3.3",
       "data": {
        "_igraph_index": 0,
        "category": "Protein",
        "feature_name": "UBE2N_HUMAN",
        "id": "654",
        "identifier": "P61088",
        "in_query": 0,
        "name": "654",
        "source": "UniProt"
       },
       "grabbable": true,
       "grabbed": false,
       "position": {
        "x": 665.0926528830778,
        "y": 185.9456707611265
       },
       "selectable": false
      }
     },
     "58288dc81ad249988624075dc4284f89": {
      "model_module": "jupyter-cytoscape",
      "model_module_version": "^1.3.3",
      "model_name": "EdgeModel",
      "state": {
       "_model_module_version": "^1.3.3",
       "_view_module_version": "^1.3.3",
       "data": {
        "_igraph_index": 7,
        "id": "2f1e2067-cbef-4118-a61d-8acce899c86b",
        "source": "3319",
        "target": "4323",
        "type": "INTERACTS_PiP"
       },
       "selectable": false
      }
     },
     "58d97a81dda84e5b850a643dd4715bf4": {
      "model_module": "jupyter-cytoscape",
      "model_module_version": "^1.3.3",
      "model_name": "GraphModel",
      "state": {
       "_adj": {
        "10577": {},
        "10584": {},
        "10618": {},
        "10657": {},
        "10685": {},
        "11148": {},
        "11149": {},
        "11190": {},
        "11850": {},
        "14694": {},
        "19496": {},
        "3319": {},
        "3332": {},
        "3333": {},
        "3392": {},
        "3393": {},
        "3508": {},
        "3875": {},
        "4023": {},
        "4074": {},
        "4323": {},
        "4410": {},
        "4477": {},
        "479": {},
        "4941": {},
        "49731": {},
        "9527": {},
        "9859": {}
       },
       "_model_module_version": "^1.3.3",
       "_view_module": "jupyter-cytoscape",
       "_view_module_version": "^1.3.3",
       "edges": [
        "IPY_MODEL_46fc34528dfa4a05a1a2326526edd4e6",
        "IPY_MODEL_ff31ef1e63444c5d8d2164e9a786b828",
        "IPY_MODEL_7a63a0e4b1f044e286ab03444de6d480",
        "IPY_MODEL_7e94a9f2c9aa4ea8b2f40970a13e4a7f",
        "IPY_MODEL_b635a441a7c3484da6d5e306f164e8e8",
        "IPY_MODEL_35d756d6797948a88464c6e154f590d2",
        "IPY_MODEL_58288dc81ad249988624075dc4284f89",
        "IPY_MODEL_baa991679921465ba61d9003629b231b",
        "IPY_MODEL_988fe843933348e9a9217b047d78961a",
        "IPY_MODEL_7426498191504559b2c1c28dd4690df4",
        "IPY_MODEL_7116c89b1f7c457a9d60baca90f80dfa",
        "IPY_MODEL_e347b7b8256e4e5fadc12afaa636afe9",
        "IPY_MODEL_47b27f629fed4454a1490890276712bc",
        "IPY_MODEL_a507b55923b746a69c60de50b1131b76",
        "IPY_MODEL_0b1bec39e3b642dd8db5868fb9240e7b",
        "IPY_MODEL_df7f306c14384375977def38d328a106",
        "IPY_MODEL_25f71149f6e14c8482ea463c7171cd05",
        "IPY_MODEL_76e0ea20688246c094b360c40e94646b",
        "IPY_MODEL_8892b6ba340c470d997a2a481a77cc7b",
        "IPY_MODEL_51352bbb42554c86b22c7f4b7670b2a2",
        "IPY_MODEL_ecf1680351f644af84db1357b3810bdb",
        "IPY_MODEL_c57c1db2f3664d8bbfbd3a85eb5d8c1d",
        "IPY_MODEL_6c2fef9f012e4c9094e74827e65fd0e1",
        "IPY_MODEL_9dec48a975fc4c6bbccdc4809e7001ab",
        "IPY_MODEL_c95e54f37fc34cf09634975c56b5c694",
        "IPY_MODEL_2c7a8fae00e1411c8aa6b2e1c6b63d2f",
        "IPY_MODEL_84ac504cff3d4915a85dd81a7ab10547",
        "IPY_MODEL_2ab311ac3ce641d1bf0a7c634e13cf44",
        "IPY_MODEL_cfe24d227887433aa2fc284e608a24a2",
        "IPY_MODEL_1f509823280b436c96e904250cec61d2",
        "IPY_MODEL_c11c4d512e3f4dc490a043c667b77e7e",
        "IPY_MODEL_e3fa3b88a2fb485b831af16363336faa",
        "IPY_MODEL_44566238f48949088099dc0feb1eb774",
        "IPY_MODEL_ae59c99e15834c73a1f3f76217deb06a",
        "IPY_MODEL_c80876fad30e4dfea16fde463ee82a7b",
        "IPY_MODEL_bf5f8d6b3cf1444ba28c86d4f87d8227",
        "IPY_MODEL_3f5a49d8542c4971ab6ea347a9bf7b4b",
        "IPY_MODEL_6f4fc8687a4040809795aed2c383f587",
        "IPY_MODEL_383999327dd14618a7b163b9eb8af26a",
        "IPY_MODEL_f6f753b09a5645be860bf2dfb192ab43",
        "IPY_MODEL_d55dd75fb5c946379167b2a319bbb62d",
        "IPY_MODEL_7f82c7588e19422999574ea64868fc89",
        "IPY_MODEL_83fddfb65fa94641afb5d67ba3b94d6c",
        "IPY_MODEL_f9c318a618bb49f5b1fb25a9170bfe54",
        "IPY_MODEL_5d8de1af15864cec99b641366ac5d53a",
        "IPY_MODEL_850ca99ff12e4383b0d334fc33da31d2",
        "IPY_MODEL_dc8e6851035c457b93f75d588a05c9c2",
        "IPY_MODEL_07b8d6787ebf45a2b623af63e9297dda",
        "IPY_MODEL_e3f49abb7613425c9a590f61400402d3",
        "IPY_MODEL_8a249a6c1fe5478aaf61cfa91bbc12a5",
        "IPY_MODEL_53c3930cfc1b4b4484daca5adfad9ab9",
        "IPY_MODEL_99d8c274e7bf4f61b5fb0c1c6abe6624",
        "IPY_MODEL_1415bdfb8fe8426c921a0da7e0f03417",
        "IPY_MODEL_6702f7a6ebed4792b4fca91483d79fe7",
        "IPY_MODEL_8a5614a0a67649e28e3df676775e99c9",
        "IPY_MODEL_56efeb96d60649318dac71e221fb7732",
        "IPY_MODEL_862e03286c6e43a4992a47c080f16f30",
        "IPY_MODEL_88da1f43535e4d718c84e99f645a6755",
        "IPY_MODEL_38a622ecb3c646c3acdb860810cf6224",
        "IPY_MODEL_fa0f84c89e894dd1be0775ca163246c6",
        "IPY_MODEL_fb695e2c81b64e14be9186d9b44fe4f6",
        "IPY_MODEL_b63f54d00938497688d28fedc0572ea4",
        "IPY_MODEL_6417e77178fa480ab5f41fd065e881cf",
        "IPY_MODEL_0da8189511e64837a06b055747fce8a4",
        "IPY_MODEL_720d504ca7744f2cb7f3892bc49ff8a6",
        "IPY_MODEL_98b5631693aa4066af0c6306f82dd4f8",
        "IPY_MODEL_412ec0daf2cf47a59cba8897815d5306",
        "IPY_MODEL_68b885631c2943adb85defab2c1bcf08",
        "IPY_MODEL_4151ce24b1414a3cac39448bd39575b2",
        "IPY_MODEL_091286e0d9684bd1b3a17c8c1300547b",
        "IPY_MODEL_bd0a7f1765bd4cd98679feae8a7aca9e",
        "IPY_MODEL_737a8eef6a0d4acaae56885013027393",
        "IPY_MODEL_d708e324766d4401afaed03c027930cc",
        "IPY_MODEL_60c170a484454467ba2d4b4b3ed3f996",
        "IPY_MODEL_859ec16b2cd0452c959a834f19ca2293",
        "IPY_MODEL_4ae5ac1035f845028757ee8236dc5326",
        "IPY_MODEL_fc5ca98acdb341c3883aa48313a66dcc",
        "IPY_MODEL_5f26e6cde4574f5c848953ca419120e7"
       ],
       "nodes": [
        "IPY_MODEL_b59f5a1ea0df4911813ec2477da6e73c",
        "IPY_MODEL_dae75a8557d646daa13268a9cc34ad4d",
        "IPY_MODEL_369a4d7c73ca4994a1ec95a7397da208",
        "IPY_MODEL_3f9d18d545e3430e9543af5e87f3d240",
        "IPY_MODEL_a1033457b4584a9f864db224ce3646e3",
        "IPY_MODEL_5ea18a4d642d4567abd7c5ad9b17247a",
        "IPY_MODEL_7ab2dab430a34a7d9ab579d1e50c68d7",
        "IPY_MODEL_b7b31cd2e3ff4de78cacca8dcc26b3cc",
        "IPY_MODEL_1f96a87829684c71b165f74c7fc93906",
        "IPY_MODEL_69c53049bc01441e974b004491536b37",
        "IPY_MODEL_4d78b963c9ec4bc5b5a877579e206a7c",
        "IPY_MODEL_9040e59154f24b0d94fca98cfdb8e448",
        "IPY_MODEL_564d84f3891d4a5b944899b80061d188",
        "IPY_MODEL_848edc5f33684915b5f0b4ea74874993",
        "IPY_MODEL_0605cf516cef4426bca44e28a8cdb7eb",
        "IPY_MODEL_666253bc9b3f4f86a0419ea2825b56f4",
        "IPY_MODEL_4db10f182e3c4c0993169f7cede07ab7",
        "IPY_MODEL_a6b3e548c37447b7ba30d6335b7e7592",
        "IPY_MODEL_3a42725062db409bac51ac42cc5173d9",
        "IPY_MODEL_8267e26d7d5d46fea9ead64f0056ed97",
        "IPY_MODEL_a73c222fe14a499cb0e6bfa5e05e6a94",
        "IPY_MODEL_dbe26a7cb1734feaa82bf7e5e6e97438",
        "IPY_MODEL_30e65aa767b94ef7a80dc213876fb4f9",
        "IPY_MODEL_d682a9ec97fa4de68c85788f547b248b",
        "IPY_MODEL_74513f2d0e9c4a98bd58dcf9fdacc52a",
        "IPY_MODEL_6d476828a633496f949df461205badf8",
        "IPY_MODEL_26c4e26b8b6c428797362194399de0d8",
        "IPY_MODEL_a42ca8ccf0974be2989f873310f765fb"
       ]
      }
     },
     "59ec9a5bbb0d43bb8264b6dcdb2b449b": {
      "model_module": "jupyter-cytoscape",
      "model_module_version": "^1.3.3",
      "model_name": "EdgeModel",
      "state": {
       "_model_module_version": "^1.3.3",
       "_view_module_version": "^1.3.3",
       "data": {
        "_igraph_index": 1,
        "id": "4b6f81d3-e4d4-4d2d-bd95-9b811bdaab28",
        "source": "403",
        "target": "547",
        "type": "INTERACTS_PiP"
       },
       "selectable": false
      }
     },
     "5a6d745ca7324182ab830c3309614a5e": {
      "model_module": "jupyter-cytoscape",
      "model_module_version": "^1.3.3",
      "model_name": "EdgeModel",
      "state": {
       "_model_module_version": "^1.3.3",
       "_view_module_version": "^1.3.3",
       "data": {
        "_igraph_index": 24,
        "id": "0b575aaf-b5db-4fd5-bab9-60b1611b9ef1",
        "source": "3195",
        "target": "17810",
        "type": "INTERACTS_PiP"
       },
       "selectable": false
      }
     },
     "5c63c4d64aae4fcbb21b586b02dade32": {
      "model_module": "jupyter-cytoscape",
      "model_module_version": "^1.3.3",
      "model_name": "GraphModel",
      "state": {
       "_adj": {},
       "_model_module_version": "^1.3.3",
       "_view_module": "jupyter-cytoscape",
       "_view_module_version": "^1.3.3"
      }
     },
     "5c6df9a8ef9d46d2860b867aa8cf592a": {
      "model_module": "jupyter-cytoscape",
      "model_module_version": "^1.3.3",
      "model_name": "NodeModel",
      "state": {
       "_model_module_version": "^1.3.3",
       "_view_module_version": "^1.3.3",
       "data": {
        "_igraph_index": 3,
        "category": "Protein",
        "feature_name": "VTNC_HUMAN",
        "id": "3348",
        "identifier": "P04004",
        "in_query": 1,
        "name": "3348",
        "source": "UniProt"
       },
       "grabbable": true,
       "grabbed": false,
       "position": {
        "x": 1008.6833723629701,
        "y": 72.00336890317965
       },
       "selectable": false
      }
     },
     "5d5439550540437e92ad8cc7b5a3a7eb": {
      "model_module": "jupyter-cytoscape",
      "model_module_version": "^1.3.3",
      "model_name": "EdgeModel",
      "state": {
       "_model_module_version": "^1.3.3",
       "_view_module_version": "^1.3.3",
       "data": {
        "_igraph_index": 2,
        "id": "aeebdbd7-2170-46d1-ba47-e32788ce84dd",
        "source": "403",
        "target": "18673",
        "type": "INTERACTS_PiP"
       },
       "selectable": false
      }
     },
     "5d8de1af15864cec99b641366ac5d53a": {
      "model_module": "jupyter-cytoscape",
      "model_module_version": "^1.3.3",
      "model_name": "EdgeModel",
      "state": {
       "_model_module_version": "^1.3.3",
       "_view_module_version": "^1.3.3",
       "data": {
        "_igraph_index": 26,
        "id": "da501de1-a179-40ef-9f09-266d278a433f",
        "source": "4323",
        "target": "10618",
        "type": "INTERACTS_PiP"
       },
       "selectable": false
      }
     },
     "5ea18a4d642d4567abd7c5ad9b17247a": {
      "model_module": "jupyter-cytoscape",
      "model_module_version": "^1.3.3",
      "model_name": "NodeModel",
      "state": {
       "_model_module_version": "^1.3.3",
       "_view_module_version": "^1.3.3",
       "data": {
        "_igraph_index": 5,
        "category": "Protein",
        "feature_name": "F13B_HUMAN",
        "id": "3393",
        "identifier": "P05160",
        "in_query": 1,
        "name": "3393",
        "source": "UniProt"
       },
       "grabbable": true,
       "grabbed": false,
       "position": {
        "x": 648.8423164894981,
        "y": 469.719554045916
       },
       "selectable": false
      }
     },
     "5f26e6cde4574f5c848953ca419120e7": {
      "model_module": "jupyter-cytoscape",
      "model_module_version": "^1.3.3",
      "model_name": "EdgeModel",
      "state": {
       "_model_module_version": "^1.3.3",
       "_view_module_version": "^1.3.3",
       "data": {
        "_igraph_index": 77,
        "id": "75a867ef-60d7-4ec8-94fe-1200578e4511",
        "source": "14694",
        "target": "49731",
        "type": "EXPRESSEDIN_PeCT"
       },
       "selectable": false
      }
     },
     "60c170a484454467ba2d4b4b3ed3f996": {
      "model_module": "jupyter-cytoscape",
      "model_module_version": "^1.3.3",
      "model_name": "EdgeModel",
      "state": {
       "_model_module_version": "^1.3.3",
       "_view_module_version": "^1.3.3",
       "data": {
        "_igraph_index": 74,
        "id": "be3f92ec-4a1c-44ed-8076-5dd9e820d456",
        "source": "11148",
        "target": "49731",
        "type": "EXPRESSEDIN_PeCT"
       },
       "selectable": false
      }
     },
     "61f966cb34a8419184cf37aa1d82ef4e": {
      "model_module": "jupyter-cytoscape",
      "model_module_version": "^1.3.3",
      "model_name": "CytoscapeModel",
      "state": {
       "_interaction_handlers": {},
       "_model_module_version": "^1.3.3",
       "_view_module_version": "^1.3.3",
       "auto_ungrabify": false,
       "autolock": false,
       "cytoscape_layout": {
        "edgeLengthVal": 50,
        "name": "cola",
        "nodeSpacing": 80
       },
       "cytoscape_style": [
        {
         "selector": "node[feature_name]",
         "style": {
          "font-family": "helvetica",
          "font-size": "20px",
          "label": "data(feature_name)"
         }
        },
        {
         "selector": "node[category=\"Protein\"]",
         "style": {
          "background-color": "blue"
         }
        },
        {
         "selector": "node[in_query=1]",
         "style": {
          "border-color": "red",
          "border-width": "5px"
         }
        },
        {
         "selector": "edge[type]",
         "style": {
          "label": "data(type)"
         }
        },
        {
         "selector": "edge.directed",
         "style": {
          "curve-style": "bezier",
          "target-arrow-shape": "triangle"
         }
        }
       ],
       "desktop_tap_threshold": 4,
       "graph": "IPY_MODEL_558df75d450745469f8de1fcabe79c56",
       "headless": false,
       "hide_edges_on_viewport": false,
       "layout": "IPY_MODEL_e899fdc4c5df4a16a706dfa2ace87cfe",
       "max_zoom": 1e+50,
       "min_zoom": 1e-50,
       "motion_blur": false,
       "motion_blur_opacity": 0.2,
       "panning_enabled": true,
       "pixel_ratio": "auto",
       "rendered_position": {
        "renderedPosition": {
         "x": 100,
         "y": 100
        }
       },
       "selection_type": "single",
       "style_enabled": true,
       "texture_on_viewport": false,
       "tooltip_source": "name",
       "touch_tap_threshold": 8,
       "user_panning_enabled": true,
       "user_zooming_enabled": true,
       "wheel_sensitivity": 1,
       "zoom": 2,
       "zooming_enabled": true
      }
     },
     "62c37b2c6bfb4d68bab8dad1a3145e3e": {
      "model_module": "jupyter-cytoscape",
      "model_module_version": "^1.3.3",
      "model_name": "EdgeModel",
      "state": {
       "_model_module_version": "^1.3.3",
       "_view_module_version": "^1.3.3",
       "data": {
        "_igraph_index": 45,
        "id": "f695a217-1dd7-40d4-bf70-cafbb5c2238d",
        "source": "17821",
        "target": "543438",
        "type": "INTERACTS_PiC"
       },
       "selectable": false
      }
     },
     "6417e77178fa480ab5f41fd065e881cf": {
      "model_module": "jupyter-cytoscape",
      "model_module_version": "^1.3.3",
      "model_name": "EdgeModel",
      "state": {
       "_model_module_version": "^1.3.3",
       "_view_module_version": "^1.3.3",
       "data": {
        "_igraph_index": 69,
        "id": "baa64c13-c64c-45a0-b105-89e654cb390a",
        "source": "10577",
        "target": "49731",
        "type": "EXPRESSEDIN_PeCT"
       },
       "selectable": false
      }
     },
     "64526e9342e1421cab91bcc37f50680d": {
      "model_module": "jupyter-cytoscape",
      "model_module_version": "^1.3.3",
      "model_name": "NodeModel",
      "state": {
       "_model_module_version": "^1.3.3",
       "_view_module_version": "^1.3.3",
       "data": {
        "_igraph_index": 14,
        "category": "Compound",
        "feature_name": "CHEMBL366563",
        "id": "534527",
        "identifier": "CHEMBL366563",
        "in_query": 1,
        "name": "534527",
        "source": ""
       },
       "grabbable": true,
       "grabbed": false,
       "position": {
        "x": 601.2690758920559,
        "y": 415.3281745486113
       },
       "selectable": false
      }
     },
     "6482195a9e08463e89ebcaaee89d3159": {
      "model_module": "jupyter-cytoscape",
      "model_module_version": "^1.3.3",
      "model_name": "EdgeModel",
      "state": {
       "_model_module_version": "^1.3.3",
       "_view_module_version": "^1.3.3",
       "data": {
        "_igraph_index": 7,
        "id": "7e0e0799-fcc4-4c34-9950-e5e6104cb3a8",
        "source": "521673",
        "target": "93236",
        "type": "UPREGULATES_CuG"
       },
       "selectable": false
      }
     },
     "65da26e9de034a2b93656ac2d98de027": {
      "model_module": "jupyter-cytoscape",
      "model_module_version": "^1.3.3",
      "model_name": "EdgeModel",
      "state": {
       "_model_module_version": "^1.3.3",
       "_view_module_version": "^1.3.3",
       "data": {
        "_igraph_index": 15,
        "id": "8e1d70b2-6468-45b2-985e-9ab32e272ea4",
        "source": "12206",
        "target": "3955",
        "type": "INTERACTS_PiP"
       },
       "selectable": false
      }
     },
     "666253bc9b3f4f86a0419ea2825b56f4": {
      "model_module": "jupyter-cytoscape",
      "model_module_version": "^1.3.3",
      "model_name": "NodeModel",
      "state": {
       "_model_module_version": "^1.3.3",
       "_view_module_version": "^1.3.3",
       "data": {
        "_igraph_index": 15,
        "category": "Protein",
        "feature_name": "NCHL1_HUMAN",
        "id": "9859",
        "identifier": "O00533",
        "in_query": 1,
        "name": "9859",
        "source": "UniProt"
       },
       "grabbable": true,
       "grabbed": false,
       "position": {
        "x": 1038.8423184894982,
        "y": 335.96202328702196
       },
       "selectable": false
      }
     },
     "66c55666db1f447d867666fdca6cbdde": {
      "model_module": "jupyter-cytoscape",
      "model_module_version": "^1.3.3",
      "model_name": "EdgeModel",
      "state": {
       "_model_module_version": "^1.3.3",
       "_view_module_version": "^1.3.3",
       "data": {
        "_igraph_index": 40,
        "id": "37527f89-8236-48f7-969d-7bd1cbf83c75",
        "source": "10601",
        "target": "543438",
        "type": "INTERACTS_PiC"
       },
       "selectable": false
      }
     },
     "6702f7a6ebed4792b4fca91483d79fe7": {
      "model_module": "jupyter-cytoscape",
      "model_module_version": "^1.3.3",
      "model_name": "EdgeModel",
      "state": {
       "_model_module_version": "^1.3.3",
       "_view_module_version": "^1.3.3",
       "data": {
        "_igraph_index": 39,
        "id": "1d42ac7c-d68d-45bf-a79a-048083747116",
        "source": "4941",
        "target": "11190",
        "type": "INTERACTS_PiP"
       },
       "selectable": false
      }
     },
     "6813a3f4213e4f6a8e3250e11d49b8de": {
      "model_module": "jupyter-cytoscape",
      "model_module_version": "^1.3.3",
      "model_name": "EdgeModel",
      "state": {
       "_model_module_version": "^1.3.3",
       "_view_module_version": "^1.3.3",
       "data": {
        "_igraph_index": 14,
        "id": "50cc9839-c278-42fb-a8f5-d583bdaca28b",
        "source": "3195",
        "target": "12206",
        "type": "INTERACTS_PiP"
       },
       "selectable": false
      }
     },
     "68b885631c2943adb85defab2c1bcf08": {
      "model_module": "jupyter-cytoscape",
      "model_module_version": "^1.3.3",
      "model_name": "EdgeModel",
      "state": {
       "_model_module_version": "^1.3.3",
       "_view_module_version": "^1.3.3",
       "data": {
        "_igraph_index": 36,
        "id": "2ab98def-7f17-4407-a4ae-4cfb6f60a7c0",
        "source": "10618",
        "target": "11149",
        "type": "INTERACTS_PiP"
       },
       "selectable": false
      }
     },
     "69c53049bc01441e974b004491536b37": {
      "model_module": "jupyter-cytoscape",
      "model_module_version": "^1.3.3",
      "model_name": "NodeModel",
      "state": {
       "_model_module_version": "^1.3.3",
       "_view_module_version": "^1.3.3",
       "data": {
        "_igraph_index": 9,
        "category": "Protein",
        "feature_name": "MOES_HUMAN",
        "id": "4074",
        "identifier": "P26038",
        "in_query": 1,
        "name": "4074",
        "source": "UniProt"
       },
       "grabbable": true,
       "grabbed": false,
       "position": {
        "x": 258.84231448949816,
        "y": -112.6214209269184
       },
       "selectable": false
      }
     },
     "6a3c0b4a66fb44cb8c32395ce8b5d2d3": {
      "model_module": "jupyter-cytoscape",
      "model_module_version": "^1.3.3",
      "model_name": "EdgeModel",
      "state": {
       "_model_module_version": "^1.3.3",
       "_view_module_version": "^1.3.3",
       "data": {
        "_igraph_index": 1,
        "id": "c085c6c6-f227-4e27-b2ab-d3a19dca9fa0",
        "source": "654",
        "target": "49729",
        "type": "EXPRESSEDIN_PeCT"
       },
       "selectable": false
      }
     },
     "6c2fef9f012e4c9094e74827e65fd0e1": {
      "model_module": "jupyter-cytoscape",
      "model_module_version": "^1.3.3",
      "model_name": "EdgeModel",
      "state": {
       "_model_module_version": "^1.3.3",
       "_view_module_version": "^1.3.3",
       "data": {
        "_igraph_index": 58,
        "id": "55bd864c-f35d-49ff-b11c-53f84251465c",
        "source": "3392",
        "target": "49731",
        "type": "EXPRESSEDIN_PeCT"
       },
       "selectable": false
      }
     },
     "6c3d408ba0f74be5989b0b615697cee9": {
      "model_module": "jupyter-cytoscape",
      "model_module_version": "^1.3.3",
      "model_name": "EdgeModel",
      "state": {
       "_model_module_version": "^1.3.3",
       "_view_module_version": "^1.3.3",
       "data": {
        "_igraph_index": 10,
        "id": "5c9c8b92-81b4-4393-a982-c3d0117f94d3",
        "source": "3348",
        "target": "11850",
        "type": "INTERACTS_PiP"
       },
       "selectable": false
      }
     },
     "6d476828a633496f949df461205badf8": {
      "model_module": "jupyter-cytoscape",
      "model_module_version": "^1.3.3",
      "model_name": "NodeModel",
      "state": {
       "_model_module_version": "^1.3.3",
       "_view_module_version": "^1.3.3",
       "data": {
        "_igraph_index": 25,
        "category": "Protein",
        "feature_name": "DMXL2_HUMAN",
        "id": "14694",
        "identifier": "Q8TDJ6",
        "in_query": 1,
        "name": "14694",
        "source": "UniProt"
       },
       "grabbable": true,
       "grabbed": false,
       "position": {
        "x": 1320.9358209664474,
        "y": -142.3014550528842
       },
       "selectable": false
      }
     },
     "6e61eb2a04294d33a7eaa04a70ac3a6b": {
      "model_module": "jupyter-cytoscape",
      "model_module_version": "^1.3.3",
      "model_name": "GraphModel",
      "state": {
       "_adj": {},
       "_model_module_version": "^1.3.3",
       "_view_module": "jupyter-cytoscape",
       "_view_module_version": "^1.3.3"
      }
     },
     "6e96f6c70c644518b5b5c6a06aea73e2": {
      "model_module": "jupyter-cytoscape",
      "model_module_version": "^1.3.3",
      "model_name": "EdgeModel",
      "state": {
       "_model_module_version": "^1.3.3",
       "_view_module_version": "^1.3.3",
       "data": {
        "_igraph_index": 6,
        "id": "648eeb89-5d80-45bd-93cb-4b2f45a02cf7",
        "source": "521673",
        "target": "83378",
        "type": "DOWNREGULATES_CdG"
       },
       "selectable": false
      }
     },
     "6f4fc8687a4040809795aed2c383f587": {
      "model_module": "jupyter-cytoscape",
      "model_module_version": "^1.3.3",
      "model_name": "EdgeModel",
      "state": {
       "_model_module_version": "^1.3.3",
       "_view_module_version": "^1.3.3",
       "data": {
        "_igraph_index": 10,
        "id": "aef1b093-a8b2-470c-9230-62422776e9f8",
        "source": "4323",
        "target": "4023",
        "type": "INTERACTS_PiP"
       },
       "selectable": false
      }
     },
     "7086d56dd2a94ee4afe180c6df232704": {
      "model_module": "jupyter-cytoscape",
      "model_module_version": "^1.3.3",
      "model_name": "NodeModel",
      "state": {
       "_model_module_version": "^1.3.3",
       "_view_module_version": "^1.3.3",
       "data": {
        "_igraph_index": 6,
        "category": "Protein",
        "feature_name": "A1AG2_HUMAN",
        "id": "3955",
        "identifier": "P19652",
        "in_query": 1,
        "name": "3955",
        "source": "UniProt"
       },
       "grabbable": true,
       "grabbed": false,
       "position": {
        "x": 233.68336836297013,
        "y": 415.750231795739
       },
       "selectable": false
      }
     },
     "7116c89b1f7c457a9d60baca90f80dfa": {
      "model_module": "jupyter-cytoscape",
      "model_module_version": "^1.3.3",
      "model_name": "EdgeModel",
      "state": {
       "_model_module_version": "^1.3.3",
       "_view_module_version": "^1.3.3",
       "data": {
        "_igraph_index": 47,
        "id": "9328c333-54c8-480b-8594-faff6260ba7f",
        "source": "19496",
        "target": "3319",
        "type": "INTERACTS_PiP"
       },
       "selectable": false
      }
     },
     "720d504ca7744f2cb7f3892bc49ff8a6": {
      "model_module": "jupyter-cytoscape",
      "model_module_version": "^1.3.3",
      "model_name": "EdgeModel",
      "state": {
       "_model_module_version": "^1.3.3",
       "_view_module_version": "^1.3.3",
       "data": {
        "_igraph_index": 45,
        "id": "a84fae9e-af17-4516-8494-07eb09d73247",
        "source": "10584",
        "target": "11850",
        "type": "INTERACTS_PiP"
       },
       "selectable": false
      }
     },
     "72cd1d3ddab341dd913a851ab1ea8b86": {
      "model_module": "jupyter-cytoscape",
      "model_module_version": "^1.3.3",
      "model_name": "NodeModel",
      "state": {
       "_model_module_version": "^1.3.3",
       "_view_module_version": "^1.3.3",
       "data": {
        "_igraph_index": 12,
        "category": "Compound",
        "feature_name": "HYPOTAURINE",
        "id": "523670",
        "identifier": "CHEMBL1256480",
        "in_query": 1,
        "name": "523670",
        "source": ""
       },
       "grabbable": true,
       "grabbed": false,
       "position": {
        "x": 624.4094738063194,
        "y": -354.6718294513887
       },
       "selectable": false
      }
     },
     "737a8eef6a0d4acaae56885013027393": {
      "model_module": "jupyter-cytoscape",
      "model_module_version": "^1.3.3",
      "model_name": "EdgeModel",
      "state": {
       "_model_module_version": "^1.3.3",
       "_view_module_version": "^1.3.3",
       "data": {
        "_igraph_index": 72,
        "id": "7b054ee9-83ce-44f2-90d4-64922613dec6",
        "source": "10657",
        "target": "49731",
        "type": "EXPRESSEDIN_PeCT"
       },
       "selectable": false
      }
     },
     "7426498191504559b2c1c28dd4690df4": {
      "model_module": "jupyter-cytoscape",
      "model_module_version": "^1.3.3",
      "model_name": "EdgeModel",
      "state": {
       "_model_module_version": "^1.3.3",
       "_view_module_version": "^1.3.3",
       "data": {
        "_igraph_index": 41,
        "id": "335b5bbe-c075-4c44-ad5d-7710832ddc39",
        "source": "3319",
        "target": "11850",
        "type": "INTERACTS_PiP"
       },
       "selectable": false
      }
     },
     "74513f2d0e9c4a98bd58dcf9fdacc52a": {
      "model_module": "jupyter-cytoscape",
      "model_module_version": "^1.3.3",
      "model_name": "NodeModel",
      "state": {
       "_model_module_version": "^1.3.3",
       "_view_module_version": "^1.3.3",
       "data": {
        "_igraph_index": 24,
        "category": "Protein",
        "feature_name": "ITIH3_HUMAN",
        "id": "11850",
        "identifier": "Q06033",
        "in_query": 1,
        "name": "11850",
        "source": "UniProt"
       },
       "grabbable": true,
       "grabbed": false,
       "position": {
        "x": 648.8423164894981,
        "y": 79.71955204591607
       },
       "selectable": false
      }
     },
     "76e0ea20688246c094b360c40e94646b": {
      "model_module": "jupyter-cytoscape",
      "model_module_version": "^1.3.3",
      "model_name": "EdgeModel",
      "state": {
       "_model_module_version": "^1.3.3",
       "_view_module_version": "^1.3.3",
       "data": {
        "_igraph_index": 42,
        "id": "fd03cbe6-156a-438b-a02a-7b6655edaee1",
        "source": "3332",
        "target": "11850",
        "type": "INTERACTS_PiP"
       },
       "selectable": false
      }
     },
     "77401b6f15424ffc9aa1dd03a0829720": {
      "model_module": "jupyter-cytoscape",
      "model_module_version": "^1.3.3",
      "model_name": "EdgeModel",
      "state": {
       "_model_module_version": "^1.3.3",
       "_view_module_version": "^1.3.3",
       "data": {
        "_igraph_index": 22,
        "id": "2eccaaa2-ae79-4970-903d-552f35954c03",
        "source": "17807",
        "target": "3955",
        "type": "INTERACTS_PiP"
       },
       "selectable": false
      }
     },
     "78e305ec94504baab2e5d7125660c163": {
      "model_module": "jupyter-cytoscape",
      "model_module_version": "^1.3.3",
      "model_name": "EdgeModel",
      "state": {
       "_model_module_version": "^1.3.3",
       "_view_module_version": "^1.3.3",
       "data": {
        "_igraph_index": 3,
        "id": "f074e440-c6dc-4b7e-b515-aed669d04a3f",
        "source": "18056",
        "target": "20194",
        "type": "INTERACTS_PiP"
       },
       "selectable": false
      }
     },
     "794ac4e38ec7464a8e7e14ffcdbd6177": {
      "model_module": "jupyter-cytoscape",
      "model_module_version": "^1.3.3",
      "model_name": "NodeModel",
      "state": {
       "_model_module_version": "^1.3.3",
       "_view_module_version": "^1.3.3",
       "data": {
        "_igraph_index": 5,
        "category": "Protein",
        "feature_name": "THBG_HUMAN",
        "id": "3409",
        "identifier": "P05543",
        "in_query": 0,
        "name": "3409",
        "source": "UniProt"
       },
       "grabbable": true,
       "grabbed": false,
       "position": {
        "x": 816.18337136297,
        "y": 492.07749604163854
       },
       "selectable": false
      }
     },
     "7a63a0e4b1f044e286ab03444de6d480": {
      "model_module": "jupyter-cytoscape",
      "model_module_version": "^1.3.3",
      "model_name": "EdgeModel",
      "state": {
       "_model_module_version": "^1.3.3",
       "_view_module_version": "^1.3.3",
       "data": {
        "_igraph_index": 6,
        "id": "a96d5d1c-504e-48c7-bf43-938a534548fd",
        "source": "479",
        "target": "4323",
        "type": "INTERACTS_PiP"
       },
       "selectable": false
      }
     },
     "7ab2dab430a34a7d9ab579d1e50c68d7": {
      "model_module": "jupyter-cytoscape",
      "model_module_version": "^1.3.3",
      "model_name": "NodeModel",
      "state": {
       "_model_module_version": "^1.3.3",
       "_view_module_version": "^1.3.3",
       "data": {
        "_igraph_index": 6,
        "category": "Protein",
        "feature_name": "CO4B_HUMAN",
        "id": "3508",
        "identifier": "P0C0L5",
        "in_query": 1,
        "name": "3508",
        "source": "UniProt"
       },
       "grabbable": true,
       "grabbed": false,
       "position": {
        "x": 63.84231348949813,
        "y": 458.89704859891526
       },
       "selectable": false
      }
     },
     "7adb3a21cc17408fb13768dede0767d0": {
      "model_module": "jupyter-cytoscape",
      "model_module_version": "^1.3.3",
      "model_name": "NodeModel",
      "state": {
       "_model_module_version": "^1.3.3",
       "_view_module_version": "^1.3.3",
       "data": {
        "_igraph_index": 2,
        "category": "Protein",
        "feature_name": "5HT1A_HUMAN",
        "id": "3479",
        "identifier": "P08908",
        "in_query": 0,
        "name": "3479",
        "source": "UniProt"
       },
       "grabbable": true,
       "grabbed": false,
       "position": {
        "x": 285.0926508830778,
        "y": 329.3850351339135
       },
       "selectable": false
      }
     },
     "7c4a7d7a1f8a459386475b24a0522295": {
      "model_module": "jupyter-cytoscape",
      "model_module_version": "^1.3.3",
      "model_name": "EdgeModel",
      "state": {
       "_model_module_version": "^1.3.3",
       "_view_module_version": "^1.3.3",
       "data": {
        "_igraph_index": 28,
        "id": "67be17d6-4625-485f-8ed9-94c551fbe5ca",
        "source": "17821",
        "target": "11850",
        "type": "INTERACTS_PiP"
       },
       "selectable": false
      }
     },
     "7cdabcccab4d43938ceb3a706e8e93a1": {
      "model_module": "jupyter-cytoscape",
      "model_module_version": "^1.3.3",
      "model_name": "EdgeModel",
      "state": {
       "_model_module_version": "^1.3.3",
       "_view_module_version": "^1.3.3",
       "data": {
        "_igraph_index": 10,
        "id": "27fac1a4-f9a2-4471-89b9-aacf78636392",
        "source": "524231",
        "target": "93236",
        "type": "UPREGULATES_CuG"
       },
       "selectable": false
      }
     },
     "7da1ed586c0a4008a95021b57200a196": {
      "model_module": "jupyter-cytoscape",
      "model_module_version": "^1.3.3",
      "model_name": "NodeModel",
      "state": {
       "_model_module_version": "^1.3.3",
       "_view_module_version": "^1.3.3",
       "data": {
        "_igraph_index": 13,
        "category": "Protein",
        "feature_name": "ITIH3_HUMAN",
        "id": "11850",
        "identifier": "Q06033",
        "in_query": 1,
        "name": "11850",
        "source": "UniProt"
       },
       "grabbable": true,
       "grabbed": false,
       "position": {
        "x": 428.6833693629701,
        "y": 171.15187297605
       },
       "selectable": false
      }
     },
     "7dbc019d5a83489e83c14c4ac38538cb": {
      "model_module": "jupyter-cytoscape",
      "model_module_version": "^1.3.3",
      "model_name": "EdgeModel",
      "state": {
       "_model_module_version": "^1.3.3",
       "_view_module_version": "^1.3.3",
       "data": {
        "_igraph_index": 20,
        "id": "e0ceec61-622c-4f90-acd3-92915ba45c32",
        "source": "17807",
        "target": "3348",
        "type": "INTERACTS_PiP"
       },
       "selectable": false
      }
     },
     "7e94a9f2c9aa4ea8b2f40970a13e4a7f": {
      "model_module": "jupyter-cytoscape",
      "model_module_version": "^1.3.3",
      "model_name": "EdgeModel",
      "state": {
       "_model_module_version": "^1.3.3",
       "_view_module_version": "^1.3.3",
       "data": {
        "_igraph_index": 55,
        "id": "fc86a37e-e0f5-4263-b4f6-16c1ff0a77a0",
        "source": "479",
        "target": "49731",
        "type": "EXPRESSEDIN_PeCT"
       },
       "selectable": false
      }
     },
     "7f82c7588e19422999574ea64868fc89": {
      "model_module": "jupyter-cytoscape",
      "model_module_version": "^1.3.3",
      "model_name": "EdgeModel",
      "state": {
       "_model_module_version": "^1.3.3",
       "_view_module_version": "^1.3.3",
       "data": {
        "_igraph_index": 62,
        "id": "3c17c21a-8ace-433e-9b9d-f43547c8ea74",
        "source": "4074",
        "target": "49731",
        "type": "EXPRESSEDIN_PeCT"
       },
       "selectable": false
      }
     },
     "8267e26d7d5d46fea9ead64f0056ed97": {
      "model_module": "jupyter-cytoscape",
      "model_module_version": "^1.3.3",
      "model_name": "NodeModel",
      "state": {
       "_model_module_version": "^1.3.3",
       "_view_module_version": "^1.3.3",
       "data": {
        "_igraph_index": 19,
        "category": "Protein",
        "feature_name": "CFAH_HUMAN",
        "id": "10657",
        "identifier": "P08603",
        "in_query": 1,
        "name": "10657",
        "source": "UniProt"
       },
       "grabbable": true,
       "grabbed": false,
       "position": {
        "x": 843.8423174894982,
        "y": 401.00658292555346
       },
       "selectable": false
      }
     },
     "83fddfb65fa94641afb5d67ba3b94d6c": {
      "model_module": "jupyter-cytoscape",
      "model_module_version": "^1.3.3",
      "model_name": "EdgeModel",
      "state": {
       "_model_module_version": "^1.3.3",
       "_view_module_version": "^1.3.3",
       "data": {
        "_igraph_index": 17,
        "id": "6d71a832-7b08-48f7-84aa-f27213a92580",
        "source": "4323",
        "target": "10577",
        "type": "INTERACTS_PiP"
       },
       "selectable": false
      }
     },
     "848edc5f33684915b5f0b4ea74874993": {
      "model_module": "jupyter-cytoscape",
      "model_module_version": "^1.3.3",
      "model_name": "NodeModel",
      "state": {
       "_model_module_version": "^1.3.3",
       "_view_module_version": "^1.3.3",
       "data": {
        "_igraph_index": 13,
        "category": "Protein",
        "feature_name": "FHR1_HUMAN",
        "id": "4941",
        "identifier": "Q03591",
        "in_query": 1,
        "name": "4941",
        "source": "UniProt"
       },
       "grabbable": true,
       "grabbed": false,
       "position": {
        "x": 258.84231448949816,
        "y": 82.37858007308158
       },
       "selectable": false
      }
     },
     "84ac504cff3d4915a85dd81a7ab10547": {
      "model_module": "jupyter-cytoscape",
      "model_module_version": "^1.3.3",
      "model_name": "EdgeModel",
      "state": {
       "_model_module_version": "^1.3.3",
       "_view_module_version": "^1.3.3",
       "data": {
        "_igraph_index": 43,
        "id": "5371f1c6-3004-4476-ba0e-18abb8d812f0",
        "source": "3393",
        "target": "11850",
        "type": "INTERACTS_PiP"
       },
       "selectable": false
      }
     },
     "850ca99ff12e4383b0d334fc33da31d2": {
      "model_module": "jupyter-cytoscape",
      "model_module_version": "^1.3.3",
      "model_name": "EdgeModel",
      "state": {
       "_model_module_version": "^1.3.3",
       "_view_module_version": "^1.3.3",
       "data": {
        "_igraph_index": 38,
        "id": "bd5f92e7-ee48-48df-ae57-2eab214f7b80",
        "source": "4323",
        "target": "11190",
        "type": "INTERACTS_PiP"
       },
       "selectable": false
      }
     },
     "859ec16b2cd0452c959a834f19ca2293": {
      "model_module": "jupyter-cytoscape",
      "model_module_version": "^1.3.3",
      "model_name": "EdgeModel",
      "state": {
       "_model_module_version": "^1.3.3",
       "_view_module_version": "^1.3.3",
       "data": {
        "_igraph_index": 75,
        "id": "c7a38975-c368-4cd1-9f0e-4cb1038c283f",
        "source": "11149",
        "target": "49731",
        "type": "EXPRESSEDIN_PeCT"
       },
       "selectable": false
      }
     },
     "85efe2c2f6bf48ac93814047fed92656": {
      "model_module": "jupyter-cytoscape",
      "model_module_version": "^1.3.3",
      "model_name": "EdgeModel",
      "state": {
       "_model_module_version": "^1.3.3",
       "_view_module_version": "^1.3.3",
       "data": {
        "_igraph_index": 36,
        "id": "dd8aab98-1325-4219-885f-131814c7cc40",
        "source": "18448",
        "target": "181485",
        "type": "INTERACTS_PiC"
       },
       "selectable": false
      }
     },
     "862e03286c6e43a4992a47c080f16f30": {
      "model_module": "jupyter-cytoscape",
      "model_module_version": "^1.3.3",
      "model_name": "EdgeModel",
      "state": {
       "_model_module_version": "^1.3.3",
       "_view_module_version": "^1.3.3",
       "data": {
        "_igraph_index": 21,
        "id": "893bf6e7-6c33-4593-8226-08ea09527f4e",
        "source": "9859",
        "target": "10584",
        "type": "INTERACTS_PiP"
       },
       "selectable": false
      }
     },
     "8892b6ba340c470d997a2a481a77cc7b": {
      "model_module": "jupyter-cytoscape",
      "model_module_version": "^1.3.3",
      "model_name": "EdgeModel",
      "state": {
       "_model_module_version": "^1.3.3",
       "_view_module_version": "^1.3.3",
       "data": {
        "_igraph_index": 57,
        "id": "6a27c45e-fed7-448c-b7be-1bc329b5222d",
        "source": "3332",
        "target": "49731",
        "type": "EXPRESSEDIN_PeCT"
       },
       "selectable": false
      }
     },
     "88da1f43535e4d718c84e99f645a6755": {
      "model_module": "jupyter-cytoscape",
      "model_module_version": "^1.3.3",
      "model_name": "EdgeModel",
      "state": {
       "_model_module_version": "^1.3.3",
       "_view_module_version": "^1.3.3",
       "data": {
        "_igraph_index": 68,
        "id": "6d63552f-9a63-4ec8-a248-8b941a50d954",
        "source": "9859",
        "target": "49731",
        "type": "EXPRESSEDIN_PeCT"
       },
       "selectable": false
      }
     },
     "89027b200172402bb21e2f1778dc7ec9": {
      "model_module": "jupyter-cytoscape",
      "model_module_version": "^1.3.3",
      "model_name": "EdgeModel",
      "state": {
       "_model_module_version": "^1.3.3",
       "_view_module_version": "^1.3.3",
       "data": {
        "_igraph_index": 25,
        "id": "f63f62c3-aa14-4e79-8df0-915daca342b3",
        "source": "17821",
        "target": "3195",
        "type": "INTERACTS_PiP"
       },
       "selectable": false
      }
     },
     "892a8803df27490e8dd1480d5c5bcfe6": {
      "model_module": "jupyter-cytoscape",
      "model_module_version": "^1.3.3",
      "model_name": "NodeModel",
      "state": {
       "_model_module_version": "^1.3.3",
       "_view_module_version": "^1.3.3",
       "data": {
        "_igraph_index": 6,
        "category": "Gene",
        "feature_name": "EIF5",
        "id": "83378",
        "identifier": 1983,
        "in_query": 0,
        "name": "83378",
        "source": "Entrez Gene"
       },
       "grabbable": true,
       "grabbed": false,
       "position": {
        "x": 214.6808015540901,
        "y": 519.3850361339136
       },
       "selectable": false
      }
     },
     "8a249a6c1fe5478aaf61cfa91bbc12a5": {
      "model_module": "jupyter-cytoscape",
      "model_module_version": "^1.3.3",
      "model_name": "EdgeModel",
      "state": {
       "_model_module_version": "^1.3.3",
       "_view_module_version": "^1.3.3",
       "data": {
        "_igraph_index": 27,
        "id": "c344fe79-3a52-4e7e-bf91-d8b7bc31c3e1",
        "source": "4477",
        "target": "10618",
        "type": "INTERACTS_PiP"
       },
       "selectable": false
      }
     },
     "8a5614a0a67649e28e3df676775e99c9": {
      "model_module": "jupyter-cytoscape",
      "model_module_version": "^1.3.3",
      "model_name": "EdgeModel",
      "state": {
       "_model_module_version": "^1.3.3",
       "_view_module_version": "^1.3.3",
       "data": {
        "_igraph_index": 66,
        "id": "4980dc38-5ae9-42b4-adf5-3db872e8a738",
        "source": "4941",
        "target": "49731",
        "type": "EXPRESSEDIN_PeCT"
       },
       "selectable": false
      }
     },
     "8c2e32b3dd9340619ed732adca56b4bc": {
      "model_module": "jupyter-cytoscape",
      "model_module_version": "^1.3.3",
      "model_name": "NodeModel",
      "state": {
       "_model_module_version": "^1.3.3",
       "_view_module_version": "^1.3.3",
       "data": {
        "_igraph_index": 17,
        "category": "Protein",
        "feature_name": "FA9_HUMAN",
        "id": "17807",
        "identifier": "P00740",
        "in_query": 1,
        "name": "17807",
        "source": "UniProt"
       },
       "grabbable": true,
       "grabbed": false,
       "position": {
        "x": 618.6833703629702,
        "y": -80.42250695836147
       },
       "selectable": false
      }
     },
     "8c6e9e4e93344b00b9c2b8d8a01ed88a": {
      "model_module": "jupyter-cytoscape",
      "model_module_version": "^1.3.3",
      "model_name": "EdgeModel",
      "state": {
       "_model_module_version": "^1.3.3",
       "_view_module_version": "^1.3.3",
       "data": {
        "_igraph_index": 26,
        "id": "2906ab48-4785-473e-bb2e-2cd12f2ab5e7",
        "source": "17821",
        "target": "3409",
        "type": "INTERACTS_PiP"
       },
       "selectable": false
      }
     },
     "8f482fe5fe7d4cf99fcbe26c88c55618": {
      "model_module": "jupyter-cytoscape",
      "model_module_version": "^1.3.3",
      "model_name": "NodeModel",
      "state": {
       "_model_module_version": "^1.3.3",
       "_view_module_version": "^1.3.3",
       "data": {
        "_igraph_index": 2,
        "category": "Protein",
        "feature_name": "C1QC_HUMAN",
        "id": "3317",
        "identifier": "P02747",
        "in_query": 1,
        "name": "3317",
        "source": "UniProt"
       },
       "grabbable": true,
       "grabbed": false,
       "position": {
        "x": 38.683367362970124,
        "y": 234.39330349472448
       },
       "selectable": false
      }
     },
     "9040e59154f24b0d94fca98cfdb8e448": {
      "model_module": "jupyter-cytoscape",
      "model_module_version": "^1.3.3",
      "model_name": "NodeModel",
      "state": {
       "_model_module_version": "^1.3.3",
       "_view_module_version": "^1.3.3",
       "data": {
        "_igraph_index": 11,
        "category": "Protein",
        "feature_name": "MTR1B_HUMAN",
        "id": "4410",
        "identifier": "P49286",
        "in_query": 0,
        "name": "4410",
        "source": "UniProt"
       },
       "grabbable": true,
       "grabbed": false,
       "position": {
        "x": 1128.4358199664473,
        "y": -51.53797871297807
       },
       "selectable": false
      }
     },
     "90a3a79cfb194315b7b4e6f749ac3b61": {
      "model_module": "jupyter-cytoscape",
      "model_module_version": "^1.3.3",
      "model_name": "EdgeModel",
      "state": {
       "_model_module_version": "^1.3.3",
       "_view_module_version": "^1.3.3",
       "data": {
        "_igraph_index": 2,
        "id": "a0a3cfce-8a9c-4d8b-9de3-ce286d807c84",
        "source": "3778",
        "target": "49729",
        "type": "EXPRESSEDIN_PeCT"
       },
       "selectable": false
      }
     },
     "937637678172461dbf84d327a0e2470c": {
      "model_module": "jupyter-cytoscape",
      "model_module_version": "^1.3.3",
      "model_name": "NodeModel",
      "state": {
       "_model_module_version": "^1.3.3",
       "_view_module_version": "^1.3.3",
       "data": {
        "_igraph_index": 0,
        "category": "Protein",
        "feature_name": "CO3_HUMAN",
        "id": "3195",
        "identifier": "P01024",
        "in_query": 0,
        "name": "3195",
        "source": "UniProt"
       },
       "grabbable": true,
       "grabbed": false,
       "position": {
        "x": 621.1833703629702,
        "y": 112.07749404163853
       },
       "selectable": false
      }
     },
     "940f627a8353409fb0aad50eb573489b": {
      "model_module": "jupyter-cytoscape",
      "model_module_version": "^1.3.3",
      "model_name": "NodeModel",
      "state": {
       "_model_module_version": "^1.3.3",
       "_view_module_version": "^1.3.3",
       "data": {
        "_igraph_index": 19,
        "category": "Protein",
        "feature_name": "PROC_HUMAN",
        "id": "17821",
        "identifier": "P04070",
        "in_query": 1,
        "name": "17821",
        "source": "UniProt"
       },
       "grabbable": true,
       "grabbed": false,
       "position": {
        "x": 642.0595409115386,
        "y": 689.5774970416386
       },
       "selectable": false
      }
     },
     "944bc1e2bc12474a9ab59b6790325900": {
      "model_module": "jupyter-cytoscape",
      "model_module_version": "^1.3.3",
      "model_name": "NodeModel",
      "state": {
       "_model_module_version": "^1.3.3",
       "_view_module_version": "^1.3.3",
       "data": {
        "_igraph_index": 21,
        "category": "Compound",
        "feature_name": "CHEMBL3187523",
        "id": "181485",
        "identifier": "CHEMBL3187523",
        "in_query": 0,
        "name": "181485",
        "source": ""
       },
       "grabbable": true,
       "grabbed": false,
       "position": {
        "x": 816.18337136297,
        "y": 302.07749504163854
       },
       "selectable": false
      }
     },
     "988fe843933348e9a9217b047d78961a": {
      "model_module": "jupyter-cytoscape",
      "model_module_version": "^1.3.3",
      "model_name": "EdgeModel",
      "state": {
       "_model_module_version": "^1.3.3",
       "_view_module_version": "^1.3.3",
       "data": {
        "_igraph_index": 18,
        "id": "fe0e3c84-8a59-41c8-95e9-4409de78033b",
        "source": "3319",
        "target": "10584",
        "type": "INTERACTS_PiP"
       },
       "selectable": false
      }
     },
     "98b5631693aa4066af0c6306f82dd4f8": {
      "model_module": "jupyter-cytoscape",
      "model_module_version": "^1.3.3",
      "model_name": "EdgeModel",
      "state": {
       "_model_module_version": "^1.3.3",
       "_view_module_version": "^1.3.3",
       "data": {
        "_igraph_index": 52,
        "id": "614e9c67-2979-4d3e-960c-b260d086068d",
        "source": "19496",
        "target": "10584",
        "type": "INTERACTS_PiP"
       },
       "selectable": false
      }
     },
     "9937fe36723b4f3595598079216a639c": {
      "model_module": "jupyter-cytoscape",
      "model_module_version": "^1.3.3",
      "model_name": "EdgeModel",
      "state": {
       "_model_module_version": "^1.3.3",
       "_view_module_version": "^1.3.3",
       "data": {
        "_igraph_index": 11,
        "id": "c4fffc93-497c-409d-b9d4-bf740ba50037",
        "source": "42488",
        "target": "524340",
        "type": "CONTAINS_FcC"
       },
       "selectable": false
      }
     },
     "99d8c274e7bf4f61b5fb0c1c6abe6624": {
      "model_module": "jupyter-cytoscape",
      "model_module_version": "^1.3.3",
      "model_name": "EdgeModel",
      "state": {
       "_model_module_version": "^1.3.3",
       "_view_module_version": "^1.3.3",
       "data": {
        "_igraph_index": 31,
        "id": "78da2656-1d5e-4e8a-8d6d-7e76484c060e",
        "source": "4941",
        "target": "10657",
        "type": "INTERACTS_PiP"
       },
       "selectable": false
      }
     },
     "9ad225686ac54734a62d0dbac194e150": {
      "model_module": "jupyter-cytoscape",
      "model_module_version": "^1.3.3",
      "model_name": "EdgeModel",
      "state": {
       "_model_module_version": "^1.3.3",
       "_view_module_version": "^1.3.3",
       "data": {
        "_igraph_index": 12,
        "id": "c085011a-5dc8-4fcc-bee7-0e1263bf3c73",
        "source": "3955",
        "target": "11850",
        "type": "INTERACTS_PiP"
       },
       "selectable": false
      }
     },
     "9ae347b135af4fc4b47d91d2279ea11d": {
      "model_module": "jupyter-cytoscape",
      "model_module_version": "^1.3.3",
      "model_name": "NodeModel",
      "state": {
       "_model_module_version": "^1.3.3",
       "_view_module_version": "^1.3.3",
       "data": {
        "_igraph_index": 18,
        "category": "Protein",
        "feature_name": "CFAB_HUMAN",
        "id": "17810",
        "identifier": "P00751",
        "in_query": 1,
        "name": "17810",
        "source": "UniProt"
       },
       "grabbable": true,
       "grabbed": false,
       "position": {
        "x": 428.6833693629701,
        "y": 561.15187497605
       },
       "selectable": false
      }
     },
     "9cca330962b04c5fa12854dcea42acae": {
      "model_module": "jupyter-cytoscape",
      "model_module_version": "^1.3.3",
      "model_name": "NodeModel",
      "state": {
       "_model_module_version": "^1.3.3",
       "_view_module_version": "^1.3.3",
       "data": {
        "_igraph_index": 5,
        "category": "Protein",
        "feature_name": "UAP1_HUMAN",
        "id": "18673",
        "identifier": "Q16222",
        "in_query": 0,
        "name": "18673",
        "source": "UniProt"
       },
       "grabbable": true,
       "grabbed": false,
       "position": {
        "x": 793.769076892056,
        "y": 412.8281745486113
       },
       "selectable": false
      }
     },
     "9dec48a975fc4c6bbccdc4809e7001ab": {
      "model_module": "jupyter-cytoscape",
      "model_module_version": "^1.3.3",
      "model_name": "EdgeModel",
      "state": {
       "_model_module_version": "^1.3.3",
       "_view_module_version": "^1.3.3",
       "data": {
        "_igraph_index": 9,
        "id": "831168ba-b28d-4bb3-b9bf-9f079df6c226",
        "source": "4323",
        "target": "3393",
        "type": "INTERACTS_PiP"
       },
       "selectable": false
      }
     },
     "9ea8ded211df44069fc2e14dc51d3986": {
      "model_module": "jupyter-cytoscape",
      "model_module_version": "^1.3.3",
      "model_name": "EdgeModel",
      "state": {
       "_model_module_version": "^1.3.3",
       "_view_module_version": "^1.3.3",
       "data": {
        "_igraph_index": 0,
        "id": "6dfc6269-ce71-4de3-ae75-e9a82c873f88",
        "source": "284",
        "target": "547",
        "type": "INTERACTS_PiP"
       },
       "selectable": false
      }
     },
     "a075e10d3da247cc939d0bf9409ae705": {
      "model_module": "jupyter-cytoscape",
      "model_module_version": "^1.3.3",
      "model_name": "EdgeModel",
      "state": {
       "_model_module_version": "^1.3.3",
       "_view_module_version": "^1.3.3",
       "data": {
        "_igraph_index": 35,
        "id": "18e5e99f-6960-4acd-97a6-171b72a06d8e",
        "source": "17821",
        "target": "181485",
        "type": "INTERACTS_PiC"
       },
       "selectable": false
      }
     },
     "a0decc4d50b74f9b90b8f8fc13102a8e": {
      "model_module": "jupyter-cytoscape",
      "model_module_version": "^1.3.3",
      "model_name": "EdgeModel",
      "state": {
       "_model_module_version": "^1.3.3",
       "_view_module_version": "^1.3.3",
       "data": {
        "_igraph_index": 38,
        "id": "4b44f38c-d9ab-4625-95c4-2455bc779ca2",
        "source": "3409",
        "target": "543438",
        "type": "INTERACTS_PiC"
       },
       "selectable": false
      }
     },
     "a1033457b4584a9f864db224ce3646e3": {
      "model_module": "jupyter-cytoscape",
      "model_module_version": "^1.3.3",
      "model_name": "NodeModel",
      "state": {
       "_model_module_version": "^1.3.3",
       "_view_module_version": "^1.3.3",
       "data": {
        "_igraph_index": 4,
        "category": "Protein",
        "feature_name": "IPSP_HUMAN",
        "id": "3392",
        "identifier": "P05154",
        "in_query": 1,
        "name": "3392",
        "source": "UniProt"
       },
       "grabbable": true,
       "grabbed": false,
       "position": {
        "x": 388.5835145148508,
        "y": 667.3785830730816
       },
       "selectable": false
      }
     },
     "a3a75b8fffc549029e0569d22269bb05": {
      "model_module": "jupyter-cytoscape",
      "model_module_version": "^1.3.3",
      "model_name": "NodeModel",
      "state": {
       "_model_module_version": "^1.3.3",
       "_view_module_version": "^1.3.3",
       "data": {
        "_igraph_index": 7,
        "category": "Food",
        "feature_name": "peppermint",
        "id": "42488",
        "identifier": "FOODON:03303920",
        "in_query": 0,
        "name": "42488",
        "source": "Food Ontology"
       },
       "grabbable": true,
       "grabbed": false,
       "position": {
        "x": 779.6276808030452,
        "y": 222.8281735486112
       },
       "selectable": false
      }
     },
     "a42ca8ccf0974be2989f873310f765fb": {
      "model_module": "jupyter-cytoscape",
      "model_module_version": "^1.3.3",
      "model_name": "NodeModel",
      "state": {
       "_model_module_version": "^1.3.3",
       "_view_module_version": "^1.3.3",
       "data": {
        "_igraph_index": 27,
        "category": "CellType",
        "feature_name": "enteric neuron",
        "id": "49731",
        "identifier": "CL:0007011",
        "in_query": 0,
        "name": "49731",
        "source": "Cell Ontology"
       },
       "grabbable": true,
       "grabbed": false,
       "position": {
        "x": 1231.3423194894983,
        "y": 245.1985469471158
       },
       "selectable": false
      }
     },
     "a4dcfa2f97cf4460ac641638692dd620": {
      "model_module": "jupyter-cytoscape",
      "model_module_version": "^1.3.3",
      "model_name": "EdgeModel",
      "state": {
       "_model_module_version": "^1.3.3",
       "_view_module_version": "^1.3.3",
       "data": {
        "_igraph_index": 5,
        "id": "79501f00-820c-4e7b-841f-5af132dffb8f",
        "source": "3479",
        "target": "521673",
        "type": "INTERACTS_PiC"
       },
       "selectable": false
      }
     },
     "a5001c9fe2b9405fbb3950bac3363da8": {
      "model_module": "jupyter-cytoscape",
      "model_module_version": "^1.3.3",
      "model_name": "EdgeModel",
      "state": {
       "_model_module_version": "^1.3.3",
       "_view_module_version": "^1.3.3",
       "data": {
        "_igraph_index": 19,
        "id": "e6973e0d-4e71-47e4-b5c2-804f5105ebe1",
        "source": "3409",
        "target": "15762",
        "type": "INTERACTS_PiP"
       },
       "selectable": false
      }
     },
     "a507b55923b746a69c60de50b1131b76": {
      "model_module": "jupyter-cytoscape",
      "model_module_version": "^1.3.3",
      "model_name": "EdgeModel",
      "state": {
       "_model_module_version": "^1.3.3",
       "_view_module_version": "^1.3.3",
       "data": {
        "_igraph_index": 15,
        "id": "a559e8e1-5065-42be-9248-02eebf84ac78",
        "source": "3332",
        "target": "10577",
        "type": "INTERACTS_PiP"
       },
       "selectable": false
      }
     },
     "a6b3e548c37447b7ba30d6335b7e7592": {
      "model_module": "jupyter-cytoscape",
      "model_module_version": "^1.3.3",
      "model_name": "NodeModel",
      "state": {
       "_model_module_version": "^1.3.3",
       "_view_module_version": "^1.3.3",
       "data": {
        "_igraph_index": 17,
        "category": "Protein",
        "feature_name": "A1BG_HUMAN",
        "id": "10584",
        "identifier": "P04217",
        "in_query": 1,
        "name": "10584",
        "source": "UniProt"
       },
       "grabbable": true,
       "grabbed": false,
       "position": {
        "x": 453.8423154894981,
        "y": 79.71955204591606
       },
       "selectable": false
      }
     },
     "a73c222fe14a499cb0e6bfa5e05e6a94": {
      "model_module": "jupyter-cytoscape",
      "model_module_version": "^1.3.3",
      "model_name": "NodeModel",
      "state": {
       "_model_module_version": "^1.3.3",
       "_view_module_version": "^1.3.3",
       "data": {
        "_igraph_index": 20,
        "category": "Protein",
        "feature_name": "CO4A_HUMAN",
        "id": "10685",
        "identifier": "P0C0L4",
        "in_query": 1,
        "name": "10685",
        "source": "UniProt"
       },
       "grabbable": true,
       "grabbed": false,
       "position": {
        "x": 1038.8423184894982,
        "y": 140.9620222870219
       },
       "selectable": false
      }
     },
     "a87bb52adeb84701b72fa67d147219eb": {
      "model_module": "jupyter-cytoscape",
      "model_module_version": "^1.3.3",
      "model_name": "EdgeModel",
      "state": {
       "_model_module_version": "^1.3.3",
       "_view_module_version": "^1.3.3",
       "data": {
        "_igraph_index": 11,
        "id": "7b318045-adc4-4d7f-a58b-9fcf628276e1",
        "source": "3409",
        "target": "11850",
        "type": "INTERACTS_PiP"
       },
       "selectable": false
      }
     },
     "a8bb76d5081c435fba7d12dd655768ea": {
      "model_module": "jupyter-cytoscape",
      "model_module_version": "^1.3.3",
      "model_name": "EdgeModel",
      "state": {
       "_model_module_version": "^1.3.3",
       "_view_module_version": "^1.3.3",
       "data": {
        "_igraph_index": 34,
        "id": "2f8d123b-864f-4be6-a4eb-78d9f518691f",
        "source": "17807",
        "target": "181485",
        "type": "INTERACTS_PiC"
       },
       "selectable": false
      }
     },
     "aa0b454692ef4c6ca320b89494971746": {
      "model_module": "jupyter-cytoscape",
      "model_module_version": "^1.3.3",
      "model_name": "EdgeModel",
      "state": {
       "_model_module_version": "^1.3.3",
       "_view_module_version": "^1.3.3",
       "data": {
        "_igraph_index": 0,
        "id": "7b3787ab-9339-4ed8-bb04-f895df3c0891",
        "source": "3195",
        "target": "3307",
        "type": "INTERACTS_PiP"
       },
       "selectable": false
      }
     },
     "ab9c452c814741d2984fb05daa31d6ec": {
      "model_module": "jupyter-cytoscape",
      "model_module_version": "^1.3.3",
      "model_name": "EdgeModel",
      "state": {
       "_model_module_version": "^1.3.3",
       "_view_module_version": "^1.3.3",
       "data": {
        "_igraph_index": 17,
        "id": "3d56d85a-97c2-4de6-a3fa-3923b0ef678c",
        "source": "12206",
        "target": "11850",
        "type": "INTERACTS_PiP"
       },
       "selectable": false
      }
     },
     "ac40466c831e43009c6bbffdbf5bb82e": {
      "model_module": "jupyter-cytoscape",
      "model_module_version": "^1.3.3",
      "model_name": "CytoscapeModel",
      "state": {
       "_interaction_handlers": {},
       "_model_module_version": "^1.3.3",
       "_view_module_version": "^1.3.3",
       "auto_ungrabify": false,
       "autolock": false,
       "cytoscape_layout": {
        "edgeLengthVal": 50,
        "name": "cola",
        "nodeSpacing": 80,
        "title": "high_proteins"
       },
       "cytoscape_style": [
        {
         "selector": "node[feature_name]",
         "style": {
          "font-family": "helvetica",
          "font-size": "20px",
          "label": "data(feature_name)"
         }
        },
        {
         "selector": "node[category=\"Protein\"]",
         "style": {
          "background-color": "blue"
         }
        },
        {
         "selector": "node[in_query=1]",
         "style": {
          "border-color": "red",
          "border-width": "5px"
         }
        },
        {
         "selector": "edge[type]",
         "style": {
          "label": "data(type)"
         }
        },
        {
         "selector": "edge.directed",
         "style": {
          "curve-style": "bezier",
          "target-arrow-shape": "triangle"
         }
        }
       ],
       "desktop_tap_threshold": 4,
       "graph": "IPY_MODEL_58d97a81dda84e5b850a643dd4715bf4",
       "headless": false,
       "hide_edges_on_viewport": false,
       "layout": "IPY_MODEL_dae3dd58a9474802a3abdca49194a513",
       "max_zoom": 1e+50,
       "min_zoom": 1e-50,
       "motion_blur": false,
       "motion_blur_opacity": 0.2,
       "panning_enabled": true,
       "pixel_ratio": "auto",
       "rendered_position": {
        "renderedPosition": {
         "x": 100,
         "y": 100
        }
       },
       "selection_type": "single",
       "style_enabled": true,
       "texture_on_viewport": false,
       "tooltip_source": "feature_name",
       "touch_tap_threshold": 8,
       "user_panning_enabled": true,
       "user_zooming_enabled": true,
       "wheel_sensitivity": 1,
       "zoom": 2,
       "zooming_enabled": true
      }
     },
     "ad336edd07d947ba99959a849155424d": {
      "model_module": "jupyter-cytoscape",
      "model_module_version": "^1.3.3",
      "model_name": "NodeModel",
      "state": {
       "_model_module_version": "^1.3.3",
       "_view_module_version": "^1.3.3",
       "data": {
        "_igraph_index": 9,
        "category": "Protein",
        "feature_name": "SYUB_HUMAN",
        "id": "5345",
        "identifier": "Q16143",
        "in_query": 0,
        "name": "5345",
        "source": "UniProt"
       },
       "grabbable": true,
       "grabbed": false,
       "position": {
        "x": 426.1833693629701,
        "y": -21.34812802395003
       },
       "selectable": false
      }
     },
     "ae59c99e15834c73a1f3f76217deb06a": {
      "model_module": "jupyter-cytoscape",
      "model_module_version": "^1.3.3",
      "model_name": "EdgeModel",
      "state": {
       "_model_module_version": "^1.3.3",
       "_view_module_version": "^1.3.3",
       "data": {
        "_igraph_index": 13,
        "id": "d452109f-b9be-49e9-8edf-ec68c7fe1fe5",
        "source": "9859",
        "target": "3875",
        "type": "INTERACTS_PiP"
       },
       "selectable": false
      }
     },
     "b010bac4c0c04073b3618f083884ee22": {
      "model_module": "jupyter-cytoscape",
      "model_module_version": "^1.3.3",
      "model_name": "EdgeModel",
      "state": {
       "_model_module_version": "^1.3.3",
       "_view_module_version": "^1.3.3",
       "data": {
        "_igraph_index": 2,
        "id": "dd92c460-7be9-425d-b543-e3a4cd2eae8a",
        "source": "3307",
        "target": "3317",
        "type": "INTERACTS_PiP"
       },
       "selectable": false
      }
     },
     "b046cac623244588842e2b8054ae6538": {
      "model_module": "jupyter-cytoscape",
      "model_module_version": "^1.3.3",
      "model_name": "NodeModel",
      "state": {
       "_model_module_version": "^1.3.3",
       "_view_module_version": "^1.3.3",
       "data": {
        "_igraph_index": 11,
        "category": "Compound",
        "feature_name": "URIC ACID",
        "id": "523510",
        "identifier": "CHEMBL792",
        "in_query": 1,
        "name": "523510",
        "source": ""
       },
       "grabbable": true,
       "grabbed": false,
       "position": {
        "x": 857.5926538830778,
        "y": 36.99308825155347
       },
       "selectable": false
      }
     },
     "b09cdd9cdb2f4b6cb82f958fef47afe7": {
      "model_module": "jupyter-cytoscape",
      "model_module_version": "^1.3.3",
      "model_name": "NodeModel",
      "state": {
       "_model_module_version": "^1.3.3",
       "_view_module_version": "^1.3.3",
       "data": {
        "_igraph_index": 2,
        "category": "Protein",
        "feature_name": "ALDR_HUMAN",
        "id": "403",
        "identifier": "P15121",
        "in_query": 0,
        "name": "403",
        "source": "UniProt"
       },
       "grabbable": true,
       "grabbed": false,
       "position": {
        "x": 422.5360902586826,
        "y": 607.8281755486112
       },
       "selectable": false
      }
     },
     "b1cd52bb1af0440bbda286059d0fb337": {
      "model_module": "jupyter-cytoscape",
      "model_module_version": "^1.3.3",
      "model_name": "EdgeModel",
      "state": {
       "_model_module_version": "^1.3.3",
       "_view_module_version": "^1.3.3",
       "data": {
        "_igraph_index": 12,
        "id": "f9ac0402-51f2-43ba-b271-a28d74ff47fe",
        "source": "3778",
        "target": "525160",
        "type": "INTERACTS_PiC"
       },
       "selectable": false
      }
     },
     "b21a0da08a4b41f3a6eb4e6114cf930e": {
      "model_module": "jupyter-cytoscape",
      "model_module_version": "^1.3.3",
      "model_name": "EdgeModel",
      "state": {
       "_model_module_version": "^1.3.3",
       "_view_module_version": "^1.3.3",
       "data": {
        "_igraph_index": 13,
        "id": "32f6815a-3659-470f-bf38-5c16516d3f08",
        "source": "17921",
        "target": "535189",
        "type": "INTERACTS_PiC"
       },
       "selectable": false
      }
     },
     "b2c13f4657414da29958cdbe80e6536a": {
      "model_module": "jupyter-cytoscape",
      "model_module_version": "^1.3.3",
      "model_name": "NodeModel",
      "state": {
       "_model_module_version": "^1.3.3",
       "_view_module_version": "^1.3.3",
       "data": {
        "_igraph_index": 14,
        "category": "Protein",
        "feature_name": "ITIH4_HUMAN",
        "id": "12206",
        "identifier": "Q14624",
        "in_query": 1,
        "name": "12206",
        "source": "UniProt"
       },
       "grabbable": true,
       "grabbed": false,
       "position": {
        "x": 623.6833703629701,
        "y": 304.57749504163854
       },
       "selectable": false
      }
     },
     "b4d82bccc1dd4fa4bc2ddc1dd2dab6d8": {
      "model_module": "jupyter-cytoscape",
      "model_module_version": "^1.3.3",
      "model_name": "EdgeModel",
      "state": {
       "_model_module_version": "^1.3.3",
       "_view_module_version": "^1.3.3",
       "data": {
        "_igraph_index": 31,
        "id": "1e1e1e19-d538-4463-8733-1556af94fc8a",
        "source": "3307",
        "target": "181485",
        "type": "INTERACTS_PiC"
       },
       "selectable": false
      }
     },
     "b55dae10050f4fe0973b1581fcbdb386": {
      "model_module": "jupyter-cytoscape",
      "model_module_version": "^1.3.3",
      "model_name": "EdgeModel",
      "state": {
       "_model_module_version": "^1.3.3",
       "_view_module_version": "^1.3.3",
       "data": {
        "_igraph_index": 9,
        "id": "3f24fb14-4dfa-4819-ac5f-210a2542b67f",
        "source": "3778",
        "target": "523510",
        "type": "INTERACTS_PiC"
       },
       "selectable": false
      }
     },
     "b59f5a1ea0df4911813ec2477da6e73c": {
      "model_module": "jupyter-cytoscape",
      "model_module_version": "^1.3.3",
      "model_name": "NodeModel",
      "state": {
       "_model_module_version": "^1.3.3",
       "_view_module_version": "^1.3.3",
       "data": {
        "_igraph_index": 0,
        "category": "Protein",
        "feature_name": "PON1_HUMAN",
        "id": "479",
        "identifier": "P27169",
        "in_query": 1,
        "name": "479",
        "source": "UniProt"
       },
       "grabbable": true,
       "grabbed": false,
       "position": {
        "x": 453.8423154894981,
        "y": 274.71955304591603
       },
       "selectable": false
      }
     },
     "b635a441a7c3484da6d5e306f164e8e8": {
      "model_module": "jupyter-cytoscape",
      "model_module_version": "^1.3.3",
      "model_name": "EdgeModel",
      "state": {
       "_model_module_version": "^1.3.3",
       "_view_module_version": "^1.3.3",
       "data": {
        "_igraph_index": 1,
        "id": "771cea4a-4148-424d-9d48-4986d8591e22",
        "source": "3319",
        "target": "3332",
        "type": "INTERACTS_PiP"
       },
       "selectable": false
      }
     },
     "b63f54d00938497688d28fedc0572ea4": {
      "model_module": "jupyter-cytoscape",
      "model_module_version": "^1.3.3",
      "model_name": "EdgeModel",
      "state": {
       "_model_module_version": "^1.3.3",
       "_view_module_version": "^1.3.3",
       "data": {
        "_igraph_index": 51,
        "id": "c04862f5-8eec-44e4-8ffe-bbb1748a5392",
        "source": "19496",
        "target": "10577",
        "type": "INTERACTS_PiP"
       },
       "selectable": false
      }
     },
     "b7b31cd2e3ff4de78cacca8dcc26b3cc": {
      "model_module": "jupyter-cytoscape",
      "model_module_version": "^1.3.3",
      "model_name": "NodeModel",
      "state": {
       "_model_module_version": "^1.3.3",
       "_view_module_version": "^1.3.3",
       "data": {
        "_igraph_index": 7,
        "category": "Protein",
        "feature_name": "EZRI_HUMAN",
        "id": "3875",
        "identifier": "P15311",
        "in_query": 1,
        "name": "3875",
        "source": "UniProt"
       },
       "grabbable": true,
       "grabbed": false,
       "position": {
        "x": 843.8423174894982,
        "y": 11.006580925553438
       },
       "selectable": false
      }
     },
     "b9901a1ac1cf486e9d8c42101ab32c55": {
      "model_module": "jupyter-cytoscape",
      "model_module_version": "^1.3.3",
      "model_name": "NodeModel",
      "state": {
       "_model_module_version": "^1.3.3",
       "_view_module_version": "^1.3.3",
       "data": {
        "_igraph_index": 11,
        "category": "Compound",
        "feature_name": "3,5-Dichlorosalicylic Acid",
        "id": "523116",
        "identifier": "CHEMBL449129",
        "in_query": 1,
        "name": "523116",
        "source": ""
       },
       "grabbable": true,
       "grabbed": false,
       "position": {
        "x": 592.1276798030452,
        "y": 30.328172548611246
       },
       "selectable": false
      }
     },
     "b9d2e965aca94bf8a209f6fe20902d27": {
      "model_module": "jupyter-cytoscape",
      "model_module_version": "^1.3.3",
      "model_name": "NodeModel",
      "state": {
       "_model_module_version": "^1.3.3",
       "_view_module_version": "^1.3.3",
       "data": {
        "_igraph_index": 10,
        "category": "Compound",
        "feature_name": "5-METHOXYTRYPTAMINE",
        "id": "521673",
        "identifier": "CHEMBL8165",
        "in_query": 1,
        "name": "521673",
        "source": ""
       },
       "grabbable": true,
       "grabbed": false,
       "position": {
        "x": 277.5926508830778,
        "y": 136.88503413391348
       },
       "selectable": false
      }
     },
     "ba8726cb4f3b4c3b90154c1302c2b6b5": {
      "model_module": "jupyter-cytoscape",
      "model_module_version": "^1.3.3",
      "model_name": "EdgeModel",
      "state": {
       "_model_module_version": "^1.3.3",
       "_view_module_version": "^1.3.3",
       "data": {
        "_igraph_index": 4,
        "id": "e0b092bd-9e56-4ada-8f5d-319b7a9501cd",
        "source": "3348",
        "target": "3307",
        "type": "INTERACTS_PiP"
       },
       "selectable": false
      }
     },
     "baa991679921465ba61d9003629b231b": {
      "model_module": "jupyter-cytoscape",
      "model_module_version": "^1.3.3",
      "model_name": "EdgeModel",
      "state": {
       "_model_module_version": "^1.3.3",
       "_view_module_version": "^1.3.3",
       "data": {
        "_igraph_index": 14,
        "id": "de98c3f7-b7db-443d-88a7-296a4a90e099",
        "source": "3319",
        "target": "10577",
        "type": "INTERACTS_PiP"
       },
       "selectable": false
      }
     },
     "bba65c6e6bf142de8fc6a0f353bd6037": {
      "model_module": "jupyter-cytoscape",
      "model_module_version": "^1.3.3",
      "model_name": "EdgeModel",
      "state": {
       "_model_module_version": "^1.3.3",
       "_view_module_version": "^1.3.3",
       "data": {
        "_igraph_index": 44,
        "id": "65f323e5-5fd8-401f-9c2b-860bc98aaf9d",
        "source": "17807",
        "target": "543438",
        "type": "INTERACTS_PiC"
       },
       "selectable": false
      }
     },
     "bd0a7f1765bd4cd98679feae8a7aca9e": {
      "model_module": "jupyter-cytoscape",
      "model_module_version": "^1.3.3",
      "model_name": "EdgeModel",
      "state": {
       "_model_module_version": "^1.3.3",
       "_view_module_version": "^1.3.3",
       "data": {
        "_igraph_index": 53,
        "id": "31536202-b6e0-4e01-abd8-9721de3d145c",
        "source": "19496",
        "target": "10657",
        "type": "INTERACTS_PiP"
       },
       "selectable": false
      }
     },
     "bd7670e83d054cf4a4f7876c08e21c6a": {
      "model_module": "jupyter-cytoscape",
      "model_module_version": "^1.3.3",
      "model_name": "EdgeModel",
      "state": {
       "_model_module_version": "^1.3.3",
       "_view_module_version": "^1.3.3",
       "data": {
        "_igraph_index": 7,
        "id": "a24ffbbe-1a85-440c-a6ed-aab30c28adf8",
        "source": "403",
        "target": "523116",
        "type": "INTERACTS_PiC"
       },
       "selectable": false
      }
     },
     "be11941cf4a5415c8508a29003657204": {
      "model_module": "jupyter-cytoscape",
      "model_module_version": "^1.3.3",
      "model_name": "EdgeModel",
      "state": {
       "_model_module_version": "^1.3.3",
       "_view_module_version": "^1.3.3",
       "data": {
        "_igraph_index": 16,
        "id": "742773bc-969f-402c-9358-698e7c37d14e",
        "source": "4989",
        "target": "12206",
        "type": "INTERACTS_PiP"
       },
       "selectable": false
      }
     },
     "bf5f8d6b3cf1444ba28c86d4f87d8227": {
      "model_module": "jupyter-cytoscape",
      "model_module_version": "^1.3.3",
      "model_name": "EdgeModel",
      "state": {
       "_model_module_version": "^1.3.3",
       "_view_module_version": "^1.3.3",
       "data": {
        "_igraph_index": 34,
        "id": "d77148c0-7541-452d-b10c-6a0e43dfd29d",
        "source": "11149",
        "target": "3875",
        "type": "INTERACTS_PiP"
       },
       "selectable": false
      }
     },
     "c11c4d512e3f4dc490a043c667b77e7e": {
      "model_module": "jupyter-cytoscape",
      "model_module_version": "^1.3.3",
      "model_name": "EdgeModel",
      "state": {
       "_model_module_version": "^1.3.3",
       "_view_module_version": "^1.3.3",
       "data": {
        "_igraph_index": 32,
        "id": "6cc04c5d-991b-4017-89c3-d34810710675",
        "source": "10685",
        "target": "3508",
        "type": "INTERACTS_PiP"
       },
       "selectable": false
      }
     },
     "c2ed3c4335de4e23a729c9257a496f4b": {
      "model_module": "jupyter-cytoscape",
      "model_module_version": "^1.3.3",
      "model_name": "NodeModel",
      "state": {
       "_model_module_version": "^1.3.3",
       "_view_module_version": "^1.3.3",
       "data": {
        "_igraph_index": 10,
        "category": "Protein",
        "feature_name": "AACT_HUMAN",
        "id": "10542",
        "identifier": "P01011",
        "in_query": 1,
        "name": "10542",
        "source": "UniProt"
       },
       "grabbable": true,
       "grabbed": false,
       "position": {
        "x": 38.6833673629701,
        "y": -89.08603035791724
       },
       "selectable": false
      }
     },
     "c4108b6d8b33496893af467d6eb22c73": {
      "model_module": "jupyter-cytoscape",
      "model_module_version": "^1.3.3",
      "model_name": "CytoscapeModel",
      "state": {
       "_interaction_handlers": {},
       "_model_module_version": "^1.3.3",
       "_view_module_version": "^1.3.3",
       "auto_ungrabify": false,
       "autolock": false,
       "cytoscape_layout": {
        "edgeLengthVal": 50,
        "name": "cola",
        "nodeSpacing": 80
       },
       "cytoscape_style": [
        {
         "selector": "node[feature_name]",
         "style": {
          "font-family": "helvetica",
          "font-size": "20px",
          "label": "data(feature_name)"
         }
        },
        {
         "selector": "node[category=\"Protein\"]",
         "style": {
          "background-color": "blue"
         }
        },
        {
         "selector": "node[in_query=1]",
         "style": {
          "border-color": "red",
          "border-width": "5px"
         }
        },
        {
         "selector": "edge[type]",
         "style": {
          "label": "data(type)"
         }
        },
        {
         "selector": "edge.directed",
         "style": {
          "curve-style": "bezier",
          "target-arrow-shape": "triangle"
         }
        }
       ],
       "desktop_tap_threshold": 4,
       "graph": "IPY_MODEL_f884fa34ca754234897da526586bd848",
       "headless": false,
       "hide_edges_on_viewport": false,
       "layout": "IPY_MODEL_02650ef33dae43d396d026b817edf2dc",
       "max_zoom": 1e+50,
       "min_zoom": 1e-50,
       "motion_blur": false,
       "motion_blur_opacity": 0.2,
       "panning_enabled": true,
       "pixel_ratio": "auto",
       "rendered_position": {
        "renderedPosition": {
         "x": 100,
         "y": 100
        }
       },
       "selection_type": "single",
       "style_enabled": true,
       "texture_on_viewport": false,
       "tooltip_source": "name",
       "touch_tap_threshold": 8,
       "user_panning_enabled": true,
       "user_zooming_enabled": true,
       "wheel_sensitivity": 1,
       "zoom": 2,
       "zooming_enabled": true
      }
     },
     "c57c1db2f3664d8bbfbd3a85eb5d8c1d": {
      "model_module": "jupyter-cytoscape",
      "model_module_version": "^1.3.3",
      "model_name": "EdgeModel",
      "state": {
       "_model_module_version": "^1.3.3",
       "_view_module_version": "^1.3.3",
       "data": {
        "_igraph_index": 48,
        "id": "2a33d6d4-f038-48ca-991f-f4f13e199a14",
        "source": "19496",
        "target": "3392",
        "type": "INTERACTS_PiP"
       },
       "selectable": false
      }
     },
     "c80876fad30e4dfea16fde463ee82a7b": {
      "model_module": "jupyter-cytoscape",
      "model_module_version": "^1.3.3",
      "model_name": "EdgeModel",
      "state": {
       "_model_module_version": "^1.3.3",
       "_view_module_version": "^1.3.3",
       "data": {
        "_igraph_index": 24,
        "id": "6a724a24-fdf9-48ad-a0b9-34df850619a1",
        "source": "3875",
        "target": "10618",
        "type": "INTERACTS_PiP"
       },
       "selectable": false
      }
     },
     "c929435140324f04b4b56df77cb7a613": {
      "model_module": "jupyter-cytoscape",
      "model_module_version": "^1.3.3",
      "model_name": "NodeModel",
      "state": {
       "_model_module_version": "^1.3.3",
       "_view_module_version": "^1.3.3",
       "data": {
        "_igraph_index": 1,
        "category": "Protein",
        "feature_name": "AOXA_HUMAN",
        "id": "713",
        "identifier": "Q06278",
        "in_query": 0,
        "name": "713",
        "source": "UniProt"
       },
       "grabbable": true,
       "grabbed": false,
       "position": {
        "x": 475.09265188307774,
        "y": 329.3850351339135
       },
       "selectable": false
      }
     },
     "c94651096a0f4e289ad75cebca7fe7a2": {
      "model_module": "jupyter-cytoscape",
      "model_module_version": "^1.3.3",
      "model_name": "NodeModel",
      "state": {
       "_model_module_version": "^1.3.3",
       "_view_module_version": "^1.3.3",
       "data": {
        "_igraph_index": 9,
        "category": "Compound",
        "feature_name": "AMINODIMETHOXYQUINAZOLINYLPIPERAZINE",
        "id": "516414",
        "identifier": "CHEMBL1226",
        "in_query": 1,
        "name": "516414",
        "source": ""
       },
       "grabbable": true,
       "grabbed": false,
       "position": {
        "x": 652.1491918347261,
        "y": -58.1149668660865
       },
       "selectable": false
      }
     },
     "c95e54f37fc34cf09634975c56b5c694": {
      "model_module": "jupyter-cytoscape",
      "model_module_version": "^1.3.3",
      "model_name": "EdgeModel",
      "state": {
       "_model_module_version": "^1.3.3",
       "_view_module_version": "^1.3.3",
       "data": {
        "_igraph_index": 16,
        "id": "71508b08-a955-45ef-9b49-4594640e0195",
        "source": "3393",
        "target": "10577",
        "type": "INTERACTS_PiP"
       },
       "selectable": false
      }
     },
     "ca7e8b3bb4e7442eab20cd0faaa22d24": {
      "model_module": "jupyter-cytoscape",
      "model_module_version": "^1.3.3",
      "model_name": "EdgeModel",
      "state": {
       "_model_module_version": "^1.3.3",
       "_view_module_version": "^1.3.3",
       "data": {
        "_igraph_index": 7,
        "id": "321f2a6d-b90e-4c86-8174-2cacc07baed8",
        "source": "3307",
        "target": "10601",
        "type": "INTERACTS_PiP"
       },
       "selectable": false
      }
     },
     "cf67c2a9aad24a2091706fb2a17c7972": {
      "model_module": "@jupyter-widgets/base",
      "model_module_version": "2.0.0",
      "model_name": "LayoutModel",
      "state": {}
     },
     "cfe24d227887433aa2fc284e608a24a2": {
      "model_module": "jupyter-cytoscape",
      "model_module_version": "^1.3.3",
      "model_name": "EdgeModel",
      "state": {
       "_model_module_version": "^1.3.3",
       "_view_module_version": "^1.3.3",
       "data": {
        "_igraph_index": 59,
        "id": "56cc6ff7-9013-45de-8b5c-723be3047d8a",
        "source": "3393",
        "target": "49731",
        "type": "EXPRESSEDIN_PeCT"
       },
       "selectable": false
      }
     },
     "d004c6fcb4dd4c6eb2e9b8cb1e8ab02b": {
      "model_module": "jupyter-cytoscape",
      "model_module_version": "^1.3.3",
      "model_name": "NodeModel",
      "state": {
       "_model_module_version": "^1.3.3",
       "_view_module_version": "^1.3.3",
       "data": {
        "_igraph_index": 20,
        "category": "Protein",
        "feature_name": "PHLD_HUMAN",
        "id": "18448",
        "identifier": "P80108",
        "in_query": 1,
        "name": "18448",
        "source": "UniProt"
       },
       "grabbable": true,
       "grabbed": false,
       "position": {
        "x": 815.7180205676605,
        "y": -275.42250795836145
       },
       "selectable": false
      }
     },
     "d0356ea8869641b09c73f4c675fbb827": {
      "model_module": "jupyter-cytoscape",
      "model_module_version": "^1.3.3",
      "model_name": "EdgeModel",
      "state": {
       "_model_module_version": "^1.3.3",
       "_view_module_version": "^1.3.3",
       "data": {
        "_igraph_index": 10,
        "id": "9e280c9d-29ae-461b-b114-bf65db09f8fa",
        "source": "18056",
        "target": "524340",
        "type": "INTERACTS_PiC"
       },
       "selectable": false
      }
     },
     "d0b6ac35168643598ac362485f479f96": {
      "model_module": "jupyter-cytoscape",
      "model_module_version": "^1.3.3",
      "model_name": "EdgeModel",
      "state": {
       "_model_module_version": "^1.3.3",
       "_view_module_version": "^1.3.3",
       "data": {
        "_igraph_index": 6,
        "id": "87634136-c238-418d-b528-155388328450",
        "source": "3409",
        "target": "3955",
        "type": "INTERACTS_PiP"
       },
       "selectable": false
      }
     },
     "d0c378e45e1349929f38ce015124268e": {
      "model_module": "jupyter-cytoscape",
      "model_module_version": "^1.3.3",
      "model_name": "CytoscapeModel",
      "state": {
       "_interaction_handlers": {},
       "_model_module_version": "^1.3.3",
       "_view_module_version": "^1.3.3",
       "auto_ungrabify": false,
       "autolock": false,
       "cytoscape_layout": {
        "edgeLengthVal": 50,
        "name": "cola",
        "nodeSpacing": 80
       },
       "cytoscape_style": [
        {
         "selector": "node[feature_name]",
         "style": {
          "font-family": "helvetica",
          "font-size": "20px",
          "label": "data(feature_name)"
         }
        },
        {
         "selector": "node[category=\"Protein\"]",
         "style": {
          "background-color": "blue"
         }
        },
        {
         "selector": "node[in_query=1]",
         "style": {
          "border-color": "red",
          "border-width": "5px"
         }
        },
        {
         "selector": "edge[type]",
         "style": {
          "label": "data(type)"
         }
        },
        {
         "selector": "edge.directed",
         "style": {
          "curve-style": "bezier",
          "target-arrow-shape": "triangle"
         }
        }
       ],
       "desktop_tap_threshold": 4,
       "graph": "IPY_MODEL_15d86fce86f646b8b4acaddd2a2745b4",
       "headless": false,
       "hide_edges_on_viewport": false,
       "layout": "IPY_MODEL_cf67c2a9aad24a2091706fb2a17c7972",
       "max_zoom": 1e+50,
       "min_zoom": 1e-50,
       "motion_blur": false,
       "motion_blur_opacity": 0.2,
       "panning_enabled": true,
       "pixel_ratio": "auto",
       "rendered_position": {
        "renderedPosition": {
         "x": 100,
         "y": 100
        }
       },
       "selection_type": "single",
       "style_enabled": true,
       "texture_on_viewport": false,
       "tooltip_source": "name",
       "touch_tap_threshold": 8,
       "user_panning_enabled": true,
       "user_zooming_enabled": true,
       "wheel_sensitivity": 1,
       "zoom": 2,
       "zooming_enabled": true
      }
     },
     "d1acd3e4f287433ab4726a8c35bd1ead": {
      "model_module": "jupyter-cytoscape",
      "model_module_version": "^1.3.3",
      "model_name": "GraphModel",
      "state": {
       "_adj": {},
       "_model_module_version": "^1.3.3",
       "_view_module": "jupyter-cytoscape",
       "_view_module_version": "^1.3.3"
      }
     },
     "d55dd75fb5c946379167b2a319bbb62d": {
      "model_module": "jupyter-cytoscape",
      "model_module_version": "^1.3.3",
      "model_name": "EdgeModel",
      "state": {
       "_model_module_version": "^1.3.3",
       "_view_module_version": "^1.3.3",
       "data": {
        "_igraph_index": 35,
        "id": "5d99a69a-77d4-4d01-8c67-396d96d5159e",
        "source": "4074",
        "target": "11149",
        "type": "INTERACTS_PiP"
       },
       "selectable": false
      }
     },
     "d682a9ec97fa4de68c85788f547b248b": {
      "model_module": "jupyter-cytoscape",
      "model_module_version": "^1.3.3",
      "model_name": "NodeModel",
      "state": {
       "_model_module_version": "^1.3.3",
       "_view_module_version": "^1.3.3",
       "data": {
        "_igraph_index": 23,
        "category": "Protein",
        "feature_name": "FHR2_HUMAN",
        "id": "11190",
        "identifier": "P36980",
        "in_query": 1,
        "name": "11190",
        "source": "UniProt"
       },
       "grabbable": true,
       "grabbed": false,
       "position": {
        "x": 453.8423154894981,
        "y": -115.28044895408395
       },
       "selectable": false
      }
     },
     "d708e324766d4401afaed03c027930cc": {
      "model_module": "jupyter-cytoscape",
      "model_module_version": "^1.3.3",
      "model_name": "EdgeModel",
      "state": {
       "_model_module_version": "^1.3.3",
       "_view_module_version": "^1.3.3",
       "data": {
        "_igraph_index": 73,
        "id": "5491daca-49ae-4cf5-92bb-56933e455d23",
        "source": "10685",
        "target": "49731",
        "type": "EXPRESSEDIN_PeCT"
       },
       "selectable": false
      }
     },
     "d7e235d858cc4900a5a280f35a684481": {
      "model_module": "jupyter-cytoscape",
      "model_module_version": "^1.3.3",
      "model_name": "EdgeModel",
      "state": {
       "_model_module_version": "^1.3.3",
       "_view_module_version": "^1.3.3",
       "data": {
        "_igraph_index": 0,
        "id": "04494765-3c6c-458b-888e-b1231ebefd09",
        "source": "17921",
        "target": "713",
        "type": "INTERACTS_PiP"
       },
       "selectable": false
      }
     },
     "d9b571f1316f4e73880e31d58d751613": {
      "model_module": "jupyter-cytoscape",
      "model_module_version": "^1.3.3",
      "model_name": "EdgeModel",
      "state": {
       "_model_module_version": "^1.3.3",
       "_view_module_version": "^1.3.3",
       "data": {
        "_igraph_index": 32,
        "id": "da9f6927-d6c2-4a5a-b0a6-659b1a447a44",
        "source": "3351",
        "target": "181485",
        "type": "INTERACTS_PiC"
       },
       "selectable": false
      }
     },
     "dae3dd58a9474802a3abdca49194a513": {
      "model_module": "@jupyter-widgets/base",
      "model_module_version": "2.0.0",
      "model_name": "LayoutModel",
      "state": {}
     },
     "dae75a8557d646daa13268a9cc34ad4d": {
      "model_module": "jupyter-cytoscape",
      "model_module_version": "^1.3.3",
      "model_name": "NodeModel",
      "state": {
       "_model_module_version": "^1.3.3",
       "_view_module_version": "^1.3.3",
       "data": {
        "_igraph_index": 1,
        "category": "Protein",
        "feature_name": "APOH_HUMAN",
        "id": "3319",
        "identifier": "P02749",
        "in_query": 1,
        "name": "3319",
        "source": "UniProt"
       },
       "grabbable": true,
       "grabbed": false,
       "position": {
        "x": 258.84231448949816,
        "y": 277.3785810730816
       },
       "selectable": false
      }
     },
     "db643a508ee04fe0b2fcbccbec221dd7": {
      "model_module": "jupyter-cytoscape",
      "model_module_version": "^1.3.3",
      "model_name": "EdgeModel",
      "state": {
       "_model_module_version": "^1.3.3",
       "_view_module_version": "^1.3.3",
       "data": {
        "_igraph_index": 11,
        "id": "7dc2dee0-faf9-432d-8ed0-0bfee0c23af6",
        "source": "3479",
        "target": "525160",
        "type": "INTERACTS_PiC"
       },
       "selectable": false
      }
     },
     "dbe26a7cb1734feaa82bf7e5e6e97438": {
      "model_module": "jupyter-cytoscape",
      "model_module_version": "^1.3.3",
      "model_name": "NodeModel",
      "state": {
       "_model_module_version": "^1.3.3",
       "_view_module_version": "^1.3.3",
       "data": {
        "_igraph_index": 21,
        "category": "Protein",
        "feature_name": "MERL_HUMAN",
        "id": "11148",
        "identifier": "P35240",
        "in_query": 1,
        "name": "11148",
        "source": "UniProt"
       },
       "grabbable": true,
       "grabbed": false,
       "position": {
        "x": 648.8423164894981,
        "y": 274.71955304591603
       },
       "selectable": false
      }
     },
     "dc8e6851035c457b93f75d588a05c9c2": {
      "model_module": "jupyter-cytoscape",
      "model_module_version": "^1.3.3",
      "model_name": "EdgeModel",
      "state": {
       "_model_module_version": "^1.3.3",
       "_view_module_version": "^1.3.3",
       "data": {
        "_igraph_index": 63,
        "id": "4bc93726-40fb-4115-b13a-5ad00d485296",
        "source": "4323",
        "target": "49731",
        "type": "EXPRESSEDIN_PeCT"
       },
       "selectable": false
      }
     },
     "dcabe67b6f5142e198cbdbb05e67106f": {
      "model_module": "jupyter-cytoscape",
      "model_module_version": "^1.3.3",
      "model_name": "NodeModel",
      "state": {
       "_model_module_version": "^1.3.3",
       "_view_module_version": "^1.3.3",
       "data": {
        "_igraph_index": 1,
        "category": "Protein",
        "feature_name": "APOE_HUMAN",
        "id": "3307",
        "identifier": "P02649",
        "in_query": 1,
        "name": "3307",
        "source": "UniProt"
       },
       "grabbable": true,
       "grabbed": false,
       "position": {
        "x": 428.6833693629701,
        "y": 366.15187397604996
       },
       "selectable": false
      }
     },
     "df7f306c14384375977def38d328a106": {
      "model_module": "jupyter-cytoscape",
      "model_module_version": "^1.3.3",
      "model_name": "EdgeModel",
      "state": {
       "_model_module_version": "^1.3.3",
       "_view_module_version": "^1.3.3",
       "data": {
        "_igraph_index": 23,
        "id": "16ffee6e-e3bc-4c37-9910-60019b3bcb79",
        "source": "3332",
        "target": "10618",
        "type": "INTERACTS_PiP"
       },
       "selectable": false
      }
     },
     "e347b7b8256e4e5fadc12afaa636afe9": {
      "model_module": "jupyter-cytoscape",
      "model_module_version": "^1.3.3",
      "model_name": "EdgeModel",
      "state": {
       "_model_module_version": "^1.3.3",
       "_view_module_version": "^1.3.3",
       "data": {
        "_igraph_index": 56,
        "id": "2005e659-5113-4a00-b86a-573a4e19aeb6",
        "source": "3319",
        "target": "49731",
        "type": "EXPRESSEDIN_PeCT"
       },
       "selectable": false
      }
     },
     "e3f49abb7613425c9a590f61400402d3": {
      "model_module": "jupyter-cytoscape",
      "model_module_version": "^1.3.3",
      "model_name": "EdgeModel",
      "state": {
       "_model_module_version": "^1.3.3",
       "_view_module_version": "^1.3.3",
       "data": {
        "_igraph_index": 64,
        "id": "0c3e4677-1790-4d42-bc34-4a6802708feb",
        "source": "4410",
        "target": "49731",
        "type": "EXPRESSEDIN_PeCT"
       },
       "selectable": false
      }
     },
     "e3fa3b88a2fb485b831af16363336faa": {
      "model_module": "jupyter-cytoscape",
      "model_module_version": "^1.3.3",
      "model_name": "EdgeModel",
      "state": {
       "_model_module_version": "^1.3.3",
       "_view_module_version": "^1.3.3",
       "data": {
        "_igraph_index": 60,
        "id": "049642c4-a863-4196-8194-830452b25aca",
        "source": "3508",
        "target": "49731",
        "type": "EXPRESSEDIN_PeCT"
       },
       "selectable": false
      }
     },
     "e4cc6abc42234213bb058f6c38176934": {
      "model_module": "jupyter-cytoscape",
      "model_module_version": "^1.3.3",
      "model_name": "NodeModel",
      "state": {
       "_model_module_version": "^1.3.3",
       "_view_module_version": "^1.3.3",
       "data": {
        "_igraph_index": 13,
        "category": "Compound",
        "feature_name": "PYRIDINE",
        "id": "524340",
        "identifier": "CHEMBL266158",
        "in_query": 1,
        "name": "524340",
        "source": ""
       },
       "grabbable": true,
       "grabbed": false,
       "position": {
        "x": 397.1276788030452,
        "y": 35.32817254861124
       },
       "selectable": false
      }
     },
     "e899fdc4c5df4a16a706dfa2ace87cfe": {
      "model_module": "@jupyter-widgets/base",
      "model_module_version": "2.0.0",
      "model_name": "LayoutModel",
      "state": {}
     },
     "e8d206799bc149a084be12ac5ece5469": {
      "model_module": "@jupyter-widgets/base",
      "model_module_version": "2.0.0",
      "model_name": "LayoutModel",
      "state": {}
     },
     "e8d7376a95c84b4f84b1bb604fc46dae": {
      "model_module": "jupyter-cytoscape",
      "model_module_version": "^1.3.3",
      "model_name": "NodeModel",
      "state": {
       "_model_module_version": "^1.3.3",
       "_view_module_version": "^1.3.3",
       "data": {
        "_igraph_index": 0,
        "category": "Protein",
        "feature_name": "CAH2_HUMAN",
        "id": "245",
        "identifier": "P00918",
        "in_query": 0,
        "name": "245",
        "source": "UniProt"
       },
       "grabbable": true,
       "grabbed": false,
       "position": {
        "x": 589.6276798030452,
        "y": 222.8281735486112
       },
       "selectable": false
      }
     },
     "ec3a35d7a60345f392ccce359e248004": {
      "model_module": "jupyter-cytoscape",
      "model_module_version": "^1.3.3",
      "model_name": "EdgeModel",
      "state": {
       "_model_module_version": "^1.3.3",
       "_view_module_version": "^1.3.3",
       "data": {
        "_igraph_index": 5,
        "id": "c2c2e9d0-9d62-4edf-a3ef-cfdb3504c10c",
        "source": "547",
        "target": "520625",
        "type": "INTERACTS_PiC"
       },
       "selectable": false
      }
     },
     "ece2e0e599a94a96a9a5160f8fda3405": {
      "model_module": "jupyter-cytoscape",
      "model_module_version": "^1.3.3",
      "model_name": "NodeModel",
      "state": {
       "_model_module_version": "^1.3.3",
       "_view_module_version": "^1.3.3",
       "data": {
        "_igraph_index": 22,
        "category": "Compound",
        "feature_name": "Calcium",
        "id": "543438",
        "identifier": "DB01373",
        "in_query": 0,
        "name": "543438",
        "source": "DrugBank"
       },
       "grabbable": true,
       "grabbed": false,
       "position": {
        "x": 621.1833703629702,
        "y": 497.07749604163854
       },
       "selectable": false
      }
     },
     "ecf1680351f644af84db1357b3810bdb": {
      "model_module": "jupyter-cytoscape",
      "model_module_version": "^1.3.3",
      "model_name": "EdgeModel",
      "state": {
       "_model_module_version": "^1.3.3",
       "_view_module_version": "^1.3.3",
       "data": {
        "_igraph_index": 4,
        "id": "ecca0ebd-324a-4220-90ce-776ce9fbfbae",
        "source": "3392",
        "target": "3393",
        "type": "INTERACTS_PiP"
       },
       "selectable": false
      }
     },
     "ed09f407d9ae4ab48dce9e547192f880": {
      "model_module": "jupyter-cytoscape",
      "model_module_version": "^1.3.3",
      "model_name": "EdgeModel",
      "state": {
       "_model_module_version": "^1.3.3",
       "_view_module_version": "^1.3.3",
       "data": {
        "_igraph_index": 4,
        "id": "a3c14d82-a5e0-4096-8284-a73b66fca66a",
        "source": "516414",
        "target": "654",
        "type": "BINDS_CbP"
       },
       "selectable": false
      }
     },
     "ed2cf34552c84bafa6156f7d35e62f02": {
      "model_module": "jupyter-cytoscape",
      "model_module_version": "^1.3.3",
      "model_name": "NodeModel",
      "state": {
       "_model_module_version": "^1.3.3",
       "_view_module_version": "^1.3.3",
       "data": {
        "_igraph_index": 15,
        "category": "Protein",
        "feature_name": "NOE1_HUMAN",
        "id": "15612",
        "identifier": "Q99784",
        "in_query": 1,
        "name": "15612",
        "source": "UniProt"
       },
       "grabbable": true,
       "grabbed": false,
       "position": {
        "x": 1008.6833723629701,
        "y": 267.00336990317965
       },
       "selectable": false
      }
     },
     "edcf673288fc497b9a5d221dcebc4a99": {
      "model_module": "jupyter-cytoscape",
      "model_module_version": "^1.3.3",
      "model_name": "EdgeModel",
      "state": {
       "_model_module_version": "^1.3.3",
       "_view_module_version": "^1.3.3",
       "data": {
        "_igraph_index": 42,
        "id": "c23ae898-81e6-4446-956f-ad2114ba4089",
        "source": "11850",
        "target": "543438",
        "type": "INTERACTS_PiC"
       },
       "selectable": false
      }
     },
     "ee272c9d39db40ac951e953f8a2e36d9": {
      "model_module": "jupyter-cytoscape",
      "model_module_version": "^1.3.3",
      "model_name": "NodeModel",
      "state": {
       "_model_module_version": "^1.3.3",
       "_view_module_version": "^1.3.3",
       "data": {
        "_igraph_index": 4,
        "category": "Protein",
        "feature_name": "SAHH_HUMAN",
        "id": "18056",
        "identifier": "P23526",
        "in_query": 0,
        "name": "18056",
        "source": "UniProt"
       },
       "grabbable": true,
       "grabbed": false,
       "position": {
        "x": 408.7690748920559,
        "y": 417.8281745486113
       },
       "selectable": false
      }
     },
     "ee69bf2c427b49c2bd5e1507cbfb6ebd": {
      "model_module": "jupyter-cytoscape",
      "model_module_version": "^1.3.3",
      "model_name": "GraphModel",
      "state": {
       "_adj": {},
       "_model_module_version": "^1.3.3",
       "_view_module": "jupyter-cytoscape",
       "_view_module_version": "^1.3.3"
      }
     },
     "f16678caa06c42f0a0d8fb4b1d9cde97": {
      "model_module": "jupyter-cytoscape",
      "model_module_version": "^1.3.3",
      "model_name": "NodeModel",
      "state": {
       "_model_module_version": "^1.3.3",
       "_view_module_version": "^1.3.3",
       "data": {
        "_igraph_index": 15,
        "category": "Compound",
        "feature_name": "CHEMBL3092389",
        "id": "534667",
        "identifier": "CHEMBL3092389",
        "in_query": 1,
        "name": "534667",
        "source": ""
       },
       "grabbable": true,
       "grabbed": false,
       "position": {
        "x": 805.0360922586825,
        "y": 605.3281755486112
       },
       "selectable": false
      }
     },
     "f1692d4a31714a498e04d34a7826f048": {
      "model_module": "jupyter-cytoscape",
      "model_module_version": "^1.3.3",
      "model_name": "EdgeModel",
      "state": {
       "_model_module_version": "^1.3.3",
       "_view_module_version": "^1.3.3",
       "data": {
        "_igraph_index": 33,
        "id": "140f60f0-1f0b-4668-9713-9529b47375e7",
        "source": "10601",
        "target": "181485",
        "type": "INTERACTS_PiC"
       },
       "selectable": false
      }
     },
     "f4d05a05c51b4da7852efde72bb4f9e2": {
      "model_module": "jupyter-cytoscape",
      "model_module_version": "^1.3.3",
      "model_name": "GraphModel",
      "state": {
       "_adj": {},
       "_model_module_version": "^1.3.3",
       "_view_module": "jupyter-cytoscape",
       "_view_module_version": "^1.3.3"
      }
     },
     "f63eb296c5cd4f679ea3445e28080c62": {
      "model_module": "jupyter-cytoscape",
      "model_module_version": "^1.3.3",
      "model_name": "NodeModel",
      "state": {
       "_model_module_version": "^1.3.3",
       "_view_module_version": "^1.3.3",
       "data": {
        "_igraph_index": 8,
        "category": "Protein",
        "feature_name": "BGH3_HUMAN",
        "id": "5296",
        "identifier": "Q15582",
        "in_query": 1,
        "name": "5296",
        "source": "UniProt"
       },
       "grabbable": true,
       "grabbed": false,
       "position": {
        "x": 423.6833693629701,
        "y": -213.84812902395
       },
       "selectable": false
      }
     },
     "f6a6c150a12e4e3fa11e867074a484f7": {
      "model_module": "jupyter-cytoscape",
      "model_module_version": "^1.3.3",
      "model_name": "EdgeModel",
      "state": {
       "_model_module_version": "^1.3.3",
       "_view_module_version": "^1.3.3",
       "data": {
        "_igraph_index": 15,
        "id": "52b813fb-671b-499c-8080-5804f4b8e352",
        "source": "284",
        "target": "535751",
        "type": "INTERACTS_PiC"
       },
       "selectable": false
      }
     },
     "f6f753b09a5645be860bf2dfb192ab43": {
      "model_module": "jupyter-cytoscape",
      "model_module_version": "^1.3.3",
      "model_name": "EdgeModel",
      "state": {
       "_model_module_version": "^1.3.3",
       "_view_module_version": "^1.3.3",
       "data": {
        "_igraph_index": 25,
        "id": "8009b778-3a21-4d3c-9815-6894d376fd56",
        "source": "4074",
        "target": "10618",
        "type": "INTERACTS_PiP"
       },
       "selectable": false
      }
     },
     "f705b8cfd9ea4233a247cede7c82228f": {
      "model_module": "jupyter-cytoscape",
      "model_module_version": "^1.3.3",
      "model_name": "NodeModel",
      "state": {
       "_model_module_version": "^1.3.3",
       "_view_module_version": "^1.3.3",
       "data": {
        "_igraph_index": 3,
        "category": "Protein",
        "feature_name": "CASP3_HUMAN",
        "id": "547",
        "identifier": "P42574",
        "in_query": 0,
        "name": "547",
        "source": "UniProt"
       },
       "grabbable": true,
       "grabbed": false,
       "position": {
        "x": 544.7558397283832,
        "y": -162.17182845138873
       },
       "selectable": false
      }
     },
     "f884fa34ca754234897da526586bd848": {
      "model_module": "jupyter-cytoscape",
      "model_module_version": "^1.3.3",
      "model_name": "GraphModel",
      "state": {
       "_adj": {
        "10542": {},
        "10601": {},
        "10925": {},
        "11850": {},
        "12206": {},
        "15612": {},
        "15762": {},
        "17807": {},
        "17810": {},
        "17821": {},
        "181485": {},
        "18448": {},
        "3195": {},
        "3307": {},
        "3317": {},
        "3348": {},
        "3351": {},
        "3409": {},
        "3955": {},
        "4989": {},
        "5296": {},
        "5345": {},
        "543438": {}
       },
       "_model_module_version": "^1.3.3",
       "_view_module": "jupyter-cytoscape",
       "_view_module_version": "^1.3.3",
       "edges": [
        "IPY_MODEL_aa0b454692ef4c6ca320b89494971746",
        "IPY_MODEL_54295b56875b435985939799158008ef",
        "IPY_MODEL_516878288a91495fb73e2c124b45d8f9",
        "IPY_MODEL_320cbc41fcb04ce6be9daffa43325262",
        "IPY_MODEL_6813a3f4213e4f6a8e3250e11d49b8de",
        "IPY_MODEL_5a6d745ca7324182ab830c3309614a5e",
        "IPY_MODEL_89027b200172402bb21e2f1778dc7ec9",
        "IPY_MODEL_571b10cb7c65423d8e69754ad73013fa",
        "IPY_MODEL_16db1e17665d4249b3850534a308df3b",
        "IPY_MODEL_b010bac4c0c04073b3618f083884ee22",
        "IPY_MODEL_ba8726cb4f3b4c3b90154c1302c2b6b5",
        "IPY_MODEL_ca7e8b3bb4e7442eab20cd0faaa22d24",
        "IPY_MODEL_b4d82bccc1dd4fa4bc2ddc1dd2dab6d8",
        "IPY_MODEL_6c3d408ba0f74be5989b0b615697cee9",
        "IPY_MODEL_7dbc019d5a83489e83c14c4ac38538cb",
        "IPY_MODEL_d9b571f1316f4e73880e31d58d751613",
        "IPY_MODEL_d0b6ac35168643598ac362485f479f96",
        "IPY_MODEL_a87bb52adeb84701b72fa67d147219eb",
        "IPY_MODEL_a5001c9fe2b9405fbb3950bac3363da8",
        "IPY_MODEL_52f67d9004674ac0a4c9c4d4170aa54a",
        "IPY_MODEL_8c6e9e4e93344b00b9c2b8d8a01ed88a",
        "IPY_MODEL_a0decc4d50b74f9b90b8f8fc13102a8e",
        "IPY_MODEL_9ad225686ac54734a62d0dbac194e150",
        "IPY_MODEL_65da26e9de034a2b93656ac2d98de027",
        "IPY_MODEL_77401b6f15424ffc9aa1dd03a0829720",
        "IPY_MODEL_f9c764d8802442098319d01411712f9b",
        "IPY_MODEL_15f21188a47c4221be13b7df34442d99",
        "IPY_MODEL_be11941cf4a5415c8508a29003657204",
        "IPY_MODEL_1a9cf2d41948454f8ee35cb0e15ed85d",
        "IPY_MODEL_2c3cae51740c4690ae220cd39a99bddb",
        "IPY_MODEL_401306be5c1947f188eef43e1b420127",
        "IPY_MODEL_45f2389542f54a76abb34a159c9a6c34",
        "IPY_MODEL_f1692d4a31714a498e04d34a7826f048",
        "IPY_MODEL_66c55666db1f447d867666fdca6cbdde",
        "IPY_MODEL_386560fc3b204222ba8c578998a86bb7",
        "IPY_MODEL_ab9c452c814741d2984fb05daa31d6ec",
        "IPY_MODEL_1623f642088c4edf8fb80a0ae67e529e",
        "IPY_MODEL_7c4a7d7a1f8a459386475b24a0522295",
        "IPY_MODEL_edcf673288fc497b9a5d221dcebc4a99",
        "IPY_MODEL_2018336d0d2e4ff681595fa85d0e1c67",
        "IPY_MODEL_3644950a5db64bc498b578494da7febc",
        "IPY_MODEL_a8bb76d5081c435fba7d12dd655768ea",
        "IPY_MODEL_bba65c6e6bf142de8fc6a0f353bd6037",
        "IPY_MODEL_a075e10d3da247cc939d0bf9409ae705",
        "IPY_MODEL_62c37b2c6bfb4d68bab8dad1a3145e3e",
        "IPY_MODEL_85efe2c2f6bf48ac93814047fed92656"
       ],
       "nodes": [
        "IPY_MODEL_937637678172461dbf84d327a0e2470c",
        "IPY_MODEL_dcabe67b6f5142e198cbdbb05e67106f",
        "IPY_MODEL_8f482fe5fe7d4cf99fcbe26c88c55618",
        "IPY_MODEL_5c6df9a8ef9d46d2860b867aa8cf592a",
        "IPY_MODEL_431aa27d6c09400c95b6508a32af2618",
        "IPY_MODEL_794ac4e38ec7464a8e7e14ffcdbd6177",
        "IPY_MODEL_7086d56dd2a94ee4afe180c6df232704",
        "IPY_MODEL_2b8f40e070b4452f88dab52752052c56",
        "IPY_MODEL_f63eb296c5cd4f679ea3445e28080c62",
        "IPY_MODEL_ad336edd07d947ba99959a849155424d",
        "IPY_MODEL_c2ed3c4335de4e23a729c9257a496f4b",
        "IPY_MODEL_544f306f75ec4a039ee737bfae73c96f",
        "IPY_MODEL_56be4cf554d344b2955fa1b6f109d43d",
        "IPY_MODEL_7da1ed586c0a4008a95021b57200a196",
        "IPY_MODEL_b2c13f4657414da29958cdbe80e6536a",
        "IPY_MODEL_ed2cf34552c84bafa6156f7d35e62f02",
        "IPY_MODEL_0d20ba2dd1f04a0cafd132ea56c4e6cd",
        "IPY_MODEL_8c2e32b3dd9340619ed732adca56b4bc",
        "IPY_MODEL_9ae347b135af4fc4b47d91d2279ea11d",
        "IPY_MODEL_940f627a8353409fb0aad50eb573489b",
        "IPY_MODEL_d004c6fcb4dd4c6eb2e9b8cb1e8ab02b",
        "IPY_MODEL_944bc1e2bc12474a9ab59b6790325900",
        "IPY_MODEL_ece2e0e599a94a96a9a5160f8fda3405"
       ]
      }
     },
     "f9c318a618bb49f5b1fb25a9170bfe54": {
      "model_module": "jupyter-cytoscape",
      "model_module_version": "^1.3.3",
      "model_name": "EdgeModel",
      "state": {
       "_model_module_version": "^1.3.3",
       "_view_module_version": "^1.3.3",
       "data": {
        "_igraph_index": 20,
        "id": "be9d1c74-c976-4467-9c9b-79f9f0745e70",
        "source": "4323",
        "target": "10584",
        "type": "INTERACTS_PiP"
       },
       "selectable": false
      }
     },
     "f9c764d8802442098319d01411712f9b": {
      "model_module": "jupyter-cytoscape",
      "model_module_version": "^1.3.3",
      "model_name": "EdgeModel",
      "state": {
       "_model_module_version": "^1.3.3",
       "_view_module_version": "^1.3.3",
       "data": {
        "_igraph_index": 27,
        "id": "fa34a4ff-83e8-4b34-8f9b-91a76f27db08",
        "source": "17821",
        "target": "3955",
        "type": "INTERACTS_PiP"
       },
       "selectable": false
      }
     },
     "fa0f84c89e894dd1be0775ca163246c6": {
      "model_module": "jupyter-cytoscape",
      "model_module_version": "^1.3.3",
      "model_name": "EdgeModel",
      "state": {
       "_model_module_version": "^1.3.3",
       "_view_module_version": "^1.3.3",
       "data": {
        "_igraph_index": 28,
        "id": "dfe9a4c9-b548-4683-96ac-1a4d9611803c",
        "source": "10618",
        "target": "10577",
        "type": "INTERACTS_PiP"
       },
       "selectable": false
      }
     },
     "fb3afa7b75cd4c319928991ee94c45b6": {
      "model_module": "jupyter-cytoscape",
      "model_module_version": "^1.3.3",
      "model_name": "EdgeModel",
      "state": {
       "_model_module_version": "^1.3.3",
       "_view_module_version": "^1.3.3",
       "data": {
        "_igraph_index": 3,
        "id": "6de94bd7-3a2f-474d-839a-851fd2a106c9",
        "source": "173395",
        "target": "83378",
        "type": "DOWNREGULATES_CdG"
       },
       "selectable": false
      }
     },
     "fb695e2c81b64e14be9186d9b44fe4f6": {
      "model_module": "jupyter-cytoscape",
      "model_module_version": "^1.3.3",
      "model_name": "EdgeModel",
      "state": {
       "_model_module_version": "^1.3.3",
       "_view_module_version": "^1.3.3",
       "data": {
        "_igraph_index": 44,
        "id": "47f1312d-38ef-46f2-bec7-79ebce7bfb23",
        "source": "11850",
        "target": "10577",
        "type": "INTERACTS_PiP"
       },
       "selectable": false
      }
     },
     "fc5ca98acdb341c3883aa48313a66dcc": {
      "model_module": "jupyter-cytoscape",
      "model_module_version": "^1.3.3",
      "model_name": "EdgeModel",
      "state": {
       "_model_module_version": "^1.3.3",
       "_view_module_version": "^1.3.3",
       "data": {
        "_igraph_index": 76,
        "id": "c35b8a0d-bb1c-4a36-bf16-ba16514d22ff",
        "source": "11850",
        "target": "49731",
        "type": "EXPRESSEDIN_PeCT"
       },
       "selectable": false
      }
     },
     "fcd4f1e95a6143099c05397219a717f6": {
      "model_module": "jupyter-cytoscape",
      "model_module_version": "^1.3.3",
      "model_name": "GraphModel",
      "state": {
       "_adj": {},
       "_model_module_version": "^1.3.3",
       "_view_module": "jupyter-cytoscape",
       "_view_module_version": "^1.3.3"
      }
     },
     "ff31ef1e63444c5d8d2164e9a786b828": {
      "model_module": "jupyter-cytoscape",
      "model_module_version": "^1.3.3",
      "model_name": "EdgeModel",
      "state": {
       "_model_module_version": "^1.3.3",
       "_view_module_version": "^1.3.3",
       "data": {
        "_igraph_index": 3,
        "id": "39945a42-da97-4339-ae33-26cef3c26f7a",
        "source": "479",
        "target": "3393",
        "type": "INTERACTS_PiP"
       },
       "selectable": false
      }
     }
    },
    "version_major": 2,
    "version_minor": 0
   }
  }
 },
 "nbformat": 4,
 "nbformat_minor": 5
}
