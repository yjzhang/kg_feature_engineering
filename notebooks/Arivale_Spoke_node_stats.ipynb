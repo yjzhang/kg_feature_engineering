{
 "cells": [
  {
   "cell_type": "markdown",
   "id": "a02e01c3-e55a-4293-9c26-319769bb55b3",
   "metadata": {},
   "source": [
    "# Analysis of node distributions in the SPOKE graph and Arivale nodes\n",
    "\n",
    "- load spoke 2021 and spoke 2023-human\n",
    "- calculate degree distributions for all nodes\n",
    "- calculate degree distributions for arivale proteins\n",
    "- calculate proportion of nodes mapped for arivale metabolites"
   ]
  },
  {
   "cell_type": "code",
   "execution_count": 2,
   "id": "769c09df-364c-4a77-bc02-1cf893c4fa9b",
   "metadata": {},
   "outputs": [],
   "source": [
    "# imports\n",
    "import numpy as np\n",
    "import pandas as pd\n",
    "import networkx as nx\n",
    "import igraph as ig\n",
    "import kgfe"
   ]
  },
  {
   "cell_type": "code",
   "execution_count": 3,
   "id": "ec205732-c5ca-4294-ae5f-8d2ce8dc0f11",
   "metadata": {},
   "outputs": [],
   "source": [
    "spoke_graph = kgfe.spoke_loader.load_spoke_igraph('../../graph_utils/spoke_2021.jsonl.gz', directed=False,\n",
    "                                                    verbose=False)"
   ]
  },
  {
   "cell_type": "code",
   "execution_count": 5,
   "id": "d447dfcc-04e7-403a-b8e8-41db58ea35b3",
   "metadata": {},
   "outputs": [],
   "source": [
    "spoke_human = kgfe.spoke_loader.load_spoke_igraph('../../graph_utils/spoke_2023_human.json.gz', directed=False,\n",
    "                                                    verbose=False)"
   ]
  },
  {
   "cell_type": "code",
   "execution_count": 7,
   "id": "079d12a1-8ffa-4e2a-a196-8f1cec3fca02",
   "metadata": {},
   "outputs": [],
   "source": [
    "# TODO: try multiprocessing for null model stuff?\n",
    "import multiprocessing as mp"
   ]
  },
  {
   "cell_type": "code",
   "execution_count": null,
   "id": "8f898d86-c715-4ba2-91e9-5c11e1c41df5",
   "metadata": {},
   "outputs": [],
   "source": []
  }
 ],
 "metadata": {
  "kernelspec": {
   "display_name": "Python 3 (ipykernel)",
   "language": "python",
   "name": "python3"
  },
  "language_info": {
   "codemirror_mode": {
    "name": "ipython",
    "version": 3
   },
   "file_extension": ".py",
   "mimetype": "text/x-python",
   "name": "python",
   "nbconvert_exporter": "python",
   "pygments_lexer": "ipython3",
   "version": "3.10.6"
  },
  "widgets": {
   "application/vnd.jupyter.widget-state+json": {
    "state": {},
    "version_major": 2,
    "version_minor": 0
   }
  }
 },
 "nbformat": 4,
 "nbformat_minor": 5
}
