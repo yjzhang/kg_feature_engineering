{
 "cells": [
  {
   "cell_type": "markdown",
   "id": "a02e01c3-e55a-4293-9c26-319769bb55b3",
   "metadata": {},
   "source": [
    "# Analysis of node distributions in the SPOKE graph and Arivale nodes\n",
    "\n",
    "- load spoke 2021 and spoke 2023-human\n",
    "- calculate degree distributions for all nodes\n",
    "- calculate degree distributions for arivale proteins\n",
    "- calculate proportion of nodes mapped for arivale metabolites"
   ]
  },
  {
   "cell_type": "code",
   "execution_count": 2,
   "id": "769c09df-364c-4a77-bc02-1cf893c4fa9b",
   "metadata": {},
   "outputs": [],
   "source": [
    "# imports\n",
    "import numpy as np\n",
    "import pandas as pd\n",
    "import networkx as nx\n",
    "import igraph as ig\n",
    "import kgfe"
   ]
  },
  {
   "cell_type": "code",
   "execution_count": 3,
   "id": "ec205732-c5ca-4294-ae5f-8d2ce8dc0f11",
   "metadata": {},
   "outputs": [],
   "source": [
    "spoke_graph = kgfe.spoke_loader.load_spoke_igraph('../../graph_utils/spoke_2021.jsonl.gz', directed=False,\n",
    "                                                    verbose=False)"
   ]
  },
  {
   "cell_type": "code",
   "execution_count": 14,
   "id": "d447dfcc-04e7-403a-b8e8-41db58ea35b3",
   "metadata": {},
   "outputs": [],
   "source": [
    "spoke_human = kgfe.spoke_loader.load_spoke_igraph('../../graph_utils/spoke_2023_human.json.gz', directed=False,\n",
    "                                                    verbose=False)"
   ]
  },
  {
   "cell_type": "code",
   "execution_count": 10,
   "id": "08fd9169-025a-481f-b0a3-5b13fc5f0ca0",
   "metadata": {},
   "outputs": [],
   "source": [
    "spoke_graph = kgfe.graph_info.largest_component(spoke_graph)"
   ]
  },
  {
   "cell_type": "code",
   "execution_count": 15,
   "id": "c5c8aa9c-af13-4eac-b987-d4b39d7dba35",
   "metadata": {},
   "outputs": [],
   "source": [
    "spoke_human = kgfe.graph_info.largest_component(spoke_human)"
   ]
  },
  {
   "cell_type": "code",
   "execution_count": 12,
   "id": "c155b58c-3f4a-45f5-9f3b-a9c99370703a",
   "metadata": {},
   "outputs": [
    {
     "name": "stdout",
     "output_type": "stream",
     "text": [
      "spoke-2021 connected nodes: 619452\n",
      "spoke-2021 connected edges: 13302780\n"
     ]
    }
   ],
   "source": [
    "print('spoke-2021 connected nodes:', len(spoke_graph.vs))\n",
    "print('spoke-2021 connected edges:', len(spoke_graph.es))"
   ]
  },
  {
   "cell_type": "code",
   "execution_count": 16,
   "id": "c254f4f6-439d-4160-8744-fa50a2cb1b3e",
   "metadata": {},
   "outputs": [
    {
     "name": "stdout",
     "output_type": "stream",
     "text": [
      "spoke-2023-human connected nodes: 597317\n",
      "spoke-2023-human connected edges: 9166581\n"
     ]
    }
   ],
   "source": [
    "print('spoke-2023-human connected nodes:', len(spoke_human.vs))\n",
    "print('spoke-2023-human connected edges:', len(spoke_human.es))"
   ]
  },
  {
   "cell_type": "code",
   "execution_count": 7,
   "id": "079d12a1-8ffa-4e2a-a196-8f1cec3fca02",
   "metadata": {},
   "outputs": [],
   "source": [
    "# TODO: try multiprocessing for null model stuff?\n",
    "import multiprocessing as mp"
   ]
  },
  {
   "cell_type": "code",
   "execution_count": 20,
   "id": "8f898d86-c715-4ba2-91e9-5c11e1c41df5",
   "metadata": {},
   "outputs": [],
   "source": [
    "category = 'Protein'\n",
    "ids_subset = [x.index for x in kgfe.graph_info.nodes_in_category(spoke_graph, category)]"
   ]
  },
  {
   "cell_type": "code",
   "execution_count": null,
   "id": "b6a7fe0e-4efb-497d-a5dd-5d2012fa2d2b",
   "metadata": {},
   "outputs": [],
   "source": []
  }
 ],
 "metadata": {
  "kernelspec": {
   "display_name": "Python 3 (ipykernel)",
   "language": "python",
   "name": "python3"
  },
  "language_info": {
   "codemirror_mode": {
    "name": "ipython",
    "version": 3
   },
   "file_extension": ".py",
   "mimetype": "text/x-python",
   "name": "python",
   "nbconvert_exporter": "python",
   "pygments_lexer": "ipython3",
   "version": "3.10.6"
  },
  "widgets": {
   "application/vnd.jupyter.widget-state+json": {
    "state": {},
    "version_major": 2,
    "version_minor": 0
   }
  }
 },
 "nbformat": 4,
 "nbformat_minor": 5
}
