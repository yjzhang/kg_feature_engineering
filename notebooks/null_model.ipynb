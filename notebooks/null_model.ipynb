{
 "cells": [
  {
   "cell_type": "markdown",
   "id": "851833b3-d472-43bf-b95f-d2740863aca1",
   "metadata": {},
   "source": [
    "# Building a null model for knowledge graph feature explanation...\n",
    "\n",
    "Basically... how does our feature set differ from a randomly chosen one?"
   ]
  },
  {
   "cell_type": "markdown",
   "id": "8dfe1cae-19a4-4c54-8787-8c77c722f9f8",
   "metadata": {},
   "source": []
  },
  {
   "cell_type": "code",
   "execution_count": 1,
   "id": "f45f932e-a757-4b87-a465-1fcbb9c8eb01",
   "metadata": {},
   "outputs": [],
   "source": [
    "# imports\n",
    "import numpy as np\n",
    "import pandas as pd\n",
    "import networkx as nx\n",
    "import kgfe"
   ]
  },
  {
   "cell_type": "markdown",
   "id": "89363446-a241-43e0-bb45-6f4cc0379092",
   "metadata": {},
   "source": [
    "## 1. Load genes"
   ]
  },
  {
   "cell_type": "code",
   "execution_count": 2,
   "id": "3eed6c3c-8bef-421d-8f46-eb8e8cb7eec0",
   "metadata": {},
   "outputs": [],
   "source": [
    "data = pd.read_excel('LC_mets_prots_V1_V2_Compare.xlsx')"
   ]
  },
  {
   "cell_type": "code",
   "execution_count": 3,
   "id": "42f24e50-ee93-42d2-b65a-5df215d1e5a4",
   "metadata": {},
   "outputs": [
    {
     "data": {
      "text/html": [
       "<div>\n",
       "<style scoped>\n",
       "    .dataframe tbody tr th:only-of-type {\n",
       "        vertical-align: middle;\n",
       "    }\n",
       "\n",
       "    .dataframe tbody tr th {\n",
       "        vertical-align: top;\n",
       "    }\n",
       "\n",
       "    .dataframe thead th {\n",
       "        text-align: right;\n",
       "    }\n",
       "</style>\n",
       "<table border=\"1\" class=\"dataframe\">\n",
       "  <thead>\n",
       "    <tr style=\"text-align: right;\">\n",
       "      <th></th>\n",
       "      <th>ID</th>\n",
       "      <th>Lasso_CV</th>\n",
       "      <th>Name</th>\n",
       "      <th>UniProt</th>\n",
       "      <th>Protein</th>\n",
       "      <th>PubChem</th>\n",
       "      <th>Chembl_ID</th>\n",
       "      <th>KEGG</th>\n",
       "    </tr>\n",
       "  </thead>\n",
       "  <tbody>\n",
       "    <tr>\n",
       "      <th>0</th>\n",
       "      <td>met10</td>\n",
       "      <td>-0.100203</td>\n",
       "      <td>1,2,4-benzenetriol</td>\n",
       "      <td>NaN</td>\n",
       "      <td>NaN</td>\n",
       "      <td>10787.0</td>\n",
       "      <td>CHEMBL3092389</td>\n",
       "      <td>C02814</td>\n",
       "    </tr>\n",
       "    <tr>\n",
       "      <th>1</th>\n",
       "      <td>met1054</td>\n",
       "      <td>-0.052794</td>\n",
       "      <td>pyridine</td>\n",
       "      <td>NaN</td>\n",
       "      <td>NaN</td>\n",
       "      <td>1049.0</td>\n",
       "      <td>CHEMBL266158</td>\n",
       "      <td>C00747</td>\n",
       "    </tr>\n",
       "    <tr>\n",
       "      <th>2</th>\n",
       "      <td>met1073</td>\n",
       "      <td>0.051544</td>\n",
       "      <td>uric acid</td>\n",
       "      <td>NaN</td>\n",
       "      <td>NaN</td>\n",
       "      <td>1175.0</td>\n",
       "      <td>CHEMBL792</td>\n",
       "      <td>C00366</td>\n",
       "    </tr>\n",
       "    <tr>\n",
       "      <th>3</th>\n",
       "      <td>met1091</td>\n",
       "      <td>-0.054557</td>\n",
       "      <td>formononetin</td>\n",
       "      <td>NaN</td>\n",
       "      <td>NaN</td>\n",
       "      <td>5280378.0</td>\n",
       "      <td>CHEMBL242341</td>\n",
       "      <td>C00858</td>\n",
       "    </tr>\n",
       "    <tr>\n",
       "      <th>4</th>\n",
       "      <td>met142</td>\n",
       "      <td>0.025830</td>\n",
       "      <td>4-Hydroxyvalproic acid</td>\n",
       "      <td>NaN</td>\n",
       "      <td>NaN</td>\n",
       "      <td>134467.0</td>\n",
       "      <td>CHEMBL3706504</td>\n",
       "      <td>C16649</td>\n",
       "    </tr>\n",
       "  </tbody>\n",
       "</table>\n",
       "</div>"
      ],
      "text/plain": [
       "        ID  Lasso_CV                    Name UniProt Protein    PubChem  \\\n",
       "0    met10 -0.100203      1,2,4-benzenetriol     NaN     NaN    10787.0   \n",
       "1  met1054 -0.052794                pyridine     NaN     NaN     1049.0   \n",
       "2  met1073  0.051544               uric acid     NaN     NaN     1175.0   \n",
       "3  met1091 -0.054557            formononetin     NaN     NaN  5280378.0   \n",
       "4   met142  0.025830  4-Hydroxyvalproic acid     NaN     NaN   134467.0   \n",
       "\n",
       "       Chembl_ID    KEGG  \n",
       "0  CHEMBL3092389  C02814  \n",
       "1   CHEMBL266158  C00747  \n",
       "2      CHEMBL792  C00366  \n",
       "3   CHEMBL242341  C00858  \n",
       "4  CHEMBL3706504  C16649  "
      ]
     },
     "execution_count": 3,
     "metadata": {},
     "output_type": "execute_result"
    }
   ],
   "source": [
    "data.head()"
   ]
  },
  {
   "cell_type": "code",
   "execution_count": 4,
   "id": "668a04dc-19b2-498d-9654-d0568bf3e878",
   "metadata": {},
   "outputs": [
    {
     "data": {
      "text/plain": [
       "(92, 8)"
      ]
     },
     "execution_count": 4,
     "metadata": {},
     "output_type": "execute_result"
    }
   ],
   "source": [
    "data.shape"
   ]
  },
  {
   "cell_type": "code",
   "execution_count": 5,
   "id": "a0f71ade-2df6-4b19-a57b-9f76ad894a61",
   "metadata": {},
   "outputs": [
    {
     "data": {
      "text/html": [
       "<div>\n",
       "<style scoped>\n",
       "    .dataframe tbody tr th:only-of-type {\n",
       "        vertical-align: middle;\n",
       "    }\n",
       "\n",
       "    .dataframe tbody tr th {\n",
       "        vertical-align: top;\n",
       "    }\n",
       "\n",
       "    .dataframe thead th {\n",
       "        text-align: right;\n",
       "    }\n",
       "</style>\n",
       "<table border=\"1\" class=\"dataframe\">\n",
       "  <thead>\n",
       "    <tr style=\"text-align: right;\">\n",
       "      <th></th>\n",
       "      <th>ID</th>\n",
       "      <th>Lasso_CV</th>\n",
       "      <th>Name</th>\n",
       "      <th>UniProt</th>\n",
       "      <th>Protein</th>\n",
       "      <th>PubChem</th>\n",
       "      <th>Chembl_ID</th>\n",
       "      <th>KEGG</th>\n",
       "    </tr>\n",
       "  </thead>\n",
       "  <tbody>\n",
       "    <tr>\n",
       "      <th>0</th>\n",
       "      <td>met10</td>\n",
       "      <td>-0.100203</td>\n",
       "      <td>1,2,4-benzenetriol</td>\n",
       "      <td>NaN</td>\n",
       "      <td>NaN</td>\n",
       "      <td>10787.0</td>\n",
       "      <td>CHEMBL3092389</td>\n",
       "      <td>C02814</td>\n",
       "    </tr>\n",
       "    <tr>\n",
       "      <th>1</th>\n",
       "      <td>met1054</td>\n",
       "      <td>-0.052794</td>\n",
       "      <td>pyridine</td>\n",
       "      <td>NaN</td>\n",
       "      <td>NaN</td>\n",
       "      <td>1049.0</td>\n",
       "      <td>CHEMBL266158</td>\n",
       "      <td>C00747</td>\n",
       "    </tr>\n",
       "    <tr>\n",
       "      <th>2</th>\n",
       "      <td>met1073</td>\n",
       "      <td>0.051544</td>\n",
       "      <td>uric acid</td>\n",
       "      <td>NaN</td>\n",
       "      <td>NaN</td>\n",
       "      <td>1175.0</td>\n",
       "      <td>CHEMBL792</td>\n",
       "      <td>C00366</td>\n",
       "    </tr>\n",
       "    <tr>\n",
       "      <th>3</th>\n",
       "      <td>met1091</td>\n",
       "      <td>-0.054557</td>\n",
       "      <td>formononetin</td>\n",
       "      <td>NaN</td>\n",
       "      <td>NaN</td>\n",
       "      <td>5280378.0</td>\n",
       "      <td>CHEMBL242341</td>\n",
       "      <td>C00858</td>\n",
       "    </tr>\n",
       "    <tr>\n",
       "      <th>4</th>\n",
       "      <td>met142</td>\n",
       "      <td>0.025830</td>\n",
       "      <td>4-Hydroxyvalproic acid</td>\n",
       "      <td>NaN</td>\n",
       "      <td>NaN</td>\n",
       "      <td>134467.0</td>\n",
       "      <td>CHEMBL3706504</td>\n",
       "      <td>C16649</td>\n",
       "    </tr>\n",
       "    <tr>\n",
       "      <th>6</th>\n",
       "      <td>met20</td>\n",
       "      <td>-0.045657</td>\n",
       "      <td>2,6-dihydroxybenzoic acid</td>\n",
       "      <td>NaN</td>\n",
       "      <td>NaN</td>\n",
       "      <td>9338.0</td>\n",
       "      <td>CHEMBL454808</td>\n",
       "      <td>NaN</td>\n",
       "    </tr>\n",
       "    <tr>\n",
       "      <th>11</th>\n",
       "      <td>met305</td>\n",
       "      <td>0.035464</td>\n",
       "      <td>hexadecanedioic acid</td>\n",
       "      <td>NaN</td>\n",
       "      <td>NaN</td>\n",
       "      <td>10459.0</td>\n",
       "      <td>CHEMBL4519590</td>\n",
       "      <td>C19615</td>\n",
       "    </tr>\n",
       "    <tr>\n",
       "      <th>12</th>\n",
       "      <td>met31</td>\n",
       "      <td>-0.057506</td>\n",
       "      <td>3,5-dichlorosalicylic acid</td>\n",
       "      <td>NaN</td>\n",
       "      <td>NaN</td>\n",
       "      <td>9445.0</td>\n",
       "      <td>CHEMBL449129</td>\n",
       "      <td>NaN</td>\n",
       "    </tr>\n",
       "    <tr>\n",
       "      <th>15</th>\n",
       "      <td>met53</td>\n",
       "      <td>0.033875</td>\n",
       "      <td>benzyldodecyldimethylammonium</td>\n",
       "      <td>NaN</td>\n",
       "      <td>NaN</td>\n",
       "      <td>8754.0</td>\n",
       "      <td>CHEMBL1907001</td>\n",
       "      <td>NaN</td>\n",
       "    </tr>\n",
       "    <tr>\n",
       "      <th>18</th>\n",
       "      <td>met675</td>\n",
       "      <td>0.029451</td>\n",
       "      <td>cytidine</td>\n",
       "      <td>NaN</td>\n",
       "      <td>NaN</td>\n",
       "      <td>596.0</td>\n",
       "      <td>CHEMBL78</td>\n",
       "      <td>NaN</td>\n",
       "    </tr>\n",
       "    <tr>\n",
       "      <th>19</th>\n",
       "      <td>met679</td>\n",
       "      <td>-0.018029</td>\n",
       "      <td>UDP-glucuronic acid</td>\n",
       "      <td>NaN</td>\n",
       "      <td>NaN</td>\n",
       "      <td>17473.0</td>\n",
       "      <td>CHEMBL228057</td>\n",
       "      <td>C00167</td>\n",
       "    </tr>\n",
       "    <tr>\n",
       "      <th>21</th>\n",
       "      <td>met701</td>\n",
       "      <td>0.119316</td>\n",
       "      <td>3-hydroxybutyric acid</td>\n",
       "      <td>NaN</td>\n",
       "      <td>NaN</td>\n",
       "      <td>92135.0</td>\n",
       "      <td>CHEMBL1162484</td>\n",
       "      <td>C01089</td>\n",
       "    </tr>\n",
       "    <tr>\n",
       "      <th>23</th>\n",
       "      <td>met738</td>\n",
       "      <td>-0.095340</td>\n",
       "      <td>cystine</td>\n",
       "      <td>NaN</td>\n",
       "      <td>NaN</td>\n",
       "      <td>595.0</td>\n",
       "      <td>CHEMBL366563</td>\n",
       "      <td>C01420</td>\n",
       "    </tr>\n",
       "    <tr>\n",
       "      <th>24</th>\n",
       "      <td>met744</td>\n",
       "      <td>-0.010221</td>\n",
       "      <td>Ethanox 310</td>\n",
       "      <td>NaN</td>\n",
       "      <td>NaN</td>\n",
       "      <td>64819.0</td>\n",
       "      <td>CHEMBL3187856</td>\n",
       "      <td>NaN</td>\n",
       "    </tr>\n",
       "    <tr>\n",
       "      <th>25</th>\n",
       "      <td>met760</td>\n",
       "      <td>0.000074</td>\n",
       "      <td>glycine</td>\n",
       "      <td>NaN</td>\n",
       "      <td>NaN</td>\n",
       "      <td>750.0</td>\n",
       "      <td>CHEMBL773</td>\n",
       "      <td>C00037</td>\n",
       "    </tr>\n",
       "    <tr>\n",
       "      <th>26</th>\n",
       "      <td>met771</td>\n",
       "      <td>-0.119397</td>\n",
       "      <td>hypotaurine</td>\n",
       "      <td>NaN</td>\n",
       "      <td>NaN</td>\n",
       "      <td>107812.0</td>\n",
       "      <td>CHEMBL1256480</td>\n",
       "      <td>C00519</td>\n",
       "    </tr>\n",
       "    <tr>\n",
       "      <th>28</th>\n",
       "      <td>met779</td>\n",
       "      <td>0.038564</td>\n",
       "      <td>lactic acid</td>\n",
       "      <td>NaN</td>\n",
       "      <td>NaN</td>\n",
       "      <td>612.0</td>\n",
       "      <td>CHEMBL1200559</td>\n",
       "      <td>C01432</td>\n",
       "    </tr>\n",
       "    <tr>\n",
       "      <th>29</th>\n",
       "      <td>met812</td>\n",
       "      <td>0.136828</td>\n",
       "      <td>ornithine</td>\n",
       "      <td>NaN</td>\n",
       "      <td>NaN</td>\n",
       "      <td>6262.0</td>\n",
       "      <td>CHEMBL446143</td>\n",
       "      <td>C00077</td>\n",
       "    </tr>\n",
       "    <tr>\n",
       "      <th>31</th>\n",
       "      <td>met833</td>\n",
       "      <td>-0.126050</td>\n",
       "      <td>S-methylcysteine</td>\n",
       "      <td>NaN</td>\n",
       "      <td>NaN</td>\n",
       "      <td>24417.0</td>\n",
       "      <td>CHEMBL394875</td>\n",
       "      <td>NaN</td>\n",
       "    </tr>\n",
       "    <tr>\n",
       "      <th>32</th>\n",
       "      <td>met845</td>\n",
       "      <td>0.062205</td>\n",
       "      <td>threonine</td>\n",
       "      <td>NaN</td>\n",
       "      <td>NaN</td>\n",
       "      <td>6288.0</td>\n",
       "      <td>CHEMBL291747</td>\n",
       "      <td>C00188</td>\n",
       "    </tr>\n",
       "    <tr>\n",
       "      <th>35</th>\n",
       "      <td>met951</td>\n",
       "      <td>0.015924</td>\n",
       "      <td>trehalose</td>\n",
       "      <td>NaN</td>\n",
       "      <td>NaN</td>\n",
       "      <td>7427.0</td>\n",
       "      <td>CHEMBL1236395</td>\n",
       "      <td>C01083</td>\n",
       "    </tr>\n",
       "    <tr>\n",
       "      <th>36</th>\n",
       "      <td>met994</td>\n",
       "      <td>0.056085</td>\n",
       "      <td>5-methoxytryptamine</td>\n",
       "      <td>NaN</td>\n",
       "      <td>NaN</td>\n",
       "      <td>1833.0</td>\n",
       "      <td>CHEMBL8165</td>\n",
       "      <td>C05659</td>\n",
       "    </tr>\n",
       "    <tr>\n",
       "      <th>37</th>\n",
       "      <td>met999</td>\n",
       "      <td>0.082353</td>\n",
       "      <td>6,7-dimethoxy-2-(1-piperazinyl)-4-quinazolinamine</td>\n",
       "      <td>NaN</td>\n",
       "      <td>NaN</td>\n",
       "      <td>616267.0</td>\n",
       "      <td>CHEMBL1226</td>\n",
       "      <td>NaN</td>\n",
       "    </tr>\n",
       "  </tbody>\n",
       "</table>\n",
       "</div>"
      ],
      "text/plain": [
       "         ID  Lasso_CV                                               Name  \\\n",
       "0     met10 -0.100203                                 1,2,4-benzenetriol   \n",
       "1   met1054 -0.052794                                           pyridine   \n",
       "2   met1073  0.051544                                          uric acid   \n",
       "3   met1091 -0.054557                                       formononetin   \n",
       "4    met142  0.025830                             4-Hydroxyvalproic acid   \n",
       "6     met20 -0.045657                          2,6-dihydroxybenzoic acid   \n",
       "11   met305  0.035464                               hexadecanedioic acid   \n",
       "12    met31 -0.057506                         3,5-dichlorosalicylic acid   \n",
       "15    met53  0.033875                      benzyldodecyldimethylammonium   \n",
       "18   met675  0.029451                                           cytidine   \n",
       "19   met679 -0.018029                                UDP-glucuronic acid   \n",
       "21   met701  0.119316                              3-hydroxybutyric acid   \n",
       "23   met738 -0.095340                                            cystine   \n",
       "24   met744 -0.010221                                        Ethanox 310   \n",
       "25   met760  0.000074                                            glycine   \n",
       "26   met771 -0.119397                                        hypotaurine   \n",
       "28   met779  0.038564                                        lactic acid   \n",
       "29   met812  0.136828                                          ornithine   \n",
       "31   met833 -0.126050                                   S-methylcysteine   \n",
       "32   met845  0.062205                                          threonine   \n",
       "35   met951  0.015924                                          trehalose   \n",
       "36   met994  0.056085                                5-methoxytryptamine   \n",
       "37   met999  0.082353  6,7-dimethoxy-2-(1-piperazinyl)-4-quinazolinamine   \n",
       "\n",
       "   UniProt Protein    PubChem      Chembl_ID    KEGG  \n",
       "0      NaN     NaN    10787.0  CHEMBL3092389  C02814  \n",
       "1      NaN     NaN     1049.0   CHEMBL266158  C00747  \n",
       "2      NaN     NaN     1175.0      CHEMBL792  C00366  \n",
       "3      NaN     NaN  5280378.0   CHEMBL242341  C00858  \n",
       "4      NaN     NaN   134467.0  CHEMBL3706504  C16649  \n",
       "6      NaN     NaN     9338.0   CHEMBL454808     NaN  \n",
       "11     NaN     NaN    10459.0  CHEMBL4519590  C19615  \n",
       "12     NaN     NaN     9445.0   CHEMBL449129     NaN  \n",
       "15     NaN     NaN     8754.0  CHEMBL1907001     NaN  \n",
       "18     NaN     NaN      596.0       CHEMBL78     NaN  \n",
       "19     NaN     NaN    17473.0   CHEMBL228057  C00167  \n",
       "21     NaN     NaN    92135.0  CHEMBL1162484  C01089  \n",
       "23     NaN     NaN      595.0   CHEMBL366563  C01420  \n",
       "24     NaN     NaN    64819.0  CHEMBL3187856     NaN  \n",
       "25     NaN     NaN      750.0      CHEMBL773  C00037  \n",
       "26     NaN     NaN   107812.0  CHEMBL1256480  C00519  \n",
       "28     NaN     NaN      612.0  CHEMBL1200559  C01432  \n",
       "29     NaN     NaN     6262.0   CHEMBL446143  C00077  \n",
       "31     NaN     NaN    24417.0   CHEMBL394875     NaN  \n",
       "32     NaN     NaN     6288.0   CHEMBL291747  C00188  \n",
       "35     NaN     NaN     7427.0  CHEMBL1236395  C01083  \n",
       "36     NaN     NaN     1833.0     CHEMBL8165  C05659  \n",
       "37     NaN     NaN   616267.0     CHEMBL1226     NaN  "
      ]
     },
     "execution_count": 5,
     "metadata": {},
     "output_type": "execute_result"
    }
   ],
   "source": [
    "data[~data.Chembl_ID.isna()]"
   ]
  },
  {
   "cell_type": "markdown",
   "id": "f2a5b4fa-196e-4058-acd7-05a7d566a371",
   "metadata": {},
   "source": [
    "## 2. Load SPOKE"
   ]
  },
  {
   "cell_type": "code",
   "execution_count": 6,
   "id": "dfed3073-ef2d-4a89-839a-3e4151311cdf",
   "metadata": {},
   "outputs": [],
   "source": [
    "spoke_graph = kgfe.spoke_loader.load_spoke_networkx('../../graph_utils/spoke_2021.jsonl.gz', directed=True,\n",
    "                                                    verbose=False)"
   ]
  },
  {
   "cell_type": "code",
   "execution_count": 7,
   "id": "e4d2e7ea-ef7c-4bdd-819b-76278a179a33",
   "metadata": {},
   "outputs": [],
   "source": [
    "# undirected version of spoke graph\n",
    "spoke_graph_ud = nx.Graph(spoke_graph)"
   ]
  },
  {
   "cell_type": "code",
   "execution_count": 8,
   "id": "e4e78d50-6837-4a78-88a1-09750504f3bb",
   "metadata": {},
   "outputs": [],
   "source": [
    "spoke_ids = list(sorted(spoke_graph_ud.nodes.keys()))"
   ]
  },
  {
   "cell_type": "code",
   "execution_count": 9,
   "id": "3e32075a-0490-4bf3-b555-11ffee893f1f",
   "metadata": {},
   "outputs": [],
   "source": [
    "names_to_ids = kgfe.graph_info.get_names_to_ids(spoke_graph_ud)"
   ]
  },
  {
   "cell_type": "markdown",
   "id": "2e948ddc-06c6-4c7c-bd3a-00138f87f1a4",
   "metadata": {},
   "source": [
    "### Map proteins and metabolites to SPOKE nodes"
   ]
  },
  {
   "cell_type": "code",
   "execution_count": 10,
   "id": "8391d60c-c034-4fae-bf67-04afc6066177",
   "metadata": {},
   "outputs": [
    {
     "data": {
      "text/plain": [
       "617546"
      ]
     },
     "execution_count": 10,
     "metadata": {},
     "output_type": "execute_result"
    }
   ],
   "source": [
    "len(names_to_ids)"
   ]
  },
  {
   "cell_type": "code",
   "execution_count": 11,
   "id": "7ffba342-d7c0-44fa-b3c3-7d95ef064935",
   "metadata": {},
   "outputs": [],
   "source": [
    "uniprot_to_ids = kgfe.graph_info.spoke_identifiers_to_ids(spoke_graph_ud, 'Protein')"
   ]
  },
  {
   "cell_type": "code",
   "execution_count": 12,
   "id": "1da42868-d869-4aa2-86ea-1b7afbb4bc2d",
   "metadata": {},
   "outputs": [],
   "source": [
    "chembl_to_ids = kgfe.graph_info.spoke_identifiers_to_ids(spoke_graph_ud, 'Compound')"
   ]
  },
  {
   "cell_type": "code",
   "execution_count": 13,
   "id": "fe278e0e-1005-4a31-ae66-7542fc915548",
   "metadata": {},
   "outputs": [],
   "source": [
    "high_prots = data[(data['Lasso_CV'] > 0) & (~data['UniProt'].isna())]['UniProt']\n",
    "low_prots = data[(data['Lasso_CV'] < 0) & (~data['UniProt'].isna())]['UniProt']\n",
    "high_chems = data[(data['Lasso_CV'] > 0) & (~data['Chembl_ID'].isna())]['Chembl_ID']\n",
    "low_chems = data[(data['Lasso_CV'] < 0) & (~data['Chembl_ID'].isna())]['Chembl_ID']"
   ]
  },
  {
   "cell_type": "code",
   "execution_count": 14,
   "id": "8a7fd156-7d9a-4d79-a09a-d09726f46f43",
   "metadata": {},
   "outputs": [],
   "source": [
    "high_chems_kegg = data[(data['Lasso_CV'] > 0) & (~data['KEGG'].isna())]['KEGG']\n",
    "low_chems_kegg = data[(data['Lasso_CV'] < 0) & (~data['KEGG'].isna())]['KEGG']"
   ]
  },
  {
   "cell_type": "code",
   "execution_count": 15,
   "id": "ad15f805-7ae5-4ed3-81bb-d8668d84dd05",
   "metadata": {},
   "outputs": [],
   "source": [
    "high_prots_spoke_ids = [uniprot_to_ids[x] for x in high_prots]\n",
    "low_prots_spoke_ids = [uniprot_to_ids[x] for x in low_prots]"
   ]
  },
  {
   "cell_type": "code",
   "execution_count": 16,
   "id": "8033b641-62d9-4ce7-a33a-f46810a742dc",
   "metadata": {},
   "outputs": [
    {
     "data": {
      "text/plain": [
       "[2117820,\n",
       " 2117949,\n",
       " 2117754,\n",
       " 2146526,\n",
       " 2117892,\n",
       " 2119494,\n",
       " 2117761,\n",
       " 2118204,\n",
       " 2118205,\n",
       " 2149119]"
      ]
     },
     "execution_count": 16,
     "metadata": {},
     "output_type": "execute_result"
    }
   ],
   "source": [
    "high_prots_spoke_ids[:10]"
   ]
  },
  {
   "cell_type": "code",
   "execution_count": 17,
   "id": "bc77fed5-a572-4049-972d-9e5e1cbe1a29",
   "metadata": {},
   "outputs": [],
   "source": [
    "high_chems_spoke_ids = [(x, chembl_to_ids[x]) for x in high_chems if  x in chembl_to_ids]\n",
    "low_chems_spoke_ids = [(x, chembl_to_ids[x]) for x in low_chems if  x in chembl_to_ids]"
   ]
  },
  {
   "cell_type": "code",
   "execution_count": 18,
   "id": "8f482aee-948d-4350-b01d-081e1cf7aa42",
   "metadata": {},
   "outputs": [],
   "source": [
    "high_chems_kegg_spoke_ids = [(x, chembl_to_ids[x]) for x in high_chems_kegg if  x in chembl_to_ids]\n",
    "low_chems_kegg_spoke_ids = [(x, chembl_to_ids[x]) for x in low_chems_kegg if  x in chembl_to_ids]"
   ]
  },
  {
   "cell_type": "markdown",
   "id": "922fd1ed-9a71-4f50-8b7d-d2e86ca417f6",
   "metadata": {},
   "source": [
    "Note: many chems were not able to be mapped onto SPOKE."
   ]
  },
  {
   "cell_type": "code",
   "execution_count": 19,
   "id": "8dc4e960-a0aa-4bcf-ac41-1c559d061c24",
   "metadata": {},
   "outputs": [
    {
     "data": {
      "text/plain": [
       "[('CHEMBL792', 1282230),\n",
       " ('CHEMBL78', 268338),\n",
       " ('CHEMBL1236395', 1497509),\n",
       " ('CHEMBL8165', 759937),\n",
       " ('CHEMBL1226', 1551766)]"
      ]
     },
     "execution_count": 19,
     "metadata": {},
     "output_type": "execute_result"
    }
   ],
   "source": [
    "high_chems_spoke_ids"
   ]
  },
  {
   "cell_type": "code",
   "execution_count": 20,
   "id": "399f0df6-13cc-4a0a-a649-c527dfc9857c",
   "metadata": {},
   "outputs": [
    {
     "data": {
      "text/plain": [
       "[('CHEMBL3092389', 1051506),\n",
       " ('CHEMBL266158', 1529834),\n",
       " ('CHEMBL242341', 440588),\n",
       " ('CHEMBL454808', 1168062),\n",
       " ('CHEMBL449129', 1175855),\n",
       " ('CHEMBL228057', 5555),\n",
       " ('CHEMBL366563', 930796),\n",
       " ('CHEMBL1256480', 1328370),\n",
       " ('CHEMBL394875', 1843928)]"
      ]
     },
     "execution_count": 20,
     "metadata": {},
     "output_type": "execute_result"
    }
   ],
   "source": [
    "low_chems_spoke_ids"
   ]
  },
  {
   "cell_type": "code",
   "execution_count": 21,
   "id": "e3decaba-28b3-49f2-833f-4efc800707e6",
   "metadata": {},
   "outputs": [
    {
     "data": {
      "text/plain": [
       "[('C19615', 2350606)]"
      ]
     },
     "execution_count": 21,
     "metadata": {},
     "output_type": "execute_result"
    }
   ],
   "source": [
    "high_chems_kegg_spoke_ids"
   ]
  },
  {
   "cell_type": "code",
   "execution_count": 22,
   "id": "1fa33d21-cf6c-4e7d-9bc2-47b2a2e65842",
   "metadata": {},
   "outputs": [
    {
     "data": {
      "text/plain": [
       "[('C05123', 2349079)]"
      ]
     },
     "execution_count": 22,
     "metadata": {},
     "output_type": "execute_result"
    }
   ],
   "source": [
    "low_chems_kegg_spoke_ids"
   ]
  },
  {
   "cell_type": "code",
   "execution_count": 23,
   "id": "68fa57c3-0286-4d37-994b-01a5185a4c92",
   "metadata": {},
   "outputs": [],
   "source": [
    "high_chems_spoke_ids = high_chems_spoke_ids + high_chems_kegg_spoke_ids"
   ]
  },
  {
   "cell_type": "code",
   "execution_count": 24,
   "id": "7d1c65ca-d8f6-4439-901c-01f0bd654868",
   "metadata": {},
   "outputs": [],
   "source": [
    "low_chems_spoke_ids = low_chems_spoke_ids + low_chems_kegg_spoke_ids"
   ]
  },
  {
   "cell_type": "markdown",
   "id": "ad8f947a-38ac-4648-921c-46e2dc6bfc9d",
   "metadata": {},
   "source": [
    "## Compare node stats to a random model\n",
    "\n",
    "Generate a bunch of random models, plot their stats?\n",
    "\n",
    "Metrics we're using:\n",
    "\n",
    "- Average pairwise distance between nodes - for all pairs of nodes, what is the length of the shortest path?\n",
    "- Average Jaccard coefficient - this measures the fraction of neighboring nodes that are also in the given node set.\n",
    "- Average clustering coefficient - among the neighbors of the given node, what fraction of all possible edges exist?"
   ]
  },
  {
   "cell_type": "markdown",
   "id": "9488cc3d-35bb-43ec-b59d-ffc0eea5f9ca",
   "metadata": {
    "tags": []
   },
   "source": [
    "### Top protein null model"
   ]
  },
  {
   "cell_type": "code",
   "execution_count": 25,
   "id": "fbf10c4e-b7ca-41d3-ae0f-327384c3c170",
   "metadata": {},
   "outputs": [],
   "source": [
    "random_prots_1 = kgfe.graph_info.random_nodes_in_category(spoke_graph_ud, 'Protein', len(high_prots_spoke_ids))\n",
    "random_prots_1 = [x[0] for x in random_prots_1]"
   ]
  },
  {
   "cell_type": "code",
   "execution_count": 30,
   "id": "982f2962-8565-441c-bb4b-2699fa704cbf",
   "metadata": {},
   "outputs": [],
   "source": [
    "n_rands = 100\n",
    "all_stats = []\n",
    "for i in range(n_rands):\n",
    "    random_prots = kgfe.graph_info.random_nodes_in_category(spoke_graph_ud, 'Protein', len(high_prots_spoke_ids))\n",
    "    random_prots = [x[0] for x in random_prots]\n",
    "    try:\n",
    "        stats = kgfe.explanations.graph_node_stats(spoke_graph_ud, random_prots)\n",
    "        all_stats.append(stats)\n",
    "    except:\n",
    "        continue"
   ]
  },
  {
   "cell_type": "code",
   "execution_count": 32,
   "id": "eafe07b2-d37a-41d8-8472-0d90c023a7ce",
   "metadata": {},
   "outputs": [
    {
     "data": {
      "text/html": [
       "<div>\n",
       "<style scoped>\n",
       "    .dataframe tbody tr th:only-of-type {\n",
       "        vertical-align: middle;\n",
       "    }\n",
       "\n",
       "    .dataframe tbody tr th {\n",
       "        vertical-align: top;\n",
       "    }\n",
       "\n",
       "    .dataframe thead th {\n",
       "        text-align: right;\n",
       "    }\n",
       "</style>\n",
       "<table border=\"1\" class=\"dataframe\">\n",
       "  <thead>\n",
       "    <tr style=\"text-align: right;\">\n",
       "      <th></th>\n",
       "      <th>average_pairwise_distance</th>\n",
       "      <th>clustering</th>\n",
       "      <th>average_jaccard</th>\n",
       "    </tr>\n",
       "  </thead>\n",
       "  <tbody>\n",
       "    <tr>\n",
       "      <th>0</th>\n",
       "      <td>5.113978</td>\n",
       "      <td>0.012751</td>\n",
       "      <td>0.035484</td>\n",
       "    </tr>\n",
       "    <tr>\n",
       "      <th>1</th>\n",
       "      <td>4.873118</td>\n",
       "      <td>0.013860</td>\n",
       "      <td>0.071685</td>\n",
       "    </tr>\n",
       "    <tr>\n",
       "      <th>2</th>\n",
       "      <td>4.787097</td>\n",
       "      <td>0.045264</td>\n",
       "      <td>0.025829</td>\n",
       "    </tr>\n",
       "    <tr>\n",
       "      <th>3</th>\n",
       "      <td>5.397849</td>\n",
       "      <td>0.020584</td>\n",
       "      <td>0.034767</td>\n",
       "    </tr>\n",
       "    <tr>\n",
       "      <th>4</th>\n",
       "      <td>5.036559</td>\n",
       "      <td>0.033944</td>\n",
       "      <td>0.019796</td>\n",
       "    </tr>\n",
       "    <tr>\n",
       "      <th>...</th>\n",
       "      <td>...</td>\n",
       "      <td>...</td>\n",
       "      <td>...</td>\n",
       "    </tr>\n",
       "    <tr>\n",
       "      <th>90</th>\n",
       "      <td>5.049462</td>\n",
       "      <td>0.016762</td>\n",
       "      <td>0.029637</td>\n",
       "    </tr>\n",
       "    <tr>\n",
       "      <th>91</th>\n",
       "      <td>5.572043</td>\n",
       "      <td>0.000000</td>\n",
       "      <td>0.009319</td>\n",
       "    </tr>\n",
       "    <tr>\n",
       "      <th>92</th>\n",
       "      <td>5.161290</td>\n",
       "      <td>0.030612</td>\n",
       "      <td>0.042682</td>\n",
       "    </tr>\n",
       "    <tr>\n",
       "      <th>93</th>\n",
       "      <td>4.913978</td>\n",
       "      <td>0.030461</td>\n",
       "      <td>0.043585</td>\n",
       "    </tr>\n",
       "    <tr>\n",
       "      <th>94</th>\n",
       "      <td>4.933333</td>\n",
       "      <td>0.015752</td>\n",
       "      <td>0.029852</td>\n",
       "    </tr>\n",
       "  </tbody>\n",
       "</table>\n",
       "<p>95 rows × 3 columns</p>\n",
       "</div>"
      ],
      "text/plain": [
       "    average_pairwise_distance  clustering  average_jaccard\n",
       "0                    5.113978    0.012751         0.035484\n",
       "1                    4.873118    0.013860         0.071685\n",
       "2                    4.787097    0.045264         0.025829\n",
       "3                    5.397849    0.020584         0.034767\n",
       "4                    5.036559    0.033944         0.019796\n",
       "..                        ...         ...              ...\n",
       "90                   5.049462    0.016762         0.029637\n",
       "91                   5.572043    0.000000         0.009319\n",
       "92                   5.161290    0.030612         0.042682\n",
       "93                   4.913978    0.030461         0.043585\n",
       "94                   4.933333    0.015752         0.029852\n",
       "\n",
       "[95 rows x 3 columns]"
      ]
     },
     "execution_count": 32,
     "metadata": {},
     "output_type": "execute_result"
    }
   ],
   "source": [
    "random_stats = pd.DataFrame(all_stats)\n",
    "random_stats"
   ]
  },
  {
   "cell_type": "code",
   "execution_count": 33,
   "id": "73eedc4d-abce-46df-8718-019b5cb60d37",
   "metadata": {},
   "outputs": [],
   "source": [
    "high_prots_stats = kgfe.explanations.graph_node_stats(spoke_graph_ud, high_prots_spoke_ids)"
   ]
  },
  {
   "cell_type": "code",
   "execution_count": 34,
   "id": "8c432212-ffad-4d8f-8fe6-e013bc6d78c7",
   "metadata": {},
   "outputs": [],
   "source": [
    "import matplotlib.pyplot as plt"
   ]
  },
  {
   "cell_type": "code",
   "execution_count": 50,
   "id": "a2c6d35f-6888-445e-ae66-0d239828b46d",
   "metadata": {},
   "outputs": [
    {
     "data": {
      "text/plain": [
       "<matplotlib.legend.Legend at 0x7f99654ff910>"
      ]
     },
     "execution_count": 50,
     "metadata": {},
     "output_type": "execute_result"
    },
    {
     "data": {
      "image/png": "[encoded data removed]",
      "text/plain": [
       "<Figure size 640x480 with 1 Axes>"
      ]
     },
     "metadata": {},
     "output_type": "display_data"
    }
   ],
   "source": [
    "plt.hist(random_stats.average_pairwise_distance, bins=10, label='random')\n",
    "plt.plot([high_prots_stats['average_pairwise_distance'], high_prots_stats['average_pairwise_distance']], [0, 10], label='top proteins')\n",
    "plt.xlabel('Average pairwise distance between proteins in SPOKE (lower = more related)')\n",
    "plt.legend()"
   ]
  },
  {
   "cell_type": "code",
   "execution_count": 51,
   "id": "57f7b9a2-4b1d-4916-872b-042f8dafaeaa",
   "metadata": {},
   "outputs": [
    {
     "data": {
      "text/plain": [
       "<matplotlib.legend.Legend at 0x7f99653421d0>"
      ]
     },
     "execution_count": 51,
     "metadata": {},
     "output_type": "execute_result"
    },
    {
     "data": {
      "image/png": "[encoded data removed]",
      "text/plain": [
       "<Figure size 640x480 with 1 Axes>"
      ]
     },
     "metadata": {},
     "output_type": "display_data"
    }
   ],
   "source": [
    "plt.hist(random_stats.average_jaccard, bins=10, label='random')\n",
    "plt.plot([high_prots_stats['average_jaccard'], high_prots_stats['average_jaccard']], [0, 10], label='top proteins')\n",
    "plt.xlabel('Average jaccard coefficent among proteins in SPOKE (higher = more related)')\n",
    "plt.legend()"
   ]
  },
  {
   "cell_type": "code",
   "execution_count": 52,
   "id": "cfce74bf-8001-4e9a-9f44-5349c57a89d6",
   "metadata": {},
   "outputs": [
    {
     "data": {
      "text/plain": [
       "<matplotlib.legend.Legend at 0x7f996520a890>"
      ]
     },
     "execution_count": 52,
     "metadata": {},
     "output_type": "execute_result"
    },
    {
     "data": {
      "image/png": "[encoded data removed]",
      "text/plain": [
       "<Figure size 640x480 with 1 Axes>"
      ]
     },
     "metadata": {},
     "output_type": "display_data"
    }
   ],
   "source": [
    "plt.hist(random_stats.clustering, bins=10, label='random')\n",
    "plt.plot([high_prots_stats['clustering'], high_prots_stats['clustering']], [0, 10], label='top proteins')\n",
    "plt.xlabel('Average clustering coefficent among proteins in SPOKE (higher = more clique-like)')\n",
    "plt.legend()"
   ]
  },
  {
   "cell_type": "markdown",
   "id": "74ed5cc1-fea3-4e13-99dd-125736181dc5",
   "metadata": {
    "tags": []
   },
   "source": [
    "### Negative-weighted protein null model"
   ]
  },
  {
   "cell_type": "code",
   "execution_count": 53,
   "id": "4da64b20-0bae-4a9e-b401-7e142c8c19a4",
   "metadata": {},
   "outputs": [],
   "source": [
    "n_rands = 100\n",
    "all_stats_low_prots = []\n",
    "for i in range(n_rands):\n",
    "    random_prots = kgfe.graph_info.random_nodes_in_category(spoke_graph_ud, 'Protein', len(low_prots_spoke_ids))\n",
    "    random_prots = [x[0] for x in random_prots]\n",
    "    try:\n",
    "        stats = kgfe.explanations.graph_node_stats(spoke_graph_ud, random_prots)\n",
    "        all_stats_low_prots.append(stats)\n",
    "    except:\n",
    "        continue"
   ]
  },
  {
   "cell_type": "code",
   "execution_count": 54,
   "id": "3dbe161f-a9d1-4c72-8fd1-fb351bfca7ac",
   "metadata": {},
   "outputs": [
    {
     "data": {
      "text/html": [
       "<div>\n",
       "<style scoped>\n",
       "    .dataframe tbody tr th:only-of-type {\n",
       "        vertical-align: middle;\n",
       "    }\n",
       "\n",
       "    .dataframe tbody tr th {\n",
       "        vertical-align: top;\n",
       "    }\n",
       "\n",
       "    .dataframe thead th {\n",
       "        text-align: right;\n",
       "    }\n",
       "</style>\n",
       "<table border=\"1\" class=\"dataframe\">\n",
       "  <thead>\n",
       "    <tr style=\"text-align: right;\">\n",
       "      <th></th>\n",
       "      <th>average_pairwise_distance</th>\n",
       "      <th>clustering</th>\n",
       "      <th>average_jaccard</th>\n",
       "    </tr>\n",
       "  </thead>\n",
       "  <tbody>\n",
       "    <tr>\n",
       "      <th>0</th>\n",
       "      <td>4.885375</td>\n",
       "      <td>0.029861</td>\n",
       "      <td>0.041513</td>\n",
       "    </tr>\n",
       "    <tr>\n",
       "      <th>1</th>\n",
       "      <td>4.861660</td>\n",
       "      <td>0.030142</td>\n",
       "      <td>0.040981</td>\n",
       "    </tr>\n",
       "    <tr>\n",
       "      <th>2</th>\n",
       "      <td>5.027668</td>\n",
       "      <td>0.012778</td>\n",
       "      <td>0.045803</td>\n",
       "    </tr>\n",
       "    <tr>\n",
       "      <th>3</th>\n",
       "      <td>5.217391</td>\n",
       "      <td>0.017516</td>\n",
       "      <td>0.063241</td>\n",
       "    </tr>\n",
       "    <tr>\n",
       "      <th>4</th>\n",
       "      <td>5.490119</td>\n",
       "      <td>0.007896</td>\n",
       "      <td>0.008235</td>\n",
       "    </tr>\n",
       "    <tr>\n",
       "      <th>...</th>\n",
       "      <td>...</td>\n",
       "      <td>...</td>\n",
       "      <td>...</td>\n",
       "    </tr>\n",
       "    <tr>\n",
       "      <th>94</th>\n",
       "      <td>5.466403</td>\n",
       "      <td>0.040842</td>\n",
       "      <td>0.021739</td>\n",
       "    </tr>\n",
       "    <tr>\n",
       "      <th>95</th>\n",
       "      <td>4.636364</td>\n",
       "      <td>0.025906</td>\n",
       "      <td>0.074440</td>\n",
       "    </tr>\n",
       "    <tr>\n",
       "      <th>96</th>\n",
       "      <td>5.154150</td>\n",
       "      <td>0.014021</td>\n",
       "      <td>0.055336</td>\n",
       "    </tr>\n",
       "    <tr>\n",
       "      <th>97</th>\n",
       "      <td>5.086957</td>\n",
       "      <td>0.012493</td>\n",
       "      <td>0.053689</td>\n",
       "    </tr>\n",
       "    <tr>\n",
       "      <th>98</th>\n",
       "      <td>5.185771</td>\n",
       "      <td>0.008555</td>\n",
       "      <td>0.033070</td>\n",
       "    </tr>\n",
       "  </tbody>\n",
       "</table>\n",
       "<p>99 rows × 3 columns</p>\n",
       "</div>"
      ],
      "text/plain": [
       "    average_pairwise_distance  clustering  average_jaccard\n",
       "0                    4.885375    0.029861         0.041513\n",
       "1                    4.861660    0.030142         0.040981\n",
       "2                    5.027668    0.012778         0.045803\n",
       "3                    5.217391    0.017516         0.063241\n",
       "4                    5.490119    0.007896         0.008235\n",
       "..                        ...         ...              ...\n",
       "94                   5.466403    0.040842         0.021739\n",
       "95                   4.636364    0.025906         0.074440\n",
       "96                   5.154150    0.014021         0.055336\n",
       "97                   5.086957    0.012493         0.053689\n",
       "98                   5.185771    0.008555         0.033070\n",
       "\n",
       "[99 rows x 3 columns]"
      ]
     },
     "execution_count": 54,
     "metadata": {},
     "output_type": "execute_result"
    }
   ],
   "source": [
    "random_stats = pd.DataFrame(all_stats_low_prots)\n",
    "random_stats"
   ]
  },
  {
   "cell_type": "code",
   "execution_count": 55,
   "id": "5a6aafd7-54fb-49fc-8c82-e294fcbe5eee",
   "metadata": {},
   "outputs": [],
   "source": [
    "low_prots_stats = kgfe.explanations.graph_node_stats(spoke_graph_ud, low_prots_spoke_ids)"
   ]
  },
  {
   "cell_type": "code",
   "execution_count": 56,
   "id": "e095ab99-4c43-4c1a-bb83-c2d9be9ca3ce",
   "metadata": {},
   "outputs": [
    {
     "data": {
      "text/plain": [
       "<matplotlib.legend.Legend at 0x7f99652d1e10>"
      ]
     },
     "execution_count": 56,
     "metadata": {},
     "output_type": "execute_result"
    },
    {
     "data": {
      "image/png": "[encoded data removed]",
      "text/plain": [
       "<Figure size 640x480 with 1 Axes>"
      ]
     },
     "metadata": {},
     "output_type": "display_data"
    }
   ],
   "source": [
    "plt.hist(random_stats.average_pairwise_distance, bins=10, label='random')\n",
    "plt.plot([low_prots_stats['average_pairwise_distance'], high_prots_stats['average_pairwise_distance']], [0, 10], label='top proteins')\n",
    "plt.xlabel('Average pairwise distance between proteins in SPOKE (lower = more related)')\n",
    "plt.legend()"
   ]
  },
  {
   "cell_type": "code",
   "execution_count": 57,
   "id": "3f51a5f6-03b3-49b7-8a63-2608a04e5c6e",
   "metadata": {},
   "outputs": [
    {
     "data": {
      "text/plain": [
       "<matplotlib.legend.Legend at 0x7f9965122560>"
      ]
     },
     "execution_count": 57,
     "metadata": {},
     "output_type": "execute_result"
    },
    {
     "data": {
      "image/png": "[encoded data removed]",
      "text/plain": [
       "<Figure size 640x480 with 1 Axes>"
      ]
     },
     "metadata": {},
     "output_type": "display_data"
    }
   ],
   "source": [
    "plt.hist(random_stats.average_jaccard, bins=10, label='random')\n",
    "plt.plot([low_prots_stats['average_jaccard'], high_prots_stats['average_jaccard']], [0, 10], label='top proteins')\n",
    "plt.xlabel('Average jaccard coefficent among proteins in SPOKE (higher = more related)')\n",
    "plt.legend()"
   ]
  },
  {
   "cell_type": "code",
   "execution_count": 58,
   "id": "88f327f0-2d28-4734-b642-61bbcc38abe2",
   "metadata": {},
   "outputs": [
    {
     "data": {
      "text/plain": [
       "<matplotlib.legend.Legend at 0x7f9965121090>"
      ]
     },
     "execution_count": 58,
     "metadata": {},
     "output_type": "execute_result"
    },
    {
     "data": {
      "image/png": "[encoded data removed]",
      "text/plain": [
       "<Figure size 640x480 with 1 Axes>"
      ]
     },
     "metadata": {},
     "output_type": "display_data"
    }
   ],
   "source": [
    "plt.hist(random_stats.clustering, bins=10, label='random')\n",
    "plt.plot([low_prots_stats['clustering'], high_prots_stats['clustering']], [0, 10], label='top proteins')\n",
    "plt.xlabel('Average clustering coefficent among proteins in SPOKE (higher = more clique-like)')\n",
    "plt.legend()"
   ]
  },
  {
   "cell_type": "markdown",
   "id": "5454e1c7-a4da-4104-8179-91224c6913d4",
   "metadata": {
    "tags": []
   },
   "source": [
    "### Top metabolite null model"
   ]
  },
  {
   "cell_type": "code",
   "execution_count": 30,
   "id": "904b7758-56f4-4a62-93ce-3b92ea3bef61",
   "metadata": {},
   "outputs": [],
   "source": [
    "n_rands = 100\n",
    "all_stats_high_mets = []\n",
    "for i in range(n_rands):\n",
    "    random_prots = kgfe.graph_info.random_nodes_in_category(spoke_graph_ud, 'Compound', len(high_mets_spoke_ids))\n",
    "    random_prots = [x[0] for x in random_prots]\n",
    "    try:\n",
    "        stats = kgfe.explanations.graph_node_stats(spoke_graph_ud, random_prots)\n",
    "        all_stats.append(stats)\n",
    "    except:\n",
    "        continue"
   ]
  },
  {
   "cell_type": "code",
   "execution_count": null,
   "id": "11d0b62b-859a-4d8c-861d-77206c146d8d",
   "metadata": {},
   "outputs": [],
   "source": [
    "random_stats = pd.DataFrame(all_stats)\n",
    "random_stats"
   ]
  },
  {
   "cell_type": "code",
   "execution_count": 33,
   "id": "9be973d1-2523-4249-ad3d-95885f7c7b8f",
   "metadata": {},
   "outputs": [],
   "source": [
    "high_prots_stats = kgfe.explanations.graph_node_stats(spoke_graph_ud, high_me)"
   ]
  },
  {
   "cell_type": "code",
   "execution_count": 34,
   "id": "909f1124-1d38-4cd7-bd2e-4d6534d08155",
   "metadata": {},
   "outputs": [],
   "source": [
    "import matplotlib.pyplot as plt"
   ]
  },
  {
   "cell_type": "code",
   "execution_count": null,
   "id": "bbb1b03b-40a2-45d4-908a-b0c88a074ff9",
   "metadata": {},
   "outputs": [],
   "source": [
    "plt.hist(random_stats.average_pairwise_distance, bins=10, label='random')\n",
    "plt.plot([high_prots_stats['average_pairwise_distance'], high_prots_stats['average_pairwise_distance']], [0, 10], label='top proteins')\n",
    "plt.xlabel('Average pairwise distance between proteins in SPOKE (lower = more related)')\n",
    "plt.legend()"
   ]
  },
  {
   "cell_type": "code",
   "execution_count": null,
   "id": "15631e02-623f-4c2e-bfe9-f02e42dc6efa",
   "metadata": {},
   "outputs": [],
   "source": [
    "plt.hist(random_stats.average_jaccard, bins=10, label='random')\n",
    "plt.plot([high_prots_stats['average_jaccard'], high_prots_stats['average_jaccard']], [0, 10], label='top proteins')\n",
    "plt.xlabel('Average jaccard coefficent among proteins in SPOKE (higher = more related)')\n",
    "plt.legend()"
   ]
  },
  {
   "cell_type": "code",
   "execution_count": null,
   "id": "b652a801-a979-48ca-814f-5c75e83fb62f",
   "metadata": {},
   "outputs": [],
   "source": [
    "plt.hist(random_stats.clustering, bins=10, label='random')\n",
    "plt.plot([high_prots_stats['clustering'], high_prots_stats['clustering']], [0, 10], label='top proteins')\n",
    "plt.xlabel('Average clustering coefficent among proteins in SPOKE (higher = more clique-like)')\n",
    "plt.legend()"
   ]
  },
  {
   "cell_type": "markdown",
   "id": "0ee0e41c-917a-401a-bc23-23dfaa88cf82",
   "metadata": {
    "tags": []
   },
   "source": [
    "### Negative-weighted metabolite null model"
   ]
  },
  {
   "cell_type": "code",
   "execution_count": null,
   "id": "ab1e9133-15a7-4855-b0f7-53f67bd91a19",
   "metadata": {},
   "outputs": [],
   "source": [
    "n_rands = 100\n",
    "all_stats_low_prots = []\n",
    "for i in range(n_rands):\n",
    "    random_prots = kgfe.graph_info.random_nodes_in_category(spoke_graph_ud, 'Compound', len(low_prots_spoke_ids))\n",
    "    random_prots = [x[0] for x in random_prots]\n",
    "    try:\n",
    "        stats = kgfe.explanations.graph_node_stats(spoke_graph_ud, random_prots)\n",
    "        all_stats_low_prots.append(stats)\n",
    "    except:\n",
    "        continue"
   ]
  },
  {
   "cell_type": "code",
   "execution_count": null,
   "id": "f12cb732-a9f2-4535-a9d6-49d56d4bcdd7",
   "metadata": {},
   "outputs": [],
   "source": [
    "random_stats = pd.DataFrame(all_stats_low_prots)\n",
    "random_stats"
   ]
  },
  {
   "cell_type": "code",
   "execution_count": null,
   "id": "075e55bc-82bb-4725-9e78-15b178589ab0",
   "metadata": {},
   "outputs": [],
   "source": [
    "low_prots_stats = kgfe.explanations.graph_node_stats(spoke_graph_ud, low_prots_spoke_ids)"
   ]
  },
  {
   "cell_type": "code",
   "execution_count": null,
   "id": "61088ca8-a951-4c92-aaa5-7570a6852b34",
   "metadata": {},
   "outputs": [],
   "source": [
    "plt.hist(random_stats.average_pairwise_distance, bins=10, label='random')\n",
    "plt.plot([low_prots_stats['average_pairwise_distance'], high_prots_stats['average_pairwise_distance']], [0, 10], label='top proteins')\n",
    "plt.xlabel('Average pairwise distance between proteins in SPOKE (lower = more related)')\n",
    "plt.legend()"
   ]
  },
  {
   "cell_type": "code",
   "execution_count": null,
   "id": "2c1f8e62-d1ff-4188-9a54-cb9bb2b9459b",
   "metadata": {},
   "outputs": [],
   "source": [
    "plt.hist(random_stats.average_jaccard, bins=10, label='random')\n",
    "plt.plot([low_prots_stats['average_jaccard'], high_prots_stats['average_jaccard']], [0, 10], label='top proteins')\n",
    "plt.xlabel('Average jaccard coefficent among proteins in SPOKE (higher = more related)')\n",
    "plt.legend()"
   ]
  },
  {
   "cell_type": "code",
   "execution_count": null,
   "id": "3b1d8f8f-0096-4e03-ba54-00b82b9e9f8a",
   "metadata": {},
   "outputs": [],
   "source": [
    "plt.hist(random_stats.clustering, bins=10, label='random')\n",
    "plt.plot([low_prots_stats['clustering'], high_prots_stats['clustering']], [0, 10], label='top proteins')\n",
    "plt.xlabel('Average clustering coefficent among proteins in SPOKE (higher = more clique-like)')\n",
    "plt.legend()"
   ]
  },
  {
   "cell_type": "code",
   "execution_count": null,
   "id": "0fb844dd-7418-4244-b9ed-08ae22ebca73",
   "metadata": {},
   "outputs": [],
   "source": []
  }
 ],
 "metadata": {
  "kernelspec": {
   "display_name": "Python 3 (ipykernel)",
   "language": "python",
   "name": "python3"
  },
  "language_info": {
   "codemirror_mode": {
    "name": "ipython",
    "version": 3
   },
   "file_extension": ".py",
   "mimetype": "text/x-python",
   "name": "python",
   "nbconvert_exporter": "python",
   "pygments_lexer": "ipython3",
   "version": "3.10.6"
  },
  "widgets": {
   "application/vnd.jupyter.widget-state+json": {
    "state": {},
    "version_major": 2,
    "version_minor": 0
   }
  }
 },
 "nbformat": 4,
 "nbformat_minor": 5
}
