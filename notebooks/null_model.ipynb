{
 "cells": [
  {
   "cell_type": "markdown",
   "id": "851833b3-d472-43bf-b95f-d2740863aca1",
   "metadata": {},
   "source": [
    "# Building a null model for knowledge graph feature explanation..."
   ]
  },
  {
   "cell_type": "code",
   "execution_count": null,
   "id": "5b8a485e-f50b-4d12-a585-a7dd9d33efde",
   "metadata": {},
   "outputs": [],
   "source": []
  }
 ],
 "metadata": {
  "kernelspec": {
   "display_name": "Python 3 (ipykernel)",
   "language": "python",
   "name": "python3"
  },
  "language_info": {
   "codemirror_mode": {
    "name": "ipython",
    "version": 3
   },
   "file_extension": ".py",
   "mimetype": "text/x-python",
   "name": "python",
   "nbconvert_exporter": "python",
   "pygments_lexer": "ipython3",
   "version": "3.10.6"
  },
  "widgets": {
   "application/vnd.jupyter.widget-state+json": {
    "state": {},
    "version_major": 2,
    "version_minor": 0
   }
  }
 },
 "nbformat": 4,
 "nbformat_minor": 5
}
