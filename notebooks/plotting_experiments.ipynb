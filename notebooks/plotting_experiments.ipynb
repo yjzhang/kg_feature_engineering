{
 "cells": [
  {
   "cell_type": "code",
   "execution_count": 1,
   "id": "29d2e4c2-56c3-41c8-951c-8372ad2f8551",
   "metadata": {},
   "outputs": [],
   "source": [
    "# imports\n",
    "import numpy as np\n",
    "import pandas as pd\n",
    "import networkx as nx\n",
    "import matplotlib.pyplot as plt\n",
    "\n",
    "import kgfe\n",
    "\n",
    "from kgfe import gene_names\n",
    "\n",
    "import ipycytoscape"
   ]
  },
  {
   "cell_type": "code",
   "execution_count": 2,
   "id": "eab15ae8-1857-4701-9b69-b059670ca053",
   "metadata": {},
   "outputs": [],
   "source": [
    "data = pd.read_csv('./for_plot.csv')"
   ]
  },
  {
   "cell_type": "code",
   "execution_count": 3,
   "id": "13b18a23-baa6-41ef-b643-9dba1214cb47",
   "metadata": {},
   "outputs": [
    {
     "data": {
      "text/html": [
       "<div>\n",
       "<style scoped>\n",
       "    .dataframe tbody tr th:only-of-type {\n",
       "        vertical-align: middle;\n",
       "    }\n",
       "\n",
       "    .dataframe tbody tr th {\n",
       "        vertical-align: top;\n",
       "    }\n",
       "\n",
       "    .dataframe thead th {\n",
       "        text-align: right;\n",
       "    }\n",
       "</style>\n",
       "<table border=\"1\" class=\"dataframe\">\n",
       "  <thead>\n",
       "    <tr style=\"text-align: right;\">\n",
       "      <th></th>\n",
       "      <th>Subject</th>\n",
       "      <th>Object</th>\n",
       "      <th>Predicate</th>\n",
       "      <th>Infores</th>\n",
       "    </tr>\n",
       "  </thead>\n",
       "  <tbody>\n",
       "    <tr>\n",
       "      <th>0</th>\n",
       "      <td>PUBCHEM.COMPOUND:49846579</td>\n",
       "      <td>NCBIGene:7157</td>\n",
       "      <td>biolink:affects</td>\n",
       "      <td>infores:text-mining-provider-targeted</td>\n",
       "    </tr>\n",
       "    <tr>\n",
       "      <th>1</th>\n",
       "      <td>PUBCHEM.COMPOUND:49846579</td>\n",
       "      <td>NCBIGene:7157</td>\n",
       "      <td>biolink:interacts_with</td>\n",
       "      <td>infores:dgidb</td>\n",
       "    </tr>\n",
       "    <tr>\n",
       "      <th>2</th>\n",
       "      <td>PUBCHEM.COMPOUND:49846579</td>\n",
       "      <td>NCBIGene:7157</td>\n",
       "      <td>biolink:occurs_together_in_literature_with</td>\n",
       "      <td>infores:pfocr</td>\n",
       "    </tr>\n",
       "    <tr>\n",
       "      <th>3</th>\n",
       "      <td>NCBIGene:960</td>\n",
       "      <td>NCBIGene:7157</td>\n",
       "      <td>biolink:regulates</td>\n",
       "      <td>infores:text-mining-provider-targeted</td>\n",
       "    </tr>\n",
       "    <tr>\n",
       "      <th>4</th>\n",
       "      <td>NCBIGene:960</td>\n",
       "      <td>NCBIGene:7157</td>\n",
       "      <td>biolink:regulated_by</td>\n",
       "      <td>infores:text-mining-provider-targeted</td>\n",
       "    </tr>\n",
       "    <tr>\n",
       "      <th>5</th>\n",
       "      <td>NCBIGene:960</td>\n",
       "      <td>NCBIGene:7157</td>\n",
       "      <td>biolink:regulates</td>\n",
       "      <td>infores:lincs</td>\n",
       "    </tr>\n",
       "    <tr>\n",
       "      <th>6</th>\n",
       "      <td>NCBIGene:960</td>\n",
       "      <td>NCBIGene:7157</td>\n",
       "      <td>biolink:interacts_with</td>\n",
       "      <td>infores:automat-biolink</td>\n",
       "    </tr>\n",
       "  </tbody>\n",
       "</table>\n",
       "</div>"
      ],
      "text/plain": [
       "                     Subject         Object  \\\n",
       "0  PUBCHEM.COMPOUND:49846579  NCBIGene:7157   \n",
       "1  PUBCHEM.COMPOUND:49846579  NCBIGene:7157   \n",
       "2  PUBCHEM.COMPOUND:49846579  NCBIGene:7157   \n",
       "3               NCBIGene:960  NCBIGene:7157   \n",
       "4               NCBIGene:960  NCBIGene:7157   \n",
       "5               NCBIGene:960  NCBIGene:7157   \n",
       "6               NCBIGene:960  NCBIGene:7157   \n",
       "\n",
       "                                    Predicate  \\\n",
       "0                             biolink:affects   \n",
       "1                      biolink:interacts_with   \n",
       "2  biolink:occurs_together_in_literature_with   \n",
       "3                           biolink:regulates   \n",
       "4                        biolink:regulated_by   \n",
       "5                           biolink:regulates   \n",
       "6                      biolink:interacts_with   \n",
       "\n",
       "                                 Infores  \n",
       "0  infores:text-mining-provider-targeted  \n",
       "1                          infores:dgidb  \n",
       "2                          infores:pfocr  \n",
       "3  infores:text-mining-provider-targeted  \n",
       "4  infores:text-mining-provider-targeted  \n",
       "5                          infores:lincs  \n",
       "6                infores:automat-biolink  "
      ]
     },
     "execution_count": 3,
     "metadata": {},
     "output_type": "execute_result"
    }
   ],
   "source": [
    "data"
   ]
  },
  {
   "cell_type": "code",
   "execution_count": 58,
   "id": "3d7da2b8-97e3-4194-b2f0-bf4af9cfc7b9",
   "metadata": {},
   "outputs": [],
   "source": [
    "graph = nx.from_pandas_edgelist(data, source='Subject', target='Object', edge_attr=['Infores', 'Predicate'], create_using=nx.MultiGraph)"
   ]
  },
  {
   "cell_type": "code",
   "execution_count": 59,
   "id": "87edbaf8-d0ae-4314-a3b3-9de31fde8cb2",
   "metadata": {},
   "outputs": [
    {
     "data": {
      "text/plain": [
       "NodeView(('PUBCHEM.COMPOUND:49846579', 'NCBIGene:7157', 'NCBIGene:960'))"
      ]
     },
     "execution_count": 59,
     "metadata": {},
     "output_type": "execute_result"
    }
   ],
   "source": [
    "graph.nodes"
   ]
  },
  {
   "cell_type": "code",
   "execution_count": 60,
   "id": "bc17ffc9-5d6c-4c0c-b790-62d798f14e3e",
   "metadata": {},
   "outputs": [
    {
     "data": {
      "text/plain": [
       "{'Infores': 'infores:text-mining-provider-targeted',\n",
       " 'Predicate': 'biolink:affects'}"
      ]
     },
     "execution_count": 60,
     "metadata": {},
     "output_type": "execute_result"
    }
   ],
   "source": [
    "graph.edges['PUBCHEM.COMPOUND:49846579', 'NCBIGene:7157', 0]"
   ]
  },
  {
   "cell_type": "code",
   "execution_count": 63,
   "id": "065b6bb1-ad3c-478d-8afe-7de5d18b1b6a",
   "metadata": {},
   "outputs": [],
   "source": [
    "graph_style = [{'selector': 'node[id]',\n",
    "                             'style': {\n",
    "                                  'font-family': 'helvetica',\n",
    "                                  'font-size': '14px',\n",
    "                                 'text-valign': 'center',\n",
    "                                 'label': 'data(id)',\n",
    "                        }},\n",
    "                        {'selector': 'node',\n",
    "                         'style': {\n",
    "                             'background-color': 'lightblue',\n",
    "                             'shape': 'round-rectangle',\n",
    "                             'width': '5em',\n",
    "                         }},\n",
    "                        {'selector': 'edge[Infores]',\n",
    "                         'style': {\n",
    "                             'label': 'data(Infores)',\n",
    "                             'font-size': '12px',\n",
    "                         }},\n",
    "                        {\"selector\": \"edge.directed\",\n",
    "                         \"style\": {\n",
    "                            \"curve-style\": \"bezier\",\n",
    "                            \"target-arrow-shape\": \"triangle\",\n",
    "                        }},\n",
    "                       {\"selector\": \"edge\",\n",
    "                         \"style\": {\n",
    "                            \"curve-style\": \"bezier\",\n",
    "                        }},\n",
    "\n",
    "                    ]"
   ]
  },
  {
   "cell_type": "code",
   "execution_count": 64,
   "id": "5d5f7172-0f75-4e87-9fc0-7ff7de9dd579",
   "metadata": {},
   "outputs": [
    {
     "data": {
      "application/vnd.jupyter.widget-view+json": {
       "model_id": "7713007c561b45a3ab94d4f60abbf847",
       "version_major": 2,
       "version_minor": 0
      },
      "text/plain": [
       "CytoscapeWidget(cytoscape_layout={'name': 'cola', 'title': 'high_proteins', 'nodeSpacing': 80, 'edgeLengthVal'…"
      ]
     },
     "metadata": {},
     "output_type": "display_data"
    }
   ],
   "source": [
    "undirected = ipycytoscape.CytoscapeWidget()\n",
    "undirected.graph.add_graph_from_networkx(graph)\n",
    "undirected.set_layout(title='high_proteins', nodeSpacing=80, edgeLengthVal=50, )\n",
    "undirected.set_style(graph_style)\n",
    "\n",
    "display(undirected)"
   ]
  },
  {
   "cell_type": "code",
   "execution_count": null,
   "id": "0e3009f6-416a-43e1-b1f3-13c448b8c854",
   "metadata": {},
   "outputs": [],
   "source": []
  },
  {
   "cell_type": "code",
   "execution_count": null,
   "id": "063119dc-3b0c-4b49-919c-e85aee09ad63",
   "metadata": {},
   "outputs": [],
   "source": []
  }
 ],
 "metadata": {
  "kernelspec": {
   "display_name": "Python 3 (ipykernel)",
   "language": "python",
   "name": "python3"
  },
  "language_info": {
   "codemirror_mode": {
    "name": "ipython",
    "version": 3
   },
   "file_extension": ".py",
   "mimetype": "text/x-python",
   "name": "python",
   "nbconvert_exporter": "python",
   "pygments_lexer": "ipython3",
   "version": "3.10.6"
  },
  "widgets": {
   "application/vnd.jupyter.widget-state+json": {
    "state": {
     "0083a857c87940dba2a66ef99bdd8b9d": {
      "model_module": "jupyter-cytoscape",
      "model_module_version": "^1.3.3",
      "model_name": "EdgeModel",
      "state": {
       "_model_module_version": "^1.3.3",
       "_view_module_version": "^1.3.3",
       "data": {
        "Predicate": "biolink:occurs_together_in_literature_with",
        "id": "a73d6551-3deb-4519-b437-32764eba7d03",
        "source": "PUBCHEM.COMPOUND:49846579",
        "target": "NCBIGene:7157"
       },
       "selectable": false
      }
     },
     "0106c98cf88e4bd1bfff6003fcc04c44": {
      "model_module": "jupyter-cytoscape",
      "model_module_version": "^1.3.3",
      "model_name": "CytoscapeModel",
      "state": {
       "_interaction_handlers": {},
       "_model_module_version": "^1.3.3",
       "_view_module_version": "^1.3.3",
       "auto_ungrabify": false,
       "autolock": false,
       "cytoscape_layout": {
        "edgeLengthVal": 50,
        "name": "cola",
        "nodeSpacing": 80,
        "title": "high_proteins"
       },
       "cytoscape_style": [
        {
         "selector": "node[feature_name]",
         "style": {
          "font-family": "helvetica",
          "font-size": "20px",
          "label": "data(feature_name)",
          "text-valign": "top"
         }
        },
        {
         "selector": "node[category=\"Protein\"]",
         "style": {
          "background-color": "blue"
         }
        },
        {
         "selector": "node[in_query=1]",
         "style": {
          "border-color": "red",
          "border-width": "5px"
         }
        },
        {
         "selector": "edge[type]",
         "style": {
          "label": "data(type)"
         }
        },
        {
         "selector": "edge.directed",
         "style": {
          "curve-style": "bezier",
          "target-arrow-shape": "triangle"
         }
        }
       ],
       "desktop_tap_threshold": 4,
       "graph": "IPY_MODEL_f0057efa198d45d68a3befe83872748d",
       "headless": false,
       "hide_edges_on_viewport": false,
       "layout": "IPY_MODEL_a819eab5283b46689bd066b1b93d081f",
       "max_zoom": 1e+50,
       "min_zoom": 1e-50,
       "motion_blur": false,
       "motion_blur_opacity": 0.2,
       "panning_enabled": true,
       "pixel_ratio": "auto",
       "rendered_position": {
        "renderedPosition": {
         "x": 100,
         "y": 100
        }
       },
       "selection_type": "single",
       "style_enabled": true,
       "texture_on_viewport": false,
       "tooltip_source": "tooltip",
       "touch_tap_threshold": 8,
       "user_panning_enabled": true,
       "user_zooming_enabled": true,
       "wheel_sensitivity": 1,
       "zoom": 2,
       "zooming_enabled": true
      }
     },
     "012f556937a8418cb539f3e7effaf3da": {
      "model_module": "jupyter-cytoscape",
      "model_module_version": "^1.3.3",
      "model_name": "EdgeModel",
      "state": {
       "_model_module_version": "^1.3.3",
       "_view_module_version": "^1.3.3",
       "data": {
        "Predicate": "biolink:interacts_with",
        "id": "fb1c72ac-1990-4e4c-8f06-60a66893cf67",
        "source": "NCBIGene:7157",
        "target": "NCBIGene:960"
       },
       "selectable": false
      }
     },
     "053983be6e2744cdaeece271bc42e085": {
      "model_module": "jupyter-cytoscape",
      "model_module_version": "^1.3.3",
      "model_name": "NodeModel",
      "state": {
       "_model_module_version": "^1.3.3",
       "_view_module_version": "^1.3.3",
       "data": {
        "id": "PUBCHEM.COMPOUND:49846579"
       },
       "grabbable": true,
       "grabbed": false,
       "position": {
        "x": 623.3768036457383,
        "y": 278.4973309168532
       },
       "selectable": false
      }
     },
     "0c1ce2b37e2d47489e6a113182c20c72": {
      "model_module": "jupyter-cytoscape",
      "model_module_version": "^1.3.3",
      "model_name": "EdgeModel",
      "state": {
       "_model_module_version": "^1.3.3",
       "_view_module_version": "^1.3.3",
       "data": {
        "Predicate": "biolink:interacts_with",
        "id": "46880740-eacd-45df-bfc9-acabd02ccc69",
        "source": "NCBIGene:7157",
        "target": "NCBIGene:960"
       },
       "selectable": false
      }
     },
     "0f5aec8849c94999973bfb33017db747": {
      "model_module": "jupyter-cytoscape",
      "model_module_version": "^1.3.3",
      "model_name": "CytoscapeModel",
      "state": {
       "_interaction_handlers": {},
       "_model_module_version": "^1.3.3",
       "_view_module_version": "^1.3.3",
       "auto_ungrabify": false,
       "autolock": false,
       "cytoscape_layout": {
        "edgeLengthVal": 50,
        "name": "cola",
        "nodeSpacing": 80,
        "title": "high_proteins"
       },
       "cytoscape_style": [
        {
         "selector": "node[id]",
         "style": {
          "font-family": "helvetica",
          "font-size": "12px",
          "label": "data(id)",
          "text-valign": "center"
         }
        },
        {
         "selector": "node",
         "style": {
          "background-color": "lightblue",
          "shape": "round-rectangle",
          "width": "5em"
         }
        },
        {
         "selector": "edge[Predicate]",
         "style": {
          "font-size": "10px",
          "label": "data(Predicate)"
         }
        },
        {
         "selector": "edge.directed",
         "style": {
          "curve-style": "bezier",
          "target-arrow-shape": "triangle"
         }
        },
        {
         "selector": "edge",
         "style": {
          "curve-style": "bezier"
         }
        }
       ],
       "desktop_tap_threshold": 4,
       "graph": "IPY_MODEL_f51d1f8ada104a63925b04ce8c936154",
       "headless": false,
       "hide_edges_on_viewport": false,
       "layout": "IPY_MODEL_0fc027554df44bcca0a7ffc560018342",
       "max_zoom": 1e+50,
       "min_zoom": 1e-50,
       "motion_blur": false,
       "motion_blur_opacity": 0.2,
       "panning_enabled": true,
       "pixel_ratio": "auto",
       "rendered_position": {
        "renderedPosition": {
         "x": 100,
         "y": 100
        }
       },
       "selection_type": "single",
       "style_enabled": true,
       "texture_on_viewport": false,
       "tooltip_source": "tooltip",
       "touch_tap_threshold": 8,
       "user_panning_enabled": true,
       "user_zooming_enabled": true,
       "wheel_sensitivity": 1,
       "zoom": 2,
       "zooming_enabled": true
      }
     },
     "0fc027554df44bcca0a7ffc560018342": {
      "model_module": "@jupyter-widgets/base",
      "model_module_version": "2.0.0",
      "model_name": "LayoutModel",
      "state": {}
     },
     "1007317bd8694035bae3651fa79365ad": {
      "model_module": "jupyter-cytoscape",
      "model_module_version": "^1.3.3",
      "model_name": "NodeModel",
      "state": {
       "_model_module_version": "^1.3.3",
       "_view_module_version": "^1.3.3",
       "data": {
        "id": "NCBIGene:7157"
       },
       "grabbable": true,
       "grabbed": false,
       "position": {
        "x": 431.53192364385046,
        "y": 170.22476578548515
       },
       "selectable": false
      }
     },
     "1031f8c74a47437d81cdd445d896b9a9": {
      "model_module": "jupyter-cytoscape",
      "model_module_version": "^1.3.3",
      "model_name": "EdgeModel",
      "state": {
       "_model_module_version": "^1.3.3",
       "_view_module_version": "^1.3.3",
       "classes": " directed  multiple_edges ",
       "data": {
        "Predicate": "biolink:interacts_with",
        "id": "d25cae13-a09b-480e-8ede-0fa7ded793ec",
        "source": "PUBCHEM.COMPOUND:49846579",
        "target": "NCBIGene:7157"
       },
       "selectable": false
      }
     },
     "10bc7b7c7b7642d7959b1f5aea7e7712": {
      "model_module": "jupyter-cytoscape",
      "model_module_version": "^1.3.3",
      "model_name": "NodeModel",
      "state": {
       "_model_module_version": "^1.3.3",
       "_view_module_version": "^1.3.3",
       "data": {
        "id": "PUBCHEM.COMPOUND:49846579"
       },
       "grabbable": true,
       "grabbed": false,
       "position": {
        "x": 713.7273661317543,
        "y": 184.331641863297
       },
       "selectable": false
      }
     },
     "12af6826cdbc4baa98e1aa04f02bd2b6": {
      "model_module": "jupyter-cytoscape",
      "model_module_version": "^1.3.3",
      "model_name": "NodeModel",
      "state": {
       "_model_module_version": "^1.3.3",
       "_view_module_version": "^1.3.3",
       "data": {
        "id": "PUBCHEM.COMPOUND:49846579"
       },
       "grabbable": true,
       "grabbed": false,
       "position": {
        "x": 617.9350039057847,
        "y": 165.28735915825098
       },
       "selectable": false
      }
     },
     "130de25f71e645dba3a2e0eaf4171326": {
      "model_module": "jupyter-cytoscape",
      "model_module_version": "^1.3.3",
      "model_name": "CytoscapeModel",
      "state": {
       "_interaction_handlers": {},
       "_model_module_version": "^1.3.3",
       "_view_module_version": "^1.3.3",
       "auto_ungrabify": false,
       "autolock": false,
       "cytoscape_layout": {
        "edgeLengthVal": 50,
        "name": "cola",
        "nodeSpacing": 80,
        "title": "high_proteins"
       },
       "cytoscape_style": [
        {
         "selector": "node[id]",
         "style": {
          "font-family": "helvetica",
          "font-size": "20px",
          "label": "data(id)",
          "text-valign": "center"
         }
        },
        {
         "selector": "node",
         "style": {
          "background-color": "lightblue",
          "shape": "round-rectangle",
          "width": "5em"
         }
        },
        {
         "selector": "node[in_query=1]",
         "style": {
          "border-color": "red",
          "border-width": "5px"
         }
        },
        {
         "selector": "edge[type]",
         "style": {
          "label": "data(type)"
         }
        },
        {
         "selector": "edge.directed",
         "style": {
          "curve-style": "bezier",
          "target-arrow-shape": "triangle"
         }
        }
       ],
       "desktop_tap_threshold": 4,
       "graph": "IPY_MODEL_167bbbad66eb4a6ea581bb795427c5d1",
       "headless": false,
       "hide_edges_on_viewport": false,
       "layout": "IPY_MODEL_b95b05adf7cc4bd688650fed8829344b",
       "max_zoom": 1e+50,
       "min_zoom": 1e-50,
       "motion_blur": false,
       "motion_blur_opacity": 0.2,
       "panning_enabled": true,
       "pixel_ratio": "auto",
       "rendered_position": {
        "renderedPosition": {
         "x": 100,
         "y": 100
        }
       },
       "selection_type": "single",
       "style_enabled": true,
       "texture_on_viewport": false,
       "tooltip_source": "tooltip",
       "touch_tap_threshold": 8,
       "user_panning_enabled": true,
       "user_zooming_enabled": true,
       "wheel_sensitivity": 1,
       "zoom": 2,
       "zooming_enabled": true
      }
     },
     "135909eeef49408b85fa82b1f1ec331f": {
      "model_module": "jupyter-cytoscape",
      "model_module_version": "^1.3.3",
      "model_name": "CytoscapeModel",
      "state": {
       "_interaction_handlers": {},
       "_model_module_version": "^1.3.3",
       "_view_module_version": "^1.3.3",
       "auto_ungrabify": false,
       "autolock": false,
       "cytoscape_layout": {
        "edgeLengthVal": 50,
        "name": "cola",
        "nodeSpacing": 80,
        "title": "high_proteins"
       },
       "cytoscape_style": [
        {
         "selector": "node[id]",
         "style": {
          "font-family": "helvetica",
          "font-size": "12px",
          "label": "data(id)",
          "text-valign": "center"
         }
        },
        {
         "selector": "node",
         "style": {
          "background-color": "lightblue",
          "shape": "round-rectangle",
          "width": "5em"
         }
        },
        {
         "selector": "edge[Predicate]",
         "style": {
          "label": "data(Predicate)"
         }
        },
        {
         "selector": "edge.directed",
         "style": {
          "curve-style": "bezier",
          "target-arrow-shape": "triangle"
         }
        }
       ],
       "desktop_tap_threshold": 4,
       "graph": "IPY_MODEL_334a0b57792d49b19d1a6e971b754982",
       "headless": false,
       "hide_edges_on_viewport": false,
       "layout": "IPY_MODEL_153c61e3f7884ec3866df01cd79c9ab4",
       "max_zoom": 1e+50,
       "min_zoom": 1e-50,
       "motion_blur": false,
       "motion_blur_opacity": 0.2,
       "panning_enabled": true,
       "pixel_ratio": "auto",
       "rendered_position": {
        "renderedPosition": {
         "x": 100,
         "y": 100
        }
       },
       "selection_type": "single",
       "style_enabled": true,
       "texture_on_viewport": false,
       "tooltip_source": "tooltip",
       "touch_tap_threshold": 8,
       "user_panning_enabled": true,
       "user_zooming_enabled": true,
       "wheel_sensitivity": 1,
       "zoom": 2,
       "zooming_enabled": true
      }
     },
     "1386c83608b54d5a90e2bc3c9a832be7": {
      "model_module": "jupyter-cytoscape",
      "model_module_version": "^1.3.3",
      "model_name": "GraphModel",
      "state": {
       "_adj": {
        "NCBIGene:7157": {},
        "NCBIGene:960": {},
        "PUBCHEM.COMPOUND:49846579": {}
       },
       "_model_module_version": "^1.3.3",
       "_view_module": "jupyter-cytoscape",
       "_view_module_version": "^1.3.3",
       "edges": [
        "IPY_MODEL_8376ad4297d6438494f9f4010a75a067",
        "IPY_MODEL_16191349feaa458287de0a66038bb31f"
       ],
       "nodes": [
        "IPY_MODEL_812f8ce6d356481f9678337dc6f55a94",
        "IPY_MODEL_28ce6f9581ad4e7aa5cb7f1ce986437f",
        "IPY_MODEL_6ae1c232a12c4e3e91a167984ca896d1"
       ]
      }
     },
     "13feb3e3d23d450088b41f77f6174105": {
      "model_module": "jupyter-cytoscape",
      "model_module_version": "^1.3.3",
      "model_name": "GraphModel",
      "state": {
       "_adj": {
        "NCBIGene:7157": {},
        "NCBIGene:960": {},
        "PUBCHEM.COMPOUND:49846579": {}
       },
       "_model_module_version": "^1.3.3",
       "_view_module": "jupyter-cytoscape",
       "_view_module_version": "^1.3.3",
       "edges": [
        "IPY_MODEL_c2c7dce54df24b16bc0504c2a60fed5b",
        "IPY_MODEL_c1a585ca433641188e197010cb5a5cd9",
        "IPY_MODEL_782b84c553d24cd896003dfe1c6b0ad1",
        "IPY_MODEL_f90deb77e8c4488caae179f955c9a179",
        "IPY_MODEL_b76381f0275642818d40a526686c06c2",
        "IPY_MODEL_fdbc00ec0e7545178752a9dce38c0e58",
        "IPY_MODEL_2b64246a7689432f8efbf9ebd2cd9af9"
       ],
       "nodes": [
        "IPY_MODEL_a907449da0eb493eb94aeaeb07f263cd",
        "IPY_MODEL_e44b8c5ecb2e499c945a4b7bbabadafc",
        "IPY_MODEL_9db778fb2e3c4938a2a38862de5f0d53"
       ]
      }
     },
     "1477f01752284aa6b65425b1a5b4b557": {
      "model_module": "jupyter-cytoscape",
      "model_module_version": "^1.3.3",
      "model_name": "NodeModel",
      "state": {
       "_model_module_version": "^1.3.3",
       "_view_module_version": "^1.3.3",
       "data": {
        "id": "NCBIGene:7157"
       },
       "grabbable": true,
       "grabbed": false,
       "position": {
        "x": 414.60367235047624,
        "y": 165.28735915825098
       },
       "selectable": false
      }
     },
     "153c61e3f7884ec3866df01cd79c9ab4": {
      "model_module": "@jupyter-widgets/base",
      "model_module_version": "2.0.0",
      "model_name": "LayoutModel",
      "state": {}
     },
     "15c13fa978fb4146af1678bca2a7444a": {
      "model_module": "@jupyter-widgets/base",
      "model_module_version": "2.0.0",
      "model_name": "LayoutModel",
      "state": {}
     },
     "16191349feaa458287de0a66038bb31f": {
      "model_module": "jupyter-cytoscape",
      "model_module_version": "^1.3.3",
      "model_name": "EdgeModel",
      "state": {
       "_model_module_version": "^1.3.3",
       "_view_module_version": "^1.3.3",
       "data": {
        "Predicate": "biolink:interacts_with",
        "id": "424a8533-0789-40a5-98ff-59395b924ec2",
        "source": "NCBIGene:7157",
        "target": "NCBIGene:960"
       },
       "selectable": false
      }
     },
     "167bbbad66eb4a6ea581bb795427c5d1": {
      "model_module": "jupyter-cytoscape",
      "model_module_version": "^1.3.3",
      "model_name": "GraphModel",
      "state": {
       "_adj": {
        "NCBIGene:7157": {},
        "NCBIGene:960": {},
        "PUBCHEM.COMPOUND:49846579": {}
       },
       "_model_module_version": "^1.3.3",
       "_view_module": "jupyter-cytoscape",
       "_view_module_version": "^1.3.3",
       "edges": [
        "IPY_MODEL_f6369e0079934fc7984ab1ff8de5b8d6",
        "IPY_MODEL_8353468fa5ca464883e6bc29379280df",
        "IPY_MODEL_5879c0f464914041b1001a7da2c77a7a",
        "IPY_MODEL_98adbfa592b44278a47fef2862a7a856",
        "IPY_MODEL_8d9a9d16747945de962ba0a6c62a9215",
        "IPY_MODEL_5796db00293c46c2a22e30c90fe8bed9",
        "IPY_MODEL_4291409a58c0445fa233c0fb35104a97"
       ],
       "nodes": [
        "IPY_MODEL_d198a9afd0f74ffba67a00748a861923",
        "IPY_MODEL_3ea1a11772404319ab7ac98224f4453d",
        "IPY_MODEL_35f91788d6744c8190669b35dec5af9a"
       ]
      }
     },
     "18181f99b48f4cc88d85dbfa6690e6da": {
      "model_module": "jupyter-cytoscape",
      "model_module_version": "^1.3.3",
      "model_name": "NodeModel",
      "state": {
       "_model_module_version": "^1.3.3",
       "_view_module_version": "^1.3.3",
       "data": {
        "id": "PUBCHEM.COMPOUND:49846579"
       },
       "grabbable": true,
       "grabbed": false,
       "position": {
        "x": 727.8342422095662,
        "y": 191.38507990220293
       },
       "selectable": false
      }
     },
     "18d3e64f8d6442c6a8948bdc5d440fe1": {
      "model_module": "jupyter-cytoscape",
      "model_module_version": "^1.3.3",
      "model_name": "CytoscapeModel",
      "state": {
       "_interaction_handlers": {},
       "_model_module_version": "^1.3.3",
       "_view_module_version": "^1.3.3",
       "auto_ungrabify": false,
       "autolock": false,
       "cytoscape_layout": {
        "edgeLengthVal": 50,
        "name": "cola",
        "nodeSpacing": 80,
        "title": "high_proteins"
       },
       "cytoscape_style": [
        {
         "selector": "node[id]",
         "style": {
          "font-family": "helvetica",
          "font-size": "12px",
          "label": "data(id)",
          "text-valign": "center"
         }
        },
        {
         "selector": "node",
         "style": {
          "background-color": "lightblue",
          "shape": "round-rectangle",
          "width": "5em"
         }
        },
        {
         "selector": "edge[Predicate]",
         "style": {
          "font-size": "10px",
          "label": "data(Predicate)"
         }
        },
        {
         "selector": "edge.directed",
         "style": {
          "curve-style": "bezier",
          "target-arrow-shape": "triangle"
         }
        }
       ],
       "desktop_tap_threshold": 4,
       "graph": "IPY_MODEL_61a5e6e2f85342ef8e52e641a2dffa72",
       "headless": false,
       "hide_edges_on_viewport": false,
       "layout": "IPY_MODEL_2765cf60a9ce41d386d1aa05e3920b9c",
       "max_zoom": 1e+50,
       "min_zoom": 1e-50,
       "motion_blur": false,
       "motion_blur_opacity": 0.2,
       "panning_enabled": true,
       "pixel_ratio": "auto",
       "rendered_position": {
        "renderedPosition": {
         "x": 100,
         "y": 100
        }
       },
       "selection_type": "single",
       "style_enabled": true,
       "texture_on_viewport": false,
       "tooltip_source": "tooltip",
       "touch_tap_threshold": 8,
       "user_panning_enabled": true,
       "user_zooming_enabled": true,
       "wheel_sensitivity": 1,
       "zoom": 2,
       "zooming_enabled": true
      }
     },
     "1b28ad01c4c24a9883447ba824b12980": {
      "model_module": "jupyter-cytoscape",
      "model_module_version": "^1.3.3",
      "model_name": "GraphModel",
      "state": {
       "_adj": {
        "NCBIGene:7157": {},
        "NCBIGene:960": {},
        "PUBCHEM.COMPOUND:49846579": {}
       },
       "_model_module_version": "^1.3.3",
       "_view_module": "jupyter-cytoscape",
       "_view_module_version": "^1.3.3",
       "edges": [
        "IPY_MODEL_260f0117f26f46b48ec660715b71adb7",
        "IPY_MODEL_012f556937a8418cb539f3e7effaf3da"
       ],
       "nodes": [
        "IPY_MODEL_053983be6e2744cdaeece271bc42e085",
        "IPY_MODEL_9a9b57f7abc847e1adf0e60a31988dc5",
        "IPY_MODEL_471fb5aa54eb44328823170b52a55d4c"
       ]
      }
     },
     "1bfd3e3f3e0247469fb39f424c4eb921": {
      "model_module": "@jupyter-widgets/base",
      "model_module_version": "2.0.0",
      "model_name": "LayoutModel",
      "state": {}
     },
     "1c18fda728864bfdb21b29c93b1ad8c2": {
      "model_module": "jupyter-cytoscape",
      "model_module_version": "^1.3.3",
      "model_name": "NodeModel",
      "state": {
       "_model_module_version": "^1.3.3",
       "_view_module_version": "^1.3.3",
       "data": {
        "id": "NCBIGene:960"
       },
       "grabbable": true,
       "grabbed": false,
       "position": {
        "x": 212.42456209829712,
        "y": 174.236812755621
       },
       "selectable": false
      }
     },
     "1ebaedda4a114578b26a30c4b961556b": {
      "model_module": "jupyter-cytoscape",
      "model_module_version": "^1.3.3",
      "model_name": "EdgeModel",
      "state": {
       "_model_module_version": "^1.3.3",
       "_view_module_version": "^1.3.3",
       "classes": " multiple_edges ",
       "data": {
        "Infores": "infores:dgidb",
        "Predicate": "biolink:interacts_with",
        "id": "2eb375f9-16c5-4a88-9d9c-e1b7d384c1ec",
        "source": "PUBCHEM.COMPOUND:49846579",
        "target": "NCBIGene:7157"
       },
       "selectable": false
      }
     },
     "2017a7b9b34f4cf8a0118cea4a369591": {
      "model_module": "jupyter-cytoscape",
      "model_module_version": "^1.3.3",
      "model_name": "GraphModel",
      "state": {
       "_adj": {},
       "_model_module_version": "^1.3.3",
       "_view_module": "jupyter-cytoscape",
       "_view_module_version": "^1.3.3"
      }
     },
     "20860d234dd0422dbb0fbb11a9e735a9": {
      "model_module": "@jupyter-widgets/base",
      "model_module_version": "2.0.0",
      "model_name": "LayoutModel",
      "state": {}
     },
     "21ef1d27b4e44d9aab51a81e7f9e9ca3": {
      "model_module": "jupyter-cytoscape",
      "model_module_version": "^1.3.3",
      "model_name": "GraphModel",
      "state": {
       "_adj": {
        "NCBIGene:7157": {},
        "NCBIGene:960": {},
        "PUBCHEM.COMPOUND:49846579": {}
       },
       "_model_module_version": "^1.3.3",
       "_view_module": "jupyter-cytoscape",
       "_view_module_version": "^1.3.3",
       "edges": [
        "IPY_MODEL_0083a857c87940dba2a66ef99bdd8b9d",
        "IPY_MODEL_b883120f90a44e2e9d46c2fd318b851b"
       ],
       "nodes": [
        "IPY_MODEL_dac566ffab9945859779b2aab52f72bd",
        "IPY_MODEL_5e9bdb47f4654ac7b15f2bf085c59f4b",
        "IPY_MODEL_fe70de99faa34c08a2275ddcd39115db"
       ]
      }
     },
     "225cb8bbd292419083c554660e985baf": {
      "model_module": "jupyter-cytoscape",
      "model_module_version": "^1.3.3",
      "model_name": "NodeModel",
      "state": {
       "_model_module_version": "^1.3.3",
       "_view_module_version": "^1.3.3",
       "data": {
        "id": "NCBIGene:7157"
       },
       "grabbable": true,
       "grabbed": false,
       "position": {
        "x": 427.93500290578476,
        "y": 165.28735915825098
       },
       "selectable": false
      }
     },
     "259c12142f5f498db2d0d126f49faf8f": {
      "model_module": "jupyter-cytoscape",
      "model_module_version": "^1.3.3",
      "model_name": "EdgeModel",
      "state": {
       "_model_module_version": "^1.3.3",
       "_view_module_version": "^1.3.3",
       "classes": " multiple_edges ",
       "data": {
        "Predicate": "biolink:occurs_together_in_literature_with",
        "id": "b857b4a0-c5c3-4bd4-a1c0-b9d0ced24d08",
        "source": "PUBCHEM.COMPOUND:49846579",
        "target": "NCBIGene:7157"
       },
       "selectable": false
      }
     },
     "260f0117f26f46b48ec660715b71adb7": {
      "model_module": "jupyter-cytoscape",
      "model_module_version": "^1.3.3",
      "model_name": "EdgeModel",
      "state": {
       "_model_module_version": "^1.3.3",
       "_view_module_version": "^1.3.3",
       "data": {
        "Predicate": "biolink:occurs_together_in_literature_with",
        "id": "bbca6bbd-addf-4f71-8385-905db81c71d2",
        "source": "PUBCHEM.COMPOUND:49846579",
        "target": "NCBIGene:7157"
       },
       "selectable": false
      }
     },
     "2765cf60a9ce41d386d1aa05e3920b9c": {
      "model_module": "@jupyter-widgets/base",
      "model_module_version": "2.0.0",
      "model_name": "LayoutModel",
      "state": {}
     },
     "279ed520eba746da8d5317a11353a630": {
      "model_module": "jupyter-cytoscape",
      "model_module_version": "^1.3.3",
      "model_name": "NodeModel",
      "state": {
       "_model_module_version": "^1.3.3",
       "_view_module_version": "^1.3.3",
       "data": {
        "id": "PUBCHEM.COMPOUND:49846579"
       },
       "grabbable": true,
       "grabbed": false,
       "position": {
        "x": 680.7261799399423,
        "y": 267.2803189402733
       },
       "selectable": false
      }
     },
     "28ce6f9581ad4e7aa5cb7f1ce986437f": {
      "model_module": "jupyter-cytoscape",
      "model_module_version": "^1.3.3",
      "model_name": "NodeModel",
      "state": {
       "_model_module_version": "^1.3.3",
       "_view_module_version": "^1.3.3",
       "data": {
        "id": "NCBIGene:7157"
       },
       "grabbable": true,
       "grabbed": false,
       "position": {
        "x": 427.93500290578476,
        "y": 165.28735915825098
       },
       "selectable": false
      }
     },
     "2b64246a7689432f8efbf9ebd2cd9af9": {
      "model_module": "jupyter-cytoscape",
      "model_module_version": "^1.3.3",
      "model_name": "EdgeModel",
      "state": {
       "_model_module_version": "^1.3.3",
       "_view_module_version": "^1.3.3",
       "classes": " directed  multiple_edges ",
       "data": {
        "Predicate": "biolink:interacts_with",
        "id": "45d2eb7c-1eaf-4266-88c6-d6cfbd3db40a",
        "source": "NCBIGene:960",
        "target": "NCBIGene:7157"
       },
       "selectable": false
      }
     },
     "3055bafdee574c5aa3cd886a2dadf7f4": {
      "model_module": "jupyter-cytoscape",
      "model_module_version": "^1.3.3",
      "model_name": "NodeModel",
      "state": {
       "_model_module_version": "^1.3.3",
       "_view_module_version": "^1.3.3",
       "data": {
        "id": "PUBCHEM.COMPOUND:49846579"
       },
       "grabbable": true,
       "grabbed": false,
       "position": {
        "x": 644.6036733504761,
        "y": 165.28735915825098
       },
       "selectable": false
      }
     },
     "30de93f556b84c6b9833bfb32e12e1e1": {
      "model_module": "@jupyter-widgets/base",
      "model_module_version": "2.0.0",
      "model_name": "LayoutModel",
      "state": {}
     },
     "32316e2c0355460aaaa13aab8b5a0076": {
      "model_module": "jupyter-cytoscape",
      "model_module_version": "^1.3.3",
      "model_name": "EdgeModel",
      "state": {
       "_model_module_version": "^1.3.3",
       "_view_module_version": "^1.3.3",
       "data": {
        "Predicate": "biolink:occurs_together_in_literature_with",
        "id": "4f7a5020-cbd2-4aa1-8150-918889704de6",
        "source": "PUBCHEM.COMPOUND:49846579",
        "target": "NCBIGene:7157"
       },
       "selectable": false
      }
     },
     "334a0b57792d49b19d1a6e971b754982": {
      "model_module": "jupyter-cytoscape",
      "model_module_version": "^1.3.3",
      "model_name": "GraphModel",
      "state": {
       "_adj": {
        "NCBIGene:7157": {},
        "NCBIGene:960": {},
        "PUBCHEM.COMPOUND:49846579": {}
       },
       "_model_module_version": "^1.3.3",
       "_view_module": "jupyter-cytoscape",
       "_view_module_version": "^1.3.3",
       "edges": [
        "IPY_MODEL_a59c26bf108c4f9583379e0c045c1e93",
        "IPY_MODEL_1031f8c74a47437d81cdd445d896b9a9",
        "IPY_MODEL_a1fbdd812c33426bb1ed96070b311b08",
        "IPY_MODEL_b8d114aa90d648d09d096ddda86e9b47",
        "IPY_MODEL_bf666c7bfb054c30abae270d78128c3d",
        "IPY_MODEL_e14ab6c482694908b223e3ff25b76511",
        "IPY_MODEL_dcd74a42700f411caf1c6eff6e0063a0"
       ],
       "nodes": [
        "IPY_MODEL_3055bafdee574c5aa3cd886a2dadf7f4",
        "IPY_MODEL_bdd791d5c9af48968dbfb2ed59be833c",
        "IPY_MODEL_1c18fda728864bfdb21b29c93b1ad8c2"
       ]
      }
     },
     "3522b69eadc641708db1d1ae27943489": {
      "model_module": "jupyter-cytoscape",
      "model_module_version": "^1.3.3",
      "model_name": "EdgeModel",
      "state": {
       "_model_module_version": "^1.3.3",
       "_view_module_version": "^1.3.3",
       "classes": " multiple_edges ",
       "data": {
        "Infores": "infores:lincs",
        "Predicate": "biolink:regulates",
        "id": "129feee3-ec44-4664-905c-93f1c6839505",
        "source": "NCBIGene:7157",
        "target": "NCBIGene:960"
       },
       "selectable": false
      }
     },
     "35f91788d6744c8190669b35dec5af9a": {
      "model_module": "jupyter-cytoscape",
      "model_module_version": "^1.3.3",
      "model_name": "NodeModel",
      "state": {
       "_model_module_version": "^1.3.3",
       "_view_module_version": "^1.3.3",
       "data": {
        "id": "NCBIGene:960"
       },
       "grabbable": true,
       "grabbed": false,
       "position": {
        "x": 414.94355385697014,
        "y": 355.287360158251
       },
       "selectable": false
      }
     },
     "361841b31c3b43b1b51a0ebd13230ffe": {
      "model_module": "jupyter-cytoscape",
      "model_module_version": "^1.3.3",
      "model_name": "EdgeModel",
      "state": {
       "_model_module_version": "^1.3.3",
       "_view_module_version": "^1.3.3",
       "classes": " multiple_edges ",
       "data": {
        "Predicate": "biolink:interacts_with",
        "id": "068e1999-e04b-43f3-ace4-ddbe2699b5d0",
        "source": "PUBCHEM.COMPOUND:49846579",
        "target": "NCBIGene:7157"
       },
       "selectable": false
      }
     },
     "3a28effcdb0d4a37a453b204df19611f": {
      "model_module": "jupyter-cytoscape",
      "model_module_version": "^1.3.3",
      "model_name": "GraphModel",
      "state": {
       "_adj": {},
       "_model_module_version": "^1.3.3",
       "_view_module": "jupyter-cytoscape",
       "_view_module_version": "^1.3.3"
      }
     },
     "3cc239fff7224c55b997c0b93a13b1c8": {
      "model_module": "jupyter-cytoscape",
      "model_module_version": "^1.3.3",
      "model_name": "NodeModel",
      "state": {
       "_model_module_version": "^1.3.3",
       "_view_module_version": "^1.3.3",
       "data": {
        "id": "NCBIGene:960"
       },
       "grabbable": true,
       "grabbed": false,
       "position": {
        "x": 208.3468279928001,
        "y": 193.32128587449404
       },
       "selectable": false
      }
     },
     "3d24f5f7bdbb4956972fc261c239c949": {
      "model_module": "jupyter-cytoscape",
      "model_module_version": "^1.3.3",
      "model_name": "EdgeModel",
      "state": {
       "_model_module_version": "^1.3.3",
       "_view_module_version": "^1.3.3",
       "classes": " directed  multiple_edges ",
       "data": {
        "Predicate": "biolink:regulated_by",
        "id": "316a3a54-f30f-4331-a5a5-e28a19f5e6d0",
        "source": "NCBIGene:960",
        "target": "NCBIGene:7157"
       },
       "selectable": false
      }
     },
     "3ea1a11772404319ab7ac98224f4453d": {
      "model_module": "jupyter-cytoscape",
      "model_module_version": "^1.3.3",
      "model_name": "NodeModel",
      "state": {
       "_model_module_version": "^1.3.3",
       "_view_module_version": "^1.3.3",
       "data": {
        "id": "NCBIGene:7157"
       },
       "grabbable": true,
       "grabbed": false,
       "position": {
        "x": 414.60367235047624,
        "y": 165.28735915825098
       },
       "selectable": false
      }
     },
     "3fa7e5ef40a44e23972a4cd0e40f816c": {
      "model_module": "jupyter-cytoscape",
      "model_module_version": "^1.3.3",
      "model_name": "GraphModel",
      "state": {
       "_adj": {},
       "_model_module_version": "^1.3.3",
       "_view_module": "jupyter-cytoscape",
       "_view_module_version": "^1.3.3"
      }
     },
     "413448b015ae4ae88e726d61a63ca6ba": {
      "model_module": "jupyter-cytoscape",
      "model_module_version": "^1.3.3",
      "model_name": "EdgeModel",
      "state": {
       "_model_module_version": "^1.3.3",
       "_view_module_version": "^1.3.3",
       "classes": " directed  multiple_edges ",
       "data": {
        "Predicate": "biolink:regulates",
        "id": "570f73c2-9046-45b3-b585-68054154781b",
        "source": "NCBIGene:960",
        "target": "NCBIGene:7157"
       },
       "selectable": false
      }
     },
     "4291409a58c0445fa233c0fb35104a97": {
      "model_module": "jupyter-cytoscape",
      "model_module_version": "^1.3.3",
      "model_name": "EdgeModel",
      "state": {
       "_model_module_version": "^1.3.3",
       "_view_module_version": "^1.3.3",
       "classes": " directed  multiple_edges ",
       "data": {
        "Predicate": "biolink:interacts_with",
        "id": "d0023caf-8842-4c4b-87e3-ab086e93b303",
        "source": "NCBIGene:960",
        "target": "NCBIGene:7157"
       },
       "selectable": false
      }
     },
     "42f4bd6251cb4265bcd2c39a7b5b5ea9": {
      "model_module": "jupyter-cytoscape",
      "model_module_version": "^1.3.3",
      "model_name": "GraphModel",
      "state": {
       "_adj": {},
       "_model_module_version": "^1.3.3",
       "_view_module": "jupyter-cytoscape",
       "_view_module_version": "^1.3.3"
      }
     },
     "4554c247ca004ccaa57e880f78a4862f": {
      "model_module": "@jupyter-widgets/base",
      "model_module_version": "2.0.0",
      "model_name": "LayoutModel",
      "state": {}
     },
     "4699e166626d4241b8daea373d36b67b": {
      "model_module": "jupyter-cytoscape",
      "model_module_version": "^1.3.3",
      "model_name": "GraphModel",
      "state": {
       "_adj": {
        "NCBIGene:7157": {},
        "NCBIGene:960": {},
        "PUBCHEM.COMPOUND:49846579": {}
       },
       "_model_module_version": "^1.3.3",
       "_view_module": "jupyter-cytoscape",
       "_view_module_version": "^1.3.3",
       "edges": [
        "IPY_MODEL_d3a398fa0dce4bdba4ef8d95497e2918",
        "IPY_MODEL_bbe88dd3036c4dbd8862b256c467c53c",
        "IPY_MODEL_b0e125baed5b4c8e9bca7905700969e1",
        "IPY_MODEL_ab26fd49df4049fe84961ca4037328bd",
        "IPY_MODEL_9b70dec40d5b4d53800bf84acee30cf7",
        "IPY_MODEL_f5138696adf24e98b488d9273481f8d1",
        "IPY_MODEL_c6050d2a098c4ddba46e87473db83233"
       ],
       "nodes": [
        "IPY_MODEL_18181f99b48f4cc88d85dbfa6690e6da",
        "IPY_MODEL_1007317bd8694035bae3651fa79365ad",
        "IPY_MODEL_c5c4669d4c2648beb3b52d33e4720b85"
       ]
      }
     },
     "471fb5aa54eb44328823170b52a55d4c": {
      "model_module": "jupyter-cytoscape",
      "model_module_version": "^1.3.3",
      "model_name": "NodeModel",
      "state": {
       "_model_module_version": "^1.3.3",
       "_view_module_version": "^1.3.3",
       "data": {
        "id": "NCBIGene:960"
       },
       "grabbable": true,
       "grabbed": false,
       "position": {
        "x": 414.94355385697014,
        "y": 355.287360158251
       },
       "selectable": false
      }
     },
     "4ace3c5145844ca29507066102ec4f2f": {
      "model_module": "jupyter-cytoscape",
      "model_module_version": "^1.3.3",
      "model_name": "EdgeModel",
      "state": {
       "_model_module_version": "^1.3.3",
       "_view_module_version": "^1.3.3",
       "classes": " directed  multiple_edges ",
       "data": {
        "Predicate": "biolink:regulates",
        "id": "8efaf714-4bbf-42a8-ae8b-11b55b2dbbd1",
        "source": "NCBIGene:960",
        "target": "NCBIGene:7157"
       },
       "selectable": false
      }
     },
     "4e3dbe7b71294dd1a1a00f7633566232": {
      "model_module": "jupyter-cytoscape",
      "model_module_version": "^1.3.3",
      "model_name": "EdgeModel",
      "state": {
       "_model_module_version": "^1.3.3",
       "_view_module_version": "^1.3.3",
       "data": {
        "Predicate": "biolink:interacts_with",
        "id": "9c8dce25-4e42-4abb-8725-346a906d50eb",
        "source": "NCBIGene:7157",
        "target": "NCBIGene:960"
       },
       "selectable": false
      }
     },
     "4f81050a296e4699b6e6ce3fb5cc08c8": {
      "model_module": "jupyter-cytoscape",
      "model_module_version": "^1.3.3",
      "model_name": "EdgeModel",
      "state": {
       "_model_module_version": "^1.3.3",
       "_view_module_version": "^1.3.3",
       "classes": " multiple_edges ",
       "data": {
        "Predicate": "biolink:occurs_together_in_literature_with",
        "id": "690ce4f5-f558-4f41-b445-f681bd82690c",
        "source": "PUBCHEM.COMPOUND:49846579",
        "target": "NCBIGene:7157"
       },
       "selectable": false
      }
     },
     "51d3b606c16e4d50b84600175a9d447b": {
      "model_module": "jupyter-cytoscape",
      "model_module_version": "^1.3.3",
      "model_name": "GraphModel",
      "state": {
       "_adj": {},
       "_model_module_version": "^1.3.3",
       "_view_module": "jupyter-cytoscape",
       "_view_module_version": "^1.3.3"
      }
     },
     "5374de1a82c047c091c355b69099315d": {
      "model_module": "jupyter-cytoscape",
      "model_module_version": "^1.3.3",
      "model_name": "GraphModel",
      "state": {
       "_adj": {},
       "_model_module_version": "^1.3.3",
       "_view_module": "jupyter-cytoscape",
       "_view_module_version": "^1.3.3"
      }
     },
     "53fb90ae34454ad69b9842998ad6955d": {
      "model_module": "jupyter-cytoscape",
      "model_module_version": "^1.3.3",
      "model_name": "NodeModel",
      "state": {
       "_model_module_version": "^1.3.3",
       "_view_module_version": "^1.3.3",
       "data": {
        "id": "PUBCHEM.COMPOUND:49846579"
       },
       "grabbable": true,
       "grabbed": false,
       "position": {
        "x": 802.2506523199997,
        "y": 161.68811306305636
       },
       "selectable": false
      }
     },
     "5796db00293c46c2a22e30c90fe8bed9": {
      "model_module": "jupyter-cytoscape",
      "model_module_version": "^1.3.3",
      "model_name": "EdgeModel",
      "state": {
       "_model_module_version": "^1.3.3",
       "_view_module_version": "^1.3.3",
       "classes": " directed  multiple_edges ",
       "data": {
        "Predicate": "biolink:regulates",
        "id": "f225dc99-5c8c-4443-af7f-c7ab363ef298",
        "source": "NCBIGene:960",
        "target": "NCBIGene:7157"
       },
       "selectable": false
      }
     },
     "5879c0f464914041b1001a7da2c77a7a": {
      "model_module": "jupyter-cytoscape",
      "model_module_version": "^1.3.3",
      "model_name": "EdgeModel",
      "state": {
       "_model_module_version": "^1.3.3",
       "_view_module_version": "^1.3.3",
       "classes": " directed  multiple_edges ",
       "data": {
        "Predicate": "biolink:occurs_together_in_literature_with",
        "id": "b8323459-a0e1-4072-a14d-727b4dd8f64b",
        "source": "PUBCHEM.COMPOUND:49846579",
        "target": "NCBIGene:7157"
       },
       "selectable": false
      }
     },
     "59516364a64742c694c24b9cd96f39c3": {
      "model_module": "jupyter-cytoscape",
      "model_module_version": "^1.3.3",
      "model_name": "EdgeModel",
      "state": {
       "_model_module_version": "^1.3.3",
       "_view_module_version": "^1.3.3",
       "data": {
        "Predicate": "biolink:interacts_with",
        "id": "f5070891-02ab-432c-95c8-8c59676e0cf7",
        "source": "NCBIGene:7157",
        "target": "NCBIGene:960"
       },
       "selectable": false
      }
     },
     "59601258457a461f92c82ddec3660e89": {
      "model_module": "jupyter-cytoscape",
      "model_module_version": "^1.3.3",
      "model_name": "NodeModel",
      "state": {
       "_model_module_version": "^1.3.3",
       "_view_module_version": "^1.3.3",
       "data": {
        "id": "NCBIGene:7157"
       },
       "grabbable": true,
       "grabbed": false,
       "position": {
        "x": 414.60367235047624,
        "y": 165.28735915825098
       },
       "selectable": false
      }
     },
     "59e24b44e5d54d2b8a1c81e66f13feec": {
      "model_module": "jupyter-cytoscape",
      "model_module_version": "^1.3.3",
      "model_name": "NodeModel",
      "state": {
       "_model_module_version": "^1.3.3",
       "_view_module_version": "^1.3.3",
       "data": {
        "id": "NCBIGene:960"
       },
       "grabbable": true,
       "grabbed": false,
       "position": {
        "x": 226.61675821818164,
        "y": 205.75447373344514
       },
       "selectable": false
      }
     },
     "5bc029eaa92147768b24b0ff9e23c4aa": {
      "model_module": "jupyter-cytoscape",
      "model_module_version": "^1.3.3",
      "model_name": "EdgeModel",
      "state": {
       "_model_module_version": "^1.3.3",
       "_view_module_version": "^1.3.3",
       "classes": " directed  multiple_edges ",
       "data": {
        "Predicate": "biolink:interacts_with",
        "id": "d91f558e-ad27-4e7f-80b8-110bb5bbe3b9",
        "source": "PUBCHEM.COMPOUND:49846579",
        "target": "NCBIGene:7157"
       },
       "selectable": false
      }
     },
     "5e9bdb47f4654ac7b15f2bf085c59f4b": {
      "model_module": "jupyter-cytoscape",
      "model_module_version": "^1.3.3",
      "model_name": "NodeModel",
      "state": {
       "_model_module_version": "^1.3.3",
       "_view_module_version": "^1.3.3",
       "data": {
        "id": "NCBIGene:7157"
       },
       "grabbable": true,
       "grabbed": false,
       "position": {
        "x": 427.93500290578476,
        "y": 165.28735915825098
       },
       "selectable": false
      }
     },
     "60725604a80a42cc83a148e99ada841e": {
      "model_module": "jupyter-cytoscape",
      "model_module_version": "^1.3.3",
      "model_name": "EdgeModel",
      "state": {
       "_model_module_version": "^1.3.3",
       "_view_module_version": "^1.3.3",
       "classes": " multiple_edges ",
       "data": {
        "Infores": "infores:text-mining-provider-targeted",
        "Predicate": "biolink:regulated_by",
        "id": "4e8f8c8a-e8bd-4e18-97be-fc2b08d50cd4",
        "source": "NCBIGene:7157",
        "target": "NCBIGene:960"
       },
       "selectable": false
      }
     },
     "612c8bf2628d4dc9be5a9726444ce20a": {
      "model_module": "jupyter-cytoscape",
      "model_module_version": "^1.3.3",
      "model_name": "EdgeModel",
      "state": {
       "_model_module_version": "^1.3.3",
       "_view_module_version": "^1.3.3",
       "classes": " multiple_edges ",
       "data": {
        "Predicate": "biolink:interacts_with",
        "id": "fcc65d9c-625c-4628-b704-c2e5f11a1d48",
        "source": "NCBIGene:7157",
        "target": "NCBIGene:960"
       },
       "selectable": false
      }
     },
     "61a5e6e2f85342ef8e52e641a2dffa72": {
      "model_module": "jupyter-cytoscape",
      "model_module_version": "^1.3.3",
      "model_name": "GraphModel",
      "state": {
       "_adj": {
        "NCBIGene:7157": {},
        "NCBIGene:960": {},
        "PUBCHEM.COMPOUND:49846579": {}
       },
       "_model_module_version": "^1.3.3",
       "_view_module": "jupyter-cytoscape",
       "_view_module_version": "^1.3.3",
       "edges": [
        "IPY_MODEL_f427e0222cc246f489c8978b7fe6dde1",
        "IPY_MODEL_5bc029eaa92147768b24b0ff9e23c4aa",
        "IPY_MODEL_d44e174d3917488db38fc436f4cd60b1",
        "IPY_MODEL_d77a562672b44751b7bf100b7624a1b4",
        "IPY_MODEL_edebde92f88e48338908016861330509",
        "IPY_MODEL_4ace3c5145844ca29507066102ec4f2f",
        "IPY_MODEL_9f8c7d17e04347a9ab78a4752861b564"
       ],
       "nodes": [
        "IPY_MODEL_be36998f1ae24f91af4ee669b0035294",
        "IPY_MODEL_59601258457a461f92c82ddec3660e89",
        "IPY_MODEL_f75e48f030d944ee8656e88b28c12a78"
       ]
      }
     },
     "626712a1d4e54609a32756eb91472945": {
      "model_module": "jupyter-cytoscape",
      "model_module_version": "^1.3.3",
      "model_name": "GraphModel",
      "state": {
       "_adj": {},
       "_model_module_version": "^1.3.3",
       "_view_module": "jupyter-cytoscape",
       "_view_module_version": "^1.3.3"
      }
     },
     "657aa3f68a1c440284779f57016638c2": {
      "model_module": "jupyter-cytoscape",
      "model_module_version": "^1.3.3",
      "model_name": "GraphModel",
      "state": {
       "_adj": {},
       "_model_module_version": "^1.3.3",
       "_view_module": "jupyter-cytoscape",
       "_view_module_version": "^1.3.3"
      }
     },
     "66f14e77e04f4daabc0265cae7e7a7c4": {
      "model_module": "jupyter-cytoscape",
      "model_module_version": "^1.3.3",
      "model_name": "EdgeModel",
      "state": {
       "_model_module_version": "^1.3.3",
       "_view_module_version": "^1.3.3",
       "classes": " directed  multiple_edges ",
       "data": {
        "Predicate": "biolink:interacts_with",
        "id": "62db19c6-d616-4b1b-9bf0-08d05ec8f1a9",
        "source": "NCBIGene:960",
        "target": "NCBIGene:7157"
       },
       "selectable": false
      }
     },
     "6ae1c232a12c4e3e91a167984ca896d1": {
      "model_module": "jupyter-cytoscape",
      "model_module_version": "^1.3.3",
      "model_name": "NodeModel",
      "state": {
       "_model_module_version": "^1.3.3",
       "_view_module_version": "^1.3.3",
       "data": {
        "id": "NCBIGene:960"
       },
       "grabbable": true,
       "grabbed": false,
       "position": {
        "x": 428.280892746353,
        "y": 355.287360158251
       },
       "selectable": false
      }
     },
     "6b2f957739194720a28b8e5f1df11549": {
      "model_module": "jupyter-cytoscape",
      "model_module_version": "^1.3.3",
      "model_name": "CytoscapeModel",
      "state": {
       "_interaction_handlers": {},
       "_model_module_version": "^1.3.3",
       "_view_module_version": "^1.3.3",
       "auto_ungrabify": false,
       "autolock": false,
       "cytoscape_layout": {
        "edgeLengthVal": 50,
        "name": "cola",
        "nodeSpacing": 80,
        "title": "high_proteins"
       },
       "cytoscape_style": [
        {
         "selector": "node[id]",
         "style": {
          "font-family": "helvetica",
          "font-size": "20px",
          "label": "data(id)",
          "text-valign": "top"
         }
        },
        {
         "selector": "node",
         "style": {
          "background-color": "lightblue",
          "shape": "round-rectangle"
         }
        },
        {
         "selector": "node[in_query=1]",
         "style": {
          "border-color": "red",
          "border-width": "5px"
         }
        },
        {
         "selector": "edge[type]",
         "style": {
          "label": "data(type)"
         }
        },
        {
         "selector": "edge.directed",
         "style": {
          "curve-style": "bezier",
          "target-arrow-shape": "triangle"
         }
        }
       ],
       "desktop_tap_threshold": 4,
       "graph": "IPY_MODEL_1386c83608b54d5a90e2bc3c9a832be7",
       "headless": false,
       "hide_edges_on_viewport": false,
       "layout": "IPY_MODEL_4554c247ca004ccaa57e880f78a4862f",
       "max_zoom": 1e+50,
       "min_zoom": 1e-50,
       "motion_blur": false,
       "motion_blur_opacity": 0.2,
       "panning_enabled": true,
       "pixel_ratio": "auto",
       "rendered_position": {
        "renderedPosition": {
         "x": 100,
         "y": 100
        }
       },
       "selection_type": "single",
       "style_enabled": true,
       "texture_on_viewport": false,
       "tooltip_source": "tooltip",
       "touch_tap_threshold": 8,
       "user_panning_enabled": true,
       "user_zooming_enabled": true,
       "wheel_sensitivity": 1,
       "zoom": 2,
       "zooming_enabled": true
      }
     },
     "6c638ff9650c4dc09ee075752d868d52": {
      "model_module": "@jupyter-widgets/base",
      "model_module_version": "2.0.0",
      "model_name": "LayoutModel",
      "state": {}
     },
     "6d635f6d504243ee80ec1e32c27babf1": {
      "model_module": "jupyter-cytoscape",
      "model_module_version": "^1.3.3",
      "model_name": "NodeModel",
      "state": {
       "_model_module_version": "^1.3.3",
       "_view_module_version": "^1.3.3",
       "data": {
        "id": "NCBIGene:960"
       },
       "grabbable": true,
       "grabbed": false,
       "position": {
        "x": 428.280892746353,
        "y": 355.287360158251
       },
       "selectable": false
      }
     },
     "7713007c561b45a3ab94d4f60abbf847": {
      "model_module": "jupyter-cytoscape",
      "model_module_version": "^1.3.3",
      "model_name": "CytoscapeModel",
      "state": {
       "_interaction_handlers": {},
       "_model_module_version": "^1.3.3",
       "_view_module_version": "^1.3.3",
       "auto_ungrabify": false,
       "autolock": false,
       "cytoscape_layout": {
        "edgeLengthVal": 50,
        "name": "cola",
        "nodeSpacing": 80,
        "title": "high_proteins"
       },
       "cytoscape_style": [
        {
         "selector": "node[id]",
         "style": {
          "font-family": "helvetica",
          "font-size": "14px",
          "label": "data(id)",
          "text-valign": "center"
         }
        },
        {
         "selector": "node",
         "style": {
          "background-color": "lightblue",
          "shape": "round-rectangle",
          "width": "5em"
         }
        },
        {
         "selector": "edge[Infores]",
         "style": {
          "font-size": "12px",
          "label": "data(Infores)"
         }
        },
        {
         "selector": "edge.directed",
         "style": {
          "curve-style": "bezier",
          "target-arrow-shape": "triangle"
         }
        },
        {
         "selector": "edge",
         "style": {
          "curve-style": "bezier"
         }
        }
       ],
       "desktop_tap_threshold": 4,
       "graph": "IPY_MODEL_a84315d8099a4bf3bd2fbf09822dbae8",
       "headless": false,
       "hide_edges_on_viewport": false,
       "layout": "IPY_MODEL_bd55173efc6e42b48eb1ef4cfec44b51",
       "max_zoom": 1e+50,
       "min_zoom": 1e-50,
       "motion_blur": false,
       "motion_blur_opacity": 0.2,
       "panning_enabled": true,
       "pixel_ratio": "auto",
       "rendered_position": {
        "renderedPosition": {
         "x": 100,
         "y": 100
        }
       },
       "selection_type": "single",
       "style_enabled": true,
       "texture_on_viewport": false,
       "tooltip_source": "tooltip",
       "touch_tap_threshold": 8,
       "user_panning_enabled": true,
       "user_zooming_enabled": true,
       "wheel_sensitivity": 1,
       "zoom": 2,
       "zooming_enabled": true
      }
     },
     "782b84c553d24cd896003dfe1c6b0ad1": {
      "model_module": "jupyter-cytoscape",
      "model_module_version": "^1.3.3",
      "model_name": "EdgeModel",
      "state": {
       "_model_module_version": "^1.3.3",
       "_view_module_version": "^1.3.3",
       "classes": " directed  multiple_edges ",
       "data": {
        "Predicate": "biolink:occurs_together_in_literature_with",
        "id": "1c2709eb-f9b9-4a4f-96b3-2fbad47d72af",
        "source": "PUBCHEM.COMPOUND:49846579",
        "target": "NCBIGene:7157"
       },
       "selectable": false
      }
     },
     "7997fe910d924abf89501ff5fc9ec271": {
      "model_module": "@jupyter-widgets/base",
      "model_module_version": "2.0.0",
      "model_name": "LayoutModel",
      "state": {}
     },
     "7ce94a95a5ab4166a300fa6b8ff26451": {
      "model_module": "jupyter-cytoscape",
      "model_module_version": "^1.3.3",
      "model_name": "CytoscapeModel",
      "state": {
       "_interaction_handlers": {},
       "_model_module_version": "^1.3.3",
       "_view_module_version": "^1.3.3",
       "auto_ungrabify": false,
       "autolock": false,
       "cytoscape_layout": {
        "edgeLengthVal": 50,
        "name": "cola",
        "nodeSpacing": 80,
        "title": "high_proteins"
       },
       "cytoscape_style": [
        {
         "selector": "node[id]",
         "style": {
          "font-family": "helvetica",
          "font-size": "20px",
          "label": "data(id)",
          "text-valign": "center"
         }
        },
        {
         "selector": "node",
         "style": {
          "background-color": "lightblue",
          "shape": "round-rectangle",
          "width": "5em"
         }
        },
        {
         "selector": "edge[Predicate]",
         "style": {
          "label": "data(Predicate)"
         }
        },
        {
         "selector": "edge.directed",
         "style": {
          "curve-style": "bezier",
          "target-arrow-shape": "triangle"
         }
        }
       ],
       "desktop_tap_threshold": 4,
       "graph": "IPY_MODEL_ffbe078f791f49a7a8939ec174be82f9",
       "headless": false,
       "hide_edges_on_viewport": false,
       "layout": "IPY_MODEL_1bfd3e3f3e0247469fb39f424c4eb921",
       "max_zoom": 1e+50,
       "min_zoom": 1e-50,
       "motion_blur": false,
       "motion_blur_opacity": 0.2,
       "panning_enabled": true,
       "pixel_ratio": "auto",
       "rendered_position": {
        "renderedPosition": {
         "x": 100,
         "y": 100
        }
       },
       "selection_type": "single",
       "style_enabled": true,
       "texture_on_viewport": false,
       "tooltip_source": "tooltip",
       "touch_tap_threshold": 8,
       "user_panning_enabled": true,
       "user_zooming_enabled": true,
       "wheel_sensitivity": 1,
       "zoom": 2,
       "zooming_enabled": true
      }
     },
     "80c9709c7fbb4d18a4b72ada191e6916": {
      "model_module": "jupyter-cytoscape",
      "model_module_version": "^1.3.3",
      "model_name": "EdgeModel",
      "state": {
       "_model_module_version": "^1.3.3",
       "_view_module_version": "^1.3.3",
       "classes": " multiple_edges ",
       "data": {
        "Predicate": "biolink:regulates",
        "id": "c65636ae-acd0-486c-a9c7-2de7ae6ca2fe",
        "source": "NCBIGene:7157",
        "target": "NCBIGene:960"
       },
       "selectable": false
      }
     },
     "812f8ce6d356481f9678337dc6f55a94": {
      "model_module": "jupyter-cytoscape",
      "model_module_version": "^1.3.3",
      "model_name": "NodeModel",
      "state": {
       "_model_module_version": "^1.3.3",
       "_view_module_version": "^1.3.3",
       "data": {
        "id": "PUBCHEM.COMPOUND:49846579"
       },
       "grabbable": true,
       "grabbed": false,
       "position": {
        "x": 617.9350039057847,
        "y": 165.28735915825098
       },
       "selectable": false
      }
     },
     "8240c52100d34f4fa8f2fcdbce2be562": {
      "model_module": "jupyter-cytoscape",
      "model_module_version": "^1.3.3",
      "model_name": "CytoscapeModel",
      "state": {
       "_interaction_handlers": {},
       "_model_module_version": "^1.3.3",
       "_view_module_version": "^1.3.3",
       "auto_ungrabify": false,
       "autolock": false,
       "cytoscape_layout": {
        "edgeLengthVal": 50,
        "name": "cola",
        "nodeSpacing": 80,
        "title": "high_proteins"
       },
       "cytoscape_style": [
        {
         "selector": "node[id]",
         "style": {
          "font-family": "helvetica",
          "font-size": "20px",
          "label": "data(id)",
          "text-valign": "center"
         }
        },
        {
         "selector": "node",
         "style": {
          "background-color": "lightblue",
          "shape": "round-rectangle",
          "width": "5em"
         }
        },
        {
         "selector": "node[in_query=1]",
         "style": {
          "border-color": "red",
          "border-width": "5px"
         }
        },
        {
         "selector": "edge[type]",
         "style": {
          "label": "data(type)"
         }
        },
        {
         "selector": "edge.directed",
         "style": {
          "curve-style": "bezier",
          "target-arrow-shape": "triangle"
         }
        }
       ],
       "desktop_tap_threshold": 4,
       "graph": "IPY_MODEL_1b28ad01c4c24a9883447ba824b12980",
       "headless": false,
       "hide_edges_on_viewport": false,
       "layout": "IPY_MODEL_7997fe910d924abf89501ff5fc9ec271",
       "max_zoom": 1e+50,
       "min_zoom": 1e-50,
       "motion_blur": false,
       "motion_blur_opacity": 0.2,
       "panning_enabled": true,
       "pixel_ratio": "auto",
       "rendered_position": {
        "renderedPosition": {
         "x": 100,
         "y": 100
        }
       },
       "selection_type": "single",
       "style_enabled": true,
       "texture_on_viewport": false,
       "tooltip_source": "tooltip",
       "touch_tap_threshold": 8,
       "user_panning_enabled": true,
       "user_zooming_enabled": true,
       "wheel_sensitivity": 1,
       "zoom": 2,
       "zooming_enabled": true
      }
     },
     "8353468fa5ca464883e6bc29379280df": {
      "model_module": "jupyter-cytoscape",
      "model_module_version": "^1.3.3",
      "model_name": "EdgeModel",
      "state": {
       "_model_module_version": "^1.3.3",
       "_view_module_version": "^1.3.3",
       "classes": " directed  multiple_edges ",
       "data": {
        "Predicate": "biolink:interacts_with",
        "id": "d7e8cf3c-5e34-40a9-9425-c1b512e742cf",
        "source": "PUBCHEM.COMPOUND:49846579",
        "target": "NCBIGene:7157"
       },
       "selectable": false
      }
     },
     "8376ad4297d6438494f9f4010a75a067": {
      "model_module": "jupyter-cytoscape",
      "model_module_version": "^1.3.3",
      "model_name": "EdgeModel",
      "state": {
       "_model_module_version": "^1.3.3",
       "_view_module_version": "^1.3.3",
       "data": {
        "Predicate": "biolink:occurs_together_in_literature_with",
        "id": "8418e86a-0dda-4cb2-aeb7-3e5e16fa9f97",
        "source": "PUBCHEM.COMPOUND:49846579",
        "target": "NCBIGene:7157"
       },
       "selectable": false
      }
     },
     "8518ed1d7e7d4d1d87825514a122ce75": {
      "model_module": "jupyter-cytoscape",
      "model_module_version": "^1.3.3",
      "model_name": "EdgeModel",
      "state": {
       "_model_module_version": "^1.3.3",
       "_view_module_version": "^1.3.3",
       "classes": " multiple_edges ",
       "data": {
        "Predicate": "biolink:interacts_with",
        "id": "f67dbc5c-172a-4730-b58c-f245c1a7af44",
        "source": "NCBIGene:7157",
        "target": "NCBIGene:960"
       },
       "selectable": false
      }
     },
     "87245697faaa4b18a876f9a43959dcb7": {
      "model_module": "jupyter-cytoscape",
      "model_module_version": "^1.3.3",
      "model_name": "GraphModel",
      "state": {
       "_adj": {},
       "_model_module_version": "^1.3.3",
       "_view_module": "jupyter-cytoscape",
       "_view_module_version": "^1.3.3"
      }
     },
     "87572469fd1c4f76a0bde6d8b7743469": {
      "model_module": "jupyter-cytoscape",
      "model_module_version": "^1.3.3",
      "model_name": "GraphModel",
      "state": {
       "_adj": {},
       "_model_module_version": "^1.3.3",
       "_view_module": "jupyter-cytoscape",
       "_view_module_version": "^1.3.3"
      }
     },
     "88544a1689ba4751a24616dd42df426a": {
      "model_module": "jupyter-cytoscape",
      "model_module_version": "^1.3.3",
      "model_name": "EdgeModel",
      "state": {
       "_model_module_version": "^1.3.3",
       "_view_module_version": "^1.3.3",
       "classes": " directed  multiple_edges ",
       "data": {
        "Predicate": "biolink:occurs_together_in_literature_with",
        "id": "1d6c776f-b7ce-42a8-bfb3-13aec431054a",
        "source": "PUBCHEM.COMPOUND:49846579",
        "target": "NCBIGene:7157"
       },
       "selectable": false
      }
     },
     "89ec1b5d74684c0badb4c894a6add443": {
      "model_module": "jupyter-cytoscape",
      "model_module_version": "^1.3.3",
      "model_name": "EdgeModel",
      "state": {
       "_model_module_version": "^1.3.3",
       "_view_module_version": "^1.3.3",
       "classes": " multiple_edges ",
       "data": {
        "Predicate": "biolink:interacts_with",
        "id": "f34bc9d8-77a6-4993-90be-73f2401c5543",
        "source": "PUBCHEM.COMPOUND:49846579",
        "target": "NCBIGene:7157"
       },
       "selectable": false
      }
     },
     "8b1236cea58f406f81aa693eacc495ae": {
      "model_module": "jupyter-cytoscape",
      "model_module_version": "^1.3.3",
      "model_name": "EdgeModel",
      "state": {
       "_model_module_version": "^1.3.3",
       "_view_module_version": "^1.3.3",
       "classes": " multiple_edges ",
       "data": {
        "Infores": "infores:text-mining-provider-targeted",
        "Predicate": "biolink:regulates",
        "id": "05ee4b55-b6e2-4770-b9c7-16ac2ce14669",
        "source": "NCBIGene:7157",
        "target": "NCBIGene:960"
       },
       "selectable": false
      }
     },
     "8c0802e536624de28d139ca8c20615e2": {
      "model_module": "jupyter-cytoscape",
      "model_module_version": "^1.3.3",
      "model_name": "NodeModel",
      "state": {
       "_model_module_version": "^1.3.3",
       "_view_module_version": "^1.3.3",
       "data": {
        "id": "NCBIGene:960"
       },
       "grabbable": true,
       "grabbed": false,
       "position": {
        "x": 428.280892746353,
        "y": 355.287360158251
       },
       "selectable": false
      }
     },
     "8cf57de6b92c4d7ba99850cdeaab0829": {
      "model_module": "jupyter-cytoscape",
      "model_module_version": "^1.3.3",
      "model_name": "EdgeModel",
      "state": {
       "_model_module_version": "^1.3.3",
       "_view_module_version": "^1.3.3",
       "classes": " multiple_edges ",
       "data": {
        "Infores": "infores:pfocr",
        "Predicate": "biolink:occurs_together_in_literature_with",
        "id": "8bcf447e-05ce-410b-ac3e-613afaffbc92",
        "source": "PUBCHEM.COMPOUND:49846579",
        "target": "NCBIGene:7157"
       },
       "selectable": false
      }
     },
     "8d9a9d16747945de962ba0a6c62a9215": {
      "model_module": "jupyter-cytoscape",
      "model_module_version": "^1.3.3",
      "model_name": "EdgeModel",
      "state": {
       "_model_module_version": "^1.3.3",
       "_view_module_version": "^1.3.3",
       "classes": " directed  multiple_edges ",
       "data": {
        "Predicate": "biolink:regulated_by",
        "id": "01dd8a13-fc4a-48b5-b797-30246c043ba7",
        "source": "NCBIGene:960",
        "target": "NCBIGene:7157"
       },
       "selectable": false
      }
     },
     "8e8f886e05c34ea7ab96e03ef310bfbe": {
      "model_module": "jupyter-cytoscape",
      "model_module_version": "^1.3.3",
      "model_name": "EdgeModel",
      "state": {
       "_model_module_version": "^1.3.3",
       "_view_module_version": "^1.3.3",
       "classes": " directed  multiple_edges ",
       "data": {
        "Predicate": "biolink:affects",
        "id": "2c293280-0156-4d68-9afd-91beae525f04",
        "source": "PUBCHEM.COMPOUND:49846579",
        "target": "NCBIGene:7157"
       },
       "selectable": false
      }
     },
     "900d35e214f24211bdf74cff86615b5b": {
      "model_module": "@jupyter-widgets/base",
      "model_module_version": "2.0.0",
      "model_name": "LayoutModel",
      "state": {}
     },
     "98adbfa592b44278a47fef2862a7a856": {
      "model_module": "jupyter-cytoscape",
      "model_module_version": "^1.3.3",
      "model_name": "EdgeModel",
      "state": {
       "_model_module_version": "^1.3.3",
       "_view_module_version": "^1.3.3",
       "classes": " directed  multiple_edges ",
       "data": {
        "Predicate": "biolink:regulates",
        "id": "4114b82b-78c1-4111-8e78-65e2eeb3806f",
        "source": "NCBIGene:960",
        "target": "NCBIGene:7157"
       },
       "selectable": false
      }
     },
     "98db3bc98b5a48308bc5af6d32f0ff24": {
      "model_module": "jupyter-cytoscape",
      "model_module_version": "^1.3.3",
      "model_name": "EdgeModel",
      "state": {
       "_model_module_version": "^1.3.3",
       "_view_module_version": "^1.3.3",
       "classes": " multiple_edges ",
       "data": {
        "Infores": "infores:automat-biolink",
        "Predicate": "biolink:interacts_with",
        "id": "ead5458e-c481-4664-9c30-05358bf6ada5",
        "source": "NCBIGene:7157",
        "target": "NCBIGene:960"
       },
       "selectable": false
      }
     },
     "99229ab5c8cb4a9891d45297e2bbbe98": {
      "model_module": "jupyter-cytoscape",
      "model_module_version": "^1.3.3",
      "model_name": "EdgeModel",
      "state": {
       "_model_module_version": "^1.3.3",
       "_view_module_version": "^1.3.3",
       "data": {
        "Predicate": "biolink:occurs_together_in_literature_with",
        "id": "bb9c917c-ff84-4e8b-b248-3336507faa14",
        "source": "PUBCHEM.COMPOUND:49846579",
        "target": "NCBIGene:7157"
       },
       "selectable": false
      }
     },
     "9a9b57f7abc847e1adf0e60a31988dc5": {
      "model_module": "jupyter-cytoscape",
      "model_module_version": "^1.3.3",
      "model_name": "NodeModel",
      "state": {
       "_model_module_version": "^1.3.3",
       "_view_module_version": "^1.3.3",
       "data": {
        "id": "NCBIGene:7157"
       },
       "grabbable": true,
       "grabbed": false,
       "position": {
        "x": 414.60367235047624,
        "y": 165.28735915825098
       },
       "selectable": false
      }
     },
     "9b70dec40d5b4d53800bf84acee30cf7": {
      "model_module": "jupyter-cytoscape",
      "model_module_version": "^1.3.3",
      "model_name": "EdgeModel",
      "state": {
       "_model_module_version": "^1.3.3",
       "_view_module_version": "^1.3.3",
       "classes": " multiple_edges ",
       "data": {
        "Infores": "infores:text-mining-provider-targeted",
        "Predicate": "biolink:regulated_by",
        "id": "ebdd736e-dc1c-448c-8b09-41e7af82ba7e",
        "source": "NCBIGene:7157",
        "target": "NCBIGene:960"
       },
       "selectable": false
      }
     },
     "9db778fb2e3c4938a2a38862de5f0d53": {
      "model_module": "jupyter-cytoscape",
      "model_module_version": "^1.3.3",
      "model_name": "NodeModel",
      "state": {
       "_model_module_version": "^1.3.3",
       "_view_module_version": "^1.3.3",
       "data": {
        "id": "NCBIGene:960"
       },
       "grabbable": true,
       "grabbed": false,
       "position": {
        "x": 225.5230580645726,
        "y": 218.16953857718713
       },
       "selectable": false
      }
     },
     "9f8c7d17e04347a9ab78a4752861b564": {
      "model_module": "jupyter-cytoscape",
      "model_module_version": "^1.3.3",
      "model_name": "EdgeModel",
      "state": {
       "_model_module_version": "^1.3.3",
       "_view_module_version": "^1.3.3",
       "classes": " directed  multiple_edges ",
       "data": {
        "Predicate": "biolink:interacts_with",
        "id": "8aa70452-538f-422e-a8a6-b82c04b5e0fd",
        "source": "NCBIGene:960",
        "target": "NCBIGene:7157"
       },
       "selectable": false
      }
     },
     "a1fbdd812c33426bb1ed96070b311b08": {
      "model_module": "jupyter-cytoscape",
      "model_module_version": "^1.3.3",
      "model_name": "EdgeModel",
      "state": {
       "_model_module_version": "^1.3.3",
       "_view_module_version": "^1.3.3",
       "classes": " directed  multiple_edges ",
       "data": {
        "Predicate": "biolink:occurs_together_in_literature_with",
        "id": "640a8886-6a5c-4e70-8f6c-249db6e793b5",
        "source": "PUBCHEM.COMPOUND:49846579",
        "target": "NCBIGene:7157"
       },
       "selectable": false
      }
     },
     "a59c26bf108c4f9583379e0c045c1e93": {
      "model_module": "jupyter-cytoscape",
      "model_module_version": "^1.3.3",
      "model_name": "EdgeModel",
      "state": {
       "_model_module_version": "^1.3.3",
       "_view_module_version": "^1.3.3",
       "classes": " directed  multiple_edges ",
       "data": {
        "Predicate": "biolink:affects",
        "id": "06742c67-a924-453d-888b-45f58e79b21b",
        "source": "PUBCHEM.COMPOUND:49846579",
        "target": "NCBIGene:7157"
       },
       "selectable": false
      }
     },
     "a725c99d7a954338882f745a59aa7618": {
      "model_module": "jupyter-cytoscape",
      "model_module_version": "^1.3.3",
      "model_name": "NodeModel",
      "state": {
       "_model_module_version": "^1.3.3",
       "_view_module_version": "^1.3.3",
       "data": {
        "id": "PUBCHEM.COMPOUND:49846579"
       },
       "grabbable": true,
       "grabbed": false,
       "position": {
        "x": 617.9350039057847,
        "y": 165.28735915825098
       },
       "selectable": false
      }
     },
     "a819eab5283b46689bd066b1b93d081f": {
      "model_module": "@jupyter-widgets/base",
      "model_module_version": "2.0.0",
      "model_name": "LayoutModel",
      "state": {}
     },
     "a84315d8099a4bf3bd2fbf09822dbae8": {
      "model_module": "jupyter-cytoscape",
      "model_module_version": "^1.3.3",
      "model_name": "GraphModel",
      "state": {
       "_adj": {
        "NCBIGene:7157": {},
        "NCBIGene:960": {},
        "PUBCHEM.COMPOUND:49846579": {}
       },
       "_model_module_version": "^1.3.3",
       "_view_module": "jupyter-cytoscape",
       "_view_module_version": "^1.3.3",
       "edges": [
        "IPY_MODEL_d45b3c840e0f4d6fa042aaedbe1d8790",
        "IPY_MODEL_1ebaedda4a114578b26a30c4b961556b",
        "IPY_MODEL_8cf57de6b92c4d7ba99850cdeaab0829",
        "IPY_MODEL_8b1236cea58f406f81aa693eacc495ae",
        "IPY_MODEL_60725604a80a42cc83a148e99ada841e",
        "IPY_MODEL_3522b69eadc641708db1d1ae27943489",
        "IPY_MODEL_98db3bc98b5a48308bc5af6d32f0ff24"
       ],
       "nodes": [
        "IPY_MODEL_279ed520eba746da8d5317a11353a630",
        "IPY_MODEL_1477f01752284aa6b65425b1a5b4b557",
        "IPY_MODEL_d51ff25aad8b4b4e8c13d4d9bfe90e2f"
       ]
      }
     },
     "a907449da0eb493eb94aeaeb07f263cd": {
      "model_module": "jupyter-cytoscape",
      "model_module_version": "^1.3.3",
      "model_name": "NodeModel",
      "state": {
       "_model_module_version": "^1.3.3",
       "_view_module_version": "^1.3.3",
       "data": {
        "id": "PUBCHEM.COMPOUND:49846579"
       },
       "grabbable": true,
       "grabbed": false,
       "position": {
        "x": 644.6036733504761,
        "y": 165.28735915825098
       },
       "selectable": false
      }
     },
     "a9446a0db10d40b5bfc832aaa707071f": {
      "model_module": "jupyter-cytoscape",
      "model_module_version": "^1.3.3",
      "model_name": "EdgeModel",
      "state": {
       "_model_module_version": "^1.3.3",
       "_view_module_version": "^1.3.3",
       "classes": " multiple_edges ",
       "data": {
        "Predicate": "biolink:regulates",
        "id": "6021f113-c334-4686-8398-765091a54fda",
        "source": "NCBIGene:7157",
        "target": "NCBIGene:960"
       },
       "selectable": false
      }
     },
     "a9919bcdf8eb4c98a107c8d39d87a163": {
      "model_module": "jupyter-cytoscape",
      "model_module_version": "^1.3.3",
      "model_name": "GraphModel",
      "state": {
       "_adj": {},
       "_model_module_version": "^1.3.3",
       "_view_module": "jupyter-cytoscape",
       "_view_module_version": "^1.3.3"
      }
     },
     "ab26fd49df4049fe84961ca4037328bd": {
      "model_module": "jupyter-cytoscape",
      "model_module_version": "^1.3.3",
      "model_name": "EdgeModel",
      "state": {
       "_model_module_version": "^1.3.3",
       "_view_module_version": "^1.3.3",
       "classes": " multiple_edges ",
       "data": {
        "Infores": "infores:text-mining-provider-targeted",
        "Predicate": "biolink:regulates",
        "id": "c84b14f9-cdd0-4e86-bfd2-7070d1a2b4d6",
        "source": "NCBIGene:7157",
        "target": "NCBIGene:960"
       },
       "selectable": false
      }
     },
     "abec005e48aa48978128f4590b026fdf": {
      "model_module": "jupyter-cytoscape",
      "model_module_version": "^1.3.3",
      "model_name": "GraphModel",
      "state": {
       "_adj": {},
       "_model_module_version": "^1.3.3",
       "_view_module": "jupyter-cytoscape",
       "_view_module_version": "^1.3.3"
      }
     },
     "ac41e24efcc24695856ad275a3c35a46": {
      "model_module": "jupyter-cytoscape",
      "model_module_version": "^1.3.3",
      "model_name": "NodeModel",
      "state": {
       "_model_module_version": "^1.3.3",
       "_view_module_version": "^1.3.3",
       "data": {
        "id": "NCBIGene:7157"
       },
       "grabbable": true,
       "grabbed": false,
       "position": {
        "x": 427.93500290578476,
        "y": 165.28735915825098
       },
       "selectable": false
      }
     },
     "adaf2766b9cd45f984832cbb9d96e91c": {
      "model_module": "jupyter-cytoscape",
      "model_module_version": "^1.3.3",
      "model_name": "EdgeModel",
      "state": {
       "_model_module_version": "^1.3.3",
       "_view_module_version": "^1.3.3",
       "classes": " multiple_edges ",
       "data": {
        "Predicate": "biolink:regulates",
        "id": "4a6f0f69-fc3f-4b81-9117-561cc0ebaa99",
        "source": "NCBIGene:7157",
        "target": "NCBIGene:960"
       },
       "selectable": false
      }
     },
     "add09dec4fd44a0f9da4a834b85688f1": {
      "model_module": "jupyter-cytoscape",
      "model_module_version": "^1.3.3",
      "model_name": "GraphModel",
      "state": {
       "_adj": {
        "NCBIGene:7157": {},
        "NCBIGene:960": {},
        "PUBCHEM.COMPOUND:49846579": {}
       },
       "_model_module_version": "^1.3.3",
       "_view_module": "jupyter-cytoscape",
       "_view_module_version": "^1.3.3",
       "edges": [
        "IPY_MODEL_99229ab5c8cb4a9891d45297e2bbbe98",
        "IPY_MODEL_4e3dbe7b71294dd1a1a00f7633566232"
       ],
       "nodes": [
        "IPY_MODEL_12af6826cdbc4baa98e1aa04f02bd2b6",
        "IPY_MODEL_ed2809fffb004e3e88d47faf2cf8f8f2",
        "IPY_MODEL_6d635f6d504243ee80ec1e32c27babf1"
       ]
      }
     },
     "af4891d76c284e34a992e9c139ef8fcd": {
      "model_module": "jupyter-cytoscape",
      "model_module_version": "^1.3.3",
      "model_name": "CytoscapeModel",
      "state": {
       "_interaction_handlers": {},
       "_model_module_version": "^1.3.3",
       "_view_module_version": "^1.3.3",
       "auto_ungrabify": false,
       "autolock": false,
       "cytoscape_layout": {
        "name": "cola"
       },
       "cytoscape_style": [
        {
         "css": {
          "background-color": "#11479e"
         },
         "selector": "node"
        },
        {
         "css": {
          "background-opacity": 0.333
         },
         "selector": "node:parent"
        },
        {
         "selector": "edge",
         "style": {
          "line-color": "#9dbaea",
          "width": 4
         }
        },
        {
         "selector": "edge.directed",
         "style": {
          "curve-style": "bezier",
          "target-arrow-color": "#9dbaea",
          "target-arrow-shape": "triangle"
         }
        },
        {
         "selector": "edge.multiple_edges",
         "style": {
          "curve-style": "bezier"
         }
        }
       ],
       "desktop_tap_threshold": 4,
       "graph": "IPY_MODEL_5374de1a82c047c091c355b69099315d",
       "headless": false,
       "hide_edges_on_viewport": false,
       "layout": "IPY_MODEL_20860d234dd0422dbb0fbb11a9e735a9",
       "max_zoom": 1e+50,
       "min_zoom": 1e-50,
       "motion_blur": false,
       "motion_blur_opacity": 0.2,
       "panning_enabled": true,
       "pixel_ratio": "auto",
       "rendered_position": {
        "renderedPosition": {
         "x": 100,
         "y": 100
        }
       },
       "selection_type": "single",
       "style_enabled": true,
       "texture_on_viewport": false,
       "tooltip_source": "tooltip",
       "touch_tap_threshold": 8,
       "user_panning_enabled": true,
       "user_zooming_enabled": true,
       "wheel_sensitivity": 1,
       "zoom": 2,
       "zooming_enabled": true
      }
     },
     "b02e41afffe54314b93de92511ee757e": {
      "model_module": "jupyter-cytoscape",
      "model_module_version": "^1.3.3",
      "model_name": "NodeModel",
      "state": {
       "_model_module_version": "^1.3.3",
       "_view_module_version": "^1.3.3",
       "data": {
        "id": "PUBCHEM.COMPOUND:49846579"
       },
       "grabbable": true,
       "grabbed": false,
       "position": {
        "x": 644.6036733504761,
        "y": 165.28735915825098
       },
       "selectable": false
      }
     },
     "b0e125baed5b4c8e9bca7905700969e1": {
      "model_module": "jupyter-cytoscape",
      "model_module_version": "^1.3.3",
      "model_name": "EdgeModel",
      "state": {
       "_model_module_version": "^1.3.3",
       "_view_module_version": "^1.3.3",
       "classes": " multiple_edges ",
       "data": {
        "Infores": "infores:pfocr",
        "Predicate": "biolink:occurs_together_in_literature_with",
        "id": "41e172c3-0e12-4a95-a83c-10cdff315d18",
        "source": "PUBCHEM.COMPOUND:49846579",
        "target": "NCBIGene:7157"
       },
       "selectable": false
      }
     },
     "b591dcff93804e5db04e4785eb59b2b8": {
      "model_module": "jupyter-cytoscape",
      "model_module_version": "^1.3.3",
      "model_name": "EdgeModel",
      "state": {
       "_model_module_version": "^1.3.3",
       "_view_module_version": "^1.3.3",
       "classes": " multiple_edges ",
       "data": {
        "Predicate": "biolink:affects",
        "id": "a720baf0-0da6-4d4f-b568-cb5e0ab461eb",
        "source": "PUBCHEM.COMPOUND:49846579",
        "target": "NCBIGene:7157"
       },
       "selectable": false
      }
     },
     "b76381f0275642818d40a526686c06c2": {
      "model_module": "jupyter-cytoscape",
      "model_module_version": "^1.3.3",
      "model_name": "EdgeModel",
      "state": {
       "_model_module_version": "^1.3.3",
       "_view_module_version": "^1.3.3",
       "classes": " directed  multiple_edges ",
       "data": {
        "Predicate": "biolink:regulated_by",
        "id": "1c9d3e9d-b531-4410-ab77-59e2355f128b",
        "source": "NCBIGene:960",
        "target": "NCBIGene:7157"
       },
       "selectable": false
      }
     },
     "b883120f90a44e2e9d46c2fd318b851b": {
      "model_module": "jupyter-cytoscape",
      "model_module_version": "^1.3.3",
      "model_name": "EdgeModel",
      "state": {
       "_model_module_version": "^1.3.3",
       "_view_module_version": "^1.3.3",
       "data": {
        "Predicate": "biolink:interacts_with",
        "id": "f4e211dd-74c0-443c-8f7a-26ef5b426781",
        "source": "NCBIGene:7157",
        "target": "NCBIGene:960"
       },
       "selectable": false
      }
     },
     "b8d114aa90d648d09d096ddda86e9b47": {
      "model_module": "jupyter-cytoscape",
      "model_module_version": "^1.3.3",
      "model_name": "EdgeModel",
      "state": {
       "_model_module_version": "^1.3.3",
       "_view_module_version": "^1.3.3",
       "classes": " directed  multiple_edges ",
       "data": {
        "Predicate": "biolink:regulates",
        "id": "c7a7d6e2-3336-4fe2-9061-0eb44cb9630c",
        "source": "NCBIGene:960",
        "target": "NCBIGene:7157"
       },
       "selectable": false
      }
     },
     "b95b05adf7cc4bd688650fed8829344b": {
      "model_module": "@jupyter-widgets/base",
      "model_module_version": "2.0.0",
      "model_name": "LayoutModel",
      "state": {}
     },
     "bbe88dd3036c4dbd8862b256c467c53c": {
      "model_module": "jupyter-cytoscape",
      "model_module_version": "^1.3.3",
      "model_name": "EdgeModel",
      "state": {
       "_model_module_version": "^1.3.3",
       "_view_module_version": "^1.3.3",
       "classes": " multiple_edges ",
       "data": {
        "Infores": "infores:dgidb",
        "Predicate": "biolink:interacts_with",
        "id": "eaf0cecf-39c7-4c8e-b308-bdcd3a46e17a",
        "source": "PUBCHEM.COMPOUND:49846579",
        "target": "NCBIGene:7157"
       },
       "selectable": false
      }
     },
     "bd55173efc6e42b48eb1ef4cfec44b51": {
      "model_module": "@jupyter-widgets/base",
      "model_module_version": "2.0.0",
      "model_name": "LayoutModel",
      "state": {}
     },
     "bd9e76cab270494a94dcc76c0b659116": {
      "model_module": "jupyter-cytoscape",
      "model_module_version": "^1.3.3",
      "model_name": "EdgeModel",
      "state": {
       "_model_module_version": "^1.3.3",
       "_view_module_version": "^1.3.3",
       "classes": " multiple_edges ",
       "data": {
        "Predicate": "biolink:regulated_by",
        "id": "03abf02b-6797-404c-8f13-216c30cc21d7",
        "source": "NCBIGene:7157",
        "target": "NCBIGene:960"
       },
       "selectable": false
      }
     },
     "bdd791d5c9af48968dbfb2ed59be833c": {
      "model_module": "jupyter-cytoscape",
      "model_module_version": "^1.3.3",
      "model_name": "NodeModel",
      "state": {
       "_model_module_version": "^1.3.3",
       "_view_module_version": "^1.3.3",
       "data": {
        "id": "NCBIGene:7157"
       },
       "grabbable": true,
       "grabbed": false,
       "position": {
        "x": 414.60367235047624,
        "y": 165.28735915825098
       },
       "selectable": false
      }
     },
     "be36998f1ae24f91af4ee669b0035294": {
      "model_module": "jupyter-cytoscape",
      "model_module_version": "^1.3.3",
      "model_name": "NodeModel",
      "state": {
       "_model_module_version": "^1.3.3",
       "_view_module_version": "^1.3.3",
       "data": {
        "id": "PUBCHEM.COMPOUND:49846579"
       },
       "grabbable": true,
       "grabbed": false,
       "position": {
        "x": 698.3199333513053,
        "y": 158.21943021077345
       },
       "selectable": false
      }
     },
     "bece69d67a7341bdbc2f0e077f36e47d": {
      "model_module": "jupyter-cytoscape",
      "model_module_version": "^1.3.3",
      "model_name": "CytoscapeModel",
      "state": {
       "_interaction_handlers": {},
       "_model_module_version": "^1.3.3",
       "_view_module_version": "^1.3.3",
       "auto_ungrabify": false,
       "autolock": false,
       "cytoscape_layout": {
        "edgeLengthVal": 50,
        "name": "cola",
        "nodeSpacing": 80,
        "title": "high_proteins"
       },
       "cytoscape_style": [
        {
         "selector": "node[id]",
         "style": {
          "font-family": "helvetica",
          "font-size": "12px",
          "label": "data(id)",
          "text-valign": "center"
         }
        },
        {
         "selector": "node",
         "style": {
          "background-color": "lightblue",
          "shape": "round-rectangle",
          "width": "5em"
         }
        },
        {
         "selector": "edge[Predicate]",
         "style": {
          "font-size": "10px",
          "label": "data(Predicate)"
         }
        },
        {
         "selector": "edge.directed",
         "style": {
          "curve-style": "bezier",
          "target-arrow-shape": "triangle"
         }
        }
       ],
       "desktop_tap_threshold": 4,
       "graph": "IPY_MODEL_13feb3e3d23d450088b41f77f6174105",
       "headless": false,
       "hide_edges_on_viewport": false,
       "layout": "IPY_MODEL_6c638ff9650c4dc09ee075752d868d52",
       "max_zoom": 1e+50,
       "min_zoom": 1e-50,
       "motion_blur": false,
       "motion_blur_opacity": 0.2,
       "panning_enabled": true,
       "pixel_ratio": "auto",
       "rendered_position": {
        "renderedPosition": {
         "x": 100,
         "y": 100
        }
       },
       "selection_type": "single",
       "style_enabled": true,
       "texture_on_viewport": false,
       "tooltip_source": "tooltip",
       "touch_tap_threshold": 8,
       "user_panning_enabled": true,
       "user_zooming_enabled": true,
       "wheel_sensitivity": 1,
       "zoom": 2,
       "zooming_enabled": true
      }
     },
     "bf666c7bfb054c30abae270d78128c3d": {
      "model_module": "jupyter-cytoscape",
      "model_module_version": "^1.3.3",
      "model_name": "EdgeModel",
      "state": {
       "_model_module_version": "^1.3.3",
       "_view_module_version": "^1.3.3",
       "classes": " directed  multiple_edges ",
       "data": {
        "Predicate": "biolink:regulated_by",
        "id": "d344cdbc-fc42-4c03-9a3e-7fee98ec7685",
        "source": "NCBIGene:960",
        "target": "NCBIGene:7157"
       },
       "selectable": false
      }
     },
     "c05637ad309d43f589562af588305c09": {
      "model_module": "jupyter-cytoscape",
      "model_module_version": "^1.3.3",
      "model_name": "NodeModel",
      "state": {
       "_model_module_version": "^1.3.3",
       "_view_module_version": "^1.3.3",
       "data": {
        "id": "NCBIGene:960"
       },
       "grabbable": true,
       "grabbed": false,
       "position": {
        "x": 428.280892746353,
        "y": 355.287360158251
       },
       "selectable": false
      }
     },
     "c1a585ca433641188e197010cb5a5cd9": {
      "model_module": "jupyter-cytoscape",
      "model_module_version": "^1.3.3",
      "model_name": "EdgeModel",
      "state": {
       "_model_module_version": "^1.3.3",
       "_view_module_version": "^1.3.3",
       "classes": " directed  multiple_edges ",
       "data": {
        "Predicate": "biolink:interacts_with",
        "id": "4041c98a-dc7c-444a-a007-21d7ad86defb",
        "source": "PUBCHEM.COMPOUND:49846579",
        "target": "NCBIGene:7157"
       },
       "selectable": false
      }
     },
     "c27dfb84d9a2440187f259f9ae908935": {
      "model_module": "jupyter-cytoscape",
      "model_module_version": "^1.3.3",
      "model_name": "EdgeModel",
      "state": {
       "_model_module_version": "^1.3.3",
       "_view_module_version": "^1.3.3",
       "classes": " multiple_edges ",
       "data": {
        "Predicate": "biolink:regulated_by",
        "id": "c918b421-9549-46e7-92a7-cbeb8d1c7cb1",
        "source": "NCBIGene:7157",
        "target": "NCBIGene:960"
       },
       "selectable": false
      }
     },
     "c2c7dce54df24b16bc0504c2a60fed5b": {
      "model_module": "jupyter-cytoscape",
      "model_module_version": "^1.3.3",
      "model_name": "EdgeModel",
      "state": {
       "_model_module_version": "^1.3.3",
       "_view_module_version": "^1.3.3",
       "classes": " directed  multiple_edges ",
       "data": {
        "Predicate": "biolink:affects",
        "id": "6c9d0989-0041-45e6-9130-9fe975a112a6",
        "source": "PUBCHEM.COMPOUND:49846579",
        "target": "NCBIGene:7157"
       },
       "selectable": false
      }
     },
     "c5c4669d4c2648beb3b52d33e4720b85": {
      "model_module": "jupyter-cytoscape",
      "model_module_version": "^1.3.3",
      "model_name": "NodeModel",
      "state": {
       "_model_module_version": "^1.3.3",
       "_view_module_version": "^1.3.3",
       "data": {
        "id": "NCBIGene:960"
       },
       "grabbable": true,
       "grabbed": false,
       "position": {
        "x": 202.63506888590155,
        "y": 202.2277547139922
       },
       "selectable": false
      }
     },
     "c6050d2a098c4ddba46e87473db83233": {
      "model_module": "jupyter-cytoscape",
      "model_module_version": "^1.3.3",
      "model_name": "EdgeModel",
      "state": {
       "_model_module_version": "^1.3.3",
       "_view_module_version": "^1.3.3",
       "classes": " multiple_edges ",
       "data": {
        "Infores": "infores:automat-biolink",
        "Predicate": "biolink:interacts_with",
        "id": "80a399af-f893-45fc-8eb9-2710d1cf9181",
        "source": "NCBIGene:7157",
        "target": "NCBIGene:960"
       },
       "selectable": false
      }
     },
     "c890f72dd4dc44b0b128ffa6d112ebab": {
      "model_module": "jupyter-cytoscape",
      "model_module_version": "^1.3.3",
      "model_name": "GraphModel",
      "state": {
       "_adj": {
        "NCBIGene:7157": {},
        "NCBIGene:960": {},
        "PUBCHEM.COMPOUND:49846579": {}
       },
       "_model_module_version": "^1.3.3",
       "_view_module": "jupyter-cytoscape",
       "_view_module_version": "^1.3.3",
       "edges": [
        "IPY_MODEL_32316e2c0355460aaaa13aab8b5a0076",
        "IPY_MODEL_59516364a64742c694c24b9cd96f39c3"
       ],
       "nodes": [
        "IPY_MODEL_a725c99d7a954338882f745a59aa7618",
        "IPY_MODEL_ac41e24efcc24695856ad275a3c35a46",
        "IPY_MODEL_c05637ad309d43f589562af588305c09"
       ]
      }
     },
     "c91a1ebd16de498aac20692146e6c04c": {
      "model_module": "jupyter-cytoscape",
      "model_module_version": "^1.3.3",
      "model_name": "NodeModel",
      "state": {
       "_model_module_version": "^1.3.3",
       "_view_module_version": "^1.3.3",
       "data": {
        "id": "NCBIGene:7157"
       },
       "grabbable": true,
       "grabbed": false,
       "position": {
        "x": 413.16397391239843,
        "y": 177.52479588191258
       },
       "selectable": false
      }
     },
     "c934c339cf2f4b6a8689c323aee2f753": {
      "model_module": "jupyter-cytoscape",
      "model_module_version": "^1.3.3",
      "model_name": "NodeModel",
      "state": {
       "_model_module_version": "^1.3.3",
       "_view_module_version": "^1.3.3",
       "data": {
        "id": "NCBIGene:7157"
       },
       "grabbable": true,
       "grabbed": false,
       "position": {
        "x": 414.60367235047624,
        "y": 165.28735915825098
       },
       "selectable": false
      }
     },
     "c93eacbaa4474bf49273e0e32c2cacee": {
      "model_module": "jupyter-cytoscape",
      "model_module_version": "^1.3.3",
      "model_name": "EdgeModel",
      "state": {
       "_model_module_version": "^1.3.3",
       "_view_module_version": "^1.3.3",
       "classes": " multiple_edges ",
       "data": {
        "Predicate": "biolink:affects",
        "id": "35fd6713-4517-4352-90fb-9d559c775607",
        "source": "PUBCHEM.COMPOUND:49846579",
        "target": "NCBIGene:7157"
       },
       "selectable": false
      }
     },
     "cd9d4e776e994572afac0192bbed6fb4": {
      "model_module": "jupyter-cytoscape",
      "model_module_version": "^1.3.3",
      "model_name": "CytoscapeModel",
      "state": {
       "_interaction_handlers": {},
       "_model_module_version": "^1.3.3",
       "_view_module_version": "^1.3.3",
       "auto_ungrabify": false,
       "autolock": false,
       "cytoscape_layout": {
        "edgeLengthVal": 50,
        "name": "cola",
        "nodeSpacing": 80,
        "title": "high_proteins"
       },
       "cytoscape_style": [
        {
         "selector": "node[id]",
         "style": {
          "font-family": "helvetica",
          "font-size": "20px",
          "label": "data(id)",
          "text-valign": "top"
         }
        },
        {
         "selector": "node",
         "style": {
          "background-color": "blue"
         }
        },
        {
         "selector": "node[in_query=1]",
         "style": {
          "border-color": "red",
          "border-width": "5px"
         }
        },
        {
         "selector": "edge[type]",
         "style": {
          "label": "data(type)"
         }
        },
        {
         "selector": "edge.directed",
         "style": {
          "curve-style": "bezier",
          "target-arrow-shape": "triangle"
         }
        }
       ],
       "desktop_tap_threshold": 4,
       "graph": "IPY_MODEL_c890f72dd4dc44b0b128ffa6d112ebab",
       "headless": false,
       "hide_edges_on_viewport": false,
       "layout": "IPY_MODEL_30de93f556b84c6b9833bfb32e12e1e1",
       "max_zoom": 1e+50,
       "min_zoom": 1e-50,
       "motion_blur": false,
       "motion_blur_opacity": 0.2,
       "panning_enabled": true,
       "pixel_ratio": "auto",
       "rendered_position": {
        "renderedPosition": {
         "x": 100,
         "y": 100
        }
       },
       "selection_type": "single",
       "style_enabled": true,
       "texture_on_viewport": false,
       "tooltip_source": "tooltip",
       "touch_tap_threshold": 8,
       "user_panning_enabled": true,
       "user_zooming_enabled": true,
       "wheel_sensitivity": 1,
       "zoom": 2,
       "zooming_enabled": true
      }
     },
     "ce577dbf8bc94b8caf582f02894683fa": {
      "model_module": "jupyter-cytoscape",
      "model_module_version": "^1.3.3",
      "model_name": "GraphModel",
      "state": {
       "_adj": {},
       "_model_module_version": "^1.3.3",
       "_view_module": "jupyter-cytoscape",
       "_view_module_version": "^1.3.3"
      }
     },
     "cf9ef3155d5641f3b012369e70f363ed": {
      "model_module": "jupyter-cytoscape",
      "model_module_version": "^1.3.3",
      "model_name": "NodeModel",
      "state": {
       "_model_module_version": "^1.3.3",
       "_view_module_version": "^1.3.3",
       "data": {
        "id": "PUBCHEM.COMPOUND:49846579"
       },
       "grabbable": true,
       "grabbed": false,
       "position": {
        "x": 610.859380670872,
        "y": 200.66547533281417
       },
       "selectable": false
      }
     },
     "d198a9afd0f74ffba67a00748a861923": {
      "model_module": "jupyter-cytoscape",
      "model_module_version": "^1.3.3",
      "model_name": "NodeModel",
      "state": {
       "_model_module_version": "^1.3.3",
       "_view_module_version": "^1.3.3",
       "data": {
        "id": "PUBCHEM.COMPOUND:49846579"
       },
       "grabbable": true,
       "grabbed": false,
       "position": {
        "x": 685.3502167720756,
        "y": 288.21760880307636
       },
       "selectable": false
      }
     },
     "d3a398fa0dce4bdba4ef8d95497e2918": {
      "model_module": "jupyter-cytoscape",
      "model_module_version": "^1.3.3",
      "model_name": "EdgeModel",
      "state": {
       "_model_module_version": "^1.3.3",
       "_view_module_version": "^1.3.3",
       "classes": " multiple_edges ",
       "data": {
        "Infores": "infores:text-mining-provider-targeted",
        "Predicate": "biolink:affects",
        "id": "471bbd0c-5b2e-44d6-b2c8-101cad352663",
        "source": "PUBCHEM.COMPOUND:49846579",
        "target": "NCBIGene:7157"
       },
       "selectable": false
      }
     },
     "d3adc6834699413b9a0b317827d604dd": {
      "model_module": "jupyter-cytoscape",
      "model_module_version": "^1.3.3",
      "model_name": "GraphModel",
      "state": {
       "_adj": {},
       "_model_module_version": "^1.3.3",
       "_view_module": "jupyter-cytoscape",
       "_view_module_version": "^1.3.3"
      }
     },
     "d44e174d3917488db38fc436f4cd60b1": {
      "model_module": "jupyter-cytoscape",
      "model_module_version": "^1.3.3",
      "model_name": "EdgeModel",
      "state": {
       "_model_module_version": "^1.3.3",
       "_view_module_version": "^1.3.3",
       "classes": " directed  multiple_edges ",
       "data": {
        "Predicate": "biolink:occurs_together_in_literature_with",
        "id": "2afb3982-ecf3-411b-9c0a-31ac11b6790e",
        "source": "PUBCHEM.COMPOUND:49846579",
        "target": "NCBIGene:7157"
       },
       "selectable": false
      }
     },
     "d45b3c840e0f4d6fa042aaedbe1d8790": {
      "model_module": "jupyter-cytoscape",
      "model_module_version": "^1.3.3",
      "model_name": "EdgeModel",
      "state": {
       "_model_module_version": "^1.3.3",
       "_view_module_version": "^1.3.3",
       "classes": " multiple_edges ",
       "data": {
        "Infores": "infores:text-mining-provider-targeted",
        "Predicate": "biolink:affects",
        "id": "5390edc8-436f-4e34-9cfa-9a8b9e51f74b",
        "source": "PUBCHEM.COMPOUND:49846579",
        "target": "NCBIGene:7157"
       },
       "selectable": false
      }
     },
     "d51ff25aad8b4b4e8c13d4d9bfe90e2f": {
      "model_module": "jupyter-cytoscape",
      "model_module_version": "^1.3.3",
      "model_name": "NodeModel",
      "state": {
       "_model_module_version": "^1.3.3",
       "_view_module_version": "^1.3.3",
       "data": {
        "id": "NCBIGene:960"
       },
       "grabbable": true,
       "grabbed": false,
       "position": {
        "x": 225.12332315153972,
        "y": 290.12519140862565
       },
       "selectable": false
      }
     },
     "d6d6945f437145278a0d831b37088e4e": {
      "model_module": "@jupyter-widgets/base",
      "model_module_version": "2.0.0",
      "model_name": "LayoutModel",
      "state": {}
     },
     "d77a562672b44751b7bf100b7624a1b4": {
      "model_module": "jupyter-cytoscape",
      "model_module_version": "^1.3.3",
      "model_name": "EdgeModel",
      "state": {
       "_model_module_version": "^1.3.3",
       "_view_module_version": "^1.3.3",
       "classes": " directed  multiple_edges ",
       "data": {
        "Predicate": "biolink:regulates",
        "id": "5f0b2ca3-8a67-41ee-92e4-b8edc18efdd9",
        "source": "NCBIGene:960",
        "target": "NCBIGene:7157"
       },
       "selectable": false
      }
     },
     "dac566ffab9945859779b2aab52f72bd": {
      "model_module": "jupyter-cytoscape",
      "model_module_version": "^1.3.3",
      "model_name": "NodeModel",
      "state": {
       "_model_module_version": "^1.3.3",
       "_view_module_version": "^1.3.3",
       "data": {
        "id": "PUBCHEM.COMPOUND:49846579"
       },
       "grabbable": true,
       "grabbed": false,
       "position": {
        "x": 633.0028384090972,
        "y": 275.0672962538132
       },
       "selectable": false
      }
     },
     "daf647a1ce3246c0adc8702b0411368d": {
      "model_module": "jupyter-cytoscape",
      "model_module_version": "^1.3.3",
      "model_name": "CytoscapeModel",
      "state": {
       "_interaction_handlers": {},
       "_model_module_version": "^1.3.3",
       "_view_module_version": "^1.3.3",
       "auto_ungrabify": false,
       "autolock": false,
       "cytoscape_layout": {
        "edgeLengthVal": 50,
        "name": "cola",
        "nodeSpacing": 80,
        "title": "high_proteins"
       },
       "cytoscape_style": [
        {
         "selector": "node[id]",
         "style": {
          "font-family": "helvetica",
          "font-size": "12px",
          "label": "data(id)",
          "text-valign": "center"
         }
        },
        {
         "selector": "node",
         "style": {
          "background-color": "lightblue",
          "shape": "round-rectangle",
          "width": "5em"
         }
        },
        {
         "selector": "edge[Predicate]",
         "style": {
          "font-size": "10px",
          "label": "data(Predicate)"
         }
        },
        {
         "selector": "edge.directed",
         "style": {
          "curve-style": "bezier",
          "target-arrow-shape": "triangle"
         }
        }
       ],
       "desktop_tap_threshold": 4,
       "graph": "IPY_MODEL_ffd936091e4447d98a0b80c9688b6b63",
       "headless": false,
       "hide_edges_on_viewport": false,
       "layout": "IPY_MODEL_e446c82921dc4d0793c6759b3aa65676",
       "max_zoom": 1e+50,
       "min_zoom": 1e-50,
       "motion_blur": false,
       "motion_blur_opacity": 0.2,
       "panning_enabled": true,
       "pixel_ratio": "auto",
       "rendered_position": {
        "renderedPosition": {
         "x": 100,
         "y": 100
        }
       },
       "selection_type": "single",
       "style_enabled": true,
       "texture_on_viewport": false,
       "tooltip_source": "tooltip",
       "touch_tap_threshold": 8,
       "user_panning_enabled": true,
       "user_zooming_enabled": true,
       "wheel_sensitivity": 1,
       "zoom": 2,
       "zooming_enabled": true
      }
     },
     "db02531a697749bcb5c80b60e514a123": {
      "model_module": "jupyter-cytoscape",
      "model_module_version": "^1.3.3",
      "model_name": "GraphModel",
      "state": {
       "_adj": {},
       "_model_module_version": "^1.3.3",
       "_view_module": "jupyter-cytoscape",
       "_view_module_version": "^1.3.3"
      }
     },
     "dbac0131e3704256bf3ee17cc8431fdc": {
      "model_module": "jupyter-cytoscape",
      "model_module_version": "^1.3.3",
      "model_name": "EdgeModel",
      "state": {
       "_model_module_version": "^1.3.3",
       "_view_module_version": "^1.3.3",
       "classes": " directed  multiple_edges ",
       "data": {
        "Predicate": "biolink:regulates",
        "id": "969ea07c-53df-4e6e-829e-c4f5b23c0de9",
        "source": "NCBIGene:960",
        "target": "NCBIGene:7157"
       },
       "selectable": false
      }
     },
     "dccfedbd1d364778925214fb217414c3": {
      "model_module": "jupyter-cytoscape",
      "model_module_version": "^1.3.3",
      "model_name": "EdgeModel",
      "state": {
       "_model_module_version": "^1.3.3",
       "_view_module_version": "^1.3.3",
       "classes": " multiple_edges ",
       "data": {
        "Predicate": "biolink:regulates",
        "id": "ba8eb39d-a92d-4d62-afa7-41ac267dedaf",
        "source": "NCBIGene:7157",
        "target": "NCBIGene:960"
       },
       "selectable": false
      }
     },
     "dcd74a42700f411caf1c6eff6e0063a0": {
      "model_module": "jupyter-cytoscape",
      "model_module_version": "^1.3.3",
      "model_name": "EdgeModel",
      "state": {
       "_model_module_version": "^1.3.3",
       "_view_module_version": "^1.3.3",
       "classes": " directed  multiple_edges ",
       "data": {
        "Predicate": "biolink:interacts_with",
        "id": "97263673-6e78-4676-a4cb-ec31a5a7d24a",
        "source": "NCBIGene:960",
        "target": "NCBIGene:7157"
       },
       "selectable": false
      }
     },
     "dce84c2eb095426fb7da20acddd7fe25": {
      "model_module": "jupyter-cytoscape",
      "model_module_version": "^1.3.3",
      "model_name": "CytoscapeModel",
      "state": {
       "_interaction_handlers": {},
       "_model_module_version": "^1.3.3",
       "_view_module_version": "^1.3.3",
       "auto_ungrabify": false,
       "autolock": false,
       "cytoscape_layout": {
        "edgeLengthVal": 50,
        "name": "cola",
        "nodeSpacing": 80,
        "title": "high_proteins"
       },
       "cytoscape_style": [
        {
         "selector": "node[id]",
         "style": {
          "font-family": "helvetica",
          "font-size": "20px",
          "label": "data(id)",
          "text-valign": "center"
         }
        },
        {
         "selector": "node",
         "style": {
          "background-color": "lightblue",
          "shape": "round-rectangle"
         }
        },
        {
         "selector": "node[in_query=1]",
         "style": {
          "border-color": "red",
          "border-width": "5px"
         }
        },
        {
         "selector": "edge[type]",
         "style": {
          "label": "data(type)"
         }
        },
        {
         "selector": "edge.directed",
         "style": {
          "curve-style": "bezier",
          "target-arrow-shape": "triangle"
         }
        }
       ],
       "desktop_tap_threshold": 4,
       "graph": "IPY_MODEL_add09dec4fd44a0f9da4a834b85688f1",
       "headless": false,
       "hide_edges_on_viewport": false,
       "layout": "IPY_MODEL_15c13fa978fb4146af1678bca2a7444a",
       "max_zoom": 1e+50,
       "min_zoom": 1e-50,
       "motion_blur": false,
       "motion_blur_opacity": 0.2,
       "panning_enabled": true,
       "pixel_ratio": "auto",
       "rendered_position": {
        "renderedPosition": {
         "x": 100,
         "y": 100
        }
       },
       "selection_type": "single",
       "style_enabled": true,
       "texture_on_viewport": false,
       "tooltip_source": "tooltip",
       "touch_tap_threshold": 8,
       "user_panning_enabled": true,
       "user_zooming_enabled": true,
       "wheel_sensitivity": 1,
       "zoom": 2,
       "zooming_enabled": true
      }
     },
     "dd3328ce9303434791df77de620e5128": {
      "model_module": "jupyter-cytoscape",
      "model_module_version": "^1.3.3",
      "model_name": "NodeModel",
      "state": {
       "_model_module_version": "^1.3.3",
       "_view_module_version": "^1.3.3",
       "data": {
        "id": "NCBIGene:7157"
       },
       "grabbable": true,
       "grabbed": false,
       "position": {
        "x": 414.60367235047624,
        "y": 165.28735915825098
       },
       "selectable": false
      }
     },
     "e14ab6c482694908b223e3ff25b76511": {
      "model_module": "jupyter-cytoscape",
      "model_module_version": "^1.3.3",
      "model_name": "EdgeModel",
      "state": {
       "_model_module_version": "^1.3.3",
       "_view_module_version": "^1.3.3",
       "classes": " directed  multiple_edges ",
       "data": {
        "Predicate": "biolink:regulates",
        "id": "df2717e3-2c0a-41ca-b447-128fec64c087",
        "source": "NCBIGene:960",
        "target": "NCBIGene:7157"
       },
       "selectable": false
      }
     },
     "e446c82921dc4d0793c6759b3aa65676": {
      "model_module": "@jupyter-widgets/base",
      "model_module_version": "2.0.0",
      "model_name": "LayoutModel",
      "state": {}
     },
     "e44b8c5ecb2e499c945a4b7bbabadafc": {
      "model_module": "jupyter-cytoscape",
      "model_module_version": "^1.3.3",
      "model_name": "NodeModel",
      "state": {
       "_model_module_version": "^1.3.3",
       "_view_module_version": "^1.3.3",
       "data": {
        "id": "NCBIGene:7157"
       },
       "grabbable": true,
       "grabbed": false,
       "position": {
        "x": 414.60367235047624,
        "y": 165.28735915825098
       },
       "selectable": false
      }
     },
     "e824c9b6b2bd4b798c96cf1923db44ab": {
      "model_module": "jupyter-cytoscape",
      "model_module_version": "^1.3.3",
      "model_name": "EdgeModel",
      "state": {
       "_model_module_version": "^1.3.3",
       "_view_module_version": "^1.3.3",
       "classes": " directed  multiple_edges ",
       "data": {
        "Predicate": "biolink:interacts_with",
        "id": "14195f88-e29f-407a-b27e-85979c05ba09",
        "source": "PUBCHEM.COMPOUND:49846579",
        "target": "NCBIGene:7157"
       },
       "selectable": false
      }
     },
     "e9a90451e3c84cb198185c342d27be9d": {
      "model_module": "jupyter-cytoscape",
      "model_module_version": "^1.3.3",
      "model_name": "GraphModel",
      "state": {
       "_adj": {},
       "_model_module_version": "^1.3.3",
       "_view_module": "jupyter-cytoscape",
       "_view_module_version": "^1.3.3"
      }
     },
     "ed2809fffb004e3e88d47faf2cf8f8f2": {
      "model_module": "jupyter-cytoscape",
      "model_module_version": "^1.3.3",
      "model_name": "NodeModel",
      "state": {
       "_model_module_version": "^1.3.3",
       "_view_module_version": "^1.3.3",
       "data": {
        "id": "NCBIGene:7157"
       },
       "grabbable": true,
       "grabbed": false,
       "position": {
        "x": 427.93500290578476,
        "y": 165.28735915825098
       },
       "selectable": false
      }
     },
     "edebde92f88e48338908016861330509": {
      "model_module": "jupyter-cytoscape",
      "model_module_version": "^1.3.3",
      "model_name": "EdgeModel",
      "state": {
       "_model_module_version": "^1.3.3",
       "_view_module_version": "^1.3.3",
       "classes": " directed  multiple_edges ",
       "data": {
        "Predicate": "biolink:regulated_by",
        "id": "9d416426-ad30-454d-8a6c-76c4746c5dfc",
        "source": "NCBIGene:960",
        "target": "NCBIGene:7157"
       },
       "selectable": false
      }
     },
     "f0057efa198d45d68a3befe83872748d": {
      "model_module": "jupyter-cytoscape",
      "model_module_version": "^1.3.3",
      "model_name": "GraphModel",
      "state": {
       "_adj": {
        "NCBIGene:7157": {},
        "NCBIGene:960": {},
        "PUBCHEM.COMPOUND:49846579": {}
       },
       "_model_module_version": "^1.3.3",
       "_view_module": "jupyter-cytoscape",
       "_view_module_version": "^1.3.3",
       "edges": [
        "IPY_MODEL_ffa1aac1571242e6814d93f40b6a88e0",
        "IPY_MODEL_0c1ce2b37e2d47489e6a113182c20c72"
       ],
       "nodes": [
        "IPY_MODEL_cf9ef3155d5641f3b012369e70f363ed",
        "IPY_MODEL_225cb8bbd292419083c554660e985baf",
        "IPY_MODEL_8c0802e536624de28d139ca8c20615e2"
       ]
      }
     },
     "f3b6f06f7e2d4395b7d5205140f69ec9": {
      "model_module": "jupyter-cytoscape",
      "model_module_version": "^1.3.3",
      "model_name": "CytoscapeModel",
      "state": {
       "_interaction_handlers": {},
       "_model_module_version": "^1.3.3",
       "_view_module_version": "^1.3.3",
       "auto_ungrabify": false,
       "autolock": false,
       "cytoscape_layout": {
        "edgeLengthVal": 50,
        "name": "cola",
        "nodeSpacing": 80,
        "title": "high_proteins"
       },
       "cytoscape_style": [
        {
         "selector": "node[id]",
         "style": {
          "font-family": "helvetica",
          "font-size": "20px",
          "label": "data(id)",
          "text-valign": "top"
         }
        },
        {
         "selector": "node[category=\"Protein\"]",
         "style": {
          "background-color": "blue"
         }
        },
        {
         "selector": "node[in_query=1]",
         "style": {
          "border-color": "red",
          "border-width": "5px"
         }
        },
        {
         "selector": "edge[type]",
         "style": {
          "label": "data(type)"
         }
        },
        {
         "selector": "edge.directed",
         "style": {
          "curve-style": "bezier",
          "target-arrow-shape": "triangle"
         }
        }
       ],
       "desktop_tap_threshold": 4,
       "graph": "IPY_MODEL_21ef1d27b4e44d9aab51a81e7f9e9ca3",
       "headless": false,
       "hide_edges_on_viewport": false,
       "layout": "IPY_MODEL_d6d6945f437145278a0d831b37088e4e",
       "max_zoom": 1e+50,
       "min_zoom": 1e-50,
       "motion_blur": false,
       "motion_blur_opacity": 0.2,
       "panning_enabled": true,
       "pixel_ratio": "auto",
       "rendered_position": {
        "renderedPosition": {
         "x": 100,
         "y": 100
        }
       },
       "selection_type": "single",
       "style_enabled": true,
       "texture_on_viewport": false,
       "tooltip_source": "tooltip",
       "touch_tap_threshold": 8,
       "user_panning_enabled": true,
       "user_zooming_enabled": true,
       "wheel_sensitivity": 1,
       "zoom": 2,
       "zooming_enabled": true
      }
     },
     "f427e0222cc246f489c8978b7fe6dde1": {
      "model_module": "jupyter-cytoscape",
      "model_module_version": "^1.3.3",
      "model_name": "EdgeModel",
      "state": {
       "_model_module_version": "^1.3.3",
       "_view_module_version": "^1.3.3",
       "classes": " directed  multiple_edges ",
       "data": {
        "Predicate": "biolink:affects",
        "id": "7bcd3b19-e670-4e32-9174-80d792bae71a",
        "source": "PUBCHEM.COMPOUND:49846579",
        "target": "NCBIGene:7157"
       },
       "selectable": false
      }
     },
     "f5138696adf24e98b488d9273481f8d1": {
      "model_module": "jupyter-cytoscape",
      "model_module_version": "^1.3.3",
      "model_name": "EdgeModel",
      "state": {
       "_model_module_version": "^1.3.3",
       "_view_module_version": "^1.3.3",
       "classes": " multiple_edges ",
       "data": {
        "Infores": "infores:lincs",
        "Predicate": "biolink:regulates",
        "id": "cdee7119-7c09-4f24-948a-bb07d07c5cdf",
        "source": "NCBIGene:7157",
        "target": "NCBIGene:960"
       },
       "selectable": false
      }
     },
     "f51d1f8ada104a63925b04ce8c936154": {
      "model_module": "jupyter-cytoscape",
      "model_module_version": "^1.3.3",
      "model_name": "GraphModel",
      "state": {
       "_adj": {
        "NCBIGene:7157": {},
        "NCBIGene:960": {},
        "PUBCHEM.COMPOUND:49846579": {}
       },
       "_model_module_version": "^1.3.3",
       "_view_module": "jupyter-cytoscape",
       "_view_module_version": "^1.3.3",
       "edges": [
        "IPY_MODEL_b591dcff93804e5db04e4785eb59b2b8",
        "IPY_MODEL_89ec1b5d74684c0badb4c894a6add443",
        "IPY_MODEL_259c12142f5f498db2d0d126f49faf8f",
        "IPY_MODEL_a9446a0db10d40b5bfc832aaa707071f",
        "IPY_MODEL_c27dfb84d9a2440187f259f9ae908935",
        "IPY_MODEL_adaf2766b9cd45f984832cbb9d96e91c",
        "IPY_MODEL_8518ed1d7e7d4d1d87825514a122ce75"
       ],
       "nodes": [
        "IPY_MODEL_10bc7b7c7b7642d7959b1f5aea7e7712",
        "IPY_MODEL_dd3328ce9303434791df77de620e5128",
        "IPY_MODEL_59e24b44e5d54d2b8a1c81e66f13feec"
       ]
      }
     },
     "f5ca424253de498aad71f1cd0f8f7a1a": {
      "model_module": "jupyter-cytoscape",
      "model_module_version": "^1.3.3",
      "model_name": "NodeModel",
      "state": {
       "_model_module_version": "^1.3.3",
       "_view_module_version": "^1.3.3",
       "data": {
        "id": "NCBIGene:960"
       },
       "grabbable": true,
       "grabbed": false,
       "position": {
        "x": 269.36427688118,
        "y": 199.2629332649154
       },
       "selectable": false
      }
     },
     "f6369e0079934fc7984ab1ff8de5b8d6": {
      "model_module": "jupyter-cytoscape",
      "model_module_version": "^1.3.3",
      "model_name": "EdgeModel",
      "state": {
       "_model_module_version": "^1.3.3",
       "_view_module_version": "^1.3.3",
       "classes": " directed  multiple_edges ",
       "data": {
        "Predicate": "biolink:affects",
        "id": "a5c8e7bf-9838-4470-96f0-ed610563a108",
        "source": "PUBCHEM.COMPOUND:49846579",
        "target": "NCBIGene:7157"
       },
       "selectable": false
      }
     },
     "f75e48f030d944ee8656e88b28c12a78": {
      "model_module": "jupyter-cytoscape",
      "model_module_version": "^1.3.3",
      "model_name": "NodeModel",
      "state": {
       "_model_module_version": "^1.3.3",
       "_view_module_version": "^1.3.3",
       "data": {
        "id": "NCBIGene:960"
       },
       "grabbable": true,
       "grabbed": false,
       "position": {
        "x": 224.81626516982493,
        "y": 165.86686436585347
       },
       "selectable": false
      }
     },
     "f8efd54ec2ce4166adab31288e7bcd50": {
      "model_module": "jupyter-cytoscape",
      "model_module_version": "^1.3.3",
      "model_name": "CytoscapeModel",
      "state": {
       "_interaction_handlers": {},
       "_model_module_version": "^1.3.3",
       "_view_module_version": "^1.3.3",
       "auto_ungrabify": false,
       "autolock": false,
       "cytoscape_layout": {
        "edgeLengthVal": 50,
        "name": "cola",
        "nodeSpacing": 80,
        "title": "high_proteins"
       },
       "cytoscape_style": [
        {
         "selector": "node[id]",
         "style": {
          "font-family": "helvetica",
          "font-size": "12px",
          "label": "data(id)",
          "text-valign": "center"
         }
        },
        {
         "selector": "node",
         "style": {
          "background-color": "lightblue",
          "shape": "round-rectangle",
          "width": "5em"
         }
        },
        {
         "selector": "edge[Infores]",
         "style": {
          "font-size": "10px",
          "label": "data(Infores)"
         }
        },
        {
         "selector": "edge.directed",
         "style": {
          "curve-style": "bezier",
          "target-arrow-shape": "triangle"
         }
        },
        {
         "selector": "edge",
         "style": {
          "curve-style": "bezier"
         }
        }
       ],
       "desktop_tap_threshold": 4,
       "graph": "IPY_MODEL_4699e166626d4241b8daea373d36b67b",
       "headless": false,
       "hide_edges_on_viewport": false,
       "layout": "IPY_MODEL_900d35e214f24211bdf74cff86615b5b",
       "max_zoom": 1e+50,
       "min_zoom": 1e-50,
       "motion_blur": false,
       "motion_blur_opacity": 0.2,
       "panning_enabled": true,
       "pixel_ratio": "auto",
       "rendered_position": {
        "renderedPosition": {
         "x": 100,
         "y": 100
        }
       },
       "selection_type": "single",
       "style_enabled": true,
       "texture_on_viewport": false,
       "tooltip_source": "tooltip",
       "touch_tap_threshold": 8,
       "user_panning_enabled": true,
       "user_zooming_enabled": true,
       "wheel_sensitivity": 1,
       "zoom": 2,
       "zooming_enabled": true
      }
     },
     "f90deb77e8c4488caae179f955c9a179": {
      "model_module": "jupyter-cytoscape",
      "model_module_version": "^1.3.3",
      "model_name": "EdgeModel",
      "state": {
       "_model_module_version": "^1.3.3",
       "_view_module_version": "^1.3.3",
       "classes": " directed  multiple_edges ",
       "data": {
        "Predicate": "biolink:regulates",
        "id": "f5f4ef34-4c25-44ef-9a8b-78ab4311bbe3",
        "source": "NCBIGene:960",
        "target": "NCBIGene:7157"
       },
       "selectable": false
      }
     },
     "fac5b6df918747c8996a8ce3fb4046a8": {
      "model_module": "jupyter-cytoscape",
      "model_module_version": "^1.3.3",
      "model_name": "GraphModel",
      "state": {
       "_adj": {},
       "_model_module_version": "^1.3.3",
       "_view_module": "jupyter-cytoscape",
       "_view_module_version": "^1.3.3"
      }
     },
     "fdbc00ec0e7545178752a9dce38c0e58": {
      "model_module": "jupyter-cytoscape",
      "model_module_version": "^1.3.3",
      "model_name": "EdgeModel",
      "state": {
       "_model_module_version": "^1.3.3",
       "_view_module_version": "^1.3.3",
       "classes": " directed  multiple_edges ",
       "data": {
        "Predicate": "biolink:regulates",
        "id": "d933899f-65bb-4c61-9ed3-361a3b00cc80",
        "source": "NCBIGene:960",
        "target": "NCBIGene:7157"
       },
       "selectable": false
      }
     },
     "fe70de99faa34c08a2275ddcd39115db": {
      "model_module": "jupyter-cytoscape",
      "model_module_version": "^1.3.3",
      "model_name": "NodeModel",
      "state": {
       "_model_module_version": "^1.3.3",
       "_view_module_version": "^1.3.3",
       "data": {
        "id": "NCBIGene:960"
       },
       "grabbable": true,
       "grabbed": false,
       "position": {
        "x": 428.280892746353,
        "y": 355.287360158251
       },
       "selectable": false
      }
     },
     "ffa1aac1571242e6814d93f40b6a88e0": {
      "model_module": "jupyter-cytoscape",
      "model_module_version": "^1.3.3",
      "model_name": "EdgeModel",
      "state": {
       "_model_module_version": "^1.3.3",
       "_view_module_version": "^1.3.3",
       "data": {
        "Predicate": "biolink:occurs_together_in_literature_with",
        "id": "5298810e-6039-43e0-b916-076fb9fb4b49",
        "source": "PUBCHEM.COMPOUND:49846579",
        "target": "NCBIGene:7157"
       },
       "selectable": false
      }
     },
     "ffbe078f791f49a7a8939ec174be82f9": {
      "model_module": "jupyter-cytoscape",
      "model_module_version": "^1.3.3",
      "model_name": "GraphModel",
      "state": {
       "_adj": {
        "NCBIGene:7157": {},
        "NCBIGene:960": {},
        "PUBCHEM.COMPOUND:49846579": {}
       },
       "_model_module_version": "^1.3.3",
       "_view_module": "jupyter-cytoscape",
       "_view_module_version": "^1.3.3",
       "edges": [
        "IPY_MODEL_8e8f886e05c34ea7ab96e03ef310bfbe",
        "IPY_MODEL_e824c9b6b2bd4b798c96cf1923db44ab",
        "IPY_MODEL_88544a1689ba4751a24616dd42df426a",
        "IPY_MODEL_dbac0131e3704256bf3ee17cc8431fdc",
        "IPY_MODEL_3d24f5f7bdbb4956972fc261c239c949",
        "IPY_MODEL_413448b015ae4ae88e726d61a63ca6ba",
        "IPY_MODEL_66f14e77e04f4daabc0265cae7e7a7c4"
       ],
       "nodes": [
        "IPY_MODEL_53fb90ae34454ad69b9842998ad6955d",
        "IPY_MODEL_c91a1ebd16de498aac20692146e6c04c",
        "IPY_MODEL_3cc239fff7224c55b997c0b93a13b1c8"
       ]
      }
     },
     "ffd936091e4447d98a0b80c9688b6b63": {
      "model_module": "jupyter-cytoscape",
      "model_module_version": "^1.3.3",
      "model_name": "GraphModel",
      "state": {
       "_adj": {
        "NCBIGene:7157": {},
        "NCBIGene:960": {},
        "PUBCHEM.COMPOUND:49846579": {}
       },
       "_model_module_version": "^1.3.3",
       "_view_module": "jupyter-cytoscape",
       "_view_module_version": "^1.3.3",
       "edges": [
        "IPY_MODEL_c93eacbaa4474bf49273e0e32c2cacee",
        "IPY_MODEL_361841b31c3b43b1b51a0ebd13230ffe",
        "IPY_MODEL_4f81050a296e4699b6e6ce3fb5cc08c8",
        "IPY_MODEL_80c9709c7fbb4d18a4b72ada191e6916",
        "IPY_MODEL_bd9e76cab270494a94dcc76c0b659116",
        "IPY_MODEL_dccfedbd1d364778925214fb217414c3",
        "IPY_MODEL_612c8bf2628d4dc9be5a9726444ce20a"
       ],
       "nodes": [
        "IPY_MODEL_b02e41afffe54314b93de92511ee757e",
        "IPY_MODEL_c934c339cf2f4b6a8689c323aee2f753",
        "IPY_MODEL_f5ca424253de498aad71f1cd0f8f7a1a"
       ]
      }
     }
    },
    "version_major": 2,
    "version_minor": 0
   }
  }
 },
 "nbformat": 4,
 "nbformat_minor": 5
}
