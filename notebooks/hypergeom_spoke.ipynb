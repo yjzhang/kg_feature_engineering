{
 "cells": [
  {
   "cell_type": "code",
   "execution_count": 1,
   "id": "e65347e3-b36e-403e-9eac-3ae5d0f59796",
   "metadata": {},
   "outputs": [],
   "source": [
    "# TODO: load data"
   ]
  },
  {
   "cell_type": "markdown",
   "id": "b0576dbd-00ed-4f8d-83f6-f443dd1c9f13",
   "metadata": {},
   "source": [
    "## Run hypergeometric/gene set analyses?"
   ]
  },
  {
   "cell_type": "code",
   "execution_count": null,
   "id": "6d1bc3e8-6686-422a-90fd-7f05c1208020",
   "metadata": {},
   "outputs": [],
   "source": [
    "# convert proteins to gene names\n"
   ]
  },
  {
   "cell_type": "code",
   "execution_count": 180,
   "id": "7e178fd5-3ad1-4c6a-96d0-532c65f1c06a",
   "metadata": {},
   "outputs": [
    {
     "data": {
      "text/plain": [
       "\u001b[0;31mSignature:\u001b[0m\n",
       "\u001b[0mkgfe\u001b[0m\u001b[0;34m.\u001b[0m\u001b[0mexplanations\u001b[0m\u001b[0;34m.\u001b[0m\u001b[0mhypgergeom_test\u001b[0m\u001b[0;34m(\u001b[0m\u001b[0;34m\u001b[0m\n",
       "\u001b[0;34m\u001b[0m    \u001b[0mgraph\u001b[0m\u001b[0;34m,\u001b[0m\u001b[0;34m\u001b[0m\n",
       "\u001b[0;34m\u001b[0m    \u001b[0mquery_ids\u001b[0m\u001b[0;34m,\u001b[0m\u001b[0;34m\u001b[0m\n",
       "\u001b[0;34m\u001b[0m    \u001b[0mquery_category\u001b[0m\u001b[0;34m,\u001b[0m\u001b[0;34m\u001b[0m\n",
       "\u001b[0;34m\u001b[0m    \u001b[0mquery_universe\u001b[0m\u001b[0;34m=\u001b[0m\u001b[0;32mNone\u001b[0m\u001b[0;34m,\u001b[0m\u001b[0;34m\u001b[0m\n",
       "\u001b[0;34m\u001b[0m\u001b[0;34m)\u001b[0m\u001b[0;34m\u001b[0m\u001b[0;34m\u001b[0m\u001b[0m\n",
       "\u001b[0;31mDocstring:\u001b[0m\n",
       "Hypergeometric test:\n",
       "N = number of nodes in the query category (OR the number of nodes in the query universe, if that's available),\n",
       "n = number of nodes in the query set,\n",
       "K = number of nodes connected to each given target node in the target category\n",
       "k = number of nodes connected to the target node that are in the query set\n",
       "\n",
       "Params:\n",
       "    graph - a networkx graph\n",
       "    query_ids - a list of IDs (NCBI Gene or PubChem), or a list of lists of ids\n",
       "    query_category: 'Gene', 'Drug', 'SmallMolecule', 'Pathway'\n",
       "    query_universe: either the universe of the query, or None if it's all nodes of the category in the graph. \n",
       "\n",
       "Returns:\n",
       "    either a dict of hypergeometric p-values for node ids, or a list of dicts of hypergeometric p-values.\n",
       "\u001b[0;31mFile:\u001b[0m      ~/isb/kg_feature_engineering/src/kgfe/explanations.py\n",
       "\u001b[0;31mType:\u001b[0m      function"
      ]
     },
     "metadata": {},
     "output_type": "display_data"
    }
   ],
   "source": [
    "kgfe.explanations.hypgergeom_test(spoke_graph_ud, high_prots_spoke_ids, "
   ]
  },
  {
   "cell_type": "code",
   "execution_count": null,
   "id": "dc251e89-84ed-4ed4-a8be-bdc2d10315ba",
   "metadata": {},
   "outputs": [],
   "source": []
  }
 ],
 "metadata": {
  "kernelspec": {
   "display_name": "Python 3 (ipykernel)",
   "language": "python",
   "name": "python3"
  },
  "language_info": {
   "codemirror_mode": {
    "name": "ipython",
    "version": 3
   },
   "file_extension": ".py",
   "mimetype": "text/x-python",
   "name": "python",
   "nbconvert_exporter": "python",
   "pygments_lexer": "ipython3",
   "version": "3.10.6"
  }
 },
 "nbformat": 4,
 "nbformat_minor": 5
}
