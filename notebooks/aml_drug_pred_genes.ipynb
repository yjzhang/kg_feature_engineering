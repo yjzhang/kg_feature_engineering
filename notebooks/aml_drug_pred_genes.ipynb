{
 "cells": [
  {
   "cell_type": "code",
   "execution_count": 1,
   "id": "774d56b7-abf2-492e-b376-02e710be5f9e",
   "metadata": {},
   "outputs": [],
   "source": [
    "# imports\n",
    "import numpy as np\n",
    "import pandas as pd\n",
    "import networkx as nx\n",
    "import kgfe"
   ]
  },
  {
   "cell_type": "code",
   "execution_count": 2,
   "id": "7e703e40-889f-4b48-96b7-3ab822750217",
   "metadata": {},
   "outputs": [],
   "source": [
    "from kgfe import gene_names"
   ]
  },
  {
   "cell_type": "code",
   "execution_count": 3,
   "id": "b3296933-033c-48fd-bbbb-74b6c8c2f788",
   "metadata": {},
   "outputs": [],
   "source": [
    "import igraph as ig"
   ]
  },
  {
   "cell_type": "markdown",
   "id": "088065dd-afac-4683-9ba8-6a186ea6de25",
   "metadata": {
    "tags": []
   },
   "source": [
    "## Load SPOKE"
   ]
  },
  {
   "cell_type": "code",
   "execution_count": 4,
   "id": "35bf5f4d-248e-463d-a001-e5264d50884c",
   "metadata": {},
   "outputs": [],
   "source": [
    "spoke_graph = kgfe.spoke_loader.load_spoke_igraph('../../graph_utils/spoke_2021.jsonl.gz', directed=True,\n",
    "                                                    verbose=False)"
   ]
  },
  {
   "cell_type": "code",
   "execution_count": 5,
   "id": "fa691d6b-f144-41b8-a019-364e25106824",
   "metadata": {},
   "outputs": [
    {
     "data": {
      "text/plain": [
       "11026"
      ]
     },
     "execution_count": 5,
     "metadata": {},
     "output_type": "execute_result"
    }
   ],
   "source": [
    "gene_names.get_id('LILRA3')"
   ]
  },
  {
   "cell_type": "code",
   "execution_count": 6,
   "id": "410cffa2-28db-414f-9467-8701b984cd4a",
   "metadata": {},
   "outputs": [],
   "source": [
    "spoke_graph_ud = spoke_graph.copy()\n",
    "spoke_graph_ud.to_undirected(combine_edges='first')\n",
    "spoke_graph_ud.simplify(combine_edges='first')\n",
    "spoke_graph_ud = kgfe.graph_info.largest_component(spoke_graph_ud)"
   ]
  },
  {
   "cell_type": "code",
   "execution_count": 7,
   "id": "f979167e-a3e3-4a6f-bdda-2f2b75ba7dd0",
   "metadata": {},
   "outputs": [],
   "source": [
    "genes_to_ids = kgfe.graph_info.spoke_identifiers_to_ids(spoke_graph_ud, 'Gene')"
   ]
  },
  {
   "cell_type": "code",
   "execution_count": 8,
   "id": "11f76f67-1485-43e7-a626-ba1fa4476840",
   "metadata": {},
   "outputs": [],
   "source": [
    "disease_to_ids = kgfe.graph_info.spoke_identifiers_to_ids(spoke_graph_ud, 'Disease')"
   ]
  },
  {
   "cell_type": "code",
   "execution_count": 9,
   "id": "4757923c-695f-459c-b137-907522105674",
   "metadata": {},
   "outputs": [
    {
     "data": {
      "text/plain": [
       "'2166630'"
      ]
     },
     "execution_count": 9,
     "metadata": {},
     "output_type": "execute_result"
    }
   ],
   "source": [
    "disease_to_ids['DOID:9119']"
   ]
  },
  {
   "cell_type": "markdown",
   "id": "e6685775-eb61-4e28-a489-8b35733a9304",
   "metadata": {},
   "source": [
    "## List of Venetoclax genes"
   ]
  },
  {
   "cell_type": "code",
   "execution_count": 10,
   "id": "fbfe4acd-056f-45c3-a36d-e28e52b6619b",
   "metadata": {},
   "outputs": [],
   "source": [
    "genes_small = 'BCL2, NFKB2, GATA2, NPC2'.split(', ')\n",
    "gene_ncbi_ids = gene_names.get_ids(genes_small)"
   ]
  },
  {
   "cell_type": "code",
   "execution_count": 11,
   "id": "da15d1c6-3e35-42d4-9114-47deca041173",
   "metadata": {},
   "outputs": [],
   "source": [
    "genes_venetoclax = 'FGD4 MIR4519 NPC2 GATA2 CASC10 POU6F1 BCL2 BECN1 C1QA SF3B2 IGF2R DNAJC1 ECHDC3 MIR940 GDF11 RBPJ MTSS1 FNTA'\n",
    "genes_venetoclax += 'CTCF NFKB2 FGD4 RPS10 LILRB2 COX6A1 C1QA FOXO1 LILRA3 RELB GOLGA8J LEF1'\n",
    "\n",
    "genes_venetoclax = genes_venetoclax.split()\n",
    "genes_venetoclax_ncbi_ids = []\n",
    "for g in genes_venetoclax:\n",
    "    try:\n",
    "        genes_venetoclax_ncbi_ids.append(gene_names.get_id(g))\n",
    "    except:\n",
    "        pass"
   ]
  },
  {
   "cell_type": "code",
   "execution_count": 12,
   "id": "7695115a-b2a0-4ef4-9f1a-b24c543d7311",
   "metadata": {},
   "outputs": [],
   "source": [
    "genes_venetoclax_spoke_ids = [genes_to_ids[g] for g in genes_venetoclax_ncbi_ids if g in genes_to_ids] + ['2166630']"
   ]
  },
  {
   "cell_type": "code",
   "execution_count": 13,
   "id": "52c70917-b50b-4068-91d2-a679fbef88be",
   "metadata": {},
   "outputs": [
    {
     "name": "stdout",
     "output_type": "stream",
     "text": [
      "venetoclax genes: 29 spoke-venetoclax genes: 26\n"
     ]
    }
   ],
   "source": [
    "print('venetoclax genes:', len(genes_venetoclax), 'spoke-venetoclax genes:', len(genes_venetoclax_spoke_ids))"
   ]
  },
  {
   "cell_type": "code",
   "execution_count": 14,
   "id": "f94808ab-2e57-4c23-8165-eb9807447d2e",
   "metadata": {},
   "outputs": [],
   "source": [
    "gene_ids = [genes_to_ids[g] for g in gene_ncbi_ids] + ['2166630']"
   ]
  },
  {
   "cell_type": "markdown",
   "id": "3caafcdb-94ba-46c6-8b69-60a4c0dd725e",
   "metadata": {},
   "source": [
    "## Calculate null model stats for Venetoclax genes"
   ]
  },
  {
   "cell_type": "code",
   "execution_count": 15,
   "id": "bf5d63bd-5786-483f-957e-3369cf3ea70e",
   "metadata": {},
   "outputs": [],
   "source": [
    "venetoclax_genes = [genes_to_ids[g] for g in gene_ncbi_ids]"
   ]
  },
  {
   "cell_type": "code",
   "execution_count": 17,
   "id": "d2bf667b-5a46-493c-96e7-8a31a01624cd",
   "metadata": {},
   "outputs": [],
   "source": [
    "venetoclax_genes_stats = kgfe.explanations.graph_node_stats(spoke_graph_ud, list(set(venetoclax_genes)),\n",
    "                                                         target_nodes=['2166630'])"
   ]
  },
  {
   "cell_type": "code",
   "execution_count": 18,
   "id": "d8796ab1-61bc-49be-b4f6-113666d7ea1c",
   "metadata": {},
   "outputs": [],
   "source": [
    "venetoclax_genes_null_results = kgfe.explanations.null_graph_stats(spoke_graph_ud, 'Gene',\\\n",
    "                                                                 len(venetoclax_genes),\\\n",
    "                                                                 use_degree_sampling=True,\\\n",
    "                                                                 input_id_set=venetoclax_genes,\n",
    "                                                                 target_nodes=['2166630'])"
   ]
  },
  {
   "cell_type": "code",
   "execution_count": 22,
   "id": "625d1307-6627-485c-a1bc-431a95db7ef2",
   "metadata": {},
   "outputs": [],
   "source": [
    "venetoclax_genes_null_results = pd.DataFrame(venetoclax_genes_null_results)"
   ]
  },
  {
   "cell_type": "code",
   "execution_count": 23,
   "id": "2da3fd42-6df1-441c-b690-bee6665301e5",
   "metadata": {},
   "outputs": [],
   "source": [
    "import matplotlib.pyplot as plt"
   ]
  },
  {
   "cell_type": "code",
   "execution_count": 24,
   "id": "4b9e38dc-79c4-4e1e-aaa1-94bd4599d596",
   "metadata": {},
   "outputs": [
    {
     "data": {
      "text/plain": [
       "<matplotlib.legend.Legend at 0x7f9333173ee0>"
      ]
     },
     "execution_count": 24,
     "metadata": {},
     "output_type": "execute_result"
    },
    {
     "data": {
      "image/png": "[encoded data removed]",
      "text/plain": [
       "<Figure size 640x480 with 1 Axes>"
      ]
     },
     "metadata": {},
     "output_type": "display_data"
    }
   ],
   "source": [
    "plt.hist(venetoclax_genes_null_results.average_pairwise_distance, bins=10, label='random')\n",
    "plt.title('Average pairwise distance distribution for randomly sampled degree-matched proteins')\n",
    "plt.plot([venetoclax_genes_stats['average_pairwise_distance'], venetoclax_genes_stats['average_pairwise_distance']],\n",
    "         [0, 10], label='Venetoclax genes')\n",
    "plt.xlabel('Average pairwise distance between proteins in SPOKE (lower = more related)')\n",
    "plt.legend()"
   ]
  },
  {
   "cell_type": "markdown",
   "id": "1744b170-55fa-48d0-906d-4761623afe75",
   "metadata": {},
   "source": [
    "TODO: do this for proteins as well, do this for a reduced graph (spoke-2021-bio?)"
   ]
  },
  {
   "cell_type": "markdown",
   "id": "14de7f1f-871c-4fbc-b73d-aae0d75d80a5",
   "metadata": {},
   "source": [
    "## Get Steiner Tree for AML genes on SPOKE-2021"
   ]
  },
  {
   "cell_type": "code",
   "execution_count": null,
   "id": "dca5af75-376a-4e62-a83d-9fb1bc3a1dd6",
   "metadata": {},
   "outputs": [],
   "source": [
    "gene_st, gene_subgraph = kgfe.explanations.steiner_tree_subgraph(spoke_graph_ud,\n",
    "                                                                    gene_ids,\n",
    "                                                                         method='takahashi')"
   ]
  },
  {
   "cell_type": "code",
   "execution_count": null,
   "id": "9a57c5c3-e5e1-4df8-a7bb-d1c26854a8fb",
   "metadata": {},
   "outputs": [],
   "source": [
    "import ipycytoscape\n",
    "graph_style = [{\n",
    "                        'selector': 'node[feature_name]',\n",
    "                             'style': {\n",
    "                                  'font-family': 'helvetica',\n",
    "                                  'font-size': '20px',\n",
    "                                 'label': 'data(feature_name)',\n",
    "                        }},\n",
    "                        {'selector': 'node[category=\"Protein\"]',\n",
    "                         'style': {\n",
    "                             'background-color': 'blue',\n",
    "                         }},\n",
    "                        {'selector': 'node[in_query=1]',\n",
    "                         'style': {\n",
    "                             'border-width': '5px',\n",
    "                             'border-color': 'red',\n",
    "                         }},\n",
    "                        {'selector': 'edge[type]',\n",
    "                         'style': {\n",
    "                             'label': 'data(type)',\n",
    "                         }},\n",
    "                        {\"selector\": \"edge.directed\",\n",
    "                         \"style\": {\n",
    "                            \"curve-style\": \"bezier\",\n",
    "                            \"target-arrow-shape\": \"triangle\",\n",
    "                    }},\n",
    "\n",
    "                    ]"
   ]
  },
  {
   "cell_type": "code",
   "execution_count": null,
   "id": "8f3a03d6-709e-4440-b3cf-92881dbc1007",
   "metadata": {
    "tags": []
   },
   "outputs": [],
   "source": [
    "undirected = ipycytoscape.CytoscapeWidget()\n",
    "gene_subgraph_nx = gene_subgraph.to_networkx()\n",
    "node_dict = {i: n['name'] for i, n in gene_subgraph_nx.nodes.items()}\n",
    "gene_subgraph_nx = nx.relabel_nodes(gene_subgraph_nx, node_dict)\n",
    "undirected.graph.add_graph_from_networkx(gene_subgraph_nx)\n",
    "undirected.set_tooltip_source('feature_name')\n",
    "undirected.set_layout(title='high_proteins', nodeSpacing=80, edgeLengthVal=50, )\n",
    "undirected.set_style(graph_style)"
   ]
  },
  {
   "cell_type": "code",
   "execution_count": null,
   "id": "185b477b-5ae7-4d53-9f49-2d0487a61af6",
   "metadata": {},
   "outputs": [],
   "source": [
    "display(undirected)"
   ]
  },
  {
   "cell_type": "markdown",
   "id": "8dedbea5-030e-41f8-9c9d-313b716dfa64",
   "metadata": {},
   "source": [
    "### Steiner tree for \"full\" venetoclax genes on SPOKE-2021"
   ]
  },
  {
   "cell_type": "code",
   "execution_count": null,
   "id": "248442f0-c6f3-4afd-99fd-a368d85382dc",
   "metadata": {},
   "outputs": [],
   "source": [
    "gene_st, gene_subgraph = kgfe.explanations.steiner_tree_subgraph(spoke_graph_ud,\n",
    "                                                                    genes_venetoclax_spoke_ids,\n",
    "                                                                         method='takahashi')"
   ]
  },
  {
   "cell_type": "code",
   "execution_count": null,
   "id": "a9e85f77-4f48-43f4-88ce-29d81b3d49c9",
   "metadata": {
    "tags": []
   },
   "outputs": [],
   "source": [
    "undirected = ipycytoscape.CytoscapeWidget()\n",
    "gene_subgraph_nx = gene_subgraph.to_networkx()\n",
    "node_dict = {i: n['name'] for i, n in gene_subgraph_nx.nodes.items()}\n",
    "gene_subgraph_nx = nx.relabel_nodes(gene_subgraph_nx, node_dict)\n",
    "undirected.graph.add_graph_from_networkx(gene_subgraph_nx)\n",
    "undirected.set_tooltip_source('feature_name')\n",
    "undirected.set_layout(title='high_proteins', nodeSpacing=80, edgeLengthVal=50, )\n",
    "undirected.set_style(graph_style)"
   ]
  },
  {
   "cell_type": "code",
   "execution_count": null,
   "id": "23bda995-b06a-4043-9aca-6f306fd42480",
   "metadata": {},
   "outputs": [],
   "source": [
    "display(undirected)"
   ]
  },
  {
   "cell_type": "markdown",
   "id": "4ecd1206-2dd7-44d9-813b-3cca33a0129d",
   "metadata": {},
   "source": [
    "## Merging graphs - do stuff on combined SIGNOR, reactome, kegg data"
   ]
  },
  {
   "cell_type": "code",
   "execution_count": null,
   "id": "e90e19ac-b77b-424d-9dd5-2442f921404b",
   "metadata": {},
   "outputs": [],
   "source": [
    "kgfe.graph_info.get_available_graphs()\n",
    "# consider SIGNOR, kegg, reactome"
   ]
  },
  {
   "cell_type": "code",
   "execution_count": null,
   "id": "a107d651-6fd9-401c-9ed7-452278196c61",
   "metadata": {},
   "outputs": [],
   "source": [
    "kegg_signaling = kgfe.graph_info.load_graph('KEGG_signaling.tsv')"
   ]
  },
  {
   "cell_type": "code",
   "execution_count": null,
   "id": "9e05a7b3-a891-4bb8-809f-c23e8ecf8581",
   "metadata": {},
   "outputs": [],
   "source": [
    "kegg_signaling.predicate = 'kegg_' + kegg_signaling.predicate"
   ]
  },
  {
   "cell_type": "code",
   "execution_count": null,
   "id": "287753e6-b43b-4cfd-be3d-84caad00da39",
   "metadata": {},
   "outputs": [],
   "source": [
    "signor_signaling = kgfe.graph_info.load_graph('SIGNOR_formated.tsv')"
   ]
  },
  {
   "cell_type": "code",
   "execution_count": null,
   "id": "71aa4dba-c692-4795-8a82-dc87e06453e0",
   "metadata": {},
   "outputs": [],
   "source": [
    "signor_signaling.predicate = 'signor_' + signor_signaling.predicate"
   ]
  },
  {
   "cell_type": "code",
   "execution_count": null,
   "id": "3581c76d-ab6b-45bb-a594-6a821825ff61",
   "metadata": {},
   "outputs": [],
   "source": [
    "reactome_genes_chems = kgfe.graph_info.load_graph('reactome_genes_chems.csv.gz')"
   ]
  },
  {
   "cell_type": "code",
   "execution_count": null,
   "id": "f0443784-bc5e-46c9-b9d2-0c07ea549e4b",
   "metadata": {},
   "outputs": [],
   "source": [
    "reactome_genes_chems.predicate = 'reactome_' + reactome_genes_chems.predicate"
   ]
  },
  {
   "cell_type": "code",
   "execution_count": null,
   "id": "40a6a9d3-f0e3-432d-92a4-182b3f08d9a9",
   "metadata": {},
   "outputs": [],
   "source": [
    "merged_graph = pd.concat([kegg_signaling, signor_signaling, reactome_genes_chems], axis=0)"
   ]
  },
  {
   "cell_type": "code",
   "execution_count": null,
   "id": "8ad90871-a555-444d-b488-1edec54f7df3",
   "metadata": {},
   "outputs": [],
   "source": [
    "biggim_graph = kgfe.graph_info.df_to_graph(merged_graph)"
   ]
  },
  {
   "cell_type": "code",
   "execution_count": null,
   "id": "e1729ef3-dada-4f52-a433-2c3bd9fb8c9b",
   "metadata": {},
   "outputs": [],
   "source": [
    "len(biggim_graph.vs)"
   ]
  },
  {
   "cell_type": "code",
   "execution_count": null,
   "id": "06573384-e810-4a67-bb27-f5f22ebdbcde",
   "metadata": {},
   "outputs": [],
   "source": [
    "genes_to_ids = kgfe.graph_info.get_names_to_ids(biggim_graph, category='Gene')"
   ]
  },
  {
   "cell_type": "markdown",
   "id": "f05fff20-ef6b-4e62-ab8f-7f82ce11f738",
   "metadata": {},
   "source": [
    "## Get Steiner Tree for AML genes on combined graph"
   ]
  },
  {
   "cell_type": "code",
   "execution_count": null,
   "id": "51d12e48-20bc-411e-a91c-a9c9eac023f9",
   "metadata": {},
   "outputs": [],
   "source": [
    "gene_ids = [genes_to_ids[g] for g in genes_small]"
   ]
  },
  {
   "cell_type": "code",
   "execution_count": null,
   "id": "30e7aaa2-5119-405f-a32e-92676f6ca13c",
   "metadata": {},
   "outputs": [],
   "source": [
    "genes_venetoclax_ids = [genes_to_ids[g] for g in genes_venetoclax if g in genes_to_ids]"
   ]
  },
  {
   "cell_type": "code",
   "execution_count": null,
   "id": "de9768a6-f767-4fd8-b03e-6ae27997bfa7",
   "metadata": {},
   "outputs": [],
   "source": [
    "gene_st, gene_subgraph = kgfe.explanations.steiner_tree_subgraph(biggim_graph,\n",
    "                                                                    gene_ids,\n",
    "                                                                         method='takahashi')"
   ]
  },
  {
   "cell_type": "code",
   "execution_count": null,
   "id": "25aaf962-c2af-42b9-93cd-7d60816c8432",
   "metadata": {},
   "outputs": [],
   "source": [
    "graph_style = [{\n",
    "                        'selector': 'node[feature_name]',\n",
    "                             'style': {\n",
    "                                  'font-family': 'helvetica',\n",
    "                                  'font-size': '20px',\n",
    "                                 'label': 'data(feature_name)',\n",
    "                        }},\n",
    "                        {'selector': 'node[category=\"Protein\"]',\n",
    "                         'style': {\n",
    "                             'background-color': 'blue',\n",
    "                         }},\n",
    "                        {'selector': 'node[in_query=1]',\n",
    "                         'style': {\n",
    "                             'border-width': '5px',\n",
    "                             'border-color': 'red',\n",
    "                         }},\n",
    "                        {'selector': 'edge[predicate]',\n",
    "                         'style': {\n",
    "                             'label': 'data(predicate)',\n",
    "                         }},\n",
    "                        {\"selector\": \"edge.directed\",\n",
    "                         \"style\": {\n",
    "                            \"curve-style\": \"bezier\",\n",
    "                            \"target-arrow-shape\": \"triangle\",\n",
    "                    }},\n",
    "\n",
    "                    ]"
   ]
  },
  {
   "cell_type": "code",
   "execution_count": null,
   "id": "a4330e02-579b-4b84-bcef-8414d306c0c5",
   "metadata": {},
   "outputs": [],
   "source": [
    "undirected = ipycytoscape.CytoscapeWidget()\n",
    "gene_subgraph_nx = gene_subgraph.to_networkx()\n",
    "node_dict = {i: n['name'] for i, n in gene_subgraph_nx.nodes.items()}\n",
    "gene_subgraph_nx = nx.relabel_nodes(gene_subgraph_nx, node_dict)\n",
    "undirected.graph.add_graph_from_networkx(gene_subgraph_nx)\n",
    "for node in undirected.graph.nodes:\n",
    "    if 'name' in node.data:\n",
    "        node.data['id'] = node.data['name']\n",
    "undirected.set_tooltip_source('feature_name')\n",
    "undirected.set_layout(title='high_proteins', nodeSpacing=80, edgeLengthVal=50, )\n",
    "undirected.set_style(graph_style)"
   ]
  },
  {
   "cell_type": "code",
   "execution_count": null,
   "id": "92d9078e-067b-49a8-bbcd-c2f5e03aaf89",
   "metadata": {},
   "outputs": [],
   "source": [
    "display(undirected)"
   ]
  },
  {
   "cell_type": "code",
   "execution_count": null,
   "id": "5d817a32-51a1-4aea-83fb-d15a1186d69e",
   "metadata": {},
   "outputs": [],
   "source": [
    "gene_st, gene_subgraph = kgfe.explanations.steiner_tree_subgraph(biggim_graph,\n",
    "                                                                    genes_venetoclax_ids,\n",
    "                                                                         method='takahashi')"
   ]
  },
  {
   "cell_type": "markdown",
   "id": "f177fba4-5a61-49cd-86d2-cb03d45504f5",
   "metadata": {},
   "source": [
    "### Steiner tree for \"full\" venetoclax genes on merged graph"
   ]
  },
  {
   "cell_type": "code",
   "execution_count": null,
   "id": "d807eb76-2c9c-460e-ac38-d12001b21373",
   "metadata": {},
   "outputs": [],
   "source": [
    "undirected = ipycytoscape.CytoscapeWidget()\n",
    "gene_subgraph_nx = gene_subgraph.to_networkx()\n",
    "node_dict = {i: n['name'] for i, n in gene_subgraph_nx.nodes.items()}\n",
    "gene_subgraph_nx = nx.relabel_nodes(gene_subgraph_nx, node_dict)\n",
    "undirected.graph.add_graph_from_networkx(gene_subgraph_nx)\n",
    "for node in undirected.graph.nodes:\n",
    "    if 'name' in node.data:\n",
    "        node.data['id'] = node.data['name']\n",
    "undirected.set_tooltip_source('feature_name')\n",
    "undirected.set_layout(title='high_proteins', nodeSpacing=80, edgeLengthVal=50, )\n",
    "undirected.set_style(graph_style)"
   ]
  },
  {
   "cell_type": "code",
   "execution_count": null,
   "id": "be598453-a7d6-424b-b101-d06ab611b4c7",
   "metadata": {},
   "outputs": [],
   "source": [
    "display(undirected)"
   ]
  },
  {
   "cell_type": "code",
   "execution_count": null,
   "id": "0f513ff7-a788-4910-9dd7-3441d4c5054a",
   "metadata": {},
   "outputs": [],
   "source": []
  }
 ],
 "metadata": {
  "kernelspec": {
   "display_name": "Python 3 (ipykernel)",
   "language": "python",
   "name": "python3"
  },
  "language_info": {
   "codemirror_mode": {
    "name": "ipython",
    "version": 3
   },
   "file_extension": ".py",
   "mimetype": "text/x-python",
   "name": "python",
   "nbconvert_exporter": "python",
   "pygments_lexer": "ipython3",
   "version": "3.10.6"
  },
  "widgets": {
   "application/vnd.jupyter.widget-state+json": {
    "state": {},
    "version_major": 2,
    "version_minor": 0
   }
  }
 },
 "nbformat": 4,
 "nbformat_minor": 5
}
