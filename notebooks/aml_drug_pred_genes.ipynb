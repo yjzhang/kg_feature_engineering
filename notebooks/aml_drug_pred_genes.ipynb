{
 "cells": [
  {
   "cell_type": "code",
   "execution_count": 1,
   "id": "774d56b7-abf2-492e-b376-02e710be5f9e",
   "metadata": {},
   "outputs": [],
   "source": [
    "# imports\n",
    "import numpy as np\n",
    "import pandas as pd\n",
    "import networkx as nx\n",
    "import kgfe"
   ]
  },
  {
   "cell_type": "code",
   "execution_count": 2,
   "id": "7e703e40-889f-4b48-96b7-3ab822750217",
   "metadata": {},
   "outputs": [],
   "source": [
    "from kgfe import gene_names"
   ]
  },
  {
   "cell_type": "code",
   "execution_count": 3,
   "id": "b3296933-033c-48fd-bbbb-74b6c8c2f788",
   "metadata": {},
   "outputs": [],
   "source": [
    "import igraph as ig"
   ]
  },
  {
   "cell_type": "markdown",
   "id": "088065dd-afac-4683-9ba8-6a186ea6de25",
   "metadata": {},
   "source": [
    "## Load SPOKE"
   ]
  },
  {
   "cell_type": "code",
   "execution_count": 4,
   "id": "35bf5f4d-248e-463d-a001-e5264d50884c",
   "metadata": {},
   "outputs": [],
   "source": [
    "spoke_graph = kgfe.spoke_loader.load_spoke_igraph('../../graph_utils/spoke_2021.jsonl.gz', directed=True,\n",
    "                                                    verbose=False)"
   ]
  },
  {
   "cell_type": "code",
   "execution_count": 90,
   "id": "fa691d6b-f144-41b8-a019-364e25106824",
   "metadata": {},
   "outputs": [
    {
     "data": {
      "text/plain": [
       "11026"
      ]
     },
     "execution_count": 90,
     "metadata": {},
     "output_type": "execute_result"
    }
   ],
   "source": [
    "gene_names.get_id('LILRA3')"
   ]
  },
  {
   "cell_type": "code",
   "execution_count": 101,
   "id": "410cffa2-28db-414f-9467-8701b984cd4a",
   "metadata": {},
   "outputs": [],
   "source": [
    "spoke_graph_ud = spoke_graph.copy()\n",
    "spoke_graph_ud.to_undirected(combine_edges='first')\n",
    "spoke_graph_ud.simplify(combine_edges='first')\n",
    "spoke_graph_ud = kgfe.graph_info.largest_component(spoke_graph_ud)"
   ]
  },
  {
   "cell_type": "code",
   "execution_count": 102,
   "id": "f979167e-a3e3-4a6f-bdda-2f2b75ba7dd0",
   "metadata": {},
   "outputs": [],
   "source": [
    "genes_to_ids = kgfe.graph_info.spoke_identifiers_to_ids(spoke_graph_ud, 'Gene')"
   ]
  },
  {
   "cell_type": "code",
   "execution_count": 103,
   "id": "11f76f67-1485-43e7-a626-ba1fa4476840",
   "metadata": {},
   "outputs": [],
   "source": [
    "disease_to_ids = kgfe.graph_info.spoke_identifiers_to_ids(spoke_graph_ud, 'Disease')"
   ]
  },
  {
   "cell_type": "code",
   "execution_count": 104,
   "id": "4757923c-695f-459c-b137-907522105674",
   "metadata": {},
   "outputs": [
    {
     "data": {
      "text/plain": [
       "'2166630'"
      ]
     },
     "execution_count": 104,
     "metadata": {},
     "output_type": "execute_result"
    }
   ],
   "source": [
    "disease_to_ids['DOID:9119']"
   ]
  },
  {
   "cell_type": "markdown",
   "id": "e6685775-eb61-4e28-a489-8b35733a9304",
   "metadata": {},
   "source": [
    "## List of Venetoclax genes"
   ]
  },
  {
   "cell_type": "code",
   "execution_count": 105,
   "id": "fbfe4acd-056f-45c3-a36d-e28e52b6619b",
   "metadata": {},
   "outputs": [],
   "source": [
    "genes_small = 'BCL2, NFKB2, GATA2, NPC2'.split(', ')\n",
    "gene_ncbi_ids = gene_names.get_ids(genes_small)"
   ]
  },
  {
   "cell_type": "code",
   "execution_count": 106,
   "id": "da15d1c6-3e35-42d4-9114-47deca041173",
   "metadata": {},
   "outputs": [],
   "source": [
    "genes_venetoclax = 'FGD4 MIR4519 NPC2 GATA2 CASC10 POU6F1 BCL2 BECN1 C1QA SF3B2 IGF2R DNAJC1 ECHDC3 MIR940 GDF11 RBPJ MTSS1 FNTA'\n",
    "genes_venetoclax += 'CTCF NFKB2 FGD4 RPS10 LILRB2 COX6A1 C1QA FOXO1 LILRA3 RELB GOLGA8J LEF1'\n",
    "\n",
    "genes_venetoclax = genes_venetoclax.split()\n",
    "genes_venetoclax_ncbi_ids = []\n",
    "for g in genes_venetoclax:\n",
    "    try:\n",
    "        genes_venetoclax_ncbi_ids.append(gene_names.get_id(g))\n",
    "    except:\n",
    "        pass"
   ]
  },
  {
   "cell_type": "code",
   "execution_count": 107,
   "id": "7695115a-b2a0-4ef4-9f1a-b24c543d7311",
   "metadata": {},
   "outputs": [],
   "source": [
    "genes_venetoclax_spoke_ids = [genes_to_ids[g] for g in genes_venetoclax_ncbi_ids if g in genes_to_ids] + ['2166630']"
   ]
  },
  {
   "cell_type": "code",
   "execution_count": 114,
   "id": "52c70917-b50b-4068-91d2-a679fbef88be",
   "metadata": {},
   "outputs": [
    {
     "name": "stdout",
     "output_type": "stream",
     "text": [
      "venetoclax genes: 29 spoke-venetoclax genes: 26\n"
     ]
    }
   ],
   "source": [
    "print('venetoclax genes:', len(genes_venetoclax), 'spoke-venetoclax genes:', len(genes_venetoclax_spoke_ids))"
   ]
  },
  {
   "cell_type": "code",
   "execution_count": 108,
   "id": "f94808ab-2e57-4c23-8165-eb9807447d2e",
   "metadata": {},
   "outputs": [],
   "source": [
    "gene_ids = [genes_to_ids[g] for g in gene_ncbi_ids] + ['2166630']"
   ]
  },
  {
   "cell_type": "markdown",
   "id": "14de7f1f-871c-4fbc-b73d-aae0d75d80a5",
   "metadata": {},
   "source": [
    "## Get Steiner Tree for AML genes on SPOKE-2021"
   ]
  },
  {
   "cell_type": "code",
   "execution_count": 109,
   "id": "dca5af75-376a-4e62-a83d-9fb1bc3a1dd6",
   "metadata": {},
   "outputs": [],
   "source": [
    "gene_st, gene_subgraph = kgfe.explanations.steiner_tree_subgraph(spoke_graph_ud,\n",
    "                                                                    gene_ids,\n",
    "                                                                         method='takahashi')"
   ]
  },
  {
   "cell_type": "code",
   "execution_count": 110,
   "id": "9a57c5c3-e5e1-4df8-a7bb-d1c26854a8fb",
   "metadata": {},
   "outputs": [],
   "source": [
    "import ipycytoscape\n",
    "graph_style = [{\n",
    "                        'selector': 'node[feature_name]',\n",
    "                             'style': {\n",
    "                                  'font-family': 'helvetica',\n",
    "                                  'font-size': '20px',\n",
    "                                 'label': 'data(feature_name)',\n",
    "                        }},\n",
    "                        {'selector': 'node[category=\"Protein\"]',\n",
    "                         'style': {\n",
    "                             'background-color': 'blue',\n",
    "                         }},\n",
    "                        {'selector': 'node[in_query=1]',\n",
    "                         'style': {\n",
    "                             'border-width': '5px',\n",
    "                             'border-color': 'red',\n",
    "                         }},\n",
    "                        {'selector': 'edge[type]',\n",
    "                         'style': {\n",
    "                             'label': 'data(type)',\n",
    "                         }},\n",
    "                        {\"selector\": \"edge.directed\",\n",
    "                         \"style\": {\n",
    "                            \"curve-style\": \"bezier\",\n",
    "                            \"target-arrow-shape\": \"triangle\",\n",
    "                    }},\n",
    "\n",
    "                    ]"
   ]
  },
  {
   "cell_type": "code",
   "execution_count": 111,
   "id": "8f3a03d6-709e-4440-b3cf-92881dbc1007",
   "metadata": {
    "tags": []
   },
   "outputs": [],
   "source": [
    "undirected = ipycytoscape.CytoscapeWidget()\n",
    "gene_subgraph_nx = gene_subgraph.to_networkx()\n",
    "node_dict = {i: n['name'] for i, n in gene_subgraph_nx.nodes.items()}\n",
    "gene_subgraph_nx = nx.relabel_nodes(gene_subgraph_nx, node_dict)\n",
    "undirected.graph.add_graph_from_networkx(gene_subgraph_nx)\n",
    "undirected.set_tooltip_source('feature_name')\n",
    "undirected.set_layout(title='high_proteins', nodeSpacing=80, edgeLengthVal=50, )\n",
    "undirected.set_style(graph_style)"
   ]
  },
  {
   "cell_type": "code",
   "execution_count": 112,
   "id": "185b477b-5ae7-4d53-9f49-2d0487a61af6",
   "metadata": {},
   "outputs": [
    {
     "data": {
      "application/vnd.jupyter.widget-view+json": {
       "model_id": "84971603bad647c0929e2bebb9efc8a5",
       "version_major": 2,
       "version_minor": 0
      },
      "text/plain": [
       "CytoscapeWidget(cytoscape_layout={'name': 'cola', 'title': 'high_proteins', 'nodeSpacing': 80, 'edgeLengthVal'…"
      ]
     },
     "metadata": {},
     "output_type": "display_data"
    }
   ],
   "source": [
    "display(undirected)"
   ]
  },
  {
   "cell_type": "markdown",
   "id": "8dedbea5-030e-41f8-9c9d-313b716dfa64",
   "metadata": {},
   "source": [
    "### Steiner tree for \"full\" venetoclax genes on SPOKE-2021"
   ]
  },
  {
   "cell_type": "code",
   "execution_count": 113,
   "id": "248442f0-c6f3-4afd-99fd-a368d85382dc",
   "metadata": {},
   "outputs": [],
   "source": [
    "gene_st, gene_subgraph = kgfe.explanations.steiner_tree_subgraph(spoke_graph_ud,\n",
    "                                                                    genes_venetoclax_spoke_ids,\n",
    "                                                                         method='takahashi')"
   ]
  },
  {
   "cell_type": "code",
   "execution_count": 115,
   "id": "a9e85f77-4f48-43f4-88ce-29d81b3d49c9",
   "metadata": {
    "tags": []
   },
   "outputs": [],
   "source": [
    "undirected = ipycytoscape.CytoscapeWidget()\n",
    "gene_subgraph_nx = gene_subgraph.to_networkx()\n",
    "node_dict = {i: n['name'] for i, n in gene_subgraph_nx.nodes.items()}\n",
    "gene_subgraph_nx = nx.relabel_nodes(gene_subgraph_nx, node_dict)\n",
    "undirected.graph.add_graph_from_networkx(gene_subgraph_nx)\n",
    "undirected.set_tooltip_source('feature_name')\n",
    "undirected.set_layout(title='high_proteins', nodeSpacing=80, edgeLengthVal=50, )\n",
    "undirected.set_style(graph_style)"
   ]
  },
  {
   "cell_type": "code",
   "execution_count": 116,
   "id": "23bda995-b06a-4043-9aca-6f306fd42480",
   "metadata": {},
   "outputs": [
    {
     "data": {
      "application/vnd.jupyter.widget-view+json": {
       "model_id": "c1036504688e4cb9aca8dd1bb7ee47f4",
       "version_major": 2,
       "version_minor": 0
      },
      "text/plain": [
       "CytoscapeWidget(cytoscape_layout={'name': 'cola', 'title': 'high_proteins', 'nodeSpacing': 80, 'edgeLengthVal'…"
      ]
     },
     "metadata": {},
     "output_type": "display_data"
    }
   ],
   "source": [
    "display(undirected)"
   ]
  },
  {
   "cell_type": "markdown",
   "id": "4ecd1206-2dd7-44d9-813b-3cca33a0129d",
   "metadata": {},
   "source": [
    "## Merging graphs - do stuff on combined SIGNOR, reactome, kegg data"
   ]
  },
  {
   "cell_type": "code",
   "execution_count": 17,
   "id": "e90e19ac-b77b-424d-9dd5-2442f921404b",
   "metadata": {},
   "outputs": [
    {
     "data": {
      "text/plain": [
       "['reactome_ppis.csv.gz',\n",
       " 'uniprot_genes.csv',\n",
       " 'spoke_2021.jsonl.gz',\n",
       " 'kegg_pathway_data.csv',\n",
       " 'hsa04930.csv',\n",
       " 'reactome_genes_chems.csv.gz',\n",
       " 'SIGNOR_formated.tsv',\n",
       " 'kegg_interaction_data.csv',\n",
       " 'KEGG_signaling.tsv',\n",
       " 'msigdb']"
      ]
     },
     "execution_count": 17,
     "metadata": {},
     "output_type": "execute_result"
    }
   ],
   "source": [
    "kgfe.graph_info.get_available_graphs()\n",
    "# consider SIGNOR, kegg, reactome"
   ]
  },
  {
   "cell_type": "code",
   "execution_count": 18,
   "id": "a107d651-6fd9-401c-9ed7-452278196c61",
   "metadata": {},
   "outputs": [],
   "source": [
    "kegg_signaling = kgfe.graph_info.load_graph('KEGG_signaling.tsv')"
   ]
  },
  {
   "cell_type": "code",
   "execution_count": 72,
   "id": "9e05a7b3-a891-4bb8-809f-c23e8ecf8581",
   "metadata": {},
   "outputs": [],
   "source": [
    "kegg_signaling.predicate = 'kegg_' + kegg_signaling.predicate"
   ]
  },
  {
   "cell_type": "code",
   "execution_count": 19,
   "id": "287753e6-b43b-4cfd-be3d-84caad00da39",
   "metadata": {},
   "outputs": [],
   "source": [
    "signor_signaling = kgfe.graph_info.load_graph('SIGNOR_formated.tsv')"
   ]
  },
  {
   "cell_type": "code",
   "execution_count": 70,
   "id": "71aa4dba-c692-4795-8a82-dc87e06453e0",
   "metadata": {},
   "outputs": [],
   "source": [
    "signor_signaling.predicate = 'signor_' + signor_signaling.predicate"
   ]
  },
  {
   "cell_type": "code",
   "execution_count": 20,
   "id": "3581c76d-ab6b-45bb-a594-6a821825ff61",
   "metadata": {},
   "outputs": [
    {
     "name": "stderr",
     "output_type": "stream",
     "text": [
      "/home/yjzhang/isb/kg_feature_engineering/src/kgfe/graph_info.py:36: DtypeWarning: Columns (0) have mixed types. Specify dtype option on import or set low_memory=False.\n",
      "  df = pd.read_csv(filename)\n"
     ]
    }
   ],
   "source": [
    "reactome_genes_chems = kgfe.graph_info.load_graph('reactome_genes_chems.csv.gz')"
   ]
  },
  {
   "cell_type": "code",
   "execution_count": 71,
   "id": "f0443784-bc5e-46c9-b9d2-0c07ea549e4b",
   "metadata": {},
   "outputs": [],
   "source": [
    "reactome_genes_chems.predicate = 'reactome_' + reactome_genes_chems.predicate"
   ]
  },
  {
   "cell_type": "code",
   "execution_count": 73,
   "id": "40a6a9d3-f0e3-432d-92a4-182b3f08d9a9",
   "metadata": {},
   "outputs": [],
   "source": [
    "merged_graph = pd.concat([kegg_signaling, signor_signaling, reactome_genes_chems], axis=0)"
   ]
  },
  {
   "cell_type": "code",
   "execution_count": 74,
   "id": "8ad90871-a555-444d-b488-1edec54f7df3",
   "metadata": {},
   "outputs": [],
   "source": [
    "biggim_graph = kgfe.graph_info.df_to_graph(merged_graph)"
   ]
  },
  {
   "cell_type": "code",
   "execution_count": 75,
   "id": "e1729ef3-dada-4f52-a433-2c3bd9fb8c9b",
   "metadata": {},
   "outputs": [
    {
     "data": {
      "text/plain": [
       "24839"
      ]
     },
     "execution_count": 75,
     "metadata": {},
     "output_type": "execute_result"
    }
   ],
   "source": [
    "len(biggim_graph.vs)"
   ]
  },
  {
   "cell_type": "code",
   "execution_count": 117,
   "id": "06573384-e810-4a67-bb27-f5f22ebdbcde",
   "metadata": {},
   "outputs": [],
   "source": [
    "genes_to_ids = kgfe.graph_info.get_names_to_ids(biggim_graph, category='Gene')"
   ]
  },
  {
   "cell_type": "markdown",
   "id": "f05fff20-ef6b-4e62-ab8f-7f82ce11f738",
   "metadata": {},
   "source": [
    "## Get Steiner Tree for AML genes on combined graph"
   ]
  },
  {
   "cell_type": "code",
   "execution_count": 118,
   "id": "51d12e48-20bc-411e-a91c-a9c9eac023f9",
   "metadata": {},
   "outputs": [],
   "source": [
    "gene_ids = [genes_to_ids[g] for g in genes_small]"
   ]
  },
  {
   "cell_type": "code",
   "execution_count": 119,
   "id": "30e7aaa2-5119-405f-a32e-92676f6ca13c",
   "metadata": {},
   "outputs": [],
   "source": [
    "genes_venetoclax_ids = [genes_to_ids[g] for g in genes_venetoclax if g in genes_to_ids]"
   ]
  },
  {
   "cell_type": "code",
   "execution_count": 120,
   "id": "de9768a6-f767-4fd8-b03e-6ae27997bfa7",
   "metadata": {},
   "outputs": [],
   "source": [
    "gene_st, gene_subgraph = kgfe.explanations.steiner_tree_subgraph(biggim_graph,\n",
    "                                                                    gene_ids,\n",
    "                                                                         method='takahashi')"
   ]
  },
  {
   "cell_type": "code",
   "execution_count": 121,
   "id": "25aaf962-c2af-42b9-93cd-7d60816c8432",
   "metadata": {},
   "outputs": [],
   "source": [
    "graph_style = [{\n",
    "                        'selector': 'node[feature_name]',\n",
    "                             'style': {\n",
    "                                  'font-family': 'helvetica',\n",
    "                                  'font-size': '20px',\n",
    "                                 'label': 'data(feature_name)',\n",
    "                        }},\n",
    "                        {'selector': 'node[category=\"Protein\"]',\n",
    "                         'style': {\n",
    "                             'background-color': 'blue',\n",
    "                         }},\n",
    "                        {'selector': 'node[in_query=1]',\n",
    "                         'style': {\n",
    "                             'border-width': '5px',\n",
    "                             'border-color': 'red',\n",
    "                         }},\n",
    "                        {'selector': 'edge[predicate]',\n",
    "                         'style': {\n",
    "                             'label': 'data(predicate)',\n",
    "                         }},\n",
    "                        {\"selector\": \"edge.directed\",\n",
    "                         \"style\": {\n",
    "                            \"curve-style\": \"bezier\",\n",
    "                            \"target-arrow-shape\": \"triangle\",\n",
    "                    }},\n",
    "\n",
    "                    ]"
   ]
  },
  {
   "cell_type": "code",
   "execution_count": 122,
   "id": "a4330e02-579b-4b84-bcef-8414d306c0c5",
   "metadata": {},
   "outputs": [],
   "source": [
    "undirected = ipycytoscape.CytoscapeWidget()\n",
    "gene_subgraph_nx = gene_subgraph.to_networkx()\n",
    "node_dict = {i: n['name'] for i, n in gene_subgraph_nx.nodes.items()}\n",
    "gene_subgraph_nx = nx.relabel_nodes(gene_subgraph_nx, node_dict)\n",
    "undirected.graph.add_graph_from_networkx(gene_subgraph_nx)\n",
    "for node in undirected.graph.nodes:\n",
    "    if 'name' in node.data:\n",
    "        node.data['id'] = node.data['name']\n",
    "undirected.set_tooltip_source('feature_name')\n",
    "undirected.set_layout(title='high_proteins', nodeSpacing=80, edgeLengthVal=50, )\n",
    "undirected.set_style(graph_style)"
   ]
  },
  {
   "cell_type": "code",
   "execution_count": 123,
   "id": "92d9078e-067b-49a8-bbcd-c2f5e03aaf89",
   "metadata": {},
   "outputs": [
    {
     "data": {
      "application/vnd.jupyter.widget-view+json": {
       "model_id": "74a03d820d1a4425b7d761e99621888e",
       "version_major": 2,
       "version_minor": 0
      },
      "text/plain": [
       "CytoscapeWidget(cytoscape_layout={'name': 'cola', 'title': 'high_proteins', 'nodeSpacing': 80, 'edgeLengthVal'…"
      ]
     },
     "metadata": {},
     "output_type": "display_data"
    }
   ],
   "source": [
    "display(undirected)"
   ]
  },
  {
   "cell_type": "code",
   "execution_count": 124,
   "id": "5d817a32-51a1-4aea-83fb-d15a1186d69e",
   "metadata": {},
   "outputs": [],
   "source": [
    "gene_st, gene_subgraph = kgfe.explanations.steiner_tree_subgraph(biggim_graph,\n",
    "                                                                    genes_venetoclax_ids,\n",
    "                                                                         method='takahashi')"
   ]
  },
  {
   "cell_type": "markdown",
   "id": "f177fba4-5a61-49cd-86d2-cb03d45504f5",
   "metadata": {},
   "source": [
    "### Steiner tree for \"full\" venetoclax genes on merged graph"
   ]
  },
  {
   "cell_type": "code",
   "execution_count": 125,
   "id": "d807eb76-2c9c-460e-ac38-d12001b21373",
   "metadata": {},
   "outputs": [],
   "source": [
    "undirected = ipycytoscape.CytoscapeWidget()\n",
    "gene_subgraph_nx = gene_subgraph.to_networkx()\n",
    "node_dict = {i: n['name'] for i, n in gene_subgraph_nx.nodes.items()}\n",
    "gene_subgraph_nx = nx.relabel_nodes(gene_subgraph_nx, node_dict)\n",
    "undirected.graph.add_graph_from_networkx(gene_subgraph_nx)\n",
    "for node in undirected.graph.nodes:\n",
    "    if 'name' in node.data:\n",
    "        node.data['id'] = node.data['name']\n",
    "undirected.set_tooltip_source('feature_name')\n",
    "undirected.set_layout(title='high_proteins', nodeSpacing=80, edgeLengthVal=50, )\n",
    "undirected.set_style(graph_style)"
   ]
  },
  {
   "cell_type": "code",
   "execution_count": 126,
   "id": "be598453-a7d6-424b-b101-d06ab611b4c7",
   "metadata": {},
   "outputs": [
    {
     "data": {
      "application/vnd.jupyter.widget-view+json": {
       "model_id": "daf06bb5ec174b0ba9b055bbcaf9e404",
       "version_major": 2,
       "version_minor": 0
      },
      "text/plain": [
       "CytoscapeWidget(cytoscape_layout={'name': 'cola', 'title': 'high_proteins', 'nodeSpacing': 80, 'edgeLengthVal'…"
      ]
     },
     "metadata": {},
     "output_type": "display_data"
    }
   ],
   "source": [
    "display(undirected)"
   ]
  },
  {
   "cell_type": "code",
   "execution_count": null,
   "id": "0f513ff7-a788-4910-9dd7-3441d4c5054a",
   "metadata": {},
   "outputs": [],
   "source": []
  }
 ],
 "metadata": {
  "kernelspec": {
   "display_name": "Python 3 (ipykernel)",
   "language": "python",
   "name": "python3"
  },
  "language_info": {
   "codemirror_mode": {
    "name": "ipython",
    "version": 3
   },
   "file_extension": ".py",
   "mimetype": "text/x-python",
   "name": "python",
   "nbconvert_exporter": "python",
   "pygments_lexer": "ipython3",
   "version": "3.10.6"
  },
  "widgets": {
   "application/vnd.jupyter.widget-state+json": {
    "state": {
     "00bad025f69c4de2b7b6985a00a5f21a": {
      "model_module": "jupyter-cytoscape",
      "model_module_version": "^1.3.3",
      "model_name": "EdgeModel",
      "state": {
       "_model_module_version": "^1.3.3",
       "_view_module_version": "^1.3.3",
       "data": {
        "_igraph_index": 21,
        "id": "5dfe0733-2775-4507-880b-20aa6f62b4ee",
        "source": "2193539",
        "target": "2194503",
        "type": "UPREGULATES_OGuG"
       },
       "selectable": false
      }
     },
     "0122e7026bd6428ebb6c1799fa340afb": {
      "model_module": "jupyter-cytoscape",
      "model_module_version": "^1.3.3",
      "model_name": "EdgeModel",
      "state": {
       "_model_module_version": "^1.3.3",
       "_view_module_version": "^1.3.3",
       "data": {
        "Knowledge_Source": "Reactome",
        "Primary_Knowledge_Source": "R-HSA-109582",
        "_igraph_index": 1,
        "id": "ef718c80-c1cf-4128-adbc-c67bf1617c19",
        "predicate": "participates_in",
        "publications": "PMID:34788843",
        "source": "NCBIGene::7157",
        "target": "REACT::R-HSA-109582"
       },
       "selectable": false
      }
     },
     "01e1cdac6d644a28b900dfd1aebd895f": {
      "model_module": "jupyter-cytoscape",
      "model_module_version": "^1.3.3",
      "model_name": "GraphModel",
      "state": {
       "_adj": {
        "2166630": {},
        "2175051": {},
        "2175196": {},
        "2190368": {},
        "2190459": {},
        "2190948": {},
        "2191712": {},
        "2191899": {},
        "2192566": {},
        "2192584": {},
        "2193539": {},
        "2194083": {},
        "2194503": {},
        "2194660": {},
        "2196159": {},
        "2196539": {},
        "2197473": {},
        "2197854": {},
        "2197914": {},
        "2198153": {},
        "2198485": {},
        "2198515": {},
        "2199864": {},
        "2201977": {},
        "2208939": {},
        "2209337": {}
       },
       "_model_module_version": "^1.3.3",
       "_view_module": "jupyter-cytoscape",
       "_view_module_version": "^1.3.3",
       "edges": [
        "IPY_MODEL_0aaa7b2880ed49af84df8cbeb49d066d",
        "IPY_MODEL_09f80e2a73d84fbab46228a43625f559",
        "IPY_MODEL_bc4f882787574009bd82f3038dd0ee48",
        "IPY_MODEL_9a8f7cb476b44ab4b5b49321567c3855",
        "IPY_MODEL_51823f56672e4e8280e17bcbb936eaea",
        "IPY_MODEL_f8b9a34f3ae64af684481ec83b13019d",
        "IPY_MODEL_1c7fd8e525c24410b523c6f507e9267d",
        "IPY_MODEL_6d031ac3c70b4a86b43fe6d37136cf75",
        "IPY_MODEL_fda0541ff4ab413db2dc1fee7d0dc622",
        "IPY_MODEL_b38f9fca149745e486af127a731a2866",
        "IPY_MODEL_e5ac5ccd9d8949279970b2731d8136a4",
        "IPY_MODEL_c302bb2c4d324a20ba058f6174f6be9e",
        "IPY_MODEL_69e104056a2f42b1ad856936eee04651",
        "IPY_MODEL_0c5d7b19b0f74313bbdaf539f15bb791",
        "IPY_MODEL_4ce4160a782e48ebbb0a87ce15b8b266",
        "IPY_MODEL_e55372711b5f4c8ebd23bdfa48577c1f",
        "IPY_MODEL_a7b8474dbc3d4d96a6edd929f8478a5a",
        "IPY_MODEL_d4bab49bcf524321bff1df6e2c1489bb",
        "IPY_MODEL_2641bf384ebd4d5eb08d8afb46ceb920",
        "IPY_MODEL_79d0a54f14e248cea6f72937e1ba7930",
        "IPY_MODEL_05e75eabd5d44cf8ba98d9fe48a1c38e",
        "IPY_MODEL_2f05c63e2f8c4da1a853e8c342fbb194",
        "IPY_MODEL_cd09d7397df84f608d70042cd7afa4a4",
        "IPY_MODEL_e7d2e336174f44aab3e4b5677b3d6a8f",
        "IPY_MODEL_938abff9410743c0b33d22a37d29ea92",
        "IPY_MODEL_19420cea8b514fee94094da2d62fdadd",
        "IPY_MODEL_f8a9ac00c68248f896af1ab8b41036b1",
        "IPY_MODEL_554d93ec592e448bbd95b31e5d09bc16",
        "IPY_MODEL_3b3833d8ee454f91bae58c10227c67bc",
        "IPY_MODEL_4944f83e12094edab0dfe3c29d582311",
        "IPY_MODEL_e372954c1e1e41d1a078ad0288f588f4",
        "IPY_MODEL_bfb26ee0e50143e08e20c57f9207f392",
        "IPY_MODEL_b685f8c55603414b94b9649ad26273ef",
        "IPY_MODEL_81cde64df7ec443fa2a191f1b8ae6a75",
        "IPY_MODEL_6f9d59294d42408d9f84b7e91490644c",
        "IPY_MODEL_00bad025f69c4de2b7b6985a00a5f21a",
        "IPY_MODEL_5408d321920a4e88be61d32580206fb9",
        "IPY_MODEL_7f8176d24a704c3fa08316a04caf53ef",
        "IPY_MODEL_a7ed6a1d038045ac8066da85782dc28b"
       ],
       "nodes": [
        "IPY_MODEL_3e5e6eecf7f24f1ab3a10c5f97147b7e",
        "IPY_MODEL_202ae153496645c0be89b529f110b6e6",
        "IPY_MODEL_20513cdbcef74cd29c0c1cded11b0e02",
        "IPY_MODEL_b0fcecd30efa4eda8a9dcd863b971804",
        "IPY_MODEL_4d766ddbba2e46beb34b74230fdb3ee4",
        "IPY_MODEL_86fc4ae06f6e43cba87811b83300887a",
        "IPY_MODEL_e62a903fc7404b2db3bdd15592bf5b16",
        "IPY_MODEL_4f58077fc6f94d569292ab0ada707fef",
        "IPY_MODEL_293308e0f3d14b3f9e89ba2df2589c98",
        "IPY_MODEL_cd996cff4abc4196be69ad46265a4102",
        "IPY_MODEL_afbb8b8fef484400b40fd0ff9a41adb5",
        "IPY_MODEL_5ba29e8660f143a8a75f8e77f4611957",
        "IPY_MODEL_7c840beddf0d4a4b98016fb194f88de1",
        "IPY_MODEL_116474cdcf8544e6a5f2d2ae764038fa",
        "IPY_MODEL_d270c421b1a2433b9742463de2ff4f0e",
        "IPY_MODEL_4ab250d6d54046a1bb11760ac1c58486",
        "IPY_MODEL_4f7dc3fa28a345bb972c3a3920426c7f",
        "IPY_MODEL_9ba2135dde274ae9991d07b02fab6a71",
        "IPY_MODEL_3c2d35fc416840c99b594d875e9b9584",
        "IPY_MODEL_1cf2a76cb2c14c9aa6c78d1b2b7586a3",
        "IPY_MODEL_fca5b24f09014c42a2ea5ad6bbf2082d",
        "IPY_MODEL_045b5f037b414fe18c2a737626495020",
        "IPY_MODEL_e58f6112dbc24f1f8fc54cfbeef106f4",
        "IPY_MODEL_bb37f7030cd4401794063ac6d98ed24f",
        "IPY_MODEL_d7d35dfa7eea438e8e1ce836ec384c5b",
        "IPY_MODEL_aebc6da8a7814ba481f619bd5ae53fa6"
       ]
      }
     },
     "02589e08be8e42b9b961d2652ab13361": {
      "model_module": "jupyter-cytoscape",
      "model_module_version": "^1.3.3",
      "model_name": "NodeModel",
      "state": {
       "_model_module_version": "^1.3.3",
       "_view_module_version": "^1.3.3",
       "data": {
        "_igraph_index": 3,
        "category": "Pathway",
        "feature_name": "Hemostasis",
        "id": "REACT::R-HSA-109582",
        "id_prefix": "REACT",
        "in_query": 0,
        "name": "REACT::R-HSA-109582"
       },
       "grabbable": true,
       "grabbed": false,
       "position": {
        "x": 634.6687831362298,
        "y": 246.46454502179512
       },
       "selectable": false
      }
     },
     "02ba4b38095d4f359008dc55e44f8ed1": {
      "model_module": "jupyter-cytoscape",
      "model_module_version": "^1.3.3",
      "model_name": "GraphModel",
      "state": {
       "_adj": {
        "10577": {},
        "2624": {},
        "4791": {},
        "596.0": {},
        "7157": {},
        "NCBIGene::10577": {},
        "NCBIGene::2624": {
         "REACT::R-HSA-109582": 1
        },
        "NCBIGene::4791": {
         "REACT::R-HSA-168249": 1
        },
        "NCBIGene::596.0": {
         "NCBIGene::7157": 1
        },
        "NCBIGene::7157": {
         "NCBIGene::596.0": 1,
         "REACT::R-HSA-109582": 1,
         "REACT::R-HSA-168249": 1
        },
        "R-HSA-109582": {},
        "R-HSA-168249": {},
        "REACT::R-HSA-109582": {
         "NCBIGene::2624": 1,
         "NCBIGene::7157": 1
        },
        "REACT::R-HSA-168249": {
         "NCBIGene::4791": 1,
         "NCBIGene::7157": 1
        }
       },
       "_model_module_version": "^1.3.3",
       "_view_module": "jupyter-cytoscape",
       "_view_module_version": "^1.3.3",
       "edges": [
        "IPY_MODEL_ad943a5a6f71480bafc8a7ef293b19fe",
        "IPY_MODEL_bfe95af2b91947e9bcc896f742bda31f",
        "IPY_MODEL_139d285180fd4826a6062c6439e0ed84",
        "IPY_MODEL_07e04d8157614c11a3cdf32420cd6ea2",
        "IPY_MODEL_6752b704e96e4d2eb5a950a06fc220bb",
        "IPY_MODEL_1074b362a505456f831231763f6d5243"
       ],
       "nodes": [
        "IPY_MODEL_47fd3c0d0c4b464eb5be949688a1fbe9",
        "IPY_MODEL_d2bee51064d041a3abd83cac305d25ce",
        "IPY_MODEL_e9c7a27d1bf54d37b2dd1a01a5b5ede0",
        "IPY_MODEL_3933aace20b545599eaabf633aba6def",
        "IPY_MODEL_673dda7a983745fda3036a4dca2906bd",
        "IPY_MODEL_6b2448ed851940ad87d7ddcccb72df7e",
        "IPY_MODEL_fe11d77bcd3b436dab40908c8c06a5d5",
        "IPY_MODEL_7303fe101b584460bd7d7dd1903a07b9",
        "IPY_MODEL_1cde3b21380a4704a664499d9c68715f",
        "IPY_MODEL_3bb4214a97654d4e9150f9649cf85b16",
        "IPY_MODEL_d7d794e42dde4b51bf0f80438b9f9898",
        "IPY_MODEL_73dab69391344940987ebd362e242568",
        "IPY_MODEL_a6055c17e7c04dbab9ec28eebbb2e7bb",
        "IPY_MODEL_ce1a8917ccf84e6195300fb768326b3e"
       ]
      }
     },
     "039eaf6c72134af1bd6ffc2d0c3a5d7d": {
      "model_module": "jupyter-cytoscape",
      "model_module_version": "^1.3.3",
      "model_name": "EdgeModel",
      "state": {
       "_model_module_version": "^1.3.3",
       "_view_module_version": "^1.3.3",
       "data": {
        "_igraph_index": 5,
        "id": "12082ed7-d611-4ad5-a727-677342f10c94",
        "source": "283315",
        "target": "2198153",
        "type": "UPREGULATES_CuG"
       },
       "selectable": false
      }
     },
     "045b5f037b414fe18c2a737626495020": {
      "model_module": "jupyter-cytoscape",
      "model_module_version": "^1.3.3",
      "model_name": "NodeModel",
      "state": {
       "_model_module_version": "^1.3.3",
       "_view_module_version": "^1.3.3",
       "data": {
        "_igraph_index": 21,
        "category": "Gene",
        "feature_name": "LILRA3",
        "id": "2198515",
        "identifier": 11026,
        "in_query": 1,
        "name": "2198515",
        "source": "Entrez Gene"
       },
       "grabbable": true,
       "grabbed": false,
       "position": {
        "x": 1011.0021389576235,
        "y": 236.86124684735444
       },
       "selectable": false
      }
     },
     "04df6555c3c14b158c262c2532bf3c31": {
      "model_module": "jupyter-cytoscape",
      "model_module_version": "^1.3.3",
      "model_name": "NodeModel",
      "state": {
       "_model_module_version": "^1.3.3",
       "_view_module_version": "^1.3.3",
       "data": {
        "_igraph_index": 2,
        "category": "Disease",
        "feature_name": "acute myeloid leukemia",
        "id": "2166630",
        "identifier": "DOID:9119",
        "in_query": 1,
        "name": "2166630",
        "source": "Disease Ontology"
       },
       "grabbable": true,
       "grabbed": false,
       "position": {
        "x": 216.4960375409474,
        "y": 224.8134932064005
       },
       "selectable": false
      }
     },
     "0521f07ec8044d7a8cdafdeae20f925e": {
      "model_module": "@jupyter-widgets/base",
      "model_module_version": "2.0.0",
      "model_name": "LayoutModel",
      "state": {}
     },
     "0559595bc23c4b71bf684c6709ac9067": {
      "model_module": "jupyter-cytoscape",
      "model_module_version": "^1.3.3",
      "model_name": "NodeModel",
      "state": {
       "_model_module_version": "^1.3.3",
       "_view_module_version": "^1.3.3",
       "data": {
        "id": "0"
       },
       "grabbable": true,
       "grabbed": false,
       "position": {
        "x": 468.2142869285713,
        "y": -94.05945924859901
       },
       "selectable": false
      }
     },
     "05875e9b2519405ebadf8103335d405f": {
      "model_module": "jupyter-cytoscape",
      "model_module_version": "^1.3.3",
      "model_name": "EdgeModel",
      "state": {
       "_model_module_version": "^1.3.3",
       "_view_module_version": "^1.3.3",
       "classes": " multiple_edges ",
       "data": {
        "Knowledge_Source": "Reactome",
        "Primary_Knowledge_Source": "R-HSA-212436",
        "_igraph_index": 22,
        "id": "b78f3056-e50f-4b08-b0f7-97b83a1b230c",
        "predicate": "reactome_participates_in",
        "publications": "PMID:34788843",
        "source": "NCBIGene::595",
        "target": "REACT::R-HSA-212436"
       },
       "selectable": false
      }
     },
     "05cbaf79da3b4805b044a287536a7c73": {
      "model_module": "jupyter-cytoscape",
      "model_module_version": "^1.3.3",
      "model_name": "NodeModel",
      "state": {
       "_model_module_version": "^1.3.3",
       "_view_module_version": "^1.3.3",
       "data": {
        "_igraph_index": 7,
        "category": "Gene",
        "feature_name": "RBPJ",
        "id": "NCBIGene::3516.0",
        "id_prefix": "NCBIGene",
        "in_query": 1,
        "name": "NCBIGene::3516.0"
       },
       "grabbable": true,
       "grabbed": false,
       "position": {
        "x": 1054.2524781125423,
        "y": 213.9768548337436
       },
       "selectable": false
      }
     },
     "05e0696de6664587a039c115e141a347": {
      "model_module": "jupyter-cytoscape",
      "model_module_version": "^1.3.3",
      "model_name": "NodeModel",
      "state": {
       "_model_module_version": "^1.3.3",
       "_view_module_version": "^1.3.3",
       "data": {
        "_igraph_index": 13,
        "category": "Pathway",
        "feature_name": "Generic Transcription Pathway",
        "id": "REACT::R-HSA-212436",
        "id_prefix": "REACT",
        "in_query": 0,
        "name": "REACT::R-HSA-212436"
       },
       "grabbable": true,
       "grabbed": false,
       "position": {
        "x": 422.5252644793705,
        "y": 164.01602906700157
       },
       "selectable": false
      }
     },
     "05e75eabd5d44cf8ba98d9fe48a1c38e": {
      "model_module": "jupyter-cytoscape",
      "model_module_version": "^1.3.3",
      "model_name": "EdgeModel",
      "state": {
       "_model_module_version": "^1.3.3",
       "_view_module_version": "^1.3.3",
       "data": {
        "_igraph_index": 23,
        "id": "fe4f7d1a-03f0-4c9a-96df-8801f7cafe24",
        "source": "2175196",
        "target": "2196159",
        "type": "EXPRESSES_AeG"
       },
       "selectable": false
      }
     },
     "06196f1deb9947db8add2fc679681ffc": {
      "model_module": "jupyter-cytoscape",
      "model_module_version": "^1.3.3",
      "model_name": "EdgeModel",
      "state": {
       "_model_module_version": "^1.3.3",
       "_view_module_version": "^1.3.3",
       "data": {
        "Knowledge_Source": "Multiomics-BigGIM-DrugResponse",
        "Primary_Knowledge_Source": "hsa04071",
        "_igraph_index": 0,
        "id": "676d05b3-1939-461d-a6e1-5f0d7e1aa880",
        "predicate": "binding/association",
        "publications": "PMID:27899662",
        "source": "NCBIGene::7157",
        "target": "NCBIGene::596.0"
       },
       "selectable": false
      }
     },
     "0665568d0add499fa25ae9e119114167": {
      "model_module": "jupyter-cytoscape",
      "model_module_version": "^1.3.3",
      "model_name": "EdgeModel",
      "state": {
       "_model_module_version": "^1.3.3",
       "_view_module_version": "^1.3.3",
       "data": {
        "Knowledge_Source": "Reactome",
        "Primary_Knowledge_Source": "R-HSA-109582",
        "_igraph_index": 1,
        "predicate": "participates_in",
        "publications": "PMID:34788843",
        "source": "NCBIGene::7157",
        "target": "REACT::R-HSA-109582"
       },
       "selectable": false
      }
     },
     "0697ec4e005a4942bd3ba7f81dbb6657": {
      "model_module": "@jupyter-widgets/base",
      "model_module_version": "2.0.0",
      "model_name": "LayoutModel",
      "state": {}
     },
     "06a3b0666fe44c078073c41a39cd04c1": {
      "model_module": "jupyter-cytoscape",
      "model_module_version": "^1.3.3",
      "model_name": "NodeModel",
      "state": {
       "_model_module_version": "^1.3.3",
       "_view_module_version": "^1.3.3",
       "data": {
        "_igraph_index": 23,
        "category": "Gene",
        "feature_name": "RPS10",
        "id": "NCBIGene::6204",
        "id_prefix": "NCBIGene",
        "in_query": 1,
        "name": "NCBIGene::6204"
       },
       "grabbable": true,
       "grabbed": false,
       "position": {
        "x": 932.0093198628521,
        "y": -205.366135865681
       },
       "selectable": false
      }
     },
     "074d0f78f1454c3896e97bf7a2529644": {
      "model_module": "jupyter-cytoscape",
      "model_module_version": "^1.3.3",
      "model_name": "EdgeModel",
      "state": {
       "_model_module_version": "^1.3.3",
       "_view_module_version": "^1.3.3",
       "data": {
        "Knowledge_Source": "Reactome",
        "Primary_Knowledge_Source": "R-HSA-109582",
        "_igraph_index": 1,
        "id": "7dc459f2-e034-4f3e-bc15-597dc09ca26c",
        "predicate": "participates_in",
        "publications": "PMID:34788843",
        "source": "NCBIGene::7157",
        "target": "REACT::R-HSA-109582"
       },
       "selectable": false
      }
     },
     "07e04d8157614c11a3cdf32420cd6ea2": {
      "model_module": "jupyter-cytoscape",
      "model_module_version": "^1.3.3",
      "model_name": "EdgeModel",
      "state": {
       "_model_module_version": "^1.3.3",
       "_view_module_version": "^1.3.3",
       "data": {
        "Knowledge_Source": "Reactome",
        "Primary_Knowledge_Source": "R-HSA-168249",
        "_igraph_index": 3,
        "predicate": "participates_in",
        "publications": "PMID:34788843",
        "source": "NCBIGene::4791",
        "target": "REACT::R-HSA-168249"
       },
       "selectable": false
      }
     },
     "091850694aee4c52a14b90e1dcb139d6": {
      "model_module": "jupyter-cytoscape",
      "model_module_version": "^1.3.3",
      "model_name": "GraphModel",
      "state": {
       "_adj": {},
       "_model_module_version": "^1.3.3",
       "_view_module": "jupyter-cytoscape",
       "_view_module_version": "^1.3.3"
      }
     },
     "09657264f8be408484edeefb9a4e2491": {
      "model_module": "jupyter-cytoscape",
      "model_module_version": "^1.3.3",
      "model_name": "EdgeModel",
      "state": {
       "_model_module_version": "^1.3.3",
       "_view_module_version": "^1.3.3",
       "data": {
        "Knowledge_Source": "Reactome",
        "Primary_Knowledge_Source": "R-HSA-109582",
        "_igraph_index": 1,
        "id": "07b17c07-2fbb-4335-91d8-ae04ff8de68e",
        "predicate": "reactome_participates_in",
        "publications": "PMID:34788843",
        "source": "NCBIGene::7157",
        "target": "REACT::R-HSA-109582"
       },
       "selectable": false
      }
     },
     "09dcb32931c04a31976e626dda91a473": {
      "model_module": "jupyter-cytoscape",
      "model_module_version": "^1.3.3",
      "model_name": "NodeModel",
      "state": {
       "_model_module_version": "^1.3.3",
       "_view_module_version": "^1.3.3",
       "data": {
        "_igraph_index": 0,
        "category": "Gene",
        "feature_name": "TP53",
        "id": "NCBIGene::7157",
        "id_prefix": "NCBIGene",
        "in_query": 0,
        "name": "NCBIGene::7157"
       },
       "grabbable": true,
       "grabbed": false,
       "position": {
        "x": 549.3361306423299,
        "y": 174.90194918608435
       },
       "selectable": false
      }
     },
     "09e2d61522d3438597f24c9725a8fba3": {
      "model_module": "jupyter-cytoscape",
      "model_module_version": "^1.3.3",
      "model_name": "EdgeModel",
      "state": {
       "_model_module_version": "^1.3.3",
       "_view_module_version": "^1.3.3",
       "data": {
        "_igraph_index": 2,
        "id": "536d8e9a-c0c1-4717-894d-11073f614887",
        "source": "2166630",
        "target": "2191899",
        "type": "ASSOCIATES_DaG"
       },
       "selectable": false
      }
     },
     "09f80e2a73d84fbab46228a43625f559": {
      "model_module": "jupyter-cytoscape",
      "model_module_version": "^1.3.3",
      "model_name": "EdgeModel",
      "state": {
       "_model_module_version": "^1.3.3",
       "_view_module_version": "^1.3.3",
       "data": {
        "_igraph_index": 0,
        "id": "7b2ab597-f3ed-45f2-b6c7-7c509ae928dd",
        "source": "2175196",
        "target": "2175051",
        "type": "EXPRESSES_AeG"
       },
       "selectable": false
      }
     },
     "0aaa7b2880ed49af84df8cbeb49d066d": {
      "model_module": "jupyter-cytoscape",
      "model_module_version": "^1.3.3",
      "model_name": "EdgeModel",
      "state": {
       "_model_module_version": "^1.3.3",
       "_view_module_version": "^1.3.3",
       "data": {
        "_igraph_index": 6,
        "id": "89d87d05-6e83-463b-85c7-f3819c7546bf",
        "source": "2166630",
        "target": "2191899",
        "type": "ASSOCIATES_DaG"
       },
       "selectable": false
      }
     },
     "0b9cf38bd67144aca9c25cae4e93dc90": {
      "model_module": "jupyter-cytoscape",
      "model_module_version": "^1.3.3",
      "model_name": "NodeModel",
      "state": {
       "_model_module_version": "^1.3.3",
       "_view_module_version": "^1.3.3",
       "data": {
        "id": "NCBIGene::10577"
       },
       "grabbable": true,
       "grabbed": false,
       "selectable": false
      }
     },
     "0ba49e4551394cab8f18667b77d0b00b": {
      "model_module": "jupyter-cytoscape",
      "model_module_version": "^1.3.3",
      "model_name": "NodeModel",
      "state": {
       "_model_module_version": "^1.3.3",
       "_view_module_version": "^1.3.3",
       "data": {
        "_igraph_index": 24,
        "category": "Gene",
        "feature_name": "C1QA",
        "id": "NCBIGene::712",
        "id_prefix": "NCBIGene",
        "in_query": 1,
        "name": "NCBIGene::712"
       },
       "grabbable": true,
       "grabbed": false,
       "position": {
        "x": 101.37617431506582,
        "y": -18.728213512135163
       },
       "selectable": false
      }
     },
     "0c33a301904b475a947f5a60b9cf2b66": {
      "model_module": "jupyter-cytoscape",
      "model_module_version": "^1.3.3",
      "model_name": "NodeModel",
      "state": {
       "_model_module_version": "^1.3.3",
       "_view_module_version": "^1.3.3",
       "data": {
        "_igraph_index": 5,
        "category": "Gene",
        "feature_name": "NFKB2",
        "id": "2193539",
        "identifier": 4791,
        "in_query": 1,
        "name": "2193539",
        "source": "Entrez Gene"
       },
       "grabbable": true,
       "grabbed": false,
       "position": {
        "x": 421.5347358330237,
        "y": -30.6755221739966
       },
       "selectable": false
      }
     },
     "0c5d7b19b0f74313bbdaf539f15bb791": {
      "model_module": "jupyter-cytoscape",
      "model_module_version": "^1.3.3",
      "model_name": "EdgeModel",
      "state": {
       "_model_module_version": "^1.3.3",
       "_view_module_version": "^1.3.3",
       "data": {
        "_igraph_index": 7,
        "id": "5f1f7691-397e-454e-a2dc-05909fd6cb72",
        "source": "2175196",
        "target": "2191899",
        "type": "EXPRESSES_AeG"
       },
       "selectable": false
      }
     },
     "0ce0ba699d624100831ccf5f770435d0": {
      "model_module": "jupyter-cytoscape",
      "model_module_version": "^1.3.3",
      "model_name": "NodeModel",
      "state": {
       "_model_module_version": "^1.3.3",
       "_view_module_version": "^1.3.3",
       "data": {
        "id": "REACT::R-HSA-109582"
       },
       "grabbable": true,
       "grabbed": false,
       "position": {
        "x": 0,
        "y": 0
       },
       "selectable": false
      }
     },
     "0e821c41cae74dc0bdfa6c1844d433f7": {
      "model_module": "jupyter-cytoscape",
      "model_module_version": "^1.3.3",
      "model_name": "NodeModel",
      "state": {
       "_model_module_version": "^1.3.3",
       "_view_module_version": "^1.3.3",
       "data": {
        "id": "REACT::R-HSA-162582"
       },
       "grabbable": true,
       "grabbed": false,
       "position": {
        "x": 0,
        "y": 0
       },
       "selectable": false
      }
     },
     "0eff25aa63df4c6a8f127f9b74d9680e": {
      "model_module": "jupyter-cytoscape",
      "model_module_version": "^1.3.3",
      "model_name": "NodeModel",
      "state": {
       "_model_module_version": "^1.3.3",
       "_view_module_version": "^1.3.3",
       "data": {
        "id": "NCBIGene::7157"
       },
       "grabbable": true,
       "grabbed": false,
       "position": {
        "x": 0,
        "y": 0
       },
       "selectable": false
      }
     },
     "0f9bdd40289443e09bd3351ec751077f": {
      "model_module": "jupyter-cytoscape",
      "model_module_version": "^1.3.3",
      "model_name": "NodeModel",
      "state": {
       "_model_module_version": "^1.3.3",
       "_view_module_version": "^1.3.3",
       "data": {
        "id": "NCBIGene::10577"
       },
       "grabbable": true,
       "grabbed": false,
       "position": {
        "x": 519.4628732856905,
        "y": 245.22426491968915
       },
       "selectable": false
      }
     },
     "1000e556bc3943c9be304c4d45518d66": {
      "model_module": "jupyter-cytoscape",
      "model_module_version": "^1.3.3",
      "model_name": "NodeModel",
      "state": {
       "_model_module_version": "^1.3.3",
       "_view_module_version": "^1.3.3",
       "data": {
        "_igraph_index": 3,
        "category": "Pathway",
        "feature_name": "Hemostasis",
        "id": "R-HSA-109582",
        "id_prefix": "REACT",
        "in_query": 0,
        "name": "REACT::R-HSA-109582"
       },
       "grabbable": true,
       "grabbed": false,
       "position": {
        "x": 745,
        "y": 169.30243455333462
       },
       "selectable": false
      }
     },
     "1010dcfba3924cacaa1e3654d1fba957": {
      "model_module": "jupyter-cytoscape",
      "model_module_version": "^1.3.3",
      "model_name": "NodeModel",
      "state": {
       "_model_module_version": "^1.3.3",
       "_view_module_version": "^1.3.3",
       "data": {
        "id": "1"
       },
       "grabbable": true,
       "grabbed": false,
       "position": {
        "x": 278.21428592857137,
        "y": -197.87134549422152
       },
       "selectable": false
      }
     },
     "1040f76ad8934c41bd58c1e05674aa7e": {
      "model_module": "jupyter-cytoscape",
      "model_module_version": "^1.3.3",
      "model_name": "NodeModel",
      "state": {
       "_model_module_version": "^1.3.3",
       "_view_module_version": "^1.3.3",
       "data": {
        "_igraph_index": 6,
        "category": "Gene",
        "feature_name": "GATA2",
        "id": "NCBIGene::2624",
        "id_prefix": "NCBIGene",
        "in_query": 1,
        "name": "NCBIGene::2624"
       },
       "grabbable": true,
       "grabbed": false,
       "selectable": false
      }
     },
     "1074b362a505456f831231763f6d5243": {
      "model_module": "jupyter-cytoscape",
      "model_module_version": "^1.3.3",
      "model_name": "EdgeModel",
      "state": {
       "_model_module_version": "^1.3.3",
       "_view_module_version": "^1.3.3",
       "data": {
        "Knowledge_Source": "Reactome",
        "Primary_Knowledge_Source": "R-HSA-168249",
        "_igraph_index": 4,
        "predicate": "participates_in",
        "publications": "PMID:34788843",
        "source": "REACT::R-HSA-168249",
        "target": "NCBIGene::10577"
       },
       "selectable": false
      }
     },
     "11233ba081f946e8bde8126bc5e48bb1": {
      "model_module": "@jupyter-widgets/base",
      "model_module_version": "2.0.0",
      "model_name": "LayoutModel",
      "state": {}
     },
     "112f4d13788f4040b0b932e9ad181276": {
      "model_module": "jupyter-cytoscape",
      "model_module_version": "^1.3.3",
      "model_name": "CytoscapeModel",
      "state": {
       "_interaction_handlers": {},
       "_model_module_version": "^1.3.3",
       "_view_module_version": "^1.3.3",
       "auto_ungrabify": false,
       "autolock": false,
       "cytoscape_layout": {
        "edgeLengthVal": 50,
        "name": "cola",
        "nodeSpacing": 80,
        "title": "high_proteins"
       },
       "cytoscape_style": [
        {
         "selector": "node[feature_name]",
         "style": {
          "font-family": "helvetica",
          "font-size": "20px",
          "label": "data(feature_name)"
         }
        },
        {
         "selector": "node[category=\"Protein\"]",
         "style": {
          "background-color": "blue"
         }
        },
        {
         "selector": "node[in_query=1]",
         "style": {
          "border-color": "red",
          "border-width": "5px"
         }
        },
        {
         "selector": "edge[predicate]",
         "style": {
          "label": "data(predicate)"
         }
        },
        {
         "selector": "edge.directed",
         "style": {
          "curve-style": "bezier",
          "target-arrow-shape": "triangle"
         }
        }
       ],
       "desktop_tap_threshold": 4,
       "graph": "IPY_MODEL_6c6bf758165445dbb1865f7765abf075",
       "headless": false,
       "hide_edges_on_viewport": false,
       "layout": "IPY_MODEL_c26baff58956423cb9d7cd81b0945064",
       "max_zoom": 1e+50,
       "min_zoom": 1e-50,
       "motion_blur": false,
       "motion_blur_opacity": 0.2,
       "panning_enabled": true,
       "pixel_ratio": "auto",
       "rendered_position": {
        "renderedPosition": {
         "x": 100,
         "y": 100
        }
       },
       "selection_type": "single",
       "style_enabled": true,
       "texture_on_viewport": false,
       "tooltip_source": "feature_name",
       "touch_tap_threshold": 8,
       "user_panning_enabled": true,
       "user_zooming_enabled": true,
       "wheel_sensitivity": 1,
       "zoom": 2,
       "zooming_enabled": true
      }
     },
     "116474cdcf8544e6a5f2d2ae764038fa": {
      "model_module": "jupyter-cytoscape",
      "model_module_version": "^1.3.3",
      "model_name": "NodeModel",
      "state": {
       "_model_module_version": "^1.3.3",
       "_view_module_version": "^1.3.3",
       "data": {
        "_igraph_index": 13,
        "category": "Gene",
        "feature_name": "RPS10",
        "id": "2194660",
        "identifier": 6204,
        "in_query": 1,
        "name": "2194660",
        "source": "Entrez Gene"
       },
       "grabbable": true,
       "grabbed": false,
       "position": {
        "x": 426.0021359576235,
        "y": -107.44662615301574
       },
       "selectable": false
      }
     },
     "11b353e3b1e541d785445a183cb39243": {
      "model_module": "jupyter-cytoscape",
      "model_module_version": "^1.3.3",
      "model_name": "NodeModel",
      "state": {
       "_model_module_version": "^1.3.3",
       "_view_module_version": "^1.3.3",
       "data": {
        "id": "3"
       },
       "grabbable": true,
       "grabbed": false,
       "position": {
        "x": 278.21428592857137,
        "y": -7.871344494221542
       },
       "selectable": false
      }
     },
     "139d285180fd4826a6062c6439e0ed84": {
      "model_module": "jupyter-cytoscape",
      "model_module_version": "^1.3.3",
      "model_name": "EdgeModel",
      "state": {
       "_model_module_version": "^1.3.3",
       "_view_module_version": "^1.3.3",
       "data": {
        "Knowledge_Source": "Reactome",
        "Primary_Knowledge_Source": "R-HSA-168249",
        "_igraph_index": 2,
        "predicate": "participates_in",
        "publications": "PMID:34788843",
        "source": "NCBIGene::7157",
        "target": "REACT::R-HSA-168249"
       },
       "selectable": false
      }
     },
     "142c21a5f85a4cafa2fcc2077e1a962b": {
      "model_module": "jupyter-cytoscape",
      "model_module_version": "^1.3.3",
      "model_name": "NodeModel",
      "state": {
       "_model_module_version": "^1.3.3",
       "_view_module_version": "^1.3.3",
       "data": {
        "_igraph_index": 1,
        "category": "Gene",
        "feature_name": "BCL2",
        "id": "596",
        "id_prefix": "NCBIGene",
        "in_query": 1,
        "name": "NCBIGene::596.0"
       },
       "grabbable": true,
       "grabbed": false,
       "position": {
        "x": 342.5,
        "y": -92.56668568006751
       },
       "selectable": false
      }
     },
     "144d769aed534a2b8b6303fdf5c87f91": {
      "model_module": "jupyter-cytoscape",
      "model_module_version": "^1.3.3",
      "model_name": "EdgeModel",
      "state": {
       "_model_module_version": "^1.3.3",
       "_view_module_version": "^1.3.3",
       "classes": " multiple_edges ",
       "data": {
        "Knowledge_Source": "Reactome",
        "Primary_Knowledge_Source": "R-HSA-1643685",
        "_igraph_index": 12,
        "id": "a3211c3b-6722-4253-a47f-5f953fdba8f7",
        "predicate": "reactome_participates_in",
        "publications": "PMID:34788843",
        "source": "NCBIGene::8678",
        "target": "REACT::R-HSA-1643685"
       },
       "selectable": false
      }
     },
     "154678542d9a4f32b733d51c78f9910f": {
      "model_module": "jupyter-cytoscape",
      "model_module_version": "^1.3.3",
      "model_name": "NodeModel",
      "state": {
       "_model_module_version": "^1.3.3",
       "_view_module_version": "^1.3.3",
       "data": {
        "_igraph_index": 16,
        "category": "Gene",
        "feature_name": "NPC2",
        "id": "NCBIGene::10577",
        "id_prefix": "NCBIGene",
        "in_query": 1,
        "name": "NCBIGene::10577"
       },
       "grabbable": true,
       "grabbed": false,
       "position": {
        "x": -102.27052525205563,
        "y": 295.65367167337484
       },
       "selectable": false
      }
     },
     "156a975b140746eaad1a6f6d1b7ad108": {
      "model_module": "jupyter-cytoscape",
      "model_module_version": "^1.3.3",
      "model_name": "EdgeModel",
      "state": {
       "_model_module_version": "^1.3.3",
       "_view_module_version": "^1.3.3",
       "classes": " multiple_edges ",
       "data": {
        "Knowledge_Source": "Reactome",
        "Primary_Knowledge_Source": "R-HSA-8953854",
        "_igraph_index": 36,
        "id": "4861775e-ed98-4e09-a863-5b250d9acfcd",
        "predicate": "reactome_participates_in",
        "publications": "PMID:34788843",
        "source": "REACT::R-HSA-8953854",
        "target": "NCBIGene::6204"
       },
       "selectable": false
      }
     },
     "158143aec462463d83419870512f418b": {
      "model_module": "jupyter-cytoscape",
      "model_module_version": "^1.3.3",
      "model_name": "NodeModel",
      "state": {
       "_model_module_version": "^1.3.3",
       "_view_module_version": "^1.3.3",
       "data": {
        "id": "5"
       },
       "grabbable": true,
       "grabbed": false,
       "position": {
        "x": 407.2567607140729,
        "y": 212.97899208323773
       },
       "selectable": false
      }
     },
     "163fc0b2902d49d2b192c30005915ebf": {
      "model_module": "jupyter-cytoscape",
      "model_module_version": "^1.3.3",
      "model_name": "NodeModel",
      "state": {
       "_model_module_version": "^1.3.3",
       "_view_module_version": "^1.3.3",
       "data": {
        "id": "NCBIGene::596.0"
       },
       "grabbable": true,
       "grabbed": false,
       "selectable": false
      }
     },
     "1655221236d24042921b7d00b05f581a": {
      "model_module": "jupyter-cytoscape",
      "model_module_version": "^1.3.3",
      "model_name": "NodeModel",
      "state": {
       "_model_module_version": "^1.3.3",
       "_view_module_version": "^1.3.3",
       "data": {
        "id": "NCBIGene::2624"
       },
       "grabbable": true,
       "grabbed": false,
       "position": {
        "x": 0,
        "y": 0
       },
       "selectable": false
      }
     },
     "16d364299b6045d4bc3fe7ec124b9739": {
      "model_module": "jupyter-cytoscape",
      "model_module_version": "^1.3.3",
      "model_name": "EdgeModel",
      "state": {
       "_model_module_version": "^1.3.3",
       "_view_module_version": "^1.3.3",
       "data": {
        "_igraph_index": 3,
        "id": "a4752aa0-5569-490c-9fff-c00262aa986d",
        "source": "2191899",
        "target": "2190368",
        "type": "UPREGULATES_KGuG"
       },
       "selectable": false
      }
     },
     "16e34b5c7a414e01bf76a124a3731665": {
      "model_module": "jupyter-cytoscape",
      "model_module_version": "^1.3.3",
      "model_name": "EdgeModel",
      "state": {
       "_model_module_version": "^1.3.3",
       "_view_module_version": "^1.3.3",
       "classes": " multiple_edges ",
       "data": {
        "Knowledge_Source": "Reactome",
        "Primary_Knowledge_Source": "R-HSA-212436",
        "_igraph_index": 25,
        "id": "4a37a419-f57e-4994-b51a-7b15532cd11c",
        "predicate": "reactome_participates_in",
        "publications": "PMID:34788843",
        "source": "NCBIGene::3280",
        "target": "REACT::R-HSA-212436"
       },
       "selectable": false
      }
     },
     "19420cea8b514fee94094da2d62fdadd": {
      "model_module": "jupyter-cytoscape",
      "model_module_version": "^1.3.3",
      "model_name": "EdgeModel",
      "state": {
       "_model_module_version": "^1.3.3",
       "_view_module_version": "^1.3.3",
       "data": {
        "_igraph_index": 32,
        "id": "8a28e001-66e4-4bd7-9b7e-3afc50b93539",
        "source": "2175196",
        "target": "2198153",
        "type": "EXPRESSES_AeG"
       },
       "selectable": false
      }
     },
     "19ee18408282444cb10c313ea624d9ad": {
      "model_module": "jupyter-cytoscape",
      "model_module_version": "^1.3.3",
      "model_name": "NodeModel",
      "state": {
       "_model_module_version": "^1.3.3",
       "_view_module_version": "^1.3.3",
       "data": {
        "_igraph_index": 4,
        "category": "Gene",
        "feature_name": "LEF1",
        "id": "NCBIGene::51176",
        "id_prefix": "NCBIGene",
        "in_query": 1,
        "name": "NCBIGene::51176"
       },
       "grabbable": true,
       "grabbed": false,
       "position": {
        "x": 316.8194303326942,
        "y": 635.5963692119149
       },
       "selectable": false
      }
     },
     "1ada12144beb4df986051254b5b94ae6": {
      "model_module": "jupyter-cytoscape",
      "model_module_version": "^1.3.3",
      "model_name": "GraphModel",
      "state": {
       "_adj": {
        "10577": {},
        "2624": {},
        "4791": {},
        "596.0": {},
        "7157": {},
        "NCBIGene::10577": {},
        "NCBIGene::2624": {
         "REACT::R-HSA-109582": 1
        },
        "NCBIGene::4791": {
         "REACT::R-HSA-168249": 1
        },
        "NCBIGene::596.0": {
         "NCBIGene::7157": 1
        },
        "NCBIGene::7157": {
         "NCBIGene::596.0": 1,
         "REACT::R-HSA-109582": 1,
         "REACT::R-HSA-168249": 1
        },
        "R-HSA-109582": {},
        "R-HSA-168249": {},
        "REACT::R-HSA-109582": {
         "NCBIGene::2624": 1,
         "NCBIGene::7157": 1
        },
        "REACT::R-HSA-168249": {
         "NCBIGene::4791": 1,
         "NCBIGene::7157": 1
        }
       },
       "_model_module_version": "^1.3.3",
       "_view_module": "jupyter-cytoscape",
       "_view_module_version": "^1.3.3",
       "edges": [
        "IPY_MODEL_fb9e3465db1841ff8619fe429f343e0d",
        "IPY_MODEL_75ec3b10caeb4d5194499b368e521567",
        "IPY_MODEL_2d8cefc259144cc089750db4b5cae9a4",
        "IPY_MODEL_62a1dda3dab04892acb3f7a8c4b60370",
        "IPY_MODEL_d81056bcd85c46e2b28e96d67bde3fa8",
        "IPY_MODEL_c536f44341444ecaa4cbffb4d23f68df"
       ],
       "nodes": [
        "IPY_MODEL_09dcb32931c04a31976e626dda91a473",
        "IPY_MODEL_459e68a213e4484784747c2ca0b188cc",
        "IPY_MODEL_b0d85eacf9904b678229ea7189b51d5a",
        "IPY_MODEL_484631d326d246ca98573bf5487ec42e",
        "IPY_MODEL_1df3338a34c74fbbb5375e1ccc48b8d0",
        "IPY_MODEL_a1a1fcdeda684208a7bb0caed91e0dbb",
        "IPY_MODEL_788ef726df8f4ef89c6c9e3f78ca62ed",
        "IPY_MODEL_aecdf0a847bb45bab02722a2e8eb056a",
        "IPY_MODEL_8ecc5cfc88c24ac7956a5867b6813eca",
        "IPY_MODEL_9a00a8b51cef4970bb77ae385d156a3d",
        "IPY_MODEL_68a0274732dc411fa77fb0f4ca50912e",
        "IPY_MODEL_e360af69fead43daa12adffeb783f54d",
        "IPY_MODEL_1655221236d24042921b7d00b05f581a",
        "IPY_MODEL_dafe425959984a17b66070c5efe7ad30"
       ]
      }
     },
     "1af9999752684cb78e0847719bc19cc4": {
      "model_module": "jupyter-cytoscape",
      "model_module_version": "^1.3.3",
      "model_name": "EdgeModel",
      "state": {
       "_model_module_version": "^1.3.3",
       "_view_module_version": "^1.3.3",
       "classes": " multiple_edges ",
       "data": {
        "Knowledge_Source": "Reactome",
        "Primary_Knowledge_Source": "R-HSA-1643685",
        "_igraph_index": 8,
        "id": "6c1f50a5-7daf-4702-bd11-7b42bc5888c4",
        "predicate": "reactome_participates_in",
        "publications": "PMID:34788843",
        "source": "NCBIGene::595",
        "target": "REACT::R-HSA-1643685"
       },
       "selectable": false
      }
     },
     "1b01d24cf834430eaa019589e7e64363": {
      "model_module": "jupyter-cytoscape",
      "model_module_version": "^1.3.3",
      "model_name": "EdgeModel",
      "state": {
       "_model_module_version": "^1.3.3",
       "_view_module_version": "^1.3.3",
       "data": {
        "_igraph_index": 1,
        "id": "6e3febe5-ff4d-4bf2-bf18-a9a9b7538d31",
        "source": "283315",
        "target": "2191899",
        "type": "UPREGULATES_CuG"
       },
       "selectable": false
      }
     },
     "1b0cd13a11d649b4a7f7c12c5f6eba4f": {
      "model_module": "jupyter-cytoscape",
      "model_module_version": "^1.3.3",
      "model_name": "NodeModel",
      "state": {
       "_model_module_version": "^1.3.3",
       "_view_module_version": "^1.3.3",
       "data": {
        "id": "NCBIGene::4791"
       },
       "grabbable": true,
       "grabbed": false,
       "position": {
        "x": 0,
        "y": 0
       },
       "selectable": false
      }
     },
     "1bded15828fb4ffe89b34644df129d3e": {
      "model_module": "jupyter-cytoscape",
      "model_module_version": "^1.3.3",
      "model_name": "GraphModel",
      "state": {
       "_adj": {},
       "_model_module_version": "^1.3.3",
       "_view_module": "jupyter-cytoscape",
       "_view_module_version": "^1.3.3"
      }
     },
     "1c7fd8e525c24410b523c6f507e9267d": {
      "model_module": "jupyter-cytoscape",
      "model_module_version": "^1.3.3",
      "model_name": "EdgeModel",
      "state": {
       "_model_module_version": "^1.3.3",
       "_view_module_version": "^1.3.3",
       "data": {
        "_igraph_index": 17,
        "id": "8134cf41-735a-4c45-a32b-62b3f322afff",
        "source": "2194503",
        "target": "2175051",
        "type": "UPREGULATES_KGuG"
       },
       "selectable": false
      }
     },
     "1cde3b21380a4704a664499d9c68715f": {
      "model_module": "jupyter-cytoscape",
      "model_module_version": "^1.3.3",
      "model_name": "NodeModel",
      "state": {
       "_model_module_version": "^1.3.3",
       "_view_module_version": "^1.3.3",
       "data": {
        "id": "NCBIGene::596.0"
       },
       "grabbable": true,
       "grabbed": false,
       "selectable": false
      }
     },
     "1cf2a76cb2c14c9aa6c78d1b2b7586a3": {
      "model_module": "jupyter-cytoscape",
      "model_module_version": "^1.3.3",
      "model_name": "NodeModel",
      "state": {
       "_model_module_version": "^1.3.3",
       "_view_module_version": "^1.3.3",
       "data": {
        "_igraph_index": 19,
        "category": "Gene",
        "feature_name": "NPC2",
        "id": "2198153",
        "identifier": 10577,
        "in_query": 1,
        "name": "2198153",
        "source": "Entrez Gene"
       },
       "grabbable": true,
       "grabbed": false,
       "position": {
        "x": 273.58294729764236,
        "y": 535.0347327850881
       },
       "selectable": false
      }
     },
     "1df3338a34c74fbbb5375e1ccc48b8d0": {
      "model_module": "jupyter-cytoscape",
      "model_module_version": "^1.3.3",
      "model_name": "NodeModel",
      "state": {
       "_model_module_version": "^1.3.3",
       "_view_module_version": "^1.3.3",
       "data": {
        "_igraph_index": 4,
        "category": "Pathway",
        "feature_name": "Innate Immune System",
        "id": "REACT::R-HSA-168249",
        "id_prefix": "REACT",
        "in_query": 0,
        "name": "REACT::R-HSA-168249"
       },
       "grabbable": true,
       "grabbed": false,
       "position": {
        "x": 590.292919188195,
        "y": 337.59742448884094
       },
       "selectable": false
      }
     },
     "1e2212ecc4e7452a9208cf18d6a6a3dc": {
      "model_module": "jupyter-cytoscape",
      "model_module_version": "^1.3.3",
      "model_name": "NodeModel",
      "state": {
       "_model_module_version": "^1.3.3",
       "_view_module_version": "^1.3.3",
       "data": {
        "id": "NCBIGene::2624"
       },
       "grabbable": true,
       "grabbed": false,
       "position": {
        "x": 0,
        "y": 0
       },
       "selectable": false
      }
     },
     "200281bb708b434389a5ed2cd1335d1e": {
      "model_module": "jupyter-cytoscape",
      "model_module_version": "^1.3.3",
      "model_name": "NodeModel",
      "state": {
       "_model_module_version": "^1.3.3",
       "_view_module_version": "^1.3.3",
       "data": {
        "_igraph_index": 3,
        "category": "Pathway",
        "feature_name": "Hemostasis",
        "id": "REACT::R-HSA-109582",
        "id_prefix": "REACT",
        "in_query": 0,
        "name": "REACT::R-HSA-109582"
       },
       "grabbable": true,
       "grabbed": false,
       "position": {
        "x": 750.7130173495145,
        "y": 256.70374215826143
       },
       "selectable": false
      }
     },
     "202ae153496645c0be89b529f110b6e6": {
      "model_module": "jupyter-cytoscape",
      "model_module_version": "^1.3.3",
      "model_name": "NodeModel",
      "state": {
       "_model_module_version": "^1.3.3",
       "_view_module_version": "^1.3.3",
       "data": {
        "_igraph_index": 1,
        "category": "Gene",
        "feature_name": "ABAT",
        "id": "2175051",
        "identifier": 18,
        "in_query": 0,
        "name": "2175051",
        "source": "Entrez Gene"
       },
       "grabbable": true,
       "grabbed": false,
       "position": {
        "x": 382.2855862590495,
        "y": -5.119933370807979
       },
       "selectable": false
      }
     },
     "20513cdbcef74cd29c0c1cded11b0e02": {
      "model_module": "jupyter-cytoscape",
      "model_module_version": "^1.3.3",
      "model_name": "NodeModel",
      "state": {
       "_model_module_version": "^1.3.3",
       "_view_module_version": "^1.3.3",
       "data": {
        "_igraph_index": 2,
        "category": "Anatomy",
        "feature_name": "urinary bladder",
        "id": "2175196",
        "identifier": "UBERON:0001255",
        "in_query": 0,
        "name": "2175196",
        "source": "Uberon"
       },
       "grabbable": true,
       "grabbed": false,
       "position": {
        "x": 580.8265084499376,
        "y": 408.89951440058456
       },
       "selectable": false
      }
     },
     "21ea19a687a942829d0e5b845a3f82d9": {
      "model_module": "jupyter-cytoscape",
      "model_module_version": "^1.3.3",
      "model_name": "NodeModel",
      "state": {
       "_model_module_version": "^1.3.3",
       "_view_module_version": "^1.3.3",
       "data": {
        "id": "REACT::R-HSA-109582"
       },
       "grabbable": true,
       "grabbed": false,
       "selectable": false
      }
     },
     "23ecd13ac8114ed2a5c616385fd2be4d": {
      "model_module": "jupyter-cytoscape",
      "model_module_version": "^1.3.3",
      "model_name": "NodeModel",
      "state": {
       "_model_module_version": "^1.3.3",
       "_view_module_version": "^1.3.3",
       "data": {
        "id": "NCBIGene::10577"
       },
       "grabbable": true,
       "grabbed": false,
       "selectable": false
      }
     },
     "23f6806984d74bc48b5a0ecddc1d7112": {
      "model_module": "jupyter-cytoscape",
      "model_module_version": "^1.3.3",
      "model_name": "EdgeModel",
      "state": {
       "_model_module_version": "^1.3.3",
       "_view_module_version": "^1.3.3",
       "data": {
        "Knowledge_Source": "Multiomics-BigGIM-DrugResponse",
        "Primary_Knowledge_Source": "hsa04071",
        "_igraph_index": 0,
        "id": "0c505ae2-2999-4e0b-8ffb-130c461e3cef",
        "predicate": "binding/association",
        "publications": "PMID:27899662",
        "source": "NCBIGene::7157",
        "target": "NCBIGene::596.0"
       },
       "selectable": false
      }
     },
     "2400a298164f4a029f3a961d4e046799": {
      "model_module": "jupyter-cytoscape",
      "model_module_version": "^1.3.3",
      "model_name": "EdgeModel",
      "state": {
       "_model_module_version": "^1.3.3",
       "_view_module_version": "^1.3.3",
       "data": {
        "Knowledge_Source": "Reactome",
        "Primary_Knowledge_Source": "R-HSA-168249",
        "_igraph_index": 4,
        "id": "c85b7eb6-d550-43c1-b357-ee831f133559",
        "predicate": "reactome_participates_in",
        "publications": "PMID:34788843",
        "source": "REACT::R-HSA-168249",
        "target": "NCBIGene::10577"
       },
       "selectable": false
      }
     },
     "244e71d932134702b39a40da799972df": {
      "model_module": "jupyter-cytoscape",
      "model_module_version": "^1.3.3",
      "model_name": "NodeModel",
      "state": {
       "_model_module_version": "^1.3.3",
       "_view_module_version": "^1.3.3",
       "data": {
        "_igraph_index": 6,
        "category": "Gene",
        "feature_name": "NPC2",
        "id": "2198153",
        "identifier": 10577,
        "in_query": 1,
        "name": "2198153",
        "source": "Entrez Gene"
       },
       "grabbable": true,
       "grabbed": false,
       "position": {
        "x": 412.00508095516966,
        "y": 423.20804855880687
       },
       "selectable": false
      }
     },
     "24e98d5252df4bd79072a12ce425c56f": {
      "model_module": "jupyter-cytoscape",
      "model_module_version": "^1.3.3",
      "model_name": "EdgeModel",
      "state": {
       "_model_module_version": "^1.3.3",
       "_view_module_version": "^1.3.3",
       "data": {
        "Knowledge_Source": "Reactome",
        "Primary_Knowledge_Source": "R-HSA-109582",
        "_igraph_index": 5,
        "id": "fd11e121-f436-4f6e-92ab-70866f290c60",
        "predicate": "reactome_participates_in",
        "publications": "PMID:34788843",
        "source": "REACT::R-HSA-109582",
        "target": "NCBIGene::2624"
       },
       "selectable": false
      }
     },
     "255559d552f743c3a4195a0fb0d6b9b5": {
      "model_module": "jupyter-cytoscape",
      "model_module_version": "^1.3.3",
      "model_name": "NodeModel",
      "state": {
       "_model_module_version": "^1.3.3",
       "_view_module_version": "^1.3.3",
       "data": {
        "_igraph_index": 6,
        "category": "Gene",
        "feature_name": "GATA2",
        "id": "2624",
        "id_prefix": "NCBIGene",
        "in_query": 1,
        "name": "NCBIGene::2624"
       },
       "grabbable": true,
       "grabbed": false,
       "position": {
        "x": 162.49999849999998,
        "y": 560.8776266464896
       },
       "selectable": false
      }
     },
     "2565b05bff43418894d038cb78af8207": {
      "model_module": "jupyter-cytoscape",
      "model_module_version": "^1.3.3",
      "model_name": "NodeModel",
      "state": {
       "_model_module_version": "^1.3.3",
       "_view_module_version": "^1.3.3",
       "data": {
        "_igraph_index": 2,
        "category": "Gene",
        "feature_name": "BCL2",
        "id": "NCBIGene::596.0",
        "id_prefix": "NCBIGene",
        "in_query": 1,
        "name": "NCBIGene::596.0"
       },
       "grabbable": true,
       "grabbed": false,
       "position": {
        "x": 495.73326538668675,
        "y": 386.27975615063025
       },
       "selectable": false
      }
     },
     "26386971f6d848eea100bebb4a3b4a81": {
      "model_module": "jupyter-cytoscape",
      "model_module_version": "^1.3.3",
      "model_name": "NodeModel",
      "state": {
       "_model_module_version": "^1.3.3",
       "_view_module_version": "^1.3.3",
       "data": {
        "id": "NCBIGene::595"
       },
       "grabbable": true,
       "grabbed": false,
       "position": {
        "x": 0,
        "y": 0
       },
       "selectable": false
      }
     },
     "2641bf384ebd4d5eb08d8afb46ceb920": {
      "model_module": "jupyter-cytoscape",
      "model_module_version": "^1.3.3",
      "model_name": "EdgeModel",
      "state": {
       "_model_module_version": "^1.3.3",
       "_view_module_version": "^1.3.3",
       "data": {
        "_igraph_index": 18,
        "id": "c18ab94b-12c8-4fb5-bf63-c16098c8a78b",
        "source": "2175196",
        "target": "2194503",
        "type": "EXPRESSES_AeG"
       },
       "selectable": false
      }
     },
     "277ea0fb09614894806664b1bf0c6276": {
      "model_module": "jupyter-cytoscape",
      "model_module_version": "^1.3.3",
      "model_name": "NodeModel",
      "state": {
       "_model_module_version": "^1.3.3",
       "_view_module_version": "^1.3.3",
       "data": {
        "id": "REACT::R-HSA-212436"
       },
       "grabbable": true,
       "grabbed": false,
       "position": {
        "x": 0,
        "y": 0
       },
       "selectable": false
      }
     },
     "27bf2f6594b64e28a6fc0cb794a77116": {
      "model_module": "jupyter-cytoscape",
      "model_module_version": "^1.3.3",
      "model_name": "NodeModel",
      "state": {
       "_model_module_version": "^1.3.3",
       "_view_module_version": "^1.3.3",
       "data": {
        "id": "NCBIGene::7157"
       },
       "grabbable": true,
       "grabbed": false,
       "selectable": false
      }
     },
     "27dae20f03014a38b4b1274303c09228": {
      "model_module": "jupyter-cytoscape",
      "model_module_version": "^1.3.3",
      "model_name": "EdgeModel",
      "state": {
       "_model_module_version": "^1.3.3",
       "_view_module_version": "^1.3.3",
       "classes": " multiple_edges ",
       "data": {
        "Knowledge_Source": "Reactome",
        "Primary_Knowledge_Source": "R-HSA-162582",
        "_igraph_index": 31,
        "id": "40e16495-5670-47fe-8a3a-5cc4cec2b16d",
        "predicate": "reactome_participates_in",
        "publications": "PMID:34788843",
        "source": "REACT::R-HSA-162582",
        "target": "NCBIGene::121512"
       },
       "selectable": false
      }
     },
     "293308e0f3d14b3f9e89ba2df2589c98": {
      "model_module": "jupyter-cytoscape",
      "model_module_version": "^1.3.3",
      "model_name": "NodeModel",
      "state": {
       "_model_module_version": "^1.3.3",
       "_view_module_version": "^1.3.3",
       "data": {
        "_igraph_index": 8,
        "category": "Gene",
        "feature_name": "IGF2R",
        "id": "2192566",
        "identifier": 3482,
        "in_query": 1,
        "name": "2192566",
        "source": "Entrez Gene"
       },
       "grabbable": true,
       "grabbed": false,
       "position": {
        "x": 231.00213495762355,
        "y": -107.44662615301574
       },
       "selectable": false
      }
     },
     "2a28c7baeab44b01a55887dbac1075d4": {
      "model_module": "jupyter-cytoscape",
      "model_module_version": "^1.3.3",
      "model_name": "EdgeModel",
      "state": {
       "_model_module_version": "^1.3.3",
       "_view_module_version": "^1.3.3",
       "classes": " multiple_edges ",
       "data": {
        "Knowledge_Source": "Reactome",
        "Primary_Knowledge_Source": "R-HSA-162582",
        "_igraph_index": 19,
        "id": "cecde947-11fb-48d7-8a00-9c90de3e5f54",
        "predicate": "reactome_participates_in",
        "publications": "PMID:34788843",
        "source": "NCBIGene::51176",
        "target": "REACT::R-HSA-162582"
       },
       "selectable": false
      }
     },
     "2d8cefc259144cc089750db4b5cae9a4": {
      "model_module": "jupyter-cytoscape",
      "model_module_version": "^1.3.3",
      "model_name": "EdgeModel",
      "state": {
       "_model_module_version": "^1.3.3",
       "_view_module_version": "^1.3.3",
       "data": {
        "Knowledge_Source": "Reactome",
        "Primary_Knowledge_Source": "R-HSA-168249",
        "_igraph_index": 2,
        "id": "8b1f833f-01dc-4382-8db8-9c3a441fdf88",
        "predicate": "participates_in",
        "publications": "PMID:34788843",
        "source": "NCBIGene::7157",
        "target": "REACT::R-HSA-168249"
       },
       "selectable": false
      }
     },
     "2e8d33bdbf08467a9f16743468ef26d1": {
      "model_module": "jupyter-cytoscape",
      "model_module_version": "^1.3.3",
      "model_name": "NodeModel",
      "state": {
       "_model_module_version": "^1.3.3",
       "_view_module_version": "^1.3.3",
       "data": {
        "id": "NCBIGene::596.0"
       },
       "grabbable": true,
       "grabbed": false,
       "position": {
        "x": 322.05071768241686,
        "y": 294.93331631993243
       },
       "selectable": false
      }
     },
     "2f05c63e2f8c4da1a853e8c342fbb194": {
      "model_module": "jupyter-cytoscape",
      "model_module_version": "^1.3.3",
      "model_name": "EdgeModel",
      "state": {
       "_model_module_version": "^1.3.3",
       "_view_module_version": "^1.3.3",
       "data": {
        "_igraph_index": 24,
        "id": "4d4dc021-8e46-4651-9143-d9416597400c",
        "source": "2175196",
        "target": "2196539",
        "type": "EXPRESSES_AeG"
       },
       "selectable": false
      }
     },
     "2ff0df31db5840c28ec0854332ef5724": {
      "model_module": "jupyter-cytoscape",
      "model_module_version": "^1.3.3",
      "model_name": "CytoscapeModel",
      "state": {
       "_interaction_handlers": {},
       "_model_module_version": "^1.3.3",
       "_view_module_version": "^1.3.3",
       "auto_ungrabify": false,
       "autolock": false,
       "cytoscape_layout": {
        "name": "cola"
       },
       "cytoscape_style": [
        {
         "css": {
          "background-color": "#11479e"
         },
         "selector": "node"
        },
        {
         "css": {
          "background-opacity": 0.333
         },
         "selector": "node:parent"
        },
        {
         "selector": "edge",
         "style": {
          "line-color": "#9dbaea",
          "width": 4
         }
        },
        {
         "selector": "edge.directed",
         "style": {
          "curve-style": "bezier",
          "target-arrow-color": "#9dbaea",
          "target-arrow-shape": "triangle"
         }
        },
        {
         "selector": "edge.multiple_edges",
         "style": {
          "curve-style": "bezier"
         }
        }
       ],
       "desktop_tap_threshold": 4,
       "graph": "IPY_MODEL_8df4f607bb304719896c6196a4e46f84",
       "headless": false,
       "hide_edges_on_viewport": false,
       "layout": "IPY_MODEL_c73fddf45efe483da34f24529f5716f7",
       "max_zoom": 1e+50,
       "min_zoom": 1e-50,
       "motion_blur": false,
       "motion_blur_opacity": 0.2,
       "panning_enabled": true,
       "pixel_ratio": "auto",
       "rendered_position": {
        "renderedPosition": {
         "x": 100,
         "y": 100
        }
       },
       "selection_type": "single",
       "style_enabled": true,
       "texture_on_viewport": false,
       "tooltip_source": "tooltip",
       "touch_tap_threshold": 8,
       "user_panning_enabled": true,
       "user_zooming_enabled": true,
       "wheel_sensitivity": 1,
       "zoom": 2,
       "zooming_enabled": true
      }
     },
     "3109eeecbd3a4f06826d32a8f32194ba": {
      "model_module": "jupyter-cytoscape",
      "model_module_version": "^1.3.3",
      "model_name": "NodeModel",
      "state": {
       "_model_module_version": "^1.3.3",
       "_view_module_version": "^1.3.3",
       "data": {
        "_igraph_index": 6,
        "category": "Gene",
        "feature_name": "GATA2",
        "id": "2624",
        "id_prefix": "NCBIGene",
        "in_query": 1,
        "name": "NCBIGene::2624"
       },
       "grabbable": true,
       "grabbed": false,
       "position": {
        "x": 342.5,
        "y": 102.43331531993249
       },
       "selectable": false
      }
     },
     "314b603da7c04be39c6e1bcb61e83732": {
      "model_module": "jupyter-cytoscape",
      "model_module_version": "^1.3.3",
      "model_name": "NodeModel",
      "state": {
       "_model_module_version": "^1.3.3",
       "_view_module_version": "^1.3.3",
       "data": {
        "id": "NCBIGene::51176"
       },
       "grabbable": true,
       "grabbed": false,
       "position": {
        "x": 0,
        "y": 0
       },
       "selectable": false
      }
     },
     "31714b3f09734ad78bfec376c5efa837": {
      "model_module": "jupyter-cytoscape",
      "model_module_version": "^1.3.3",
      "model_name": "GraphModel",
      "state": {
       "_adj": {
        "10577": {},
        "2624": {},
        "4791": {},
        "596.0": {},
        "7157": {},
        "NCBIGene::10577": {},
        "NCBIGene::2624": {
         "REACT::R-HSA-109582": 1
        },
        "NCBIGene::4791": {
         "REACT::R-HSA-168249": 1
        },
        "NCBIGene::596.0": {
         "NCBIGene::7157": 1
        },
        "NCBIGene::7157": {
         "NCBIGene::596.0": 1,
         "REACT::R-HSA-109582": 1,
         "REACT::R-HSA-168249": 1
        },
        "R-HSA-109582": {},
        "R-HSA-168249": {},
        "REACT::R-HSA-109582": {
         "NCBIGene::2624": 1,
         "NCBIGene::7157": 1
        },
        "REACT::R-HSA-168249": {
         "NCBIGene::4791": 1,
         "NCBIGene::7157": 1
        }
       },
       "_model_module_version": "^1.3.3",
       "_view_module": "jupyter-cytoscape",
       "_view_module_version": "^1.3.3",
       "edges": [
        "IPY_MODEL_684116f3f004494da80237431fca3d07",
        "IPY_MODEL_ef8535e7c7e14007a033bd00b29cf852",
        "IPY_MODEL_50546852a9ba40598435e521a5b55da5",
        "IPY_MODEL_80766a790a304475a94849cf5adff397",
        "IPY_MODEL_24e98d5252df4bd79072a12ce425c56f",
        "IPY_MODEL_2400a298164f4a029f3a961d4e046799"
       ],
       "nodes": [
        "IPY_MODEL_cf5ffad3355c4c72bbb7d7fe37a4a82d",
        "IPY_MODEL_eb379b78302c445a862a19e7205f2868",
        "IPY_MODEL_61e55efb67c74a7490ce4fbb1074b143",
        "IPY_MODEL_200281bb708b434389a5ed2cd1335d1e",
        "IPY_MODEL_c1b9affcdd8544d9accc93a6682f8e73",
        "IPY_MODEL_5f6bebe7f8c34a0d8da0acc0a536e59d",
        "IPY_MODEL_7015532ab05a4195aeaaf40dd4e461f4",
        "IPY_MODEL_7ee19a00b3a14fd0a07afe95f4e43af6",
        "IPY_MODEL_9125fd52f92b4334992878960bb46f4e",
        "IPY_MODEL_f549401f06f542658a99fa64a23a4eca",
        "IPY_MODEL_c45e3018f3e040ef87f5e5b46104c756",
        "IPY_MODEL_c69c955bde294af88d75351be29b63a9",
        "IPY_MODEL_628e28c4db434cfdaaa2a168149c2a9e",
        "IPY_MODEL_6c4907b1a62f4cb8ae78edf04860a69a"
       ]
      }
     },
     "31f6eeed07564534bd7636c9893b6536": {
      "model_module": "jupyter-cytoscape",
      "model_module_version": "^1.3.3",
      "model_name": "NodeModel",
      "state": {
       "_model_module_version": "^1.3.3",
       "_view_module_version": "^1.3.3",
       "data": {
        "_igraph_index": 20,
        "category": "Gene",
        "feature_name": "COX6A1",
        "id": "NCBIGene::1337",
        "id_prefix": "NCBIGene",
        "in_query": 1,
        "name": "NCBIGene::1337"
       },
       "grabbable": true,
       "grabbed": false,
       "position": {
        "x": 767.039277167015,
        "y": 30.49888900092111
       },
       "selectable": false
      }
     },
     "32123658d8d34682892d759c2f6f0909": {
      "model_module": "jupyter-cytoscape",
      "model_module_version": "^1.3.3",
      "model_name": "EdgeModel",
      "state": {
       "_model_module_version": "^1.3.3",
       "_view_module_version": "^1.3.3",
       "data": {
        "Knowledge_Source": "Multiomics-BigGIM-DrugResponse",
        "Primary_Knowledge_Source": "hsa04071",
        "_igraph_index": 0,
        "predicate": "binding/association",
        "publications": "PMID:27899662",
        "source": "NCBIGene::7157",
        "target": "NCBIGene::596.0"
       },
       "selectable": false
      }
     },
     "33fe09b837da449a8d192a3cf526ff78": {
      "model_module": "jupyter-cytoscape",
      "model_module_version": "^1.3.3",
      "model_name": "NodeModel",
      "state": {
       "_model_module_version": "^1.3.3",
       "_view_module_version": "^1.3.3",
       "data": {
        "id": "NCBIGene::7157"
       },
       "grabbable": true,
       "grabbed": false,
       "selectable": false
      }
     },
     "3404c03627204713ba697d46655adb0e": {
      "model_module": "jupyter-cytoscape",
      "model_module_version": "^1.3.3",
      "model_name": "NodeModel",
      "state": {
       "_model_module_version": "^1.3.3",
       "_view_module_version": "^1.3.3",
       "data": {
        "_igraph_index": 1,
        "category": "Gene",
        "feature_name": "BCL2",
        "id": "NCBIGene::596.0",
        "id_prefix": "NCBIGene",
        "in_query": 1,
        "name": "NCBIGene::596.0"
       },
       "grabbable": true,
       "grabbed": false,
       "selectable": false
      }
     },
     "34121a5195564391acde6f6a4e63b95a": {
      "model_module": "jupyter-cytoscape",
      "model_module_version": "^1.3.3",
      "model_name": "GraphModel",
      "state": {
       "_adj": {
        "0": {
         "1": 1,
         "3": 1,
         "4": 1
        },
        "1": {
         "0": 1
        },
        "10577": {},
        "2": {
         "4": 1
        },
        "2624": {},
        "3": {
         "0": 1,
         "6": 1
        },
        "4": {
         "0": 1,
         "2": 1
        },
        "4791": {},
        "5": {},
        "596.0": {},
        "6": {
         "3": 1
        },
        "7157": {},
        "R-HSA-109582": {},
        "R-HSA-168249": {}
       },
       "_model_module_version": "^1.3.3",
       "_view_module": "jupyter-cytoscape",
       "_view_module_version": "^1.3.3",
       "edges": [
        "IPY_MODEL_cd847428a9f246c7935a9f31e6087195",
        "IPY_MODEL_d4928a5d4a7f408b8ffec58af234cb77",
        "IPY_MODEL_b99afa79735d4f139ba6a9fac060dedd",
        "IPY_MODEL_9c54b2720c4a44ba907d937f5a6e75f8",
        "IPY_MODEL_a1a5c7bf28f645458bb32257b1c61984",
        "IPY_MODEL_d77e3c7592284fc7a6f2837e5351af88"
       ],
       "nodes": [
        "IPY_MODEL_55c22d7a348e4d439a990fbde797aa0e",
        "IPY_MODEL_d8ddc7e4314e4e3e9b74c926227f84c4",
        "IPY_MODEL_dcf5381d5ff6471bba8d977b159f8fb4",
        "IPY_MODEL_3a18f17ab61d47b59b8126f3b15dbee7",
        "IPY_MODEL_79ca98abd5c9408ea53c2aab5fb682fc",
        "IPY_MODEL_3fe1c08b46e8499eb354564cc9cd7623",
        "IPY_MODEL_38a751d3173a4057a7b09fe90e554507",
        "IPY_MODEL_0559595bc23c4b71bf684c6709ac9067",
        "IPY_MODEL_1010dcfba3924cacaa1e3654d1fba957",
        "IPY_MODEL_11b353e3b1e541d785445a183cb39243",
        "IPY_MODEL_98f5a1fbef8b485da8c54e494c064255",
        "IPY_MODEL_e6b3d793892b4224bb09dd6037958609",
        "IPY_MODEL_68a2b26080414f07aca25f45f69dad90",
        "IPY_MODEL_158143aec462463d83419870512f418b"
       ]
      }
     },
     "3547eb1db2b348aaa5dc7f568a3313c4": {
      "model_module": "jupyter-cytoscape",
      "model_module_version": "^1.3.3",
      "model_name": "NodeModel",
      "state": {
       "_model_module_version": "^1.3.3",
       "_view_module_version": "^1.3.3",
       "data": {
        "_igraph_index": 21,
        "category": "Gene",
        "feature_name": "GATA2",
        "id": "NCBIGene::2624",
        "id_prefix": "NCBIGene",
        "in_query": 1,
        "name": "NCBIGene::2624"
       },
       "grabbable": true,
       "grabbed": false,
       "position": {
        "x": 420.12818075643014,
        "y": -88.5668236302829
       },
       "selectable": false
      }
     },
     "36553b5ebd434543a5cb56f2fcd814b6": {
      "model_module": "jupyter-cytoscape",
      "model_module_version": "^1.3.3",
      "model_name": "EdgeModel",
      "state": {
       "_model_module_version": "^1.3.3",
       "_view_module_version": "^1.3.3",
       "data": {
        "Knowledge_Source": "Multiomics-BigGIM-DrugResponse",
        "Primary_Knowledge_Source": "hsa04071",
        "_igraph_index": 0,
        "id": "76ada731-4dea-43ae-aeb0-f3d46cd466d1",
        "predicate": "binding/association",
        "publications": "PMID:27899662",
        "source": "NCBIGene::7157",
        "target": "NCBIGene::596.0"
       },
       "selectable": false
      }
     },
     "37288cd8bc3140189f56b0f7617f7677": {
      "model_module": "jupyter-cytoscape",
      "model_module_version": "^1.3.3",
      "model_name": "CytoscapeModel",
      "state": {
       "_interaction_handlers": {},
       "_model_module_version": "^1.3.3",
       "_view_module_version": "^1.3.3",
       "auto_ungrabify": false,
       "autolock": false,
       "cytoscape_layout": {
        "edgeLengthVal": 50,
        "name": "cola",
        "nodeSpacing": 80,
        "title": "high_proteins"
       },
       "cytoscape_style": [
        {
         "selector": "node[feature_name]",
         "style": {
          "font-family": "helvetica",
          "font-size": "20px",
          "label": "data(feature_name)"
         }
        },
        {
         "selector": "node[category=\"Protein\"]",
         "style": {
          "background-color": "blue"
         }
        },
        {
         "selector": "node[in_query=1]",
         "style": {
          "border-color": "red",
          "border-width": "5px"
         }
        },
        {
         "selector": "edge[type]",
         "style": {
          "label": "data(type)"
         }
        },
        {
         "selector": "edge.directed",
         "style": {
          "curve-style": "bezier",
          "target-arrow-shape": "triangle"
         }
        }
       ],
       "desktop_tap_threshold": 4,
       "graph": "IPY_MODEL_6c6b5e3fe2c5407b845cbc81370dee46",
       "headless": false,
       "hide_edges_on_viewport": false,
       "layout": "IPY_MODEL_0697ec4e005a4942bd3ba7f81dbb6657",
       "max_zoom": 1e+50,
       "min_zoom": 1e-50,
       "motion_blur": false,
       "motion_blur_opacity": 0.2,
       "panning_enabled": true,
       "pixel_ratio": "auto",
       "rendered_position": {
        "renderedPosition": {
         "x": 100,
         "y": 100
        }
       },
       "selection_type": "single",
       "style_enabled": true,
       "texture_on_viewport": false,
       "tooltip_source": "feature_name",
       "touch_tap_threshold": 8,
       "user_panning_enabled": true,
       "user_zooming_enabled": true,
       "wheel_sensitivity": 1,
       "zoom": 2,
       "zooming_enabled": true
      }
     },
     "384124340833445a9bc8fab0e2eeb54d": {
      "model_module": "jupyter-cytoscape",
      "model_module_version": "^1.3.3",
      "model_name": "NodeModel",
      "state": {
       "_model_module_version": "^1.3.3",
       "_view_module_version": "^1.3.3",
       "data": {
        "id": "NCBIGene::10577"
       },
       "grabbable": true,
       "grabbed": false,
       "position": {
        "x": 383.77084350366346,
        "y": 179.76282510093836
       },
       "selectable": false
      }
     },
     "387ca2320f0c4cf6aa3552f3d00feb26": {
      "model_module": "jupyter-cytoscape",
      "model_module_version": "^1.3.3",
      "model_name": "NodeModel",
      "state": {
       "_model_module_version": "^1.3.3",
       "_view_module_version": "^1.3.3",
       "data": {
        "id": "NCBIGene::596.0"
       },
       "grabbable": true,
       "grabbed": false,
       "position": {
        "x": 0,
        "y": 0
       },
       "selectable": false
      }
     },
     "38a751d3173a4057a7b09fe90e554507": {
      "model_module": "jupyter-cytoscape",
      "model_module_version": "^1.3.3",
      "model_name": "NodeModel",
      "state": {
       "_model_module_version": "^1.3.3",
       "_view_module_version": "^1.3.3",
       "data": {
        "_igraph_index": 6,
        "category": "Gene",
        "feature_name": "GATA2",
        "id": "2624",
        "id_prefix": "NCBIGene",
        "in_query": 1,
        "name": "NCBIGene::2624"
       },
       "grabbable": true,
       "grabbed": false,
       "position": {
        "x": 855,
        "y": 396.9539609065721
       },
       "selectable": false
      }
     },
     "39115eb6392141f793d1eb84d23e544c": {
      "model_module": "jupyter-cytoscape",
      "model_module_version": "^1.3.3",
      "model_name": "NodeModel",
      "state": {
       "_model_module_version": "^1.3.3",
       "_view_module_version": "^1.3.3",
       "data": {
        "id": "NCBIGene::712"
       },
       "grabbable": true,
       "grabbed": false,
       "position": {
        "x": 0,
        "y": 0
       },
       "selectable": false
      }
     },
     "3933aace20b545599eaabf633aba6def": {
      "model_module": "jupyter-cytoscape",
      "model_module_version": "^1.3.3",
      "model_name": "NodeModel",
      "state": {
       "_model_module_version": "^1.3.3",
       "_view_module_version": "^1.3.3",
       "data": {
        "_igraph_index": 3,
        "category": "Pathway",
        "feature_name": "Hemostasis",
        "id": "REACT::R-HSA-109582",
        "id_prefix": "REACT",
        "in_query": 0,
        "name": "REACT::R-HSA-109582"
       },
       "grabbable": true,
       "grabbed": false,
       "selectable": false
      }
     },
     "39cfcbb6812a4f49ace1f7af091e9277": {
      "model_module": "jupyter-cytoscape",
      "model_module_version": "^1.3.3",
      "model_name": "NodeModel",
      "state": {
       "_model_module_version": "^1.3.3",
       "_view_module_version": "^1.3.3",
       "data": {
        "_igraph_index": 0,
        "category": "Gene",
        "feature_name": "TP53",
        "id": "7157",
        "id_prefix": "NCBIGene",
        "in_query": 0,
        "name": "NCBIGene::7157"
       },
       "grabbable": true,
       "grabbed": false,
       "position": {
        "x": 545,
        "y": 167.08598484009744
       },
       "selectable": false
      }
     },
     "3a18f17ab61d47b59b8126f3b15dbee7": {
      "model_module": "jupyter-cytoscape",
      "model_module_version": "^1.3.3",
      "model_name": "NodeModel",
      "state": {
       "_model_module_version": "^1.3.3",
       "_view_module_version": "^1.3.3",
       "data": {
        "_igraph_index": 3,
        "category": "Pathway",
        "feature_name": "Hemostasis",
        "id": "R-HSA-109582",
        "id_prefix": "REACT",
        "in_query": 0,
        "name": "REACT::R-HSA-109582"
       },
       "grabbable": true,
       "grabbed": false,
       "position": {
        "x": 437.5,
        "y": 599.4539609065722
       },
       "selectable": false
      }
     },
     "3ae14eaf0be34396b57d2eb4dccc8976": {
      "model_module": "jupyter-cytoscape",
      "model_module_version": "^1.3.3",
      "model_name": "EdgeModel",
      "state": {
       "_model_module_version": "^1.3.3",
       "_view_module_version": "^1.3.3",
       "data": {
        "Knowledge_Source": "Reactome",
        "Primary_Knowledge_Source": "R-HSA-168249",
        "_igraph_index": 3,
        "id": "4deb248b-0cb3-48e3-bf9f-dea799492b01",
        "predicate": "participates_in",
        "publications": "PMID:34788843",
        "source": "NCBIGene::4791",
        "target": "REACT::R-HSA-168249"
       },
       "selectable": false
      }
     },
     "3b3833d8ee454f91bae58c10227c67bc": {
      "model_module": "jupyter-cytoscape",
      "model_module_version": "^1.3.3",
      "model_name": "EdgeModel",
      "state": {
       "_model_module_version": "^1.3.3",
       "_view_module_version": "^1.3.3",
       "data": {
        "_igraph_index": 36,
        "id": "93aa3881-27e8-4284-80e5-48ab2e459843",
        "source": "2175196",
        "target": "2201977",
        "type": "EXPRESSES_AeG"
       },
       "selectable": false
      }
     },
     "3bb4214a97654d4e9150f9649cf85b16": {
      "model_module": "jupyter-cytoscape",
      "model_module_version": "^1.3.3",
      "model_name": "NodeModel",
      "state": {
       "_model_module_version": "^1.3.3",
       "_view_module_version": "^1.3.3",
       "data": {
        "id": "REACT::R-HSA-109582"
       },
       "grabbable": true,
       "grabbed": false,
       "selectable": false
      }
     },
     "3bb55597f77d4e48a2974c261d425280": {
      "model_module": "jupyter-cytoscape",
      "model_module_version": "^1.3.3",
      "model_name": "EdgeModel",
      "state": {
       "_model_module_version": "^1.3.3",
       "_view_module_version": "^1.3.3",
       "classes": " multiple_edges ",
       "data": {
        "Knowledge_Source": "Reactome",
        "Primary_Knowledge_Source": "R-HSA-162582",
        "_igraph_index": 21,
        "id": "1da0bfa2-4699-4761-94ee-fc3730e40232",
        "predicate": "reactome_participates_in",
        "publications": "PMID:34788843",
        "source": "NCBIGene::3280",
        "target": "REACT::R-HSA-162582"
       },
       "selectable": false
      }
     },
     "3c2d35fc416840c99b594d875e9b9584": {
      "model_module": "jupyter-cytoscape",
      "model_module_version": "^1.3.3",
      "model_name": "NodeModel",
      "state": {
       "_model_module_version": "^1.3.3",
       "_view_module_version": "^1.3.3",
       "data": {
        "_igraph_index": 18,
        "category": "Gene",
        "feature_name": "LILRB2",
        "id": "2197914",
        "identifier": 10288,
        "in_query": 1,
        "name": "2197914",
        "source": "Entrez Gene"
       },
       "grabbable": true,
       "grabbed": false,
       "position": {
        "x": 119.29230613981417,
        "y": 22.12088991913951
       },
       "selectable": false
      }
     },
     "3e11e72725e942f29ac8d1a755285e3f": {
      "model_module": "jupyter-cytoscape",
      "model_module_version": "^1.3.3",
      "model_name": "NodeModel",
      "state": {
       "_model_module_version": "^1.3.3",
       "_view_module_version": "^1.3.3",
       "data": {
        "id": "NCBIGene::2624"
       },
       "grabbable": true,
       "grabbed": false,
       "selectable": false
      }
     },
     "3e5e6eecf7f24f1ab3a10c5f97147b7e": {
      "model_module": "jupyter-cytoscape",
      "model_module_version": "^1.3.3",
      "model_name": "NodeModel",
      "state": {
       "_model_module_version": "^1.3.3",
       "_view_module_version": "^1.3.3",
       "data": {
        "_igraph_index": 0,
        "category": "Disease",
        "feature_name": "acute myeloid leukemia",
        "id": "2166630",
        "identifier": "DOID:9119",
        "in_query": 1,
        "name": "2166630",
        "source": "Disease Ontology"
       },
       "grabbable": true,
       "grabbed": false,
       "position": {
        "x": 1343.660914062599,
        "y": 356.5104581937145
       },
       "selectable": false
      }
     },
     "3e98fd0e13a74ff9a6d820aeeb8353e1": {
      "model_module": "jupyter-cytoscape",
      "model_module_version": "^1.3.3",
      "model_name": "CytoscapeModel",
      "state": {
       "_interaction_handlers": {},
       "_model_module_version": "^1.3.3",
       "_view_module_version": "^1.3.3",
       "auto_ungrabify": false,
       "autolock": false,
       "cytoscape_layout": {
        "edgeLengthVal": 50,
        "name": "cola",
        "nodeSpacing": 80,
        "title": "high_proteins"
       },
       "cytoscape_style": [
        {
         "selector": "node[feature_name]",
         "style": {
          "font-family": "helvetica",
          "font-size": "20px",
          "label": "data(feature_name)"
         }
        },
        {
         "selector": "node[category=\"Protein\"]",
         "style": {
          "background-color": "blue"
         }
        },
        {
         "selector": "node[in_query=1]",
         "style": {
          "border-color": "red",
          "border-width": "5px"
         }
        },
        {
         "selector": "edge[type]",
         "style": {
          "label": "data(type)"
         }
        },
        {
         "selector": "edge.directed",
         "style": {
          "curve-style": "bezier",
          "target-arrow-shape": "triangle"
         }
        }
       ],
       "desktop_tap_threshold": 4,
       "graph": "IPY_MODEL_dae94b0c1c064b7a91897a82c8985e71",
       "headless": false,
       "hide_edges_on_viewport": false,
       "layout": "IPY_MODEL_63f86b881c2a4864b67d28d465d08b24",
       "max_zoom": 1e+50,
       "min_zoom": 1e-50,
       "motion_blur": false,
       "motion_blur_opacity": 0.2,
       "panning_enabled": true,
       "pixel_ratio": "auto",
       "rendered_position": {
        "renderedPosition": {
         "x": 100,
         "y": 100
        }
       },
       "selection_type": "single",
       "style_enabled": true,
       "texture_on_viewport": false,
       "tooltip_source": "feature_name",
       "touch_tap_threshold": 8,
       "user_panning_enabled": true,
       "user_zooming_enabled": true,
       "wheel_sensitivity": 1,
       "zoom": 2,
       "zooming_enabled": true
      }
     },
     "3f5da13dcc724b76a57d8536799544c9": {
      "model_module": "jupyter-cytoscape",
      "model_module_version": "^1.3.3",
      "model_name": "EdgeModel",
      "state": {
       "_model_module_version": "^1.3.3",
       "_view_module_version": "^1.3.3",
       "classes": " multiple_edges ",
       "data": {
        "Knowledge_Source": "Reactome",
        "Primary_Knowledge_Source": "R-HSA-168256",
        "_igraph_index": 28,
        "id": "60bf27c2-3461-476b-9e5d-0a94bcf928f6",
        "predicate": "reactome_participates_in",
        "publications": "PMID:34788843",
        "source": "REACT::R-HSA-168256",
        "target": "NCBIGene::10577"
       },
       "selectable": false
      }
     },
     "3fe1c08b46e8499eb354564cc9cd7623": {
      "model_module": "jupyter-cytoscape",
      "model_module_version": "^1.3.3",
      "model_name": "NodeModel",
      "state": {
       "_model_module_version": "^1.3.3",
       "_view_module_version": "^1.3.3",
       "data": {
        "_igraph_index": 5,
        "category": "Gene",
        "feature_name": "NPC2",
        "id": "10577",
        "id_prefix": "NCBIGene",
        "in_query": 1,
        "name": "NCBIGene::10577"
       },
       "grabbable": true,
       "grabbed": false,
       "position": {
        "x": 650,
        "y": 396.9539609065721
       },
       "selectable": false
      }
     },
     "408686d5bcfc40adadf43cd0ca0756e5": {
      "model_module": "jupyter-cytoscape",
      "model_module_version": "^1.3.3",
      "model_name": "NodeModel",
      "state": {
       "_model_module_version": "^1.3.3",
       "_view_module_version": "^1.3.3",
       "data": {
        "_igraph_index": 1,
        "category": "Compound",
        "feature_name": "CHEMBL2139591",
        "id": "283315",
        "identifier": "CHEMBL2139591",
        "in_query": 0,
        "name": "283315",
        "source": "ChEMBL"
       },
       "grabbable": true,
       "grabbed": false,
       "position": {
        "x": 408.9960385409474,
        "y": 230.7080475588069
       },
       "selectable": false
      }
     },
     "40b345c1b15142fda48d7084eea31160": {
      "model_module": "jupyter-cytoscape",
      "model_module_version": "^1.3.3",
      "model_name": "NodeModel",
      "state": {
       "_model_module_version": "^1.3.3",
       "_view_module_version": "^1.3.3",
       "data": {
        "id": "NCBIGene::7157"
       },
       "grabbable": true,
       "grabbed": false,
       "position": {
        "x": 0,
        "y": 0
       },
       "selectable": false
      }
     },
     "41f50a06b50747668a58a738bc458e06": {
      "model_module": "jupyter-cytoscape",
      "model_module_version": "^1.3.3",
      "model_name": "EdgeModel",
      "state": {
       "_model_module_version": "^1.3.3",
       "_view_module_version": "^1.3.3",
       "classes": " multiple_edges ",
       "data": {
        "Knowledge_Source": "Reactome",
        "Primary_Knowledge_Source": "R-HSA-212436",
        "_igraph_index": 24,
        "id": "03af6e03-ecbc-4ce4-b3e0-478a2771e2b8",
        "predicate": "reactome_participates_in",
        "publications": "PMID:34788843",
        "source": "NCBIGene::51176",
        "target": "REACT::R-HSA-212436"
       },
       "selectable": false
      }
     },
     "42c2a8838add4eaea7691018b004e53e": {
      "model_module": "jupyter-cytoscape",
      "model_module_version": "^1.3.3",
      "model_name": "GraphModel",
      "state": {
       "_adj": {},
       "_model_module_version": "^1.3.3",
       "_view_module": "jupyter-cytoscape",
       "_view_module_version": "^1.3.3"
      }
     },
     "4330c127b7914370971b5b64e729ad30": {
      "model_module": "jupyter-cytoscape",
      "model_module_version": "^1.3.3",
      "model_name": "EdgeModel",
      "state": {
       "_model_module_version": "^1.3.3",
       "_view_module_version": "^1.3.3",
       "classes": " multiple_edges ",
       "data": {
        "Knowledge_Source": "Reactome",
        "Primary_Knowledge_Source": "R-HSA-162582",
        "_igraph_index": 15,
        "id": "ebe7dfe9-0b23-4603-a19f-f207478d5c85",
        "predicate": "reactome_participates_in",
        "publications": "PMID:34788843",
        "source": "NCBIGene::595",
        "target": "REACT::R-HSA-162582"
       },
       "selectable": false
      }
     },
     "439850c01e1448bd9295a1c0cdf47fa4": {
      "model_module": "jupyter-cytoscape",
      "model_module_version": "^1.3.3",
      "model_name": "NodeModel",
      "state": {
       "_model_module_version": "^1.3.3",
       "_view_module_version": "^1.3.3",
       "data": {
        "id": "REACT::R-HSA-168249"
       },
       "grabbable": true,
       "grabbed": false,
       "selectable": false
      }
     },
     "44c4a094f71442a4bbc0b75b0696f5a0": {
      "model_module": "jupyter-cytoscape",
      "model_module_version": "^1.3.3",
      "model_name": "EdgeModel",
      "state": {
       "_model_module_version": "^1.3.3",
       "_view_module_version": "^1.3.3",
       "classes": " multiple_edges ",
       "data": {
        "Knowledge_Source": "Reactome",
        "Primary_Knowledge_Source": "R-HSA-1643685",
        "_igraph_index": 13,
        "id": "54ce0ca0-f51d-4abc-98d6-f18986c97887",
        "predicate": "reactome_participates_in",
        "publications": "PMID:34788843",
        "source": "NCBIGene::8678",
        "target": "REACT::R-HSA-1643685"
       },
       "selectable": false
      }
     },
     "4534fb6d85bf4eee8b468cd4e40dd415": {
      "model_module": "jupyter-cytoscape",
      "model_module_version": "^1.3.3",
      "model_name": "NodeModel",
      "state": {
       "_model_module_version": "^1.3.3",
       "_view_module_version": "^1.3.3",
       "data": {
        "_igraph_index": 5,
        "category": "Gene",
        "feature_name": "HES1",
        "id": "NCBIGene::3280",
        "id_prefix": "NCBIGene",
        "in_query": 0,
        "name": "NCBIGene::3280"
       },
       "grabbable": true,
       "grabbed": false,
       "position": {
        "x": 882.6584489105302,
        "y": 280.1686052867619
       },
       "selectable": false
      }
     },
     "45750c2248eb41799cb7550ccc61c145": {
      "model_module": "jupyter-cytoscape",
      "model_module_version": "^1.3.3",
      "model_name": "NodeModel",
      "state": {
       "_model_module_version": "^1.3.3",
       "_view_module_version": "^1.3.3",
       "data": {
        "_igraph_index": 6,
        "category": "Gene",
        "feature_name": "NPC2",
        "id": "2198153",
        "identifier": 10577,
        "in_query": 1,
        "name": "2198153",
        "source": "Entrez Gene"
       },
       "grabbable": true,
       "grabbed": false,
       "position": {
        "x": 412.00508095516966,
        "y": 423.20804855880687
       },
       "selectable": false
      }
     },
     "459e68a213e4484784747c2ca0b188cc": {
      "model_module": "jupyter-cytoscape",
      "model_module_version": "^1.3.3",
      "model_name": "NodeModel",
      "state": {
       "_model_module_version": "^1.3.3",
       "_view_module_version": "^1.3.3",
       "data": {
        "_igraph_index": 1,
        "category": "Gene",
        "feature_name": "BCL2",
        "id": "NCBIGene::596.0",
        "id_prefix": "NCBIGene",
        "in_query": 1,
        "name": "NCBIGene::596.0"
       },
       "grabbable": true,
       "grabbed": false,
       "position": {
        "x": 397.792918188195,
        "y": 51.624649846104006
       },
       "selectable": false
      }
     },
     "465d8e6f08d244938908339579769d61": {
      "model_module": "jupyter-cytoscape",
      "model_module_version": "^1.3.3",
      "model_name": "GraphModel",
      "state": {
       "_adj": {},
       "_model_module_version": "^1.3.3",
       "_view_module": "jupyter-cytoscape",
       "_view_module_version": "^1.3.3"
      }
     },
     "47fd3c0d0c4b464eb5be949688a1fbe9": {
      "model_module": "jupyter-cytoscape",
      "model_module_version": "^1.3.3",
      "model_name": "NodeModel",
      "state": {
       "_model_module_version": "^1.3.3",
       "_view_module_version": "^1.3.3",
       "data": {
        "_igraph_index": 0,
        "category": "Gene",
        "feature_name": "TP53",
        "id": "NCBIGene::7157",
        "id_prefix": "NCBIGene",
        "in_query": 0,
        "name": "NCBIGene::7157"
       },
       "grabbable": true,
       "grabbed": false,
       "selectable": false
      }
     },
     "484631d326d246ca98573bf5487ec42e": {
      "model_module": "jupyter-cytoscape",
      "model_module_version": "^1.3.3",
      "model_name": "NodeModel",
      "state": {
       "_model_module_version": "^1.3.3",
       "_view_module_version": "^1.3.3",
       "data": {
        "_igraph_index": 3,
        "category": "Pathway",
        "feature_name": "Hemostasis",
        "id": "REACT::R-HSA-109582",
        "id_prefix": "REACT",
        "in_query": 0,
        "name": "REACT::R-HSA-109582"
       },
       "grabbable": true,
       "grabbed": false,
       "position": {
        "x": 780.2929201881949,
        "y": 189.58011648587126
       },
       "selectable": false
      }
     },
     "4944f83e12094edab0dfe3c29d582311": {
      "model_module": "jupyter-cytoscape",
      "model_module_version": "^1.3.3",
      "model_name": "EdgeModel",
      "state": {
       "_model_module_version": "^1.3.3",
       "_view_module_version": "^1.3.3",
       "data": {
        "_igraph_index": 37,
        "id": "2fbb2dd0-1bd0-4218-8209-d8131e73dae2",
        "source": "2175196",
        "target": "2208939",
        "type": "EXPRESSES_AeG"
       },
       "selectable": false
      }
     },
     "4ab250d6d54046a1bb11760ac1c58486": {
      "model_module": "jupyter-cytoscape",
      "model_module_version": "^1.3.3",
      "model_name": "NodeModel",
      "state": {
       "_model_module_version": "^1.3.3",
       "_view_module_version": "^1.3.3",
       "data": {
        "_igraph_index": 15,
        "category": "Gene",
        "feature_name": "BECN1",
        "id": "2196539",
        "identifier": 8678,
        "in_query": 1,
        "name": "2196539",
        "source": "Entrez Gene"
       },
       "grabbable": true,
       "grabbed": false,
       "position": {
        "x": 263.34207457013633,
        "y": 312.78626498755244
       },
       "selectable": false
      }
     },
     "4ce4160a782e48ebbb0a87ce15b8b266": {
      "model_module": "jupyter-cytoscape",
      "model_module_version": "^1.3.3",
      "model_name": "EdgeModel",
      "state": {
       "_model_module_version": "^1.3.3",
       "_view_module_version": "^1.3.3",
       "data": {
        "_igraph_index": 10,
        "id": "009227f5-91b7-40fa-95c7-f1efee5b743c",
        "source": "2175196",
        "target": "2192566",
        "type": "EXPRESSES_AeG"
       },
       "selectable": false
      }
     },
     "4d766ddbba2e46beb34b74230fdb3ee4": {
      "model_module": "jupyter-cytoscape",
      "model_module_version": "^1.3.3",
      "model_name": "NodeModel",
      "state": {
       "_model_module_version": "^1.3.3",
       "_view_module_version": "^1.3.3",
       "data": {
        "_igraph_index": 4,
        "category": "Gene",
        "feature_name": "C1QA",
        "id": "2190459",
        "identifier": 712,
        "in_query": 1,
        "name": "2190459",
        "source": "Entrez Gene"
       },
       "grabbable": true,
       "grabbed": false,
       "position": {
        "x": 224.660210754701,
        "y": 75.33994714780046
       },
       "selectable": false
      }
     },
     "4d98c269a6f040cfa1cbd0ac22ad2b6c": {
      "model_module": "jupyter-cytoscape",
      "model_module_version": "^1.3.3",
      "model_name": "EdgeModel",
      "state": {
       "_model_module_version": "^1.3.3",
       "_view_module_version": "^1.3.3",
       "data": {
        "Knowledge_Source": "Reactome",
        "Primary_Knowledge_Source": "R-HSA-168249",
        "_igraph_index": 3,
        "id": "dd5182d3-41ea-4b2c-8af5-8c399943fc80",
        "predicate": "reactome_participates_in",
        "publications": "PMID:34788843",
        "source": "NCBIGene::4791",
        "target": "REACT::R-HSA-168249"
       },
       "selectable": false
      }
     },
     "4e0d4c72a5f143cdb449ec89845efc8e": {
      "model_module": "jupyter-cytoscape",
      "model_module_version": "^1.3.3",
      "model_name": "CytoscapeModel",
      "state": {
       "_interaction_handlers": {},
       "_model_module_version": "^1.3.3",
       "_view_module_version": "^1.3.3",
       "auto_ungrabify": false,
       "autolock": false,
       "cytoscape_layout": {
        "edgeLengthVal": 50,
        "name": "cola",
        "nodeSpacing": 80,
        "title": "high_proteins"
       },
       "cytoscape_style": [
        {
         "selector": "node[feature_name]",
         "style": {
          "font-family": "helvetica",
          "font-size": "20px",
          "label": "data(feature_name)"
         }
        },
        {
         "selector": "node[category=\"Protein\"]",
         "style": {
          "background-color": "blue"
         }
        },
        {
         "selector": "node[in_query=1]",
         "style": {
          "border-color": "red",
          "border-width": "5px"
         }
        },
        {
         "selector": "edge[type]",
         "style": {
          "label": "data(type)"
         }
        },
        {
         "selector": "edge.directed",
         "style": {
          "curve-style": "bezier",
          "target-arrow-shape": "triangle"
         }
        }
       ],
       "desktop_tap_threshold": 4,
       "graph": "IPY_MODEL_1ada12144beb4df986051254b5b94ae6",
       "headless": false,
       "hide_edges_on_viewport": false,
       "layout": "IPY_MODEL_d8d0a3e5ad2947d38e474cf6b7c291a5",
       "max_zoom": 1e+50,
       "min_zoom": 1e-50,
       "motion_blur": false,
       "motion_blur_opacity": 0.2,
       "panning_enabled": true,
       "pixel_ratio": "auto",
       "rendered_position": {
        "renderedPosition": {
         "x": 100,
         "y": 100
        }
       },
       "selection_type": "single",
       "style_enabled": true,
       "texture_on_viewport": false,
       "tooltip_source": "feature_name",
       "touch_tap_threshold": 8,
       "user_panning_enabled": true,
       "user_zooming_enabled": true,
       "wheel_sensitivity": 1,
       "zoom": 2,
       "zooming_enabled": true
      }
     },
     "4e1d5d93fcd1490ebc607c53591239e2": {
      "model_module": "jupyter-cytoscape",
      "model_module_version": "^1.3.3",
      "model_name": "GraphModel",
      "state": {
       "_adj": {},
       "_model_module_version": "^1.3.3",
       "_view_module": "jupyter-cytoscape",
       "_view_module_version": "^1.3.3"
      }
     },
     "4f58077fc6f94d569292ab0ada707fef": {
      "model_module": "jupyter-cytoscape",
      "model_module_version": "^1.3.3",
      "model_name": "NodeModel",
      "state": {
       "_model_module_version": "^1.3.3",
       "_view_module_version": "^1.3.3",
       "data": {
        "_igraph_index": 7,
        "category": "Gene",
        "feature_name": "GATA2",
        "id": "2191899",
        "identifier": 2624,
        "in_query": 1,
        "name": "2191899",
        "source": "Entrez Gene"
       },
       "grabbable": true,
       "grabbed": false,
       "position": {
        "x": 1140.918487353659,
        "y": 260.8082143674633
       },
       "selectable": false
      }
     },
     "4f7dc3fa28a345bb972c3a3920426c7f": {
      "model_module": "jupyter-cytoscape",
      "model_module_version": "^1.3.3",
      "model_name": "NodeModel",
      "state": {
       "_model_module_version": "^1.3.3",
       "_view_module_version": "^1.3.3",
       "data": {
        "_igraph_index": 16,
        "category": "Gene",
        "feature_name": "MTSS1",
        "id": "2197473",
        "identifier": 9788,
        "in_query": 1,
        "name": "2197473",
        "source": "Entrez Gene"
       },
       "grabbable": true,
       "grabbed": false,
       "position": {
        "x": 78.58294629764235,
        "y": 472.55337684698424
       },
       "selectable": false
      }
     },
     "50546852a9ba40598435e521a5b55da5": {
      "model_module": "jupyter-cytoscape",
      "model_module_version": "^1.3.3",
      "model_name": "EdgeModel",
      "state": {
       "_model_module_version": "^1.3.3",
       "_view_module_version": "^1.3.3",
       "data": {
        "Knowledge_Source": "Reactome",
        "Primary_Knowledge_Source": "R-HSA-168249",
        "_igraph_index": 2,
        "id": "abcf76e9-a81d-49a6-a7fc-c1cc8bc0dc2c",
        "predicate": "reactome_participates_in",
        "publications": "PMID:34788843",
        "source": "NCBIGene::7157",
        "target": "REACT::R-HSA-168249"
       },
       "selectable": false
      }
     },
     "5089c791bf8e43aab56a4c48120377ca": {
      "model_module": "jupyter-cytoscape",
      "model_module_version": "^1.3.3",
      "model_name": "EdgeModel",
      "state": {
       "_model_module_version": "^1.3.3",
       "_view_module_version": "^1.3.3",
       "data": {
        "Knowledge_Source": "Reactome",
        "Primary_Knowledge_Source": "R-HSA-168249",
        "_igraph_index": 4,
        "id": "367a2e29-a13d-4688-878e-3e301a1eb219",
        "predicate": "participates_in",
        "publications": "PMID:34788843",
        "source": "REACT::R-HSA-168249",
        "target": "NCBIGene::10577"
       },
       "selectable": false
      }
     },
     "51823f56672e4e8280e17bcbb936eaea": {
      "model_module": "jupyter-cytoscape",
      "model_module_version": "^1.3.3",
      "model_name": "EdgeModel",
      "state": {
       "_model_module_version": "^1.3.3",
       "_view_module_version": "^1.3.3",
       "data": {
        "_igraph_index": 13,
        "id": "0703e279-450d-47f8-abfe-dd77ab2f0732",
        "source": "2193539",
        "target": "2175051",
        "type": "UPREGULATES_KGuG"
       },
       "selectable": false
      }
     },
     "52ebcad7cafd490d97a22fbcb056f250": {
      "model_module": "jupyter-cytoscape",
      "model_module_version": "^1.3.3",
      "model_name": "EdgeModel",
      "state": {
       "_model_module_version": "^1.3.3",
       "_view_module_version": "^1.3.3",
       "classes": " multiple_edges ",
       "data": {
        "Knowledge_Source": "Reactome",
        "Primary_Knowledge_Source": "R-HSA-168256",
        "_igraph_index": 34,
        "id": "8bc5aaa2-2088-48fe-adff-a5ccbea667e0",
        "predicate": "reactome_participates_in",
        "publications": "PMID:34788843",
        "source": "REACT::R-HSA-168256",
        "target": "NCBIGene::3482"
       },
       "selectable": false
      }
     },
     "532bd7e8903b4334a3b49d5a9cef5cc6": {
      "model_module": "jupyter-cytoscape",
      "model_module_version": "^1.3.3",
      "model_name": "CytoscapeModel",
      "state": {
       "_interaction_handlers": {},
       "_model_module_version": "^1.3.3",
       "_view_module_version": "^1.3.3",
       "auto_ungrabify": false,
       "autolock": false,
       "cytoscape_layout": {
        "name": "cola"
       },
       "cytoscape_style": [
        {
         "css": {
          "background-color": "#11479e"
         },
         "selector": "node"
        },
        {
         "css": {
          "background-opacity": 0.333
         },
         "selector": "node:parent"
        },
        {
         "selector": "edge",
         "style": {
          "line-color": "#9dbaea",
          "width": 4
         }
        },
        {
         "selector": "edge.directed",
         "style": {
          "curve-style": "bezier",
          "target-arrow-color": "#9dbaea",
          "target-arrow-shape": "triangle"
         }
        },
        {
         "selector": "edge.multiple_edges",
         "style": {
          "curve-style": "bezier"
         }
        }
       ],
       "desktop_tap_threshold": 4,
       "graph": "IPY_MODEL_02ba4b38095d4f359008dc55e44f8ed1",
       "headless": false,
       "hide_edges_on_viewport": false,
       "layout": "IPY_MODEL_f1a6db2d6d3449298541842d86421215",
       "max_zoom": 1e+50,
       "min_zoom": 1e-50,
       "motion_blur": false,
       "motion_blur_opacity": 0.2,
       "panning_enabled": true,
       "pixel_ratio": "auto",
       "rendered_position": {
        "renderedPosition": {
         "x": 100,
         "y": 100
        }
       },
       "selection_type": "single",
       "style_enabled": true,
       "texture_on_viewport": false,
       "tooltip_source": "tooltip",
       "touch_tap_threshold": 8,
       "user_panning_enabled": true,
       "user_zooming_enabled": true,
       "wheel_sensitivity": 1,
       "zoom": 2,
       "zooming_enabled": true
      }
     },
     "5408d321920a4e88be61d32580206fb9": {
      "model_module": "jupyter-cytoscape",
      "model_module_version": "^1.3.3",
      "model_name": "EdgeModel",
      "state": {
       "_model_module_version": "^1.3.3",
       "_view_module_version": "^1.3.3",
       "data": {
        "_igraph_index": 25,
        "id": "8f67a560-4ee8-4358-b623-2972a82f755d",
        "source": "2193539",
        "target": "2196539",
        "type": "UPREGULATES_KGuG"
       },
       "selectable": false
      }
     },
     "542d4003944349058aebdc1ef15e0c58": {
      "model_module": "jupyter-cytoscape",
      "model_module_version": "^1.3.3",
      "model_name": "NodeModel",
      "state": {
       "_model_module_version": "^1.3.3",
       "_view_module_version": "^1.3.3",
       "data": {
        "id": "NCBIGene::2624"
       },
       "grabbable": true,
       "grabbed": false,
       "position": {
        "x": 0,
        "y": 0
       },
       "selectable": false
      }
     },
     "5434577decbe48238917f2335d7a1d72": {
      "model_module": "jupyter-cytoscape",
      "model_module_version": "^1.3.3",
      "model_name": "NodeModel",
      "state": {
       "_model_module_version": "^1.3.3",
       "_view_module_version": "^1.3.3",
       "data": {
        "id": "REACT::R-HSA-168249"
       },
       "grabbable": true,
       "grabbed": false,
       "position": {
        "x": 0,
        "y": 0
       },
       "selectable": false
      }
     },
     "554d93ec592e448bbd95b31e5d09bc16": {
      "model_module": "jupyter-cytoscape",
      "model_module_version": "^1.3.3",
      "model_name": "EdgeModel",
      "state": {
       "_model_module_version": "^1.3.3",
       "_view_module_version": "^1.3.3",
       "data": {
        "_igraph_index": 35,
        "id": "e435ac8f-f082-4284-a3fd-a826ca0bc2bd",
        "source": "2175196",
        "target": "2199864",
        "type": "EXPRESSES_AeG"
       },
       "selectable": false
      }
     },
     "55b5ab0d6e484c87b9e9fca285e016ad": {
      "model_module": "jupyter-cytoscape",
      "model_module_version": "^1.3.3",
      "model_name": "EdgeModel",
      "state": {
       "_model_module_version": "^1.3.3",
       "_view_module_version": "^1.3.3",
       "classes": " multiple_edges ",
       "data": {
        "Knowledge_Source": "Multiomics-BigGIM-DrugResponse",
        "Primary_Knowledge_Source": "hsa04071",
        "_igraph_index": 0,
        "id": "c270f7af-1862-4114-a17e-a7b35d2673cb",
        "predicate": "kegg_binding/association",
        "publications": "PMID:27899662",
        "source": "NCBIGene::7157",
        "target": "NCBIGene::596.0"
       },
       "selectable": false
      }
     },
     "55c22d7a348e4d439a990fbde797aa0e": {
      "model_module": "jupyter-cytoscape",
      "model_module_version": "^1.3.3",
      "model_name": "NodeModel",
      "state": {
       "_model_module_version": "^1.3.3",
       "_view_module_version": "^1.3.3",
       "data": {
        "_igraph_index": 0,
        "category": "Gene",
        "feature_name": "TP53",
        "id": "7157",
        "id_prefix": "NCBIGene",
        "in_query": 0,
        "name": "NCBIGene::7157"
       },
       "grabbable": true,
       "grabbed": false,
       "position": {
        "x": 237.5,
        "y": 599.4539609065722
       },
       "selectable": false
      }
     },
     "55f0ac1f7bc14976b7d80e8e93ba120b": {
      "model_module": "jupyter-cytoscape",
      "model_module_version": "^1.3.3",
      "model_name": "NodeModel",
      "state": {
       "_model_module_version": "^1.3.3",
       "_view_module_version": "^1.3.3",
       "data": {
        "_igraph_index": 1,
        "category": "Gene",
        "feature_name": "BCL2",
        "id": "NCBIGene::596.0",
        "id_prefix": "NCBIGene",
        "in_query": 1,
        "name": "NCBIGene::596.0"
       },
       "grabbable": true,
       "grabbed": false,
       "selectable": false
      }
     },
     "56f549ec9fd1431da0876f6cd6ee36cc": {
      "model_module": "jupyter-cytoscape",
      "model_module_version": "^1.3.3",
      "model_name": "NodeModel",
      "state": {
       "_model_module_version": "^1.3.3",
       "_view_module_version": "^1.3.3",
       "data": {
        "_igraph_index": 1,
        "category": "Gene",
        "feature_name": "TP53",
        "id": "NCBIGene::7157",
        "id_prefix": "NCBIGene",
        "in_query": 0,
        "name": "NCBIGene::7157"
       },
       "grabbable": true,
       "grabbed": false,
       "position": {
        "x": 490.57410543936726,
        "y": 275.96996270009544
       },
       "selectable": false
      }
     },
     "591bcc5b05a74761af5598fc831333aa": {
      "model_module": "jupyter-cytoscape",
      "model_module_version": "^1.3.3",
      "model_name": "EdgeModel",
      "state": {
       "_model_module_version": "^1.3.3",
       "_view_module_version": "^1.3.3",
       "data": {
        "Knowledge_Source": "Reactome",
        "Primary_Knowledge_Source": "R-HSA-109582",
        "_igraph_index": 5,
        "predicate": "participates_in",
        "publications": "PMID:34788843",
        "source": "REACT::R-HSA-109582",
        "target": "NCBIGene::2624"
       },
       "selectable": false
      }
     },
     "597ec6128e884f118810a1c98bf17f48": {
      "model_module": "jupyter-cytoscape",
      "model_module_version": "^1.3.3",
      "model_name": "EdgeModel",
      "state": {
       "_model_module_version": "^1.3.3",
       "_view_module_version": "^1.3.3",
       "data": {
        "Knowledge_Source": "Reactome",
        "Primary_Knowledge_Source": "R-HSA-168249",
        "_igraph_index": 4,
        "predicate": "participates_in",
        "publications": "PMID:34788843",
        "source": "REACT::R-HSA-168249",
        "target": "NCBIGene::10577"
       },
       "selectable": false
      }
     },
     "5a7d2a25ff8846198979142c81cda42a": {
      "model_module": "jupyter-cytoscape",
      "model_module_version": "^1.3.3",
      "model_name": "EdgeModel",
      "state": {
       "_model_module_version": "^1.3.3",
       "_view_module_version": "^1.3.3",
       "classes": " multiple_edges ",
       "data": {
        "Knowledge_Source": "Reactome",
        "Primary_Knowledge_Source": "R-HSA-162582",
        "_igraph_index": 16,
        "id": "eb04fd01-09a7-4313-9db1-7ee39c249278",
        "predicate": "reactome_participates_in",
        "publications": "PMID:34788843",
        "source": "NCBIGene::7157",
        "target": "REACT::R-HSA-162582"
       },
       "selectable": false
      }
     },
     "5b1761b0361d42588f4d6562de17699d": {
      "model_module": "jupyter-cytoscape",
      "model_module_version": "^1.3.3",
      "model_name": "NodeModel",
      "state": {
       "_model_module_version": "^1.3.3",
       "_view_module_version": "^1.3.3",
       "data": {
        "id": "NCBIGene::7157"
       },
       "grabbable": true,
       "grabbed": false,
       "position": {
        "x": 512.0507186824169,
        "y": 398.65409387136725
       },
       "selectable": false
      }
     },
     "5b403adad3204656ae1edcdb3f4c17f9": {
      "model_module": "jupyter-cytoscape",
      "model_module_version": "^1.3.3",
      "model_name": "NodeModel",
      "state": {
       "_model_module_version": "^1.3.3",
       "_view_module_version": "^1.3.3",
       "data": {
        "id": "NCBIGene::596.0"
       },
       "grabbable": true,
       "grabbed": false,
       "position": {
        "x": 0,
        "y": 0
       },
       "selectable": false
      }
     },
     "5ba29e8660f143a8a75f8e77f4611957": {
      "model_module": "jupyter-cytoscape",
      "model_module_version": "^1.3.3",
      "model_name": "NodeModel",
      "state": {
       "_model_module_version": "^1.3.3",
       "_view_module_version": "^1.3.3",
       "data": {
        "_igraph_index": 11,
        "category": "Gene",
        "feature_name": "POU6F1",
        "id": "2194083",
        "identifier": 5463,
        "in_query": 1,
        "name": "2194083",
        "source": "Entrez Gene"
       },
       "grabbable": true,
       "grabbed": false,
       "position": {
        "x": 816.0021379576234,
        "y": 60.20620734339371
       },
       "selectable": false
      }
     },
     "5e4cfbfe1765479e885284230ba8afef": {
      "model_module": "jupyter-cytoscape",
      "model_module_version": "^1.3.3",
      "model_name": "EdgeModel",
      "state": {
       "_model_module_version": "^1.3.3",
       "_view_module_version": "^1.3.3",
       "data": {
        "Knowledge_Source": "Reactome",
        "Primary_Knowledge_Source": "R-HSA-168249",
        "_igraph_index": 2,
        "id": "a9a7c12f-f0ac-4eb5-8826-a4f0da5db325",
        "predicate": "reactome_participates_in",
        "publications": "PMID:34788843",
        "source": "NCBIGene::7157",
        "target": "REACT::R-HSA-168249"
       },
       "selectable": false
      }
     },
     "5ea012a46b064c4e9cad3684796a994a": {
      "model_module": "jupyter-cytoscape",
      "model_module_version": "^1.3.3",
      "model_name": "EdgeModel",
      "state": {
       "_model_module_version": "^1.3.3",
       "_view_module_version": "^1.3.3",
       "data": {
        "Knowledge_Source": "Reactome",
        "Primary_Knowledge_Source": "R-HSA-168249",
        "_igraph_index": 4,
        "id": "62e4ddec-437d-4aef-bc1f-c730a525fe6d",
        "predicate": "participates_in",
        "publications": "PMID:34788843",
        "source": "REACT::R-HSA-168249",
        "target": "NCBIGene::10577"
       },
       "selectable": false
      }
     },
     "5f6bebe7f8c34a0d8da0acc0a536e59d": {
      "model_module": "jupyter-cytoscape",
      "model_module_version": "^1.3.3",
      "model_name": "NodeModel",
      "state": {
       "_model_module_version": "^1.3.3",
       "_view_module_version": "^1.3.3",
       "data": {
        "_igraph_index": 5,
        "category": "Gene",
        "feature_name": "NPC2",
        "id": "NCBIGene::10577",
        "id_prefix": "NCBIGene",
        "in_query": 1,
        "name": "NCBIGene::10577"
       },
       "grabbable": true,
       "grabbed": false,
       "position": {
        "x": 583.6974203124613,
        "y": 384.3554946273082
       },
       "selectable": false
      }
     },
     "60944f4d745e4ce8b688dd604746c6b3": {
      "model_module": "jupyter-cytoscape",
      "model_module_version": "^1.3.3",
      "model_name": "NodeModel",
      "state": {
       "_model_module_version": "^1.3.3",
       "_view_module_version": "^1.3.3",
       "data": {
        "id": "NCBIGene::596.0"
       },
       "grabbable": true,
       "grabbed": false,
       "position": {
        "x": 0,
        "y": 0
       },
       "selectable": false
      }
     },
     "61e55efb67c74a7490ce4fbb1074b143": {
      "model_module": "jupyter-cytoscape",
      "model_module_version": "^1.3.3",
      "model_name": "NodeModel",
      "state": {
       "_model_module_version": "^1.3.3",
       "_view_module_version": "^1.3.3",
       "data": {
        "_igraph_index": 2,
        "category": "Gene",
        "feature_name": "NFKB2",
        "id": "NCBIGene::4791",
        "id_prefix": "NCBIGene",
        "in_query": 1,
        "name": "NCBIGene::4791"
       },
       "grabbable": true,
       "grabbed": false,
       "position": {
        "x": 202.792917188195,
        "y": 344.2159163518525
       },
       "selectable": false
      }
     },
     "62278c6de7d64720a46496bd98e9d9ad": {
      "model_module": "jupyter-cytoscape",
      "model_module_version": "^1.3.3",
      "model_name": "NodeModel",
      "state": {
       "_model_module_version": "^1.3.3",
       "_view_module_version": "^1.3.3",
       "data": {
        "id": "NCBIGene::3516.0"
       },
       "grabbable": true,
       "grabbed": false,
       "position": {
        "x": 0,
        "y": 0
       },
       "selectable": false
      }
     },
     "628e28c4db434cfdaaa2a168149c2a9e": {
      "model_module": "jupyter-cytoscape",
      "model_module_version": "^1.3.3",
      "model_name": "NodeModel",
      "state": {
       "_model_module_version": "^1.3.3",
       "_view_module_version": "^1.3.3",
       "data": {
        "id": "NCBIGene::2624"
       },
       "grabbable": true,
       "grabbed": false,
       "position": {
        "x": 0,
        "y": 0
       },
       "selectable": false
      }
     },
     "62a1dda3dab04892acb3f7a8c4b60370": {
      "model_module": "jupyter-cytoscape",
      "model_module_version": "^1.3.3",
      "model_name": "EdgeModel",
      "state": {
       "_model_module_version": "^1.3.3",
       "_view_module_version": "^1.3.3",
       "data": {
        "Knowledge_Source": "Reactome",
        "Primary_Knowledge_Source": "R-HSA-168249",
        "_igraph_index": 3,
        "id": "83997e1c-15d6-45e0-8ae2-c2006365f7cd",
        "predicate": "participates_in",
        "publications": "PMID:34788843",
        "source": "NCBIGene::4791",
        "target": "REACT::R-HSA-168249"
       },
       "selectable": false
      }
     },
     "62ff10b86db74fc3848124a299724e2a": {
      "model_module": "jupyter-cytoscape",
      "model_module_version": "^1.3.3",
      "model_name": "NodeModel",
      "state": {
       "_model_module_version": "^1.3.3",
       "_view_module_version": "^1.3.3",
       "data": {
        "id": "NCBIGene::4791"
       },
       "grabbable": true,
       "grabbed": false,
       "selectable": false
      }
     },
     "6301bb0c3dbb416a992d2df3b1ac058f": {
      "model_module": "jupyter-cytoscape",
      "model_module_version": "^1.3.3",
      "model_name": "EdgeModel",
      "state": {
       "_model_module_version": "^1.3.3",
       "_view_module_version": "^1.3.3",
       "data": {
        "Knowledge_Source": "Reactome",
        "Primary_Knowledge_Source": "R-HSA-109582",
        "_igraph_index": 1,
        "id": "0633bda5-ad41-4241-8285-7931c4822c97",
        "predicate": "participates_in",
        "publications": "PMID:34788843",
        "source": "NCBIGene::7157",
        "target": "REACT::R-HSA-109582"
       },
       "selectable": false
      }
     },
     "63f86b881c2a4864b67d28d465d08b24": {
      "model_module": "@jupyter-widgets/base",
      "model_module_version": "2.0.0",
      "model_name": "LayoutModel",
      "state": {}
     },
     "644b85f022294d7b8214cd1178550950": {
      "model_module": "jupyter-cytoscape",
      "model_module_version": "^1.3.3",
      "model_name": "NodeModel",
      "state": {
       "_model_module_version": "^1.3.3",
       "_view_module_version": "^1.3.3",
       "data": {
        "id": "NCBIGene::8678"
       },
       "grabbable": true,
       "grabbed": false,
       "position": {
        "x": 0,
        "y": 0
       },
       "selectable": false
      }
     },
     "64fddd0b76dc47bca296d68a4b7e7e7a": {
      "model_module": "jupyter-cytoscape",
      "model_module_version": "^1.3.3",
      "model_name": "EdgeModel",
      "state": {
       "_model_module_version": "^1.3.3",
       "_view_module_version": "^1.3.3",
       "classes": " multiple_edges ",
       "data": {
        "Knowledge_Source": "Reactome",
        "Primary_Knowledge_Source": "R-HSA-168256",
        "_igraph_index": 7,
        "id": "69bba6c7-5b7b-49f6-888a-ab846ea387c8",
        "predicate": "reactome_participates_in",
        "publications": "PMID:34788843",
        "source": "NCBIGene::8678",
        "target": "REACT::R-HSA-168256"
       },
       "selectable": false
      }
     },
     "673dda7a983745fda3036a4dca2906bd": {
      "model_module": "jupyter-cytoscape",
      "model_module_version": "^1.3.3",
      "model_name": "NodeModel",
      "state": {
       "_model_module_version": "^1.3.3",
       "_view_module_version": "^1.3.3",
       "data": {
        "_igraph_index": 4,
        "category": "Pathway",
        "feature_name": "Innate Immune System",
        "id": "REACT::R-HSA-168249",
        "id_prefix": "REACT",
        "in_query": 0,
        "name": "REACT::R-HSA-168249"
       },
       "grabbable": true,
       "grabbed": false,
       "selectable": false
      }
     },
     "6752b704e96e4d2eb5a950a06fc220bb": {
      "model_module": "jupyter-cytoscape",
      "model_module_version": "^1.3.3",
      "model_name": "EdgeModel",
      "state": {
       "_model_module_version": "^1.3.3",
       "_view_module_version": "^1.3.3",
       "data": {
        "Knowledge_Source": "Reactome",
        "Primary_Knowledge_Source": "R-HSA-109582",
        "_igraph_index": 5,
        "predicate": "participates_in",
        "publications": "PMID:34788843",
        "source": "REACT::R-HSA-109582",
        "target": "NCBIGene::2624"
       },
       "selectable": false
      }
     },
     "678f7fff08584bec8e96f389eec9caa0": {
      "model_module": "jupyter-cytoscape",
      "model_module_version": "^1.3.3",
      "model_name": "EdgeModel",
      "state": {
       "_model_module_version": "^1.3.3",
       "_view_module_version": "^1.3.3",
       "classes": " multiple_edges ",
       "data": {
        "Knowledge_Source": "Reactome",
        "Primary_Knowledge_Source": "R-HSA-212436",
        "_igraph_index": 23,
        "id": "6546654e-b33b-4f27-ba76-009287afe3e0",
        "predicate": "reactome_participates_in",
        "publications": "PMID:34788843",
        "source": "NCBIGene::7157",
        "target": "REACT::R-HSA-212436"
       },
       "selectable": false
      }
     },
     "67eb42d13796421f89c52bb701bca4dc": {
      "model_module": "jupyter-cytoscape",
      "model_module_version": "^1.3.3",
      "model_name": "NodeModel",
      "state": {
       "_model_module_version": "^1.3.3",
       "_view_module_version": "^1.3.3",
       "data": {
        "_igraph_index": 0,
        "category": "Gene",
        "feature_name": "TP53",
        "id": "NCBIGene::7157",
        "id_prefix": "NCBIGene",
        "in_query": 0,
        "name": "NCBIGene::7157"
       },
       "grabbable": true,
       "grabbed": false,
       "selectable": false
      }
     },
     "684116f3f004494da80237431fca3d07": {
      "model_module": "jupyter-cytoscape",
      "model_module_version": "^1.3.3",
      "model_name": "EdgeModel",
      "state": {
       "_model_module_version": "^1.3.3",
       "_view_module_version": "^1.3.3",
       "data": {
        "Knowledge_Source": "Multiomics-BigGIM-DrugResponse",
        "Primary_Knowledge_Source": "hsa04071",
        "_igraph_index": 0,
        "id": "c95b7667-0d87-4aad-942e-68da7a86e31a",
        "predicate": "kegg_binding/association",
        "publications": "PMID:27899662",
        "source": "NCBIGene::7157",
        "target": "NCBIGene::596.0"
       },
       "selectable": false
      }
     },
     "68a0274732dc411fa77fb0f4ca50912e": {
      "model_module": "jupyter-cytoscape",
      "model_module_version": "^1.3.3",
      "model_name": "NodeModel",
      "state": {
       "_model_module_version": "^1.3.3",
       "_view_module_version": "^1.3.3",
       "data": {
        "id": "REACT::R-HSA-168249"
       },
       "grabbable": true,
       "grabbed": false,
       "position": {
        "x": 0,
        "y": 0
       },
       "selectable": false
      }
     },
     "68a2b26080414f07aca25f45f69dad90": {
      "model_module": "jupyter-cytoscape",
      "model_module_version": "^1.3.3",
      "model_name": "NodeModel",
      "state": {
       "_model_module_version": "^1.3.3",
       "_view_module_version": "^1.3.3",
       "data": {
        "id": "6"
       },
       "grabbable": true,
       "grabbed": false,
       "position": {
        "x": 848.2142889285715,
        "y": -16.000687750103662
       },
       "selectable": false
      }
     },
     "6955932aacbe41b99eaf33e9be848423": {
      "model_module": "jupyter-cytoscape",
      "model_module_version": "^1.3.3",
      "model_name": "EdgeModel",
      "state": {
       "_model_module_version": "^1.3.3",
       "_view_module_version": "^1.3.3",
       "data": {
        "Knowledge_Source": "Multiomics-BigGIM-DrugResponse",
        "Primary_Knowledge_Source": "hsa04071",
        "_igraph_index": 0,
        "id": "f6faef23-86e6-44fd-b1ab-5dba0aeaf50d",
        "predicate": "kegg_binding/association",
        "publications": "PMID:27899662",
        "source": "NCBIGene::7157",
        "target": "NCBIGene::596.0"
       },
       "selectable": false
      }
     },
     "69e104056a2f42b1ad856936eee04651": {
      "model_module": "jupyter-cytoscape",
      "model_module_version": "^1.3.3",
      "model_name": "EdgeModel",
      "state": {
       "_model_module_version": "^1.3.3",
       "_view_module_version": "^1.3.3",
       "data": {
        "_igraph_index": 5,
        "id": "23db48ad-5348-4328-a734-59a0eb66811f",
        "source": "2175196",
        "target": "2191712",
        "type": "EXPRESSES_AeG"
       },
       "selectable": false
      }
     },
     "6aa4de48b0bb4d099c35a0b7cf02b078": {
      "model_module": "jupyter-cytoscape",
      "model_module_version": "^1.3.3",
      "model_name": "NodeModel",
      "state": {
       "_model_module_version": "^1.3.3",
       "_view_module_version": "^1.3.3",
       "data": {
        "_igraph_index": 2,
        "category": "Gene",
        "feature_name": "NFKB2",
        "id": "NCBIGene::4791",
        "id_prefix": "NCBIGene",
        "in_query": 1,
        "name": "NCBIGene::4791"
       },
       "grabbable": true,
       "grabbed": false,
       "selectable": false
      }
     },
     "6b2448ed851940ad87d7ddcccb72df7e": {
      "model_module": "jupyter-cytoscape",
      "model_module_version": "^1.3.3",
      "model_name": "NodeModel",
      "state": {
       "_model_module_version": "^1.3.3",
       "_view_module_version": "^1.3.3",
       "data": {
        "_igraph_index": 5,
        "category": "Gene",
        "feature_name": "NPC2",
        "id": "NCBIGene::10577",
        "id_prefix": "NCBIGene",
        "in_query": 1,
        "name": "NCBIGene::10577"
       },
       "grabbable": true,
       "grabbed": false,
       "selectable": false
      }
     },
     "6b9e295aae3a4c0c8aa1d2b0dd347477": {
      "model_module": "@jupyter-widgets/base",
      "model_module_version": "2.0.0",
      "model_name": "LayoutModel",
      "state": {}
     },
     "6c4907b1a62f4cb8ae78edf04860a69a": {
      "model_module": "jupyter-cytoscape",
      "model_module_version": "^1.3.3",
      "model_name": "NodeModel",
      "state": {
       "_model_module_version": "^1.3.3",
       "_view_module_version": "^1.3.3",
       "data": {
        "id": "NCBIGene::10577"
       },
       "grabbable": true,
       "grabbed": false,
       "position": {
        "x": 0,
        "y": 0
       },
       "selectable": false
      }
     },
     "6c6b5e3fe2c5407b845cbc81370dee46": {
      "model_module": "jupyter-cytoscape",
      "model_module_version": "^1.3.3",
      "model_name": "GraphModel",
      "state": {
       "_adj": {
        "10577": {},
        "2624": {},
        "4791": {},
        "596.0": {},
        "7157": {},
        "NCBIGene::10577": {},
        "NCBIGene::2624": {
         "REACT::R-HSA-109582": 1
        },
        "NCBIGene::4791": {
         "REACT::R-HSA-168249": 1
        },
        "NCBIGene::596.0": {
         "NCBIGene::7157": 1
        },
        "NCBIGene::7157": {
         "NCBIGene::596.0": 1,
         "REACT::R-HSA-109582": 1,
         "REACT::R-HSA-168249": 1
        },
        "R-HSA-109582": {},
        "R-HSA-168249": {},
        "REACT::R-HSA-109582": {
         "NCBIGene::2624": 1,
         "NCBIGene::7157": 1
        },
        "REACT::R-HSA-168249": {
         "NCBIGene::4791": 1,
         "NCBIGene::7157": 1
        }
       },
       "_model_module_version": "^1.3.3",
       "_view_module": "jupyter-cytoscape",
       "_view_module_version": "^1.3.3",
       "edges": [
        "IPY_MODEL_23f6806984d74bc48b5a0ecddc1d7112",
        "IPY_MODEL_6301bb0c3dbb416a992d2df3b1ac058f",
        "IPY_MODEL_70410a0bba764708ae6c89a2232b2deb",
        "IPY_MODEL_3ae14eaf0be34396b57d2eb4dccc8976",
        "IPY_MODEL_ecebd6be6a7f4de381eea6b466c5bf39",
        "IPY_MODEL_5089c791bf8e43aab56a4c48120377ca"
       ],
       "nodes": [
        "IPY_MODEL_39cfcbb6812a4f49ace1f7af091e9277",
        "IPY_MODEL_142c21a5f85a4cafa2fcc2077e1a962b",
        "IPY_MODEL_713f1ba785d84f06a8128c9bcbdd7d64",
        "IPY_MODEL_1000e556bc3943c9be304c4d45518d66",
        "IPY_MODEL_ece2c50315b541358fd07685535b314f",
        "IPY_MODEL_87f65f3bf245430ab1499d94398d45dc",
        "IPY_MODEL_3109eeecbd3a4f06826d32a8f32194ba",
        "IPY_MODEL_5b1761b0361d42588f4d6562de17699d",
        "IPY_MODEL_2e8d33bdbf08467a9f16743468ef26d1",
        "IPY_MODEL_87cd42be82744ef1998cecedbcafd94a",
        "IPY_MODEL_ea91890475684fcb81a931dea71ed3de",
        "IPY_MODEL_c434c813a52748ff8c46aca33f5ee7a7",
        "IPY_MODEL_af156f73819547a4b3fffc5bac6a642c",
        "IPY_MODEL_0f9bdd40289443e09bd3351ec751077f"
       ]
      }
     },
     "6c6bf758165445dbb1865f7765abf075": {
      "model_module": "jupyter-cytoscape",
      "model_module_version": "^1.3.3",
      "model_name": "GraphModel",
      "state": {
       "_adj": {
        "10577": {},
        "2624": {},
        "4791": {},
        "596.0": {},
        "7157": {},
        "NCBIGene::10577": {},
        "NCBIGene::2624": {
         "REACT::R-HSA-109582": 1
        },
        "NCBIGene::4791": {
         "REACT::R-HSA-168249": 1
        },
        "NCBIGene::596.0": {
         "NCBIGene::7157": 1
        },
        "NCBIGene::7157": {
         "NCBIGene::596.0": 1,
         "REACT::R-HSA-109582": 1,
         "REACT::R-HSA-168249": 1
        },
        "R-HSA-109582": {},
        "R-HSA-168249": {},
        "REACT::R-HSA-109582": {
         "NCBIGene::2624": 1,
         "NCBIGene::7157": 1
        },
        "REACT::R-HSA-168249": {
         "NCBIGene::4791": 1,
         "NCBIGene::7157": 1
        }
       },
       "_model_module_version": "^1.3.3",
       "_view_module": "jupyter-cytoscape",
       "_view_module_version": "^1.3.3",
       "edges": [
        "IPY_MODEL_36553b5ebd434543a5cb56f2fcd814b6",
        "IPY_MODEL_074d0f78f1454c3896e97bf7a2529644",
        "IPY_MODEL_84a60a5c89b0495b84e0b651622b49c0",
        "IPY_MODEL_7112ead0a2c54a1fb826e11c17b8a03a",
        "IPY_MODEL_f0bc3a8334ad439cb9c28ccaed426b04",
        "IPY_MODEL_5ea012a46b064c4e9cad3684796a994a"
       ],
       "nodes": [
        "IPY_MODEL_e386c7631075480d8cbbd2ff0714d1e3",
        "IPY_MODEL_ad0c897a93014c7d964bde6a7823558c",
        "IPY_MODEL_b86765a499324668897fe45485bbe75b",
        "IPY_MODEL_02589e08be8e42b9b961d2652ab13361",
        "IPY_MODEL_9c75789e62b04fd78a1c4e8205da6a3b",
        "IPY_MODEL_cd1e26d8e5c0487486f88b517548507a",
        "IPY_MODEL_e1b32a14755c43dc975bac6278451942",
        "IPY_MODEL_40b345c1b15142fda48d7084eea31160",
        "IPY_MODEL_387ca2320f0c4cf6aa3552f3d00feb26",
        "IPY_MODEL_0ce0ba699d624100831ccf5f770435d0",
        "IPY_MODEL_820b5f04a75948cf9a0a493bb3108a94",
        "IPY_MODEL_e3323dff71c9488bb893d81be01a2cb8",
        "IPY_MODEL_542d4003944349058aebdc1ef15e0c58",
        "IPY_MODEL_ac2ac7a2cf784ab39543fda17816c70d"
       ]
      }
     },
     "6d031ac3c70b4a86b43fe6d37136cf75": {
      "model_module": "jupyter-cytoscape",
      "model_module_version": "^1.3.3",
      "model_name": "EdgeModel",
      "state": {
       "_model_module_version": "^1.3.3",
       "_view_module_version": "^1.3.3",
       "data": {
        "_igraph_index": 30,
        "id": "43d08df7-ab02-400c-865d-b77e636e5729",
        "source": "2197914",
        "target": "2175051",
        "type": "UPREGULATES_KGuG"
       },
       "selectable": false
      }
     },
     "6d51bf6df0a549d8bced2166c8f2816f": {
      "model_module": "jupyter-cytoscape",
      "model_module_version": "^1.3.3",
      "model_name": "GraphModel",
      "state": {
       "_adj": {
        "10288": {},
        "10577": {},
        "10992": {},
        "11026": {},
        "121512": {},
        "1337": {},
        "2308.0": {},
        "2624": {},
        "3280": {},
        "3482": {},
        "3516.0": {},
        "4791": {},
        "51176": {},
        "595": {},
        "596.0": {},
        "5971": {},
        "6204": {},
        "712": {},
        "7157": {},
        "8678": {},
        "NCBIGene::10288": {
         "REACT::R-HSA-168256": 1
        },
        "NCBIGene::10577": {
         "REACT::R-HSA-168256": 1
        },
        "NCBIGene::10992": {},
        "NCBIGene::11026": {
         "REACT::R-HSA-168256": 1
        },
        "NCBIGene::121512": {
         "REACT::R-HSA-162582": 1
        },
        "NCBIGene::1337": {
         "REACT::R-HSA-212436": 1
        },
        "NCBIGene::2308.0": {
         "NCBIGene::595": 1
        },
        "NCBIGene::2624": {
         "REACT::R-HSA-212436": 1
        },
        "NCBIGene::3280": {
         "NCBIGene::3516.0": 1,
         "REACT::R-HSA-162582": 2,
         "REACT::R-HSA-1643685": 1,
         "REACT::R-HSA-212436": 2
        },
        "NCBIGene::3482": {
         "REACT::R-HSA-168256": 1
        },
        "NCBIGene::3516.0": {
         "NCBIGene::3280": 1
        },
        "NCBIGene::4791": {
         "REACT::R-HSA-1643685": 1,
         "REACT::R-HSA-168256": 1
        },
        "NCBIGene::51176": {
         "REACT::R-HSA-162582": 2,
         "REACT::R-HSA-212436": 1
        },
        "NCBIGene::595": {
         "NCBIGene::2308.0": 1,
         "REACT::R-HSA-162582": 2,
         "REACT::R-HSA-1643685": 1,
         "REACT::R-HSA-168256": 1,
         "REACT::R-HSA-212436": 1
        },
        "NCBIGene::596.0": {
         "NCBIGene::7157": 1
        },
        "NCBIGene::5971": {
         "REACT::R-HSA-168256": 1
        },
        "NCBIGene::6204": {
         "REACT::R-HSA-1643685": 1
        },
        "NCBIGene::712": {
         "REACT::R-HSA-168256": 1
        },
        "NCBIGene::7157": {
         "NCBIGene::596.0": 1,
         "REACT::R-HSA-162582": 2,
         "REACT::R-HSA-1643685": 1,
         "REACT::R-HSA-168256": 1,
         "REACT::R-HSA-212436": 1
        },
        "NCBIGene::8678": {
         "REACT::R-HSA-1643685": 2,
         "REACT::R-HSA-168256": 1
        },
        "R-HSA-162582": {},
        "R-HSA-1643685": {},
        "R-HSA-168256": {},
        "R-HSA-212436": {},
        "R-HSA-8953854": {},
        "REACT::R-HSA-162582": {
         "NCBIGene::121512": 1,
         "NCBIGene::3280": 2,
         "NCBIGene::51176": 2,
         "NCBIGene::595": 2,
         "NCBIGene::7157": 2
        },
        "REACT::R-HSA-1643685": {
         "NCBIGene::3280": 1,
         "NCBIGene::4791": 1,
         "NCBIGene::595": 1,
         "NCBIGene::6204": 1,
         "NCBIGene::7157": 1,
         "NCBIGene::8678": 2
        },
        "REACT::R-HSA-168256": {
         "NCBIGene::10288": 1,
         "NCBIGene::10577": 1,
         "NCBIGene::11026": 1,
         "NCBIGene::3482": 1,
         "NCBIGene::4791": 1,
         "NCBIGene::595": 1,
         "NCBIGene::5971": 1,
         "NCBIGene::712": 1,
         "NCBIGene::7157": 1,
         "NCBIGene::8678": 1
        },
        "REACT::R-HSA-212436": {
         "NCBIGene::1337": 1,
         "NCBIGene::2624": 1,
         "NCBIGene::3280": 2,
         "NCBIGene::51176": 1,
         "NCBIGene::595": 1,
         "NCBIGene::7157": 1
        },
        "REACT::R-HSA-8953854": {}
       },
       "_model_module_version": "^1.3.3",
       "_view_module": "jupyter-cytoscape",
       "_view_module_version": "^1.3.3",
       "edges": [
        "IPY_MODEL_a8f97b9001964e4db1e86d9f519beace",
        "IPY_MODEL_f57099a41b404213b2a78055d5c47964",
        "IPY_MODEL_1af9999752684cb78e0847719bc19cc4",
        "IPY_MODEL_c728c48f1d6e43e9a446d57dbbe9c9d9",
        "IPY_MODEL_4330c127b7914370971b5b64e729ad30",
        "IPY_MODEL_05875e9b2519405ebadf8103335d405f",
        "IPY_MODEL_55b5ab0d6e484c87b9e9fca285e016ad",
        "IPY_MODEL_9c47942a16fe46b4858bdefa16443c9f",
        "IPY_MODEL_923e7cd849394fa9a80a2135337490bf",
        "IPY_MODEL_5a7d2a25ff8846198979142c81cda42a",
        "IPY_MODEL_c449e5238a7340c7bafe272caab221a1",
        "IPY_MODEL_678f7fff08584bec8e96f389eec9caa0",
        "IPY_MODEL_e0a4faf3990147c982c9072e774b575f",
        "IPY_MODEL_74bba4f36681423eb83d2cb06a501747",
        "IPY_MODEL_f52697524aaa46279384dfae6a671f23",
        "IPY_MODEL_2a28c7baeab44b01a55887dbac1075d4",
        "IPY_MODEL_41f50a06b50747668a58a738bc458e06",
        "IPY_MODEL_ffffca98b49043a98dd92625b285250b",
        "IPY_MODEL_ae0cc8bfeec34ec5905a6ee3005820b8",
        "IPY_MODEL_7fc84c2d2b6e42ac9c135d3be0d7df66",
        "IPY_MODEL_3bb55597f77d4e48a2974c261d425280",
        "IPY_MODEL_16e34b5c7a414e01bf76a124a3731665",
        "IPY_MODEL_f7adb7c3484642fc985a835134d15bac",
        "IPY_MODEL_706348801ef040a6912e0b86a92da1f7",
        "IPY_MODEL_64fddd0b76dc47bca296d68a4b7e7e7a",
        "IPY_MODEL_144d769aed534a2b8b6303fdf5c87f91",
        "IPY_MODEL_44c4a094f71442a4bbc0b75b0696f5a0",
        "IPY_MODEL_9bbeaa0d560646c6836b0bdb2fb39f5b",
        "IPY_MODEL_3f5da13dcc724b76a57d8536799544c9",
        "IPY_MODEL_aafef161de8b4d499835660df231d329",
        "IPY_MODEL_52ebcad7cafd490d97a22fbcb056f250",
        "IPY_MODEL_bf6cae59a871441089033d25e1032a91",
        "IPY_MODEL_a102e1fd8c1d42d0b482d7ce7a5ab5e8",
        "IPY_MODEL_27dae20f03014a38b4b1274303c09228",
        "IPY_MODEL_a66cc7ce47964739927f290f6c488788",
        "IPY_MODEL_dc83591f925c4a6f87fa5a7bff3be4e3",
        "IPY_MODEL_8c56fbc10f684e9789cb02b4550fe9ae",
        "IPY_MODEL_156a975b140746eaad1a6f6d1b7ad108"
       ],
       "nodes": [
        "IPY_MODEL_9f911b28edf6416d8a9ff65fe93906a8",
        "IPY_MODEL_56f549ec9fd1431da0876f6cd6ee36cc",
        "IPY_MODEL_2565b05bff43418894d038cb78af8207",
        "IPY_MODEL_90b978875cdf40a7b878393ac2f91206",
        "IPY_MODEL_19ee18408282444cb10c313ea624d9ad",
        "IPY_MODEL_4534fb6d85bf4eee8b468cd4e40dd415",
        "IPY_MODEL_eca059ecc4bb4bb69b9e21a46a4908c7",
        "IPY_MODEL_05cbaf79da3b4805b044a287536a7c73",
        "IPY_MODEL_f08a491161524d719829e08c0d376a85",
        "IPY_MODEL_73dfd42a0b434317bab9114415f20951",
        "IPY_MODEL_f1e6e2b91a924c639bb1dc93327539d1",
        "IPY_MODEL_c488925b6b8e4652ac6ac9d6b34fc8f9",
        "IPY_MODEL_97d4a11bcbae40229e4c7098f68e1797",
        "IPY_MODEL_05e0696de6664587a039c115e141a347",
        "IPY_MODEL_988cf052ffc94b62b9ebb196c70484e3",
        "IPY_MODEL_d4eaef8f745c4bda80287e4b7e5325ef",
        "IPY_MODEL_154678542d9a4f32b733d51c78f9910f",
        "IPY_MODEL_de9747381c4347168d926929771a2983",
        "IPY_MODEL_ab27eafc095749c792fc7694d137c57d",
        "IPY_MODEL_b81330fb396040a698cb3be9afdbb337",
        "IPY_MODEL_31f6eeed07564534bd7636c9893b6536",
        "IPY_MODEL_3547eb1db2b348aaa5dc7f568a3313c4",
        "IPY_MODEL_e62dfe654f9042cd982396e879f520ac",
        "IPY_MODEL_06a3b0666fe44c078073c41a39cd04c1",
        "IPY_MODEL_0ba49e4551394cab8f18667b77d0b00b",
        "IPY_MODEL_26386971f6d848eea100bebb4a3b4a81",
        "IPY_MODEL_f2b76c84157f491989eb5bcaf54cba47",
        "IPY_MODEL_931388d8681a4603b7e440fdf0d53629",
        "IPY_MODEL_c1ce8e80291c475c9868a2b6036ebc62",
        "IPY_MODEL_0e821c41cae74dc0bdfa6c1844d433f7",
        "IPY_MODEL_277ea0fb09614894806664b1bf0c6276",
        "IPY_MODEL_0eff25aa63df4c6a8f127f9b74d9680e",
        "IPY_MODEL_5b403adad3204656ae1edcdb3f4c17f9",
        "IPY_MODEL_1b0cd13a11d649b4a7f7c12c5f6eba4f",
        "IPY_MODEL_314b603da7c04be39c6e1bcb61e83732",
        "IPY_MODEL_c9d1555754b54a729b2536f18125f626",
        "IPY_MODEL_62278c6de7d64720a46496bd98e9d9ad",
        "IPY_MODEL_e3cce7861dc64644a7d391f2a30a4d32",
        "IPY_MODEL_644b85f022294d7b8214cd1178550950",
        "IPY_MODEL_9185d67d8dd94228a8be305dc7b70335",
        "IPY_MODEL_b0556453cf9149bd96346373087bd7f7",
        "IPY_MODEL_ba20395191624b4eb94411a8225ce135",
        "IPY_MODEL_8f53debff0c6499abf7ad1240a686f72",
        "IPY_MODEL_39115eb6392141f793d1eb84d23e544c",
        "IPY_MODEL_baf1516783524ce685fab12b787092ef",
        "IPY_MODEL_e5c4bc7eeef44791bf1ec93ecb97c5ac",
        "IPY_MODEL_c82467d03da149c7a874f378db8c055f",
        "IPY_MODEL_96ddfe44fb834cfea35c658bf7abbc76",
        "IPY_MODEL_8f8e29956ddc47fdbd4becc7694e1745",
        "IPY_MODEL_ca4339578a654fb286876fe78eb9d5fd"
       ]
      }
     },
     "6f9d59294d42408d9f84b7e91490644c": {
      "model_module": "jupyter-cytoscape",
      "model_module_version": "^1.3.3",
      "model_name": "EdgeModel",
      "state": {
       "_model_module_version": "^1.3.3",
       "_view_module_version": "^1.3.3",
       "data": {
        "_igraph_index": 20,
        "id": "5749e6af-dc7a-4bd6-bf2a-27a92b726613",
        "source": "2194503",
        "target": "2192584",
        "type": "UPREGULATES_KGuG"
       },
       "selectable": false
      }
     },
     "6fedb6a49ff745f0ac128a36470f7592": {
      "model_module": "jupyter-cytoscape",
      "model_module_version": "^1.3.3",
      "model_name": "NodeModel",
      "state": {
       "_model_module_version": "^1.3.3",
       "_view_module_version": "^1.3.3",
       "data": {
        "id": "REACT::R-HSA-168249"
       },
       "grabbable": true,
       "grabbed": false,
       "selectable": false
      }
     },
     "7015532ab05a4195aeaaf40dd4e461f4": {
      "model_module": "jupyter-cytoscape",
      "model_module_version": "^1.3.3",
      "model_name": "NodeModel",
      "state": {
       "_model_module_version": "^1.3.3",
       "_view_module_version": "^1.3.3",
       "data": {
        "_igraph_index": 6,
        "category": "Gene",
        "feature_name": "GATA2",
        "id": "NCBIGene::2624",
        "id_prefix": "NCBIGene",
        "in_query": 1,
        "name": "NCBIGene::2624"
       },
       "grabbable": true,
       "grabbed": false,
       "position": {
        "x": 773.2301465252926,
        "y": 107.82664521844976
       },
       "selectable": false
      }
     },
     "70410a0bba764708ae6c89a2232b2deb": {
      "model_module": "jupyter-cytoscape",
      "model_module_version": "^1.3.3",
      "model_name": "EdgeModel",
      "state": {
       "_model_module_version": "^1.3.3",
       "_view_module_version": "^1.3.3",
       "data": {
        "Knowledge_Source": "Reactome",
        "Primary_Knowledge_Source": "R-HSA-168249",
        "_igraph_index": 2,
        "id": "ccd51c6e-23dc-498f-bec5-e06a5925485b",
        "predicate": "participates_in",
        "publications": "PMID:34788843",
        "source": "NCBIGene::7157",
        "target": "REACT::R-HSA-168249"
       },
       "selectable": false
      }
     },
     "706348801ef040a6912e0b86a92da1f7": {
      "model_module": "jupyter-cytoscape",
      "model_module_version": "^1.3.3",
      "model_name": "EdgeModel",
      "state": {
       "_model_module_version": "^1.3.3",
       "_view_module_version": "^1.3.3",
       "classes": " multiple_edges ",
       "data": {
        "Knowledge_Source": "Reactome",
        "Primary_Knowledge_Source": "R-HSA-168256",
        "_igraph_index": 6,
        "id": "7f91bffa-bb40-4e4e-9d5e-80576211bdfb",
        "predicate": "reactome_participates_in",
        "publications": "PMID:34788843",
        "source": "NCBIGene::5971",
        "target": "REACT::R-HSA-168256"
       },
       "selectable": false
      }
     },
     "70842f54f1464efdbfaa6bfc1cf7ee3a": {
      "model_module": "jupyter-cytoscape",
      "model_module_version": "^1.3.3",
      "model_name": "NodeModel",
      "state": {
       "_model_module_version": "^1.3.3",
       "_view_module_version": "^1.3.3",
       "data": {
        "_igraph_index": 5,
        "category": "Gene",
        "feature_name": "NPC2",
        "id": "NCBIGene::10577",
        "id_prefix": "NCBIGene",
        "in_query": 1,
        "name": "NCBIGene::10577"
       },
       "grabbable": true,
       "grabbed": false,
       "selectable": false
      }
     },
     "70abe68f53a4404a8d165dc58285e221": {
      "model_module": "jupyter-cytoscape",
      "model_module_version": "^1.3.3",
      "model_name": "GraphModel",
      "state": {
       "_adj": {},
       "_model_module_version": "^1.3.3",
       "_view_module": "jupyter-cytoscape",
       "_view_module_version": "^1.3.3"
      }
     },
     "7112ead0a2c54a1fb826e11c17b8a03a": {
      "model_module": "jupyter-cytoscape",
      "model_module_version": "^1.3.3",
      "model_name": "EdgeModel",
      "state": {
       "_model_module_version": "^1.3.3",
       "_view_module_version": "^1.3.3",
       "data": {
        "Knowledge_Source": "Reactome",
        "Primary_Knowledge_Source": "R-HSA-168249",
        "_igraph_index": 3,
        "id": "1658a94f-332f-4b40-a162-35fbb6d44bce",
        "predicate": "participates_in",
        "publications": "PMID:34788843",
        "source": "NCBIGene::4791",
        "target": "REACT::R-HSA-168249"
       },
       "selectable": false
      }
     },
     "713f1ba785d84f06a8128c9bcbdd7d64": {
      "model_module": "jupyter-cytoscape",
      "model_module_version": "^1.3.3",
      "model_name": "NodeModel",
      "state": {
       "_model_module_version": "^1.3.3",
       "_view_module_version": "^1.3.3",
       "data": {
        "_igraph_index": 2,
        "category": "Gene",
        "feature_name": "NFKB2",
        "id": "4791",
        "id_prefix": "NCBIGene",
        "in_query": 1,
        "name": "NCBIGene::4791"
       },
       "grabbable": true,
       "grabbed": false,
       "position": {
        "x": 547.5,
        "y": -25.414016159902573
       },
       "selectable": false
      }
     },
     "72fa3f710f0243ec90016d89a22d16b8": {
      "model_module": "jupyter-cytoscape",
      "model_module_version": "^1.3.3",
      "model_name": "CytoscapeModel",
      "state": {
       "_interaction_handlers": {},
       "_model_module_version": "^1.3.3",
       "_view_module_version": "^1.3.3",
       "auto_ungrabify": false,
       "autolock": false,
       "cytoscape_layout": {
        "edgeLengthVal": 50,
        "name": "cola",
        "nodeSpacing": 80,
        "title": "high_proteins"
       },
       "cytoscape_style": [
        {
         "selector": "node[feature_name]",
         "style": {
          "font-family": "helvetica",
          "font-size": "20px",
          "label": "data(feature_name)"
         }
        },
        {
         "selector": "node[category=\"Protein\"]",
         "style": {
          "background-color": "blue"
         }
        },
        {
         "selector": "node[in_query=1]",
         "style": {
          "border-color": "red",
          "border-width": "5px"
         }
        },
        {
         "selector": "edge[predicate]",
         "style": {
          "label": "data(predicate)"
         }
        },
        {
         "selector": "edge.directed",
         "style": {
          "curve-style": "bezier",
          "target-arrow-shape": "triangle"
         }
        }
       ],
       "desktop_tap_threshold": 4,
       "graph": "IPY_MODEL_31714b3f09734ad78bfec376c5efa837",
       "headless": false,
       "hide_edges_on_viewport": false,
       "layout": "IPY_MODEL_a9ce35c253c14359aea7512cf1fdc1cd",
       "max_zoom": 1e+50,
       "min_zoom": 1e-50,
       "motion_blur": false,
       "motion_blur_opacity": 0.2,
       "panning_enabled": true,
       "pixel_ratio": "auto",
       "rendered_position": {
        "renderedPosition": {
         "x": 100,
         "y": 100
        }
       },
       "selection_type": "single",
       "style_enabled": true,
       "texture_on_viewport": false,
       "tooltip_source": "feature_name",
       "touch_tap_threshold": 8,
       "user_panning_enabled": true,
       "user_zooming_enabled": true,
       "wheel_sensitivity": 1,
       "zoom": 2,
       "zooming_enabled": true
      }
     },
     "7303fe101b584460bd7d7dd1903a07b9": {
      "model_module": "jupyter-cytoscape",
      "model_module_version": "^1.3.3",
      "model_name": "NodeModel",
      "state": {
       "_model_module_version": "^1.3.3",
       "_view_module_version": "^1.3.3",
       "data": {
        "id": "NCBIGene::7157"
       },
       "grabbable": true,
       "grabbed": false,
       "selectable": false
      }
     },
     "73789eb7fcea4b059321f2431f07b340": {
      "model_module": "jupyter-cytoscape",
      "model_module_version": "^1.3.3",
      "model_name": "NodeModel",
      "state": {
       "_model_module_version": "^1.3.3",
       "_view_module_version": "^1.3.3",
       "data": {
        "_igraph_index": 1,
        "category": "Compound",
        "feature_name": "CHEMBL2139591",
        "id": "283315",
        "identifier": "CHEMBL2139591",
        "in_query": 0,
        "name": "283315",
        "source": "ChEMBL"
       },
       "grabbable": true,
       "grabbed": false,
       "position": {
        "x": 514.5181118618766,
        "y": 319.11843331418004
       },
       "selectable": false
      }
     },
     "73dab69391344940987ebd362e242568": {
      "model_module": "jupyter-cytoscape",
      "model_module_version": "^1.3.3",
      "model_name": "NodeModel",
      "state": {
       "_model_module_version": "^1.3.3",
       "_view_module_version": "^1.3.3",
       "data": {
        "id": "NCBIGene::4791"
       },
       "grabbable": true,
       "grabbed": false,
       "selectable": false
      }
     },
     "73dfd42a0b434317bab9114415f20951": {
      "model_module": "jupyter-cytoscape",
      "model_module_version": "^1.3.3",
      "model_name": "NodeModel",
      "state": {
       "_model_module_version": "^1.3.3",
       "_view_module_version": "^1.3.3",
       "data": {
        "_igraph_index": 9,
        "category": "Gene",
        "feature_name": "FOXO1",
        "id": "NCBIGene::2308.0",
        "id_prefix": "NCBIGene",
        "in_query": 1,
        "name": "NCBIGene::2308.0"
       },
       "grabbable": true,
       "grabbed": false,
       "position": {
        "x": 457.1076284364448,
        "y": -153.96422870155618
       },
       "selectable": false
      }
     },
     "745a301529634d4bae5dc6114e1dd4ab": {
      "model_module": "jupyter-cytoscape",
      "model_module_version": "^1.3.3",
      "model_name": "NodeModel",
      "state": {
       "_model_module_version": "^1.3.3",
       "_view_module_version": "^1.3.3",
       "data": {
        "_igraph_index": 5,
        "category": "Gene",
        "feature_name": "NPC2",
        "id": "NCBIGene::10577",
        "id_prefix": "NCBIGene",
        "in_query": 1,
        "name": "NCBIGene::10577"
       },
       "grabbable": true,
       "grabbed": false,
       "position": {
        "x": 795.7142870000001,
        "y": 339.29550661227836
       },
       "selectable": false
      }
     },
     "74a03d820d1a4425b7d761e99621888e": {
      "model_module": "jupyter-cytoscape",
      "model_module_version": "^1.3.3",
      "model_name": "CytoscapeModel",
      "state": {
       "_interaction_handlers": {},
       "_model_module_version": "^1.3.3",
       "_view_module_version": "^1.3.3",
       "auto_ungrabify": false,
       "autolock": false,
       "cytoscape_layout": {
        "edgeLengthVal": 50,
        "name": "cola",
        "nodeSpacing": 80,
        "title": "high_proteins"
       },
       "cytoscape_style": [
        {
         "selector": "node[feature_name]",
         "style": {
          "font-family": "helvetica",
          "font-size": "20px",
          "label": "data(feature_name)"
         }
        },
        {
         "selector": "node[category=\"Protein\"]",
         "style": {
          "background-color": "blue"
         }
        },
        {
         "selector": "node[in_query=1]",
         "style": {
          "border-color": "red",
          "border-width": "5px"
         }
        },
        {
         "selector": "edge[predicate]",
         "style": {
          "label": "data(predicate)"
         }
        },
        {
         "selector": "edge.directed",
         "style": {
          "curve-style": "bezier",
          "target-arrow-shape": "triangle"
         }
        }
       ],
       "desktop_tap_threshold": 4,
       "graph": "IPY_MODEL_eb936dc9d4d24ad587677880abda2f17",
       "headless": false,
       "hide_edges_on_viewport": false,
       "layout": "IPY_MODEL_b2c761d5168648ebbddf27ae38d679c8",
       "max_zoom": 1e+50,
       "min_zoom": 1e-50,
       "motion_blur": false,
       "motion_blur_opacity": 0.2,
       "panning_enabled": true,
       "pixel_ratio": "auto",
       "rendered_position": {
        "renderedPosition": {
         "x": 100,
         "y": 100
        }
       },
       "selection_type": "single",
       "style_enabled": true,
       "texture_on_viewport": false,
       "tooltip_source": "feature_name",
       "touch_tap_threshold": 8,
       "user_panning_enabled": true,
       "user_zooming_enabled": true,
       "wheel_sensitivity": 1,
       "zoom": 2,
       "zooming_enabled": true
      }
     },
     "74bba4f36681423eb83d2cb06a501747": {
      "model_module": "jupyter-cytoscape",
      "model_module_version": "^1.3.3",
      "model_name": "EdgeModel",
      "state": {
       "_model_module_version": "^1.3.3",
       "_view_module_version": "^1.3.3",
       "classes": " multiple_edges ",
       "data": {
        "Knowledge_Source": "Reactome",
        "Primary_Knowledge_Source": "R-HSA-1643685",
        "_igraph_index": 10,
        "id": "32ee994f-601c-4881-99ad-e22c52b45806",
        "predicate": "reactome_participates_in",
        "publications": "PMID:34788843",
        "source": "NCBIGene::4791",
        "target": "REACT::R-HSA-1643685"
       },
       "selectable": false
      }
     },
     "75ec3b10caeb4d5194499b368e521567": {
      "model_module": "jupyter-cytoscape",
      "model_module_version": "^1.3.3",
      "model_name": "EdgeModel",
      "state": {
       "_model_module_version": "^1.3.3",
       "_view_module_version": "^1.3.3",
       "data": {
        "Knowledge_Source": "Reactome",
        "Primary_Knowledge_Source": "R-HSA-109582",
        "_igraph_index": 1,
        "id": "f998ee4b-4b8a-4aab-bea9-756c3ec37eb7",
        "predicate": "participates_in",
        "publications": "PMID:34788843",
        "source": "NCBIGene::7157",
        "target": "REACT::R-HSA-109582"
       },
       "selectable": false
      }
     },
     "788ef726df8f4ef89c6c9e3f78ca62ed": {
      "model_module": "jupyter-cytoscape",
      "model_module_version": "^1.3.3",
      "model_name": "NodeModel",
      "state": {
       "_model_module_version": "^1.3.3",
       "_view_module_version": "^1.3.3",
       "data": {
        "_igraph_index": 6,
        "category": "Gene",
        "feature_name": "GATA2",
        "id": "NCBIGene::2624",
        "id_prefix": "NCBIGene",
        "in_query": 1,
        "name": "NCBIGene::2624"
       },
       "grabbable": true,
       "grabbed": false,
       "position": {
        "x": 932.5065464258794,
        "y": 128.30503949138233
       },
       "selectable": false
      }
     },
     "79b583232478408e9a2d1b874811e903": {
      "model_module": "jupyter-cytoscape",
      "model_module_version": "^1.3.3",
      "model_name": "NodeModel",
      "state": {
       "_model_module_version": "^1.3.3",
       "_view_module_version": "^1.3.3",
       "data": {
        "_igraph_index": 5,
        "category": "Gene",
        "feature_name": "NPC2",
        "id": "10577",
        "id_prefix": "NCBIGene",
        "in_query": 1,
        "name": "NCBIGene::10577"
       },
       "grabbable": true,
       "grabbed": false,
       "position": {
        "x": 932.5000015000002,
        "y": 312.50000000000006
       },
       "selectable": false
      }
     },
     "79ca98abd5c9408ea53c2aab5fb682fc": {
      "model_module": "jupyter-cytoscape",
      "model_module_version": "^1.3.3",
      "model_name": "NodeModel",
      "state": {
       "_model_module_version": "^1.3.3",
       "_view_module_version": "^1.3.3",
       "data": {
        "_igraph_index": 4,
        "category": "Pathway",
        "feature_name": "Innate Immune System",
        "id": "R-HSA-168249",
        "id_prefix": "REACT",
        "in_query": 0,
        "name": "REACT::R-HSA-168249"
       },
       "grabbable": true,
       "grabbed": false,
       "position": {
        "x": 637.5,
        "y": 599.4539609065722
       },
       "selectable": false
      }
     },
     "79d0a54f14e248cea6f72937e1ba7930": {
      "model_module": "jupyter-cytoscape",
      "model_module_version": "^1.3.3",
      "model_name": "EdgeModel",
      "state": {
       "_model_module_version": "^1.3.3",
       "_view_module_version": "^1.3.3",
       "data": {
        "_igraph_index": 22,
        "id": "6a80b5e9-ebbc-43f9-a087-fd6a7fc2fa81",
        "source": "2175196",
        "target": "2194660",
        "type": "EXPRESSES_AeG"
       },
       "selectable": false
      }
     },
     "7baeed4ee7684f3bb1cdec4722f13964": {
      "model_module": "jupyter-cytoscape",
      "model_module_version": "^1.3.3",
      "model_name": "EdgeModel",
      "state": {
       "_model_module_version": "^1.3.3",
       "_view_module_version": "^1.3.3",
       "data": {
        "_igraph_index": 3,
        "id": "d3299ba1-29f2-44eb-a8d7-cd9c5fa36672",
        "source": "2191899",
        "target": "2190368",
        "type": "UPREGULATES_KGuG"
       },
       "selectable": false
      }
     },
     "7c840beddf0d4a4b98016fb194f88de1": {
      "model_module": "jupyter-cytoscape",
      "model_module_version": "^1.3.3",
      "model_name": "NodeModel",
      "state": {
       "_model_module_version": "^1.3.3",
       "_view_module_version": "^1.3.3",
       "data": {
        "_igraph_index": 12,
        "category": "Gene",
        "feature_name": "RELB",
        "id": "2194503",
        "identifier": 5971,
        "in_query": 1,
        "name": "2194503",
        "source": "Entrez Gene"
       },
       "grabbable": true,
       "grabbed": false,
       "position": {
        "x": 74.39673545502434,
        "y": 398.4531285044943
       },
       "selectable": false
      }
     },
     "7cc66144245940f5b11d6ce5bda06660": {
      "model_module": "jupyter-cytoscape",
      "model_module_version": "^1.3.3",
      "model_name": "EdgeModel",
      "state": {
       "_model_module_version": "^1.3.3",
       "_view_module_version": "^1.3.3",
       "data": {
        "_igraph_index": 4,
        "id": "2d839174-d56a-463b-bf05-648b3d82bdc8",
        "source": "42316",
        "target": "2193539",
        "type": "UPREGULATES_CuG"
       },
       "selectable": false
      }
     },
     "7d28cf16f62e4e56876e61219db5ffc0": {
      "model_module": "jupyter-cytoscape",
      "model_module_version": "^1.3.3",
      "model_name": "EdgeModel",
      "state": {
       "_model_module_version": "^1.3.3",
       "_view_module_version": "^1.3.3",
       "data": {
        "_igraph_index": 5,
        "id": "427d1082-6554-426c-9116-e27d32c0d938",
        "source": "283315",
        "target": "2198153",
        "type": "UPREGULATES_CuG"
       },
       "selectable": false
      }
     },
     "7ee0f29cccb34896b6449d4f0c9771cc": {
      "model_module": "jupyter-cytoscape",
      "model_module_version": "^1.3.3",
      "model_name": "NodeModel",
      "state": {
       "_model_module_version": "^1.3.3",
       "_view_module_version": "^1.3.3",
       "data": {
        "_igraph_index": 3,
        "category": "Gene",
        "feature_name": "BCL2",
        "id": "2190368",
        "identifier": 596,
        "in_query": 1,
        "name": "2190368",
        "source": "Entrez Gene"
       },
       "grabbable": true,
       "grabbed": false,
       "position": {
        "x": 794.7553819405206,
        "y": 32.192602168996466
       },
       "selectable": false
      }
     },
     "7ee19a00b3a14fd0a07afe95f4e43af6": {
      "model_module": "jupyter-cytoscape",
      "model_module_version": "^1.3.3",
      "model_name": "NodeModel",
      "state": {
       "_model_module_version": "^1.3.3",
       "_view_module_version": "^1.3.3",
       "data": {
        "id": "NCBIGene::7157"
       },
       "grabbable": true,
       "grabbed": false,
       "position": {
        "x": 0,
        "y": 0
       },
       "selectable": false
      }
     },
     "7f16a4e127f649ed82a9a33df7a699b3": {
      "model_module": "@jupyter-widgets/base",
      "model_module_version": "2.0.0",
      "model_name": "LayoutModel",
      "state": {}
     },
     "7f8176d24a704c3fa08316a04caf53ef": {
      "model_module": "jupyter-cytoscape",
      "model_module_version": "^1.3.3",
      "model_name": "EdgeModel",
      "state": {
       "_model_module_version": "^1.3.3",
       "_view_module_version": "^1.3.3",
       "data": {
        "_igraph_index": 26,
        "id": "3b6f8e0d-47f6-4bca-b164-3b64e27be11c",
        "source": "2196539",
        "target": "2194503",
        "type": "DOWNREGULATES_KGdG"
       },
       "selectable": false
      }
     },
     "7fc84c2d2b6e42ac9c135d3be0d7df66": {
      "model_module": "jupyter-cytoscape",
      "model_module_version": "^1.3.3",
      "model_name": "EdgeModel",
      "state": {
       "_model_module_version": "^1.3.3",
       "_view_module_version": "^1.3.3",
       "classes": " multiple_edges ",
       "data": {
        "Knowledge_Source": "Reactome",
        "Primary_Knowledge_Source": "R-HSA-162582",
        "_igraph_index": 20,
        "id": "7d60fb51-8bb7-42c2-af8a-c06838ff6092",
        "predicate": "reactome_participates_in",
        "publications": "PMID:34788843",
        "source": "NCBIGene::3280",
        "target": "REACT::R-HSA-162582"
       },
       "selectable": false
      }
     },
     "80766a790a304475a94849cf5adff397": {
      "model_module": "jupyter-cytoscape",
      "model_module_version": "^1.3.3",
      "model_name": "EdgeModel",
      "state": {
       "_model_module_version": "^1.3.3",
       "_view_module_version": "^1.3.3",
       "data": {
        "Knowledge_Source": "Reactome",
        "Primary_Knowledge_Source": "R-HSA-168249",
        "_igraph_index": 3,
        "id": "ede84a72-ab17-447b-ac0d-2574382e6cbf",
        "predicate": "reactome_participates_in",
        "publications": "PMID:34788843",
        "source": "NCBIGene::4791",
        "target": "REACT::R-HSA-168249"
       },
       "selectable": false
      }
     },
     "81cda1b94cbb43f583442bccf690a290": {
      "model_module": "jupyter-cytoscape",
      "model_module_version": "^1.3.3",
      "model_name": "NodeModel",
      "state": {
       "_model_module_version": "^1.3.3",
       "_view_module_version": "^1.3.3",
       "data": {
        "_igraph_index": 1,
        "category": "Gene",
        "feature_name": "BCL2",
        "id": "596",
        "id_prefix": "NCBIGene",
        "in_query": 1,
        "name": "NCBIGene::596.0"
       },
       "grabbable": true,
       "grabbed": false,
       "position": {
        "x": 932.5000015000002,
        "y": -135.2023334872863
       },
       "selectable": false
      }
     },
     "81cde64df7ec443fa2a191f1b8ae6a75": {
      "model_module": "jupyter-cytoscape",
      "model_module_version": "^1.3.3",
      "model_name": "EdgeModel",
      "state": {
       "_model_module_version": "^1.3.3",
       "_view_module_version": "^1.3.3",
       "data": {
        "_igraph_index": 19,
        "id": "1c4c8ed2-1316-476d-b206-bb9ff026853e",
        "source": "2194503",
        "target": "2190368",
        "type": "UPREGULATES_KGuG"
       },
       "selectable": false
      }
     },
     "820b5f04a75948cf9a0a493bb3108a94": {
      "model_module": "jupyter-cytoscape",
      "model_module_version": "^1.3.3",
      "model_name": "NodeModel",
      "state": {
       "_model_module_version": "^1.3.3",
       "_view_module_version": "^1.3.3",
       "data": {
        "id": "REACT::R-HSA-168249"
       },
       "grabbable": true,
       "grabbed": false,
       "position": {
        "x": 0,
        "y": 0
       },
       "selectable": false
      }
     },
     "84971603bad647c0929e2bebb9efc8a5": {
      "model_module": "jupyter-cytoscape",
      "model_module_version": "^1.3.3",
      "model_name": "CytoscapeModel",
      "state": {
       "_interaction_handlers": {},
       "_model_module_version": "^1.3.3",
       "_view_module_version": "^1.3.3",
       "auto_ungrabify": false,
       "autolock": false,
       "cytoscape_layout": {
        "edgeLengthVal": 50,
        "name": "cola",
        "nodeSpacing": 80,
        "title": "high_proteins"
       },
       "cytoscape_style": [
        {
         "selector": "node[feature_name]",
         "style": {
          "font-family": "helvetica",
          "font-size": "20px",
          "label": "data(feature_name)"
         }
        },
        {
         "selector": "node[category=\"Protein\"]",
         "style": {
          "background-color": "blue"
         }
        },
        {
         "selector": "node[in_query=1]",
         "style": {
          "border-color": "red",
          "border-width": "5px"
         }
        },
        {
         "selector": "edge[type]",
         "style": {
          "label": "data(type)"
         }
        },
        {
         "selector": "edge.directed",
         "style": {
          "curve-style": "bezier",
          "target-arrow-shape": "triangle"
         }
        }
       ],
       "desktop_tap_threshold": 4,
       "graph": "IPY_MODEL_d91da81616cc4f3bb9cc04eea299766f",
       "headless": false,
       "hide_edges_on_viewport": false,
       "layout": "IPY_MODEL_11233ba081f946e8bde8126bc5e48bb1",
       "max_zoom": 1e+50,
       "min_zoom": 1e-50,
       "motion_blur": false,
       "motion_blur_opacity": 0.2,
       "panning_enabled": true,
       "pixel_ratio": "auto",
       "rendered_position": {
        "renderedPosition": {
         "x": 100,
         "y": 100
        }
       },
       "selection_type": "single",
       "style_enabled": true,
       "texture_on_viewport": false,
       "tooltip_source": "feature_name",
       "touch_tap_threshold": 8,
       "user_panning_enabled": true,
       "user_zooming_enabled": true,
       "wheel_sensitivity": 1,
       "zoom": 2,
       "zooming_enabled": true
      }
     },
     "84a60a5c89b0495b84e0b651622b49c0": {
      "model_module": "jupyter-cytoscape",
      "model_module_version": "^1.3.3",
      "model_name": "EdgeModel",
      "state": {
       "_model_module_version": "^1.3.3",
       "_view_module_version": "^1.3.3",
       "data": {
        "Knowledge_Source": "Reactome",
        "Primary_Knowledge_Source": "R-HSA-168249",
        "_igraph_index": 2,
        "id": "eb378f57-84d0-45d8-be1f-af1ec367a788",
        "predicate": "participates_in",
        "publications": "PMID:34788843",
        "source": "NCBIGene::7157",
        "target": "REACT::R-HSA-168249"
       },
       "selectable": false
      }
     },
     "8661823839d747d381a0e02ca7acb092": {
      "model_module": "jupyter-cytoscape",
      "model_module_version": "^1.3.3",
      "model_name": "EdgeModel",
      "state": {
       "_model_module_version": "^1.3.3",
       "_view_module_version": "^1.3.3",
       "data": {
        "Knowledge_Source": "Reactome",
        "Primary_Knowledge_Source": "R-HSA-168249",
        "_igraph_index": 4,
        "predicate": "participates_in",
        "publications": "PMID:34788843",
        "source": "REACT::R-HSA-168249",
        "target": "NCBIGene::10577"
       },
       "selectable": false
      }
     },
     "86d3edd8e5ec4302be6a8f21b44c6164": {
      "model_module": "jupyter-cytoscape",
      "model_module_version": "^1.3.3",
      "model_name": "NodeModel",
      "state": {
       "_model_module_version": "^1.3.3",
       "_view_module_version": "^1.3.3",
       "data": {
        "_igraph_index": 4,
        "category": "Gene",
        "feature_name": "GATA2",
        "id": "2191899",
        "identifier": 2624,
        "in_query": 1,
        "name": "2191899",
        "source": "Entrez Gene"
       },
       "grabbable": true,
       "grabbed": false,
       "position": {
        "x": 601.4960395409474,
        "y": 227.19260316899644
       },
       "selectable": false
      }
     },
     "86fc4ae06f6e43cba87811b83300887a": {
      "model_module": "jupyter-cytoscape",
      "model_module_version": "^1.3.3",
      "model_name": "NodeModel",
      "state": {
       "_model_module_version": "^1.3.3",
       "_view_module_version": "^1.3.3",
       "data": {
        "_igraph_index": 5,
        "category": "Gene",
        "feature_name": "COX6A1",
        "id": "2190948",
        "identifier": 1337,
        "in_query": 1,
        "name": "2190948",
        "source": "Entrez Gene"
       },
       "grabbable": true,
       "grabbed": false,
       "position": {
        "x": 1011.0021389576235,
        "y": 431.8612478473545
       },
       "selectable": false
      }
     },
     "87cd42be82744ef1998cecedbcafd94a": {
      "model_module": "jupyter-cytoscape",
      "model_module_version": "^1.3.3",
      "model_name": "NodeModel",
      "state": {
       "_model_module_version": "^1.3.3",
       "_view_module_version": "^1.3.3",
       "data": {
        "id": "REACT::R-HSA-109582"
       },
       "grabbable": true,
       "grabbed": false,
       "position": {
        "x": 322.05071768241686,
        "y": 484.9333173199325
       },
       "selectable": false
      }
     },
     "87f65f3bf245430ab1499d94398d45dc": {
      "model_module": "jupyter-cytoscape",
      "model_module_version": "^1.3.3",
      "model_name": "NodeModel",
      "state": {
       "_model_module_version": "^1.3.3",
       "_view_module_version": "^1.3.3",
       "data": {
        "_igraph_index": 5,
        "category": "Gene",
        "feature_name": "NPC2",
        "id": "10577",
        "id_prefix": "NCBIGene",
        "in_query": 1,
        "name": "NCBIGene::10577"
       },
       "grabbable": true,
       "grabbed": false,
       "position": {
        "x": 752.5,
        "y": -23.19756644666536
       },
       "selectable": false
      }
     },
     "899ce0157df3460c9e4ef53f72e5c474": {
      "model_module": "jupyter-cytoscape",
      "model_module_version": "^1.3.3",
      "model_name": "NodeModel",
      "state": {
       "_model_module_version": "^1.3.3",
       "_view_module_version": "^1.3.3",
       "data": {
        "_igraph_index": 4,
        "category": "Pathway",
        "feature_name": "Innate Immune System",
        "id": "REACT::R-HSA-168249",
        "id_prefix": "REACT",
        "in_query": 0,
        "name": "REACT::R-HSA-168249"
       },
       "grabbable": true,
       "grabbed": false,
       "selectable": false
      }
     },
     "8b1688ee1c1b40108832b941c2f73af5": {
      "model_module": "jupyter-cytoscape",
      "model_module_version": "^1.3.3",
      "model_name": "GraphModel",
      "state": {
       "_adj": {},
       "_model_module_version": "^1.3.3",
       "_view_module": "jupyter-cytoscape",
       "_view_module_version": "^1.3.3"
      }
     },
     "8c56fbc10f684e9789cb02b4550fe9ae": {
      "model_module": "jupyter-cytoscape",
      "model_module_version": "^1.3.3",
      "model_name": "EdgeModel",
      "state": {
       "_model_module_version": "^1.3.3",
       "_view_module_version": "^1.3.3",
       "classes": " multiple_edges ",
       "data": {
        "Knowledge_Source": "Reactome",
        "Primary_Knowledge_Source": "R-HSA-8953854",
        "_igraph_index": 29,
        "id": "622640c1-b7db-4d86-b180-e2503c011a63",
        "predicate": "reactome_participates_in",
        "publications": "PMID:34788843",
        "source": "REACT::R-HSA-8953854",
        "target": "NCBIGene::10992"
       },
       "selectable": false
      }
     },
     "8df4f607bb304719896c6196a4e46f84": {
      "model_module": "jupyter-cytoscape",
      "model_module_version": "^1.3.3",
      "model_name": "GraphModel",
      "state": {
       "_adj": {
        "10577": {},
        "2624": {},
        "4791": {},
        "596.0": {},
        "7157": {},
        "NCBIGene::10577": {},
        "NCBIGene::2624": {
         "REACT::R-HSA-109582": 1
        },
        "NCBIGene::4791": {
         "REACT::R-HSA-168249": 1
        },
        "NCBIGene::596.0": {
         "NCBIGene::7157": 1
        },
        "NCBIGene::7157": {
         "NCBIGene::596.0": 1,
         "REACT::R-HSA-109582": 1,
         "REACT::R-HSA-168249": 1
        },
        "R-HSA-109582": {},
        "R-HSA-168249": {},
        "REACT::R-HSA-109582": {
         "NCBIGene::2624": 1,
         "NCBIGene::7157": 1
        },
        "REACT::R-HSA-168249": {
         "NCBIGene::4791": 1,
         "NCBIGene::7157": 1
        }
       },
       "_model_module_version": "^1.3.3",
       "_view_module": "jupyter-cytoscape",
       "_view_module_version": "^1.3.3",
       "edges": [
        "IPY_MODEL_c309dd096f9f453b989843e4464125f9",
        "IPY_MODEL_0665568d0add499fa25ae9e119114167",
        "IPY_MODEL_ebca7f48e1c14241b9d9283c7f10bd11",
        "IPY_MODEL_c414a901939f46bca5d0f831c8d3164c",
        "IPY_MODEL_9fe83cdfc8054218baff0c8a01e50cde",
        "IPY_MODEL_8661823839d747d381a0e02ca7acb092"
       ],
       "nodes": [
        "IPY_MODEL_9d015323db9549cd8eefb353299e1444",
        "IPY_MODEL_55f0ac1f7bc14976b7d80e8e93ba120b",
        "IPY_MODEL_6aa4de48b0bb4d099c35a0b7cf02b078",
        "IPY_MODEL_d414c8ad826e4a27a965fd4d1f5d9d53",
        "IPY_MODEL_899ce0157df3460c9e4ef53f72e5c474",
        "IPY_MODEL_70842f54f1464efdbfaa6bfc1cf7ee3a",
        "IPY_MODEL_cc40ee89d8544ddfa0f1b029c8f91c7f",
        "IPY_MODEL_27bf2f6594b64e28a6fc0cb794a77116",
        "IPY_MODEL_163fc0b2902d49d2b192c30005915ebf",
        "IPY_MODEL_9341f2aade784b5d85a2a4cbd6b6721e",
        "IPY_MODEL_6fedb6a49ff745f0ac128a36470f7592",
        "IPY_MODEL_62ff10b86db74fc3848124a299724e2a",
        "IPY_MODEL_e9ad82f588fa4306bedaef880db78f43",
        "IPY_MODEL_0b9cf38bd67144aca9c25cae4e93dc90"
       ]
      }
     },
     "8ecc5cfc88c24ac7956a5867b6813eca": {
      "model_module": "jupyter-cytoscape",
      "model_module_version": "^1.3.3",
      "model_name": "NodeModel",
      "state": {
       "_model_module_version": "^1.3.3",
       "_view_module_version": "^1.3.3",
       "data": {
        "id": "NCBIGene::596.0"
       },
       "grabbable": true,
       "grabbed": false,
       "position": {
        "x": 0,
        "y": 0
       },
       "selectable": false
      }
     },
     "8f53debff0c6499abf7ad1240a686f72": {
      "model_module": "jupyter-cytoscape",
      "model_module_version": "^1.3.3",
      "model_name": "NodeModel",
      "state": {
       "_model_module_version": "^1.3.3",
       "_view_module_version": "^1.3.3",
       "data": {
        "id": "NCBIGene::3482"
       },
       "grabbable": true,
       "grabbed": false,
       "position": {
        "x": 0,
        "y": 0
       },
       "selectable": false
      }
     },
     "8f8e29956ddc47fdbd4becc7694e1745": {
      "model_module": "jupyter-cytoscape",
      "model_module_version": "^1.3.3",
      "model_name": "NodeModel",
      "state": {
       "_model_module_version": "^1.3.3",
       "_view_module_version": "^1.3.3",
       "data": {
        "id": "REACT::R-HSA-8953854"
       },
       "grabbable": true,
       "grabbed": false,
       "position": {
        "x": 0,
        "y": 0
       },
       "selectable": false
      }
     },
     "8fe719e257ba4704afa1107e773b9d69": {
      "model_module": "jupyter-cytoscape",
      "model_module_version": "^1.3.3",
      "model_name": "NodeModel",
      "state": {
       "_model_module_version": "^1.3.3",
       "_view_module_version": "^1.3.3",
       "data": {
        "id": "NCBIGene::7157"
       },
       "grabbable": true,
       "grabbed": false,
       "position": {
        "x": 0,
        "y": 0
       },
       "selectable": false
      }
     },
     "90b978875cdf40a7b878393ac2f91206": {
      "model_module": "jupyter-cytoscape",
      "model_module_version": "^1.3.3",
      "model_name": "NodeModel",
      "state": {
       "_model_module_version": "^1.3.3",
       "_view_module_version": "^1.3.3",
       "data": {
        "_igraph_index": 3,
        "category": "Gene",
        "feature_name": "NFKB2",
        "id": "NCBIGene::4791",
        "id_prefix": "NCBIGene",
        "in_query": 1,
        "name": "NCBIGene::4791"
       },
       "grabbable": true,
       "grabbed": false,
       "position": {
        "x": 545.3290256187129,
        "y": 4.369433138746874
       },
       "selectable": false
      }
     },
     "9125fd52f92b4334992878960bb46f4e": {
      "model_module": "jupyter-cytoscape",
      "model_module_version": "^1.3.3",
      "model_name": "NodeModel",
      "state": {
       "_model_module_version": "^1.3.3",
       "_view_module_version": "^1.3.3",
       "data": {
        "id": "NCBIGene::596.0"
       },
       "grabbable": true,
       "grabbed": false,
       "position": {
        "x": 0,
        "y": 0
       },
       "selectable": false
      }
     },
     "9185d67d8dd94228a8be305dc7b70335": {
      "model_module": "jupyter-cytoscape",
      "model_module_version": "^1.3.3",
      "model_name": "NodeModel",
      "state": {
       "_model_module_version": "^1.3.3",
       "_view_module_version": "^1.3.3",
       "data": {
        "id": "NCBIGene::10288"
       },
       "grabbable": true,
       "grabbed": false,
       "position": {
        "x": 0,
        "y": 0
       },
       "selectable": false
      }
     },
     "923e7cd849394fa9a80a2135337490bf": {
      "model_module": "jupyter-cytoscape",
      "model_module_version": "^1.3.3",
      "model_name": "EdgeModel",
      "state": {
       "_model_module_version": "^1.3.3",
       "_view_module_version": "^1.3.3",
       "classes": " multiple_edges ",
       "data": {
        "Knowledge_Source": "Reactome",
        "Primary_Knowledge_Source": "R-HSA-1643685",
        "_igraph_index": 9,
        "id": "19360999-d4c6-484f-aecf-bf0e8dc62d47",
        "predicate": "reactome_participates_in",
        "publications": "PMID:34788843",
        "source": "NCBIGene::7157",
        "target": "REACT::R-HSA-1643685"
       },
       "selectable": false
      }
     },
     "931388d8681a4603b7e440fdf0d53629": {
      "model_module": "jupyter-cytoscape",
      "model_module_version": "^1.3.3",
      "model_name": "NodeModel",
      "state": {
       "_model_module_version": "^1.3.3",
       "_view_module_version": "^1.3.3",
       "data": {
        "id": "REACT::R-HSA-168256"
       },
       "grabbable": true,
       "grabbed": false,
       "position": {
        "x": 0,
        "y": 0
       },
       "selectable": false
      }
     },
     "9341f2aade784b5d85a2a4cbd6b6721e": {
      "model_module": "jupyter-cytoscape",
      "model_module_version": "^1.3.3",
      "model_name": "NodeModel",
      "state": {
       "_model_module_version": "^1.3.3",
       "_view_module_version": "^1.3.3",
       "data": {
        "id": "REACT::R-HSA-109582"
       },
       "grabbable": true,
       "grabbed": false,
       "selectable": false
      }
     },
     "938abff9410743c0b33d22a37d29ea92": {
      "model_module": "jupyter-cytoscape",
      "model_module_version": "^1.3.3",
      "model_name": "EdgeModel",
      "state": {
       "_model_module_version": "^1.3.3",
       "_view_module_version": "^1.3.3",
       "data": {
        "_igraph_index": 31,
        "id": "d90f5826-a1b3-486d-90f1-ce6342baea4b",
        "source": "2175196",
        "target": "2197914",
        "type": "DOWNREGULATES_AdG"
       },
       "selectable": false
      }
     },
     "945541ff747346b68f4be26bbb8fa889": {
      "model_module": "jupyter-cytoscape",
      "model_module_version": "^1.3.3",
      "model_name": "NodeModel",
      "state": {
       "_model_module_version": "^1.3.3",
       "_view_module_version": "^1.3.3",
       "data": {
        "_igraph_index": 6,
        "category": "Gene",
        "feature_name": "GATA2",
        "id": "NCBIGene::2624",
        "id_prefix": "NCBIGene",
        "in_query": 1,
        "name": "NCBIGene::2624"
       },
       "grabbable": true,
       "grabbed": false,
       "position": {
        "x": 410.7142850000001,
        "y": 203.81533050203066
       },
       "selectable": false
      }
     },
     "96ddfe44fb834cfea35c658bf7abbc76": {
      "model_module": "jupyter-cytoscape",
      "model_module_version": "^1.3.3",
      "model_name": "NodeModel",
      "state": {
       "_model_module_version": "^1.3.3",
       "_view_module_version": "^1.3.3",
       "data": {
        "id": "NCBIGene::2624"
       },
       "grabbable": true,
       "grabbed": false,
       "position": {
        "x": 0,
        "y": 0
       },
       "selectable": false
      }
     },
     "96e2efe9b12e49c49e334d24ef3b7540": {
      "model_module": "jupyter-cytoscape",
      "model_module_version": "^1.3.3",
      "model_name": "EdgeModel",
      "state": {
       "_model_module_version": "^1.3.3",
       "_view_module_version": "^1.3.3",
       "data": {
        "Knowledge_Source": "Reactome",
        "Primary_Knowledge_Source": "R-HSA-109582",
        "_igraph_index": 1,
        "predicate": "participates_in",
        "publications": "PMID:34788843",
        "source": "NCBIGene::7157",
        "target": "REACT::R-HSA-109582"
       },
       "selectable": false
      }
     },
     "97d4a11bcbae40229e4c7098f68e1797": {
      "model_module": "jupyter-cytoscape",
      "model_module_version": "^1.3.3",
      "model_name": "NodeModel",
      "state": {
       "_model_module_version": "^1.3.3",
       "_view_module_version": "^1.3.3",
       "data": {
        "_igraph_index": 12,
        "category": "Pathway",
        "feature_name": "Signal Transduction",
        "id": "REACT::R-HSA-162582",
        "id_prefix": "REACT",
        "in_query": 0,
        "name": "REACT::R-HSA-162582"
       },
       "grabbable": true,
       "grabbed": false,
       "position": {
        "x": 676.8676435298077,
        "y": 405.5821817201359
       },
       "selectable": false
      }
     },
     "988cf052ffc94b62b9ebb196c70484e3": {
      "model_module": "jupyter-cytoscape",
      "model_module_version": "^1.3.3",
      "model_name": "NodeModel",
      "state": {
       "_model_module_version": "^1.3.3",
       "_view_module_version": "^1.3.3",
       "data": {
        "_igraph_index": 14,
        "category": "Pathway",
        "feature_name": "Metabolism of RNA",
        "id": "REACT::R-HSA-8953854",
        "id_prefix": "REACT",
        "in_query": 0,
        "name": "REACT::R-HSA-8953854"
       },
       "grabbable": true,
       "grabbed": false,
       "position": {
        "x": 920.2870276377217,
        "y": -288.47034593556475
       },
       "selectable": false
      }
     },
     "98f5a1fbef8b485da8c54e494c064255": {
      "model_module": "jupyter-cytoscape",
      "model_module_version": "^1.3.3",
      "model_name": "NodeModel",
      "state": {
       "_model_module_version": "^1.3.3",
       "_view_module_version": "^1.3.3",
       "data": {
        "id": "4"
       },
       "grabbable": true,
       "grabbed": false,
       "position": {
        "x": 550.9290417910541,
        "y": 167.10901632414777
       },
       "selectable": false
      }
     },
     "9a00a8b51cef4970bb77ae385d156a3d": {
      "model_module": "jupyter-cytoscape",
      "model_module_version": "^1.3.3",
      "model_name": "NodeModel",
      "state": {
       "_model_module_version": "^1.3.3",
       "_view_module_version": "^1.3.3",
       "data": {
        "id": "REACT::R-HSA-109582"
       },
       "grabbable": true,
       "grabbed": false,
       "position": {
        "x": 0,
        "y": 0
       },
       "selectable": false
      }
     },
     "9a8f7cb476b44ab4b5b49321567c3855": {
      "model_module": "jupyter-cytoscape",
      "model_module_version": "^1.3.3",
      "model_name": "EdgeModel",
      "state": {
       "_model_module_version": "^1.3.3",
       "_view_module_version": "^1.3.3",
       "data": {
        "_igraph_index": 9,
        "id": "aec1d5d2-5e32-4d79-ae69-18a8cd92e5b7",
        "source": "2192566",
        "target": "2175051",
        "type": "UPREGULATES_KGuG"
       },
       "selectable": false
      }
     },
     "9ba2135dde274ae9991d07b02fab6a71": {
      "model_module": "jupyter-cytoscape",
      "model_module_version": "^1.3.3",
      "model_name": "NodeModel",
      "state": {
       "_model_module_version": "^1.3.3",
       "_view_module_version": "^1.3.3",
       "data": {
        "_igraph_index": 17,
        "category": "Gene",
        "feature_name": "GDF11",
        "id": "2197854",
        "identifier": 10220,
        "in_query": 1,
        "name": "2197854",
        "source": "Entrez Gene"
       },
       "grabbable": true,
       "grabbed": false,
       "position": {
        "x": 881.2319772393356,
        "y": 549.9813435213539
       },
       "selectable": false
      }
     },
     "9bbeaa0d560646c6836b0bdb2fb39f5b": {
      "model_module": "jupyter-cytoscape",
      "model_module_version": "^1.3.3",
      "model_name": "EdgeModel",
      "state": {
       "_model_module_version": "^1.3.3",
       "_view_module_version": "^1.3.3",
       "classes": " multiple_edges ",
       "data": {
        "Knowledge_Source": "Reactome",
        "Primary_Knowledge_Source": "R-HSA-168256",
        "_igraph_index": 27,
        "id": "524a2c05-da0f-48eb-9c10-aa0c83a8290b",
        "predicate": "reactome_participates_in",
        "publications": "PMID:34788843",
        "source": "REACT::R-HSA-168256",
        "target": "NCBIGene::10288"
       },
       "selectable": false
      }
     },
     "9c2ba34d28054ca2b41ae553a2eb3bbe": {
      "model_module": "jupyter-cytoscape",
      "model_module_version": "^1.3.3",
      "model_name": "NodeModel",
      "state": {
       "_model_module_version": "^1.3.3",
       "_view_module_version": "^1.3.3",
       "data": {
        "_igraph_index": 0,
        "category": "Compound",
        "feature_name": "NIALAMIDE",
        "id": "42316",
        "identifier": "CHEMBL1256841",
        "in_query": 0,
        "name": "42316",
        "source": "ChEMBL"
       },
       "grabbable": true,
       "grabbed": false,
       "position": {
        "x": 602.2553809405205,
        "y": 34.692602168996466
       },
       "selectable": false
      }
     },
     "9c47942a16fe46b4858bdefa16443c9f": {
      "model_module": "jupyter-cytoscape",
      "model_module_version": "^1.3.3",
      "model_name": "EdgeModel",
      "state": {
       "_model_module_version": "^1.3.3",
       "_view_module_version": "^1.3.3",
       "classes": " multiple_edges ",
       "data": {
        "Knowledge_Source": "Reactome",
        "Primary_Knowledge_Source": "R-HSA-168256",
        "_igraph_index": 4,
        "id": "6f7b7749-e332-476e-8309-0f4dd76dd54d",
        "predicate": "reactome_participates_in",
        "publications": "PMID:34788843",
        "source": "NCBIGene::7157",
        "target": "REACT::R-HSA-168256"
       },
       "selectable": false
      }
     },
     "9c54b2720c4a44ba907d937f5a6e75f8": {
      "model_module": "jupyter-cytoscape",
      "model_module_version": "^1.3.3",
      "model_name": "EdgeModel",
      "state": {
       "_model_module_version": "^1.3.3",
       "_view_module_version": "^1.3.3",
       "data": {
        "Knowledge_Source": "Reactome",
        "Primary_Knowledge_Source": "R-HSA-168249",
        "_igraph_index": 3,
        "id": "a27f8248-0510-4f37-a342-681e0426f8eb",
        "predicate": "participates_in",
        "publications": "PMID:34788843",
        "source": "2",
        "target": "4"
       },
       "selectable": false
      }
     },
     "9c75789e62b04fd78a1c4e8205da6a3b": {
      "model_module": "jupyter-cytoscape",
      "model_module_version": "^1.3.3",
      "model_name": "NodeModel",
      "state": {
       "_model_module_version": "^1.3.3",
       "_view_module_version": "^1.3.3",
       "data": {
        "_igraph_index": 4,
        "category": "Pathway",
        "feature_name": "Innate Immune System",
        "id": "REACT::R-HSA-168249",
        "id_prefix": "REACT",
        "in_query": 0,
        "name": "REACT::R-HSA-168249"
       },
       "grabbable": true,
       "grabbed": false,
       "position": {
        "x": 458.3210449848516,
        "y": 271.6114873871693
       },
       "selectable": false
      }
     },
     "9d015323db9549cd8eefb353299e1444": {
      "model_module": "jupyter-cytoscape",
      "model_module_version": "^1.3.3",
      "model_name": "NodeModel",
      "state": {
       "_model_module_version": "^1.3.3",
       "_view_module_version": "^1.3.3",
       "data": {
        "_igraph_index": 0,
        "category": "Gene",
        "feature_name": "TP53",
        "id": "NCBIGene::7157",
        "id_prefix": "NCBIGene",
        "in_query": 0,
        "name": "NCBIGene::7157"
       },
       "grabbable": true,
       "grabbed": false,
       "selectable": false
      }
     },
     "9f911b28edf6416d8a9ff65fe93906a8": {
      "model_module": "jupyter-cytoscape",
      "model_module_version": "^1.3.3",
      "model_name": "NodeModel",
      "state": {
       "_model_module_version": "^1.3.3",
       "_view_module_version": "^1.3.3",
       "data": {
        "_igraph_index": 0,
        "category": "Gene",
        "feature_name": "CCND1",
        "id": "NCBIGene::595",
        "id_prefix": "NCBIGene",
        "in_query": 0,
        "name": "NCBIGene::595"
       },
       "grabbable": true,
       "grabbed": false,
       "position": {
        "x": 553.2808623578463,
        "y": -96.83581456646102
       },
       "selectable": false
      }
     },
     "9fe83cdfc8054218baff0c8a01e50cde": {
      "model_module": "jupyter-cytoscape",
      "model_module_version": "^1.3.3",
      "model_name": "EdgeModel",
      "state": {
       "_model_module_version": "^1.3.3",
       "_view_module_version": "^1.3.3",
       "data": {
        "Knowledge_Source": "Reactome",
        "Primary_Knowledge_Source": "R-HSA-109582",
        "_igraph_index": 5,
        "predicate": "participates_in",
        "publications": "PMID:34788843",
        "source": "REACT::R-HSA-109582",
        "target": "NCBIGene::2624"
       },
       "selectable": false
      }
     },
     "a0e138e722d44d7c98683648a0888585": {
      "model_module": "jupyter-cytoscape",
      "model_module_version": "^1.3.3",
      "model_name": "NodeModel",
      "state": {
       "_model_module_version": "^1.3.3",
       "_view_module_version": "^1.3.3",
       "data": {
        "_igraph_index": 1,
        "category": "Gene",
        "feature_name": "BCL2",
        "id": "NCBIGene::596.0",
        "id_prefix": "NCBIGene",
        "in_query": 1,
        "name": "NCBIGene::596.0"
       },
       "grabbable": true,
       "grabbed": false,
       "position": {
        "x": 410.7142850000001,
        "y": 8.81532950203068
       },
       "selectable": false
      }
     },
     "a102e1fd8c1d42d0b482d7ce7a5ab5e8": {
      "model_module": "jupyter-cytoscape",
      "model_module_version": "^1.3.3",
      "model_name": "EdgeModel",
      "state": {
       "_model_module_version": "^1.3.3",
       "_view_module_version": "^1.3.3",
       "classes": " multiple_edges ",
       "data": {
        "Knowledge_Source": "Reactome",
        "Primary_Knowledge_Source": "R-HSA-1643685",
        "_igraph_index": 35,
        "id": "29264308-b1ee-4828-a3b4-e96f055180b5",
        "predicate": "reactome_participates_in",
        "publications": "PMID:34788843",
        "source": "REACT::R-HSA-1643685",
        "target": "NCBIGene::6204"
       },
       "selectable": false
      }
     },
     "a13179f7927349d0bfb09af1859481c3": {
      "model_module": "jupyter-cytoscape",
      "model_module_version": "^1.3.3",
      "model_name": "EdgeModel",
      "state": {
       "_model_module_version": "^1.3.3",
       "_view_module_version": "^1.3.3",
       "data": {
        "Knowledge_Source": "Reactome",
        "Primary_Knowledge_Source": "R-HSA-168249",
        "_igraph_index": 2,
        "predicate": "participates_in",
        "publications": "PMID:34788843",
        "source": "NCBIGene::7157",
        "target": "REACT::R-HSA-168249"
       },
       "selectable": false
      }
     },
     "a1a1fcdeda684208a7bb0caed91e0dbb": {
      "model_module": "jupyter-cytoscape",
      "model_module_version": "^1.3.3",
      "model_name": "NodeModel",
      "state": {
       "_model_module_version": "^1.3.3",
       "_view_module_version": "^1.3.3",
       "data": {
        "_igraph_index": 5,
        "category": "Gene",
        "feature_name": "NPC2",
        "id": "NCBIGene::10577",
        "id_prefix": "NCBIGene",
        "in_query": 1,
        "name": "NCBIGene::10577"
       },
       "grabbable": true,
       "grabbed": false,
       "position": {
        "x": 782.7929201881949,
        "y": 382.0801174858712
       },
       "selectable": false
      }
     },
     "a1a5c7bf28f645458bb32257b1c61984": {
      "model_module": "jupyter-cytoscape",
      "model_module_version": "^1.3.3",
      "model_name": "EdgeModel",
      "state": {
       "_model_module_version": "^1.3.3",
       "_view_module_version": "^1.3.3",
       "data": {
        "Knowledge_Source": "Reactome",
        "Primary_Knowledge_Source": "R-HSA-109582",
        "_igraph_index": 5,
        "id": "c2515146-30ae-4210-95fc-ab03bf53c67a",
        "predicate": "participates_in",
        "publications": "PMID:34788843",
        "source": "3",
        "target": "6"
       },
       "selectable": false
      }
     },
     "a1a8506aa43c497cb55c54cc0c2ad7a8": {
      "model_module": "jupyter-cytoscape",
      "model_module_version": "^1.3.3",
      "model_name": "EdgeModel",
      "state": {
       "_model_module_version": "^1.3.3",
       "_view_module_version": "^1.3.3",
       "data": {
        "_igraph_index": 0,
        "id": "8aa32934-3e78-49d3-8533-99308d546dde",
        "source": "42316",
        "target": "2191899",
        "type": "UPREGULATES_CuG"
       },
       "selectable": false
      }
     },
     "a3539f84442d4aedac1e6800ae7a6b14": {
      "model_module": "jupyter-cytoscape",
      "model_module_version": "^1.3.3",
      "model_name": "NodeModel",
      "state": {
       "_model_module_version": "^1.3.3",
       "_view_module_version": "^1.3.3",
       "data": {
        "_igraph_index": 0,
        "category": "Compound",
        "feature_name": "NIALAMIDE",
        "id": "42316",
        "identifier": "CHEMBL1256841",
        "in_query": 0,
        "name": "42316",
        "source": "ChEMBL"
       },
       "grabbable": true,
       "grabbed": false,
       "position": {
        "x": 602.2553809405205,
        "y": 34.692602168996466
       },
       "selectable": false
      }
     },
     "a482f544ba354f1297b3d20928c9ece0": {
      "model_module": "jupyter-cytoscape",
      "model_module_version": "^1.3.3",
      "model_name": "EdgeModel",
      "state": {
       "_model_module_version": "^1.3.3",
       "_view_module_version": "^1.3.3",
       "data": {
        "Knowledge_Source": "Reactome",
        "Primary_Knowledge_Source": "R-HSA-168249",
        "_igraph_index": 3,
        "predicate": "participates_in",
        "publications": "PMID:34788843",
        "source": "NCBIGene::4791",
        "target": "REACT::R-HSA-168249"
       },
       "selectable": false
      }
     },
     "a6055c17e7c04dbab9ec28eebbb2e7bb": {
      "model_module": "jupyter-cytoscape",
      "model_module_version": "^1.3.3",
      "model_name": "NodeModel",
      "state": {
       "_model_module_version": "^1.3.3",
       "_view_module_version": "^1.3.3",
       "data": {
        "id": "NCBIGene::2624"
       },
       "grabbable": true,
       "grabbed": false,
       "selectable": false
      }
     },
     "a66cc7ce47964739927f290f6c488788": {
      "model_module": "jupyter-cytoscape",
      "model_module_version": "^1.3.3",
      "model_name": "EdgeModel",
      "state": {
       "_model_module_version": "^1.3.3",
       "_view_module_version": "^1.3.3",
       "classes": " multiple_edges ",
       "data": {
        "Knowledge_Source": "Reactome",
        "Primary_Knowledge_Source": "R-HSA-212436",
        "_igraph_index": 32,
        "id": "1f6377d8-e3bd-44fa-9a3d-28d599b3b34c",
        "predicate": "reactome_participates_in",
        "publications": "PMID:34788843",
        "source": "REACT::R-HSA-212436",
        "target": "NCBIGene::1337"
       },
       "selectable": false
      }
     },
     "a6e9e57924a74dd782ea9517f5f6ae70": {
      "model_module": "jupyter-cytoscape",
      "model_module_version": "^1.3.3",
      "model_name": "NodeModel",
      "state": {
       "_model_module_version": "^1.3.3",
       "_view_module_version": "^1.3.3",
       "data": {
        "_igraph_index": 3,
        "category": "Gene",
        "feature_name": "BCL2",
        "id": "2190368",
        "identifier": 596,
        "in_query": 1,
        "name": "2190368",
        "source": "Entrez Gene"
       },
       "grabbable": true,
       "grabbed": false,
       "position": {
        "x": 805.280611546357,
        "y": 184.80843145362502
       },
       "selectable": false
      }
     },
     "a7b8474dbc3d4d96a6edd929f8478a5a": {
      "model_module": "jupyter-cytoscape",
      "model_module_version": "^1.3.3",
      "model_name": "EdgeModel",
      "state": {
       "_model_module_version": "^1.3.3",
       "_view_module_version": "^1.3.3",
       "data": {
        "_igraph_index": 14,
        "id": "4809329b-6580-4ced-b324-0e2aad54f9e6",
        "source": "2175196",
        "target": "2193539",
        "type": "EXPRESSES_AeG"
       },
       "selectable": false
      }
     },
     "a7ed6a1d038045ac8066da85782dc28b": {
      "model_module": "jupyter-cytoscape",
      "model_module_version": "^1.3.3",
      "model_name": "EdgeModel",
      "state": {
       "_model_module_version": "^1.3.3",
       "_view_module_version": "^1.3.3",
       "data": {
        "_igraph_index": 28,
        "id": "64a02cfc-12a8-4d00-a9d2-e1e260ecc60c",
        "source": "2194503",
        "target": "2197473",
        "type": "UPREGULATES_KGuG"
       },
       "selectable": false
      }
     },
     "a8f97b9001964e4db1e86d9f519beace": {
      "model_module": "jupyter-cytoscape",
      "model_module_version": "^1.3.3",
      "model_name": "EdgeModel",
      "state": {
       "_model_module_version": "^1.3.3",
       "_view_module_version": "^1.3.3",
       "classes": " multiple_edges ",
       "data": {
        "Knowledge_Source": "Multiomics-BigGIM-DrugResponse",
        "Primary_Knowledge_Source": "hsa04068",
        "_igraph_index": 2,
        "id": "ec0e61e0-edfd-4615-9359-0440b37267f5",
        "predicate": "kegg_expression",
        "publications": "PMID:27899662",
        "source": "NCBIGene::595",
        "target": "NCBIGene::2308.0"
       },
       "selectable": false
      }
     },
     "a9ce35c253c14359aea7512cf1fdc1cd": {
      "model_module": "@jupyter-widgets/base",
      "model_module_version": "2.0.0",
      "model_name": "LayoutModel",
      "state": {}
     },
     "aafef161de8b4d499835660df231d329": {
      "model_module": "jupyter-cytoscape",
      "model_module_version": "^1.3.3",
      "model_name": "EdgeModel",
      "state": {
       "_model_module_version": "^1.3.3",
       "_view_module_version": "^1.3.3",
       "classes": " multiple_edges ",
       "data": {
        "Knowledge_Source": "Reactome",
        "Primary_Knowledge_Source": "R-HSA-168256",
        "_igraph_index": 30,
        "id": "7c94f4b4-a6b7-4081-b5bd-ede46575faa1",
        "predicate": "reactome_participates_in",
        "publications": "PMID:34788843",
        "source": "REACT::R-HSA-168256",
        "target": "NCBIGene::11026"
       },
       "selectable": false
      }
     },
     "ab27eafc095749c792fc7694d137c57d": {
      "model_module": "jupyter-cytoscape",
      "model_module_version": "^1.3.3",
      "model_name": "NodeModel",
      "state": {
       "_model_module_version": "^1.3.3",
       "_view_module_version": "^1.3.3",
       "data": {
        "_igraph_index": 18,
        "category": "Gene",
        "feature_name": "LILRA3",
        "id": "NCBIGene::11026",
        "id_prefix": "NCBIGene",
        "in_query": 1,
        "name": "NCBIGene::11026"
       },
       "grabbable": true,
       "grabbed": false,
       "position": {
        "x": 48.13172296685518,
        "y": 344.4324637776911
       },
       "selectable": false
      }
     },
     "ac1d206c626c49e9b62a323c7c31c587": {
      "model_module": "jupyter-cytoscape",
      "model_module_version": "^1.3.3",
      "model_name": "GraphModel",
      "state": {
       "_adj": {},
       "_model_module_version": "^1.3.3",
       "_view_module": "jupyter-cytoscape",
       "_view_module_version": "^1.3.3"
      }
     },
     "ac2ac7a2cf784ab39543fda17816c70d": {
      "model_module": "jupyter-cytoscape",
      "model_module_version": "^1.3.3",
      "model_name": "NodeModel",
      "state": {
       "_model_module_version": "^1.3.3",
       "_view_module_version": "^1.3.3",
       "data": {
        "id": "NCBIGene::10577"
       },
       "grabbable": true,
       "grabbed": false,
       "position": {
        "x": 0,
        "y": 0
       },
       "selectable": false
      }
     },
     "acf8be0de5384b59bc5a98ecaac44284": {
      "model_module": "jupyter-cytoscape",
      "model_module_version": "^1.3.3",
      "model_name": "EdgeModel",
      "state": {
       "_model_module_version": "^1.3.3",
       "_view_module_version": "^1.3.3",
       "data": {
        "Knowledge_Source": "Reactome",
        "Primary_Knowledge_Source": "R-HSA-168249",
        "_igraph_index": 4,
        "id": "70aa7958-7829-4150-842e-92ca2c253268",
        "predicate": "reactome_participates_in",
        "publications": "PMID:34788843",
        "source": "REACT::R-HSA-168249",
        "target": "NCBIGene::10577"
       },
       "selectable": false
      }
     },
     "ad0c897a93014c7d964bde6a7823558c": {
      "model_module": "jupyter-cytoscape",
      "model_module_version": "^1.3.3",
      "model_name": "NodeModel",
      "state": {
       "_model_module_version": "^1.3.3",
       "_view_module_version": "^1.3.3",
       "data": {
        "_igraph_index": 1,
        "category": "Gene",
        "feature_name": "BCL2",
        "id": "NCBIGene::596.0",
        "id_prefix": "NCBIGene",
        "in_query": 1,
        "name": "NCBIGene::596.0"
       },
       "grabbable": true,
       "grabbed": false,
       "position": {
        "x": 397.792918188195,
        "y": 51.624649846104006
       },
       "selectable": false
      }
     },
     "ad6e767005ac4d3785c63678e8441ff6": {
      "model_module": "@jupyter-widgets/base",
      "model_module_version": "2.0.0",
      "model_name": "LayoutModel",
      "state": {}
     },
     "ad7591d678614795b53d4ef99d980724": {
      "model_module": "jupyter-cytoscape",
      "model_module_version": "^1.3.3",
      "model_name": "CytoscapeModel",
      "state": {
       "_interaction_handlers": {},
       "_model_module_version": "^1.3.3",
       "_view_module_version": "^1.3.3",
       "auto_ungrabify": false,
       "autolock": false,
       "cytoscape_layout": {
        "edgeLengthVal": 50,
        "name": "cola",
        "nodeSpacing": 80,
        "title": "high_proteins"
       },
       "cytoscape_style": [
        {
         "selector": "node[feature_name]",
         "style": {
          "font-family": "helvetica",
          "font-size": "20px",
          "label": "data(feature_name)"
         }
        },
        {
         "selector": "node[category=\"Protein\"]",
         "style": {
          "background-color": "blue"
         }
        },
        {
         "selector": "node[in_query=1]",
         "style": {
          "border-color": "red",
          "border-width": "5px"
         }
        },
        {
         "selector": "edge[type]",
         "style": {
          "label": "data(type)"
         }
        },
        {
         "selector": "edge.directed",
         "style": {
          "curve-style": "bezier",
          "target-arrow-shape": "triangle"
         }
        }
       ],
       "desktop_tap_threshold": 4,
       "graph": "IPY_MODEL_fc5b1593cc1b4a58804c8c6f942a64f3",
       "headless": false,
       "hide_edges_on_viewport": false,
       "layout": "IPY_MODEL_ad6e767005ac4d3785c63678e8441ff6",
       "max_zoom": 1e+50,
       "min_zoom": 1e-50,
       "motion_blur": false,
       "motion_blur_opacity": 0.2,
       "panning_enabled": true,
       "pixel_ratio": "auto",
       "rendered_position": {
        "renderedPosition": {
         "x": 100,
         "y": 100
        }
       },
       "selection_type": "single",
       "style_enabled": true,
       "texture_on_viewport": false,
       "tooltip_source": "feature_name",
       "touch_tap_threshold": 8,
       "user_panning_enabled": true,
       "user_zooming_enabled": true,
       "wheel_sensitivity": 1,
       "zoom": 2,
       "zooming_enabled": true
      }
     },
     "ad943a5a6f71480bafc8a7ef293b19fe": {
      "model_module": "jupyter-cytoscape",
      "model_module_version": "^1.3.3",
      "model_name": "EdgeModel",
      "state": {
       "_model_module_version": "^1.3.3",
       "_view_module_version": "^1.3.3",
       "data": {
        "Knowledge_Source": "Multiomics-BigGIM-DrugResponse",
        "Primary_Knowledge_Source": "hsa04071",
        "_igraph_index": 0,
        "predicate": "binding/association",
        "publications": "PMID:27899662",
        "source": "NCBIGene::7157",
        "target": "NCBIGene::596.0"
       },
       "selectable": false
      }
     },
     "ae0cc8bfeec34ec5905a6ee3005820b8": {
      "model_module": "jupyter-cytoscape",
      "model_module_version": "^1.3.3",
      "model_name": "EdgeModel",
      "state": {
       "_model_module_version": "^1.3.3",
       "_view_module_version": "^1.3.3",
       "classes": " multiple_edges ",
       "data": {
        "Knowledge_Source": "Reactome",
        "Primary_Knowledge_Source": "R-HSA-1643685",
        "_igraph_index": 11,
        "id": "f66e95d4-75f5-4bed-ae5f-1e6ca7350638",
        "predicate": "reactome_participates_in",
        "publications": "PMID:34788843",
        "source": "NCBIGene::3280",
        "target": "REACT::R-HSA-1643685"
       },
       "selectable": false
      }
     },
     "ae14b69dc3844c55b971e98df9dc3fb6": {
      "model_module": "jupyter-cytoscape",
      "model_module_version": "^1.3.3",
      "model_name": "NodeModel",
      "state": {
       "_model_module_version": "^1.3.3",
       "_view_module_version": "^1.3.3",
       "data": {
        "id": "NCBIGene::7157"
       },
       "grabbable": true,
       "grabbed": false,
       "position": {
        "x": 512.0507186824169,
        "y": 398.65409387136725
       },
       "selectable": false
      }
     },
     "ae760668c39c48b9b5c03ca3456db9ce": {
      "model_module": "jupyter-cytoscape",
      "model_module_version": "^1.3.3",
      "model_name": "NodeModel",
      "state": {
       "_model_module_version": "^1.3.3",
       "_view_module_version": "^1.3.3",
       "data": {
        "_igraph_index": 0,
        "category": "Gene",
        "feature_name": "TP53",
        "id": "NCBIGene::7157",
        "id_prefix": "NCBIGene",
        "in_query": 0,
        "name": "NCBIGene::7157"
       },
       "grabbable": true,
       "grabbed": false,
       "position": {
        "x": 603.2142860000002,
        "y": 104.85722274531565
       },
       "selectable": false
      }
     },
     "aebc6da8a7814ba481f619bd5ae53fa6": {
      "model_module": "jupyter-cytoscape",
      "model_module_version": "^1.3.3",
      "model_name": "NodeModel",
      "state": {
       "_model_module_version": "^1.3.3",
       "_view_module_version": "^1.3.3",
       "data": {
        "_igraph_index": 25,
        "category": "Gene",
        "feature_name": "DNAJC1",
        "id": "2209337",
        "identifier": 64215,
        "in_query": 1,
        "name": "2209337",
        "source": "Entrez Gene"
       },
       "grabbable": true,
       "grabbed": false,
       "position": {
        "x": 1206.0021399576235,
        "y": -27.004399840663876
       },
       "selectable": false
      }
     },
     "aecdf0a847bb45bab02722a2e8eb056a": {
      "model_module": "jupyter-cytoscape",
      "model_module_version": "^1.3.3",
      "model_name": "NodeModel",
      "state": {
       "_model_module_version": "^1.3.3",
       "_view_module_version": "^1.3.3",
       "data": {
        "id": "NCBIGene::7157"
       },
       "grabbable": true,
       "grabbed": false,
       "position": {
        "x": 0,
        "y": 0
       },
       "selectable": false
      }
     },
     "aef4ed5125db438890010981f00dede9": {
      "model_module": "jupyter-cytoscape",
      "model_module_version": "^1.3.3",
      "model_name": "NodeModel",
      "state": {
       "_model_module_version": "^1.3.3",
       "_view_module_version": "^1.3.3",
       "data": {
        "_igraph_index": 4,
        "category": "Gene",
        "feature_name": "GATA2",
        "id": "2191899",
        "identifier": 2624,
        "in_query": 1,
        "name": "2191899",
        "source": "Entrez Gene"
       },
       "grabbable": true,
       "grabbed": false,
       "position": {
        "x": 601.4960395409474,
        "y": 227.19260316899644
       },
       "selectable": false
      }
     },
     "af156f73819547a4b3fffc5bac6a642c": {
      "model_module": "jupyter-cytoscape",
      "model_module_version": "^1.3.3",
      "model_name": "NodeModel",
      "state": {
       "_model_module_version": "^1.3.3",
       "_view_module_version": "^1.3.3",
       "data": {
        "id": "NCBIGene::2624"
       },
       "grabbable": true,
       "grabbed": false,
       "position": {
        "x": 276.8418886107055,
        "y": 605.2968813747465
       },
       "selectable": false
      }
     },
     "afbb8b8fef484400b40fd0ff9a41adb5": {
      "model_module": "jupyter-cytoscape",
      "model_module_version": "^1.3.3",
      "model_name": "NodeModel",
      "state": {
       "_model_module_version": "^1.3.3",
       "_view_module_version": "^1.3.3",
       "data": {
        "_igraph_index": 10,
        "category": "Gene",
        "feature_name": "NFKB2",
        "id": "2193539",
        "identifier": 4791,
        "in_query": 1,
        "name": "2193539",
        "source": "Entrez Gene"
       },
       "grabbable": true,
       "grabbed": false,
       "position": {
        "x": -153.99786704237647,
        "y": 263.92078157739974
       },
       "selectable": false
      }
     },
     "b0556453cf9149bd96346373087bd7f7": {
      "model_module": "jupyter-cytoscape",
      "model_module_version": "^1.3.3",
      "model_name": "NodeModel",
      "state": {
       "_model_module_version": "^1.3.3",
       "_view_module_version": "^1.3.3",
       "data": {
        "id": "NCBIGene::10577"
       },
       "grabbable": true,
       "grabbed": false,
       "position": {
        "x": 0,
        "y": 0
       },
       "selectable": false
      }
     },
     "b0d85eacf9904b678229ea7189b51d5a": {
      "model_module": "jupyter-cytoscape",
      "model_module_version": "^1.3.3",
      "model_name": "NodeModel",
      "state": {
       "_model_module_version": "^1.3.3",
       "_view_module_version": "^1.3.3",
       "data": {
        "_igraph_index": 2,
        "category": "Gene",
        "feature_name": "NFKB2",
        "id": "NCBIGene::4791",
        "id_prefix": "NCBIGene",
        "in_query": 1,
        "name": "NCBIGene::4791"
       },
       "grabbable": true,
       "grabbed": false,
       "position": {
        "x": 202.792917188195,
        "y": 344.2159163518525
       },
       "selectable": false
      }
     },
     "b0fcecd30efa4eda8a9dcd863b971804": {
      "model_module": "jupyter-cytoscape",
      "model_module_version": "^1.3.3",
      "model_name": "NodeModel",
      "state": {
       "_model_module_version": "^1.3.3",
       "_view_module_version": "^1.3.3",
       "data": {
        "_igraph_index": 3,
        "category": "Gene",
        "feature_name": "BCL2",
        "id": "2190368",
        "identifier": 596,
        "in_query": 1,
        "name": "2190368",
        "source": "Entrez Gene"
       },
       "grabbable": true,
       "grabbed": false,
       "position": {
        "x": 1206.0021399576235,
        "y": 167.99560115933613
       },
       "selectable": false
      }
     },
     "b2c761d5168648ebbddf27ae38d679c8": {
      "model_module": "@jupyter-widgets/base",
      "model_module_version": "2.0.0",
      "model_name": "LayoutModel",
      "state": {}
     },
     "b38f9fca149745e486af127a731a2866": {
      "model_module": "jupyter-cytoscape",
      "model_module_version": "^1.3.3",
      "model_name": "EdgeModel",
      "state": {
       "_model_module_version": "^1.3.3",
       "_view_module_version": "^1.3.3",
       "data": {
        "_igraph_index": 1,
        "id": "516eea2a-0cc5-4a70-9b5b-c35bb26e02fa",
        "source": "2175196",
        "target": "2190368",
        "type": "EXPRESSES_AeG"
       },
       "selectable": false
      }
     },
     "b685f8c55603414b94b9649ad26273ef": {
      "model_module": "jupyter-cytoscape",
      "model_module_version": "^1.3.3",
      "model_name": "EdgeModel",
      "state": {
       "_model_module_version": "^1.3.3",
       "_view_module_version": "^1.3.3",
       "data": {
        "_igraph_index": 11,
        "id": "325348d4-899b-470a-845f-835189211c05",
        "source": "2192566",
        "target": "2190368",
        "type": "UPREGULATES_KGuG"
       },
       "selectable": false
      }
     },
     "b68b9f8c4fcc4d0f8cb904498873de9f": {
      "model_module": "jupyter-cytoscape",
      "model_module_version": "^1.3.3",
      "model_name": "NodeModel",
      "state": {
       "_model_module_version": "^1.3.3",
       "_view_module_version": "^1.3.3",
       "data": {
        "id": "NCBIGene::4791"
       },
       "grabbable": true,
       "grabbed": false,
       "position": {
        "x": 573.7708445036634,
        "y": 360.427744395449
       },
       "selectable": false
      }
     },
     "b81330fb396040a698cb3be9afdbb337": {
      "model_module": "jupyter-cytoscape",
      "model_module_version": "^1.3.3",
      "model_name": "NodeModel",
      "state": {
       "_model_module_version": "^1.3.3",
       "_view_module_version": "^1.3.3",
       "data": {
        "_igraph_index": 19,
        "category": "Gene",
        "feature_name": "FGD4",
        "id": "NCBIGene::121512",
        "id_prefix": "NCBIGene",
        "in_query": 1,
        "name": "NCBIGene::121512"
       },
       "grabbable": true,
       "grabbed": false,
       "position": {
        "x": 745.4988569348934,
        "y": 526.594895013052
       },
       "selectable": false
      }
     },
     "b86765a499324668897fe45485bbe75b": {
      "model_module": "jupyter-cytoscape",
      "model_module_version": "^1.3.3",
      "model_name": "NodeModel",
      "state": {
       "_model_module_version": "^1.3.3",
       "_view_module_version": "^1.3.3",
       "data": {
        "_igraph_index": 2,
        "category": "Gene",
        "feature_name": "NFKB2",
        "id": "NCBIGene::4791",
        "id_prefix": "NCBIGene",
        "in_query": 1,
        "name": "NCBIGene::4791"
       },
       "grabbable": true,
       "grabbed": false,
       "position": {
        "x": 282.43111713848833,
        "y": 304.3968163767058
       },
       "selectable": false
      }
     },
     "b8a4619fa91f4eceaff213102107e1af": {
      "model_module": "jupyter-cytoscape",
      "model_module_version": "^1.3.3",
      "model_name": "NodeModel",
      "state": {
       "_model_module_version": "^1.3.3",
       "_view_module_version": "^1.3.3",
       "data": {
        "_igraph_index": 2,
        "category": "Gene",
        "feature_name": "NFKB2",
        "id": "NCBIGene::4791",
        "id_prefix": "NCBIGene",
        "in_query": 1,
        "name": "NCBIGene::4791"
       },
       "grabbable": true,
       "grabbed": false,
       "selectable": false
      }
     },
     "b99afa79735d4f139ba6a9fac060dedd": {
      "model_module": "jupyter-cytoscape",
      "model_module_version": "^1.3.3",
      "model_name": "EdgeModel",
      "state": {
       "_model_module_version": "^1.3.3",
       "_view_module_version": "^1.3.3",
       "data": {
        "Knowledge_Source": "Reactome",
        "Primary_Knowledge_Source": "R-HSA-168249",
        "_igraph_index": 2,
        "id": "fcb60a62-9d6c-44af-97c9-d584c48a6057",
        "predicate": "participates_in",
        "publications": "PMID:34788843",
        "source": "0",
        "target": "4"
       },
       "selectable": false
      }
     },
     "ba20395191624b4eb94411a8225ce135": {
      "model_module": "jupyter-cytoscape",
      "model_module_version": "^1.3.3",
      "model_name": "NodeModel",
      "state": {
       "_model_module_version": "^1.3.3",
       "_view_module_version": "^1.3.3",
       "data": {
        "id": "NCBIGene::11026"
       },
       "grabbable": true,
       "grabbed": false,
       "position": {
        "x": 0,
        "y": 0
       },
       "selectable": false
      }
     },
     "baf1516783524ce685fab12b787092ef": {
      "model_module": "jupyter-cytoscape",
      "model_module_version": "^1.3.3",
      "model_name": "NodeModel",
      "state": {
       "_model_module_version": "^1.3.3",
       "_view_module_version": "^1.3.3",
       "data": {
        "id": "NCBIGene::6204"
       },
       "grabbable": true,
       "grabbed": false,
       "position": {
        "x": 0,
        "y": 0
       },
       "selectable": false
      }
     },
     "bb37f7030cd4401794063ac6d98ed24f": {
      "model_module": "jupyter-cytoscape",
      "model_module_version": "^1.3.3",
      "model_name": "NodeModel",
      "state": {
       "_model_module_version": "^1.3.3",
       "_view_module_version": "^1.3.3",
       "data": {
        "_igraph_index": 23,
        "category": "Gene",
        "feature_name": "LEF1",
        "id": "2201977",
        "identifier": 51176,
        "in_query": 1,
        "name": "2201977",
        "source": "Entrez Gene"
       },
       "grabbable": true,
       "grabbed": false,
       "position": {
        "x": 331.0164723937781,
        "y": -302.44662715301575
       },
       "selectable": false
      }
     },
     "bc01495fb7f344d29859ff9edd3ebf0e": {
      "model_module": "jupyter-cytoscape",
      "model_module_version": "^1.3.3",
      "model_name": "CytoscapeModel",
      "state": {
       "_interaction_handlers": {},
       "_model_module_version": "^1.3.3",
       "_view_module_version": "^1.3.3",
       "auto_ungrabify": false,
       "autolock": false,
       "cytoscape_layout": {
        "edgeLengthVal": 50,
        "name": "cola",
        "nodeSpacing": 80,
        "title": "high_proteins"
       },
       "cytoscape_style": [
        {
         "selector": "node[feature_name]",
         "style": {
          "font-family": "helvetica",
          "font-size": "20px",
          "label": "data(feature_name)"
         }
        },
        {
         "selector": "node[category=\"Protein\"]",
         "style": {
          "background-color": "blue"
         }
        },
        {
         "selector": "node[in_query=1]",
         "style": {
          "border-color": "red",
          "border-width": "5px"
         }
        },
        {
         "selector": "edge[type]",
         "style": {
          "label": "data(type)"
         }
        },
        {
         "selector": "edge.directed",
         "style": {
          "curve-style": "bezier",
          "target-arrow-shape": "triangle"
         }
        }
       ],
       "desktop_tap_threshold": 4,
       "graph": "IPY_MODEL_bd2b44dfcf294cf6be95448783ac7dfe",
       "headless": false,
       "hide_edges_on_viewport": false,
       "layout": "IPY_MODEL_0521f07ec8044d7a8cdafdeae20f925e",
       "max_zoom": 1e+50,
       "min_zoom": 1e-50,
       "motion_blur": false,
       "motion_blur_opacity": 0.2,
       "panning_enabled": true,
       "pixel_ratio": "auto",
       "rendered_position": {
        "renderedPosition": {
         "x": 100,
         "y": 100
        }
       },
       "selection_type": "single",
       "style_enabled": true,
       "texture_on_viewport": false,
       "tooltip_source": "feature_name",
       "touch_tap_threshold": 8,
       "user_panning_enabled": true,
       "user_zooming_enabled": true,
       "wheel_sensitivity": 1,
       "zoom": 2,
       "zooming_enabled": true
      }
     },
     "bc4f882787574009bd82f3038dd0ee48": {
      "model_module": "jupyter-cytoscape",
      "model_module_version": "^1.3.3",
      "model_name": "EdgeModel",
      "state": {
       "_model_module_version": "^1.3.3",
       "_view_module_version": "^1.3.3",
       "data": {
        "_igraph_index": 2,
        "id": "524d40ea-418c-472b-bb3f-70088de8a240",
        "source": "2190459",
        "target": "2175051",
        "type": "UPREGULATES_KGuG"
       },
       "selectable": false
      }
     },
     "bd2b44dfcf294cf6be95448783ac7dfe": {
      "model_module": "jupyter-cytoscape",
      "model_module_version": "^1.3.3",
      "model_name": "GraphModel",
      "state": {
       "_adj": {
        "2166630": {},
        "2190368": {},
        "2191899": {},
        "2193539": {},
        "2198153": {},
        "283315": {},
        "42316": {}
       },
       "_model_module_version": "^1.3.3",
       "_view_module": "jupyter-cytoscape",
       "_view_module_version": "^1.3.3",
       "edges": [
        "IPY_MODEL_a1a8506aa43c497cb55c54cc0c2ad7a8",
        "IPY_MODEL_e7f44f04de024604be1a4b06dac2b08f",
        "IPY_MODEL_1b01d24cf834430eaa019589e7e64363",
        "IPY_MODEL_7d28cf16f62e4e56876e61219db5ffc0",
        "IPY_MODEL_c7147711f0774cae95d030fc36776237",
        "IPY_MODEL_16d364299b6045d4bc3fe7ec124b9739"
       ],
       "nodes": [
        "IPY_MODEL_9c2ba34d28054ca2b41ae553a2eb3bbe",
        "IPY_MODEL_73789eb7fcea4b059321f2431f07b340",
        "IPY_MODEL_04df6555c3c14b158c262c2532bf3c31",
        "IPY_MODEL_a6e9e57924a74dd782ea9517f5f6ae70",
        "IPY_MODEL_86d3edd8e5ec4302be6a8f21b44c6164",
        "IPY_MODEL_0c33a301904b475a947f5a60b9cf2b66",
        "IPY_MODEL_45750c2248eb41799cb7550ccc61c145"
       ]
      }
     },
     "be8c2d60f6824e398ffc5df9881bf1b3": {
      "model_module": "jupyter-cytoscape",
      "model_module_version": "^1.3.3",
      "model_name": "NodeModel",
      "state": {
       "_model_module_version": "^1.3.3",
       "_view_module_version": "^1.3.3",
       "data": {
        "id": "NCBIGene::10577"
       },
       "grabbable": true,
       "grabbed": false,
       "position": {
        "x": 0,
        "y": 0
       },
       "selectable": false
      }
     },
     "bf6cae59a871441089033d25e1032a91": {
      "model_module": "jupyter-cytoscape",
      "model_module_version": "^1.3.3",
      "model_name": "EdgeModel",
      "state": {
       "_model_module_version": "^1.3.3",
       "_view_module_version": "^1.3.3",
       "classes": " multiple_edges ",
       "data": {
        "Knowledge_Source": "Reactome",
        "Primary_Knowledge_Source": "R-HSA-168256",
        "_igraph_index": 37,
        "id": "7ff44bea-3da1-481b-999b-f771ed785e02",
        "predicate": "reactome_participates_in",
        "publications": "PMID:34788843",
        "source": "REACT::R-HSA-168256",
        "target": "NCBIGene::712"
       },
       "selectable": false
      }
     },
     "bfb26ee0e50143e08e20c57f9207f392": {
      "model_module": "jupyter-cytoscape",
      "model_module_version": "^1.3.3",
      "model_name": "EdgeModel",
      "state": {
       "_model_module_version": "^1.3.3",
       "_view_module_version": "^1.3.3",
       "data": {
        "_igraph_index": 8,
        "id": "d952a8ce-36b1-471f-899b-b9b79e812ee6",
        "source": "2191899",
        "target": "2190368",
        "type": "UPREGULATES_KGuG"
       },
       "selectable": false
      }
     },
     "bfe95af2b91947e9bcc896f742bda31f": {
      "model_module": "jupyter-cytoscape",
      "model_module_version": "^1.3.3",
      "model_name": "EdgeModel",
      "state": {
       "_model_module_version": "^1.3.3",
       "_view_module_version": "^1.3.3",
       "data": {
        "Knowledge_Source": "Reactome",
        "Primary_Knowledge_Source": "R-HSA-109582",
        "_igraph_index": 1,
        "predicate": "participates_in",
        "publications": "PMID:34788843",
        "source": "NCBIGene::7157",
        "target": "REACT::R-HSA-109582"
       },
       "selectable": false
      }
     },
     "c039b7738953473fa649da964eb96ddf": {
      "model_module": "jupyter-cytoscape",
      "model_module_version": "^1.3.3",
      "model_name": "NodeModel",
      "state": {
       "_model_module_version": "^1.3.3",
       "_view_module_version": "^1.3.3",
       "data": {
        "_igraph_index": 3,
        "category": "Pathway",
        "feature_name": "Hemostasis",
        "id": "REACT::R-HSA-109582",
        "id_prefix": "REACT",
        "in_query": 0,
        "name": "REACT::R-HSA-109582"
       },
       "grabbable": true,
       "grabbed": false,
       "selectable": false
      }
     },
     "c1036504688e4cb9aca8dd1bb7ee47f4": {
      "model_module": "jupyter-cytoscape",
      "model_module_version": "^1.3.3",
      "model_name": "CytoscapeModel",
      "state": {
       "_interaction_handlers": {},
       "_model_module_version": "^1.3.3",
       "_view_module_version": "^1.3.3",
       "auto_ungrabify": false,
       "autolock": false,
       "cytoscape_layout": {
        "edgeLengthVal": 50,
        "name": "cola",
        "nodeSpacing": 80,
        "title": "high_proteins"
       },
       "cytoscape_style": [
        {
         "selector": "node[feature_name]",
         "style": {
          "font-family": "helvetica",
          "font-size": "20px",
          "label": "data(feature_name)"
         }
        },
        {
         "selector": "node[category=\"Protein\"]",
         "style": {
          "background-color": "blue"
         }
        },
        {
         "selector": "node[in_query=1]",
         "style": {
          "border-color": "red",
          "border-width": "5px"
         }
        },
        {
         "selector": "edge[type]",
         "style": {
          "label": "data(type)"
         }
        },
        {
         "selector": "edge.directed",
         "style": {
          "curve-style": "bezier",
          "target-arrow-shape": "triangle"
         }
        }
       ],
       "desktop_tap_threshold": 4,
       "graph": "IPY_MODEL_01e1cdac6d644a28b900dfd1aebd895f",
       "headless": false,
       "hide_edges_on_viewport": false,
       "layout": "IPY_MODEL_7f16a4e127f649ed82a9a33df7a699b3",
       "max_zoom": 1e+50,
       "min_zoom": 1e-50,
       "motion_blur": false,
       "motion_blur_opacity": 0.2,
       "panning_enabled": true,
       "pixel_ratio": "auto",
       "rendered_position": {
        "renderedPosition": {
         "x": 100,
         "y": 100
        }
       },
       "selection_type": "single",
       "style_enabled": true,
       "texture_on_viewport": false,
       "tooltip_source": "feature_name",
       "touch_tap_threshold": 8,
       "user_panning_enabled": true,
       "user_zooming_enabled": true,
       "wheel_sensitivity": 1,
       "zoom": 2,
       "zooming_enabled": true
      }
     },
     "c1b9affcdd8544d9accc93a6682f8e73": {
      "model_module": "jupyter-cytoscape",
      "model_module_version": "^1.3.3",
      "model_name": "NodeModel",
      "state": {
       "_model_module_version": "^1.3.3",
       "_view_module_version": "^1.3.3",
       "data": {
        "_igraph_index": 4,
        "category": "Pathway",
        "feature_name": "Innate Immune System",
        "id": "REACT::R-HSA-168249",
        "id_prefix": "REACT",
        "in_query": 0,
        "name": "REACT::R-HSA-168249"
       },
       "grabbable": true,
       "grabbed": false,
       "position": {
        "x": 454.90797927269614,
        "y": 310.2928987915974
       },
       "selectable": false
      }
     },
     "c1ce8e80291c475c9868a2b6036ebc62": {
      "model_module": "jupyter-cytoscape",
      "model_module_version": "^1.3.3",
      "model_name": "NodeModel",
      "state": {
       "_model_module_version": "^1.3.3",
       "_view_module_version": "^1.3.3",
       "data": {
        "id": "REACT::R-HSA-1643685"
       },
       "grabbable": true,
       "grabbed": false,
       "position": {
        "x": 0,
        "y": 0
       },
       "selectable": false
      }
     },
     "c26baff58956423cb9d7cd81b0945064": {
      "model_module": "@jupyter-widgets/base",
      "model_module_version": "2.0.0",
      "model_name": "LayoutModel",
      "state": {}
     },
     "c302bb2c4d324a20ba058f6174f6be9e": {
      "model_module": "jupyter-cytoscape",
      "model_module_version": "^1.3.3",
      "model_name": "EdgeModel",
      "state": {
       "_model_module_version": "^1.3.3",
       "_view_module_version": "^1.3.3",
       "data": {
        "_igraph_index": 4,
        "id": "ebb0627f-85c5-49c2-8189-62d4dae3a12d",
        "source": "2175196",
        "target": "2190948",
        "type": "EXPRESSES_AeG"
       },
       "selectable": false
      }
     },
     "c309dd096f9f453b989843e4464125f9": {
      "model_module": "jupyter-cytoscape",
      "model_module_version": "^1.3.3",
      "model_name": "EdgeModel",
      "state": {
       "_model_module_version": "^1.3.3",
       "_view_module_version": "^1.3.3",
       "data": {
        "Knowledge_Source": "Multiomics-BigGIM-DrugResponse",
        "Primary_Knowledge_Source": "hsa04071",
        "_igraph_index": 0,
        "predicate": "binding/association",
        "publications": "PMID:27899662",
        "source": "NCBIGene::7157",
        "target": "NCBIGene::596.0"
       },
       "selectable": false
      }
     },
     "c33d7bd6d12b4984aa097594db074d6b": {
      "model_module": "jupyter-cytoscape",
      "model_module_version": "^1.3.3",
      "model_name": "GraphModel",
      "state": {
       "_adj": {},
       "_model_module_version": "^1.3.3",
       "_view_module": "jupyter-cytoscape",
       "_view_module_version": "^1.3.3"
      }
     },
     "c366cb7303b94dbeaf3124f604cdff6f": {
      "model_module": "jupyter-cytoscape",
      "model_module_version": "^1.3.3",
      "model_name": "NodeModel",
      "state": {
       "_model_module_version": "^1.3.3",
       "_view_module_version": "^1.3.3",
       "data": {
        "_igraph_index": 0,
        "category": "Gene",
        "feature_name": "TP53",
        "id": "NCBIGene::7157",
        "id_prefix": "NCBIGene",
        "in_query": 0,
        "name": "NCBIGene::7157"
       },
       "grabbable": true,
       "grabbed": false,
       "position": {
        "x": 395.76882748006165,
        "y": -19.57225760455103
       },
       "selectable": false
      }
     },
     "c414a901939f46bca5d0f831c8d3164c": {
      "model_module": "jupyter-cytoscape",
      "model_module_version": "^1.3.3",
      "model_name": "EdgeModel",
      "state": {
       "_model_module_version": "^1.3.3",
       "_view_module_version": "^1.3.3",
       "data": {
        "Knowledge_Source": "Reactome",
        "Primary_Knowledge_Source": "R-HSA-168249",
        "_igraph_index": 3,
        "predicate": "participates_in",
        "publications": "PMID:34788843",
        "source": "NCBIGene::4791",
        "target": "REACT::R-HSA-168249"
       },
       "selectable": false
      }
     },
     "c434c813a52748ff8c46aca33f5ee7a7": {
      "model_module": "jupyter-cytoscape",
      "model_module_version": "^1.3.3",
      "model_name": "NodeModel",
      "state": {
       "_model_module_version": "^1.3.3",
       "_view_module_version": "^1.3.3",
       "data": {
        "id": "NCBIGene::4791"
       },
       "grabbable": true,
       "grabbed": false,
       "position": {
        "x": 818.1744751337039,
        "y": 283.64345315411816
       },
       "selectable": false
      }
     },
     "c43cf7d56679456c8b5d7cca0e669ef8": {
      "model_module": "jupyter-cytoscape",
      "model_module_version": "^1.3.3",
      "model_name": "GraphModel",
      "state": {
       "_adj": {},
       "_model_module_version": "^1.3.3",
       "_view_module": "jupyter-cytoscape",
       "_view_module_version": "^1.3.3"
      }
     },
     "c449e5238a7340c7bafe272caab221a1": {
      "model_module": "jupyter-cytoscape",
      "model_module_version": "^1.3.3",
      "model_name": "EdgeModel",
      "state": {
       "_model_module_version": "^1.3.3",
       "_view_module_version": "^1.3.3",
       "classes": " multiple_edges ",
       "data": {
        "Knowledge_Source": "Reactome",
        "Primary_Knowledge_Source": "R-HSA-162582",
        "_igraph_index": 17,
        "id": "26458775-a99d-4e02-a170-23044a012aec",
        "predicate": "reactome_participates_in",
        "publications": "PMID:34788843",
        "source": "NCBIGene::7157",
        "target": "REACT::R-HSA-162582"
       },
       "selectable": false
      }
     },
     "c45e3018f3e040ef87f5e5b46104c756": {
      "model_module": "jupyter-cytoscape",
      "model_module_version": "^1.3.3",
      "model_name": "NodeModel",
      "state": {
       "_model_module_version": "^1.3.3",
       "_view_module_version": "^1.3.3",
       "data": {
        "id": "REACT::R-HSA-168249"
       },
       "grabbable": true,
       "grabbed": false,
       "position": {
        "x": 0,
        "y": 0
       },
       "selectable": false
      }
     },
     "c488925b6b8e4652ac6ac9d6b34fc8f9": {
      "model_module": "jupyter-cytoscape",
      "model_module_version": "^1.3.3",
      "model_name": "NodeModel",
      "state": {
       "_model_module_version": "^1.3.3",
       "_view_module_version": "^1.3.3",
       "data": {
        "_igraph_index": 11,
        "category": "Pathway",
        "feature_name": "Disease",
        "id": "REACT::R-HSA-1643685",
        "id_prefix": "REACT",
        "in_query": 0,
        "name": "REACT::R-HSA-1643685"
       },
       "grabbable": true,
       "grabbed": false,
       "position": {
        "x": 780.2704165838201,
        "y": -85.83648879575233
       },
       "selectable": false
      }
     },
     "c536f44341444ecaa4cbffb4d23f68df": {
      "model_module": "jupyter-cytoscape",
      "model_module_version": "^1.3.3",
      "model_name": "EdgeModel",
      "state": {
       "_model_module_version": "^1.3.3",
       "_view_module_version": "^1.3.3",
       "data": {
        "Knowledge_Source": "Reactome",
        "Primary_Knowledge_Source": "R-HSA-168249",
        "_igraph_index": 4,
        "id": "e3d7c9d4-745c-4537-b761-6e8107647021",
        "predicate": "participates_in",
        "publications": "PMID:34788843",
        "source": "REACT::R-HSA-168249",
        "target": "NCBIGene::10577"
       },
       "selectable": false
      }
     },
     "c59ee9c817ec4f258fecdb89f35558b1": {
      "model_module": "jupyter-cytoscape",
      "model_module_version": "^1.3.3",
      "model_name": "EdgeModel",
      "state": {
       "_model_module_version": "^1.3.3",
       "_view_module_version": "^1.3.3",
       "data": {
        "Knowledge_Source": "Reactome",
        "Primary_Knowledge_Source": "R-HSA-168249",
        "_igraph_index": 2,
        "id": "ccb398d6-3927-4659-950f-6a42658800bf",
        "predicate": "participates_in",
        "publications": "PMID:34788843",
        "source": "NCBIGene::7157",
        "target": "REACT::R-HSA-168249"
       },
       "selectable": false
      }
     },
     "c69c955bde294af88d75351be29b63a9": {
      "model_module": "jupyter-cytoscape",
      "model_module_version": "^1.3.3",
      "model_name": "NodeModel",
      "state": {
       "_model_module_version": "^1.3.3",
       "_view_module_version": "^1.3.3",
       "data": {
        "id": "NCBIGene::4791"
       },
       "grabbable": true,
       "grabbed": false,
       "position": {
        "x": 0,
        "y": 0
       },
       "selectable": false
      }
     },
     "c7147711f0774cae95d030fc36776237": {
      "model_module": "jupyter-cytoscape",
      "model_module_version": "^1.3.3",
      "model_name": "EdgeModel",
      "state": {
       "_model_module_version": "^1.3.3",
       "_view_module_version": "^1.3.3",
       "data": {
        "_igraph_index": 2,
        "id": "8a021e82-deda-41e3-be28-82a6f36c6d91",
        "source": "2166630",
        "target": "2191899",
        "type": "ASSOCIATES_DaG"
       },
       "selectable": false
      }
     },
     "c728c48f1d6e43e9a446d57dbbe9c9d9": {
      "model_module": "jupyter-cytoscape",
      "model_module_version": "^1.3.3",
      "model_name": "EdgeModel",
      "state": {
       "_model_module_version": "^1.3.3",
       "_view_module_version": "^1.3.3",
       "classes": " multiple_edges ",
       "data": {
        "Knowledge_Source": "Reactome",
        "Primary_Knowledge_Source": "R-HSA-162582",
        "_igraph_index": 14,
        "id": "1c3db0bb-fc4e-458d-82b0-bc69c1eac7b5",
        "predicate": "reactome_participates_in",
        "publications": "PMID:34788843",
        "source": "NCBIGene::595",
        "target": "REACT::R-HSA-162582"
       },
       "selectable": false
      }
     },
     "c73fddf45efe483da34f24529f5716f7": {
      "model_module": "@jupyter-widgets/base",
      "model_module_version": "2.0.0",
      "model_name": "LayoutModel",
      "state": {}
     },
     "c75e423bf9fa44bc86f9dd8ce4fb80ed": {
      "model_module": "jupyter-cytoscape",
      "model_module_version": "^1.3.3",
      "model_name": "NodeModel",
      "state": {
       "_model_module_version": "^1.3.3",
       "_view_module_version": "^1.3.3",
       "data": {
        "_igraph_index": 4,
        "category": "Pathway",
        "feature_name": "Innate Immune System",
        "id": "REACT::R-HSA-168249",
        "id_prefix": "REACT",
        "in_query": 0,
        "name": "REACT::R-HSA-168249"
       },
       "grabbable": true,
       "grabbed": false,
       "position": {
        "x": 603.2142860000002,
        "y": 294.85722374531565
       },
       "selectable": false
      }
     },
     "c82467d03da149c7a874f378db8c055f": {
      "model_module": "jupyter-cytoscape",
      "model_module_version": "^1.3.3",
      "model_name": "NodeModel",
      "state": {
       "_model_module_version": "^1.3.3",
       "_view_module_version": "^1.3.3",
       "data": {
        "id": "NCBIGene::1337"
       },
       "grabbable": true,
       "grabbed": false,
       "position": {
        "x": 0,
        "y": 0
       },
       "selectable": false
      }
     },
     "c9d1555754b54a729b2536f18125f626": {
      "model_module": "jupyter-cytoscape",
      "model_module_version": "^1.3.3",
      "model_name": "NodeModel",
      "state": {
       "_model_module_version": "^1.3.3",
       "_view_module_version": "^1.3.3",
       "data": {
        "id": "NCBIGene::3280"
       },
       "grabbable": true,
       "grabbed": false,
       "position": {
        "x": 0,
        "y": 0
       },
       "selectable": false
      }
     },
     "ca4339578a654fb286876fe78eb9d5fd": {
      "model_module": "jupyter-cytoscape",
      "model_module_version": "^1.3.3",
      "model_name": "NodeModel",
      "state": {
       "_model_module_version": "^1.3.3",
       "_view_module_version": "^1.3.3",
       "data": {
        "id": "NCBIGene::10992"
       },
       "grabbable": true,
       "grabbed": false,
       "position": {
        "x": 0,
        "y": 0
       },
       "selectable": false
      }
     },
     "ca4794c5107f425db2b209ddba4d7f1e": {
      "model_module": "jupyter-cytoscape",
      "model_module_version": "^1.3.3",
      "model_name": "NodeModel",
      "state": {
       "_model_module_version": "^1.3.3",
       "_view_module_version": "^1.3.3",
       "data": {
        "_igraph_index": 3,
        "category": "Pathway",
        "feature_name": "Hemostasis",
        "id": "R-HSA-109582",
        "id_prefix": "REACT",
        "in_query": 0,
        "name": "REACT::R-HSA-109582"
       },
       "grabbable": true,
       "grabbed": false,
       "position": {
        "x": 364.9999985,
        "y": 558.3776266464896
       },
       "selectable": false
      }
     },
     "cc40ee89d8544ddfa0f1b029c8f91c7f": {
      "model_module": "jupyter-cytoscape",
      "model_module_version": "^1.3.3",
      "model_name": "NodeModel",
      "state": {
       "_model_module_version": "^1.3.3",
       "_view_module_version": "^1.3.3",
       "data": {
        "_igraph_index": 6,
        "category": "Gene",
        "feature_name": "GATA2",
        "id": "NCBIGene::2624",
        "id_prefix": "NCBIGene",
        "in_query": 1,
        "name": "NCBIGene::2624"
       },
       "grabbable": true,
       "grabbed": false,
       "selectable": false
      }
     },
     "cd09d7397df84f608d70042cd7afa4a4": {
      "model_module": "jupyter-cytoscape",
      "model_module_version": "^1.3.3",
      "model_name": "EdgeModel",
      "state": {
       "_model_module_version": "^1.3.3",
       "_view_module_version": "^1.3.3",
       "data": {
        "_igraph_index": 27,
        "id": "b39f6aa1-ac25-4715-8de5-d228680305f2",
        "source": "2175196",
        "target": "2197473",
        "type": "EXPRESSES_AeG"
       },
       "selectable": false
      }
     },
     "cd1e26d8e5c0487486f88b517548507a": {
      "model_module": "jupyter-cytoscape",
      "model_module_version": "^1.3.3",
      "model_name": "NodeModel",
      "state": {
       "_model_module_version": "^1.3.3",
       "_view_module_version": "^1.3.3",
       "data": {
        "_igraph_index": 5,
        "category": "Gene",
        "feature_name": "NPC2",
        "id": "NCBIGene::10577",
        "id_prefix": "NCBIGene",
        "in_query": 1,
        "name": "NCBIGene::10577"
       },
       "grabbable": true,
       "grabbed": false,
       "position": {
        "x": 607.5888802975494,
        "y": 344.5363946521614
       },
       "selectable": false
      }
     },
     "cd847428a9f246c7935a9f31e6087195": {
      "model_module": "jupyter-cytoscape",
      "model_module_version": "^1.3.3",
      "model_name": "EdgeModel",
      "state": {
       "_model_module_version": "^1.3.3",
       "_view_module_version": "^1.3.3",
       "data": {
        "Knowledge_Source": "Multiomics-BigGIM-DrugResponse",
        "Primary_Knowledge_Source": "hsa04071",
        "_igraph_index": 0,
        "id": "d0f51b5f-4a6d-426a-b96c-847bd93d2301",
        "predicate": "binding/association",
        "publications": "PMID:27899662",
        "source": "0",
        "target": "1"
       },
       "selectable": false
      }
     },
     "cd996cff4abc4196be69ad46265a4102": {
      "model_module": "jupyter-cytoscape",
      "model_module_version": "^1.3.3",
      "model_name": "NodeModel",
      "state": {
       "_model_module_version": "^1.3.3",
       "_view_module_version": "^1.3.3",
       "data": {
        "_igraph_index": 9,
        "category": "Gene",
        "feature_name": "RBPJ",
        "id": "2192584",
        "identifier": 3516,
        "in_query": 1,
        "name": "2192584",
        "source": "Entrez Gene"
       },
       "grabbable": true,
       "grabbed": false,
       "position": {
        "x": 154.03356764582165,
        "y": 133.09146779798527
       },
       "selectable": false
      }
     },
     "ce1a8917ccf84e6195300fb768326b3e": {
      "model_module": "jupyter-cytoscape",
      "model_module_version": "^1.3.3",
      "model_name": "NodeModel",
      "state": {
       "_model_module_version": "^1.3.3",
       "_view_module_version": "^1.3.3",
       "data": {
        "id": "NCBIGene::10577"
       },
       "grabbable": true,
       "grabbed": false,
       "selectable": false
      }
     },
     "cf5ffad3355c4c72bbb7d7fe37a4a82d": {
      "model_module": "jupyter-cytoscape",
      "model_module_version": "^1.3.3",
      "model_name": "NodeModel",
      "state": {
       "_model_module_version": "^1.3.3",
       "_view_module_version": "^1.3.3",
       "data": {
        "_igraph_index": 0,
        "category": "Gene",
        "feature_name": "TP53",
        "id": "NCBIGene::7157",
        "id_prefix": "NCBIGene",
        "in_query": 0,
        "name": "NCBIGene::7157"
       },
       "grabbable": true,
       "grabbed": false,
       "position": {
        "x": 508.3793420964647,
        "y": 161.24968633746263
       },
       "selectable": false
      }
     },
     "d0571bd102cc41aa9c17925c9742d391": {
      "model_module": "jupyter-cytoscape",
      "model_module_version": "^1.3.3",
      "model_name": "NodeModel",
      "state": {
       "_model_module_version": "^1.3.3",
       "_view_module_version": "^1.3.3",
       "data": {
        "id": "NCBIGene::4791"
       },
       "grabbable": true,
       "grabbed": false,
       "position": {
        "x": 0,
        "y": 0
       },
       "selectable": false
      }
     },
     "d1a6160dab0245f5a8e96c1c542f8f52": {
      "model_module": "jupyter-cytoscape",
      "model_module_version": "^1.3.3",
      "model_name": "EdgeModel",
      "state": {
       "_model_module_version": "^1.3.3",
       "_view_module_version": "^1.3.3",
       "data": {
        "_igraph_index": 0,
        "id": "d39c2130-fae9-4c88-8ee1-ddb410704312",
        "source": "42316",
        "target": "2191899",
        "type": "UPREGULATES_CuG"
       },
       "selectable": false
      }
     },
     "d1e8c7ffc06a408caa91e403c86fa1d8": {
      "model_module": "jupyter-cytoscape",
      "model_module_version": "^1.3.3",
      "model_name": "NodeModel",
      "state": {
       "_model_module_version": "^1.3.3",
       "_view_module_version": "^1.3.3",
       "data": {
        "_igraph_index": 2,
        "category": "Disease",
        "feature_name": "acute myeloid leukemia",
        "id": "2166630",
        "identifier": "DOID:9119",
        "in_query": 1,
        "name": "2166630",
        "source": "Disease Ontology"
       },
       "grabbable": true,
       "grabbed": false,
       "position": {
        "x": 216.4960375409474,
        "y": 224.8134932064005
       },
       "selectable": false
      }
     },
     "d203fef38e88472b89279e855360cc78": {
      "model_module": "jupyter-cytoscape",
      "model_module_version": "^1.3.3",
      "model_name": "NodeModel",
      "state": {
       "_model_module_version": "^1.3.3",
       "_view_module_version": "^1.3.3",
       "data": {
        "id": "NCBIGene::596.0"
       },
       "grabbable": true,
       "grabbed": false,
       "selectable": false
      }
     },
     "d270c421b1a2433b9742463de2ff4f0e": {
      "model_module": "jupyter-cytoscape",
      "model_module_version": "^1.3.3",
      "model_name": "NodeModel",
      "state": {
       "_model_module_version": "^1.3.3",
       "_view_module_version": "^1.3.3",
       "data": {
        "_igraph_index": 14,
        "category": "Gene",
        "feature_name": "FGD4",
        "id": "2196159",
        "identifier": 121512,
        "in_query": 1,
        "name": "2196159",
        "source": "Entrez Gene"
       },
       "grabbable": true,
       "grabbed": false,
       "position": {
        "x": 816.0021379576234,
        "y": 450.2062093433937
       },
       "selectable": false
      }
     },
     "d2bee51064d041a3abd83cac305d25ce": {
      "model_module": "jupyter-cytoscape",
      "model_module_version": "^1.3.3",
      "model_name": "NodeModel",
      "state": {
       "_model_module_version": "^1.3.3",
       "_view_module_version": "^1.3.3",
       "data": {
        "_igraph_index": 1,
        "category": "Gene",
        "feature_name": "BCL2",
        "id": "NCBIGene::596.0",
        "id_prefix": "NCBIGene",
        "in_query": 1,
        "name": "NCBIGene::596.0"
       },
       "grabbable": true,
       "grabbed": false,
       "selectable": false
      }
     },
     "d414c8ad826e4a27a965fd4d1f5d9d53": {
      "model_module": "jupyter-cytoscape",
      "model_module_version": "^1.3.3",
      "model_name": "NodeModel",
      "state": {
       "_model_module_version": "^1.3.3",
       "_view_module_version": "^1.3.3",
       "data": {
        "_igraph_index": 3,
        "category": "Pathway",
        "feature_name": "Hemostasis",
        "id": "REACT::R-HSA-109582",
        "id_prefix": "REACT",
        "in_query": 0,
        "name": "REACT::R-HSA-109582"
       },
       "grabbable": true,
       "grabbed": false,
       "selectable": false
      }
     },
     "d4928a5d4a7f408b8ffec58af234cb77": {
      "model_module": "jupyter-cytoscape",
      "model_module_version": "^1.3.3",
      "model_name": "EdgeModel",
      "state": {
       "_model_module_version": "^1.3.3",
       "_view_module_version": "^1.3.3",
       "data": {
        "Knowledge_Source": "Reactome",
        "Primary_Knowledge_Source": "R-HSA-109582",
        "_igraph_index": 1,
        "id": "fd0413e9-cebb-4980-a8cf-93ac9b8bdaf5",
        "predicate": "participates_in",
        "publications": "PMID:34788843",
        "source": "0",
        "target": "3"
       },
       "selectable": false
      }
     },
     "d4bab49bcf524321bff1df6e2c1489bb": {
      "model_module": "jupyter-cytoscape",
      "model_module_version": "^1.3.3",
      "model_name": "EdgeModel",
      "state": {
       "_model_module_version": "^1.3.3",
       "_view_module_version": "^1.3.3",
       "data": {
        "_igraph_index": 16,
        "id": "382747a6-776f-44d0-95ad-cfa39cab2d5d",
        "source": "2175196",
        "target": "2194083",
        "type": "EXPRESSES_AeG"
       },
       "selectable": false
      }
     },
     "d4eaef8f745c4bda80287e4b7e5325ef": {
      "model_module": "jupyter-cytoscape",
      "model_module_version": "^1.3.3",
      "model_name": "NodeModel",
      "state": {
       "_model_module_version": "^1.3.3",
       "_view_module_version": "^1.3.3",
       "data": {
        "_igraph_index": 15,
        "category": "Gene",
        "feature_name": "LILRB2",
        "id": "NCBIGene::10288",
        "id_prefix": "NCBIGene",
        "in_query": 1,
        "name": "NCBIGene::10288"
       },
       "grabbable": true,
       "grabbed": false,
       "position": {
        "x": -117.9473795827234,
        "y": 134.9097046643337
       },
       "selectable": false
      }
     },
     "d5fe6c81bde246c0bf339989a46ba7c5": {
      "model_module": "jupyter-cytoscape",
      "model_module_version": "^1.3.3",
      "model_name": "NodeModel",
      "state": {
       "_model_module_version": "^1.3.3",
       "_view_module_version": "^1.3.3",
       "data": {
        "_igraph_index": 3,
        "category": "Pathway",
        "feature_name": "Hemostasis",
        "id": "REACT::R-HSA-109582",
        "id_prefix": "REACT",
        "in_query": 0,
        "name": "REACT::R-HSA-109582"
       },
       "grabbable": true,
       "grabbed": false,
       "position": {
        "x": 793.2142870000001,
        "y": 146.7955056122784
       },
       "selectable": false
      }
     },
     "d6dbd2f1681e4c4ea7738bfcb57b6517": {
      "model_module": "jupyter-cytoscape",
      "model_module_version": "^1.3.3",
      "model_name": "NodeModel",
      "state": {
       "_model_module_version": "^1.3.3",
       "_view_module_version": "^1.3.3",
       "data": {
        "_igraph_index": 2,
        "category": "Gene",
        "feature_name": "NFKB2",
        "id": "4791",
        "id_prefix": "NCBIGene",
        "in_query": 1,
        "name": "NCBIGene::4791"
       },
       "grabbable": true,
       "grabbed": false,
       "position": {
        "x": 957.1081270215645,
        "y": 107.49999999999996
       },
       "selectable": false
      }
     },
     "d77e3c7592284fc7a6f2837e5351af88": {
      "model_module": "jupyter-cytoscape",
      "model_module_version": "^1.3.3",
      "model_name": "EdgeModel",
      "state": {
       "_model_module_version": "^1.3.3",
       "_view_module_version": "^1.3.3",
       "data": {
        "Knowledge_Source": "Reactome",
        "Primary_Knowledge_Source": "R-HSA-168249",
        "_igraph_index": 4,
        "id": "4572321e-fe24-438e-9ae2-ba94cbb9a894",
        "predicate": "participates_in",
        "publications": "PMID:34788843",
        "source": "4",
        "target": "5"
       },
       "selectable": false
      }
     },
     "d7d35dfa7eea438e8e1ce836ec384c5b": {
      "model_module": "jupyter-cytoscape",
      "model_module_version": "^1.3.3",
      "model_name": "NodeModel",
      "state": {
       "_model_module_version": "^1.3.3",
       "_view_module_version": "^1.3.3",
       "data": {
        "_igraph_index": 24,
        "category": "Gene",
        "feature_name": "GOLGA8J",
        "id": "2208939",
        "identifier": 653073,
        "in_query": 1,
        "name": "2208939",
        "source": "Entrez Gene"
       },
       "grabbable": true,
       "grabbed": false,
       "position": {
        "x": 621.0021369576235,
        "y": -49.965270214912
       },
       "selectable": false
      }
     },
     "d7d794e42dde4b51bf0f80438b9f9898": {
      "model_module": "jupyter-cytoscape",
      "model_module_version": "^1.3.3",
      "model_name": "NodeModel",
      "state": {
       "_model_module_version": "^1.3.3",
       "_view_module_version": "^1.3.3",
       "data": {
        "id": "REACT::R-HSA-168249"
       },
       "grabbable": true,
       "grabbed": false,
       "selectable": false
      }
     },
     "d81056bcd85c46e2b28e96d67bde3fa8": {
      "model_module": "jupyter-cytoscape",
      "model_module_version": "^1.3.3",
      "model_name": "EdgeModel",
      "state": {
       "_model_module_version": "^1.3.3",
       "_view_module_version": "^1.3.3",
       "data": {
        "Knowledge_Source": "Reactome",
        "Primary_Knowledge_Source": "R-HSA-109582",
        "_igraph_index": 5,
        "id": "e7cb30e3-1628-48e2-ab6c-b8fb41823ca3",
        "predicate": "participates_in",
        "publications": "PMID:34788843",
        "source": "REACT::R-HSA-109582",
        "target": "NCBIGene::2624"
       },
       "selectable": false
      }
     },
     "d8d0a3e5ad2947d38e474cf6b7c291a5": {
      "model_module": "@jupyter-widgets/base",
      "model_module_version": "2.0.0",
      "model_name": "LayoutModel",
      "state": {}
     },
     "d8ddc7e4314e4e3e9b74c926227f84c4": {
      "model_module": "jupyter-cytoscape",
      "model_module_version": "^1.3.3",
      "model_name": "NodeModel",
      "state": {
       "_model_module_version": "^1.3.3",
       "_view_module_version": "^1.3.3",
       "data": {
        "_igraph_index": 1,
        "category": "Gene",
        "feature_name": "BCL2",
        "id": "596",
        "id_prefix": "NCBIGene",
        "in_query": 1,
        "name": "NCBIGene::596.0"
       },
       "grabbable": true,
       "grabbed": false,
       "position": {
        "x": 240,
        "y": 396.9539609065721
       },
       "selectable": false
      }
     },
     "d91da81616cc4f3bb9cc04eea299766f": {
      "model_module": "jupyter-cytoscape",
      "model_module_version": "^1.3.3",
      "model_name": "GraphModel",
      "state": {
       "_adj": {
        "2166630": {},
        "2190368": {},
        "2191899": {},
        "2193539": {},
        "2198153": {},
        "283315": {},
        "42316": {}
       },
       "_model_module_version": "^1.3.3",
       "_view_module": "jupyter-cytoscape",
       "_view_module_version": "^1.3.3",
       "edges": [
        "IPY_MODEL_d1a6160dab0245f5a8e96c1c542f8f52",
        "IPY_MODEL_7cc66144245940f5b11d6ce5bda06660",
        "IPY_MODEL_dfff26d9e36840188d8d8999b5f1930b",
        "IPY_MODEL_039eaf6c72134af1bd6ffc2d0c3a5d7d",
        "IPY_MODEL_09e2d61522d3438597f24c9725a8fba3",
        "IPY_MODEL_7baeed4ee7684f3bb1cdec4722f13964"
       ],
       "nodes": [
        "IPY_MODEL_a3539f84442d4aedac1e6800ae7a6b14",
        "IPY_MODEL_408686d5bcfc40adadf43cd0ca0756e5",
        "IPY_MODEL_d1e8c7ffc06a408caa91e403c86fa1d8",
        "IPY_MODEL_7ee0f29cccb34896b6449d4f0c9771cc",
        "IPY_MODEL_aef4ed5125db438890010981f00dede9",
        "IPY_MODEL_ded6249eb8714f28a453480950c2faa7",
        "IPY_MODEL_244e71d932134702b39a40da799972df"
       ]
      }
     },
     "dae94b0c1c064b7a91897a82c8985e71": {
      "model_module": "jupyter-cytoscape",
      "model_module_version": "^1.3.3",
      "model_name": "GraphModel",
      "state": {
       "_adj": {
        "10577": {},
        "2624": {},
        "4791": {},
        "596.0": {},
        "7157": {},
        "NCBIGene::10577": {},
        "NCBIGene::2624": {
         "REACT::R-HSA-109582": 1
        },
        "NCBIGene::4791": {
         "REACT::R-HSA-168249": 1
        },
        "NCBIGene::596.0": {
         "NCBIGene::7157": 1
        },
        "NCBIGene::7157": {
         "NCBIGene::596.0": 1,
         "REACT::R-HSA-109582": 1,
         "REACT::R-HSA-168249": 1
        },
        "R-HSA-109582": {},
        "R-HSA-168249": {},
        "REACT::R-HSA-109582": {
         "NCBIGene::2624": 1,
         "NCBIGene::7157": 1
        },
        "REACT::R-HSA-168249": {
         "NCBIGene::4791": 1,
         "NCBIGene::7157": 1
        }
       },
       "_model_module_version": "^1.3.3",
       "_view_module": "jupyter-cytoscape",
       "_view_module_version": "^1.3.3",
       "edges": [
        "IPY_MODEL_32123658d8d34682892d759c2f6f0909",
        "IPY_MODEL_96e2efe9b12e49c49e334d24ef3b7540",
        "IPY_MODEL_a13179f7927349d0bfb09af1859481c3",
        "IPY_MODEL_a482f544ba354f1297b3d20928c9ece0",
        "IPY_MODEL_591bcc5b05a74761af5598fc831333aa",
        "IPY_MODEL_597ec6128e884f118810a1c98bf17f48"
       ],
       "nodes": [
        "IPY_MODEL_67eb42d13796421f89c52bb701bca4dc",
        "IPY_MODEL_3404c03627204713ba697d46655adb0e",
        "IPY_MODEL_b8a4619fa91f4eceaff213102107e1af",
        "IPY_MODEL_c039b7738953473fa649da964eb96ddf",
        "IPY_MODEL_e4e7e1e21fa8412a8ca280188da1fd33",
        "IPY_MODEL_f9b8894616344c7887b0a6a8911f80ce",
        "IPY_MODEL_1040f76ad8934c41bd58c1e05674aa7e",
        "IPY_MODEL_33fe09b837da449a8d192a3cf526ff78",
        "IPY_MODEL_d203fef38e88472b89279e855360cc78",
        "IPY_MODEL_21ea19a687a942829d0e5b845a3f82d9",
        "IPY_MODEL_439850c01e1448bd9295a1c0cdf47fa4",
        "IPY_MODEL_f9f0f89b1e1f427ba36bb0ad0e7399d2",
        "IPY_MODEL_3e11e72725e942f29ac8d1a755285e3f",
        "IPY_MODEL_23ecd13ac8114ed2a5c616385fd2be4d"
       ]
      }
     },
     "daf06bb5ec174b0ba9b055bbcaf9e404": {
      "model_module": "jupyter-cytoscape",
      "model_module_version": "^1.3.3",
      "model_name": "CytoscapeModel",
      "state": {
       "_interaction_handlers": {},
       "_model_module_version": "^1.3.3",
       "_view_module_version": "^1.3.3",
       "auto_ungrabify": false,
       "autolock": false,
       "cytoscape_layout": {
        "edgeLengthVal": 50,
        "name": "cola",
        "nodeSpacing": 80,
        "title": "high_proteins"
       },
       "cytoscape_style": [
        {
         "selector": "node[feature_name]",
         "style": {
          "font-family": "helvetica",
          "font-size": "20px",
          "label": "data(feature_name)"
         }
        },
        {
         "selector": "node[category=\"Protein\"]",
         "style": {
          "background-color": "blue"
         }
        },
        {
         "selector": "node[in_query=1]",
         "style": {
          "border-color": "red",
          "border-width": "5px"
         }
        },
        {
         "selector": "edge[predicate]",
         "style": {
          "label": "data(predicate)"
         }
        },
        {
         "selector": "edge.directed",
         "style": {
          "curve-style": "bezier",
          "target-arrow-shape": "triangle"
         }
        }
       ],
       "desktop_tap_threshold": 4,
       "graph": "IPY_MODEL_6d51bf6df0a549d8bced2166c8f2816f",
       "headless": false,
       "hide_edges_on_viewport": false,
       "layout": "IPY_MODEL_dfb407d7d9ae45d48f0e4a4471978a81",
       "max_zoom": 1e+50,
       "min_zoom": 1e-50,
       "motion_blur": false,
       "motion_blur_opacity": 0.2,
       "panning_enabled": true,
       "pixel_ratio": "auto",
       "rendered_position": {
        "renderedPosition": {
         "x": 100,
         "y": 100
        }
       },
       "selection_type": "single",
       "style_enabled": true,
       "texture_on_viewport": false,
       "tooltip_source": "feature_name",
       "touch_tap_threshold": 8,
       "user_panning_enabled": true,
       "user_zooming_enabled": true,
       "wheel_sensitivity": 1,
       "zoom": 2,
       "zooming_enabled": true
      }
     },
     "dafe425959984a17b66070c5efe7ad30": {
      "model_module": "jupyter-cytoscape",
      "model_module_version": "^1.3.3",
      "model_name": "NodeModel",
      "state": {
       "_model_module_version": "^1.3.3",
       "_view_module_version": "^1.3.3",
       "data": {
        "id": "NCBIGene::10577"
       },
       "grabbable": true,
       "grabbed": false,
       "position": {
        "x": 0,
        "y": 0
       },
       "selectable": false
      }
     },
     "dc83591f925c4a6f87fa5a7bff3be4e3": {
      "model_module": "jupyter-cytoscape",
      "model_module_version": "^1.3.3",
      "model_name": "EdgeModel",
      "state": {
       "_model_module_version": "^1.3.3",
       "_view_module_version": "^1.3.3",
       "classes": " multiple_edges ",
       "data": {
        "Knowledge_Source": "Reactome",
        "Primary_Knowledge_Source": "R-HSA-212436",
        "_igraph_index": 33,
        "id": "896924d0-e586-4d5d-bfb5-19b1fe8fd75c",
        "predicate": "reactome_participates_in",
        "publications": "PMID:34788843",
        "source": "REACT::R-HSA-212436",
        "target": "NCBIGene::2624"
       },
       "selectable": false
      }
     },
     "dcf5381d5ff6471bba8d977b159f8fb4": {
      "model_module": "jupyter-cytoscape",
      "model_module_version": "^1.3.3",
      "model_name": "NodeModel",
      "state": {
       "_model_module_version": "^1.3.3",
       "_view_module_version": "^1.3.3",
       "data": {
        "_igraph_index": 2,
        "category": "Gene",
        "feature_name": "NFKB2",
        "id": "4791",
        "id_prefix": "NCBIGene",
        "in_query": 1,
        "name": "NCBIGene::4791"
       },
       "grabbable": true,
       "grabbed": false,
       "position": {
        "x": 445,
        "y": 396.9539609065721
       },
       "selectable": false
      }
     },
     "de9747381c4347168d926929771a2983": {
      "model_module": "jupyter-cytoscape",
      "model_module_version": "^1.3.3",
      "model_name": "NodeModel",
      "state": {
       "_model_module_version": "^1.3.3",
       "_view_module_version": "^1.3.3",
       "data": {
        "_igraph_index": 17,
        "category": "Gene",
        "feature_name": "SF3B2",
        "id": "NCBIGene::10992",
        "id_prefix": "NCBIGene",
        "in_query": 1,
        "name": "NCBIGene::10992"
       },
       "grabbable": true,
       "grabbed": false,
       "position": {
        "x": 851.2910603643933,
        "y": -360.17975824234935
       },
       "selectable": false
      }
     },
     "ded6249eb8714f28a453480950c2faa7": {
      "model_module": "jupyter-cytoscape",
      "model_module_version": "^1.3.3",
      "model_name": "NodeModel",
      "state": {
       "_model_module_version": "^1.3.3",
       "_view_module_version": "^1.3.3",
       "data": {
        "_igraph_index": 5,
        "category": "Gene",
        "feature_name": "NFKB2",
        "id": "2193539",
        "identifier": 4791,
        "in_query": 1,
        "name": "2193539",
        "source": "Entrez Gene"
       },
       "grabbable": true,
       "grabbed": false,
       "position": {
        "x": 796.4960405409473,
        "y": 227.19260316899644
       },
       "selectable": false
      }
     },
     "dfb407d7d9ae45d48f0e4a4471978a81": {
      "model_module": "@jupyter-widgets/base",
      "model_module_version": "2.0.0",
      "model_name": "LayoutModel",
      "state": {}
     },
     "dfff26d9e36840188d8d8999b5f1930b": {
      "model_module": "jupyter-cytoscape",
      "model_module_version": "^1.3.3",
      "model_name": "EdgeModel",
      "state": {
       "_model_module_version": "^1.3.3",
       "_view_module_version": "^1.3.3",
       "data": {
        "_igraph_index": 1,
        "id": "64768bc1-f5ad-43e0-9a19-842009a0ab96",
        "source": "283315",
        "target": "2191899",
        "type": "UPREGULATES_CuG"
       },
       "selectable": false
      }
     },
     "e0514e987ad944bc89e2f6baa4aa5a32": {
      "model_module": "jupyter-cytoscape",
      "model_module_version": "^1.3.3",
      "model_name": "EdgeModel",
      "state": {
       "_model_module_version": "^1.3.3",
       "_view_module_version": "^1.3.3",
       "data": {
        "Knowledge_Source": "Reactome",
        "Primary_Knowledge_Source": "R-HSA-168249",
        "_igraph_index": 4,
        "id": "de1300a3-f8ee-4f31-8842-ad2326187032",
        "predicate": "participates_in",
        "publications": "PMID:34788843",
        "source": "REACT::R-HSA-168249",
        "target": "NCBIGene::10577"
       },
       "selectable": false
      }
     },
     "e0a4faf3990147c982c9072e774b575f": {
      "model_module": "jupyter-cytoscape",
      "model_module_version": "^1.3.3",
      "model_name": "EdgeModel",
      "state": {
       "_model_module_version": "^1.3.3",
       "_view_module_version": "^1.3.3",
       "classes": " multiple_edges ",
       "data": {
        "Knowledge_Source": "Reactome",
        "Primary_Knowledge_Source": "R-HSA-168256",
        "_igraph_index": 5,
        "id": "3b557264-6588-4ef4-baeb-38bc556ce124",
        "predicate": "reactome_participates_in",
        "publications": "PMID:34788843",
        "source": "NCBIGene::4791",
        "target": "REACT::R-HSA-168256"
       },
       "selectable": false
      }
     },
     "e0f755193e2444d4be6a72be791871e2": {
      "model_module": "jupyter-cytoscape",
      "model_module_version": "^1.3.3",
      "model_name": "EdgeModel",
      "state": {
       "_model_module_version": "^1.3.3",
       "_view_module_version": "^1.3.3",
       "data": {
        "Knowledge_Source": "Reactome",
        "Primary_Knowledge_Source": "R-HSA-109582",
        "_igraph_index": 5,
        "id": "d1d7b4cf-0e11-44ba-ab03-350a323b6c4f",
        "predicate": "participates_in",
        "publications": "PMID:34788843",
        "source": "REACT::R-HSA-109582",
        "target": "NCBIGene::2624"
       },
       "selectable": false
      }
     },
     "e1b32a14755c43dc975bac6278451942": {
      "model_module": "jupyter-cytoscape",
      "model_module_version": "^1.3.3",
      "model_name": "NodeModel",
      "state": {
       "_model_module_version": "^1.3.3",
       "_view_module_version": "^1.3.3",
       "data": {
        "_igraph_index": 6,
        "category": "Gene",
        "feature_name": "GATA2",
        "id": "NCBIGene::2624",
        "id_prefix": "NCBIGene",
        "in_query": 1,
        "name": "NCBIGene::2624"
       },
       "grabbable": true,
       "grabbed": false,
       "position": {
        "x": 719.7587837015242,
        "y": 119.20353092563457
       },
       "selectable": false
      }
     },
     "e2bd8c133d5b4722adef159b8a921e3e": {
      "model_module": "jupyter-cytoscape",
      "model_module_version": "^1.3.3",
      "model_name": "GraphModel",
      "state": {
       "_adj": {},
       "_model_module_version": "^1.3.3",
       "_view_module": "jupyter-cytoscape",
       "_view_module_version": "^1.3.3"
      }
     },
     "e3323dff71c9488bb893d81be01a2cb8": {
      "model_module": "jupyter-cytoscape",
      "model_module_version": "^1.3.3",
      "model_name": "NodeModel",
      "state": {
       "_model_module_version": "^1.3.3",
       "_view_module_version": "^1.3.3",
       "data": {
        "id": "NCBIGene::4791"
       },
       "grabbable": true,
       "grabbed": false,
       "position": {
        "x": 0,
        "y": 0
       },
       "selectable": false
      }
     },
     "e360af69fead43daa12adffeb783f54d": {
      "model_module": "jupyter-cytoscape",
      "model_module_version": "^1.3.3",
      "model_name": "NodeModel",
      "state": {
       "_model_module_version": "^1.3.3",
       "_view_module_version": "^1.3.3",
       "data": {
        "id": "NCBIGene::4791"
       },
       "grabbable": true,
       "grabbed": false,
       "position": {
        "x": 0,
        "y": 0
       },
       "selectable": false
      }
     },
     "e372954c1e1e41d1a078ad0288f588f4": {
      "model_module": "jupyter-cytoscape",
      "model_module_version": "^1.3.3",
      "model_name": "EdgeModel",
      "state": {
       "_model_module_version": "^1.3.3",
       "_view_module_version": "^1.3.3",
       "data": {
        "_igraph_index": 38,
        "id": "c9b31721-b933-4717-b296-4f478650d754",
        "source": "2175196",
        "target": "2209337",
        "type": "UPREGULATES_AuG"
       },
       "selectable": false
      }
     },
     "e386c7631075480d8cbbd2ff0714d1e3": {
      "model_module": "jupyter-cytoscape",
      "model_module_version": "^1.3.3",
      "model_name": "NodeModel",
      "state": {
       "_model_module_version": "^1.3.3",
       "_view_module_version": "^1.3.3",
       "data": {
        "_igraph_index": 0,
        "category": "Gene",
        "feature_name": "TP53",
        "id": "NCBIGene::7157",
        "id_prefix": "NCBIGene",
        "in_query": 0,
        "name": "NCBIGene::7157"
       },
       "grabbable": true,
       "grabbed": false,
       "position": {
        "x": 508.3793420964646,
        "y": 148.73511205955947
       },
       "selectable": false
      }
     },
     "e3cce7861dc64644a7d391f2a30a4d32": {
      "model_module": "jupyter-cytoscape",
      "model_module_version": "^1.3.3",
      "model_name": "NodeModel",
      "state": {
       "_model_module_version": "^1.3.3",
       "_view_module_version": "^1.3.3",
       "data": {
        "id": "NCBIGene::5971"
       },
       "grabbable": true,
       "grabbed": false,
       "position": {
        "x": 0,
        "y": 0
       },
       "selectable": false
      }
     },
     "e4e7e1e21fa8412a8ca280188da1fd33": {
      "model_module": "jupyter-cytoscape",
      "model_module_version": "^1.3.3",
      "model_name": "NodeModel",
      "state": {
       "_model_module_version": "^1.3.3",
       "_view_module_version": "^1.3.3",
       "data": {
        "_igraph_index": 4,
        "category": "Pathway",
        "feature_name": "Innate Immune System",
        "id": "REACT::R-HSA-168249",
        "id_prefix": "REACT",
        "in_query": 0,
        "name": "REACT::R-HSA-168249"
       },
       "grabbable": true,
       "grabbed": false,
       "selectable": false
      }
     },
     "e55372711b5f4c8ebd23bdfa48577c1f": {
      "model_module": "jupyter-cytoscape",
      "model_module_version": "^1.3.3",
      "model_name": "EdgeModel",
      "state": {
       "_model_module_version": "^1.3.3",
       "_view_module_version": "^1.3.3",
       "data": {
        "_igraph_index": 12,
        "id": "c6df09fe-c38c-418b-a754-edae67b8bd7b",
        "source": "2175196",
        "target": "2192584",
        "type": "EXPRESSES_AeG"
       },
       "selectable": false
      }
     },
     "e58f6112dbc24f1f8fc54cfbeef106f4": {
      "model_module": "jupyter-cytoscape",
      "model_module_version": "^1.3.3",
      "model_name": "NodeModel",
      "state": {
       "_model_module_version": "^1.3.3",
       "_view_module_version": "^1.3.3",
       "data": {
        "_igraph_index": 22,
        "category": "Gene",
        "feature_name": "ECHDC3",
        "id": "2199864",
        "identifier": 79746,
        "in_query": 1,
        "name": "2199864",
        "source": "Entrez Gene"
       },
       "grabbable": true,
       "grabbed": false,
       "position": {
        "x": 468.58294829764236,
        "y": 535.0347327850881
       },
       "selectable": false
      }
     },
     "e5ac5ccd9d8949279970b2731d8136a4": {
      "model_module": "jupyter-cytoscape",
      "model_module_version": "^1.3.3",
      "model_name": "EdgeModel",
      "state": {
       "_model_module_version": "^1.3.3",
       "_view_module_version": "^1.3.3",
       "data": {
        "_igraph_index": 3,
        "id": "b9af14fb-e2f8-4892-918b-ce82ff224220",
        "source": "2175196",
        "target": "2190459",
        "type": "EXPRESSES_AeG"
       },
       "selectable": false
      }
     },
     "e5c4bc7eeef44791bf1ec93ecb97c5ac": {
      "model_module": "jupyter-cytoscape",
      "model_module_version": "^1.3.3",
      "model_name": "NodeModel",
      "state": {
       "_model_module_version": "^1.3.3",
       "_view_module_version": "^1.3.3",
       "data": {
        "id": "NCBIGene::121512"
       },
       "grabbable": true,
       "grabbed": false,
       "position": {
        "x": 0,
        "y": 0
       },
       "selectable": false
      }
     },
     "e62a903fc7404b2db3bdd15592bf5b16": {
      "model_module": "jupyter-cytoscape",
      "model_module_version": "^1.3.3",
      "model_name": "NodeModel",
      "state": {
       "_model_module_version": "^1.3.3",
       "_view_module_version": "^1.3.3",
       "data": {
        "_igraph_index": 6,
        "category": "Gene",
        "feature_name": "FOXO1",
        "id": "2191712",
        "identifier": 2308,
        "in_query": 1,
        "name": "2191712",
        "source": "Entrez Gene"
       },
       "grabbable": true,
       "grabbed": false,
       "position": {
        "x": 641.5845517166349,
        "y": 558.3142603776275
       },
       "selectable": false
      }
     },
     "e62dfe654f9042cd982396e879f520ac": {
      "model_module": "jupyter-cytoscape",
      "model_module_version": "^1.3.3",
      "model_name": "NodeModel",
      "state": {
       "_model_module_version": "^1.3.3",
       "_view_module_version": "^1.3.3",
       "data": {
        "_igraph_index": 22,
        "category": "Gene",
        "feature_name": "IGF2R",
        "id": "NCBIGene::3482",
        "id_prefix": "NCBIGene",
        "in_query": 1,
        "name": "NCBIGene::3482"
       },
       "grabbable": true,
       "grabbed": false,
       "position": {
        "x": 225.01388689953774,
        "y": 343.0387840032821
       },
       "selectable": false
      }
     },
     "e62e299e895a4331aa7a51d15c828e9d": {
      "model_module": "jupyter-cytoscape",
      "model_module_version": "^1.3.3",
      "model_name": "GraphModel",
      "state": {
       "_adj": {},
       "_model_module_version": "^1.3.3",
       "_view_module": "jupyter-cytoscape",
       "_view_module_version": "^1.3.3"
      }
     },
     "e6b3d793892b4224bb09dd6037958609": {
      "model_module": "jupyter-cytoscape",
      "model_module_version": "^1.3.3",
      "model_name": "NodeModel",
      "state": {
       "_model_module_version": "^1.3.3",
       "_view_module_version": "^1.3.3",
       "data": {
        "id": "2"
       },
       "grabbable": true,
       "grabbed": false,
       "position": {
        "x": 658.2142879285713,
        "y": 196.1811481178723
       },
       "selectable": false
      }
     },
     "e7d2e336174f44aab3e4b5677b3d6a8f": {
      "model_module": "jupyter-cytoscape",
      "model_module_version": "^1.3.3",
      "model_name": "EdgeModel",
      "state": {
       "_model_module_version": "^1.3.3",
       "_view_module_version": "^1.3.3",
       "data": {
        "_igraph_index": 29,
        "id": "ed2e9946-d377-4c52-ae6f-44bcb892b8f8",
        "source": "2175196",
        "target": "2197854",
        "type": "EXPRESSES_AeG"
       },
       "selectable": false
      }
     },
     "e7f44f04de024604be1a4b06dac2b08f": {
      "model_module": "jupyter-cytoscape",
      "model_module_version": "^1.3.3",
      "model_name": "EdgeModel",
      "state": {
       "_model_module_version": "^1.3.3",
       "_view_module_version": "^1.3.3",
       "data": {
        "_igraph_index": 4,
        "id": "679dd931-c5f1-41ff-9a6b-0489ca987c33",
        "source": "42316",
        "target": "2193539",
        "type": "UPREGULATES_CuG"
       },
       "selectable": false
      }
     },
     "e9ad82f588fa4306bedaef880db78f43": {
      "model_module": "jupyter-cytoscape",
      "model_module_version": "^1.3.3",
      "model_name": "NodeModel",
      "state": {
       "_model_module_version": "^1.3.3",
       "_view_module_version": "^1.3.3",
       "data": {
        "id": "NCBIGene::2624"
       },
       "grabbable": true,
       "grabbed": false,
       "selectable": false
      }
     },
     "e9c7a27d1bf54d37b2dd1a01a5b5ede0": {
      "model_module": "jupyter-cytoscape",
      "model_module_version": "^1.3.3",
      "model_name": "NodeModel",
      "state": {
       "_model_module_version": "^1.3.3",
       "_view_module_version": "^1.3.3",
       "data": {
        "_igraph_index": 2,
        "category": "Gene",
        "feature_name": "NFKB2",
        "id": "NCBIGene::4791",
        "id_prefix": "NCBIGene",
        "in_query": 1,
        "name": "NCBIGene::4791"
       },
       "grabbable": true,
       "grabbed": false,
       "selectable": false
      }
     },
     "ea3ce4435c404e8f9ffebf4551720291": {
      "model_module": "jupyter-cytoscape",
      "model_module_version": "^1.3.3",
      "model_name": "CytoscapeModel",
      "state": {
       "_interaction_handlers": {},
       "_model_module_version": "^1.3.3",
       "_view_module_version": "^1.3.3",
       "auto_ungrabify": false,
       "autolock": false,
       "cytoscape_layout": {
        "edgeLengthVal": 50,
        "name": "cola",
        "nodeSpacing": 80,
        "title": "high_proteins"
       },
       "cytoscape_style": [
        {
         "selector": "node[feature_name]",
         "style": {
          "font-family": "helvetica",
          "font-size": "20px",
          "label": "data(feature_name)"
         }
        },
        {
         "selector": "node[category=\"Protein\"]",
         "style": {
          "background-color": "blue"
         }
        },
        {
         "selector": "node[in_query=1]",
         "style": {
          "border-color": "red",
          "border-width": "5px"
         }
        },
        {
         "selector": "edge[type]",
         "style": {
          "label": "data(type)"
         }
        },
        {
         "selector": "edge.directed",
         "style": {
          "curve-style": "bezier",
          "target-arrow-shape": "triangle"
         }
        }
       ],
       "desktop_tap_threshold": 4,
       "graph": "IPY_MODEL_34121a5195564391acde6f6a4e63b95a",
       "headless": false,
       "hide_edges_on_viewport": false,
       "layout": "IPY_MODEL_6b9e295aae3a4c0c8aa1d2b0dd347477",
       "max_zoom": 1e+50,
       "min_zoom": 1e-50,
       "motion_blur": false,
       "motion_blur_opacity": 0.2,
       "panning_enabled": true,
       "pixel_ratio": "auto",
       "rendered_position": {
        "renderedPosition": {
         "x": 100,
         "y": 100
        }
       },
       "selection_type": "single",
       "style_enabled": true,
       "texture_on_viewport": false,
       "tooltip_source": "feature_name",
       "touch_tap_threshold": 8,
       "user_panning_enabled": true,
       "user_zooming_enabled": true,
       "wheel_sensitivity": 1,
       "zoom": 2,
       "zooming_enabled": true
      }
     },
     "ea91890475684fcb81a931dea71ed3de": {
      "model_module": "jupyter-cytoscape",
      "model_module_version": "^1.3.3",
      "model_name": "NodeModel",
      "state": {
       "_model_module_version": "^1.3.3",
       "_view_module_version": "^1.3.3",
       "data": {
        "id": "REACT::R-HSA-168249"
       },
       "grabbable": true,
       "grabbed": false,
       "position": {
        "x": 667.4606648671398,
        "y": 333.3031176599656
       },
       "selectable": false
      }
     },
     "eb34f52b84d8453e8f30f898479bab55": {
      "model_module": "jupyter-cytoscape",
      "model_module_version": "^1.3.3",
      "model_name": "EdgeModel",
      "state": {
       "_model_module_version": "^1.3.3",
       "_view_module_version": "^1.3.3",
       "data": {
        "Knowledge_Source": "Reactome",
        "Primary_Knowledge_Source": "R-HSA-168249",
        "_igraph_index": 3,
        "id": "a0d1a431-accc-42fc-bef0-7b043500439d",
        "predicate": "participates_in",
        "publications": "PMID:34788843",
        "source": "NCBIGene::4791",
        "target": "REACT::R-HSA-168249"
       },
       "selectable": false
      }
     },
     "eb379b78302c445a862a19e7205f2868": {
      "model_module": "jupyter-cytoscape",
      "model_module_version": "^1.3.3",
      "model_name": "NodeModel",
      "state": {
       "_model_module_version": "^1.3.3",
       "_view_module_version": "^1.3.3",
       "data": {
        "_igraph_index": 1,
        "category": "Gene",
        "feature_name": "BCL2",
        "id": "NCBIGene::596.0",
        "id_prefix": "NCBIGene",
        "in_query": 1,
        "name": "NCBIGene::596.0"
       },
       "grabbable": true,
       "grabbed": false,
       "position": {
        "x": 397.792918188195,
        "y": 51.624649846104006
       },
       "selectable": false
      }
     },
     "eb936dc9d4d24ad587677880abda2f17": {
      "model_module": "jupyter-cytoscape",
      "model_module_version": "^1.3.3",
      "model_name": "GraphModel",
      "state": {
       "_adj": {
        "10577": {},
        "2624": {},
        "4791": {},
        "596.0": {},
        "7157": {},
        "NCBIGene::10577": {},
        "NCBIGene::2624": {
         "REACT::R-HSA-109582": 1
        },
        "NCBIGene::4791": {
         "REACT::R-HSA-168249": 1
        },
        "NCBIGene::596.0": {
         "NCBIGene::7157": 1
        },
        "NCBIGene::7157": {
         "NCBIGene::596.0": 1,
         "REACT::R-HSA-109582": 1,
         "REACT::R-HSA-168249": 1
        },
        "R-HSA-109582": {},
        "R-HSA-168249": {},
        "REACT::R-HSA-109582": {
         "NCBIGene::2624": 1,
         "NCBIGene::7157": 1
        },
        "REACT::R-HSA-168249": {
         "NCBIGene::4791": 1,
         "NCBIGene::7157": 1
        }
       },
       "_model_module_version": "^1.3.3",
       "_view_module": "jupyter-cytoscape",
       "_view_module_version": "^1.3.3",
       "edges": [
        "IPY_MODEL_6955932aacbe41b99eaf33e9be848423",
        "IPY_MODEL_09657264f8be408484edeefb9a4e2491",
        "IPY_MODEL_5e4cfbfe1765479e885284230ba8afef",
        "IPY_MODEL_4d98c269a6f040cfa1cbd0ac22ad2b6c",
        "IPY_MODEL_f1f8922b5bc44ff190abec9b06807f18",
        "IPY_MODEL_acf8be0de5384b59bc5a98ecaac44284"
       ],
       "nodes": [
        "IPY_MODEL_ae760668c39c48b9b5c03ca3456db9ce",
        "IPY_MODEL_a0e138e722d44d7c98683648a0888585",
        "IPY_MODEL_f565b902b6f2462499245da85263df32",
        "IPY_MODEL_d5fe6c81bde246c0bf339989a46ba7c5",
        "IPY_MODEL_c75e423bf9fa44bc86f9dd8ce4fb80ed",
        "IPY_MODEL_745a301529634d4bae5dc6114e1dd4ab",
        "IPY_MODEL_945541ff747346b68f4be26bbb8fa889",
        "IPY_MODEL_8fe719e257ba4704afa1107e773b9d69",
        "IPY_MODEL_60944f4d745e4ce8b688dd604746c6b3",
        "IPY_MODEL_fe846f00d5b949868f59986e1ff78a18",
        "IPY_MODEL_5434577decbe48238917f2335d7a1d72",
        "IPY_MODEL_d0571bd102cc41aa9c17925c9742d391",
        "IPY_MODEL_1e2212ecc4e7452a9208cf18d6a6a3dc",
        "IPY_MODEL_be8c2d60f6824e398ffc5df9881bf1b3"
       ]
      }
     },
     "ebca7f48e1c14241b9d9283c7f10bd11": {
      "model_module": "jupyter-cytoscape",
      "model_module_version": "^1.3.3",
      "model_name": "EdgeModel",
      "state": {
       "_model_module_version": "^1.3.3",
       "_view_module_version": "^1.3.3",
       "data": {
        "Knowledge_Source": "Reactome",
        "Primary_Knowledge_Source": "R-HSA-168249",
        "_igraph_index": 2,
        "predicate": "participates_in",
        "publications": "PMID:34788843",
        "source": "NCBIGene::7157",
        "target": "REACT::R-HSA-168249"
       },
       "selectable": false
      }
     },
     "eca059ecc4bb4bb69b9e21a46a4908c7": {
      "model_module": "jupyter-cytoscape",
      "model_module_version": "^1.3.3",
      "model_name": "NodeModel",
      "state": {
       "_model_module_version": "^1.3.3",
       "_view_module_version": "^1.3.3",
       "data": {
        "_igraph_index": 6,
        "category": "Gene",
        "feature_name": "RELB",
        "id": "NCBIGene::5971",
        "id_prefix": "NCBIGene",
        "in_query": 1,
        "name": "NCBIGene::5971"
       },
       "grabbable": true,
       "grabbed": false,
       "position": {
        "x": 128.5548995705522,
        "y": 545.6476353562597
       },
       "selectable": false
      }
     },
     "ece2c50315b541358fd07685535b314f": {
      "model_module": "jupyter-cytoscape",
      "model_module_version": "^1.3.3",
      "model_name": "NodeModel",
      "state": {
       "_model_module_version": "^1.3.3",
       "_view_module_version": "^1.3.3",
       "data": {
        "_igraph_index": 4,
        "category": "Pathway",
        "feature_name": "Innate Immune System",
        "id": "R-HSA-168249",
        "id_prefix": "REACT",
        "in_query": 0,
        "name": "REACT::R-HSA-168249"
       },
       "grabbable": true,
       "grabbed": false,
       "position": {
        "x": 65.1953995404413,
        "y": 405
       },
       "selectable": false
      }
     },
     "ecebd6be6a7f4de381eea6b466c5bf39": {
      "model_module": "jupyter-cytoscape",
      "model_module_version": "^1.3.3",
      "model_name": "EdgeModel",
      "state": {
       "_model_module_version": "^1.3.3",
       "_view_module_version": "^1.3.3",
       "data": {
        "Knowledge_Source": "Reactome",
        "Primary_Knowledge_Source": "R-HSA-109582",
        "_igraph_index": 5,
        "id": "effe546c-cd27-40cc-ac6e-0c2df3bc4857",
        "predicate": "participates_in",
        "publications": "PMID:34788843",
        "source": "REACT::R-HSA-109582",
        "target": "NCBIGene::2624"
       },
       "selectable": false
      }
     },
     "ed7d06b9712e49949f1221d2354d8a27": {
      "model_module": "jupyter-cytoscape",
      "model_module_version": "^1.3.3",
      "model_name": "NodeModel",
      "state": {
       "_model_module_version": "^1.3.3",
       "_view_module_version": "^1.3.3",
       "data": {
        "_igraph_index": 4,
        "category": "Pathway",
        "feature_name": "Innate Immune System",
        "id": "R-HSA-168249",
        "id_prefix": "REACT",
        "in_query": 0,
        "name": "REACT::R-HSA-168249"
       },
       "grabbable": true,
       "grabbed": false,
       "position": {
        "x": 564.9999985,
        "y": 558.3776266464896
       },
       "selectable": false
      }
     },
     "ef8535e7c7e14007a033bd00b29cf852": {
      "model_module": "jupyter-cytoscape",
      "model_module_version": "^1.3.3",
      "model_name": "EdgeModel",
      "state": {
       "_model_module_version": "^1.3.3",
       "_view_module_version": "^1.3.3",
       "data": {
        "Knowledge_Source": "Reactome",
        "Primary_Knowledge_Source": "R-HSA-109582",
        "_igraph_index": 1,
        "id": "1fc68484-aa16-485e-b567-9326838f8a7d",
        "predicate": "reactome_participates_in",
        "publications": "PMID:34788843",
        "source": "NCBIGene::7157",
        "target": "REACT::R-HSA-109582"
       },
       "selectable": false
      }
     },
     "f08a491161524d719829e08c0d376a85": {
      "model_module": "jupyter-cytoscape",
      "model_module_version": "^1.3.3",
      "model_name": "NodeModel",
      "state": {
       "_model_module_version": "^1.3.3",
       "_view_module_version": "^1.3.3",
       "data": {
        "_igraph_index": 8,
        "category": "Gene",
        "feature_name": "BECN1",
        "id": "NCBIGene::8678",
        "id_prefix": "NCBIGene",
        "in_query": 1,
        "name": "NCBIGene::8678"
       },
       "grabbable": true,
       "grabbed": false,
       "position": {
        "x": 416.46297074877356,
        "y": -301.53004029990456
       },
       "selectable": false
      }
     },
     "f0bc3a8334ad439cb9c28ccaed426b04": {
      "model_module": "jupyter-cytoscape",
      "model_module_version": "^1.3.3",
      "model_name": "EdgeModel",
      "state": {
       "_model_module_version": "^1.3.3",
       "_view_module_version": "^1.3.3",
       "data": {
        "Knowledge_Source": "Reactome",
        "Primary_Knowledge_Source": "R-HSA-109582",
        "_igraph_index": 5,
        "id": "e2666dac-1f43-44f8-8521-d2517bfbcf40",
        "predicate": "participates_in",
        "publications": "PMID:34788843",
        "source": "REACT::R-HSA-109582",
        "target": "NCBIGene::2624"
       },
       "selectable": false
      }
     },
     "f1a6db2d6d3449298541842d86421215": {
      "model_module": "@jupyter-widgets/base",
      "model_module_version": "2.0.0",
      "model_name": "LayoutModel",
      "state": {}
     },
     "f1e6e2b91a924c639bb1dc93327539d1": {
      "model_module": "jupyter-cytoscape",
      "model_module_version": "^1.3.3",
      "model_name": "NodeModel",
      "state": {
       "_model_module_version": "^1.3.3",
       "_view_module_version": "^1.3.3",
       "data": {
        "_igraph_index": 10,
        "category": "Pathway",
        "feature_name": "Immune System",
        "id": "REACT::R-HSA-168256",
        "id_prefix": "REACT",
        "in_query": 0,
        "name": "REACT::R-HSA-168256"
       },
       "grabbable": true,
       "grabbed": false,
       "position": {
        "x": 134.74278638169264,
        "y": 138.23158943553557
       },
       "selectable": false
      }
     },
     "f1f8922b5bc44ff190abec9b06807f18": {
      "model_module": "jupyter-cytoscape",
      "model_module_version": "^1.3.3",
      "model_name": "EdgeModel",
      "state": {
       "_model_module_version": "^1.3.3",
       "_view_module_version": "^1.3.3",
       "data": {
        "Knowledge_Source": "Reactome",
        "Primary_Knowledge_Source": "R-HSA-109582",
        "_igraph_index": 5,
        "id": "d1e137f7-f791-40f5-b493-ecff8ad4135e",
        "predicate": "reactome_participates_in",
        "publications": "PMID:34788843",
        "source": "REACT::R-HSA-109582",
        "target": "NCBIGene::2624"
       },
       "selectable": false
      }
     },
     "f2b76c84157f491989eb5bcaf54cba47": {
      "model_module": "jupyter-cytoscape",
      "model_module_version": "^1.3.3",
      "model_name": "NodeModel",
      "state": {
       "_model_module_version": "^1.3.3",
       "_view_module_version": "^1.3.3",
       "data": {
        "id": "NCBIGene::2308.0"
       },
       "grabbable": true,
       "grabbed": false,
       "position": {
        "x": 0,
        "y": 0
       },
       "selectable": false
      }
     },
     "f52697524aaa46279384dfae6a671f23": {
      "model_module": "jupyter-cytoscape",
      "model_module_version": "^1.3.3",
      "model_name": "EdgeModel",
      "state": {
       "_model_module_version": "^1.3.3",
       "_view_module_version": "^1.3.3",
       "classes": " multiple_edges ",
       "data": {
        "Knowledge_Source": "Reactome",
        "Primary_Knowledge_Source": "R-HSA-162582",
        "_igraph_index": 18,
        "id": "8295193d-b898-4a12-808e-b0954d2c12ad",
        "predicate": "reactome_participates_in",
        "publications": "PMID:34788843",
        "source": "NCBIGene::51176",
        "target": "REACT::R-HSA-162582"
       },
       "selectable": false
      }
     },
     "f53aaa729887400790a4b7de462f79c7": {
      "model_module": "jupyter-cytoscape",
      "model_module_version": "^1.3.3",
      "model_name": "NodeModel",
      "state": {
       "_model_module_version": "^1.3.3",
       "_view_module_version": "^1.3.3",
       "data": {
        "id": "NCBIGene::2624"
       },
       "grabbable": true,
       "grabbed": false,
       "position": {
        "x": 763.7708455036635,
        "y": 57.297667512713694
       },
       "selectable": false
      }
     },
     "f549401f06f542658a99fa64a23a4eca": {
      "model_module": "jupyter-cytoscape",
      "model_module_version": "^1.3.3",
      "model_name": "NodeModel",
      "state": {
       "_model_module_version": "^1.3.3",
       "_view_module_version": "^1.3.3",
       "data": {
        "id": "REACT::R-HSA-109582"
       },
       "grabbable": true,
       "grabbed": false,
       "position": {
        "x": 0,
        "y": 0
       },
       "selectable": false
      }
     },
     "f565b902b6f2462499245da85263df32": {
      "model_module": "jupyter-cytoscape",
      "model_module_version": "^1.3.3",
      "model_name": "NodeModel",
      "state": {
       "_model_module_version": "^1.3.3",
       "_view_module_version": "^1.3.3",
       "data": {
        "_igraph_index": 2,
        "category": "Gene",
        "feature_name": "NFKB2",
        "id": "NCBIGene::4791",
        "id_prefix": "NCBIGene",
        "in_query": 1,
        "name": "NCBIGene::4791"
       },
       "grabbable": true,
       "grabbed": false,
       "position": {
        "x": 215.71428400000013,
        "y": 301.5638812807506
       },
       "selectable": false
      }
     },
     "f57099a41b404213b2a78055d5c47964": {
      "model_module": "jupyter-cytoscape",
      "model_module_version": "^1.3.3",
      "model_name": "EdgeModel",
      "state": {
       "_model_module_version": "^1.3.3",
       "_view_module_version": "^1.3.3",
       "classes": " multiple_edges ",
       "data": {
        "Knowledge_Source": "Reactome",
        "Primary_Knowledge_Source": "R-HSA-168256",
        "_igraph_index": 3,
        "id": "efb2d9a6-dea6-41ad-a233-114fe1031c8e",
        "predicate": "reactome_participates_in",
        "publications": "PMID:34788843",
        "source": "NCBIGene::595",
        "target": "REACT::R-HSA-168256"
       },
       "selectable": false
      }
     },
     "f5dbcc1128034ce8936842ef75c5c576": {
      "model_module": "jupyter-cytoscape",
      "model_module_version": "^1.3.3",
      "model_name": "NodeModel",
      "state": {
       "_model_module_version": "^1.3.3",
       "_view_module_version": "^1.3.3",
       "data": {
        "id": "NCBIGene::596.0"
       },
       "grabbable": true,
       "grabbed": false,
       "position": {
        "x": 205.76882648006165,
        "y": -124.9151018179785
       },
       "selectable": false
      }
     },
     "f6cb83bc05aa4ba795f6a493792b9573": {
      "model_module": "jupyter-cytoscape",
      "model_module_version": "^1.3.3",
      "model_name": "GraphModel",
      "state": {
       "_adj": {},
       "_model_module_version": "^1.3.3",
       "_view_module": "jupyter-cytoscape",
       "_view_module_version": "^1.3.3"
      }
     },
     "f75b05f6f75c44e6836887181e9a2ce7": {
      "model_module": "jupyter-cytoscape",
      "model_module_version": "^1.3.3",
      "model_name": "NodeModel",
      "state": {
       "_model_module_version": "^1.3.3",
       "_view_module_version": "^1.3.3",
       "data": {
        "id": "REACT::R-HSA-168249"
       },
       "grabbable": true,
       "grabbed": false,
       "position": {
        "x": 573.7708445036634,
        "y": 170.42774339544897
       },
       "selectable": false
      }
     },
     "f7adb7c3484642fc985a835134d15bac": {
      "model_module": "jupyter-cytoscape",
      "model_module_version": "^1.3.3",
      "model_name": "EdgeModel",
      "state": {
       "_model_module_version": "^1.3.3",
       "_view_module_version": "^1.3.3",
       "classes": " multiple_edges ",
       "data": {
        "Knowledge_Source": "Reactome",
        "Primary_Knowledge_Source": "R-HSA-212436",
        "_igraph_index": 26,
        "id": "c2654a46-410b-4a74-b04a-a115ca95da93",
        "predicate": "reactome_participates_in",
        "publications": "PMID:34788843",
        "source": "NCBIGene::3280",
        "target": "REACT::R-HSA-212436"
       },
       "selectable": false
      }
     },
     "f8a9ac00c68248f896af1ab8b41036b1": {
      "model_module": "jupyter-cytoscape",
      "model_module_version": "^1.3.3",
      "model_name": "EdgeModel",
      "state": {
       "_model_module_version": "^1.3.3",
       "_view_module_version": "^1.3.3",
       "data": {
        "_igraph_index": 33,
        "id": "f26baa5f-13b1-49d8-aa93-98e88f81779b",
        "source": "2175196",
        "target": "2198485",
        "type": "EXPRESSES_AeG"
       },
       "selectable": false
      }
     },
     "f8b9a34f3ae64af684481ec83b13019d": {
      "model_module": "jupyter-cytoscape",
      "model_module_version": "^1.3.3",
      "model_name": "EdgeModel",
      "state": {
       "_model_module_version": "^1.3.3",
       "_view_module_version": "^1.3.3",
       "data": {
        "_igraph_index": 15,
        "id": "7b41b630-e2d9-4e46-8c8e-463f0d7db580",
        "source": "2194083",
        "target": "2175051",
        "type": "UPREGULATES_KGuG"
       },
       "selectable": false
      }
     },
     "f9b8894616344c7887b0a6a8911f80ce": {
      "model_module": "jupyter-cytoscape",
      "model_module_version": "^1.3.3",
      "model_name": "NodeModel",
      "state": {
       "_model_module_version": "^1.3.3",
       "_view_module_version": "^1.3.3",
       "data": {
        "_igraph_index": 5,
        "category": "Gene",
        "feature_name": "NPC2",
        "id": "NCBIGene::10577",
        "id_prefix": "NCBIGene",
        "in_query": 1,
        "name": "NCBIGene::10577"
       },
       "grabbable": true,
       "grabbed": false,
       "selectable": false
      }
     },
     "f9b94d6a6f6745cfa8f509e1950af216": {
      "model_module": "jupyter-cytoscape",
      "model_module_version": "^1.3.3",
      "model_name": "NodeModel",
      "state": {
       "_model_module_version": "^1.3.3",
       "_view_module_version": "^1.3.3",
       "data": {
        "id": "REACT::R-HSA-109582"
       },
       "grabbable": true,
       "grabbed": false,
       "position": {
        "x": 193.7708425036635,
        "y": 65.08489918202152
       },
       "selectable": false
      }
     },
     "f9c1a27cc40344ecb4f7d19a759944bb": {
      "model_module": "jupyter-cytoscape",
      "model_module_version": "^1.3.3",
      "model_name": "GraphModel",
      "state": {
       "_adj": {},
       "_model_module_version": "^1.3.3",
       "_view_module": "jupyter-cytoscape",
       "_view_module_version": "^1.3.3"
      }
     },
     "f9f0f89b1e1f427ba36bb0ad0e7399d2": {
      "model_module": "jupyter-cytoscape",
      "model_module_version": "^1.3.3",
      "model_name": "NodeModel",
      "state": {
       "_model_module_version": "^1.3.3",
       "_view_module_version": "^1.3.3",
       "data": {
        "id": "NCBIGene::4791"
       },
       "grabbable": true,
       "grabbed": false,
       "selectable": false
      }
     },
     "fb9e3465db1841ff8619fe429f343e0d": {
      "model_module": "jupyter-cytoscape",
      "model_module_version": "^1.3.3",
      "model_name": "EdgeModel",
      "state": {
       "_model_module_version": "^1.3.3",
       "_view_module_version": "^1.3.3",
       "data": {
        "Knowledge_Source": "Multiomics-BigGIM-DrugResponse",
        "Primary_Knowledge_Source": "hsa04071",
        "_igraph_index": 0,
        "id": "b444f89a-b392-4e86-8950-6a3ec3a19352",
        "predicate": "binding/association",
        "publications": "PMID:27899662",
        "source": "NCBIGene::7157",
        "target": "NCBIGene::596.0"
       },
       "selectable": false
      }
     },
     "fc5b1593cc1b4a58804c8c6f942a64f3": {
      "model_module": "jupyter-cytoscape",
      "model_module_version": "^1.3.3",
      "model_name": "GraphModel",
      "state": {
       "_adj": {
        "10577": {},
        "2624": {},
        "4791": {},
        "596.0": {},
        "7157": {},
        "NCBIGene::10577": {},
        "NCBIGene::2624": {
         "REACT::R-HSA-109582": 1
        },
        "NCBIGene::4791": {
         "REACT::R-HSA-168249": 1
        },
        "NCBIGene::596.0": {
         "NCBIGene::7157": 1
        },
        "NCBIGene::7157": {
         "NCBIGene::596.0": 1,
         "REACT::R-HSA-109582": 1,
         "REACT::R-HSA-168249": 1
        },
        "R-HSA-109582": {},
        "R-HSA-168249": {},
        "REACT::R-HSA-109582": {
         "NCBIGene::2624": 1,
         "NCBIGene::7157": 1
        },
        "REACT::R-HSA-168249": {
         "NCBIGene::4791": 1,
         "NCBIGene::7157": 1
        }
       },
       "_model_module_version": "^1.3.3",
       "_view_module": "jupyter-cytoscape",
       "_view_module_version": "^1.3.3",
       "edges": [
        "IPY_MODEL_06196f1deb9947db8add2fc679681ffc",
        "IPY_MODEL_0122e7026bd6428ebb6c1799fa340afb",
        "IPY_MODEL_c59ee9c817ec4f258fecdb89f35558b1",
        "IPY_MODEL_eb34f52b84d8453e8f30f898479bab55",
        "IPY_MODEL_e0f755193e2444d4be6a72be791871e2",
        "IPY_MODEL_e0514e987ad944bc89e2f6baa4aa5a32"
       ],
       "nodes": [
        "IPY_MODEL_c366cb7303b94dbeaf3124f604cdff6f",
        "IPY_MODEL_81cda1b94cbb43f583442bccf690a290",
        "IPY_MODEL_d6dbd2f1681e4c4ea7738bfcb57b6517",
        "IPY_MODEL_ca4794c5107f425db2b209ddba4d7f1e",
        "IPY_MODEL_ed7d06b9712e49949f1221d2354d8a27",
        "IPY_MODEL_79b583232478408e9a2d1b874811e903",
        "IPY_MODEL_255559d552f743c3a4195a0fb0d6b9b5",
        "IPY_MODEL_ae14b69dc3844c55b971e98df9dc3fb6",
        "IPY_MODEL_f5dbcc1128034ce8936842ef75c5c576",
        "IPY_MODEL_f9b94d6a6f6745cfa8f509e1950af216",
        "IPY_MODEL_f75b05f6f75c44e6836887181e9a2ce7",
        "IPY_MODEL_b68b9f8c4fcc4d0f8cb904498873de9f",
        "IPY_MODEL_f53aaa729887400790a4b7de462f79c7",
        "IPY_MODEL_384124340833445a9bc8fab0e2eeb54d"
       ]
      }
     },
     "fca5b24f09014c42a2ea5ad6bbf2082d": {
      "model_module": "jupyter-cytoscape",
      "model_module_version": "^1.3.3",
      "model_name": "NodeModel",
      "state": {
       "_model_module_version": "^1.3.3",
       "_view_module_version": "^1.3.3",
       "data": {
        "_igraph_index": 20,
        "category": "Gene",
        "feature_name": "SF3B2",
        "id": "2198485",
        "identifier": 10992,
        "in_query": 1,
        "name": "2198485",
        "source": "Entrez Gene"
       },
       "grabbable": true,
       "grabbed": false,
       "position": {
        "x": 1011.0021389576235,
        "y": 41.861245847354446
       },
       "selectable": false
      }
     },
     "fda0541ff4ab413db2dc1fee7d0dc622": {
      "model_module": "jupyter-cytoscape",
      "model_module_version": "^1.3.3",
      "model_name": "EdgeModel",
      "state": {
       "_model_module_version": "^1.3.3",
       "_view_module_version": "^1.3.3",
       "data": {
        "_igraph_index": 34,
        "id": "39e32cdf-d885-4996-9480-a16f51be3fd1",
        "source": "2198515",
        "target": "2175051",
        "type": "UPREGULATES_KGuG"
       },
       "selectable": false
      }
     },
     "fe11d77bcd3b436dab40908c8c06a5d5": {
      "model_module": "jupyter-cytoscape",
      "model_module_version": "^1.3.3",
      "model_name": "NodeModel",
      "state": {
       "_model_module_version": "^1.3.3",
       "_view_module_version": "^1.3.3",
       "data": {
        "_igraph_index": 6,
        "category": "Gene",
        "feature_name": "GATA2",
        "id": "NCBIGene::2624",
        "id_prefix": "NCBIGene",
        "in_query": 1,
        "name": "NCBIGene::2624"
       },
       "grabbable": true,
       "grabbed": false,
       "selectable": false
      }
     },
     "fe846f00d5b949868f59986e1ff78a18": {
      "model_module": "jupyter-cytoscape",
      "model_module_version": "^1.3.3",
      "model_name": "NodeModel",
      "state": {
       "_model_module_version": "^1.3.3",
       "_view_module_version": "^1.3.3",
       "data": {
        "id": "REACT::R-HSA-109582"
       },
       "grabbable": true,
       "grabbed": false,
       "position": {
        "x": 0,
        "y": 0
       },
       "selectable": false
      }
     },
     "ffffca98b49043a98dd92625b285250b": {
      "model_module": "jupyter-cytoscape",
      "model_module_version": "^1.3.3",
      "model_name": "EdgeModel",
      "state": {
       "_model_module_version": "^1.3.3",
       "_view_module_version": "^1.3.3",
       "classes": " multiple_edges ",
       "data": {
        "Knowledge_Source": "Multiomics-BigGIM-DrugResponse",
        "Primary_Knowledge_Source": "hsa04330",
        "_igraph_index": 1,
        "id": "5737907d-1d2b-42d1-86e7-3718f85f1bf0",
        "predicate": "kegg_expression",
        "publications": "PMID:27899662",
        "source": "NCBIGene::3280",
        "target": "NCBIGene::3516.0"
       },
       "selectable": false
      }
     }
    },
    "version_major": 2,
    "version_minor": 0
   }
  }
 },
 "nbformat": 4,
 "nbformat_minor": 5
}
