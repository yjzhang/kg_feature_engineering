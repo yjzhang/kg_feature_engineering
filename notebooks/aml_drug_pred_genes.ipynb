{
 "cells": [
  {
   "cell_type": "code",
   "execution_count": 1,
   "id": "774d56b7-abf2-492e-b376-02e710be5f9e",
   "metadata": {},
   "outputs": [],
   "source": [
    "# imports\n",
    "import numpy as np\n",
    "import pandas as pd\n",
    "import networkx as nx\n",
    "import kgfe"
   ]
  },
  {
   "cell_type": "code",
   "execution_count": 2,
   "id": "7e703e40-889f-4b48-96b7-3ab822750217",
   "metadata": {},
   "outputs": [],
   "source": [
    "from kgfe import gene_names"
   ]
  },
  {
   "cell_type": "code",
   "execution_count": 3,
   "id": "b3296933-033c-48fd-bbbb-74b6c8c2f788",
   "metadata": {},
   "outputs": [],
   "source": [
    "import igraph as ig"
   ]
  },
  {
   "cell_type": "markdown",
   "id": "088065dd-afac-4683-9ba8-6a186ea6de25",
   "metadata": {
    "tags": []
   },
   "source": [
    "## Load SPOKE"
   ]
  },
  {
   "cell_type": "code",
   "execution_count": 4,
   "id": "35bf5f4d-248e-463d-a001-e5264d50884c",
   "metadata": {},
   "outputs": [],
   "source": [
    "spoke_graph = kgfe.spoke_loader.load_spoke_igraph('../../graph_utils/spoke_2021.jsonl.gz', directed=True,\n",
    "                                                    verbose=False)"
   ]
  },
  {
   "cell_type": "code",
   "execution_count": 5,
   "id": "fa691d6b-f144-41b8-a019-364e25106824",
   "metadata": {},
   "outputs": [
    {
     "data": {
      "text/plain": [
       "11026"
      ]
     },
     "execution_count": 5,
     "metadata": {},
     "output_type": "execute_result"
    }
   ],
   "source": [
    "gene_names.get_id('LILRA3')"
   ]
  },
  {
   "cell_type": "code",
   "execution_count": 6,
   "id": "410cffa2-28db-414f-9467-8701b984cd4a",
   "metadata": {},
   "outputs": [],
   "source": [
    "spoke_graph_ud = spoke_graph.copy()\n",
    "spoke_graph_ud.to_undirected(combine_edges='first')\n",
    "spoke_graph_ud.simplify(combine_edges='first')\n",
    "spoke_graph_ud = kgfe.graph_info.largest_component(spoke_graph_ud)"
   ]
  },
  {
   "cell_type": "code",
   "execution_count": 7,
   "id": "f979167e-a3e3-4a6f-bdda-2f2b75ba7dd0",
   "metadata": {},
   "outputs": [],
   "source": [
    "genes_to_ids = kgfe.graph_info.spoke_identifiers_to_ids(spoke_graph_ud, 'Gene')"
   ]
  },
  {
   "cell_type": "code",
   "execution_count": 8,
   "id": "11f76f67-1485-43e7-a626-ba1fa4476840",
   "metadata": {},
   "outputs": [],
   "source": [
    "disease_to_ids = kgfe.graph_info.spoke_identifiers_to_ids(spoke_graph_ud, 'Disease')"
   ]
  },
  {
   "cell_type": "code",
   "execution_count": 9,
   "id": "4757923c-695f-459c-b137-907522105674",
   "metadata": {},
   "outputs": [
    {
     "data": {
      "text/plain": [
       "'2166630'"
      ]
     },
     "execution_count": 9,
     "metadata": {},
     "output_type": "execute_result"
    }
   ],
   "source": [
    "disease_to_ids['DOID:9119']"
   ]
  },
  {
   "cell_type": "markdown",
   "id": "e6685775-eb61-4e28-a489-8b35733a9304",
   "metadata": {},
   "source": [
    "## List of Venetoclax genes"
   ]
  },
  {
   "cell_type": "code",
   "execution_count": 10,
   "id": "fbfe4acd-056f-45c3-a36d-e28e52b6619b",
   "metadata": {},
   "outputs": [],
   "source": [
    "genes_small = 'BCL2, NFKB2, GATA2, NPC2'.split(', ')\n",
    "gene_ncbi_ids = gene_names.get_ids(genes_small)"
   ]
  },
  {
   "cell_type": "code",
   "execution_count": 11,
   "id": "da15d1c6-3e35-42d4-9114-47deca041173",
   "metadata": {},
   "outputs": [],
   "source": [
    "genes_venetoclax = 'FGD4 MIR4519 NPC2 GATA2 CASC10 POU6F1 BCL2 BECN1 C1QA SF3B2 IGF2R DNAJC1 ECHDC3 MIR940 GDF11 RBPJ MTSS1 FNTA'\n",
    "genes_venetoclax += 'CTCF NFKB2 FGD4 RPS10 LILRB2 COX6A1 C1QA FOXO1 LILRA3 RELB GOLGA8J LEF1'\n",
    "\n",
    "genes_venetoclax = genes_venetoclax.split()\n",
    "genes_venetoclax_ncbi_ids = []\n",
    "for g in genes_venetoclax:\n",
    "    try:\n",
    "        genes_venetoclax_ncbi_ids.append(gene_names.get_id(g))\n",
    "    except:\n",
    "        pass"
   ]
  },
  {
   "cell_type": "code",
   "execution_count": 12,
   "id": "7695115a-b2a0-4ef4-9f1a-b24c543d7311",
   "metadata": {},
   "outputs": [],
   "source": [
    "genes_venetoclax_spoke_ids = [genes_to_ids[g] for g in genes_venetoclax_ncbi_ids if g in genes_to_ids] + ['2166630']"
   ]
  },
  {
   "cell_type": "code",
   "execution_count": 13,
   "id": "52c70917-b50b-4068-91d2-a679fbef88be",
   "metadata": {},
   "outputs": [
    {
     "name": "stdout",
     "output_type": "stream",
     "text": [
      "venetoclax genes: 29 spoke-venetoclax genes: 26\n"
     ]
    }
   ],
   "source": [
    "print('venetoclax genes:', len(genes_venetoclax), 'spoke-venetoclax genes:', len(genes_venetoclax_spoke_ids))"
   ]
  },
  {
   "cell_type": "code",
   "execution_count": 14,
   "id": "f94808ab-2e57-4c23-8165-eb9807447d2e",
   "metadata": {},
   "outputs": [],
   "source": [
    "gene_ids = [genes_to_ids[g] for g in gene_ncbi_ids] + ['2166630']"
   ]
  },
  {
   "cell_type": "markdown",
   "id": "3caafcdb-94ba-46c6-8b69-60a4c0dd725e",
   "metadata": {},
   "source": [
    "## Calculate null model stats for Venetoclax genes"
   ]
  },
  {
   "cell_type": "code",
   "execution_count": 15,
   "id": "bf5d63bd-5786-483f-957e-3369cf3ea70e",
   "metadata": {},
   "outputs": [],
   "source": [
    "venetoclax_genes = [genes_to_ids[g] for g in gene_ncbi_ids]"
   ]
  },
  {
   "cell_type": "code",
   "execution_count": 17,
   "id": "d2bf667b-5a46-493c-96e7-8a31a01624cd",
   "metadata": {},
   "outputs": [],
   "source": [
    "venetoclax_genes_stats = kgfe.explanations.graph_node_stats(spoke_graph_ud, list(set(venetoclax_genes)),\n",
    "                                                         target_nodes=['2166630'])"
   ]
  },
  {
   "cell_type": "code",
   "execution_count": 18,
   "id": "d8796ab1-61bc-49be-b4f6-113666d7ea1c",
   "metadata": {},
   "outputs": [],
   "source": [
    "venetoclax_genes_null_results = kgfe.explanations.null_graph_stats(spoke_graph_ud, 'Gene',\\\n",
    "                                                                 len(venetoclax_genes),\\\n",
    "                                                                 use_degree_sampling=True,\\\n",
    "                                                                 input_id_set=venetoclax_genes,\n",
    "                                                                 target_nodes=['2166630'])"
   ]
  },
  {
   "cell_type": "code",
   "execution_count": 22,
   "id": "625d1307-6627-485c-a1bc-431a95db7ef2",
   "metadata": {},
   "outputs": [],
   "source": [
    "venetoclax_genes_null_results = pd.DataFrame(venetoclax_genes_null_results)"
   ]
  },
  {
   "cell_type": "code",
   "execution_count": 23,
   "id": "2da3fd42-6df1-441c-b690-bee6665301e5",
   "metadata": {},
   "outputs": [],
   "source": [
    "import matplotlib.pyplot as plt"
   ]
  },
  {
   "cell_type": "code",
   "execution_count": 24,
   "id": "4b9e38dc-79c4-4e1e-aaa1-94bd4599d596",
   "metadata": {},
   "outputs": [
    {
     "data": {
      "text/plain": [
       "<matplotlib.legend.Legend at 0x7f9333173ee0>"
      ]
     },
     "execution_count": 24,
     "metadata": {},
     "output_type": "execute_result"
    },
    {
     "data": {
      "image/png": "[encoded data removed]",
      "text/plain": [
       "<Figure size 640x480 with 1 Axes>"
      ]
     },
     "metadata": {},
     "output_type": "display_data"
    }
   ],
   "source": [
    "plt.hist(venetoclax_genes_null_results.average_pairwise_distance, bins=10, label='random')\n",
    "plt.title('Average pairwise distance distribution for randomly sampled degree-matched proteins')\n",
    "plt.plot([venetoclax_genes_stats['average_pairwise_distance'], venetoclax_genes_stats['average_pairwise_distance']],\n",
    "         [0, 10], label='Venetoclax genes')\n",
    "plt.xlabel('Average pairwise distance between proteins in SPOKE (lower = more related)')\n",
    "plt.legend()"
   ]
  },
  {
   "cell_type": "markdown",
   "id": "1744b170-55fa-48d0-906d-4761623afe75",
   "metadata": {},
   "source": [
    "TODO: do this for proteins as well, do this for a reduced graph (spoke-2021-bio?)"
   ]
  },
  {
   "cell_type": "markdown",
   "id": "14de7f1f-871c-4fbc-b73d-aae0d75d80a5",
   "metadata": {},
   "source": [
    "## Get Steiner Tree for AML genes on SPOKE-2021"
   ]
  },
  {
   "cell_type": "code",
   "execution_count": 25,
   "id": "dca5af75-376a-4e62-a83d-9fb1bc3a1dd6",
   "metadata": {},
   "outputs": [],
   "source": [
    "gene_st, gene_subgraph = kgfe.explanations.steiner_tree_subgraph(spoke_graph_ud,\n",
    "                                                                    gene_ids,\n",
    "                                                                         method='takahashi')"
   ]
  },
  {
   "cell_type": "code",
   "execution_count": 26,
   "id": "9a57c5c3-e5e1-4df8-a7bb-d1c26854a8fb",
   "metadata": {},
   "outputs": [],
   "source": [
    "import ipycytoscape\n",
    "graph_style = [{\n",
    "                        'selector': 'node[feature_name]',\n",
    "                             'style': {\n",
    "                                  'font-family': 'helvetica',\n",
    "                                  'font-size': '20px',\n",
    "                                 'label': 'data(feature_name)',\n",
    "                        }},\n",
    "                        {'selector': 'node[category=\"Protein\"]',\n",
    "                         'style': {\n",
    "                             'background-color': 'blue',\n",
    "                         }},\n",
    "                        {'selector': 'node[in_query=1]',\n",
    "                         'style': {\n",
    "                             'border-width': '5px',\n",
    "                             'border-color': 'red',\n",
    "                         }},\n",
    "                        {'selector': 'edge[type]',\n",
    "                         'style': {\n",
    "                             'label': 'data(type)',\n",
    "                         }},\n",
    "                        {\"selector\": \"edge.directed\",\n",
    "                         \"style\": {\n",
    "                            \"curve-style\": \"bezier\",\n",
    "                            \"target-arrow-shape\": \"triangle\",\n",
    "                    }},\n",
    "\n",
    "                    ]"
   ]
  },
  {
   "cell_type": "code",
   "execution_count": 27,
   "id": "8f3a03d6-709e-4440-b3cf-92881dbc1007",
   "metadata": {
    "tags": []
   },
   "outputs": [],
   "source": [
    "undirected = ipycytoscape.CytoscapeWidget()\n",
    "gene_subgraph_nx = gene_subgraph.to_networkx()\n",
    "node_dict = {i: n['name'] for i, n in gene_subgraph_nx.nodes.items()}\n",
    "gene_subgraph_nx = nx.relabel_nodes(gene_subgraph_nx, node_dict)\n",
    "undirected.graph.add_graph_from_networkx(gene_subgraph_nx)\n",
    "undirected.set_tooltip_source('feature_name')\n",
    "undirected.set_layout(title='high_proteins', nodeSpacing=80, edgeLengthVal=50, )\n",
    "undirected.set_style(graph_style)"
   ]
  },
  {
   "cell_type": "code",
   "execution_count": 28,
   "id": "185b477b-5ae7-4d53-9f49-2d0487a61af6",
   "metadata": {},
   "outputs": [
    {
     "data": {
      "application/vnd.jupyter.widget-view+json": {
       "model_id": "9830ec5fd3624ee393670cc12f9c2f86",
       "version_major": 2,
       "version_minor": 0
      },
      "text/plain": [
       "CytoscapeWidget(cytoscape_layout={'name': 'cola', 'title': 'high_proteins', 'nodeSpacing': 80, 'edgeLengthVal'…"
      ]
     },
     "metadata": {},
     "output_type": "display_data"
    }
   ],
   "source": [
    "display(undirected)"
   ]
  },
  {
   "cell_type": "markdown",
   "id": "8dedbea5-030e-41f8-9c9d-313b716dfa64",
   "metadata": {},
   "source": [
    "### Steiner tree for \"full\" venetoclax genes on SPOKE-2021"
   ]
  },
  {
   "cell_type": "code",
   "execution_count": 29,
   "id": "248442f0-c6f3-4afd-99fd-a368d85382dc",
   "metadata": {},
   "outputs": [],
   "source": [
    "gene_st, gene_subgraph = kgfe.explanations.steiner_tree_subgraph(spoke_graph_ud,\n",
    "                                                                    genes_venetoclax_spoke_ids,\n",
    "                                                                         method='takahashi')"
   ]
  },
  {
   "cell_type": "code",
   "execution_count": 30,
   "id": "a9e85f77-4f48-43f4-88ce-29d81b3d49c9",
   "metadata": {
    "tags": []
   },
   "outputs": [],
   "source": [
    "undirected = ipycytoscape.CytoscapeWidget()\n",
    "gene_subgraph_nx = gene_subgraph.to_networkx()\n",
    "node_dict = {i: n['name'] for i, n in gene_subgraph_nx.nodes.items()}\n",
    "gene_subgraph_nx = nx.relabel_nodes(gene_subgraph_nx, node_dict)\n",
    "undirected.graph.add_graph_from_networkx(gene_subgraph_nx)\n",
    "undirected.set_tooltip_source('feature_name')\n",
    "undirected.set_layout(title='high_proteins', nodeSpacing=80, edgeLengthVal=50, )\n",
    "undirected.set_style(graph_style)"
   ]
  },
  {
   "cell_type": "code",
   "execution_count": 31,
   "id": "23bda995-b06a-4043-9aca-6f306fd42480",
   "metadata": {},
   "outputs": [
    {
     "data": {
      "application/vnd.jupyter.widget-view+json": {
       "model_id": "fd6f21833a8c4cfdbf67e378b1b1caaf",
       "version_major": 2,
       "version_minor": 0
      },
      "text/plain": [
       "CytoscapeWidget(cytoscape_layout={'name': 'cola', 'title': 'high_proteins', 'nodeSpacing': 80, 'edgeLengthVal'…"
      ]
     },
     "metadata": {},
     "output_type": "display_data"
    }
   ],
   "source": [
    "display(undirected)"
   ]
  },
  {
   "cell_type": "markdown",
   "id": "4ecd1206-2dd7-44d9-813b-3cca33a0129d",
   "metadata": {},
   "source": [
    "## Merging graphs - do stuff on combined SIGNOR, reactome, kegg data"
   ]
  },
  {
   "cell_type": "code",
   "execution_count": 32,
   "id": "e90e19ac-b77b-424d-9dd5-2442f921404b",
   "metadata": {},
   "outputs": [
    {
     "data": {
      "text/plain": [
       "['reactome_ppis.csv.gz',\n",
       " 'uniprot_genes.csv',\n",
       " 'spoke_2021.jsonl.gz',\n",
       " 'kegg_pathway_data.csv',\n",
       " 'hsa04930.csv',\n",
       " 'reactome_genes_chems.csv.gz',\n",
       " 'SIGNOR_formated.tsv',\n",
       " 'kegg_interaction_data.csv',\n",
       " 'KEGG_signaling.tsv',\n",
       " 'msigdb']"
      ]
     },
     "execution_count": 32,
     "metadata": {},
     "output_type": "execute_result"
    }
   ],
   "source": [
    "kgfe.graph_info.get_available_graphs()\n",
    "# consider SIGNOR, kegg, reactome"
   ]
  },
  {
   "cell_type": "code",
   "execution_count": 33,
   "id": "a107d651-6fd9-401c-9ed7-452278196c61",
   "metadata": {},
   "outputs": [],
   "source": [
    "kegg_signaling = kgfe.graph_info.load_graph('KEGG_signaling.tsv')"
   ]
  },
  {
   "cell_type": "code",
   "execution_count": 34,
   "id": "9e05a7b3-a891-4bb8-809f-c23e8ecf8581",
   "metadata": {},
   "outputs": [],
   "source": [
    "kegg_signaling.predicate = 'kegg_' + kegg_signaling.predicate"
   ]
  },
  {
   "cell_type": "code",
   "execution_count": 35,
   "id": "287753e6-b43b-4cfd-be3d-84caad00da39",
   "metadata": {},
   "outputs": [],
   "source": [
    "signor_signaling = kgfe.graph_info.load_graph('SIGNOR_formated.tsv')"
   ]
  },
  {
   "cell_type": "code",
   "execution_count": 36,
   "id": "71aa4dba-c692-4795-8a82-dc87e06453e0",
   "metadata": {},
   "outputs": [],
   "source": [
    "signor_signaling.predicate = 'signor_' + signor_signaling.predicate"
   ]
  },
  {
   "cell_type": "code",
   "execution_count": 37,
   "id": "3581c76d-ab6b-45bb-a594-6a821825ff61",
   "metadata": {},
   "outputs": [
    {
     "name": "stderr",
     "output_type": "stream",
     "text": [
      "/home/yjzhang/isb/kg_feature_engineering/src/kgfe/graph_info.py:36: DtypeWarning: Columns (0) have mixed types. Specify dtype option on import or set low_memory=False.\n",
      "  df = pd.read_csv(filename)\n"
     ]
    }
   ],
   "source": [
    "reactome_genes_chems = kgfe.graph_info.load_graph('reactome_genes_chems.csv.gz')"
   ]
  },
  {
   "cell_type": "code",
   "execution_count": 38,
   "id": "f0443784-bc5e-46c9-b9d2-0c07ea549e4b",
   "metadata": {},
   "outputs": [],
   "source": [
    "reactome_genes_chems.predicate = 'reactome_' + reactome_genes_chems.predicate"
   ]
  },
  {
   "cell_type": "code",
   "execution_count": 39,
   "id": "40a6a9d3-f0e3-432d-92a4-182b3f08d9a9",
   "metadata": {},
   "outputs": [],
   "source": [
    "merged_graph = pd.concat([kegg_signaling, signor_signaling, reactome_genes_chems], axis=0)"
   ]
  },
  {
   "cell_type": "code",
   "execution_count": 40,
   "id": "8ad90871-a555-444d-b488-1edec54f7df3",
   "metadata": {},
   "outputs": [],
   "source": [
    "biggim_graph = kgfe.graph_info.df_to_graph(merged_graph)"
   ]
  },
  {
   "cell_type": "code",
   "execution_count": 41,
   "id": "e1729ef3-dada-4f52-a433-2c3bd9fb8c9b",
   "metadata": {},
   "outputs": [
    {
     "data": {
      "text/plain": [
       "24839"
      ]
     },
     "execution_count": 41,
     "metadata": {},
     "output_type": "execute_result"
    }
   ],
   "source": [
    "len(biggim_graph.vs)"
   ]
  },
  {
   "cell_type": "code",
   "execution_count": 42,
   "id": "06573384-e810-4a67-bb27-f5f22ebdbcde",
   "metadata": {},
   "outputs": [],
   "source": [
    "genes_to_ids = kgfe.graph_info.get_names_to_ids(biggim_graph, category='Gene')"
   ]
  },
  {
   "cell_type": "markdown",
   "id": "f05fff20-ef6b-4e62-ab8f-7f82ce11f738",
   "metadata": {},
   "source": [
    "## Get Steiner Tree for AML genes on combined graph"
   ]
  },
  {
   "cell_type": "code",
   "execution_count": 43,
   "id": "51d12e48-20bc-411e-a91c-a9c9eac023f9",
   "metadata": {},
   "outputs": [],
   "source": [
    "gene_ids = [genes_to_ids[g] for g in genes_small]"
   ]
  },
  {
   "cell_type": "code",
   "execution_count": 44,
   "id": "30e7aaa2-5119-405f-a32e-92676f6ca13c",
   "metadata": {},
   "outputs": [],
   "source": [
    "genes_venetoclax_ids = [genes_to_ids[g] for g in genes_venetoclax if g in genes_to_ids]"
   ]
  },
  {
   "cell_type": "code",
   "execution_count": 45,
   "id": "de9768a6-f767-4fd8-b03e-6ae27997bfa7",
   "metadata": {},
   "outputs": [],
   "source": [
    "gene_st, gene_subgraph = kgfe.explanations.steiner_tree_subgraph(biggim_graph,\n",
    "                                                                    gene_ids,\n",
    "                                                                         method='takahashi')"
   ]
  },
  {
   "cell_type": "code",
   "execution_count": 46,
   "id": "25aaf962-c2af-42b9-93cd-7d60816c8432",
   "metadata": {},
   "outputs": [],
   "source": [
    "graph_style = [{\n",
    "                        'selector': 'node[feature_name]',\n",
    "                             'style': {\n",
    "                                  'font-family': 'helvetica',\n",
    "                                  'font-size': '20px',\n",
    "                                 'label': 'data(feature_name)',\n",
    "                        }},\n",
    "                        {'selector': 'node[category=\"Protein\"]',\n",
    "                         'style': {\n",
    "                             'background-color': 'blue',\n",
    "                         }},\n",
    "                        {'selector': 'node[in_query=1]',\n",
    "                         'style': {\n",
    "                             'border-width': '5px',\n",
    "                             'border-color': 'red',\n",
    "                         }},\n",
    "                        {'selector': 'edge[predicate]',\n",
    "                         'style': {\n",
    "                             'label': 'data(predicate)',\n",
    "                         }},\n",
    "                        {\"selector\": \"edge.directed\",\n",
    "                         \"style\": {\n",
    "                            \"curve-style\": \"bezier\",\n",
    "                            \"target-arrow-shape\": \"triangle\",\n",
    "                    }},\n",
    "\n",
    "                    ]"
   ]
  },
  {
   "cell_type": "code",
   "execution_count": 47,
   "id": "a4330e02-579b-4b84-bcef-8414d306c0c5",
   "metadata": {},
   "outputs": [],
   "source": [
    "undirected = ipycytoscape.CytoscapeWidget()\n",
    "gene_subgraph_nx = gene_subgraph.to_networkx()\n",
    "node_dict = {i: n['name'] for i, n in gene_subgraph_nx.nodes.items()}\n",
    "gene_subgraph_nx = nx.relabel_nodes(gene_subgraph_nx, node_dict)\n",
    "undirected.graph.add_graph_from_networkx(gene_subgraph_nx)\n",
    "for node in undirected.graph.nodes:\n",
    "    if 'name' in node.data:\n",
    "        node.data['id'] = node.data['name']\n",
    "undirected.set_tooltip_source('feature_name')\n",
    "undirected.set_layout(title='high_proteins', nodeSpacing=80, edgeLengthVal=50, )\n",
    "undirected.set_style(graph_style)"
   ]
  },
  {
   "cell_type": "code",
   "execution_count": 48,
   "id": "92d9078e-067b-49a8-bbcd-c2f5e03aaf89",
   "metadata": {},
   "outputs": [
    {
     "data": {
      "application/vnd.jupyter.widget-view+json": {
       "model_id": "0c0a471663474fc98389886ac8c009bc",
       "version_major": 2,
       "version_minor": 0
      },
      "text/plain": [
       "CytoscapeWidget(cytoscape_layout={'name': 'cola', 'title': 'high_proteins', 'nodeSpacing': 80, 'edgeLengthVal'…"
      ]
     },
     "metadata": {},
     "output_type": "display_data"
    }
   ],
   "source": [
    "display(undirected)"
   ]
  },
  {
   "cell_type": "code",
   "execution_count": 49,
   "id": "5d817a32-51a1-4aea-83fb-d15a1186d69e",
   "metadata": {},
   "outputs": [],
   "source": [
    "gene_st, gene_subgraph = kgfe.explanations.steiner_tree_subgraph(biggim_graph,\n",
    "                                                                    genes_venetoclax_ids,\n",
    "                                                                         method='takahashi')"
   ]
  },
  {
   "cell_type": "markdown",
   "id": "f177fba4-5a61-49cd-86d2-cb03d45504f5",
   "metadata": {},
   "source": [
    "### Steiner tree for \"full\" venetoclax genes on merged graph"
   ]
  },
  {
   "cell_type": "code",
   "execution_count": 50,
   "id": "d807eb76-2c9c-460e-ac38-d12001b21373",
   "metadata": {},
   "outputs": [],
   "source": [
    "undirected = ipycytoscape.CytoscapeWidget()\n",
    "gene_subgraph_nx = gene_subgraph.to_networkx()\n",
    "node_dict = {i: n['name'] for i, n in gene_subgraph_nx.nodes.items()}\n",
    "gene_subgraph_nx = nx.relabel_nodes(gene_subgraph_nx, node_dict)\n",
    "undirected.graph.add_graph_from_networkx(gene_subgraph_nx)\n",
    "for node in undirected.graph.nodes:\n",
    "    if 'name' in node.data:\n",
    "        node.data['id'] = node.data['name']\n",
    "undirected.set_tooltip_source('feature_name')\n",
    "undirected.set_layout(title='high_proteins', nodeSpacing=80, edgeLengthVal=50, )\n",
    "undirected.set_style(graph_style)"
   ]
  },
  {
   "cell_type": "code",
   "execution_count": 51,
   "id": "be598453-a7d6-424b-b101-d06ab611b4c7",
   "metadata": {},
   "outputs": [
    {
     "data": {
      "application/vnd.jupyter.widget-view+json": {
       "model_id": "168e7825c1f145539da6c70c4305ae88",
       "version_major": 2,
       "version_minor": 0
      },
      "text/plain": [
       "CytoscapeWidget(cytoscape_layout={'name': 'cola', 'title': 'high_proteins', 'nodeSpacing': 80, 'edgeLengthVal'…"
      ]
     },
     "metadata": {},
     "output_type": "display_data"
    }
   ],
   "source": [
    "display(undirected)"
   ]
  },
  {
   "cell_type": "code",
   "execution_count": null,
   "id": "0f513ff7-a788-4910-9dd7-3441d4c5054a",
   "metadata": {},
   "outputs": [],
   "source": []
  }
 ],
 "metadata": {
  "kernelspec": {
   "display_name": "Python 3 (ipykernel)",
   "language": "python",
   "name": "python3"
  },
  "language_info": {
   "codemirror_mode": {
    "name": "ipython",
    "version": 3
   },
   "file_extension": ".py",
   "mimetype": "text/x-python",
   "name": "python",
   "nbconvert_exporter": "python",
   "pygments_lexer": "ipython3",
   "version": "3.10.6"
  },
  "widgets": {
   "application/vnd.jupyter.widget-state+json": {
    "state": {
     "0124ee8aea154ad99d66963b7dfb0044": {
      "model_module": "jupyter-cytoscape",
      "model_module_version": "^1.3.3",
      "model_name": "EdgeModel",
      "state": {
       "_model_module_version": "^1.3.3",
       "_view_module_version": "^1.3.3",
       "classes": " multiple_edges ",
       "data": {
        "Knowledge_Source": "Reactome",
        "Primary_Knowledge_Source": "R-HSA-212436",
        "_igraph_index": 23,
        "id": "c8f63be1-1766-4483-9560-a301acc64622",
        "predicate": "reactome_participates_in",
        "publications": "PMID:34788843",
        "source": "NCBIGene::7157",
        "target": "REACT::R-HSA-212436"
       },
       "selectable": false
      }
     },
     "01866f9e843e41f4986e990ed8b61806": {
      "model_module": "jupyter-cytoscape",
      "model_module_version": "^1.3.3",
      "model_name": "NodeModel",
      "state": {
       "_model_module_version": "^1.3.3",
       "_view_module_version": "^1.3.3",
       "data": {
        "_igraph_index": 2,
        "category": "Disease",
        "feature_name": "acute myeloid leukemia",
        "id": "2166630",
        "identifier": "DOID:9119",
        "in_query": 1,
        "name": "2166630",
        "source": "Disease Ontology"
       },
       "grabbable": true,
       "grabbed": false,
       "position": {
        "x": 146.59004571211094,
        "y": 267.5704305444397
       },
       "selectable": false
      }
     },
     "02ee518b220949da92d18cc25a6abeb6": {
      "model_module": "jupyter-cytoscape",
      "model_module_version": "^1.3.3",
      "model_name": "EdgeModel",
      "state": {
       "_model_module_version": "^1.3.3",
       "_view_module_version": "^1.3.3",
       "classes": " multiple_edges ",
       "data": {
        "Knowledge_Source": "Reactome",
        "Primary_Knowledge_Source": "R-HSA-162582",
        "_igraph_index": 14,
        "id": "10dd1bd3-9ae1-4239-ae19-f683b7566911",
        "predicate": "reactome_participates_in",
        "publications": "PMID:34788843",
        "source": "NCBIGene::595",
        "target": "REACT::R-HSA-162582"
       },
       "selectable": false
      }
     },
     "03a44cba3e5241dcabe1f062e4d3a76b": {
      "model_module": "jupyter-cytoscape",
      "model_module_version": "^1.3.3",
      "model_name": "EdgeModel",
      "state": {
       "_model_module_version": "^1.3.3",
       "_view_module_version": "^1.3.3",
       "data": {
        "_igraph_index": 2,
        "id": "3dc60fbe-1654-46d1-90f5-9ad656a902cd",
        "source": "2166630",
        "target": "2191899",
        "type": "ASSOCIATES_DaG"
       },
       "selectable": false
      }
     },
     "040390eb83e340349e219ab2c93ba906": {
      "model_module": "jupyter-cytoscape",
      "model_module_version": "^1.3.3",
      "model_name": "EdgeModel",
      "state": {
       "_model_module_version": "^1.3.3",
       "_view_module_version": "^1.3.3",
       "classes": " multiple_edges ",
       "data": {
        "Knowledge_Source": "Reactome",
        "Primary_Knowledge_Source": "R-HSA-8953854",
        "_igraph_index": 29,
        "id": "8122658b-942e-471e-ab6a-7e2e11d3dc4f",
        "predicate": "reactome_participates_in",
        "publications": "PMID:34788843",
        "source": "REACT::R-HSA-8953854",
        "target": "NCBIGene::10992"
       },
       "selectable": false
      }
     },
     "06dab14be61a4bb29d7ed26a4f73f70f": {
      "model_module": "jupyter-cytoscape",
      "model_module_version": "^1.3.3",
      "model_name": "EdgeModel",
      "state": {
       "_model_module_version": "^1.3.3",
       "_view_module_version": "^1.3.3",
       "data": {
        "_igraph_index": 5,
        "id": "5f3c0b10-5353-45c5-80ef-35c4e0df2f67",
        "source": "283315",
        "target": "2198153",
        "type": "UPREGULATES_CuG"
       },
       "selectable": false
      }
     },
     "0739549e56044ba996a45c6947068d2b": {
      "model_module": "jupyter-cytoscape",
      "model_module_version": "^1.3.3",
      "model_name": "NodeModel",
      "state": {
       "_model_module_version": "^1.3.3",
       "_view_module_version": "^1.3.3",
       "data": {
        "_igraph_index": 3,
        "category": "Gene",
        "feature_name": "BCL2",
        "id": "2190368",
        "identifier": 596,
        "in_query": 1,
        "name": "2190368",
        "source": "Entrez Gene"
       },
       "grabbable": true,
       "grabbed": false,
       "position": {
        "x": 1149.0021399576246,
        "y": 167.9956011593361
       },
       "selectable": false
      }
     },
     "07b2e168bf6243a890252b463147df2d": {
      "model_module": "jupyter-cytoscape",
      "model_module_version": "^1.3.3",
      "model_name": "EdgeModel",
      "state": {
       "_model_module_version": "^1.3.3",
       "_view_module_version": "^1.3.3",
       "data": {
        "_igraph_index": 7,
        "id": "613d4ff2-737d-4bb4-9988-92a9478974a2",
        "source": "2175196",
        "target": "2191899",
        "type": "EXPRESSES_AeG"
       },
       "selectable": false
      }
     },
     "085bae2fa5de4b61bc113bacf9dca3ea": {
      "model_module": "jupyter-cytoscape",
      "model_module_version": "^1.3.3",
      "model_name": "GraphModel",
      "state": {
       "_adj": {
        "10577": {},
        "2624": {},
        "4791": {},
        "596.0": {},
        "7157": {},
        "NCBIGene::10577": {},
        "NCBIGene::2624": {
         "REACT::R-HSA-109582": 1
        },
        "NCBIGene::4791": {
         "REACT::R-HSA-168249": 1
        },
        "NCBIGene::596.0": {
         "NCBIGene::7157": 1
        },
        "NCBIGene::7157": {
         "NCBIGene::596.0": 1,
         "REACT::R-HSA-109582": 1,
         "REACT::R-HSA-168249": 1
        },
        "R-HSA-109582": {},
        "R-HSA-168249": {},
        "REACT::R-HSA-109582": {
         "NCBIGene::2624": 1,
         "NCBIGene::7157": 1
        },
        "REACT::R-HSA-168249": {
         "NCBIGene::4791": 1,
         "NCBIGene::7157": 1
        }
       },
       "_model_module_version": "^1.3.3",
       "_view_module": "jupyter-cytoscape",
       "_view_module_version": "^1.3.3",
       "edges": [
        "IPY_MODEL_d5e167533b2446329491829c545940d2",
        "IPY_MODEL_1ba4864101c1410dbc32cece98abf6a5",
        "IPY_MODEL_448563faa81e47aaa70173ec27a0f474",
        "IPY_MODEL_458cd835f3cc452fb4fde1a5ae1a99f6",
        "IPY_MODEL_f52e4d5f762344589c474d6f84c3705c",
        "IPY_MODEL_f895f71bd97b46449460d5e7b1534219"
       ],
       "nodes": [
        "IPY_MODEL_5d51769860f047bc889ea1983038b0a2",
        "IPY_MODEL_c1289f87370d43f09c05aa2363640a80",
        "IPY_MODEL_c4d31d3568ed4fbda171c545db72eded",
        "IPY_MODEL_29c65faf5c8f49228846bdac5cf9464a",
        "IPY_MODEL_9893d1cde245456eafb879b53daee388",
        "IPY_MODEL_51335a1e3edc4b3197c3860f5b3eaaf8",
        "IPY_MODEL_ffd5cb9829ab4de59b661ce596366038",
        "IPY_MODEL_0f918a330ec04d52965cd1c68a0b255c",
        "IPY_MODEL_5a3f4ce958a84157a13d44a33a7a482b",
        "IPY_MODEL_6b8164346c104137a61b986d4420b17e",
        "IPY_MODEL_27e088fbae634b85a07af61873c60ad1",
        "IPY_MODEL_5a3d106e0fd648efac845f7cac046637",
        "IPY_MODEL_4aede8dfc7114ffbad6a3e47a4ac0cbb",
        "IPY_MODEL_39c568ce935e493c85a98c13771fb46a"
       ]
      }
     },
     "08c2ac1a503f4da6939e594321a84113": {
      "model_module": "jupyter-cytoscape",
      "model_module_version": "^1.3.3",
      "model_name": "NodeModel",
      "state": {
       "_model_module_version": "^1.3.3",
       "_view_module_version": "^1.3.3",
       "data": {
        "_igraph_index": 15,
        "category": "Gene",
        "feature_name": "LILRB2",
        "id": "NCBIGene::10288",
        "id_prefix": "NCBIGene",
        "in_query": 1,
        "name": "NCBIGene::10288"
       },
       "grabbable": true,
       "grabbed": false,
       "position": {
        "x": 1011.0741084393661,
        "y": 245.01040684264794
       },
       "selectable": false
      }
     },
     "08dc0d5b38a1462e834c6f77e73e8bc0": {
      "model_module": "jupyter-cytoscape",
      "model_module_version": "^1.3.3",
      "model_name": "EdgeModel",
      "state": {
       "_model_module_version": "^1.3.3",
       "_view_module_version": "^1.3.3",
       "classes": " multiple_edges ",
       "data": {
        "Knowledge_Source": "Reactome",
        "Primary_Knowledge_Source": "R-HSA-212436",
        "_igraph_index": 33,
        "id": "a3d40c78-976a-43b6-aa7f-324d5be153a8",
        "predicate": "reactome_participates_in",
        "publications": "PMID:34788843",
        "source": "REACT::R-HSA-212436",
        "target": "NCBIGene::2624"
       },
       "selectable": false
      }
     },
     "0a2897960b4b40e59aad4a191e131380": {
      "model_module": "jupyter-cytoscape",
      "model_module_version": "^1.3.3",
      "model_name": "NodeModel",
      "state": {
       "_model_module_version": "^1.3.3",
       "_view_module_version": "^1.3.3",
       "data": {
        "_igraph_index": 0,
        "category": "Disease",
        "feature_name": "acute myeloid leukemia",
        "id": "2166630",
        "identifier": "DOID:9119",
        "in_query": 1,
        "name": "2166630",
        "source": "Disease Ontology"
       },
       "grabbable": true,
       "grabbed": false,
       "position": {
        "x": 564.0021369576245,
        "y": 145.0347307850878
       },
       "selectable": false
      }
     },
     "0b7cb470f7a44a55a2170b55a65bf478": {
      "model_module": "jupyter-cytoscape",
      "model_module_version": "^1.3.3",
      "model_name": "EdgeModel",
      "state": {
       "_model_module_version": "^1.3.3",
       "_view_module_version": "^1.3.3",
       "data": {
        "_igraph_index": 2,
        "id": "bd7e9587-69b3-4331-9c0a-4126f7ea14d8",
        "source": "2190459",
        "target": "2175051",
        "type": "UPREGULATES_KGuG"
       },
       "selectable": false
      }
     },
     "0b8de01411bd4551a10323c564f599fa": {
      "model_module": "jupyter-cytoscape",
      "model_module_version": "^1.3.3",
      "model_name": "EdgeModel",
      "state": {
       "_model_module_version": "^1.3.3",
       "_view_module_version": "^1.3.3",
       "classes": " multiple_edges ",
       "data": {
        "Knowledge_Source": "Reactome",
        "Primary_Knowledge_Source": "R-HSA-1643685",
        "_igraph_index": 13,
        "id": "9c64c4b1-417e-4039-98bf-f92403687034",
        "predicate": "reactome_participates_in",
        "publications": "PMID:34788843",
        "source": "NCBIGene::8678",
        "target": "REACT::R-HSA-1643685"
       },
       "selectable": false
      }
     },
     "0c0a471663474fc98389886ac8c009bc": {
      "model_module": "jupyter-cytoscape",
      "model_module_version": "^1.3.3",
      "model_name": "CytoscapeModel",
      "state": {
       "_interaction_handlers": {},
       "_model_module_version": "^1.3.3",
       "_view_module_version": "^1.3.3",
       "auto_ungrabify": false,
       "autolock": false,
       "cytoscape_layout": {
        "edgeLengthVal": 50,
        "name": "cola",
        "nodeSpacing": 80,
        "title": "high_proteins"
       },
       "cytoscape_style": [
        {
         "selector": "node[feature_name]",
         "style": {
          "font-family": "helvetica",
          "font-size": "20px",
          "label": "data(feature_name)"
         }
        },
        {
         "selector": "node[category=\"Protein\"]",
         "style": {
          "background-color": "blue"
         }
        },
        {
         "selector": "node[in_query=1]",
         "style": {
          "border-color": "red",
          "border-width": "5px"
         }
        },
        {
         "selector": "edge[predicate]",
         "style": {
          "label": "data(predicate)"
         }
        },
        {
         "selector": "edge.directed",
         "style": {
          "curve-style": "bezier",
          "target-arrow-shape": "triangle"
         }
        }
       ],
       "desktop_tap_threshold": 4,
       "graph": "IPY_MODEL_085bae2fa5de4b61bc113bacf9dca3ea",
       "headless": false,
       "hide_edges_on_viewport": false,
       "layout": "IPY_MODEL_5e4170ab1e504ec5b8e30a546d70ae07",
       "max_zoom": 1e+50,
       "min_zoom": 1e-50,
       "motion_blur": false,
       "motion_blur_opacity": 0.2,
       "panning_enabled": true,
       "pixel_ratio": "auto",
       "rendered_position": {
        "renderedPosition": {
         "x": 100,
         "y": 100
        }
       },
       "selection_type": "single",
       "style_enabled": true,
       "texture_on_viewport": false,
       "tooltip_source": "feature_name",
       "touch_tap_threshold": 8,
       "user_panning_enabled": true,
       "user_zooming_enabled": true,
       "wheel_sensitivity": 1,
       "zoom": 2,
       "zooming_enabled": true
      }
     },
     "0ccf253ea2f3483992f5b482843ea188": {
      "model_module": "jupyter-cytoscape",
      "model_module_version": "^1.3.3",
      "model_name": "EdgeModel",
      "state": {
       "_model_module_version": "^1.3.3",
       "_view_module_version": "^1.3.3",
       "classes": " multiple_edges ",
       "data": {
        "Knowledge_Source": "Reactome",
        "Primary_Knowledge_Source": "R-HSA-168256",
        "_igraph_index": 3,
        "id": "042c1001-4566-414c-b229-7372c9bbabd8",
        "predicate": "reactome_participates_in",
        "publications": "PMID:34788843",
        "source": "NCBIGene::595",
        "target": "REACT::R-HSA-168256"
       },
       "selectable": false
      }
     },
     "0f918a330ec04d52965cd1c68a0b255c": {
      "model_module": "jupyter-cytoscape",
      "model_module_version": "^1.3.3",
      "model_name": "NodeModel",
      "state": {
       "_model_module_version": "^1.3.3",
       "_view_module_version": "^1.3.3",
       "data": {
        "id": "NCBIGene::7157"
       },
       "grabbable": true,
       "grabbed": false,
       "position": {
        "x": 0,
        "y": 0
       },
       "selectable": false
      }
     },
     "0fb9f1c43bf74f6a99e845169af52f52": {
      "model_module": "jupyter-cytoscape",
      "model_module_version": "^1.3.3",
      "model_name": "NodeModel",
      "state": {
       "_model_module_version": "^1.3.3",
       "_view_module_version": "^1.3.3",
       "data": {
        "_igraph_index": 13,
        "category": "Gene",
        "feature_name": "RPS10",
        "id": "2194660",
        "identifier": 6204,
        "in_query": 1,
        "name": "2194660",
        "source": "Entrez Gene"
       },
       "grabbable": true,
       "grabbed": false,
       "position": {
        "x": 369.0021359576245,
        "y": -107.44662615301576
       },
       "selectable": false
      }
     },
     "0fd3fa62737042e5ad94fd0095957fc6": {
      "model_module": "jupyter-cytoscape",
      "model_module_version": "^1.3.3",
      "model_name": "NodeModel",
      "state": {
       "_model_module_version": "^1.3.3",
       "_view_module_version": "^1.3.3",
       "data": {
        "_igraph_index": 6,
        "category": "Gene",
        "feature_name": "FOXO1",
        "id": "2191712",
        "identifier": 2308,
        "in_query": 1,
        "name": "2191712",
        "source": "Entrez Gene"
       },
       "grabbable": true,
       "grabbed": false,
       "position": {
        "x": 21.5829462976433,
        "y": 667.5533778469843
       },
       "selectable": false
      }
     },
     "105ecd68969443698110c2b1470ffc1e": {
      "model_module": "jupyter-cytoscape",
      "model_module_version": "^1.3.3",
      "model_name": "NodeModel",
      "state": {
       "_model_module_version": "^1.3.3",
       "_view_module_version": "^1.3.3",
       "data": {
        "id": "NCBIGene::6204"
       },
       "grabbable": true,
       "grabbed": false,
       "position": {
        "x": 0,
        "y": 0
       },
       "selectable": false
      }
     },
     "10b3da3408a94fffb6423c891e94a03e": {
      "model_module": "jupyter-cytoscape",
      "model_module_version": "^1.3.3",
      "model_name": "NodeModel",
      "state": {
       "_model_module_version": "^1.3.3",
       "_view_module_version": "^1.3.3",
       "data": {
        "id": "NCBIGene::121512"
       },
       "grabbable": true,
       "grabbed": false,
       "position": {
        "x": 0,
        "y": 0
       },
       "selectable": false
      }
     },
     "12987f6f91be4dfa976e7dbbc333cacf": {
      "model_module": "jupyter-cytoscape",
      "model_module_version": "^1.3.3",
      "model_name": "NodeModel",
      "state": {
       "_model_module_version": "^1.3.3",
       "_view_module_version": "^1.3.3",
       "data": {
        "_igraph_index": 1,
        "category": "Gene",
        "feature_name": "TP53",
        "id": "NCBIGene::7157",
        "id_prefix": "NCBIGene",
        "in_query": 0,
        "name": "NCBIGene::7157"
       },
       "grabbable": true,
       "grabbed": false,
       "position": {
        "x": 433.57410543936595,
        "y": 275.9699627000959
       },
       "selectable": false
      }
     },
     "13a8e430faf94ea0a0a9eeac9dfdb975": {
      "model_module": "jupyter-cytoscape",
      "model_module_version": "^1.3.3",
      "model_name": "EdgeModel",
      "state": {
       "_model_module_version": "^1.3.3",
       "_view_module_version": "^1.3.3",
       "data": {
        "_igraph_index": 22,
        "id": "d3b3c6b3-dcdd-41b1-abc3-71b87a5fd32b",
        "source": "2175196",
        "target": "2194660",
        "type": "EXPRESSES_AeG"
       },
       "selectable": false
      }
     },
     "156aff9a3d1b447e9cafccaa95f36001": {
      "model_module": "jupyter-cytoscape",
      "model_module_version": "^1.3.3",
      "model_name": "NodeModel",
      "state": {
       "_model_module_version": "^1.3.3",
       "_view_module_version": "^1.3.3",
       "data": {
        "_igraph_index": 23,
        "category": "Gene",
        "feature_name": "RPS10",
        "id": "NCBIGene::6204",
        "id_prefix": "NCBIGene",
        "in_query": 1,
        "name": "NCBIGene::6204"
       },
       "grabbable": true,
       "grabbed": false,
       "position": {
        "x": 554.4629717487725,
        "y": -301.5300402999041
       },
       "selectable": false
      }
     },
     "168e7825c1f145539da6c70c4305ae88": {
      "model_module": "jupyter-cytoscape",
      "model_module_version": "^1.3.3",
      "model_name": "CytoscapeModel",
      "state": {
       "_interaction_handlers": {},
       "_model_module_version": "^1.3.3",
       "_view_module_version": "^1.3.3",
       "auto_ungrabify": false,
       "autolock": false,
       "cytoscape_layout": {
        "edgeLengthVal": 50,
        "name": "cola",
        "nodeSpacing": 80,
        "title": "high_proteins"
       },
       "cytoscape_style": [
        {
         "selector": "node[feature_name]",
         "style": {
          "font-family": "helvetica",
          "font-size": "20px",
          "label": "data(feature_name)"
         }
        },
        {
         "selector": "node[category=\"Protein\"]",
         "style": {
          "background-color": "blue"
         }
        },
        {
         "selector": "node[in_query=1]",
         "style": {
          "border-color": "red",
          "border-width": "5px"
         }
        },
        {
         "selector": "edge[predicate]",
         "style": {
          "label": "data(predicate)"
         }
        },
        {
         "selector": "edge.directed",
         "style": {
          "curve-style": "bezier",
          "target-arrow-shape": "triangle"
         }
        }
       ],
       "desktop_tap_threshold": 4,
       "graph": "IPY_MODEL_2d433c3c9a2e45ccb2ab79ae3d047bde",
       "headless": false,
       "hide_edges_on_viewport": false,
       "layout": "IPY_MODEL_e2fe73225b514ac789ecb919a3f4b24d",
       "max_zoom": 1e+50,
       "min_zoom": 1e-50,
       "motion_blur": false,
       "motion_blur_opacity": 0.2,
       "panning_enabled": true,
       "pixel_ratio": "auto",
       "rendered_position": {
        "renderedPosition": {
         "x": 100,
         "y": 100
        }
       },
       "selection_type": "single",
       "style_enabled": true,
       "texture_on_viewport": false,
       "tooltip_source": "feature_name",
       "touch_tap_threshold": 8,
       "user_panning_enabled": true,
       "user_zooming_enabled": true,
       "wheel_sensitivity": 1,
       "zoom": 2,
       "zooming_enabled": true
      }
     },
     "179a5686924a44a9a0028915ecab611a": {
      "model_module": "jupyter-cytoscape",
      "model_module_version": "^1.3.3",
      "model_name": "NodeModel",
      "state": {
       "_model_module_version": "^1.3.3",
       "_view_module_version": "^1.3.3",
       "data": {
        "_igraph_index": 19,
        "category": "Gene",
        "feature_name": "NPC2",
        "id": "2198153",
        "identifier": 10577,
        "in_query": 1,
        "name": "2198153",
        "source": "Entrez Gene"
       },
       "grabbable": true,
       "grabbed": false,
       "position": {
        "x": 216.5829472976433,
        "y": 535.0347327850877
       },
       "selectable": false
      }
     },
     "18a882dc9b324ebda29684de56184af1": {
      "model_module": "jupyter-cytoscape",
      "model_module_version": "^1.3.3",
      "model_name": "NodeModel",
      "state": {
       "_model_module_version": "^1.3.3",
       "_view_module_version": "^1.3.3",
       "data": {
        "_igraph_index": 1,
        "category": "Gene",
        "feature_name": "ABAT",
        "id": "2175051",
        "identifier": 18,
        "in_query": 0,
        "name": "2175051",
        "source": "Entrez Gene"
       },
       "grabbable": true,
       "grabbed": false,
       "position": {
        "x": 371.5021359576245,
        "y": 147.5347307850878
       },
       "selectable": false
      }
     },
     "1a3ba47f43674b52901b8cc5bcf4a114": {
      "model_module": "jupyter-cytoscape",
      "model_module_version": "^1.3.3",
      "model_name": "EdgeModel",
      "state": {
       "_model_module_version": "^1.3.3",
       "_view_module_version": "^1.3.3",
       "data": {
        "_igraph_index": 35,
        "id": "5d2607ee-fbae-4de8-9642-f0c1b8147c4c",
        "source": "2175196",
        "target": "2199864",
        "type": "EXPRESSES_AeG"
       },
       "selectable": false
      }
     },
     "1ba4864101c1410dbc32cece98abf6a5": {
      "model_module": "jupyter-cytoscape",
      "model_module_version": "^1.3.3",
      "model_name": "EdgeModel",
      "state": {
       "_model_module_version": "^1.3.3",
       "_view_module_version": "^1.3.3",
       "data": {
        "Knowledge_Source": "Reactome",
        "Primary_Knowledge_Source": "R-HSA-109582",
        "_igraph_index": 1,
        "id": "2e43f38d-1898-4583-a556-7a69e84b5dbb",
        "predicate": "reactome_participates_in",
        "publications": "PMID:34788843",
        "source": "NCBIGene::7157",
        "target": "REACT::R-HSA-109582"
       },
       "selectable": false
      }
     },
     "1de5cba0457f47a2914c2b2a84d0dd3d": {
      "model_module": "jupyter-cytoscape",
      "model_module_version": "^1.3.3",
      "model_name": "EdgeModel",
      "state": {
       "_model_module_version": "^1.3.3",
       "_view_module_version": "^1.3.3",
       "classes": " multiple_edges ",
       "data": {
        "Knowledge_Source": "Reactome",
        "Primary_Knowledge_Source": "R-HSA-162582",
        "_igraph_index": 19,
        "id": "803329f2-cd2e-4c65-baea-7dcaecbfeaab",
        "predicate": "reactome_participates_in",
        "publications": "PMID:34788843",
        "source": "NCBIGene::51176",
        "target": "REACT::R-HSA-162582"
       },
       "selectable": false
      }
     },
     "1f7d715a43f841658e67ddcb57d22566": {
      "model_module": "jupyter-cytoscape",
      "model_module_version": "^1.3.3",
      "model_name": "NodeModel",
      "state": {
       "_model_module_version": "^1.3.3",
       "_view_module_version": "^1.3.3",
       "data": {
        "id": "NCBIGene::10288"
       },
       "grabbable": true,
       "grabbed": false,
       "position": {
        "x": 0,
        "y": 0
       },
       "selectable": false
      }
     },
     "21f71f6ea9ae4092834202bdf91ba571": {
      "model_module": "jupyter-cytoscape",
      "model_module_version": "^1.3.3",
      "model_name": "NodeModel",
      "state": {
       "_model_module_version": "^1.3.3",
       "_view_module_version": "^1.3.3",
       "data": {
        "_igraph_index": 23,
        "category": "Gene",
        "feature_name": "LEF1",
        "id": "2201977",
        "identifier": 51176,
        "in_query": 1,
        "name": "2201977",
        "source": "Entrez Gene"
       },
       "grabbable": true,
       "grabbed": false,
       "position": {
        "x": 274.0164723937789,
        "y": -302.44662715301575
       },
       "selectable": false
      }
     },
     "27e088fbae634b85a07af61873c60ad1": {
      "model_module": "jupyter-cytoscape",
      "model_module_version": "^1.3.3",
      "model_name": "NodeModel",
      "state": {
       "_model_module_version": "^1.3.3",
       "_view_module_version": "^1.3.3",
       "data": {
        "id": "REACT::R-HSA-168249"
       },
       "grabbable": true,
       "grabbed": false,
       "position": {
        "x": 0,
        "y": 0
       },
       "selectable": false
      }
     },
     "28c24a6a8f2d47d6a4bb63d8370a275a": {
      "model_module": "jupyter-cytoscape",
      "model_module_version": "^1.3.3",
      "model_name": "EdgeModel",
      "state": {
       "_model_module_version": "^1.3.3",
       "_view_module_version": "^1.3.3",
       "data": {
        "_igraph_index": 3,
        "id": "0bb46b66-cb56-4687-ae8c-32d789f30cc5",
        "source": "2175196",
        "target": "2190459",
        "type": "EXPRESSES_AeG"
       },
       "selectable": false
      }
     },
     "29c65faf5c8f49228846bdac5cf9464a": {
      "model_module": "jupyter-cytoscape",
      "model_module_version": "^1.3.3",
      "model_name": "NodeModel",
      "state": {
       "_model_module_version": "^1.3.3",
       "_view_module_version": "^1.3.3",
       "data": {
        "_igraph_index": 3,
        "category": "Pathway",
        "feature_name": "Hemostasis",
        "id": "REACT::R-HSA-109582",
        "id_prefix": "REACT",
        "in_query": 0,
        "name": "REACT::R-HSA-109582"
       },
       "grabbable": true,
       "grabbed": false,
       "position": {
        "x": 723.2929201881949,
        "y": 189.58011648587126
       },
       "selectable": false
      }
     },
     "29fb556c611d401691f65d992d628c99": {
      "model_module": "@jupyter-widgets/base",
      "model_module_version": "2.0.0",
      "model_name": "LayoutModel",
      "state": {}
     },
     "2c91418bd164457287e7bef6ea0964f3": {
      "model_module": "jupyter-cytoscape",
      "model_module_version": "^1.3.3",
      "model_name": "NodeModel",
      "state": {
       "_model_module_version": "^1.3.3",
       "_view_module_version": "^1.3.3",
       "data": {
        "_igraph_index": 9,
        "category": "Gene",
        "feature_name": "RBPJ",
        "id": "2192584",
        "identifier": 3516,
        "in_query": 1,
        "name": "2192584",
        "source": "Entrez Gene"
       },
       "grabbable": true,
       "grabbed": false,
       "position": {
        "x": 179.00213495762452,
        "y": 87.55337484698424
       },
       "selectable": false
      }
     },
     "2d433c3c9a2e45ccb2ab79ae3d047bde": {
      "model_module": "jupyter-cytoscape",
      "model_module_version": "^1.3.3",
      "model_name": "GraphModel",
      "state": {
       "_adj": {
        "10288": {},
        "10577": {},
        "10992": {},
        "11026": {},
        "121512": {},
        "1337": {},
        "2308.0": {},
        "2624": {},
        "3280": {},
        "3482": {},
        "3516.0": {},
        "4791": {},
        "51176": {},
        "595": {},
        "596.0": {},
        "5971": {},
        "6204": {},
        "712": {},
        "7157": {},
        "8678": {},
        "NCBIGene::10288": {
         "REACT::R-HSA-168256": 1
        },
        "NCBIGene::10577": {
         "REACT::R-HSA-168256": 1
        },
        "NCBIGene::10992": {},
        "NCBIGene::11026": {
         "REACT::R-HSA-168256": 1
        },
        "NCBIGene::121512": {
         "REACT::R-HSA-162582": 1
        },
        "NCBIGene::1337": {
         "REACT::R-HSA-212436": 1
        },
        "NCBIGene::2308.0": {
         "NCBIGene::595": 1
        },
        "NCBIGene::2624": {
         "REACT::R-HSA-212436": 1
        },
        "NCBIGene::3280": {
         "NCBIGene::3516.0": 1,
         "REACT::R-HSA-162582": 2,
         "REACT::R-HSA-1643685": 1,
         "REACT::R-HSA-212436": 2
        },
        "NCBIGene::3482": {
         "REACT::R-HSA-168256": 1
        },
        "NCBIGene::3516.0": {
         "NCBIGene::3280": 1
        },
        "NCBIGene::4791": {
         "REACT::R-HSA-1643685": 1,
         "REACT::R-HSA-168256": 1
        },
        "NCBIGene::51176": {
         "REACT::R-HSA-162582": 2,
         "REACT::R-HSA-212436": 1
        },
        "NCBIGene::595": {
         "NCBIGene::2308.0": 1,
         "REACT::R-HSA-162582": 2,
         "REACT::R-HSA-1643685": 1,
         "REACT::R-HSA-168256": 1,
         "REACT::R-HSA-212436": 1
        },
        "NCBIGene::596.0": {
         "NCBIGene::7157": 1
        },
        "NCBIGene::5971": {
         "REACT::R-HSA-168256": 1
        },
        "NCBIGene::6204": {
         "REACT::R-HSA-1643685": 1
        },
        "NCBIGene::712": {
         "REACT::R-HSA-168256": 1
        },
        "NCBIGene::7157": {
         "NCBIGene::596.0": 1,
         "REACT::R-HSA-162582": 2,
         "REACT::R-HSA-1643685": 1,
         "REACT::R-HSA-168256": 1,
         "REACT::R-HSA-212436": 1
        },
        "NCBIGene::8678": {
         "REACT::R-HSA-1643685": 2,
         "REACT::R-HSA-168256": 1
        },
        "R-HSA-162582": {},
        "R-HSA-1643685": {},
        "R-HSA-168256": {},
        "R-HSA-212436": {},
        "R-HSA-8953854": {},
        "REACT::R-HSA-162582": {
         "NCBIGene::121512": 1,
         "NCBIGene::3280": 2,
         "NCBIGene::51176": 2,
         "NCBIGene::595": 2,
         "NCBIGene::7157": 2
        },
        "REACT::R-HSA-1643685": {
         "NCBIGene::3280": 1,
         "NCBIGene::4791": 1,
         "NCBIGene::595": 1,
         "NCBIGene::6204": 1,
         "NCBIGene::7157": 1,
         "NCBIGene::8678": 2
        },
        "REACT::R-HSA-168256": {
         "NCBIGene::10288": 1,
         "NCBIGene::10577": 1,
         "NCBIGene::11026": 1,
         "NCBIGene::3482": 1,
         "NCBIGene::4791": 1,
         "NCBIGene::595": 1,
         "NCBIGene::5971": 1,
         "NCBIGene::712": 1,
         "NCBIGene::7157": 1,
         "NCBIGene::8678": 1
        },
        "REACT::R-HSA-212436": {
         "NCBIGene::1337": 1,
         "NCBIGene::2624": 1,
         "NCBIGene::3280": 2,
         "NCBIGene::51176": 1,
         "NCBIGene::595": 1,
         "NCBIGene::7157": 1
        },
        "REACT::R-HSA-8953854": {}
       },
       "_model_module_version": "^1.3.3",
       "_view_module": "jupyter-cytoscape",
       "_view_module_version": "^1.3.3",
       "edges": [
        "IPY_MODEL_55a3f36890f04f92a3215a981a9fc59e",
        "IPY_MODEL_0ccf253ea2f3483992f5b482843ea188",
        "IPY_MODEL_ed040b46a8924b0b890fd9b2f23b27eb",
        "IPY_MODEL_02ee518b220949da92d18cc25a6abeb6",
        "IPY_MODEL_3cb3534ddbb747769fc03c0cc2234752",
        "IPY_MODEL_e72f6790cd214fa9854a40f2469b12e2",
        "IPY_MODEL_8f82472552444641984407f9eb79c807",
        "IPY_MODEL_4ac000f5b9d544afa7c347b2ec31dc8c",
        "IPY_MODEL_4a697bc9204047a49cde3d927c16f73f",
        "IPY_MODEL_7c3a2795f091429e9a3cb8c5b93c9329",
        "IPY_MODEL_db19c30d24c64ec996efae3607491ffd",
        "IPY_MODEL_0124ee8aea154ad99d66963b7dfb0044",
        "IPY_MODEL_559133c2fe394181b9cbe2292eac8738",
        "IPY_MODEL_757db57dcd03492192d28620e05fb2f1",
        "IPY_MODEL_54d821ddec1648ed8ba1358dfe8612eb",
        "IPY_MODEL_1de5cba0457f47a2914c2b2a84d0dd3d",
        "IPY_MODEL_ecac55f5b3194fa9a1db42b6922ab320",
        "IPY_MODEL_68424672e2894c4cb8a03e4616290d0c",
        "IPY_MODEL_94295aa17f4840c9ad319877c21ca47e",
        "IPY_MODEL_9216346655da44bcae66f6dd4bbd2b7b",
        "IPY_MODEL_7397d8fa2b6e4a568549203148b507a6",
        "IPY_MODEL_5557efc0268a4380a71b3fbaf9d820c0",
        "IPY_MODEL_511d26d1cc5c43eb9775accf4ebb556f",
        "IPY_MODEL_ae1db2db925949a6809a1d3dcd5c9d36",
        "IPY_MODEL_c04fb1c728874f6d86cf39c631d059f1",
        "IPY_MODEL_a6ce33c9573b4740b1e799123af89e79",
        "IPY_MODEL_0b8de01411bd4551a10323c564f599fa",
        "IPY_MODEL_5995ec48145d47c38edc7c1c68ace9ae",
        "IPY_MODEL_df0bf04cff8a4aa68f783791027ca85c",
        "IPY_MODEL_2e22aa0ac6c64a6f9d1477b996725f02",
        "IPY_MODEL_96965d49fca84b0889900f2ecd644b54",
        "IPY_MODEL_74fd2f0d35284cd880725a4ec48e6978",
        "IPY_MODEL_634c05500a0e4349aeb33506e1af2403",
        "IPY_MODEL_941c440c20b2423ba29743d74c7b5beb",
        "IPY_MODEL_dd3ff8f0319340899b944d9bd1bda967",
        "IPY_MODEL_08dc0d5b38a1462e834c6f77e73e8bc0",
        "IPY_MODEL_040390eb83e340349e219ab2c93ba906",
        "IPY_MODEL_34ed44f76744463991b8b73ac530df20"
       ],
       "nodes": [
        "IPY_MODEL_345432b327744d718ee5a0cfc91d94ce",
        "IPY_MODEL_12987f6f91be4dfa976e7dbbc333cacf",
        "IPY_MODEL_2e216e6eba5d482aad6f4cf939eb8b04",
        "IPY_MODEL_6e027c70c12447b7bab7fadf641236ab",
        "IPY_MODEL_5056e4bfde504070ad57ebdabf92823f",
        "IPY_MODEL_58f355c4bbb247399c9d230d57820f87",
        "IPY_MODEL_6f76a30575b9426e9d0c6d2658e105a8",
        "IPY_MODEL_905bbf5a92a940d19f9a2945b8a6b523",
        "IPY_MODEL_8144e165dedc4996b143d6983c3d3952",
        "IPY_MODEL_623d1eca5219491aa722ba8d37451871",
        "IPY_MODEL_c4dde72f643a476dada620a61956b930",
        "IPY_MODEL_d2adf1f45313448ebd5b5aa24f17507e",
        "IPY_MODEL_a78c87e2eb0f400184cc60c7cee214ea",
        "IPY_MODEL_cde6e1a49a9e49a6bff5df0e037b84c3",
        "IPY_MODEL_a532acf62ae14e6aa210f0c0b822c61d",
        "IPY_MODEL_08c2ac1a503f4da6939e594321a84113",
        "IPY_MODEL_4cbc3844e9ba4de8bc259ebd394a8734",
        "IPY_MODEL_308cd38dfd544e20a7c4d0ec9f1ad616",
        "IPY_MODEL_3fbc81d1b12a4af09f071309db6a1dca",
        "IPY_MODEL_c38899609ea947e2a3e93deb5cdb4841",
        "IPY_MODEL_eb81be22eaa7433f8e5756bb5d47439e",
        "IPY_MODEL_ecfe2cdc9e254ad1a285c744941b0d5f",
        "IPY_MODEL_57c9fad5c982400b90476a54aee74b22",
        "IPY_MODEL_156aff9a3d1b447e9cafccaa95f36001",
        "IPY_MODEL_5c70aab64a744f8897eb50cd9c8ec390",
        "IPY_MODEL_9a2988dc60e74421aedd3c3ecf1eab3f",
        "IPY_MODEL_ed708544eb70439690404529f2174c7e",
        "IPY_MODEL_5a65d3b7ef2d49a1be16bbbe0e74c4d1",
        "IPY_MODEL_d6e74ddbd50a4b778088c6129652fb95",
        "IPY_MODEL_c91c99b7b92a491e8c5fc5a1f229300c",
        "IPY_MODEL_ff4cfcf1c297461d93035c2c7d0904cc",
        "IPY_MODEL_f45431caf2814aba99793891c0eafc00",
        "IPY_MODEL_726e8e21de904a93bf8635fd1fe4620c",
        "IPY_MODEL_f6fc0e0218b84f4891363d6e6d821a3c",
        "IPY_MODEL_a7405afb44ab4e629a934b2a1360ca3c",
        "IPY_MODEL_94d879a4c18f4c4088365ee6bef61b20",
        "IPY_MODEL_fffbff0e5c144c11a4e1d58cac9e55d4",
        "IPY_MODEL_8ad05a8acf224d71a15839cea8525af1",
        "IPY_MODEL_7947d6c22d3743beb1da145e38ad3afa",
        "IPY_MODEL_1f7d715a43f841658e67ddcb57d22566",
        "IPY_MODEL_d994a2910dd34d90a67a22078bba4ee5",
        "IPY_MODEL_403bed5702c34f83a03b8db9964d2a32",
        "IPY_MODEL_bd6e1cc9f2b44bada8a3e468d23f5bec",
        "IPY_MODEL_7b9fe42550014c18a7a16f4dc6ce3040",
        "IPY_MODEL_105ecd68969443698110c2b1470ffc1e",
        "IPY_MODEL_10b3da3408a94fffb6423c891e94a03e",
        "IPY_MODEL_b8ac6bed97434c2f9ce5aaa16bfffac4",
        "IPY_MODEL_3590b23d76b74a5390d4d5fc1f9f2192",
        "IPY_MODEL_f7b3a82548fe44d8871a2117b38356ba",
        "IPY_MODEL_882ffe6cdfe14f0092c3aeaf846a2d8f"
       ]
      }
     },
     "2e216e6eba5d482aad6f4cf939eb8b04": {
      "model_module": "jupyter-cytoscape",
      "model_module_version": "^1.3.3",
      "model_name": "NodeModel",
      "state": {
       "_model_module_version": "^1.3.3",
       "_view_module_version": "^1.3.3",
       "data": {
        "_igraph_index": 2,
        "category": "Gene",
        "feature_name": "BCL2",
        "id": "NCBIGene::596.0",
        "id_prefix": "NCBIGene",
        "in_query": 1,
        "name": "NCBIGene::596.0"
       },
       "grabbable": true,
       "grabbed": false,
       "position": {
        "x": -135.46280166983772,
        "y": 400.2165538947209
       },
       "selectable": false
      }
     },
     "2e22aa0ac6c64a6f9d1477b996725f02": {
      "model_module": "jupyter-cytoscape",
      "model_module_version": "^1.3.3",
      "model_name": "EdgeModel",
      "state": {
       "_model_module_version": "^1.3.3",
       "_view_module_version": "^1.3.3",
       "classes": " multiple_edges ",
       "data": {
        "Knowledge_Source": "Reactome",
        "Primary_Knowledge_Source": "R-HSA-168256",
        "_igraph_index": 30,
        "id": "2ea374bb-80f7-4789-a462-1ad593a8ffa1",
        "predicate": "reactome_participates_in",
        "publications": "PMID:34788843",
        "source": "REACT::R-HSA-168256",
        "target": "NCBIGene::11026"
       },
       "selectable": false
      }
     },
     "308cd38dfd544e20a7c4d0ec9f1ad616": {
      "model_module": "jupyter-cytoscape",
      "model_module_version": "^1.3.3",
      "model_name": "NodeModel",
      "state": {
       "_model_module_version": "^1.3.3",
       "_view_module_version": "^1.3.3",
       "data": {
        "_igraph_index": 17,
        "category": "Gene",
        "feature_name": "SF3B2",
        "id": "NCBIGene::10992",
        "id_prefix": "NCBIGene",
        "in_query": 1,
        "name": "NCBIGene::10992"
       },
       "grabbable": true,
       "grabbed": false,
       "position": {
        "x": 359.4629707487725,
        "y": -106.5300392999041
       },
       "selectable": false
      }
     },
     "345432b327744d718ee5a0cfc91d94ce": {
      "model_module": "jupyter-cytoscape",
      "model_module_version": "^1.3.3",
      "model_name": "NodeModel",
      "state": {
       "_model_module_version": "^1.3.3",
       "_view_module_version": "^1.3.3",
       "data": {
        "_igraph_index": 0,
        "category": "Gene",
        "feature_name": "CCND1",
        "id": "NCBIGene::595",
        "id_prefix": "NCBIGene",
        "in_query": 0,
        "name": "NCBIGene::595"
       },
       "grabbable": true,
       "grabbed": false,
       "position": {
        "x": 605.6977373580947,
        "y": 85.96996170009588
       },
       "selectable": false
      }
     },
     "348ae1f2e71a45ab80be137877d23607": {
      "model_module": "jupyter-cytoscape",
      "model_module_version": "^1.3.3",
      "model_name": "GraphModel",
      "state": {
       "_adj": {},
       "_model_module_version": "^1.3.3",
       "_view_module": "jupyter-cytoscape",
       "_view_module_version": "^1.3.3"
      }
     },
     "348f2362c11e4832829e7a5158dc477f": {
      "model_module": "jupyter-cytoscape",
      "model_module_version": "^1.3.3",
      "model_name": "EdgeModel",
      "state": {
       "_model_module_version": "^1.3.3",
       "_view_module_version": "^1.3.3",
       "data": {
        "_igraph_index": 0,
        "id": "d40284c0-ecfb-4f6b-93c0-f1a026f925f2",
        "source": "42316",
        "target": "2191899",
        "type": "UPREGULATES_CuG"
       },
       "selectable": false
      }
     },
     "34ed44f76744463991b8b73ac530df20": {
      "model_module": "jupyter-cytoscape",
      "model_module_version": "^1.3.3",
      "model_name": "EdgeModel",
      "state": {
       "_model_module_version": "^1.3.3",
       "_view_module_version": "^1.3.3",
       "classes": " multiple_edges ",
       "data": {
        "Knowledge_Source": "Reactome",
        "Primary_Knowledge_Source": "R-HSA-8953854",
        "_igraph_index": 36,
        "id": "65bdfe06-b063-4982-be72-211dbb7ea6e4",
        "predicate": "reactome_participates_in",
        "publications": "PMID:34788843",
        "source": "REACT::R-HSA-8953854",
        "target": "NCBIGene::6204"
       },
       "selectable": false
      }
     },
     "3590b23d76b74a5390d4d5fc1f9f2192": {
      "model_module": "jupyter-cytoscape",
      "model_module_version": "^1.3.3",
      "model_name": "NodeModel",
      "state": {
       "_model_module_version": "^1.3.3",
       "_view_module_version": "^1.3.3",
       "data": {
        "id": "NCBIGene::2624"
       },
       "grabbable": true,
       "grabbed": false,
       "position": {
        "x": 0,
        "y": 0
       },
       "selectable": false
      }
     },
     "37614a31f057400da79fdb174a5da28b": {
      "model_module": "jupyter-cytoscape",
      "model_module_version": "^1.3.3",
      "model_name": "EdgeModel",
      "state": {
       "_model_module_version": "^1.3.3",
       "_view_module_version": "^1.3.3",
       "data": {
        "_igraph_index": 8,
        "id": "9b928153-6240-414a-a22d-0ef8cd39aff1",
        "source": "2191899",
        "target": "2190368",
        "type": "UPREGULATES_KGuG"
       },
       "selectable": false
      }
     },
     "3991a3d71d9c4f0db1dc48149ad1804e": {
      "model_module": "jupyter-cytoscape",
      "model_module_version": "^1.3.3",
      "model_name": "EdgeModel",
      "state": {
       "_model_module_version": "^1.3.3",
       "_view_module_version": "^1.3.3",
       "data": {
        "_igraph_index": 27,
        "id": "851515f8-462f-4156-abe3-7946230611ac",
        "source": "2175196",
        "target": "2197473",
        "type": "EXPRESSES_AeG"
       },
       "selectable": false
      }
     },
     "39c568ce935e493c85a98c13771fb46a": {
      "model_module": "jupyter-cytoscape",
      "model_module_version": "^1.3.3",
      "model_name": "NodeModel",
      "state": {
       "_model_module_version": "^1.3.3",
       "_view_module_version": "^1.3.3",
       "data": {
        "id": "NCBIGene::10577"
       },
       "grabbable": true,
       "grabbed": false,
       "position": {
        "x": 0,
        "y": 0
       },
       "selectable": false
      }
     },
     "3b11138f727f4b5c833dca4e384d0a2d": {
      "model_module": "jupyter-cytoscape",
      "model_module_version": "^1.3.3",
      "model_name": "NodeModel",
      "state": {
       "_model_module_version": "^1.3.3",
       "_view_module_version": "^1.3.3",
       "data": {
        "_igraph_index": 5,
        "category": "Gene",
        "feature_name": "COX6A1",
        "id": "2190948",
        "identifier": 1337,
        "in_query": 1,
        "name": "2190948",
        "source": "Entrez Gene"
       },
       "grabbable": true,
       "grabbed": false,
       "position": {
        "x": 954.0021389576247,
        "y": 431.8612478473545
       },
       "selectable": false
      }
     },
     "3b9439ee516f4b13b52e4e7259dce8ff": {
      "model_module": "jupyter-cytoscape",
      "model_module_version": "^1.3.3",
      "model_name": "EdgeModel",
      "state": {
       "_model_module_version": "^1.3.3",
       "_view_module_version": "^1.3.3",
       "data": {
        "_igraph_index": 25,
        "id": "492241aa-b3d9-4af5-b634-5639c81237c4",
        "source": "2193539",
        "target": "2196539",
        "type": "UPREGULATES_KGuG"
       },
       "selectable": false
      }
     },
     "3cb3534ddbb747769fc03c0cc2234752": {
      "model_module": "jupyter-cytoscape",
      "model_module_version": "^1.3.3",
      "model_name": "EdgeModel",
      "state": {
       "_model_module_version": "^1.3.3",
       "_view_module_version": "^1.3.3",
       "classes": " multiple_edges ",
       "data": {
        "Knowledge_Source": "Reactome",
        "Primary_Knowledge_Source": "R-HSA-162582",
        "_igraph_index": 15,
        "id": "d9def44e-42ca-4fca-9685-040d0f8efcc6",
        "predicate": "reactome_participates_in",
        "publications": "PMID:34788843",
        "source": "NCBIGene::595",
        "target": "REACT::R-HSA-162582"
       },
       "selectable": false
      }
     },
     "3fbc81d1b12a4af09f071309db6a1dca": {
      "model_module": "jupyter-cytoscape",
      "model_module_version": "^1.3.3",
      "model_name": "NodeModel",
      "state": {
       "_model_module_version": "^1.3.3",
       "_view_module_version": "^1.3.3",
       "data": {
        "_igraph_index": 18,
        "category": "Gene",
        "feature_name": "LILRA3",
        "id": "NCBIGene::11026",
        "id_prefix": "NCBIGene",
        "in_query": 1,
        "name": "NCBIGene::11026"
       },
       "grabbable": true,
       "grabbed": false,
       "position": {
        "x": 254.53720033016225,
        "y": 468.4699637000959
       },
       "selectable": false
      }
     },
     "403bed5702c34f83a03b8db9964d2a32": {
      "model_module": "jupyter-cytoscape",
      "model_module_version": "^1.3.3",
      "model_name": "NodeModel",
      "state": {
       "_model_module_version": "^1.3.3",
       "_view_module_version": "^1.3.3",
       "data": {
        "id": "NCBIGene::11026"
       },
       "grabbable": true,
       "grabbed": false,
       "position": {
        "x": 0,
        "y": 0
       },
       "selectable": false
      }
     },
     "414877453d634c4297d9044450a6d6f4": {
      "model_module": "jupyter-cytoscape",
      "model_module_version": "^1.3.3",
      "model_name": "NodeModel",
      "state": {
       "_model_module_version": "^1.3.3",
       "_view_module_version": "^1.3.3",
       "data": {
        "_igraph_index": 2,
        "category": "Anatomy",
        "feature_name": "urinary bladder",
        "id": "2175196",
        "identifier": "UBERON:0001255",
        "in_query": 0,
        "name": "2175196",
        "source": "Uberon"
       },
       "grabbable": true,
       "grabbed": false,
       "position": {
        "x": 176.50213495762455,
        "y": 280.05337584698424
       },
       "selectable": false
      }
     },
     "447f1db1dbde46e7afc2e853c3d0b153": {
      "model_module": "jupyter-cytoscape",
      "model_module_version": "^1.3.3",
      "model_name": "EdgeModel",
      "state": {
       "_model_module_version": "^1.3.3",
       "_view_module_version": "^1.3.3",
       "data": {
        "_igraph_index": 28,
        "id": "400b956b-9f9f-403f-b5ad-0c213870e0a6",
        "source": "2194503",
        "target": "2197473",
        "type": "UPREGULATES_KGuG"
       },
       "selectable": false
      }
     },
     "448563faa81e47aaa70173ec27a0f474": {
      "model_module": "jupyter-cytoscape",
      "model_module_version": "^1.3.3",
      "model_name": "EdgeModel",
      "state": {
       "_model_module_version": "^1.3.3",
       "_view_module_version": "^1.3.3",
       "data": {
        "Knowledge_Source": "Reactome",
        "Primary_Knowledge_Source": "R-HSA-168249",
        "_igraph_index": 2,
        "id": "3757a57d-de85-4e73-ad15-52606009f493",
        "predicate": "reactome_participates_in",
        "publications": "PMID:34788843",
        "source": "NCBIGene::7157",
        "target": "REACT::R-HSA-168249"
       },
       "selectable": false
      }
     },
     "458cd835f3cc452fb4fde1a5ae1a99f6": {
      "model_module": "jupyter-cytoscape",
      "model_module_version": "^1.3.3",
      "model_name": "EdgeModel",
      "state": {
       "_model_module_version": "^1.3.3",
       "_view_module_version": "^1.3.3",
       "data": {
        "Knowledge_Source": "Reactome",
        "Primary_Knowledge_Source": "R-HSA-168249",
        "_igraph_index": 3,
        "id": "50600cea-9f36-4ab8-9ca0-70f8bbd0f0b2",
        "predicate": "reactome_participates_in",
        "publications": "PMID:34788843",
        "source": "NCBIGene::4791",
        "target": "REACT::R-HSA-168249"
       },
       "selectable": false
      }
     },
     "463de88032e84abcae1d96d3e391ba6b": {
      "model_module": "jupyter-cytoscape",
      "model_module_version": "^1.3.3",
      "model_name": "EdgeModel",
      "state": {
       "_model_module_version": "^1.3.3",
       "_view_module_version": "^1.3.3",
       "data": {
        "_igraph_index": 3,
        "id": "c16ebe5b-bfff-4f8d-b96d-8f430e1d84f9",
        "source": "2191899",
        "target": "2190368",
        "type": "UPREGULATES_KGuG"
       },
       "selectable": false
      }
     },
     "4a535078e9fd434185aad7ac8dee559e": {
      "model_module": "jupyter-cytoscape",
      "model_module_version": "^1.3.3",
      "model_name": "NodeModel",
      "state": {
       "_model_module_version": "^1.3.3",
       "_view_module_version": "^1.3.3",
       "data": {
        "_igraph_index": 7,
        "category": "Gene",
        "feature_name": "GATA2",
        "id": "2191899",
        "identifier": 2624,
        "in_query": 1,
        "name": "2191899",
        "source": "Entrez Gene"
       },
       "grabbable": true,
       "grabbed": false,
       "position": {
        "x": 759.0021379576245,
        "y": 255.20620834339357
       },
       "selectable": false
      }
     },
     "4a697bc9204047a49cde3d927c16f73f": {
      "model_module": "jupyter-cytoscape",
      "model_module_version": "^1.3.3",
      "model_name": "EdgeModel",
      "state": {
       "_model_module_version": "^1.3.3",
       "_view_module_version": "^1.3.3",
       "classes": " multiple_edges ",
       "data": {
        "Knowledge_Source": "Reactome",
        "Primary_Knowledge_Source": "R-HSA-1643685",
        "_igraph_index": 9,
        "id": "565d4ecd-e858-4600-99cd-e27c808a8246",
        "predicate": "reactome_participates_in",
        "publications": "PMID:34788843",
        "source": "NCBIGene::7157",
        "target": "REACT::R-HSA-1643685"
       },
       "selectable": false
      }
     },
     "4ac000f5b9d544afa7c347b2ec31dc8c": {
      "model_module": "jupyter-cytoscape",
      "model_module_version": "^1.3.3",
      "model_name": "EdgeModel",
      "state": {
       "_model_module_version": "^1.3.3",
       "_view_module_version": "^1.3.3",
       "classes": " multiple_edges ",
       "data": {
        "Knowledge_Source": "Reactome",
        "Primary_Knowledge_Source": "R-HSA-168256",
        "_igraph_index": 4,
        "id": "7a198aa2-abe3-44ad-876b-3ea1fb1a40de",
        "predicate": "reactome_participates_in",
        "publications": "PMID:34788843",
        "source": "NCBIGene::7157",
        "target": "REACT::R-HSA-168256"
       },
       "selectable": false
      }
     },
     "4ac5d165c51043349377e8356fd97c70": {
      "model_module": "jupyter-cytoscape",
      "model_module_version": "^1.3.3",
      "model_name": "GraphModel",
      "state": {
       "_adj": {},
       "_model_module_version": "^1.3.3",
       "_view_module": "jupyter-cytoscape",
       "_view_module_version": "^1.3.3"
      }
     },
     "4aede8dfc7114ffbad6a3e47a4ac0cbb": {
      "model_module": "jupyter-cytoscape",
      "model_module_version": "^1.3.3",
      "model_name": "NodeModel",
      "state": {
       "_model_module_version": "^1.3.3",
       "_view_module_version": "^1.3.3",
       "data": {
        "id": "NCBIGene::2624"
       },
       "grabbable": true,
       "grabbed": false,
       "position": {
        "x": 0,
        "y": 0
       },
       "selectable": false
      }
     },
     "4cbc3844e9ba4de8bc259ebd394a8734": {
      "model_module": "jupyter-cytoscape",
      "model_module_version": "^1.3.3",
      "model_name": "NodeModel",
      "state": {
       "_model_module_version": "^1.3.3",
       "_view_module_version": "^1.3.3",
       "data": {
        "_igraph_index": 16,
        "category": "Gene",
        "feature_name": "NPC2",
        "id": "NCBIGene::10577",
        "id_prefix": "NCBIGene",
        "in_query": 1,
        "name": "NCBIGene::10577"
       },
       "grabbable": true,
       "grabbed": false,
       "position": {
        "x": 59.53719933016229,
        "y": 468.4699637000959
       },
       "selectable": false
      }
     },
     "5056e4bfde504070ad57ebdabf92823f": {
      "model_module": "jupyter-cytoscape",
      "model_module_version": "^1.3.3",
      "model_name": "NodeModel",
      "state": {
       "_model_module_version": "^1.3.3",
       "_view_module_version": "^1.3.3",
       "data": {
        "_igraph_index": 4,
        "category": "Gene",
        "feature_name": "LEF1",
        "id": "NCBIGene::51176",
        "id_prefix": "NCBIGene",
        "in_query": 1,
        "name": "NCBIGene::51176"
       },
       "grabbable": true,
       "grabbed": false,
       "position": {
        "x": 247.2763123630119,
        "y": 663.4699647000959
       },
       "selectable": false
      }
     },
     "511d26d1cc5c43eb9775accf4ebb556f": {
      "model_module": "jupyter-cytoscape",
      "model_module_version": "^1.3.3",
      "model_name": "EdgeModel",
      "state": {
       "_model_module_version": "^1.3.3",
       "_view_module_version": "^1.3.3",
       "classes": " multiple_edges ",
       "data": {
        "Knowledge_Source": "Reactome",
        "Primary_Knowledge_Source": "R-HSA-212436",
        "_igraph_index": 26,
        "id": "9a5611d0-03f1-4dd1-b73a-814095b5e19b",
        "predicate": "reactome_participates_in",
        "publications": "PMID:34788843",
        "source": "NCBIGene::3280",
        "target": "REACT::R-HSA-212436"
       },
       "selectable": false
      }
     },
     "51335a1e3edc4b3197c3860f5b3eaaf8": {
      "model_module": "jupyter-cytoscape",
      "model_module_version": "^1.3.3",
      "model_name": "NodeModel",
      "state": {
       "_model_module_version": "^1.3.3",
       "_view_module_version": "^1.3.3",
       "data": {
        "_igraph_index": 5,
        "category": "Gene",
        "feature_name": "NPC2",
        "id": "NCBIGene::10577",
        "id_prefix": "NCBIGene",
        "in_query": 1,
        "name": "NCBIGene::10577"
       },
       "grabbable": true,
       "grabbed": false,
       "position": {
        "x": 725.7929201881949,
        "y": 382.0801174858712
       },
       "selectable": false
      }
     },
     "5164afbd60514ba0951ff358d9895d87": {
      "model_module": "jupyter-cytoscape",
      "model_module_version": "^1.3.3",
      "model_name": "NodeModel",
      "state": {
       "_model_module_version": "^1.3.3",
       "_view_module_version": "^1.3.3",
       "data": {
        "_igraph_index": 18,
        "category": "Gene",
        "feature_name": "LILRB2",
        "id": "2197914",
        "identifier": 10288,
        "in_query": 1,
        "name": "2197914",
        "source": "Entrez Gene"
       },
       "grabbable": true,
       "grabbed": false,
       "position": {
        "x": 369.0021359576246,
        "y": 340.0347317850878
       },
       "selectable": false
      }
     },
     "54d821ddec1648ed8ba1358dfe8612eb": {
      "model_module": "jupyter-cytoscape",
      "model_module_version": "^1.3.3",
      "model_name": "EdgeModel",
      "state": {
       "_model_module_version": "^1.3.3",
       "_view_module_version": "^1.3.3",
       "classes": " multiple_edges ",
       "data": {
        "Knowledge_Source": "Reactome",
        "Primary_Knowledge_Source": "R-HSA-162582",
        "_igraph_index": 18,
        "id": "58e646b9-2285-4a0f-845a-457c97604bda",
        "predicate": "reactome_participates_in",
        "publications": "PMID:34788843",
        "source": "NCBIGene::51176",
        "target": "REACT::R-HSA-162582"
       },
       "selectable": false
      }
     },
     "55067d177b384670b07c1e3e842ae4fd": {
      "model_module": "jupyter-cytoscape",
      "model_module_version": "^1.3.3",
      "model_name": "EdgeModel",
      "state": {
       "_model_module_version": "^1.3.3",
       "_view_module_version": "^1.3.3",
       "data": {
        "_igraph_index": 21,
        "id": "245aefa4-7d72-46a1-9a49-35d1cebe9503",
        "source": "2193539",
        "target": "2194503",
        "type": "UPREGULATES_OGuG"
       },
       "selectable": false
      }
     },
     "5557efc0268a4380a71b3fbaf9d820c0": {
      "model_module": "jupyter-cytoscape",
      "model_module_version": "^1.3.3",
      "model_name": "EdgeModel",
      "state": {
       "_model_module_version": "^1.3.3",
       "_view_module_version": "^1.3.3",
       "classes": " multiple_edges ",
       "data": {
        "Knowledge_Source": "Reactome",
        "Primary_Knowledge_Source": "R-HSA-212436",
        "_igraph_index": 25,
        "id": "de540663-97d0-43a3-86cc-59aea03872b3",
        "predicate": "reactome_participates_in",
        "publications": "PMID:34788843",
        "source": "NCBIGene::3280",
        "target": "REACT::R-HSA-212436"
       },
       "selectable": false
      }
     },
     "559133c2fe394181b9cbe2292eac8738": {
      "model_module": "jupyter-cytoscape",
      "model_module_version": "^1.3.3",
      "model_name": "EdgeModel",
      "state": {
       "_model_module_version": "^1.3.3",
       "_view_module_version": "^1.3.3",
       "classes": " multiple_edges ",
       "data": {
        "Knowledge_Source": "Reactome",
        "Primary_Knowledge_Source": "R-HSA-168256",
        "_igraph_index": 5,
        "id": "e7505fe7-52b8-4598-8513-f50bf2d7f6d2",
        "predicate": "reactome_participates_in",
        "publications": "PMID:34788843",
        "source": "NCBIGene::4791",
        "target": "REACT::R-HSA-168256"
       },
       "selectable": false
      }
     },
     "55a3f36890f04f92a3215a981a9fc59e": {
      "model_module": "jupyter-cytoscape",
      "model_module_version": "^1.3.3",
      "model_name": "EdgeModel",
      "state": {
       "_model_module_version": "^1.3.3",
       "_view_module_version": "^1.3.3",
       "classes": " multiple_edges ",
       "data": {
        "Knowledge_Source": "Multiomics-BigGIM-DrugResponse",
        "Primary_Knowledge_Source": "hsa04068",
        "_igraph_index": 2,
        "id": "3b287ca0-61c5-4c30-b63a-b2498df916df",
        "predicate": "kegg_expression",
        "publications": "PMID:27899662",
        "source": "NCBIGene::595",
        "target": "NCBIGene::2308.0"
       },
       "selectable": false
      }
     },
     "57c9fad5c982400b90476a54aee74b22": {
      "model_module": "jupyter-cytoscape",
      "model_module_version": "^1.3.3",
      "model_name": "NodeModel",
      "state": {
       "_model_module_version": "^1.3.3",
       "_view_module_version": "^1.3.3",
       "data": {
        "_igraph_index": 22,
        "category": "Gene",
        "feature_name": "IGF2R",
        "id": "NCBIGene::3482",
        "id_prefix": "NCBIGene",
        "in_query": 1,
        "name": "NCBIGene::3482"
       },
       "grabbable": true,
       "grabbed": false,
       "position": {
        "x": 449.5372013301623,
        "y": 468.4699637000959
       },
       "selectable": false
      }
     },
     "58f355c4bbb247399c9d230d57820f87": {
      "model_module": "jupyter-cytoscape",
      "model_module_version": "^1.3.3",
      "model_name": "NodeModel",
      "state": {
       "_model_module_version": "^1.3.3",
       "_view_module_version": "^1.3.3",
       "data": {
        "_igraph_index": 5,
        "category": "Gene",
        "feature_name": "HES1",
        "id": "NCBIGene::3280",
        "id_prefix": "NCBIGene",
        "in_query": 0,
        "name": "NCBIGene::3280"
       },
       "grabbable": true,
       "grabbed": false,
       "position": {
        "x": 813.5741074393659,
        "y": 416.1174468373418
       },
       "selectable": false
      }
     },
     "5995ec48145d47c38edc7c1c68ace9ae": {
      "model_module": "jupyter-cytoscape",
      "model_module_version": "^1.3.3",
      "model_name": "EdgeModel",
      "state": {
       "_model_module_version": "^1.3.3",
       "_view_module_version": "^1.3.3",
       "classes": " multiple_edges ",
       "data": {
        "Knowledge_Source": "Reactome",
        "Primary_Knowledge_Source": "R-HSA-168256",
        "_igraph_index": 27,
        "id": "e9e346c0-3230-4b58-825e-66a131674d3c",
        "predicate": "reactome_participates_in",
        "publications": "PMID:34788843",
        "source": "REACT::R-HSA-168256",
        "target": "NCBIGene::10288"
       },
       "selectable": false
      }
     },
     "5a3d106e0fd648efac845f7cac046637": {
      "model_module": "jupyter-cytoscape",
      "model_module_version": "^1.3.3",
      "model_name": "NodeModel",
      "state": {
       "_model_module_version": "^1.3.3",
       "_view_module_version": "^1.3.3",
       "data": {
        "id": "NCBIGene::4791"
       },
       "grabbable": true,
       "grabbed": false,
       "position": {
        "x": 0,
        "y": 0
       },
       "selectable": false
      }
     },
     "5a3f4ce958a84157a13d44a33a7a482b": {
      "model_module": "jupyter-cytoscape",
      "model_module_version": "^1.3.3",
      "model_name": "NodeModel",
      "state": {
       "_model_module_version": "^1.3.3",
       "_view_module_version": "^1.3.3",
       "data": {
        "id": "NCBIGene::596.0"
       },
       "grabbable": true,
       "grabbed": false,
       "position": {
        "x": 0,
        "y": 0
       },
       "selectable": false
      }
     },
     "5a65d3b7ef2d49a1be16bbbe0e74c4d1": {
      "model_module": "jupyter-cytoscape",
      "model_module_version": "^1.3.3",
      "model_name": "NodeModel",
      "state": {
       "_model_module_version": "^1.3.3",
       "_view_module_version": "^1.3.3",
       "data": {
        "id": "REACT::R-HSA-168256"
       },
       "grabbable": true,
       "grabbed": false,
       "position": {
        "x": 0,
        "y": 0
       },
       "selectable": false
      }
     },
     "5b1c5e162801429187028c8d296dae7f": {
      "model_module": "jupyter-cytoscape",
      "model_module_version": "^1.3.3",
      "model_name": "EdgeModel",
      "state": {
       "_model_module_version": "^1.3.3",
       "_view_module_version": "^1.3.3",
       "data": {
        "_igraph_index": 17,
        "id": "305493cc-3557-4809-8e6e-40346ef7170a",
        "source": "2194503",
        "target": "2175051",
        "type": "UPREGULATES_KGuG"
       },
       "selectable": false
      }
     },
     "5b720302b45f4c37859bc690980e259a": {
      "model_module": "jupyter-cytoscape",
      "model_module_version": "^1.3.3",
      "model_name": "EdgeModel",
      "state": {
       "_model_module_version": "^1.3.3",
       "_view_module_version": "^1.3.3",
       "data": {
        "_igraph_index": 1,
        "id": "ff07af95-d533-498b-9770-f5a0b1487254",
        "source": "283315",
        "target": "2191899",
        "type": "UPREGULATES_CuG"
       },
       "selectable": false
      }
     },
     "5c70aab64a744f8897eb50cd9c8ec390": {
      "model_module": "jupyter-cytoscape",
      "model_module_version": "^1.3.3",
      "model_name": "NodeModel",
      "state": {
       "_model_module_version": "^1.3.3",
       "_view_module_version": "^1.3.3",
       "data": {
        "_igraph_index": 24,
        "category": "Gene",
        "feature_name": "C1QA",
        "id": "NCBIGene::712",
        "id_prefix": "NCBIGene",
        "in_query": 1,
        "name": "NCBIGene::712"
       },
       "grabbable": true,
       "grabbed": false,
       "position": {
        "x": 554.4629717487725,
        "y": -106.53003929990412
       },
       "selectable": false
      }
     },
     "5d51769860f047bc889ea1983038b0a2": {
      "model_module": "jupyter-cytoscape",
      "model_module_version": "^1.3.3",
      "model_name": "NodeModel",
      "state": {
       "_model_module_version": "^1.3.3",
       "_view_module_version": "^1.3.3",
       "data": {
        "_igraph_index": 0,
        "category": "Gene",
        "feature_name": "TP53",
        "id": "NCBIGene::7157",
        "id_prefix": "NCBIGene",
        "in_query": 0,
        "name": "NCBIGene::7157"
       },
       "grabbable": true,
       "grabbed": false,
       "position": {
        "x": 533.292919188195,
        "y": 147.59742348884097
       },
       "selectable": false
      }
     },
     "5e4170ab1e504ec5b8e30a546d70ae07": {
      "model_module": "@jupyter-widgets/base",
      "model_module_version": "2.0.0",
      "model_name": "LayoutModel",
      "state": {}
     },
     "5ffda18ca48a41b88a208ccd9920cd22": {
      "model_module": "jupyter-cytoscape",
      "model_module_version": "^1.3.3",
      "model_name": "EdgeModel",
      "state": {
       "_model_module_version": "^1.3.3",
       "_view_module_version": "^1.3.3",
       "data": {
        "_igraph_index": 37,
        "id": "44d60be9-4ecf-4509-a8ab-5239db3c0a5b",
        "source": "2175196",
        "target": "2208939",
        "type": "EXPRESSES_AeG"
       },
       "selectable": false
      }
     },
     "623d1eca5219491aa722ba8d37451871": {
      "model_module": "jupyter-cytoscape",
      "model_module_version": "^1.3.3",
      "model_name": "NodeModel",
      "state": {
       "_model_module_version": "^1.3.3",
       "_view_module_version": "^1.3.3",
       "data": {
        "_igraph_index": 9,
        "category": "Gene",
        "feature_name": "FOXO1",
        "id": "NCBIGene::2308.0",
        "id_prefix": "NCBIGene",
        "in_query": 1,
        "name": "NCBIGene::2308.0"
       },
       "grabbable": true,
       "grabbed": false,
       "position": {
        "x": 164.4629697487725,
        "y": 15.216551894720903
       },
       "selectable": false
      }
     },
     "634c05500a0e4349aeb33506e1af2403": {
      "model_module": "jupyter-cytoscape",
      "model_module_version": "^1.3.3",
      "model_name": "EdgeModel",
      "state": {
       "_model_module_version": "^1.3.3",
       "_view_module_version": "^1.3.3",
       "classes": " multiple_edges ",
       "data": {
        "Knowledge_Source": "Reactome",
        "Primary_Knowledge_Source": "R-HSA-1643685",
        "_igraph_index": 35,
        "id": "788c2120-ba3e-43fb-b802-970601e0740f",
        "predicate": "reactome_participates_in",
        "publications": "PMID:34788843",
        "source": "REACT::R-HSA-1643685",
        "target": "NCBIGene::6204"
       },
       "selectable": false
      }
     },
     "640b1a0e99544873bb376079b6657e53": {
      "model_module": "jupyter-cytoscape",
      "model_module_version": "^1.3.3",
      "model_name": "GraphModel",
      "state": {
       "_adj": {},
       "_model_module_version": "^1.3.3",
       "_view_module": "jupyter-cytoscape",
       "_view_module_version": "^1.3.3"
      }
     },
     "65a85cd683f545b289fc6296bdb61f78": {
      "model_module": "jupyter-cytoscape",
      "model_module_version": "^1.3.3",
      "model_name": "NodeModel",
      "state": {
       "_model_module_version": "^1.3.3",
       "_view_module_version": "^1.3.3",
       "data": {
        "_igraph_index": 24,
        "category": "Gene",
        "feature_name": "GOLGA8J",
        "id": "2208939",
        "identifier": 653073,
        "in_query": 1,
        "name": "2208939",
        "source": "Entrez Gene"
       },
       "grabbable": true,
       "grabbed": false,
       "position": {
        "x": 564.0021369576245,
        "y": -49.96527021491221
       },
       "selectable": false
      }
     },
     "65b6a7603d804e9ca2acfc936eee5343": {
      "model_module": "jupyter-cytoscape",
      "model_module_version": "^1.3.3",
      "model_name": "EdgeModel",
      "state": {
       "_model_module_version": "^1.3.3",
       "_view_module_version": "^1.3.3",
       "data": {
        "_igraph_index": 16,
        "id": "a74f6938-ad97-4631-8957-8ddf98e795bd",
        "source": "2175196",
        "target": "2194083",
        "type": "EXPRESSES_AeG"
       },
       "selectable": false
      }
     },
     "68424672e2894c4cb8a03e4616290d0c": {
      "model_module": "jupyter-cytoscape",
      "model_module_version": "^1.3.3",
      "model_name": "EdgeModel",
      "state": {
       "_model_module_version": "^1.3.3",
       "_view_module_version": "^1.3.3",
       "classes": " multiple_edges ",
       "data": {
        "Knowledge_Source": "Multiomics-BigGIM-DrugResponse",
        "Primary_Knowledge_Source": "hsa04330",
        "_igraph_index": 1,
        "id": "577596f0-55b5-4b40-a0fb-fea9c25ded43",
        "predicate": "kegg_expression",
        "publications": "PMID:27899662",
        "source": "NCBIGene::3280",
        "target": "NCBIGene::3516.0"
       },
       "selectable": false
      }
     },
     "6a30b737d5ac4331b15a570d80393046": {
      "model_module": "jupyter-cytoscape",
      "model_module_version": "^1.3.3",
      "model_name": "EdgeModel",
      "state": {
       "_model_module_version": "^1.3.3",
       "_view_module_version": "^1.3.3",
       "data": {
        "_igraph_index": 5,
        "id": "ea91ec0a-0416-48a3-a4b8-2f8d05e260c5",
        "source": "2175196",
        "target": "2191712",
        "type": "EXPRESSES_AeG"
       },
       "selectable": false
      }
     },
     "6b8164346c104137a61b986d4420b17e": {
      "model_module": "jupyter-cytoscape",
      "model_module_version": "^1.3.3",
      "model_name": "NodeModel",
      "state": {
       "_model_module_version": "^1.3.3",
       "_view_module_version": "^1.3.3",
       "data": {
        "id": "REACT::R-HSA-109582"
       },
       "grabbable": true,
       "grabbed": false,
       "position": {
        "x": 0,
        "y": 0
       },
       "selectable": false
      }
     },
     "6e027c70c12447b7bab7fadf641236ab": {
      "model_module": "jupyter-cytoscape",
      "model_module_version": "^1.3.3",
      "model_name": "NodeModel",
      "state": {
       "_model_module_version": "^1.3.3",
       "_view_module_version": "^1.3.3",
       "data": {
        "_igraph_index": 3,
        "category": "Gene",
        "feature_name": "NFKB2",
        "id": "NCBIGene::4791",
        "id_prefix": "NCBIGene",
        "in_query": 1,
        "name": "NCBIGene::4791"
       },
       "grabbable": true,
       "grabbed": false,
       "position": {
        "x": 1206.074109439366,
        "y": 33.63670840133686
       },
       "selectable": false
      }
     },
     "6f76a30575b9426e9d0c6d2658e105a8": {
      "model_module": "jupyter-cytoscape",
      "model_module_version": "^1.3.3",
      "model_name": "NodeModel",
      "state": {
       "_model_module_version": "^1.3.3",
       "_view_module_version": "^1.3.3",
       "data": {
        "_igraph_index": 6,
        "category": "Gene",
        "feature_name": "RELB",
        "id": "NCBIGene::5971",
        "id_prefix": "NCBIGene",
        "in_query": 1,
        "name": "NCBIGene::5971"
       },
       "grabbable": true,
       "grabbed": false,
       "position": {
        "x": 38.322960524853976,
        "y": 663.4699647000959
       },
       "selectable": false
      }
     },
     "726e8e21de904a93bf8635fd1fe4620c": {
      "model_module": "jupyter-cytoscape",
      "model_module_version": "^1.3.3",
      "model_name": "NodeModel",
      "state": {
       "_model_module_version": "^1.3.3",
       "_view_module_version": "^1.3.3",
       "data": {
        "id": "NCBIGene::596.0"
       },
       "grabbable": true,
       "grabbed": false,
       "position": {
        "x": 0,
        "y": 0
       },
       "selectable": false
      }
     },
     "7397d8fa2b6e4a568549203148b507a6": {
      "model_module": "jupyter-cytoscape",
      "model_module_version": "^1.3.3",
      "model_name": "EdgeModel",
      "state": {
       "_model_module_version": "^1.3.3",
       "_view_module_version": "^1.3.3",
       "classes": " multiple_edges ",
       "data": {
        "Knowledge_Source": "Reactome",
        "Primary_Knowledge_Source": "R-HSA-162582",
        "_igraph_index": 21,
        "id": "9fb3380b-e895-4f77-b5ea-631a3fcf3762",
        "predicate": "reactome_participates_in",
        "publications": "PMID:34788843",
        "source": "NCBIGene::3280",
        "target": "REACT::R-HSA-162582"
       },
       "selectable": false
      }
     },
     "74fd2f0d35284cd880725a4ec48e6978": {
      "model_module": "jupyter-cytoscape",
      "model_module_version": "^1.3.3",
      "model_name": "EdgeModel",
      "state": {
       "_model_module_version": "^1.3.3",
       "_view_module_version": "^1.3.3",
       "classes": " multiple_edges ",
       "data": {
        "Knowledge_Source": "Reactome",
        "Primary_Knowledge_Source": "R-HSA-168256",
        "_igraph_index": 37,
        "id": "83285d1b-3fcb-4cee-aa11-d14f7528038f",
        "predicate": "reactome_participates_in",
        "publications": "PMID:34788843",
        "source": "REACT::R-HSA-168256",
        "target": "NCBIGene::712"
       },
       "selectable": false
      }
     },
     "757db57dcd03492192d28620e05fb2f1": {
      "model_module": "jupyter-cytoscape",
      "model_module_version": "^1.3.3",
      "model_name": "EdgeModel",
      "state": {
       "_model_module_version": "^1.3.3",
       "_view_module_version": "^1.3.3",
       "classes": " multiple_edges ",
       "data": {
        "Knowledge_Source": "Reactome",
        "Primary_Knowledge_Source": "R-HSA-1643685",
        "_igraph_index": 10,
        "id": "f07ecacf-85e3-4bc0-849f-f9ddaeb34f25",
        "predicate": "reactome_participates_in",
        "publications": "PMID:34788843",
        "source": "NCBIGene::4791",
        "target": "REACT::R-HSA-1643685"
       },
       "selectable": false
      }
     },
     "75c3062e61ff44848fe937bc2b464390": {
      "model_module": "jupyter-cytoscape",
      "model_module_version": "^1.3.3",
      "model_name": "EdgeModel",
      "state": {
       "_model_module_version": "^1.3.3",
       "_view_module_version": "^1.3.3",
       "data": {
        "_igraph_index": 12,
        "id": "91ab2f4b-6672-49a5-9fcf-92a3be5399ca",
        "source": "2175196",
        "target": "2192584",
        "type": "EXPRESSES_AeG"
       },
       "selectable": false
      }
     },
     "77b8f09118cb48c2acedef914cd32655": {
      "model_module": "jupyter-cytoscape",
      "model_module_version": "^1.3.3",
      "model_name": "EdgeModel",
      "state": {
       "_model_module_version": "^1.3.3",
       "_view_module_version": "^1.3.3",
       "data": {
        "_igraph_index": 26,
        "id": "d770c939-3344-478d-9c71-c29f4de53fcf",
        "source": "2196539",
        "target": "2194503",
        "type": "DOWNREGULATES_KGdG"
       },
       "selectable": false
      }
     },
     "78b6bc17de46409599e102d3d750c568": {
      "model_module": "jupyter-cytoscape",
      "model_module_version": "^1.3.3",
      "model_name": "NodeModel",
      "state": {
       "_model_module_version": "^1.3.3",
       "_view_module_version": "^1.3.3",
       "data": {
        "_igraph_index": 22,
        "category": "Gene",
        "feature_name": "ECHDC3",
        "id": "2199864",
        "identifier": 79746,
        "in_query": 1,
        "name": "2199864",
        "source": "Entrez Gene"
       },
       "grabbable": true,
       "grabbed": false,
       "position": {
        "x": 411.5829482976433,
        "y": 535.0347327850877
       },
       "selectable": false
      }
     },
     "7947d6c22d3743beb1da145e38ad3afa": {
      "model_module": "jupyter-cytoscape",
      "model_module_version": "^1.3.3",
      "model_name": "NodeModel",
      "state": {
       "_model_module_version": "^1.3.3",
       "_view_module_version": "^1.3.3",
       "data": {
        "id": "NCBIGene::8678"
       },
       "grabbable": true,
       "grabbed": false,
       "position": {
        "x": 0,
        "y": 0
       },
       "selectable": false
      }
     },
     "7a3be49d91014d6289b3530415cf3f6f": {
      "model_module": "jupyter-cytoscape",
      "model_module_version": "^1.3.3",
      "model_name": "NodeModel",
      "state": {
       "_model_module_version": "^1.3.3",
       "_view_module_version": "^1.3.3",
       "data": {
        "_igraph_index": 11,
        "category": "Gene",
        "feature_name": "POU6F1",
        "id": "2194083",
        "identifier": 5463,
        "in_query": 1,
        "name": "2194083",
        "source": "Entrez Gene"
       },
       "grabbable": true,
       "grabbed": false,
       "position": {
        "x": 759.0021379576245,
        "y": 60.20620734339357
       },
       "selectable": false
      }
     },
     "7b9fe42550014c18a7a16f4dc6ce3040": {
      "model_module": "jupyter-cytoscape",
      "model_module_version": "^1.3.3",
      "model_name": "NodeModel",
      "state": {
       "_model_module_version": "^1.3.3",
       "_view_module_version": "^1.3.3",
       "data": {
        "id": "NCBIGene::712"
       },
       "grabbable": true,
       "grabbed": false,
       "position": {
        "x": 0,
        "y": 0
       },
       "selectable": false
      }
     },
     "7c3a2795f091429e9a3cb8c5b93c9329": {
      "model_module": "jupyter-cytoscape",
      "model_module_version": "^1.3.3",
      "model_name": "EdgeModel",
      "state": {
       "_model_module_version": "^1.3.3",
       "_view_module_version": "^1.3.3",
       "classes": " multiple_edges ",
       "data": {
        "Knowledge_Source": "Reactome",
        "Primary_Knowledge_Source": "R-HSA-162582",
        "_igraph_index": 16,
        "id": "7f1919a7-56e3-44fd-b7c9-641a77f22ad8",
        "predicate": "reactome_participates_in",
        "publications": "PMID:34788843",
        "source": "NCBIGene::7157",
        "target": "REACT::R-HSA-162582"
       },
       "selectable": false
      }
     },
     "7e0f50991c5c4fd597183260acab89c7": {
      "model_module": "jupyter-cytoscape",
      "model_module_version": "^1.3.3",
      "model_name": "EdgeModel",
      "state": {
       "_model_module_version": "^1.3.3",
       "_view_module_version": "^1.3.3",
       "data": {
        "_igraph_index": 23,
        "id": "c510d6f4-ae5e-4a47-b9e6-bf7477c36077",
        "source": "2175196",
        "target": "2196159",
        "type": "EXPRESSES_AeG"
       },
       "selectable": false
      }
     },
     "8144e165dedc4996b143d6983c3d3952": {
      "model_module": "jupyter-cytoscape",
      "model_module_version": "^1.3.3",
      "model_name": "NodeModel",
      "state": {
       "_model_module_version": "^1.3.3",
       "_view_module_version": "^1.3.3",
       "data": {
        "_igraph_index": 8,
        "category": "Gene",
        "feature_name": "BECN1",
        "id": "NCBIGene::8678",
        "id_prefix": "NCBIGene",
        "in_query": 1,
        "name": "NCBIGene::8678"
       },
       "grabbable": true,
       "grabbed": false,
       "position": {
        "x": 359.4629707487725,
        "y": -301.5300402999041
       },
       "selectable": false
      }
     },
     "84cea5edfa8c4528b507c90096007bc4": {
      "model_module": "jupyter-cytoscape",
      "model_module_version": "^1.3.3",
      "model_name": "EdgeModel",
      "state": {
       "_model_module_version": "^1.3.3",
       "_view_module_version": "^1.3.3",
       "data": {
        "_igraph_index": 15,
        "id": "5bc3a2ee-f78f-4a26-a125-c6b367cf7e2c",
        "source": "2194083",
        "target": "2175051",
        "type": "UPREGULATES_KGuG"
       },
       "selectable": false
      }
     },
     "882ffe6cdfe14f0092c3aeaf846a2d8f": {
      "model_module": "jupyter-cytoscape",
      "model_module_version": "^1.3.3",
      "model_name": "NodeModel",
      "state": {
       "_model_module_version": "^1.3.3",
       "_view_module_version": "^1.3.3",
       "data": {
        "id": "NCBIGene::10992"
       },
       "grabbable": true,
       "grabbed": false,
       "position": {
        "x": 0,
        "y": 0
       },
       "selectable": false
      }
     },
     "8ad05a8acf224d71a15839cea8525af1": {
      "model_module": "jupyter-cytoscape",
      "model_module_version": "^1.3.3",
      "model_name": "NodeModel",
      "state": {
       "_model_module_version": "^1.3.3",
       "_view_module_version": "^1.3.3",
       "data": {
        "id": "NCBIGene::5971"
       },
       "grabbable": true,
       "grabbed": false,
       "position": {
        "x": 0,
        "y": 0
       },
       "selectable": false
      }
     },
     "8b45e57503b046218d69574221875331": {
      "model_module": "jupyter-cytoscape",
      "model_module_version": "^1.3.3",
      "model_name": "EdgeModel",
      "state": {
       "_model_module_version": "^1.3.3",
       "_view_module_version": "^1.3.3",
       "data": {
        "_igraph_index": 1,
        "id": "32eaceed-8023-4361-96ae-951f5c1b6db1",
        "source": "2175196",
        "target": "2190368",
        "type": "EXPRESSES_AeG"
       },
       "selectable": false
      }
     },
     "8dd8bcee18304ff29e7d374b5b992e62": {
      "model_module": "jupyter-cytoscape",
      "model_module_version": "^1.3.3",
      "model_name": "NodeModel",
      "state": {
       "_model_module_version": "^1.3.3",
       "_view_module_version": "^1.3.3",
       "data": {
        "_igraph_index": 25,
        "category": "Gene",
        "feature_name": "DNAJC1",
        "id": "2209337",
        "identifier": 64215,
        "in_query": 1,
        "name": "2209337",
        "source": "Entrez Gene"
       },
       "grabbable": true,
       "grabbed": false,
       "position": {
        "x": 1149.0021399576246,
        "y": -27.004399840663893
       },
       "selectable": false
      }
     },
     "8f82472552444641984407f9eb79c807": {
      "model_module": "jupyter-cytoscape",
      "model_module_version": "^1.3.3",
      "model_name": "EdgeModel",
      "state": {
       "_model_module_version": "^1.3.3",
       "_view_module_version": "^1.3.3",
       "classes": " multiple_edges ",
       "data": {
        "Knowledge_Source": "Multiomics-BigGIM-DrugResponse",
        "Primary_Knowledge_Source": "hsa04071",
        "_igraph_index": 0,
        "id": "860ea0fb-afd3-429e-83b5-4d2122e1c6a7",
        "predicate": "kegg_binding/association",
        "publications": "PMID:27899662",
        "source": "NCBIGene::7157",
        "target": "NCBIGene::596.0"
       },
       "selectable": false
      }
     },
     "905bbf5a92a940d19f9a2945b8a6b523": {
      "model_module": "jupyter-cytoscape",
      "model_module_version": "^1.3.3",
      "model_name": "NodeModel",
      "state": {
       "_model_module_version": "^1.3.3",
       "_view_module_version": "^1.3.3",
       "data": {
        "_igraph_index": 7,
        "category": "Gene",
        "feature_name": "RBPJ",
        "id": "NCBIGene::3516.0",
        "id_prefix": "NCBIGene",
        "in_query": 1,
        "name": "NCBIGene::3516.0"
       },
       "grabbable": true,
       "grabbed": false,
       "position": {
        "x": 816.0741074393659,
        "y": 28.617444837341825
       },
       "selectable": false
      }
     },
     "91397d780dd2407a9a093acb401e5cc7": {
      "model_module": "jupyter-cytoscape",
      "model_module_version": "^1.3.3",
      "model_name": "NodeModel",
      "state": {
       "_model_module_version": "^1.3.3",
       "_view_module_version": "^1.3.3",
       "data": {
        "_igraph_index": 5,
        "category": "Gene",
        "feature_name": "NFKB2",
        "id": "2193539",
        "identifier": 4791,
        "in_query": 1,
        "name": "2193539",
        "source": "Entrez Gene"
       },
       "grabbable": true,
       "grabbed": false,
       "position": {
        "x": 726.5900487121108,
        "y": 269.9630711240175
       },
       "selectable": false
      }
     },
     "9216346655da44bcae66f6dd4bbd2b7b": {
      "model_module": "jupyter-cytoscape",
      "model_module_version": "^1.3.3",
      "model_name": "EdgeModel",
      "state": {
       "_model_module_version": "^1.3.3",
       "_view_module_version": "^1.3.3",
       "classes": " multiple_edges ",
       "data": {
        "Knowledge_Source": "Reactome",
        "Primary_Knowledge_Source": "R-HSA-162582",
        "_igraph_index": 20,
        "id": "ffb8314c-b0d4-4f1c-808d-ce9097633a9a",
        "predicate": "reactome_participates_in",
        "publications": "PMID:34788843",
        "source": "NCBIGene::3280",
        "target": "REACT::R-HSA-162582"
       },
       "selectable": false
      }
     },
     "93624d3db1af40f5a9337f76200c3cbd": {
      "model_module": "jupyter-cytoscape",
      "model_module_version": "^1.3.3",
      "model_name": "NodeModel",
      "state": {
       "_model_module_version": "^1.3.3",
       "_view_module_version": "^1.3.3",
       "data": {
        "_igraph_index": 4,
        "category": "Gene",
        "feature_name": "GATA2",
        "id": "2191899",
        "identifier": 2624,
        "in_query": 1,
        "name": "2191899",
        "source": "Entrez Gene"
       },
       "grabbable": true,
       "grabbed": false,
       "position": {
        "x": 531.590047712111,
        "y": 269.9630711240175
       },
       "selectable": false
      }
     },
     "941c440c20b2423ba29743d74c7b5beb": {
      "model_module": "jupyter-cytoscape",
      "model_module_version": "^1.3.3",
      "model_name": "EdgeModel",
      "state": {
       "_model_module_version": "^1.3.3",
       "_view_module_version": "^1.3.3",
       "classes": " multiple_edges ",
       "data": {
        "Knowledge_Source": "Reactome",
        "Primary_Knowledge_Source": "R-HSA-162582",
        "_igraph_index": 31,
        "id": "4655d355-dce4-47ff-9068-52fa188e347d",
        "predicate": "reactome_participates_in",
        "publications": "PMID:34788843",
        "source": "REACT::R-HSA-162582",
        "target": "NCBIGene::121512"
       },
       "selectable": false
      }
     },
     "94295aa17f4840c9ad319877c21ca47e": {
      "model_module": "jupyter-cytoscape",
      "model_module_version": "^1.3.3",
      "model_name": "EdgeModel",
      "state": {
       "_model_module_version": "^1.3.3",
       "_view_module_version": "^1.3.3",
       "classes": " multiple_edges ",
       "data": {
        "Knowledge_Source": "Reactome",
        "Primary_Knowledge_Source": "R-HSA-1643685",
        "_igraph_index": 11,
        "id": "5733af3e-a253-43b0-a4c8-cb04b19901c1",
        "predicate": "reactome_participates_in",
        "publications": "PMID:34788843",
        "source": "NCBIGene::3280",
        "target": "REACT::R-HSA-1643685"
       },
       "selectable": false
      }
     },
     "94d879a4c18f4c4088365ee6bef61b20": {
      "model_module": "jupyter-cytoscape",
      "model_module_version": "^1.3.3",
      "model_name": "NodeModel",
      "state": {
       "_model_module_version": "^1.3.3",
       "_view_module_version": "^1.3.3",
       "data": {
        "id": "NCBIGene::3280"
       },
       "grabbable": true,
       "grabbed": false,
       "position": {
        "x": 0,
        "y": 0
       },
       "selectable": false
      }
     },
     "95da9f7101a549e9969d70c7efdd206c": {
      "model_module": "jupyter-cytoscape",
      "model_module_version": "^1.3.3",
      "model_name": "NodeModel",
      "state": {
       "_model_module_version": "^1.3.3",
       "_view_module_version": "^1.3.3",
       "data": {
        "_igraph_index": 15,
        "category": "Gene",
        "feature_name": "BECN1",
        "id": "2196539",
        "identifier": 8678,
        "in_query": 1,
        "name": "2196539",
        "source": "Entrez Gene"
       },
       "grabbable": true,
       "grabbed": false,
       "position": {
        "x": 1149.0021399576246,
        "y": 362.9956021593361
       },
       "selectable": false
      }
     },
     "96965d49fca84b0889900f2ecd644b54": {
      "model_module": "jupyter-cytoscape",
      "model_module_version": "^1.3.3",
      "model_name": "EdgeModel",
      "state": {
       "_model_module_version": "^1.3.3",
       "_view_module_version": "^1.3.3",
       "classes": " multiple_edges ",
       "data": {
        "Knowledge_Source": "Reactome",
        "Primary_Knowledge_Source": "R-HSA-168256",
        "_igraph_index": 34,
        "id": "70cab908-c70d-44bf-95e2-6ceb87cfe9e5",
        "predicate": "reactome_participates_in",
        "publications": "PMID:34788843",
        "source": "REACT::R-HSA-168256",
        "target": "NCBIGene::3482"
       },
       "selectable": false
      }
     },
     "96c29c8abf5e429dbc59af8ab756dc92": {
      "model_module": "jupyter-cytoscape",
      "model_module_version": "^1.3.3",
      "model_name": "NodeModel",
      "state": {
       "_model_module_version": "^1.3.3",
       "_view_module_version": "^1.3.3",
       "data": {
        "_igraph_index": 8,
        "category": "Gene",
        "feature_name": "IGF2R",
        "id": "2192566",
        "identifier": 3482,
        "in_query": 1,
        "name": "2192566",
        "source": "Entrez Gene"
       },
       "grabbable": true,
       "grabbed": false,
       "position": {
        "x": 174.00213495762452,
        "y": -107.44662615301576
       },
       "selectable": false
      }
     },
     "96f751f18cda464eb76c1be231be6105": {
      "model_module": "jupyter-cytoscape",
      "model_module_version": "^1.3.3",
      "model_name": "NodeModel",
      "state": {
       "_model_module_version": "^1.3.3",
       "_view_module_version": "^1.3.3",
       "data": {
        "_igraph_index": 10,
        "category": "Gene",
        "feature_name": "NFKB2",
        "id": "2193539",
        "identifier": 4791,
        "in_query": 1,
        "name": "2193539",
        "source": "Entrez Gene"
       },
       "grabbable": true,
       "grabbed": false,
       "position": {
        "x": -210.99786704237547,
        "y": 263.92078157739974
       },
       "selectable": false
      }
     },
     "97c2eca7fab64d20bd608ee47e699d73": {
      "model_module": "jupyter-cytoscape",
      "model_module_version": "^1.3.3",
      "model_name": "EdgeModel",
      "state": {
       "_model_module_version": "^1.3.3",
       "_view_module_version": "^1.3.3",
       "data": {
        "_igraph_index": 29,
        "id": "4735f081-f063-4b42-9f80-f11e19ee8125",
        "source": "2175196",
        "target": "2197854",
        "type": "EXPRESSES_AeG"
       },
       "selectable": false
      }
     },
     "9830ec5fd3624ee393670cc12f9c2f86": {
      "model_module": "jupyter-cytoscape",
      "model_module_version": "^1.3.3",
      "model_name": "CytoscapeModel",
      "state": {
       "_interaction_handlers": {},
       "_model_module_version": "^1.3.3",
       "_view_module_version": "^1.3.3",
       "auto_ungrabify": false,
       "autolock": false,
       "cytoscape_layout": {
        "edgeLengthVal": 50,
        "name": "cola",
        "nodeSpacing": 80,
        "title": "high_proteins"
       },
       "cytoscape_style": [
        {
         "selector": "node[feature_name]",
         "style": {
          "font-family": "helvetica",
          "font-size": "20px",
          "label": "data(feature_name)"
         }
        },
        {
         "selector": "node[category=\"Protein\"]",
         "style": {
          "background-color": "blue"
         }
        },
        {
         "selector": "node[in_query=1]",
         "style": {
          "border-color": "red",
          "border-width": "5px"
         }
        },
        {
         "selector": "edge[type]",
         "style": {
          "label": "data(type)"
         }
        },
        {
         "selector": "edge.directed",
         "style": {
          "curve-style": "bezier",
          "target-arrow-shape": "triangle"
         }
        }
       ],
       "desktop_tap_threshold": 4,
       "graph": "IPY_MODEL_b8679b8560bc41a8bc4f76a7d3dae9c6",
       "headless": false,
       "hide_edges_on_viewport": false,
       "layout": "IPY_MODEL_29fb556c611d401691f65d992d628c99",
       "max_zoom": 1e+50,
       "min_zoom": 1e-50,
       "motion_blur": false,
       "motion_blur_opacity": 0.2,
       "panning_enabled": true,
       "pixel_ratio": "auto",
       "rendered_position": {
        "renderedPosition": {
         "x": 100,
         "y": 100
        }
       },
       "selection_type": "single",
       "style_enabled": true,
       "texture_on_viewport": false,
       "tooltip_source": "feature_name",
       "touch_tap_threshold": 8,
       "user_panning_enabled": true,
       "user_zooming_enabled": true,
       "wheel_sensitivity": 1,
       "zoom": 2,
       "zooming_enabled": true
      }
     },
     "9893d1cde245456eafb879b53daee388": {
      "model_module": "jupyter-cytoscape",
      "model_module_version": "^1.3.3",
      "model_name": "NodeModel",
      "state": {
       "_model_module_version": "^1.3.3",
       "_view_module_version": "^1.3.3",
       "data": {
        "_igraph_index": 4,
        "category": "Pathway",
        "feature_name": "Innate Immune System",
        "id": "REACT::R-HSA-168249",
        "id_prefix": "REACT",
        "in_query": 0,
        "name": "REACT::R-HSA-168249"
       },
       "grabbable": true,
       "grabbed": false,
       "position": {
        "x": 533.292919188195,
        "y": 337.597424488841
       },
       "selectable": false
      }
     },
     "9a1e6439ea67449b81265296548d21b1": {
      "model_module": "jupyter-cytoscape",
      "model_module_version": "^1.3.3",
      "model_name": "EdgeModel",
      "state": {
       "_model_module_version": "^1.3.3",
       "_view_module_version": "^1.3.3",
       "data": {
        "_igraph_index": 10,
        "id": "9a5716f9-470c-4854-86f1-ee7b9dd0b629",
        "source": "2175196",
        "target": "2192566",
        "type": "EXPRESSES_AeG"
       },
       "selectable": false
      }
     },
     "9a2988dc60e74421aedd3c3ecf1eab3f": {
      "model_module": "jupyter-cytoscape",
      "model_module_version": "^1.3.3",
      "model_name": "NodeModel",
      "state": {
       "_model_module_version": "^1.3.3",
       "_view_module_version": "^1.3.3",
       "data": {
        "id": "NCBIGene::595"
       },
       "grabbable": true,
       "grabbed": false,
       "position": {
        "x": 0,
        "y": 0
       },
       "selectable": false
      }
     },
     "9dfd520416ea4a4998927a44c78caec9": {
      "model_module": "jupyter-cytoscape",
      "model_module_version": "^1.3.3",
      "model_name": "NodeModel",
      "state": {
       "_model_module_version": "^1.3.3",
       "_view_module_version": "^1.3.3",
       "data": {
        "_igraph_index": 6,
        "category": "Gene",
        "feature_name": "NPC2",
        "id": "2198153",
        "identifier": 10577,
        "in_query": 1,
        "name": "2198153",
        "source": "Entrez Gene"
       },
       "grabbable": true,
       "grabbed": false,
       "position": {
        "x": 341.95054857088235,
        "y": 465.9487934764877
       },
       "selectable": false
      }
     },
     "a13d9612d11d413293be80c642d7d639": {
      "model_module": "jupyter-cytoscape",
      "model_module_version": "^1.3.3",
      "model_name": "GraphModel",
      "state": {
       "_adj": {},
       "_model_module_version": "^1.3.3",
       "_view_module": "jupyter-cytoscape",
       "_view_module_version": "^1.3.3"
      }
     },
     "a532acf62ae14e6aa210f0c0b822c61d": {
      "model_module": "jupyter-cytoscape",
      "model_module_version": "^1.3.3",
      "model_name": "NodeModel",
      "state": {
       "_model_module_version": "^1.3.3",
       "_view_module_version": "^1.3.3",
       "data": {
        "_igraph_index": 14,
        "category": "Pathway",
        "feature_name": "Metabolism of RNA",
        "id": "REACT::R-HSA-8953854",
        "id_prefix": "REACT",
        "in_query": 0,
        "name": "REACT::R-HSA-8953854"
       },
       "grabbable": true,
       "grabbed": false,
       "position": {
        "x": 623.5741064393659,
        "y": 275.9699627000959
       },
       "selectable": false
      }
     },
     "a6ce33c9573b4740b1e799123af89e79": {
      "model_module": "jupyter-cytoscape",
      "model_module_version": "^1.3.3",
      "model_name": "EdgeModel",
      "state": {
       "_model_module_version": "^1.3.3",
       "_view_module_version": "^1.3.3",
       "classes": " multiple_edges ",
       "data": {
        "Knowledge_Source": "Reactome",
        "Primary_Knowledge_Source": "R-HSA-1643685",
        "_igraph_index": 12,
        "id": "28018b00-0c10-417c-8b2e-3d21f837c676",
        "predicate": "reactome_participates_in",
        "publications": "PMID:34788843",
        "source": "NCBIGene::8678",
        "target": "REACT::R-HSA-1643685"
       },
       "selectable": false
      }
     },
     "a7405afb44ab4e629a934b2a1360ca3c": {
      "model_module": "jupyter-cytoscape",
      "model_module_version": "^1.3.3",
      "model_name": "NodeModel",
      "state": {
       "_model_module_version": "^1.3.3",
       "_view_module_version": "^1.3.3",
       "data": {
        "id": "NCBIGene::51176"
       },
       "grabbable": true,
       "grabbed": false,
       "position": {
        "x": 0,
        "y": 0
       },
       "selectable": false
      }
     },
     "a78c87e2eb0f400184cc60c7cee214ea": {
      "model_module": "jupyter-cytoscape",
      "model_module_version": "^1.3.3",
      "model_name": "NodeModel",
      "state": {
       "_model_module_version": "^1.3.3",
       "_view_module_version": "^1.3.3",
       "data": {
        "_igraph_index": 12,
        "category": "Pathway",
        "feature_name": "Signal Transduction",
        "id": "REACT::R-HSA-162582",
        "id_prefix": "REACT",
        "in_query": 0,
        "name": "REACT::R-HSA-162582"
       },
       "grabbable": true,
       "grabbed": false,
       "position": {
        "x": 243.574104439366,
        "y": 275.9699627000959
       },
       "selectable": false
      }
     },
     "a811e44cfec0434e8bd1a728d97ea4fc": {
      "model_module": "jupyter-cytoscape",
      "model_module_version": "^1.3.3",
      "model_name": "EdgeModel",
      "state": {
       "_model_module_version": "^1.3.3",
       "_view_module_version": "^1.3.3",
       "data": {
        "_igraph_index": 36,
        "id": "0c8fbced-cf36-4229-a5d4-d512ad6cea89",
        "source": "2175196",
        "target": "2201977",
        "type": "EXPRESSES_AeG"
       },
       "selectable": false
      }
     },
     "a939614172904caa89e8d592b13a0cc5": {
      "model_module": "jupyter-cytoscape",
      "model_module_version": "^1.3.3",
      "model_name": "EdgeModel",
      "state": {
       "_model_module_version": "^1.3.3",
       "_view_module_version": "^1.3.3",
       "data": {
        "_igraph_index": 13,
        "id": "403a699b-7f3b-434d-be8f-74c7e540b892",
        "source": "2193539",
        "target": "2175051",
        "type": "UPREGULATES_KGuG"
       },
       "selectable": false
      }
     },
     "acfab406fd2549b1b56e83edbdc10050": {
      "model_module": "jupyter-cytoscape",
      "model_module_version": "^1.3.3",
      "model_name": "NodeModel",
      "state": {
       "_model_module_version": "^1.3.3",
       "_view_module_version": "^1.3.3",
       "data": {
        "_igraph_index": 12,
        "category": "Gene",
        "feature_name": "RELB",
        "id": "2194503",
        "identifier": 5971,
        "in_query": 1,
        "name": "2194503",
        "source": "Entrez Gene"
       },
       "grabbable": true,
       "grabbed": false,
       "position": {
        "x": -15.997866042375486,
        "y": 249.69535819789084
       },
       "selectable": false
      }
     },
     "ae1db2db925949a6809a1d3dcd5c9d36": {
      "model_module": "jupyter-cytoscape",
      "model_module_version": "^1.3.3",
      "model_name": "EdgeModel",
      "state": {
       "_model_module_version": "^1.3.3",
       "_view_module_version": "^1.3.3",
       "classes": " multiple_edges ",
       "data": {
        "Knowledge_Source": "Reactome",
        "Primary_Knowledge_Source": "R-HSA-168256",
        "_igraph_index": 6,
        "id": "348988b9-f6ee-4b86-9d8a-5d10645660d1",
        "predicate": "reactome_participates_in",
        "publications": "PMID:34788843",
        "source": "NCBIGene::5971",
        "target": "REACT::R-HSA-168256"
       },
       "selectable": false
      }
     },
     "b191c7b069cb49a48c2298beedb32ad1": {
      "model_module": "jupyter-cytoscape",
      "model_module_version": "^1.3.3",
      "model_name": "NodeModel",
      "state": {
       "_model_module_version": "^1.3.3",
       "_view_module_version": "^1.3.3",
       "data": {
        "_igraph_index": 14,
        "category": "Gene",
        "feature_name": "FGD4",
        "id": "2196159",
        "identifier": 121512,
        "in_query": 1,
        "name": "2196159",
        "source": "Entrez Gene"
       },
       "grabbable": true,
       "grabbed": false,
       "position": {
        "x": 759.0021379576245,
        "y": 450.20620934339354
       },
       "selectable": false
      }
     },
     "b21b334391b4455d9008417219775382": {
      "model_module": "jupyter-cytoscape",
      "model_module_version": "^1.3.3",
      "model_name": "EdgeModel",
      "state": {
       "_model_module_version": "^1.3.3",
       "_view_module_version": "^1.3.3",
       "data": {
        "_igraph_index": 4,
        "id": "108347bc-f0ac-4e74-be7e-489b30dc6cdd",
        "source": "42316",
        "target": "2193539",
        "type": "UPREGULATES_CuG"
       },
       "selectable": false
      }
     },
     "b5f886863b5e4c368b1d8fbfdad57317": {
      "model_module": "jupyter-cytoscape",
      "model_module_version": "^1.3.3",
      "model_name": "EdgeModel",
      "state": {
       "_model_module_version": "^1.3.3",
       "_view_module_version": "^1.3.3",
       "data": {
        "_igraph_index": 6,
        "id": "5d92d4b7-7c5f-4345-9da4-0e80cda3643e",
        "source": "2166630",
        "target": "2191899",
        "type": "ASSOCIATES_DaG"
       },
       "selectable": false
      }
     },
     "b8679b8560bc41a8bc4f76a7d3dae9c6": {
      "model_module": "jupyter-cytoscape",
      "model_module_version": "^1.3.3",
      "model_name": "GraphModel",
      "state": {
       "_adj": {
        "2166630": {},
        "2190368": {},
        "2191899": {},
        "2193539": {},
        "2198153": {},
        "283315": {},
        "42316": {}
       },
       "_model_module_version": "^1.3.3",
       "_view_module": "jupyter-cytoscape",
       "_view_module_version": "^1.3.3",
       "edges": [
        "IPY_MODEL_348f2362c11e4832829e7a5158dc477f",
        "IPY_MODEL_b21b334391b4455d9008417219775382",
        "IPY_MODEL_5b720302b45f4c37859bc690980e259a",
        "IPY_MODEL_06dab14be61a4bb29d7ed26a4f73f70f",
        "IPY_MODEL_03a44cba3e5241dcabe1f062e4d3a76b",
        "IPY_MODEL_463de88032e84abcae1d96d3e391ba6b"
       ],
       "nodes": [
        "IPY_MODEL_e5a0b5f5e49a46dbbaedce26e22c9c18",
        "IPY_MODEL_f85564e3c77b461880ef637d7db7c123",
        "IPY_MODEL_01866f9e843e41f4986e990ed8b61806",
        "IPY_MODEL_f405c32e5c104283baa38596b626534e",
        "IPY_MODEL_93624d3db1af40f5a9337f76200c3cbd",
        "IPY_MODEL_91397d780dd2407a9a093acb401e5cc7",
        "IPY_MODEL_9dfd520416ea4a4998927a44c78caec9"
       ]
      }
     },
     "b8ac6bed97434c2f9ce5aaa16bfffac4": {
      "model_module": "jupyter-cytoscape",
      "model_module_version": "^1.3.3",
      "model_name": "NodeModel",
      "state": {
       "_model_module_version": "^1.3.3",
       "_view_module_version": "^1.3.3",
       "data": {
        "id": "NCBIGene::1337"
       },
       "grabbable": true,
       "grabbed": false,
       "position": {
        "x": 0,
        "y": 0
       },
       "selectable": false
      }
     },
     "b9c653ae87a547c58db0fc4aa46f3916": {
      "model_module": "jupyter-cytoscape",
      "model_module_version": "^1.3.3",
      "model_name": "EdgeModel",
      "state": {
       "_model_module_version": "^1.3.3",
       "_view_module_version": "^1.3.3",
       "data": {
        "_igraph_index": 24,
        "id": "09487353-fd83-4b71-8289-877b309fc39d",
        "source": "2175196",
        "target": "2196539",
        "type": "EXPRESSES_AeG"
       },
       "selectable": false
      }
     },
     "bd5046c98aa94255b3e5d69f7ab899bb": {
      "model_module": "jupyter-cytoscape",
      "model_module_version": "^1.3.3",
      "model_name": "EdgeModel",
      "state": {
       "_model_module_version": "^1.3.3",
       "_view_module_version": "^1.3.3",
       "data": {
        "_igraph_index": 30,
        "id": "edff10b2-4dad-4de5-804a-f57c9d2c2fa4",
        "source": "2197914",
        "target": "2175051",
        "type": "UPREGULATES_KGuG"
       },
       "selectable": false
      }
     },
     "bd6e1cc9f2b44bada8a3e468d23f5bec": {
      "model_module": "jupyter-cytoscape",
      "model_module_version": "^1.3.3",
      "model_name": "NodeModel",
      "state": {
       "_model_module_version": "^1.3.3",
       "_view_module_version": "^1.3.3",
       "data": {
        "id": "NCBIGene::3482"
       },
       "grabbable": true,
       "grabbed": false,
       "position": {
        "x": 0,
        "y": 0
       },
       "selectable": false
      }
     },
     "bd952568550f4df78d7a717fb963393f": {
      "model_module": "jupyter-cytoscape",
      "model_module_version": "^1.3.3",
      "model_name": "EdgeModel",
      "state": {
       "_model_module_version": "^1.3.3",
       "_view_module_version": "^1.3.3",
       "data": {
        "_igraph_index": 0,
        "id": "c50d06b5-de5c-4c29-b709-5edf3943bb4b",
        "source": "2175196",
        "target": "2175051",
        "type": "EXPRESSES_AeG"
       },
       "selectable": false
      }
     },
     "c04fb1c728874f6d86cf39c631d059f1": {
      "model_module": "jupyter-cytoscape",
      "model_module_version": "^1.3.3",
      "model_name": "EdgeModel",
      "state": {
       "_model_module_version": "^1.3.3",
       "_view_module_version": "^1.3.3",
       "classes": " multiple_edges ",
       "data": {
        "Knowledge_Source": "Reactome",
        "Primary_Knowledge_Source": "R-HSA-168256",
        "_igraph_index": 7,
        "id": "bdf8e5b8-dabf-4485-b0eb-6081c95ebfb5",
        "predicate": "reactome_participates_in",
        "publications": "PMID:34788843",
        "source": "NCBIGene::8678",
        "target": "REACT::R-HSA-168256"
       },
       "selectable": false
      }
     },
     "c1289f87370d43f09c05aa2363640a80": {
      "model_module": "jupyter-cytoscape",
      "model_module_version": "^1.3.3",
      "model_name": "NodeModel",
      "state": {
       "_model_module_version": "^1.3.3",
       "_view_module_version": "^1.3.3",
       "data": {
        "_igraph_index": 1,
        "category": "Gene",
        "feature_name": "BCL2",
        "id": "NCBIGene::596.0",
        "id_prefix": "NCBIGene",
        "in_query": 1,
        "name": "NCBIGene::596.0"
       },
       "grabbable": true,
       "grabbed": false,
       "position": {
        "x": 340.792918188195,
        "y": 51.624649846104035
       },
       "selectable": false
      }
     },
     "c38899609ea947e2a3e93deb5cdb4841": {
      "model_module": "jupyter-cytoscape",
      "model_module_version": "^1.3.3",
      "model_name": "NodeModel",
      "state": {
       "_model_module_version": "^1.3.3",
       "_view_module_version": "^1.3.3",
       "data": {
        "_igraph_index": 19,
        "category": "Gene",
        "feature_name": "FGD4",
        "id": "NCBIGene::121512",
        "id_prefix": "NCBIGene",
        "in_query": 1,
        "name": "NCBIGene::121512"
       },
       "grabbable": true,
       "grabbed": false,
       "position": {
        "x": 442.2763133630119,
        "y": 663.4699647000959
       },
       "selectable": false
      }
     },
     "c4d31d3568ed4fbda171c545db72eded": {
      "model_module": "jupyter-cytoscape",
      "model_module_version": "^1.3.3",
      "model_name": "NodeModel",
      "state": {
       "_model_module_version": "^1.3.3",
       "_view_module_version": "^1.3.3",
       "data": {
        "_igraph_index": 2,
        "category": "Gene",
        "feature_name": "NFKB2",
        "id": "NCBIGene::4791",
        "id_prefix": "NCBIGene",
        "in_query": 1,
        "name": "NCBIGene::4791"
       },
       "grabbable": true,
       "grabbed": false,
       "position": {
        "x": 145.792917188195,
        "y": 344.2159163518525
       },
       "selectable": false
      }
     },
     "c4dde72f643a476dada620a61956b930": {
      "model_module": "jupyter-cytoscape",
      "model_module_version": "^1.3.3",
      "model_name": "NodeModel",
      "state": {
       "_model_module_version": "^1.3.3",
       "_view_module_version": "^1.3.3",
       "data": {
        "_igraph_index": 10,
        "category": "Pathway",
        "feature_name": "Immune System",
        "id": "REACT::R-HSA-168256",
        "id_prefix": "REACT",
        "in_query": 0,
        "name": "REACT::R-HSA-168256"
       },
       "grabbable": true,
       "grabbed": false,
       "position": {
        "x": 53.57410343936599,
        "y": 207.71655289472093
       },
       "selectable": false
      }
     },
     "c7e45adcbf1149629fe08b99ef8d6a7a": {
      "model_module": "jupyter-cytoscape",
      "model_module_version": "^1.3.3",
      "model_name": "EdgeModel",
      "state": {
       "_model_module_version": "^1.3.3",
       "_view_module_version": "^1.3.3",
       "data": {
        "_igraph_index": 19,
        "id": "62058a68-a965-4dea-9029-6acfffec10d0",
        "source": "2194503",
        "target": "2190368",
        "type": "UPREGULATES_KGuG"
       },
       "selectable": false
      }
     },
     "c91c99b7b92a491e8c5fc5a1f229300c": {
      "model_module": "jupyter-cytoscape",
      "model_module_version": "^1.3.3",
      "model_name": "NodeModel",
      "state": {
       "_model_module_version": "^1.3.3",
       "_view_module_version": "^1.3.3",
       "data": {
        "id": "REACT::R-HSA-162582"
       },
       "grabbable": true,
       "grabbed": false,
       "position": {
        "x": 0,
        "y": 0
       },
       "selectable": false
      }
     },
     "cbd4cd6316c747659ee6a34ca55255f1": {
      "model_module": "jupyter-cytoscape",
      "model_module_version": "^1.3.3",
      "model_name": "EdgeModel",
      "state": {
       "_model_module_version": "^1.3.3",
       "_view_module_version": "^1.3.3",
       "data": {
        "_igraph_index": 31,
        "id": "fe3bbe08-1924-43c0-afbc-bbb5945e0f5b",
        "source": "2175196",
        "target": "2197914",
        "type": "DOWNREGULATES_AdG"
       },
       "selectable": false
      }
     },
     "ccb90f18c6534859a5f1e98de77a39b7": {
      "model_module": "jupyter-cytoscape",
      "model_module_version": "^1.3.3",
      "model_name": "NodeModel",
      "state": {
       "_model_module_version": "^1.3.3",
       "_view_module_version": "^1.3.3",
       "data": {
        "_igraph_index": 21,
        "category": "Gene",
        "feature_name": "LILRA3",
        "id": "2198515",
        "identifier": 11026,
        "in_query": 1,
        "name": "2198515",
        "source": "Entrez Gene"
       },
       "grabbable": true,
       "grabbed": false,
       "position": {
        "x": 954.0021389576247,
        "y": 236.86124684735444
       },
       "selectable": false
      }
     },
     "cde6e1a49a9e49a6bff5df0e037b84c3": {
      "model_module": "jupyter-cytoscape",
      "model_module_version": "^1.3.3",
      "model_name": "NodeModel",
      "state": {
       "_model_module_version": "^1.3.3",
       "_view_module_version": "^1.3.3",
       "data": {
        "_igraph_index": 13,
        "category": "Pathway",
        "feature_name": "Generic Transcription Pathway",
        "id": "REACT::R-HSA-212436",
        "id_prefix": "REACT",
        "in_query": 0,
        "name": "REACT::R-HSA-212436"
       },
       "grabbable": true,
       "grabbed": false,
       "position": {
        "x": 415.6977363580947,
        "y": 85.9699617000959
       },
       "selectable": false
      }
     },
     "d01af4bac7394cf6814a4ccf41239d7a": {
      "model_module": "jupyter-cytoscape",
      "model_module_version": "^1.3.3",
      "model_name": "GraphModel",
      "state": {
       "_adj": {
        "2166630": {},
        "2175051": {},
        "2175196": {},
        "2190368": {},
        "2190459": {},
        "2190948": {},
        "2191712": {},
        "2191899": {},
        "2192566": {},
        "2192584": {},
        "2193539": {},
        "2194083": {},
        "2194503": {},
        "2194660": {},
        "2196159": {},
        "2196539": {},
        "2197473": {},
        "2197854": {},
        "2197914": {},
        "2198153": {},
        "2198485": {},
        "2198515": {},
        "2199864": {},
        "2201977": {},
        "2208939": {},
        "2209337": {}
       },
       "_model_module_version": "^1.3.3",
       "_view_module": "jupyter-cytoscape",
       "_view_module_version": "^1.3.3",
       "edges": [
        "IPY_MODEL_b5f886863b5e4c368b1d8fbfdad57317",
        "IPY_MODEL_bd952568550f4df78d7a717fb963393f",
        "IPY_MODEL_0b7cb470f7a44a55a2170b55a65bf478",
        "IPY_MODEL_f24248f4a2884aa5ab9ead77b9b3be19",
        "IPY_MODEL_a939614172904caa89e8d592b13a0cc5",
        "IPY_MODEL_84cea5edfa8c4528b507c90096007bc4",
        "IPY_MODEL_5b1c5e162801429187028c8d296dae7f",
        "IPY_MODEL_bd5046c98aa94255b3e5d69f7ab899bb",
        "IPY_MODEL_fffcd11e73c4402d9b05d98f9df74899",
        "IPY_MODEL_8b45e57503b046218d69574221875331",
        "IPY_MODEL_28c24a6a8f2d47d6a4bb63d8370a275a",
        "IPY_MODEL_ed8f82417a254f2fac0f3aa6f0edcbbd",
        "IPY_MODEL_6a30b737d5ac4331b15a570d80393046",
        "IPY_MODEL_07b2e168bf6243a890252b463147df2d",
        "IPY_MODEL_9a1e6439ea67449b81265296548d21b1",
        "IPY_MODEL_75c3062e61ff44848fe937bc2b464390",
        "IPY_MODEL_f21c97e7a124474ba94c5692243000e5",
        "IPY_MODEL_65b6a7603d804e9ca2acfc936eee5343",
        "IPY_MODEL_e12e8a03bb764a28a5d3221d936d0168",
        "IPY_MODEL_13a8e430faf94ea0a0a9eeac9dfdb975",
        "IPY_MODEL_7e0f50991c5c4fd597183260acab89c7",
        "IPY_MODEL_b9c653ae87a547c58db0fc4aa46f3916",
        "IPY_MODEL_3991a3d71d9c4f0db1dc48149ad1804e",
        "IPY_MODEL_97c2eca7fab64d20bd608ee47e699d73",
        "IPY_MODEL_cbd4cd6316c747659ee6a34ca55255f1",
        "IPY_MODEL_ef1e367f3797446dac0dbdfd0d84fc7b",
        "IPY_MODEL_e2e4e1964bf94481adaa152855ed1405",
        "IPY_MODEL_1a3ba47f43674b52901b8cc5bcf4a114",
        "IPY_MODEL_a811e44cfec0434e8bd1a728d97ea4fc",
        "IPY_MODEL_5ffda18ca48a41b88a208ccd9920cd22",
        "IPY_MODEL_e89ac8254428498fa5ed415321aa4162",
        "IPY_MODEL_37614a31f057400da79fdb174a5da28b",
        "IPY_MODEL_f25ee977269b40e1ac9fb99705a34a7e",
        "IPY_MODEL_c7e45adcbf1149629fe08b99ef8d6a7a",
        "IPY_MODEL_ea82104e23f14a7ca44c40d99f3370bb",
        "IPY_MODEL_55067d177b384670b07c1e3e842ae4fd",
        "IPY_MODEL_3b9439ee516f4b13b52e4e7259dce8ff",
        "IPY_MODEL_77b8f09118cb48c2acedef914cd32655",
        "IPY_MODEL_447f1db1dbde46e7afc2e853c3d0b153"
       ],
       "nodes": [
        "IPY_MODEL_0a2897960b4b40e59aad4a191e131380",
        "IPY_MODEL_18a882dc9b324ebda29684de56184af1",
        "IPY_MODEL_414877453d634c4297d9044450a6d6f4",
        "IPY_MODEL_0739549e56044ba996a45c6947068d2b",
        "IPY_MODEL_d32b7bad406542dbbbbcb2a57b57120d",
        "IPY_MODEL_3b11138f727f4b5c833dca4e384d0a2d",
        "IPY_MODEL_0fd3fa62737042e5ad94fd0095957fc6",
        "IPY_MODEL_4a535078e9fd434185aad7ac8dee559e",
        "IPY_MODEL_96c29c8abf5e429dbc59af8ab756dc92",
        "IPY_MODEL_2c91418bd164457287e7bef6ea0964f3",
        "IPY_MODEL_96f751f18cda464eb76c1be231be6105",
        "IPY_MODEL_7a3be49d91014d6289b3530415cf3f6f",
        "IPY_MODEL_acfab406fd2549b1b56e83edbdc10050",
        "IPY_MODEL_0fb9f1c43bf74f6a99e845169af52f52",
        "IPY_MODEL_b191c7b069cb49a48c2298beedb32ad1",
        "IPY_MODEL_95da9f7101a549e9969d70c7efdd206c",
        "IPY_MODEL_fe0f0738767f4d6e81feb564fd09f051",
        "IPY_MODEL_eb55fa8b546b4c09902ad249767310c9",
        "IPY_MODEL_5164afbd60514ba0951ff358d9895d87",
        "IPY_MODEL_179a5686924a44a9a0028915ecab611a",
        "IPY_MODEL_e606b5a1ac3a4cae843139ec590bb343",
        "IPY_MODEL_ccb90f18c6534859a5f1e98de77a39b7",
        "IPY_MODEL_78b6bc17de46409599e102d3d750c568",
        "IPY_MODEL_21f71f6ea9ae4092834202bdf91ba571",
        "IPY_MODEL_65a85cd683f545b289fc6296bdb61f78",
        "IPY_MODEL_8dd8bcee18304ff29e7d374b5b992e62"
       ]
      }
     },
     "d2adf1f45313448ebd5b5aa24f17507e": {
      "model_module": "jupyter-cytoscape",
      "model_module_version": "^1.3.3",
      "model_name": "NodeModel",
      "state": {
       "_model_module_version": "^1.3.3",
       "_view_module_version": "^1.3.3",
       "data": {
        "_igraph_index": 11,
        "category": "Pathway",
        "feature_name": "Disease",
        "id": "REACT::R-HSA-1643685",
        "id_prefix": "REACT",
        "in_query": 0,
        "name": "REACT::R-HSA-1643685"
       },
       "grabbable": true,
       "grabbed": false,
       "position": {
        "x": 746.9629727487726,
        "y": -163.88255616265818
       },
       "selectable": false
      }
     },
     "d32b7bad406542dbbbbcb2a57b57120d": {
      "model_module": "jupyter-cytoscape",
      "model_module_version": "^1.3.3",
      "model_name": "NodeModel",
      "state": {
       "_model_module_version": "^1.3.3",
       "_view_module_version": "^1.3.3",
       "data": {
        "_igraph_index": 4,
        "category": "Gene",
        "feature_name": "C1QA",
        "id": "2190459",
        "identifier": 712,
        "in_query": 1,
        "name": "2190459",
        "source": "Entrez Gene"
       },
       "grabbable": true,
       "grabbed": false,
       "position": {
        "x": 564.0021369576245,
        "y": 340.0347317850878
       },
       "selectable": false
      }
     },
     "d5e167533b2446329491829c545940d2": {
      "model_module": "jupyter-cytoscape",
      "model_module_version": "^1.3.3",
      "model_name": "EdgeModel",
      "state": {
       "_model_module_version": "^1.3.3",
       "_view_module_version": "^1.3.3",
       "data": {
        "Knowledge_Source": "Multiomics-BigGIM-DrugResponse",
        "Primary_Knowledge_Source": "hsa04071",
        "_igraph_index": 0,
        "id": "94f14d4a-536d-4a6f-b07d-ba4a0ef00f70",
        "predicate": "kegg_binding/association",
        "publications": "PMID:27899662",
        "source": "NCBIGene::7157",
        "target": "NCBIGene::596.0"
       },
       "selectable": false
      }
     },
     "d6e74ddbd50a4b778088c6129652fb95": {
      "model_module": "jupyter-cytoscape",
      "model_module_version": "^1.3.3",
      "model_name": "NodeModel",
      "state": {
       "_model_module_version": "^1.3.3",
       "_view_module_version": "^1.3.3",
       "data": {
        "id": "REACT::R-HSA-1643685"
       },
       "grabbable": true,
       "grabbed": false,
       "position": {
        "x": 0,
        "y": 0
       },
       "selectable": false
      }
     },
     "d994a2910dd34d90a67a22078bba4ee5": {
      "model_module": "jupyter-cytoscape",
      "model_module_version": "^1.3.3",
      "model_name": "NodeModel",
      "state": {
       "_model_module_version": "^1.3.3",
       "_view_module_version": "^1.3.3",
       "data": {
        "id": "NCBIGene::10577"
       },
       "grabbable": true,
       "grabbed": false,
       "position": {
        "x": 0,
        "y": 0
       },
       "selectable": false
      }
     },
     "db19c30d24c64ec996efae3607491ffd": {
      "model_module": "jupyter-cytoscape",
      "model_module_version": "^1.3.3",
      "model_name": "EdgeModel",
      "state": {
       "_model_module_version": "^1.3.3",
       "_view_module_version": "^1.3.3",
       "classes": " multiple_edges ",
       "data": {
        "Knowledge_Source": "Reactome",
        "Primary_Knowledge_Source": "R-HSA-162582",
        "_igraph_index": 17,
        "id": "54b10aea-af19-42b3-b063-b1b9996917c7",
        "predicate": "reactome_participates_in",
        "publications": "PMID:34788843",
        "source": "NCBIGene::7157",
        "target": "REACT::R-HSA-162582"
       },
       "selectable": false
      }
     },
     "dd3ff8f0319340899b944d9bd1bda967": {
      "model_module": "jupyter-cytoscape",
      "model_module_version": "^1.3.3",
      "model_name": "EdgeModel",
      "state": {
       "_model_module_version": "^1.3.3",
       "_view_module_version": "^1.3.3",
       "classes": " multiple_edges ",
       "data": {
        "Knowledge_Source": "Reactome",
        "Primary_Knowledge_Source": "R-HSA-212436",
        "_igraph_index": 32,
        "id": "a260a558-f838-4574-985d-c0df177d9a2a",
        "predicate": "reactome_participates_in",
        "publications": "PMID:34788843",
        "source": "REACT::R-HSA-212436",
        "target": "NCBIGene::1337"
       },
       "selectable": false
      }
     },
     "df0bf04cff8a4aa68f783791027ca85c": {
      "model_module": "jupyter-cytoscape",
      "model_module_version": "^1.3.3",
      "model_name": "EdgeModel",
      "state": {
       "_model_module_version": "^1.3.3",
       "_view_module_version": "^1.3.3",
       "classes": " multiple_edges ",
       "data": {
        "Knowledge_Source": "Reactome",
        "Primary_Knowledge_Source": "R-HSA-168256",
        "_igraph_index": 28,
        "id": "0160ae2b-d0d6-4cb6-b3db-4bf9924f5076",
        "predicate": "reactome_participates_in",
        "publications": "PMID:34788843",
        "source": "REACT::R-HSA-168256",
        "target": "NCBIGene::10577"
       },
       "selectable": false
      }
     },
     "e12e8a03bb764a28a5d3221d936d0168": {
      "model_module": "jupyter-cytoscape",
      "model_module_version": "^1.3.3",
      "model_name": "EdgeModel",
      "state": {
       "_model_module_version": "^1.3.3",
       "_view_module_version": "^1.3.3",
       "data": {
        "_igraph_index": 18,
        "id": "fbd9508e-b0fd-413d-9f7f-1a66eb4821f6",
        "source": "2175196",
        "target": "2194503",
        "type": "EXPRESSES_AeG"
       },
       "selectable": false
      }
     },
     "e2e4e1964bf94481adaa152855ed1405": {
      "model_module": "jupyter-cytoscape",
      "model_module_version": "^1.3.3",
      "model_name": "EdgeModel",
      "state": {
       "_model_module_version": "^1.3.3",
       "_view_module_version": "^1.3.3",
       "data": {
        "_igraph_index": 33,
        "id": "4388435f-1778-4d0b-a0b3-62a7dc3194bd",
        "source": "2175196",
        "target": "2198485",
        "type": "EXPRESSES_AeG"
       },
       "selectable": false
      }
     },
     "e2fe73225b514ac789ecb919a3f4b24d": {
      "model_module": "@jupyter-widgets/base",
      "model_module_version": "2.0.0",
      "model_name": "LayoutModel",
      "state": {}
     },
     "e5a0b5f5e49a46dbbaedce26e22c9c18": {
      "model_module": "jupyter-cytoscape",
      "model_module_version": "^1.3.3",
      "model_name": "NodeModel",
      "state": {
       "_model_module_version": "^1.3.3",
       "_view_module_version": "^1.3.3",
       "data": {
        "_igraph_index": 0,
        "category": "Compound",
        "feature_name": "NIALAMIDE",
        "id": "42316",
        "identifier": "CHEMBL1256841",
        "in_query": 0,
        "name": "42316",
        "source": "ChEMBL"
       },
       "grabbable": true,
       "grabbed": false,
       "position": {
        "x": 532.3698469490222,
        "y": 77.46307012401755
       },
       "selectable": false
      }
     },
     "e606b5a1ac3a4cae843139ec590bb343": {
      "model_module": "jupyter-cytoscape",
      "model_module_version": "^1.3.3",
      "model_name": "NodeModel",
      "state": {
       "_model_module_version": "^1.3.3",
       "_view_module_version": "^1.3.3",
       "data": {
        "_igraph_index": 20,
        "category": "Gene",
        "feature_name": "SF3B2",
        "id": "2198485",
        "identifier": 10992,
        "in_query": 1,
        "name": "2198485",
        "source": "Entrez Gene"
       },
       "grabbable": true,
       "grabbed": false,
       "position": {
        "x": 954.0021389576247,
        "y": 41.861245847354446
       },
       "selectable": false
      }
     },
     "e72f6790cd214fa9854a40f2469b12e2": {
      "model_module": "jupyter-cytoscape",
      "model_module_version": "^1.3.3",
      "model_name": "EdgeModel",
      "state": {
       "_model_module_version": "^1.3.3",
       "_view_module_version": "^1.3.3",
       "classes": " multiple_edges ",
       "data": {
        "Knowledge_Source": "Reactome",
        "Primary_Knowledge_Source": "R-HSA-212436",
        "_igraph_index": 22,
        "id": "0b828cff-5f5d-4277-bd2c-ff97769626bf",
        "predicate": "reactome_participates_in",
        "publications": "PMID:34788843",
        "source": "NCBIGene::595",
        "target": "REACT::R-HSA-212436"
       },
       "selectable": false
      }
     },
     "e87dbefe49a04567ad67ea09ac794fc3": {
      "model_module": "@jupyter-widgets/base",
      "model_module_version": "2.0.0",
      "model_name": "LayoutModel",
      "state": {}
     },
     "e89ac8254428498fa5ed415321aa4162": {
      "model_module": "jupyter-cytoscape",
      "model_module_version": "^1.3.3",
      "model_name": "EdgeModel",
      "state": {
       "_model_module_version": "^1.3.3",
       "_view_module_version": "^1.3.3",
       "data": {
        "_igraph_index": 38,
        "id": "11756495-0809-421b-800b-35e0564a508d",
        "source": "2175196",
        "target": "2209337",
        "type": "UPREGULATES_AuG"
       },
       "selectable": false
      }
     },
     "ea82104e23f14a7ca44c40d99f3370bb": {
      "model_module": "jupyter-cytoscape",
      "model_module_version": "^1.3.3",
      "model_name": "EdgeModel",
      "state": {
       "_model_module_version": "^1.3.3",
       "_view_module_version": "^1.3.3",
       "data": {
        "_igraph_index": 20,
        "id": "caa3bdf4-b5b8-43b7-8c29-6ab9af95575a",
        "source": "2194503",
        "target": "2192584",
        "type": "UPREGULATES_KGuG"
       },
       "selectable": false
      }
     },
     "eb55fa8b546b4c09902ad249767310c9": {
      "model_module": "jupyter-cytoscape",
      "model_module_version": "^1.3.3",
      "model_name": "NodeModel",
      "state": {
       "_model_module_version": "^1.3.3",
       "_view_module_version": "^1.3.3",
       "data": {
        "_igraph_index": 17,
        "category": "Gene",
        "feature_name": "GDF11",
        "id": "2197854",
        "identifier": 10220,
        "in_query": 1,
        "name": "2197854",
        "source": "Entrez Gene"
       },
       "grabbable": true,
       "grabbed": false,
       "position": {
        "x": 79.01647139377887,
        "y": -302.44662715301575
       },
       "selectable": false
      }
     },
     "eb81be22eaa7433f8e5756bb5d47439e": {
      "model_module": "jupyter-cytoscape",
      "model_module_version": "^1.3.3",
      "model_name": "NodeModel",
      "state": {
       "_model_module_version": "^1.3.3",
       "_view_module_version": "^1.3.3",
       "data": {
        "_igraph_index": 20,
        "category": "Gene",
        "feature_name": "COX6A1",
        "id": "NCBIGene::1337",
        "id_prefix": "NCBIGene",
        "in_query": 1,
        "name": "NCBIGene::1337"
       },
       "grabbable": true,
       "grabbed": false,
       "position": {
        "x": 1011.0741084393661,
        "y": 50.01040584264792
       },
       "selectable": false
      }
     },
     "ecac55f5b3194fa9a1db42b6922ab320": {
      "model_module": "jupyter-cytoscape",
      "model_module_version": "^1.3.3",
      "model_name": "EdgeModel",
      "state": {
       "_model_module_version": "^1.3.3",
       "_view_module_version": "^1.3.3",
       "classes": " multiple_edges ",
       "data": {
        "Knowledge_Source": "Reactome",
        "Primary_Knowledge_Source": "R-HSA-212436",
        "_igraph_index": 24,
        "id": "673c2124-5ce6-43fe-aea1-440fcec6666b",
        "predicate": "reactome_participates_in",
        "publications": "PMID:34788843",
        "source": "NCBIGene::51176",
        "target": "REACT::R-HSA-212436"
       },
       "selectable": false
      }
     },
     "ecfe2cdc9e254ad1a285c744941b0d5f": {
      "model_module": "jupyter-cytoscape",
      "model_module_version": "^1.3.3",
      "model_name": "NodeModel",
      "state": {
       "_model_module_version": "^1.3.3",
       "_view_module_version": "^1.3.3",
       "data": {
        "_igraph_index": 21,
        "category": "Gene",
        "feature_name": "GATA2",
        "id": "NCBIGene::2624",
        "id_prefix": "NCBIGene",
        "in_query": 1,
        "name": "NCBIGene::2624"
       },
       "grabbable": true,
       "grabbed": false,
       "position": {
        "x": 816.0741074393659,
        "y": 223.61744583734185
       },
       "selectable": false
      }
     },
     "ed040b46a8924b0b890fd9b2f23b27eb": {
      "model_module": "jupyter-cytoscape",
      "model_module_version": "^1.3.3",
      "model_name": "EdgeModel",
      "state": {
       "_model_module_version": "^1.3.3",
       "_view_module_version": "^1.3.3",
       "classes": " multiple_edges ",
       "data": {
        "Knowledge_Source": "Reactome",
        "Primary_Knowledge_Source": "R-HSA-1643685",
        "_igraph_index": 8,
        "id": "9f644ebb-09f9-48fb-911a-0dbab313c016",
        "predicate": "reactome_participates_in",
        "publications": "PMID:34788843",
        "source": "NCBIGene::595",
        "target": "REACT::R-HSA-1643685"
       },
       "selectable": false
      }
     },
     "ed708544eb70439690404529f2174c7e": {
      "model_module": "jupyter-cytoscape",
      "model_module_version": "^1.3.3",
      "model_name": "NodeModel",
      "state": {
       "_model_module_version": "^1.3.3",
       "_view_module_version": "^1.3.3",
       "data": {
        "id": "NCBIGene::2308.0"
       },
       "grabbable": true,
       "grabbed": false,
       "position": {
        "x": 0,
        "y": 0
       },
       "selectable": false
      }
     },
     "ed8f82417a254f2fac0f3aa6f0edcbbd": {
      "model_module": "jupyter-cytoscape",
      "model_module_version": "^1.3.3",
      "model_name": "EdgeModel",
      "state": {
       "_model_module_version": "^1.3.3",
       "_view_module_version": "^1.3.3",
       "data": {
        "_igraph_index": 4,
        "id": "e360c48c-832e-414c-86a8-e59f9392ab80",
        "source": "2175196",
        "target": "2190948",
        "type": "EXPRESSES_AeG"
       },
       "selectable": false
      }
     },
     "ef1e367f3797446dac0dbdfd0d84fc7b": {
      "model_module": "jupyter-cytoscape",
      "model_module_version": "^1.3.3",
      "model_name": "EdgeModel",
      "state": {
       "_model_module_version": "^1.3.3",
       "_view_module_version": "^1.3.3",
       "data": {
        "_igraph_index": 32,
        "id": "e2eee23a-2837-4a58-be35-4bfac1033689",
        "source": "2175196",
        "target": "2198153",
        "type": "EXPRESSES_AeG"
       },
       "selectable": false
      }
     },
     "f21c97e7a124474ba94c5692243000e5": {
      "model_module": "jupyter-cytoscape",
      "model_module_version": "^1.3.3",
      "model_name": "EdgeModel",
      "state": {
       "_model_module_version": "^1.3.3",
       "_view_module_version": "^1.3.3",
       "data": {
        "_igraph_index": 14,
        "id": "fa520585-2da0-480b-a04c-036d2367f77b",
        "source": "2175196",
        "target": "2193539",
        "type": "EXPRESSES_AeG"
       },
       "selectable": false
      }
     },
     "f24248f4a2884aa5ab9ead77b9b3be19": {
      "model_module": "jupyter-cytoscape",
      "model_module_version": "^1.3.3",
      "model_name": "EdgeModel",
      "state": {
       "_model_module_version": "^1.3.3",
       "_view_module_version": "^1.3.3",
       "data": {
        "_igraph_index": 9,
        "id": "a5b1b49b-cc77-4fa3-9216-935255f7f9d8",
        "source": "2192566",
        "target": "2175051",
        "type": "UPREGULATES_KGuG"
       },
       "selectable": false
      }
     },
     "f25ee977269b40e1ac9fb99705a34a7e": {
      "model_module": "jupyter-cytoscape",
      "model_module_version": "^1.3.3",
      "model_name": "EdgeModel",
      "state": {
       "_model_module_version": "^1.3.3",
       "_view_module_version": "^1.3.3",
       "data": {
        "_igraph_index": 11,
        "id": "58db8f40-f539-4358-875d-af08e57aaeaa",
        "source": "2192566",
        "target": "2190368",
        "type": "UPREGULATES_KGuG"
       },
       "selectable": false
      }
     },
     "f405c32e5c104283baa38596b626534e": {
      "model_module": "jupyter-cytoscape",
      "model_module_version": "^1.3.3",
      "model_name": "NodeModel",
      "state": {
       "_model_module_version": "^1.3.3",
       "_view_module_version": "^1.3.3",
       "data": {
        "_igraph_index": 3,
        "category": "Gene",
        "feature_name": "BCL2",
        "id": "2190368",
        "identifier": 596,
        "in_query": 1,
        "name": "2190368",
        "source": "Entrez Gene"
       },
       "grabbable": true,
       "grabbed": false,
       "position": {
        "x": 724.8698479490222,
        "y": 74.96307012401755
       },
       "selectable": false
      }
     },
     "f45431caf2814aba99793891c0eafc00": {
      "model_module": "jupyter-cytoscape",
      "model_module_version": "^1.3.3",
      "model_name": "NodeModel",
      "state": {
       "_model_module_version": "^1.3.3",
       "_view_module_version": "^1.3.3",
       "data": {
        "id": "NCBIGene::7157"
       },
       "grabbable": true,
       "grabbed": false,
       "position": {
        "x": 0,
        "y": 0
       },
       "selectable": false
      }
     },
     "f52e4d5f762344589c474d6f84c3705c": {
      "model_module": "jupyter-cytoscape",
      "model_module_version": "^1.3.3",
      "model_name": "EdgeModel",
      "state": {
       "_model_module_version": "^1.3.3",
       "_view_module_version": "^1.3.3",
       "data": {
        "Knowledge_Source": "Reactome",
        "Primary_Knowledge_Source": "R-HSA-109582",
        "_igraph_index": 5,
        "id": "c55e444a-5be2-414a-a8c7-b33b35ca5120",
        "predicate": "reactome_participates_in",
        "publications": "PMID:34788843",
        "source": "REACT::R-HSA-109582",
        "target": "NCBIGene::2624"
       },
       "selectable": false
      }
     },
     "f6fc0e0218b84f4891363d6e6d821a3c": {
      "model_module": "jupyter-cytoscape",
      "model_module_version": "^1.3.3",
      "model_name": "NodeModel",
      "state": {
       "_model_module_version": "^1.3.3",
       "_view_module_version": "^1.3.3",
       "data": {
        "id": "NCBIGene::4791"
       },
       "grabbable": true,
       "grabbed": false,
       "position": {
        "x": 0,
        "y": 0
       },
       "selectable": false
      }
     },
     "f7b3a82548fe44d8871a2117b38356ba": {
      "model_module": "jupyter-cytoscape",
      "model_module_version": "^1.3.3",
      "model_name": "NodeModel",
      "state": {
       "_model_module_version": "^1.3.3",
       "_view_module_version": "^1.3.3",
       "data": {
        "id": "REACT::R-HSA-8953854"
       },
       "grabbable": true,
       "grabbed": false,
       "position": {
        "x": 0,
        "y": 0
       },
       "selectable": false
      }
     },
     "f85564e3c77b461880ef637d7db7c123": {
      "model_module": "jupyter-cytoscape",
      "model_module_version": "^1.3.3",
      "model_name": "NodeModel",
      "state": {
       "_model_module_version": "^1.3.3",
       "_view_module_version": "^1.3.3",
       "data": {
        "_igraph_index": 1,
        "category": "Compound",
        "feature_name": "CHEMBL2139591",
        "id": "283315",
        "identifier": "CHEMBL2139591",
        "in_query": 0,
        "name": "283315",
        "source": "ChEMBL"
       },
       "grabbable": true,
       "grabbed": false,
       "position": {
        "x": 339.0900467121109,
        "y": 273.4487924764877
       },
       "selectable": false
      }
     },
     "f895f71bd97b46449460d5e7b1534219": {
      "model_module": "jupyter-cytoscape",
      "model_module_version": "^1.3.3",
      "model_name": "EdgeModel",
      "state": {
       "_model_module_version": "^1.3.3",
       "_view_module_version": "^1.3.3",
       "data": {
        "Knowledge_Source": "Reactome",
        "Primary_Knowledge_Source": "R-HSA-168249",
        "_igraph_index": 4,
        "id": "dcc0a1c7-b51b-452f-940d-728fc950c148",
        "predicate": "reactome_participates_in",
        "publications": "PMID:34788843",
        "source": "REACT::R-HSA-168249",
        "target": "NCBIGene::10577"
       },
       "selectable": false
      }
     },
     "fd6f21833a8c4cfdbf67e378b1b1caaf": {
      "model_module": "jupyter-cytoscape",
      "model_module_version": "^1.3.3",
      "model_name": "CytoscapeModel",
      "state": {
       "_interaction_handlers": {},
       "_model_module_version": "^1.3.3",
       "_view_module_version": "^1.3.3",
       "auto_ungrabify": false,
       "autolock": false,
       "cytoscape_layout": {
        "edgeLengthVal": 50,
        "name": "cola",
        "nodeSpacing": 80,
        "title": "high_proteins"
       },
       "cytoscape_style": [
        {
         "selector": "node[feature_name]",
         "style": {
          "font-family": "helvetica",
          "font-size": "20px",
          "label": "data(feature_name)"
         }
        },
        {
         "selector": "node[category=\"Protein\"]",
         "style": {
          "background-color": "blue"
         }
        },
        {
         "selector": "node[in_query=1]",
         "style": {
          "border-color": "red",
          "border-width": "5px"
         }
        },
        {
         "selector": "edge[type]",
         "style": {
          "label": "data(type)"
         }
        },
        {
         "selector": "edge.directed",
         "style": {
          "curve-style": "bezier",
          "target-arrow-shape": "triangle"
         }
        }
       ],
       "desktop_tap_threshold": 4,
       "graph": "IPY_MODEL_d01af4bac7394cf6814a4ccf41239d7a",
       "headless": false,
       "hide_edges_on_viewport": false,
       "layout": "IPY_MODEL_e87dbefe49a04567ad67ea09ac794fc3",
       "max_zoom": 1e+50,
       "min_zoom": 1e-50,
       "motion_blur": false,
       "motion_blur_opacity": 0.2,
       "panning_enabled": true,
       "pixel_ratio": "auto",
       "rendered_position": {
        "renderedPosition": {
         "x": 100,
         "y": 100
        }
       },
       "selection_type": "single",
       "style_enabled": true,
       "texture_on_viewport": false,
       "tooltip_source": "feature_name",
       "touch_tap_threshold": 8,
       "user_panning_enabled": true,
       "user_zooming_enabled": true,
       "wheel_sensitivity": 1,
       "zoom": 2,
       "zooming_enabled": true
      }
     },
     "fe0f0738767f4d6e81feb564fd09f051": {
      "model_module": "jupyter-cytoscape",
      "model_module_version": "^1.3.3",
      "model_name": "NodeModel",
      "state": {
       "_model_module_version": "^1.3.3",
       "_view_module_version": "^1.3.3",
       "data": {
        "_igraph_index": 16,
        "category": "Gene",
        "feature_name": "MTSS1",
        "id": "2197473",
        "identifier": 9788,
        "in_query": 1,
        "name": "2197473",
        "source": "Entrez Gene"
       },
       "grabbable": true,
       "grabbed": false,
       "position": {
        "x": 21.5829462976433,
        "y": 472.55337684698424
       },
       "selectable": false
      }
     },
     "ff4cfcf1c297461d93035c2c7d0904cc": {
      "model_module": "jupyter-cytoscape",
      "model_module_version": "^1.3.3",
      "model_name": "NodeModel",
      "state": {
       "_model_module_version": "^1.3.3",
       "_view_module_version": "^1.3.3",
       "data": {
        "id": "REACT::R-HSA-212436"
       },
       "grabbable": true,
       "grabbed": false,
       "position": {
        "x": 0,
        "y": 0
       },
       "selectable": false
      }
     },
     "ffd5cb9829ab4de59b661ce596366038": {
      "model_module": "jupyter-cytoscape",
      "model_module_version": "^1.3.3",
      "model_name": "NodeModel",
      "state": {
       "_model_module_version": "^1.3.3",
       "_view_module_version": "^1.3.3",
       "data": {
        "_igraph_index": 6,
        "category": "Gene",
        "feature_name": "GATA2",
        "id": "NCBIGene::2624",
        "id_prefix": "NCBIGene",
        "in_query": 1,
        "name": "NCBIGene::2624"
       },
       "grabbable": true,
       "grabbed": false,
       "position": {
        "x": 340.792918188195,
        "y": 246.62465084610403
       },
       "selectable": false
      }
     },
     "fffbff0e5c144c11a4e1d58cac9e55d4": {
      "model_module": "jupyter-cytoscape",
      "model_module_version": "^1.3.3",
      "model_name": "NodeModel",
      "state": {
       "_model_module_version": "^1.3.3",
       "_view_module_version": "^1.3.3",
       "data": {
        "id": "NCBIGene::3516.0"
       },
       "grabbable": true,
       "grabbed": false,
       "position": {
        "x": 0,
        "y": 0
       },
       "selectable": false
      }
     },
     "fffcd11e73c4402d9b05d98f9df74899": {
      "model_module": "jupyter-cytoscape",
      "model_module_version": "^1.3.3",
      "model_name": "EdgeModel",
      "state": {
       "_model_module_version": "^1.3.3",
       "_view_module_version": "^1.3.3",
       "data": {
        "_igraph_index": 34,
        "id": "09304d8b-be7f-45e8-9e3a-f92392c47ec2",
        "source": "2198515",
        "target": "2175051",
        "type": "UPREGULATES_KGuG"
       },
       "selectable": false
      }
     }
    },
    "version_major": 2,
    "version_minor": 0
   }
  }
 },
 "nbformat": 4,
 "nbformat_minor": 5
}
