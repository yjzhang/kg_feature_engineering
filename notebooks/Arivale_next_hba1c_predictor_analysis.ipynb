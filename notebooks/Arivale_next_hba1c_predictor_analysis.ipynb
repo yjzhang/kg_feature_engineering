{
 "cells": [
  {
   "cell_type": "markdown",
   "id": "94d6a25b-beb3-4e1e-a15e-baaada9ecaae",
   "metadata": {},
   "source": [
    "# Analysis of outlier proteins/metabolites found among samples with high HbA1C in the Arivale dataset\n",
    "\n",
    "Note: the main idea here is to test various graph analysis methods, not to build a rigorous characterization of Arivale outliers."
   ]
  },
  {
   "cell_type": "code",
   "execution_count": 1,
   "id": "ded1512c-2257-46c4-b4d6-009a7053bb3f",
   "metadata": {},
   "outputs": [],
   "source": [
    "# imports\n",
    "import numpy as np\n",
    "import pandas as pd\n",
    "import networkx as nx\n",
    "import kgfe"
   ]
  },
  {
   "cell_type": "code",
   "execution_count": null,
   "id": "e5d7e160-21c6-4d4d-8f21-b6bbcf6ce005",
   "metadata": {},
   "outputs": [],
   "source": []
  },
  {
   "cell_type": "markdown",
   "id": "b9e28ba5-3255-4fd3-bc5e-51e38fa5647f",
   "metadata": {},
   "source": [
    "## 1. Load data"
   ]
  },
  {
   "cell_type": "code",
   "execution_count": 2,
   "id": "09c9a662-2a73-4e11-86e3-a2b923724352",
   "metadata": {},
   "outputs": [],
   "source": [
    "prots_data = pd.read_csv('../data/prots_lassocv_hba1c_top_weights.csv', index_col=0)"
   ]
  },
  {
   "cell_type": "code",
   "execution_count": 3,
   "id": "b8036f04-eb20-40af-9d5e-44bfc0f95a6f",
   "metadata": {},
   "outputs": [
    {
     "data": {
      "text/html": [
       "<div>\n",
       "<style scoped>\n",
       "    .dataframe tbody tr th:only-of-type {\n",
       "        vertical-align: middle;\n",
       "    }\n",
       "\n",
       "    .dataframe tbody tr th {\n",
       "        vertical-align: top;\n",
       "    }\n",
       "\n",
       "    .dataframe thead th {\n",
       "        text-align: right;\n",
       "    }\n",
       "</style>\n",
       "<table border=\"1\" class=\"dataframe\">\n",
       "  <thead>\n",
       "    <tr style=\"text-align: right;\">\n",
       "      <th></th>\n",
       "      <th>weight</th>\n",
       "      <th>gene_name</th>\n",
       "      <th>uniprot</th>\n",
       "    </tr>\n",
       "  </thead>\n",
       "  <tbody>\n",
       "    <tr>\n",
       "      <th>CVD2_P09341</th>\n",
       "      <td>0.004217</td>\n",
       "      <td>CXCL1</td>\n",
       "      <td>P09341</td>\n",
       "    </tr>\n",
       "    <tr>\n",
       "      <th>INF_Q5T4W7</th>\n",
       "      <td>0.004247</td>\n",
       "      <td>ARTN</td>\n",
       "      <td>Q5T4W7</td>\n",
       "    </tr>\n",
       "    <tr>\n",
       "      <th>INF_Q13007</th>\n",
       "      <td>0.004683</td>\n",
       "      <td>IL24</td>\n",
       "      <td>Q13007</td>\n",
       "    </tr>\n",
       "    <tr>\n",
       "      <th>CVD3_Q9H2A7</th>\n",
       "      <td>0.005046</td>\n",
       "      <td>CXCL16</td>\n",
       "      <td>Q9H2A7</td>\n",
       "    </tr>\n",
       "    <tr>\n",
       "      <th>CVD2_P51161</th>\n",
       "      <td>0.005645</td>\n",
       "      <td>FABP6</td>\n",
       "      <td>P51161</td>\n",
       "    </tr>\n",
       "    <tr>\n",
       "      <th>CVD3_P80370</th>\n",
       "      <td>0.006000</td>\n",
       "      <td>DLK1</td>\n",
       "      <td>P80370</td>\n",
       "    </tr>\n",
       "    <tr>\n",
       "      <th>CVD3_Q99969</th>\n",
       "      <td>0.006440</td>\n",
       "      <td>RARRES2</td>\n",
       "      <td>Q99969</td>\n",
       "    </tr>\n",
       "    <tr>\n",
       "      <th>CVD2_P04792</th>\n",
       "      <td>0.007224</td>\n",
       "      <td>HSPB1</td>\n",
       "      <td>P04792</td>\n",
       "    </tr>\n",
       "    <tr>\n",
       "      <th>INF_P39905</th>\n",
       "      <td>0.007638</td>\n",
       "      <td>GDNF</td>\n",
       "      <td>P39905</td>\n",
       "    </tr>\n",
       "    <tr>\n",
       "      <th>CVD2_Q9BQ51</th>\n",
       "      <td>0.008087</td>\n",
       "      <td>PDCD1LG2</td>\n",
       "      <td>Q9BQ51</td>\n",
       "    </tr>\n",
       "    <tr>\n",
       "      <th>INF_P13236</th>\n",
       "      <td>0.008342</td>\n",
       "      <td>CCL4</td>\n",
       "      <td>P13236</td>\n",
       "    </tr>\n",
       "    <tr>\n",
       "      <th>CVD2_Q96D42</th>\n",
       "      <td>0.009330</td>\n",
       "      <td>HAVCR1</td>\n",
       "      <td>Q96D42</td>\n",
       "    </tr>\n",
       "    <tr>\n",
       "      <th>CVD2_Q12866</th>\n",
       "      <td>0.012231</td>\n",
       "      <td>MERTK</td>\n",
       "      <td>Q12866</td>\n",
       "    </tr>\n",
       "    <tr>\n",
       "      <th>CVD3_P28799</th>\n",
       "      <td>0.013446</td>\n",
       "      <td>GRN</td>\n",
       "      <td>P28799</td>\n",
       "    </tr>\n",
       "    <tr>\n",
       "      <th>CVD3_P05107</th>\n",
       "      <td>0.013646</td>\n",
       "      <td>ITGB2</td>\n",
       "      <td>P05107</td>\n",
       "    </tr>\n",
       "    <tr>\n",
       "      <th>CVD2_O00220</th>\n",
       "      <td>0.016185</td>\n",
       "      <td>TNFRSF10A</td>\n",
       "      <td>O00220</td>\n",
       "    </tr>\n",
       "    <tr>\n",
       "      <th>CVD2_Q9Y6K9</th>\n",
       "      <td>0.036213</td>\n",
       "      <td>IKBKG</td>\n",
       "      <td>Q9Y6K9</td>\n",
       "    </tr>\n",
       "    <tr>\n",
       "      <th>CVD3_P00749</th>\n",
       "      <td>-0.025126</td>\n",
       "      <td>PLAU</td>\n",
       "      <td>P00749</td>\n",
       "    </tr>\n",
       "    <tr>\n",
       "      <th>CVD3_P02786</th>\n",
       "      <td>-0.021409</td>\n",
       "      <td>TFRC</td>\n",
       "      <td>P02786</td>\n",
       "    </tr>\n",
       "    <tr>\n",
       "      <th>CVD2_Q16698</th>\n",
       "      <td>-0.019208</td>\n",
       "      <td>DECR1</td>\n",
       "      <td>Q16698</td>\n",
       "    </tr>\n",
       "    <tr>\n",
       "      <th>CVD2_P24394</th>\n",
       "      <td>-0.014549</td>\n",
       "      <td>IL4R</td>\n",
       "      <td>P24394</td>\n",
       "    </tr>\n",
       "    <tr>\n",
       "      <th>INF_O14625</th>\n",
       "      <td>-0.013814</td>\n",
       "      <td>CXCL11</td>\n",
       "      <td>O14625</td>\n",
       "    </tr>\n",
       "    <tr>\n",
       "      <th>CVD2_Q76LX8</th>\n",
       "      <td>-0.013563</td>\n",
       "      <td>ADAMTS13</td>\n",
       "      <td>Q76LX8</td>\n",
       "    </tr>\n",
       "    <tr>\n",
       "      <th>INF_P05113</th>\n",
       "      <td>-0.011976</td>\n",
       "      <td>IL5</td>\n",
       "      <td>P05113</td>\n",
       "    </tr>\n",
       "    <tr>\n",
       "      <th>CVD3_Q9NQ76</th>\n",
       "      <td>-0.011850</td>\n",
       "      <td>MEPE</td>\n",
       "      <td>Q9NQ76</td>\n",
       "    </tr>\n",
       "    <tr>\n",
       "      <th>CVD3_Q07654</th>\n",
       "      <td>-0.010724</td>\n",
       "      <td>TFF3</td>\n",
       "      <td>Q07654</td>\n",
       "    </tr>\n",
       "    <tr>\n",
       "      <th>INF_Q13651</th>\n",
       "      <td>-0.009920</td>\n",
       "      <td>IL10RA</td>\n",
       "      <td>Q13651</td>\n",
       "    </tr>\n",
       "    <tr>\n",
       "      <th>INF_Q99748</th>\n",
       "      <td>-0.009204</td>\n",
       "      <td>NRTN</td>\n",
       "      <td>Q99748</td>\n",
       "    </tr>\n",
       "    <tr>\n",
       "      <th>CVD2_Q9GZV9</th>\n",
       "      <td>-0.008841</td>\n",
       "      <td>FGF23</td>\n",
       "      <td>Q9GZV9</td>\n",
       "    </tr>\n",
       "    <tr>\n",
       "      <th>CVD3_Q15166</th>\n",
       "      <td>-0.008769</td>\n",
       "      <td>PON3</td>\n",
       "      <td>Q15166</td>\n",
       "    </tr>\n",
       "    <tr>\n",
       "      <th>INF_P05112</th>\n",
       "      <td>-0.007372</td>\n",
       "      <td>IL4</td>\n",
       "      <td>P05112</td>\n",
       "    </tr>\n",
       "    <tr>\n",
       "      <th>INF_Q13261</th>\n",
       "      <td>-0.007360</td>\n",
       "      <td>IL15RA</td>\n",
       "      <td>Q13261</td>\n",
       "    </tr>\n",
       "    <tr>\n",
       "      <th>CVD2_Q9UK05</th>\n",
       "      <td>-0.006107</td>\n",
       "      <td>GDF2</td>\n",
       "      <td>Q9UK05</td>\n",
       "    </tr>\n",
       "    <tr>\n",
       "      <th>INF_P55773</th>\n",
       "      <td>-0.003777</td>\n",
       "      <td>CCL23</td>\n",
       "      <td>P55773</td>\n",
       "    </tr>\n",
       "  </tbody>\n",
       "</table>\n",
       "</div>"
      ],
      "text/plain": [
       "               weight  gene_name uniprot\n",
       "CVD2_P09341  0.004217      CXCL1  P09341\n",
       "INF_Q5T4W7   0.004247       ARTN  Q5T4W7\n",
       "INF_Q13007   0.004683       IL24  Q13007\n",
       "CVD3_Q9H2A7  0.005046     CXCL16  Q9H2A7\n",
       "CVD2_P51161  0.005645      FABP6  P51161\n",
       "CVD3_P80370  0.006000       DLK1  P80370\n",
       "CVD3_Q99969  0.006440    RARRES2  Q99969\n",
       "CVD2_P04792  0.007224      HSPB1  P04792\n",
       "INF_P39905   0.007638       GDNF  P39905\n",
       "CVD2_Q9BQ51  0.008087   PDCD1LG2  Q9BQ51\n",
       "INF_P13236   0.008342       CCL4  P13236\n",
       "CVD2_Q96D42  0.009330     HAVCR1  Q96D42\n",
       "CVD2_Q12866  0.012231      MERTK  Q12866\n",
       "CVD3_P28799  0.013446        GRN  P28799\n",
       "CVD3_P05107  0.013646      ITGB2  P05107\n",
       "CVD2_O00220  0.016185  TNFRSF10A  O00220\n",
       "CVD2_Q9Y6K9  0.036213      IKBKG  Q9Y6K9\n",
       "CVD3_P00749 -0.025126       PLAU  P00749\n",
       "CVD3_P02786 -0.021409       TFRC  P02786\n",
       "CVD2_Q16698 -0.019208      DECR1  Q16698\n",
       "CVD2_P24394 -0.014549       IL4R  P24394\n",
       "INF_O14625  -0.013814     CXCL11  O14625\n",
       "CVD2_Q76LX8 -0.013563   ADAMTS13  Q76LX8\n",
       "INF_P05113  -0.011976        IL5  P05113\n",
       "CVD3_Q9NQ76 -0.011850       MEPE  Q9NQ76\n",
       "CVD3_Q07654 -0.010724       TFF3  Q07654\n",
       "INF_Q13651  -0.009920     IL10RA  Q13651\n",
       "INF_Q99748  -0.009204       NRTN  Q99748\n",
       "CVD2_Q9GZV9 -0.008841      FGF23  Q9GZV9\n",
       "CVD3_Q15166 -0.008769       PON3  Q15166\n",
       "INF_P05112  -0.007372        IL4  P05112\n",
       "INF_Q13261  -0.007360     IL15RA  Q13261\n",
       "CVD2_Q9UK05 -0.006107       GDF2  Q9UK05\n",
       "INF_P55773  -0.003777      CCL23  P55773"
      ]
     },
     "execution_count": 3,
     "metadata": {},
     "output_type": "execute_result"
    }
   ],
   "source": [
    "prots_data"
   ]
  },
  {
   "cell_type": "code",
   "execution_count": 4,
   "id": "6785d787-3b62-4376-9300-564f6c708251",
   "metadata": {},
   "outputs": [],
   "source": [
    "mets_data = pd.read_csv('../data/mets_lassocv_hba1c_top_weights.csv', index_col=0)"
   ]
  },
  {
   "cell_type": "code",
   "execution_count": 5,
   "id": "291d465a-9fa8-4cb6-a9be-7d7e6a70df32",
   "metadata": {},
   "outputs": [
    {
     "data": {
      "text/html": [
       "<div>\n",
       "<style scoped>\n",
       "    .dataframe tbody tr th:only-of-type {\n",
       "        vertical-align: middle;\n",
       "    }\n",
       "\n",
       "    .dataframe tbody tr th {\n",
       "        vertical-align: top;\n",
       "    }\n",
       "\n",
       "    .dataframe thead th {\n",
       "        text-align: right;\n",
       "    }\n",
       "</style>\n",
       "<table border=\"1\" class=\"dataframe\">\n",
       "  <thead>\n",
       "    <tr style=\"text-align: right;\">\n",
       "      <th></th>\n",
       "      <th>weight</th>\n",
       "      <th>gene_name</th>\n",
       "      <th>uniprot</th>\n",
       "    </tr>\n",
       "  </thead>\n",
       "  <tbody>\n",
       "    <tr>\n",
       "      <th>CVD2_Q9Y6K9</th>\n",
       "      <td>0.036213</td>\n",
       "      <td>IKBKG</td>\n",
       "      <td>Q9Y6K9</td>\n",
       "    </tr>\n",
       "    <tr>\n",
       "      <th>CVD2_O00220</th>\n",
       "      <td>0.016185</td>\n",
       "      <td>TNFRSF10A</td>\n",
       "      <td>O00220</td>\n",
       "    </tr>\n",
       "    <tr>\n",
       "      <th>CVD3_P05107</th>\n",
       "      <td>0.013646</td>\n",
       "      <td>ITGB2</td>\n",
       "      <td>P05107</td>\n",
       "    </tr>\n",
       "    <tr>\n",
       "      <th>CVD3_P28799</th>\n",
       "      <td>0.013446</td>\n",
       "      <td>GRN</td>\n",
       "      <td>P28799</td>\n",
       "    </tr>\n",
       "    <tr>\n",
       "      <th>CVD2_Q12866</th>\n",
       "      <td>0.012231</td>\n",
       "      <td>MERTK</td>\n",
       "      <td>Q12866</td>\n",
       "    </tr>\n",
       "    <tr>\n",
       "      <th>CVD2_Q96D42</th>\n",
       "      <td>0.009330</td>\n",
       "      <td>HAVCR1</td>\n",
       "      <td>Q96D42</td>\n",
       "    </tr>\n",
       "    <tr>\n",
       "      <th>INF_P13236</th>\n",
       "      <td>0.008342</td>\n",
       "      <td>CCL4</td>\n",
       "      <td>P13236</td>\n",
       "    </tr>\n",
       "    <tr>\n",
       "      <th>CVD2_Q9BQ51</th>\n",
       "      <td>0.008087</td>\n",
       "      <td>PDCD1LG2</td>\n",
       "      <td>Q9BQ51</td>\n",
       "    </tr>\n",
       "    <tr>\n",
       "      <th>INF_P39905</th>\n",
       "      <td>0.007638</td>\n",
       "      <td>GDNF</td>\n",
       "      <td>P39905</td>\n",
       "    </tr>\n",
       "    <tr>\n",
       "      <th>CVD2_P04792</th>\n",
       "      <td>0.007224</td>\n",
       "      <td>HSPB1</td>\n",
       "      <td>P04792</td>\n",
       "    </tr>\n",
       "  </tbody>\n",
       "</table>\n",
       "</div>"
      ],
      "text/plain": [
       "               weight  gene_name uniprot\n",
       "CVD2_Q9Y6K9  0.036213      IKBKG  Q9Y6K9\n",
       "CVD2_O00220  0.016185  TNFRSF10A  O00220\n",
       "CVD3_P05107  0.013646      ITGB2  P05107\n",
       "CVD3_P28799  0.013446        GRN  P28799\n",
       "CVD2_Q12866  0.012231      MERTK  Q12866\n",
       "CVD2_Q96D42  0.009330     HAVCR1  Q96D42\n",
       "INF_P13236   0.008342       CCL4  P13236\n",
       "CVD2_Q9BQ51  0.008087   PDCD1LG2  Q9BQ51\n",
       "INF_P39905   0.007638       GDNF  P39905\n",
       "CVD2_P04792  0.007224      HSPB1  P04792"
      ]
     },
     "execution_count": 5,
     "metadata": {},
     "output_type": "execute_result"
    }
   ],
   "source": [
    "prots_data.sort_values('weight', ascending=False).head(10)"
   ]
  },
  {
   "cell_type": "code",
   "execution_count": 6,
   "id": "3cc3c8f8-062f-48c3-81dc-aeb698787fd7",
   "metadata": {},
   "outputs": [
    {
     "data": {
      "text/html": [
       "<div>\n",
       "<style scoped>\n",
       "    .dataframe tbody tr th:only-of-type {\n",
       "        vertical-align: middle;\n",
       "    }\n",
       "\n",
       "    .dataframe tbody tr th {\n",
       "        vertical-align: top;\n",
       "    }\n",
       "\n",
       "    .dataframe thead th {\n",
       "        text-align: right;\n",
       "    }\n",
       "</style>\n",
       "<table border=\"1\" class=\"dataframe\">\n",
       "  <thead>\n",
       "    <tr style=\"text-align: right;\">\n",
       "      <th></th>\n",
       "      <th>weight</th>\n",
       "      <th>name</th>\n",
       "      <th>KEGG</th>\n",
       "      <th>PUBCHEM</th>\n",
       "      <th>CHEMBL</th>\n",
       "    </tr>\n",
       "  </thead>\n",
       "  <tbody>\n",
       "    <tr>\n",
       "      <th>100000808</th>\n",
       "      <td>0.034156</td>\n",
       "      <td>cysteine s-sulfate</td>\n",
       "      <td>C05824</td>\n",
       "      <td>115015.0</td>\n",
       "      <td>CHEMBL457665</td>\n",
       "    </tr>\n",
       "    <tr>\n",
       "      <th>100000626</th>\n",
       "      <td>0.024000</td>\n",
       "      <td>sphingosine 1-phosphate</td>\n",
       "      <td>C06124</td>\n",
       "      <td>5283560.0</td>\n",
       "      <td>CHEMBL225155</td>\n",
       "    </tr>\n",
       "    <tr>\n",
       "      <th>279</th>\n",
       "      <td>0.019783</td>\n",
       "      <td>cystine</td>\n",
       "      <td>C00491</td>\n",
       "      <td>67678.0</td>\n",
       "      <td>CHEMBL590540</td>\n",
       "    </tr>\n",
       "    <tr>\n",
       "      <th>803</th>\n",
       "      <td>0.016133</td>\n",
       "      <td>mannose</td>\n",
       "      <td>C00159</td>\n",
       "      <td>18950.0</td>\n",
       "      <td>CHEMBL469448</td>\n",
       "    </tr>\n",
       "    <tr>\n",
       "      <th>100000773</th>\n",
       "      <td>0.010998</td>\n",
       "      <td>3-hydroxyoctanoate</td>\n",
       "      <td>NaN</td>\n",
       "      <td>26613.0</td>\n",
       "      <td>NaN</td>\n",
       "    </tr>\n",
       "    <tr>\n",
       "      <th>572</th>\n",
       "      <td>0.010297</td>\n",
       "      <td>glucose</td>\n",
       "      <td>C00031</td>\n",
       "      <td>5793.0</td>\n",
       "      <td>CHEMBL1222250</td>\n",
       "    </tr>\n",
       "    <tr>\n",
       "      <th>100005985</th>\n",
       "      <td>0.010199</td>\n",
       "      <td>sphingomyelin (d18:2/14:0, d18:1/14:1)*</td>\n",
       "      <td>NaN</td>\n",
       "      <td>NaN</td>\n",
       "      <td>NaN</td>\n",
       "    </tr>\n",
       "    <tr>\n",
       "      <th>100000841</th>\n",
       "      <td>0.009487</td>\n",
       "      <td>oxalate (ethanedioate)</td>\n",
       "      <td>C00209</td>\n",
       "      <td>971.0</td>\n",
       "      <td>CHEMBL146755</td>\n",
       "    </tr>\n",
       "    <tr>\n",
       "      <th>444</th>\n",
       "      <td>0.009190</td>\n",
       "      <td>ornithine</td>\n",
       "      <td>C00077</td>\n",
       "      <td>6262.0</td>\n",
       "      <td>CHEMBL446143</td>\n",
       "    </tr>\n",
       "    <tr>\n",
       "      <th>2051</th>\n",
       "      <td>0.009039</td>\n",
       "      <td>methylsuccinate</td>\n",
       "      <td>NaN</td>\n",
       "      <td>10349.0</td>\n",
       "      <td>NaN</td>\n",
       "    </tr>\n",
       "    <tr>\n",
       "      <th>100010955</th>\n",
       "      <td>0.006956</td>\n",
       "      <td>perfluorooctanesulfonate (PFOS)</td>\n",
       "      <td>C18142</td>\n",
       "      <td>74483.0</td>\n",
       "      <td>CHEMBL1876554</td>\n",
       "    </tr>\n",
       "    <tr>\n",
       "      <th>100010922</th>\n",
       "      <td>0.006934</td>\n",
       "      <td>linoleoyl-arachidonoyl-glycerol (18:2/20:4) [1]*</td>\n",
       "      <td>NaN</td>\n",
       "      <td>NaN</td>\n",
       "      <td>NaN</td>\n",
       "    </tr>\n",
       "    <tr>\n",
       "      <th>100001869</th>\n",
       "      <td>0.006530</td>\n",
       "      <td>1-stearoyl-2-arachidonoyl-GPC (18:0/20:4)</td>\n",
       "      <td>NaN</td>\n",
       "      <td>16219824.0</td>\n",
       "      <td>NaN</td>\n",
       "    </tr>\n",
       "    <tr>\n",
       "      <th>100000265</th>\n",
       "      <td>0.005854</td>\n",
       "      <td>kynurenine</td>\n",
       "      <td>C00328</td>\n",
       "      <td>161166.0</td>\n",
       "      <td>CHEMBL498416</td>\n",
       "    </tr>\n",
       "    <tr>\n",
       "      <th>100021162</th>\n",
       "      <td>0.005492</td>\n",
       "      <td>palmitoyl-sphingosine-phosphoethanolamine (d18...</td>\n",
       "      <td>NaN</td>\n",
       "      <td>NaN</td>\n",
       "      <td>NaN</td>\n",
       "    </tr>\n",
       "    <tr>\n",
       "      <th>1442</th>\n",
       "      <td>0.005415</td>\n",
       "      <td>beta-hydroxyisovalerate</td>\n",
       "      <td>NaN</td>\n",
       "      <td>69362.0</td>\n",
       "      <td>CHEMBL4303793</td>\n",
       "    </tr>\n",
       "    <tr>\n",
       "      <th>100001567</th>\n",
       "      <td>0.005332</td>\n",
       "      <td>1-palmitoyl-GPE (16:0)</td>\n",
       "      <td>NaN</td>\n",
       "      <td>9547069.0</td>\n",
       "      <td>NaN</td>\n",
       "    </tr>\n",
       "    <tr>\n",
       "      <th>100000882</th>\n",
       "      <td>0.004869</td>\n",
       "      <td>3-hydroxymyristate</td>\n",
       "      <td>NaN</td>\n",
       "      <td>16064.0</td>\n",
       "      <td>CHEMBL4456892</td>\n",
       "    </tr>\n",
       "    <tr>\n",
       "      <th>100001104</th>\n",
       "      <td>0.004599</td>\n",
       "      <td>N-acetyltyrosine</td>\n",
       "      <td>NaN</td>\n",
       "      <td>68310.0</td>\n",
       "      <td>CHEMBL65543</td>\n",
       "    </tr>\n",
       "    <tr>\n",
       "      <th>100009069</th>\n",
       "      <td>0.003444</td>\n",
       "      <td>1-(1-enyl-palmitoyl)-2-linoleoyl-GPE (P-16:0/1...</td>\n",
       "      <td>NaN</td>\n",
       "      <td>NaN</td>\n",
       "      <td>NaN</td>\n",
       "    </tr>\n",
       "    <tr>\n",
       "      <th>100021100</th>\n",
       "      <td>-0.004044</td>\n",
       "      <td>tetradecadienedioate (C14:2-DC)*</td>\n",
       "      <td>NaN</td>\n",
       "      <td>NaN</td>\n",
       "      <td>NaN</td>\n",
       "    </tr>\n",
       "    <tr>\n",
       "      <th>158</th>\n",
       "      <td>-0.005557</td>\n",
       "      <td>5,6-dihydrothymine</td>\n",
       "      <td>C00906</td>\n",
       "      <td>93556.0</td>\n",
       "      <td>NaN</td>\n",
       "    </tr>\n",
       "    <tr>\n",
       "      <th>100020487</th>\n",
       "      <td>-0.005586</td>\n",
       "      <td>N-acetyl-isoputreanine</td>\n",
       "      <td>NaN</td>\n",
       "      <td>131802901.0</td>\n",
       "      <td>NaN</td>\n",
       "    </tr>\n",
       "    <tr>\n",
       "      <th>240</th>\n",
       "      <td>-0.005956</td>\n",
       "      <td>3-(4-hydroxyphenyl)lactate</td>\n",
       "      <td>C03672</td>\n",
       "      <td>9378.0</td>\n",
       "      <td>CHEMBL1162489</td>\n",
       "    </tr>\n",
       "    <tr>\n",
       "      <th>100003686</th>\n",
       "      <td>-0.006513</td>\n",
       "      <td>N-palmitoylglycine</td>\n",
       "      <td>NaN</td>\n",
       "      <td>151008.0</td>\n",
       "      <td>CHEMBL226117</td>\n",
       "    </tr>\n",
       "    <tr>\n",
       "      <th>100001620</th>\n",
       "      <td>-0.007026</td>\n",
       "      <td>glycerophosphoethanolamine</td>\n",
       "      <td>C01233</td>\n",
       "      <td>123874.0</td>\n",
       "      <td>NaN</td>\n",
       "    </tr>\n",
       "    <tr>\n",
       "      <th>100009027</th>\n",
       "      <td>-0.007548</td>\n",
       "      <td>sphingomyelin (d18:0/18:0, d19:0/17:0)*</td>\n",
       "      <td>NaN</td>\n",
       "      <td>NaN</td>\n",
       "      <td>NaN</td>\n",
       "    </tr>\n",
       "    <tr>\n",
       "      <th>461</th>\n",
       "      <td>-0.010002</td>\n",
       "      <td>phosphate</td>\n",
       "      <td>C00009</td>\n",
       "      <td>1061.0</td>\n",
       "      <td>NaN</td>\n",
       "    </tr>\n",
       "    <tr>\n",
       "      <th>100002953</th>\n",
       "      <td>-0.010121</td>\n",
       "      <td>16-hydroxypalmitate</td>\n",
       "      <td>C18218</td>\n",
       "      <td>10466.0</td>\n",
       "      <td>CHEMBL4281719</td>\n",
       "    </tr>\n",
       "    <tr>\n",
       "      <th>100000263</th>\n",
       "      <td>-0.010207</td>\n",
       "      <td>imidazole lactate</td>\n",
       "      <td>C05568</td>\n",
       "      <td>793.0</td>\n",
       "      <td>NaN</td>\n",
       "    </tr>\n",
       "    <tr>\n",
       "      <th>100000827</th>\n",
       "      <td>-0.011766</td>\n",
       "      <td>1-palmitoylglycerol (16:0)</td>\n",
       "      <td>NaN</td>\n",
       "      <td>14900.0</td>\n",
       "      <td>CHEMBL1078140</td>\n",
       "    </tr>\n",
       "    <tr>\n",
       "      <th>100008998</th>\n",
       "      <td>-0.012156</td>\n",
       "      <td>gamma-tocopherol/beta-tocopherol</td>\n",
       "      <td>NaN</td>\n",
       "      <td>NaN</td>\n",
       "      <td>NaN</td>\n",
       "    </tr>\n",
       "    <tr>\n",
       "      <th>100020241</th>\n",
       "      <td>-0.013133</td>\n",
       "      <td>gamma-glutamylcitrulline*</td>\n",
       "      <td>NaN</td>\n",
       "      <td>NaN</td>\n",
       "      <td>NaN</td>\n",
       "    </tr>\n",
       "    <tr>\n",
       "      <th>1023</th>\n",
       "      <td>-0.013812</td>\n",
       "      <td>sarcosine</td>\n",
       "      <td>C00213</td>\n",
       "      <td>1088.0</td>\n",
       "      <td>CHEMBL304383</td>\n",
       "    </tr>\n",
       "    <tr>\n",
       "      <th>100005372</th>\n",
       "      <td>-0.015027</td>\n",
       "      <td>1-(1-enyl-oleoyl)-GPE (P-18:1)*</td>\n",
       "      <td>NaN</td>\n",
       "      <td>NaN</td>\n",
       "      <td>NaN</td>\n",
       "    </tr>\n",
       "  </tbody>\n",
       "</table>\n",
       "</div>"
      ],
      "text/plain": [
       "             weight                                               name  \\\n",
       "100000808  0.034156                                 cysteine s-sulfate   \n",
       "100000626  0.024000                            sphingosine 1-phosphate   \n",
       "279        0.019783                                            cystine   \n",
       "803        0.016133                                            mannose   \n",
       "100000773  0.010998                                 3-hydroxyoctanoate   \n",
       "572        0.010297                                            glucose   \n",
       "100005985  0.010199            sphingomyelin (d18:2/14:0, d18:1/14:1)*   \n",
       "100000841  0.009487                             oxalate (ethanedioate)   \n",
       "444        0.009190                                          ornithine   \n",
       "2051       0.009039                                    methylsuccinate   \n",
       "100010955  0.006956                    perfluorooctanesulfonate (PFOS)   \n",
       "100010922  0.006934   linoleoyl-arachidonoyl-glycerol (18:2/20:4) [1]*   \n",
       "100001869  0.006530          1-stearoyl-2-arachidonoyl-GPC (18:0/20:4)   \n",
       "100000265  0.005854                                         kynurenine   \n",
       "100021162  0.005492  palmitoyl-sphingosine-phosphoethanolamine (d18...   \n",
       "1442       0.005415                            beta-hydroxyisovalerate   \n",
       "100001567  0.005332                             1-palmitoyl-GPE (16:0)   \n",
       "100000882  0.004869                                 3-hydroxymyristate   \n",
       "100001104  0.004599                                   N-acetyltyrosine   \n",
       "100009069  0.003444  1-(1-enyl-palmitoyl)-2-linoleoyl-GPE (P-16:0/1...   \n",
       "100021100 -0.004044                   tetradecadienedioate (C14:2-DC)*   \n",
       "158       -0.005557                                 5,6-dihydrothymine   \n",
       "100020487 -0.005586                             N-acetyl-isoputreanine   \n",
       "240       -0.005956                         3-(4-hydroxyphenyl)lactate   \n",
       "100003686 -0.006513                                 N-palmitoylglycine   \n",
       "100001620 -0.007026                         glycerophosphoethanolamine   \n",
       "100009027 -0.007548            sphingomyelin (d18:0/18:0, d19:0/17:0)*   \n",
       "461       -0.010002                                          phosphate   \n",
       "100002953 -0.010121                                16-hydroxypalmitate   \n",
       "100000263 -0.010207                                  imidazole lactate   \n",
       "100000827 -0.011766                         1-palmitoylglycerol (16:0)   \n",
       "100008998 -0.012156                   gamma-tocopherol/beta-tocopherol   \n",
       "100020241 -0.013133                          gamma-glutamylcitrulline*   \n",
       "1023      -0.013812                                          sarcosine   \n",
       "100005372 -0.015027                    1-(1-enyl-oleoyl)-GPE (P-18:1)*   \n",
       "\n",
       "             KEGG      PUBCHEM         CHEMBL  \n",
       "100000808  C05824     115015.0   CHEMBL457665  \n",
       "100000626  C06124    5283560.0   CHEMBL225155  \n",
       "279        C00491      67678.0   CHEMBL590540  \n",
       "803        C00159      18950.0   CHEMBL469448  \n",
       "100000773     NaN      26613.0            NaN  \n",
       "572        C00031       5793.0  CHEMBL1222250  \n",
       "100005985     NaN          NaN            NaN  \n",
       "100000841  C00209        971.0   CHEMBL146755  \n",
       "444        C00077       6262.0   CHEMBL446143  \n",
       "2051          NaN      10349.0            NaN  \n",
       "100010955  C18142      74483.0  CHEMBL1876554  \n",
       "100010922     NaN          NaN            NaN  \n",
       "100001869     NaN   16219824.0            NaN  \n",
       "100000265  C00328     161166.0   CHEMBL498416  \n",
       "100021162     NaN          NaN            NaN  \n",
       "1442          NaN      69362.0  CHEMBL4303793  \n",
       "100001567     NaN    9547069.0            NaN  \n",
       "100000882     NaN      16064.0  CHEMBL4456892  \n",
       "100001104     NaN      68310.0    CHEMBL65543  \n",
       "100009069     NaN          NaN            NaN  \n",
       "100021100     NaN          NaN            NaN  \n",
       "158        C00906      93556.0            NaN  \n",
       "100020487     NaN  131802901.0            NaN  \n",
       "240        C03672       9378.0  CHEMBL1162489  \n",
       "100003686     NaN     151008.0   CHEMBL226117  \n",
       "100001620  C01233     123874.0            NaN  \n",
       "100009027     NaN          NaN            NaN  \n",
       "461        C00009       1061.0            NaN  \n",
       "100002953  C18218      10466.0  CHEMBL4281719  \n",
       "100000263  C05568        793.0            NaN  \n",
       "100000827     NaN      14900.0  CHEMBL1078140  \n",
       "100008998     NaN          NaN            NaN  \n",
       "100020241     NaN          NaN            NaN  \n",
       "1023       C00213       1088.0   CHEMBL304383  \n",
       "100005372     NaN          NaN            NaN  "
      ]
     },
     "execution_count": 6,
     "metadata": {},
     "output_type": "execute_result"
    }
   ],
   "source": [
    "mets_data.sort_values('weight', ascending=False)"
   ]
  },
  {
   "cell_type": "code",
   "execution_count": 7,
   "id": "fa0a9aa3-797c-410d-a516-0d65f38368b1",
   "metadata": {},
   "outputs": [],
   "source": [
    "top_prots = prots_data[prots_data.weight > 0]\n",
    "top_mets = mets_data[mets_data.weight > 0]\n",
    "low_prots = prots_data[prots_data.weight < 0]\n",
    "low_mets = mets_data[mets_data.weight < 0]"
   ]
  },
  {
   "cell_type": "code",
   "execution_count": null,
   "id": "6bc9327f-a7f4-4e2e-a3d3-c2b3e41561f8",
   "metadata": {},
   "outputs": [],
   "source": []
  },
  {
   "cell_type": "markdown",
   "id": "948d12d9-8cd4-49fb-ba03-63b273bfe075",
   "metadata": {},
   "source": [
    "## 2. Load SPOKE"
   ]
  },
  {
   "cell_type": "code",
   "execution_count": 8,
   "id": "2cff9475-22ce-44a1-91aa-2d5b11a3620e",
   "metadata": {},
   "outputs": [],
   "source": [
    "import igraph as ig"
   ]
  },
  {
   "cell_type": "code",
   "execution_count": 9,
   "id": "9c379eec-1a29-45c6-9da6-5429fb97c264",
   "metadata": {},
   "outputs": [],
   "source": [
    "spoke_graph = kgfe.spoke_loader.load_spoke_igraph('../../graph_utils/spoke_2021.jsonl.gz', directed=True,\n",
    "                                                    verbose=False)"
   ]
  },
  {
   "cell_type": "code",
   "execution_count": 10,
   "id": "02886344-0dc5-437c-87d3-52f739acb68d",
   "metadata": {},
   "outputs": [
    {
     "data": {
      "text/plain": [
       "<igraph.Graph at 0x7f6af7297340>"
      ]
     },
     "execution_count": 10,
     "metadata": {},
     "output_type": "execute_result"
    }
   ],
   "source": [
    "spoke_graph_ud = spoke_graph.copy()\n",
    "spoke_graph_ud.to_undirected(combine_edges='first')\n",
    "spoke_graph_ud.simplify(combine_edges='first')"
   ]
  },
  {
   "cell_type": "code",
   "execution_count": 11,
   "id": "b5753340-808a-43e2-ab66-913b57c70da0",
   "metadata": {},
   "outputs": [],
   "source": [
    "# TODO: identify the largest connected component\n",
    "ccs = spoke_graph_ud.connected_components()"
   ]
  },
  {
   "cell_type": "code",
   "execution_count": 12,
   "id": "4e9c69b9-7741-42f8-9325-af7229cb915e",
   "metadata": {},
   "outputs": [],
   "source": [
    "names_to_ids = kgfe.graph_info.get_names_to_ids(spoke_graph_ud)"
   ]
  },
  {
   "cell_type": "markdown",
   "id": "83dcf159-635e-4818-bf13-32b4b79623b4",
   "metadata": {},
   "source": [
    "### Load smaller versions of spoke"
   ]
  },
  {
   "cell_type": "markdown",
   "id": "b8b21cf2-0d74-46a0-b738-c5a908d26d94",
   "metadata": {},
   "source": [
    "### Map proteins and metabolites to SPOKE nodes"
   ]
  },
  {
   "cell_type": "code",
   "execution_count": 13,
   "id": "e2a20385-d0fd-4a32-8707-1e29934f0b1d",
   "metadata": {},
   "outputs": [
    {
     "data": {
      "text/plain": [
       "617546"
      ]
     },
     "execution_count": 13,
     "metadata": {},
     "output_type": "execute_result"
    }
   ],
   "source": [
    "len(names_to_ids)"
   ]
  },
  {
   "cell_type": "code",
   "execution_count": 14,
   "id": "2d79ab90-f44b-4202-b8d7-70db3d41f266",
   "metadata": {},
   "outputs": [],
   "source": [
    "uniprot_to_ids = kgfe.graph_info.spoke_identifiers_to_ids(spoke_graph_ud, 'Protein')"
   ]
  },
  {
   "cell_type": "code",
   "execution_count": 15,
   "id": "0451b1ef-bb2e-477f-aa63-a045f10b57f3",
   "metadata": {},
   "outputs": [],
   "source": [
    "chembl_to_ids = kgfe.graph_info.spoke_identifiers_to_ids(spoke_graph_ud, 'Compound')"
   ]
  },
  {
   "cell_type": "code",
   "execution_count": 16,
   "id": "554954a5-7928-4e60-8c91-46f8c4802835",
   "metadata": {},
   "outputs": [],
   "source": [
    "high_prots = top_prots['uniprot']\n",
    "low_prots = low_prots['uniprot']\n",
    "\n",
    "high_chems = top_mets[(~top_mets['CHEMBL'].isna())]['CHEMBL']\n"
   ]
  },
  {
   "cell_type": "code",
   "execution_count": 17,
   "id": "325150b2-4f7c-47a5-9961-ced31697e20c",
   "metadata": {},
   "outputs": [],
   "source": [
    "high_chems_kegg = top_mets[(~top_mets['KEGG'].isna())]['KEGG']\n"
   ]
  },
  {
   "cell_type": "code",
   "execution_count": 18,
   "id": "cb8bde1c-5e86-4beb-a8ea-14430615d764",
   "metadata": {},
   "outputs": [],
   "source": [
    "high_prots_spoke_ids = [uniprot_to_ids[x] for x in high_prots]\n",
    "low_prots_spoke_ids = [uniprot_to_ids[x] for x in low_prots]"
   ]
  },
  {
   "cell_type": "code",
   "execution_count": 19,
   "id": "e92ad873-15c5-4c9b-878f-1c988cf107f0",
   "metadata": {},
   "outputs": [
    {
     "data": {
      "text/plain": [
       "['2118151',\n",
       " '2133161',\n",
       " '2123169',\n",
       " '2152386',\n",
       " '2120570',\n",
       " '2121576',\n",
       " '2150560',\n",
       " '2117852',\n",
       " '2120010',\n",
       " '2150770',\n",
       " '2118729',\n",
       " '2148547',\n",
       " '2123100',\n",
       " '2119566',\n",
       " '2117878',\n",
       " '2114764',\n",
       " '2158393']"
      ]
     },
     "execution_count": 19,
     "metadata": {},
     "output_type": "execute_result"
    }
   ],
   "source": [
    "high_prots_spoke_ids"
   ]
  },
  {
   "cell_type": "code",
   "execution_count": 20,
   "id": "b00242ea-c2b2-44d4-bc00-aef7e1d77be4",
   "metadata": {},
   "outputs": [],
   "source": [
    "high_chems_spoke_ids = [(x, chembl_to_ids[x]) for x in high_chems if  x in chembl_to_ids]"
   ]
  },
  {
   "cell_type": "code",
   "execution_count": 21,
   "id": "21845103-66cb-414a-b40d-5901eedee430",
   "metadata": {},
   "outputs": [
    {
     "data": {
      "text/plain": [
       "[('CHEMBL146755', '802643'),\n",
       " ('CHEMBL1222250', '294279'),\n",
       " ('CHEMBL469448', '622101'),\n",
       " ('CHEMBL225155', '1338787'),\n",
       " ('CHEMBL457665', '26652')]"
      ]
     },
     "execution_count": 21,
     "metadata": {},
     "output_type": "execute_result"
    }
   ],
   "source": [
    "high_chems_spoke_ids"
   ]
  },
  {
   "cell_type": "markdown",
   "id": "6f898bb5-9689-4abb-aa8e-346ba44963e6",
   "metadata": {},
   "source": [
    "Note: many chems were not able to be mapped onto SPOKE."
   ]
  },
  {
   "cell_type": "code",
   "execution_count": 22,
   "id": "0df43095-3c7b-4086-b3bb-153a3f10a684",
   "metadata": {},
   "outputs": [],
   "source": [
    "high_chems_kegg_spoke_ids = [(x, chembl_to_ids[x]) for x in top_mets['KEGG'] if  x in chembl_to_ids]"
   ]
  },
  {
   "cell_type": "code",
   "execution_count": 23,
   "id": "cba1d162-6403-4906-8c92-4940ccc7d3f6",
   "metadata": {},
   "outputs": [
    {
     "data": {
      "text/plain": [
       "2387"
      ]
     },
     "execution_count": 23,
     "metadata": {},
     "output_type": "execute_result"
    }
   ],
   "source": [
    "len([x for x in chembl_to_ids.keys() if x.startswith('C0')])"
   ]
  },
  {
   "cell_type": "code",
   "execution_count": 24,
   "id": "adade503-a6dd-4867-8f17-720edc4de6d5",
   "metadata": {},
   "outputs": [
    {
     "data": {
      "text/plain": [
       "[]"
      ]
     },
     "execution_count": 24,
     "metadata": {},
     "output_type": "execute_result"
    }
   ],
   "source": [
    "high_chems_kegg_spoke_ids"
   ]
  },
  {
   "cell_type": "markdown",
   "id": "be246cd9-4f84-4165-8586-b1a00a248535",
   "metadata": {
    "tags": []
   },
   "source": [
    "## Compare the identified nodes against a null model.\n",
    "\n",
    "- All SPOKE proteins\n",
    "- All Arivale proteins\n",
    "- SPOKE proteins with degree matching to high proteins"
   ]
  },
  {
   "cell_type": "code",
   "execution_count": 25,
   "id": "1d6be536-f0d2-4957-80d3-ecd67b38f5b7",
   "metadata": {},
   "outputs": [],
   "source": [
    "prots_data_full = pd.read_csv('../data/prots_hba1c_outliers_2023_07_21.csv', index_col=0)\n",
    "all_prots_spoke_ids = [uniprot_to_ids[x] for x in prots_data_full['uniprot'] if x in uniprot_to_ids]"
   ]
  },
  {
   "cell_type": "code",
   "execution_count": 26,
   "id": "fcb35622-a12f-48bf-b67f-30b52ed2d884",
   "metadata": {},
   "outputs": [],
   "source": [
    "spoke_graph_ud_connected = spoke_graph_ud.subcomponent(high_prots_spoke_ids[0])\n",
    "spoke_graph_ud_connected = spoke_graph_ud.induced_subgraph(spoke_graph_ud_connected)"
   ]
  },
  {
   "cell_type": "markdown",
   "id": "7df4f719-448d-454f-8cdb-6a59044dbe47",
   "metadata": {},
   "source": [
    "### Null model for high proteins"
   ]
  },
  {
   "cell_type": "code",
   "execution_count": 27,
   "id": "951838f1-52ef-4bc8-adf3-f84a73ef3628",
   "metadata": {},
   "outputs": [
    {
     "data": {
      "text/plain": [
       "17"
      ]
     },
     "execution_count": 27,
     "metadata": {},
     "output_type": "execute_result"
    }
   ],
   "source": [
    "len(high_prots_spoke_ids)"
   ]
  },
  {
   "cell_type": "code",
   "execution_count": 28,
   "id": "39949432-9355-40bb-a8b9-a8add2c60490",
   "metadata": {},
   "outputs": [
    {
     "name": "stdout",
     "output_type": "stream",
     "text": [
      "CPU times: user 752 ms, sys: 192 µs, total: 752 ms\n",
      "Wall time: 764 ms\n"
     ]
    }
   ],
   "source": [
    "%time high_prots_stats = kgfe.explanations.graph_node_stats(spoke_graph_ud_connected, list(set(high_prots_spoke_ids)))"
   ]
  },
  {
   "cell_type": "code",
   "execution_count": 29,
   "id": "d0d200c7-dcc7-47a6-b6c8-e9fdd734e25a",
   "metadata": {},
   "outputs": [
    {
     "name": "stdout",
     "output_type": "stream",
     "text": [
      "CPU times: user 4min 46s, sys: 481 ms, total: 4min 46s\n",
      "Wall time: 4min 47s\n"
     ]
    }
   ],
   "source": [
    "%time high_prots_null_results = kgfe.explanations.null_graph_stats(spoke_graph_ud_connected, 'Protein', len(high_prots_spoke_ids))"
   ]
  },
  {
   "cell_type": "code",
   "execution_count": 30,
   "id": "43890290-2e98-4283-9786-5a6827b77da0",
   "metadata": {},
   "outputs": [
    {
     "name": "stdout",
     "output_type": "stream",
     "text": [
      "CPU times: user 51.8 s, sys: 4.83 ms, total: 51.8 s\n",
      "Wall time: 51.9 s\n"
     ]
    }
   ],
   "source": [
    "%time high_prots_null_results_arivale_prots = kgfe.explanations.null_graph_stats(spoke_graph_ud_connected, 'Protein', len(high_prots_spoke_ids),\\\n",
    "                                                                   ids_subset=all_prots_spoke_ids)"
   ]
  },
  {
   "cell_type": "code",
   "execution_count": 31,
   "id": "67b23e6a-7dac-4ccb-9fe8-b49cd4b1bc8c",
   "metadata": {},
   "outputs": [],
   "source": [
    "high_prots_null_results = pd.DataFrame(high_prots_null_results)\n"
   ]
  },
  {
   "cell_type": "code",
   "execution_count": 32,
   "id": "e7950fb6-7770-4e3e-b14c-0aea6b841e84",
   "metadata": {},
   "outputs": [
    {
     "data": {
      "text/plain": [
       "average_pairwise_distance     5.086176\n",
       "degree_mean                  19.664118\n",
       "degree_std                   59.339262\n",
       "clustering                         NaN\n",
       "dtype: float64"
      ]
     },
     "execution_count": 32,
     "metadata": {},
     "output_type": "execute_result"
    }
   ],
   "source": [
    "high_prots_null_results.mean()"
   ]
  },
  {
   "cell_type": "code",
   "execution_count": 33,
   "id": "676d0df7-5c20-470e-9c63-c666ef98f027",
   "metadata": {},
   "outputs": [],
   "source": [
    "import matplotlib.pyplot as plt"
   ]
  },
  {
   "cell_type": "code",
   "execution_count": 34,
   "id": "4adee8ce-fdd8-4cb6-8aa1-069c11f4b031",
   "metadata": {},
   "outputs": [
    {
     "data": {
      "text/plain": [
       "<matplotlib.legend.Legend at 0x7f69f00b69b0>"
      ]
     },
     "execution_count": 34,
     "metadata": {},
     "output_type": "execute_result"
    },
    {
     "data": {
      "image/png": "[encoded data removed]",
      "text/plain": [
       "<Figure size 640x480 with 1 Axes>"
      ]
     },
     "metadata": {},
     "output_type": "display_data"
    }
   ],
   "source": [
    "plt.hist(high_prots_null_results.average_pairwise_distance, bins=10, label='random')\n",
    "plt.title('Average pairwise distance distribution for randomly sampled proteins in SPOKE')\n",
    "plt.plot([high_prots_stats['average_pairwise_distance'], high_prots_stats['average_pairwise_distance']], [0, 10], label='top proteins')\n",
    "plt.xlabel('Average pairwise distance between proteins in SPOKE (lower = more related)')\n",
    "plt.legend()"
   ]
  },
  {
   "cell_type": "code",
   "execution_count": 35,
   "id": "c0cefbad-0f5e-460a-96d1-9f354c584a47",
   "metadata": {},
   "outputs": [],
   "source": [
    "high_prots_null_results_arivale_prots = pd.DataFrame(high_prots_null_results_arivale_prots)\n"
   ]
  },
  {
   "cell_type": "code",
   "execution_count": 36,
   "id": "625d765a-29ae-4c21-8d8e-3c18f8884762",
   "metadata": {},
   "outputs": [
    {
     "data": {
      "text/plain": [
       "<matplotlib.legend.Legend at 0x7f69f034bf10>"
      ]
     },
     "execution_count": 36,
     "metadata": {},
     "output_type": "execute_result"
    },
    {
     "data": {
      "image/png": "[encoded data removed]",
      "text/plain": [
       "<Figure size 640x480 with 1 Axes>"
      ]
     },
     "metadata": {},
     "output_type": "display_data"
    }
   ],
   "source": [
    "plt.hist(high_prots_null_results_arivale_prots.average_pairwise_distance, bins=10, label='random')\n",
    "plt.title('Average pairwise distance distribution for randomly sampled proteins measured in Arivale')\n",
    "plt.plot([high_prots_stats['average_pairwise_distance'], high_prots_stats['average_pairwise_distance']], [0, 10], label='top proteins')\n",
    "plt.xlabel('Average pairwise distance between Arivale proteins in SPOKE (lower = more related)')\n",
    "plt.legend()"
   ]
  },
  {
   "cell_type": "code",
   "execution_count": 43,
   "id": "b682b362-ec1b-4df3-adef-22aa81962578",
   "metadata": {},
   "outputs": [
    {
     "name": "stdout",
     "output_type": "stream",
     "text": [
      "CPU times: user 5min 14s, sys: 1.82 s, total: 5min 16s\n",
      "Wall time: 5min 16s\n"
     ]
    }
   ],
   "source": [
    "%time high_prots_null_results_degree_dist_prots = kgfe.explanations.null_graph_stats(spoke_graph_ud_connected, 'Protein',\\\n",
    "                                                                                len(high_prots_spoke_ids),\\\n",
    "                                                                                use_degree_sampling=True,\\\n",
    "                                                                                input_id_set=high_prots_spoke_ids)"
   ]
  },
  {
   "cell_type": "code",
   "execution_count": 46,
   "id": "2d82f2fa-f15d-485d-84fd-8c5a6a9cdf9f",
   "metadata": {},
   "outputs": [],
   "source": [
    "high_prots_null_results_degree_dist_prots = pd.DataFrame(high_prots_null_results_degree_dist_prots)"
   ]
  },
  {
   "cell_type": "code",
   "execution_count": 47,
   "id": "3f424d1a-9b74-4b8e-9f05-a4ace7584544",
   "metadata": {},
   "outputs": [
    {
     "data": {
      "text/plain": [
       "<matplotlib.legend.Legend at 0x7f69d15a6aa0>"
      ]
     },
     "execution_count": 47,
     "metadata": {},
     "output_type": "execute_result"
    },
    {
     "data": {
      "image/png": "[encoded data removed]",
      "text/plain": [
       "<Figure size 640x480 with 1 Axes>"
      ]
     },
     "metadata": {},
     "output_type": "display_data"
    }
   ],
   "source": [
    "plt.hist(high_prots_null_results_degree_dist_prots.average_pairwise_distance, bins=10, label='random')\n",
    "plt.title('Average pairwise distance distribution for randomly sampled proteins, matched in degree distribution with selected proteins')\n",
    "plt.plot([high_prots_stats['average_pairwise_distance'], high_prots_stats['average_pairwise_distance']], [0, 10], label='top proteins')\n",
    "plt.xlabel('Average pairwise distance between degree-sampled proteins in SPOKE (lower = more related)')\n",
    "plt.legend()"
   ]
  },
  {
   "cell_type": "code",
   "execution_count": 48,
   "id": "53c2c1fb-5df4-466a-938e-1cacab04f0a9",
   "metadata": {},
   "outputs": [
    {
     "data": {
      "text/plain": [
       "<matplotlib.legend.Legend at 0x7f69d23a34c0>"
      ]
     },
     "execution_count": 48,
     "metadata": {},
     "output_type": "execute_result"
    },
    {
     "data": {
      "image/png": "[encoded data removed]",
      "text/plain": [
       "<Figure size 640x480 with 1 Axes>"
      ]
     },
     "metadata": {},
     "output_type": "display_data"
    }
   ],
   "source": [
    "plt.hist(high_prots_null_results_degree_dist_prots.degree_mean, bins=10, label='random')\n",
    "plt.title('Average degree distribution for randomly sampled proteins, matched in degree distribution with selected proteins')\n",
    "plt.plot([high_prots_stats['degree_mean'], high_prots_stats['degree_mean']], [0, 10], label='top proteins')\n",
    "plt.xlabel('Average degrees for degree-sampled proteins in SPOKE')\n",
    "plt.legend()"
   ]
  },
  {
   "cell_type": "code",
   "execution_count": 44,
   "id": "6934dde1-6c9f-4db7-baee-c1ae7f9acc23",
   "metadata": {},
   "outputs": [
    {
     "data": {
      "text/plain": [
       "<matplotlib.legend.Legend at 0x7f6b3fdd5db0>"
      ]
     },
     "execution_count": 44,
     "metadata": {},
     "output_type": "execute_result"
    },
    {
     "data": {
      "image/png": "[encoded data removed]",
      "text/plain": [
       "<Figure size 640x480 with 1 Axes>"
      ]
     },
     "metadata": {},
     "output_type": "display_data"
    }
   ],
   "source": [
    "plt.hist(high_prots_null_results_arivale_prots.degree_mean, bins=10, label='random')\n",
    "plt.title('Average degree distribution for randomly sampled Arivale proteins')\n",
    "plt.plot([high_prots_stats['degree_mean'], high_prots_stats['degree_mean']], [0, 10], label='top proteins')\n",
    "plt.xlabel('Average degrees for arivale proteins in SPOKE')\n",
    "plt.legend()"
   ]
  },
  {
   "cell_type": "code",
   "execution_count": 45,
   "id": "e3fb26b3-c0e2-457d-b558-46505736f238",
   "metadata": {},
   "outputs": [
    {
     "data": {
      "text/plain": [
       "<matplotlib.legend.Legend at 0x7f69dcb13490>"
      ]
     },
     "execution_count": 45,
     "metadata": {},
     "output_type": "execute_result"
    },
    {
     "data": {
      "image/png": "[encoded data removed]",
      "text/plain": [
       "<Figure size 640x480 with 1 Axes>"
      ]
     },
     "metadata": {},
     "output_type": "display_data"
    }
   ],
   "source": [
    "plt.hist(high_prots_null_results.degree_mean, bins=10, label='random')\n",
    "plt.title('Average degree distribution for randomly sampled proteins')\n",
    "plt.plot([high_prots_stats['degree_mean'], high_prots_stats['degree_mean']], [0, 10], label='top proteins')\n",
    "plt.xlabel('Average degrees for randomly selected proteins in SPOKE')\n",
    "plt.legend()"
   ]
  },
  {
   "cell_type": "markdown",
   "id": "182cf6fb-1e0a-43b1-9b00-8a7477ea3831",
   "metadata": {},
   "source": [
    "### Null model for low proteins (negative coefficients)"
   ]
  },
  {
   "cell_type": "code",
   "execution_count": 49,
   "id": "b73a2f0f-1c15-48e5-bacf-33b9c615cae2",
   "metadata": {},
   "outputs": [
    {
     "data": {
      "text/plain": [
       "17"
      ]
     },
     "execution_count": 49,
     "metadata": {},
     "output_type": "execute_result"
    }
   ],
   "source": [
    "len(low_prots_spoke_ids)"
   ]
  },
  {
   "cell_type": "code",
   "execution_count": 50,
   "id": "9219deee-f0e6-4b06-895b-a4f8663dc3c6",
   "metadata": {},
   "outputs": [
    {
     "name": "stdout",
     "output_type": "stream",
     "text": [
      "CPU times: user 745 ms, sys: 7 µs, total: 745 ms\n",
      "Wall time: 746 ms\n"
     ]
    }
   ],
   "source": [
    "%time low_prots_stats = kgfe.explanations.graph_node_stats(spoke_graph_ud_connected, list(set(low_prots_spoke_ids)))"
   ]
  },
  {
   "cell_type": "code",
   "execution_count": 51,
   "id": "4e4a0051-5e22-49a1-8122-014ab11048d2",
   "metadata": {},
   "outputs": [
    {
     "name": "stdout",
     "output_type": "stream",
     "text": [
      "CPU times: user 4min 42s, sys: 1.28 s, total: 4min 44s\n",
      "Wall time: 4min 45s\n"
     ]
    }
   ],
   "source": [
    "%time low_prots_null_results = kgfe.explanations.null_graph_stats(spoke_graph_ud_connected, 'Protein', len(low_prots_spoke_ids))"
   ]
  },
  {
   "cell_type": "code",
   "execution_count": 52,
   "id": "26948dcb-cf18-41d0-ba47-d142ce84628d",
   "metadata": {},
   "outputs": [
    {
     "name": "stdout",
     "output_type": "stream",
     "text": [
      "CPU times: user 47.3 s, sys: 7.84 ms, total: 47.3 s\n",
      "Wall time: 47.4 s\n"
     ]
    }
   ],
   "source": [
    "%time low_prots_null_results_arivale_prots = kgfe.explanations.null_graph_stats(spoke_graph_ud_connected, 'Protein', len(low_prots_spoke_ids),\\\n",
    "                                                                   ids_subset=all_prots_spoke_ids)"
   ]
  },
  {
   "cell_type": "code",
   "execution_count": 53,
   "id": "0b2df65a-2e8b-4f48-b17d-3d36155261e7",
   "metadata": {},
   "outputs": [],
   "source": [
    "low_prots_null_results = pd.DataFrame(low_prots_null_results)\n"
   ]
  },
  {
   "cell_type": "code",
   "execution_count": 54,
   "id": "7f57b6fd-d921-4926-b165-30b882b23240",
   "metadata": {},
   "outputs": [
    {
     "data": {
      "text/plain": [
       "average_pairwise_distance     5.112794\n",
       "degree_mean                  14.953529\n",
       "degree_std                   43.704344\n",
       "clustering                         NaN\n",
       "dtype: float64"
      ]
     },
     "execution_count": 54,
     "metadata": {},
     "output_type": "execute_result"
    }
   ],
   "source": [
    "low_prots_null_results.mean()"
   ]
  },
  {
   "cell_type": "code",
   "execution_count": 55,
   "id": "83f89ccd-b259-4093-a016-8b4266356a10",
   "metadata": {},
   "outputs": [],
   "source": [
    "import matplotlib.pyplot as plt"
   ]
  },
  {
   "cell_type": "code",
   "execution_count": 56,
   "id": "59847399-220a-4564-a146-9161cfb9daba",
   "metadata": {},
   "outputs": [
    {
     "data": {
      "text/plain": [
       "<matplotlib.legend.Legend at 0x7f69df341fc0>"
      ]
     },
     "execution_count": 56,
     "metadata": {},
     "output_type": "execute_result"
    },
    {
     "data": {
      "image/png": "[encoded data removed]",
      "text/plain": [
       "<Figure size 640x480 with 1 Axes>"
      ]
     },
     "metadata": {},
     "output_type": "display_data"
    }
   ],
   "source": [
    "plt.hist(low_prots_null_results.average_pairwise_distance, bins=10, label='random')\n",
    "plt.title('Average pairwise distance distribution for randomly sampled proteins in SPOKE')\n",
    "plt.plot([low_prots_stats['average_pairwise_distance'], low_prots_stats['average_pairwise_distance']], [0, 10], label='negative proteins')\n",
    "plt.xlabel('Average pairwise distance between proteins in SPOKE (lower = more related)')\n",
    "plt.legend()"
   ]
  },
  {
   "cell_type": "code",
   "execution_count": 57,
   "id": "6e8c7820-40cb-4146-9bd7-a38ab61cf033",
   "metadata": {},
   "outputs": [],
   "source": [
    "low_prots_null_results_arivale_prots = pd.DataFrame(low_prots_null_results_arivale_prots)\n"
   ]
  },
  {
   "cell_type": "code",
   "execution_count": 58,
   "id": "ef29d493-c24f-47ff-b931-9766d67cd581",
   "metadata": {},
   "outputs": [
    {
     "data": {
      "text/plain": [
       "<matplotlib.legend.Legend at 0x7f69ea958ee0>"
      ]
     },
     "execution_count": 58,
     "metadata": {},
     "output_type": "execute_result"
    },
    {
     "data": {
      "image/png": "[encoded data removed]",
      "text/plain": [
       "<Figure size 640x480 with 1 Axes>"
      ]
     },
     "metadata": {},
     "output_type": "display_data"
    }
   ],
   "source": [
    "plt.hist(low_prots_null_results_arivale_prots.average_pairwise_distance, bins=10, label='random')\n",
    "plt.title('Average pairwise distance distribution for randomly sampled proteins measured in Arivale')\n",
    "plt.plot([low_prots_stats['average_pairwise_distance'], low_prots_stats['average_pairwise_distance']], [0, 10], label='negative proteins')\n",
    "plt.xlabel('Average pairwise distance between Arivale proteins in SPOKE (lower = more related)')\n",
    "plt.legend()"
   ]
  },
  {
   "cell_type": "code",
   "execution_count": 59,
   "id": "adf39e08-f60f-41fc-8f02-c6e330e6e583",
   "metadata": {},
   "outputs": [
    {
     "name": "stdout",
     "output_type": "stream",
     "text": [
      "CPU times: user 5min 8s, sys: 792 ms, total: 5min 9s\n",
      "Wall time: 5min 8s\n"
     ]
    }
   ],
   "source": [
    "%time low_prots_null_results_degree_dist_prots = kgfe.explanations.null_graph_stats(spoke_graph_ud_connected, 'Protein',\\\n",
    "                                                                                len(low_prots_spoke_ids),\\\n",
    "                                                                                use_degree_sampling=True,\\\n",
    "                                                                                input_id_set=low_prots_spoke_ids)"
   ]
  },
  {
   "cell_type": "code",
   "execution_count": 60,
   "id": "05300f2e-b538-4617-9a3e-1d0672104823",
   "metadata": {},
   "outputs": [],
   "source": [
    "low_prots_null_results_degree_dist_prots = pd.DataFrame(low_prots_null_results_degree_dist_prots)"
   ]
  },
  {
   "cell_type": "code",
   "execution_count": 61,
   "id": "275530c4-fe43-4e86-bff7-1b17ad74ae0c",
   "metadata": {},
   "outputs": [
    {
     "data": {
      "text/plain": [
       "<matplotlib.legend.Legend at 0x7f69cfe67160>"
      ]
     },
     "execution_count": 61,
     "metadata": {},
     "output_type": "execute_result"
    },
    {
     "data": {
      "image/png": "[encoded data removed]",
      "text/plain": [
       "<Figure size 640x480 with 1 Axes>"
      ]
     },
     "metadata": {},
     "output_type": "display_data"
    }
   ],
   "source": [
    "plt.hist(low_prots_null_results_degree_dist_prots.average_pairwise_distance, bins=10, label='random')\n",
    "plt.title('Average pairwise distance distribution for randomly sampled proteins, matched in degree distribution with selected proteins')\n",
    "plt.plot([low_prots_stats['average_pairwise_distance'], low_prots_stats['average_pairwise_distance']], [0, 10], label='negative proteins')\n",
    "plt.xlabel('Average pairwise distance between degree-sampled proteins in SPOKE (lower = more related)')\n",
    "plt.legend()"
   ]
  },
  {
   "cell_type": "markdown",
   "id": "41754f4d-80ef-4506-871f-b0ecb1496463",
   "metadata": {},
   "source": [
    "## 3. Run topic PageRank\n",
    "\n",
    "TODO: this is copied from feature_analysis_2 - change to arivale predictor data."
   ]
  },
  {
   "cell_type": "code",
   "execution_count": 62,
   "id": "80741dcc-7d61-4fb0-b93a-4702d13602dc",
   "metadata": {},
   "outputs": [],
   "source": [
    "high_prots_pr_results, high_prots_top_nodes = kgfe.explanations.topic_pagerank(spoke_graph_ud, high_prots_spoke_ids)"
   ]
  },
  {
   "cell_type": "code",
   "execution_count": 63,
   "id": "a3944e30-3a37-4625-975b-214e96848b86",
   "metadata": {},
   "outputs": [],
   "source": [
    "low_prots_pr_results, low_prots_top_nodes = kgfe.explanations.topic_pagerank(spoke_graph_ud, low_prots_spoke_ids)"
   ]
  },
  {
   "cell_type": "code",
   "execution_count": 64,
   "id": "ab72e402-af90-437c-a877-5c5122733c31",
   "metadata": {},
   "outputs": [],
   "source": [
    "high_prots_top_proteins = [x for x in high_prots_top_nodes if x['category'] == 'Protein']\n",
    "high_prots_top_genes = [x for x in high_prots_top_nodes if x['category'] == 'Gene']"
   ]
  },
  {
   "cell_type": "markdown",
   "id": "6d7266f6-50ce-492b-8cce-f8ec27bc2e82",
   "metadata": {},
   "source": [
    "## 4. Plot PageRank results"
   ]
  },
  {
   "cell_type": "code",
   "execution_count": 65,
   "id": "859e7761-3d4e-4162-adf5-c0dda08124f6",
   "metadata": {},
   "outputs": [],
   "source": [
    "import matplotlib.pyplot as plt"
   ]
  },
  {
   "cell_type": "markdown",
   "id": "856badff-33b3-45ff-9d0f-02ab514c9c26",
   "metadata": {},
   "source": [
    "### Proteins with positive LassoCV scores"
   ]
  },
  {
   "cell_type": "code",
   "execution_count": 66,
   "id": "d6c336c6-17b2-47d7-b02f-7596d669c6eb",
   "metadata": {},
   "outputs": [
    {
     "data": {
      "image/png": "[encoded data removed]",
      "text/plain": [
       "<Figure size 400x500 with 1 Axes>"
      ]
     },
     "metadata": {},
     "output_type": "display_data"
    }
   ],
   "source": [
    "fig, ax = plt.subplots(figsize=(4, 5))\n",
    "ax.tick_params(axis='both', which='major', labelsize=8)\n",
    "ax.barh([x['feature_name'] for x in high_prots_top_nodes[:20][::-1]], [x['score'] for x in high_prots_top_nodes[:20][::-1]], )\n",
    "plt.title('Associated nodes for proteins with positive LassoCV scores')\n",
    "ax.set_xlabel('PageRank score', fontsize=8)\n",
    "plt.tight_layout()"
   ]
  },
  {
   "cell_type": "code",
   "execution_count": 67,
   "id": "4cc81447-180f-4909-8467-71ba596c7767",
   "metadata": {},
   "outputs": [
    {
     "data": {
      "image/png": "[encoded data removed]",
      "text/plain": [
       "<Figure size 400x500 with 1 Axes>"
      ]
     },
     "metadata": {},
     "output_type": "display_data"
    }
   ],
   "source": [
    "high_prots_top_proteins = [x for x in high_prots_top_nodes if x['category'] == 'Protein']\n",
    "\n",
    "fig, ax = plt.subplots(figsize=(4, 5))\n",
    "ax.tick_params(axis='both', which='major', labelsize=8)\n",
    "ax.barh([x['feature_name'] for x in high_prots_top_proteins[:20][::-1]], [x['score'] for x in high_prots_top_proteins[:20][::-1]], )\n",
    "plt.title('Associated proteins for proteins with positive LassoCV scores')\n",
    "ax.set_xlabel('PageRank score', fontsize=8)\n",
    "plt.tight_layout()"
   ]
  },
  {
   "cell_type": "code",
   "execution_count": 68,
   "id": "0baceb72-6645-48cb-8e37-cd117c2b841b",
   "metadata": {},
   "outputs": [
    {
     "data": {
      "image/png": "[encoded data removed]",
      "text/plain": [
       "<Figure size 400x500 with 1 Axes>"
      ]
     },
     "metadata": {},
     "output_type": "display_data"
    }
   ],
   "source": [
    "high_prots_top_genes = [x for x in high_prots_top_nodes if x['category'] == 'Gene']\n",
    "\n",
    "fig, ax = plt.subplots(figsize=(4, 5))\n",
    "ax.tick_params(axis='both', which='major', labelsize=8)\n",
    "ax.barh([x['feature_name'] for x in high_prots_top_genes[:20][::-1]], [x['score'] for x in high_prots_top_genes[:20][::-1]], )\n",
    "plt.title('Associated genes for proteins with positive LassoCV scores')\n",
    "ax.set_xlabel('PageRank score', fontsize=8)\n",
    "plt.tight_layout()"
   ]
  },
  {
   "cell_type": "markdown",
   "id": "2e003f69-4cc3-4f8b-b509-fdc31505579f",
   "metadata": {},
   "source": [
    "### Proteins with negative Lasso_CV scores"
   ]
  },
  {
   "cell_type": "code",
   "execution_count": 69,
   "id": "f7aa6fa7-306e-49aa-a8f5-e9e8c41f4c20",
   "metadata": {},
   "outputs": [
    {
     "data": {
      "image/png": "[encoded data removed]",
      "text/plain": [
       "<Figure size 400x500 with 1 Axes>"
      ]
     },
     "metadata": {},
     "output_type": "display_data"
    }
   ],
   "source": [
    "fig, ax = plt.subplots(figsize=(4, 5))\n",
    "ax.tick_params(axis='both', which='major', labelsize=8)\n",
    "ax.barh([x['feature_name'] for x in low_prots_top_nodes[:20][::-1]], [x['score'] for x in low_prots_top_nodes[:20][::-1]], )\n",
    "plt.title('Associated nodes for proteins with negative LassoCV scores')\n",
    "ax.set_xlabel('PageRank score', fontsize=8)\n",
    "plt.tight_layout()"
   ]
  },
  {
   "cell_type": "code",
   "execution_count": 70,
   "id": "c950fb56-5c7a-473c-b9e3-c601b1ea2a98",
   "metadata": {},
   "outputs": [
    {
     "data": {
      "image/png": "[encoded data removed]",
      "text/plain": [
       "<Figure size 400x500 with 1 Axes>"
      ]
     },
     "metadata": {},
     "output_type": "display_data"
    }
   ],
   "source": [
    "low_prots_top_proteins = [x for x in low_prots_top_nodes if x['category'] == 'Protein']\n",
    "\n",
    "fig, ax = plt.subplots(figsize=(4, 5))\n",
    "ax.tick_params(axis='both', which='major', labelsize=8)\n",
    "ax.barh([x['feature_name'] for x in low_prots_top_proteins[:20][::-1]], [x['score'] for x in low_prots_top_proteins[:20][::-1]], )\n",
    "plt.title('Associated proteins for proteins with negative LassoCV scores')\n",
    "ax.set_xlabel('PageRank score', fontsize=8)\n",
    "plt.tight_layout()"
   ]
  },
  {
   "cell_type": "code",
   "execution_count": 71,
   "id": "f0e92c0a-4a6e-4d72-a578-10a21ba265b2",
   "metadata": {},
   "outputs": [
    {
     "data": {
      "image/png": "[encoded data removed]",
      "text/plain": [
       "<Figure size 400x500 with 1 Axes>"
      ]
     },
     "metadata": {},
     "output_type": "display_data"
    }
   ],
   "source": [
    "low_prots_top_genes = [x for x in low_prots_top_nodes if x['category'] == 'Gene']\n",
    "\n",
    "fig, ax = plt.subplots(figsize=(4, 5))\n",
    "ax.tick_params(axis='both', which='major', labelsize=8)\n",
    "ax.barh([x['feature_name'] for x in low_prots_top_genes[:20][::-1]], [x['score'] for x in low_prots_top_genes[:20][::-1]], )\n",
    "plt.title('Associated genes for proteins with negative LassoCV scores')\n",
    "ax.set_xlabel('PageRank score', fontsize=8)\n",
    "plt.tight_layout()"
   ]
  },
  {
   "cell_type": "markdown",
   "id": "7ae4dfb6-2168-4c34-85d6-193d48632335",
   "metadata": {},
   "source": [
    "## 5. Get Steiner trees / subgraphs"
   ]
  },
  {
   "cell_type": "code",
   "execution_count": 72,
   "id": "09464c09-8bed-4dcf-8c59-bea3d3dc4806",
   "metadata": {},
   "outputs": [],
   "source": [
    "high_protein_st, high_protein_subgraph = kgfe.explanations.steiner_tree_subgraph(spoke_graph_ud,\n",
    "                                                                                 high_prots_spoke_ids,\n",
    "                                                                                 method='takahashi')"
   ]
  },
  {
   "cell_type": "code",
   "execution_count": 73,
   "id": "586e85c8-725b-48f8-8ec8-cf8e98627d8d",
   "metadata": {},
   "outputs": [],
   "source": [
    "low_protein_st, low_protein_subgraph = kgfe.explanations.steiner_tree_subgraph(spoke_graph_ud,\n",
    "                                                                              low_prots_spoke_ids,\n",
    "                                                                              method='takahashi')"
   ]
  },
  {
   "cell_type": "code",
   "execution_count": 74,
   "id": "e404b73a-5f7a-4875-ab6c-3614705dec55",
   "metadata": {},
   "outputs": [],
   "source": [
    "# TODO: get a connected component from the first chem?"
   ]
  },
  {
   "cell_type": "markdown",
   "id": "95deda8c-fee3-426d-b51c-935754a7e0c9",
   "metadata": {},
   "source": [
    "## Visualizing subgraphs"
   ]
  },
  {
   "cell_type": "code",
   "execution_count": 77,
   "id": "3d34a0dd-da7b-438b-9339-613f0f09ae9a",
   "metadata": {},
   "outputs": [],
   "source": [
    "import ipycytoscape"
   ]
  },
  {
   "cell_type": "code",
   "execution_count": 78,
   "id": "132bc8c1-a877-4b01-9ace-9bc28359c9f2",
   "metadata": {},
   "outputs": [],
   "source": [
    "# TODO: display the node category somewhere, and display the edge categories\n",
    "graph_style = [{\n",
    "                        'selector': 'node[feature_name]',\n",
    "                             'style': {\n",
    "                                  'font-family': 'helvetica',\n",
    "                                  'font-size': '20px',\n",
    "                                 'label': 'data(feature_name)',\n",
    "                        }},\n",
    "                        {'selector': 'node[category=\"Protein\"]',\n",
    "                         'style': {\n",
    "                             'background-color': 'blue',\n",
    "                         }},\n",
    "                        {'selector': 'node[in_query=1]',\n",
    "                         'style': {\n",
    "                             'border-width': '5px',\n",
    "                             'border-color': 'red',\n",
    "                         }},\n",
    "                        {'selector': 'edge[type]',\n",
    "                         'style': {\n",
    "                             'label': 'data(type)',\n",
    "                         }},\n",
    "                        {\"selector\": \"edge.directed\",\n",
    "                         \"style\": {\n",
    "                            \"curve-style\": \"bezier\",\n",
    "                            \"target-arrow-shape\": \"triangle\",\n",
    "                    }},\n",
    "\n",
    "                    ]"
   ]
  },
  {
   "cell_type": "code",
   "execution_count": 79,
   "id": "7a6a1fb3-8029-4ef1-a8ee-2b6099a484f3",
   "metadata": {},
   "outputs": [],
   "source": [
    "undirected = ipycytoscape.CytoscapeWidget()\n",
    "high_protein_subgraph_nx = high_protein_subgraph.to_networkx()\n",
    "node_dict = {i: n['name'] for i, n in high_protein_subgraph_nx.nodes.items()}\n",
    "high_protein_subgraph_nx = nx.relabel_nodes(high_protein_subgraph_nx, node_dict)\n",
    "undirected.graph.add_graph_from_networkx(high_protein_subgraph_nx)\n",
    "undirected.set_tooltip_source('feature_name')\n",
    "undirected.set_layout(title='high_proteins', nodeSpacing=80, edgeLengthVal=50, )\n",
    "undirected.set_style(graph_style)"
   ]
  },
  {
   "cell_type": "code",
   "execution_count": 80,
   "id": "ba9a7b10-3cef-4886-a103-7405cc5dc016",
   "metadata": {},
   "outputs": [
    {
     "data": {
      "application/vnd.jupyter.widget-view+json": {
       "model_id": "4de15c40100f42a2b5dc7a3c3482c29f",
       "version_major": 2,
       "version_minor": 0
      },
      "text/plain": [
       "CytoscapeWidget(cytoscape_layout={'name': 'cola', 'title': 'high_proteins', 'nodeSpacing': 80, 'edgeLengthVal'…"
      ]
     },
     "metadata": {},
     "output_type": "display_data"
    }
   ],
   "source": [
    "display(undirected)"
   ]
  },
  {
   "cell_type": "code",
   "execution_count": 81,
   "id": "dc81eb05-29ee-45ba-a85a-d85caffbdd60",
   "metadata": {},
   "outputs": [],
   "source": [
    "low_prots_graph = ipycytoscape.CytoscapeWidget()\n",
    "low_protein_subgraph_nx = low_protein_subgraph.to_networkx()\n",
    "node_dict = {i: n['name'] for i, n in low_protein_subgraph_nx.nodes.items()}\n",
    "low_protein_subgraph_nx = nx.relabel_nodes(low_protein_subgraph_nx, node_dict)\n",
    "low_prots_graph.graph.add_graph_from_networkx(low_protein_subgraph_nx)\n",
    "low_prots_graph.set_tooltip_source('name')\n",
    "low_prots_graph.set_layout(nodeSpacing=80, edgeLengthVal=50)\n",
    "low_prots_graph.set_style(graph_style)"
   ]
  },
  {
   "cell_type": "code",
   "execution_count": 82,
   "id": "e84b8567-e388-4091-901a-7ef4e0e77e38",
   "metadata": {},
   "outputs": [
    {
     "data": {
      "application/vnd.jupyter.widget-view+json": {
       "model_id": "81e141e13c89480dae97481cd311aba0",
       "version_major": 2,
       "version_minor": 0
      },
      "text/plain": [
       "CytoscapeWidget(cytoscape_layout={'name': 'cola', 'nodeSpacing': 80, 'edgeLengthVal': 50}, cytoscape_style=[{'…"
      ]
     },
     "metadata": {},
     "output_type": "display_data"
    }
   ],
   "source": [
    "display(low_prots_graph)"
   ]
  },
  {
   "cell_type": "code",
   "execution_count": null,
   "id": "970fb956-b0e7-447c-84e4-5b16bbe52af3",
   "metadata": {},
   "outputs": [],
   "source": []
  }
 ],
 "metadata": {
  "kernelspec": {
   "display_name": "Python 3 (ipykernel)",
   "language": "python",
   "name": "python3"
  },
  "language_info": {
   "codemirror_mode": {
    "name": "ipython",
    "version": 3
   },
   "file_extension": ".py",
   "mimetype": "text/x-python",
   "name": "python",
   "nbconvert_exporter": "python",
   "pygments_lexer": "ipython3",
   "version": "3.10.6"
  },
  "widgets": {
   "application/vnd.jupyter.widget-state+json": {
    "state": {
     "049ddfe621074c37b1970c6b46c8e947": {
      "model_module": "jupyter-cytoscape",
      "model_module_version": "^1.3.3",
      "model_name": "EdgeModel",
      "state": {
       "_model_module_version": "^1.3.3",
       "_view_module_version": "^1.3.3",
       "data": {
        "_igraph_index": 6,
        "id": "baef5f68-e1c1-474c-a3c8-bad73890a3d0",
        "source": "2117878",
        "target": "2117627",
        "type": "INTERACTS_PiP"
       },
       "selectable": false
      }
     },
     "06edde31716946bf9ebeb3ac74961d70": {
      "model_module": "jupyter-cytoscape",
      "model_module_version": "^1.3.3",
      "model_name": "NodeModel",
      "state": {
       "_model_module_version": "^1.3.3",
       "_view_module_version": "^1.3.3",
       "data": {
        "_igraph_index": 3,
        "category": "Protein",
        "feature_name": "UROK_HUMAN",
        "id": "2117565",
        "identifier": "P00749",
        "in_query": 1,
        "name": "2117565",
        "source": "UniProt"
       },
       "grabbable": true,
       "grabbed": false,
       "position": {
        "x": 1209.35340329624,
        "y": 339.60304751442845
       },
       "selectable": false
      }
     },
     "0b381a0b99974cf7a24dcad76cda6ef2": {
      "model_module": "jupyter-cytoscape",
      "model_module_version": "^1.3.3",
      "model_name": "EdgeModel",
      "state": {
       "_model_module_version": "^1.3.3",
       "_view_module_version": "^1.3.3",
       "data": {
        "_igraph_index": 28,
        "id": "134c7853-d528-4054-94f6-e3d0fc8a3cff",
        "source": "2152386",
        "target": "2118729",
        "type": "INTERACTS_PiP"
       },
       "selectable": false
      }
     },
     "0c6adcf3604c43038b67a18936a44841": {
      "model_module": "jupyter-cytoscape",
      "model_module_version": "^1.3.3",
      "model_name": "EdgeModel",
      "state": {
       "_model_module_version": "^1.3.3",
       "_view_module_version": "^1.3.3",
       "data": {
        "_igraph_index": 36,
        "id": "3f2a57a6-1f47-4c3c-a43e-9036a620a418",
        "source": "2365529",
        "target": "2115050",
        "type": "PARTOF_PDpP"
       },
       "selectable": false
      }
     },
     "0db5aec9ecfe4b0797f7d65112e6cc16": {
      "model_module": "jupyter-cytoscape",
      "model_module_version": "^1.3.3",
      "model_name": "NodeModel",
      "state": {
       "_model_module_version": "^1.3.3",
       "_view_module_version": "^1.3.3",
       "data": {
        "_igraph_index": 16,
        "category": "Protein",
        "feature_name": "HAVR1_HUMAN",
        "id": "2148547",
        "identifier": "Q96D42",
        "in_query": 1,
        "name": "2148547",
        "source": "UniProt"
       },
       "grabbable": true,
       "grabbed": false,
       "position": {
        "x": -77.29382127790011,
        "y": 661.164383831038
       },
       "selectable": false
      }
     },
     "106a96c097a44dfeace65732d93ddb13": {
      "model_module": "jupyter-cytoscape",
      "model_module_version": "^1.3.3",
      "model_name": "EdgeModel",
      "state": {
       "_model_module_version": "^1.3.3",
       "_view_module_version": "^1.3.3",
       "data": {
        "_igraph_index": 12,
        "id": "cd032919-c2e8-419b-9d65-8160de9f0a72",
        "source": "2117883",
        "target": "2117596",
        "type": "INTERACTS_PiP"
       },
       "selectable": false
      }
     },
     "15bfd23267b8484f98aaf43d665bb81b": {
      "model_module": "jupyter-cytoscape",
      "model_module_version": "^1.3.3",
      "model_name": "EdgeModel",
      "state": {
       "_model_module_version": "^1.3.3",
       "_view_module_version": "^1.3.3",
       "data": {
        "_igraph_index": 18,
        "id": "fa826b39-64f0-406f-b087-41d216fbcfd5",
        "source": "2120121",
        "target": "2118151",
        "type": "INTERACTS_PiP"
       },
       "selectable": false
      }
     },
     "1735622cf9544f939502a27749200590": {
      "model_module": "jupyter-cytoscape",
      "model_module_version": "^1.3.3",
      "model_name": "EdgeModel",
      "state": {
       "_model_module_version": "^1.3.3",
       "_view_module_version": "^1.3.3",
       "data": {
        "_igraph_index": 3,
        "id": "cbef42c8-09db-4205-a21c-7a7e3a4ea1e3",
        "source": "2117852",
        "target": "2090262",
        "type": "INTERACTS_PiP"
       },
       "selectable": false
      }
     },
     "1b9dee73347244e888928cf4966cc68d": {
      "model_module": "jupyter-cytoscape",
      "model_module_version": "^1.3.3",
      "model_name": "NodeModel",
      "state": {
       "_model_module_version": "^1.3.3",
       "_view_module_version": "^1.3.3",
       "data": {
        "_igraph_index": 5,
        "category": "Protein",
        "feature_name": "ITB2_HUMAN",
        "id": "2117878",
        "identifier": "P05107",
        "in_query": 1,
        "name": "2117878",
        "source": "UniProt"
       },
       "grabbable": true,
       "grabbed": false,
       "position": {
        "x": 694.711167894111,
        "y": 461.11969879553516
       },
       "selectable": false
      }
     },
     "1bdc7c5abfe1436489cc755086eea39e": {
      "model_module": "jupyter-cytoscape",
      "model_module_version": "^1.3.3",
      "model_name": "EdgeModel",
      "state": {
       "_model_module_version": "^1.3.3",
       "_view_module_version": "^1.3.3",
       "data": {
        "_igraph_index": 7,
        "id": "37d23e5d-bddb-4cc6-b557-e75fe457d6f5",
        "source": "2090262",
        "target": "2118151",
        "type": "INTERACTS_PiP"
       },
       "selectable": false
      }
     },
     "1c5d51ce54af41c39f3c5122dafc44a8": {
      "model_module": "jupyter-cytoscape",
      "model_module_version": "^1.3.3",
      "model_name": "NodeModel",
      "state": {
       "_model_module_version": "^1.3.3",
       "_view_module_version": "^1.3.3",
       "data": {
        "_igraph_index": 20,
        "category": "Protein",
        "feature_name": "NPCL1_HUMAN",
        "id": "2156482",
        "identifier": "Q9UHC9",
        "in_query": 0,
        "name": "2156482",
        "source": "UniProt"
       },
       "grabbable": true,
       "grabbed": false,
       "position": {
        "x": 961.4516203282478,
        "y": -316.38030520446483
       },
       "selectable": false
      }
     },
     "1e0110664938407db81efaf8180d63ac": {
      "model_module": "jupyter-cytoscape",
      "model_module_version": "^1.3.3",
      "model_name": "NodeModel",
      "state": {
       "_model_module_version": "^1.3.3",
       "_view_module_version": "^1.3.3",
       "data": {
        "_igraph_index": 9,
        "category": "Protein",
        "feature_name": "IL4RA_HUMAN",
        "id": "2119389",
        "identifier": "P24394",
        "in_query": 1,
        "name": "2119389",
        "source": "UniProt"
       },
       "grabbable": true,
       "grabbed": false,
       "position": {
        "x": 209.98371931462975,
        "y": -120.06284540317095
       },
       "selectable": false
      }
     },
     "1fc16740b3124742b498ce3664dd3b75": {
      "model_module": "jupyter-cytoscape",
      "model_module_version": "^1.3.3",
      "model_name": "EdgeModel",
      "state": {
       "_model_module_version": "^1.3.3",
       "_view_module_version": "^1.3.3",
       "data": {
        "_igraph_index": 1,
        "id": "66f4fb80-e45d-48b0-9ac3-a01c4e84bf00",
        "source": "2114877",
        "target": "2117596",
        "type": "INTERACTS_PiP"
       },
       "selectable": false
      }
     },
     "1ffa16d5aa2f4cdc8a4df2fe5293dc60": {
      "model_module": "jupyter-cytoscape",
      "model_module_version": "^1.3.3",
      "model_name": "NodeModel",
      "state": {
       "_model_module_version": "^1.3.3",
       "_view_module_version": "^1.3.3",
       "data": {
        "_igraph_index": 13,
        "category": "Protein",
        "feature_name": "MERTK_HUMAN",
        "id": "2123100",
        "identifier": "Q12866",
        "in_query": 1,
        "name": "2123100",
        "source": "UniProt"
       },
       "grabbable": true,
       "grabbed": false,
       "position": {
        "x": 309.711165894111,
        "y": -57.918202411827686
       },
       "selectable": false
      }
     },
     "2092d10bb6ab4174abd718325e8ac7b0": {
      "model_module": "jupyter-cytoscape",
      "model_module_version": "^1.3.3",
      "model_name": "EdgeModel",
      "state": {
       "_model_module_version": "^1.3.3",
       "_view_module_version": "^1.3.3",
       "data": {
        "_igraph_index": 32,
        "id": "1bbdff13-f4fe-4a5e-9cb3-1562140ff61c",
        "source": "2117627",
        "target": "2158393",
        "type": "INTERACTS_PiP"
       },
       "selectable": false
      }
     },
     "20fb79413cfe44cfbc747131d45257f6": {
      "model_module": "jupyter-cytoscape",
      "model_module_version": "^1.3.3",
      "model_name": "EdgeModel",
      "state": {
       "_model_module_version": "^1.3.3",
       "_view_module_version": "^1.3.3",
       "data": {
        "_igraph_index": 9,
        "id": "3bc525be-8bdc-4f75-918f-041ff0b994ee",
        "source": "2118151",
        "target": "2117878",
        "type": "INTERACTS_PiP"
       },
       "selectable": false
      }
     },
     "21c7576830074944858fb4990132dc8a": {
      "model_module": "jupyter-cytoscape",
      "model_module_version": "^1.3.3",
      "model_name": "EdgeModel",
      "state": {
       "_model_module_version": "^1.3.3",
       "_view_module_version": "^1.3.3",
       "data": {
        "_igraph_index": 34,
        "id": "d922e40e-3a42-49ef-8e15-2b481ccf655c",
        "source": "2192646",
        "target": "1985087",
        "type": "ENCODES_GeP"
       },
       "selectable": false
      }
     },
     "25f02d37e63647f2a6bcb67bac261df9": {
      "model_module": "jupyter-cytoscape",
      "model_module_version": "^1.3.3",
      "model_name": "NodeModel",
      "state": {
       "_model_module_version": "^1.3.3",
       "_view_module_version": "^1.3.3",
       "data": {
        "_igraph_index": 4,
        "category": "Protein",
        "feature_name": "HSPB1_HUMAN",
        "id": "2117852",
        "identifier": "P04792",
        "in_query": 1,
        "name": "2117852",
        "source": "UniProt"
       },
       "grabbable": true,
       "grabbed": false,
       "position": {
        "x": 499.7111668941111,
        "y": 469.11084947117683
       },
       "selectable": false
      }
     },
     "26d511acebb84dfbb012c668dda5e172": {
      "model_module": "jupyter-cytoscape",
      "model_module_version": "^1.3.3",
      "model_name": "EdgeModel",
      "state": {
       "_model_module_version": "^1.3.3",
       "_view_module_version": "^1.3.3",
       "data": {
        "_igraph_index": 26,
        "id": "6174e52f-0f2c-41d9-b5aa-4e6b90cb492d",
        "source": "2152136",
        "target": "2117596",
        "type": "INTERACTS_PiP"
       },
       "selectable": false
      }
     },
     "28604757a5804322b4ddca595607c32a": {
      "model_module": "jupyter-cytoscape",
      "model_module_version": "^1.3.3",
      "model_name": "NodeModel",
      "state": {
       "_model_module_version": "^1.3.3",
       "_view_module_version": "^1.3.3",
       "data": {
        "_igraph_index": 12,
        "category": "Protein",
        "feature_name": "I15RA_HUMAN",
        "id": "2123294",
        "identifier": "Q13261",
        "in_query": 1,
        "name": "2123294",
        "source": "UniProt"
       },
       "grabbable": true,
       "grabbed": false,
       "position": {
        "x": 209.98371931462975,
        "y": 74.93715559682904
       },
       "selectable": false
      }
     },
     "2938fa2fb34e41e8ab5cc806aeed57e6": {
      "model_module": "jupyter-cytoscape",
      "model_module_version": "^1.3.3",
      "model_name": "NodeModel",
      "state": {
       "_model_module_version": "^1.3.3",
       "_view_module_version": "^1.3.3",
       "data": {
        "_igraph_index": 19,
        "category": "Protein",
        "feature_name": "MEPE_HUMAN",
        "id": "2154112",
        "identifier": "Q9NQ76",
        "in_query": 1,
        "name": "2154112",
        "source": "UniProt"
       },
       "grabbable": true,
       "grabbed": false,
       "position": {
        "x": 629.3534002962399,
        "y": 786.7246538352106
       },
       "selectable": false
      }
     },
     "29d30408681541c5991813683ad7928a": {
      "model_module": "jupyter-cytoscape",
      "model_module_version": "^1.3.3",
      "model_name": "EdgeModel",
      "state": {
       "_model_module_version": "^1.3.3",
       "_view_module_version": "^1.3.3",
       "data": {
        "_igraph_index": 22,
        "id": "d27679ea-8897-48cb-8f21-b28db564a8b4",
        "source": "2120121",
        "target": "2133161",
        "type": "INTERACTS_PiP"
       },
       "selectable": false
      }
     },
     "2d293b77f1964570bfa1a4e54da9cff8": {
      "model_module": "jupyter-cytoscape",
      "model_module_version": "^1.3.3",
      "model_name": "EdgeModel",
      "state": {
       "_model_module_version": "^1.3.3",
       "_view_module_version": "^1.3.3",
       "data": {
        "_igraph_index": 15,
        "id": "2053fd51-2d00-4685-897f-38fb95c8e826",
        "source": "2114764",
        "target": "2120121",
        "type": "INTERACTS_PiP"
       },
       "selectable": false
      }
     },
     "2d4a1de5e7c94e4d9a1dbacd73af0017": {
      "model_module": "jupyter-cytoscape",
      "model_module_version": "^1.3.3",
      "model_name": "NodeModel",
      "state": {
       "_model_module_version": "^1.3.3",
       "_view_module_version": "^1.3.3",
       "data": {
        "_igraph_index": 8,
        "category": "Protein",
        "feature_name": "GRN_HUMAN",
        "id": "2119566",
        "identifier": "P28799",
        "in_query": 1,
        "name": "2119566",
        "source": "UniProt"
       },
       "grabbable": true,
       "grabbed": false,
       "position": {
        "x": 578.951618328248,
        "y": -318.88030520446483
       },
       "selectable": false
      }
     },
     "303e95c63d63403aa75b442f8ee89d77": {
      "model_module": "jupyter-cytoscape",
      "model_module_version": "^1.3.3",
      "model_name": "NodeModel",
      "state": {
       "_model_module_version": "^1.3.3",
       "_view_module_version": "^1.3.3",
       "data": {
        "_igraph_index": 6,
        "category": "Protein",
        "feature_name": "GROA_HUMAN",
        "id": "2118151",
        "identifier": "P09341",
        "in_query": 1,
        "name": "2118151",
        "source": "UniProt"
       },
       "grabbable": true,
       "grabbed": false,
       "position": {
        "x": 304.711165894111,
        "y": 522.0818005881723
       },
       "selectable": false
      }
     },
     "30eac81f2f874c3ebe0a5b9fb7057e85": {
      "model_module": "jupyter-cytoscape",
      "model_module_version": "^1.3.3",
      "model_name": "GraphModel",
      "state": {
       "_adj": {},
       "_model_module_version": "^1.3.3",
       "_view_module": "jupyter-cytoscape",
       "_view_module_version": "^1.3.3"
      }
     },
     "3301925721e046b3adc240b05a16d808": {
      "model_module": "jupyter-cytoscape",
      "model_module_version": "^1.3.3",
      "model_name": "NodeModel",
      "state": {
       "_model_module_version": "^1.3.3",
       "_view_module_version": "^1.3.3",
       "data": {
        "_igraph_index": 12,
        "category": "Protein",
        "feature_name": "DLK1_HUMAN",
        "id": "2121576",
        "identifier": "P80370",
        "in_query": 1,
        "name": "2121576",
        "source": "UniProt"
       },
       "grabbable": true,
       "grabbed": false,
       "position": {
        "x": 114.71116489411104,
        "y": 130.25024759672075
       },
       "selectable": false
      }
     },
     "3522c3a95b1b46b095db00c37497bdaf": {
      "model_module": "jupyter-cytoscape",
      "model_module_version": "^1.3.3",
      "model_name": "NodeModel",
      "state": {
       "_model_module_version": "^1.3.3",
       "_view_module_version": "^1.3.3",
       "data": {
        "_igraph_index": 2,
        "category": "Protein",
        "feature_name": "TR10A_HUMAN",
        "id": "2114764",
        "identifier": "O00220",
        "in_query": 1,
        "name": "2114764",
        "source": "UniProt"
       },
       "grabbable": true,
       "grabbed": false,
       "position": {
        "x": 109.71116489411104,
        "y": 466.16438283103804
       },
       "selectable": false
      }
     },
     "392d1b9b5e794d3cae042dc6e0186e6d": {
      "model_module": "jupyter-cytoscape",
      "model_module_version": "^1.3.3",
      "model_name": "GraphModel",
      "state": {
       "_adj": {
        "1985087": {},
        "2114877": {},
        "2115050": {},
        "2117565": {},
        "2117596": {},
        "2117723": {},
        "2117758": {},
        "2117882": {},
        "2117883": {},
        "2119389": {},
        "2120895": {},
        "2122397": {},
        "2123294": {},
        "2123512": {},
        "2124282": {},
        "2124981": {},
        "2140136": {},
        "2150468": {},
        "2152136": {},
        "2154112": {},
        "2156823": {},
        "2191411": {},
        "2192615": {},
        "2192646": {},
        "2365529": {}
       },
       "_model_module_version": "^1.3.3",
       "_view_module": "jupyter-cytoscape",
       "_view_module_version": "^1.3.3",
       "edges": [
        "IPY_MODEL_b07b9473f2b4453490f8dcd018ce99e2",
        "IPY_MODEL_5236993e30dc44d9915fb7b439b3a62f",
        "IPY_MODEL_21c7576830074944858fb4990132dc8a",
        "IPY_MODEL_1fc16740b3124742b498ce3664dd3b75",
        "IPY_MODEL_442d605d03e54278a7699723af31d753",
        "IPY_MODEL_a1b41c99f2ca48648dcca76146145026",
        "IPY_MODEL_bea8d88d2b254c0ea64798f2d7564f6d",
        "IPY_MODEL_cd8bdd8ba00c4856ab2cf4b33896d7d0",
        "IPY_MODEL_bd41badc7e294be39cb4b87fa5d16a2c",
        "IPY_MODEL_0c6adcf3604c43038b67a18936a44841",
        "IPY_MODEL_71e387acd7e2485e86bd50f89d119d7d",
        "IPY_MODEL_9f263bd990a44595b9954dd12783fc4f",
        "IPY_MODEL_9e434792682a48818a5df9e25e62f685",
        "IPY_MODEL_e7b5e5bccec84768a129a409f484ac40",
        "IPY_MODEL_fae130d5a5e04cd6a37e7316b2dbcc0b",
        "IPY_MODEL_106a96c097a44dfeace65732d93ddb13",
        "IPY_MODEL_fe738a26c710478f9d4996adeff64fec",
        "IPY_MODEL_fe223609d27e45c09c2739ac0e0c3adf",
        "IPY_MODEL_7d62812a470e4b398c79c5e57f3fa26c",
        "IPY_MODEL_26d511acebb84dfbb012c668dda5e172",
        "IPY_MODEL_ea94143f473540cb8b698e63770a9d79",
        "IPY_MODEL_b9dd752890cf47c2b9dc773731fba720",
        "IPY_MODEL_8109182ba1c0433cb12079bf1d8d8ab3",
        "IPY_MODEL_cbf4f31801df4dd2abfd3c726ba3b405",
        "IPY_MODEL_7e3d64284a50472d9035271817341fc1",
        "IPY_MODEL_d8e7bdb309684955a322977c077d0c13",
        "IPY_MODEL_b0e66d1036044de8ac3f72760f3d8ccb",
        "IPY_MODEL_ca1e0f70f3574349b296a8a827ba5cf0",
        "IPY_MODEL_f33f7811a61f446ba3862d4f1264cfd3",
        "IPY_MODEL_eac85512f5864b1da9d2c4aa4609e7c6",
        "IPY_MODEL_39eb17675a414d6091e5152c798a8cd6",
        "IPY_MODEL_ba562ad79ad5471c8f6875770d03fe2a",
        "IPY_MODEL_4810967ff5f248949e054ae32911ab29",
        "IPY_MODEL_5c5eb5f11f7841f494512f1fe3fe7868",
        "IPY_MODEL_fa7bbd1dd19740308250d2a5121bf3d5",
        "IPY_MODEL_fc021a17620d4a6798c2c8719764c645",
        "IPY_MODEL_6f9c910f0a364c4fa5916b33fff186ba",
        "IPY_MODEL_dec00a1b8ef84f858e17f6ace37c7387"
       ],
       "nodes": [
        "IPY_MODEL_8710e15eaa4e44939fab05cae9f94f61",
        "IPY_MODEL_92a25b7d0d3147208223ccb6e957d0ff",
        "IPY_MODEL_a74a7ce0779d4a18a04f854e6d3b928b",
        "IPY_MODEL_06edde31716946bf9ebeb3ac74961d70",
        "IPY_MODEL_bd7332ec0c1b4f74ba9673a05f227f74",
        "IPY_MODEL_f1a2dec8c66b48e48365e5a38e2cf7a3",
        "IPY_MODEL_a09ec29ba2014b35a5e4e1890a61eee5",
        "IPY_MODEL_a53e979406b94572b94a52e2d24a600e",
        "IPY_MODEL_bf9e08e6c42c4bc9bc1c269aeeaad653",
        "IPY_MODEL_1e0110664938407db81efaf8180d63ac",
        "IPY_MODEL_62767baa478749c98aa982f2cb028c03",
        "IPY_MODEL_6e2e817211474cc789fdb1605c5952f2",
        "IPY_MODEL_28604757a5804322b4ddca595607c32a",
        "IPY_MODEL_92dd963fa4774706bb0b23c4179fcd67",
        "IPY_MODEL_4783867b0d164bd58cdcaa7a0c9ea70e",
        "IPY_MODEL_7587ec6fb76342d4af56aff697d1d048",
        "IPY_MODEL_bc948909103c4770aa2b0ee548018acb",
        "IPY_MODEL_d06f6f8f9cf34699a8197977b7a820e4",
        "IPY_MODEL_448192ad077c4990b1e85b32650a9966",
        "IPY_MODEL_2938fa2fb34e41e8ab5cc806aeed57e6",
        "IPY_MODEL_b432ab6b6a29482db98166c04db42e07",
        "IPY_MODEL_ff851d2567fb4fb8aa180935bd9bc588",
        "IPY_MODEL_e7ee4d6b33654553ae299a9c467e8bb6",
        "IPY_MODEL_6aba0fc2aa6c4338b9470debc8c3485a",
        "IPY_MODEL_9b2bb7c978fd4ba1bc53ed24739bd2b6"
       ]
      }
     },
     "39eb17675a414d6091e5152c798a8cd6": {
      "model_module": "jupyter-cytoscape",
      "model_module_version": "^1.3.3",
      "model_name": "EdgeModel",
      "state": {
       "_model_module_version": "^1.3.3",
       "_view_module_version": "^1.3.3",
       "data": {
        "_igraph_index": 22,
        "id": "8f7066f6-49c7-4f58-b334-7a21fbfa3db0",
        "source": "2124981",
        "target": "2117882",
        "type": "INTERACTS_PiP"
       },
       "selectable": false
      }
     },
     "3ae834d86be74ea4b87133d81e2d91c4": {
      "model_module": "jupyter-cytoscape",
      "model_module_version": "^1.3.3",
      "model_name": "EdgeModel",
      "state": {
       "_model_module_version": "^1.3.3",
       "_view_module_version": "^1.3.3",
       "data": {
        "_igraph_index": 25,
        "id": "a0750a8a-dcba-4d49-869b-60ad0ffaff70",
        "source": "2150770",
        "target": "2117627",
        "type": "INTERACTS_PiP"
       },
       "selectable": false
      }
     },
     "423188a8ea374583b614a23f552dd229": {
      "model_module": "jupyter-cytoscape",
      "model_module_version": "^1.3.3",
      "model_name": "EdgeModel",
      "state": {
       "_model_module_version": "^1.3.3",
       "_view_module_version": "^1.3.3",
       "data": {
        "_igraph_index": 20,
        "id": "55c3bc68-e4ab-4bbe-8021-6f1e6e64a0a0",
        "source": "2123100",
        "target": "2090262",
        "type": "INTERACTS_PiP"
       },
       "selectable": false
      }
     },
     "42361942420b426080f499ba536aae17": {
      "model_module": "jupyter-cytoscape",
      "model_module_version": "^1.3.3",
      "model_name": "EdgeModel",
      "state": {
       "_model_module_version": "^1.3.3",
       "_view_module_version": "^1.3.3",
       "data": {
        "_igraph_index": 29,
        "id": "951a71ce-5111-4c8b-9695-384b6ee655ce",
        "source": "2156482",
        "target": "2120570",
        "type": "INTERACTS_PiP"
       },
       "selectable": false
      }
     },
     "441925c3e5ac4c6e8b479fd7d7d1e4bf": {
      "model_module": "@jupyter-widgets/base",
      "model_module_version": "2.0.0",
      "model_name": "LayoutModel",
      "state": {}
     },
     "442d605d03e54278a7699723af31d753": {
      "model_module": "jupyter-cytoscape",
      "model_module_version": "^1.3.3",
      "model_name": "EdgeModel",
      "state": {
       "_model_module_version": "^1.3.3",
       "_view_module_version": "^1.3.3",
       "data": {
        "_igraph_index": 10,
        "id": "a4cd06ce-d119-4c37-9f7a-2fe75f9076d0",
        "source": "2114877",
        "target": "2117883",
        "type": "INTERACTS_PiP"
       },
       "selectable": false
      }
     },
     "448192ad077c4990b1e85b32650a9966": {
      "model_module": "jupyter-cytoscape",
      "model_module_version": "^1.3.3",
      "model_name": "NodeModel",
      "state": {
       "_model_module_version": "^1.3.3",
       "_view_module_version": "^1.3.3",
       "data": {
        "_igraph_index": 18,
        "category": "Protein",
        "feature_name": "FGF23_HUMAN",
        "id": "2152136",
        "identifier": "Q9GZV9",
        "in_query": 1,
        "name": "2152136",
        "source": "UniProt"
       },
       "grabbable": true,
       "grabbed": false,
       "position": {
        "x": 404.9837203146298,
        "y": 264.937156596829
       },
       "selectable": false
      }
     },
     "4783867b0d164bd58cdcaa7a0c9ea70e": {
      "model_module": "jupyter-cytoscape",
      "model_module_version": "^1.3.3",
      "model_name": "NodeModel",
      "state": {
       "_model_module_version": "^1.3.3",
       "_view_module_version": "^1.3.3",
       "data": {
        "_igraph_index": 14,
        "category": "Protein",
        "feature_name": "PON3_HUMAN",
        "id": "2124282",
        "identifier": "Q15166",
        "in_query": 1,
        "name": "2124282",
        "source": "UniProt"
       },
       "grabbable": true,
       "grabbed": false,
       "position": {
        "x": 629.3534002962399,
        "y": 401.7246518352105
       },
       "selectable": false
      }
     },
     "47f035bee2664e32a396fd08673a5b01": {
      "model_module": "jupyter-cytoscape",
      "model_module_version": "^1.3.3",
      "model_name": "EdgeModel",
      "state": {
       "_model_module_version": "^1.3.3",
       "_view_module_version": "^1.3.3",
       "data": {
        "_igraph_index": 1,
        "id": "3ac00e5e-e3a5-4660-8239-dc32e8c8f440",
        "source": "2090262",
        "target": "2117627",
        "type": "INTERACTS_PiP"
       },
       "selectable": false
      }
     },
     "4810967ff5f248949e054ae32911ab29": {
      "model_module": "jupyter-cytoscape",
      "model_module_version": "^1.3.3",
      "model_name": "EdgeModel",
      "state": {
       "_model_module_version": "^1.3.3",
       "_view_module_version": "^1.3.3",
       "data": {
        "_igraph_index": 18,
        "id": "91188cfc-0558-4230-aec4-08e1ee1b40da",
        "source": "2123512",
        "target": "2117883",
        "type": "INTERACTS_PiP"
       },
       "selectable": false
      }
     },
     "4a350fc5f46b4e4aa7ee6e6763ba0537": {
      "model_module": "jupyter-cytoscape",
      "model_module_version": "^1.3.3",
      "model_name": "EdgeModel",
      "state": {
       "_model_module_version": "^1.3.3",
       "_view_module_version": "^1.3.3",
       "data": {
        "_igraph_index": 5,
        "id": "0676a8ea-fc37-4d96-b8ed-74ec4f5c18f5",
        "source": "2090262",
        "target": "2117878",
        "type": "INTERACTS_PiP"
       },
       "selectable": false
      }
     },
     "4de15c40100f42a2b5dc7a3c3482c29f": {
      "model_module": "jupyter-cytoscape",
      "model_module_version": "^1.3.3",
      "model_name": "CytoscapeModel",
      "state": {
       "_interaction_handlers": {},
       "_model_module_version": "^1.3.3",
       "_view_module_version": "^1.3.3",
       "auto_ungrabify": false,
       "autolock": false,
       "cytoscape_layout": {
        "edgeLengthVal": 50,
        "name": "cola",
        "nodeSpacing": 80,
        "title": "high_proteins"
       },
       "cytoscape_style": [
        {
         "selector": "node[feature_name]",
         "style": {
          "font-family": "helvetica",
          "font-size": "20px",
          "label": "data(feature_name)"
         }
        },
        {
         "selector": "node[category=\"Protein\"]",
         "style": {
          "background-color": "blue"
         }
        },
        {
         "selector": "node[in_query=1]",
         "style": {
          "border-color": "red",
          "border-width": "5px"
         }
        },
        {
         "selector": "edge[type]",
         "style": {
          "label": "data(type)"
         }
        },
        {
         "selector": "edge.directed",
         "style": {
          "curve-style": "bezier",
          "target-arrow-shape": "triangle"
         }
        }
       ],
       "desktop_tap_threshold": 4,
       "graph": "IPY_MODEL_e32bafa3260b459aa76f02afbfbc55ce",
       "headless": false,
       "hide_edges_on_viewport": false,
       "layout": "IPY_MODEL_60b75fc07f3042988f69b6534acfec22",
       "max_zoom": 1e+50,
       "min_zoom": 1e-50,
       "motion_blur": false,
       "motion_blur_opacity": 0.2,
       "panning_enabled": true,
       "pixel_ratio": "auto",
       "rendered_position": {
        "renderedPosition": {
         "x": 100,
         "y": 100
        }
       },
       "selection_type": "single",
       "style_enabled": true,
       "texture_on_viewport": false,
       "tooltip_source": "feature_name",
       "touch_tap_threshold": 8,
       "user_panning_enabled": true,
       "user_zooming_enabled": true,
       "wheel_sensitivity": 1,
       "zoom": 2,
       "zooming_enabled": true
      }
     },
     "5236993e30dc44d9915fb7b439b3a62f": {
      "model_module": "jupyter-cytoscape",
      "model_module_version": "^1.3.3",
      "model_name": "EdgeModel",
      "state": {
       "_model_module_version": "^1.3.3",
       "_view_module_version": "^1.3.3",
       "data": {
        "_igraph_index": 15,
        "id": "87fd1acb-1c3a-4a1d-8090-032dfb4f53bd",
        "source": "2123512",
        "target": "1985087",
        "type": "INTERACTS_PiP"
       },
       "selectable": false
      }
     },
     "5c5eb5f11f7841f494512f1fe3fe7868": {
      "model_module": "jupyter-cytoscape",
      "model_module_version": "^1.3.3",
      "model_name": "EdgeModel",
      "state": {
       "_model_module_version": "^1.3.3",
       "_view_module_version": "^1.3.3",
       "data": {
        "_igraph_index": 32,
        "id": "85af63d8-ce8b-47a9-af0b-3b57332c8524",
        "source": "2192615",
        "target": "2119389",
        "type": "ENCODES_GeP"
       },
       "selectable": false
      }
     },
     "5caac76d6d344b629cb0674a74066af9": {
      "model_module": "jupyter-cytoscape",
      "model_module_version": "^1.3.3",
      "model_name": "NodeModel",
      "state": {
       "_model_module_version": "^1.3.3",
       "_view_module_version": "^1.3.3",
       "data": {
        "_igraph_index": 11,
        "category": "Protein",
        "feature_name": "FABP6_HUMAN",
        "id": "2120570",
        "identifier": "P51161",
        "in_query": 1,
        "name": "2120570",
        "source": "UniProt"
       },
       "grabbable": true,
       "grabbed": false,
       "position": {
        "x": 1078.727029028856,
        "y": -123.88030420446485
       },
       "selectable": false
      }
     },
     "5e6bc18c4574410db61318a9d5dcee4f": {
      "model_module": "jupyter-cytoscape",
      "model_module_version": "^1.3.3",
      "model_name": "EdgeModel",
      "state": {
       "_model_module_version": "^1.3.3",
       "_view_module_version": "^1.3.3",
       "data": {
        "_igraph_index": 30,
        "id": "bd991898-3b28-4cc6-98d0-4cf7d8f59f8b",
        "source": "2156482",
        "target": "2152386",
        "type": "INTERACTS_PiP"
       },
       "selectable": false
      }
     },
     "60b75fc07f3042988f69b6534acfec22": {
      "model_module": "@jupyter-widgets/base",
      "model_module_version": "2.0.0",
      "model_name": "LayoutModel",
      "state": {}
     },
     "62579aea6222440a9c2d5f82dd79f61b": {
      "model_module": "jupyter-cytoscape",
      "model_module_version": "^1.3.3",
      "model_name": "NodeModel",
      "state": {
       "_model_module_version": "^1.3.3",
       "_view_module_version": "^1.3.3",
       "data": {
        "_igraph_index": 17,
        "category": "Protein",
        "feature_name": "RARR2_HUMAN",
        "id": "2150560",
        "identifier": "Q99969",
        "in_query": 1,
        "name": "2150560",
        "source": "UniProt"
       },
       "grabbable": true,
       "grabbed": false,
       "position": {
        "x": 883.7270280288559,
        "y": -123.88030420446485
       },
       "selectable": false
      }
     },
     "62767baa478749c98aa982f2cb028c03": {
      "model_module": "jupyter-cytoscape",
      "model_module_version": "^1.3.3",
      "model_name": "NodeModel",
      "state": {
       "_model_module_version": "^1.3.3",
       "_view_module_version": "^1.3.3",
       "data": {
        "_igraph_index": 10,
        "category": "Protein",
        "feature_name": "CCL23_HUMAN",
        "id": "2120895",
        "identifier": "P55773",
        "in_query": 1,
        "name": "2120895",
        "source": "UniProt"
       },
       "grabbable": true,
       "grabbed": false,
       "position": {
        "x": 14.983718314629774,
        "y": 22.08706616176085
       },
       "selectable": false
      }
     },
     "66ed5d4a177247b593c9c98551cb4ff4": {
      "model_module": "jupyter-cytoscape",
      "model_module_version": "^1.3.3",
      "model_name": "NodeModel",
      "state": {
       "_model_module_version": "^1.3.3",
       "_view_module_version": "^1.3.3",
       "data": {
        "_igraph_index": 9,
        "category": "Protein",
        "feature_name": "GDNF_HUMAN",
        "id": "2120010",
        "identifier": "P39905",
        "in_query": 1,
        "name": "2120010",
        "source": "UniProt"
       },
       "grabbable": true,
       "grabbed": false,
       "position": {
        "x": 688.7270270288559,
        "y": -123.88030420446485
       },
       "selectable": false
      }
     },
     "6aba0fc2aa6c4338b9470debc8c3485a": {
      "model_module": "jupyter-cytoscape",
      "model_module_version": "^1.3.3",
      "model_name": "NodeModel",
      "state": {
       "_model_module_version": "^1.3.3",
       "_view_module_version": "^1.3.3",
       "data": {
        "_igraph_index": 23,
        "category": "Gene",
        "feature_name": "IL15RA",
        "id": "2192646",
        "identifier": 3601,
        "in_query": 0,
        "name": "2192646",
        "source": "Entrez Gene"
       },
       "grabbable": true,
       "grabbed": false,
       "position": {
        "x": 610.8135096130698,
        "y": -170.7753511647895
       },
       "selectable": false
      }
     },
     "6e2e817211474cc789fdb1605c5952f2": {
      "model_module": "jupyter-cytoscape",
      "model_module_version": "^1.3.3",
      "model_name": "NodeModel",
      "state": {
       "_model_module_version": "^1.3.3",
       "_view_module_version": "^1.3.3",
       "data": {
        "_igraph_index": 11,
        "category": "Protein",
        "feature_name": "TFF3_HUMAN",
        "id": "2122397",
        "identifier": "Q07654",
        "in_query": 1,
        "name": "2122397",
        "source": "UniProt"
       },
       "grabbable": true,
       "grabbed": false,
       "position": {
        "x": 803.3135106130698,
        "y": 11.724649835210537
       },
       "selectable": false
      }
     },
     "6eb0a8541f44403e83e9ecad463560fc": {
      "model_module": "jupyter-cytoscape",
      "model_module_version": "^1.3.3",
      "model_name": "EdgeModel",
      "state": {
       "_model_module_version": "^1.3.3",
       "_view_module_version": "^1.3.3",
       "data": {
        "_igraph_index": 33,
        "id": "2ef7e881-27e2-4c34-a3af-187cf440535f",
        "source": "2120121",
        "target": "2158393",
        "type": "INTERACTS_PiP"
       },
       "selectable": false
      }
     },
     "6ed869b9ef7941bf833a8344943d003d": {
      "model_module": "jupyter-cytoscape",
      "model_module_version": "^1.3.3",
      "model_name": "NodeModel",
      "state": {
       "_model_module_version": "^1.3.3",
       "_view_module_version": "^1.3.3",
       "data": {
        "_igraph_index": 7,
        "category": "Protein",
        "feature_name": "CCL4_HUMAN",
        "id": "2118729",
        "identifier": "P13236",
        "in_query": 1,
        "name": "2118729",
        "source": "UniProt"
       },
       "grabbable": true,
       "grabbed": false,
       "position": {
        "x": 694.711167894111,
        "y": 71.11969679553515
       },
       "selectable": false
      }
     },
     "6f8b996b8e4c4a1ebebd7e5c401e62f9": {
      "model_module": "jupyter-cytoscape",
      "model_module_version": "^1.3.3",
      "model_name": "EdgeModel",
      "state": {
       "_model_module_version": "^1.3.3",
       "_view_module_version": "^1.3.3",
       "data": {
        "_igraph_index": 0,
        "id": "4a0938de-cc3c-447f-8224-e2ec138e9145",
        "source": "449604",
        "target": "2117627",
        "type": "BINDS_CbP"
       },
       "selectable": false
      }
     },
     "6f9c910f0a364c4fa5916b33fff186ba": {
      "model_module": "jupyter-cytoscape",
      "model_module_version": "^1.3.3",
      "model_name": "EdgeModel",
      "state": {
       "_model_module_version": "^1.3.3",
       "_view_module_version": "^1.3.3",
       "data": {
        "_igraph_index": 29,
        "id": "f16e9813-020c-42c2-ad6e-f865e30aa499",
        "source": "2152136",
        "target": "2154112",
        "type": "INTERACTS_PiP"
       },
       "selectable": false
      }
     },
     "71e387acd7e2485e86bd50f89d119d7d": {
      "model_module": "jupyter-cytoscape",
      "model_module_version": "^1.3.3",
      "model_name": "EdgeModel",
      "state": {
       "_model_module_version": "^1.3.3",
       "_view_module_version": "^1.3.3",
       "data": {
        "_igraph_index": 2,
        "id": "ffbdd428-6d60-4503-93c4-a01692eda3ee",
        "source": "2117596",
        "target": "2117565",
        "type": "INTERACTS_PiP"
       },
       "selectable": false
      }
     },
     "73a8351b58dc44f5aacc57b6625336bc": {
      "model_module": "jupyter-cytoscape",
      "model_module_version": "^1.3.3",
      "model_name": "GraphModel",
      "state": {
       "_adj": {},
       "_model_module_version": "^1.3.3",
       "_view_module": "jupyter-cytoscape",
       "_view_module_version": "^1.3.3"
      }
     },
     "7587ec6fb76342d4af56aff697d1d048": {
      "model_module": "jupyter-cytoscape",
      "model_module_version": "^1.3.3",
      "model_name": "NodeModel",
      "state": {
       "_model_module_version": "^1.3.3",
       "_view_module_version": "^1.3.3",
       "data": {
        "_igraph_index": 15,
        "category": "Protein",
        "feature_name": "DECR_HUMAN",
        "id": "2124981",
        "identifier": "Q16698",
        "in_query": 1,
        "name": "2124981",
        "source": "UniProt"
       },
       "grabbable": true,
       "grabbed": false,
       "position": {
        "x": 1014.3534022962399,
        "y": 415.8564081929619
       },
       "selectable": false
      }
     },
     "7b8333ab40314ccd9125877deb124e59": {
      "model_module": "jupyter-cytoscape",
      "model_module_version": "^1.3.3",
      "model_name": "EdgeModel",
      "state": {
       "_model_module_version": "^1.3.3",
       "_view_module_version": "^1.3.3",
       "data": {
        "_igraph_index": 10,
        "id": "9d9206f8-10e5-4f96-bcb6-75a277175537",
        "source": "2090262",
        "target": "2118729",
        "type": "INTERACTS_PiP"
       },
       "selectable": false
      }
     },
     "7bbf239c6c484ed3940fbda2e80219ca": {
      "model_module": "jupyter-cytoscape",
      "model_module_version": "^1.3.3",
      "model_name": "EdgeModel",
      "state": {
       "_model_module_version": "^1.3.3",
       "_view_module_version": "^1.3.3",
       "data": {
        "_igraph_index": 2,
        "id": "17d1a175-b547-4b1f-bd25-d1e4bdc6f340",
        "source": "2114764",
        "target": "2117627",
        "type": "INTERACTS_PiP"
       },
       "selectable": false
      }
     },
     "7c73ab4e59c246c9b8979600bbab0056": {
      "model_module": "jupyter-cytoscape",
      "model_module_version": "^1.3.3",
      "model_name": "NodeModel",
      "state": {
       "_model_module_version": "^1.3.3",
       "_view_module_version": "^1.3.3",
       "data": {
        "_igraph_index": 0,
        "category": "Compound",
        "feature_name": "ROLIPRAM",
        "id": "449604",
        "identifier": "CHEMBL63",
        "in_query": 0,
        "name": "449604",
        "source": "ChEMBL"
       },
       "grabbable": true,
       "grabbed": false,
       "position": {
        "x": 502.2111668941111,
        "y": 81.61084747117683
       },
       "selectable": false
      }
     },
     "7d62812a470e4b398c79c5e57f3fa26c": {
      "model_module": "jupyter-cytoscape",
      "model_module_version": "^1.3.3",
      "model_name": "EdgeModel",
      "state": {
       "_model_module_version": "^1.3.3",
       "_view_module_version": "^1.3.3",
       "data": {
        "_igraph_index": 20,
        "id": "77555734-97a1-4ad9-b4a1-e65acbab7b6f",
        "source": "2124981",
        "target": "2117596",
        "type": "INTERACTS_PiP"
       },
       "selectable": false
      }
     },
     "7e3d64284a50472d9035271817341fc1": {
      "model_module": "jupyter-cytoscape",
      "model_module_version": "^1.3.3",
      "model_name": "EdgeModel",
      "state": {
       "_model_module_version": "^1.3.3",
       "_view_module_version": "^1.3.3",
       "data": {
        "_igraph_index": 21,
        "id": "dae1ddaf-cb59-41de-add6-3907b59e3d9a",
        "source": "2124981",
        "target": "2117723",
        "type": "INTERACTS_PiP"
       },
       "selectable": false
      }
     },
     "8019d1a895074a92839c4a55ed89220e": {
      "model_module": "jupyter-cytoscape",
      "model_module_version": "^1.3.3",
      "model_name": "EdgeModel",
      "state": {
       "_model_module_version": "^1.3.3",
       "_view_module_version": "^1.3.3",
       "data": {
        "_igraph_index": 12,
        "id": "0f4958db-c6f5-434f-88ca-46c0ff96718f",
        "source": "2117878",
        "target": "2118729",
        "type": "INTERACTS_PiP"
       },
       "selectable": false
      }
     },
     "8109182ba1c0433cb12079bf1d8d8ab3": {
      "model_module": "jupyter-cytoscape",
      "model_module_version": "^1.3.3",
      "model_name": "EdgeModel",
      "state": {
       "_model_module_version": "^1.3.3",
       "_view_module_version": "^1.3.3",
       "data": {
        "_igraph_index": 8,
        "id": "a53a0635-99dc-4b56-9892-423c94fd3d35",
        "source": "2117882",
        "target": "2117723",
        "type": "INTERACTS_PiP"
       },
       "selectable": false
      }
     },
     "81e141e13c89480dae97481cd311aba0": {
      "model_module": "jupyter-cytoscape",
      "model_module_version": "^1.3.3",
      "model_name": "CytoscapeModel",
      "state": {
       "_interaction_handlers": {},
       "_model_module_version": "^1.3.3",
       "_view_module_version": "^1.3.3",
       "auto_ungrabify": false,
       "autolock": false,
       "cytoscape_layout": {
        "edgeLengthVal": 50,
        "name": "cola",
        "nodeSpacing": 80
       },
       "cytoscape_style": [
        {
         "selector": "node[feature_name]",
         "style": {
          "font-family": "helvetica",
          "font-size": "20px",
          "label": "data(feature_name)"
         }
        },
        {
         "selector": "node[category=\"Protein\"]",
         "style": {
          "background-color": "blue"
         }
        },
        {
         "selector": "node[in_query=1]",
         "style": {
          "border-color": "red",
          "border-width": "5px"
         }
        },
        {
         "selector": "edge[type]",
         "style": {
          "label": "data(type)"
         }
        },
        {
         "selector": "edge.directed",
         "style": {
          "curve-style": "bezier",
          "target-arrow-shape": "triangle"
         }
        }
       ],
       "desktop_tap_threshold": 4,
       "graph": "IPY_MODEL_392d1b9b5e794d3cae042dc6e0186e6d",
       "headless": false,
       "hide_edges_on_viewport": false,
       "layout": "IPY_MODEL_441925c3e5ac4c6e8b479fd7d7d1e4bf",
       "max_zoom": 1e+50,
       "min_zoom": 1e-50,
       "motion_blur": false,
       "motion_blur_opacity": 0.2,
       "panning_enabled": true,
       "pixel_ratio": "auto",
       "rendered_position": {
        "renderedPosition": {
         "x": 100,
         "y": 100
        }
       },
       "selection_type": "single",
       "style_enabled": true,
       "texture_on_viewport": false,
       "tooltip_source": "name",
       "touch_tap_threshold": 8,
       "user_panning_enabled": true,
       "user_zooming_enabled": true,
       "wheel_sensitivity": 1,
       "zoom": 2,
       "zooming_enabled": true
      }
     },
     "8508a1c43316456191d403190b03c282": {
      "model_module": "jupyter-cytoscape",
      "model_module_version": "^1.3.3",
      "model_name": "EdgeModel",
      "state": {
       "_model_module_version": "^1.3.3",
       "_view_module_version": "^1.3.3",
       "data": {
        "_igraph_index": 4,
        "id": "65be306e-41eb-49da-a745-1f7c755a3155",
        "source": "2117852",
        "target": "2117627",
        "type": "INTERACTS_PiP"
       },
       "selectable": false
      }
     },
     "870582fc9ddc4beea1cea532951ac4c3": {
      "model_module": "jupyter-cytoscape",
      "model_module_version": "^1.3.3",
      "model_name": "NodeModel",
      "state": {
       "_model_module_version": "^1.3.3",
       "_view_module_version": "^1.3.3",
       "data": {
        "_igraph_index": 3,
        "category": "Protein",
        "feature_name": "TNFA_HUMAN",
        "id": "2117627",
        "identifier": "P01375",
        "in_query": 0,
        "name": "2117627",
        "source": "UniProt"
       },
       "grabbable": true,
       "grabbed": false,
       "position": {
        "x": 887.211168894111,
        "y": 242.9073446791982
       },
       "selectable": false
      }
     },
     "87094f6a4e1549b28db9bae6c37f4025": {
      "model_module": "jupyter-cytoscape",
      "model_module_version": "^1.3.3",
      "model_name": "NodeModel",
      "state": {
       "_model_module_version": "^1.3.3",
       "_view_module_version": "^1.3.3",
       "data": {
        "_igraph_index": 10,
        "category": "Protein",
        "feature_name": "CASP3_HUMAN",
        "id": "2120121",
        "identifier": "P42574",
        "in_query": 0,
        "name": "2120121",
        "source": "UniProt"
       },
       "grabbable": true,
       "grabbed": false,
       "position": {
        "x": -77.78883610588896,
        "y": 273.6643818310381
       },
       "selectable": false
      }
     },
     "8710e15eaa4e44939fab05cae9f94f61": {
      "model_module": "jupyter-cytoscape",
      "model_module_version": "^1.3.3",
      "model_name": "NodeModel",
      "state": {
       "_model_module_version": "^1.3.3",
       "_view_module_version": "^1.3.3",
       "data": {
        "_igraph_index": 0,
        "category": "Protein",
        "feature_name": "A0A0A0MS77_HUMAN",
        "id": "1985087",
        "identifier": "A0A0A0MS77",
        "in_query": 0,
        "name": "1985087",
        "source": "UniProt"
       },
       "grabbable": true,
       "grabbed": false,
       "position": {
        "x": 597.4837213146297,
        "y": 209.2246508352105
       },
       "selectable": false
      }
     },
     "8a8d7cd36e22443da26a0b28b58bee06": {
      "model_module": "jupyter-cytoscape",
      "model_module_version": "^1.3.3",
      "model_name": "NodeModel",
      "state": {
       "_model_module_version": "^1.3.3",
       "_view_module_version": "^1.3.3",
       "data": {
        "_igraph_index": 14,
        "category": "Protein",
        "feature_name": "IL24_HUMAN",
        "id": "2123169",
        "identifier": "Q13007",
        "in_query": 1,
        "name": "2123169",
        "source": "UniProt"
       },
       "grabbable": true,
       "grabbed": false,
       "position": {
        "x": 499.7111668941111,
        "y": 274.1108484711768
       },
       "selectable": false
      }
     },
     "8eb5b3dc4e744ee39ebac2139cc5d877": {
      "model_module": "jupyter-cytoscape",
      "model_module_version": "^1.3.3",
      "model_name": "NodeModel",
      "state": {
       "_model_module_version": "^1.3.3",
       "_view_module_version": "^1.3.3",
       "data": {
        "_igraph_index": 19,
        "category": "Protein",
        "feature_name": "CXL16_HUMAN",
        "id": "2152386",
        "identifier": "Q9H2A7",
        "in_query": 1,
        "name": "2152386",
        "source": "UniProt"
       },
       "grabbable": true,
       "grabbed": false,
       "position": {
        "x": 721.3779757639965,
        "y": 846.1197007955351
       },
       "selectable": false
      }
     },
     "9094ac8ab520496ba636b8a7ce276a04": {
      "model_module": "jupyter-cytoscape",
      "model_module_version": "^1.3.3",
      "model_name": "EdgeModel",
      "state": {
       "_model_module_version": "^1.3.3",
       "_view_module_version": "^1.3.3",
       "data": {
        "_igraph_index": 19,
        "id": "79eb0861-c2e4-467e-8980-c5ac56430d13",
        "source": "2121576",
        "target": "2090262",
        "type": "INTERACTS_PiP"
       },
       "selectable": false
      }
     },
     "92a25b7d0d3147208223ccb6e957d0ff": {
      "model_module": "jupyter-cytoscape",
      "model_module_version": "^1.3.3",
      "model_name": "NodeModel",
      "state": {
       "_model_module_version": "^1.3.3",
       "_view_module_version": "^1.3.3",
       "data": {
        "_igraph_index": 1,
        "category": "Protein",
        "feature_name": "P85B_HUMAN",
        "id": "2114877",
        "identifier": "O00459",
        "in_query": 0,
        "name": "2114877",
        "source": "UniProt"
       },
       "grabbable": true,
       "grabbed": false,
       "position": {
        "x": 402.4837203146298,
        "y": 72.43715559682904
       },
       "selectable": false
      }
     },
     "92dd963fa4774706bb0b23c4179fcd67": {
      "model_module": "jupyter-cytoscape",
      "model_module_version": "^1.3.3",
      "model_name": "NodeModel",
      "state": {
       "_model_module_version": "^1.3.3",
       "_view_module_version": "^1.3.3",
       "data": {
        "_igraph_index": 13,
        "category": "Protein",
        "feature_name": "I10R1_HUMAN",
        "id": "2123512",
        "identifier": "Q13651",
        "in_query": 1,
        "name": "2123512",
        "source": "UniProt"
       },
       "grabbable": true,
       "grabbed": false,
       "position": {
        "x": 404.9837203146298,
        "y": -120.06284540317095
       },
       "selectable": false
      }
     },
     "9b2bb7c978fd4ba1bc53ed24739bd2b6": {
      "model_module": "jupyter-cytoscape",
      "model_module_version": "^1.3.3",
      "model_name": "NodeModel",
      "state": {
       "_model_module_version": "^1.3.3",
       "_view_module_version": "^1.3.3",
       "data": {
        "_igraph_index": 24,
        "category": "ProteinDomain",
        "feature_name": "Small cytokines (intecrine/chemokine), interleukin-8 like",
        "id": "2365529",
        "identifier": "PF00048",
        "in_query": 0,
        "name": "2365529",
        "source": "Pfam"
       },
       "grabbable": true,
       "grabbed": false,
       "position": {
        "x": 597.4837213146297,
        "y": 19.22464983521054
       },
       "selectable": false
      }
     },
     "9e434792682a48818a5df9e25e62f685": {
      "model_module": "jupyter-cytoscape",
      "model_module_version": "^1.3.3",
      "model_name": "EdgeModel",
      "state": {
       "_model_module_version": "^1.3.3",
       "_view_module_version": "^1.3.3",
       "data": {
        "_igraph_index": 3,
        "id": "d6b1454c-7e22-434a-857e-e3e5e6619bbf",
        "source": "2117723",
        "target": "2117596",
        "type": "INTERACTS_PiP"
       },
       "selectable": false
      }
     },
     "9f263bd990a44595b9954dd12783fc4f": {
      "model_module": "jupyter-cytoscape",
      "model_module_version": "^1.3.3",
      "model_name": "EdgeModel",
      "state": {
       "_model_module_version": "^1.3.3",
       "_view_module_version": "^1.3.3",
       "data": {
        "_igraph_index": 6,
        "id": "fef6c3f0-837d-4f88-b6d5-ad649dbe6cdc",
        "source": "2117882",
        "target": "2117565",
        "type": "INTERACTS_PiP"
       },
       "selectable": false
      }
     },
     "a07bddb07cfa47d0a10aebfd26daefeb": {
      "model_module": "jupyter-cytoscape",
      "model_module_version": "^1.3.3",
      "model_name": "EdgeModel",
      "state": {
       "_model_module_version": "^1.3.3",
       "_view_module_version": "^1.3.3",
       "data": {
        "_igraph_index": 21,
        "id": "1fb2de7a-7e8e-4032-aaa4-92bcaec14dd7",
        "source": "2123169",
        "target": "2117627",
        "type": "INTERACTS_PiP"
       },
       "selectable": false
      }
     },
     "a09ec29ba2014b35a5e4e1890a61eee5": {
      "model_module": "jupyter-cytoscape",
      "model_module_version": "^1.3.3",
      "model_name": "NodeModel",
      "state": {
       "_model_module_version": "^1.3.3",
       "_view_module_version": "^1.3.3",
       "data": {
        "_igraph_index": 6,
        "category": "Protein",
        "feature_name": "TFR1_HUMAN",
        "id": "2117758",
        "identifier": "P02786",
        "in_query": 1,
        "name": "2117758",
        "source": "UniProt"
       },
       "grabbable": true,
       "grabbed": false,
       "position": {
        "x": 434.35339929623996,
        "y": 659.937158596829
       },
       "selectable": false
      }
     },
     "a1b41c99f2ca48648dcca76146145026": {
      "model_module": "jupyter-cytoscape",
      "model_module_version": "^1.3.3",
      "model_name": "EdgeModel",
      "state": {
       "_model_module_version": "^1.3.3",
       "_view_module_version": "^1.3.3",
       "data": {
        "_igraph_index": 24,
        "id": "81eaf23d-f66a-430d-af86-1b84d4ac275c",
        "source": "2114877",
        "target": "2150468",
        "type": "INTERACTS_PiP"
       },
       "selectable": false
      }
     },
     "a53e979406b94572b94a52e2d24a600e": {
      "model_module": "jupyter-cytoscape",
      "model_module_version": "^1.3.3",
      "model_name": "NodeModel",
      "state": {
       "_model_module_version": "^1.3.3",
       "_view_module_version": "^1.3.3",
       "data": {
        "_igraph_index": 7,
        "category": "Protein",
        "feature_name": "IL4_HUMAN",
        "id": "2117882",
        "identifier": "P05112",
        "in_query": 1,
        "name": "2117882",
        "source": "UniProt"
       },
       "grabbable": true,
       "grabbed": false,
       "position": {
        "x": 789.9837223146296,
        "y": 206.7246508352105
       },
       "selectable": false
      }
     },
     "a74a7ce0779d4a18a04f854e6d3b928b": {
      "model_module": "jupyter-cytoscape",
      "model_module_version": "^1.3.3",
      "model_name": "NodeModel",
      "state": {
       "_model_module_version": "^1.3.3",
       "_view_module_version": "^1.3.3",
       "data": {
        "_igraph_index": 2,
        "category": "Protein",
        "feature_name": "CXL11_HUMAN",
        "id": "2115050",
        "identifier": "O14625",
        "in_query": 1,
        "name": "2115050",
        "source": "UniProt"
       },
       "grabbable": true,
       "grabbed": false,
       "position": {
        "x": 209.98371931462975,
        "y": 269.937156596829
       },
       "selectable": false
      }
     },
     "a753ca81e23c46a7ac6ec9fb5054ee4b": {
      "model_module": "jupyter-cytoscape",
      "model_module_version": "^1.3.3",
      "model_name": "EdgeModel",
      "state": {
       "_model_module_version": "^1.3.3",
       "_view_module_version": "^1.3.3",
       "data": {
        "_igraph_index": 37,
        "id": "550caf02-5d29-4ff3-bb64-a8fb68e82808",
        "source": "2368281",
        "target": "2133161",
        "type": "PARTOF_PDpP"
       },
       "selectable": false
      }
     },
     "abf9829062df4a59834f34ca1eefb5cd": {
      "model_module": "jupyter-cytoscape",
      "model_module_version": "^1.3.3",
      "model_name": "EdgeModel",
      "state": {
       "_model_module_version": "^1.3.3",
       "_view_module_version": "^1.3.3",
       "data": {
        "_igraph_index": 26,
        "id": "b371a29f-674c-49ca-a678-96c79d649ea2",
        "source": "2152386",
        "target": "2117627",
        "type": "INTERACTS_PiP"
       },
       "selectable": false
      }
     },
     "b07b9473f2b4453490f8dcd018ce99e2": {
      "model_module": "jupyter-cytoscape",
      "model_module_version": "^1.3.3",
      "model_name": "EdgeModel",
      "state": {
       "_model_module_version": "^1.3.3",
       "_view_module_version": "^1.3.3",
       "data": {
        "_igraph_index": 0,
        "id": "22b94fc4-6abe-4751-a755-f6312e17e727",
        "source": "2115050",
        "target": "1985087",
        "type": "INTERACTS_PiP"
       },
       "selectable": false
      }
     },
     "b0e66d1036044de8ac3f72760f3d8ccb": {
      "model_module": "jupyter-cytoscape",
      "model_module_version": "^1.3.3",
      "model_name": "EdgeModel",
      "state": {
       "_model_module_version": "^1.3.3",
       "_view_module_version": "^1.3.3",
       "data": {
        "_igraph_index": 28,
        "id": "819561a6-be5a-4cd4-a8b8-a202f621890f",
        "source": "2117723",
        "target": "2154112",
        "type": "INTERACTS_PiP"
       },
       "selectable": false
      }
     },
     "b0fbc74761e347ffbb706fd233472af2": {
      "model_module": "jupyter-cytoscape",
      "model_module_version": "^1.3.3",
      "model_name": "EdgeModel",
      "state": {
       "_model_module_version": "^1.3.3",
       "_view_module_version": "^1.3.3",
       "data": {
        "_igraph_index": 35,
        "id": "5cedd52f-5fd3-4bc1-9683-a7a0d33b48c8",
        "source": "2192118",
        "target": "2119566",
        "type": "ENCODES_GeP"
       },
       "selectable": false
      }
     },
     "b2cac1d086644b8082924d8c8668b5d3": {
      "model_module": "jupyter-cytoscape",
      "model_module_version": "^1.3.3",
      "model_name": "EdgeModel",
      "state": {
       "_model_module_version": "^1.3.3",
       "_view_module_version": "^1.3.3",
       "data": {
        "_igraph_index": 36,
        "id": "3641713d-c1fc-49c5-be66-5388e63df757",
        "source": "2368281",
        "target": "2120010",
        "type": "PARTOF_PDpP"
       },
       "selectable": false
      }
     },
     "b432ab6b6a29482db98166c04db42e07": {
      "model_module": "jupyter-cytoscape",
      "model_module_version": "^1.3.3",
      "model_name": "NodeModel",
      "state": {
       "_model_module_version": "^1.3.3",
       "_view_module_version": "^1.3.3",
       "data": {
        "_igraph_index": 20,
        "category": "Protein",
        "feature_name": "GDF2_HUMAN",
        "id": "2156823",
        "identifier": "Q9UK05",
        "in_query": 1,
        "name": "2156823",
        "source": "UniProt"
       },
       "grabbable": true,
       "grabbed": false,
       "position": {
        "x": 803.3135106130698,
        "y": -183.2753511647895
       },
       "selectable": false
      }
     },
     "b7cc2077018a46b7939108a4629082b3": {
      "model_module": "jupyter-cytoscape",
      "model_module_version": "^1.3.3",
      "model_name": "NodeModel",
      "state": {
       "_model_module_version": "^1.3.3",
       "_view_module_version": "^1.3.3",
       "data": {
        "_igraph_index": 1,
        "category": "Protein",
        "feature_name": "H0Y4K8_HUMAN",
        "id": "2090262",
        "identifier": "H0Y4K8",
        "in_query": 0,
        "name": "2090262",
        "source": "UniProt"
       },
       "grabbable": true,
       "grabbed": false,
       "position": {
        "x": 307.211165894111,
        "y": 134.58179858817232
       },
       "selectable": false
      }
     },
     "b7de32ce693c40adba1b53999dc88fbc": {
      "model_module": "jupyter-cytoscape",
      "model_module_version": "^1.3.3",
      "model_name": "NodeModel",
      "state": {
       "_model_module_version": "^1.3.3",
       "_view_module_version": "^1.3.3",
       "data": {
        "_igraph_index": 15,
        "category": "Protein",
        "feature_name": "ARTN_HUMAN",
        "id": "2133161",
        "identifier": "Q5T4W7",
        "in_query": 1,
        "name": "2133161",
        "source": "UniProt"
       },
       "grabbable": true,
       "grabbed": false,
       "position": {
        "x": 889.711168894111,
        "y": 435.40734567919816
       },
       "selectable": false
      }
     },
     "b9dd752890cf47c2b9dc773731fba720": {
      "model_module": "jupyter-cytoscape",
      "model_module_version": "^1.3.3",
      "model_name": "EdgeModel",
      "state": {
       "_model_module_version": "^1.3.3",
       "_view_module_version": "^1.3.3",
       "data": {
        "_igraph_index": 31,
        "id": "6f6c1dfb-f047-4754-9b23-b0265a42873c",
        "source": "2191411",
        "target": "2117596",
        "type": "ENCODES_GeP"
       },
       "selectable": false
      }
     },
     "ba562ad79ad5471c8f6875770d03fe2a": {
      "model_module": "jupyter-cytoscape",
      "model_module_version": "^1.3.3",
      "model_name": "EdgeModel",
      "state": {
       "_model_module_version": "^1.3.3",
       "_view_module_version": "^1.3.3",
       "data": {
        "_igraph_index": 23,
        "id": "45af0e1e-8176-4d9d-a5da-6bbfac99ec1f",
        "source": "2117882",
        "target": "2140136",
        "type": "INTERACTS_PiP"
       },
       "selectable": false
      }
     },
     "bc948909103c4770aa2b0ee548018acb": {
      "model_module": "jupyter-cytoscape",
      "model_module_version": "^1.3.3",
      "model_name": "NodeModel",
      "state": {
       "_model_module_version": "^1.3.3",
       "_view_module_version": "^1.3.3",
       "data": {
        "_igraph_index": 16,
        "category": "Protein",
        "feature_name": "ATS13_HUMAN",
        "id": "2140136",
        "identifier": "Q76LX8",
        "in_query": 1,
        "name": "2140136",
        "source": "UniProt"
       },
       "grabbable": true,
       "grabbed": false,
       "position": {
        "x": 244.35339829623987,
        "y": 464.9371575968291
       },
       "selectable": false
      }
     },
     "bd41badc7e294be39cb4b87fa5d16a2c": {
      "model_module": "jupyter-cytoscape",
      "model_module_version": "^1.3.3",
      "model_name": "EdgeModel",
      "state": {
       "_model_module_version": "^1.3.3",
       "_view_module_version": "^1.3.3",
       "data": {
        "_igraph_index": 11,
        "id": "45176025-7961-4f70-a626-5de0f1c89d04",
        "source": "2117883",
        "target": "2115050",
        "type": "INTERACTS_PiP"
       },
       "selectable": false
      }
     },
     "bd7332ec0c1b4f74ba9673a05f227f74": {
      "model_module": "jupyter-cytoscape",
      "model_module_version": "^1.3.3",
      "model_name": "NodeModel",
      "state": {
       "_model_module_version": "^1.3.3",
       "_view_module_version": "^1.3.3",
       "data": {
        "_igraph_index": 4,
        "category": "Protein",
        "feature_name": "EGF_HUMAN",
        "id": "2117596",
        "identifier": "P01133",
        "in_query": 0,
        "name": "2117596",
        "source": "UniProt"
       },
       "grabbable": true,
       "grabbed": false,
       "position": {
        "x": 436.85339929623996,
        "y": 457.4371575968291
       },
       "selectable": false
      }
     },
     "bea8d88d2b254c0ea64798f2d7564f6d": {
      "model_module": "jupyter-cytoscape",
      "model_module_version": "^1.3.3",
      "model_name": "EdgeModel",
      "state": {
       "_model_module_version": "^1.3.3",
       "_view_module_version": "^1.3.3",
       "data": {
        "_igraph_index": 25,
        "id": "4fb45b7d-e42f-4f14-bc83-5fc098ca81f1",
        "source": "2114877",
        "target": "2152136",
        "type": "INTERACTS_PiP"
       },
       "selectable": false
      }
     },
     "bf9e08e6c42c4bc9bc1c269aeeaad653": {
      "model_module": "jupyter-cytoscape",
      "model_module_version": "^1.3.3",
      "model_name": "NodeModel",
      "state": {
       "_model_module_version": "^1.3.3",
       "_view_module_version": "^1.3.3",
       "data": {
        "_igraph_index": 8,
        "category": "Protein",
        "feature_name": "IL5_HUMAN",
        "id": "2117883",
        "identifier": "P05113",
        "in_query": 1,
        "name": "2117883",
        "source": "UniProt"
       },
       "grabbable": true,
       "grabbed": false,
       "position": {
        "x": 223.31350761306973,
        "y": -315.0628464031709
       },
       "selectable": false
      }
     },
     "c2576d12e6f149058a597a69023707cf": {
      "model_module": "jupyter-cytoscape",
      "model_module_version": "^1.3.3",
      "model_name": "NodeModel",
      "state": {
       "_model_module_version": "^1.3.3",
       "_view_module_version": "^1.3.3",
       "data": {
        "_igraph_index": 21,
        "category": "Protein",
        "feature_name": "NEMO_HUMAN",
        "id": "2158393",
        "identifier": "Q9Y6K9",
        "in_query": 1,
        "name": "2158393",
        "source": "UniProt"
       },
       "grabbable": true,
       "grabbed": false,
       "position": {
        "x": 694.711167894111,
        "y": 266.11969779553516
       },
       "selectable": false
      }
     },
     "c5d544c28fb746d48c2fd2be550bbbec": {
      "model_module": "jupyter-cytoscape",
      "model_module_version": "^1.3.3",
      "model_name": "NodeModel",
      "state": {
       "_model_module_version": "^1.3.3",
       "_view_module_version": "^1.3.3",
       "data": {
        "_igraph_index": 23,
        "category": "ProteinDomain",
        "feature_name": "Transforming growth factor beta like domain",
        "id": "2368281",
        "identifier": "PF00019",
        "in_query": 0,
        "name": "2368281",
        "source": "Pfam"
       },
       "grabbable": true,
       "grabbed": false,
       "position": {
        "x": 771.4516193282478,
        "y": -316.38030520446483
       },
       "selectable": false
      }
     },
     "ca1e0f70f3574349b296a8a827ba5cf0": {
      "model_module": "jupyter-cytoscape",
      "model_module_version": "^1.3.3",
      "model_name": "EdgeModel",
      "state": {
       "_model_module_version": "^1.3.3",
       "_view_module_version": "^1.3.3",
       "data": {
        "_igraph_index": 9,
        "id": "0018f304-a8a6-4d5f-97f9-99da14bd905f",
        "source": "2117882",
        "target": "2117758",
        "type": "INTERACTS_PiP"
       },
       "selectable": false
      }
     },
     "cbf4f31801df4dd2abfd3c726ba3b405": {
      "model_module": "jupyter-cytoscape",
      "model_module_version": "^1.3.3",
      "model_name": "EdgeModel",
      "state": {
       "_model_module_version": "^1.3.3",
       "_view_module_version": "^1.3.3",
       "data": {
        "_igraph_index": 19,
        "id": "8b3aa0db-4608-4907-bf40-177db0132ded",
        "source": "2117723",
        "target": "2124282",
        "type": "INTERACTS_PiP"
       },
       "selectable": false
      }
     },
     "cd8bdd8ba00c4856ab2cf4b33896d7d0": {
      "model_module": "jupyter-cytoscape",
      "model_module_version": "^1.3.3",
      "model_name": "EdgeModel",
      "state": {
       "_model_module_version": "^1.3.3",
       "_view_module_version": "^1.3.3",
       "data": {
        "_igraph_index": 5,
        "id": "abf02c04-4d7f-44f3-b838-86377583f4b9",
        "source": "2117882",
        "target": "2115050",
        "type": "INTERACTS_PiP"
       },
       "selectable": false
      }
     },
     "ce14ad7a480949009c88dcc759908d64": {
      "model_module": "jupyter-cytoscape",
      "model_module_version": "^1.3.3",
      "model_name": "EdgeModel",
      "state": {
       "_model_module_version": "^1.3.3",
       "_view_module_version": "^1.3.3",
       "data": {
        "_igraph_index": 16,
        "id": "ff0c0506-a4d7-4c25-bdd4-1d8ddec71fb5",
        "source": "2120121",
        "target": "2117627",
        "type": "INTERACTS_PiP"
       },
       "selectable": false
      }
     },
     "ce219cbbdca2425a877ea7bd99583c94": {
      "model_module": "jupyter-cytoscape",
      "model_module_version": "^1.3.3",
      "model_name": "EdgeModel",
      "state": {
       "_model_module_version": "^1.3.3",
       "_view_module_version": "^1.3.3",
       "data": {
        "_igraph_index": 8,
        "id": "c852f9a7-12ae-4ddc-b050-4c9e47f6e510",
        "source": "2118151",
        "target": "2117627",
        "type": "INTERACTS_PiP"
       },
       "selectable": false
      }
     },
     "d06f6f8f9cf34699a8197977b7a820e4": {
      "model_module": "jupyter-cytoscape",
      "model_module_version": "^1.3.3",
      "model_name": "NodeModel",
      "state": {
       "_model_module_version": "^1.3.3",
       "_view_module_version": "^1.3.3",
       "data": {
        "_igraph_index": 17,
        "category": "Protein",
        "feature_name": "NRTN_HUMAN",
        "id": "2150468",
        "identifier": "Q99748",
        "in_query": 1,
        "name": "2150468",
        "source": "UniProt"
       },
       "grabbable": true,
       "grabbed": false,
       "position": {
        "x": 418.3135086130698,
        "y": -315.0628464031709
       },
       "selectable": false
      }
     },
     "d0fbe739319e48b19b110cb00f4591d4": {
      "model_module": "jupyter-cytoscape",
      "model_module_version": "^1.3.3",
      "model_name": "EdgeModel",
      "state": {
       "_model_module_version": "^1.3.3",
       "_view_module_version": "^1.3.3",
       "data": {
        "_igraph_index": 24,
        "id": "69947ee1-7837-47cd-9939-ce16d5ffaa89",
        "source": "2117627",
        "target": "2150560",
        "type": "INTERACTS_PiP"
       },
       "selectable": false
      }
     },
     "d31e866c72324d1ab6215e941c015e0d": {
      "model_module": "jupyter-cytoscape",
      "model_module_version": "^1.3.3",
      "model_name": "EdgeModel",
      "state": {
       "_model_module_version": "^1.3.3",
       "_view_module_version": "^1.3.3",
       "data": {
        "_igraph_index": 27,
        "id": "667f4d7a-047a-458c-9bce-5694649943a0",
        "source": "2152386",
        "target": "2118151",
        "type": "INTERACTS_PiP"
       },
       "selectable": false
      }
     },
     "d7afcaff05d14abcb04351340d681399": {
      "model_module": "jupyter-cytoscape",
      "model_module_version": "^1.3.3",
      "model_name": "NodeModel",
      "state": {
       "_model_module_version": "^1.3.3",
       "_view_module_version": "^1.3.3",
       "data": {
        "_igraph_index": 22,
        "category": "Gene",
        "feature_name": "GRN",
        "id": "2192118",
        "identifier": 2896,
        "in_query": 0,
        "name": "2192118",
        "source": "Entrez Gene"
       },
       "grabbable": true,
       "grabbed": false,
       "position": {
        "x": 692.211167894111,
        "y": 653.6196997955352
       },
       "selectable": false
      }
     },
     "d8e7bdb309684955a322977c077d0c13": {
      "model_module": "jupyter-cytoscape",
      "model_module_version": "^1.3.3",
      "model_name": "EdgeModel",
      "state": {
       "_model_module_version": "^1.3.3",
       "_view_module_version": "^1.3.3",
       "data": {
        "_igraph_index": 27,
        "id": "71a843a6-7a3b-443c-95d8-11f42d5b7601",
        "source": "2152136",
        "target": "2117723",
        "type": "INTERACTS_PiP"
       },
       "selectable": false
      }
     },
     "d9077a3ac5564136ad08501450155348": {
      "model_module": "jupyter-cytoscape",
      "model_module_version": "^1.3.3",
      "model_name": "EdgeModel",
      "state": {
       "_model_module_version": "^1.3.3",
       "_view_module_version": "^1.3.3",
       "data": {
        "_igraph_index": 11,
        "id": "6a4c9b50-e6c6-4384-8e38-a6761ce66ab6",
        "source": "2117627",
        "target": "2118729",
        "type": "INTERACTS_PiP"
       },
       "selectable": false
      }
     },
     "dce6e8a6f6704f7f92ce7002dabbb437": {
      "model_module": "jupyter-cytoscape",
      "model_module_version": "^1.3.3",
      "model_name": "EdgeModel",
      "state": {
       "_model_module_version": "^1.3.3",
       "_view_module_version": "^1.3.3",
       "data": {
        "_igraph_index": 34,
        "id": "539c1cec-362f-48b9-8ca4-14934c680381",
        "source": "449604",
        "target": "2192118",
        "type": "DOWNREGULATES_CdG"
       },
       "selectable": false
      }
     },
     "dec00a1b8ef84f858e17f6ace37c7387": {
      "model_module": "jupyter-cytoscape",
      "model_module_version": "^1.3.3",
      "model_name": "EdgeModel",
      "state": {
       "_model_module_version": "^1.3.3",
       "_view_module_version": "^1.3.3",
       "data": {
        "_igraph_index": 33,
        "id": "8c4325f9-1d5d-402c-8c17-6ba4995fd47e",
        "source": "2191411",
        "target": "2192615",
        "type": "UPREGULATES_KGuG"
       },
       "selectable": false
      }
     },
     "e32bafa3260b459aa76f02afbfbc55ce": {
      "model_module": "jupyter-cytoscape",
      "model_module_version": "^1.3.3",
      "model_name": "GraphModel",
      "state": {
       "_adj": {
        "2090262": {},
        "2114764": {},
        "2117627": {},
        "2117852": {},
        "2117878": {},
        "2118151": {},
        "2118729": {},
        "2119566": {},
        "2120010": {},
        "2120121": {},
        "2120570": {},
        "2121576": {},
        "2123100": {},
        "2123169": {},
        "2133161": {},
        "2148547": {},
        "2150560": {},
        "2150770": {},
        "2152386": {},
        "2156482": {},
        "2158393": {},
        "2192118": {},
        "2368281": {},
        "449604": {}
       },
       "_model_module_version": "^1.3.3",
       "_view_module": "jupyter-cytoscape",
       "_view_module_version": "^1.3.3",
       "edges": [
        "IPY_MODEL_6f8b996b8e4c4a1ebebd7e5c401e62f9",
        "IPY_MODEL_dce6e8a6f6704f7f92ce7002dabbb437",
        "IPY_MODEL_47f035bee2664e32a396fd08673a5b01",
        "IPY_MODEL_1735622cf9544f939502a27749200590",
        "IPY_MODEL_4a350fc5f46b4e4aa7ee6e6763ba0537",
        "IPY_MODEL_1bdc7c5abfe1436489cc755086eea39e",
        "IPY_MODEL_7b8333ab40314ccd9125877deb124e59",
        "IPY_MODEL_f18dde101c444f4e9abf32d431dd48ce",
        "IPY_MODEL_9094ac8ab520496ba636b8a7ce276a04",
        "IPY_MODEL_423188a8ea374583b614a23f552dd229",
        "IPY_MODEL_7bbf239c6c484ed3940fbda2e80219ca",
        "IPY_MODEL_2d293b77f1964570bfa1a4e54da9cff8",
        "IPY_MODEL_f33425ded37345ffbc8f5d99b2385f19",
        "IPY_MODEL_8508a1c43316456191d403190b03c282",
        "IPY_MODEL_049ddfe621074c37b1970c6b46c8e947",
        "IPY_MODEL_ce219cbbdca2425a877ea7bd99583c94",
        "IPY_MODEL_d9077a3ac5564136ad08501450155348",
        "IPY_MODEL_ce14ad7a480949009c88dcc759908d64",
        "IPY_MODEL_a07bddb07cfa47d0a10aebfd26daefeb",
        "IPY_MODEL_d0fbe739319e48b19b110cb00f4591d4",
        "IPY_MODEL_3ae834d86be74ea4b87133d81e2d91c4",
        "IPY_MODEL_abf9829062df4a59834f34ca1eefb5cd",
        "IPY_MODEL_2092d10bb6ab4174abd718325e8ac7b0",
        "IPY_MODEL_f167d18858ae4d70b7458ba8da8e7a47",
        "IPY_MODEL_20fb79413cfe44cfbc747131d45257f6",
        "IPY_MODEL_8019d1a895074a92839c4a55ed89220e",
        "IPY_MODEL_e5c1f2d6afdc49afb678e06eabdac312",
        "IPY_MODEL_15bfd23267b8484f98aaf43d665bb81b",
        "IPY_MODEL_d31e866c72324d1ab6215e941c015e0d",
        "IPY_MODEL_0b381a0b99974cf7a24dcad76cda6ef2",
        "IPY_MODEL_b0fbc74761e347ffbb706fd233472af2",
        "IPY_MODEL_b2cac1d086644b8082924d8c8668b5d3",
        "IPY_MODEL_29d30408681541c5991813683ad7928a",
        "IPY_MODEL_f2c576f4712e4a799048b32f839b03e9",
        "IPY_MODEL_6eb0a8541f44403e83e9ecad463560fc",
        "IPY_MODEL_42361942420b426080f499ba536aae17",
        "IPY_MODEL_a753ca81e23c46a7ac6ec9fb5054ee4b",
        "IPY_MODEL_5e6bc18c4574410db61318a9d5dcee4f"
       ],
       "nodes": [
        "IPY_MODEL_7c73ab4e59c246c9b8979600bbab0056",
        "IPY_MODEL_b7cc2077018a46b7939108a4629082b3",
        "IPY_MODEL_3522c3a95b1b46b095db00c37497bdaf",
        "IPY_MODEL_870582fc9ddc4beea1cea532951ac4c3",
        "IPY_MODEL_25f02d37e63647f2a6bcb67bac261df9",
        "IPY_MODEL_1b9dee73347244e888928cf4966cc68d",
        "IPY_MODEL_303e95c63d63403aa75b442f8ee89d77",
        "IPY_MODEL_6ed869b9ef7941bf833a8344943d003d",
        "IPY_MODEL_2d4a1de5e7c94e4d9a1dbacd73af0017",
        "IPY_MODEL_66ed5d4a177247b593c9c98551cb4ff4",
        "IPY_MODEL_87094f6a4e1549b28db9bae6c37f4025",
        "IPY_MODEL_5caac76d6d344b629cb0674a74066af9",
        "IPY_MODEL_3301925721e046b3adc240b05a16d808",
        "IPY_MODEL_1ffa16d5aa2f4cdc8a4df2fe5293dc60",
        "IPY_MODEL_8a8d7cd36e22443da26a0b28b58bee06",
        "IPY_MODEL_b7de32ce693c40adba1b53999dc88fbc",
        "IPY_MODEL_0db5aec9ecfe4b0797f7d65112e6cc16",
        "IPY_MODEL_62579aea6222440a9c2d5f82dd79f61b",
        "IPY_MODEL_e9d66bdd1fb1418ca7613e6b762e9dcc",
        "IPY_MODEL_8eb5b3dc4e744ee39ebac2139cc5d877",
        "IPY_MODEL_1c5d51ce54af41c39f3c5122dafc44a8",
        "IPY_MODEL_c2576d12e6f149058a597a69023707cf",
        "IPY_MODEL_d7afcaff05d14abcb04351340d681399",
        "IPY_MODEL_c5d544c28fb746d48c2fd2be550bbbec"
       ]
      }
     },
     "e5c1f2d6afdc49afb678e06eabdac312": {
      "model_module": "jupyter-cytoscape",
      "model_module_version": "^1.3.3",
      "model_name": "EdgeModel",
      "state": {
       "_model_module_version": "^1.3.3",
       "_view_module_version": "^1.3.3",
       "data": {
        "_igraph_index": 13,
        "id": "c6c176a4-4869-449c-8b3a-bb4423e9dfd0",
        "source": "2118151",
        "target": "2118729",
        "type": "INTERACTS_PiP"
       },
       "selectable": false
      }
     },
     "e7b5e5bccec84768a129a409f484ac40": {
      "model_module": "jupyter-cytoscape",
      "model_module_version": "^1.3.3",
      "model_name": "EdgeModel",
      "state": {
       "_model_module_version": "^1.3.3",
       "_view_module_version": "^1.3.3",
       "data": {
        "_igraph_index": 4,
        "id": "e9cae88f-fc07-4371-8234-401fc25d78ab",
        "source": "2117596",
        "target": "2117758",
        "type": "INTERACTS_PiP"
       },
       "selectable": false
      }
     },
     "e7ee4d6b33654553ae299a9c467e8bb6": {
      "model_module": "jupyter-cytoscape",
      "model_module_version": "^1.3.3",
      "model_name": "NodeModel",
      "state": {
       "_model_module_version": "^1.3.3",
       "_view_module_version": "^1.3.3",
       "data": {
        "_igraph_index": 22,
        "category": "Gene",
        "feature_name": "IL4R",
        "id": "2192615",
        "identifier": 3566,
        "in_query": 0,
        "name": "2192615",
        "source": "Entrez Gene"
       },
       "grabbable": true,
       "grabbed": false,
       "position": {
        "x": 626.8534002962399,
        "y": 594.2246528352106
       },
       "selectable": false
      }
     },
     "e9d66bdd1fb1418ca7613e6b762e9dcc": {
      "model_module": "jupyter-cytoscape",
      "model_module_version": "^1.3.3",
      "model_name": "NodeModel",
      "state": {
       "_model_module_version": "^1.3.3",
       "_view_module_version": "^1.3.3",
       "data": {
        "_igraph_index": 18,
        "category": "Protein",
        "feature_name": "PD1L2_HUMAN",
        "id": "2150770",
        "identifier": "Q9BQ51",
        "in_query": 1,
        "name": "2150770",
        "source": "UniProt"
       },
       "grabbable": true,
       "grabbed": false,
       "position": {
        "x": 304.711165894111,
        "y": 327.0817995881723
       },
       "selectable": false
      }
     },
     "ea94143f473540cb8b698e63770a9d79": {
      "model_module": "jupyter-cytoscape",
      "model_module_version": "^1.3.3",
      "model_name": "EdgeModel",
      "state": {
       "_model_module_version": "^1.3.3",
       "_view_module_version": "^1.3.3",
       "data": {
        "_igraph_index": 30,
        "id": "b18ce22e-f97e-49ab-96a0-8565b4a6448f",
        "source": "2117596",
        "target": "2156823",
        "type": "INTERACTS_PiP"
       },
       "selectable": false
      }
     },
     "eac85512f5864b1da9d2c4aa4609e7c6": {
      "model_module": "jupyter-cytoscape",
      "model_module_version": "^1.3.3",
      "model_name": "EdgeModel",
      "state": {
       "_model_module_version": "^1.3.3",
       "_view_module_version": "^1.3.3",
       "data": {
        "_igraph_index": 17,
        "id": "07231772-6fbb-4169-9ae4-6de4946b26c3",
        "source": "2123512",
        "target": "2117882",
        "type": "INTERACTS_PiP"
       },
       "selectable": false
      }
     },
     "f167d18858ae4d70b7458ba8da8e7a47": {
      "model_module": "jupyter-cytoscape",
      "model_module_version": "^1.3.3",
      "model_name": "EdgeModel",
      "state": {
       "_model_module_version": "^1.3.3",
       "_view_module_version": "^1.3.3",
       "data": {
        "_igraph_index": 17,
        "id": "c082053d-51cb-49b9-9806-ba3916911909",
        "source": "2117852",
        "target": "2120121",
        "type": "INTERACTS_PiP"
       },
       "selectable": false
      }
     },
     "f18dde101c444f4e9abf32d431dd48ce": {
      "model_module": "jupyter-cytoscape",
      "model_module_version": "^1.3.3",
      "model_name": "EdgeModel",
      "state": {
       "_model_module_version": "^1.3.3",
       "_view_module_version": "^1.3.3",
       "data": {
        "_igraph_index": 14,
        "id": "32f288b8-5764-4b5b-8031-d979dee3c921",
        "source": "2120121",
        "target": "2090262",
        "type": "INTERACTS_PiP"
       },
       "selectable": false
      }
     },
     "f1a2dec8c66b48e48365e5a38e2cf7a3": {
      "model_module": "jupyter-cytoscape",
      "model_module_version": "^1.3.3",
      "model_name": "NodeModel",
      "state": {
       "_model_module_version": "^1.3.3",
       "_view_module_version": "^1.3.3",
       "data": {
        "_igraph_index": 5,
        "category": "Protein",
        "feature_name": "APOE_HUMAN",
        "id": "2117723",
        "identifier": "P02649",
        "in_query": 0,
        "name": "2117723",
        "source": "UniProt"
       },
       "grabbable": true,
       "grabbed": false,
       "position": {
        "x": 821.8534012962399,
        "y": 589.2246528352106
       },
       "selectable": false
      }
     },
     "f2c576f4712e4a799048b32f839b03e9": {
      "model_module": "jupyter-cytoscape",
      "model_module_version": "^1.3.3",
      "model_name": "EdgeModel",
      "state": {
       "_model_module_version": "^1.3.3",
       "_view_module_version": "^1.3.3",
       "data": {
        "_igraph_index": 23,
        "id": "d39ae5e5-1200-4f39-a96b-2c32b30ffea4",
        "source": "2120121",
        "target": "2148547",
        "type": "INTERACTS_PiP"
       },
       "selectable": false
      }
     },
     "f33425ded37345ffbc8f5d99b2385f19": {
      "model_module": "jupyter-cytoscape",
      "model_module_version": "^1.3.3",
      "model_name": "EdgeModel",
      "state": {
       "_model_module_version": "^1.3.3",
       "_view_module_version": "^1.3.3",
       "data": {
        "_igraph_index": 31,
        "id": "86e2b0ae-927f-4e37-95d8-9d0db774a6f5",
        "source": "2114764",
        "target": "2158393",
        "type": "INTERACTS_PiP"
       },
       "selectable": false
      }
     },
     "f33f7811a61f446ba3862d4f1264cfd3": {
      "model_module": "jupyter-cytoscape",
      "model_module_version": "^1.3.3",
      "model_name": "EdgeModel",
      "state": {
       "_model_module_version": "^1.3.3",
       "_view_module_version": "^1.3.3",
       "data": {
        "_igraph_index": 13,
        "id": "f6242338-f793-4488-89e3-a62cc214fd08",
        "source": "2117882",
        "target": "2117883",
        "type": "INTERACTS_PiP"
       },
       "selectable": false
      }
     },
     "fa7bbd1dd19740308250d2a5121bf3d5": {
      "model_module": "jupyter-cytoscape",
      "model_module_version": "^1.3.3",
      "model_name": "EdgeModel",
      "state": {
       "_model_module_version": "^1.3.3",
       "_view_module_version": "^1.3.3",
       "data": {
        "_igraph_index": 37,
        "id": "bbc5b6f8-3f8d-4f93-9e05-89d8f7130a0c",
        "source": "2365529",
        "target": "2120895",
        "type": "PARTOF_PDpP"
       },
       "selectable": false
      }
     },
     "fae130d5a5e04cd6a37e7316b2dbcc0b": {
      "model_module": "jupyter-cytoscape",
      "model_module_version": "^1.3.3",
      "model_name": "EdgeModel",
      "state": {
       "_model_module_version": "^1.3.3",
       "_view_module_version": "^1.3.3",
       "data": {
        "_igraph_index": 7,
        "id": "86f3563b-a44e-459b-893f-ea7e04cb7baa",
        "source": "2117882",
        "target": "2117596",
        "type": "INTERACTS_PiP"
       },
       "selectable": false
      }
     },
     "fc021a17620d4a6798c2c8719764c645": {
      "model_module": "jupyter-cytoscape",
      "model_module_version": "^1.3.3",
      "model_name": "EdgeModel",
      "state": {
       "_model_module_version": "^1.3.3",
       "_view_module_version": "^1.3.3",
       "data": {
        "_igraph_index": 35,
        "id": "afad5b5b-4793-41cb-80de-af0d831ba91c",
        "source": "2192646",
        "target": "2123294",
        "type": "ENCODES_GeP"
       },
       "selectable": false
      }
     },
     "fe223609d27e45c09c2739ac0e0c3adf": {
      "model_module": "jupyter-cytoscape",
      "model_module_version": "^1.3.3",
      "model_name": "EdgeModel",
      "state": {
       "_model_module_version": "^1.3.3",
       "_view_module_version": "^1.3.3",
       "data": {
        "_igraph_index": 16,
        "id": "f4694f88-7b43-4336-ae53-5bbf744b3b2b",
        "source": "2123512",
        "target": "2117596",
        "type": "INTERACTS_PiP"
       },
       "selectable": false
      }
     },
     "fe738a26c710478f9d4996adeff64fec": {
      "model_module": "jupyter-cytoscape",
      "model_module_version": "^1.3.3",
      "model_name": "EdgeModel",
      "state": {
       "_model_module_version": "^1.3.3",
       "_view_module_version": "^1.3.3",
       "data": {
        "_igraph_index": 14,
        "id": "9a3d1eca-05d6-446b-a758-b87b99d11be3",
        "source": "2117596",
        "target": "2122397",
        "type": "INTERACTS_PiP"
       },
       "selectable": false
      }
     },
     "ff851d2567fb4fb8aa180935bd9bc588": {
      "model_module": "jupyter-cytoscape",
      "model_module_version": "^1.3.3",
      "model_name": "NodeModel",
      "state": {
       "_model_module_version": "^1.3.3",
       "_view_module_version": "^1.3.3",
       "data": {
        "_igraph_index": 21,
        "category": "Gene",
        "feature_name": "EGF",
        "id": "2191411",
        "identifier": 1950,
        "in_query": 0,
        "name": "2191411",
        "source": "Entrez Gene"
       },
       "grabbable": true,
       "grabbed": false,
       "position": {
        "x": 821.8534012962399,
        "y": 399.2246518352105
       },
       "selectable": false
      }
     }
    },
    "version_major": 2,
    "version_minor": 0
   }
  }
 },
 "nbformat": 4,
 "nbformat_minor": 5
}
