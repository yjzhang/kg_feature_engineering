{
 "cells": [
  {
   "cell_type": "markdown",
   "id": "0092d429-3154-45a4-ab02-8513c917b817",
   "metadata": {},
   "source": [
    "# Using KGFE to understand important features\n",
    "\n",
    "Basically, given a list of genes/proteins/metabolites, we want to identify stuff on the graph."
   ]
  },
  {
   "cell_type": "code",
   "execution_count": null,
   "id": "ff0a0050-431b-45eb-8028-4dae64f9704b",
   "metadata": {},
   "outputs": [],
   "source": []
  }
 ],
 "metadata": {
  "kernelspec": {
   "display_name": "Python 3 (ipykernel)",
   "language": "python",
   "name": "python3"
  },
  "language_info": {
   "codemirror_mode": {
    "name": "ipython",
    "version": 3
   },
   "file_extension": ".py",
   "mimetype": "text/x-python",
   "name": "python",
   "nbconvert_exporter": "python",
   "pygments_lexer": "ipython3",
   "version": "3.10.6"
  }
 },
 "nbformat": 4,
 "nbformat_minor": 5
}
