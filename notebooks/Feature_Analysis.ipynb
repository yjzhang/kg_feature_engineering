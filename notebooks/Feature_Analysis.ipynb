{
 "cells": [
  {
   "cell_type": "markdown",
   "id": "0092d429-3154-45a4-ab02-8513c917b817",
   "metadata": {},
   "source": [
    "# Using KGFE to understand important features\n",
    "\n",
    "Basically, given a list of genes/proteins/metabolites that are mapped onto SPOKE, we want to identify nodes on the graph that are in some way \"similar\" to the input nodes."
   ]
  },
  {
   "cell_type": "code",
   "execution_count": 1,
   "id": "c6250232-7de2-4990-a1ef-be6d33382169",
   "metadata": {},
   "outputs": [],
   "source": [
    "# imports\n",
    "import numpy as np\n",
    "import pandas as pd\n",
    "import networkx as nx\n",
    "import kgfe"
   ]
  },
  {
   "cell_type": "markdown",
   "id": "4dcc3c54-95c4-42ee-8468-df214c00fa93",
   "metadata": {},
   "source": [
    "## 1. Load genes"
   ]
  },
  {
   "cell_type": "code",
   "execution_count": 2,
   "id": "ff0a0050-431b-45eb-8028-4dae64f9704b",
   "metadata": {},
   "outputs": [],
   "source": [
    "data = pd.read_excel('LC_Male_proteins_for_KG.xlsx')"
   ]
  },
  {
   "cell_type": "code",
   "execution_count": 3,
   "id": "c083b043-3772-40c0-a0a9-7c450da5c1a6",
   "metadata": {},
   "outputs": [
    {
     "data": {
      "text/html": [
       "<div>\n",
       "<style scoped>\n",
       "    .dataframe tbody tr th:only-of-type {\n",
       "        vertical-align: middle;\n",
       "    }\n",
       "\n",
       "    .dataframe tbody tr th {\n",
       "        vertical-align: top;\n",
       "    }\n",
       "\n",
       "    .dataframe thead th {\n",
       "        text-align: right;\n",
       "    }\n",
       "</style>\n",
       "<table border=\"1\" class=\"dataframe\">\n",
       "  <thead>\n",
       "    <tr style=\"text-align: right;\">\n",
       "      <th></th>\n",
       "      <th>UniProt</th>\n",
       "      <th>ProteinName</th>\n",
       "    </tr>\n",
       "  </thead>\n",
       "  <tbody>\n",
       "    <tr>\n",
       "      <th>0</th>\n",
       "      <td>P08697</td>\n",
       "      <td>A2AP</td>\n",
       "    </tr>\n",
       "    <tr>\n",
       "      <th>1</th>\n",
       "      <td>Q15848</td>\n",
       "      <td>ADIPO</td>\n",
       "    </tr>\n",
       "    <tr>\n",
       "      <th>2</th>\n",
       "      <td>P02760</td>\n",
       "      <td>AMBP</td>\n",
       "    </tr>\n",
       "    <tr>\n",
       "      <th>3</th>\n",
       "      <td>P15144</td>\n",
       "      <td>AMPN</td>\n",
       "    </tr>\n",
       "    <tr>\n",
       "      <th>4</th>\n",
       "      <td>P01019</td>\n",
       "      <td>ANGT</td>\n",
       "    </tr>\n",
       "  </tbody>\n",
       "</table>\n",
       "</div>"
      ],
      "text/plain": [
       "  UniProt ProteinName\n",
       "0  P08697        A2AP\n",
       "1  Q15848       ADIPO\n",
       "2  P02760        AMBP\n",
       "3  P15144        AMPN\n",
       "4  P01019        ANGT"
      ]
     },
     "execution_count": 3,
     "metadata": {},
     "output_type": "execute_result"
    }
   ],
   "source": [
    "data.head()"
   ]
  },
  {
   "cell_type": "code",
   "execution_count": 18,
   "id": "7f3a47a3-55b9-4575-b427-2c0cc2e39138",
   "metadata": {},
   "outputs": [
    {
     "data": {
      "text/plain": [
       "(46, 2)"
      ]
     },
     "execution_count": 18,
     "metadata": {},
     "output_type": "execute_result"
    }
   ],
   "source": [
    "data.shape"
   ]
  },
  {
   "cell_type": "markdown",
   "id": "32192a6e-ce81-4b4a-bc98-125127b8bb3f",
   "metadata": {},
   "source": [
    "## 2. Load SPOKE"
   ]
  },
  {
   "cell_type": "code",
   "execution_count": 6,
   "id": "59654aa5-57e6-4830-ba41-0c7031312f3c",
   "metadata": {},
   "outputs": [],
   "source": [
    "spoke_graph = kgfe.spoke_loader.load_spoke_networkx('../../graph_utils/spoke_2021.jsonl.gz', directed=True,\n",
    "                                                    verbose=False)"
   ]
  },
  {
   "cell_type": "code",
   "execution_count": 8,
   "id": "10aa287c-8b18-47f7-b9c4-fe1e669b6912",
   "metadata": {},
   "outputs": [],
   "source": [
    "# undirected version of spoke graph\n",
    "spoke_graph_ud = nx.Graph(spoke_graph)"
   ]
  },
  {
   "cell_type": "code",
   "execution_count": 28,
   "id": "3cc23356-4474-4989-aa11-d1c23313c9e7",
   "metadata": {},
   "outputs": [],
   "source": [
    "spoke_ids = list(sorted(spoke_graph_ud.nodes.keys()))"
   ]
  },
  {
   "cell_type": "code",
   "execution_count": 9,
   "id": "b469d969-b3cb-4057-b6b1-5230a9fa062d",
   "metadata": {},
   "outputs": [],
   "source": [
    "# find all connected nodes from the t2d node, and extract that subgraph\n",
    "t2d_paths = nx.single_source_dijkstra(spoke_graph_ud, 2171832)\n",
    "spoke_t2d_subgraph = nx.subgraph(spoke_graph, t2d_paths[0].keys())"
   ]
  },
  {
   "cell_type": "code",
   "execution_count": 10,
   "id": "106d5f00-bc51-4638-aad4-853b5bd7a205",
   "metadata": {},
   "outputs": [
    {
     "data": {
      "text/plain": [
       "619452"
      ]
     },
     "execution_count": 10,
     "metadata": {},
     "output_type": "execute_result"
    }
   ],
   "source": [
    "len(spoke_t2d_subgraph)"
   ]
  },
  {
   "cell_type": "code",
   "execution_count": 11,
   "id": "7dbb9b32-eb1e-4b9d-97d6-820bf365defc",
   "metadata": {},
   "outputs": [],
   "source": [
    "names_to_ids = kgfe.graph_info.get_names_to_ids(spoke_graph_ud)"
   ]
  },
  {
   "cell_type": "markdown",
   "id": "7ca892ea-8812-4552-9128-c548fbadbc0c",
   "metadata": {},
   "source": [
    "### Map proteins to SPOKE nodes"
   ]
  },
  {
   "cell_type": "code",
   "execution_count": 17,
   "id": "057c2535-93e4-4b8d-90af-668684516c66",
   "metadata": {},
   "outputs": [],
   "source": [
    "prot_spoke_ids = [names_to_ids[p + '_HUMAN'] for p in data.ProteinName]"
   ]
  },
  {
   "cell_type": "markdown",
   "id": "369184af-41d9-4de4-bbf7-a71fb38676c4",
   "metadata": {},
   "source": [
    "## 3. Run topic PageRank"
   ]
  },
  {
   "cell_type": "code",
   "execution_count": 24,
   "id": "c1561011-2507-43a8-aa07-b24fd0e1fd27",
   "metadata": {},
   "outputs": [],
   "source": [
    "pr_results_personalized = nx.pagerank(spoke_graph_ud, personalization={i: 1 for i in prot_spoke_ids})"
   ]
  },
  {
   "cell_type": "code",
   "execution_count": 25,
   "id": "130dea2f-f133-4683-87dd-e4b923096b6e",
   "metadata": {},
   "outputs": [],
   "source": [
    "pr_results_base = nx.pagerank(spoke_graph_ud)"
   ]
  },
  {
   "cell_type": "markdown",
   "id": "76c7fdb1-8f33-4986-a982-ba1dfa7aa1d8",
   "metadata": {},
   "source": [
    "pr_results_ratio is the ratio between the topic pagerank results and the baseline pagerank results - this indicates the increase in likelihood that the nodes will be visited in a personalized random walk, and is an attempt to control for nodes that are important globally."
   ]
  },
  {
   "cell_type": "code",
   "execution_count": 39,
   "id": "25df7f99-b8e6-45fb-a20d-4cb07e86b4ef",
   "metadata": {},
   "outputs": [],
   "source": [
    "pr_results_ratio = {x: pr_results_personalized[x]/pr_results_base[x] for x in spoke_ids}"
   ]
  },
  {
   "cell_type": "markdown",
   "id": "fccb4f5b-20dc-4297-a629-a2440c9a2eb3",
   "metadata": {},
   "source": [
    "### Analyzing PageRank results"
   ]
  },
  {
   "cell_type": "code",
   "execution_count": 40,
   "id": "49185655-02d1-4126-b936-4ff9b3537150",
   "metadata": {},
   "outputs": [],
   "source": [
    "from collections import Counter"
   ]
  },
  {
   "cell_type": "code",
   "execution_count": 41,
   "id": "883dd62b-f3e8-402b-86fc-c6efbef5b3ce",
   "metadata": {},
   "outputs": [],
   "source": [
    "pr_results_personalized = Counter(pr_results_personalized)\n",
    "pr_results_base = Counter(pr_results_base)\n",
    "pr_results_ratio = Counter(pr_results_ratio)"
   ]
  },
  {
   "cell_type": "code",
   "execution_count": 57,
   "id": "4bebc915-9139-4425-88ee-ee0f6916b44f",
   "metadata": {},
   "outputs": [],
   "source": [
    "top_nodes = []\n",
    "prot_spoke_ids_set = set(prot_spoke_ids)\n",
    "for node_id, score in pr_results_personalized.most_common():\n",
    "    if node_id in prot_spoke_ids_set:\n",
    "        continue\n",
    "    node = spoke_graph_ud.nodes[node_id].copy()\n",
    "    node['score'] = score\n",
    "    top_nodes.append(node)"
   ]
  },
  {
   "cell_type": "code",
   "execution_count": 60,
   "id": "b0d39d71-6634-4f51-9a64-7976057966c9",
   "metadata": {},
   "outputs": [],
   "source": [
    "top_nodes_ratio = []\n",
    "prot_spoke_ids_set = set(prot_spoke_ids)\n",
    "for node_id, score in pr_results_ratio.most_common():\n",
    "    if node_id in prot_spoke_ids_set:\n",
    "        continue\n",
    "    node = spoke_graph_ud.nodes[node_id].copy()\n",
    "    node['score'] = score\n",
    "    top_nodes_ratio.append(node)"
   ]
  },
  {
   "cell_type": "code",
   "execution_count": 63,
   "id": "49ae113b-9b74-4386-96fe-36274bd48786",
   "metadata": {
    "scrolled": true,
    "tags": []
   },
   "outputs": [
    {
     "data": {
      "text/plain": [
       "[{'name': 'Class I Histocompatibility antigen, domains alpha 1 and 2',\n",
       "  'type': 'ProteinDomain',\n",
       "  'score': 0.014052099904896458},\n",
       " {'name': 'Immunoglobulin V-set domain',\n",
       "  'type': 'ProteinDomain',\n",
       "  'score': 0.009593095787071584},\n",
       " {'name': 'Immunoglobulin C1-set domain',\n",
       "  'type': 'ProteinDomain',\n",
       "  'score': 0.007333218380874164},\n",
       " {'name': 'Class II histocompatibility antigen, beta domain',\n",
       "  'type': 'ProteinDomain',\n",
       "  'score': 0.006994964128005253},\n",
       " {'name': 'PAN domain',\n",
       "  'type': 'ProteinDomain',\n",
       "  'score': 0.003838088304892079},\n",
       " {'name': 'Q5JVE7_HUMAN', 'type': 'Protein', 'score': 0.003526009688446931},\n",
       " {'name': 'Serpin (serine protease inhibitor)',\n",
       "  'type': 'ProteinDomain',\n",
       "  'score': 0.0024583139713069183},\n",
       " {'name': 'MHC_I C-terminus',\n",
       "  'type': 'ProteinDomain',\n",
       "  'score': 0.0023184693994324134},\n",
       " {'name': 'MTP_HUMAN', 'type': 'Protein', 'score': 0.00200710355108015},\n",
       " {'name': 'KCNH2_HUMAN', 'type': 'Protein', 'score': 0.0015809609869887552},\n",
       " {'name': 'A0A090N8Q0_HUMAN',\n",
       "  'type': 'Protein',\n",
       "  'score': 0.0015646709584971772},\n",
       " {'name': 'SERPING1', 'type': 'Gene', 'score': 0.0014057390176584414},\n",
       " {'name': 'TRY1_HUMAN', 'type': 'Protein', 'score': 0.0014032525870616738},\n",
       " {'name': 'ACES_HUMAN', 'type': 'Protein', 'score': 0.001395433936613931},\n",
       " {'name': 'PGH2_HUMAN', 'type': 'Protein', 'score': 0.0013633126689780908},\n",
       " {'name': 'RENI_HUMAN', 'type': 'Protein', 'score': 0.0013239358387014963},\n",
       " {'name': 'DRD2_HUMAN', 'type': 'Protein', 'score': 0.0012539540583940405},\n",
       " {'name': 'MCHR1_HUMAN', 'type': 'Protein', 'score': 0.0012347823872735724},\n",
       " {'name': 'EGFR_HUMAN', 'type': 'Protein', 'score': 0.001171592905863115},\n",
       " {'name': 'A0A024R3C5_HUMAN',\n",
       "  'type': 'Protein',\n",
       "  'score': 0.0011566249153586192},\n",
       " {'name': 'ELNE_HUMAN', 'type': 'Protein', 'score': 0.0011274265252703914},\n",
       " {'name': 'MMP2_HUMAN', 'type': 'Protein', 'score': 0.001103336325766248},\n",
       " {'name': 'CNR2_HUMAN', 'type': 'Protein', 'score': 0.001085174880167418},\n",
       " {'name': 'HRH3_HUMAN', 'type': 'Protein', 'score': 0.0010798200221908368},\n",
       " {'name': 'AA2AR_HUMAN', 'type': 'Protein', 'score': 0.0010539424308104227},\n",
       " {'name': 'DPP4_HUMAN', 'type': 'Protein', 'score': 0.0010490450983663099},\n",
       " {'name': 'NK1R_HUMAN', 'type': 'Protein', 'score': 0.0010376910847796448},\n",
       " {'name': 'A0A024RAH7_HUMAN',\n",
       "  'type': 'Protein',\n",
       "  'score': 0.001028622148516629},\n",
       " {'name': 'TRPV1_HUMAN', 'type': 'Protein', 'score': 0.0010158790861921584},\n",
       " {'name': 'FA11_HUMAN', 'type': 'Protein', 'score': 0.001002698592860691},\n",
       " {'name': 'VGFR2_HUMAN', 'type': 'Protein', 'score': 0.0010015084975314194},\n",
       " {'name': 'ATP synthase A chain',\n",
       "  'type': 'ProteinDomain',\n",
       "  'score': 0.0009906513725054},\n",
       " {'name': 'X5DNB4_HUMAN', 'type': 'Protein', 'score': 0.0009857762767327134},\n",
       " {'name': 'OPRD_HUMAN', 'type': 'Protein', 'score': 0.000984567872710951},\n",
       " {'name': 'CRFR1_HUMAN', 'type': 'Protein', 'score': 0.0009842186455639602},\n",
       " {'name': 'UROK_HUMAN', 'type': 'Protein', 'score': 0.000977826582394177},\n",
       " {'name': 'Proton-conducting membrane transporter',\n",
       "  'type': 'ProteinDomain',\n",
       "  'score': 0.0009670760961581089},\n",
       " {'name': 'CNR1_HUMAN', 'type': 'Protein', 'score': 0.0009591880120455816},\n",
       " {'name': 'S5TLS4_HUMAN', 'type': 'Protein', 'score': 0.0009563086288649507},\n",
       " {'name': 'OPRK_HUMAN', 'type': 'Protein', 'score': 0.000945976571286679},\n",
       " {'name': 'GRM5_HUMAN', 'type': 'Protein', 'score': 0.0009316350174762775},\n",
       " {'name': 'A0A024RC61_HUMAN',\n",
       "  'type': 'Protein',\n",
       "  'score': 0.0009177833569530824},\n",
       " {'name': 'AA1R_HUMAN', 'type': 'Protein', 'score': 0.0009082365732851262},\n",
       " {'name': 'OPRM_HUMAN', 'type': 'Protein', 'score': 0.0009058502138274434},\n",
       " {'name': 'AA3R_HUMAN', 'type': 'Protein', 'score': 0.0008830461051526653},\n",
       " {'name': 'CHLE_HUMAN', 'type': 'Protein', 'score': 0.0008754420280777083},\n",
       " {'name': 'BACE1_HUMAN', 'type': 'Protein', 'score': 0.0008538389713933821},\n",
       " {'name': 'A0A024R3D7_HUMAN',\n",
       "  'type': 'Protein',\n",
       "  'score': 0.000853155889348523},\n",
       " {'name': 'A0A024R6R4_HUMAN',\n",
       "  'type': 'Protein',\n",
       "  'score': 0.0008526303984938698},\n",
       " {'name': 'MK14_HUMAN', 'type': 'Protein', 'score': 0.0008479194748798482}]"
      ]
     },
     "execution_count": 63,
     "metadata": {},
     "output_type": "execute_result"
    }
   ],
   "source": [
    "top_nodes[:50]"
   ]
  },
  {
   "cell_type": "code",
   "execution_count": 64,
   "id": "907d1050-99e4-4620-a7a0-d193886a873c",
   "metadata": {
    "scrolled": true,
    "tags": []
   },
   "outputs": [
    {
     "data": {
      "text/plain": [
       "[{'name': 'SERPING1', 'type': 'Gene', 'score': 356.7343204826498},\n",
       " {'name': 'ZBTB42', 'type': 'Gene', 'score': 233.5445499332574},\n",
       " {'name': 'PAN domain', 'type': 'ProteinDomain', 'score': 223.2769966297023},\n",
       " {'name': 'ZG16B_HUMAN', 'type': 'Protein', 'score': 201.00653297752825},\n",
       " {'name': 'ASPIC and UnbV',\n",
       "  'type': 'ProteinDomain',\n",
       "  'score': 191.94419487348162},\n",
       " {'name': 'B7Z3P3_HUMAN', 'type': 'Protein', 'score': 180.46124364223613},\n",
       " {'name': 'C9J075_HUMAN', 'type': 'Protein', 'score': 180.46124364223613},\n",
       " {'name': 'C9JCT1_HUMAN', 'type': 'Protein', 'score': 180.46124364223613},\n",
       " {'name': 'C9JDP4_HUMAN', 'type': 'Protein', 'score': 180.46124364223613},\n",
       " {'name': 'C9JS80_HUMAN', 'type': 'Protein', 'score': 180.46124364223613},\n",
       " {'name': 'D6RB32_HUMAN', 'type': 'Protein', 'score': 180.46124364223613},\n",
       " {'name': 'F8WCD6_HUMAN', 'type': 'Protein', 'score': 180.46124364223613},\n",
       " {'name': 'H0Y596_HUMAN', 'type': 'Protein', 'score': 180.46124364223613},\n",
       " {'name': 'Q53QL7_HUMAN', 'type': 'Protein', 'score': 180.46124364223613},\n",
       " {'name': 'Q9UE70_HUMAN', 'type': 'Protein', 'score': 180.46124364223613},\n",
       " {'name': 'Q9UEG0_HUMAN', 'type': 'Protein', 'score': 180.46124364223613},\n",
       " {'name': 'A0A2R8YEI1_HUMAN', 'type': 'Protein', 'score': 137.81457266486623},\n",
       " {'name': 'A6PVI2_HUMAN', 'type': 'Protein', 'score': 137.81457266486623},\n",
       " {'name': 'B4DPN1_HUMAN', 'type': 'Protein', 'score': 137.81457266486623},\n",
       " {'name': 'B4DPQ8_HUMAN', 'type': 'Protein', 'score': 137.81457266486623},\n",
       " {'name': 'B7Z250_HUMAN', 'type': 'Protein', 'score': 137.81457266486623},\n",
       " {'name': 'B7Z538_HUMAN', 'type': 'Protein', 'score': 137.81457266486623},\n",
       " {'name': 'C9WSJ3_HUMAN', 'type': 'Protein', 'score': 137.81457266486623},\n",
       " {'name': 'C9WSJ4_HUMAN', 'type': 'Protein', 'score': 137.81457266486623},\n",
       " {'name': 'Q59H59_HUMAN', 'type': 'Protein', 'score': 137.81457266486623},\n",
       " {'name': 'Q5TEH5_HUMAN', 'type': 'Protein', 'score': 135.37216978621586},\n",
       " {'name': 'BDH2_HUMAN', 'type': 'Protein', 'score': 135.3250433693411},\n",
       " {'name': 'O52M1_HUMAN', 'type': 'Protein', 'score': 130.34361874007277},\n",
       " {'name': 'FOXQ1_HUMAN', 'type': 'Protein', 'score': 128.12997577224095},\n",
       " {'name': 'A8K9A9_HUMAN', 'type': 'Protein', 'score': 122.53978239248863},\n",
       " {'name': 'B4DMX2_HUMAN', 'type': 'Protein', 'score': 122.53978239248863},\n",
       " {'name': 'E9PBC5_HUMAN', 'type': 'Protein', 'score': 122.53978239248863},\n",
       " {'name': 'CHEMBL358768', 'type': 'Compound', 'score': 118.51158782947903},\n",
       " {'name': 'CHEMBL143610', 'type': 'Compound', 'score': 118.51158782947903},\n",
       " {'name': 'CHEMBL143535', 'type': 'Compound', 'score': 118.51158782947903},\n",
       " {'name': 'CHEMBL358538', 'type': 'Compound', 'score': 118.51158782947903},\n",
       " {'name': 'CHEMBL140754', 'type': 'Compound', 'score': 118.51158782947903},\n",
       " {'name': 'CHEMBL359428', 'type': 'Compound', 'score': 118.51158782947903},\n",
       " {'name': 'CHEMBL359248', 'type': 'Compound', 'score': 118.51158782947903},\n",
       " {'name': 'CHEMBL139992', 'type': 'Compound', 'score': 118.51158782947903},\n",
       " {'name': 'CHEMBL141881', 'type': 'Compound', 'score': 118.51158782947903},\n",
       " {'name': 'CHEMBL422295', 'type': 'Compound', 'score': 118.51158782947903},\n",
       " {'name': 'CHEMBL412375', 'type': 'Compound', 'score': 118.51158782947903},\n",
       " {'name': 'CHEMBL141014', 'type': 'Compound', 'score': 118.51158782947903},\n",
       " {'name': 'CHEMBL344439', 'type': 'Compound', 'score': 118.51158782947903},\n",
       " {'name': 'CHEMBL142272', 'type': 'Compound', 'score': 118.51158782947903},\n",
       " {'name': 'CHEMBL143647', 'type': 'Compound', 'score': 118.51158782947903},\n",
       " {'name': 'CHEMBL356091', 'type': 'Compound', 'score': 118.51158782947903},\n",
       " {'name': 'CHEMBL142616', 'type': 'Compound', 'score': 118.51158782947903},\n",
       " {'name': 'CHEMBL344849', 'type': 'Compound', 'score': 118.51158782947903}]"
      ]
     },
     "execution_count": 64,
     "metadata": {},
     "output_type": "execute_result"
    }
   ],
   "source": [
    "top_nodes_ratio[:50]"
   ]
  },
  {
   "cell_type": "markdown",
   "id": "2fde7e66-81be-4b89-bf4d-340c544b5840",
   "metadata": {},
   "source": [
    "### Plot PageRank results"
   ]
  },
  {
   "cell_type": "code",
   "execution_count": 65,
   "id": "546471ef-70bb-43c9-96bd-e23890119fea",
   "metadata": {},
   "outputs": [],
   "source": [
    "import matplotlib.pyplot as plt"
   ]
  },
  {
   "cell_type": "code",
   "execution_count": null,
   "id": "824bea07-035b-4e57-900c-a61363bb8975",
   "metadata": {},
   "outputs": [],
   "source": [
    "fig, ax = plt.subplots(figsize=(4, 5))\n",
    "ax.tick_params(axis='both', which='major', labelsize=8)\n",
    "ax.barh([x[0] for x in top_genes[::-1]], [x[1] for x in top_genes[::-1]], )\n",
    "plt.title('Associated genes')\n",
    "ax.set_xlabel('PageRank score', fontsize=8)\n",
    "plt.tight_layout()"
   ]
  },
  {
   "cell_type": "markdown",
   "id": "f8d96b56-f6d9-405e-ad3e-c2123e819786",
   "metadata": {},
   "source": [
    "## 4. Construct Steiner trees for the gene query set"
   ]
  },
  {
   "cell_type": "markdown",
   "id": "b1a3227c-92e6-499c-ac55-99363d1e851b",
   "metadata": {},
   "source": [
    "In order to do Steiner trees, it's necessary to get a connected graph. We'll try to build a connected graph that includes all the proteins in the query set."
   ]
  },
  {
   "cell_type": "code",
   "execution_count": null,
   "id": "1adc005d-50b6-46e5-97e7-5b6f56e93797",
   "metadata": {},
   "outputs": [],
   "source": []
  }
 ],
 "metadata": {
  "kernelspec": {
   "display_name": "Python 3 (ipykernel)",
   "language": "python",
   "name": "python3"
  },
  "language_info": {
   "codemirror_mode": {
    "name": "ipython",
    "version": 3
   },
   "file_extension": ".py",
   "mimetype": "text/x-python",
   "name": "python",
   "nbconvert_exporter": "python",
   "pygments_lexer": "ipython3",
   "version": "3.10.6"
  }
 },
 "nbformat": 4,
 "nbformat_minor": 5
}
