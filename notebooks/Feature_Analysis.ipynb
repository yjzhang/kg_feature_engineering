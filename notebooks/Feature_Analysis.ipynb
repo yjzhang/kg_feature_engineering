{
 "cells": [
  {
   "cell_type": "markdown",
   "id": "0092d429-3154-45a4-ab02-8513c917b817",
   "metadata": {},
   "source": [
    "# Using KGFE to understand important features\n",
    "\n",
    "Basically, given a list of genes/proteins/metabolites that are mapped onto SPOKE, we want to identify nodes on the graph that are in some way \"similar\" to the input nodes."
   ]
  },
  {
   "cell_type": "code",
   "execution_count": 1,
   "id": "c6250232-7de2-4990-a1ef-be6d33382169",
   "metadata": {},
   "outputs": [],
   "source": [
    "# imports\n",
    "import numpy as np\n",
    "import pandas as pd\n",
    "import networkx as nx\n",
    "import kgfe"
   ]
  },
  {
   "cell_type": "markdown",
   "id": "4dcc3c54-95c4-42ee-8468-df214c00fa93",
   "metadata": {},
   "source": [
    "## 1. Load genes"
   ]
  },
  {
   "cell_type": "code",
   "execution_count": null,
   "id": "ff0a0050-431b-45eb-8028-4dae64f9704b",
   "metadata": {},
   "outputs": [],
   "source": []
  },
  {
   "cell_type": "code",
   "execution_count": null,
   "id": "c083b043-3772-40c0-a0a9-7c450da5c1a6",
   "metadata": {},
   "outputs": [],
   "source": []
  },
  {
   "cell_type": "code",
   "execution_count": null,
   "id": "7f3a47a3-55b9-4575-b427-2c0cc2e39138",
   "metadata": {},
   "outputs": [],
   "source": []
  },
  {
   "cell_type": "markdown",
   "id": "32192a6e-ce81-4b4a-bc98-125127b8bb3f",
   "metadata": {},
   "source": [
    "## 2. Load SPOKE"
   ]
  },
  {
   "cell_type": "code",
   "execution_count": null,
   "id": "59654aa5-57e6-4830-ba41-0c7031312f3c",
   "metadata": {},
   "outputs": [],
   "source": [
    "spoke_graph = kgfe.spoke_loader.load_spoke_networkx('../graph_utils/spoke_2021.jsonl.gz', reindex_edges=False, verbose=False)"
   ]
  },
  {
   "cell_type": "code",
   "execution_count": null,
   "id": "b469d969-b3cb-4057-b6b1-5230a9fa062d",
   "metadata": {},
   "outputs": [],
   "source": [
    "# find all connected nodes from the t2d node, and extract that subgraph\n",
    "t2d_paths = nx.single_source_dijkstra(spoke_graph, 2171832)\n",
    "spoke_t2d_subgraph = nx.subgraph(spoke_graph, t2d_paths[0].keys())"
   ]
  },
  {
   "cell_type": "markdown",
   "id": "7ca892ea-8812-4552-9128-c548fbadbc0c",
   "metadata": {},
   "source": [
    "### Map genes to SPOKE nodes"
   ]
  },
  {
   "cell_type": "code",
   "execution_count": null,
   "id": "106d5f00-bc51-4638-aad4-853b5bd7a205",
   "metadata": {},
   "outputs": [],
   "source": []
  },
  {
   "cell_type": "markdown",
   "id": "369184af-41d9-4de4-bbf7-a71fb38676c4",
   "metadata": {},
   "source": [
    "## 3. Run topic PageRank"
   ]
  },
  {
   "cell_type": "code",
   "execution_count": null,
   "id": "c1561011-2507-43a8-aa07-b24fd0e1fd27",
   "metadata": {},
   "outputs": [],
   "source": []
  },
  {
   "cell_type": "code",
   "execution_count": null,
   "id": "4b09bb65-6c5b-49f4-a976-f2101a77eec8",
   "metadata": {},
   "outputs": [],
   "source": []
  },
  {
   "cell_type": "code",
   "execution_count": null,
   "id": "4bebc915-9139-4425-88ee-ee0f6916b44f",
   "metadata": {},
   "outputs": [],
   "source": []
  },
  {
   "cell_type": "markdown",
   "id": "f8d96b56-f6d9-405e-ad3e-c2123e819786",
   "metadata": {},
   "source": [
    "## 4. Get Steiner trees"
   ]
  },
  {
   "cell_type": "code",
   "execution_count": null,
   "id": "1adc005d-50b6-46e5-97e7-5b6f56e93797",
   "metadata": {},
   "outputs": [],
   "source": []
  }
 ],
 "metadata": {
  "kernelspec": {
   "display_name": "Python 3 (ipykernel)",
   "language": "python",
   "name": "python3"
  },
  "language_info": {
   "codemirror_mode": {
    "name": "ipython",
    "version": 3
   },
   "file_extension": ".py",
   "mimetype": "text/x-python",
   "name": "python",
   "nbconvert_exporter": "python",
   "pygments_lexer": "ipython3",
   "version": "3.10.6"
  }
 },
 "nbformat": 4,
 "nbformat_minor": 5
}
