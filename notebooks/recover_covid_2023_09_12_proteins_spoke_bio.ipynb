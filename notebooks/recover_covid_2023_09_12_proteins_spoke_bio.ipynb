{
 "cells": [
  {
   "cell_type": "markdown",
   "id": "23d25577-bc16-4a46-af50-02c5e8b5a5ed",
   "metadata": {},
   "source": [
    "# Analysis of genes/proteins identified as differentially expressed in patients with PASC\n",
    "\n",
    "Data source for genes: https://github.com/RecoveryKG/Data_modeling/blob/main/Mann_Whiteney_U_test_longCovid_vs_normal.ipynb"
   ]
  },
  {
   "cell_type": "code",
   "execution_count": 1,
   "id": "e870935d-e0f0-401d-a260-b051cdaac730",
   "metadata": {},
   "outputs": [],
   "source": [
    "# imports\n",
    "import numpy as np\n",
    "import pandas as pd\n",
    "import networkx as nx\n",
    "import matplotlib.pyplot as plt\n",
    "\n",
    "import kgfe\n",
    "\n",
    "from kgfe import gene_names"
   ]
  },
  {
   "cell_type": "code",
   "execution_count": null,
   "id": "a205b160-c2a8-4332-89a4-254920c2d78b",
   "metadata": {},
   "outputs": [],
   "source": []
  },
  {
   "cell_type": "markdown",
   "id": "4a3bb78c-04d1-4029-a93c-ad265040acbc",
   "metadata": {
    "tags": []
   },
   "source": [
    "## Load SPOKE"
   ]
  },
  {
   "cell_type": "code",
   "execution_count": 2,
   "id": "1e445915-100d-4fa6-9ca3-1c0f74168739",
   "metadata": {},
   "outputs": [],
   "source": [
    "spoke_graph = kgfe.spoke_loader.load_spoke_igraph('../../graph_utils/spoke_2021_b_biological_objects.jsonl.gz', directed=True,\n",
    "                                                    verbose=False)"
   ]
  },
  {
   "cell_type": "code",
   "execution_count": 3,
   "id": "df6335ce-34b4-4c57-b6a3-86b63f9140eb",
   "metadata": {},
   "outputs": [
    {
     "data": {
      "text/plain": [
       "11026"
      ]
     },
     "execution_count": 3,
     "metadata": {},
     "output_type": "execute_result"
    }
   ],
   "source": [
    "gene_names.get_id('LILRA3')"
   ]
  },
  {
   "cell_type": "code",
   "execution_count": 4,
   "id": "daeb6773-8491-4bfb-991f-2ca103e3ecce",
   "metadata": {},
   "outputs": [],
   "source": [
    "spoke_graph_ud = spoke_graph.copy()\n",
    "spoke_graph_ud.to_undirected(combine_edges='first')\n",
    "spoke_graph_ud.simplify(combine_edges='first')\n",
    "spoke_graph_ud = kgfe.graph_info.largest_component(spoke_graph_ud)"
   ]
  },
  {
   "cell_type": "code",
   "execution_count": 5,
   "id": "835836d9-cacd-4281-82a2-84aff89158ed",
   "metadata": {},
   "outputs": [],
   "source": [
    "genes_to_ids = kgfe.graph_info.spoke_identifiers_to_ids(spoke_graph_ud, 'Gene')"
   ]
  },
  {
   "cell_type": "code",
   "execution_count": 6,
   "id": "1c543778-6529-460b-b895-4be83c759f48",
   "metadata": {},
   "outputs": [],
   "source": [
    "prots_to_ids = kgfe.graph_info.spoke_identifiers_to_ids(spoke_graph_ud, 'Protein')"
   ]
  },
  {
   "cell_type": "code",
   "execution_count": 7,
   "id": "e0ed1e6e-c0ee-4c6c-8c77-39fe06e52993",
   "metadata": {},
   "outputs": [],
   "source": [
    "disease_to_ids = kgfe.graph_info.spoke_identifiers_to_ids(spoke_graph_ud, 'Disease')"
   ]
  },
  {
   "cell_type": "code",
   "execution_count": 8,
   "id": "f60c0394-e1c4-49c4-90e8-7595c86aa15a",
   "metadata": {},
   "outputs": [
    {
     "data": {
      "text/plain": [
       "'2166630'"
      ]
     },
     "execution_count": 8,
     "metadata": {},
     "output_type": "execute_result"
    }
   ],
   "source": [
    "disease_to_ids['DOID:9119']"
   ]
  },
  {
   "cell_type": "markdown",
   "id": "f4b3ee89-ae07-4764-a30f-52faaef5cc6b",
   "metadata": {},
   "source": [
    "## Lists of genes"
   ]
  },
  {
   "cell_type": "code",
   "execution_count": 9,
   "id": "87dfce38-0693-4178-935a-9c7f93216baa",
   "metadata": {},
   "outputs": [],
   "source": [
    "diffexp_genes = \"\"\"FIGF SOD2 F2R CA5A STK4 ADAMTS13 PRSS27 BOC HAO1\n",
    "MMP10 IL8 LY75 NTF4 IRAK4 DAPP1 ANGPTL7 AGR2 CRH NPPC PLXDC1 BANK1 ERBB2IP SIRT5 CA14   \n",
    "\"\"\"\n",
    "diffexp_genes = diffexp_genes.split()"
   ]
  },
  {
   "cell_type": "code",
   "execution_count": 34,
   "id": "29d84f95-c927-44c7-aeff-3da0a02e148c",
   "metadata": {},
   "outputs": [],
   "source": [
    "diffexp_genes_pos = \"MMP10 IL8 AGR2\".split()\n",
    "diffexp_genes_neg = \"\"\"FIGF SOD2 F2R CA5A STK4 ADAMTS13 PRSS27 BOC HA01\n",
    "LY75 NTF4 IRAK4 DAPP1 ANGPTL7 CRH NPPC PLXDC1 BANK1 ERBB2IP SIRT5 CA14\"\"\".split()"
   ]
  },
  {
   "cell_type": "code",
   "execution_count": 33,
   "id": "5adc1490-5ddd-4b85-a673-539ac5140702",
   "metadata": {},
   "outputs": [
    {
     "data": {
      "text/plain": [
       "2277"
      ]
     },
     "execution_count": 33,
     "metadata": {},
     "output_type": "execute_result"
    }
   ],
   "source": [
    "kgfe.gene_names.SYMBOL_TO_ID['FIGF']"
   ]
  },
  {
   "cell_type": "code",
   "execution_count": 35,
   "id": "e3e971c9-1fa1-41db-a8f8-cedf1e59d381",
   "metadata": {},
   "outputs": [],
   "source": [
    "# genes to proteins\n",
    "uniprot_ids = kgfe.gene_names.convert('symbol', 'uniprot', diffexp_genes)\n",
    "uniprot_ids_pos = kgfe.gene_names.convert('symbol', 'uniprot', diffexp_genes_pos)\n",
    "uniprot_ids_neg = kgfe.gene_names.convert('symbol', 'uniprot', diffexp_genes_neg)\n"
   ]
  },
  {
   "cell_type": "code",
   "execution_count": 36,
   "id": "8746cd79-3d11-4cda-b3d6-98c019172eaa",
   "metadata": {},
   "outputs": [
    {
     "data": {
      "text/plain": [
       "(24, 24, 24, 24)"
      ]
     },
     "execution_count": 36,
     "metadata": {},
     "output_type": "execute_result"
    }
   ],
   "source": [
    "len(diffexp_genes), len(uniprot_ids), len(genes_spoke_ids), len(uniprot_spoke_ids)"
   ]
  },
  {
   "cell_type": "code",
   "execution_count": 12,
   "id": "65fe671a-400f-4557-84aa-3aecb43d952a",
   "metadata": {},
   "outputs": [],
   "source": [
    "diffexp_genes_ncbi_ids = []\n",
    "for g in diffexp_genes:\n",
    "    try:\n",
    "        diffexp_genes_ncbi_ids.append(gene_names.get_id(g))\n",
    "    except:\n",
    "        pass"
   ]
  },
  {
   "cell_type": "code",
   "execution_count": 13,
   "id": "8d32da0a-469f-4d7f-8364-7e72c662fd9f",
   "metadata": {},
   "outputs": [],
   "source": [
    "genes_spoke_ids = [genes_to_ids[g] for g in diffexp_genes_ncbi_ids if g in genes_to_ids]"
   ]
  },
  {
   "cell_type": "code",
   "execution_count": 14,
   "id": "6e2996e0-44dc-4368-b84d-c68ecd97f0ec",
   "metadata": {},
   "outputs": [],
   "source": [
    "uniprot_spoke_ids = [prots_to_ids[p] for p in uniprot_ids if p in prots_to_ids]"
   ]
  },
  {
   "cell_type": "code",
   "execution_count": 15,
   "id": "49bcc405-fe3d-4d3e-acb5-7db4347f5095",
   "metadata": {},
   "outputs": [
    {
     "name": "stdout",
     "output_type": "stream",
     "text": [
      "diffexp genes: 24 spoke-diffexp genes: 24\n"
     ]
    }
   ],
   "source": [
    "print('diffexp genes:', len(diffexp_genes_ncbi_ids), 'spoke-diffexp genes:', len(genes_spoke_ids))"
   ]
  },
  {
   "cell_type": "markdown",
   "id": "4292e6a7-13b5-4c2c-a8c9-2a39a186df1d",
   "metadata": {},
   "source": [
    "## Calculate null model stats for Recover genes"
   ]
  },
  {
   "cell_type": "code",
   "execution_count": 16,
   "id": "345537f5-9413-45bc-ac9a-d3606732ee3d",
   "metadata": {},
   "outputs": [],
   "source": [
    "genes_stats = kgfe.explanations.graph_node_stats(spoke_graph_ud, list(set(genes_spoke_ids)))"
   ]
  },
  {
   "cell_type": "code",
   "execution_count": 17,
   "id": "31d954a9-a7c1-4c60-94a5-84d724967355",
   "metadata": {},
   "outputs": [],
   "source": [
    "genes_null_results = kgfe.explanations.null_graph_stats(spoke_graph_ud, 'Gene',\\\n",
    "                                                                 len(genes_spoke_ids),\\\n",
    "                                                                 use_degree_sampling=True,\\\n",
    "                                                                 input_id_set=genes_spoke_ids)"
   ]
  },
  {
   "cell_type": "code",
   "execution_count": 18,
   "id": "2e5bbc27-5f83-40f8-af90-b5d17e2525cd",
   "metadata": {},
   "outputs": [],
   "source": [
    "genes_null_results = pd.DataFrame(genes_null_results)\n"
   ]
  },
  {
   "cell_type": "code",
   "execution_count": 19,
   "id": "386b29d0-a914-4af1-8e04-5698e011057e",
   "metadata": {},
   "outputs": [
    {
     "data": {
      "text/plain": [
       "<matplotlib.legend.Legend at 0x7f63e82112d0>"
      ]
     },
     "execution_count": 19,
     "metadata": {},
     "output_type": "execute_result"
    },
    {
     "data": {
      "image/png": "[encoded data removed]",
      "text/plain": [
       "<Figure size 640x480 with 1 Axes>"
      ]
     },
     "metadata": {},
     "output_type": "display_data"
    }
   ],
   "source": [
    "plt.hist(genes_null_results.average_pairwise_distance, bins=10, label='random')\n",
    "plt.title('Average pairwise distance distribution for randomly sampled degree-matched genes')\n",
    "plt.plot([genes_stats['average_pairwise_distance'], genes_stats['average_pairwise_distance']],\n",
    "         [0, 10], label='PASC diffexp genes')\n",
    "plt.xlabel('Average pairwise distance between genes in SPOKE (lower = more related)')\n",
    "plt.legend()"
   ]
  },
  {
   "cell_type": "code",
   "execution_count": 25,
   "id": "fb809bdb-b85c-48bc-ac90-057b979c6bd0",
   "metadata": {},
   "outputs": [
    {
     "data": {
      "text/plain": [
       "<matplotlib.legend.Legend at 0x7f63e678bc70>"
      ]
     },
     "execution_count": 25,
     "metadata": {},
     "output_type": "execute_result"
    },
    {
     "data": {
      "image/png": "[encoded data removed]",
      "text/plain": [
       "<Figure size 640x480 with 1 Axes>"
      ]
     },
     "metadata": {},
     "output_type": "display_data"
    }
   ],
   "source": [
    "plt.hist(genes_null_results.degree_mean, bins=10, label='random')\n",
    "plt.title('Average degree for genes')\n",
    "plt.plot([genes_stats['degree_mean'], genes_stats['degree_mean']],\n",
    "         [0, 10], label='target genes')\n",
    "plt.xlabel('Average degree')\n",
    "plt.legend()"
   ]
  },
  {
   "cell_type": "code",
   "execution_count": 21,
   "id": "aecafeed-79f8-451c-8ecb-7498ecb1282e",
   "metadata": {},
   "outputs": [],
   "source": [
    "prots_stats = kgfe.explanations.graph_node_stats(spoke_graph_ud, list(set(uniprot_spoke_ids)))"
   ]
  },
  {
   "cell_type": "code",
   "execution_count": 22,
   "id": "49fdce6b-90be-4a6e-a790-23565a39eb2f",
   "metadata": {},
   "outputs": [],
   "source": [
    "prots_null_results = kgfe.explanations.null_graph_stats(spoke_graph_ud, 'Protein',\\\n",
    "                                                                 len(uniprot_spoke_ids),\\\n",
    "                                                                 use_degree_sampling=True,\\\n",
    "                                                                 input_id_set=uniprot_spoke_ids)"
   ]
  },
  {
   "cell_type": "code",
   "execution_count": 23,
   "id": "d7037c05-a791-40d3-8599-3b73c279bdfa",
   "metadata": {},
   "outputs": [],
   "source": [
    "prots_null_results = pd.DataFrame(prots_null_results)\n"
   ]
  },
  {
   "cell_type": "code",
   "execution_count": 24,
   "id": "bc0e7751-dd0c-40dd-812b-c2d05dbd4a40",
   "metadata": {},
   "outputs": [
    {
     "data": {
      "text/plain": [
       "<matplotlib.legend.Legend at 0x7f63e749c580>"
      ]
     },
     "execution_count": 24,
     "metadata": {},
     "output_type": "execute_result"
    },
    {
     "data": {
      "image/png": "[encoded data removed]",
      "text/plain": [
       "<Figure size 640x480 with 1 Axes>"
      ]
     },
     "metadata": {},
     "output_type": "display_data"
    }
   ],
   "source": [
    "plt.hist(prots_null_results.average_pairwise_distance, bins=10, label='random')\n",
    "plt.title('Average pairwise distance distribution for randomly sampled degree-matched proteins')\n",
    "plt.plot([prots_stats['average_pairwise_distance'], prots_stats['average_pairwise_distance']],\n",
    "         [0, 10], label='PASC diffexp proteins')\n",
    "plt.xlabel('Average pairwise distance between proteins in SPOKE (lower = more related)')\n",
    "plt.legend()"
   ]
  },
  {
   "cell_type": "code",
   "execution_count": 32,
   "id": "57247429-e4d7-4e4f-8706-ba653931abfc",
   "metadata": {},
   "outputs": [
    {
     "data": {
      "text/plain": [
       "<matplotlib.legend.Legend at 0x7f63e670ba00>"
      ]
     },
     "execution_count": 32,
     "metadata": {},
     "output_type": "execute_result"
    },
    {
     "data": {
      "image/png": "[encoded data removed]",
      "text/plain": [
       "<Figure size 640x480 with 1 Axes>"
      ]
     },
     "metadata": {},
     "output_type": "display_data"
    }
   ],
   "source": [
    "plt.hist(prots_null_results.degree_mean, bins=10, label='random')\n",
    "plt.title('Average degree for proteins')\n",
    "plt.plot([prots_stats['degree_mean'], prots_stats['degree_mean']],\n",
    "         [0, 10], label='target proteins')\n",
    "plt.xlabel('Average degree')\n",
    "plt.legend()"
   ]
  },
  {
   "cell_type": "markdown",
   "id": "edcac57e-eec2-4e0e-be11-60dd33db7485",
   "metadata": {},
   "source": [
    "## Steiner trees for PASC genes"
   ]
  },
  {
   "cell_type": "code",
   "execution_count": 26,
   "id": "4abee06e-acb3-4f1c-b385-99218e74f37f",
   "metadata": {},
   "outputs": [],
   "source": [
    "import ipycytoscape"
   ]
  },
  {
   "cell_type": "code",
   "execution_count": 27,
   "id": "db6e9f18-08d2-4cca-b2f0-5ae53001d9b8",
   "metadata": {},
   "outputs": [],
   "source": [
    "# TODO: display the node category somewhere, and display the edge categories\n",
    "graph_style = [{'selector': 'node[feature_name]',\n",
    "                             'style': {\n",
    "                                  'font-family': 'helvetica',\n",
    "                                  'font-size': '20px',\n",
    "                                 'text-valign': 'top',\n",
    "                                 'label': 'data(feature_name)',\n",
    "                        }},\n",
    "                        {'selector': 'node[category=\"Protein\"]',\n",
    "                         'style': {\n",
    "                             'background-color': 'blue',\n",
    "                         }},\n",
    "                        {'selector': 'node[in_query=1]',\n",
    "                         'style': {\n",
    "                             'border-width': '5px',\n",
    "                             'border-color': 'red',\n",
    "                         }},\n",
    "                        {'selector': 'edge[type]',\n",
    "                         'style': {\n",
    "                             'label': 'data(type)',\n",
    "                         }},\n",
    "                        {\"selector\": \"edge.directed\",\n",
    "                         \"style\": {\n",
    "                            \"curve-style\": \"bezier\",\n",
    "                            \"target-arrow-shape\": \"triangle\",\n",
    "                    }},\n",
    "\n",
    "                    ]"
   ]
  },
  {
   "cell_type": "code",
   "execution_count": 28,
   "id": "978b3e54-a964-4c50-910a-a40e468378d6",
   "metadata": {},
   "outputs": [],
   "source": [
    "st, subgraph = kgfe.explanations.steiner_tree_subgraph(spoke_graph_ud,\n",
    "                                                            genes_spoke_ids,\n",
    "                                                            method='takahashi')"
   ]
  },
  {
   "cell_type": "code",
   "execution_count": 29,
   "id": "6c324de2-84c9-4a36-9e59-a57ac5096504",
   "metadata": {
    "tags": []
   },
   "outputs": [
    {
     "data": {
      "application/vnd.jupyter.widget-view+json": {
       "model_id": "b760cc4a56474ccabb805583f63969f5",
       "version_major": 2,
       "version_minor": 0
      },
      "text/plain": [
       "CytoscapeWidget(cytoscape_layout={'name': 'cola', 'title': 'high_proteins', 'nodeSpacing': 80, 'edgeLengthVal'…"
      ]
     },
     "metadata": {},
     "output_type": "display_data"
    }
   ],
   "source": [
    "undirected = ipycytoscape.CytoscapeWidget()\n",
    "high_protein_subgraph_nx = subgraph.to_networkx()\n",
    "node_dict = {i: n['name'] for i, n in high_protein_subgraph_nx.nodes.items()}\n",
    "high_protein_subgraph_nx = nx.relabel_nodes(high_protein_subgraph_nx, node_dict)\n",
    "undirected.graph.add_graph_from_networkx(high_protein_subgraph_nx)\n",
    "undirected.set_tooltip_source('feature_name')\n",
    "undirected.set_layout(title='high_proteins', nodeSpacing=80, edgeLengthVal=50, )\n",
    "undirected.set_style(graph_style)\n",
    "\n",
    "display(undirected)"
   ]
  },
  {
   "cell_type": "code",
   "execution_count": 30,
   "id": "223690b4-f0aa-40ae-bef1-e3ec6cb5624b",
   "metadata": {},
   "outputs": [],
   "source": [
    "st, subgraph = kgfe.explanations.steiner_tree_subgraph(spoke_graph_ud,\n",
    "                                                            uniprot_spoke_ids,\n",
    "                                                            method='takahashi')"
   ]
  },
  {
   "cell_type": "code",
   "execution_count": 31,
   "id": "4874fadb-2545-46fe-b503-5d8b63c0e27a",
   "metadata": {
    "tags": []
   },
   "outputs": [
    {
     "data": {
      "application/vnd.jupyter.widget-view+json": {
       "model_id": "1ff173b9a7d44dc0b8e4f0d71191fe34",
       "version_major": 2,
       "version_minor": 0
      },
      "text/plain": [
       "CytoscapeWidget(cytoscape_layout={'name': 'cola', 'title': 'high_proteins', 'nodeSpacing': 80, 'edgeLengthVal'…"
      ]
     },
     "metadata": {},
     "output_type": "display_data"
    }
   ],
   "source": [
    "undirected = ipycytoscape.CytoscapeWidget()\n",
    "high_protein_subgraph_nx = subgraph.to_networkx()\n",
    "node_dict = {i: n['name'] for i, n in high_protein_subgraph_nx.nodes.items()}\n",
    "high_protein_subgraph_nx = nx.relabel_nodes(high_protein_subgraph_nx, node_dict)\n",
    "undirected.graph.add_graph_from_networkx(high_protein_subgraph_nx)\n",
    "undirected.set_tooltip_source('feature_name')\n",
    "undirected.set_layout(title='high_proteins', nodeSpacing=80, edgeLengthVal=50, )\n",
    "undirected.set_style(graph_style)\n",
    "\n",
    "display(undirected)"
   ]
  },
  {
   "cell_type": "code",
   "execution_count": null,
   "id": "5236bf27-e004-49fa-8625-2d732cb03d4f",
   "metadata": {},
   "outputs": [],
   "source": []
  }
 ],
 "metadata": {
  "kernelspec": {
   "display_name": "Python 3 (ipykernel)",
   "language": "python",
   "name": "python3"
  },
  "language_info": {
   "codemirror_mode": {
    "name": "ipython",
    "version": 3
   },
   "file_extension": ".py",
   "mimetype": "text/x-python",
   "name": "python",
   "nbconvert_exporter": "python",
   "pygments_lexer": "ipython3",
   "version": "3.10.6"
  },
  "widgets": {
   "application/vnd.jupyter.widget-state+json": {
    "state": {
     "000f5a5079d24ca8aa4ad2fbc5038d76": {
      "model_module": "jupyter-cytoscape",
      "model_module_version": "^1.3.3",
      "model_name": "EdgeModel",
      "state": {
       "_model_module_version": "^1.3.3",
       "_view_module_version": "^1.3.3",
       "data": {
        "_igraph_index": 32,
        "id": "8d038062-3460-4632-8670-fa8c991c526a",
        "source": "2119540",
        "target": "2156777",
        "type": "INTERACTS_PiP"
       },
       "selectable": false
      }
     },
     "013ba3d3ecd1473487482fafb7f79467": {
      "model_module": "jupyter-cytoscape",
      "model_module_version": "^1.3.3",
      "model_name": "EdgeModel",
      "state": {
       "_model_module_version": "^1.3.3",
       "_view_module_version": "^1.3.3",
       "data": {
        "_igraph_index": 4,
        "id": "8d862331-3312-4ade-b714-bb993d7bb19d",
        "source": "2122413",
        "target": "2117563",
        "type": "INTERACTS_PiP"
       },
       "selectable": false
      }
     },
     "0189825d9a81441a8d3e0c4e321ff51d": {
      "model_module": "jupyter-cytoscape",
      "model_module_version": "^1.3.3",
      "model_name": "EdgeModel",
      "state": {
       "_model_module_version": "^1.3.3",
       "_view_module_version": "^1.3.3",
       "data": {
        "_igraph_index": 39,
        "id": "8996eef3-0c4a-4106-8581-d852bd6b0863",
        "source": "596787",
        "target": "2191364",
        "type": "UPREGULATES_CuG"
       },
       "selectable": false
      }
     },
     "01facca7fec24df69ed157c11395c7b2": {
      "model_module": "jupyter-cytoscape",
      "model_module_version": "^1.3.3",
      "model_name": "EdgeModel",
      "state": {
       "_model_module_version": "^1.3.3",
       "_view_module_version": "^1.3.3",
       "data": {
        "_igraph_index": 35,
        "id": "1ea71099-7c2a-4d5e-883a-717eaaad46f9",
        "source": "2172874",
        "target": "2193639",
        "type": "ASSOCIATES_DaG"
       },
       "selectable": false
      }
     },
     "032ffb8feebf430ea0e28b92556abfb6": {
      "model_module": "jupyter-cytoscape",
      "model_module_version": "^1.3.3",
      "model_name": "GraphModel",
      "state": {
       "_adj": {
        "1709660": {},
        "2117563": {},
        "2118021": {},
        "2118148": {},
        "2119835": {},
        "2122413": {},
        "2142755": {},
        "2150833": {},
        "2151390": {},
        "2156777": {},
        "2165872": {},
        "2169474": {},
        "2172874": {},
        "2190057": {},
        "2190502": {},
        "2190548": {},
        "2190667": {},
        "2190994": {},
        "2190998": {},
        "2191576": {},
        "2191686": {},
        "2192168": {},
        "2192624": {},
        "2193030": {},
        "2193224": {},
        "2193613": {},
        "2193639": {},
        "2195048": {},
        "2195172": {},
        "2195702": {},
        "2197852": {},
        "2198127": {},
        "2198422": {},
        "2198566": {},
        "2198606": {},
        "2198900": {},
        "2201942": {},
        "2203649": {},
        "2204130": {},
        "2204877": {},
        "2205126": {},
        "2205318": {},
        "2205756": {},
        "2206864": {},
        "2207390": {},
        "2360597": {},
        "292505": {},
        "956713": {}
       },
       "_model_module_version": "^1.3.3",
       "_view_module": "jupyter-cytoscape",
       "_view_module_version": "^1.3.3",
       "edges": [
        "IPY_MODEL_923b6e1a5aca495aa34c373f15e6cd0a",
        "IPY_MODEL_cece3ec14fde4bef82a29787812ddb29",
        "IPY_MODEL_5a75ac2e8fc1496497778522a8a43eda",
        "IPY_MODEL_89ea3fb95ee14bbc923c31629938b1bb",
        "IPY_MODEL_64e35bc3edfe46f0829fad495db5272f",
        "IPY_MODEL_75c21d7f8a5d457aa3aa577bb99fc62f",
        "IPY_MODEL_3cf34b4de5094e2c90ce7c1f4ab83974",
        "IPY_MODEL_f2c73a05b4fc490596a59f136bfe58b2",
        "IPY_MODEL_b83b8e275734423aafa1d9f104d36e5d",
        "IPY_MODEL_f8a9f4825b7a4338a881fe92403e0c92",
        "IPY_MODEL_1f980d49ea72498e8f5ccaee575f214b",
        "IPY_MODEL_b9f4d54bf5b244e29e2edf3133c0e20c",
        "IPY_MODEL_ba96d907d1de45c6943b9b72aa037039",
        "IPY_MODEL_987f050b68214170b68fce38c5cd885e",
        "IPY_MODEL_c2104df3c0ae4993904f8bfe0eae43b8",
        "IPY_MODEL_013ba3d3ecd1473487482fafb7f79467",
        "IPY_MODEL_621c11fe2fc8481ca4f42943c2738f8e",
        "IPY_MODEL_123cf0fe8acd432fb783997756efd823",
        "IPY_MODEL_1b31da229f074bdcaba9403fa2f06a75",
        "IPY_MODEL_8a7aff31589642a28620a1ccaf34e25a",
        "IPY_MODEL_c744a9ef23e34ddeafb70c08669ec952",
        "IPY_MODEL_95c4b6938f0d4b209ac510e58189c41b",
        "IPY_MODEL_3a8226ab812d43f9b92beadcc0c36493",
        "IPY_MODEL_1bf333ebbbf04f30bc030a4148f691d4",
        "IPY_MODEL_9d5dbc803bcb4092b4e5e1e1db579fb9",
        "IPY_MODEL_88ad32efaf3a4c3aad5da8425a508793",
        "IPY_MODEL_4b0363cbcf734ee8a0d8d08941fc08e8",
        "IPY_MODEL_07376ed4526a46b6867b220824fc0353",
        "IPY_MODEL_dbd1e4e4ca5a43139aa7a1b4049911dc",
        "IPY_MODEL_784771d2b888496ab9eba40330c852a8",
        "IPY_MODEL_8975eda706a64f5a8db000ff65baa4ac",
        "IPY_MODEL_52faa2ad659b4438a4e22f2c15efaf42",
        "IPY_MODEL_3f0a0079f779412596611ba306058dce",
        "IPY_MODEL_c0a75b7893b849b8a07e9ac20cb6127c",
        "IPY_MODEL_f53ef1f91ad04f3380961413be0ad1ed",
        "IPY_MODEL_17c19c2cbdc34ff486154ee8a8e5e7dd",
        "IPY_MODEL_c67d1e15429146619299d02baa9edc18",
        "IPY_MODEL_30a2dd475bdc4712a7cf418924d53c45",
        "IPY_MODEL_a4ed44f362c240d68c97083cff8b1db8",
        "IPY_MODEL_cb2765431ed2443aa47f7b64e2468dbd",
        "IPY_MODEL_01facca7fec24df69ed157c11395c7b2",
        "IPY_MODEL_1bbbf33de0194908890445a61e92a1f6",
        "IPY_MODEL_c629e370dfad4bb0acdd7ef7fde0ca78",
        "IPY_MODEL_205a9c92f702446f8f646a064e5d75e4",
        "IPY_MODEL_ded5ad6f7c80448695535300a83b4561",
        "IPY_MODEL_46c3cf287fdb4ae58bd8510fa4fcbade",
        "IPY_MODEL_cdcd2aa7d90046c08418ff42e2321bf8",
        "IPY_MODEL_058929327e2b4163825299fce97d159a",
        "IPY_MODEL_93edfe1e689d46269e57acf714fcb448",
        "IPY_MODEL_fa5ad2efa26d414685a1aae5a34d8fe4",
        "IPY_MODEL_48c1bbcd6087407f9dd3ccd6c3122987",
        "IPY_MODEL_8aa09e1ed75d4b78b8a781743e7aa31a",
        "IPY_MODEL_5ff1748b65394bb1b14d50b5d98db488",
        "IPY_MODEL_8b14221e8e6240769d4d26579e4869c8",
        "IPY_MODEL_a853e93fed9144e3b2f90df84b4ea8ae",
        "IPY_MODEL_ea83b49808a4476e93853f8da75e7b87",
        "IPY_MODEL_044955b9e41f42b08cc798481c84c070",
        "IPY_MODEL_80871e6a632c464383f75d015c3a386c",
        "IPY_MODEL_9821892c8d994187b64f9c26638503e3",
        "IPY_MODEL_eab93a915f934b5d81866187a234a5d7",
        "IPY_MODEL_889b2f230c6a4fa889ca916e61aa90aa",
        "IPY_MODEL_c543759ed4854ca39b7e30db8b232a38",
        "IPY_MODEL_9617f91345dc4fa5b5805410b4bb70fa",
        "IPY_MODEL_3dfd8e7277434579a07704085acfda69",
        "IPY_MODEL_678b46fe62c24605ab6cc6a1f8bf6580",
        "IPY_MODEL_f7b34babde10424ca7e27cfac5a702c4",
        "IPY_MODEL_519310d6f2f9432182f610fd20826ad7",
        "IPY_MODEL_c805483e26d04402a4fcfb3e3576e3d5",
        "IPY_MODEL_223545bd09684f0d84dfc8963bf744e2",
        "IPY_MODEL_caaad3355ee349df86a57175ccd12b7a"
       ],
       "nodes": [
        "IPY_MODEL_3f59a18ce0f84e3e8b544c0a55b4c847",
        "IPY_MODEL_b99d1d0aad4b4be2a2f282d0a97eebd3",
        "IPY_MODEL_6768aa1643cd42a78c501f1286178821",
        "IPY_MODEL_dac9ffb39af24174b172a3d7ca69831a",
        "IPY_MODEL_a99e1884779045bca485a030e2c3d870",
        "IPY_MODEL_2878e730acd749b8ab7267ad929b0b06",
        "IPY_MODEL_6e1c4a9bcabe41d080a0cca674cadf0f",
        "IPY_MODEL_6e60ff69deba4b44a17d07f1b6ad421f",
        "IPY_MODEL_f5f85064f9a34d92a63c1fc1893c5578",
        "IPY_MODEL_6ed74879aafb4b049dba55c8c364db46",
        "IPY_MODEL_db34fb6b40124df788e19bfa1acaf601",
        "IPY_MODEL_05473fad162149e595939f2aaed3f1ca",
        "IPY_MODEL_4a69d3397ffc4379a448657b143eed67",
        "IPY_MODEL_cf532eedfe794e8597f0fcd9f2cb613c",
        "IPY_MODEL_cc62eb47c858439bac9faa5114305cf2",
        "IPY_MODEL_2873182b4be5456aa1246595d409a7de",
        "IPY_MODEL_d8247e56413d4b31a1785cd3e8729f04",
        "IPY_MODEL_2e0b31654a614533bd50a5bd5c7fb1c6",
        "IPY_MODEL_dcbb9ce659674d58ac41bd30a9f3f80c",
        "IPY_MODEL_a5d50002ee0240b399aa3b70f658fadb",
        "IPY_MODEL_9f95706a19a641c8a5c49a02e517fbde",
        "IPY_MODEL_b877d223fc2b4eafaf8c2ba1ee0bab7c",
        "IPY_MODEL_c79c56022c4245abbc741cce22640b90",
        "IPY_MODEL_2590bfef0ec0495da412432fa04e1c30",
        "IPY_MODEL_a9f40681d95741899633d3ee3acd1b18",
        "IPY_MODEL_14a456ebc69744738886278bd1b09b24",
        "IPY_MODEL_d744808db7f649c194c543f3f6f862ee",
        "IPY_MODEL_95ebd7a012854af1bdec872385b55320",
        "IPY_MODEL_b825adc2f38f49dbbf2be532d2bb4493",
        "IPY_MODEL_4814b9e7969c459fa8956492856f356a",
        "IPY_MODEL_e4cbe4003f4f45ba97ace31542faa11a",
        "IPY_MODEL_a31156c0318442369edc19f466299a0c",
        "IPY_MODEL_b463fac220e24dcd9483069b2a76881f",
        "IPY_MODEL_934321c141a34da0a2f442ad98c71ec3",
        "IPY_MODEL_9ed6c506652543cb8119fb5dd57bc607",
        "IPY_MODEL_ce571c8c910c4e57bca14fd9d8e1879f",
        "IPY_MODEL_83f8f6d85c51487a94105e8728e26ff5",
        "IPY_MODEL_c6ec7678127f43a7be9b04632893f139",
        "IPY_MODEL_9f4d89bf19524febb1e97ce9b006fcca",
        "IPY_MODEL_5063cc5ed6ba4cbf9c99e4a3571307b0",
        "IPY_MODEL_28b7e63c9a3d4f13a800cc364bdb3e73",
        "IPY_MODEL_980a6b6cf6bc4e2dbcdb7841e97ea58f",
        "IPY_MODEL_eddd77ad02b04649a97d458077056d0d",
        "IPY_MODEL_bb16225bb54843b6b95976491af7da63",
        "IPY_MODEL_2b86f31047ab4ffabb8aedfacab08752",
        "IPY_MODEL_47a1ad662ea34924b35901fc03f3120f",
        "IPY_MODEL_6b088d08e1bc44aab7a123998bf27c64",
        "IPY_MODEL_c06c234bbd184ef8b3e30a6f183d687e"
       ]
      }
     },
     "044955b9e41f42b08cc798481c84c070": {
      "model_module": "jupyter-cytoscape",
      "model_module_version": "^1.3.3",
      "model_name": "EdgeModel",
      "state": {
       "_model_module_version": "^1.3.3",
       "_view_module_version": "^1.3.3",
       "data": {
        "_igraph_index": 38,
        "id": "6fea6f79-20ba-4fe9-8056-b9095cc6a0c7",
        "source": "2190998",
        "target": "2195048",
        "type": "UPREGULATES_KGuG"
       },
       "selectable": false
      }
     },
     "050a8512b4d24dd4be756b23159fc19e": {
      "model_module": "jupyter-cytoscape",
      "model_module_version": "^1.3.3",
      "model_name": "EdgeModel",
      "state": {
       "_model_module_version": "^1.3.3",
       "_view_module_version": "^1.3.3",
       "data": {
        "_igraph_index": 35,
        "id": "712d8262-acb5-4456-86eb-9560e520215a",
        "source": "2191191",
        "target": "2190994",
        "type": "UPREGULATES_GPuG"
       },
       "selectable": false
      }
     },
     "05473fad162149e595939f2aaed3f1ca": {
      "model_module": "jupyter-cytoscape",
      "model_module_version": "^1.3.3",
      "model_name": "NodeModel",
      "state": {
       "_model_module_version": "^1.3.3",
       "_view_module_version": "^1.3.3",
       "data": {
        "_igraph_index": 11,
        "category": "Protein",
        "feature_name": "HAOX1_HUMAN",
        "id": "2156777",
        "identifier": "Q9UJM8",
        "in_query": 0,
        "name": "2156777",
        "source": "UniProt"
       },
       "grabbable": true,
       "grabbed": false,
       "position": {
        "x": 677.00571004863,
        "y": -20.414053171156866
       },
       "selectable": false
      }
     },
     "058929327e2b4163825299fce97d159a": {
      "model_module": "jupyter-cytoscape",
      "model_module_version": "^1.3.3",
      "model_name": "EdgeModel",
      "state": {
       "_model_module_version": "^1.3.3",
       "_view_module_version": "^1.3.3",
       "data": {
        "_igraph_index": 67,
        "id": "f30e8de4-9ed8-40b3-bef0-a762c837a99d",
        "source": "2207390",
        "target": "2190057",
        "type": "UPREGULATES_KGuG"
       },
       "selectable": false
      }
     },
     "05c843fb2eca4d70a1a348461d8f53ba": {
      "model_module": "jupyter-cytoscape",
      "model_module_version": "^1.3.3",
      "model_name": "EdgeModel",
      "state": {
       "_model_module_version": "^1.3.3",
       "_view_module_version": "^1.3.3",
       "data": {
        "_igraph_index": 38,
        "id": "48a19edb-52c2-4692-becf-ad0cc0326f03",
        "source": "276355",
        "target": "2191364",
        "type": "UPREGULATES_CuG"
       },
       "selectable": false
      }
     },
     "07376ed4526a46b6867b220824fc0353": {
      "model_module": "jupyter-cytoscape",
      "model_module_version": "^1.3.3",
      "model_name": "EdgeModel",
      "state": {
       "_model_module_version": "^1.3.3",
       "_view_module_version": "^1.3.3",
       "data": {
        "_igraph_index": 58,
        "id": "5b0e6f0e-8f77-4d12-912f-66ef8ba4c3db",
        "source": "2203649",
        "target": "2156777",
        "type": "ENCODES_GeP"
       },
       "selectable": false
      }
     },
     "0d54bf53b8ef490d96f97a03f32526e3": {
      "model_module": "jupyter-cytoscape",
      "model_module_version": "^1.3.3",
      "model_name": "NodeModel",
      "state": {
       "_model_module_version": "^1.3.3",
       "_view_module_version": "^1.3.3",
       "data": {
        "_igraph_index": 58,
        "category": "ProteinDomain",
        "feature_name": "Protein kinase domain",
        "id": "2364080",
        "identifier": "PF00069",
        "in_query": 0,
        "name": "2364080",
        "source": "Pfam"
       },
       "grabbable": true,
       "grabbed": false,
       "position": {
        "x": -614.3012041340595,
        "y": -170.08163876280585
       },
       "selectable": false
      }
     },
     "0ddc981190504afe82b1599088d854b8": {
      "model_module": "jupyter-cytoscape",
      "model_module_version": "^1.3.3",
      "model_name": "NodeModel",
      "state": {
       "_model_module_version": "^1.3.3",
       "_view_module_version": "^1.3.3",
       "data": {
        "_igraph_index": 47,
        "category": "Gene",
        "feature_name": "LY75",
        "id": "2193030",
        "identifier": 4065,
        "in_query": 0,
        "name": "2193030",
        "source": "Entrez Gene"
       },
       "grabbable": true,
       "grabbed": false,
       "position": {
        "x": 1437.2705856084217,
        "y": 246.95182986170107
       },
       "selectable": false
      }
     },
     "0f979a8dcc1a4edda310be7f093feac6": {
      "model_module": "jupyter-cytoscape",
      "model_module_version": "^1.3.3",
      "model_name": "EdgeModel",
      "state": {
       "_model_module_version": "^1.3.3",
       "_view_module_version": "^1.3.3",
       "data": {
        "_igraph_index": 10,
        "id": "70f5c433-1a14-41d2-bdcb-070765a1b78f",
        "source": "2119540",
        "target": "2116515",
        "type": "INTERACTS_PiP"
       },
       "selectable": false
      }
     },
     "0fc28b1aba5041c0801b923500b76642": {
      "model_module": "jupyter-cytoscape",
      "model_module_version": "^1.3.3",
      "model_name": "EdgeModel",
      "state": {
       "_model_module_version": "^1.3.3",
       "_view_module_version": "^1.3.3",
       "data": {
        "_igraph_index": 7,
        "id": "51b780f3-bb23-4335-9b1a-f41aa350f944",
        "source": "596787",
        "target": "2118765",
        "type": "BINDS_CbP"
       },
       "selectable": false
      }
     },
     "108e03c03f714beaac09bea50acefcb3": {
      "model_module": "jupyter-cytoscape",
      "model_module_version": "^1.3.3",
      "model_name": "NodeModel",
      "state": {
       "_model_module_version": "^1.3.3",
       "_view_module_version": "^1.3.3",
       "data": {
        "_igraph_index": 4,
        "category": "Compound",
        "feature_name": "CHEMBL225519",
        "id": "276355",
        "identifier": "CHEMBL225519",
        "in_query": 0,
        "name": "276355",
        "source": "ChEMBL"
       },
       "grabbable": true,
       "grabbed": false,
       "position": {
        "x": -34.301201134059816,
        "y": 186.976703699758
       },
       "selectable": false
      }
     },
     "123cf0fe8acd432fb783997756efd823": {
      "model_module": "jupyter-cytoscape",
      "model_module_version": "^1.3.3",
      "model_name": "EdgeModel",
      "state": {
       "_model_module_version": "^1.3.3",
       "_view_module_version": "^1.3.3",
       "data": {
        "_igraph_index": 68,
        "id": "929cc892-a63a-4903-9419-edef844b9dfe",
        "source": "2360597",
        "target": "2117563",
        "type": "PARTOF_PDpP"
       },
       "selectable": false
      }
     },
     "131f51e27edb44a6ac7b0e947650147c": {
      "model_module": "jupyter-cytoscape",
      "model_module_version": "^1.3.3",
      "model_name": "NodeModel",
      "state": {
       "_model_module_version": "^1.3.3",
       "_view_module_version": "^1.3.3",
       "data": {
        "_igraph_index": 27,
        "category": "Protein",
        "feature_name": "IRAK1_HUMAN",
        "id": "2120604",
        "identifier": "P51617",
        "in_query": 0,
        "name": "2120604",
        "source": "UniProt"
       },
       "grabbable": true,
       "grabbed": false,
       "position": {
        "x": 1541.4038024445524,
        "y": 81.75881923723533
       },
       "selectable": false
      }
     },
     "1380750ce96e493a8f008adb1286e9b5": {
      "model_module": "jupyter-cytoscape",
      "model_module_version": "^1.3.3",
      "model_name": "NodeModel",
      "state": {
       "_model_module_version": "^1.3.3",
       "_view_module_version": "^1.3.3",
       "data": {
        "_igraph_index": 5,
        "category": "Compound",
        "feature_name": "Valproic Acid",
        "id": "596787",
        "identifier": "DB00313",
        "in_query": 0,
        "name": "596787",
        "source": "ChEMBL"
       },
       "grabbable": true,
       "grabbed": false,
       "position": {
        "x": 1110.6988048659398,
        "y": 431.1689412309359
       },
       "selectable": false
      }
     },
     "14a456ebc69744738886278bd1b09b24": {
      "model_module": "jupyter-cytoscape",
      "model_module_version": "^1.3.3",
      "model_name": "NodeModel",
      "state": {
       "_model_module_version": "^1.3.3",
       "_view_module_version": "^1.3.3",
       "data": {
        "_igraph_index": 25,
        "category": "Gene",
        "feature_name": "LY75",
        "id": "2193030",
        "identifier": 4065,
        "in_query": 1,
        "name": "2193030",
        "source": "Entrez Gene"
       },
       "grabbable": true,
       "grabbed": false,
       "position": {
        "x": 1834.5057160486303,
        "y": 238.30477741178115
       },
       "selectable": false
      }
     },
     "156fd06e5ea84802921725b531ce0b40": {
      "model_module": "jupyter-cytoscape",
      "model_module_version": "^1.3.3",
      "model_name": "NodeModel",
      "state": {
       "_model_module_version": "^1.3.3",
       "_view_module_version": "^1.3.3",
       "data": {
        "_igraph_index": 43,
        "category": "Gene",
        "feature_name": "DDB2",
        "id": "2191191",
        "identifier": 1643,
        "in_query": 0,
        "name": "2191191",
        "source": "Entrez Gene"
       },
       "grabbable": true,
       "grabbed": false,
       "position": {
        "x": 1125.6988048659402,
        "y": 41.16893923093589
       },
       "selectable": false
      }
     },
     "16d02434779049bb8a3ca07354ea53aa": {
      "model_module": "jupyter-cytoscape",
      "model_module_version": "^1.3.3",
      "model_name": "NodeModel",
      "state": {
       "_model_module_version": "^1.3.3",
       "_view_module_version": "^1.3.3",
       "data": {
        "_igraph_index": 49,
        "category": "Gene",
        "feature_name": "NTF4",
        "id": "2193639",
        "identifier": 4909,
        "in_query": 0,
        "name": "2193639",
        "source": "Entrez Gene"
       },
       "grabbable": true,
       "grabbed": false,
       "position": {
        "x": 545.6988018659403,
        "y": 116.23646111848035
       },
       "selectable": false
      }
     },
     "17c19c2cbdc34ff486154ee8a8e5e7dd": {
      "model_module": "jupyter-cytoscape",
      "model_module_version": "^1.3.3",
      "model_name": "EdgeModel",
      "state": {
       "_model_module_version": "^1.3.3",
       "_view_module_version": "^1.3.3",
       "data": {
        "_igraph_index": 12,
        "id": "41bbbd3f-2060-4b92-8b46-d59c2db722b4",
        "source": "2172874",
        "target": "2190057",
        "type": "ASSOCIATES_DaG"
       },
       "selectable": false
      }
     },
     "1b31da229f074bdcaba9403fa2f06a75": {
      "model_module": "jupyter-cytoscape",
      "model_module_version": "^1.3.3",
      "model_name": "EdgeModel",
      "state": {
       "_model_module_version": "^1.3.3",
       "_view_module_version": "^1.3.3",
       "data": {
        "_igraph_index": 5,
        "id": "f0302297-8af1-4071-8ce4-e154850681c2",
        "source": "2118021",
        "target": "2122413",
        "type": "INTERACTS_PiP"
       },
       "selectable": false
      }
     },
     "1b7d09050f4d46c89decd503698514dd": {
      "model_module": "jupyter-cytoscape",
      "model_module_version": "^1.3.3",
      "model_name": "NodeModel",
      "state": {
       "_model_module_version": "^1.3.3",
       "_view_module_version": "^1.3.3",
       "data": {
        "_igraph_index": 23,
        "category": "Protein",
        "feature_name": "LYOX_HUMAN",
        "id": "2119540",
        "identifier": "P28300",
        "in_query": 0,
        "name": "2119540",
        "source": "UniProt"
       },
       "grabbable": true,
       "grabbed": false,
       "position": {
        "x": 550.6988018659403,
        "y": -73.76353988151965
       },
       "selectable": false
      }
     },
     "1bbbf33de0194908890445a61e92a1f6": {
      "model_module": "jupyter-cytoscape",
      "model_module_version": "^1.3.3",
      "model_name": "EdgeModel",
      "state": {
       "_model_module_version": "^1.3.3",
       "_view_module_version": "^1.3.3",
       "data": {
        "_igraph_index": 36,
        "id": "83a333d9-76a4-427f-abe9-dd47f638237b",
        "source": "2172874",
        "target": "2195048",
        "type": "ASSOCIATES_DaG"
       },
       "selectable": false
      }
     },
     "1bf333ebbbf04f30bc030a4148f691d4": {
      "model_module": "jupyter-cytoscape",
      "model_module_version": "^1.3.3",
      "model_name": "EdgeModel",
      "state": {
       "_model_module_version": "^1.3.3",
       "_view_module_version": "^1.3.3",
       "data": {
        "_igraph_index": 65,
        "id": "e99c173a-1f09-46af-8dcb-bda6c2532121",
        "source": "2205756",
        "target": "2142755",
        "type": "ENCODES_GeP"
       },
       "selectable": false
      }
     },
     "1d9456a1f90047148b46716553aecbac": {
      "model_module": "jupyter-cytoscape",
      "model_module_version": "^1.3.3",
      "model_name": "NodeModel",
      "state": {
       "_model_module_version": "^1.3.3",
       "_view_module_version": "^1.3.3",
       "data": {
        "_igraph_index": 24,
        "category": "Protein",
        "feature_name": "CAH5A_HUMAN",
        "id": "2119835",
        "identifier": "P35218",
        "in_query": 1,
        "name": "2119835",
        "source": "UniProt"
       },
       "grabbable": true,
       "grabbed": false,
       "position": {
        "x": 158.19879986594026,
        "y": -99.10210404679513
       },
       "selectable": false
      }
     },
     "1d9f63e42bd3438d8052f0c4620ace5a": {
      "model_module": "jupyter-cytoscape",
      "model_module_version": "^1.3.3",
      "model_name": "NodeModel",
      "state": {
       "_model_module_version": "^1.3.3",
       "_view_module_version": "^1.3.3",
       "data": {
        "_igraph_index": 34,
        "category": "Protein",
        "feature_name": "UHMK1_HUMAN",
        "id": "2146177",
        "identifier": "Q8TAS1",
        "in_query": 0,
        "name": "2146177",
        "source": "UniProt"
       },
       "grabbable": true,
       "grabbed": false,
       "position": {
        "x": -804.3012051340593,
        "y": -170.08163876280585
       },
       "selectable": false
      }
     },
     "1e6921cfbe554bf7bd61da5c45295d37": {
      "model_module": "jupyter-cytoscape",
      "model_module_version": "^1.3.3",
      "model_name": "NodeModel",
      "state": {
       "_model_module_version": "^1.3.3",
       "_view_module_version": "^1.3.3",
       "data": {
        "_igraph_index": 55,
        "category": "Gene",
        "feature_name": "BOC",
        "id": "2206864",
        "identifier": 91653,
        "in_query": 0,
        "name": "2206864",
        "source": "Entrez Gene"
       },
       "grabbable": true,
       "grabbed": false,
       "position": {
        "x": 428.609434392788,
        "y": 687.7887861619835
       },
       "selectable": false
      }
     },
     "1e8f553470394073a63610afe1b2ab89": {
      "model_module": "jupyter-cytoscape",
      "model_module_version": "^1.3.3",
      "model_name": "EdgeModel",
      "state": {
       "_model_module_version": "^1.3.3",
       "_view_module_version": "^1.3.3",
       "data": {
        "_igraph_index": 11,
        "id": "0b15ade0-546a-42fa-a8b5-bed0481a80ed",
        "source": "2119540",
        "target": "2117639",
        "type": "INTERACTS_PiP"
       },
       "selectable": false
      }
     },
     "1f980d49ea72498e8f5ccaee575f214b": {
      "model_module": "jupyter-cytoscape",
      "model_module_version": "^1.3.3",
      "model_name": "EdgeModel",
      "state": {
       "_model_module_version": "^1.3.3",
       "_view_module_version": "^1.3.3",
       "data": {
        "_igraph_index": 23,
        "id": "67d75950-7b8c-4b4f-b9e0-e87a726b5f83",
        "source": "1709660",
        "target": "2190998",
        "type": "UPREGULATES_CuG"
       },
       "selectable": false
      }
     },
     "1ff173b9a7d44dc0b8e4f0d71191fe34": {
      "model_module": "jupyter-cytoscape",
      "model_module_version": "^1.3.3",
      "model_name": "CytoscapeModel",
      "state": {
       "_interaction_handlers": {},
       "_model_module_version": "^1.3.3",
       "_view_module_version": "^1.3.3",
       "auto_ungrabify": false,
       "autolock": false,
       "cytoscape_layout": {
        "edgeLengthVal": 50,
        "name": "cola",
        "nodeSpacing": 80,
        "title": "high_proteins"
       },
       "cytoscape_style": [
        {
         "selector": "node[feature_name]",
         "style": {
          "font-family": "helvetica",
          "font-size": "20px",
          "label": "data(feature_name)",
          "text-valign": "top"
         }
        },
        {
         "selector": "node[category=\"Protein\"]",
         "style": {
          "background-color": "blue"
         }
        },
        {
         "selector": "node[in_query=1]",
         "style": {
          "border-color": "red",
          "border-width": "5px"
         }
        },
        {
         "selector": "edge[type]",
         "style": {
          "label": "data(type)"
         }
        },
        {
         "selector": "edge.directed",
         "style": {
          "curve-style": "bezier",
          "target-arrow-shape": "triangle"
         }
        }
       ],
       "desktop_tap_threshold": 4,
       "graph": "IPY_MODEL_f68ec0e0164044319411a7be75aea0c2",
       "headless": false,
       "hide_edges_on_viewport": false,
       "layout": "IPY_MODEL_e15ef1a1c97e4d76913407bc2e8b9ef5",
       "max_zoom": 1e+50,
       "min_zoom": 1e-50,
       "motion_blur": false,
       "motion_blur_opacity": 0.2,
       "panning_enabled": true,
       "pixel_ratio": "auto",
       "rendered_position": {
        "renderedPosition": {
         "x": 100,
         "y": 100
        }
       },
       "selection_type": "single",
       "style_enabled": true,
       "texture_on_viewport": false,
       "tooltip_source": "feature_name",
       "touch_tap_threshold": 8,
       "user_panning_enabled": true,
       "user_zooming_enabled": true,
       "wheel_sensitivity": 1,
       "zoom": 2,
       "zooming_enabled": true
      }
     },
     "205a9c92f702446f8f646a064e5d75e4": {
      "model_module": "jupyter-cytoscape",
      "model_module_version": "^1.3.3",
      "model_name": "EdgeModel",
      "state": {
       "_model_module_version": "^1.3.3",
       "_view_module_version": "^1.3.3",
       "data": {
        "_igraph_index": 47,
        "id": "b2e9df4b-8a2d-4ceb-bae3-c8fe39b12370",
        "source": "2172874",
        "target": "2198127",
        "type": "ASSOCIATES_DaG"
       },
       "selectable": false
      }
     },
     "223545bd09684f0d84dfc8963bf744e2": {
      "model_module": "jupyter-cytoscape",
      "model_module_version": "^1.3.3",
      "model_name": "EdgeModel",
      "state": {
       "_model_module_version": "^1.3.3",
       "_view_module_version": "^1.3.3",
       "data": {
        "_igraph_index": 53,
        "id": "32689b42-5084-4016-9f4c-69100cb60dfc",
        "source": "2197852",
        "target": "2198422",
        "type": "UPREGULATES_KGuG"
       },
       "selectable": false
      }
     },
     "22a1fa2e231941a29eee21b1fa9a6e0d": {
      "model_module": "jupyter-cytoscape",
      "model_module_version": "^1.3.3",
      "model_name": "EdgeModel",
      "state": {
       "_model_module_version": "^1.3.3",
       "_view_module_version": "^1.3.3",
       "data": {
        "_igraph_index": 27,
        "id": "c2b861d9-1d47-440d-a32c-3df40a8b2c72",
        "source": "2142755",
        "target": "2120760",
        "type": "INTERACTS_PiP"
       },
       "selectable": false
      }
     },
     "23898e9f426345dcb9acf217495d4f75": {
      "model_module": "jupyter-cytoscape",
      "model_module_version": "^1.3.3",
      "model_name": "EdgeModel",
      "state": {
       "_model_module_version": "^1.3.3",
       "_view_module_version": "^1.3.3",
       "data": {
        "_igraph_index": 70,
        "id": "55aa410a-ad70-4bbc-91b8-7aab7a3b4dd0",
        "source": "2369632",
        "target": "2042877",
        "type": "PARTOF_PDpP"
       },
       "selectable": false
      }
     },
     "2590bfef0ec0495da412432fa04e1c30": {
      "model_module": "jupyter-cytoscape",
      "model_module_version": "^1.3.3",
      "model_name": "NodeModel",
      "state": {
       "_model_module_version": "^1.3.3",
       "_view_module_version": "^1.3.3",
       "data": {
        "_igraph_index": 23,
        "category": "Gene",
        "feature_name": "GSTZ1",
        "id": "2192168",
        "identifier": 2954,
        "in_query": 0,
        "name": "2192168",
        "source": "Entrez Gene"
       },
       "grabbable": true,
       "grabbed": false,
       "position": {
        "x": 458.21843664865895,
        "y": -25.414053171156866
       },
       "selectable": false
      }
     },
     "26717706af23430f8d413c9a3c0caecd": {
      "model_module": "jupyter-cytoscape",
      "model_module_version": "^1.3.3",
      "model_name": "NodeModel",
      "state": {
       "_model_module_version": "^1.3.3",
       "_view_module_version": "^1.3.3",
       "data": {
        "_igraph_index": 6,
        "category": "Protein",
        "feature_name": "A0A024QZE4_HUMAN",
        "id": "1968891",
        "identifier": "A0A024QZE4",
        "in_query": 1,
        "name": "1968891",
        "source": "UniProt"
       },
       "grabbable": true,
       "grabbed": false,
       "position": {
        "x": -421.80120313405956,
        "y": 441.25822535979
       },
       "selectable": false
      }
     },
     "2873182b4be5456aa1246595d409a7de": {
      "model_module": "jupyter-cytoscape",
      "model_module_version": "^1.3.3",
      "model_name": "NodeModel",
      "state": {
       "_model_module_version": "^1.3.3",
       "_view_module_version": "^1.3.3",
       "data": {
        "_igraph_index": 15,
        "category": "Gene",
        "feature_name": "AKT1",
        "id": "2190057",
        "identifier": 207,
        "in_query": 0,
        "name": "2190057",
        "source": "Entrez Gene"
       },
       "grabbable": true,
       "grabbed": false,
       "position": {
        "x": 1447.00571404863,
        "y": 266.6376208332282
       },
       "selectable": false
      }
     },
     "2878e730acd749b8ab7267ad929b0b06": {
      "model_module": "jupyter-cytoscape",
      "model_module_version": "^1.3.3",
      "model_name": "NodeModel",
      "state": {
       "_model_module_version": "^1.3.3",
       "_view_module_version": "^1.3.3",
       "data": {
        "_igraph_index": 5,
        "category": "Protein",
        "feature_name": "MMP10_HUMAN",
        "id": "2118148",
        "identifier": "P09238",
        "in_query": 0,
        "name": "2118148",
        "source": "UniProt"
       },
       "grabbable": true,
       "grabbed": false,
       "position": {
        "x": 672.00571004863,
        "y": 554.5859498288431
       },
       "selectable": false
      }
     },
     "28b7e63c9a3d4f13a800cc364bdb3e73": {
      "model_module": "jupyter-cytoscape",
      "model_module_version": "^1.3.3",
      "model_name": "NodeModel",
      "state": {
       "_model_module_version": "^1.3.3",
       "_view_module_version": "^1.3.3",
       "data": {
        "_igraph_index": 40,
        "category": "Gene",
        "feature_name": "BANK1",
        "id": "2204130",
        "identifier": 55024,
        "in_query": 1,
        "name": "2204130",
        "source": "Entrez Gene"
       },
       "grabbable": true,
       "grabbed": false,
       "position": {
        "x": 1059.5057120486301,
        "y": -188.75846996460282
       },
       "selectable": false
      }
     },
     "2b56f991b4084c94ae3b24a8865b2553": {
      "model_module": "jupyter-cytoscape",
      "model_module_version": "^1.3.3",
      "model_name": "NodeModel",
      "state": {
       "_model_module_version": "^1.3.3",
       "_view_module_version": "^1.3.3",
       "data": {
        "_igraph_index": 22,
        "category": "Protein",
        "feature_name": "TF_HUMAN",
        "id": "2118765",
        "identifier": "P13726",
        "in_query": 0,
        "name": "2118765",
        "source": "UniProt"
       },
       "grabbable": true,
       "grabbed": false,
       "position": {
        "x": 1300.69880586594,
        "y": 231.16894023093587
       },
       "selectable": false
      }
     },
     "2b86f31047ab4ffabb8aedfacab08752": {
      "model_module": "jupyter-cytoscape",
      "model_module_version": "^1.3.3",
      "model_name": "NodeModel",
      "state": {
       "_model_module_version": "^1.3.3",
       "_view_module_version": "^1.3.3",
       "data": {
        "_igraph_index": 44,
        "category": "Gene",
        "feature_name": "PLXDC1",
        "id": "2205756",
        "identifier": 57125,
        "in_query": 1,
        "name": "2205756",
        "source": "Entrez Gene"
       },
       "grabbable": true,
       "grabbed": false,
       "position": {
        "x": -485.4942959513699,
        "y": 334.9823494279436
       },
       "selectable": false
      }
     },
     "2d4c0b1e846348579fa2b6ccb4890d9c": {
      "model_module": "jupyter-cytoscape",
      "model_module_version": "^1.3.3",
      "model_name": "NodeModel",
      "state": {
       "_model_module_version": "^1.3.3",
       "_view_module_version": "^1.3.3",
       "data": {
        "_igraph_index": 8,
        "category": "Protein",
        "feature_name": "A0A024RAP7_HUMAN",
        "id": "1979250",
        "identifier": "A0A024RAP7",
        "in_query": 1,
        "name": "1979250",
        "source": "UniProt"
       },
       "grabbable": true,
       "grabbed": false,
       "position": {
        "x": -421.80120313405956,
        "y": -158.40343222047866
       },
       "selectable": false
      }
     },
     "2d8e519e4e1f4283a386479aac1b0e1e": {
      "model_module": "jupyter-cytoscape",
      "model_module_version": "^1.3.3",
      "model_name": "EdgeModel",
      "state": {
       "_model_module_version": "^1.3.3",
       "_view_module_version": "^1.3.3",
       "data": {
        "_igraph_index": 67,
        "id": "a23939ed-e326-4798-9137-08f08a3682de",
        "source": "2364080",
        "target": "1982480",
        "type": "PARTOF_PDpP"
       },
       "selectable": false
      }
     },
     "2e0b31654a614533bd50a5bd5c7fb1c6": {
      "model_module": "jupyter-cytoscape",
      "model_module_version": "^1.3.3",
      "model_name": "NodeModel",
      "state": {
       "_model_module_version": "^1.3.3",
       "_view_module_version": "^1.3.3",
       "data": {
        "_igraph_index": 17,
        "category": "Gene",
        "feature_name": "CAMK2G",
        "id": "2190548",
        "identifier": 818,
        "in_query": 0,
        "name": "2190548",
        "source": "Entrez Gene"
       },
       "grabbable": true,
       "grabbed": false,
       "position": {
        "x": -92.99429395137008,
        "y": 47.97913080957738
       },
       "selectable": false
      }
     },
     "30a2dd475bdc4712a7cf418924d53c45": {
      "model_module": "jupyter-cytoscape",
      "model_module_version": "^1.3.3",
      "model_name": "EdgeModel",
      "state": {
       "_model_module_version": "^1.3.3",
       "_view_module_version": "^1.3.3",
       "data": {
        "_igraph_index": 19,
        "id": "b6ccf380-fc90-48e6-bbed-983fe5025ead",
        "source": "2172874",
        "target": "2190667",
        "type": "ASSOCIATES_DaG"
       },
       "selectable": false
      }
     },
     "33f4c885040d49079d19c1847b78efd8": {
      "model_module": "jupyter-cytoscape",
      "model_module_version": "^1.3.3",
      "model_name": "EdgeModel",
      "state": {
       "_model_module_version": "^1.3.3",
       "_view_module_version": "^1.3.3",
       "data": {
        "_igraph_index": 29,
        "id": "feb5a894-b19c-461d-a3c3-d7b250dbb85c",
        "source": "2119835",
        "target": "2146177",
        "type": "INTERACTS_PiP"
       },
       "selectable": false
      }
     },
     "34325d24bf344518a5909ebf90f3c645": {
      "model_module": "jupyter-cytoscape",
      "model_module_version": "^1.3.3",
      "model_name": "EdgeModel",
      "state": {
       "_model_module_version": "^1.3.3",
       "_view_module_version": "^1.3.3",
       "data": {
        "_igraph_index": 19,
        "id": "f4912157-bb9e-4ee1-b681-c9d16771e4d5",
        "source": "2119896",
        "target": "2116028",
        "type": "INTERACTS_PiP"
       },
       "selectable": false
      }
     },
     "356b62e7bcbb42dba66fb2812c867d69": {
      "model_module": "jupyter-cytoscape",
      "model_module_version": "^1.3.3",
      "model_name": "NodeModel",
      "state": {
       "_model_module_version": "^1.3.3",
       "_view_module_version": "^1.3.3",
       "data": {
        "_igraph_index": 36,
        "category": "Protein",
        "feature_name": "ERBIN_HUMAN",
        "id": "2150067",
        "identifier": "Q96RT1",
        "in_query": 1,
        "name": "2150067",
        "source": "UniProt"
       },
       "grabbable": true,
       "grabbed": false,
       "position": {
        "x": 1108.1988048659398,
        "y": 238.66894023093587
       },
       "selectable": false
      }
     },
     "3573c9b5a2f546f4a605d1843a799bbb": {
      "model_module": "jupyter-cytoscape",
      "model_module_version": "^1.3.3",
      "model_name": "NodeModel",
      "state": {
       "_model_module_version": "^1.3.3",
       "_view_module_version": "^1.3.3",
       "data": {
        "_igraph_index": 7,
        "category": "Protein",
        "feature_name": "A0A024R012_HUMAN",
        "id": "1971110",
        "identifier": "A0A024R012",
        "in_query": 1,
        "name": "1971110",
        "source": "UniProt"
       },
       "grabbable": true,
       "grabbed": false,
       "position": {
        "x": 728.1988028659399,
        "y": 503.73646311848034
       },
       "selectable": false
      }
     },
     "3685c363e71f40708ab98b501eb1bf5a": {
      "model_module": "jupyter-cytoscape",
      "model_module_version": "^1.3.3",
      "model_name": "EdgeModel",
      "state": {
       "_model_module_version": "^1.3.3",
       "_view_module_version": "^1.3.3",
       "data": {
        "_igraph_index": 30,
        "id": "0d1dcaf4-cf25-4bb8-99f9-7953ceec868e",
        "source": "2150833",
        "target": "2116515",
        "type": "INTERACTS_PiP"
       },
       "selectable": false
      }
     },
     "3a8226ab812d43f9b92beadcc0c36493": {
      "model_module": "jupyter-cytoscape",
      "model_module_version": "^1.3.3",
      "model_name": "EdgeModel",
      "state": {
       "_model_module_version": "^1.3.3",
       "_view_module_version": "^1.3.3",
       "data": {
        "_igraph_index": 6,
        "id": "92e4bc46-c7c4-4028-b83e-d79ac2c39150",
        "source": "2122413",
        "target": "2142755",
        "type": "INTERACTS_PiP"
       },
       "selectable": false
      }
     },
     "3c30bcb66a3d4df9bc929c9ef6761d22": {
      "model_module": "jupyter-cytoscape",
      "model_module_version": "^1.3.3",
      "model_name": "NodeModel",
      "state": {
       "_model_module_version": "^1.3.3",
       "_view_module_version": "^1.3.3",
       "data": {
        "_igraph_index": 29,
        "category": "Protein",
        "feature_name": "Q4JM46_HUMAN",
        "id": "2128288",
        "identifier": "Q4JM46",
        "in_query": 1,
        "name": "2128288",
        "source": "UniProt"
       },
       "grabbable": true,
       "grabbed": false,
       "position": {
        "x": -816.8012051340593,
        "y": 32.26699943460437
       },
       "selectable": false
      }
     },
     "3c799483f5d1490098ca4674fb2b9820": {
      "model_module": "jupyter-cytoscape",
      "model_module_version": "^1.3.3",
      "model_name": "EdgeModel",
      "state": {
       "_model_module_version": "^1.3.3",
       "_view_module_version": "^1.3.3",
       "data": {
        "_igraph_index": 15,
        "id": "2275fb56-f7a2-4add-9c09-96521ce79faf",
        "source": "2117639",
        "target": "2119863",
        "type": "INTERACTS_PiP"
       },
       "selectable": false
      }
     },
     "3cf34b4de5094e2c90ce7c1f4ab83974": {
      "model_module": "jupyter-cytoscape",
      "model_module_version": "^1.3.3",
      "model_name": "EdgeModel",
      "state": {
       "_model_module_version": "^1.3.3",
       "_view_module_version": "^1.3.3",
       "data": {
        "_igraph_index": 16,
        "id": "218b9d36-9eca-4511-a565-afd8a89aaa4c",
        "source": "956713",
        "target": "2190667",
        "type": "DOWNREGULATES_CdG"
       },
       "selectable": false
      }
     },
     "3dfd8e7277434579a07704085acfda69": {
      "model_module": "jupyter-cytoscape",
      "model_module_version": "^1.3.3",
      "model_name": "EdgeModel",
      "state": {
       "_model_module_version": "^1.3.3",
       "_view_module_version": "^1.3.3",
       "data": {
        "_igraph_index": 51,
        "id": "0f809429-03d6-4fe7-81e5-c34c0e8fbbe9",
        "source": "2198422",
        "target": "2195048",
        "type": "DOWNREGULATES_KGdG"
       },
       "selectable": false
      }
     },
     "3e5b42c633564f52b7d164514102f062": {
      "model_module": "jupyter-cytoscape",
      "model_module_version": "^1.3.3",
      "model_name": "EdgeModel",
      "state": {
       "_model_module_version": "^1.3.3",
       "_view_module_version": "^1.3.3",
       "data": {
        "_igraph_index": 24,
        "id": "0f6903d4-0a4e-4006-8277-3722273c2a03",
        "source": "2119863",
        "target": "2120604",
        "type": "INTERACTS_PiP"
       },
       "selectable": false
      }
     },
     "3ef30bbf1d53443c95a822b8ed50d657": {
      "model_module": "jupyter-cytoscape",
      "model_module_version": "^1.3.3",
      "model_name": "EdgeModel",
      "state": {
       "_model_module_version": "^1.3.3",
       "_view_module_version": "^1.3.3",
       "data": {
        "_igraph_index": 22,
        "id": "cc049fc5-16f7-4974-9dc1-3bbbc34b8c69",
        "source": "2119863",
        "target": "2119896",
        "type": "INTERACTS_PiP"
       },
       "selectable": false
      }
     },
     "3f0a0079f779412596611ba306058dce": {
      "model_module": "jupyter-cytoscape",
      "model_module_version": "^1.3.3",
      "model_name": "EdgeModel",
      "state": {
       "_model_module_version": "^1.3.3",
       "_view_module_version": "^1.3.3",
       "data": {
        "_igraph_index": 18,
        "id": "6dadb9cd-9633-49da-ac9c-6009ea5d3aec",
        "source": "2169474",
        "target": "2190667",
        "type": "ASSOCIATES_DaG"
       },
       "selectable": false
      }
     },
     "3f59a18ce0f84e3e8b544c0a55b4c847": {
      "model_module": "jupyter-cytoscape",
      "model_module_version": "^1.3.3",
      "model_name": "NodeModel",
      "state": {
       "_model_module_version": "^1.3.3",
       "_view_module_version": "^1.3.3",
       "data": {
        "_igraph_index": 0,
        "category": "Compound",
        "feature_name": "INIPARIB",
        "id": "292505",
        "identifier": "CHEMBL1170047",
        "in_query": 0,
        "name": "292505",
        "source": "ChEMBL"
       },
       "grabbable": true,
       "grabbed": false,
       "position": {
        "x": 482.00570904862997,
        "y": 359.58594882884313
       },
       "selectable": false
      }
     },
     "44ab7a713c894f1ba63cc88a98fab513": {
      "model_module": "jupyter-cytoscape",
      "model_module_version": "^1.3.3",
      "model_name": "EdgeModel",
      "state": {
       "_model_module_version": "^1.3.3",
       "_view_module_version": "^1.3.3",
       "data": {
        "_igraph_index": 4,
        "id": "b7eda097-207c-43fa-8c0f-4889f2b97a1e",
        "source": "19444",
        "target": "2039414",
        "type": "BINDS_CbP"
       },
       "selectable": false
      }
     },
     "451274ccb43b4430ba3a6c4b1956172b": {
      "model_module": "jupyter-cytoscape",
      "model_module_version": "^1.3.3",
      "model_name": "EdgeModel",
      "state": {
       "_model_module_version": "^1.3.3",
       "_view_module_version": "^1.3.3",
       "data": {
        "_igraph_index": 58,
        "id": "710f5bb4-7c1a-4911-ac04-476ef49eb1a1",
        "source": "2202245",
        "target": "2195048",
        "type": "DOWNREGULATES_KGdG"
       },
       "selectable": false
      }
     },
     "4550c5a461a3441399a44f01aa685337": {
      "model_module": "jupyter-cytoscape",
      "model_module_version": "^1.3.3",
      "model_name": "EdgeModel",
      "state": {
       "_model_module_version": "^1.3.3",
       "_view_module_version": "^1.3.3",
       "data": {
        "_igraph_index": 60,
        "id": "0be96e64-bd66-479a-a299-38519c204831",
        "source": "2204877",
        "target": "2150067",
        "type": "ENCODES_GeP"
       },
       "selectable": false
      }
     },
     "46c3cf287fdb4ae58bd8510fa4fcbade": {
      "model_module": "jupyter-cytoscape",
      "model_module_version": "^1.3.3",
      "model_name": "EdgeModel",
      "state": {
       "_model_module_version": "^1.3.3",
       "_view_module_version": "^1.3.3",
       "data": {
        "_igraph_index": 26,
        "id": "64fabfd1-bfbd-4107-9124-41506a534776",
        "source": "2192168",
        "target": "2190057",
        "type": "DOWNREGULATES_KGdG"
       },
       "selectable": false
      }
     },
     "47a1ad662ea34924b35901fc03f3120f": {
      "model_module": "jupyter-cytoscape",
      "model_module_version": "^1.3.3",
      "model_name": "NodeModel",
      "state": {
       "_model_module_version": "^1.3.3",
       "_view_module_version": "^1.3.3",
       "data": {
        "_igraph_index": 45,
        "category": "Gene",
        "feature_name": "BOC",
        "id": "2206864",
        "identifier": 91653,
        "in_query": 1,
        "name": "2206864",
        "source": "Entrez Gene"
       },
       "grabbable": true,
       "grabbed": false,
       "position": {
        "x": -95.49429395137008,
        "y": 683.5540548748381
       },
       "selectable": false
      }
     },
     "4801aacb5d0a4b0abdcb7bcdfbb2235c": {
      "model_module": "jupyter-cytoscape",
      "model_module_version": "^1.3.3",
      "model_name": "NodeModel",
      "state": {
       "_model_module_version": "^1.3.3",
       "_view_module_version": "^1.3.3",
       "data": {
        "_igraph_index": 2,
        "category": "Compound",
        "feature_name": "CHEMBL428525",
        "id": "73238",
        "identifier": "CHEMBL428525",
        "in_query": 0,
        "name": "73238",
        "source": "ChEMBL"
       },
       "grabbable": true,
       "grabbed": false,
       "position": {
        "x": 1316.7601987956787,
        "y": -159.90947926474507
       },
       "selectable": false
      }
     },
     "4814b9e7969c459fa8956492856f356a": {
      "model_module": "jupyter-cytoscape",
      "model_module_version": "^1.3.3",
      "model_name": "NodeModel",
      "state": {
       "_model_module_version": "^1.3.3",
       "_view_module_version": "^1.3.3",
       "data": {
        "_igraph_index": 29,
        "category": "Gene",
        "feature_name": "SOD2",
        "id": "2195048",
        "identifier": 6648,
        "in_query": 1,
        "name": "2195048",
        "source": "Entrez Gene"
       },
       "grabbable": true,
       "grabbed": false,
       "position": {
        "x": -480.4942959513699,
        "y": 139.9823484279436
       },
       "selectable": false
      }
     },
     "48c1bbcd6087407f9dd3ccd6c3122987": {
      "model_module": "jupyter-cytoscape",
      "model_module_version": "^1.3.3",
      "model_name": "EdgeModel",
      "state": {
       "_model_module_version": "^1.3.3",
       "_view_module_version": "^1.3.3",
       "data": {
        "_igraph_index": 57,
        "id": "ae0ca305-4610-4ed0-b8ae-8d2eaf6f84b9",
        "source": "2201942",
        "target": "2190548",
        "type": "UPREGULATES_KGuG"
       },
       "selectable": false
      }
     },
     "4a69d3397ffc4379a448657b143eed67": {
      "model_module": "jupyter-cytoscape",
      "model_module_version": "^1.3.3",
      "model_name": "NodeModel",
      "state": {
       "_model_module_version": "^1.3.3",
       "_view_module_version": "^1.3.3",
       "data": {
        "_igraph_index": 12,
        "category": "Disease",
        "feature_name": "inflammatory bowel disease",
        "id": "2165872",
        "identifier": "DOID:0050589",
        "in_query": 0,
        "name": "2165872",
        "source": "Disease Ontology"
       },
       "grabbable": true,
       "grabbed": false,
       "position": {
        "x": -472.9942959513699,
        "y": -52.5176525720564
       },
       "selectable": false
      }
     },
     "4b0363cbcf734ee8a0d8d08941fc08e8": {
      "model_module": "jupyter-cytoscape",
      "model_module_version": "^1.3.3",
      "model_name": "EdgeModel",
      "state": {
       "_model_module_version": "^1.3.3",
       "_view_module_version": "^1.3.3",
       "data": {
        "_igraph_index": 66,
        "id": "d5119c81-a642-49df-abb9-bf2265d657da",
        "source": "2206864",
        "target": "2151390",
        "type": "ENCODES_GeP"
       },
       "selectable": false
      }
     },
     "4b3445142554460580f0ec1629e67868": {
      "model_module": "jupyter-cytoscape",
      "model_module_version": "^1.3.3",
      "model_name": "EdgeModel",
      "state": {
       "_model_module_version": "^1.3.3",
       "_view_module_version": "^1.3.3",
       "data": {
        "_igraph_index": 64,
        "id": "0600894b-08dc-45df-a288-d944873a9d55",
        "source": "2207390",
        "target": "2191191",
        "type": "UPREGULATES_KGuG"
       },
       "selectable": false
      }
     },
     "4b49c4376f9e4328b60507478c0720c5": {
      "model_module": "jupyter-cytoscape",
      "model_module_version": "^1.3.3",
      "model_name": "NodeModel",
      "state": {
       "_model_module_version": "^1.3.3",
       "_view_module_version": "^1.3.3",
       "data": {
        "_igraph_index": 17,
        "category": "Protein",
        "feature_name": "ANGL7_HUMAN",
        "id": "2116028",
        "identifier": "O43827",
        "in_query": 1,
        "name": "2116028",
        "source": "UniProt"
       },
       "grabbable": true,
       "grabbed": false,
       "position": {
        "x": -231.8012021340597,
        "y": 246.25822435979003
       },
       "selectable": false
      }
     },
     "4c8a0ccde8f848c4936441ae5af4a378": {
      "model_module": "jupyter-cytoscape",
      "model_module_version": "^1.3.3",
      "model_name": "EdgeModel",
      "state": {
       "_model_module_version": "^1.3.3",
       "_view_module_version": "^1.3.3",
       "data": {
        "_igraph_index": 21,
        "id": "ef294d40-9ba4-4b5a-a548-85b9d5f39bbe",
        "source": "2118765",
        "target": "2119896",
        "type": "INTERACTS_PiP"
       },
       "selectable": false
      }
     },
     "4ce070d5de844520acbd9ae46d7d40a1": {
      "model_module": "jupyter-cytoscape",
      "model_module_version": "^1.3.3",
      "model_name": "EdgeModel",
      "state": {
       "_model_module_version": "^1.3.3",
       "_view_module_version": "^1.3.3",
       "data": {
        "_igraph_index": 14,
        "id": "8b51d1bd-3342-431b-b43c-64c45a06c106",
        "source": "2116515",
        "target": "2119863",
        "type": "INTERACTS_PiP"
       },
       "selectable": false
      }
     },
     "4f87de5ff1184f4d8db2866bc5076503": {
      "model_module": "jupyter-cytoscape",
      "model_module_version": "^1.3.3",
      "model_name": "NodeModel",
      "state": {
       "_model_module_version": "^1.3.3",
       "_view_module_version": "^1.3.3",
       "data": {
        "_igraph_index": 46,
        "category": "Gene",
        "feature_name": "GSTZ1",
        "id": "2192168",
        "identifier": 2954,
        "in_query": 0,
        "name": "2192168",
        "source": "Entrez Gene"
       },
       "grabbable": true,
       "grabbed": false,
       "position": {
        "x": 535.69880186594,
        "y": 306.23646211848035
       },
       "selectable": false
      }
     },
     "5063cc5ed6ba4cbf9c99e4a3571307b0": {
      "model_module": "jupyter-cytoscape",
      "model_module_version": "^1.3.3",
      "model_name": "NodeModel",
      "state": {
       "_model_module_version": "^1.3.3",
       "_view_module_version": "^1.3.3",
       "data": {
        "_igraph_index": 39,
        "category": "Gene",
        "feature_name": "HAO1",
        "id": "2203649",
        "identifier": 54363,
        "in_query": 1,
        "name": "2203649",
        "source": "Entrez Gene"
       },
       "grabbable": true,
       "grabbed": false,
       "position": {
        "x": 284.50570804862997,
        "y": 493.5540538748381
       },
       "selectable": false
      }
     },
     "519310d6f2f9432182f610fd20826ad7": {
      "model_module": "jupyter-cytoscape",
      "model_module_version": "^1.3.3",
      "model_name": "EdgeModel",
      "state": {
       "_model_module_version": "^1.3.3",
       "_view_module_version": "^1.3.3",
       "data": {
        "_igraph_index": 61,
        "id": "d4a78d0b-d411-4df4-be4b-fc676a58be89",
        "source": "2205126",
        "target": "2195702",
        "type": "UPREGULATES_KGuG"
       },
       "selectable": false
      }
     },
     "51b01fa9157c46bda32446944ade3c4e": {
      "model_module": "jupyter-cytoscape",
      "model_module_version": "^1.3.3",
      "model_name": "EdgeModel",
      "state": {
       "_model_module_version": "^1.3.3",
       "_view_module_version": "^1.3.3",
       "data": {
        "_igraph_index": 46,
        "id": "7cfda212-9602-4960-9482-cf1893aa761d",
        "source": "2189916",
        "target": "2193639",
        "type": "DOWNREGULATES_GPdG"
       },
       "selectable": false
      }
     },
     "52faa2ad659b4438a4e22f2c15efaf42": {
      "model_module": "jupyter-cytoscape",
      "model_module_version": "^1.3.3",
      "model_name": "EdgeModel",
      "state": {
       "_model_module_version": "^1.3.3",
       "_view_module_version": "^1.3.3",
       "data": {
        "_igraph_index": 11,
        "id": "5a23586c-dc5d-4c67-b8b0-773ee8748f96",
        "source": "2169474",
        "target": "2190057",
        "type": "ASSOCIATES_DaG"
       },
       "selectable": false
      }
     },
     "578fbfffb8b94f81b523060ce3499047": {
      "model_module": "jupyter-cytoscape",
      "model_module_version": "^1.3.3",
      "model_name": "EdgeModel",
      "state": {
       "_model_module_version": "^1.3.3",
       "_view_module_version": "^1.3.3",
       "data": {
        "_igraph_index": 13,
        "id": "03724d70-e6e8-42da-8c4e-b26baa2dcec5",
        "source": "134541",
        "target": "2119863",
        "type": "BINDS_CbP"
       },
       "selectable": false
      }
     },
     "5976f182d27f4fde8f04f5ee7e3a3873": {
      "model_module": "jupyter-cytoscape",
      "model_module_version": "^1.3.3",
      "model_name": "NodeModel",
      "state": {
       "_model_module_version": "^1.3.3",
       "_view_module_version": "^1.3.3",
       "data": {
        "_igraph_index": 18,
        "category": "Protein",
        "feature_name": "VEGFD_HUMAN",
        "id": "2116072",
        "identifier": "O43915",
        "in_query": 1,
        "name": "2116072",
        "source": "UniProt"
       },
       "grabbable": true,
       "grabbed": false,
       "position": {
        "x": 1241.6598075279871,
        "y": 290.2400703753061
       },
       "selectable": false
      }
     },
     "5a75ac2e8fc1496497778522a8a43eda": {
      "model_module": "jupyter-cytoscape",
      "model_module_version": "^1.3.3",
      "model_name": "EdgeModel",
      "state": {
       "_model_module_version": "^1.3.3",
       "_view_module_version": "^1.3.3",
       "data": {
        "_igraph_index": 21,
        "id": "835c2408-13af-4fe8-9d68-3cb7dc3f9c33",
        "source": "292505",
        "target": "2190998",
        "type": "UPREGULATES_CuG"
       },
       "selectable": false
      }
     },
     "5b0b6667535c4dae838a81e45dd1295a": {
      "model_module": "jupyter-cytoscape",
      "model_module_version": "^1.3.3",
      "model_name": "EdgeModel",
      "state": {
       "_model_module_version": "^1.3.3",
       "_view_module_version": "^1.3.3",
       "data": {
        "_igraph_index": 28,
        "id": "744187ba-5b7f-4530-b0e9-b6cb753d639b",
        "source": "2145136",
        "target": "2120604",
        "type": "INTERACTS_PiP"
       },
       "selectable": false
      }
     },
     "5cfc8a21e79c4f5c965702b1ff4fa1e2": {
      "model_module": "jupyter-cytoscape",
      "model_module_version": "^1.3.3",
      "model_name": "EdgeModel",
      "state": {
       "_model_module_version": "^1.3.3",
       "_view_module_version": "^1.3.3",
       "data": {
        "_igraph_index": 37,
        "id": "1ce13617-477d-41fc-9d10-1511fabc18a2",
        "source": "134541",
        "target": "2191364",
        "type": "UPREGULATES_CuG"
       },
       "selectable": false
      }
     },
     "5d7af45c92b747ce9223cb96bb3cc50d": {
      "model_module": "jupyter-cytoscape",
      "model_module_version": "^1.3.3",
      "model_name": "NodeModel",
      "state": {
       "_model_module_version": "^1.3.3",
       "_view_module_version": "^1.3.3",
       "data": {
        "_igraph_index": 33,
        "category": "Protein",
        "feature_name": "BANK1_HUMAN",
        "id": "2145136",
        "identifier": "Q8NDB2",
        "in_query": 1,
        "name": "2145136",
        "source": "UniProt"
       },
       "grabbable": true,
       "grabbed": false,
       "position": {
        "x": 1691.2461395747048,
        "y": 6.640332685562955
       },
       "selectable": false
      }
     },
     "5d819def22894b868032a7c840dd5ad3": {
      "model_module": "jupyter-cytoscape",
      "model_module_version": "^1.3.3",
      "model_name": "EdgeModel",
      "state": {
       "_model_module_version": "^1.3.3",
       "_view_module_version": "^1.3.3",
       "data": {
        "_igraph_index": 71,
        "id": "1fe0f8c9-473a-44a3-874d-5c26c17c234b",
        "source": "2369632",
        "target": "2119896",
        "type": "PARTOF_PDpP"
       },
       "selectable": false
      }
     },
     "5f9ca4580f3c4fd19824cdc88ef4f170": {
      "model_module": "jupyter-cytoscape",
      "model_module_version": "^1.3.3",
      "model_name": "NodeModel",
      "state": {
       "_model_module_version": "^1.3.3",
       "_view_module_version": "^1.3.3",
       "data": {
        "_igraph_index": 1,
        "category": "Compound",
        "feature_name": "CHEMBL1332325",
        "id": "45541",
        "identifier": "CHEMBL1332325",
        "in_query": 0,
        "name": "45541",
        "source": "ChEMBL"
       },
       "grabbable": true,
       "grabbed": false,
       "position": {
        "x": 155.69879986594006,
        "y": 93.39789695320486
       },
       "selectable": false
      }
     },
     "5ff1748b65394bb1b14d50b5d98db488": {
      "model_module": "jupyter-cytoscape",
      "model_module_version": "^1.3.3",
      "model_name": "EdgeModel",
      "state": {
       "_model_module_version": "^1.3.3",
       "_view_module_version": "^1.3.3",
       "data": {
        "_igraph_index": 34,
        "id": "4f881185-a6ed-4194-aae8-e026ed2fb34f",
        "source": "2190667",
        "target": "2193613",
        "type": "DOWNREGULATES_GPdG"
       },
       "selectable": false
      }
     },
     "621c11fe2fc8481ca4f42943c2738f8e": {
      "model_module": "jupyter-cytoscape",
      "model_module_version": "^1.3.3",
      "model_name": "EdgeModel",
      "state": {
       "_model_module_version": "^1.3.3",
       "_view_module_version": "^1.3.3",
       "data": {
        "_igraph_index": 8,
        "id": "8a445c97-4623-4fad-a705-cb4b37cac4d9",
        "source": "2117563",
        "target": "2156777",
        "type": "INTERACTS_PiP"
       },
       "selectable": false
      }
     },
     "63320980672d43f681d931d6afd420e5": {
      "model_module": "jupyter-cytoscape",
      "model_module_version": "^1.3.3",
      "model_name": "NodeModel",
      "state": {
       "_model_module_version": "^1.3.3",
       "_view_module_version": "^1.3.3",
       "data": {
        "_igraph_index": 48,
        "category": "Gene",
        "feature_name": "NPPC",
        "id": "2193613",
        "identifier": 4880,
        "in_query": 0,
        "name": "2193613",
        "source": "Entrez Gene"
       },
       "grabbable": true,
       "grabbed": false,
       "position": {
        "x": -229.3012021340597,
        "y": 438.75822535979
       },
       "selectable": false
      }
     },
     "649c113920564bf7becd0a61fa541690": {
      "model_module": "jupyter-cytoscape",
      "model_module_version": "^1.3.3",
      "model_name": "EdgeModel",
      "state": {
       "_model_module_version": "^1.3.3",
       "_view_module_version": "^1.3.3",
       "data": {
        "_igraph_index": 48,
        "id": "7fc5d132-13b8-49e5-8ffa-5fcbc4ff3c0f",
        "source": "2195048",
        "target": "2190994",
        "type": "UPREGULATES_GPuG"
       },
       "selectable": false
      }
     },
     "64e35bc3edfe46f0829fad495db5272f": {
      "model_module": "jupyter-cytoscape",
      "model_module_version": "^1.3.3",
      "model_name": "EdgeModel",
      "state": {
       "_model_module_version": "^1.3.3",
       "_view_module_version": "^1.3.3",
       "data": {
        "_igraph_index": 62,
        "id": "82d3631a-5113-486e-a0a3-0b288b409f4f",
        "source": "292505",
        "target": "2205318",
        "type": "UPREGULATES_CuG"
       },
       "selectable": false
      }
     },
     "659f77a3379342f39f8e5ef7fb9fd5e5": {
      "model_module": "jupyter-cytoscape",
      "model_module_version": "^1.3.3",
      "model_name": "EdgeModel",
      "state": {
       "_model_module_version": "^1.3.3",
       "_view_module_version": "^1.3.3",
       "data": {
        "_igraph_index": 56,
        "id": "cbc8fc09-17a8-4608-812d-207d98fc9e7d",
        "source": "2198444",
        "target": "2120760",
        "type": "ENCODES_GeP"
       },
       "selectable": false
      }
     },
     "6768aa1643cd42a78c501f1286178821": {
      "model_module": "jupyter-cytoscape",
      "model_module_version": "^1.3.3",
      "model_name": "NodeModel",
      "state": {
       "_model_module_version": "^1.3.3",
       "_view_module_version": "^1.3.3",
       "data": {
        "_igraph_index": 2,
        "category": "Compound",
        "feature_name": "Resveratrol",
        "id": "1709660",
        "identifier": "DB02709",
        "in_query": 0,
        "name": "1709660",
        "source": "ChEMBL"
       },
       "grabbable": true,
       "grabbed": false,
       "position": {
        "x": -477.9942959513699,
        "y": 527.4823504279435
       },
       "selectable": false
      }
     },
     "678b46fe62c24605ab6cc6a1f8bf6580": {
      "model_module": "jupyter-cytoscape",
      "model_module_version": "^1.3.3",
      "model_name": "EdgeModel",
      "state": {
       "_model_module_version": "^1.3.3",
       "_view_module_version": "^1.3.3",
       "data": {
        "_igraph_index": 48,
        "id": "94b713fb-cf1d-4e35-b55d-7ffec2cdb73f",
        "source": "2198127",
        "target": "2195702",
        "type": "UPREGULATES_OGuG"
       },
       "selectable": false
      }
     },
     "67f1e9b731e74859b05a2a8767e7233c": {
      "model_module": "jupyter-cytoscape",
      "model_module_version": "^1.3.3",
      "model_name": "NodeModel",
      "state": {
       "_model_module_version": "^1.3.3",
       "_view_module_version": "^1.3.3",
       "data": {
        "_igraph_index": 16,
        "category": "Protein",
        "feature_name": "J3KNB3_HUMAN",
        "id": "2103936",
        "identifier": "J3KNB3",
        "in_query": 1,
        "name": "2103936",
        "source": "UniProt"
       },
       "grabbable": true,
       "grabbed": false,
       "position": {
        "x": -226.8012021340597,
        "y": 631.25822635979
       },
       "selectable": false
      }
     },
     "696b1fb6a17d44289a7c2f3cabf6a122": {
      "model_module": "jupyter-cytoscape",
      "model_module_version": "^1.3.3",
      "model_name": "NodeModel",
      "state": {
       "_model_module_version": "^1.3.3",
       "_view_module_version": "^1.3.3",
       "data": {
        "_igraph_index": 41,
        "category": "Gene",
        "feature_name": "ABCF1",
        "id": "2189916",
        "identifier": 23,
        "in_query": 0,
        "name": "2189916",
        "source": "Entrez Gene"
       },
       "grabbable": true,
       "grabbed": false,
       "position": {
        "x": 1700.6988078659404,
        "y": -104.26345551089241
       },
       "selectable": false
      }
     },
     "6b088d08e1bc44aab7a123998bf27c64": {
      "model_module": "jupyter-cytoscape",
      "model_module_version": "^1.3.3",
      "model_name": "NodeModel",
      "state": {
       "_model_module_version": "^1.3.3",
       "_view_module_version": "^1.3.3",
       "data": {
        "_igraph_index": 46,
        "category": "Gene",
        "feature_name": "DAPP1",
        "id": "2207390",
        "identifier": 27071,
        "in_query": 1,
        "name": "2207390",
        "source": "Entrez Gene"
       },
       "grabbable": true,
       "grabbed": false,
       "position": {
        "x": 479.50570904862997,
        "y": 552.0859498288431
       },
       "selectable": false
      }
     },
     "6b49383cf9d5456db1c69eb0f3b81c12": {
      "model_module": "jupyter-cytoscape",
      "model_module_version": "^1.3.3",
      "model_name": "NodeModel",
      "state": {
       "_model_module_version": "^1.3.3",
       "_view_module_version": "^1.3.3",
       "data": {
        "_igraph_index": 30,
        "category": "Protein",
        "feature_name": "Q59H44_HUMAN",
        "id": "2131071",
        "identifier": "Q59H44",
        "in_query": 1,
        "name": "2131071",
        "source": "UniProt"
       },
       "grabbable": true,
       "grabbed": false,
       "position": {
        "x": 1462.4031886452099,
        "y": 343.3986989261415
       },
       "selectable": false
      }
     },
     "6cdf5539d7314df597fa1f0e9507a056": {
      "model_module": "jupyter-cytoscape",
      "model_module_version": "^1.3.3",
      "model_name": "EdgeModel",
      "state": {
       "_model_module_version": "^1.3.3",
       "_view_module_version": "^1.3.3",
       "data": {
        "_igraph_index": 0,
        "id": "fde4c33e-dd0e-4d11-96b6-95bdc7400fb1",
        "source": "596787",
        "target": "1971110",
        "type": "BINDS_CbP"
       },
       "selectable": false
      }
     },
     "6e1c4a9bcabe41d080a0cca674cadf0f": {
      "model_module": "jupyter-cytoscape",
      "model_module_version": "^1.3.3",
      "model_name": "NodeModel",
      "state": {
       "_model_module_version": "^1.3.3",
       "_view_module_version": "^1.3.3",
       "data": {
        "_igraph_index": 6,
        "category": "Protein",
        "feature_name": "CAH5A_HUMAN",
        "id": "2119835",
        "identifier": "P35218",
        "in_query": 0,
        "name": "2119835",
        "source": "UniProt"
       },
       "grabbable": true,
       "grabbed": false,
       "position": {
        "x": -287.99429495136997,
        "y": 527.4823504279435
       },
       "selectable": false
      }
     },
     "6e60ff69deba4b44a17d07f1b6ad421f": {
      "model_module": "jupyter-cytoscape",
      "model_module_version": "^1.3.3",
      "model_name": "NodeModel",
      "state": {
       "_model_module_version": "^1.3.3",
       "_view_module_version": "^1.3.3",
       "data": {
        "_igraph_index": 7,
        "category": "Protein",
        "feature_name": "LRP1_HUMAN",
        "id": "2122413",
        "identifier": "Q07954",
        "in_query": 0,
        "name": "2122413",
        "source": "UniProt"
       },
       "grabbable": true,
       "grabbed": false,
       "position": {
        "x": 677.00571004863,
        "y": 169.58594782884313
       },
       "selectable": false
      }
     },
     "6ed74879aafb4b049dba55c8c364db46": {
      "model_module": "jupyter-cytoscape",
      "model_module_version": "^1.3.3",
      "model_name": "NodeModel",
      "state": {
       "_model_module_version": "^1.3.3",
       "_view_module_version": "^1.3.3",
       "data": {
        "_igraph_index": 9,
        "category": "Protein",
        "feature_name": "PRS27_HUMAN",
        "id": "2150833",
        "identifier": "Q9BQR3",
        "in_query": 0,
        "name": "2150833",
        "source": "UniProt"
       },
       "grabbable": true,
       "grabbed": false,
       "position": {
        "x": -282.99429495136997,
        "y": -52.5176525720564
       },
       "selectable": false
      }
     },
     "6f59d45142274790934b20b428c4faaf": {
      "model_module": "jupyter-cytoscape",
      "model_module_version": "^1.3.3",
      "model_name": "NodeModel",
      "state": {
       "_model_module_version": "^1.3.3",
       "_view_module_version": "^1.3.3",
       "data": {
        "_igraph_index": 15,
        "category": "Protein",
        "feature_name": "E5LCN7_HUMAN",
        "id": "2071533",
        "identifier": "E5LCN7",
        "in_query": 1,
        "name": "2071533",
        "source": "UniProt"
       },
       "grabbable": true,
       "grabbed": false,
       "position": {
        "x": 623.0820606720691,
        "y": 592.0864943403412
       },
       "selectable": false
      }
     },
     "742f1c1c819b42ef96d449884f7d7992": {
      "model_module": "jupyter-cytoscape",
      "model_module_version": "^1.3.3",
      "model_name": "NodeModel",
      "state": {
       "_model_module_version": "^1.3.3",
       "_view_module_version": "^1.3.3",
       "data": {
        "_igraph_index": 54,
        "category": "Gene",
        "feature_name": "ERBIN",
        "id": "2204877",
        "identifier": 55914,
        "in_query": 0,
        "name": "2204877",
        "source": "Entrez Gene"
       },
       "grabbable": true,
       "grabbed": false,
       "position": {
        "x": -34.301201134059816,
        "y": -198.023298300242
       },
       "selectable": false
      }
     },
     "75c21d7f8a5d457aa3aa577bb99fc62f": {
      "model_module": "jupyter-cytoscape",
      "model_module_version": "^1.3.3",
      "model_name": "EdgeModel",
      "state": {
       "_model_module_version": "^1.3.3",
       "_view_module_version": "^1.3.3",
       "data": {
        "_igraph_index": 1,
        "id": "9ff4ff00-baa1-45fc-bf67-3c1f35ed59ef",
        "source": "956713",
        "target": "2118148",
        "type": "BINDS_CbP"
       },
       "selectable": false
      }
     },
     "769914af9bda46dc8acdd786a0804413": {
      "model_module": "jupyter-cytoscape",
      "model_module_version": "^1.3.3",
      "model_name": "EdgeModel",
      "state": {
       "_model_module_version": "^1.3.3",
       "_view_module_version": "^1.3.3",
       "data": {
        "_igraph_index": 12,
        "id": "210fa1bd-4933-4a87-945f-fb9ebe4b2eb2",
        "source": "19444",
        "target": "2119835",
        "type": "BINDS_CbP"
       },
       "selectable": false
      }
     },
     "784771d2b888496ab9eba40330c852a8": {
      "model_module": "jupyter-cytoscape",
      "model_module_version": "^1.3.3",
      "model_name": "EdgeModel",
      "state": {
       "_model_module_version": "^1.3.3",
       "_view_module_version": "^1.3.3",
       "data": {
        "_igraph_index": 59,
        "id": "a48fd1b8-cabe-46e8-b3b8-c834a05ad5d2",
        "source": "2165872",
        "target": "2204130",
        "type": "ASSOCIATES_DaG"
       },
       "selectable": false
      }
     },
     "7917916aa2cb4b3b836e7d91705f7635": {
      "model_module": "jupyter-cytoscape",
      "model_module_version": "^1.3.3",
      "model_name": "NodeModel",
      "state": {
       "_model_module_version": "^1.3.3",
       "_view_module_version": "^1.3.3",
       "data": {
        "_igraph_index": 39,
        "category": "Protein",
        "feature_name": "Q9UG59_HUMAN",
        "id": "2156387",
        "identifier": "Q9UG59",
        "in_query": 1,
        "name": "2156387",
        "source": "UniProt"
       },
       "grabbable": true,
       "grabbed": false,
       "position": {
        "x": 343.1988008659401,
        "y": 381.2735955175008
       },
       "selectable": false
      }
     },
     "7b7d9e83b532466883c0542042c5f5af": {
      "model_module": "@jupyter-widgets/base",
      "model_module_version": "2.0.0",
      "model_name": "LayoutModel",
      "state": {}
     },
     "803f0fdb1a9940ceaee5658103f8cf12": {
      "model_module": "jupyter-cytoscape",
      "model_module_version": "^1.3.3",
      "model_name": "EdgeModel",
      "state": {
       "_model_module_version": "^1.3.3",
       "_view_module_version": "^1.3.3",
       "data": {
        "_igraph_index": 6,
        "id": "809c058e-3dc5-43f9-ad7c-b2d32eb33cb9",
        "source": "2117639",
        "target": "2118148",
        "type": "INTERACTS_PiP"
       },
       "selectable": false
      }
     },
     "80871e6a632c464383f75d015c3a386c": {
      "model_module": "jupyter-cytoscape",
      "model_module_version": "^1.3.3",
      "model_name": "EdgeModel",
      "state": {
       "_model_module_version": "^1.3.3",
       "_view_module_version": "^1.3.3",
       "data": {
        "_igraph_index": 41,
        "id": "1d1a04c1-2754-456e-9826-d19c24474ad1",
        "source": "2190998",
        "target": "2195172",
        "type": "UPREGULATES_KGuG"
       },
       "selectable": false
      }
     },
     "80aa03095d5a4f879d799c5b515ad508": {
      "model_module": "jupyter-cytoscape",
      "model_module_version": "^1.3.3",
      "model_name": "NodeModel",
      "state": {
       "_model_module_version": "^1.3.3",
       "_view_module_version": "^1.3.3",
       "data": {
        "_igraph_index": 42,
        "category": "Gene",
        "feature_name": "CRH",
        "id": "2190994",
        "identifier": 1392,
        "in_query": 0,
        "name": "2190994",
        "source": "Entrez Gene"
       },
       "grabbable": true,
       "grabbed": false,
       "position": {
        "x": 920.69880386594,
        "y": 501.23646311848034
       },
       "selectable": false
      }
     },
     "811ebc89722a4e4688fb00a9d72fbd0e": {
      "model_module": "jupyter-cytoscape",
      "model_module_version": "^1.3.3",
      "model_name": "NodeModel",
      "state": {
       "_model_module_version": "^1.3.3",
       "_view_module_version": "^1.3.3",
       "data": {
        "_igraph_index": 10,
        "category": "Protein",
        "feature_name": "A0A087WVN8_HUMAN",
        "id": "1982480",
        "identifier": "A0A087WVN8",
        "in_query": 1,
        "name": "1982480",
        "source": "UniProt"
       },
       "grabbable": true,
       "grabbed": false,
       "position": {
        "x": -996.8012061340593,
        "y": -192.27393581279
       },
       "selectable": false
      }
     },
     "836e05dd92ba4e03bfe1ea60fa2329cf": {
      "model_module": "jupyter-cytoscape",
      "model_module_version": "^1.3.3",
      "model_name": "EdgeModel",
      "state": {
       "_model_module_version": "^1.3.3",
       "_view_module_version": "^1.3.3",
       "data": {
        "_igraph_index": 2,
        "id": "46755659-316f-4751-8076-ec738c2ecfbf",
        "source": "134541",
        "target": "1979810",
        "type": "BINDS_CbP"
       },
       "selectable": false
      }
     },
     "83f8f6d85c51487a94105e8728e26ff5": {
      "model_module": "jupyter-cytoscape",
      "model_module_version": "^1.3.3",
      "model_name": "NodeModel",
      "state": {
       "_model_module_version": "^1.3.3",
       "_view_module_version": "^1.3.3",
       "data": {
        "_igraph_index": 36,
        "category": "Gene",
        "feature_name": "PKIG",
        "id": "2198606",
        "identifier": 11142,
        "in_query": 0,
        "name": "2198606",
        "source": "Entrez Gene"
       },
       "grabbable": true,
       "grabbed": false,
       "position": {
        "x": 1048.7563704375332,
        "y": 480.76423672813036
       },
       "selectable": false
      }
     },
     "86da82557ef24dc0b911565af5fee082": {
      "model_module": "jupyter-cytoscape",
      "model_module_version": "^1.3.3",
      "model_name": "NodeModel",
      "state": {
       "_model_module_version": "^1.3.3",
       "_view_module_version": "^1.3.3",
       "data": {
        "_igraph_index": 38,
        "category": "Protein",
        "feature_name": "BOC_HUMAN",
        "id": "2151390",
        "identifier": "Q9BWV1",
        "in_query": 0,
        "name": "2151390",
        "source": "UniProt"
       },
       "grabbable": true,
       "grabbed": false,
       "position": {
        "x": 740.6988028659403,
        "y": -73.76353988151965
       },
       "selectable": false
      }
     },
     "8853151e931148b78b07178d0831bcc6": {
      "model_module": "jupyter-cytoscape",
      "model_module_version": "^1.3.3",
      "model_name": "EdgeModel",
      "state": {
       "_model_module_version": "^1.3.3",
       "_view_module_version": "^1.3.3",
       "data": {
        "_igraph_index": 53,
        "id": "51d69dd7-1302-482f-9d0d-c3a193ef1dca",
        "source": "2198127",
        "target": "2128288",
        "type": "ENCODES_GeP"
       },
       "selectable": false
      }
     },
     "889b2f230c6a4fa889ca916e61aa90aa": {
      "model_module": "jupyter-cytoscape",
      "model_module_version": "^1.3.3",
      "model_name": "EdgeModel",
      "state": {
       "_model_module_version": "^1.3.3",
       "_view_module_version": "^1.3.3",
       "data": {
        "_igraph_index": 32,
        "id": "94b97ff9-dbe2-4602-9d8e-fede40109573",
        "source": "2193030",
        "target": "2192168",
        "type": "UPREGULATES_KGuG"
       },
       "selectable": false
      }
     },
     "88ad32efaf3a4c3aad5da8425a508793": {
      "model_module": "jupyter-cytoscape",
      "model_module_version": "^1.3.3",
      "model_name": "EdgeModel",
      "state": {
       "_model_module_version": "^1.3.3",
       "_view_module_version": "^1.3.3",
       "data": {
        "_igraph_index": 69,
        "id": "4f1b8a4e-b3f3-4bc8-8f14-ad80d8a47490",
        "source": "2360597",
        "target": "2150833",
        "type": "PARTOF_PDpP"
       },
       "selectable": false
      }
     },
     "8975eda706a64f5a8db000ff65baa4ac": {
      "model_module": "jupyter-cytoscape",
      "model_module_version": "^1.3.3",
      "model_name": "EdgeModel",
      "state": {
       "_model_module_version": "^1.3.3",
       "_view_module_version": "^1.3.3",
       "data": {
        "_igraph_index": 9,
        "id": "fb08ead2-1351-4efc-b4a9-a3291beeabed",
        "source": "2172874",
        "target": "2169474",
        "type": "RESEMBLES_DrD"
       },
       "selectable": false
      }
     },
     "89a90c41fa5e4f80829dcbc2260313a5": {
      "model_module": "jupyter-cytoscape",
      "model_module_version": "^1.3.3",
      "model_name": "EdgeModel",
      "state": {
       "_model_module_version": "^1.3.3",
       "_view_module_version": "^1.3.3",
       "data": {
        "_igraph_index": 23,
        "id": "3876474f-968a-42f3-820d-d008030cab86",
        "source": "2117639",
        "target": "2120604",
        "type": "INTERACTS_PiP"
       },
       "selectable": false
      }
     },
     "89ea3fb95ee14bbc923c31629938b1bb": {
      "model_module": "jupyter-cytoscape",
      "model_module_version": "^1.3.3",
      "model_name": "EdgeModel",
      "state": {
       "_model_module_version": "^1.3.3",
       "_view_module_version": "^1.3.3",
       "data": {
        "_igraph_index": 45,
        "id": "af18f857-7fb6-42a9-be8c-55ad1354dd43",
        "source": "292505",
        "target": "2198127",
        "type": "UPREGULATES_CuG"
       },
       "selectable": false
      }
     },
     "8a7aff31589642a28620a1ccaf34e25a": {
      "model_module": "jupyter-cytoscape",
      "model_module_version": "^1.3.3",
      "model_name": "EdgeModel",
      "state": {
       "_model_module_version": "^1.3.3",
       "_view_module_version": "^1.3.3",
       "data": {
        "_igraph_index": 7,
        "id": "bc0243b6-9683-441f-976e-40eca1931a01",
        "source": "2118021",
        "target": "2151390",
        "type": "INTERACTS_PiP"
       },
       "selectable": false
      }
     },
     "8aa09e1ed75d4b78b8a781743e7aa31a": {
      "model_module": "jupyter-cytoscape",
      "model_module_version": "^1.3.3",
      "model_name": "EdgeModel",
      "state": {
       "_model_module_version": "^1.3.3",
       "_view_module_version": "^1.3.3",
       "data": {
        "_igraph_index": 63,
        "id": "6f15487d-2ae4-46f4-adc4-5e53020829b9",
        "source": "2205318",
        "target": "2190548",
        "type": "UPREGULATES_KGuG"
       },
       "selectable": false
      }
     },
     "8afa9247ea1b4aa7b453506de9967f41": {
      "model_module": "jupyter-cytoscape",
      "model_module_version": "^1.3.3",
      "model_name": "EdgeModel",
      "state": {
       "_model_module_version": "^1.3.3",
       "_view_module_version": "^1.3.3",
       "data": {
        "_igraph_index": 57,
        "id": "63bffaba-8891-4f5c-937d-c19875564cfa",
        "source": "2202245",
        "target": "2193613",
        "type": "DOWNREGULATES_GPdG"
       },
       "selectable": false
      }
     },
     "8b14221e8e6240769d4d26579e4869c8": {
      "model_module": "jupyter-cytoscape",
      "model_module_version": "^1.3.3",
      "model_name": "EdgeModel",
      "state": {
       "_model_module_version": "^1.3.3",
       "_view_module_version": "^1.3.3",
       "data": {
        "_igraph_index": 31,
        "id": "e42c44fa-10b0-439c-a8f5-75e7f5c1477f",
        "source": "2192624",
        "target": "2190994",
        "type": "UPREGULATES_GPuG"
       },
       "selectable": false
      }
     },
     "8c0a52dc59ec4d9c90c34d65032942fc": {
      "model_module": "jupyter-cytoscape",
      "model_module_version": "^1.3.3",
      "model_name": "EdgeModel",
      "state": {
       "_model_module_version": "^1.3.3",
       "_view_module_version": "^1.3.3",
       "data": {
        "_igraph_index": 8,
        "id": "90e15f9d-f24f-4af9-a33f-7f366cc806aa",
        "source": "2117639",
        "target": "2118765",
        "type": "INTERACTS_PiP"
       },
       "selectable": false
      }
     },
     "8c753e2c985f47afb73f240dc926ecd6": {
      "model_module": "jupyter-cytoscape",
      "model_module_version": "^1.3.3",
      "model_name": "NodeModel",
      "state": {
       "_model_module_version": "^1.3.3",
       "_view_module_version": "^1.3.3",
       "data": {
        "_igraph_index": 32,
        "category": "Protein",
        "feature_name": "PLDX1_HUMAN",
        "id": "2142755",
        "identifier": "Q8IUK5",
        "in_query": 1,
        "name": "2142755",
        "source": "UniProt"
       },
       "grabbable": true,
       "grabbed": false,
       "position": {
        "x": 1508.19880686594,
        "y": -271.39446909721715
       },
       "selectable": false
      }
     },
     "8cb162030d634a2fb1565dbf2be31ab3": {
      "model_module": "jupyter-cytoscape",
      "model_module_version": "^1.3.3",
      "model_name": "EdgeModel",
      "state": {
       "_model_module_version": "^1.3.3",
       "_view_module_version": "^1.3.3",
       "data": {
        "_igraph_index": 69,
        "id": "c4b2b813-f9b5-4c92-aa44-9996470f10a4",
        "source": "2364080",
        "target": "2146177",
        "type": "PARTOF_PDpP"
       },
       "selectable": false
      }
     },
     "8cfb9c55f81440f7bd63c5707fa0b38c": {
      "model_module": "jupyter-cytoscape",
      "model_module_version": "^1.3.3",
      "model_name": "NodeModel",
      "state": {
       "_model_module_version": "^1.3.3",
       "_view_module_version": "^1.3.3",
       "data": {
        "_igraph_index": 53,
        "category": "Gene",
        "feature_name": "HACD3",
        "id": "2202245",
        "identifier": 51495,
        "in_query": 0,
        "name": "2202245",
        "source": "Entrez Gene"
       },
       "grabbable": true,
       "grabbed": false,
       "position": {
        "x": 2060.69880986594,
        "y": 383.47893231137954
       },
       "selectable": false
      }
     },
     "8d904b50d5c545db83be7879553aa00b": {
      "model_module": "jupyter-cytoscape",
      "model_module_version": "^1.3.3",
      "model_name": "EdgeModel",
      "state": {
       "_model_module_version": "^1.3.3",
       "_view_module_version": "^1.3.3",
       "data": {
        "_igraph_index": 43,
        "id": "a031003d-156c-42b0-9323-aa20c5c2b293",
        "source": "2193030",
        "target": "2192168",
        "type": "UPREGULATES_KGuG"
       },
       "selectable": false
      }
     },
     "913f1ea823134a02840811744931dd8a": {
      "model_module": "jupyter-cytoscape",
      "model_module_version": "^1.3.3",
      "model_name": "NodeModel",
      "state": {
       "_model_module_version": "^1.3.3",
       "_view_module_version": "^1.3.3",
       "data": {
        "_igraph_index": 26,
        "category": "Protein",
        "feature_name": "TIE1_HUMAN",
        "id": "2119896",
        "identifier": "P35590",
        "in_query": 0,
        "name": "2119896",
        "source": "UniProt"
       },
       "grabbable": true,
       "grabbed": false,
       "position": {
        "x": 1115.6988048659398,
        "y": 621.1689422309358
       },
       "selectable": false
      }
     },
     "923b6e1a5aca495aa34c373f15e6cd0a": {
      "model_module": "jupyter-cytoscape",
      "model_module_version": "^1.3.3",
      "model_name": "EdgeModel",
      "state": {
       "_model_module_version": "^1.3.3",
       "_view_module_version": "^1.3.3",
       "data": {
        "_igraph_index": 10,
        "id": "63a41d9f-721d-4288-bc86-2b99610b8a97",
        "source": "292505",
        "target": "2190057",
        "type": "UPREGULATES_CuG"
       },
       "selectable": false
      }
     },
     "934321c141a34da0a2f442ad98c71ec3": {
      "model_module": "jupyter-cytoscape",
      "model_module_version": "^1.3.3",
      "model_name": "NodeModel",
      "state": {
       "_model_module_version": "^1.3.3",
       "_view_module_version": "^1.3.3",
       "data": {
        "_igraph_index": 33,
        "category": "Gene",
        "feature_name": "AGR2",
        "id": "2198127",
        "identifier": 10551,
        "in_query": 1,
        "name": "2198127",
        "source": "Entrez Gene"
       },
       "grabbable": true,
       "grabbed": false,
       "position": {
        "x": -290.49429495136997,
        "y": 334.9823494279436
       },
       "selectable": false
      }
     },
     "93edfe1e689d46269e57acf714fcb448": {
      "model_module": "jupyter-cytoscape",
      "model_module_version": "^1.3.3",
      "model_name": "EdgeModel",
      "state": {
       "_model_module_version": "^1.3.3",
       "_view_module_version": "^1.3.3",
       "data": {
        "_igraph_index": 40,
        "id": "3384a60a-0d54-4457-b236-1f931629155b",
        "source": "2195172",
        "target": "2190548",
        "type": "UPREGULATES_KGuG"
       },
       "selectable": false
      }
     },
     "95c4b6938f0d4b209ac510e58189c41b": {
      "model_module": "jupyter-cytoscape",
      "model_module_version": "^1.3.3",
      "model_name": "EdgeModel",
      "state": {
       "_model_module_version": "^1.3.3",
       "_view_module_version": "^1.3.3",
       "data": {
        "_igraph_index": 13,
        "id": "3e787ce2-b79f-4ee2-8d3b-46658f009801",
        "source": "2190502",
        "target": "2119835",
        "type": "ENCODES_GeP"
       },
       "selectable": false
      }
     },
     "95ebd7a012854af1bdec872385b55320": {
      "model_module": "jupyter-cytoscape",
      "model_module_version": "^1.3.3",
      "model_name": "NodeModel",
      "state": {
       "_model_module_version": "^1.3.3",
       "_view_module_version": "^1.3.3",
       "data": {
        "_igraph_index": 27,
        "category": "Gene",
        "feature_name": "NPPC",
        "id": "2193613",
        "identifier": 4880,
        "in_query": 1,
        "name": "2193613",
        "source": "Entrez Gene"
       },
       "grabbable": true,
       "grabbed": false,
       "position": {
        "x": 1639.50571504863,
        "y": 433.3047784117812
       },
       "selectable": false
      }
     },
     "9617f91345dc4fa5b5805410b4bb70fa": {
      "model_module": "jupyter-cytoscape",
      "model_module_version": "^1.3.3",
      "model_name": "EdgeModel",
      "state": {
       "_model_module_version": "^1.3.3",
       "_view_module_version": "^1.3.3",
       "data": {
        "_igraph_index": 55,
        "id": "9a689164-3079-42e5-bd9a-7d66ecedafdb",
        "source": "2192168",
        "target": "2198606",
        "type": "DOWNREGULATES_KGdG"
       },
       "selectable": false
      }
     },
     "96bbc94399ac44aaa1ac47370826a327": {
      "model_module": "jupyter-cytoscape",
      "model_module_version": "^1.3.3",
      "model_name": "EdgeModel",
      "state": {
       "_model_module_version": "^1.3.3",
       "_view_module_version": "^1.3.3",
       "data": {
        "_igraph_index": 68,
        "id": "a3686ae5-28c7-4d4b-88ef-55b07492062a",
        "source": "2364080",
        "target": "2120604",
        "type": "PARTOF_PDpP"
       },
       "selectable": false
      }
     },
     "97774769dc2b40f5982689c3deed4f47": {
      "model_module": "jupyter-cytoscape",
      "model_module_version": "^1.3.3",
      "model_name": "EdgeModel",
      "state": {
       "_model_module_version": "^1.3.3",
       "_view_module_version": "^1.3.3",
       "data": {
        "_igraph_index": 9,
        "id": "20cf07a5-caf8-4509-ab15-bb3de4c8bfbd",
        "source": "19444",
        "target": "2119540",
        "type": "BINDS_CbP"
       },
       "selectable": false
      }
     },
     "980a6b6cf6bc4e2dbcdb7841e97ea58f": {
      "model_module": "jupyter-cytoscape",
      "model_module_version": "^1.3.3",
      "model_name": "NodeModel",
      "state": {
       "_model_module_version": "^1.3.3",
       "_view_module_version": "^1.3.3",
       "data": {
        "_igraph_index": 41,
        "category": "Gene",
        "feature_name": "ERBIN",
        "id": "2204877",
        "identifier": 55914,
        "in_query": 1,
        "name": "2204877",
        "source": "Entrez Gene"
       },
       "grabbable": true,
       "grabbed": false,
       "position": {
        "x": 1644.50571504863,
        "y": 43.30477641178113
       },
       "selectable": false
      }
     },
     "981bcf0be06c4a57aa50bb00c01092ce": {
      "model_module": "jupyter-cytoscape",
      "model_module_version": "^1.3.3",
      "model_name": "EdgeModel",
      "state": {
       "_model_module_version": "^1.3.3",
       "_view_module_version": "^1.3.3",
       "data": {
        "_igraph_index": 66,
        "id": "eacdb15a-2a46-434e-b4f6-5128b7fa640e",
        "source": "2357419",
        "target": "2151390",
        "type": "PARTOF_PDpP"
       },
       "selectable": false
      }
     },
     "9821892c8d994187b64f9c26638503e3": {
      "model_module": "jupyter-cytoscape",
      "model_module_version": "^1.3.3",
      "model_name": "EdgeModel",
      "state": {
       "_model_module_version": "^1.3.3",
       "_view_module_version": "^1.3.3",
       "data": {
        "_igraph_index": 50,
        "id": "d9a41aec-0e95-4cb2-a683-f6d2eaac67f3",
        "source": "2190998",
        "target": "2198422",
        "type": "UPREGULATES_KGuG"
       },
       "selectable": false
      }
     },
     "987f050b68214170b68fce38c5cd885e": {
      "model_module": "jupyter-cytoscape",
      "model_module_version": "^1.3.3",
      "model_name": "EdgeModel",
      "state": {
       "_model_module_version": "^1.3.3",
       "_view_module_version": "^1.3.3",
       "data": {
        "_igraph_index": 0,
        "id": "ead64f53-22e3-4efe-b664-2c0c5c9a64e6",
        "source": "2118021",
        "target": "2117563",
        "type": "INTERACTS_PiP"
       },
       "selectable": false
      }
     },
     "997b13c1e7274d90b0c3b7c8cda7ec94": {
      "model_module": "jupyter-cytoscape",
      "model_module_version": "^1.3.3",
      "model_name": "NodeModel",
      "state": {
       "_model_module_version": "^1.3.3",
       "_view_module_version": "^1.3.3",
       "data": {
        "_igraph_index": 52,
        "category": "Gene",
        "feature_name": "AP3M2",
        "id": "2198444",
        "identifier": 10947,
        "in_query": 0,
        "name": "2198444",
        "source": "Entrez Gene"
       },
       "grabbable": true,
       "grabbed": false,
       "position": {
        "x": 535.69880186594,
        "y": 496.23646311848034
       },
       "selectable": false
      }
     },
     "9cedd8e86834428989be4b5438ade335": {
      "model_module": "jupyter-cytoscape",
      "model_module_version": "^1.3.3",
      "model_name": "NodeModel",
      "state": {
       "_model_module_version": "^1.3.3",
       "_view_module_version": "^1.3.3",
       "data": {
        "_igraph_index": 20,
        "category": "Protein",
        "feature_name": "IL1B_HUMAN",
        "id": "2117639",
        "identifier": "P01584",
        "in_query": 0,
        "name": "2117639",
        "source": "UniProt"
       },
       "grabbable": true,
       "grabbed": false,
       "position": {
        "x": 930.6988038659402,
        "y": -148.83106176906412
       },
       "selectable": false
      }
     },
     "9d5dbc803bcb4092b4e5e1e1db579fb9": {
      "model_module": "jupyter-cytoscape",
      "model_module_version": "^1.3.3",
      "model_name": "EdgeModel",
      "state": {
       "_model_module_version": "^1.3.3",
       "_view_module_version": "^1.3.3",
       "data": {
        "_igraph_index": 56,
        "id": "4be53071-1297-4311-9458-8d5b0c38514a",
        "source": "2198900",
        "target": "2150833",
        "type": "ENCODES_GeP"
       },
       "selectable": false
      }
     },
     "9ed6c506652543cb8119fb5dd57bc607": {
      "model_module": "jupyter-cytoscape",
      "model_module_version": "^1.3.3",
      "model_name": "NodeModel",
      "state": {
       "_model_module_version": "^1.3.3",
       "_view_module_version": "^1.3.3",
       "data": {
        "_igraph_index": 34,
        "category": "Gene",
        "feature_name": "RNPS1",
        "id": "2198422",
        "identifier": 10921,
        "in_query": 0,
        "name": "2198422",
        "source": "Entrez Gene"
       },
       "grabbable": true,
       "grabbed": false,
       "position": {
        "x": -111.78156635134103,
        "y": -242.51765357205645
       },
       "selectable": false
      }
     },
     "9f4d89bf19524febb1e97ce9b006fcca": {
      "model_module": "jupyter-cytoscape",
      "model_module_version": "^1.3.3",
      "model_name": "NodeModel",
      "state": {
       "_model_module_version": "^1.3.3",
       "_view_module_version": "^1.3.3",
       "data": {
        "_igraph_index": 38,
        "category": "Gene",
        "feature_name": "IRAK4",
        "id": "2201942",
        "identifier": 51135,
        "in_query": 1,
        "name": "2201942",
        "source": "Entrez Gene"
       },
       "grabbable": true,
       "grabbed": false,
       "position": {
        "x": 650.7184376486589,
        "y": -212.91405417115686
       },
       "selectable": false
      }
     },
     "9f95706a19a641c8a5c49a02e517fbde": {
      "model_module": "jupyter-cytoscape",
      "model_module_version": "^1.3.3",
      "model_name": "NodeModel",
      "state": {
       "_model_module_version": "^1.3.3",
       "_view_module_version": "^1.3.3",
       "data": {
        "_igraph_index": 20,
        "category": "Gene",
        "feature_name": "CRIP1",
        "id": "2190998",
        "identifier": 1396,
        "in_query": 0,
        "name": "2190998",
        "source": "Entrez Gene"
       },
       "grabbable": true,
       "grabbed": false,
       "position": {
        "x": 268.21843564865895,
        "y": -78.94594912516187
       },
       "selectable": false
      }
     },
     "a05f159665644747b0123b7df3140c21": {
      "model_module": "jupyter-cytoscape",
      "model_module_version": "^1.3.3",
      "model_name": "EdgeModel",
      "state": {
       "_model_module_version": "^1.3.3",
       "_view_module_version": "^1.3.3",
       "data": {
        "_igraph_index": 18,
        "id": "3ceed764-d097-4a97-a4d9-f95adaa3ffbb",
        "source": "2119540",
        "target": "2119863",
        "type": "INTERACTS_PiP"
       },
       "selectable": false
      }
     },
     "a31156c0318442369edc19f466299a0c": {
      "model_module": "jupyter-cytoscape",
      "model_module_version": "^1.3.3",
      "model_name": "NodeModel",
      "state": {
       "_model_module_version": "^1.3.3",
       "_view_module_version": "^1.3.3",
       "data": {
        "_igraph_index": 31,
        "category": "Gene",
        "feature_name": "VRK1",
        "id": "2195702",
        "identifier": 7443,
        "in_query": 0,
        "name": "2195702",
        "source": "Entrez Gene"
       },
       "grabbable": true,
       "grabbed": false,
       "position": {
        "x": 97.00570704863003,
        "y": 111.05405187483812
       },
       "selectable": false
      }
     },
     "a4b82287e127420d9dbfdc92f0c18332": {
      "model_module": "jupyter-cytoscape",
      "model_module_version": "^1.3.3",
      "model_name": "NodeModel",
      "state": {
       "_model_module_version": "^1.3.3",
       "_view_module_version": "^1.3.3",
       "data": {
        "_igraph_index": 21,
        "category": "Protein",
        "feature_name": "MMP10_HUMAN",
        "id": "2118148",
        "identifier": "P09238",
        "in_query": 1,
        "name": "2118148",
        "source": "UniProt"
       },
       "grabbable": true,
       "grabbed": false,
       "position": {
        "x": 933.1988038659402,
        "y": 43.668939230935884
       },
       "selectable": false
      }
     },
     "a4ed44f362c240d68c97083cff8b1db8": {
      "model_module": "jupyter-cytoscape",
      "model_module_version": "^1.3.3",
      "model_name": "EdgeModel",
      "state": {
       "_model_module_version": "^1.3.3",
       "_view_module_version": "^1.3.3",
       "data": {
        "_igraph_index": 20,
        "id": "80c7a6e7-19c1-48ea-a781-50e980038a43",
        "source": "2172874",
        "target": "2190994",
        "type": "ASSOCIATES_DaG"
       },
       "selectable": false
      }
     },
     "a5d50002ee0240b399aa3b70f658fadb": {
      "model_module": "jupyter-cytoscape",
      "model_module_version": "^1.3.3",
      "model_name": "NodeModel",
      "state": {
       "_model_module_version": "^1.3.3",
       "_view_module_version": "^1.3.3",
       "data": {
        "_igraph_index": 19,
        "category": "Gene",
        "feature_name": "CRH",
        "id": "2190994",
        "identifier": 1392,
        "in_query": 1,
        "name": "2190994",
        "source": "Entrez Gene"
       },
       "grabbable": true,
       "grabbed": false,
       "position": {
        "x": 1254.50571304863,
        "y": 396.24153303539714
       },
       "selectable": false
      }
     },
     "a6b41066f1ca46a48e7a4ad1b77462d4": {
      "model_module": "jupyter-cytoscape",
      "model_module_version": "^1.3.3",
      "model_name": "EdgeModel",
      "state": {
       "_model_module_version": "^1.3.3",
       "_view_module_version": "^1.3.3",
       "data": {
        "_igraph_index": 31,
        "id": "3aa46161-712a-423a-993a-5f9d85474d25",
        "source": "73238",
        "target": "2156777",
        "type": "BINDS_CbP"
       },
       "selectable": false
      }
     },
     "a7308646f27b486f9f551b3ebeb3c1af": {
      "model_module": "jupyter-cytoscape",
      "model_module_version": "^1.3.3",
      "model_name": "NodeModel",
      "state": {
       "_model_module_version": "^1.3.3",
       "_view_module_version": "^1.3.3",
       "data": {
        "_igraph_index": 25,
        "category": "Protein",
        "feature_name": "PGH2_HUMAN",
        "id": "2119863",
        "identifier": "P35354",
        "in_query": 0,
        "name": "2119863",
        "source": "UniProt"
       },
       "grabbable": true,
       "grabbed": false,
       "position": {
        "x": 1870.69880886594,
        "y": 275.7365464891075
       },
       "selectable": false
      }
     },
     "a853e93fed9144e3b2f90df84b4ea8ae": {
      "model_module": "jupyter-cytoscape",
      "model_module_version": "^1.3.3",
      "model_name": "EdgeModel",
      "state": {
       "_model_module_version": "^1.3.3",
       "_view_module_version": "^1.3.3",
       "data": {
        "_igraph_index": 37,
        "id": "b0474ed1-8277-49be-aa9a-4c6dc4c09529",
        "source": "2195048",
        "target": "2190994",
        "type": "UPREGULATES_GPuG"
       },
       "selectable": false
      }
     },
     "a99e1884779045bca485a030e2c3d870": {
      "model_module": "jupyter-cytoscape",
      "model_module_version": "^1.3.3",
      "model_name": "NodeModel",
      "state": {
       "_model_module_version": "^1.3.3",
       "_view_module_version": "^1.3.3",
       "data": {
        "_igraph_index": 4,
        "category": "Protein",
        "feature_name": "PGS2_HUMAN",
        "id": "2118021",
        "identifier": "P07585",
        "in_query": 0,
        "name": "2118021",
        "source": "UniProt"
       },
       "grabbable": true,
       "grabbed": false,
       "position": {
        "x": -97.99429395137008,
        "y": 427.9791328095774
       },
       "selectable": false
      }
     },
     "a9f40681d95741899633d3ee3acd1b18": {
      "model_module": "jupyter-cytoscape",
      "model_module_version": "^1.3.3",
      "model_name": "NodeModel",
      "state": {
       "_model_module_version": "^1.3.3",
       "_view_module_version": "^1.3.3",
       "data": {
        "_igraph_index": 24,
        "category": "Gene",
        "feature_name": "CXCL8",
        "id": "2192624",
        "identifier": 3576,
        "in_query": 1,
        "name": "2192624",
        "source": "Entrez Gene"
       },
       "grabbable": true,
       "grabbed": false,
       "position": {
        "x": 289.50570804862997,
        "y": 223.00869152303844
       },
       "selectable": false
      }
     },
     "aa6d79a4f3a9492b885ffcca01e44ff7": {
      "model_module": "jupyter-cytoscape",
      "model_module_version": "^1.3.3",
      "model_name": "NodeModel",
      "state": {
       "_model_module_version": "^1.3.3",
       "_view_module_version": "^1.3.3",
       "data": {
        "_igraph_index": 12,
        "category": "Protein",
        "feature_name": "A8K058_HUMAN",
        "id": "2039021",
        "identifier": "A8K058",
        "in_query": 1,
        "name": "2039021",
        "source": "UniProt"
       },
       "grabbable": true,
       "grabbed": false,
       "position": {
        "x": 1260.2181320294244,
        "y": -312.62244266223934
       },
       "selectable": false
      }
     },
     "aa87cbf3f87d411f9e4eefb46843f1f5": {
      "model_module": "jupyter-cytoscape",
      "model_module_version": "^1.3.3",
      "model_name": "NodeModel",
      "state": {
       "_model_module_version": "^1.3.3",
       "_view_module_version": "^1.3.3",
       "data": {
        "_igraph_index": 37,
        "category": "Protein",
        "feature_name": "PRS27_HUMAN",
        "id": "2150833",
        "identifier": "Q9BQR3",
        "in_query": 1,
        "name": "2150833",
        "source": "UniProt"
       },
       "grabbable": true,
       "grabbed": false,
       "position": {
        "x": 353.19880086594026,
        "y": -3.726406482499288
       },
       "selectable": false
      }
     },
     "aaf26c23c19d4ab392e1c522473018d9": {
      "model_module": "jupyter-cytoscape",
      "model_module_version": "^1.3.3",
      "model_name": "NodeModel",
      "state": {
       "_model_module_version": "^1.3.3",
       "_view_module_version": "^1.3.3",
       "data": {
        "_igraph_index": 50,
        "category": "Gene",
        "feature_name": "SOD2",
        "id": "2195048",
        "identifier": 6648,
        "in_query": 0,
        "name": "2195048",
        "source": "Entrez Gene"
       },
       "grabbable": true,
       "grabbed": false,
       "position": {
        "x": 863.0856575281301,
        "y": 282.6142007305241
       },
       "selectable": false
      }
     },
     "ab5ecb5cfe3348ecb030bc7bcfef544b": {
      "model_module": "jupyter-cytoscape",
      "model_module_version": "^1.3.3",
      "model_name": "NodeModel",
      "state": {
       "_model_module_version": "^1.3.3",
       "_view_module_version": "^1.3.3",
       "data": {
        "_igraph_index": 45,
        "category": "Gene",
        "feature_name": "CXCL2",
        "id": "2192141",
        "identifier": 2920,
        "in_query": 0,
        "name": "2192141",
        "source": "Entrez Gene"
       },
       "grabbable": true,
       "grabbed": false,
       "position": {
        "x": 150.69879986594006,
        "y": 383.88469580829883
       },
       "selectable": false
      }
     },
     "b0fdadad6f4046398154891dae3320fa": {
      "model_module": "jupyter-cytoscape",
      "model_module_version": "^1.3.3",
      "model_name": "NodeModel",
      "state": {
       "_model_module_version": "^1.3.3",
       "_view_module_version": "^1.3.3",
       "data": {
        "_igraph_index": 44,
        "category": "Gene",
        "feature_name": "E2F2",
        "id": "2191364",
        "identifier": 1870,
        "in_query": 0,
        "name": "2191364",
        "source": "Entrez Gene"
       },
       "grabbable": true,
       "grabbed": false,
       "position": {
        "x": -619.3012041340595,
        "y": 214.91836323719414
       },
       "selectable": false
      }
     },
     "b3fe69e2ecc14fd9b07f21eb63b12000": {
      "model_module": "jupyter-cytoscape",
      "model_module_version": "^1.3.3",
      "model_name": "EdgeModel",
      "state": {
       "_model_module_version": "^1.3.3",
       "_view_module_version": "^1.3.3",
       "data": {
        "_igraph_index": 17,
        "id": "6dad5cca-783f-42ff-ab8a-2b9241b94238",
        "source": "2118765",
        "target": "2119863",
        "type": "INTERACTS_PiP"
       },
       "selectable": false
      }
     },
     "b463fac220e24dcd9483069b2a76881f": {
      "model_module": "jupyter-cytoscape",
      "model_module_version": "^1.3.3",
      "model_name": "NodeModel",
      "state": {
       "_model_module_version": "^1.3.3",
       "_view_module_version": "^1.3.3",
       "data": {
        "_igraph_index": 32,
        "category": "Gene",
        "feature_name": "ANGPTL7",
        "id": "2197852",
        "identifier": 10218,
        "in_query": 1,
        "name": "2197852",
        "source": "Entrez Gene"
       },
       "grabbable": true,
       "grabbed": false,
       "position": {
        "x": 845.7184386486591,
        "y": -291.7357672718696
       },
       "selectable": false
      }
     },
     "b62f137bdf6b45f99cfd31c7a3544625": {
      "model_module": "jupyter-cytoscape",
      "model_module_version": "^1.3.3",
      "model_name": "EdgeModel",
      "state": {
       "_model_module_version": "^1.3.3",
       "_view_module_version": "^1.3.3",
       "data": {
        "_igraph_index": 65,
        "id": "bcb877b6-51bb-4646-b2f8-bf4d8d431a93",
        "source": "2357419",
        "target": "2119896",
        "type": "PARTOF_PDpP"
       },
       "selectable": false
      }
     },
     "b760cc4a56474ccabb805583f63969f5": {
      "model_module": "jupyter-cytoscape",
      "model_module_version": "^1.3.3",
      "model_name": "CytoscapeModel",
      "state": {
       "_interaction_handlers": {},
       "_model_module_version": "^1.3.3",
       "_view_module_version": "^1.3.3",
       "auto_ungrabify": false,
       "autolock": false,
       "cytoscape_layout": {
        "edgeLengthVal": 50,
        "name": "cola",
        "nodeSpacing": 80,
        "title": "high_proteins"
       },
       "cytoscape_style": [
        {
         "selector": "node[feature_name]",
         "style": {
          "font-family": "helvetica",
          "font-size": "20px",
          "label": "data(feature_name)",
          "text-valign": "top"
         }
        },
        {
         "selector": "node[category=\"Protein\"]",
         "style": {
          "background-color": "blue"
         }
        },
        {
         "selector": "node[in_query=1]",
         "style": {
          "border-color": "red",
          "border-width": "5px"
         }
        },
        {
         "selector": "edge[type]",
         "style": {
          "label": "data(type)"
         }
        },
        {
         "selector": "edge.directed",
         "style": {
          "curve-style": "bezier",
          "target-arrow-shape": "triangle"
         }
        }
       ],
       "desktop_tap_threshold": 4,
       "graph": "IPY_MODEL_032ffb8feebf430ea0e28b92556abfb6",
       "headless": false,
       "hide_edges_on_viewport": false,
       "layout": "IPY_MODEL_7b7d9e83b532466883c0542042c5f5af",
       "max_zoom": 1e+50,
       "min_zoom": 1e-50,
       "motion_blur": false,
       "motion_blur_opacity": 0.2,
       "panning_enabled": true,
       "pixel_ratio": "auto",
       "rendered_position": {
        "renderedPosition": {
         "x": 100,
         "y": 100
        }
       },
       "selection_type": "single",
       "style_enabled": true,
       "texture_on_viewport": false,
       "tooltip_source": "feature_name",
       "touch_tap_threshold": 8,
       "user_panning_enabled": true,
       "user_zooming_enabled": true,
       "wheel_sensitivity": 1,
       "zoom": 2,
       "zooming_enabled": true
      }
     },
     "b825adc2f38f49dbbf2be532d2bb4493": {
      "model_module": "jupyter-cytoscape",
      "model_module_version": "^1.3.3",
      "model_name": "NodeModel",
      "state": {
       "_model_module_version": "^1.3.3",
       "_view_module_version": "^1.3.3",
       "data": {
        "_igraph_index": 28,
        "category": "Gene",
        "feature_name": "NTF4",
        "id": "2193639",
        "identifier": 4909,
        "in_query": 1,
        "name": "2193639",
        "source": "Entrez Gene"
       },
       "grabbable": true,
       "grabbed": false,
       "position": {
        "x": 1639.50571504863,
        "y": 238.30477741178115
       },
       "selectable": false
      }
     },
     "b83b8e275734423aafa1d9f104d36e5d": {
      "model_module": "jupyter-cytoscape",
      "model_module_version": "^1.3.3",
      "model_name": "EdgeModel",
      "state": {
       "_model_module_version": "^1.3.3",
       "_view_module_version": "^1.3.3",
       "data": {
        "_igraph_index": 3,
        "id": "b0ac4f93-54d6-41f2-ae2c-c05b9c982efd",
        "source": "1709660",
        "target": "2119835",
        "type": "BINDS_CbP"
       },
       "selectable": false
      }
     },
     "b877d223fc2b4eafaf8c2ba1ee0bab7c": {
      "model_module": "jupyter-cytoscape",
      "model_module_version": "^1.3.3",
      "model_name": "NodeModel",
      "state": {
       "_model_module_version": "^1.3.3",
       "_view_module_version": "^1.3.3",
       "data": {
        "_igraph_index": 21,
        "category": "Gene",
        "feature_name": "F2R",
        "id": "2191576",
        "identifier": 2149,
        "in_query": 1,
        "name": "2191576",
        "source": "Entrez Gene"
       },
       "grabbable": true,
       "grabbed": false,
       "position": {
        "x": 1059.5057120486301,
        "y": 288.26423572813036
       },
       "selectable": false
      }
     },
     "b92452e9af8a422f9e04a1caa77c4c9e": {
      "model_module": "jupyter-cytoscape",
      "model_module_version": "^1.3.3",
      "model_name": "NodeModel",
      "state": {
       "_model_module_version": "^1.3.3",
       "_view_module_version": "^1.3.3",
       "data": {
        "_igraph_index": 9,
        "category": "Protein",
        "feature_name": "A0A024RDA5_HUMAN",
        "id": "1979810",
        "identifier": "A0A024RDA5",
        "in_query": 1,
        "name": "1979810",
        "source": "UniProt"
       },
       "grabbable": true,
       "grabbed": false,
       "position": {
        "x": -231.8012021340597,
        "y": 36.59656877952133
       },
       "selectable": false
      }
     },
     "b99d1d0aad4b4be2a2f282d0a97eebd3": {
      "model_module": "jupyter-cytoscape",
      "model_module_version": "^1.3.3",
      "model_name": "NodeModel",
      "state": {
       "_model_module_version": "^1.3.3",
       "_view_module_version": "^1.3.3",
       "data": {
        "_igraph_index": 1,
        "category": "Compound",
        "feature_name": "Marimastat",
        "id": "956713",
        "identifier": "DB00786",
        "in_query": 0,
        "name": "956713",
        "source": "ChEMBL"
       },
       "grabbable": true,
       "grabbed": false,
       "position": {
        "x": 92.00570704863003,
        "y": 491.0540538748381
       },
       "selectable": false
      }
     },
     "b9d394fab2c041dcb4dddf674d2d3d3d": {
      "model_module": "jupyter-cytoscape",
      "model_module_version": "^1.3.3",
      "model_name": "NodeModel",
      "state": {
       "_model_module_version": "^1.3.3",
       "_view_module_version": "^1.3.3",
       "data": {
        "_igraph_index": 13,
        "category": "Protein",
        "feature_name": "A8K3J4_HUMAN",
        "id": "2039414",
        "identifier": "A8K3J4",
        "in_query": 1,
        "name": "2039414",
        "source": "UniProt"
       },
       "grabbable": true,
       "grabbed": false,
       "position": {
        "x": -226.8012021340597,
        "y": -200.523298300242
       },
       "selectable": false
      }
     },
     "b9f4d54bf5b244e29e2edf3133c0e20c": {
      "model_module": "jupyter-cytoscape",
      "model_module_version": "^1.3.3",
      "model_name": "EdgeModel",
      "state": {
       "_model_module_version": "^1.3.3",
       "_view_module_version": "^1.3.3",
       "data": {
        "_igraph_index": 25,
        "id": "d91f1669-b698-4edd-8037-96f89755e9ec",
        "source": "1709660",
        "target": "2192168",
        "type": "UPREGULATES_CuG"
       },
       "selectable": false
      }
     },
     "ba96d907d1de45c6943b9b72aa037039": {
      "model_module": "jupyter-cytoscape",
      "model_module_version": "^1.3.3",
      "model_name": "EdgeModel",
      "state": {
       "_model_module_version": "^1.3.3",
       "_view_module_version": "^1.3.3",
       "data": {
        "_igraph_index": 46,
        "id": "c40d276f-848f-4b19-ab45-07acb32bfe14",
        "source": "1709660",
        "target": "2198127",
        "type": "UPREGULATES_CuG"
       },
       "selectable": false
      }
     },
     "bab63bc34a214286bdd16e097ec10b0c": {
      "model_module": "jupyter-cytoscape",
      "model_module_version": "^1.3.3",
      "model_name": "NodeModel",
      "state": {
       "_model_module_version": "^1.3.3",
       "_view_module_version": "^1.3.3",
       "data": {
        "_igraph_index": 51,
        "category": "Gene",
        "feature_name": "AGR2",
        "id": "2198127",
        "identifier": 10551,
        "in_query": 0,
        "name": "2198127",
        "source": "Entrez Gene"
       },
       "grabbable": true,
       "grabbed": false,
       "position": {
        "x": -39.301201134059816,
        "y": 376.97670469975793
       },
       "selectable": false
      }
     },
     "bb16225bb54843b6b95976491af7da63": {
      "model_module": "jupyter-cytoscape",
      "model_module_version": "^1.3.3",
      "model_name": "NodeModel",
      "state": {
       "_model_module_version": "^1.3.3",
       "_view_module_version": "^1.3.3",
       "data": {
        "_igraph_index": 43,
        "category": "Gene",
        "feature_name": "CA14",
        "id": "2205318",
        "identifier": 23632,
        "in_query": 1,
        "name": "2205318",
        "source": "Entrez Gene"
       },
       "grabbable": true,
       "grabbed": false,
       "position": {
        "x": 1064.5057120486301,
        "y": 6.241531035397173
       },
       "selectable": false
      }
     },
     "bbbd2f0c4f0f4cada24b3b65b6cb5c5d": {
      "model_module": "jupyter-cytoscape",
      "model_module_version": "^1.3.3",
      "model_name": "GraphModel",
      "state": {
       "_adj": {},
       "_model_module_version": "^1.3.3",
       "_view_module": "jupyter-cytoscape",
       "_view_module_version": "^1.3.3"
      }
     },
     "bc0916878d194c9c8fa065ab55248054": {
      "model_module": "jupyter-cytoscape",
      "model_module_version": "^1.3.3",
      "model_name": "NodeModel",
      "state": {
       "_model_module_version": "^1.3.3",
       "_view_module_version": "^1.3.3",
       "data": {
        "_igraph_index": 35,
        "category": "Protein",
        "feature_name": "Q96DN7_HUMAN",
        "id": "2148602",
        "identifier": "Q96DN7",
        "in_query": 1,
        "name": "2148602",
        "source": "UniProt"
       },
       "grabbable": true,
       "grabbed": false,
       "position": {
        "x": 450.9163730616235,
        "y": 834.4931689412534
       },
       "selectable": false
      }
     },
     "c00cf7516b854b969d90c41bbe71a651": {
      "model_module": "jupyter-cytoscape",
      "model_module_version": "^1.3.3",
      "model_name": "EdgeModel",
      "state": {
       "_model_module_version": "^1.3.3",
       "_view_module_version": "^1.3.3",
       "data": {
        "_igraph_index": 62,
        "id": "427703c3-07a8-4e83-ae03-826b843caeea",
        "source": "2206864",
        "target": "2151390",
        "type": "ENCODES_GeP"
       },
       "selectable": false
      }
     },
     "c06c234bbd184ef8b3e30a6f183d687e": {
      "model_module": "jupyter-cytoscape",
      "model_module_version": "^1.3.3",
      "model_name": "NodeModel",
      "state": {
       "_model_module_version": "^1.3.3",
       "_view_module_version": "^1.3.3",
       "data": {
        "_igraph_index": 47,
        "category": "ProteinDomain",
        "feature_name": "Trypsin",
        "id": "2360597",
        "identifier": "PF00089",
        "in_query": 0,
        "name": "2360597",
        "source": "Pfam"
       },
       "grabbable": true,
       "grabbed": false,
       "position": {
        "x": 1257.00571304863,
        "y": -91.14525821478249
       },
       "selectable": false
      }
     },
     "c0a75b7893b849b8a07e9ac20cb6127c": {
      "model_module": "jupyter-cytoscape",
      "model_module_version": "^1.3.3",
      "model_name": "EdgeModel",
      "state": {
       "_model_module_version": "^1.3.3",
       "_view_module_version": "^1.3.3",
       "data": {
        "_igraph_index": 29,
        "id": "d4c3fcb2-161a-46b3-999d-626be8b5af0d",
        "source": "2169474",
        "target": "2192624",
        "type": "ASSOCIATES_DaG"
       },
       "selectable": false
      }
     },
     "c1b4bba41a1b428cac7904040d9a7faf": {
      "model_module": "jupyter-cytoscape",
      "model_module_version": "^1.3.3",
      "model_name": "EdgeModel",
      "state": {
       "_model_module_version": "^1.3.3",
       "_view_module_version": "^1.3.3",
       "data": {
        "_igraph_index": 49,
        "id": "56d4f288-447e-4527-a9c5-763704a72246",
        "source": "2195048",
        "target": "2191191",
        "type": "UPREGULATES_KGuG"
       },
       "selectable": false
      }
     },
     "c1dfcccd61124403a5134cb43fe4e0c2": {
      "model_module": "jupyter-cytoscape",
      "model_module_version": "^1.3.3",
      "model_name": "EdgeModel",
      "state": {
       "_model_module_version": "^1.3.3",
       "_view_module_version": "^1.3.3",
       "data": {
        "_igraph_index": 47,
        "id": "3f980673-2fd9-44b3-ad4b-e28fea13887a",
        "source": "2195048",
        "target": "2156387",
        "type": "ENCODES_GeP"
       },
       "selectable": false
      }
     },
     "c2104df3c0ae4993904f8bfe0eae43b8": {
      "model_module": "jupyter-cytoscape",
      "model_module_version": "^1.3.3",
      "model_name": "EdgeModel",
      "state": {
       "_model_module_version": "^1.3.3",
       "_view_module_version": "^1.3.3",
       "data": {
        "_igraph_index": 2,
        "id": "61b8fefe-ecc2-45ca-a03a-8b02e1675445",
        "source": "2118148",
        "target": "2117563",
        "type": "INTERACTS_PiP"
       },
       "selectable": false
      }
     },
     "c23586e8f8bc4cbfab95cbc75c93324b": {
      "model_module": "jupyter-cytoscape",
      "model_module_version": "^1.3.3",
      "model_name": "NodeModel",
      "state": {
       "_model_module_version": "^1.3.3",
       "_view_module_version": "^1.3.3",
       "data": {
        "_igraph_index": 40,
        "category": "Protein",
        "feature_name": "HAOX1_HUMAN",
        "id": "2156777",
        "identifier": "Q9UJM8",
        "in_query": 0,
        "name": "2156777",
        "source": "UniProt"
       },
       "grabbable": true,
       "grabbed": false,
       "position": {
        "x": 1315.6988058659401,
        "y": 18.788813677759418
       },
       "selectable": false
      }
     },
     "c467468cd99547628be372f9e70f32b5": {
      "model_module": "jupyter-cytoscape",
      "model_module_version": "^1.3.3",
      "model_name": "NodeModel",
      "state": {
       "_model_module_version": "^1.3.3",
       "_view_module_version": "^1.3.3",
       "data": {
        "_igraph_index": 14,
        "category": "Protein",
        "feature_name": "B2RAP9_HUMAN",
        "id": "2042877",
        "identifier": "B2RAP9",
        "in_query": 1,
        "name": "2042877",
        "source": "UniProt"
       },
       "grabbable": true,
       "grabbed": false,
       "position": {
        "x": 885.0357886819983,
        "y": 216.69877431920926
       },
       "selectable": false
      }
     },
     "c543759ed4854ca39b7e30db8b232a38": {
      "model_module": "jupyter-cytoscape",
      "model_module_version": "^1.3.3",
      "model_name": "EdgeModel",
      "state": {
       "_model_module_version": "^1.3.3",
       "_view_module_version": "^1.3.3",
       "data": {
        "_igraph_index": 39,
        "id": "0c3ad4d7-6c20-4b91-873e-11c67b926363",
        "source": "2192168",
        "target": "2195048",
        "type": "UPREGULATES_KGuG"
       },
       "selectable": false
      }
     },
     "c629e370dfad4bb0acdd7ef7fde0ca78": {
      "model_module": "jupyter-cytoscape",
      "model_module_version": "^1.3.3",
      "model_name": "EdgeModel",
      "state": {
       "_model_module_version": "^1.3.3",
       "_view_module_version": "^1.3.3",
       "data": {
        "_igraph_index": 42,
        "id": "f611ce12-2a90-4173-933e-d70da199dd69",
        "source": "2172874",
        "target": "2195702",
        "type": "ASSOCIATES_DaG"
       },
       "selectable": false
      }
     },
     "c67d1e15429146619299d02baa9edc18": {
      "model_module": "jupyter-cytoscape",
      "model_module_version": "^1.3.3",
      "model_name": "EdgeModel",
      "state": {
       "_model_module_version": "^1.3.3",
       "_view_module_version": "^1.3.3",
       "data": {
        "_igraph_index": 14,
        "id": "bac90c1c-b681-4a5a-8bd6-5778d51166df",
        "source": "2172874",
        "target": "2190548",
        "type": "ASSOCIATES_DaG"
       },
       "selectable": false
      }
     },
     "c6ec7678127f43a7be9b04632893f139": {
      "model_module": "jupyter-cytoscape",
      "model_module_version": "^1.3.3",
      "model_name": "NodeModel",
      "state": {
       "_model_module_version": "^1.3.3",
       "_view_module_version": "^1.3.3",
       "data": {
        "_igraph_index": 37,
        "category": "Gene",
        "feature_name": "PRSS27",
        "id": "2198900",
        "identifier": 83886,
        "in_query": 1,
        "name": "2198900",
        "source": "Entrez Gene"
       },
       "grabbable": true,
       "grabbed": false,
       "position": {
        "x": 484.50570904862997,
        "y": 167.08594782884313
       },
       "selectable": false
      }
     },
     "c744a9ef23e34ddeafb70c08669ec952": {
      "model_module": "jupyter-cytoscape",
      "model_module_version": "^1.3.3",
      "model_name": "EdgeModel",
      "state": {
       "_model_module_version": "^1.3.3",
       "_view_module_version": "^1.3.3",
       "data": {
        "_igraph_index": 33,
        "id": "1ad7a519-7545-4957-ba31-51cf7aa59ef9",
        "source": "2193224",
        "target": "2118148",
        "type": "ENCODES_GeP"
       },
       "selectable": false
      }
     },
     "c79c56022c4245abbc741cce22640b90": {
      "model_module": "jupyter-cytoscape",
      "model_module_version": "^1.3.3",
      "model_name": "NodeModel",
      "state": {
       "_model_module_version": "^1.3.3",
       "_view_module_version": "^1.3.3",
       "data": {
        "_igraph_index": 22,
        "category": "Gene",
        "feature_name": "VEGFD",
        "id": "2191686",
        "identifier": 2277,
        "in_query": 1,
        "name": "2191686",
        "source": "Entrez Gene"
       },
       "grabbable": true,
       "grabbed": false,
       "position": {
        "x": 1254.50571304863,
        "y": 201.24153203539717
       },
       "selectable": false
      }
     },
     "c805483e26d04402a4fcfb3e3576e3d5": {
      "model_module": "jupyter-cytoscape",
      "model_module_version": "^1.3.3",
      "model_name": "EdgeModel",
      "state": {
       "_model_module_version": "^1.3.3",
       "_view_module_version": "^1.3.3",
       "data": {
        "_igraph_index": 64,
        "id": "743d2878-64ee-4515-b3ba-7efcc309f09c",
        "source": "2205318",
        "target": "2195702",
        "type": "UPREGULATES_KGuG"
       },
       "selectable": false
      }
     },
     "c9704474ce954ef287f0650d103fbddf": {
      "model_module": "jupyter-cytoscape",
      "model_module_version": "^1.3.3",
      "model_name": "NodeModel",
      "state": {
       "_model_module_version": "^1.3.3",
       "_view_module_version": "^1.3.3",
       "data": {
        "_igraph_index": 19,
        "category": "Protein",
        "feature_name": "LX12B_HUMAN",
        "id": "2116515",
        "identifier": "O75342",
        "in_query": 0,
        "name": "2116515",
        "source": "UniProt"
       },
       "grabbable": true,
       "grabbed": false,
       "position": {
        "x": 1300.69880586594,
        "y": 421.1689412309359
       },
       "selectable": false
      }
     },
     "caaad3355ee349df86a57175ccd12b7a": {
      "model_module": "jupyter-cytoscape",
      "model_module_version": "^1.3.3",
      "model_name": "EdgeModel",
      "state": {
       "_model_module_version": "^1.3.3",
       "_view_module_version": "^1.3.3",
       "data": {
        "_igraph_index": 60,
        "id": "7826712d-36e9-4971-984d-b19383af5767",
        "source": "2204877",
        "target": "2198606",
        "type": "UPREGULATES_KGuG"
       },
       "selectable": false
      }
     },
     "cb2765431ed2443aa47f7b64e2468dbd": {
      "model_module": "jupyter-cytoscape",
      "model_module_version": "^1.3.3",
      "model_name": "EdgeModel",
      "state": {
       "_model_module_version": "^1.3.3",
       "_view_module_version": "^1.3.3",
       "data": {
        "_igraph_index": 30,
        "id": "19f727e9-dc85-4a8b-9809-67ad851a748f",
        "source": "2172874",
        "target": "2192624",
        "type": "ASSOCIATES_DaG"
       },
       "selectable": false
      }
     },
     "cb56033831c9432b859099647aa49f0f": {
      "model_module": "jupyter-cytoscape",
      "model_module_version": "^1.3.3",
      "model_name": "EdgeModel",
      "state": {
       "_model_module_version": "^1.3.3",
       "_view_module_version": "^1.3.3",
       "data": {
        "_igraph_index": 25,
        "id": "efe615bf-f4ed-4c73-9b2c-b0f016cc6e13",
        "source": "2117639",
        "target": "2140136",
        "type": "INTERACTS_PiP"
       },
       "selectable": false
      }
     },
     "cc62eb47c858439bac9faa5114305cf2": {
      "model_module": "jupyter-cytoscape",
      "model_module_version": "^1.3.3",
      "model_name": "NodeModel",
      "state": {
       "_model_module_version": "^1.3.3",
       "_view_module_version": "^1.3.3",
       "data": {
        "_igraph_index": 14,
        "category": "Disease",
        "feature_name": "disease",
        "id": "2172874",
        "identifier": "DOID:4",
        "in_query": 0,
        "name": "2172874",
        "source": "Disease Ontology"
       },
       "grabbable": true,
       "grabbed": false,
       "position": {
        "x": 867.0057110486301,
        "y": 285.76423572813036
       },
       "selectable": false
      }
     },
     "cd79eb57e892418ead854d3833af80d3": {
      "model_module": "jupyter-cytoscape",
      "model_module_version": "^1.3.3",
      "model_name": "EdgeModel",
      "state": {
       "_model_module_version": "^1.3.3",
       "_view_module_version": "^1.3.3",
       "data": {
        "_igraph_index": 5,
        "id": "b35252ae-304b-4ea7-976b-575b31ae99d5",
        "source": "2117639",
        "target": "2116072",
        "type": "INTERACTS_PiP"
       },
       "selectable": false
      }
     },
     "cdcd2aa7d90046c08418ff42e2321bf8": {
      "model_module": "jupyter-cytoscape",
      "model_module_version": "^1.3.3",
      "model_name": "EdgeModel",
      "state": {
       "_model_module_version": "^1.3.3",
       "_view_module_version": "^1.3.3",
       "data": {
        "_igraph_index": 43,
        "id": "625ad6a2-fe35-4749-8a74-eebb53bb472d",
        "source": "2190057",
        "target": "2195702",
        "type": "DOWNREGULATES_KGdG"
       },
       "selectable": false
      }
     },
     "ce571c8c910c4e57bca14fd9d8e1879f": {
      "model_module": "jupyter-cytoscape",
      "model_module_version": "^1.3.3",
      "model_name": "NodeModel",
      "state": {
       "_model_module_version": "^1.3.3",
       "_view_module_version": "^1.3.3",
       "data": {
        "_igraph_index": 35,
        "category": "Gene",
        "feature_name": "ADAMTS13",
        "id": "2198566",
        "identifier": 11093,
        "in_query": 1,
        "name": "2198566",
        "source": "Entrez Gene"
       },
       "grabbable": true,
       "grabbed": false,
       "position": {
        "x": 674.50571004863,
        "y": 362.08594882884313
       },
       "selectable": false
      }
     },
     "cece3ec14fde4bef82a29787812ddb29": {
      "model_module": "jupyter-cytoscape",
      "model_module_version": "^1.3.3",
      "model_name": "EdgeModel",
      "state": {
       "_model_module_version": "^1.3.3",
       "_view_module_version": "^1.3.3",
       "data": {
        "_igraph_index": 15,
        "id": "b3f6a040-7b16-4af2-baf2-0d51f5b03887",
        "source": "292505",
        "target": "2190667",
        "type": "DOWNREGULATES_CdG"
       },
       "selectable": false
      }
     },
     "cf13bfebd8ed4789bc9b5c7715ebe002": {
      "model_module": "jupyter-cytoscape",
      "model_module_version": "^1.3.3",
      "model_name": "EdgeModel",
      "state": {
       "_model_module_version": "^1.3.3",
       "_view_module_version": "^1.3.3",
       "data": {
        "_igraph_index": 26,
        "id": "d6deb22b-4815-4c67-8de9-ad26740bea80",
        "source": "2118765",
        "target": "2140136",
        "type": "INTERACTS_PiP"
       },
       "selectable": false
      }
     },
     "cf532eedfe794e8597f0fcd9f2cb613c": {
      "model_module": "jupyter-cytoscape",
      "model_module_version": "^1.3.3",
      "model_name": "NodeModel",
      "state": {
       "_model_module_version": "^1.3.3",
       "_view_module_version": "^1.3.3",
       "data": {
        "_igraph_index": 13,
        "category": "Disease",
        "feature_name": "hematopoietic system disease",
        "id": "2169474",
        "identifier": "DOID:74",
        "in_query": 0,
        "name": "2169474",
        "source": "Disease Ontology"
       },
       "grabbable": true,
       "grabbed": false,
       "position": {
        "x": 97.00570704863003,
        "y": 301.0540528748381
       },
       "selectable": false
      }
     },
     "d04094783641477e842280af64f10e0e": {
      "model_module": "jupyter-cytoscape",
      "model_module_version": "^1.3.3",
      "model_name": "EdgeModel",
      "state": {
       "_model_module_version": "^1.3.3",
       "_view_module_version": "^1.3.3",
       "data": {
        "_igraph_index": 55,
        "id": "d5c28297-c95f-4d7e-977f-6001ffe95af7",
        "source": "276355",
        "target": "2198444",
        "type": "UPREGULATES_CuG"
       },
       "selectable": false
      }
     },
     "d346e7b9102843caad07a7ddf6f38105": {
      "model_module": "jupyter-cytoscape",
      "model_module_version": "^1.3.3",
      "model_name": "EdgeModel",
      "state": {
       "_model_module_version": "^1.3.3",
       "_view_module_version": "^1.3.3",
       "data": {
        "_igraph_index": 1,
        "id": "dbae06f3-299e-4d5f-8828-cd8831b407ca",
        "source": "45541",
        "target": "1979250",
        "type": "BINDS_CbP"
       },
       "selectable": false
      }
     },
     "d450ce0b9e3e47c6ab680e2559f791ce": {
      "model_module": "jupyter-cytoscape",
      "model_module_version": "^1.3.3",
      "model_name": "NodeModel",
      "state": {
       "_model_module_version": "^1.3.3",
       "_view_module_version": "^1.3.3",
       "data": {
        "_igraph_index": 59,
        "category": "ProteinDomain",
        "feature_name": "Protein tyrosine and serine/threonine kinase",
        "id": "2369632",
        "identifier": "PF07714",
        "in_query": 0,
        "name": "2369632",
        "source": "Pfam"
       },
       "grabbable": true,
       "grabbed": false,
       "position": {
        "x": 915.69880386594,
        "y": 311.23646211848035
       },
       "selectable": false
      }
     },
     "d5b0e4f094804a48aa73d938d6bf848a": {
      "model_module": "jupyter-cytoscape",
      "model_module_version": "^1.3.3",
      "model_name": "EdgeModel",
      "state": {
       "_model_module_version": "^1.3.3",
       "_view_module_version": "^1.3.3",
       "data": {
        "_igraph_index": 36,
        "id": "1d541330-1a1a-48db-9005-89e011448f45",
        "source": "45541",
        "target": "2191364",
        "type": "UPREGULATES_CuG"
       },
       "selectable": false
      }
     },
     "d744808db7f649c194c543f3f6f862ee": {
      "model_module": "jupyter-cytoscape",
      "model_module_version": "^1.3.3",
      "model_name": "NodeModel",
      "state": {
       "_model_module_version": "^1.3.3",
       "_view_module_version": "^1.3.3",
       "data": {
        "_igraph_index": 26,
        "category": "Gene",
        "feature_name": "MMP10",
        "id": "2193224",
        "identifier": 4319,
        "in_query": 1,
        "name": "2193224",
        "source": "Entrez Gene"
       },
       "grabbable": true,
       "grabbed": false,
       "position": {
        "x": 683.4828202012677,
        "y": 747.0859508288431
       },
       "selectable": false
      }
     },
     "d8247e56413d4b31a1785cd3e8729f04": {
      "model_module": "jupyter-cytoscape",
      "model_module_version": "^1.3.3",
      "model_name": "NodeModel",
      "state": {
       "_model_module_version": "^1.3.3",
       "_view_module_version": "^1.3.3",
       "data": {
        "_igraph_index": 16,
        "category": "Gene",
        "feature_name": "CA5A",
        "id": "2190502",
        "identifier": 763,
        "in_query": 1,
        "name": "2190502",
        "source": "Entrez Gene"
       },
       "grabbable": true,
       "grabbed": false,
       "position": {
        "x": -285.49429495136997,
        "y": 139.9823484279436
       },
       "selectable": false
      }
     },
     "d955d9128af6421fa9ac5636b403c399": {
      "model_module": "jupyter-cytoscape",
      "model_module_version": "^1.3.3",
      "model_name": "NodeModel",
      "state": {
       "_model_module_version": "^1.3.3",
       "_view_module_version": "^1.3.3",
       "data": {
        "_igraph_index": 57,
        "category": "ProteinDomain",
        "feature_name": "Fibronectin type III domain",
        "id": "2357419",
        "identifier": "PF00041",
        "in_query": 0,
        "name": "2357419",
        "source": "Pfam"
       },
       "grabbable": true,
       "grabbed": false,
       "position": {
        "x": 730.6988028659399,
        "y": 696.2364641184803
       },
       "selectable": false
      }
     },
     "dac9ffb39af24174b172a3d7ca69831a": {
      "model_module": "jupyter-cytoscape",
      "model_module_version": "^1.3.3",
      "model_name": "NodeModel",
      "state": {
       "_model_module_version": "^1.3.3",
       "_view_module_version": "^1.3.3",
       "data": {
        "_igraph_index": 3,
        "category": "Protein",
        "feature_name": "PLMN_HUMAN",
        "id": "2117563",
        "identifier": "P00747",
        "in_query": 0,
        "name": "2117563",
        "source": "UniProt"
       },
       "grabbable": true,
       "grabbed": false,
       "position": {
        "x": 867.0057110486301,
        "y": -99.23576627186962
       },
       "selectable": false
      }
     },
     "db34fb6b40124df788e19bfa1acaf601": {
      "model_module": "jupyter-cytoscape",
      "model_module_version": "^1.3.3",
      "model_name": "NodeModel",
      "state": {
       "_model_module_version": "^1.3.3",
       "_view_module_version": "^1.3.3",
       "data": {
        "_igraph_index": 10,
        "category": "Protein",
        "feature_name": "BOC_HUMAN",
        "id": "2151390",
        "identifier": "Q9BWV1",
        "in_query": 0,
        "name": "2151390",
        "source": "UniProt"
       },
       "grabbable": true,
       "grabbed": false,
       "position": {
        "x": -662.9942969513696,
        "y": -52.5176525720564
       },
       "selectable": false
      }
     },
     "dbd1e4e4ca5a43139aa7a1b4049911dc": {
      "model_module": "jupyter-cytoscape",
      "model_module_version": "^1.3.3",
      "model_name": "EdgeModel",
      "state": {
       "_model_module_version": "^1.3.3",
       "_view_module_version": "^1.3.3",
       "data": {
        "_igraph_index": 28,
        "id": "9abd144e-8376-4d2b-82c0-06e9dc6bfb16",
        "source": "2165872",
        "target": "2192624",
        "type": "ASSOCIATES_DaG"
       },
       "selectable": false
      }
     },
     "dbe1beb518d14f5e82b24ba1a70a17f8": {
      "model_module": "jupyter-cytoscape",
      "model_module_version": "^1.3.3",
      "model_name": "NodeModel",
      "state": {
       "_model_module_version": "^1.3.3",
       "_view_module_version": "^1.3.3",
       "data": {
        "_igraph_index": 56,
        "category": "Gene",
        "feature_name": "DAPP1",
        "id": "2207390",
        "identifier": 27071,
        "in_query": 0,
        "name": "2207390",
        "source": "Entrez Gene"
       },
       "grabbable": true,
       "grabbed": false,
       "position": {
        "x": -614.3012041340595,
        "y": 404.9183642371941
       },
       "selectable": false
      }
     },
     "dcbb9ce659674d58ac41bd30a9f3f80c": {
      "model_module": "jupyter-cytoscape",
      "model_module_version": "^1.3.3",
      "model_name": "NodeModel",
      "state": {
       "_model_module_version": "^1.3.3",
       "_view_module_version": "^1.3.3",
       "data": {
        "_igraph_index": 18,
        "category": "Gene",
        "feature_name": "CD44",
        "id": "2190667",
        "identifier": 960,
        "in_query": 0,
        "name": "2190667",
        "source": "Entrez Gene"
       },
       "grabbable": true,
       "grabbed": false,
       "position": {
        "x": -92.99429395137008,
        "y": 237.97913180957735
       },
       "selectable": false
      }
     },
     "dcdb58a8aff94092ab15ea71e5d377f4": {
      "model_module": "jupyter-cytoscape",
      "model_module_version": "^1.3.3",
      "model_name": "EdgeModel",
      "state": {
       "_model_module_version": "^1.3.3",
       "_view_module_version": "^1.3.3",
       "data": {
        "_igraph_index": 20,
        "id": "ae9fa7dd-2408-438c-b7d5-6e5f4da7fad3",
        "source": "2116072",
        "target": "2119896",
        "type": "INTERACTS_PiP"
       },
       "selectable": false
      }
     },
     "de0ac6081c1d400881eb2ab45516ed79": {
      "model_module": "jupyter-cytoscape",
      "model_module_version": "^1.3.3",
      "model_name": "NodeModel",
      "state": {
       "_model_module_version": "^1.3.3",
       "_view_module_version": "^1.3.3",
       "data": {
        "_igraph_index": 31,
        "category": "Protein",
        "feature_name": "ATS13_HUMAN",
        "id": "2140136",
        "identifier": "Q76LX8",
        "in_query": 1,
        "name": "2140136",
        "source": "UniProt"
       },
       "grabbable": true,
       "grabbed": false,
       "position": {
        "x": 358.19880086594026,
        "y": -198.72640748249924
       },
       "selectable": false
      }
     },
     "de522e5921e4478189c000074a4bafe7": {
      "model_module": "jupyter-cytoscape",
      "model_module_version": "^1.3.3",
      "model_name": "EdgeModel",
      "state": {
       "_model_module_version": "^1.3.3",
       "_view_module_version": "^1.3.3",
       "data": {
        "_igraph_index": 33,
        "id": "6b4acc63-e6b7-48aa-99e9-2d774709c175",
        "source": "276355",
        "target": "2189916",
        "type": "UPREGULATES_CuG"
       },
       "selectable": false
      }
     },
     "deb0244d1d7946ec8f0dd75684236ccc": {
      "model_module": "jupyter-cytoscape",
      "model_module_version": "^1.3.3",
      "model_name": "EdgeModel",
      "state": {
       "_model_module_version": "^1.3.3",
       "_view_module_version": "^1.3.3",
       "data": {
        "_igraph_index": 50,
        "id": "11148deb-4e59-404e-adbf-67e8254a449d",
        "source": "2192168",
        "target": "2195048",
        "type": "UPREGULATES_KGuG"
       },
       "selectable": false
      }
     },
     "ded5ad6f7c80448695535300a83b4561": {
      "model_module": "jupyter-cytoscape",
      "model_module_version": "^1.3.3",
      "model_name": "EdgeModel",
      "state": {
       "_model_module_version": "^1.3.3",
       "_view_module_version": "^1.3.3",
       "data": {
        "_igraph_index": 24,
        "id": "f4f2760b-fdf5-49f6-a206-e3056d775ac8",
        "source": "2191576",
        "target": "2190057",
        "type": "UPREGULATES_KGuG"
       },
       "selectable": false
      }
     },
     "e15ef1a1c97e4d76913407bc2e8b9ef5": {
      "model_module": "@jupyter-widgets/base",
      "model_module_version": "2.0.0",
      "model_name": "LayoutModel",
      "state": {}
     },
     "e1d351d95e824617b895ea6acbaf6689": {
      "model_module": "jupyter-cytoscape",
      "model_module_version": "^1.3.3",
      "model_name": "EdgeModel",
      "state": {
       "_model_module_version": "^1.3.3",
       "_view_module_version": "^1.3.3",
       "data": {
        "_igraph_index": 41,
        "id": "aa6922c3-3396-4d7d-99fc-2f0989095691",
        "source": "2192141",
        "target": "2190994",
        "type": "UPREGULATES_GPuG"
       },
       "selectable": false
      }
     },
     "e1ef58df3c0e4ca58e7a8a06fd33dc6d": {
      "model_module": "jupyter-cytoscape",
      "model_module_version": "^1.3.3",
      "model_name": "EdgeModel",
      "state": {
       "_model_module_version": "^1.3.3",
       "_view_module_version": "^1.3.3",
       "data": {
        "_igraph_index": 40,
        "id": "15724afa-0740-4751-92d2-54928393fc03",
        "source": "276355",
        "target": "2192141",
        "type": "UPREGULATES_CuG"
       },
       "selectable": false
      }
     },
     "e4cbe4003f4f45ba97ace31542faa11a": {
      "model_module": "jupyter-cytoscape",
      "model_module_version": "^1.3.3",
      "model_name": "NodeModel",
      "state": {
       "_model_module_version": "^1.3.3",
       "_view_module_version": "^1.3.3",
       "data": {
        "_igraph_index": 30,
        "category": "Gene",
        "feature_name": "STK4",
        "id": "2195172",
        "identifier": 6789,
        "in_query": 1,
        "name": "2195172",
        "source": "Entrez Gene"
       },
       "grabbable": true,
       "grabbed": false,
       "position": {
        "x": 1449.50571404863,
        "y": -17.508117369045703
       },
       "selectable": false
      }
     },
     "e50d87f620a549b1a2fc71f8bddd5b71": {
      "model_module": "jupyter-cytoscape",
      "model_module_version": "^1.3.3",
      "model_name": "NodeModel",
      "state": {
       "_model_module_version": "^1.3.3",
       "_view_module_version": "^1.3.3",
       "data": {
        "_igraph_index": 11,
        "category": "Protein",
        "feature_name": "A0A0S2Z478_HUMAN",
        "id": "1994213",
        "identifier": "A0A0S2Z478",
        "in_query": 1,
        "name": "1994213",
        "source": "UniProt"
       },
       "grabbable": true,
       "grabbed": false,
       "position": {
        "x": 738.1988028659403,
        "y": 118.73646111848035
       },
       "selectable": false
      }
     },
     "e514d799df7c4b08a8dbd6c5c19aa547": {
      "model_module": "jupyter-cytoscape",
      "model_module_version": "^1.3.3",
      "model_name": "EdgeModel",
      "state": {
       "_model_module_version": "^1.3.3",
       "_view_module_version": "^1.3.3",
       "data": {
        "_igraph_index": 44,
        "id": "6e307dcb-8875-4bab-a20e-b07e7d51875c",
        "source": "2193613",
        "target": "2071533",
        "type": "ENCODES_GeP"
       },
       "selectable": false
      }
     },
     "e8dddd67667148f68d9bef219897b538": {
      "model_module": "jupyter-cytoscape",
      "model_module_version": "^1.3.3",
      "model_name": "EdgeModel",
      "state": {
       "_model_module_version": "^1.3.3",
       "_view_module_version": "^1.3.3",
       "data": {
        "_igraph_index": 16,
        "id": "5b494427-4ce4-416e-9879-297eff1e938b",
        "source": "2118148",
        "target": "2119863",
        "type": "INTERACTS_PiP"
       },
       "selectable": false
      }
     },
     "ea83b49808a4476e93853f8da75e7b87": {
      "model_module": "jupyter-cytoscape",
      "model_module_version": "^1.3.3",
      "model_name": "EdgeModel",
      "state": {
       "_model_module_version": "^1.3.3",
       "_view_module_version": "^1.3.3",
       "data": {
        "_igraph_index": 27,
        "id": "d6d20e65-ec14-4734-aea7-3fcc8b07bb88",
        "source": "2190998",
        "target": "2192168",
        "type": "UPREGULATES_KGuG"
       },
       "selectable": false
      }
     },
     "eab93a915f934b5d81866187a234a5d7": {
      "model_module": "jupyter-cytoscape",
      "model_module_version": "^1.3.3",
      "model_name": "EdgeModel",
      "state": {
       "_model_module_version": "^1.3.3",
       "_view_module_version": "^1.3.3",
       "data": {
        "_igraph_index": 44,
        "id": "f3f990e1-9880-439d-a852-f87cb03eb3ad",
        "source": "2191686",
        "target": "2195702",
        "type": "UPREGULATES_KGuG"
       },
       "selectable": false
      }
     },
     "eddd77ad02b04649a97d458077056d0d": {
      "model_module": "jupyter-cytoscape",
      "model_module_version": "^1.3.3",
      "model_name": "NodeModel",
      "state": {
       "_model_module_version": "^1.3.3",
       "_view_module_version": "^1.3.3",
       "data": {
        "_igraph_index": 42,
        "category": "Gene",
        "feature_name": "SIRT5",
        "id": "2205126",
        "identifier": 23408,
        "in_query": 1,
        "name": "2205126",
        "source": "Entrez Gene"
       },
       "grabbable": true,
       "grabbed": false,
       "position": {
        "x": 869.5057110486301,
        "y": 93.26423472813038
       },
       "selectable": false
      }
     },
     "ee143761dc5845f98f1b5b15084215df": {
      "model_module": "jupyter-cytoscape",
      "model_module_version": "^1.3.3",
      "model_name": "NodeModel",
      "state": {
       "_model_module_version": "^1.3.3",
       "_view_module_version": "^1.3.3",
       "data": {
        "_igraph_index": 28,
        "category": "Protein",
        "feature_name": "AP3M2_HUMAN",
        "id": "2120760",
        "identifier": "P53677",
        "in_query": 0,
        "name": "2120760",
        "source": "UniProt"
       },
       "grabbable": true,
       "grabbed": false,
       "position": {
        "x": 1870.69880886594,
        "y": 85.73654548910758
       },
       "selectable": false
      }
     },
     "ee3ce7470710403c8a692bc979464216": {
      "model_module": "jupyter-cytoscape",
      "model_module_version": "^1.3.3",
      "model_name": "EdgeModel",
      "state": {
       "_model_module_version": "^1.3.3",
       "_view_module_version": "^1.3.3",
       "data": {
        "_igraph_index": 51,
        "id": "804bf974-ff15-4611-a013-7555631bac2e",
        "source": "134541",
        "target": "2198127",
        "type": "UPREGULATES_CuG"
       },
       "selectable": false
      }
     },
     "ef9d4df41ed2460c8c467808fa6a820a": {
      "model_module": "jupyter-cytoscape",
      "model_module_version": "^1.3.3",
      "model_name": "EdgeModel",
      "state": {
       "_model_module_version": "^1.3.3",
       "_view_module_version": "^1.3.3",
       "data": {
        "_igraph_index": 52,
        "id": "574f76ae-8fe4-4741-840b-1cc29f474df3",
        "source": "276355",
        "target": "2198127",
        "type": "UPREGULATES_CuG"
       },
       "selectable": false
      }
     },
     "efdf18f3fd594d9fb41ff170d680c83b": {
      "model_module": "jupyter-cytoscape",
      "model_module_version": "^1.3.3",
      "model_name": "EdgeModel",
      "state": {
       "_model_module_version": "^1.3.3",
       "_view_module_version": "^1.3.3",
       "data": {
        "_igraph_index": 59,
        "id": "08be2327-dd92-4dfe-8a69-cb891a3020a5",
        "source": "276355",
        "target": "2204877",
        "type": "DOWNREGULATES_CdG"
       },
       "selectable": false
      }
     },
     "f2c73a05b4fc490596a59f136bfe58b2": {
      "model_module": "jupyter-cytoscape",
      "model_module_version": "^1.3.3",
      "model_name": "EdgeModel",
      "state": {
       "_model_module_version": "^1.3.3",
       "_view_module_version": "^1.3.3",
       "data": {
        "_igraph_index": 22,
        "id": "0021e15b-7743-4229-a139-5688b4a6cf67",
        "source": "956713",
        "target": "2190998",
        "type": "UPREGULATES_CuG"
       },
       "selectable": false
      }
     },
     "f51e049803ac4e058a6df17fb56cd04a": {
      "model_module": "jupyter-cytoscape",
      "model_module_version": "^1.3.3",
      "model_name": "NodeModel",
      "state": {
       "_model_module_version": "^1.3.3",
       "_view_module_version": "^1.3.3",
       "data": {
        "_igraph_index": 0,
        "category": "Compound",
        "feature_name": "PYRITHIONE",
        "id": "19444",
        "identifier": "CHEMBL1356238",
        "in_query": 0,
        "name": "19444",
        "source": "ChEMBL"
       },
       "grabbable": true,
       "grabbed": false,
       "position": {
        "x": 345.6988008659401,
        "y": 188.77359451750075
       },
       "selectable": false
      }
     },
     "f53ef1f91ad04f3380961413be0ad1ed": {
      "model_module": "jupyter-cytoscape",
      "model_module_version": "^1.3.3",
      "model_name": "EdgeModel",
      "state": {
       "_model_module_version": "^1.3.3",
       "_view_module_version": "^1.3.3",
       "data": {
        "_igraph_index": 54,
        "id": "a09ffac7-94ec-4cda-a109-bc19d3fde793",
        "source": "2169474",
        "target": "2198566",
        "type": "ASSOCIATES_DaG"
       },
       "selectable": false
      }
     },
     "f5ca2cb17f0443399106e7850ea094e8": {
      "model_module": "jupyter-cytoscape",
      "model_module_version": "^1.3.3",
      "model_name": "GraphModel",
      "state": {
       "_adj": {},
       "_model_module_version": "^1.3.3",
       "_view_module": "jupyter-cytoscape",
       "_view_module_version": "^1.3.3"
      }
     },
     "f5f85064f9a34d92a63c1fc1893c5578": {
      "model_module": "jupyter-cytoscape",
      "model_module_version": "^1.3.3",
      "model_name": "NodeModel",
      "state": {
       "_model_module_version": "^1.3.3",
       "_view_module_version": "^1.3.3",
       "data": {
        "_igraph_index": 8,
        "category": "Protein",
        "feature_name": "PLDX1_HUMAN",
        "id": "2142755",
        "identifier": "Q8IUK5",
        "in_query": 0,
        "name": "2142755",
        "source": "UniProt"
       },
       "grabbable": true,
       "grabbed": false,
       "position": {
        "x": 78.21843464865897,
        "y": -142.0208701904226
       },
       "selectable": false
      }
     },
     "f615c6d554cd46cf9fe4f670fe7b76ae": {
      "model_module": "jupyter-cytoscape",
      "model_module_version": "^1.3.3",
      "model_name": "NodeModel",
      "state": {
       "_model_module_version": "^1.3.3",
       "_view_module_version": "^1.3.3",
       "data": {
        "_igraph_index": 3,
        "category": "Compound",
        "feature_name": "Diclofenac",
        "id": "134541",
        "identifier": "DB00586",
        "in_query": 0,
        "name": "134541",
        "source": "ChEMBL"
       },
       "grabbable": true,
       "grabbed": false,
       "position": {
        "x": 1120.6988048659402,
        "y": -148.83106176906412
       },
       "selectable": false
      }
     },
     "f68ec0e0164044319411a7be75aea0c2": {
      "model_module": "jupyter-cytoscape",
      "model_module_version": "^1.3.3",
      "model_name": "GraphModel",
      "state": {
       "_adj": {
        "134541": {},
        "19444": {},
        "1968891": {},
        "1971110": {},
        "1979250": {},
        "1979810": {},
        "1982480": {},
        "1994213": {},
        "2039021": {},
        "2039414": {},
        "2042877": {},
        "2071533": {},
        "2103936": {},
        "2116028": {},
        "2116072": {},
        "2116515": {},
        "2117639": {},
        "2118148": {},
        "2118765": {},
        "2119540": {},
        "2119835": {},
        "2119863": {},
        "2119896": {},
        "2120604": {},
        "2120760": {},
        "2128288": {},
        "2131071": {},
        "2140136": {},
        "2142755": {},
        "2145136": {},
        "2146177": {},
        "2148602": {},
        "2150067": {},
        "2150833": {},
        "2151390": {},
        "2156387": {},
        "2156777": {},
        "2189916": {},
        "2190994": {},
        "2191191": {},
        "2191364": {},
        "2192141": {},
        "2192168": {},
        "2193030": {},
        "2193613": {},
        "2193639": {},
        "2195048": {},
        "2198127": {},
        "2198444": {},
        "2202245": {},
        "2204877": {},
        "2206864": {},
        "2207390": {},
        "2357419": {},
        "2364080": {},
        "2369632": {},
        "276355": {},
        "45541": {},
        "596787": {},
        "73238": {}
       },
       "_model_module_version": "^1.3.3",
       "_view_module": "jupyter-cytoscape",
       "_view_module_version": "^1.3.3",
       "edges": [
        "IPY_MODEL_44ab7a713c894f1ba63cc88a98fab513",
        "IPY_MODEL_97774769dc2b40f5982689c3deed4f47",
        "IPY_MODEL_769914af9bda46dc8acdd786a0804413",
        "IPY_MODEL_d346e7b9102843caad07a7ddf6f38105",
        "IPY_MODEL_d5b0e4f094804a48aa73d938d6bf848a",
        "IPY_MODEL_f8d8663e50dc4265a033a14e17b6da60",
        "IPY_MODEL_a6b41066f1ca46a48e7a4ad1b77462d4",
        "IPY_MODEL_836e05dd92ba4e03bfe1ea60fa2329cf",
        "IPY_MODEL_578fbfffb8b94f81b523060ce3499047",
        "IPY_MODEL_5cfc8a21e79c4f5c965702b1ff4fa1e2",
        "IPY_MODEL_ee3ce7470710403c8a692bc979464216",
        "IPY_MODEL_de522e5921e4478189c000074a4bafe7",
        "IPY_MODEL_05c843fb2eca4d70a1a348461d8f53ba",
        "IPY_MODEL_e1ef58df3c0e4ca58e7a8a06fd33dc6d",
        "IPY_MODEL_ef9d4df41ed2460c8c467808fa6a820a",
        "IPY_MODEL_d04094783641477e842280af64f10e0e",
        "IPY_MODEL_efdf18f3fd594d9fb41ff170d680c83b",
        "IPY_MODEL_6cdf5539d7314df597fa1f0e9507a056",
        "IPY_MODEL_0fc28b1aba5041c0801b923500b76642",
        "IPY_MODEL_0189825d9a81441a8d3e0c4e321ff51d",
        "IPY_MODEL_f729700811e84ac7a6273b494653fc4b",
        "IPY_MODEL_2d8e519e4e1f4283a386479aac1b0e1e",
        "IPY_MODEL_fa27205bb89f4d74997771fb9845804c",
        "IPY_MODEL_23898e9f426345dcb9acf217495d4f75",
        "IPY_MODEL_e514d799df7c4b08a8dbd6c5c19aa547",
        "IPY_MODEL_ffc89a177be846f79ea64ebda8ada056",
        "IPY_MODEL_34325d24bf344518a5909ebf90f3c645",
        "IPY_MODEL_cd79eb57e892418ead854d3833af80d3",
        "IPY_MODEL_dcdb58a8aff94092ab15ea71e5d377f4",
        "IPY_MODEL_0f979a8dcc1a4edda310be7f093feac6",
        "IPY_MODEL_4ce070d5de844520acbd9ae46d7d40a1",
        "IPY_MODEL_3685c363e71f40708ab98b501eb1bf5a",
        "IPY_MODEL_803f0fdb1a9940ceaee5658103f8cf12",
        "IPY_MODEL_8c0a52dc59ec4d9c90c34d65032942fc",
        "IPY_MODEL_1e8f553470394073a63610afe1b2ab89",
        "IPY_MODEL_3c799483f5d1490098ca4674fb2b9820",
        "IPY_MODEL_89a90c41fa5e4f80829dcbc2260313a5",
        "IPY_MODEL_cb56033831c9432b859099647aa49f0f",
        "IPY_MODEL_e8dddd67667148f68d9bef219897b538",
        "IPY_MODEL_b3fe69e2ecc14fd9b07f21eb63b12000",
        "IPY_MODEL_4c8a0ccde8f848c4936441ae5af4a378",
        "IPY_MODEL_cf13bfebd8ed4789bc9b5c7715ebe002",
        "IPY_MODEL_a05f159665644747b0123b7df3140c21",
        "IPY_MODEL_000f5a5079d24ca8aa4ad2fbc5038d76",
        "IPY_MODEL_33f4c885040d49079d19c1847b78efd8",
        "IPY_MODEL_3ef30bbf1d53443c95a822b8ed50d657",
        "IPY_MODEL_3e5b42c633564f52b7d164514102f062",
        "IPY_MODEL_b62f137bdf6b45f99cfd31c7a3544625",
        "IPY_MODEL_5d819def22894b868032a7c840dd5ad3",
        "IPY_MODEL_5b0b6667535c4dae838a81e45dd1295a",
        "IPY_MODEL_96bbc94399ac44aaa1ac47370826a327",
        "IPY_MODEL_22a1fa2e231941a29eee21b1fa9a6e0d",
        "IPY_MODEL_659f77a3379342f39f8e5ef7fb9fd5e5",
        "IPY_MODEL_8853151e931148b78b07178d0831bcc6",
        "IPY_MODEL_f77d92c3cf52489cb01c7e17827b5bc3",
        "IPY_MODEL_8cb162030d634a2fb1565dbf2be31ab3",
        "IPY_MODEL_f739cd906573461b9a21339c35124d08",
        "IPY_MODEL_4550c5a461a3441399a44f01aa685337",
        "IPY_MODEL_c00cf7516b854b969d90c41bbe71a651",
        "IPY_MODEL_981bcf0be06c4a57aa50bb00c01092ce",
        "IPY_MODEL_c1dfcccd61124403a5134cb43fe4e0c2",
        "IPY_MODEL_51b01fa9157c46bda32446944ade3c4e",
        "IPY_MODEL_ff5f59d6b0e74070ab0e63e5dd8ebb52",
        "IPY_MODEL_050a8512b4d24dd4be756b23159fc19e",
        "IPY_MODEL_e1d351d95e824617b895ea6acbaf6689",
        "IPY_MODEL_649c113920564bf7becd0a61fa541690",
        "IPY_MODEL_c1b4bba41a1b428cac7904040d9a7faf",
        "IPY_MODEL_4b3445142554460580f0ec1629e67868",
        "IPY_MODEL_8d904b50d5c545db83be7879553aa00b",
        "IPY_MODEL_deb0244d1d7946ec8f0dd75684236ccc",
        "IPY_MODEL_8afa9247ea1b4aa7b453506de9967f41",
        "IPY_MODEL_451274ccb43b4430ba3a6c4b1956172b"
       ],
       "nodes": [
        "IPY_MODEL_f51e049803ac4e058a6df17fb56cd04a",
        "IPY_MODEL_5f9ca4580f3c4fd19824cdc88ef4f170",
        "IPY_MODEL_4801aacb5d0a4b0abdcb7bcdfbb2235c",
        "IPY_MODEL_f615c6d554cd46cf9fe4f670fe7b76ae",
        "IPY_MODEL_108e03c03f714beaac09bea50acefcb3",
        "IPY_MODEL_1380750ce96e493a8f008adb1286e9b5",
        "IPY_MODEL_26717706af23430f8d413c9a3c0caecd",
        "IPY_MODEL_3573c9b5a2f546f4a605d1843a799bbb",
        "IPY_MODEL_2d4c0b1e846348579fa2b6ccb4890d9c",
        "IPY_MODEL_b92452e9af8a422f9e04a1caa77c4c9e",
        "IPY_MODEL_811ebc89722a4e4688fb00a9d72fbd0e",
        "IPY_MODEL_e50d87f620a549b1a2fc71f8bddd5b71",
        "IPY_MODEL_aa6d79a4f3a9492b885ffcca01e44ff7",
        "IPY_MODEL_b9d394fab2c041dcb4dddf674d2d3d3d",
        "IPY_MODEL_c467468cd99547628be372f9e70f32b5",
        "IPY_MODEL_6f59d45142274790934b20b428c4faaf",
        "IPY_MODEL_67f1e9b731e74859b05a2a8767e7233c",
        "IPY_MODEL_4b49c4376f9e4328b60507478c0720c5",
        "IPY_MODEL_5976f182d27f4fde8f04f5ee7e3a3873",
        "IPY_MODEL_c9704474ce954ef287f0650d103fbddf",
        "IPY_MODEL_9cedd8e86834428989be4b5438ade335",
        "IPY_MODEL_a4b82287e127420d9dbfdc92f0c18332",
        "IPY_MODEL_2b56f991b4084c94ae3b24a8865b2553",
        "IPY_MODEL_1b7d09050f4d46c89decd503698514dd",
        "IPY_MODEL_1d9456a1f90047148b46716553aecbac",
        "IPY_MODEL_a7308646f27b486f9f551b3ebeb3c1af",
        "IPY_MODEL_913f1ea823134a02840811744931dd8a",
        "IPY_MODEL_131f51e27edb44a6ac7b0e947650147c",
        "IPY_MODEL_ee143761dc5845f98f1b5b15084215df",
        "IPY_MODEL_3c30bcb66a3d4df9bc929c9ef6761d22",
        "IPY_MODEL_6b49383cf9d5456db1c69eb0f3b81c12",
        "IPY_MODEL_de0ac6081c1d400881eb2ab45516ed79",
        "IPY_MODEL_8c753e2c985f47afb73f240dc926ecd6",
        "IPY_MODEL_5d7af45c92b747ce9223cb96bb3cc50d",
        "IPY_MODEL_1d9f63e42bd3438d8052f0c4620ace5a",
        "IPY_MODEL_bc0916878d194c9c8fa065ab55248054",
        "IPY_MODEL_356b62e7bcbb42dba66fb2812c867d69",
        "IPY_MODEL_aa87cbf3f87d411f9e4eefb46843f1f5",
        "IPY_MODEL_86da82557ef24dc0b911565af5fee082",
        "IPY_MODEL_7917916aa2cb4b3b836e7d91705f7635",
        "IPY_MODEL_c23586e8f8bc4cbfab95cbc75c93324b",
        "IPY_MODEL_696b1fb6a17d44289a7c2f3cabf6a122",
        "IPY_MODEL_80aa03095d5a4f879d799c5b515ad508",
        "IPY_MODEL_156fd06e5ea84802921725b531ce0b40",
        "IPY_MODEL_b0fdadad6f4046398154891dae3320fa",
        "IPY_MODEL_ab5ecb5cfe3348ecb030bc7bcfef544b",
        "IPY_MODEL_4f87de5ff1184f4d8db2866bc5076503",
        "IPY_MODEL_0ddc981190504afe82b1599088d854b8",
        "IPY_MODEL_63320980672d43f681d931d6afd420e5",
        "IPY_MODEL_16d02434779049bb8a3ca07354ea53aa",
        "IPY_MODEL_aaf26c23c19d4ab392e1c522473018d9",
        "IPY_MODEL_bab63bc34a214286bdd16e097ec10b0c",
        "IPY_MODEL_997b13c1e7274d90b0c3b7c8cda7ec94",
        "IPY_MODEL_8cfb9c55f81440f7bd63c5707fa0b38c",
        "IPY_MODEL_742f1c1c819b42ef96d449884f7d7992",
        "IPY_MODEL_1e6921cfbe554bf7bd61da5c45295d37",
        "IPY_MODEL_dbe1beb518d14f5e82b24ba1a70a17f8",
        "IPY_MODEL_d955d9128af6421fa9ac5636b403c399",
        "IPY_MODEL_0d54bf53b8ef490d96f97a03f32526e3",
        "IPY_MODEL_d450ce0b9e3e47c6ab680e2559f791ce"
       ]
      }
     },
     "f729700811e84ac7a6273b494653fc4b": {
      "model_module": "jupyter-cytoscape",
      "model_module_version": "^1.3.3",
      "model_name": "EdgeModel",
      "state": {
       "_model_module_version": "^1.3.3",
       "_view_module_version": "^1.3.3",
       "data": {
        "_igraph_index": 45,
        "id": "6ff89bd8-2971-4fb2-a0f4-feffff713aa8",
        "source": "2193639",
        "target": "1968891",
        "type": "ENCODES_GeP"
       },
       "selectable": false
      }
     },
     "f739cd906573461b9a21339c35124d08": {
      "model_module": "jupyter-cytoscape",
      "model_module_version": "^1.3.3",
      "model_name": "EdgeModel",
      "state": {
       "_model_module_version": "^1.3.3",
       "_view_module_version": "^1.3.3",
       "data": {
        "_igraph_index": 61,
        "id": "1f41c785-d711-45d5-afbd-aaa6d6b46449",
        "source": "2206864",
        "target": "2148602",
        "type": "ENCODES_GeP"
       },
       "selectable": false
      }
     },
     "f77d92c3cf52489cb01c7e17827b5bc3": {
      "model_module": "jupyter-cytoscape",
      "model_module_version": "^1.3.3",
      "model_name": "EdgeModel",
      "state": {
       "_model_module_version": "^1.3.3",
       "_view_module_version": "^1.3.3",
       "data": {
        "_igraph_index": 42,
        "id": "e20dc7bb-6835-46ae-a3ba-9a66ea79fe48",
        "source": "2193030",
        "target": "2131071",
        "type": "ENCODES_GeP"
       },
       "selectable": false
      }
     },
     "f7b34babde10424ca7e27cfac5a702c4": {
      "model_module": "jupyter-cytoscape",
      "model_module_version": "^1.3.3",
      "model_name": "EdgeModel",
      "state": {
       "_model_module_version": "^1.3.3",
       "_view_module_version": "^1.3.3",
       "data": {
        "_igraph_index": 52,
        "id": "c63cfeb3-6cab-4ce7-bb99-fc807687f9f4",
        "source": "2198422",
        "target": "2195702",
        "type": "DOWNREGULATES_KGdG"
       },
       "selectable": false
      }
     },
     "f8a9f4825b7a4338a881fe92403e0c92": {
      "model_module": "jupyter-cytoscape",
      "model_module_version": "^1.3.3",
      "model_name": "EdgeModel",
      "state": {
       "_model_module_version": "^1.3.3",
       "_view_module_version": "^1.3.3",
       "data": {
        "_igraph_index": 17,
        "id": "3b2ece64-2571-439a-a0c3-4fdb609aa610",
        "source": "1709660",
        "target": "2190667",
        "type": "DOWNREGULATES_CdG"
       },
       "selectable": false
      }
     },
     "f8d8663e50dc4265a033a14e17b6da60": {
      "model_module": "jupyter-cytoscape",
      "model_module_version": "^1.3.3",
      "model_name": "EdgeModel",
      "state": {
       "_model_module_version": "^1.3.3",
       "_view_module_version": "^1.3.3",
       "data": {
        "_igraph_index": 3,
        "id": "dedc0e5c-d757-4810-9ed1-f61369c0a1d8",
        "source": "73238",
        "target": "2039021",
        "type": "BINDS_CbP"
       },
       "selectable": false
      }
     },
     "fa27205bb89f4d74997771fb9845804c": {
      "model_module": "jupyter-cytoscape",
      "model_module_version": "^1.3.3",
      "model_name": "EdgeModel",
      "state": {
       "_model_module_version": "^1.3.3",
       "_view_module_version": "^1.3.3",
       "data": {
        "_igraph_index": 34,
        "id": "8684a050-995b-4bca-8f8f-6c9844f25db7",
        "source": "2190994",
        "target": "1994213",
        "type": "ENCODES_GeP"
       },
       "selectable": false
      }
     },
     "fa5ad2efa26d414685a1aae5a34d8fe4": {
      "model_module": "jupyter-cytoscape",
      "model_module_version": "^1.3.3",
      "model_name": "EdgeModel",
      "state": {
       "_model_module_version": "^1.3.3",
       "_view_module_version": "^1.3.3",
       "data": {
        "_igraph_index": 49,
        "id": "fbc105ac-c419-4930-a790-b66b9f47d8e9",
        "source": "2198422",
        "target": "2190548",
        "type": "DOWNREGULATES_KGdG"
       },
       "selectable": false
      }
     },
     "ff5f59d6b0e74070ab0e63e5dd8ebb52": {
      "model_module": "jupyter-cytoscape",
      "model_module_version": "^1.3.3",
      "model_name": "EdgeModel",
      "state": {
       "_model_module_version": "^1.3.3",
       "_view_module_version": "^1.3.3",
       "data": {
        "_igraph_index": 54,
        "id": "60a704ca-87fc-4a03-ac78-57bb5567de8c",
        "source": "2198127",
        "target": "2189916",
        "type": "UPREGULATES_KGuG"
       },
       "selectable": false
      }
     },
     "ffc89a177be846f79ea64ebda8ada056": {
      "model_module": "jupyter-cytoscape",
      "model_module_version": "^1.3.3",
      "model_name": "EdgeModel",
      "state": {
       "_model_module_version": "^1.3.3",
       "_view_module_version": "^1.3.3",
       "data": {
        "_igraph_index": 63,
        "id": "4c354865-d2a9-4ddb-90a3-1ad0312c12a0",
        "source": "2207390",
        "target": "2103936",
        "type": "ENCODES_GeP"
       },
       "selectable": false
      }
     }
    },
    "version_major": 2,
    "version_minor": 0
   }
  }
 },
 "nbformat": 4,
 "nbformat_minor": 5
}
