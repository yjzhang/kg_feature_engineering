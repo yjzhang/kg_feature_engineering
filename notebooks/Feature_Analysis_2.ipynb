{
 "cells": [
  {
   "cell_type": "markdown",
   "id": "29454b0e-fdb9-486e-aa48-96b142e64d9d",
   "metadata": {},
   "source": [
    "# Using KGFE to understand important features\n",
    "\n",
    "Basically, given a list of genes/proteins/metabolites that are mapped onto SPOKE, we want to identify nodes on the graph that are in some way \"similar\" to the input nodes."
   ]
  },
  {
   "cell_type": "code",
   "execution_count": 1,
   "id": "b62e125a-1dcb-4458-83bd-207ca3b72906",
   "metadata": {},
   "outputs": [],
   "source": [
    "# imports\n",
    "import numpy as np\n",
    "import pandas as pd\n",
    "import networkx as nx\n",
    "import kgfe"
   ]
  },
  {
   "cell_type": "markdown",
   "id": "c7d20cf7-7476-4dcf-aab7-fdcc53c486eb",
   "metadata": {},
   "source": [
    "## 1. Load genes"
   ]
  },
  {
   "cell_type": "code",
   "execution_count": 2,
   "id": "602f1743-d3eb-46ba-b674-5e6eec3e5789",
   "metadata": {},
   "outputs": [],
   "source": [
    "data = pd.read_excel('LC_mets_prots_V1_V2_Compare.xlsx')"
   ]
  },
  {
   "cell_type": "code",
   "execution_count": 3,
   "id": "aea1fd3c-ba6f-45db-9b20-be902870d741",
   "metadata": {},
   "outputs": [
    {
     "data": {
      "text/html": [
       "<div>\n",
       "<style scoped>\n",
       "    .dataframe tbody tr th:only-of-type {\n",
       "        vertical-align: middle;\n",
       "    }\n",
       "\n",
       "    .dataframe tbody tr th {\n",
       "        vertical-align: top;\n",
       "    }\n",
       "\n",
       "    .dataframe thead th {\n",
       "        text-align: right;\n",
       "    }\n",
       "</style>\n",
       "<table border=\"1\" class=\"dataframe\">\n",
       "  <thead>\n",
       "    <tr style=\"text-align: right;\">\n",
       "      <th></th>\n",
       "      <th>ID</th>\n",
       "      <th>Lasso_CV</th>\n",
       "      <th>Name</th>\n",
       "      <th>UniProt</th>\n",
       "      <th>Protein</th>\n",
       "      <th>PubChem</th>\n",
       "      <th>Chembl_ID</th>\n",
       "      <th>KEGG</th>\n",
       "    </tr>\n",
       "  </thead>\n",
       "  <tbody>\n",
       "    <tr>\n",
       "      <th>0</th>\n",
       "      <td>met10</td>\n",
       "      <td>-0.100203</td>\n",
       "      <td>1,2,4-benzenetriol</td>\n",
       "      <td>NaN</td>\n",
       "      <td>NaN</td>\n",
       "      <td>10787.0</td>\n",
       "      <td>CHEMBL3092389</td>\n",
       "      <td>C02814</td>\n",
       "    </tr>\n",
       "    <tr>\n",
       "      <th>1</th>\n",
       "      <td>met1054</td>\n",
       "      <td>-0.052794</td>\n",
       "      <td>pyridine</td>\n",
       "      <td>NaN</td>\n",
       "      <td>NaN</td>\n",
       "      <td>1049.0</td>\n",
       "      <td>CHEMBL266158</td>\n",
       "      <td>C00747</td>\n",
       "    </tr>\n",
       "    <tr>\n",
       "      <th>2</th>\n",
       "      <td>met1073</td>\n",
       "      <td>0.051544</td>\n",
       "      <td>uric acid</td>\n",
       "      <td>NaN</td>\n",
       "      <td>NaN</td>\n",
       "      <td>1175.0</td>\n",
       "      <td>CHEMBL792</td>\n",
       "      <td>C00366</td>\n",
       "    </tr>\n",
       "    <tr>\n",
       "      <th>3</th>\n",
       "      <td>met1091</td>\n",
       "      <td>-0.054557</td>\n",
       "      <td>formononetin</td>\n",
       "      <td>NaN</td>\n",
       "      <td>NaN</td>\n",
       "      <td>5280378.0</td>\n",
       "      <td>CHEMBL242341</td>\n",
       "      <td>C00858</td>\n",
       "    </tr>\n",
       "    <tr>\n",
       "      <th>4</th>\n",
       "      <td>met142</td>\n",
       "      <td>0.025830</td>\n",
       "      <td>4-Hydroxyvalproic acid</td>\n",
       "      <td>NaN</td>\n",
       "      <td>NaN</td>\n",
       "      <td>134467.0</td>\n",
       "      <td>CHEMBL3706504</td>\n",
       "      <td>C16649</td>\n",
       "    </tr>\n",
       "  </tbody>\n",
       "</table>\n",
       "</div>"
      ],
      "text/plain": [
       "        ID  Lasso_CV                    Name UniProt Protein    PubChem  \\\n",
       "0    met10 -0.100203      1,2,4-benzenetriol     NaN     NaN    10787.0   \n",
       "1  met1054 -0.052794                pyridine     NaN     NaN     1049.0   \n",
       "2  met1073  0.051544               uric acid     NaN     NaN     1175.0   \n",
       "3  met1091 -0.054557            formononetin     NaN     NaN  5280378.0   \n",
       "4   met142  0.025830  4-Hydroxyvalproic acid     NaN     NaN   134467.0   \n",
       "\n",
       "       Chembl_ID    KEGG  \n",
       "0  CHEMBL3092389  C02814  \n",
       "1   CHEMBL266158  C00747  \n",
       "2      CHEMBL792  C00366  \n",
       "3   CHEMBL242341  C00858  \n",
       "4  CHEMBL3706504  C16649  "
      ]
     },
     "execution_count": 3,
     "metadata": {},
     "output_type": "execute_result"
    }
   ],
   "source": [
    "data.head()"
   ]
  },
  {
   "cell_type": "markdown",
   "id": "dfd52e8e-01ab-4474-8b31-2fdc65c3c30c",
   "metadata": {},
   "source": [
    "## 2. Load SPOKE"
   ]
  },
  {
   "cell_type": "code",
   "execution_count": 5,
   "id": "4ef663aa-a23c-4f59-8cc2-85b69e67145b",
   "metadata": {},
   "outputs": [],
   "source": [
    "spoke_graph = kgfe.spoke_loader.load_spoke_networkx('../../graph_utils/spoke_2021.jsonl.gz', directed=True,\n",
    "                                                    verbose=False)"
   ]
  },
  {
   "cell_type": "code",
   "execution_count": 6,
   "id": "b446a9d3-3d53-40d4-88ee-c55cbe5873a0",
   "metadata": {},
   "outputs": [],
   "source": [
    "# undirected version of spoke graph\n",
    "spoke_graph_ud = nx.Graph(spoke_graph)"
   ]
  },
  {
   "cell_type": "code",
   "execution_count": 7,
   "id": "44362d4d-7735-4fd0-8076-af189c32c7fc",
   "metadata": {},
   "outputs": [],
   "source": [
    "spoke_ids = list(sorted(spoke_graph_ud.nodes.keys()))"
   ]
  },
  {
   "cell_type": "code",
   "execution_count": 8,
   "id": "bc895547-cd90-467a-b912-26649a6c8ddc",
   "metadata": {},
   "outputs": [],
   "source": [
    "names_to_ids = kgfe.graph_info.get_names_to_ids(spoke_graph_ud)"
   ]
  },
  {
   "cell_type": "markdown",
   "id": "b7ceccb5-76dd-471d-a019-718b740bd400",
   "metadata": {},
   "source": [
    "### Map proteins and metabolites to SPOKE nodes"
   ]
  },
  {
   "cell_type": "code",
   "execution_count": 9,
   "id": "860d1e66-7efe-475b-b361-55b925c26dd8",
   "metadata": {},
   "outputs": [
    {
     "data": {
      "text/plain": [
       "617546"
      ]
     },
     "execution_count": 9,
     "metadata": {},
     "output_type": "execute_result"
    }
   ],
   "source": [
    "len(names_to_ids)"
   ]
  },
  {
   "cell_type": "code",
   "execution_count": 11,
   "id": "773028d3-f160-454a-a32d-799ffed6fdf3",
   "metadata": {},
   "outputs": [],
   "source": [
    "uniprot_to_ids = kgfe.graph_info.spoke_identifiers_to_ids(spoke_graph_ud, 'Protein')"
   ]
  },
  {
   "cell_type": "code",
   "execution_count": 23,
   "id": "3e5d4f06-02f4-43ab-b72e-f6eebc266987",
   "metadata": {},
   "outputs": [
    {
     "data": {
      "text/plain": [
       "\u001b[0;31mSignature:\u001b[0m \u001b[0mkgfe\u001b[0m\u001b[0;34m.\u001b[0m\u001b[0mgraph_info\u001b[0m\u001b[0;34m.\u001b[0m\u001b[0mspoke_identifiers_to_ids\u001b[0m\u001b[0;34m(\u001b[0m\u001b[0mgraph\u001b[0m\u001b[0;34m,\u001b[0m \u001b[0mcategory\u001b[0m\u001b[0;34m,\u001b[0m \u001b[0msource\u001b[0m\u001b[0;34m=\u001b[0m\u001b[0;32mNone\u001b[0m\u001b[0;34m)\u001b[0m\u001b[0;34m\u001b[0m\u001b[0;34m\u001b[0m\u001b[0m\n",
       "\u001b[0;31mDocstring:\u001b[0m\n",
       "Returns a mapping from SPOKE identifiers to IDs.\n",
       "\n",
       "category: 'Protein', 'Gene', 'Compound', 'Disease', etc\n",
       "source: 'KEGG', ...\n",
       "\u001b[0;31mFile:\u001b[0m      ~/isb/kg_feature_engineering/src/kgfe/graph_info.py\n",
       "\u001b[0;31mType:\u001b[0m      function"
      ]
     },
     "metadata": {},
     "output_type": "display_data"
    }
   ],
   "source": [
    "kgfe.graph_info.spoke_identifiers_to_ids?"
   ]
  },
  {
   "cell_type": "code",
   "execution_count": 24,
   "id": "e0f9b2d4-f692-4a0d-8d21-2ea10ee20ed4",
   "metadata": {},
   "outputs": [],
   "source": [
    "chembl_to_ids = kgfe.graph_info.spoke_identifiers_to_ids(spoke_graph_ud, 'Compound')"
   ]
  },
  {
   "cell_type": "code",
   "execution_count": 28,
   "id": "3624838e-37c7-4f7c-9e08-c7d74343d1ec",
   "metadata": {},
   "outputs": [],
   "source": [
    "prot_spoke_ids = [(x, uniprot_to_ids[x]) for x in data['UniProt'] if isinstance(x, str)]"
   ]
  },
  {
   "cell_type": "code",
   "execution_count": 32,
   "id": "f44dda64-ca95-4365-9535-5ec8c3189abe",
   "metadata": {},
   "outputs": [],
   "source": [
    "chem_spoke_ids = [(x, chembl_to_ids[x]) for x in data['Chembl_ID'] if isinstance(x, str) and x in chembl_to_ids]"
   ]
  },
  {
   "cell_type": "code",
   "execution_count": 33,
   "id": "4bfdf0ae-4aba-4ecd-b856-808b66161848",
   "metadata": {},
   "outputs": [
    {
     "data": {
      "text/plain": [
       "[('CHEMBL3092389', 1051506),\n",
       " ('CHEMBL266158', 1529834),\n",
       " ('CHEMBL792', 1282230),\n",
       " ('CHEMBL242341', 440588),\n",
       " ('CHEMBL454808', 1168062),\n",
       " ('CHEMBL449129', 1175855),\n",
       " ('CHEMBL78', 268338),\n",
       " ('CHEMBL228057', 5555),\n",
       " ('CHEMBL366563', 930796),\n",
       " ('CHEMBL1256480', 1328370),\n",
       " ('CHEMBL394875', 1843928),\n",
       " ('CHEMBL1236395', 1497509),\n",
       " ('CHEMBL8165', 759937),\n",
       " ('CHEMBL1226', 1551766)]"
      ]
     },
     "execution_count": 33,
     "metadata": {},
     "output_type": "execute_result"
    }
   ],
   "source": [
    "chem_spoke_ids"
   ]
  },
  {
   "cell_type": "code",
   "execution_count": 31,
   "id": "3587ba8e-3f1c-4b09-8309-ce14e0bfb25d",
   "metadata": {},
   "outputs": [
    {
     "data": {
      "text/plain": [
       "54"
      ]
     },
     "execution_count": 31,
     "metadata": {},
     "output_type": "execute_result"
    }
   ],
   "source": [
    "len(prot_spoke_ids)"
   ]
  },
  {
   "cell_type": "code",
   "execution_count": 34,
   "id": "3cbcf62f-4a32-4845-9d27-9d9704b1faf4",
   "metadata": {},
   "outputs": [
    {
     "data": {
      "text/plain": [
       "14"
      ]
     },
     "execution_count": 34,
     "metadata": {},
     "output_type": "execute_result"
    }
   ],
   "source": [
    "len(chem_spoke_ids)"
   ]
  },
  {
   "cell_type": "code",
   "execution_count": null,
   "id": "e84245c3-d884-4dd0-8846-81fe991be5fb",
   "metadata": {},
   "outputs": [],
   "source": [
    "## add spoke ids to table"
   ]
  },
  {
   "cell_type": "markdown",
   "id": "2abaddb6-20a7-4b36-a5dd-61f3b7689a89",
   "metadata": {},
   "source": [
    "## 3. Run topic PageRank"
   ]
  },
  {
   "cell_type": "code",
   "execution_count": null,
   "id": "a28574cc-d6ce-4156-9151-8256a1780aae",
   "metadata": {},
   "outputs": [],
   "source": []
  },
  {
   "cell_type": "code",
   "execution_count": null,
   "id": "5835d45b-331c-47e5-b2de-284cf901b4bc",
   "metadata": {},
   "outputs": [],
   "source": []
  },
  {
   "cell_type": "code",
   "execution_count": 24,
   "id": "cded6ebb-2590-49e1-a991-09a18b78f115",
   "metadata": {},
   "outputs": [],
   "source": [
    "pr_results_personalized = nx.pagerank(spoke_graph_ud, personalization={i: 1 for i in prot_spoke_ids})"
   ]
  },
  {
   "cell_type": "code",
   "execution_count": 25,
   "id": "c2d4fbd3-1b94-4c8e-828d-c42395cca750",
   "metadata": {},
   "outputs": [],
   "source": [
    "pr_results_base = nx.pagerank(spoke_graph_ud)"
   ]
  },
  {
   "cell_type": "markdown",
   "id": "0aa317e9-a0b1-44a6-9c87-347c729b86e5",
   "metadata": {},
   "source": [
    "pr_results_ratio is the ratio between the topic pagerank results and the baseline pagerank results - this indicates the increase in likelihood that the nodes will be visited in a personalized random walk, and is an attempt to control for nodes that are important globally."
   ]
  },
  {
   "cell_type": "code",
   "execution_count": 39,
   "id": "0e061a45-5f94-449e-987d-b425c70a9b90",
   "metadata": {},
   "outputs": [],
   "source": [
    "pr_results_ratio = {x: pr_results_personalized[x]/pr_results_base[x] for x in spoke_ids}"
   ]
  },
  {
   "cell_type": "code",
   "execution_count": null,
   "id": "4f72aeec-0931-4fbc-b232-721066ee3299",
   "metadata": {},
   "outputs": [],
   "source": []
  },
  {
   "cell_type": "markdown",
   "id": "70729f8a-13d5-4e4a-89ac-496d8efdd3e1",
   "metadata": {},
   "source": [
    "## Visualizing subgraphs"
   ]
  },
  {
   "cell_type": "code",
   "execution_count": 35,
   "id": "a8b0136d-3c9f-4d81-9363-aa51ecd1133c",
   "metadata": {},
   "outputs": [],
   "source": [
    "import ipycytoscape"
   ]
  },
  {
   "cell_type": "code",
   "execution_count": null,
   "id": "28d4c353-f475-44dc-9408-19a98854b5e0",
   "metadata": {},
   "outputs": [],
   "source": []
  }
 ],
 "metadata": {
  "kernelspec": {
   "display_name": "Python 3 (ipykernel)",
   "language": "python",
   "name": "python3"
  },
  "language_info": {
   "codemirror_mode": {
    "name": "ipython",
    "version": 3
   },
   "file_extension": ".py",
   "mimetype": "text/x-python",
   "name": "python",
   "nbconvert_exporter": "python",
   "pygments_lexer": "ipython3",
   "version": "3.10.6"
  }
 },
 "nbformat": 4,
 "nbformat_minor": 5
}
